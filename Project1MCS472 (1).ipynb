{
 "cells": [
  {
   "cell_type": "markdown",
   "id": "6bd83454",
   "metadata": {},
   "source": [
    "# Project 1 MCS 472 \n",
    "\n",
    "Abraham Morales Arroyo \n",
    "\n",
    "\n",
    "I am going to have two different files, where the first file containes the Minimum Average, Max Average, and Average Data for December and January, respectfully. This file will be caled ``Classtoday.txt``, and it is from the year 1922- 1932. Then there is another file called ``Classtoday2.txt`` Where it has the same data, but instead it is from the years 2012-2022. \n"
   ]
  },
  {
   "cell_type": "code",
   "execution_count": 14,
   "id": "1d7c25fa",
   "metadata": {},
   "outputs": [],
   "source": [
    "using DelimitedFiles"
   ]
  },
  {
   "cell_type": "code",
   "execution_count": 25,
   "id": "659fe91c",
   "metadata": {},
   "outputs": [
    {
     "data": {
      "text/plain": [
       "23×7 Matrix{Any}:\n",
       "     \"Year\"    \"AMiD\"    \"AMAD\"    \"AD\"    \"AMiJ\"    \"AMaJ\"    \"AJ\"\n",
       " 1922        21.18     31.81     26.5     5.65     22.85     14.25\n",
       " 1923        22.3      32.9      27.64   11.2      25.65     18.43\n",
       " 1924        22.34     32.9      27.6    -3.25     25.65      5.65\n",
       " 1925        -0.36     14.18      6.91    9.9      23.65     16.78\n",
       " 1926        12.91     27.91     20.41   14.95     28.95     21.95\n",
       " 1927        14.0      27.82     20.91    7.75     22.6      15.18\n",
       " 1928        18.36     30.55     24.46   17.3      30.9      24.1\n",
       " 1929        16.91     31.55     24.23   -2.95     13.95      5.5\n",
       " 1930        13.73     28.0      20.86    9.0      22.3      15.65\n",
       " 1931        31.818    38.46     35.14   17.8      31.05     24.43\n",
       " 1932        25.18     37.09     31.14   22.5      33.0      27.75\n",
       " 2012        13.0      26.36     19.68   14.05     32.45     23.25\n",
       " 2013         4.09     21.09     12.59   11.7      30.65     21.175\n",
       " 2014        21.545    31.727    26.64    2.45     20.75     11.6\n",
       " 2015        25.73     34.82     30.27    7.5      21.45     14.48\n",
       " 2016        22.82     35.73     29.27    8.6      23.3      15.95\n",
       " 2017        -3.28     13.36      5.05   12.95     25.4      19.18\n",
       " 2018        22.27     34.09     28.68    7.4      23.95     15.68\n",
       " 2019        28.18     39.09     33.64    8.6      23.3      15.95\n",
       " 2020        15.64     31.55     23.59   17.75     32.75     25.25\n",
       " 2021        17.36     33.36     25.36   20.7      30.9      25.8\n",
       " 2022         9.27     26.09     17.68    6.8      24.15     15.48"
      ]
     },
     "execution_count": 25,
     "metadata": {},
     "output_type": "execute_result"
    }
   ],
   "source": [
    "A = readdlm(\"Classtoday.txt\")"
   ]
  },
  {
   "cell_type": "markdown",
   "id": "307f25c4",
   "metadata": {},
   "source": [
    "# The Headers here are abreviations: \n",
    "\n",
    " AMiD= Average Minimum Temperature in December \n",
    "\n",
    " AMAD= Average Maximum Temperature in December\n",
    "\n",
    " AD= Average December Temperature\n",
    "\n",
    " AMiJ= Average Minimum Temperature in January \n",
    "\n",
    " AMAJ= Average Maximum Temperature in January\n",
    "\n",
    "AJ= Average January Temperature\n"
   ]
  },
  {
   "cell_type": "markdown",
   "id": "65750560",
   "metadata": {},
   "source": [
    "For the previous instruction to work, the file ``Classtoday.txt`` has to be on file."
   ]
  },
  {
   "cell_type": "markdown",
   "id": "83ef1bc4",
   "metadata": {},
   "source": [
    "To make the notebook self contained, the string representation of the file will be copied and pasted into a cell."
   ]
  },
  {
   "cell_type": "code",
   "execution_count": 26,
   "id": "eb13b294",
   "metadata": {
    "scrolled": true
   },
   "outputs": [
    {
     "data": {
      "text/plain": [
       "\"Any[\\\"Year\\\" \\\"AMiD\\\" \\\"AMAD\\\" \\\"AD\\\" \\\"AMiJ\\\" \\\"AMaJ\\\" \\\"AJ\\\"; 1922 21.18 31.81 26.5 5.65 22.85 14.25; 1923 22.3 32.9 27.64 11.2 25.65 18.43; 1924 22.34 32.9 27.6 -3.25 25.65 5.65; 1925 -0.36 14.18 6.91 9.9 23.65 16.78; 1926 12.91 27.91 20.41 14.95 28.95 21.95; 1927 14.0 27.82 20.91 \" ⋯ 387 bytes ⋯ \".82 35.73 29.27 8.6 23.3 15.95; 2017 -3.28 13.36 5.05 12.95 25.4 19.18; 2018 22.27 34.09 28.68 7.4 23.95 15.68; 2019 28.18 39.09 33.64 8.6 23.3 15.95; 2020 15.64 31.55 23.59 17.75 32.75 25.25; 2021 17.36 33.36 25.36 20.7 30.9 25.8; 2022 9.27 26.09 17.68 6.8 24.15 15.48]\""
      ]
     },
     "execution_count": 26,
     "metadata": {},
     "output_type": "execute_result"
    }
   ],
   "source": [
    "strA = string(A)"
   ]
  },
  {
   "cell_type": "code",
   "execution_count": 27,
   "id": "6084e2f4",
   "metadata": {},
   "outputs": [
    {
     "name": "stdout",
     "output_type": "stream",
     "text": [
      "Any[\"Year\" \"AMiD\" \"AMAD\" \"AD\" \"AMiJ\" \"AMaJ\" \"AJ\"; 1922 21.18 31.81 26.5 5.65 22.85 14.25; 1923 22.3 32.9 27.64 11.2 25.65 18.43; 1924 22.34 32.9 27.6 -3.25 25.65 5.65; 1925 -0.36 14.18 6.91 9.9 23.65 16.78; 1926 12.91 27.91 20.41 14.95 28.95 21.95; 1927 14.0 27.82 20.91 7.75 22.6 15.18; 1928 18.36 30.55 24.46 17.3 30.9 24.1; 1929 16.91 31.55 24.23 -2.95 13.95 5.5; 1930 13.73 28.0 20.86 9.0 22.3 15.65; 1931 31.818 38.46 35.14 17.8 31.05 24.43; 1932 25.18 37.09 31.14 22.5 33.0 27.75; 2012 13.0 26.36 19.68 14.05 32.45 23.25; 2013 4.09 21.09 12.59 11.7 30.65 21.175; 2014 21.545 31.727 26.64 2.45 20.75 11.6; 2015 25.73 34.82 30.27 7.5 21.45 14.48; 2016 22.82 35.73 29.27 8.6 23.3 15.95; 2017 -3.28 13.36 5.05 12.95 25.4 19.18; 2018 22.27 34.09 28.68 7.4 23.95 15.68; 2019 28.18 39.09 33.64 8.6 23.3 15.95; 2020 15.64 31.55 23.59 17.75 32.75 25.25; 2021 17.36 33.36 25.36 20.7 30.9 25.8; 2022 9.27 26.09 17.68 6.8 24.15 15.48]"
     ]
    }
   ],
   "source": [
    "print(strA)"
   ]
  },
  {
   "cell_type": "code",
   "execution_count": 29,
   "id": "9937f0f5",
   "metadata": {},
   "outputs": [
    {
     "data": {
      "text/plain": [
       "23×7 Matrix{Any}:\n",
       "     \"Year\"    \"AMiD\"    \"AMAD\"    \"AD\"    \"AMiJ\"    \"AMaJ\"    \"AJ\"\n",
       " 1922        21.18     31.81     26.5     5.65     22.85     14.25\n",
       " 1923        22.3      32.9      27.64   11.2      25.65     18.43\n",
       " 1924        22.34     32.9      27.6    -3.25     25.65      5.65\n",
       " 1925        -0.36     14.18      6.91    9.9      23.65     16.78\n",
       " 1926        12.91     27.91     20.41   14.95     28.95     21.95\n",
       " 1927        14.0      27.82     20.91    7.75     22.6      15.18\n",
       " 1928        18.36     30.55     24.46   17.3      30.9      24.1\n",
       " 1929        16.91     31.55     24.23   -2.95     13.95      5.5\n",
       " 1930        13.73     28.0      20.86    9.0      22.3      15.65\n",
       " 1931        31.818    38.46     35.14   17.8      31.05     24.43\n",
       " 1932        25.18     37.09     31.14   22.5      33.0      27.75\n",
       " 2012        13.0      26.36     19.68   14.05     32.45     23.25\n",
       " 2013         4.09     21.09     12.59   11.7      30.65     21.175\n",
       " 2014        21.545    31.727    26.64    2.45     20.75     11.6\n",
       " 2015        25.73     34.82     30.27    7.5      21.45     14.48\n",
       " 2016        22.82     35.73     29.27    8.6      23.3      15.95\n",
       " 2017        -3.28     13.36      5.05   12.95     25.4      19.18\n",
       " 2018        22.27     34.09     28.68    7.4      23.95     15.68\n",
       " 2019        28.18     39.09     33.64    8.6      23.3      15.95\n",
       " 2020        15.64     31.55     23.59   17.75     32.75     25.25\n",
       " 2021        17.36     33.36     25.36   20.7      30.9      25.8\n",
       " 2022         9.27     26.09     17.68    6.8      24.15     15.48"
      ]
     },
     "execution_count": 29,
     "metadata": {},
     "output_type": "execute_result"
    }
   ],
   "source": [
    "B=Any[\"Year\" \"AMiD\" \"AMAD\" \"AD\" \"AMiJ\" \"AMaJ\" \"AJ\"; 1922 21.18 31.81 26.5 5.65 22.85 14.25; 1923 22.3 32.9 27.64 11.2 25.65 18.43; 1924 22.34 32.9 27.6 -3.25 25.65 5.65; 1925 -0.36 14.18 6.91 9.9 23.65 16.78; 1926 12.91 27.91 20.41 14.95 28.95 21.95; 1927 14.0 27.82 20.91 7.75 22.6 15.18; 1928 18.36 30.55 24.46 17.3 30.9 24.1; 1929 16.91 31.55 24.23 -2.95 13.95 5.5; 1930 13.73 28.0 20.86 9.0 22.3 15.65; 1931 31.818 38.46 35.14 17.8 31.05 24.43; 1932 25.18 37.09 31.14 22.5 33.0 27.75; 2012 13.0 26.36 19.68 14.05 32.45 23.25; 2013 4.09 21.09 12.59 11.7 30.65 21.175; 2014 21.545 31.727 26.64 2.45 20.75 11.6; 2015 25.73 34.82 30.27 7.5 21.45 14.48; 2016 22.82 35.73 29.27 8.6 23.3 15.95; 2017 -3.28 13.36 5.05 12.95 25.4 19.18; 2018 22.27 34.09 28.68 7.4 23.95 15.68; 2019 28.18 39.09 33.64 8.6 23.3 15.95; 2020 15.64 31.55 23.59 17.75 32.75 25.25; 2021 17.36 33.36 25.36 20.7 30.9 25.8; 2022 9.27 26.09 17.68 6.8 24.15 15.48]"
   ]
  },
  {
   "cell_type": "markdown",
   "id": "9a57970c",
   "metadata": {},
   "source": [
    "The instructions in the notebook will continue to work with ``B`` so everything will work even if the file was not present.\n",
    "\n",
    "\n",
    "# Now we are going to have the rest of the data, From the years 2012-2022, be read and then stored into a matrix so it can be used for this project: "
   ]
  },
  {
   "cell_type": "code",
   "execution_count": 140,
   "id": "0ea402c6",
   "metadata": {
    "scrolled": true
   },
   "outputs": [
    {
     "data": {
      "text/plain": [
       "12×7 Matrix{Any}:\n",
       "     \"Year\"    \"AMiD\"    \"AMAD\"    \"AD\"    \"AMiJ\"    \"AMaJ\"    \"AJ\"\n",
       " 2012        13.0      26.36     19.68   14.05     32.45     23.25\n",
       " 2013         4.09     21.09     12.59   11.7      30.65     21.175\n",
       " 2014        21.545    31.727    26.64    2.45     20.75     11.6\n",
       " 2015        25.73     34.82     30.27    7.5      21.45     14.48\n",
       " 2016        22.82     35.73     29.27    8.6      23.3      15.95\n",
       " 2017        -3.28     13.36      5.05   12.95     25.4      19.18\n",
       " 2018        22.27     34.09     28.68    7.4      23.95     15.68\n",
       " 2019        28.18     39.09     33.64    8.6      23.3      15.95\n",
       " 2020        15.64     31.55     23.59   17.75     32.75     25.25\n",
       " 2021        17.36     33.36     25.36   20.7      30.9      25.8\n",
       " 2022         9.27     26.09     17.68    6.8      24.15     15.48"
      ]
     },
     "execution_count": 140,
     "metadata": {},
     "output_type": "execute_result"
    }
   ],
   "source": [
    "C = readdlm(\"Classtoday2.txt\")"
   ]
  },
  {
   "cell_type": "code",
   "execution_count": 141,
   "id": "98f3cbf2",
   "metadata": {},
   "outputs": [
    {
     "data": {
      "text/plain": [
       "\"Any[\\\"Year\\\" \\\"AMiD\\\" \\\"AMAD\\\" \\\"AD\\\" \\\"AMiJ\\\" \\\"AMaJ\\\" \\\"AJ\\\"; 2012 13.0 26.36 19.68 14.05 32.45 23.25; 2013 4.09 21.09 12.59 11.7 30.65 21.175; 2014 21.545 31.727 26.64 2.45 20.75 11.6; 2015 25.73 34.82 30.27 7.5 21.45 14.48; 2016 22.82 35.73 29.27 8.6 23.3 15.95; 2017 -3.28 13.36 5.05 12.95 25.4 19.18; 2018 22.27 34.09 28.68 7.4 23.95 15.68; 2019 28.18 39.09 33.64 8.6 23.3 15.95; 2020 15.64 31.55 23.59 17.75 32.75 25.25; 2021 17.36 33.36 25.36 20.7 30.9 25.8; 2022 9.27 26.09 17.68 6.8 24.15 15.48]\""
      ]
     },
     "execution_count": 141,
     "metadata": {},
     "output_type": "execute_result"
    }
   ],
   "source": [
    "strC = string(C)"
   ]
  },
  {
   "cell_type": "code",
   "execution_count": 142,
   "id": "5fb8223b",
   "metadata": {},
   "outputs": [
    {
     "data": {
      "text/plain": [
       "12×7 Matrix{Any}:\n",
       "     \"Year\"    \"AMiD\"    \"AMAD\"    \"AD\"    \"AMiJ\"    \"AMaJ\"    \"AJ\"\n",
       " 2012        13.0      26.36     19.68   14.05     32.45     23.25\n",
       " 2013         4.09     21.09     12.59   11.7      30.65     21.175\n",
       " 2014        21.545    31.727    26.64    2.45     20.75     11.6\n",
       " 2015        25.73     34.82     30.27    7.5      21.45     14.48\n",
       " 2016        22.82     35.73     29.27    8.6      23.3      15.95\n",
       " 2017        -3.28     13.36      5.05   12.95     25.4      19.18\n",
       " 2018        22.27     34.09     28.68    7.4      23.95     15.68\n",
       " 2019        28.18     39.09     33.64    8.6      23.3      15.95\n",
       " 2020        15.64     31.55     23.59   17.75     32.75     25.25\n",
       " 2021        17.36     33.36     25.36   20.7      30.9      25.8\n",
       " 2022         9.27     26.09     17.68    6.8      24.15     15.48"
      ]
     },
     "execution_count": 142,
     "metadata": {},
     "output_type": "execute_result"
    }
   ],
   "source": [
    "D=Any[\"Year\" \"AMiD\" \"AMAD\" \"AD\" \"AMiJ\" \"AMaJ\" \"AJ\"; 2012 13.0 26.36 19.68 14.05 32.45 23.25; 2013 4.09 21.09 12.59 11.7 30.65 21.175; 2014 21.545 31.727 26.64 2.45 20.75 11.6; 2015 25.73 34.82 30.27 7.5 21.45 14.48; 2016 22.82 35.73 29.27 8.6 23.3 15.95; 2017 -3.28 13.36 5.05 12.95 25.4 19.18; 2018 22.27 34.09 28.68 7.4 23.95 15.68; 2019 28.18 39.09 33.64 8.6 23.3 15.95; 2020 15.64 31.55 23.59 17.75 32.75 25.25; 2021 17.36 33.36 25.36 20.7 30.9 25.8; 2022 9.27 26.09 17.68 6.8 24.15 15.48]"
   ]
  },
  {
   "cell_type": "markdown",
   "id": "ae5bdc39",
   "metadata": {},
   "source": [
    "# Let us take the average of minimum temperatures of December for the first decade, 1922- 1932"
   ]
  },
  {
   "cell_type": "code",
   "execution_count": 36,
   "id": "fd34150f",
   "metadata": {},
   "outputs": [],
   "source": [
    "using Statistics"
   ]
  },
  {
   "cell_type": "markdown",
   "id": "a4dc2259",
   "metadata": {},
   "source": [
    "here we are making the selection of the month that we want "
   ]
  },
  {
   "cell_type": "code",
   "execution_count": 37,
   "id": "e67af754",
   "metadata": {},
   "outputs": [
    {
     "data": {
      "text/plain": [
       "\"AMiD\""
      ]
     },
     "execution_count": 37,
     "metadata": {},
     "output_type": "execute_result"
    }
   ],
   "source": [
    "B[1,2]"
   ]
  },
  {
   "cell_type": "code",
   "execution_count": 50,
   "id": "15732dce",
   "metadata": {},
   "outputs": [
    {
     "data": {
      "text/plain": [
       "18.033454545454546"
      ]
     },
     "execution_count": 50,
     "metadata": {},
     "output_type": "execute_result"
    }
   ],
   "source": [
    "mean(B[2:12,2]) # column 2, rows 3 and 4 just as an example"
   ]
  },
  {
   "cell_type": "markdown",
   "id": "2f75b9d4",
   "metadata": {},
   "source": [
    " As we can see the average temperature for December 20th - 31st from 1922-1932 is about ``18.03`` (rounded) "
   ]
  },
  {
   "cell_type": "markdown",
   "id": "d6c45e3e",
   "metadata": {},
   "source": [
    "# Now we are going to be comparing this to the minimum temperature of Dec 20th- 31st from 2012-2022: "
   ]
  },
  {
   "cell_type": "markdown",
   "id": "1def1785",
   "metadata": {},
   "source": [
    "Making the selection of the month: "
   ]
  },
  {
   "cell_type": "code",
   "execution_count": 144,
   "id": "ba525078",
   "metadata": {},
   "outputs": [
    {
     "data": {
      "text/plain": [
       "\"AMiD\""
      ]
     },
     "execution_count": 144,
     "metadata": {},
     "output_type": "execute_result"
    }
   ],
   "source": [
    "D[1,2]"
   ]
  },
  {
   "cell_type": "markdown",
   "id": "09cc620f",
   "metadata": {},
   "source": [
    "now we are going to be taking the average: "
   ]
  },
  {
   "cell_type": "code",
   "execution_count": 146,
   "id": "ba51a442",
   "metadata": {},
   "outputs": [
    {
     "data": {
      "text/plain": [
       "16.056818181818183"
      ]
     },
     "execution_count": 146,
     "metadata": {},
     "output_type": "execute_result"
    }
   ],
   "source": [
    "mean(D[2:12,2]) # Remember that for the years 2012-2022 is going to be stored in the matrix named ``D``"
   ]
  },
  {
   "cell_type": "markdown",
   "id": "fedd6900",
   "metadata": {},
   "source": [
    "Here we see that we got the average of minimum average temperature for December, 2012-2022, to be ``16.06``, rounded"
   ]
  },
  {
   "cell_type": "markdown",
   "id": "f80e204a",
   "metadata": {},
   "source": [
    "# Outcome: \n",
    "\n",
    "When we compare the average temperature from 1922-1932, Average Min December: ``18.03``. To the data 2012-2022: ``16.06`` we see that for the years 2012-2022 the average temperature is much lower than the average temperature from 1922-1932.  \n",
    "\n",
    "There is a difference of: "
   ]
  },
  {
   "cell_type": "code",
   "execution_count": 147,
   "id": "e990d1d3",
   "metadata": {},
   "outputs": [
    {
     "data": {
      "text/plain": [
       "1.9700000000000024"
      ]
     },
     "execution_count": 147,
     "metadata": {},
     "output_type": "execute_result"
    }
   ],
   "source": [
    "18.03-16.06"
   ]
  },
  {
   "cell_type": "markdown",
   "id": "514c18ba",
   "metadata": {},
   "source": [
    "The difference from the years 1922-1932 to 2012-2022 is: ``1.9700000000000024``, meaning it has become colder."
   ]
  },
  {
   "cell_type": "markdown",
   "id": "210685f0",
   "metadata": {},
   "source": [
    "# We will now do the same but for the average Max temperature for December 1922-1932"
   ]
  },
  {
   "cell_type": "code",
   "execution_count": null,
   "id": "aa2ef7d5",
   "metadata": {},
   "outputs": [],
   "source": []
  },
  {
   "cell_type": "code",
   "execution_count": null,
   "id": "e43fcf93",
   "metadata": {},
   "outputs": [],
   "source": []
  },
  {
   "cell_type": "code",
   "execution_count": null,
   "id": "c0d9783d",
   "metadata": {},
   "outputs": [],
   "source": []
  },
  {
   "cell_type": "code",
   "execution_count": null,
   "id": "595f848e",
   "metadata": {},
   "outputs": [],
   "source": []
  },
  {
   "cell_type": "code",
   "execution_count": null,
   "id": "92161ecb",
   "metadata": {},
   "outputs": [],
   "source": []
  },
  {
   "cell_type": "code",
   "execution_count": null,
   "id": "d13b5d29",
   "metadata": {},
   "outputs": [],
   "source": []
  },
  {
   "cell_type": "code",
   "execution_count": null,
   "id": "ea7ef2d2",
   "metadata": {},
   "outputs": [],
   "source": []
  },
  {
   "cell_type": "code",
   "execution_count": null,
   "id": "ab7831e4",
   "metadata": {},
   "outputs": [],
   "source": []
  },
  {
   "cell_type": "code",
   "execution_count": null,
   "id": "bf17e388",
   "metadata": {},
   "outputs": [],
   "source": []
  },
  {
   "cell_type": "markdown",
   "id": "85cfb1ac",
   "metadata": {},
   "source": [
    "# This below is legacy code: DO NOT MESS WITH IT!!!"
   ]
  },
  {
   "cell_type": "code",
   "execution_count": 143,
   "id": "6f47b45d",
   "metadata": {},
   "outputs": [
    {
     "data": {
      "text/plain": [
       "11-element Vector{Any}:\n",
       " 13.0\n",
       "  4.09\n",
       " 21.545\n",
       " 25.73\n",
       " 22.82\n",
       " -3.28\n",
       " 22.27\n",
       " 28.18\n",
       " 15.64\n",
       " 17.36\n",
       "  9.27"
      ]
     },
     "execution_count": 143,
     "metadata": {},
     "output_type": "execute_result"
    }
   ],
   "source": [
    "D[2:12,2]# this gives the 'first decade'"
   ]
  },
  {
   "cell_type": "code",
   "execution_count": 49,
   "id": "5f0c4904",
   "metadata": {},
   "outputs": [
    {
     "data": {
      "text/plain": [
       "11-element Vector{Any}:\n",
       " 1922\n",
       " 1923\n",
       " 1924\n",
       " 1925\n",
       " 1926\n",
       " 1927\n",
       " 1928\n",
       " 1929\n",
       " 1930\n",
       " 1931\n",
       " 1932"
      ]
     },
     "execution_count": 49,
     "metadata": {},
     "output_type": "execute_result"
    }
   ],
   "source": [
    "B[2:12,1]# this gives the years "
   ]
  }
 ],
 "metadata": {
  "kernelspec": {
   "display_name": "Julia 1.8.3",
   "language": "julia",
   "name": "julia-1.8"
  },
  "language_info": {
   "file_extension": ".jl",
   "mimetype": "application/julia",
   "name": "julia",
   "version": "1.8.3"
  }
 },
 "nbformat": 4,
 "nbformat_minor": 5
}
