{
 "cells": [
  {
   "cell_type": "markdown",
   "id": "6bd83454",
   "metadata": {},
   "source": [
    "# Project 1 MCS 472 \n",
    "\n",
    "Abraham Morales Arroyo \n",
    "\n",
    "## The Winters in Greenbay, Wisconsin\n",
    "\n",
    "January 2023 appears to be one for the warmest winter months, at least in Greenbay, Wisconsin. \n",
    "\n",
    "Download data for the first winter month, starting December 21 to January 20, for the past 100 years. \n",
    "\n",
    "Look for minima, maxima, and average temperatures for each day.\n",
    "\n",
    "Analyze the data with plots and segmentation, that is: divide the 100 years up in decades. \n",
    "\n",
    "\n",
    "#### Disclamer: The project has been modified to take place in Greenbay, Wisconsin. The data has been modified from 1922- 1932 then there is a time skip up to 2012- 2022.  \n",
    "\n",
    "I am going to have two different files, where the first file containes the Minimum Average, Max Average, and Average Data for December and January, respectfully. This file will be caled ``Classtoday.txt``, and it is from the year 1922- 1932. Then there is another file called ``Classtoday2.txt`` Where it has the same data, but instead it is from the years 2012-2022. \n"
   ]
  },
  {
   "cell_type": "code",
   "execution_count": 1,
   "id": "f2186e8b",
   "metadata": {},
   "outputs": [],
   "source": [
    "using DelimitedFiles"
   ]
  },
  {
   "cell_type": "code",
   "execution_count": 2,
   "id": "799cc967",
   "metadata": {},
   "outputs": [
    {
     "data": {
      "text/plain": [
       "23×7 Matrix{Any}:\n",
       "     \"Year\"    \"AMiD\"    \"AMAD\"    \"AD\"    \"AMiJ\"    \"AMaJ\"    \"AJ\"\n",
       " 1922        21.18     31.81     26.5     5.65     22.85     14.25\n",
       " 1923        22.3      32.9      27.64   11.2      25.65     18.43\n",
       " 1924        22.34     32.9      27.6    -3.25     25.65      5.65\n",
       " 1925        -0.36     14.18      6.91    9.9      23.65     16.78\n",
       " 1926        12.91     27.91     20.41   14.95     28.95     21.95\n",
       " 1927        14.0      27.82     20.91    7.75     22.6      15.18\n",
       " 1928        18.36     30.55     24.46   17.3      30.9      24.1\n",
       " 1929        16.91     31.55     24.23   -2.95     13.95      5.5\n",
       " 1930        13.73     28.0      20.86    9.0      22.3      15.65\n",
       " 1931        31.818    38.46     35.14   17.8      31.05     24.43\n",
       " 1932        25.18     37.09     31.14   22.5      33.0      27.75\n",
       " 2012        13.0      26.36     19.68   14.05     32.45     23.25\n",
       " 2013         4.09     21.09     12.59   11.7      30.65     21.175\n",
       " 2014        21.545    31.727    26.64    2.45     20.75     11.6\n",
       " 2015        25.73     34.82     30.27    7.5      21.45     14.48\n",
       " 2016        22.82     35.73     29.27    8.6      23.3      15.95\n",
       " 2017        -3.28     13.36      5.05   12.95     25.4      19.18\n",
       " 2018        22.27     34.09     28.68    7.4      23.95     15.68\n",
       " 2019        28.18     39.09     33.64    8.6      23.3      15.95\n",
       " 2020        15.64     31.55     23.59   17.75     32.75     25.25\n",
       " 2021        17.36     33.36     25.36   20.7      30.9      25.8\n",
       " 2022         9.27     26.09     17.68    6.8      24.15     15.48"
      ]
     },
     "execution_count": 2,
     "metadata": {},
     "output_type": "execute_result"
    }
   ],
   "source": [
    "A = readdlm(\"Classtoday.txt\")"
   ]
  },
  {
   "cell_type": "markdown",
   "id": "c5ee356c",
   "metadata": {},
   "source": [
    "# The Headers here are abreviations: \n",
    "\n",
    " AMiD= Average Minimum Temperature in December \n",
    "\n",
    " AMAD= Average Maximum Temperature in December\n",
    "\n",
    " AD= Average December Temperature\n",
    "\n",
    " AMiJ= Average Minimum Temperature in January \n",
    "\n",
    " AMAJ= Average Maximum Temperature in January\n",
    "\n",
    "AJ= Average January Temperature\n"
   ]
  },
  {
   "cell_type": "markdown",
   "id": "5059061b",
   "metadata": {},
   "source": [
    "For the previous instruction to work, the file ``Classtoday.txt`` has to be on file."
   ]
  },
  {
   "cell_type": "markdown",
   "id": "280cc972",
   "metadata": {},
   "source": [
    "To make the notebook self contained, the string representation of the file will be copied and pasted into a cell."
   ]
  },
  {
   "cell_type": "code",
   "execution_count": 3,
   "id": "83f9f449",
   "metadata": {
    "scrolled": true
   },
   "outputs": [
    {
     "data": {
      "text/plain": [
       "\"Any[\\\"Year\\\" \\\"AMiD\\\" \\\"AMAD\\\" \\\"AD\\\" \\\"AMiJ\\\" \\\"AMaJ\\\" \\\"AJ\\\"; 1922 21.18 31.81 26.5 5.65 22.85 14.25; 1923 22.3 32.9 27.64 11.2 25.65 18.43; 1924 22.34 32.9 27.6 -3.25 25.65 5.65; 1925 -0.36 14.18 6.91 9.9 23.65 16.78; 1926 12.91 27.91 20.41 14.95 28.95 21.95; 1927 14.0 27.82 20.91 \" ⋯ 387 bytes ⋯ \".82 35.73 29.27 8.6 23.3 15.95; 2017 -3.28 13.36 5.05 12.95 25.4 19.18; 2018 22.27 34.09 28.68 7.4 23.95 15.68; 2019 28.18 39.09 33.64 8.6 23.3 15.95; 2020 15.64 31.55 23.59 17.75 32.75 25.25; 2021 17.36 33.36 25.36 20.7 30.9 25.8; 2022 9.27 26.09 17.68 6.8 24.15 15.48]\""
      ]
     },
     "execution_count": 3,
     "metadata": {},
     "output_type": "execute_result"
    }
   ],
   "source": [
    "strA = string(A)"
   ]
  },
  {
   "cell_type": "code",
   "execution_count": 4,
   "id": "1bf384d3",
   "metadata": {},
   "outputs": [
    {
     "name": "stdout",
     "output_type": "stream",
     "text": [
      "Any[\"Year\" \"AMiD\" \"AMAD\" \"AD\" \"AMiJ\" \"AMaJ\" \"AJ\"; 1922 21.18 31.81 26.5 5.65 22.85 14.25; 1923 22.3 32.9 27.64 11.2 25.65 18.43; 1924 22.34 32.9 27.6 -3.25 25.65 5.65; 1925 -0.36 14.18 6.91 9.9 23.65 16.78; 1926 12.91 27.91 20.41 14.95 28.95 21.95; 1927 14.0 27.82 20.91 7.75 22.6 15.18; 1928 18.36 30.55 24.46 17.3 30.9 24.1; 1929 16.91 31.55 24.23 -2.95 13.95 5.5; 1930 13.73 28.0 20.86 9.0 22.3 15.65; 1931 31.818 38.46 35.14 17.8 31.05 24.43; 1932 25.18 37.09 31.14 22.5 33.0 27.75; 2012 13.0 26.36 19.68 14.05 32.45 23.25; 2013 4.09 21.09 12.59 11.7 30.65 21.175; 2014 21.545 31.727 26.64 2.45 20.75 11.6; 2015 25.73 34.82 30.27 7.5 21.45 14.48; 2016 22.82 35.73 29.27 8.6 23.3 15.95; 2017 -3.28 13.36 5.05 12.95 25.4 19.18; 2018 22.27 34.09 28.68 7.4 23.95 15.68; 2019 28.18 39.09 33.64 8.6 23.3 15.95; 2020 15.64 31.55 23.59 17.75 32.75 25.25; 2021 17.36 33.36 25.36 20.7 30.9 25.8; 2022 9.27 26.09 17.68 6.8 24.15 15.48]"
     ]
    }
   ],
   "source": [
    "print(strA)"
   ]
  },
  {
   "cell_type": "code",
   "execution_count": 5,
   "id": "06677caa",
   "metadata": {},
   "outputs": [
    {
     "data": {
      "text/plain": [
       "23×7 Matrix{Any}:\n",
       "     \"Year\"    \"AMiD\"    \"AMAD\"    \"AD\"    \"AMiJ\"    \"AMaJ\"    \"AJ\"\n",
       " 1922        21.18     31.81     26.5     5.65     22.85     14.25\n",
       " 1923        22.3      32.9      27.64   11.2      25.65     18.43\n",
       " 1924        22.34     32.9      27.6    -3.25     25.65      5.65\n",
       " 1925        -0.36     14.18      6.91    9.9      23.65     16.78\n",
       " 1926        12.91     27.91     20.41   14.95     28.95     21.95\n",
       " 1927        14.0      27.82     20.91    7.75     22.6      15.18\n",
       " 1928        18.36     30.55     24.46   17.3      30.9      24.1\n",
       " 1929        16.91     31.55     24.23   -2.95     13.95      5.5\n",
       " 1930        13.73     28.0      20.86    9.0      22.3      15.65\n",
       " 1931        31.818    38.46     35.14   17.8      31.05     24.43\n",
       " 1932        25.18     37.09     31.14   22.5      33.0      27.75\n",
       " 2012        13.0      26.36     19.68   14.05     32.45     23.25\n",
       " 2013         4.09     21.09     12.59   11.7      30.65     21.175\n",
       " 2014        21.545    31.727    26.64    2.45     20.75     11.6\n",
       " 2015        25.73     34.82     30.27    7.5      21.45     14.48\n",
       " 2016        22.82     35.73     29.27    8.6      23.3      15.95\n",
       " 2017        -3.28     13.36      5.05   12.95     25.4      19.18\n",
       " 2018        22.27     34.09     28.68    7.4      23.95     15.68\n",
       " 2019        28.18     39.09     33.64    8.6      23.3      15.95\n",
       " 2020        15.64     31.55     23.59   17.75     32.75     25.25\n",
       " 2021        17.36     33.36     25.36   20.7      30.9      25.8\n",
       " 2022         9.27     26.09     17.68    6.8      24.15     15.48"
      ]
     },
     "execution_count": 5,
     "metadata": {},
     "output_type": "execute_result"
    }
   ],
   "source": [
    "B=Any[\"Year\" \"AMiD\" \"AMAD\" \"AD\" \"AMiJ\" \"AMaJ\" \"AJ\"; 1922 21.18 31.81 26.5 5.65 22.85 14.25; 1923 22.3 32.9 27.64 11.2 25.65 18.43; 1924 22.34 32.9 27.6 -3.25 25.65 5.65; 1925 -0.36 14.18 6.91 9.9 23.65 16.78; 1926 12.91 27.91 20.41 14.95 28.95 21.95; 1927 14.0 27.82 20.91 7.75 22.6 15.18; 1928 18.36 30.55 24.46 17.3 30.9 24.1; 1929 16.91 31.55 24.23 -2.95 13.95 5.5; 1930 13.73 28.0 20.86 9.0 22.3 15.65; 1931 31.818 38.46 35.14 17.8 31.05 24.43; 1932 25.18 37.09 31.14 22.5 33.0 27.75; 2012 13.0 26.36 19.68 14.05 32.45 23.25; 2013 4.09 21.09 12.59 11.7 30.65 21.175; 2014 21.545 31.727 26.64 2.45 20.75 11.6; 2015 25.73 34.82 30.27 7.5 21.45 14.48; 2016 22.82 35.73 29.27 8.6 23.3 15.95; 2017 -3.28 13.36 5.05 12.95 25.4 19.18; 2018 22.27 34.09 28.68 7.4 23.95 15.68; 2019 28.18 39.09 33.64 8.6 23.3 15.95; 2020 15.64 31.55 23.59 17.75 32.75 25.25; 2021 17.36 33.36 25.36 20.7 30.9 25.8; 2022 9.27 26.09 17.68 6.8 24.15 15.48]"
   ]
  },
  {
   "cell_type": "markdown",
   "id": "785af082",
   "metadata": {},
   "source": [
    "The instructions in the notebook will continue to work with ``B`` so everything will work even if the file was not present.\n",
    "\n",
    "\n",
    "# Now we are going to have the rest of the data, From the years 2012-2022, be read and then stored into a matrix so it can be used for this project: "
   ]
  },
  {
   "cell_type": "code",
   "execution_count": 6,
   "id": "f6f6357d",
   "metadata": {
    "scrolled": true
   },
   "outputs": [
    {
     "data": {
      "text/plain": [
       "12×7 Matrix{Any}:\n",
       "     \"Year\"    \"AMiD\"    \"AMAD\"    \"AD\"    \"AMiJ\"    \"AMaJ\"    \"AJ\"\n",
       " 2012        13.0      26.36     19.68   14.05     32.45     23.25\n",
       " 2013         4.09     21.09     12.59   11.7      30.65     21.175\n",
       " 2014        21.545    31.727    26.64    2.45     20.75     11.6\n",
       " 2015        25.73     34.82     30.27    7.5      21.45     14.48\n",
       " 2016        22.82     35.73     29.27    8.6      23.3      15.95\n",
       " 2017        -3.28     13.36      5.05   12.95     25.4      19.18\n",
       " 2018        22.27     34.09     28.68    7.4      23.95     15.68\n",
       " 2019        28.18     39.09     33.64    8.6      23.3      15.95\n",
       " 2020        15.64     31.55     23.59   17.75     32.75     25.25\n",
       " 2021        17.36     33.36     25.36   20.7      30.9      25.8\n",
       " 2022         9.27     26.09     17.68    6.8      24.15     15.48"
      ]
     },
     "execution_count": 6,
     "metadata": {},
     "output_type": "execute_result"
    }
   ],
   "source": [
    "C = readdlm(\"Classtoday2.txt\")"
   ]
  },
  {
   "cell_type": "code",
   "execution_count": 7,
   "id": "322cee97",
   "metadata": {},
   "outputs": [
    {
     "data": {
      "text/plain": [
       "\"Any[\\\"Year\\\" \\\"AMiD\\\" \\\"AMAD\\\" \\\"AD\\\" \\\"AMiJ\\\" \\\"AMaJ\\\" \\\"AJ\\\"; 2012 13.0 26.36 19.68 14.05 32.45 23.25; 2013 4.09 21.09 12.59 11.7 30.65 21.175; 2014 21.545 31.727 26.64 2.45 20.75 11.6; 2015 25.73 34.82 30.27 7.5 21.45 14.48; 2016 22.82 35.73 29.27 8.6 23.3 15.95; 2017 -3.28 13.36 5.05 12.95 25.4 19.18; 2018 22.27 34.09 28.68 7.4 23.95 15.68; 2019 28.18 39.09 33.64 8.6 23.3 15.95; 2020 15.64 31.55 23.59 17.75 32.75 25.25; 2021 17.36 33.36 25.36 20.7 30.9 25.8; 2022 9.27 26.09 17.68 6.8 24.15 15.48]\""
      ]
     },
     "execution_count": 7,
     "metadata": {},
     "output_type": "execute_result"
    }
   ],
   "source": [
    "strC = string(C)"
   ]
  },
  {
   "cell_type": "code",
   "execution_count": 8,
   "id": "365739ae",
   "metadata": {},
   "outputs": [
    {
     "data": {
      "text/plain": [
       "12×7 Matrix{Any}:\n",
       "     \"Year\"    \"AMiD\"    \"AMAD\"    \"AD\"    \"AMiJ\"    \"AMaJ\"    \"AJ\"\n",
       " 2012        13.0      26.36     19.68   14.05     32.45     23.25\n",
       " 2013         4.09     21.09     12.59   11.7      30.65     21.175\n",
       " 2014        21.545    31.727    26.64    2.45     20.75     11.6\n",
       " 2015        25.73     34.82     30.27    7.5      21.45     14.48\n",
       " 2016        22.82     35.73     29.27    8.6      23.3      15.95\n",
       " 2017        -3.28     13.36      5.05   12.95     25.4      19.18\n",
       " 2018        22.27     34.09     28.68    7.4      23.95     15.68\n",
       " 2019        28.18     39.09     33.64    8.6      23.3      15.95\n",
       " 2020        15.64     31.55     23.59   17.75     32.75     25.25\n",
       " 2021        17.36     33.36     25.36   20.7      30.9      25.8\n",
       " 2022         9.27     26.09     17.68    6.8      24.15     15.48"
      ]
     },
     "execution_count": 8,
     "metadata": {},
     "output_type": "execute_result"
    }
   ],
   "source": [
    "D=Any[\"Year\" \"AMiD\" \"AMAD\" \"AD\" \"AMiJ\" \"AMaJ\" \"AJ\"; 2012 13.0 26.36 19.68 14.05 32.45 23.25; 2013 4.09 21.09 12.59 11.7 30.65 21.175; 2014 21.545 31.727 26.64 2.45 20.75 11.6; 2015 25.73 34.82 30.27 7.5 21.45 14.48; 2016 22.82 35.73 29.27 8.6 23.3 15.95; 2017 -3.28 13.36 5.05 12.95 25.4 19.18; 2018 22.27 34.09 28.68 7.4 23.95 15.68; 2019 28.18 39.09 33.64 8.6 23.3 15.95; 2020 15.64 31.55 23.59 17.75 32.75 25.25; 2021 17.36 33.36 25.36 20.7 30.9 25.8; 2022 9.27 26.09 17.68 6.8 24.15 15.48]"
   ]
  },
  {
   "cell_type": "markdown",
   "id": "a33545f7",
   "metadata": {},
   "source": [
    "# Let us take the average of minimum temperatures of December for the first decade, 1922- 1932"
   ]
  },
  {
   "cell_type": "code",
   "execution_count": 9,
   "id": "09056c9b",
   "metadata": {},
   "outputs": [],
   "source": [
    "using Statistics"
   ]
  },
  {
   "cell_type": "markdown",
   "id": "cb06e970",
   "metadata": {},
   "source": [
    "here we are making the selection of the month that we want "
   ]
  },
  {
   "cell_type": "code",
   "execution_count": 10,
   "id": "8568535c",
   "metadata": {},
   "outputs": [
    {
     "data": {
      "text/plain": [
       "\"AMiD\""
      ]
     },
     "execution_count": 10,
     "metadata": {},
     "output_type": "execute_result"
    }
   ],
   "source": [
    "B[1,2]"
   ]
  },
  {
   "cell_type": "code",
   "execution_count": 11,
   "id": "c8747602",
   "metadata": {},
   "outputs": [
    {
     "data": {
      "text/plain": [
       "18.033454545454546"
      ]
     },
     "execution_count": 11,
     "metadata": {},
     "output_type": "execute_result"
    }
   ],
   "source": [
    "mean(B[2:12,2]) # column 2, rows 3 and 4 just as an example"
   ]
  },
  {
   "cell_type": "markdown",
   "id": "fb5529c1",
   "metadata": {},
   "source": [
    " As we can see the average temperature for December 20th - 31st from 1922-1932 is about ``18.03`` (rounded) "
   ]
  },
  {
   "cell_type": "markdown",
   "id": "ecc5ea8d",
   "metadata": {},
   "source": [
    "# Now we are going to be comparing this to the minimum temperature of Dec 20th- 31st from 2012-2022: "
   ]
  },
  {
   "cell_type": "markdown",
   "id": "9752581c",
   "metadata": {},
   "source": [
    "Making the selection of the month: "
   ]
  },
  {
   "cell_type": "code",
   "execution_count": 12,
   "id": "b4b32764",
   "metadata": {},
   "outputs": [
    {
     "data": {
      "text/plain": [
       "\"AMiD\""
      ]
     },
     "execution_count": 12,
     "metadata": {},
     "output_type": "execute_result"
    }
   ],
   "source": [
    "D[1,2]"
   ]
  },
  {
   "cell_type": "markdown",
   "id": "cfd3f822",
   "metadata": {},
   "source": [
    "now we are going to be taking the average: "
   ]
  },
  {
   "cell_type": "code",
   "execution_count": 13,
   "id": "2219306d",
   "metadata": {},
   "outputs": [
    {
     "data": {
      "text/plain": [
       "16.056818181818183"
      ]
     },
     "execution_count": 13,
     "metadata": {},
     "output_type": "execute_result"
    }
   ],
   "source": [
    "mean(D[2:12,2]) # Remember that for the years 2012-2022 is going to be stored in the matrix named ``D``"
   ]
  },
  {
   "cell_type": "markdown",
   "id": "40da13f3",
   "metadata": {},
   "source": [
    "Here we see that we got the average of minimum average temperature for December, 2012-2022, to be ``16.06``, rounded"
   ]
  },
  {
   "cell_type": "markdown",
   "id": "da66dbe8",
   "metadata": {},
   "source": [
    "# Outcome: \n",
    "\n",
    "When we compare the average temperature from 1922-1932, Average Min December: ``18.03``. To the data 2012-2022: ``16.06`` we see that for the years 2012-2022 the average temperature is much lower than the average temperature from 1922-1932.  \n",
    "\n",
    "There is a difference of: "
   ]
  },
  {
   "cell_type": "code",
   "execution_count": 14,
   "id": "64f2f9d3",
   "metadata": {},
   "outputs": [
    {
     "data": {
      "text/plain": [
       "1.9700000000000024"
      ]
     },
     "execution_count": 14,
     "metadata": {},
     "output_type": "execute_result"
    }
   ],
   "source": [
    "18.03-16.06"
   ]
  },
  {
   "cell_type": "markdown",
   "id": "119909a2",
   "metadata": {},
   "source": [
    "The difference from the years 1922-1932 to 2012-2022 is: ``1.9700000000000024``, meaning it has become colder."
   ]
  },
  {
   "cell_type": "markdown",
   "id": "e354ed8e",
   "metadata": {},
   "source": [
    "# We will now do the same but for the average Max temperature for December 1922-1932"
   ]
  },
  {
   "cell_type": "code",
   "execution_count": 15,
   "id": "3baa67db",
   "metadata": {},
   "outputs": [
    {
     "data": {
      "text/plain": [
       "\"AMAD\""
      ]
     },
     "execution_count": 15,
     "metadata": {},
     "output_type": "execute_result"
    }
   ],
   "source": [
    "B[1,3]"
   ]
  },
  {
   "cell_type": "markdown",
   "id": "3c9ec0c4",
   "metadata": {},
   "source": [
    "This is the Average Max temperature for December 1922-1932. Now we are going to make sure that we are working with the correct rolls and data:"
   ]
  },
  {
   "cell_type": "code",
   "execution_count": 16,
   "id": "03cd39de",
   "metadata": {},
   "outputs": [
    {
     "data": {
      "text/plain": [
       "11-element Vector{Any}:\n",
       " 31.81\n",
       " 32.9\n",
       " 32.9\n",
       " 14.18\n",
       " 27.91\n",
       " 27.82\n",
       " 30.55\n",
       " 31.55\n",
       " 28.0\n",
       " 38.46\n",
       " 37.09"
      ]
     },
     "execution_count": 16,
     "metadata": {},
     "output_type": "execute_result"
    }
   ],
   "source": [
    "B[2:12,3]# this gives us the data"
   ]
  },
  {
   "cell_type": "markdown",
   "id": "e8790d5d",
   "metadata": {},
   "source": [
    "Yes this matches up the data for Average Max temperature for December of 1922-1932."
   ]
  },
  {
   "cell_type": "code",
   "execution_count": 17,
   "id": "6483fee7",
   "metadata": {},
   "outputs": [
    {
     "data": {
      "text/plain": [
       "30.288181818181815"
      ]
     },
     "execution_count": 17,
     "metadata": {},
     "output_type": "execute_result"
    }
   ],
   "source": [
    "mean(B[2:12,3]) # column 2, rows 3 and 4 just as an example"
   ]
  },
  {
   "cell_type": "markdown",
   "id": "46cc48e3",
   "metadata": {},
   "source": [
    "This is the average for Average Max temperature for December 1922-1932, ``30.29``"
   ]
  },
  {
   "cell_type": "markdown",
   "id": "2e3ae9ca",
   "metadata": {},
   "source": [
    "# Now we are going to be comparing this to the Max Average temperature of Dec 20th- 31st from 2012-2022: "
   ]
  },
  {
   "cell_type": "code",
   "execution_count": 18,
   "id": "a089c20e",
   "metadata": {},
   "outputs": [
    {
     "data": {
      "text/plain": [
       "\"AMAD\""
      ]
     },
     "execution_count": 18,
     "metadata": {},
     "output_type": "execute_result"
    }
   ],
   "source": [
    "D[1,3]"
   ]
  },
  {
   "cell_type": "code",
   "execution_count": 19,
   "id": "f0d36c05",
   "metadata": {},
   "outputs": [
    {
     "data": {
      "text/plain": [
       "11-element Vector{Any}:\n",
       " 26.36\n",
       " 21.09\n",
       " 31.727\n",
       " 34.82\n",
       " 35.73\n",
       " 13.36\n",
       " 34.09\n",
       " 39.09\n",
       " 31.55\n",
       " 33.36\n",
       " 26.09"
      ]
     },
     "execution_count": 19,
     "metadata": {},
     "output_type": "execute_result"
    }
   ],
   "source": [
    "D[2:12,3]# this gives the data"
   ]
  },
  {
   "cell_type": "code",
   "execution_count": 20,
   "id": "96bd296e",
   "metadata": {},
   "outputs": [
    {
     "data": {
      "text/plain": [
       "29.751545454545454"
      ]
     },
     "execution_count": 20,
     "metadata": {},
     "output_type": "execute_result"
    }
   ],
   "source": [
    "mean(D[2:12,3]) # column 2, rows 3 and 4 just as an example"
   ]
  },
  {
   "cell_type": "markdown",
   "id": "567518da",
   "metadata": {},
   "source": [
    "The average of ``29.75`` is for Average Max December 2012-2022"
   ]
  },
  {
   "cell_type": "markdown",
   "id": "a1d12ec8",
   "metadata": {},
   "source": [
    "# Outcome: \n",
    "\n",
    "Here the 1922- 1932 is : ``30.29``\n",
    "\n",
    "For 2012-2022 is: ``29.75``\n",
    "\n",
    "\n",
    "Here we see that the temperature has dropped, from ``30.29`` to ``29.75``. The difference is: \n"
   ]
  },
  {
   "cell_type": "code",
   "execution_count": 21,
   "id": "b53ffbdc",
   "metadata": {},
   "outputs": [
    {
     "data": {
      "text/plain": [
       "0.5399999999999991"
      ]
     },
     "execution_count": 21,
     "metadata": {},
     "output_type": "execute_result"
    }
   ],
   "source": [
    "30.29-29.75"
   ]
  },
  {
   "cell_type": "markdown",
   "id": "cadbad5e",
   "metadata": {},
   "source": [
    "Here we see that the difference was ``0.54``, meaning it has become colder."
   ]
  },
  {
   "cell_type": "markdown",
   "id": "d313598e",
   "metadata": {},
   "source": [
    "# Now we are going to be comparing this to the average temperature of Dec 20th- 31st from 1922-1932: "
   ]
  },
  {
   "cell_type": "code",
   "execution_count": 22,
   "id": "fe463c0d",
   "metadata": {},
   "outputs": [
    {
     "data": {
      "text/plain": [
       "\"AD\""
      ]
     },
     "execution_count": 22,
     "metadata": {},
     "output_type": "execute_result"
    }
   ],
   "source": [
    "B[1,4]"
   ]
  },
  {
   "cell_type": "code",
   "execution_count": 23,
   "id": "88165a22",
   "metadata": {},
   "outputs": [
    {
     "data": {
      "text/plain": [
       "11-element Vector{Any}:\n",
       " 26.5\n",
       " 27.64\n",
       " 27.6\n",
       "  6.91\n",
       " 20.41\n",
       " 20.91\n",
       " 24.46\n",
       " 24.23\n",
       " 20.86\n",
       " 35.14\n",
       " 31.14"
      ]
     },
     "execution_count": 23,
     "metadata": {},
     "output_type": "execute_result"
    }
   ],
   "source": [
    "B[2:12,4]# this gives the data"
   ]
  },
  {
   "cell_type": "code",
   "execution_count": 24,
   "id": "51bbb8af",
   "metadata": {},
   "outputs": [
    {
     "data": {
      "text/plain": [
       "24.16363636363636"
      ]
     },
     "execution_count": 24,
     "metadata": {},
     "output_type": "execute_result"
    }
   ],
   "source": [
    "mean(B[2:12,4])"
   ]
  },
  {
   "cell_type": "markdown",
   "id": "8d3cfcb6",
   "metadata": {},
   "source": [
    "Here we see that the average of temperature is ``24.16`` for December 1922-1932."
   ]
  },
  {
   "cell_type": "markdown",
   "id": "6bb69458",
   "metadata": {},
   "source": [
    "# Now we are going to be comparing this to the average temperature of Dec 20th- 31st from 2012-2022: "
   ]
  },
  {
   "cell_type": "code",
   "execution_count": 25,
   "id": "14a3ab4a",
   "metadata": {},
   "outputs": [
    {
     "data": {
      "text/plain": [
       "\"AD\""
      ]
     },
     "execution_count": 25,
     "metadata": {},
     "output_type": "execute_result"
    }
   ],
   "source": [
    "C[1,4]"
   ]
  },
  {
   "cell_type": "code",
   "execution_count": 26,
   "id": "d0720e23",
   "metadata": {},
   "outputs": [
    {
     "data": {
      "text/plain": [
       "11-element Vector{Any}:\n",
       " 19.68\n",
       " 12.59\n",
       " 26.64\n",
       " 30.27\n",
       " 29.27\n",
       "  5.05\n",
       " 28.68\n",
       " 33.64\n",
       " 23.59\n",
       " 25.36\n",
       " 17.68"
      ]
     },
     "execution_count": 26,
     "metadata": {},
     "output_type": "execute_result"
    }
   ],
   "source": [
    "C[2:12,4]# this gives the data"
   ]
  },
  {
   "cell_type": "code",
   "execution_count": 27,
   "id": "c04207c4",
   "metadata": {},
   "outputs": [
    {
     "data": {
      "text/plain": [
       "22.95"
      ]
     },
     "execution_count": 27,
     "metadata": {},
     "output_type": "execute_result"
    }
   ],
   "source": [
    "mean(C[2:12,4])"
   ]
  },
  {
   "cell_type": "markdown",
   "id": "8fa6d3f4",
   "metadata": {},
   "source": [
    "Here we see that the average temperature for December 2012-2022 is: ``22.95``"
   ]
  },
  {
   "cell_type": "markdown",
   "id": "99ab62d4",
   "metadata": {},
   "source": [
    "# Outcome: \n",
    "\n",
    "Average December Temperature 1922-1932: ``24.16``\n",
    "\n",
    "Average December Temperature 2012-2012: ``22.95``\n",
    "\n",
    "\n",
    "Here we see that the average temperature from one decade to another decade has dropped. It went from ``24.16`` to ``22.95``"
   ]
  },
  {
   "cell_type": "code",
   "execution_count": 28,
   "id": "bb20c6d4",
   "metadata": {},
   "outputs": [
    {
     "data": {
      "text/plain": [
       "1.2100000000000009"
      ]
     },
     "execution_count": 28,
     "metadata": {},
     "output_type": "execute_result"
    }
   ],
   "source": [
    "24.16-22.95"
   ]
  },
  {
   "cell_type": "markdown",
   "id": "8289d67a",
   "metadata": {},
   "source": [
    "Here we see that there is a decrease of ``1.21`` in temperature. "
   ]
  },
  {
   "cell_type": "markdown",
   "id": "aa6cd887",
   "metadata": {},
   "source": [
    "# Now we are going to find the Average Minimum temperature for January from 1922-1932: "
   ]
  },
  {
   "cell_type": "code",
   "execution_count": 29,
   "id": "f7384bc0",
   "metadata": {},
   "outputs": [
    {
     "data": {
      "text/plain": [
       "\"AMiJ\""
      ]
     },
     "execution_count": 29,
     "metadata": {},
     "output_type": "execute_result"
    }
   ],
   "source": [
    "B[1,5] #this gives the max minimum to January"
   ]
  },
  {
   "cell_type": "code",
   "execution_count": 30,
   "id": "26b9d1c6",
   "metadata": {},
   "outputs": [
    {
     "data": {
      "text/plain": [
       "11-element Vector{Any}:\n",
       "  5.65\n",
       " 11.2\n",
       " -3.25\n",
       "  9.9\n",
       " 14.95\n",
       "  7.75\n",
       " 17.3\n",
       " -2.95\n",
       "  9.0\n",
       " 17.8\n",
       " 22.5"
      ]
     },
     "execution_count": 30,
     "metadata": {},
     "output_type": "execute_result"
    }
   ],
   "source": [
    "B[2:12,5]# this gives the data"
   ]
  },
  {
   "cell_type": "code",
   "execution_count": 31,
   "id": "812bcb53",
   "metadata": {},
   "outputs": [
    {
     "data": {
      "text/plain": [
       "9.986363636363636"
      ]
     },
     "execution_count": 31,
     "metadata": {},
     "output_type": "execute_result"
    }
   ],
   "source": [
    "mean(B[2:12,5])"
   ]
  },
  {
   "cell_type": "markdown",
   "id": "105f968d",
   "metadata": {},
   "source": [
    "Here we see that the average Max for min January 1922-1932 is: ``9.99``"
   ]
  },
  {
   "cell_type": "markdown",
   "id": "e4428879",
   "metadata": {},
   "source": [
    "# Now we do the same for January but for 2012-2022:"
   ]
  },
  {
   "cell_type": "code",
   "execution_count": 32,
   "id": "72c82723",
   "metadata": {},
   "outputs": [
    {
     "data": {
      "text/plain": [
       "\"AMiJ\""
      ]
     },
     "execution_count": 32,
     "metadata": {},
     "output_type": "execute_result"
    }
   ],
   "source": [
    "C[1,5]"
   ]
  },
  {
   "cell_type": "code",
   "execution_count": 33,
   "id": "f85fe35b",
   "metadata": {},
   "outputs": [
    {
     "data": {
      "text/plain": [
       "11-element Vector{Any}:\n",
       " 14.05\n",
       " 11.7\n",
       "  2.45\n",
       "  7.5\n",
       "  8.6\n",
       " 12.95\n",
       "  7.4\n",
       "  8.6\n",
       " 17.75\n",
       " 20.7\n",
       "  6.8"
      ]
     },
     "execution_count": 33,
     "metadata": {},
     "output_type": "execute_result"
    }
   ],
   "source": [
    "C[2:12,5]"
   ]
  },
  {
   "cell_type": "code",
   "execution_count": 34,
   "id": "e05abd52",
   "metadata": {},
   "outputs": [
    {
     "data": {
      "text/plain": [
       "10.772727272727273"
      ]
     },
     "execution_count": 34,
     "metadata": {},
     "output_type": "execute_result"
    }
   ],
   "source": [
    "mean(C[2:12,5])"
   ]
  },
  {
   "cell_type": "markdown",
   "id": "1999a6e3",
   "metadata": {},
   "source": [
    "Here we see that there is ``10.77`` for the Average Jan Minimum for 2012-2022. \n",
    "\n",
    "# Outcome: \n",
    "\n",
    "Here we see for 1922-1932 for Min Jan average is: 9.99\n",
    "\n",
    "For 2012- 2022 for the Min Jan Average: 10.77 \n",
    "\n",
    "Here we see that there is an increase in temperature: "
   ]
  },
  {
   "cell_type": "code",
   "execution_count": 35,
   "id": "5f017362",
   "metadata": {},
   "outputs": [
    {
     "data": {
      "text/plain": [
       "0.7799999999999994"
      ]
     },
     "execution_count": 35,
     "metadata": {},
     "output_type": "execute_result"
    }
   ],
   "source": [
    "10.77-9.99"
   ]
  },
  {
   "cell_type": "markdown",
   "id": "3f65daea",
   "metadata": {},
   "source": [
    "here we see that the increase of ``0.78`` in the temperature. "
   ]
  },
  {
   "cell_type": "markdown",
   "id": "9e718e71",
   "metadata": {},
   "source": [
    "# Now we are going to find the Average Max temperature for January from 1922-1932: "
   ]
  },
  {
   "cell_type": "code",
   "execution_count": 36,
   "id": "4eff6440",
   "metadata": {},
   "outputs": [
    {
     "data": {
      "text/plain": [
       "\"AMaJ\""
      ]
     },
     "execution_count": 36,
     "metadata": {},
     "output_type": "execute_result"
    }
   ],
   "source": [
    "B[1,6] #this gives the max of Jan"
   ]
  },
  {
   "cell_type": "code",
   "execution_count": 37,
   "id": "07b9ff91",
   "metadata": {},
   "outputs": [
    {
     "data": {
      "text/plain": [
       "11-element Vector{Any}:\n",
       " 22.85\n",
       " 25.65\n",
       " 25.65\n",
       " 23.65\n",
       " 28.95\n",
       " 22.6\n",
       " 30.9\n",
       " 13.95\n",
       " 22.3\n",
       " 31.05\n",
       " 33.0"
      ]
     },
     "execution_count": 37,
     "metadata": {},
     "output_type": "execute_result"
    }
   ],
   "source": [
    "B[2:12,6]# this gives the data"
   ]
  },
  {
   "cell_type": "code",
   "execution_count": 38,
   "id": "631f7881",
   "metadata": {},
   "outputs": [
    {
     "data": {
      "text/plain": [
       "25.50454545454546"
      ]
     },
     "execution_count": 38,
     "metadata": {},
     "output_type": "execute_result"
    }
   ],
   "source": [
    "mean(B[2:12,6])"
   ]
  },
  {
   "cell_type": "markdown",
   "id": "67ce632e",
   "metadata": {},
   "source": [
    "here we see that the average Max for Jan 1922-1932 is: ``25.50``"
   ]
  },
  {
   "cell_type": "markdown",
   "id": "7ba84cbe",
   "metadata": {},
   "source": [
    "# Now we are going to find the Average Max temperature for January from 2012-2022: "
   ]
  },
  {
   "cell_type": "code",
   "execution_count": 39,
   "id": "804203bd",
   "metadata": {},
   "outputs": [
    {
     "data": {
      "text/plain": [
       "\"AMaJ\""
      ]
     },
     "execution_count": 39,
     "metadata": {},
     "output_type": "execute_result"
    }
   ],
   "source": [
    "C[1,6]"
   ]
  },
  {
   "cell_type": "code",
   "execution_count": 40,
   "id": "bee2b090",
   "metadata": {},
   "outputs": [
    {
     "data": {
      "text/plain": [
       "11-element Vector{Any}:\n",
       " 32.45\n",
       " 30.65\n",
       " 20.75\n",
       " 21.45\n",
       " 23.3\n",
       " 25.4\n",
       " 23.95\n",
       " 23.3\n",
       " 32.75\n",
       " 30.9\n",
       " 24.15"
      ]
     },
     "execution_count": 40,
     "metadata": {},
     "output_type": "execute_result"
    }
   ],
   "source": [
    "C[2:12,6]"
   ]
  },
  {
   "cell_type": "code",
   "execution_count": 41,
   "id": "e8611712",
   "metadata": {},
   "outputs": [
    {
     "data": {
      "text/plain": [
       "26.277272727272724"
      ]
     },
     "execution_count": 41,
     "metadata": {},
     "output_type": "execute_result"
    }
   ],
   "source": [
    "mean(C[2:12,6])"
   ]
  },
  {
   "cell_type": "markdown",
   "id": "7c904c8e",
   "metadata": {},
   "source": [
    "Here we see that the average for Jan 2012-2022 is: ``26.28``"
   ]
  },
  {
   "cell_type": "markdown",
   "id": "cdd7dd9f",
   "metadata": {},
   "source": [
    "# Outcome \n",
    "\n",
    "we see that weather: ``25.50`` (1922-1932)\n",
    "\n",
    "We see that weather: ``26.28`` (2012-2022)\n",
    "\n",
    "Here we see that there was increase of weather:"
   ]
  },
  {
   "cell_type": "code",
   "execution_count": 42,
   "id": "8a60b12c",
   "metadata": {},
   "outputs": [
    {
     "data": {
      "text/plain": [
       "0.7800000000000011"
      ]
     },
     "execution_count": 42,
     "metadata": {},
     "output_type": "execute_result"
    }
   ],
   "source": [
    "# the difference of weather is: \n",
    "26.28-25.50"
   ]
  },
  {
   "cell_type": "markdown",
   "id": "2309c3f7",
   "metadata": {},
   "source": [
    "here we see that there is an increase of weather is: ``0.78``"
   ]
  },
  {
   "cell_type": "markdown",
   "id": "e987fe42",
   "metadata": {},
   "source": [
    "# Now we are going to find the average of January 1922-1932: "
   ]
  },
  {
   "cell_type": "code",
   "execution_count": 43,
   "id": "48e9cec3",
   "metadata": {},
   "outputs": [
    {
     "data": {
      "text/plain": [
       "\"AJ\""
      ]
     },
     "execution_count": 43,
     "metadata": {},
     "output_type": "execute_result"
    }
   ],
   "source": [
    "B[1,7]"
   ]
  },
  {
   "cell_type": "code",
   "execution_count": 44,
   "id": "835082fd",
   "metadata": {},
   "outputs": [
    {
     "data": {
      "text/plain": [
       "11-element Vector{Any}:\n",
       " 14.25\n",
       " 18.43\n",
       "  5.65\n",
       " 16.78\n",
       " 21.95\n",
       " 15.18\n",
       " 24.1\n",
       "  5.5\n",
       " 15.65\n",
       " 24.43\n",
       " 27.75"
      ]
     },
     "execution_count": 44,
     "metadata": {},
     "output_type": "execute_result"
    }
   ],
   "source": [
    "B[2:12,7]# this gives the data"
   ]
  },
  {
   "cell_type": "code",
   "execution_count": 45,
   "id": "0d08e325",
   "metadata": {},
   "outputs": [
    {
     "data": {
      "text/plain": [
       "17.242727272727276"
      ]
     },
     "execution_count": 45,
     "metadata": {},
     "output_type": "execute_result"
    }
   ],
   "source": [
    "mean(B[2:12,7])"
   ]
  },
  {
   "cell_type": "markdown",
   "id": "07b84425",
   "metadata": {},
   "source": [
    "Here we see that the average for January temperature for 1922-1932 is: ``17.24``"
   ]
  },
  {
   "cell_type": "markdown",
   "id": "da8e3503",
   "metadata": {},
   "source": [
    "# Now we do this for January temperature 2012-2022: "
   ]
  },
  {
   "cell_type": "code",
   "execution_count": 46,
   "id": "1c39fba4",
   "metadata": {},
   "outputs": [
    {
     "data": {
      "text/plain": [
       "\"AJ\""
      ]
     },
     "execution_count": 46,
     "metadata": {},
     "output_type": "execute_result"
    }
   ],
   "source": [
    "C[1,7]"
   ]
  },
  {
   "cell_type": "code",
   "execution_count": 47,
   "id": "1647ab3f",
   "metadata": {},
   "outputs": [
    {
     "data": {
      "text/plain": [
       "11-element Vector{Any}:\n",
       " 23.25\n",
       " 21.175\n",
       " 11.6\n",
       " 14.48\n",
       " 15.95\n",
       " 19.18\n",
       " 15.68\n",
       " 15.95\n",
       " 25.25\n",
       " 25.8\n",
       " 15.48"
      ]
     },
     "execution_count": 47,
     "metadata": {},
     "output_type": "execute_result"
    }
   ],
   "source": [
    "C[2:12,7]"
   ]
  },
  {
   "cell_type": "code",
   "execution_count": 48,
   "id": "f5424e89",
   "metadata": {},
   "outputs": [
    {
     "data": {
      "text/plain": [
       "18.526818181818182"
      ]
     },
     "execution_count": 48,
     "metadata": {},
     "output_type": "execute_result"
    }
   ],
   "source": [
    "mean(C[2:12,7])"
   ]
  },
  {
   "cell_type": "markdown",
   "id": "306384c6",
   "metadata": {},
   "source": [
    "Here we see that the average for 2012-2022 January: ``18.53`` "
   ]
  },
  {
   "cell_type": "markdown",
   "id": "d78762c4",
   "metadata": {},
   "source": [
    "# Outcome \n",
    "\n",
    "Temperature for 1922-1932 Jan: ``17.24``\n",
    "\n",
    "Temperature for 2012-2022 Jan: ``18.53``"
   ]
  },
  {
   "cell_type": "markdown",
   "id": "332e5c41",
   "metadata": {},
   "source": [
    "There has been an increase in temperature, the difference is: "
   ]
  },
  {
   "cell_type": "code",
   "execution_count": 49,
   "id": "18218d06",
   "metadata": {},
   "outputs": [
    {
     "data": {
      "text/plain": [
       "1.2900000000000027"
      ]
     },
     "execution_count": 49,
     "metadata": {},
     "output_type": "execute_result"
    }
   ],
   "source": [
    "18.53-17.24"
   ]
  },
  {
   "cell_type": "markdown",
   "id": "1b55def4",
   "metadata": {},
   "source": [
    "Here we see that the increase of temperature is ``1.29``"
   ]
  },
  {
   "cell_type": "markdown",
   "id": "1dae7251",
   "metadata": {},
   "source": [
    "# Now we are going to graph the data of minimum of December 1922-1932, then the minimum of December 2012-2022: "
   ]
  },
  {
   "cell_type": "markdown",
   "id": "7f4d6980",
   "metadata": {},
   "source": [
    "We are going to have to select the arrays that are going to be used in order to graph: \n",
    "\n",
    "for the sake of time I am going to have all of the January with 1922-1932 "
   ]
  },
  {
   "cell_type": "code",
   "execution_count": 50,
   "id": "45050816",
   "metadata": {},
   "outputs": [],
   "source": [
    "using Plots"
   ]
  },
  {
   "cell_type": "code",
   "execution_count": 51,
   "id": "85678be9",
   "metadata": {},
   "outputs": [
    {
     "data": {
      "text/plain": [
       "11-element Vector{Any}:\n",
       " 21.18\n",
       " 22.3\n",
       " 22.34\n",
       " -0.36\n",
       " 12.91\n",
       " 14.0\n",
       " 18.36\n",
       " 16.91\n",
       " 13.73\n",
       " 31.818\n",
       " 25.18"
      ]
     },
     "execution_count": 51,
     "metadata": {},
     "output_type": "execute_result"
    }
   ],
   "source": [
    "# I am going to try to get one month of December min 1922-1932 being selected and then recorded: \n",
    "dectempmin=B[2:12,2] # this is the min of temperature, it checks out"
   ]
  },
  {
   "cell_type": "markdown",
   "id": "10f432ba",
   "metadata": {},
   "source": [
    "Now we are going to graph it: "
   ]
  },
  {
   "cell_type": "code",
   "execution_count": 52,
   "id": "c4f1a803",
   "metadata": {},
   "outputs": [
    {
     "data": {
      "image/svg+xml": [
       "<?xml version=\"1.0\" encoding=\"utf-8\"?>\n",
       "<svg xmlns=\"http://www.w3.org/2000/svg\" xmlns:xlink=\"http://www.w3.org/1999/xlink\" width=\"600\" height=\"400\" viewBox=\"0 0 2400 1600\">\n",
       "<defs>\n",
       "  <clipPath id=\"clip420\">\n",
       "    <rect x=\"0\" y=\"0\" width=\"2400\" height=\"1600\"/>\n",
       "  </clipPath>\n",
       "</defs>\n",
       "<path clip-path=\"url(#clip420)\" d=\"\n",
       "M0 1600 L2400 1600 L2400 0 L0 0  Z\n",
       "  \" fill=\"#ffffff\" fill-rule=\"evenodd\" fill-opacity=\"1\"/>\n",
       "<defs>\n",
       "  <clipPath id=\"clip421\">\n",
       "    <rect x=\"480\" y=\"0\" width=\"1681\" height=\"1600\"/>\n",
       "  </clipPath>\n",
       "</defs>\n",
       "<path clip-path=\"url(#clip420)\" d=\"\n",
       "M140.696 1486.45 L2352.76 1486.45 L2352.76 47.2441 L140.696 47.2441  Z\n",
       "  \" fill=\"#ffffff\" fill-rule=\"evenodd\" fill-opacity=\"1\"/>\n",
       "<defs>\n",
       "  <clipPath id=\"clip422\">\n",
       "    <rect x=\"140\" y=\"47\" width=\"2213\" height=\"1440\"/>\n",
       "  </clipPath>\n",
       "</defs>\n",
       "<polyline clip-path=\"url(#clip422)\" style=\"stroke:#000000; stroke-linecap:round; stroke-linejoin:round; stroke-width:2; stroke-opacity:0.1; fill:none\" points=\"\n",
       "  411.986,1486.45 411.986,47.2441 \n",
       "  \"/>\n",
       "<polyline clip-path=\"url(#clip422)\" style=\"stroke:#000000; stroke-linecap:round; stroke-linejoin:round; stroke-width:2; stroke-opacity:0.1; fill:none\" points=\"\n",
       "  829.356,1486.45 829.356,47.2441 \n",
       "  \"/>\n",
       "<polyline clip-path=\"url(#clip422)\" style=\"stroke:#000000; stroke-linecap:round; stroke-linejoin:round; stroke-width:2; stroke-opacity:0.1; fill:none\" points=\"\n",
       "  1246.73,1486.45 1246.73,47.2441 \n",
       "  \"/>\n",
       "<polyline clip-path=\"url(#clip422)\" style=\"stroke:#000000; stroke-linecap:round; stroke-linejoin:round; stroke-width:2; stroke-opacity:0.1; fill:none\" points=\"\n",
       "  1664.1,1486.45 1664.1,47.2441 \n",
       "  \"/>\n",
       "<polyline clip-path=\"url(#clip422)\" style=\"stroke:#000000; stroke-linecap:round; stroke-linejoin:round; stroke-width:2; stroke-opacity:0.1; fill:none\" points=\"\n",
       "  2081.47,1486.45 2081.47,47.2441 \n",
       "  \"/>\n",
       "<polyline clip-path=\"url(#clip420)\" style=\"stroke:#000000; stroke-linecap:round; stroke-linejoin:round; stroke-width:4; stroke-opacity:1; fill:none\" points=\"\n",
       "  140.696,1486.45 2352.76,1486.45 \n",
       "  \"/>\n",
       "<polyline clip-path=\"url(#clip420)\" style=\"stroke:#000000; stroke-linecap:round; stroke-linejoin:round; stroke-width:4; stroke-opacity:1; fill:none\" points=\"\n",
       "  411.986,1486.45 411.986,1467.55 \n",
       "  \"/>\n",
       "<polyline clip-path=\"url(#clip420)\" style=\"stroke:#000000; stroke-linecap:round; stroke-linejoin:round; stroke-width:4; stroke-opacity:1; fill:none\" points=\"\n",
       "  829.356,1486.45 829.356,1467.55 \n",
       "  \"/>\n",
       "<polyline clip-path=\"url(#clip420)\" style=\"stroke:#000000; stroke-linecap:round; stroke-linejoin:round; stroke-width:4; stroke-opacity:1; fill:none\" points=\"\n",
       "  1246.73,1486.45 1246.73,1467.55 \n",
       "  \"/>\n",
       "<polyline clip-path=\"url(#clip420)\" style=\"stroke:#000000; stroke-linecap:round; stroke-linejoin:round; stroke-width:4; stroke-opacity:1; fill:none\" points=\"\n",
       "  1664.1,1486.45 1664.1,1467.55 \n",
       "  \"/>\n",
       "<polyline clip-path=\"url(#clip420)\" style=\"stroke:#000000; stroke-linecap:round; stroke-linejoin:round; stroke-width:4; stroke-opacity:1; fill:none\" points=\"\n",
       "  2081.47,1486.45 2081.47,1467.55 \n",
       "  \"/>\n",
       "<path clip-path=\"url(#clip420)\" d=\"M406.639 1544.91 L422.958 1544.91 L422.958 1548.85 L401.014 1548.85 L401.014 1544.91 Q403.676 1542.16 408.259 1537.53 Q412.866 1532.88 414.046 1531.53 Q416.291 1529.01 417.171 1527.27 Q418.074 1525.51 418.074 1523.82 Q418.074 1521.07 416.129 1519.33 Q414.208 1517.6 411.106 1517.6 Q408.907 1517.6 406.454 1518.36 Q404.023 1519.13 401.245 1520.68 L401.245 1515.95 Q404.069 1514.82 406.523 1514.24 Q408.977 1513.66 411.014 1513.66 Q416.384 1513.66 419.579 1516.35 Q422.773 1519.03 422.773 1523.52 Q422.773 1525.65 421.963 1527.57 Q421.176 1529.47 419.069 1532.07 Q418.491 1532.74 415.389 1535.95 Q412.287 1539.15 406.639 1544.91 Z\" fill=\"#000000\" fill-rule=\"evenodd\" fill-opacity=\"1\" /><path clip-path=\"url(#clip420)\" d=\"M832.365 1518.36 L820.56 1536.81 L832.365 1536.81 L832.365 1518.36 M831.138 1514.29 L837.018 1514.29 L837.018 1536.81 L841.948 1536.81 L841.948 1540.7 L837.018 1540.7 L837.018 1548.85 L832.365 1548.85 L832.365 1540.7 L816.763 1540.7 L816.763 1536.19 L831.138 1514.29 Z\" fill=\"#000000\" fill-rule=\"evenodd\" fill-opacity=\"1\" /><path clip-path=\"url(#clip420)\" d=\"M1247.13 1529.7 Q1243.98 1529.7 1242.13 1531.86 Q1240.3 1534.01 1240.3 1537.76 Q1240.3 1541.49 1242.13 1543.66 Q1243.98 1545.82 1247.13 1545.82 Q1250.28 1545.82 1252.11 1543.66 Q1253.96 1541.49 1253.96 1537.76 Q1253.96 1534.01 1252.11 1531.86 Q1250.28 1529.7 1247.13 1529.7 M1256.41 1515.05 L1256.41 1519.31 Q1254.65 1518.48 1252.85 1518.04 Q1251.07 1517.6 1249.31 1517.6 Q1244.68 1517.6 1242.22 1520.72 Q1239.79 1523.85 1239.45 1530.17 Q1240.81 1528.15 1242.87 1527.09 Q1244.93 1526 1247.41 1526 Q1252.62 1526 1255.63 1529.17 Q1258.66 1532.32 1258.66 1537.76 Q1258.66 1543.08 1255.51 1546.3 Q1252.36 1549.52 1247.13 1549.52 Q1241.14 1549.52 1237.96 1544.94 Q1234.79 1540.33 1234.79 1531.6 Q1234.79 1523.41 1238.68 1518.55 Q1242.57 1513.66 1249.12 1513.66 Q1250.88 1513.66 1252.66 1514.01 Q1254.47 1514.36 1256.41 1515.05 Z\" fill=\"#000000\" fill-rule=\"evenodd\" fill-opacity=\"1\" /><path clip-path=\"url(#clip420)\" d=\"M1664.1 1532.44 Q1660.76 1532.44 1658.84 1534.22 Q1656.94 1536 1656.94 1539.13 Q1656.94 1542.25 1658.84 1544.03 Q1660.76 1545.82 1664.1 1545.82 Q1667.43 1545.82 1669.35 1544.03 Q1671.27 1542.23 1671.27 1539.13 Q1671.27 1536 1669.35 1534.22 Q1667.45 1532.44 1664.1 1532.44 M1659.42 1530.45 Q1656.41 1529.7 1654.72 1527.64 Q1653.05 1525.58 1653.05 1522.62 Q1653.05 1518.48 1655.99 1516.07 Q1658.96 1513.66 1664.1 1513.66 Q1669.26 1513.66 1672.2 1516.07 Q1675.14 1518.48 1675.14 1522.62 Q1675.14 1525.58 1673.45 1527.64 Q1671.78 1529.7 1668.79 1530.45 Q1672.17 1531.23 1674.05 1533.52 Q1675.95 1535.82 1675.95 1539.13 Q1675.95 1544.15 1672.87 1546.83 Q1669.81 1549.52 1664.1 1549.52 Q1658.38 1549.52 1655.3 1546.83 Q1652.24 1544.15 1652.24 1539.13 Q1652.24 1535.82 1654.14 1533.52 Q1656.04 1531.23 1659.42 1530.45 M1657.71 1523.06 Q1657.71 1525.75 1659.37 1527.25 Q1661.06 1528.76 1664.1 1528.76 Q1667.1 1528.76 1668.79 1527.25 Q1670.51 1525.75 1670.51 1523.06 Q1670.51 1520.38 1668.79 1518.87 Q1667.1 1517.37 1664.1 1517.37 Q1661.06 1517.37 1659.37 1518.87 Q1657.71 1520.38 1657.71 1523.06 Z\" fill=\"#000000\" fill-rule=\"evenodd\" fill-opacity=\"1\" /><path clip-path=\"url(#clip420)\" d=\"M2056.15 1544.91 L2063.79 1544.91 L2063.79 1518.55 L2055.48 1520.21 L2055.48 1515.95 L2063.75 1514.29 L2068.42 1514.29 L2068.42 1544.91 L2076.06 1544.91 L2076.06 1548.85 L2056.15 1548.85 L2056.15 1544.91 Z\" fill=\"#000000\" fill-rule=\"evenodd\" fill-opacity=\"1\" /><path clip-path=\"url(#clip420)\" d=\"M2095.5 1517.37 Q2091.89 1517.37 2090.06 1520.93 Q2088.26 1524.47 2088.26 1531.6 Q2088.26 1538.71 2090.06 1542.27 Q2091.89 1545.82 2095.5 1545.82 Q2099.14 1545.82 2100.94 1542.27 Q2102.77 1538.71 2102.77 1531.6 Q2102.77 1524.47 2100.94 1520.93 Q2099.14 1517.37 2095.5 1517.37 M2095.5 1513.66 Q2101.31 1513.66 2104.37 1518.27 Q2107.45 1522.85 2107.45 1531.6 Q2107.45 1540.33 2104.37 1544.94 Q2101.31 1549.52 2095.5 1549.52 Q2089.69 1549.52 2086.62 1544.94 Q2083.56 1540.33 2083.56 1531.6 Q2083.56 1522.85 2086.62 1518.27 Q2089.69 1513.66 2095.5 1513.66 Z\" fill=\"#000000\" fill-rule=\"evenodd\" fill-opacity=\"1\" /><polyline clip-path=\"url(#clip422)\" style=\"stroke:#000000; stroke-linecap:round; stroke-linejoin:round; stroke-width:2; stroke-opacity:0.1; fill:none\" points=\"\n",
       "  140.696,1430.53 2352.76,1430.53 \n",
       "  \"/>\n",
       "<polyline clip-path=\"url(#clip422)\" style=\"stroke:#000000; stroke-linecap:round; stroke-linejoin:round; stroke-width:2; stroke-opacity:0.1; fill:none\" points=\"\n",
       "  140.696,1008.58 2352.76,1008.58 \n",
       "  \"/>\n",
       "<polyline clip-path=\"url(#clip422)\" style=\"stroke:#000000; stroke-linecap:round; stroke-linejoin:round; stroke-width:2; stroke-opacity:0.1; fill:none\" points=\"\n",
       "  140.696,586.633 2352.76,586.633 \n",
       "  \"/>\n",
       "<polyline clip-path=\"url(#clip422)\" style=\"stroke:#000000; stroke-linecap:round; stroke-linejoin:round; stroke-width:2; stroke-opacity:0.1; fill:none\" points=\"\n",
       "  140.696,164.686 2352.76,164.686 \n",
       "  \"/>\n",
       "<polyline clip-path=\"url(#clip420)\" style=\"stroke:#000000; stroke-linecap:round; stroke-linejoin:round; stroke-width:4; stroke-opacity:1; fill:none\" points=\"\n",
       "  140.696,1486.45 140.696,47.2441 \n",
       "  \"/>\n",
       "<polyline clip-path=\"url(#clip420)\" style=\"stroke:#000000; stroke-linecap:round; stroke-linejoin:round; stroke-width:4; stroke-opacity:1; fill:none\" points=\"\n",
       "  140.696,1430.53 159.593,1430.53 \n",
       "  \"/>\n",
       "<polyline clip-path=\"url(#clip420)\" style=\"stroke:#000000; stroke-linecap:round; stroke-linejoin:round; stroke-width:4; stroke-opacity:1; fill:none\" points=\"\n",
       "  140.696,1008.58 159.593,1008.58 \n",
       "  \"/>\n",
       "<polyline clip-path=\"url(#clip420)\" style=\"stroke:#000000; stroke-linecap:round; stroke-linejoin:round; stroke-width:4; stroke-opacity:1; fill:none\" points=\"\n",
       "  140.696,586.633 159.593,586.633 \n",
       "  \"/>\n",
       "<polyline clip-path=\"url(#clip420)\" style=\"stroke:#000000; stroke-linecap:round; stroke-linejoin:round; stroke-width:4; stroke-opacity:1; fill:none\" points=\"\n",
       "  140.696,164.686 159.593,164.686 \n",
       "  \"/>\n",
       "<path clip-path=\"url(#clip420)\" d=\"M92.7512 1416.32 Q89.1401 1416.32 87.3114 1419.89 Q85.5058 1423.43 85.5058 1430.56 Q85.5058 1437.67 87.3114 1441.23 Q89.1401 1444.77 92.7512 1444.77 Q96.3854 1444.77 98.1909 1441.23 Q100.02 1437.67 100.02 1430.56 Q100.02 1423.43 98.1909 1419.89 Q96.3854 1416.32 92.7512 1416.32 M92.7512 1412.62 Q98.5613 1412.62 101.617 1417.23 Q104.696 1421.81 104.696 1430.56 Q104.696 1439.29 101.617 1443.89 Q98.5613 1448.48 92.7512 1448.48 Q86.941 1448.48 83.8623 1443.89 Q80.8068 1439.29 80.8068 1430.56 Q80.8068 1421.81 83.8623 1417.23 Q86.941 1412.62 92.7512 1412.62 Z\" fill=\"#000000\" fill-rule=\"evenodd\" fill-opacity=\"1\" /><path clip-path=\"url(#clip420)\" d=\"M53.3995 1021.92 L61.0384 1021.92 L61.0384 995.558 L52.7282 997.225 L52.7282 992.966 L60.9921 991.299 L65.668 991.299 L65.668 1021.92 L73.3068 1021.92 L73.3068 1025.86 L53.3995 1025.86 L53.3995 1021.92 Z\" fill=\"#000000\" fill-rule=\"evenodd\" fill-opacity=\"1\" /><path clip-path=\"url(#clip420)\" d=\"M92.7512 994.378 Q89.1401 994.378 87.3114 997.943 Q85.5058 1001.48 85.5058 1008.61 Q85.5058 1015.72 87.3114 1019.29 Q89.1401 1022.83 92.7512 1022.83 Q96.3854 1022.83 98.1909 1019.29 Q100.02 1015.72 100.02 1008.61 Q100.02 1001.48 98.1909 997.943 Q96.3854 994.378 92.7512 994.378 M92.7512 990.674 Q98.5613 990.674 101.617 995.281 Q104.696 999.864 104.696 1008.61 Q104.696 1017.34 101.617 1021.95 Q98.5613 1026.53 92.7512 1026.53 Q86.941 1026.53 83.8623 1021.95 Q80.8068 1017.34 80.8068 1008.61 Q80.8068 999.864 83.8623 995.281 Q86.941 990.674 92.7512 990.674 Z\" fill=\"#000000\" fill-rule=\"evenodd\" fill-opacity=\"1\" /><path clip-path=\"url(#clip420)\" d=\"M56.6171 599.977 L72.9365 599.977 L72.9365 603.913 L50.9921 603.913 L50.9921 599.977 Q53.6541 597.223 58.2375 592.593 Q62.8439 587.941 64.0245 586.598 Q66.2698 584.075 67.1494 582.339 Q68.0522 580.579 68.0522 578.89 Q68.0522 576.135 66.1078 574.399 Q64.1865 572.663 61.0847 572.663 Q58.8856 572.663 56.4319 573.427 Q54.0014 574.191 51.2236 575.741 L51.2236 571.019 Q54.0477 569.885 56.5014 569.306 Q58.955 568.728 60.9921 568.728 Q66.3624 568.728 69.5568 571.413 Q72.7513 574.098 72.7513 578.589 Q72.7513 580.718 71.9411 582.64 Q71.1541 584.538 69.0476 587.13 Q68.4689 587.802 65.367 591.019 Q62.2652 594.214 56.6171 599.977 Z\" fill=\"#000000\" fill-rule=\"evenodd\" fill-opacity=\"1\" /><path clip-path=\"url(#clip420)\" d=\"M92.7512 572.431 Q89.1401 572.431 87.3114 575.996 Q85.5058 579.538 85.5058 586.667 Q85.5058 593.774 87.3114 597.339 Q89.1401 600.88 92.7512 600.88 Q96.3854 600.88 98.1909 597.339 Q100.02 593.774 100.02 586.667 Q100.02 579.538 98.1909 575.996 Q96.3854 572.431 92.7512 572.431 M92.7512 568.728 Q98.5613 568.728 101.617 573.334 Q104.696 577.917 104.696 586.667 Q104.696 595.394 101.617 600.001 Q98.5613 604.584 92.7512 604.584 Q86.941 604.584 83.8623 600.001 Q80.8068 595.394 80.8068 586.667 Q80.8068 577.917 83.8623 573.334 Q86.941 568.728 92.7512 568.728 Z\" fill=\"#000000\" fill-rule=\"evenodd\" fill-opacity=\"1\" /><path clip-path=\"url(#clip420)\" d=\"M66.7559 163.332 Q70.1124 164.05 71.9874 166.318 Q73.8855 168.587 73.8855 171.92 Q73.8855 177.036 70.367 179.837 Q66.8485 182.637 60.3671 182.637 Q58.1912 182.637 55.8764 182.198 Q53.5847 181.781 51.131 180.924 L51.131 176.411 Q53.0754 177.545 55.3903 178.124 Q57.7051 178.702 60.2282 178.702 Q64.6263 178.702 66.918 176.966 Q69.2328 175.23 69.2328 171.92 Q69.2328 168.864 67.08 167.151 Q64.9504 165.415 61.131 165.415 L57.1032 165.415 L57.1032 161.573 L61.3161 161.573 Q64.7652 161.573 66.5939 160.207 Q68.4226 158.818 68.4226 156.226 Q68.4226 153.564 66.5245 152.151 Q64.6495 150.716 61.131 150.716 Q59.2097 150.716 57.0106 151.133 Q54.8115 151.55 52.1727 152.429 L52.1727 148.263 Q54.8347 147.522 57.1495 147.152 Q59.4875 146.781 61.5476 146.781 Q66.8717 146.781 69.9735 149.212 Q73.0753 151.619 73.0753 155.739 Q73.0753 158.61 71.4318 160.601 Q69.7883 162.568 66.7559 163.332 Z\" fill=\"#000000\" fill-rule=\"evenodd\" fill-opacity=\"1\" /><path clip-path=\"url(#clip420)\" d=\"M92.7512 150.485 Q89.1401 150.485 87.3114 154.05 Q85.5058 157.591 85.5058 164.721 Q85.5058 171.827 87.3114 175.392 Q89.1401 178.934 92.7512 178.934 Q96.3854 178.934 98.1909 175.392 Q100.02 171.827 100.02 164.721 Q100.02 157.591 98.1909 154.05 Q96.3854 150.485 92.7512 150.485 M92.7512 146.781 Q98.5613 146.781 101.617 151.388 Q104.696 155.971 104.696 164.721 Q104.696 173.448 101.617 178.054 Q98.5613 182.637 92.7512 182.637 Q86.941 182.637 83.8623 178.054 Q80.8068 173.448 80.8068 164.721 Q80.8068 155.971 83.8623 151.388 Q86.941 146.781 92.7512 146.781 Z\" fill=\"#000000\" fill-rule=\"evenodd\" fill-opacity=\"1\" /><polyline clip-path=\"url(#clip422)\" style=\"stroke:#009af9; stroke-linecap:round; stroke-linejoin:round; stroke-width:4; stroke-opacity:1; fill:none\" points=\"\n",
       "  203.301,536.843 411.986,489.585 620.671,487.897 829.356,1445.72 1038.04,885.793 1246.73,839.801 1455.41,655.832 1664.1,717.014 1872.78,851.193 2081.47,87.9763 \n",
       "  2290.15,368.064 \n",
       "  \"/>\n",
       "<path clip-path=\"url(#clip420)\" d=\"\n",
       "M214.431 1438.47 L1087.93 1438.47 L1087.93 1334.79 L214.431 1334.79  Z\n",
       "  \" fill=\"#ffffff\" fill-rule=\"evenodd\" fill-opacity=\"1\"/>\n",
       "<polyline clip-path=\"url(#clip420)\" style=\"stroke:#000000; stroke-linecap:round; stroke-linejoin:round; stroke-width:4; stroke-opacity:1; fill:none\" points=\"\n",
       "  214.431,1438.47 1087.93,1438.47 1087.93,1334.79 214.431,1334.79 214.431,1438.47 \n",
       "  \"/>\n",
       "<polyline clip-path=\"url(#clip420)\" style=\"stroke:#009af9; stroke-linecap:round; stroke-linejoin:round; stroke-width:4; stroke-opacity:1; fill:none\" points=\"\n",
       "  239.009,1386.63 386.48,1386.63 \n",
       "  \"/>\n",
       "<path clip-path=\"url(#clip420)\" d=\"M415.734 1373.2 L415.734 1400.07 L421.382 1400.07 Q428.535 1400.07 431.845 1396.83 Q435.179 1393.59 435.179 1386.6 Q435.179 1379.66 431.845 1376.44 Q428.535 1373.2 421.382 1373.2 L415.734 1373.2 M411.058 1369.35 L420.665 1369.35 Q430.711 1369.35 435.41 1373.54 Q440.109 1377.71 440.109 1386.6 Q440.109 1395.53 435.387 1399.72 Q430.665 1403.91 420.665 1403.91 L411.058 1403.91 L411.058 1369.35 Z\" fill=\"#000000\" fill-rule=\"evenodd\" fill-opacity=\"1\" /><path clip-path=\"url(#clip420)\" d=\"M469.554 1389.89 L469.554 1391.97 L449.97 1391.97 Q450.248 1396.37 452.609 1398.68 Q454.993 1400.97 459.23 1400.97 Q461.683 1400.97 463.975 1400.37 Q466.29 1399.77 468.558 1398.57 L468.558 1402.59 Q466.267 1403.57 463.859 1404.08 Q461.452 1404.59 458.975 1404.59 Q452.771 1404.59 449.137 1400.97 Q445.526 1397.36 445.526 1391.21 Q445.526 1384.84 448.952 1381.11 Q452.401 1377.36 458.234 1377.36 Q463.466 1377.36 466.498 1380.74 Q469.554 1384.1 469.554 1389.89 M465.294 1388.64 Q465.248 1385.14 463.327 1383.06 Q461.429 1380.97 458.28 1380.97 Q454.716 1380.97 452.563 1382.99 Q450.433 1385 450.109 1388.66 L465.294 1388.64 Z\" fill=\"#000000\" fill-rule=\"evenodd\" fill-opacity=\"1\" /><path clip-path=\"url(#clip420)\" d=\"M495.202 1378.98 L495.202 1382.97 Q493.396 1381.97 491.567 1381.48 Q489.762 1380.97 487.91 1380.97 Q483.766 1380.97 481.475 1383.61 Q479.183 1386.23 479.183 1390.97 Q479.183 1395.72 481.475 1398.36 Q483.766 1400.97 487.91 1400.97 Q489.762 1400.97 491.567 1400.49 Q493.396 1399.98 495.202 1398.98 L495.202 1402.92 Q493.419 1403.75 491.498 1404.17 Q489.6 1404.59 487.447 1404.59 Q481.591 1404.59 478.141 1400.91 Q474.692 1397.22 474.692 1390.97 Q474.692 1384.63 478.165 1381 Q481.66 1377.36 487.725 1377.36 Q489.692 1377.36 491.567 1377.78 Q493.442 1378.17 495.202 1378.98 Z\" fill=\"#000000\" fill-rule=\"evenodd\" fill-opacity=\"1\" /><path clip-path=\"url(#clip420)\" d=\"M513.072 1369.35 L542.308 1369.35 L542.308 1373.29 L530.039 1373.29 L530.039 1403.91 L525.34 1403.91 L525.34 1373.29 L513.072 1373.29 L513.072 1369.35 Z\" fill=\"#000000\" fill-rule=\"evenodd\" fill-opacity=\"1\" /><path clip-path=\"url(#clip420)\" d=\"M560.757 1389.89 L560.757 1391.97 L541.174 1391.97 Q541.451 1396.37 543.812 1398.68 Q546.197 1400.97 550.433 1400.97 Q552.886 1400.97 555.178 1400.37 Q557.493 1399.77 559.761 1398.57 L559.761 1402.59 Q557.47 1403.57 555.062 1404.08 Q552.655 1404.59 550.178 1404.59 Q543.974 1404.59 540.34 1400.97 Q536.729 1397.36 536.729 1391.21 Q536.729 1384.84 540.155 1381.11 Q543.604 1377.36 549.437 1377.36 Q554.669 1377.36 557.701 1380.74 Q560.757 1384.1 560.757 1389.89 M556.498 1388.64 Q556.451 1385.14 554.53 1383.06 Q552.632 1380.97 549.484 1380.97 Q545.919 1380.97 543.766 1382.99 Q541.636 1385 541.312 1388.66 L556.498 1388.64 Z\" fill=\"#000000\" fill-rule=\"evenodd\" fill-opacity=\"1\" /><path clip-path=\"url(#clip420)\" d=\"M587.933 1382.97 Q589.53 1380.1 591.752 1378.73 Q593.974 1377.36 596.983 1377.36 Q601.034 1377.36 603.233 1380.21 Q605.432 1383.03 605.432 1388.27 L605.432 1403.91 L601.15 1403.91 L601.15 1388.41 Q601.15 1384.68 599.831 1382.87 Q598.511 1381.07 595.803 1381.07 Q592.493 1381.07 590.571 1383.27 Q588.65 1385.47 588.65 1389.26 L588.65 1403.91 L584.368 1403.91 L584.368 1388.41 Q584.368 1384.66 583.048 1382.87 Q581.729 1381.07 578.974 1381.07 Q575.71 1381.07 573.789 1383.29 Q571.868 1385.49 571.868 1389.26 L571.868 1403.91 L567.585 1403.91 L567.585 1377.99 L571.868 1377.99 L571.868 1382.02 Q573.326 1379.63 575.363 1378.5 Q577.4 1377.36 580.201 1377.36 Q583.025 1377.36 584.993 1378.8 Q586.983 1380.23 587.933 1382.97 Z\" fill=\"#000000\" fill-rule=\"evenodd\" fill-opacity=\"1\" /><path clip-path=\"url(#clip420)\" d=\"M618.048 1400.03 L618.048 1413.78 L613.766 1413.78 L613.766 1377.99 L618.048 1377.99 L618.048 1381.92 Q619.391 1379.61 621.428 1378.5 Q623.488 1377.36 626.335 1377.36 Q631.057 1377.36 633.997 1381.11 Q636.96 1384.86 636.96 1390.97 Q636.96 1397.09 633.997 1400.84 Q631.057 1404.59 626.335 1404.59 Q623.488 1404.59 621.428 1403.47 Q619.391 1402.34 618.048 1400.03 M632.539 1390.97 Q632.539 1386.28 630.594 1383.61 Q628.673 1380.93 625.293 1380.93 Q621.914 1380.93 619.969 1383.61 Q618.048 1386.28 618.048 1390.97 Q618.048 1395.67 619.969 1398.36 Q621.914 1401.02 625.293 1401.02 Q628.673 1401.02 630.594 1398.36 Q632.539 1395.67 632.539 1390.97 Z\" fill=\"#000000\" fill-rule=\"evenodd\" fill-opacity=\"1\" /><path clip-path=\"url(#clip420)\" d=\"M666.196 1389.89 L666.196 1391.97 L646.613 1391.97 Q646.891 1396.37 649.252 1398.68 Q651.636 1400.97 655.872 1400.97 Q658.326 1400.97 660.617 1400.37 Q662.932 1399.77 665.201 1398.57 L665.201 1402.59 Q662.909 1403.57 660.502 1404.08 Q658.094 1404.59 655.617 1404.59 Q649.414 1404.59 645.779 1400.97 Q642.168 1397.36 642.168 1391.21 Q642.168 1384.84 645.594 1381.11 Q649.043 1377.36 654.877 1377.36 Q660.108 1377.36 663.14 1380.74 Q666.196 1384.1 666.196 1389.89 M661.937 1388.64 Q661.89 1385.14 659.969 1383.06 Q658.071 1380.97 654.923 1380.97 Q651.358 1380.97 649.205 1382.99 Q647.076 1385 646.752 1388.66 L661.937 1388.64 Z\" fill=\"#000000\" fill-rule=\"evenodd\" fill-opacity=\"1\" /><path clip-path=\"url(#clip420)\" d=\"M688.21 1381.97 Q687.492 1381.55 686.636 1381.37 Q685.802 1381.16 684.784 1381.16 Q681.173 1381.16 679.228 1383.52 Q677.307 1385.86 677.307 1390.26 L677.307 1403.91 L673.025 1403.91 L673.025 1377.99 L677.307 1377.99 L677.307 1382.02 Q678.65 1379.66 680.802 1378.52 Q682.955 1377.36 686.034 1377.36 Q686.474 1377.36 687.006 1377.43 Q687.538 1377.48 688.187 1377.6 L688.21 1381.97 Z\" fill=\"#000000\" fill-rule=\"evenodd\" fill-opacity=\"1\" /><path clip-path=\"url(#clip420)\" d=\"M704.46 1390.88 Q699.298 1390.88 697.307 1392.06 Q695.316 1393.24 695.316 1396.09 Q695.316 1398.36 696.798 1399.7 Q698.302 1401.02 700.872 1401.02 Q704.413 1401.02 706.543 1398.52 Q708.696 1396 708.696 1391.83 L708.696 1390.88 L704.46 1390.88 M712.955 1389.12 L712.955 1403.91 L708.696 1403.91 L708.696 1399.98 Q707.237 1402.34 705.062 1403.47 Q702.886 1404.59 699.737 1404.59 Q695.756 1404.59 693.395 1402.36 Q691.057 1400.12 691.057 1396.37 Q691.057 1391.99 693.974 1389.77 Q696.913 1387.55 702.724 1387.55 L708.696 1387.55 L708.696 1387.13 Q708.696 1384.19 706.751 1382.6 Q704.83 1380.97 701.335 1380.97 Q699.112 1380.97 697.006 1381.51 Q694.9 1382.04 692.955 1383.1 L692.955 1379.17 Q695.293 1378.27 697.492 1377.83 Q699.691 1377.36 701.775 1377.36 Q707.399 1377.36 710.177 1380.28 Q712.955 1383.2 712.955 1389.12 Z\" fill=\"#000000\" fill-rule=\"evenodd\" fill-opacity=\"1\" /><path clip-path=\"url(#clip420)\" d=\"M725.941 1370.63 L725.941 1377.99 L734.714 1377.99 L734.714 1381.3 L725.941 1381.3 L725.941 1395.37 Q725.941 1398.54 726.798 1399.45 Q727.677 1400.35 730.339 1400.35 L734.714 1400.35 L734.714 1403.91 L730.339 1403.91 Q725.409 1403.91 723.534 1402.09 Q721.659 1400.23 721.659 1395.37 L721.659 1381.3 L718.534 1381.3 L718.534 1377.99 L721.659 1377.99 L721.659 1370.63 L725.941 1370.63 Z\" fill=\"#000000\" fill-rule=\"evenodd\" fill-opacity=\"1\" /><path clip-path=\"url(#clip420)\" d=\"M739.876 1393.68 L739.876 1377.99 L744.135 1377.99 L744.135 1393.52 Q744.135 1397.2 745.571 1399.05 Q747.006 1400.88 749.876 1400.88 Q753.325 1400.88 755.316 1398.68 Q757.33 1396.48 757.33 1392.69 L757.33 1377.99 L761.589 1377.99 L761.589 1403.91 L757.33 1403.91 L757.33 1399.93 Q755.779 1402.29 753.719 1403.45 Q751.682 1404.59 748.973 1404.59 Q744.506 1404.59 742.191 1401.81 Q739.876 1399.03 739.876 1393.68 M750.594 1377.36 L750.594 1377.36 Z\" fill=\"#000000\" fill-rule=\"evenodd\" fill-opacity=\"1\" /><path clip-path=\"url(#clip420)\" d=\"M785.385 1381.97 Q784.668 1381.55 783.811 1381.37 Q782.978 1381.16 781.959 1381.16 Q778.348 1381.16 776.404 1383.52 Q774.482 1385.86 774.482 1390.26 L774.482 1403.91 L770.2 1403.91 L770.2 1377.99 L774.482 1377.99 L774.482 1382.02 Q775.825 1379.66 777.978 1378.52 Q780.131 1377.36 783.209 1377.36 Q783.649 1377.36 784.181 1377.43 Q784.714 1377.48 785.362 1377.6 L785.385 1381.97 Z\" fill=\"#000000\" fill-rule=\"evenodd\" fill-opacity=\"1\" /><path clip-path=\"url(#clip420)\" d=\"M810.987 1389.89 L810.987 1391.97 L791.404 1391.97 Q791.681 1396.37 794.043 1398.68 Q796.427 1400.97 800.663 1400.97 Q803.117 1400.97 805.408 1400.37 Q807.723 1399.77 809.992 1398.57 L809.992 1402.59 Q807.7 1403.57 805.292 1404.08 Q802.885 1404.59 800.408 1404.59 Q794.205 1404.59 790.57 1400.97 Q786.959 1397.36 786.959 1391.21 Q786.959 1384.84 790.385 1381.11 Q793.834 1377.36 799.668 1377.36 Q804.899 1377.36 807.931 1380.74 Q810.987 1384.1 810.987 1389.89 M806.728 1388.64 Q806.681 1385.14 804.76 1383.06 Q802.862 1380.97 799.714 1380.97 Q796.149 1380.97 793.996 1382.99 Q791.867 1385 791.543 1388.66 L806.728 1388.64 Z\" fill=\"#000000\" fill-rule=\"evenodd\" fill-opacity=\"1\" /><path clip-path=\"url(#clip420)\" d=\"M833.232 1369.35 L840.2 1369.35 L849.019 1392.87 L857.885 1369.35 L864.852 1369.35 L864.852 1403.91 L860.292 1403.91 L860.292 1373.57 L851.38 1397.27 L846.681 1397.27 L837.769 1373.57 L837.769 1403.91 L833.232 1403.91 L833.232 1369.35 Z\" fill=\"#000000\" fill-rule=\"evenodd\" fill-opacity=\"1\" /><path clip-path=\"url(#clip420)\" d=\"M873.95 1377.99 L878.209 1377.99 L878.209 1403.91 L873.95 1403.91 L873.95 1377.99 M873.95 1367.9 L878.209 1367.9 L878.209 1373.29 L873.95 1373.29 L873.95 1367.9 Z\" fill=\"#000000\" fill-rule=\"evenodd\" fill-opacity=\"1\" /><path clip-path=\"url(#clip420)\" d=\"M908.672 1388.27 L908.672 1403.91 L904.412 1403.91 L904.412 1388.41 Q904.412 1384.72 902.977 1382.9 Q901.542 1381.07 898.672 1381.07 Q895.223 1381.07 893.232 1383.27 Q891.241 1385.47 891.241 1389.26 L891.241 1403.91 L886.959 1403.91 L886.959 1377.99 L891.241 1377.99 L891.241 1382.02 Q892.769 1379.68 894.829 1378.52 Q896.912 1377.36 899.621 1377.36 Q904.088 1377.36 906.38 1380.14 Q908.672 1382.9 908.672 1388.27 Z\" fill=\"#000000\" fill-rule=\"evenodd\" fill-opacity=\"1\" /><path clip-path=\"url(#clip420)\" d=\"M917.167 1377.99 L921.426 1377.99 L921.426 1403.91 L917.167 1403.91 L917.167 1377.99 M917.167 1367.9 L921.426 1367.9 L921.426 1373.29 L917.167 1373.29 L917.167 1367.9 Z\" fill=\"#000000\" fill-rule=\"evenodd\" fill-opacity=\"1\" /><path clip-path=\"url(#clip420)\" d=\"M950.523 1382.97 Q952.12 1380.1 954.343 1378.73 Q956.565 1377.36 959.574 1377.36 Q963.625 1377.36 965.824 1380.21 Q968.023 1383.03 968.023 1388.27 L968.023 1403.91 L963.741 1403.91 L963.741 1388.41 Q963.741 1384.68 962.421 1382.87 Q961.102 1381.07 958.394 1381.07 Q955.083 1381.07 953.162 1383.27 Q951.241 1385.47 951.241 1389.26 L951.241 1403.91 L946.958 1403.91 L946.958 1388.41 Q946.958 1384.66 945.639 1382.87 Q944.32 1381.07 941.565 1381.07 Q938.301 1381.07 936.38 1383.29 Q934.458 1385.49 934.458 1389.26 L934.458 1403.91 L930.176 1403.91 L930.176 1377.99 L934.458 1377.99 L934.458 1382.02 Q935.917 1379.63 937.954 1378.5 Q939.991 1377.36 942.792 1377.36 Q945.616 1377.36 947.583 1378.8 Q949.574 1380.23 950.523 1382.97 Z\" fill=\"#000000\" fill-rule=\"evenodd\" fill-opacity=\"1\" /><path clip-path=\"url(#clip420)\" d=\"M976.079 1393.68 L976.079 1377.99 L980.338 1377.99 L980.338 1393.52 Q980.338 1397.2 981.773 1399.05 Q983.208 1400.88 986.079 1400.88 Q989.528 1400.88 991.518 1398.68 Q993.532 1396.48 993.532 1392.69 L993.532 1377.99 L997.791 1377.99 L997.791 1403.91 L993.532 1403.91 L993.532 1399.93 Q991.981 1402.29 989.921 1403.45 Q987.884 1404.59 985.176 1404.59 Q980.708 1404.59 978.393 1401.81 Q976.079 1399.03 976.079 1393.68 M986.796 1377.36 L986.796 1377.36 Z\" fill=\"#000000\" fill-rule=\"evenodd\" fill-opacity=\"1\" /><path clip-path=\"url(#clip420)\" d=\"M1026.75 1382.97 Q1028.35 1380.1 1030.57 1378.73 Q1032.79 1377.36 1035.8 1377.36 Q1039.85 1377.36 1042.05 1380.21 Q1044.25 1383.03 1044.25 1388.27 L1044.25 1403.91 L1039.97 1403.91 L1039.97 1388.41 Q1039.97 1384.68 1038.65 1382.87 Q1037.33 1381.07 1034.62 1381.07 Q1031.31 1381.07 1029.39 1383.27 Q1027.47 1385.47 1027.47 1389.26 L1027.47 1403.91 L1023.18 1403.91 L1023.18 1388.41 Q1023.18 1384.66 1021.87 1382.87 Q1020.55 1381.07 1017.79 1381.07 Q1014.53 1381.07 1012.61 1383.29 Q1010.68 1385.49 1010.68 1389.26 L1010.68 1403.91 L1006.4 1403.91 L1006.4 1377.99 L1010.68 1377.99 L1010.68 1382.02 Q1012.14 1379.63 1014.18 1378.5 Q1016.22 1377.36 1019.02 1377.36 Q1021.84 1377.36 1023.81 1378.8 Q1025.8 1380.23 1026.75 1382.97 Z\" fill=\"#000000\" fill-rule=\"evenodd\" fill-opacity=\"1\" /></svg>\n"
      ]
     },
     "execution_count": 52,
     "metadata": {},
     "output_type": "execute_result"
    }
   ],
   "source": [
    "plot(1:11, dectempmin, label=\"Dec Temperature Minimum \", legend=:bottomleft)"
   ]
  },
  {
   "cell_type": "markdown",
   "id": "a81f7f62",
   "metadata": {},
   "source": [
    "# Outcome:\n",
    "here we see the data from 1922-1932 average min December be graphed. \n",
    "\n",
    "# Now we are going to do this for average max temperature for December 1922-1932"
   ]
  },
  {
   "cell_type": "code",
   "execution_count": 53,
   "id": "c8b47fa0",
   "metadata": {},
   "outputs": [
    {
     "data": {
      "text/plain": [
       "11-element Vector{Any}:\n",
       " 31.81\n",
       " 32.9\n",
       " 32.9\n",
       " 14.18\n",
       " 27.91\n",
       " 27.82\n",
       " 30.55\n",
       " 31.55\n",
       " 28.0\n",
       " 38.46\n",
       " 37.09"
      ]
     },
     "execution_count": 53,
     "metadata": {},
     "output_type": "execute_result"
    }
   ],
   "source": [
    "dectempmax=B[2:12,3]"
   ]
  },
  {
   "cell_type": "code",
   "execution_count": 54,
   "id": "6e0cd801",
   "metadata": {},
   "outputs": [
    {
     "data": {
      "image/svg+xml": [
       "<?xml version=\"1.0\" encoding=\"utf-8\"?>\n",
       "<svg xmlns=\"http://www.w3.org/2000/svg\" xmlns:xlink=\"http://www.w3.org/1999/xlink\" width=\"600\" height=\"400\" viewBox=\"0 0 2400 1600\">\n",
       "<defs>\n",
       "  <clipPath id=\"clip460\">\n",
       "    <rect x=\"0\" y=\"0\" width=\"2400\" height=\"1600\"/>\n",
       "  </clipPath>\n",
       "</defs>\n",
       "<path clip-path=\"url(#clip460)\" d=\"\n",
       "M0 1600 L2400 1600 L2400 0 L0 0  Z\n",
       "  \" fill=\"#ffffff\" fill-rule=\"evenodd\" fill-opacity=\"1\"/>\n",
       "<defs>\n",
       "  <clipPath id=\"clip461\">\n",
       "    <rect x=\"480\" y=\"0\" width=\"1681\" height=\"1600\"/>\n",
       "  </clipPath>\n",
       "</defs>\n",
       "<path clip-path=\"url(#clip460)\" d=\"\n",
       "M140.696 1486.45 L2352.76 1486.45 L2352.76 47.2441 L140.696 47.2441  Z\n",
       "  \" fill=\"#ffffff\" fill-rule=\"evenodd\" fill-opacity=\"1\"/>\n",
       "<defs>\n",
       "  <clipPath id=\"clip462\">\n",
       "    <rect x=\"140\" y=\"47\" width=\"2213\" height=\"1440\"/>\n",
       "  </clipPath>\n",
       "</defs>\n",
       "<polyline clip-path=\"url(#clip462)\" style=\"stroke:#000000; stroke-linecap:round; stroke-linejoin:round; stroke-width:2; stroke-opacity:0.1; fill:none\" points=\"\n",
       "  411.986,1486.45 411.986,47.2441 \n",
       "  \"/>\n",
       "<polyline clip-path=\"url(#clip462)\" style=\"stroke:#000000; stroke-linecap:round; stroke-linejoin:round; stroke-width:2; stroke-opacity:0.1; fill:none\" points=\"\n",
       "  829.356,1486.45 829.356,47.2441 \n",
       "  \"/>\n",
       "<polyline clip-path=\"url(#clip462)\" style=\"stroke:#000000; stroke-linecap:round; stroke-linejoin:round; stroke-width:2; stroke-opacity:0.1; fill:none\" points=\"\n",
       "  1246.73,1486.45 1246.73,47.2441 \n",
       "  \"/>\n",
       "<polyline clip-path=\"url(#clip462)\" style=\"stroke:#000000; stroke-linecap:round; stroke-linejoin:round; stroke-width:2; stroke-opacity:0.1; fill:none\" points=\"\n",
       "  1664.1,1486.45 1664.1,47.2441 \n",
       "  \"/>\n",
       "<polyline clip-path=\"url(#clip462)\" style=\"stroke:#000000; stroke-linecap:round; stroke-linejoin:round; stroke-width:2; stroke-opacity:0.1; fill:none\" points=\"\n",
       "  2081.47,1486.45 2081.47,47.2441 \n",
       "  \"/>\n",
       "<polyline clip-path=\"url(#clip460)\" style=\"stroke:#000000; stroke-linecap:round; stroke-linejoin:round; stroke-width:4; stroke-opacity:1; fill:none\" points=\"\n",
       "  140.696,1486.45 2352.76,1486.45 \n",
       "  \"/>\n",
       "<polyline clip-path=\"url(#clip460)\" style=\"stroke:#000000; stroke-linecap:round; stroke-linejoin:round; stroke-width:4; stroke-opacity:1; fill:none\" points=\"\n",
       "  411.986,1486.45 411.986,1467.55 \n",
       "  \"/>\n",
       "<polyline clip-path=\"url(#clip460)\" style=\"stroke:#000000; stroke-linecap:round; stroke-linejoin:round; stroke-width:4; stroke-opacity:1; fill:none\" points=\"\n",
       "  829.356,1486.45 829.356,1467.55 \n",
       "  \"/>\n",
       "<polyline clip-path=\"url(#clip460)\" style=\"stroke:#000000; stroke-linecap:round; stroke-linejoin:round; stroke-width:4; stroke-opacity:1; fill:none\" points=\"\n",
       "  1246.73,1486.45 1246.73,1467.55 \n",
       "  \"/>\n",
       "<polyline clip-path=\"url(#clip460)\" style=\"stroke:#000000; stroke-linecap:round; stroke-linejoin:round; stroke-width:4; stroke-opacity:1; fill:none\" points=\"\n",
       "  1664.1,1486.45 1664.1,1467.55 \n",
       "  \"/>\n",
       "<polyline clip-path=\"url(#clip460)\" style=\"stroke:#000000; stroke-linecap:round; stroke-linejoin:round; stroke-width:4; stroke-opacity:1; fill:none\" points=\"\n",
       "  2081.47,1486.45 2081.47,1467.55 \n",
       "  \"/>\n",
       "<path clip-path=\"url(#clip460)\" d=\"M406.639 1544.91 L422.958 1544.91 L422.958 1548.85 L401.014 1548.85 L401.014 1544.91 Q403.676 1542.16 408.259 1537.53 Q412.866 1532.88 414.046 1531.53 Q416.291 1529.01 417.171 1527.27 Q418.074 1525.51 418.074 1523.82 Q418.074 1521.07 416.129 1519.33 Q414.208 1517.6 411.106 1517.6 Q408.907 1517.6 406.454 1518.36 Q404.023 1519.13 401.245 1520.68 L401.245 1515.95 Q404.069 1514.82 406.523 1514.24 Q408.977 1513.66 411.014 1513.66 Q416.384 1513.66 419.579 1516.35 Q422.773 1519.03 422.773 1523.52 Q422.773 1525.65 421.963 1527.57 Q421.176 1529.47 419.069 1532.07 Q418.491 1532.74 415.389 1535.95 Q412.287 1539.15 406.639 1544.91 Z\" fill=\"#000000\" fill-rule=\"evenodd\" fill-opacity=\"1\" /><path clip-path=\"url(#clip460)\" d=\"M832.365 1518.36 L820.56 1536.81 L832.365 1536.81 L832.365 1518.36 M831.138 1514.29 L837.018 1514.29 L837.018 1536.81 L841.948 1536.81 L841.948 1540.7 L837.018 1540.7 L837.018 1548.85 L832.365 1548.85 L832.365 1540.7 L816.763 1540.7 L816.763 1536.19 L831.138 1514.29 Z\" fill=\"#000000\" fill-rule=\"evenodd\" fill-opacity=\"1\" /><path clip-path=\"url(#clip460)\" d=\"M1247.13 1529.7 Q1243.98 1529.7 1242.13 1531.86 Q1240.3 1534.01 1240.3 1537.76 Q1240.3 1541.49 1242.13 1543.66 Q1243.98 1545.82 1247.13 1545.82 Q1250.28 1545.82 1252.11 1543.66 Q1253.96 1541.49 1253.96 1537.76 Q1253.96 1534.01 1252.11 1531.86 Q1250.28 1529.7 1247.13 1529.7 M1256.41 1515.05 L1256.41 1519.31 Q1254.65 1518.48 1252.85 1518.04 Q1251.07 1517.6 1249.31 1517.6 Q1244.68 1517.6 1242.22 1520.72 Q1239.79 1523.85 1239.45 1530.17 Q1240.81 1528.15 1242.87 1527.09 Q1244.93 1526 1247.41 1526 Q1252.62 1526 1255.63 1529.17 Q1258.66 1532.32 1258.66 1537.76 Q1258.66 1543.08 1255.51 1546.3 Q1252.36 1549.52 1247.13 1549.52 Q1241.14 1549.52 1237.96 1544.94 Q1234.79 1540.33 1234.79 1531.6 Q1234.79 1523.41 1238.68 1518.55 Q1242.57 1513.66 1249.12 1513.66 Q1250.88 1513.66 1252.66 1514.01 Q1254.47 1514.36 1256.41 1515.05 Z\" fill=\"#000000\" fill-rule=\"evenodd\" fill-opacity=\"1\" /><path clip-path=\"url(#clip460)\" d=\"M1664.1 1532.44 Q1660.76 1532.44 1658.84 1534.22 Q1656.94 1536 1656.94 1539.13 Q1656.94 1542.25 1658.84 1544.03 Q1660.76 1545.82 1664.1 1545.82 Q1667.43 1545.82 1669.35 1544.03 Q1671.27 1542.23 1671.27 1539.13 Q1671.27 1536 1669.35 1534.22 Q1667.45 1532.44 1664.1 1532.44 M1659.42 1530.45 Q1656.41 1529.7 1654.72 1527.64 Q1653.05 1525.58 1653.05 1522.62 Q1653.05 1518.48 1655.99 1516.07 Q1658.96 1513.66 1664.1 1513.66 Q1669.26 1513.66 1672.2 1516.07 Q1675.14 1518.48 1675.14 1522.62 Q1675.14 1525.58 1673.45 1527.64 Q1671.78 1529.7 1668.79 1530.45 Q1672.17 1531.23 1674.05 1533.52 Q1675.95 1535.82 1675.95 1539.13 Q1675.95 1544.15 1672.87 1546.83 Q1669.81 1549.52 1664.1 1549.52 Q1658.38 1549.52 1655.3 1546.83 Q1652.24 1544.15 1652.24 1539.13 Q1652.24 1535.82 1654.14 1533.52 Q1656.04 1531.23 1659.42 1530.45 M1657.71 1523.06 Q1657.71 1525.75 1659.37 1527.25 Q1661.06 1528.76 1664.1 1528.76 Q1667.1 1528.76 1668.79 1527.25 Q1670.51 1525.75 1670.51 1523.06 Q1670.51 1520.38 1668.79 1518.87 Q1667.1 1517.37 1664.1 1517.37 Q1661.06 1517.37 1659.37 1518.87 Q1657.71 1520.38 1657.71 1523.06 Z\" fill=\"#000000\" fill-rule=\"evenodd\" fill-opacity=\"1\" /><path clip-path=\"url(#clip460)\" d=\"M2056.15 1544.91 L2063.79 1544.91 L2063.79 1518.55 L2055.48 1520.21 L2055.48 1515.95 L2063.75 1514.29 L2068.42 1514.29 L2068.42 1544.91 L2076.06 1544.91 L2076.06 1548.85 L2056.15 1548.85 L2056.15 1544.91 Z\" fill=\"#000000\" fill-rule=\"evenodd\" fill-opacity=\"1\" /><path clip-path=\"url(#clip460)\" d=\"M2095.5 1517.37 Q2091.89 1517.37 2090.06 1520.93 Q2088.26 1524.47 2088.26 1531.6 Q2088.26 1538.71 2090.06 1542.27 Q2091.89 1545.82 2095.5 1545.82 Q2099.14 1545.82 2100.94 1542.27 Q2102.77 1538.71 2102.77 1531.6 Q2102.77 1524.47 2100.94 1520.93 Q2099.14 1517.37 2095.5 1517.37 M2095.5 1513.66 Q2101.31 1513.66 2104.37 1518.27 Q2107.45 1522.85 2107.45 1531.6 Q2107.45 1540.33 2104.37 1544.94 Q2101.31 1549.52 2095.5 1549.52 Q2089.69 1549.52 2086.62 1544.94 Q2083.56 1540.33 2083.56 1531.6 Q2083.56 1522.85 2086.62 1518.27 Q2089.69 1513.66 2095.5 1513.66 Z\" fill=\"#000000\" fill-rule=\"evenodd\" fill-opacity=\"1\" /><polyline clip-path=\"url(#clip462)\" style=\"stroke:#000000; stroke-linecap:round; stroke-linejoin:round; stroke-width:2; stroke-opacity:0.1; fill:none\" points=\"\n",
       "  140.696,1399.86 2352.76,1399.86 \n",
       "  \"/>\n",
       "<polyline clip-path=\"url(#clip462)\" style=\"stroke:#000000; stroke-linecap:round; stroke-linejoin:round; stroke-width:2; stroke-opacity:0.1; fill:none\" points=\"\n",
       "  140.696,1120.26 2352.76,1120.26 \n",
       "  \"/>\n",
       "<polyline clip-path=\"url(#clip462)\" style=\"stroke:#000000; stroke-linecap:round; stroke-linejoin:round; stroke-width:2; stroke-opacity:0.1; fill:none\" points=\"\n",
       "  140.696,840.66 2352.76,840.66 \n",
       "  \"/>\n",
       "<polyline clip-path=\"url(#clip462)\" style=\"stroke:#000000; stroke-linecap:round; stroke-linejoin:round; stroke-width:2; stroke-opacity:0.1; fill:none\" points=\"\n",
       "  140.696,561.06 2352.76,561.06 \n",
       "  \"/>\n",
       "<polyline clip-path=\"url(#clip462)\" style=\"stroke:#000000; stroke-linecap:round; stroke-linejoin:round; stroke-width:2; stroke-opacity:0.1; fill:none\" points=\"\n",
       "  140.696,281.46 2352.76,281.46 \n",
       "  \"/>\n",
       "<polyline clip-path=\"url(#clip460)\" style=\"stroke:#000000; stroke-linecap:round; stroke-linejoin:round; stroke-width:4; stroke-opacity:1; fill:none\" points=\"\n",
       "  140.696,1486.45 140.696,47.2441 \n",
       "  \"/>\n",
       "<polyline clip-path=\"url(#clip460)\" style=\"stroke:#000000; stroke-linecap:round; stroke-linejoin:round; stroke-width:4; stroke-opacity:1; fill:none\" points=\"\n",
       "  140.696,1399.86 159.593,1399.86 \n",
       "  \"/>\n",
       "<polyline clip-path=\"url(#clip460)\" style=\"stroke:#000000; stroke-linecap:round; stroke-linejoin:round; stroke-width:4; stroke-opacity:1; fill:none\" points=\"\n",
       "  140.696,1120.26 159.593,1120.26 \n",
       "  \"/>\n",
       "<polyline clip-path=\"url(#clip460)\" style=\"stroke:#000000; stroke-linecap:round; stroke-linejoin:round; stroke-width:4; stroke-opacity:1; fill:none\" points=\"\n",
       "  140.696,840.66 159.593,840.66 \n",
       "  \"/>\n",
       "<polyline clip-path=\"url(#clip460)\" style=\"stroke:#000000; stroke-linecap:round; stroke-linejoin:round; stroke-width:4; stroke-opacity:1; fill:none\" points=\"\n",
       "  140.696,561.06 159.593,561.06 \n",
       "  \"/>\n",
       "<polyline clip-path=\"url(#clip460)\" style=\"stroke:#000000; stroke-linecap:round; stroke-linejoin:round; stroke-width:4; stroke-opacity:1; fill:none\" points=\"\n",
       "  140.696,281.46 159.593,281.46 \n",
       "  \"/>\n",
       "<path clip-path=\"url(#clip460)\" d=\"M54.3949 1413.21 L62.0337 1413.21 L62.0337 1386.84 L53.7236 1388.51 L53.7236 1384.25 L61.9874 1382.58 L66.6633 1382.58 L66.6633 1413.21 L74.3022 1413.21 L74.3022 1417.14 L54.3949 1417.14 L54.3949 1413.21 Z\" fill=\"#000000\" fill-rule=\"evenodd\" fill-opacity=\"1\" /><path clip-path=\"url(#clip460)\" d=\"M83.7929 1382.58 L102.149 1382.58 L102.149 1386.52 L88.0753 1386.52 L88.0753 1394.99 Q89.0938 1394.64 90.1123 1394.48 Q91.1308 1394.29 92.1493 1394.29 Q97.9363 1394.29 101.316 1397.47 Q104.696 1400.64 104.696 1406.05 Q104.696 1411.63 101.223 1414.73 Q97.7511 1417.81 91.4317 1417.81 Q89.2558 1417.81 86.9873 1417.44 Q84.7419 1417.07 82.3346 1416.33 L82.3346 1411.63 Q84.4179 1412.77 86.6401 1413.32 Q88.8623 1413.88 91.3391 1413.88 Q95.3437 1413.88 97.6817 1411.77 Q100.02 1409.66 100.02 1406.05 Q100.02 1402.44 97.6817 1400.34 Q95.3437 1398.23 91.3391 1398.23 Q89.4641 1398.23 87.5892 1398.65 Q85.7373 1399.06 83.7929 1399.94 L83.7929 1382.58 Z\" fill=\"#000000\" fill-rule=\"evenodd\" fill-opacity=\"1\" /><path clip-path=\"url(#clip460)\" d=\"M56.6171 1133.61 L72.9365 1133.61 L72.9365 1137.54 L50.9921 1137.54 L50.9921 1133.61 Q53.6541 1130.85 58.2375 1126.22 Q62.8439 1121.57 64.0245 1120.23 Q66.2698 1117.7 67.1494 1115.97 Q68.0522 1114.21 68.0522 1112.52 Q68.0522 1109.76 66.1078 1108.03 Q64.1865 1106.29 61.0847 1106.29 Q58.8856 1106.29 56.4319 1107.05 Q54.0014 1107.82 51.2236 1109.37 L51.2236 1104.65 Q54.0477 1103.51 56.5014 1102.93 Q58.955 1102.36 60.9921 1102.36 Q66.3624 1102.36 69.5568 1105.04 Q72.7513 1107.73 72.7513 1112.22 Q72.7513 1114.35 71.9411 1116.27 Q71.1541 1118.17 69.0476 1120.76 Q68.4689 1121.43 65.367 1124.65 Q62.2652 1127.84 56.6171 1133.61 Z\" fill=\"#000000\" fill-rule=\"evenodd\" fill-opacity=\"1\" /><path clip-path=\"url(#clip460)\" d=\"M92.7512 1106.06 Q89.1401 1106.06 87.3114 1109.62 Q85.5058 1113.17 85.5058 1120.3 Q85.5058 1127.4 87.3114 1130.97 Q89.1401 1134.51 92.7512 1134.51 Q96.3854 1134.51 98.1909 1130.97 Q100.02 1127.4 100.02 1120.3 Q100.02 1113.17 98.1909 1109.62 Q96.3854 1106.06 92.7512 1106.06 M92.7512 1102.36 Q98.5613 1102.36 101.617 1106.96 Q104.696 1111.55 104.696 1120.3 Q104.696 1129.02 101.617 1133.63 Q98.5613 1138.21 92.7512 1138.21 Q86.941 1138.21 83.8623 1133.63 Q80.8068 1129.02 80.8068 1120.3 Q80.8068 1111.55 83.8623 1106.96 Q86.941 1102.36 92.7512 1102.36 Z\" fill=\"#000000\" fill-rule=\"evenodd\" fill-opacity=\"1\" /><path clip-path=\"url(#clip460)\" d=\"M57.6125 854.005 L73.9318 854.005 L73.9318 857.94 L51.9875 857.94 L51.9875 854.005 Q54.6495 851.251 59.2328 846.621 Q63.8393 841.968 65.0198 840.626 Q67.2652 838.103 68.1448 836.367 Q69.0476 834.607 69.0476 832.917 Q69.0476 830.163 67.1032 828.427 Q65.1819 826.691 62.08 826.691 Q59.881 826.691 57.4273 827.455 Q54.9967 828.218 52.219 829.769 L52.219 825.047 Q55.043 823.913 57.4967 823.334 Q59.9504 822.755 61.9874 822.755 Q67.3578 822.755 70.5522 825.441 Q73.7466 828.126 73.7466 832.617 Q73.7466 834.746 72.9365 836.667 Q72.1494 838.566 70.0429 841.158 Q69.4642 841.829 66.3624 845.047 Q63.2606 848.241 57.6125 854.005 Z\" fill=\"#000000\" fill-rule=\"evenodd\" fill-opacity=\"1\" /><path clip-path=\"url(#clip460)\" d=\"M83.7929 823.38 L102.149 823.38 L102.149 827.316 L88.0753 827.316 L88.0753 835.788 Q89.0938 835.441 90.1123 835.279 Q91.1308 835.093 92.1493 835.093 Q97.9363 835.093 101.316 838.265 Q104.696 841.436 104.696 846.853 Q104.696 852.431 101.223 855.533 Q97.7511 858.612 91.4317 858.612 Q89.2558 858.612 86.9873 858.241 Q84.7419 857.871 82.3346 857.13 L82.3346 852.431 Q84.4179 853.566 86.6401 854.121 Q88.8623 854.677 91.3391 854.677 Q95.3437 854.677 97.6817 852.57 Q100.02 850.464 100.02 846.853 Q100.02 843.241 97.6817 841.135 Q95.3437 839.029 91.3391 839.029 Q89.4641 839.029 87.5892 839.445 Q85.7373 839.862 83.7929 840.742 L83.7929 823.38 Z\" fill=\"#000000\" fill-rule=\"evenodd\" fill-opacity=\"1\" /><path clip-path=\"url(#clip460)\" d=\"M66.7559 559.706 Q70.1124 560.424 71.9874 562.692 Q73.8855 564.961 73.8855 568.294 Q73.8855 573.41 70.367 576.21 Q66.8485 579.011 60.3671 579.011 Q58.1912 579.011 55.8764 578.572 Q53.5847 578.155 51.131 577.298 L51.131 572.785 Q53.0754 573.919 55.3903 574.498 Q57.7051 575.076 60.2282 575.076 Q64.6263 575.076 66.918 573.34 Q69.2328 571.604 69.2328 568.294 Q69.2328 565.238 67.08 563.525 Q64.9504 561.789 61.131 561.789 L57.1032 561.789 L57.1032 557.947 L61.3161 557.947 Q64.7652 557.947 66.5939 556.581 Q68.4226 555.192 68.4226 552.6 Q68.4226 549.937 66.5245 548.525 Q64.6495 547.09 61.131 547.09 Q59.2097 547.09 57.0106 547.507 Q54.8115 547.924 52.1727 548.803 L52.1727 544.637 Q54.8347 543.896 57.1495 543.525 Q59.4875 543.155 61.5476 543.155 Q66.8717 543.155 69.9735 545.586 Q73.0753 547.993 73.0753 552.113 Q73.0753 554.984 71.4318 556.974 Q69.7883 558.942 66.7559 559.706 Z\" fill=\"#000000\" fill-rule=\"evenodd\" fill-opacity=\"1\" /><path clip-path=\"url(#clip460)\" d=\"M92.7512 546.859 Q89.1401 546.859 87.3114 550.424 Q85.5058 553.965 85.5058 561.095 Q85.5058 568.201 87.3114 571.766 Q89.1401 575.308 92.7512 575.308 Q96.3854 575.308 98.1909 571.766 Q100.02 568.201 100.02 561.095 Q100.02 553.965 98.1909 550.424 Q96.3854 546.859 92.7512 546.859 M92.7512 543.155 Q98.5613 543.155 101.617 547.762 Q104.696 552.345 104.696 561.095 Q104.696 569.822 101.617 574.428 Q98.5613 579.011 92.7512 579.011 Q86.941 579.011 83.8623 574.428 Q80.8068 569.822 80.8068 561.095 Q80.8068 552.345 83.8623 547.762 Q86.941 543.155 92.7512 543.155 Z\" fill=\"#000000\" fill-rule=\"evenodd\" fill-opacity=\"1\" /><path clip-path=\"url(#clip460)\" d=\"M67.7513 280.106 Q71.1078 280.823 72.9827 283.092 Q74.8809 285.36 74.8809 288.693 Q74.8809 293.809 71.3624 296.61 Q67.8439 299.411 61.3624 299.411 Q59.1865 299.411 56.8717 298.971 Q54.5801 298.555 52.1264 297.698 L52.1264 293.184 Q54.0708 294.318 56.3856 294.897 Q58.7004 295.476 61.2236 295.476 Q65.6217 295.476 67.9133 293.74 Q70.2281 292.004 70.2281 288.693 Q70.2281 285.638 68.0754 283.925 Q65.9457 282.189 62.1263 282.189 L58.0986 282.189 L58.0986 278.346 L62.3115 278.346 Q65.7606 278.346 67.5893 276.981 Q69.418 275.592 69.418 272.999 Q69.418 270.337 67.5198 268.925 Q65.6448 267.49 62.1263 267.49 Q60.205 267.49 58.006 267.907 Q55.8069 268.323 53.168 269.203 L53.168 265.036 Q55.8301 264.295 58.1449 263.925 Q60.4828 263.555 62.543 263.555 Q67.867 263.555 70.9689 265.985 Q74.0707 268.393 74.0707 272.513 Q74.0707 275.383 72.4272 277.374 Q70.7837 279.342 67.7513 280.106 Z\" fill=\"#000000\" fill-rule=\"evenodd\" fill-opacity=\"1\" /><path clip-path=\"url(#clip460)\" d=\"M83.7929 264.18 L102.149 264.18 L102.149 268.115 L88.0753 268.115 L88.0753 276.587 Q89.0938 276.24 90.1123 276.078 Q91.1308 275.893 92.1493 275.893 Q97.9363 275.893 101.316 279.064 Q104.696 282.235 104.696 287.652 Q104.696 293.231 101.223 296.332 Q97.7511 299.411 91.4317 299.411 Q89.2558 299.411 86.9873 299.041 Q84.7419 298.67 82.3346 297.93 L82.3346 293.231 Q84.4179 294.365 86.6401 294.92 Q88.8623 295.476 91.3391 295.476 Q95.3437 295.476 97.6817 293.369 Q100.02 291.263 100.02 287.652 Q100.02 284.041 97.6817 281.934 Q95.3437 279.828 91.3391 279.828 Q89.4641 279.828 87.5892 280.244 Q85.7373 280.661 83.7929 281.541 L83.7929 264.18 Z\" fill=\"#000000\" fill-rule=\"evenodd\" fill-opacity=\"1\" /><polyline clip-path=\"url(#clip462)\" style=\"stroke:#009af9; stroke-linecap:round; stroke-linejoin:round; stroke-width:4; stroke-opacity:1; fill:none\" points=\"\n",
       "  203.301,459.845 411.986,398.892 620.671,398.892 829.356,1445.72 1038.04,677.933 1246.73,682.966 1455.41,530.304 1664.1,474.384 1872.78,672.9 2081.47,87.9763 \n",
       "  2290.15,164.587 \n",
       "  \"/>\n",
       "<path clip-path=\"url(#clip460)\" d=\"\n",
       "M214.431 1438.47 L1175.38 1438.47 L1175.38 1334.79 L214.431 1334.79  Z\n",
       "  \" fill=\"#ffffff\" fill-rule=\"evenodd\" fill-opacity=\"1\"/>\n",
       "<polyline clip-path=\"url(#clip460)\" style=\"stroke:#000000; stroke-linecap:round; stroke-linejoin:round; stroke-width:4; stroke-opacity:1; fill:none\" points=\"\n",
       "  214.431,1438.47 1175.38,1438.47 1175.38,1334.79 214.431,1334.79 214.431,1438.47 \n",
       "  \"/>\n",
       "<polyline clip-path=\"url(#clip460)\" style=\"stroke:#009af9; stroke-linecap:round; stroke-linejoin:round; stroke-width:4; stroke-opacity:1; fill:none\" points=\"\n",
       "  239.009,1386.63 386.48,1386.63 \n",
       "  \"/>\n",
       "<path clip-path=\"url(#clip460)\" d=\"M415.734 1373.2 L415.734 1400.07 L421.382 1400.07 Q428.535 1400.07 431.845 1396.83 Q435.179 1393.59 435.179 1386.6 Q435.179 1379.66 431.845 1376.44 Q428.535 1373.2 421.382 1373.2 L415.734 1373.2 M411.058 1369.35 L420.665 1369.35 Q430.711 1369.35 435.41 1373.54 Q440.109 1377.71 440.109 1386.6 Q440.109 1395.53 435.387 1399.72 Q430.665 1403.91 420.665 1403.91 L411.058 1403.91 L411.058 1369.35 Z\" fill=\"#000000\" fill-rule=\"evenodd\" fill-opacity=\"1\" /><path clip-path=\"url(#clip460)\" d=\"M469.554 1389.89 L469.554 1391.97 L449.97 1391.97 Q450.248 1396.37 452.609 1398.68 Q454.993 1400.97 459.23 1400.97 Q461.683 1400.97 463.975 1400.37 Q466.29 1399.77 468.558 1398.57 L468.558 1402.59 Q466.267 1403.57 463.859 1404.08 Q461.452 1404.59 458.975 1404.59 Q452.771 1404.59 449.137 1400.97 Q445.526 1397.36 445.526 1391.21 Q445.526 1384.84 448.952 1381.11 Q452.401 1377.36 458.234 1377.36 Q463.466 1377.36 466.498 1380.74 Q469.554 1384.1 469.554 1389.89 M465.294 1388.64 Q465.248 1385.14 463.327 1383.06 Q461.429 1380.97 458.28 1380.97 Q454.716 1380.97 452.563 1382.99 Q450.433 1385 450.109 1388.66 L465.294 1388.64 Z\" fill=\"#000000\" fill-rule=\"evenodd\" fill-opacity=\"1\" /><path clip-path=\"url(#clip460)\" d=\"M495.202 1378.98 L495.202 1382.97 Q493.396 1381.97 491.567 1381.48 Q489.762 1380.97 487.91 1380.97 Q483.766 1380.97 481.475 1383.61 Q479.183 1386.23 479.183 1390.97 Q479.183 1395.72 481.475 1398.36 Q483.766 1400.97 487.91 1400.97 Q489.762 1400.97 491.567 1400.49 Q493.396 1399.98 495.202 1398.98 L495.202 1402.92 Q493.419 1403.75 491.498 1404.17 Q489.6 1404.59 487.447 1404.59 Q481.591 1404.59 478.141 1400.91 Q474.692 1397.22 474.692 1390.97 Q474.692 1384.63 478.165 1381 Q481.66 1377.36 487.725 1377.36 Q489.692 1377.36 491.567 1377.78 Q493.442 1378.17 495.202 1378.98 Z\" fill=\"#000000\" fill-rule=\"evenodd\" fill-opacity=\"1\" /><path clip-path=\"url(#clip460)\" d=\"M513.072 1369.35 L542.308 1369.35 L542.308 1373.29 L530.039 1373.29 L530.039 1403.91 L525.34 1403.91 L525.34 1373.29 L513.072 1373.29 L513.072 1369.35 Z\" fill=\"#000000\" fill-rule=\"evenodd\" fill-opacity=\"1\" /><path clip-path=\"url(#clip460)\" d=\"M560.757 1389.89 L560.757 1391.97 L541.174 1391.97 Q541.451 1396.37 543.812 1398.68 Q546.197 1400.97 550.433 1400.97 Q552.886 1400.97 555.178 1400.37 Q557.493 1399.77 559.761 1398.57 L559.761 1402.59 Q557.47 1403.57 555.062 1404.08 Q552.655 1404.59 550.178 1404.59 Q543.974 1404.59 540.34 1400.97 Q536.729 1397.36 536.729 1391.21 Q536.729 1384.84 540.155 1381.11 Q543.604 1377.36 549.437 1377.36 Q554.669 1377.36 557.701 1380.74 Q560.757 1384.1 560.757 1389.89 M556.498 1388.64 Q556.451 1385.14 554.53 1383.06 Q552.632 1380.97 549.484 1380.97 Q545.919 1380.97 543.766 1382.99 Q541.636 1385 541.312 1388.66 L556.498 1388.64 Z\" fill=\"#000000\" fill-rule=\"evenodd\" fill-opacity=\"1\" /><path clip-path=\"url(#clip460)\" d=\"M587.933 1382.97 Q589.53 1380.1 591.752 1378.73 Q593.974 1377.36 596.983 1377.36 Q601.034 1377.36 603.233 1380.21 Q605.432 1383.03 605.432 1388.27 L605.432 1403.91 L601.15 1403.91 L601.15 1388.41 Q601.15 1384.68 599.831 1382.87 Q598.511 1381.07 595.803 1381.07 Q592.493 1381.07 590.571 1383.27 Q588.65 1385.47 588.65 1389.26 L588.65 1403.91 L584.368 1403.91 L584.368 1388.41 Q584.368 1384.66 583.048 1382.87 Q581.729 1381.07 578.974 1381.07 Q575.71 1381.07 573.789 1383.29 Q571.868 1385.49 571.868 1389.26 L571.868 1403.91 L567.585 1403.91 L567.585 1377.99 L571.868 1377.99 L571.868 1382.02 Q573.326 1379.63 575.363 1378.5 Q577.4 1377.36 580.201 1377.36 Q583.025 1377.36 584.993 1378.8 Q586.983 1380.23 587.933 1382.97 Z\" fill=\"#000000\" fill-rule=\"evenodd\" fill-opacity=\"1\" /><path clip-path=\"url(#clip460)\" d=\"M618.048 1400.03 L618.048 1413.78 L613.766 1413.78 L613.766 1377.99 L618.048 1377.99 L618.048 1381.92 Q619.391 1379.61 621.428 1378.5 Q623.488 1377.36 626.335 1377.36 Q631.057 1377.36 633.997 1381.11 Q636.96 1384.86 636.96 1390.97 Q636.96 1397.09 633.997 1400.84 Q631.057 1404.59 626.335 1404.59 Q623.488 1404.59 621.428 1403.47 Q619.391 1402.34 618.048 1400.03 M632.539 1390.97 Q632.539 1386.28 630.594 1383.61 Q628.673 1380.93 625.293 1380.93 Q621.914 1380.93 619.969 1383.61 Q618.048 1386.28 618.048 1390.97 Q618.048 1395.67 619.969 1398.36 Q621.914 1401.02 625.293 1401.02 Q628.673 1401.02 630.594 1398.36 Q632.539 1395.67 632.539 1390.97 Z\" fill=\"#000000\" fill-rule=\"evenodd\" fill-opacity=\"1\" /><path clip-path=\"url(#clip460)\" d=\"M666.196 1389.89 L666.196 1391.97 L646.613 1391.97 Q646.891 1396.37 649.252 1398.68 Q651.636 1400.97 655.872 1400.97 Q658.326 1400.97 660.617 1400.37 Q662.932 1399.77 665.201 1398.57 L665.201 1402.59 Q662.909 1403.57 660.502 1404.08 Q658.094 1404.59 655.617 1404.59 Q649.414 1404.59 645.779 1400.97 Q642.168 1397.36 642.168 1391.21 Q642.168 1384.84 645.594 1381.11 Q649.043 1377.36 654.877 1377.36 Q660.108 1377.36 663.14 1380.74 Q666.196 1384.1 666.196 1389.89 M661.937 1388.64 Q661.89 1385.14 659.969 1383.06 Q658.071 1380.97 654.923 1380.97 Q651.358 1380.97 649.205 1382.99 Q647.076 1385 646.752 1388.66 L661.937 1388.64 Z\" fill=\"#000000\" fill-rule=\"evenodd\" fill-opacity=\"1\" /><path clip-path=\"url(#clip460)\" d=\"M688.21 1381.97 Q687.492 1381.55 686.636 1381.37 Q685.802 1381.16 684.784 1381.16 Q681.173 1381.16 679.228 1383.52 Q677.307 1385.86 677.307 1390.26 L677.307 1403.91 L673.025 1403.91 L673.025 1377.99 L677.307 1377.99 L677.307 1382.02 Q678.65 1379.66 680.802 1378.52 Q682.955 1377.36 686.034 1377.36 Q686.474 1377.36 687.006 1377.43 Q687.538 1377.48 688.187 1377.6 L688.21 1381.97 Z\" fill=\"#000000\" fill-rule=\"evenodd\" fill-opacity=\"1\" /><path clip-path=\"url(#clip460)\" d=\"M704.46 1390.88 Q699.298 1390.88 697.307 1392.06 Q695.316 1393.24 695.316 1396.09 Q695.316 1398.36 696.798 1399.7 Q698.302 1401.02 700.872 1401.02 Q704.413 1401.02 706.543 1398.52 Q708.696 1396 708.696 1391.83 L708.696 1390.88 L704.46 1390.88 M712.955 1389.12 L712.955 1403.91 L708.696 1403.91 L708.696 1399.98 Q707.237 1402.34 705.062 1403.47 Q702.886 1404.59 699.737 1404.59 Q695.756 1404.59 693.395 1402.36 Q691.057 1400.12 691.057 1396.37 Q691.057 1391.99 693.974 1389.77 Q696.913 1387.55 702.724 1387.55 L708.696 1387.55 L708.696 1387.13 Q708.696 1384.19 706.751 1382.6 Q704.83 1380.97 701.335 1380.97 Q699.112 1380.97 697.006 1381.51 Q694.9 1382.04 692.955 1383.1 L692.955 1379.17 Q695.293 1378.27 697.492 1377.83 Q699.691 1377.36 701.775 1377.36 Q707.399 1377.36 710.177 1380.28 Q712.955 1383.2 712.955 1389.12 Z\" fill=\"#000000\" fill-rule=\"evenodd\" fill-opacity=\"1\" /><path clip-path=\"url(#clip460)\" d=\"M725.941 1370.63 L725.941 1377.99 L734.714 1377.99 L734.714 1381.3 L725.941 1381.3 L725.941 1395.37 Q725.941 1398.54 726.798 1399.45 Q727.677 1400.35 730.339 1400.35 L734.714 1400.35 L734.714 1403.91 L730.339 1403.91 Q725.409 1403.91 723.534 1402.09 Q721.659 1400.23 721.659 1395.37 L721.659 1381.3 L718.534 1381.3 L718.534 1377.99 L721.659 1377.99 L721.659 1370.63 L725.941 1370.63 Z\" fill=\"#000000\" fill-rule=\"evenodd\" fill-opacity=\"1\" /><path clip-path=\"url(#clip460)\" d=\"M739.876 1393.68 L739.876 1377.99 L744.135 1377.99 L744.135 1393.52 Q744.135 1397.2 745.571 1399.05 Q747.006 1400.88 749.876 1400.88 Q753.325 1400.88 755.316 1398.68 Q757.33 1396.48 757.33 1392.69 L757.33 1377.99 L761.589 1377.99 L761.589 1403.91 L757.33 1403.91 L757.33 1399.93 Q755.779 1402.29 753.719 1403.45 Q751.682 1404.59 748.973 1404.59 Q744.506 1404.59 742.191 1401.81 Q739.876 1399.03 739.876 1393.68 M750.594 1377.36 L750.594 1377.36 Z\" fill=\"#000000\" fill-rule=\"evenodd\" fill-opacity=\"1\" /><path clip-path=\"url(#clip460)\" d=\"M785.385 1381.97 Q784.668 1381.55 783.811 1381.37 Q782.978 1381.16 781.959 1381.16 Q778.348 1381.16 776.404 1383.52 Q774.482 1385.86 774.482 1390.26 L774.482 1403.91 L770.2 1403.91 L770.2 1377.99 L774.482 1377.99 L774.482 1382.02 Q775.825 1379.66 777.978 1378.52 Q780.131 1377.36 783.209 1377.36 Q783.649 1377.36 784.181 1377.43 Q784.714 1377.48 785.362 1377.6 L785.385 1381.97 Z\" fill=\"#000000\" fill-rule=\"evenodd\" fill-opacity=\"1\" /><path clip-path=\"url(#clip460)\" d=\"M810.987 1389.89 L810.987 1391.97 L791.404 1391.97 Q791.681 1396.37 794.043 1398.68 Q796.427 1400.97 800.663 1400.97 Q803.117 1400.97 805.408 1400.37 Q807.723 1399.77 809.992 1398.57 L809.992 1402.59 Q807.7 1403.57 805.292 1404.08 Q802.885 1404.59 800.408 1404.59 Q794.205 1404.59 790.57 1400.97 Q786.959 1397.36 786.959 1391.21 Q786.959 1384.84 790.385 1381.11 Q793.834 1377.36 799.668 1377.36 Q804.899 1377.36 807.931 1380.74 Q810.987 1384.1 810.987 1389.89 M806.728 1388.64 Q806.681 1385.14 804.76 1383.06 Q802.862 1380.97 799.714 1380.97 Q796.149 1380.97 793.996 1382.99 Q791.867 1385 791.543 1388.66 L806.728 1388.64 Z\" fill=\"#000000\" fill-rule=\"evenodd\" fill-opacity=\"1\" /><path clip-path=\"url(#clip460)\" d=\"M844.829 1390.88 Q839.667 1390.88 837.677 1392.06 Q835.686 1393.24 835.686 1396.09 Q835.686 1398.36 837.167 1399.7 Q838.672 1401.02 841.241 1401.02 Q844.783 1401.02 846.913 1398.52 Q849.065 1396 849.065 1391.83 L849.065 1390.88 L844.829 1390.88 M853.325 1389.12 L853.325 1403.91 L849.065 1403.91 L849.065 1399.98 Q847.607 1402.34 845.431 1403.47 Q843.255 1404.59 840.107 1404.59 Q836.126 1404.59 833.765 1402.36 Q831.427 1400.12 831.427 1396.37 Q831.427 1391.99 834.343 1389.77 Q837.283 1387.55 843.093 1387.55 L849.065 1387.55 L849.065 1387.13 Q849.065 1384.19 847.121 1382.6 Q845.2 1380.97 841.704 1380.97 Q839.482 1380.97 837.376 1381.51 Q835.269 1382.04 833.325 1383.1 L833.325 1379.17 Q835.663 1378.27 837.862 1377.83 Q840.061 1377.36 842.144 1377.36 Q847.769 1377.36 850.547 1380.28 Q853.325 1383.2 853.325 1389.12 Z\" fill=\"#000000\" fill-rule=\"evenodd\" fill-opacity=\"1\" /><path clip-path=\"url(#clip460)\" d=\"M859.042 1377.99 L863.556 1377.99 L871.658 1399.75 L879.76 1377.99 L884.274 1377.99 L874.551 1403.91 L868.764 1403.91 L859.042 1377.99 Z\" fill=\"#000000\" fill-rule=\"evenodd\" fill-opacity=\"1\" /><path clip-path=\"url(#clip460)\" d=\"M912.329 1389.89 L912.329 1391.97 L892.746 1391.97 Q893.023 1396.37 895.385 1398.68 Q897.769 1400.97 902.005 1400.97 Q904.459 1400.97 906.75 1400.37 Q909.065 1399.77 911.334 1398.57 L911.334 1402.59 Q909.042 1403.57 906.635 1404.08 Q904.227 1404.59 901.75 1404.59 Q895.547 1404.59 891.912 1400.97 Q888.301 1397.36 888.301 1391.21 Q888.301 1384.84 891.727 1381.11 Q895.176 1377.36 901.01 1377.36 Q906.241 1377.36 909.273 1380.74 Q912.329 1384.1 912.329 1389.89 M908.07 1388.64 Q908.023 1385.14 906.102 1383.06 Q904.204 1380.97 901.056 1380.97 Q897.491 1380.97 895.338 1382.99 Q893.209 1385 892.885 1388.66 L908.07 1388.64 Z\" fill=\"#000000\" fill-rule=\"evenodd\" fill-opacity=\"1\" /><path clip-path=\"url(#clip460)\" d=\"M934.343 1381.97 Q933.625 1381.55 932.769 1381.37 Q931.935 1381.16 930.917 1381.16 Q927.306 1381.16 925.361 1383.52 Q923.44 1385.86 923.44 1390.26 L923.44 1403.91 L919.158 1403.91 L919.158 1377.99 L923.44 1377.99 L923.44 1382.02 Q924.783 1379.66 926.935 1378.52 Q929.088 1377.36 932.167 1377.36 Q932.607 1377.36 933.139 1377.43 Q933.671 1377.48 934.32 1377.6 L934.343 1381.97 Z\" fill=\"#000000\" fill-rule=\"evenodd\" fill-opacity=\"1\" /><path clip-path=\"url(#clip460)\" d=\"M950.593 1390.88 Q945.431 1390.88 943.44 1392.06 Q941.449 1393.24 941.449 1396.09 Q941.449 1398.36 942.931 1399.7 Q944.435 1401.02 947.005 1401.02 Q950.546 1401.02 952.676 1398.52 Q954.829 1396 954.829 1391.83 L954.829 1390.88 L950.593 1390.88 M959.088 1389.12 L959.088 1403.91 L954.829 1403.91 L954.829 1399.98 Q953.37 1402.34 951.194 1403.47 Q949.019 1404.59 945.87 1404.59 Q941.889 1404.59 939.528 1402.36 Q937.19 1400.12 937.19 1396.37 Q937.19 1391.99 940.107 1389.77 Q943.046 1387.55 948.857 1387.55 L954.829 1387.55 L954.829 1387.13 Q954.829 1384.19 952.884 1382.6 Q950.963 1380.97 947.468 1380.97 Q945.245 1380.97 943.139 1381.51 Q941.032 1382.04 939.088 1383.1 L939.088 1379.17 Q941.426 1378.27 943.625 1377.83 Q945.824 1377.36 947.907 1377.36 Q953.532 1377.36 956.31 1380.28 Q959.088 1383.2 959.088 1389.12 Z\" fill=\"#000000\" fill-rule=\"evenodd\" fill-opacity=\"1\" /><path clip-path=\"url(#clip460)\" d=\"M984.921 1390.65 Q984.921 1386.02 983 1383.47 Q981.102 1380.93 977.653 1380.93 Q974.227 1380.93 972.305 1383.47 Q970.407 1386.02 970.407 1390.65 Q970.407 1395.26 972.305 1397.8 Q974.227 1400.35 977.653 1400.35 Q981.102 1400.35 983 1397.8 Q984.921 1395.26 984.921 1390.65 M989.18 1400.7 Q989.18 1407.32 986.241 1410.53 Q983.301 1413.78 977.236 1413.78 Q974.991 1413.78 973 1413.43 Q971.009 1413.1 969.134 1412.41 L969.134 1408.27 Q971.009 1409.28 972.838 1409.77 Q974.667 1410.26 976.565 1410.26 Q980.754 1410.26 982.838 1408.06 Q984.921 1405.88 984.921 1401.46 L984.921 1399.35 Q983.602 1401.65 981.542 1402.78 Q979.481 1403.91 976.611 1403.91 Q971.843 1403.91 968.926 1400.28 Q966.009 1396.65 966.009 1390.65 Q966.009 1384.63 968.926 1381 Q971.843 1377.36 976.611 1377.36 Q979.481 1377.36 981.542 1378.5 Q983.602 1379.63 984.921 1381.92 L984.921 1377.99 L989.18 1377.99 L989.18 1400.7 Z\" fill=\"#000000\" fill-rule=\"evenodd\" fill-opacity=\"1\" /><path clip-path=\"url(#clip460)\" d=\"M1020.13 1389.89 L1020.13 1391.97 L1000.55 1391.97 Q1000.82 1396.37 1003.18 1398.68 Q1005.57 1400.97 1009.81 1400.97 Q1012.26 1400.97 1014.55 1400.37 Q1016.87 1399.77 1019.13 1398.57 L1019.13 1402.59 Q1016.84 1403.57 1014.43 1404.08 Q1012.03 1404.59 1009.55 1404.59 Q1003.35 1404.59 999.713 1400.97 Q996.102 1397.36 996.102 1391.21 Q996.102 1384.84 999.528 1381.11 Q1002.98 1377.36 1008.81 1377.36 Q1014.04 1377.36 1017.07 1380.74 Q1020.13 1384.1 1020.13 1389.89 M1015.87 1388.64 Q1015.82 1385.14 1013.9 1383.06 Q1012 1380.97 1008.86 1380.97 Q1005.29 1380.97 1003.14 1382.99 Q1001.01 1385 1000.68 1388.66 L1015.87 1388.64 Z\" fill=\"#000000\" fill-rule=\"evenodd\" fill-opacity=\"1\" /><path clip-path=\"url(#clip460)\" d=\"M1042.37 1369.35 L1049.34 1369.35 L1058.16 1392.87 L1067.03 1369.35 L1073.99 1369.35 L1073.99 1403.91 L1069.43 1403.91 L1069.43 1373.57 L1060.52 1397.27 L1055.82 1397.27 L1046.91 1373.57 L1046.91 1403.91 L1042.37 1403.91 L1042.37 1369.35 Z\" fill=\"#000000\" fill-rule=\"evenodd\" fill-opacity=\"1\" /><path clip-path=\"url(#clip460)\" d=\"M1094.87 1390.88 Q1089.71 1390.88 1087.72 1392.06 Q1085.73 1393.24 1085.73 1396.09 Q1085.73 1398.36 1087.21 1399.7 Q1088.72 1401.02 1091.29 1401.02 Q1094.83 1401.02 1096.96 1398.52 Q1099.11 1396 1099.11 1391.83 L1099.11 1390.88 L1094.87 1390.88 M1103.37 1389.12 L1103.37 1403.91 L1099.11 1403.91 L1099.11 1399.98 Q1097.65 1402.34 1095.48 1403.47 Q1093.3 1404.59 1090.15 1404.59 Q1086.17 1404.59 1083.81 1402.36 Q1081.47 1400.12 1081.47 1396.37 Q1081.47 1391.99 1084.39 1389.77 Q1087.33 1387.55 1093.14 1387.55 L1099.11 1387.55 L1099.11 1387.13 Q1099.11 1384.19 1097.17 1382.6 Q1095.24 1380.97 1091.75 1380.97 Q1089.53 1380.97 1087.42 1381.51 Q1085.31 1382.04 1083.37 1383.1 L1083.37 1379.17 Q1085.71 1378.27 1087.91 1377.83 Q1090.11 1377.36 1092.19 1377.36 Q1097.81 1377.36 1100.59 1380.28 Q1103.37 1383.2 1103.37 1389.12 Z\" fill=\"#000000\" fill-rule=\"evenodd\" fill-opacity=\"1\" /><path clip-path=\"url(#clip460)\" d=\"M1133.69 1377.99 L1124.32 1390.6 L1134.18 1403.91 L1129.16 1403.91 L1121.61 1393.73 L1114.06 1403.91 L1109.04 1403.91 L1119.11 1390.35 L1109.9 1377.99 L1114.92 1377.99 L1121.8 1387.22 L1128.67 1377.99 L1133.69 1377.99 Z\" fill=\"#000000\" fill-rule=\"evenodd\" fill-opacity=\"1\" /></svg>\n"
      ]
     },
     "execution_count": 54,
     "metadata": {},
     "output_type": "execute_result"
    }
   ],
   "source": [
    "plot(1:11, dectempmax, label=\"Dec Temperature average Max \", legend=:bottomleft)"
   ]
  },
  {
   "cell_type": "markdown",
   "id": "16c73d2a",
   "metadata": {},
   "source": [
    "# Now Average December temperature: "
   ]
  },
  {
   "cell_type": "code",
   "execution_count": 55,
   "id": "4d462c7e",
   "metadata": {},
   "outputs": [
    {
     "data": {
      "text/plain": [
       "11-element Vector{Any}:\n",
       " 31.81\n",
       " 32.9\n",
       " 32.9\n",
       " 14.18\n",
       " 27.91\n",
       " 27.82\n",
       " 30.55\n",
       " 31.55\n",
       " 28.0\n",
       " 38.46\n",
       " 37.09"
      ]
     },
     "execution_count": 55,
     "metadata": {},
     "output_type": "execute_result"
    }
   ],
   "source": [
    "dectempaverage=B[2:12,3]"
   ]
  },
  {
   "cell_type": "code",
   "execution_count": 56,
   "id": "a4961f4a",
   "metadata": {},
   "outputs": [
    {
     "data": {
      "image/svg+xml": [
       "<?xml version=\"1.0\" encoding=\"utf-8\"?>\n",
       "<svg xmlns=\"http://www.w3.org/2000/svg\" xmlns:xlink=\"http://www.w3.org/1999/xlink\" width=\"600\" height=\"400\" viewBox=\"0 0 2400 1600\">\n",
       "<defs>\n",
       "  <clipPath id=\"clip500\">\n",
       "    <rect x=\"0\" y=\"0\" width=\"2400\" height=\"1600\"/>\n",
       "  </clipPath>\n",
       "</defs>\n",
       "<path clip-path=\"url(#clip500)\" d=\"\n",
       "M0 1600 L2400 1600 L2400 0 L0 0  Z\n",
       "  \" fill=\"#ffffff\" fill-rule=\"evenodd\" fill-opacity=\"1\"/>\n",
       "<defs>\n",
       "  <clipPath id=\"clip501\">\n",
       "    <rect x=\"480\" y=\"0\" width=\"1681\" height=\"1600\"/>\n",
       "  </clipPath>\n",
       "</defs>\n",
       "<path clip-path=\"url(#clip500)\" d=\"\n",
       "M140.696 1486.45 L2352.76 1486.45 L2352.76 47.2441 L140.696 47.2441  Z\n",
       "  \" fill=\"#ffffff\" fill-rule=\"evenodd\" fill-opacity=\"1\"/>\n",
       "<defs>\n",
       "  <clipPath id=\"clip502\">\n",
       "    <rect x=\"140\" y=\"47\" width=\"2213\" height=\"1440\"/>\n",
       "  </clipPath>\n",
       "</defs>\n",
       "<polyline clip-path=\"url(#clip502)\" style=\"stroke:#000000; stroke-linecap:round; stroke-linejoin:round; stroke-width:2; stroke-opacity:0.1; fill:none\" points=\"\n",
       "  411.986,1486.45 411.986,47.2441 \n",
       "  \"/>\n",
       "<polyline clip-path=\"url(#clip502)\" style=\"stroke:#000000; stroke-linecap:round; stroke-linejoin:round; stroke-width:2; stroke-opacity:0.1; fill:none\" points=\"\n",
       "  829.356,1486.45 829.356,47.2441 \n",
       "  \"/>\n",
       "<polyline clip-path=\"url(#clip502)\" style=\"stroke:#000000; stroke-linecap:round; stroke-linejoin:round; stroke-width:2; stroke-opacity:0.1; fill:none\" points=\"\n",
       "  1246.73,1486.45 1246.73,47.2441 \n",
       "  \"/>\n",
       "<polyline clip-path=\"url(#clip502)\" style=\"stroke:#000000; stroke-linecap:round; stroke-linejoin:round; stroke-width:2; stroke-opacity:0.1; fill:none\" points=\"\n",
       "  1664.1,1486.45 1664.1,47.2441 \n",
       "  \"/>\n",
       "<polyline clip-path=\"url(#clip502)\" style=\"stroke:#000000; stroke-linecap:round; stroke-linejoin:round; stroke-width:2; stroke-opacity:0.1; fill:none\" points=\"\n",
       "  2081.47,1486.45 2081.47,47.2441 \n",
       "  \"/>\n",
       "<polyline clip-path=\"url(#clip500)\" style=\"stroke:#000000; stroke-linecap:round; stroke-linejoin:round; stroke-width:4; stroke-opacity:1; fill:none\" points=\"\n",
       "  140.696,1486.45 2352.76,1486.45 \n",
       "  \"/>\n",
       "<polyline clip-path=\"url(#clip500)\" style=\"stroke:#000000; stroke-linecap:round; stroke-linejoin:round; stroke-width:4; stroke-opacity:1; fill:none\" points=\"\n",
       "  411.986,1486.45 411.986,1467.55 \n",
       "  \"/>\n",
       "<polyline clip-path=\"url(#clip500)\" style=\"stroke:#000000; stroke-linecap:round; stroke-linejoin:round; stroke-width:4; stroke-opacity:1; fill:none\" points=\"\n",
       "  829.356,1486.45 829.356,1467.55 \n",
       "  \"/>\n",
       "<polyline clip-path=\"url(#clip500)\" style=\"stroke:#000000; stroke-linecap:round; stroke-linejoin:round; stroke-width:4; stroke-opacity:1; fill:none\" points=\"\n",
       "  1246.73,1486.45 1246.73,1467.55 \n",
       "  \"/>\n",
       "<polyline clip-path=\"url(#clip500)\" style=\"stroke:#000000; stroke-linecap:round; stroke-linejoin:round; stroke-width:4; stroke-opacity:1; fill:none\" points=\"\n",
       "  1664.1,1486.45 1664.1,1467.55 \n",
       "  \"/>\n",
       "<polyline clip-path=\"url(#clip500)\" style=\"stroke:#000000; stroke-linecap:round; stroke-linejoin:round; stroke-width:4; stroke-opacity:1; fill:none\" points=\"\n",
       "  2081.47,1486.45 2081.47,1467.55 \n",
       "  \"/>\n",
       "<path clip-path=\"url(#clip500)\" d=\"M406.639 1544.91 L422.958 1544.91 L422.958 1548.85 L401.014 1548.85 L401.014 1544.91 Q403.676 1542.16 408.259 1537.53 Q412.866 1532.88 414.046 1531.53 Q416.291 1529.01 417.171 1527.27 Q418.074 1525.51 418.074 1523.82 Q418.074 1521.07 416.129 1519.33 Q414.208 1517.6 411.106 1517.6 Q408.907 1517.6 406.454 1518.36 Q404.023 1519.13 401.245 1520.68 L401.245 1515.95 Q404.069 1514.82 406.523 1514.24 Q408.977 1513.66 411.014 1513.66 Q416.384 1513.66 419.579 1516.35 Q422.773 1519.03 422.773 1523.52 Q422.773 1525.65 421.963 1527.57 Q421.176 1529.47 419.069 1532.07 Q418.491 1532.74 415.389 1535.95 Q412.287 1539.15 406.639 1544.91 Z\" fill=\"#000000\" fill-rule=\"evenodd\" fill-opacity=\"1\" /><path clip-path=\"url(#clip500)\" d=\"M832.365 1518.36 L820.56 1536.81 L832.365 1536.81 L832.365 1518.36 M831.138 1514.29 L837.018 1514.29 L837.018 1536.81 L841.948 1536.81 L841.948 1540.7 L837.018 1540.7 L837.018 1548.85 L832.365 1548.85 L832.365 1540.7 L816.763 1540.7 L816.763 1536.19 L831.138 1514.29 Z\" fill=\"#000000\" fill-rule=\"evenodd\" fill-opacity=\"1\" /><path clip-path=\"url(#clip500)\" d=\"M1247.13 1529.7 Q1243.98 1529.7 1242.13 1531.86 Q1240.3 1534.01 1240.3 1537.76 Q1240.3 1541.49 1242.13 1543.66 Q1243.98 1545.82 1247.13 1545.82 Q1250.28 1545.82 1252.11 1543.66 Q1253.96 1541.49 1253.96 1537.76 Q1253.96 1534.01 1252.11 1531.86 Q1250.28 1529.7 1247.13 1529.7 M1256.41 1515.05 L1256.41 1519.31 Q1254.65 1518.48 1252.85 1518.04 Q1251.07 1517.6 1249.31 1517.6 Q1244.68 1517.6 1242.22 1520.72 Q1239.79 1523.85 1239.45 1530.17 Q1240.81 1528.15 1242.87 1527.09 Q1244.93 1526 1247.41 1526 Q1252.62 1526 1255.63 1529.17 Q1258.66 1532.32 1258.66 1537.76 Q1258.66 1543.08 1255.51 1546.3 Q1252.36 1549.52 1247.13 1549.52 Q1241.14 1549.52 1237.96 1544.94 Q1234.79 1540.33 1234.79 1531.6 Q1234.79 1523.41 1238.68 1518.55 Q1242.57 1513.66 1249.12 1513.66 Q1250.88 1513.66 1252.66 1514.01 Q1254.47 1514.36 1256.41 1515.05 Z\" fill=\"#000000\" fill-rule=\"evenodd\" fill-opacity=\"1\" /><path clip-path=\"url(#clip500)\" d=\"M1664.1 1532.44 Q1660.76 1532.44 1658.84 1534.22 Q1656.94 1536 1656.94 1539.13 Q1656.94 1542.25 1658.84 1544.03 Q1660.76 1545.82 1664.1 1545.82 Q1667.43 1545.82 1669.35 1544.03 Q1671.27 1542.23 1671.27 1539.13 Q1671.27 1536 1669.35 1534.22 Q1667.45 1532.44 1664.1 1532.44 M1659.42 1530.45 Q1656.41 1529.7 1654.72 1527.64 Q1653.05 1525.58 1653.05 1522.62 Q1653.05 1518.48 1655.99 1516.07 Q1658.96 1513.66 1664.1 1513.66 Q1669.26 1513.66 1672.2 1516.07 Q1675.14 1518.48 1675.14 1522.62 Q1675.14 1525.58 1673.45 1527.64 Q1671.78 1529.7 1668.79 1530.45 Q1672.17 1531.23 1674.05 1533.52 Q1675.95 1535.82 1675.95 1539.13 Q1675.95 1544.15 1672.87 1546.83 Q1669.81 1549.52 1664.1 1549.52 Q1658.38 1549.52 1655.3 1546.83 Q1652.24 1544.15 1652.24 1539.13 Q1652.24 1535.82 1654.14 1533.52 Q1656.04 1531.23 1659.42 1530.45 M1657.71 1523.06 Q1657.71 1525.75 1659.37 1527.25 Q1661.06 1528.76 1664.1 1528.76 Q1667.1 1528.76 1668.79 1527.25 Q1670.51 1525.75 1670.51 1523.06 Q1670.51 1520.38 1668.79 1518.87 Q1667.1 1517.37 1664.1 1517.37 Q1661.06 1517.37 1659.37 1518.87 Q1657.71 1520.38 1657.71 1523.06 Z\" fill=\"#000000\" fill-rule=\"evenodd\" fill-opacity=\"1\" /><path clip-path=\"url(#clip500)\" d=\"M2056.15 1544.91 L2063.79 1544.91 L2063.79 1518.55 L2055.48 1520.21 L2055.48 1515.95 L2063.75 1514.29 L2068.42 1514.29 L2068.42 1544.91 L2076.06 1544.91 L2076.06 1548.85 L2056.15 1548.85 L2056.15 1544.91 Z\" fill=\"#000000\" fill-rule=\"evenodd\" fill-opacity=\"1\" /><path clip-path=\"url(#clip500)\" d=\"M2095.5 1517.37 Q2091.89 1517.37 2090.06 1520.93 Q2088.26 1524.47 2088.26 1531.6 Q2088.26 1538.71 2090.06 1542.27 Q2091.89 1545.82 2095.5 1545.82 Q2099.14 1545.82 2100.94 1542.27 Q2102.77 1538.71 2102.77 1531.6 Q2102.77 1524.47 2100.94 1520.93 Q2099.14 1517.37 2095.5 1517.37 M2095.5 1513.66 Q2101.31 1513.66 2104.37 1518.27 Q2107.45 1522.85 2107.45 1531.6 Q2107.45 1540.33 2104.37 1544.94 Q2101.31 1549.52 2095.5 1549.52 Q2089.69 1549.52 2086.62 1544.94 Q2083.56 1540.33 2083.56 1531.6 Q2083.56 1522.85 2086.62 1518.27 Q2089.69 1513.66 2095.5 1513.66 Z\" fill=\"#000000\" fill-rule=\"evenodd\" fill-opacity=\"1\" /><polyline clip-path=\"url(#clip502)\" style=\"stroke:#000000; stroke-linecap:round; stroke-linejoin:round; stroke-width:2; stroke-opacity:0.1; fill:none\" points=\"\n",
       "  140.696,1399.86 2352.76,1399.86 \n",
       "  \"/>\n",
       "<polyline clip-path=\"url(#clip502)\" style=\"stroke:#000000; stroke-linecap:round; stroke-linejoin:round; stroke-width:2; stroke-opacity:0.1; fill:none\" points=\"\n",
       "  140.696,1120.26 2352.76,1120.26 \n",
       "  \"/>\n",
       "<polyline clip-path=\"url(#clip502)\" style=\"stroke:#000000; stroke-linecap:round; stroke-linejoin:round; stroke-width:2; stroke-opacity:0.1; fill:none\" points=\"\n",
       "  140.696,840.66 2352.76,840.66 \n",
       "  \"/>\n",
       "<polyline clip-path=\"url(#clip502)\" style=\"stroke:#000000; stroke-linecap:round; stroke-linejoin:round; stroke-width:2; stroke-opacity:0.1; fill:none\" points=\"\n",
       "  140.696,561.06 2352.76,561.06 \n",
       "  \"/>\n",
       "<polyline clip-path=\"url(#clip502)\" style=\"stroke:#000000; stroke-linecap:round; stroke-linejoin:round; stroke-width:2; stroke-opacity:0.1; fill:none\" points=\"\n",
       "  140.696,281.46 2352.76,281.46 \n",
       "  \"/>\n",
       "<polyline clip-path=\"url(#clip500)\" style=\"stroke:#000000; stroke-linecap:round; stroke-linejoin:round; stroke-width:4; stroke-opacity:1; fill:none\" points=\"\n",
       "  140.696,1486.45 140.696,47.2441 \n",
       "  \"/>\n",
       "<polyline clip-path=\"url(#clip500)\" style=\"stroke:#000000; stroke-linecap:round; stroke-linejoin:round; stroke-width:4; stroke-opacity:1; fill:none\" points=\"\n",
       "  140.696,1399.86 159.593,1399.86 \n",
       "  \"/>\n",
       "<polyline clip-path=\"url(#clip500)\" style=\"stroke:#000000; stroke-linecap:round; stroke-linejoin:round; stroke-width:4; stroke-opacity:1; fill:none\" points=\"\n",
       "  140.696,1120.26 159.593,1120.26 \n",
       "  \"/>\n",
       "<polyline clip-path=\"url(#clip500)\" style=\"stroke:#000000; stroke-linecap:round; stroke-linejoin:round; stroke-width:4; stroke-opacity:1; fill:none\" points=\"\n",
       "  140.696,840.66 159.593,840.66 \n",
       "  \"/>\n",
       "<polyline clip-path=\"url(#clip500)\" style=\"stroke:#000000; stroke-linecap:round; stroke-linejoin:round; stroke-width:4; stroke-opacity:1; fill:none\" points=\"\n",
       "  140.696,561.06 159.593,561.06 \n",
       "  \"/>\n",
       "<polyline clip-path=\"url(#clip500)\" style=\"stroke:#000000; stroke-linecap:round; stroke-linejoin:round; stroke-width:4; stroke-opacity:1; fill:none\" points=\"\n",
       "  140.696,281.46 159.593,281.46 \n",
       "  \"/>\n",
       "<path clip-path=\"url(#clip500)\" d=\"M54.3949 1413.21 L62.0337 1413.21 L62.0337 1386.84 L53.7236 1388.51 L53.7236 1384.25 L61.9874 1382.58 L66.6633 1382.58 L66.6633 1413.21 L74.3022 1413.21 L74.3022 1417.14 L54.3949 1417.14 L54.3949 1413.21 Z\" fill=\"#000000\" fill-rule=\"evenodd\" fill-opacity=\"1\" /><path clip-path=\"url(#clip500)\" d=\"M83.7929 1382.58 L102.149 1382.58 L102.149 1386.52 L88.0753 1386.52 L88.0753 1394.99 Q89.0938 1394.64 90.1123 1394.48 Q91.1308 1394.29 92.1493 1394.29 Q97.9363 1394.29 101.316 1397.47 Q104.696 1400.64 104.696 1406.05 Q104.696 1411.63 101.223 1414.73 Q97.7511 1417.81 91.4317 1417.81 Q89.2558 1417.81 86.9873 1417.44 Q84.7419 1417.07 82.3346 1416.33 L82.3346 1411.63 Q84.4179 1412.77 86.6401 1413.32 Q88.8623 1413.88 91.3391 1413.88 Q95.3437 1413.88 97.6817 1411.77 Q100.02 1409.66 100.02 1406.05 Q100.02 1402.44 97.6817 1400.34 Q95.3437 1398.23 91.3391 1398.23 Q89.4641 1398.23 87.5892 1398.65 Q85.7373 1399.06 83.7929 1399.94 L83.7929 1382.58 Z\" fill=\"#000000\" fill-rule=\"evenodd\" fill-opacity=\"1\" /><path clip-path=\"url(#clip500)\" d=\"M56.6171 1133.61 L72.9365 1133.61 L72.9365 1137.54 L50.9921 1137.54 L50.9921 1133.61 Q53.6541 1130.85 58.2375 1126.22 Q62.8439 1121.57 64.0245 1120.23 Q66.2698 1117.7 67.1494 1115.97 Q68.0522 1114.21 68.0522 1112.52 Q68.0522 1109.76 66.1078 1108.03 Q64.1865 1106.29 61.0847 1106.29 Q58.8856 1106.29 56.4319 1107.05 Q54.0014 1107.82 51.2236 1109.37 L51.2236 1104.65 Q54.0477 1103.51 56.5014 1102.93 Q58.955 1102.36 60.9921 1102.36 Q66.3624 1102.36 69.5568 1105.04 Q72.7513 1107.73 72.7513 1112.22 Q72.7513 1114.35 71.9411 1116.27 Q71.1541 1118.17 69.0476 1120.76 Q68.4689 1121.43 65.367 1124.65 Q62.2652 1127.84 56.6171 1133.61 Z\" fill=\"#000000\" fill-rule=\"evenodd\" fill-opacity=\"1\" /><path clip-path=\"url(#clip500)\" d=\"M92.7512 1106.06 Q89.1401 1106.06 87.3114 1109.62 Q85.5058 1113.17 85.5058 1120.3 Q85.5058 1127.4 87.3114 1130.97 Q89.1401 1134.51 92.7512 1134.51 Q96.3854 1134.51 98.1909 1130.97 Q100.02 1127.4 100.02 1120.3 Q100.02 1113.17 98.1909 1109.62 Q96.3854 1106.06 92.7512 1106.06 M92.7512 1102.36 Q98.5613 1102.36 101.617 1106.96 Q104.696 1111.55 104.696 1120.3 Q104.696 1129.02 101.617 1133.63 Q98.5613 1138.21 92.7512 1138.21 Q86.941 1138.21 83.8623 1133.63 Q80.8068 1129.02 80.8068 1120.3 Q80.8068 1111.55 83.8623 1106.96 Q86.941 1102.36 92.7512 1102.36 Z\" fill=\"#000000\" fill-rule=\"evenodd\" fill-opacity=\"1\" /><path clip-path=\"url(#clip500)\" d=\"M57.6125 854.005 L73.9318 854.005 L73.9318 857.94 L51.9875 857.94 L51.9875 854.005 Q54.6495 851.251 59.2328 846.621 Q63.8393 841.968 65.0198 840.626 Q67.2652 838.103 68.1448 836.367 Q69.0476 834.607 69.0476 832.917 Q69.0476 830.163 67.1032 828.427 Q65.1819 826.691 62.08 826.691 Q59.881 826.691 57.4273 827.455 Q54.9967 828.218 52.219 829.769 L52.219 825.047 Q55.043 823.913 57.4967 823.334 Q59.9504 822.755 61.9874 822.755 Q67.3578 822.755 70.5522 825.441 Q73.7466 828.126 73.7466 832.617 Q73.7466 834.746 72.9365 836.667 Q72.1494 838.566 70.0429 841.158 Q69.4642 841.829 66.3624 845.047 Q63.2606 848.241 57.6125 854.005 Z\" fill=\"#000000\" fill-rule=\"evenodd\" fill-opacity=\"1\" /><path clip-path=\"url(#clip500)\" d=\"M83.7929 823.38 L102.149 823.38 L102.149 827.316 L88.0753 827.316 L88.0753 835.788 Q89.0938 835.441 90.1123 835.279 Q91.1308 835.093 92.1493 835.093 Q97.9363 835.093 101.316 838.265 Q104.696 841.436 104.696 846.853 Q104.696 852.431 101.223 855.533 Q97.7511 858.612 91.4317 858.612 Q89.2558 858.612 86.9873 858.241 Q84.7419 857.871 82.3346 857.13 L82.3346 852.431 Q84.4179 853.566 86.6401 854.121 Q88.8623 854.677 91.3391 854.677 Q95.3437 854.677 97.6817 852.57 Q100.02 850.464 100.02 846.853 Q100.02 843.241 97.6817 841.135 Q95.3437 839.029 91.3391 839.029 Q89.4641 839.029 87.5892 839.445 Q85.7373 839.862 83.7929 840.742 L83.7929 823.38 Z\" fill=\"#000000\" fill-rule=\"evenodd\" fill-opacity=\"1\" /><path clip-path=\"url(#clip500)\" d=\"M66.7559 559.706 Q70.1124 560.424 71.9874 562.692 Q73.8855 564.961 73.8855 568.294 Q73.8855 573.41 70.367 576.21 Q66.8485 579.011 60.3671 579.011 Q58.1912 579.011 55.8764 578.572 Q53.5847 578.155 51.131 577.298 L51.131 572.785 Q53.0754 573.919 55.3903 574.498 Q57.7051 575.076 60.2282 575.076 Q64.6263 575.076 66.918 573.34 Q69.2328 571.604 69.2328 568.294 Q69.2328 565.238 67.08 563.525 Q64.9504 561.789 61.131 561.789 L57.1032 561.789 L57.1032 557.947 L61.3161 557.947 Q64.7652 557.947 66.5939 556.581 Q68.4226 555.192 68.4226 552.6 Q68.4226 549.937 66.5245 548.525 Q64.6495 547.09 61.131 547.09 Q59.2097 547.09 57.0106 547.507 Q54.8115 547.924 52.1727 548.803 L52.1727 544.637 Q54.8347 543.896 57.1495 543.525 Q59.4875 543.155 61.5476 543.155 Q66.8717 543.155 69.9735 545.586 Q73.0753 547.993 73.0753 552.113 Q73.0753 554.984 71.4318 556.974 Q69.7883 558.942 66.7559 559.706 Z\" fill=\"#000000\" fill-rule=\"evenodd\" fill-opacity=\"1\" /><path clip-path=\"url(#clip500)\" d=\"M92.7512 546.859 Q89.1401 546.859 87.3114 550.424 Q85.5058 553.965 85.5058 561.095 Q85.5058 568.201 87.3114 571.766 Q89.1401 575.308 92.7512 575.308 Q96.3854 575.308 98.1909 571.766 Q100.02 568.201 100.02 561.095 Q100.02 553.965 98.1909 550.424 Q96.3854 546.859 92.7512 546.859 M92.7512 543.155 Q98.5613 543.155 101.617 547.762 Q104.696 552.345 104.696 561.095 Q104.696 569.822 101.617 574.428 Q98.5613 579.011 92.7512 579.011 Q86.941 579.011 83.8623 574.428 Q80.8068 569.822 80.8068 561.095 Q80.8068 552.345 83.8623 547.762 Q86.941 543.155 92.7512 543.155 Z\" fill=\"#000000\" fill-rule=\"evenodd\" fill-opacity=\"1\" /><path clip-path=\"url(#clip500)\" d=\"M67.7513 280.106 Q71.1078 280.823 72.9827 283.092 Q74.8809 285.36 74.8809 288.693 Q74.8809 293.809 71.3624 296.61 Q67.8439 299.411 61.3624 299.411 Q59.1865 299.411 56.8717 298.971 Q54.5801 298.555 52.1264 297.698 L52.1264 293.184 Q54.0708 294.318 56.3856 294.897 Q58.7004 295.476 61.2236 295.476 Q65.6217 295.476 67.9133 293.74 Q70.2281 292.004 70.2281 288.693 Q70.2281 285.638 68.0754 283.925 Q65.9457 282.189 62.1263 282.189 L58.0986 282.189 L58.0986 278.346 L62.3115 278.346 Q65.7606 278.346 67.5893 276.981 Q69.418 275.592 69.418 272.999 Q69.418 270.337 67.5198 268.925 Q65.6448 267.49 62.1263 267.49 Q60.205 267.49 58.006 267.907 Q55.8069 268.323 53.168 269.203 L53.168 265.036 Q55.8301 264.295 58.1449 263.925 Q60.4828 263.555 62.543 263.555 Q67.867 263.555 70.9689 265.985 Q74.0707 268.393 74.0707 272.513 Q74.0707 275.383 72.4272 277.374 Q70.7837 279.342 67.7513 280.106 Z\" fill=\"#000000\" fill-rule=\"evenodd\" fill-opacity=\"1\" /><path clip-path=\"url(#clip500)\" d=\"M83.7929 264.18 L102.149 264.18 L102.149 268.115 L88.0753 268.115 L88.0753 276.587 Q89.0938 276.24 90.1123 276.078 Q91.1308 275.893 92.1493 275.893 Q97.9363 275.893 101.316 279.064 Q104.696 282.235 104.696 287.652 Q104.696 293.231 101.223 296.332 Q97.7511 299.411 91.4317 299.411 Q89.2558 299.411 86.9873 299.041 Q84.7419 298.67 82.3346 297.93 L82.3346 293.231 Q84.4179 294.365 86.6401 294.92 Q88.8623 295.476 91.3391 295.476 Q95.3437 295.476 97.6817 293.369 Q100.02 291.263 100.02 287.652 Q100.02 284.041 97.6817 281.934 Q95.3437 279.828 91.3391 279.828 Q89.4641 279.828 87.5892 280.244 Q85.7373 280.661 83.7929 281.541 L83.7929 264.18 Z\" fill=\"#000000\" fill-rule=\"evenodd\" fill-opacity=\"1\" /><polyline clip-path=\"url(#clip502)\" style=\"stroke:#009af9; stroke-linecap:round; stroke-linejoin:round; stroke-width:4; stroke-opacity:1; fill:none\" points=\"\n",
       "  203.301,459.845 411.986,398.892 620.671,398.892 829.356,1445.72 1038.04,677.933 1246.73,682.966 1455.41,530.304 1664.1,474.384 1872.78,672.9 2081.47,87.9763 \n",
       "  2290.15,164.587 \n",
       "  \"/>\n",
       "<path clip-path=\"url(#clip500)\" d=\"\n",
       "M214.431 1438.47 L1044.71 1438.47 L1044.71 1334.79 L214.431 1334.79  Z\n",
       "  \" fill=\"#ffffff\" fill-rule=\"evenodd\" fill-opacity=\"1\"/>\n",
       "<polyline clip-path=\"url(#clip500)\" style=\"stroke:#000000; stroke-linecap:round; stroke-linejoin:round; stroke-width:4; stroke-opacity:1; fill:none\" points=\"\n",
       "  214.431,1438.47 1044.71,1438.47 1044.71,1334.79 214.431,1334.79 214.431,1438.47 \n",
       "  \"/>\n",
       "<polyline clip-path=\"url(#clip500)\" style=\"stroke:#009af9; stroke-linecap:round; stroke-linejoin:round; stroke-width:4; stroke-opacity:1; fill:none\" points=\"\n",
       "  239.009,1386.63 386.48,1386.63 \n",
       "  \"/>\n",
       "<path clip-path=\"url(#clip500)\" d=\"M415.734 1373.2 L415.734 1400.07 L421.382 1400.07 Q428.535 1400.07 431.845 1396.83 Q435.179 1393.59 435.179 1386.6 Q435.179 1379.66 431.845 1376.44 Q428.535 1373.2 421.382 1373.2 L415.734 1373.2 M411.058 1369.35 L420.665 1369.35 Q430.711 1369.35 435.41 1373.54 Q440.109 1377.71 440.109 1386.6 Q440.109 1395.53 435.387 1399.72 Q430.665 1403.91 420.665 1403.91 L411.058 1403.91 L411.058 1369.35 Z\" fill=\"#000000\" fill-rule=\"evenodd\" fill-opacity=\"1\" /><path clip-path=\"url(#clip500)\" d=\"M469.554 1389.89 L469.554 1391.97 L449.97 1391.97 Q450.248 1396.37 452.609 1398.68 Q454.993 1400.97 459.23 1400.97 Q461.683 1400.97 463.975 1400.37 Q466.29 1399.77 468.558 1398.57 L468.558 1402.59 Q466.267 1403.57 463.859 1404.08 Q461.452 1404.59 458.975 1404.59 Q452.771 1404.59 449.137 1400.97 Q445.526 1397.36 445.526 1391.21 Q445.526 1384.84 448.952 1381.11 Q452.401 1377.36 458.234 1377.36 Q463.466 1377.36 466.498 1380.74 Q469.554 1384.1 469.554 1389.89 M465.294 1388.64 Q465.248 1385.14 463.327 1383.06 Q461.429 1380.97 458.28 1380.97 Q454.716 1380.97 452.563 1382.99 Q450.433 1385 450.109 1388.66 L465.294 1388.64 Z\" fill=\"#000000\" fill-rule=\"evenodd\" fill-opacity=\"1\" /><path clip-path=\"url(#clip500)\" d=\"M495.202 1378.98 L495.202 1382.97 Q493.396 1381.97 491.567 1381.48 Q489.762 1380.97 487.91 1380.97 Q483.766 1380.97 481.475 1383.61 Q479.183 1386.23 479.183 1390.97 Q479.183 1395.72 481.475 1398.36 Q483.766 1400.97 487.91 1400.97 Q489.762 1400.97 491.567 1400.49 Q493.396 1399.98 495.202 1398.98 L495.202 1402.92 Q493.419 1403.75 491.498 1404.17 Q489.6 1404.59 487.447 1404.59 Q481.591 1404.59 478.141 1400.91 Q474.692 1397.22 474.692 1390.97 Q474.692 1384.63 478.165 1381 Q481.66 1377.36 487.725 1377.36 Q489.692 1377.36 491.567 1377.78 Q493.442 1378.17 495.202 1378.98 Z\" fill=\"#000000\" fill-rule=\"evenodd\" fill-opacity=\"1\" /><path clip-path=\"url(#clip500)\" d=\"M513.072 1369.35 L542.308 1369.35 L542.308 1373.29 L530.039 1373.29 L530.039 1403.91 L525.34 1403.91 L525.34 1373.29 L513.072 1373.29 L513.072 1369.35 Z\" fill=\"#000000\" fill-rule=\"evenodd\" fill-opacity=\"1\" /><path clip-path=\"url(#clip500)\" d=\"M560.757 1389.89 L560.757 1391.97 L541.174 1391.97 Q541.451 1396.37 543.812 1398.68 Q546.197 1400.97 550.433 1400.97 Q552.886 1400.97 555.178 1400.37 Q557.493 1399.77 559.761 1398.57 L559.761 1402.59 Q557.47 1403.57 555.062 1404.08 Q552.655 1404.59 550.178 1404.59 Q543.974 1404.59 540.34 1400.97 Q536.729 1397.36 536.729 1391.21 Q536.729 1384.84 540.155 1381.11 Q543.604 1377.36 549.437 1377.36 Q554.669 1377.36 557.701 1380.74 Q560.757 1384.1 560.757 1389.89 M556.498 1388.64 Q556.451 1385.14 554.53 1383.06 Q552.632 1380.97 549.484 1380.97 Q545.919 1380.97 543.766 1382.99 Q541.636 1385 541.312 1388.66 L556.498 1388.64 Z\" fill=\"#000000\" fill-rule=\"evenodd\" fill-opacity=\"1\" /><path clip-path=\"url(#clip500)\" d=\"M587.933 1382.97 Q589.53 1380.1 591.752 1378.73 Q593.974 1377.36 596.983 1377.36 Q601.034 1377.36 603.233 1380.21 Q605.432 1383.03 605.432 1388.27 L605.432 1403.91 L601.15 1403.91 L601.15 1388.41 Q601.15 1384.68 599.831 1382.87 Q598.511 1381.07 595.803 1381.07 Q592.493 1381.07 590.571 1383.27 Q588.65 1385.47 588.65 1389.26 L588.65 1403.91 L584.368 1403.91 L584.368 1388.41 Q584.368 1384.66 583.048 1382.87 Q581.729 1381.07 578.974 1381.07 Q575.71 1381.07 573.789 1383.29 Q571.868 1385.49 571.868 1389.26 L571.868 1403.91 L567.585 1403.91 L567.585 1377.99 L571.868 1377.99 L571.868 1382.02 Q573.326 1379.63 575.363 1378.5 Q577.4 1377.36 580.201 1377.36 Q583.025 1377.36 584.993 1378.8 Q586.983 1380.23 587.933 1382.97 Z\" fill=\"#000000\" fill-rule=\"evenodd\" fill-opacity=\"1\" /><path clip-path=\"url(#clip500)\" d=\"M618.048 1400.03 L618.048 1413.78 L613.766 1413.78 L613.766 1377.99 L618.048 1377.99 L618.048 1381.92 Q619.391 1379.61 621.428 1378.5 Q623.488 1377.36 626.335 1377.36 Q631.057 1377.36 633.997 1381.11 Q636.96 1384.86 636.96 1390.97 Q636.96 1397.09 633.997 1400.84 Q631.057 1404.59 626.335 1404.59 Q623.488 1404.59 621.428 1403.47 Q619.391 1402.34 618.048 1400.03 M632.539 1390.97 Q632.539 1386.28 630.594 1383.61 Q628.673 1380.93 625.293 1380.93 Q621.914 1380.93 619.969 1383.61 Q618.048 1386.28 618.048 1390.97 Q618.048 1395.67 619.969 1398.36 Q621.914 1401.02 625.293 1401.02 Q628.673 1401.02 630.594 1398.36 Q632.539 1395.67 632.539 1390.97 Z\" fill=\"#000000\" fill-rule=\"evenodd\" fill-opacity=\"1\" /><path clip-path=\"url(#clip500)\" d=\"M666.196 1389.89 L666.196 1391.97 L646.613 1391.97 Q646.891 1396.37 649.252 1398.68 Q651.636 1400.97 655.872 1400.97 Q658.326 1400.97 660.617 1400.37 Q662.932 1399.77 665.201 1398.57 L665.201 1402.59 Q662.909 1403.57 660.502 1404.08 Q658.094 1404.59 655.617 1404.59 Q649.414 1404.59 645.779 1400.97 Q642.168 1397.36 642.168 1391.21 Q642.168 1384.84 645.594 1381.11 Q649.043 1377.36 654.877 1377.36 Q660.108 1377.36 663.14 1380.74 Q666.196 1384.1 666.196 1389.89 M661.937 1388.64 Q661.89 1385.14 659.969 1383.06 Q658.071 1380.97 654.923 1380.97 Q651.358 1380.97 649.205 1382.99 Q647.076 1385 646.752 1388.66 L661.937 1388.64 Z\" fill=\"#000000\" fill-rule=\"evenodd\" fill-opacity=\"1\" /><path clip-path=\"url(#clip500)\" d=\"M688.21 1381.97 Q687.492 1381.55 686.636 1381.37 Q685.802 1381.16 684.784 1381.16 Q681.173 1381.16 679.228 1383.52 Q677.307 1385.86 677.307 1390.26 L677.307 1403.91 L673.025 1403.91 L673.025 1377.99 L677.307 1377.99 L677.307 1382.02 Q678.65 1379.66 680.802 1378.52 Q682.955 1377.36 686.034 1377.36 Q686.474 1377.36 687.006 1377.43 Q687.538 1377.48 688.187 1377.6 L688.21 1381.97 Z\" fill=\"#000000\" fill-rule=\"evenodd\" fill-opacity=\"1\" /><path clip-path=\"url(#clip500)\" d=\"M704.46 1390.88 Q699.298 1390.88 697.307 1392.06 Q695.316 1393.24 695.316 1396.09 Q695.316 1398.36 696.798 1399.7 Q698.302 1401.02 700.872 1401.02 Q704.413 1401.02 706.543 1398.52 Q708.696 1396 708.696 1391.83 L708.696 1390.88 L704.46 1390.88 M712.955 1389.12 L712.955 1403.91 L708.696 1403.91 L708.696 1399.98 Q707.237 1402.34 705.062 1403.47 Q702.886 1404.59 699.737 1404.59 Q695.756 1404.59 693.395 1402.36 Q691.057 1400.12 691.057 1396.37 Q691.057 1391.99 693.974 1389.77 Q696.913 1387.55 702.724 1387.55 L708.696 1387.55 L708.696 1387.13 Q708.696 1384.19 706.751 1382.6 Q704.83 1380.97 701.335 1380.97 Q699.112 1380.97 697.006 1381.51 Q694.9 1382.04 692.955 1383.1 L692.955 1379.17 Q695.293 1378.27 697.492 1377.83 Q699.691 1377.36 701.775 1377.36 Q707.399 1377.36 710.177 1380.28 Q712.955 1383.2 712.955 1389.12 Z\" fill=\"#000000\" fill-rule=\"evenodd\" fill-opacity=\"1\" /><path clip-path=\"url(#clip500)\" d=\"M725.941 1370.63 L725.941 1377.99 L734.714 1377.99 L734.714 1381.3 L725.941 1381.3 L725.941 1395.37 Q725.941 1398.54 726.798 1399.45 Q727.677 1400.35 730.339 1400.35 L734.714 1400.35 L734.714 1403.91 L730.339 1403.91 Q725.409 1403.91 723.534 1402.09 Q721.659 1400.23 721.659 1395.37 L721.659 1381.3 L718.534 1381.3 L718.534 1377.99 L721.659 1377.99 L721.659 1370.63 L725.941 1370.63 Z\" fill=\"#000000\" fill-rule=\"evenodd\" fill-opacity=\"1\" /><path clip-path=\"url(#clip500)\" d=\"M739.876 1393.68 L739.876 1377.99 L744.135 1377.99 L744.135 1393.52 Q744.135 1397.2 745.571 1399.05 Q747.006 1400.88 749.876 1400.88 Q753.325 1400.88 755.316 1398.68 Q757.33 1396.48 757.33 1392.69 L757.33 1377.99 L761.589 1377.99 L761.589 1403.91 L757.33 1403.91 L757.33 1399.93 Q755.779 1402.29 753.719 1403.45 Q751.682 1404.59 748.973 1404.59 Q744.506 1404.59 742.191 1401.81 Q739.876 1399.03 739.876 1393.68 M750.594 1377.36 L750.594 1377.36 Z\" fill=\"#000000\" fill-rule=\"evenodd\" fill-opacity=\"1\" /><path clip-path=\"url(#clip500)\" d=\"M785.385 1381.97 Q784.668 1381.55 783.811 1381.37 Q782.978 1381.16 781.959 1381.16 Q778.348 1381.16 776.404 1383.52 Q774.482 1385.86 774.482 1390.26 L774.482 1403.91 L770.2 1403.91 L770.2 1377.99 L774.482 1377.99 L774.482 1382.02 Q775.825 1379.66 777.978 1378.52 Q780.131 1377.36 783.209 1377.36 Q783.649 1377.36 784.181 1377.43 Q784.714 1377.48 785.362 1377.6 L785.385 1381.97 Z\" fill=\"#000000\" fill-rule=\"evenodd\" fill-opacity=\"1\" /><path clip-path=\"url(#clip500)\" d=\"M810.987 1389.89 L810.987 1391.97 L791.404 1391.97 Q791.681 1396.37 794.043 1398.68 Q796.427 1400.97 800.663 1400.97 Q803.117 1400.97 805.408 1400.37 Q807.723 1399.77 809.992 1398.57 L809.992 1402.59 Q807.7 1403.57 805.292 1404.08 Q802.885 1404.59 800.408 1404.59 Q794.205 1404.59 790.57 1400.97 Q786.959 1397.36 786.959 1391.21 Q786.959 1384.84 790.385 1381.11 Q793.834 1377.36 799.668 1377.36 Q804.899 1377.36 807.931 1380.74 Q810.987 1384.1 810.987 1389.89 M806.728 1388.64 Q806.681 1385.14 804.76 1383.06 Q802.862 1380.97 799.714 1380.97 Q796.149 1380.97 793.996 1382.99 Q791.867 1385 791.543 1388.66 L806.728 1388.64 Z\" fill=\"#000000\" fill-rule=\"evenodd\" fill-opacity=\"1\" /><path clip-path=\"url(#clip500)\" d=\"M844.829 1390.88 Q839.667 1390.88 837.677 1392.06 Q835.686 1393.24 835.686 1396.09 Q835.686 1398.36 837.167 1399.7 Q838.672 1401.02 841.241 1401.02 Q844.783 1401.02 846.913 1398.52 Q849.065 1396 849.065 1391.83 L849.065 1390.88 L844.829 1390.88 M853.325 1389.12 L853.325 1403.91 L849.065 1403.91 L849.065 1399.98 Q847.607 1402.34 845.431 1403.47 Q843.255 1404.59 840.107 1404.59 Q836.126 1404.59 833.765 1402.36 Q831.427 1400.12 831.427 1396.37 Q831.427 1391.99 834.343 1389.77 Q837.283 1387.55 843.093 1387.55 L849.065 1387.55 L849.065 1387.13 Q849.065 1384.19 847.121 1382.6 Q845.2 1380.97 841.704 1380.97 Q839.482 1380.97 837.376 1381.51 Q835.269 1382.04 833.325 1383.1 L833.325 1379.17 Q835.663 1378.27 837.862 1377.83 Q840.061 1377.36 842.144 1377.36 Q847.769 1377.36 850.547 1380.28 Q853.325 1383.2 853.325 1389.12 Z\" fill=\"#000000\" fill-rule=\"evenodd\" fill-opacity=\"1\" /><path clip-path=\"url(#clip500)\" d=\"M859.042 1377.99 L863.556 1377.99 L871.658 1399.75 L879.76 1377.99 L884.274 1377.99 L874.551 1403.91 L868.764 1403.91 L859.042 1377.99 Z\" fill=\"#000000\" fill-rule=\"evenodd\" fill-opacity=\"1\" /><path clip-path=\"url(#clip500)\" d=\"M912.329 1389.89 L912.329 1391.97 L892.746 1391.97 Q893.023 1396.37 895.385 1398.68 Q897.769 1400.97 902.005 1400.97 Q904.459 1400.97 906.75 1400.37 Q909.065 1399.77 911.334 1398.57 L911.334 1402.59 Q909.042 1403.57 906.635 1404.08 Q904.227 1404.59 901.75 1404.59 Q895.547 1404.59 891.912 1400.97 Q888.301 1397.36 888.301 1391.21 Q888.301 1384.84 891.727 1381.11 Q895.176 1377.36 901.01 1377.36 Q906.241 1377.36 909.273 1380.74 Q912.329 1384.1 912.329 1389.89 M908.07 1388.64 Q908.023 1385.14 906.102 1383.06 Q904.204 1380.97 901.056 1380.97 Q897.491 1380.97 895.338 1382.99 Q893.209 1385 892.885 1388.66 L908.07 1388.64 Z\" fill=\"#000000\" fill-rule=\"evenodd\" fill-opacity=\"1\" /><path clip-path=\"url(#clip500)\" d=\"M934.343 1381.97 Q933.625 1381.55 932.769 1381.37 Q931.935 1381.16 930.917 1381.16 Q927.306 1381.16 925.361 1383.52 Q923.44 1385.86 923.44 1390.26 L923.44 1403.91 L919.158 1403.91 L919.158 1377.99 L923.44 1377.99 L923.44 1382.02 Q924.783 1379.66 926.935 1378.52 Q929.088 1377.36 932.167 1377.36 Q932.607 1377.36 933.139 1377.43 Q933.671 1377.48 934.32 1377.6 L934.343 1381.97 Z\" fill=\"#000000\" fill-rule=\"evenodd\" fill-opacity=\"1\" /><path clip-path=\"url(#clip500)\" d=\"M950.593 1390.88 Q945.431 1390.88 943.44 1392.06 Q941.449 1393.24 941.449 1396.09 Q941.449 1398.36 942.931 1399.7 Q944.435 1401.02 947.005 1401.02 Q950.546 1401.02 952.676 1398.52 Q954.829 1396 954.829 1391.83 L954.829 1390.88 L950.593 1390.88 M959.088 1389.12 L959.088 1403.91 L954.829 1403.91 L954.829 1399.98 Q953.37 1402.34 951.194 1403.47 Q949.019 1404.59 945.87 1404.59 Q941.889 1404.59 939.528 1402.36 Q937.19 1400.12 937.19 1396.37 Q937.19 1391.99 940.107 1389.77 Q943.046 1387.55 948.857 1387.55 L954.829 1387.55 L954.829 1387.13 Q954.829 1384.19 952.884 1382.6 Q950.963 1380.97 947.468 1380.97 Q945.245 1380.97 943.139 1381.51 Q941.032 1382.04 939.088 1383.1 L939.088 1379.17 Q941.426 1378.27 943.625 1377.83 Q945.824 1377.36 947.907 1377.36 Q953.532 1377.36 956.31 1380.28 Q959.088 1383.2 959.088 1389.12 Z\" fill=\"#000000\" fill-rule=\"evenodd\" fill-opacity=\"1\" /><path clip-path=\"url(#clip500)\" d=\"M984.921 1390.65 Q984.921 1386.02 983 1383.47 Q981.102 1380.93 977.653 1380.93 Q974.227 1380.93 972.305 1383.47 Q970.407 1386.02 970.407 1390.65 Q970.407 1395.26 972.305 1397.8 Q974.227 1400.35 977.653 1400.35 Q981.102 1400.35 983 1397.8 Q984.921 1395.26 984.921 1390.65 M989.18 1400.7 Q989.18 1407.32 986.241 1410.53 Q983.301 1413.78 977.236 1413.78 Q974.991 1413.78 973 1413.43 Q971.009 1413.1 969.134 1412.41 L969.134 1408.27 Q971.009 1409.28 972.838 1409.77 Q974.667 1410.26 976.565 1410.26 Q980.754 1410.26 982.838 1408.06 Q984.921 1405.88 984.921 1401.46 L984.921 1399.35 Q983.602 1401.65 981.542 1402.78 Q979.481 1403.91 976.611 1403.91 Q971.843 1403.91 968.926 1400.28 Q966.009 1396.65 966.009 1390.65 Q966.009 1384.63 968.926 1381 Q971.843 1377.36 976.611 1377.36 Q979.481 1377.36 981.542 1378.5 Q983.602 1379.63 984.921 1381.92 L984.921 1377.99 L989.18 1377.99 L989.18 1400.7 Z\" fill=\"#000000\" fill-rule=\"evenodd\" fill-opacity=\"1\" /><path clip-path=\"url(#clip500)\" d=\"M1020.13 1389.89 L1020.13 1391.97 L1000.55 1391.97 Q1000.82 1396.37 1003.18 1398.68 Q1005.57 1400.97 1009.81 1400.97 Q1012.26 1400.97 1014.55 1400.37 Q1016.87 1399.77 1019.13 1398.57 L1019.13 1402.59 Q1016.84 1403.57 1014.43 1404.08 Q1012.03 1404.59 1009.55 1404.59 Q1003.35 1404.59 999.713 1400.97 Q996.102 1397.36 996.102 1391.21 Q996.102 1384.84 999.528 1381.11 Q1002.98 1377.36 1008.81 1377.36 Q1014.04 1377.36 1017.07 1380.74 Q1020.13 1384.1 1020.13 1389.89 M1015.87 1388.64 Q1015.82 1385.14 1013.9 1383.06 Q1012 1380.97 1008.86 1380.97 Q1005.29 1380.97 1003.14 1382.99 Q1001.01 1385 1000.68 1388.66 L1015.87 1388.64 Z\" fill=\"#000000\" fill-rule=\"evenodd\" fill-opacity=\"1\" /></svg>\n"
      ]
     },
     "execution_count": 56,
     "metadata": {},
     "output_type": "execute_result"
    }
   ],
   "source": [
    "plot(1:11, dectempaverage, label=\"Dec Temperature average\", legend=:bottomleft)"
   ]
  },
  {
   "cell_type": "markdown",
   "id": "4a30ae8e",
   "metadata": {},
   "source": [
    "Note that the reason why it only comes from 1-10 and the reason why is becuase it is a decade. we start from 1922 to 1932. "
   ]
  },
  {
   "cell_type": "markdown",
   "id": "be37608a",
   "metadata": {},
   "source": [
    "# Now we do this for Jan min average temperature 1922-1932 "
   ]
  },
  {
   "cell_type": "code",
   "execution_count": 57,
   "id": "17e6c801",
   "metadata": {},
   "outputs": [
    {
     "data": {
      "text/plain": [
       "11-element Vector{Any}:\n",
       " 26.5\n",
       " 27.64\n",
       " 27.6\n",
       "  6.91\n",
       " 20.41\n",
       " 20.91\n",
       " 24.46\n",
       " 24.23\n",
       " 20.86\n",
       " 35.14\n",
       " 31.14"
      ]
     },
     "execution_count": 57,
     "metadata": {},
     "output_type": "execute_result"
    }
   ],
   "source": [
    "Jantempmin=B[2:12,4]"
   ]
  },
  {
   "cell_type": "code",
   "execution_count": 58,
   "id": "65ffa183",
   "metadata": {},
   "outputs": [
    {
     "data": {
      "image/svg+xml": [
       "<?xml version=\"1.0\" encoding=\"utf-8\"?>\n",
       "<svg xmlns=\"http://www.w3.org/2000/svg\" xmlns:xlink=\"http://www.w3.org/1999/xlink\" width=\"600\" height=\"400\" viewBox=\"0 0 2400 1600\">\n",
       "<defs>\n",
       "  <clipPath id=\"clip540\">\n",
       "    <rect x=\"0\" y=\"0\" width=\"2400\" height=\"1600\"/>\n",
       "  </clipPath>\n",
       "</defs>\n",
       "<path clip-path=\"url(#clip540)\" d=\"\n",
       "M0 1600 L2400 1600 L2400 0 L0 0  Z\n",
       "  \" fill=\"#ffffff\" fill-rule=\"evenodd\" fill-opacity=\"1\"/>\n",
       "<defs>\n",
       "  <clipPath id=\"clip541\">\n",
       "    <rect x=\"480\" y=\"0\" width=\"1681\" height=\"1600\"/>\n",
       "  </clipPath>\n",
       "</defs>\n",
       "<path clip-path=\"url(#clip540)\" d=\"\n",
       "M140.696 1486.45 L2352.76 1486.45 L2352.76 47.2441 L140.696 47.2441  Z\n",
       "  \" fill=\"#ffffff\" fill-rule=\"evenodd\" fill-opacity=\"1\"/>\n",
       "<defs>\n",
       "  <clipPath id=\"clip542\">\n",
       "    <rect x=\"140\" y=\"47\" width=\"2213\" height=\"1440\"/>\n",
       "  </clipPath>\n",
       "</defs>\n",
       "<polyline clip-path=\"url(#clip542)\" style=\"stroke:#000000; stroke-linecap:round; stroke-linejoin:round; stroke-width:2; stroke-opacity:0.1; fill:none\" points=\"\n",
       "  411.986,1486.45 411.986,47.2441 \n",
       "  \"/>\n",
       "<polyline clip-path=\"url(#clip542)\" style=\"stroke:#000000; stroke-linecap:round; stroke-linejoin:round; stroke-width:2; stroke-opacity:0.1; fill:none\" points=\"\n",
       "  829.356,1486.45 829.356,47.2441 \n",
       "  \"/>\n",
       "<polyline clip-path=\"url(#clip542)\" style=\"stroke:#000000; stroke-linecap:round; stroke-linejoin:round; stroke-width:2; stroke-opacity:0.1; fill:none\" points=\"\n",
       "  1246.73,1486.45 1246.73,47.2441 \n",
       "  \"/>\n",
       "<polyline clip-path=\"url(#clip542)\" style=\"stroke:#000000; stroke-linecap:round; stroke-linejoin:round; stroke-width:2; stroke-opacity:0.1; fill:none\" points=\"\n",
       "  1664.1,1486.45 1664.1,47.2441 \n",
       "  \"/>\n",
       "<polyline clip-path=\"url(#clip542)\" style=\"stroke:#000000; stroke-linecap:round; stroke-linejoin:round; stroke-width:2; stroke-opacity:0.1; fill:none\" points=\"\n",
       "  2081.47,1486.45 2081.47,47.2441 \n",
       "  \"/>\n",
       "<polyline clip-path=\"url(#clip540)\" style=\"stroke:#000000; stroke-linecap:round; stroke-linejoin:round; stroke-width:4; stroke-opacity:1; fill:none\" points=\"\n",
       "  140.696,1486.45 2352.76,1486.45 \n",
       "  \"/>\n",
       "<polyline clip-path=\"url(#clip540)\" style=\"stroke:#000000; stroke-linecap:round; stroke-linejoin:round; stroke-width:4; stroke-opacity:1; fill:none\" points=\"\n",
       "  411.986,1486.45 411.986,1467.55 \n",
       "  \"/>\n",
       "<polyline clip-path=\"url(#clip540)\" style=\"stroke:#000000; stroke-linecap:round; stroke-linejoin:round; stroke-width:4; stroke-opacity:1; fill:none\" points=\"\n",
       "  829.356,1486.45 829.356,1467.55 \n",
       "  \"/>\n",
       "<polyline clip-path=\"url(#clip540)\" style=\"stroke:#000000; stroke-linecap:round; stroke-linejoin:round; stroke-width:4; stroke-opacity:1; fill:none\" points=\"\n",
       "  1246.73,1486.45 1246.73,1467.55 \n",
       "  \"/>\n",
       "<polyline clip-path=\"url(#clip540)\" style=\"stroke:#000000; stroke-linecap:round; stroke-linejoin:round; stroke-width:4; stroke-opacity:1; fill:none\" points=\"\n",
       "  1664.1,1486.45 1664.1,1467.55 \n",
       "  \"/>\n",
       "<polyline clip-path=\"url(#clip540)\" style=\"stroke:#000000; stroke-linecap:round; stroke-linejoin:round; stroke-width:4; stroke-opacity:1; fill:none\" points=\"\n",
       "  2081.47,1486.45 2081.47,1467.55 \n",
       "  \"/>\n",
       "<path clip-path=\"url(#clip540)\" d=\"M406.639 1544.91 L422.958 1544.91 L422.958 1548.85 L401.014 1548.85 L401.014 1544.91 Q403.676 1542.16 408.259 1537.53 Q412.866 1532.88 414.046 1531.53 Q416.291 1529.01 417.171 1527.27 Q418.074 1525.51 418.074 1523.82 Q418.074 1521.07 416.129 1519.33 Q414.208 1517.6 411.106 1517.6 Q408.907 1517.6 406.454 1518.36 Q404.023 1519.13 401.245 1520.68 L401.245 1515.95 Q404.069 1514.82 406.523 1514.24 Q408.977 1513.66 411.014 1513.66 Q416.384 1513.66 419.579 1516.35 Q422.773 1519.03 422.773 1523.52 Q422.773 1525.65 421.963 1527.57 Q421.176 1529.47 419.069 1532.07 Q418.491 1532.74 415.389 1535.95 Q412.287 1539.15 406.639 1544.91 Z\" fill=\"#000000\" fill-rule=\"evenodd\" fill-opacity=\"1\" /><path clip-path=\"url(#clip540)\" d=\"M832.365 1518.36 L820.56 1536.81 L832.365 1536.81 L832.365 1518.36 M831.138 1514.29 L837.018 1514.29 L837.018 1536.81 L841.948 1536.81 L841.948 1540.7 L837.018 1540.7 L837.018 1548.85 L832.365 1548.85 L832.365 1540.7 L816.763 1540.7 L816.763 1536.19 L831.138 1514.29 Z\" fill=\"#000000\" fill-rule=\"evenodd\" fill-opacity=\"1\" /><path clip-path=\"url(#clip540)\" d=\"M1247.13 1529.7 Q1243.98 1529.7 1242.13 1531.86 Q1240.3 1534.01 1240.3 1537.76 Q1240.3 1541.49 1242.13 1543.66 Q1243.98 1545.82 1247.13 1545.82 Q1250.28 1545.82 1252.11 1543.66 Q1253.96 1541.49 1253.96 1537.76 Q1253.96 1534.01 1252.11 1531.86 Q1250.28 1529.7 1247.13 1529.7 M1256.41 1515.05 L1256.41 1519.31 Q1254.65 1518.48 1252.85 1518.04 Q1251.07 1517.6 1249.31 1517.6 Q1244.68 1517.6 1242.22 1520.72 Q1239.79 1523.85 1239.45 1530.17 Q1240.81 1528.15 1242.87 1527.09 Q1244.93 1526 1247.41 1526 Q1252.62 1526 1255.63 1529.17 Q1258.66 1532.32 1258.66 1537.76 Q1258.66 1543.08 1255.51 1546.3 Q1252.36 1549.52 1247.13 1549.52 Q1241.14 1549.52 1237.96 1544.94 Q1234.79 1540.33 1234.79 1531.6 Q1234.79 1523.41 1238.68 1518.55 Q1242.57 1513.66 1249.12 1513.66 Q1250.88 1513.66 1252.66 1514.01 Q1254.47 1514.36 1256.41 1515.05 Z\" fill=\"#000000\" fill-rule=\"evenodd\" fill-opacity=\"1\" /><path clip-path=\"url(#clip540)\" d=\"M1664.1 1532.44 Q1660.76 1532.44 1658.84 1534.22 Q1656.94 1536 1656.94 1539.13 Q1656.94 1542.25 1658.84 1544.03 Q1660.76 1545.82 1664.1 1545.82 Q1667.43 1545.82 1669.35 1544.03 Q1671.27 1542.23 1671.27 1539.13 Q1671.27 1536 1669.35 1534.22 Q1667.45 1532.44 1664.1 1532.44 M1659.42 1530.45 Q1656.41 1529.7 1654.72 1527.64 Q1653.05 1525.58 1653.05 1522.62 Q1653.05 1518.48 1655.99 1516.07 Q1658.96 1513.66 1664.1 1513.66 Q1669.26 1513.66 1672.2 1516.07 Q1675.14 1518.48 1675.14 1522.62 Q1675.14 1525.58 1673.45 1527.64 Q1671.78 1529.7 1668.79 1530.45 Q1672.17 1531.23 1674.05 1533.52 Q1675.95 1535.82 1675.95 1539.13 Q1675.95 1544.15 1672.87 1546.83 Q1669.81 1549.52 1664.1 1549.52 Q1658.38 1549.52 1655.3 1546.83 Q1652.24 1544.15 1652.24 1539.13 Q1652.24 1535.82 1654.14 1533.52 Q1656.04 1531.23 1659.42 1530.45 M1657.71 1523.06 Q1657.71 1525.75 1659.37 1527.25 Q1661.06 1528.76 1664.1 1528.76 Q1667.1 1528.76 1668.79 1527.25 Q1670.51 1525.75 1670.51 1523.06 Q1670.51 1520.38 1668.79 1518.87 Q1667.1 1517.37 1664.1 1517.37 Q1661.06 1517.37 1659.37 1518.87 Q1657.71 1520.38 1657.71 1523.06 Z\" fill=\"#000000\" fill-rule=\"evenodd\" fill-opacity=\"1\" /><path clip-path=\"url(#clip540)\" d=\"M2056.15 1544.91 L2063.79 1544.91 L2063.79 1518.55 L2055.48 1520.21 L2055.48 1515.95 L2063.75 1514.29 L2068.42 1514.29 L2068.42 1544.91 L2076.06 1544.91 L2076.06 1548.85 L2056.15 1548.85 L2056.15 1544.91 Z\" fill=\"#000000\" fill-rule=\"evenodd\" fill-opacity=\"1\" /><path clip-path=\"url(#clip540)\" d=\"M2095.5 1517.37 Q2091.89 1517.37 2090.06 1520.93 Q2088.26 1524.47 2088.26 1531.6 Q2088.26 1538.71 2090.06 1542.27 Q2091.89 1545.82 2095.5 1545.82 Q2099.14 1545.82 2100.94 1542.27 Q2102.77 1538.71 2102.77 1531.6 Q2102.77 1524.47 2100.94 1520.93 Q2099.14 1517.37 2095.5 1517.37 M2095.5 1513.66 Q2101.31 1513.66 2104.37 1518.27 Q2107.45 1522.85 2107.45 1531.6 Q2107.45 1540.33 2104.37 1544.94 Q2101.31 1549.52 2095.5 1549.52 Q2089.69 1549.52 2086.62 1544.94 Q2083.56 1540.33 2083.56 1531.6 Q2083.56 1522.85 2086.62 1518.27 Q2089.69 1513.66 2095.5 1513.66 Z\" fill=\"#000000\" fill-rule=\"evenodd\" fill-opacity=\"1\" /><polyline clip-path=\"url(#clip542)\" style=\"stroke:#000000; stroke-linecap:round; stroke-linejoin:round; stroke-width:2; stroke-opacity:0.1; fill:none\" points=\"\n",
       "  140.696,1297.1 2352.76,1297.1 \n",
       "  \"/>\n",
       "<polyline clip-path=\"url(#clip542)\" style=\"stroke:#000000; stroke-linecap:round; stroke-linejoin:round; stroke-width:2; stroke-opacity:0.1; fill:none\" points=\"\n",
       "  140.696,1056.62 2352.76,1056.62 \n",
       "  \"/>\n",
       "<polyline clip-path=\"url(#clip542)\" style=\"stroke:#000000; stroke-linecap:round; stroke-linejoin:round; stroke-width:2; stroke-opacity:0.1; fill:none\" points=\"\n",
       "  140.696,816.144 2352.76,816.144 \n",
       "  \"/>\n",
       "<polyline clip-path=\"url(#clip542)\" style=\"stroke:#000000; stroke-linecap:round; stroke-linejoin:round; stroke-width:2; stroke-opacity:0.1; fill:none\" points=\"\n",
       "  140.696,575.666 2352.76,575.666 \n",
       "  \"/>\n",
       "<polyline clip-path=\"url(#clip542)\" style=\"stroke:#000000; stroke-linecap:round; stroke-linejoin:round; stroke-width:2; stroke-opacity:0.1; fill:none\" points=\"\n",
       "  140.696,335.188 2352.76,335.188 \n",
       "  \"/>\n",
       "<polyline clip-path=\"url(#clip542)\" style=\"stroke:#000000; stroke-linecap:round; stroke-linejoin:round; stroke-width:2; stroke-opacity:0.1; fill:none\" points=\"\n",
       "  140.696,94.7097 2352.76,94.7097 \n",
       "  \"/>\n",
       "<polyline clip-path=\"url(#clip540)\" style=\"stroke:#000000; stroke-linecap:round; stroke-linejoin:round; stroke-width:4; stroke-opacity:1; fill:none\" points=\"\n",
       "  140.696,1486.45 140.696,47.2441 \n",
       "  \"/>\n",
       "<polyline clip-path=\"url(#clip540)\" style=\"stroke:#000000; stroke-linecap:round; stroke-linejoin:round; stroke-width:4; stroke-opacity:1; fill:none\" points=\"\n",
       "  140.696,1297.1 159.593,1297.1 \n",
       "  \"/>\n",
       "<polyline clip-path=\"url(#clip540)\" style=\"stroke:#000000; stroke-linecap:round; stroke-linejoin:round; stroke-width:4; stroke-opacity:1; fill:none\" points=\"\n",
       "  140.696,1056.62 159.593,1056.62 \n",
       "  \"/>\n",
       "<polyline clip-path=\"url(#clip540)\" style=\"stroke:#000000; stroke-linecap:round; stroke-linejoin:round; stroke-width:4; stroke-opacity:1; fill:none\" points=\"\n",
       "  140.696,816.144 159.593,816.144 \n",
       "  \"/>\n",
       "<polyline clip-path=\"url(#clip540)\" style=\"stroke:#000000; stroke-linecap:round; stroke-linejoin:round; stroke-width:4; stroke-opacity:1; fill:none\" points=\"\n",
       "  140.696,575.666 159.593,575.666 \n",
       "  \"/>\n",
       "<polyline clip-path=\"url(#clip540)\" style=\"stroke:#000000; stroke-linecap:round; stroke-linejoin:round; stroke-width:4; stroke-opacity:1; fill:none\" points=\"\n",
       "  140.696,335.188 159.593,335.188 \n",
       "  \"/>\n",
       "<polyline clip-path=\"url(#clip540)\" style=\"stroke:#000000; stroke-linecap:round; stroke-linejoin:round; stroke-width:4; stroke-opacity:1; fill:none\" points=\"\n",
       "  140.696,94.7097 159.593,94.7097 \n",
       "  \"/>\n",
       "<path clip-path=\"url(#clip540)\" d=\"M53.3995 1310.45 L61.0384 1310.45 L61.0384 1284.08 L52.7282 1285.75 L52.7282 1281.49 L60.9921 1279.82 L65.668 1279.82 L65.668 1310.45 L73.3068 1310.45 L73.3068 1314.38 L53.3995 1314.38 L53.3995 1310.45 Z\" fill=\"#000000\" fill-rule=\"evenodd\" fill-opacity=\"1\" /><path clip-path=\"url(#clip540)\" d=\"M92.7512 1282.9 Q89.1401 1282.9 87.3114 1286.46 Q85.5058 1290.01 85.5058 1297.13 Q85.5058 1304.24 87.3114 1307.81 Q89.1401 1311.35 92.7512 1311.35 Q96.3854 1311.35 98.1909 1307.81 Q100.02 1304.24 100.02 1297.13 Q100.02 1290.01 98.1909 1286.46 Q96.3854 1282.9 92.7512 1282.9 M92.7512 1279.2 Q98.5613 1279.2 101.617 1283.8 Q104.696 1288.38 104.696 1297.13 Q104.696 1305.86 101.617 1310.47 Q98.5613 1315.05 92.7512 1315.05 Q86.941 1315.05 83.8623 1310.47 Q80.8068 1305.86 80.8068 1297.13 Q80.8068 1288.38 83.8623 1283.8 Q86.941 1279.2 92.7512 1279.2 Z\" fill=\"#000000\" fill-rule=\"evenodd\" fill-opacity=\"1\" /><path clip-path=\"url(#clip540)\" d=\"M54.3949 1069.97 L62.0337 1069.97 L62.0337 1043.6 L53.7236 1045.27 L53.7236 1041.01 L61.9874 1039.34 L66.6633 1039.34 L66.6633 1069.97 L74.3022 1069.97 L74.3022 1073.9 L54.3949 1073.9 L54.3949 1069.97 Z\" fill=\"#000000\" fill-rule=\"evenodd\" fill-opacity=\"1\" /><path clip-path=\"url(#clip540)\" d=\"M83.7929 1039.34 L102.149 1039.34 L102.149 1043.28 L88.0753 1043.28 L88.0753 1051.75 Q89.0938 1051.4 90.1123 1051.24 Q91.1308 1051.06 92.1493 1051.06 Q97.9363 1051.06 101.316 1054.23 Q104.696 1057.4 104.696 1062.81 Q104.696 1068.39 101.223 1071.49 Q97.7511 1074.57 91.4317 1074.57 Q89.2558 1074.57 86.9873 1074.2 Q84.7419 1073.83 82.3346 1073.09 L82.3346 1068.39 Q84.4179 1069.53 86.6401 1070.08 Q88.8623 1070.64 91.3391 1070.64 Q95.3437 1070.64 97.6817 1068.53 Q100.02 1066.43 100.02 1062.81 Q100.02 1059.2 97.6817 1057.1 Q95.3437 1054.99 91.3391 1054.99 Q89.4641 1054.99 87.5892 1055.41 Q85.7373 1055.82 83.7929 1056.7 L83.7929 1039.34 Z\" fill=\"#000000\" fill-rule=\"evenodd\" fill-opacity=\"1\" /><path clip-path=\"url(#clip540)\" d=\"M56.6171 829.489 L72.9365 829.489 L72.9365 833.424 L50.9921 833.424 L50.9921 829.489 Q53.6541 826.734 58.2375 822.105 Q62.8439 817.452 64.0245 816.109 Q66.2698 813.586 67.1494 811.85 Q68.0522 810.091 68.0522 808.401 Q68.0522 805.646 66.1078 803.91 Q64.1865 802.174 61.0847 802.174 Q58.8856 802.174 56.4319 802.938 Q54.0014 803.702 51.2236 805.253 L51.2236 800.531 Q54.0477 799.396 56.5014 798.818 Q58.955 798.239 60.9921 798.239 Q66.3624 798.239 69.5568 800.924 Q72.7513 803.609 72.7513 808.1 Q72.7513 810.23 71.9411 812.151 Q71.1541 814.049 69.0476 816.642 Q68.4689 817.313 65.367 820.531 Q62.2652 823.725 56.6171 829.489 Z\" fill=\"#000000\" fill-rule=\"evenodd\" fill-opacity=\"1\" /><path clip-path=\"url(#clip540)\" d=\"M92.7512 801.943 Q89.1401 801.943 87.3114 805.507 Q85.5058 809.049 85.5058 816.179 Q85.5058 823.285 87.3114 826.85 Q89.1401 830.392 92.7512 830.392 Q96.3854 830.392 98.1909 826.85 Q100.02 823.285 100.02 816.179 Q100.02 809.049 98.1909 805.507 Q96.3854 801.943 92.7512 801.943 M92.7512 798.239 Q98.5613 798.239 101.617 802.845 Q104.696 807.429 104.696 816.179 Q104.696 824.906 101.617 829.512 Q98.5613 834.095 92.7512 834.095 Q86.941 834.095 83.8623 829.512 Q80.8068 824.906 80.8068 816.179 Q80.8068 807.429 83.8623 802.845 Q86.941 798.239 92.7512 798.239 Z\" fill=\"#000000\" fill-rule=\"evenodd\" fill-opacity=\"1\" /><path clip-path=\"url(#clip540)\" d=\"M57.6125 589.011 L73.9318 589.011 L73.9318 592.946 L51.9875 592.946 L51.9875 589.011 Q54.6495 586.256 59.2328 581.627 Q63.8393 576.974 65.0198 575.631 Q67.2652 573.108 68.1448 571.372 Q69.0476 569.613 69.0476 567.923 Q69.0476 565.168 67.1032 563.432 Q65.1819 561.696 62.08 561.696 Q59.881 561.696 57.4273 562.46 Q54.9967 563.224 52.219 564.775 L52.219 560.053 Q55.043 558.918 57.4967 558.34 Q59.9504 557.761 61.9874 557.761 Q67.3578 557.761 70.5522 560.446 Q73.7466 563.131 73.7466 567.622 Q73.7466 569.752 72.9365 571.673 Q72.1494 573.571 70.0429 576.164 Q69.4642 576.835 66.3624 580.052 Q63.2606 583.247 57.6125 589.011 Z\" fill=\"#000000\" fill-rule=\"evenodd\" fill-opacity=\"1\" /><path clip-path=\"url(#clip540)\" d=\"M83.7929 558.386 L102.149 558.386 L102.149 562.321 L88.0753 562.321 L88.0753 570.793 Q89.0938 570.446 90.1123 570.284 Q91.1308 570.099 92.1493 570.099 Q97.9363 570.099 101.316 573.27 Q104.696 576.441 104.696 581.858 Q104.696 587.437 101.223 590.538 Q97.7511 593.617 91.4317 593.617 Q89.2558 593.617 86.9873 593.247 Q84.7419 592.876 82.3346 592.136 L82.3346 587.437 Q84.4179 588.571 86.6401 589.126 Q88.8623 589.682 91.3391 589.682 Q95.3437 589.682 97.6817 587.576 Q100.02 585.469 100.02 581.858 Q100.02 578.247 97.6817 576.14 Q95.3437 574.034 91.3391 574.034 Q89.4641 574.034 87.5892 574.451 Q85.7373 574.867 83.7929 575.747 L83.7929 558.386 Z\" fill=\"#000000\" fill-rule=\"evenodd\" fill-opacity=\"1\" /><path clip-path=\"url(#clip540)\" d=\"M66.7559 333.834 Q70.1124 334.551 71.9874 336.82 Q73.8855 339.088 73.8855 342.422 Q73.8855 347.537 70.367 350.338 Q66.8485 353.139 60.3671 353.139 Q58.1912 353.139 55.8764 352.699 Q53.5847 352.283 51.131 351.426 L51.131 346.912 Q53.0754 348.047 55.3903 348.625 Q57.7051 349.204 60.2282 349.204 Q64.6263 349.204 66.918 347.468 Q69.2328 345.732 69.2328 342.422 Q69.2328 339.366 67.08 337.653 Q64.9504 335.917 61.131 335.917 L57.1032 335.917 L57.1032 332.074 L61.3161 332.074 Q64.7652 332.074 66.5939 330.709 Q68.4226 329.32 68.4226 326.727 Q68.4226 324.065 66.5245 322.653 Q64.6495 321.218 61.131 321.218 Q59.2097 321.218 57.0106 321.635 Q54.8115 322.051 52.1727 322.931 L52.1727 318.764 Q54.8347 318.024 57.1495 317.653 Q59.4875 317.283 61.5476 317.283 Q66.8717 317.283 69.9735 319.713 Q73.0753 322.121 73.0753 326.241 Q73.0753 329.111 71.4318 331.102 Q69.7883 333.07 66.7559 333.834 Z\" fill=\"#000000\" fill-rule=\"evenodd\" fill-opacity=\"1\" /><path clip-path=\"url(#clip540)\" d=\"M92.7512 320.986 Q89.1401 320.986 87.3114 324.551 Q85.5058 328.093 85.5058 335.222 Q85.5058 342.329 87.3114 345.894 Q89.1401 349.435 92.7512 349.435 Q96.3854 349.435 98.1909 345.894 Q100.02 342.329 100.02 335.222 Q100.02 328.093 98.1909 324.551 Q96.3854 320.986 92.7512 320.986 M92.7512 317.283 Q98.5613 317.283 101.617 321.889 Q104.696 326.473 104.696 335.222 Q104.696 343.949 101.617 348.556 Q98.5613 353.139 92.7512 353.139 Q86.941 353.139 83.8623 348.556 Q80.8068 343.949 80.8068 335.222 Q80.8068 326.473 83.8623 321.889 Q86.941 317.283 92.7512 317.283 Z\" fill=\"#000000\" fill-rule=\"evenodd\" fill-opacity=\"1\" /><path clip-path=\"url(#clip540)\" d=\"M67.7513 93.3555 Q71.1078 94.0731 72.9827 96.3416 Q74.8809 98.6101 74.8809 101.943 Q74.8809 107.059 71.3624 109.86 Q67.8439 112.661 61.3624 112.661 Q59.1865 112.661 56.8717 112.221 Q54.5801 111.804 52.1264 110.948 L52.1264 106.434 Q54.0708 107.568 56.3856 108.147 Q58.7004 108.726 61.2236 108.726 Q65.6217 108.726 67.9133 106.99 Q70.2281 105.254 70.2281 101.943 Q70.2281 98.8879 68.0754 97.1749 Q65.9457 95.4388 62.1263 95.4388 L58.0986 95.4388 L58.0986 91.5963 L62.3115 91.5963 Q65.7606 91.5963 67.5893 90.2305 Q69.418 88.8416 69.418 86.2491 Q69.418 83.587 67.5198 82.175 Q65.6448 80.7398 62.1263 80.7398 Q60.205 80.7398 58.006 81.1565 Q55.8069 81.5732 53.168 82.4528 L53.168 78.2861 Q55.8301 77.5454 58.1449 77.175 Q60.4828 76.8047 62.543 76.8047 Q67.867 76.8047 70.9689 79.2352 Q74.0707 81.6426 74.0707 85.763 Q74.0707 88.6333 72.4272 90.624 Q70.7837 92.5916 67.7513 93.3555 Z\" fill=\"#000000\" fill-rule=\"evenodd\" fill-opacity=\"1\" /><path clip-path=\"url(#clip540)\" d=\"M83.7929 77.4297 L102.149 77.4297 L102.149 81.3648 L88.0753 81.3648 L88.0753 89.837 Q89.0938 89.4898 90.1123 89.3277 Q91.1308 89.1426 92.1493 89.1426 Q97.9363 89.1426 101.316 92.3138 Q104.696 95.4851 104.696 100.902 Q104.696 106.48 101.223 109.582 Q97.7511 112.661 91.4317 112.661 Q89.2558 112.661 86.9873 112.291 Q84.7419 111.92 82.3346 111.179 L82.3346 106.48 Q84.4179 107.615 86.6401 108.17 Q88.8623 108.726 91.3391 108.726 Q95.3437 108.726 97.6817 106.619 Q100.02 104.513 100.02 100.902 Q100.02 97.2907 97.6817 95.1842 Q95.3437 93.0777 91.3391 93.0777 Q89.4641 93.0777 87.5892 93.4944 Q85.7373 93.9111 83.7929 94.7907 L83.7929 77.4297 Z\" fill=\"#000000\" fill-rule=\"evenodd\" fill-opacity=\"1\" /><polyline clip-path=\"url(#clip542)\" style=\"stroke:#009af9; stroke-linecap:round; stroke-linejoin:round; stroke-width:4; stroke-opacity:1; fill:none\" points=\"\n",
       "  203.301,503.522 411.986,448.693 620.671,450.617 829.356,1445.72 1038.04,796.425 1246.73,772.377 1455.41,601.638 1664.1,612.7 1872.78,774.782 2081.47,87.9763 \n",
       "  2290.15,280.359 \n",
       "  \"/>\n",
       "<path clip-path=\"url(#clip540)\" d=\"\n",
       "M214.431 1438.47 L926.977 1438.47 L926.977 1334.79 L214.431 1334.79  Z\n",
       "  \" fill=\"#ffffff\" fill-rule=\"evenodd\" fill-opacity=\"1\"/>\n",
       "<polyline clip-path=\"url(#clip540)\" style=\"stroke:#000000; stroke-linecap:round; stroke-linejoin:round; stroke-width:4; stroke-opacity:1; fill:none\" points=\"\n",
       "  214.431,1438.47 926.977,1438.47 926.977,1334.79 214.431,1334.79 214.431,1438.47 \n",
       "  \"/>\n",
       "<polyline clip-path=\"url(#clip540)\" style=\"stroke:#009af9; stroke-linecap:round; stroke-linejoin:round; stroke-width:4; stroke-opacity:1; fill:none\" points=\"\n",
       "  239.009,1386.63 386.48,1386.63 \n",
       "  \"/>\n",
       "<path clip-path=\"url(#clip540)\" d=\"M418.165 1369.35 L422.841 1369.35 L422.841 1401.51 Q422.841 1407.76 420.457 1410.58 Q418.095 1413.41 412.841 1413.41 L411.058 1413.41 L411.058 1409.47 L412.517 1409.47 Q415.619 1409.47 416.892 1407.73 Q418.165 1406 418.165 1401.51 L418.165 1369.35 Z\" fill=\"#000000\" fill-rule=\"evenodd\" fill-opacity=\"1\" /><path clip-path=\"url(#clip540)\" d=\"M443.743 1390.88 Q438.581 1390.88 436.591 1392.06 Q434.6 1393.24 434.6 1396.09 Q434.6 1398.36 436.081 1399.7 Q437.586 1401.02 440.156 1401.02 Q443.697 1401.02 445.827 1398.52 Q447.98 1396 447.98 1391.83 L447.98 1390.88 L443.743 1390.88 M452.239 1389.12 L452.239 1403.91 L447.98 1403.91 L447.98 1399.98 Q446.521 1402.34 444.345 1403.47 Q442.169 1404.59 439.021 1404.59 Q435.04 1404.59 432.679 1402.36 Q430.341 1400.12 430.341 1396.37 Q430.341 1391.99 433.257 1389.77 Q436.197 1387.55 442.007 1387.55 L447.98 1387.55 L447.98 1387.13 Q447.98 1384.19 446.035 1382.6 Q444.114 1380.97 440.619 1380.97 Q438.396 1380.97 436.29 1381.51 Q434.183 1382.04 432.239 1383.1 L432.239 1379.17 Q434.577 1378.27 436.776 1377.83 Q438.975 1377.36 441.058 1377.36 Q446.683 1377.36 449.461 1380.28 Q452.239 1383.2 452.239 1389.12 Z\" fill=\"#000000\" fill-rule=\"evenodd\" fill-opacity=\"1\" /><path clip-path=\"url(#clip540)\" d=\"M482.563 1388.27 L482.563 1403.91 L478.303 1403.91 L478.303 1388.41 Q478.303 1384.72 476.868 1382.9 Q475.433 1381.07 472.563 1381.07 Q469.114 1381.07 467.123 1383.27 Q465.132 1385.47 465.132 1389.26 L465.132 1403.91 L460.85 1403.91 L460.85 1377.99 L465.132 1377.99 L465.132 1382.02 Q466.66 1379.68 468.72 1378.52 Q470.804 1377.36 473.512 1377.36 Q477.979 1377.36 480.271 1380.14 Q482.563 1382.9 482.563 1388.27 Z\" fill=\"#000000\" fill-rule=\"evenodd\" fill-opacity=\"1\" /><path clip-path=\"url(#clip540)\" d=\"M501.521 1369.35 L530.757 1369.35 L530.757 1373.29 L518.488 1373.29 L518.488 1403.91 L513.789 1403.91 L513.789 1373.29 L501.521 1373.29 L501.521 1369.35 Z\" fill=\"#000000\" fill-rule=\"evenodd\" fill-opacity=\"1\" /><path clip-path=\"url(#clip540)\" d=\"M549.206 1389.89 L549.206 1391.97 L529.623 1391.97 Q529.9 1396.37 532.262 1398.68 Q534.646 1400.97 538.882 1400.97 Q541.336 1400.97 543.627 1400.37 Q545.942 1399.77 548.211 1398.57 L548.211 1402.59 Q545.919 1403.57 543.511 1404.08 Q541.104 1404.59 538.627 1404.59 Q532.424 1404.59 528.789 1400.97 Q525.178 1397.36 525.178 1391.21 Q525.178 1384.84 528.604 1381.11 Q532.053 1377.36 537.886 1377.36 Q543.118 1377.36 546.15 1380.74 Q549.206 1384.1 549.206 1389.89 M544.947 1388.64 Q544.9 1385.14 542.979 1383.06 Q541.081 1380.97 537.933 1380.97 Q534.368 1380.97 532.215 1382.99 Q530.086 1385 529.762 1388.66 L544.947 1388.64 Z\" fill=\"#000000\" fill-rule=\"evenodd\" fill-opacity=\"1\" /><path clip-path=\"url(#clip540)\" d=\"M576.382 1382.97 Q577.979 1380.1 580.201 1378.73 Q582.423 1377.36 585.433 1377.36 Q589.483 1377.36 591.683 1380.21 Q593.882 1383.03 593.882 1388.27 L593.882 1403.91 L589.599 1403.91 L589.599 1388.41 Q589.599 1384.68 588.28 1382.87 Q586.96 1381.07 584.252 1381.07 Q580.942 1381.07 579.021 1383.27 Q577.099 1385.47 577.099 1389.26 L577.099 1403.91 L572.817 1403.91 L572.817 1388.41 Q572.817 1384.66 571.497 1382.87 Q570.178 1381.07 567.423 1381.07 Q564.16 1381.07 562.238 1383.29 Q560.317 1385.49 560.317 1389.26 L560.317 1403.91 L556.035 1403.91 L556.035 1377.99 L560.317 1377.99 L560.317 1382.02 Q561.775 1379.63 563.812 1378.5 Q565.849 1377.36 568.65 1377.36 Q571.474 1377.36 573.442 1378.8 Q575.433 1380.23 576.382 1382.97 Z\" fill=\"#000000\" fill-rule=\"evenodd\" fill-opacity=\"1\" /><path clip-path=\"url(#clip540)\" d=\"M606.497 1400.03 L606.497 1413.78 L602.215 1413.78 L602.215 1377.99 L606.497 1377.99 L606.497 1381.92 Q607.84 1379.61 609.877 1378.5 Q611.937 1377.36 614.784 1377.36 Q619.506 1377.36 622.446 1381.11 Q625.409 1384.86 625.409 1390.97 Q625.409 1397.09 622.446 1400.84 Q619.506 1404.59 614.784 1404.59 Q611.937 1404.59 609.877 1403.47 Q607.84 1402.34 606.497 1400.03 M620.988 1390.97 Q620.988 1386.28 619.043 1383.61 Q617.122 1380.93 613.743 1380.93 Q610.363 1380.93 608.419 1383.61 Q606.497 1386.28 606.497 1390.97 Q606.497 1395.67 608.419 1398.36 Q610.363 1401.02 613.743 1401.02 Q617.122 1401.02 619.043 1398.36 Q620.988 1395.67 620.988 1390.97 Z\" fill=\"#000000\" fill-rule=\"evenodd\" fill-opacity=\"1\" /><path clip-path=\"url(#clip540)\" d=\"M654.645 1389.89 L654.645 1391.97 L635.062 1391.97 Q635.34 1396.37 637.701 1398.68 Q640.085 1400.97 644.321 1400.97 Q646.775 1400.97 649.066 1400.37 Q651.381 1399.77 653.65 1398.57 L653.65 1402.59 Q651.358 1403.57 648.951 1404.08 Q646.543 1404.59 644.066 1404.59 Q637.863 1404.59 634.229 1400.97 Q630.617 1397.36 630.617 1391.21 Q630.617 1384.84 634.043 1381.11 Q637.492 1377.36 643.326 1377.36 Q648.557 1377.36 651.59 1380.74 Q654.645 1384.1 654.645 1389.89 M650.386 1388.64 Q650.34 1385.14 648.418 1383.06 Q646.52 1380.97 643.372 1380.97 Q639.807 1380.97 637.654 1382.99 Q635.525 1385 635.201 1388.66 L650.386 1388.64 Z\" fill=\"#000000\" fill-rule=\"evenodd\" fill-opacity=\"1\" /><path clip-path=\"url(#clip540)\" d=\"M676.659 1381.97 Q675.941 1381.55 675.085 1381.37 Q674.252 1381.16 673.233 1381.16 Q669.622 1381.16 667.677 1383.52 Q665.756 1385.86 665.756 1390.26 L665.756 1403.91 L661.474 1403.91 L661.474 1377.99 L665.756 1377.99 L665.756 1382.02 Q667.099 1379.66 669.252 1378.52 Q671.404 1377.36 674.483 1377.36 Q674.923 1377.36 675.455 1377.43 Q675.988 1377.48 676.636 1377.6 L676.659 1381.97 Z\" fill=\"#000000\" fill-rule=\"evenodd\" fill-opacity=\"1\" /><path clip-path=\"url(#clip540)\" d=\"M692.909 1390.88 Q687.747 1390.88 685.756 1392.06 Q683.765 1393.24 683.765 1396.09 Q683.765 1398.36 685.247 1399.7 Q686.751 1401.02 689.321 1401.02 Q692.863 1401.02 694.992 1398.52 Q697.145 1396 697.145 1391.83 L697.145 1390.88 L692.909 1390.88 M701.404 1389.12 L701.404 1403.91 L697.145 1403.91 L697.145 1399.98 Q695.687 1402.34 693.511 1403.47 Q691.335 1404.59 688.187 1404.59 Q684.205 1404.59 681.844 1402.36 Q679.506 1400.12 679.506 1396.37 Q679.506 1391.99 682.423 1389.77 Q685.363 1387.55 691.173 1387.55 L697.145 1387.55 L697.145 1387.13 Q697.145 1384.19 695.2 1382.6 Q693.279 1380.97 689.784 1380.97 Q687.562 1380.97 685.455 1381.51 Q683.349 1382.04 681.404 1383.1 L681.404 1379.17 Q683.742 1378.27 685.941 1377.83 Q688.14 1377.36 690.224 1377.36 Q695.849 1377.36 698.626 1380.28 Q701.404 1383.2 701.404 1389.12 Z\" fill=\"#000000\" fill-rule=\"evenodd\" fill-opacity=\"1\" /><path clip-path=\"url(#clip540)\" d=\"M714.39 1370.63 L714.39 1377.99 L723.163 1377.99 L723.163 1381.3 L714.39 1381.3 L714.39 1395.37 Q714.39 1398.54 715.247 1399.45 Q716.126 1400.35 718.788 1400.35 L723.163 1400.35 L723.163 1403.91 L718.788 1403.91 Q713.858 1403.91 711.983 1402.09 Q710.108 1400.23 710.108 1395.37 L710.108 1381.3 L706.983 1381.3 L706.983 1377.99 L710.108 1377.99 L710.108 1370.63 L714.39 1370.63 Z\" fill=\"#000000\" fill-rule=\"evenodd\" fill-opacity=\"1\" /><path clip-path=\"url(#clip540)\" d=\"M728.325 1393.68 L728.325 1377.99 L732.585 1377.99 L732.585 1393.52 Q732.585 1397.2 734.02 1399.05 Q735.455 1400.88 738.325 1400.88 Q741.774 1400.88 743.765 1398.68 Q745.779 1396.48 745.779 1392.69 L745.779 1377.99 L750.038 1377.99 L750.038 1403.91 L745.779 1403.91 L745.779 1399.93 Q744.228 1402.29 742.168 1403.45 Q740.131 1404.59 737.422 1404.59 Q732.955 1404.59 730.64 1401.81 Q728.325 1399.03 728.325 1393.68 M739.043 1377.36 L739.043 1377.36 Z\" fill=\"#000000\" fill-rule=\"evenodd\" fill-opacity=\"1\" /><path clip-path=\"url(#clip540)\" d=\"M773.834 1381.97 Q773.117 1381.55 772.26 1381.37 Q771.427 1381.16 770.408 1381.16 Q766.797 1381.16 764.853 1383.52 Q762.932 1385.86 762.932 1390.26 L762.932 1403.91 L758.649 1403.91 L758.649 1377.99 L762.932 1377.99 L762.932 1382.02 Q764.274 1379.66 766.427 1378.52 Q768.58 1377.36 771.658 1377.36 Q772.098 1377.36 772.631 1377.43 Q773.163 1377.48 773.811 1377.6 L773.834 1381.97 Z\" fill=\"#000000\" fill-rule=\"evenodd\" fill-opacity=\"1\" /><path clip-path=\"url(#clip540)\" d=\"M799.436 1389.89 L799.436 1391.97 L779.853 1391.97 Q780.131 1396.37 782.492 1398.68 Q784.876 1400.97 789.112 1400.97 Q791.566 1400.97 793.857 1400.37 Q796.172 1399.77 798.441 1398.57 L798.441 1402.59 Q796.149 1403.57 793.742 1404.08 Q791.334 1404.59 788.857 1404.59 Q782.654 1404.59 779.019 1400.97 Q775.408 1397.36 775.408 1391.21 Q775.408 1384.84 778.834 1381.11 Q782.283 1377.36 788.117 1377.36 Q793.348 1377.36 796.38 1380.74 Q799.436 1384.1 799.436 1389.89 M795.177 1388.64 Q795.13 1385.14 793.209 1383.06 Q791.311 1380.97 788.163 1380.97 Q784.598 1380.97 782.445 1382.99 Q780.316 1385 779.992 1388.66 L795.177 1388.64 Z\" fill=\"#000000\" fill-rule=\"evenodd\" fill-opacity=\"1\" /><path clip-path=\"url(#clip540)\" d=\"M841.681 1382.97 Q843.278 1380.1 845.501 1378.73 Q847.723 1377.36 850.732 1377.36 Q854.783 1377.36 856.982 1380.21 Q859.181 1383.03 859.181 1388.27 L859.181 1403.91 L854.899 1403.91 L854.899 1388.41 Q854.899 1384.68 853.579 1382.87 Q852.26 1381.07 849.551 1381.07 Q846.241 1381.07 844.32 1383.27 Q842.399 1385.47 842.399 1389.26 L842.399 1403.91 L838.116 1403.91 L838.116 1388.41 Q838.116 1384.66 836.797 1382.87 Q835.477 1381.07 832.723 1381.07 Q829.459 1381.07 827.538 1383.29 Q825.616 1385.49 825.616 1389.26 L825.616 1403.91 L821.334 1403.91 L821.334 1377.99 L825.616 1377.99 L825.616 1382.02 Q827.075 1379.63 829.112 1378.5 Q831.149 1377.36 833.95 1377.36 Q836.774 1377.36 838.741 1378.8 Q840.732 1380.23 841.681 1382.97 Z\" fill=\"#000000\" fill-rule=\"evenodd\" fill-opacity=\"1\" /><path clip-path=\"url(#clip540)\" d=\"M867.676 1377.99 L871.936 1377.99 L871.936 1403.91 L867.676 1403.91 L867.676 1377.99 M867.676 1367.9 L871.936 1367.9 L871.936 1373.29 L867.676 1373.29 L867.676 1367.9 Z\" fill=\"#000000\" fill-rule=\"evenodd\" fill-opacity=\"1\" /><path clip-path=\"url(#clip540)\" d=\"M902.398 1388.27 L902.398 1403.91 L898.139 1403.91 L898.139 1388.41 Q898.139 1384.72 896.704 1382.9 Q895.269 1381.07 892.398 1381.07 Q888.949 1381.07 886.959 1383.27 Q884.968 1385.47 884.968 1389.26 L884.968 1403.91 L880.686 1403.91 L880.686 1377.99 L884.968 1377.99 L884.968 1382.02 Q886.496 1379.68 888.556 1378.52 Q890.639 1377.36 893.348 1377.36 Q897.815 1377.36 900.107 1380.14 Q902.398 1382.9 902.398 1388.27 Z\" fill=\"#000000\" fill-rule=\"evenodd\" fill-opacity=\"1\" /></svg>\n"
      ]
     },
     "execution_count": 58,
     "metadata": {},
     "output_type": "execute_result"
    }
   ],
   "source": [
    "plot(1:11, Jantempmin, label=\"Jan Temperature min\", legend=:bottomleft)"
   ]
  },
  {
   "cell_type": "markdown",
   "id": "6df59c0f",
   "metadata": {},
   "source": [
    "# Now we do this for Jan Max average temperature 1922-1932 \n"
   ]
  },
  {
   "cell_type": "code",
   "execution_count": 59,
   "id": "e5f62e0a",
   "metadata": {},
   "outputs": [
    {
     "data": {
      "text/plain": [
       "11-element Vector{Any}:\n",
       "  5.65\n",
       " 11.2\n",
       " -3.25\n",
       "  9.9\n",
       " 14.95\n",
       "  7.75\n",
       " 17.3\n",
       " -2.95\n",
       "  9.0\n",
       " 17.8\n",
       " 22.5"
      ]
     },
     "execution_count": 59,
     "metadata": {},
     "output_type": "execute_result"
    }
   ],
   "source": [
    "Jantempmax=B[2:12,5]"
   ]
  },
  {
   "cell_type": "code",
   "execution_count": 60,
   "id": "44cbf689",
   "metadata": {},
   "outputs": [
    {
     "data": {
      "image/svg+xml": [
       "<?xml version=\"1.0\" encoding=\"utf-8\"?>\n",
       "<svg xmlns=\"http://www.w3.org/2000/svg\" xmlns:xlink=\"http://www.w3.org/1999/xlink\" width=\"600\" height=\"400\" viewBox=\"0 0 2400 1600\">\n",
       "<defs>\n",
       "  <clipPath id=\"clip580\">\n",
       "    <rect x=\"0\" y=\"0\" width=\"2400\" height=\"1600\"/>\n",
       "  </clipPath>\n",
       "</defs>\n",
       "<path clip-path=\"url(#clip580)\" d=\"\n",
       "M0 1600 L2400 1600 L2400 0 L0 0  Z\n",
       "  \" fill=\"#ffffff\" fill-rule=\"evenodd\" fill-opacity=\"1\"/>\n",
       "<defs>\n",
       "  <clipPath id=\"clip581\">\n",
       "    <rect x=\"480\" y=\"0\" width=\"1681\" height=\"1600\"/>\n",
       "  </clipPath>\n",
       "</defs>\n",
       "<path clip-path=\"url(#clip580)\" d=\"\n",
       "M140.696 1486.45 L2352.76 1486.45 L2352.76 47.2441 L140.696 47.2441  Z\n",
       "  \" fill=\"#ffffff\" fill-rule=\"evenodd\" fill-opacity=\"1\"/>\n",
       "<defs>\n",
       "  <clipPath id=\"clip582\">\n",
       "    <rect x=\"140\" y=\"47\" width=\"2213\" height=\"1440\"/>\n",
       "  </clipPath>\n",
       "</defs>\n",
       "<polyline clip-path=\"url(#clip582)\" style=\"stroke:#000000; stroke-linecap:round; stroke-linejoin:round; stroke-width:2; stroke-opacity:0.1; fill:none\" points=\"\n",
       "  411.986,1486.45 411.986,47.2441 \n",
       "  \"/>\n",
       "<polyline clip-path=\"url(#clip582)\" style=\"stroke:#000000; stroke-linecap:round; stroke-linejoin:round; stroke-width:2; stroke-opacity:0.1; fill:none\" points=\"\n",
       "  829.356,1486.45 829.356,47.2441 \n",
       "  \"/>\n",
       "<polyline clip-path=\"url(#clip582)\" style=\"stroke:#000000; stroke-linecap:round; stroke-linejoin:round; stroke-width:2; stroke-opacity:0.1; fill:none\" points=\"\n",
       "  1246.73,1486.45 1246.73,47.2441 \n",
       "  \"/>\n",
       "<polyline clip-path=\"url(#clip582)\" style=\"stroke:#000000; stroke-linecap:round; stroke-linejoin:round; stroke-width:2; stroke-opacity:0.1; fill:none\" points=\"\n",
       "  1664.1,1486.45 1664.1,47.2441 \n",
       "  \"/>\n",
       "<polyline clip-path=\"url(#clip582)\" style=\"stroke:#000000; stroke-linecap:round; stroke-linejoin:round; stroke-width:2; stroke-opacity:0.1; fill:none\" points=\"\n",
       "  2081.47,1486.45 2081.47,47.2441 \n",
       "  \"/>\n",
       "<polyline clip-path=\"url(#clip580)\" style=\"stroke:#000000; stroke-linecap:round; stroke-linejoin:round; stroke-width:4; stroke-opacity:1; fill:none\" points=\"\n",
       "  140.696,1486.45 2352.76,1486.45 \n",
       "  \"/>\n",
       "<polyline clip-path=\"url(#clip580)\" style=\"stroke:#000000; stroke-linecap:round; stroke-linejoin:round; stroke-width:4; stroke-opacity:1; fill:none\" points=\"\n",
       "  411.986,1486.45 411.986,1467.55 \n",
       "  \"/>\n",
       "<polyline clip-path=\"url(#clip580)\" style=\"stroke:#000000; stroke-linecap:round; stroke-linejoin:round; stroke-width:4; stroke-opacity:1; fill:none\" points=\"\n",
       "  829.356,1486.45 829.356,1467.55 \n",
       "  \"/>\n",
       "<polyline clip-path=\"url(#clip580)\" style=\"stroke:#000000; stroke-linecap:round; stroke-linejoin:round; stroke-width:4; stroke-opacity:1; fill:none\" points=\"\n",
       "  1246.73,1486.45 1246.73,1467.55 \n",
       "  \"/>\n",
       "<polyline clip-path=\"url(#clip580)\" style=\"stroke:#000000; stroke-linecap:round; stroke-linejoin:round; stroke-width:4; stroke-opacity:1; fill:none\" points=\"\n",
       "  1664.1,1486.45 1664.1,1467.55 \n",
       "  \"/>\n",
       "<polyline clip-path=\"url(#clip580)\" style=\"stroke:#000000; stroke-linecap:round; stroke-linejoin:round; stroke-width:4; stroke-opacity:1; fill:none\" points=\"\n",
       "  2081.47,1486.45 2081.47,1467.55 \n",
       "  \"/>\n",
       "<path clip-path=\"url(#clip580)\" d=\"M406.639 1544.91 L422.958 1544.91 L422.958 1548.85 L401.014 1548.85 L401.014 1544.91 Q403.676 1542.16 408.259 1537.53 Q412.866 1532.88 414.046 1531.53 Q416.291 1529.01 417.171 1527.27 Q418.074 1525.51 418.074 1523.82 Q418.074 1521.07 416.129 1519.33 Q414.208 1517.6 411.106 1517.6 Q408.907 1517.6 406.454 1518.36 Q404.023 1519.13 401.245 1520.68 L401.245 1515.95 Q404.069 1514.82 406.523 1514.24 Q408.977 1513.66 411.014 1513.66 Q416.384 1513.66 419.579 1516.35 Q422.773 1519.03 422.773 1523.52 Q422.773 1525.65 421.963 1527.57 Q421.176 1529.47 419.069 1532.07 Q418.491 1532.74 415.389 1535.95 Q412.287 1539.15 406.639 1544.91 Z\" fill=\"#000000\" fill-rule=\"evenodd\" fill-opacity=\"1\" /><path clip-path=\"url(#clip580)\" d=\"M832.365 1518.36 L820.56 1536.81 L832.365 1536.81 L832.365 1518.36 M831.138 1514.29 L837.018 1514.29 L837.018 1536.81 L841.948 1536.81 L841.948 1540.7 L837.018 1540.7 L837.018 1548.85 L832.365 1548.85 L832.365 1540.7 L816.763 1540.7 L816.763 1536.19 L831.138 1514.29 Z\" fill=\"#000000\" fill-rule=\"evenodd\" fill-opacity=\"1\" /><path clip-path=\"url(#clip580)\" d=\"M1247.13 1529.7 Q1243.98 1529.7 1242.13 1531.86 Q1240.3 1534.01 1240.3 1537.76 Q1240.3 1541.49 1242.13 1543.66 Q1243.98 1545.82 1247.13 1545.82 Q1250.28 1545.82 1252.11 1543.66 Q1253.96 1541.49 1253.96 1537.76 Q1253.96 1534.01 1252.11 1531.86 Q1250.28 1529.7 1247.13 1529.7 M1256.41 1515.05 L1256.41 1519.31 Q1254.65 1518.48 1252.85 1518.04 Q1251.07 1517.6 1249.31 1517.6 Q1244.68 1517.6 1242.22 1520.72 Q1239.79 1523.85 1239.45 1530.17 Q1240.81 1528.15 1242.87 1527.09 Q1244.93 1526 1247.41 1526 Q1252.62 1526 1255.63 1529.17 Q1258.66 1532.32 1258.66 1537.76 Q1258.66 1543.08 1255.51 1546.3 Q1252.36 1549.52 1247.13 1549.52 Q1241.14 1549.52 1237.96 1544.94 Q1234.79 1540.33 1234.79 1531.6 Q1234.79 1523.41 1238.68 1518.55 Q1242.57 1513.66 1249.12 1513.66 Q1250.88 1513.66 1252.66 1514.01 Q1254.47 1514.36 1256.41 1515.05 Z\" fill=\"#000000\" fill-rule=\"evenodd\" fill-opacity=\"1\" /><path clip-path=\"url(#clip580)\" d=\"M1664.1 1532.44 Q1660.76 1532.44 1658.84 1534.22 Q1656.94 1536 1656.94 1539.13 Q1656.94 1542.25 1658.84 1544.03 Q1660.76 1545.82 1664.1 1545.82 Q1667.43 1545.82 1669.35 1544.03 Q1671.27 1542.23 1671.27 1539.13 Q1671.27 1536 1669.35 1534.22 Q1667.45 1532.44 1664.1 1532.44 M1659.42 1530.45 Q1656.41 1529.7 1654.72 1527.64 Q1653.05 1525.58 1653.05 1522.62 Q1653.05 1518.48 1655.99 1516.07 Q1658.96 1513.66 1664.1 1513.66 Q1669.26 1513.66 1672.2 1516.07 Q1675.14 1518.48 1675.14 1522.62 Q1675.14 1525.58 1673.45 1527.64 Q1671.78 1529.7 1668.79 1530.45 Q1672.17 1531.23 1674.05 1533.52 Q1675.95 1535.82 1675.95 1539.13 Q1675.95 1544.15 1672.87 1546.83 Q1669.81 1549.52 1664.1 1549.52 Q1658.38 1549.52 1655.3 1546.83 Q1652.24 1544.15 1652.24 1539.13 Q1652.24 1535.82 1654.14 1533.52 Q1656.04 1531.23 1659.42 1530.45 M1657.71 1523.06 Q1657.71 1525.75 1659.37 1527.25 Q1661.06 1528.76 1664.1 1528.76 Q1667.1 1528.76 1668.79 1527.25 Q1670.51 1525.75 1670.51 1523.06 Q1670.51 1520.38 1668.79 1518.87 Q1667.1 1517.37 1664.1 1517.37 Q1661.06 1517.37 1659.37 1518.87 Q1657.71 1520.38 1657.71 1523.06 Z\" fill=\"#000000\" fill-rule=\"evenodd\" fill-opacity=\"1\" /><path clip-path=\"url(#clip580)\" d=\"M2056.15 1544.91 L2063.79 1544.91 L2063.79 1518.55 L2055.48 1520.21 L2055.48 1515.95 L2063.75 1514.29 L2068.42 1514.29 L2068.42 1544.91 L2076.06 1544.91 L2076.06 1548.85 L2056.15 1548.85 L2056.15 1544.91 Z\" fill=\"#000000\" fill-rule=\"evenodd\" fill-opacity=\"1\" /><path clip-path=\"url(#clip580)\" d=\"M2095.5 1517.37 Q2091.89 1517.37 2090.06 1520.93 Q2088.26 1524.47 2088.26 1531.6 Q2088.26 1538.71 2090.06 1542.27 Q2091.89 1545.82 2095.5 1545.82 Q2099.14 1545.82 2100.94 1542.27 Q2102.77 1538.71 2102.77 1531.6 Q2102.77 1524.47 2100.94 1520.93 Q2099.14 1517.37 2095.5 1517.37 M2095.5 1513.66 Q2101.31 1513.66 2104.37 1518.27 Q2107.45 1522.85 2107.45 1531.6 Q2107.45 1540.33 2104.37 1544.94 Q2101.31 1549.52 2095.5 1549.52 Q2089.69 1549.52 2086.62 1544.94 Q2083.56 1540.33 2083.56 1531.6 Q2083.56 1522.85 2086.62 1518.27 Q2089.69 1513.66 2095.5 1513.66 Z\" fill=\"#000000\" fill-rule=\"evenodd\" fill-opacity=\"1\" /><polyline clip-path=\"url(#clip582)\" style=\"stroke:#000000; stroke-linecap:round; stroke-linejoin:round; stroke-width:2; stroke-opacity:0.1; fill:none\" points=\"\n",
       "  140.696,1274.35 2352.76,1274.35 \n",
       "  \"/>\n",
       "<polyline clip-path=\"url(#clip582)\" style=\"stroke:#000000; stroke-linecap:round; stroke-linejoin:round; stroke-width:2; stroke-opacity:0.1; fill:none\" points=\"\n",
       "  140.696,1010.71 2352.76,1010.71 \n",
       "  \"/>\n",
       "<polyline clip-path=\"url(#clip582)\" style=\"stroke:#000000; stroke-linecap:round; stroke-linejoin:round; stroke-width:2; stroke-opacity:0.1; fill:none\" points=\"\n",
       "  140.696,747.073 2352.76,747.073 \n",
       "  \"/>\n",
       "<polyline clip-path=\"url(#clip582)\" style=\"stroke:#000000; stroke-linecap:round; stroke-linejoin:round; stroke-width:2; stroke-opacity:0.1; fill:none\" points=\"\n",
       "  140.696,483.434 2352.76,483.434 \n",
       "  \"/>\n",
       "<polyline clip-path=\"url(#clip582)\" style=\"stroke:#000000; stroke-linecap:round; stroke-linejoin:round; stroke-width:2; stroke-opacity:0.1; fill:none\" points=\"\n",
       "  140.696,219.796 2352.76,219.796 \n",
       "  \"/>\n",
       "<polyline clip-path=\"url(#clip580)\" style=\"stroke:#000000; stroke-linecap:round; stroke-linejoin:round; stroke-width:4; stroke-opacity:1; fill:none\" points=\"\n",
       "  140.696,1486.45 140.696,47.2441 \n",
       "  \"/>\n",
       "<polyline clip-path=\"url(#clip580)\" style=\"stroke:#000000; stroke-linecap:round; stroke-linejoin:round; stroke-width:4; stroke-opacity:1; fill:none\" points=\"\n",
       "  140.696,1274.35 159.593,1274.35 \n",
       "  \"/>\n",
       "<polyline clip-path=\"url(#clip580)\" style=\"stroke:#000000; stroke-linecap:round; stroke-linejoin:round; stroke-width:4; stroke-opacity:1; fill:none\" points=\"\n",
       "  140.696,1010.71 159.593,1010.71 \n",
       "  \"/>\n",
       "<polyline clip-path=\"url(#clip580)\" style=\"stroke:#000000; stroke-linecap:round; stroke-linejoin:round; stroke-width:4; stroke-opacity:1; fill:none\" points=\"\n",
       "  140.696,747.073 159.593,747.073 \n",
       "  \"/>\n",
       "<polyline clip-path=\"url(#clip580)\" style=\"stroke:#000000; stroke-linecap:round; stroke-linejoin:round; stroke-width:4; stroke-opacity:1; fill:none\" points=\"\n",
       "  140.696,483.434 159.593,483.434 \n",
       "  \"/>\n",
       "<polyline clip-path=\"url(#clip580)\" style=\"stroke:#000000; stroke-linecap:round; stroke-linejoin:round; stroke-width:4; stroke-opacity:1; fill:none\" points=\"\n",
       "  140.696,219.796 159.593,219.796 \n",
       "  \"/>\n",
       "<path clip-path=\"url(#clip580)\" d=\"M92.7512 1260.15 Q89.1401 1260.15 87.3114 1263.71 Q85.5058 1267.26 85.5058 1274.39 Q85.5058 1281.49 87.3114 1285.06 Q89.1401 1288.6 92.7512 1288.6 Q96.3854 1288.6 98.1909 1285.06 Q100.02 1281.49 100.02 1274.39 Q100.02 1267.26 98.1909 1263.71 Q96.3854 1260.15 92.7512 1260.15 M92.7512 1256.45 Q98.5613 1256.45 101.617 1261.05 Q104.696 1265.64 104.696 1274.39 Q104.696 1283.11 101.617 1287.72 Q98.5613 1292.3 92.7512 1292.3 Q86.941 1292.3 83.8623 1287.72 Q80.8068 1283.11 80.8068 1274.39 Q80.8068 1265.64 83.8623 1261.05 Q86.941 1256.45 92.7512 1256.45 Z\" fill=\"#000000\" fill-rule=\"evenodd\" fill-opacity=\"1\" /><path clip-path=\"url(#clip580)\" d=\"M83.7929 993.432 L102.149 993.432 L102.149 997.367 L88.0753 997.367 L88.0753 1005.84 Q89.0938 1005.49 90.1123 1005.33 Q91.1308 1005.14 92.1493 1005.14 Q97.9363 1005.14 101.316 1008.32 Q104.696 1011.49 104.696 1016.9 Q104.696 1022.48 101.223 1025.58 Q97.7511 1028.66 91.4317 1028.66 Q89.2558 1028.66 86.9873 1028.29 Q84.7419 1027.92 82.3346 1027.18 L82.3346 1022.48 Q84.4179 1023.62 86.6401 1024.17 Q88.8623 1024.73 91.3391 1024.73 Q95.3437 1024.73 97.6817 1022.62 Q100.02 1020.51 100.02 1016.9 Q100.02 1013.29 97.6817 1011.19 Q95.3437 1009.08 91.3391 1009.08 Q89.4641 1009.08 87.5892 1009.5 Q85.7373 1009.91 83.7929 1010.79 L83.7929 993.432 Z\" fill=\"#000000\" fill-rule=\"evenodd\" fill-opacity=\"1\" /><path clip-path=\"url(#clip580)\" d=\"M53.3995 760.418 L61.0384 760.418 L61.0384 734.052 L52.7282 735.719 L52.7282 731.46 L60.9921 729.793 L65.668 729.793 L65.668 760.418 L73.3068 760.418 L73.3068 764.353 L53.3995 764.353 L53.3995 760.418 Z\" fill=\"#000000\" fill-rule=\"evenodd\" fill-opacity=\"1\" /><path clip-path=\"url(#clip580)\" d=\"M92.7512 732.872 Q89.1401 732.872 87.3114 736.437 Q85.5058 739.978 85.5058 747.108 Q85.5058 754.214 87.3114 757.779 Q89.1401 761.321 92.7512 761.321 Q96.3854 761.321 98.1909 757.779 Q100.02 754.214 100.02 747.108 Q100.02 739.978 98.1909 736.437 Q96.3854 732.872 92.7512 732.872 M92.7512 729.168 Q98.5613 729.168 101.617 733.775 Q104.696 738.358 104.696 747.108 Q104.696 755.835 101.617 760.441 Q98.5613 765.024 92.7512 765.024 Q86.941 765.024 83.8623 760.441 Q80.8068 755.835 80.8068 747.108 Q80.8068 738.358 83.8623 733.775 Q86.941 729.168 92.7512 729.168 Z\" fill=\"#000000\" fill-rule=\"evenodd\" fill-opacity=\"1\" /><path clip-path=\"url(#clip580)\" d=\"M54.3949 496.779 L62.0337 496.779 L62.0337 470.414 L53.7236 472.08 L53.7236 467.821 L61.9874 466.154 L66.6633 466.154 L66.6633 496.779 L74.3022 496.779 L74.3022 500.714 L54.3949 500.714 L54.3949 496.779 Z\" fill=\"#000000\" fill-rule=\"evenodd\" fill-opacity=\"1\" /><path clip-path=\"url(#clip580)\" d=\"M83.7929 466.154 L102.149 466.154 L102.149 470.09 L88.0753 470.09 L88.0753 478.562 Q89.0938 478.214 90.1123 478.052 Q91.1308 477.867 92.1493 477.867 Q97.9363 477.867 101.316 481.039 Q104.696 484.21 104.696 489.626 Q104.696 495.205 101.223 498.307 Q97.7511 501.386 91.4317 501.386 Q89.2558 501.386 86.9873 501.015 Q84.7419 500.645 82.3346 499.904 L82.3346 495.205 Q84.4179 496.339 86.6401 496.895 Q88.8623 497.45 91.3391 497.45 Q95.3437 497.45 97.6817 495.344 Q100.02 493.238 100.02 489.626 Q100.02 486.015 97.6817 483.909 Q95.3437 481.802 91.3391 481.802 Q89.4641 481.802 87.5892 482.219 Q85.7373 482.636 83.7929 483.515 L83.7929 466.154 Z\" fill=\"#000000\" fill-rule=\"evenodd\" fill-opacity=\"1\" /><path clip-path=\"url(#clip580)\" d=\"M56.6171 233.14 L72.9365 233.14 L72.9365 237.076 L50.9921 237.076 L50.9921 233.14 Q53.6541 230.386 58.2375 225.756 Q62.8439 221.104 64.0245 219.761 Q66.2698 217.238 67.1494 215.502 Q68.0522 213.742 68.0522 212.053 Q68.0522 209.298 66.1078 207.562 Q64.1865 205.826 61.0847 205.826 Q58.8856 205.826 56.4319 206.59 Q54.0014 207.354 51.2236 208.904 L51.2236 204.182 Q54.0477 203.048 56.5014 202.469 Q58.955 201.891 60.9921 201.891 Q66.3624 201.891 69.5568 204.576 Q72.7513 207.261 72.7513 211.752 Q72.7513 213.881 71.9411 215.803 Q71.1541 217.701 69.0476 220.293 Q68.4689 220.965 65.367 224.182 Q62.2652 227.377 56.6171 233.14 Z\" fill=\"#000000\" fill-rule=\"evenodd\" fill-opacity=\"1\" /><path clip-path=\"url(#clip580)\" d=\"M92.7512 205.594 Q89.1401 205.594 87.3114 209.159 Q85.5058 212.701 85.5058 219.83 Q85.5058 226.937 87.3114 230.502 Q89.1401 234.043 92.7512 234.043 Q96.3854 234.043 98.1909 230.502 Q100.02 226.937 100.02 219.83 Q100.02 212.701 98.1909 209.159 Q96.3854 205.594 92.7512 205.594 M92.7512 201.891 Q98.5613 201.891 101.617 206.497 Q104.696 211.08 104.696 219.83 Q104.696 228.557 101.617 233.164 Q98.5613 237.747 92.7512 237.747 Q86.941 237.747 83.8623 233.164 Q80.8068 228.557 80.8068 219.83 Q80.8068 211.08 83.8623 206.497 Q86.941 201.891 92.7512 201.891 Z\" fill=\"#000000\" fill-rule=\"evenodd\" fill-opacity=\"1\" /><polyline clip-path=\"url(#clip582)\" style=\"stroke:#009af9; stroke-linecap:round; stroke-linejoin:round; stroke-width:4; stroke-opacity:1; fill:none\" points=\"\n",
       "  203.301,976.439 411.986,683.8 620.671,1445.72 829.356,752.346 1038.04,486.071 1246.73,865.711 1455.41,362.161 1664.1,1429.9 1872.78,799.801 2081.47,335.797 \n",
       "  2290.15,87.9763 \n",
       "  \"/>\n",
       "<path clip-path=\"url(#clip580)\" d=\"\n",
       "M214.431 1438.47 L943.343 1438.47 L943.343 1334.79 L214.431 1334.79  Z\n",
       "  \" fill=\"#ffffff\" fill-rule=\"evenodd\" fill-opacity=\"1\"/>\n",
       "<polyline clip-path=\"url(#clip580)\" style=\"stroke:#000000; stroke-linecap:round; stroke-linejoin:round; stroke-width:4; stroke-opacity:1; fill:none\" points=\"\n",
       "  214.431,1438.47 943.343,1438.47 943.343,1334.79 214.431,1334.79 214.431,1438.47 \n",
       "  \"/>\n",
       "<polyline clip-path=\"url(#clip580)\" style=\"stroke:#009af9; stroke-linecap:round; stroke-linejoin:round; stroke-width:4; stroke-opacity:1; fill:none\" points=\"\n",
       "  239.009,1386.63 386.48,1386.63 \n",
       "  \"/>\n",
       "<path clip-path=\"url(#clip580)\" d=\"M418.165 1369.35 L422.841 1369.35 L422.841 1401.51 Q422.841 1407.76 420.457 1410.58 Q418.095 1413.41 412.841 1413.41 L411.058 1413.41 L411.058 1409.47 L412.517 1409.47 Q415.619 1409.47 416.892 1407.73 Q418.165 1406 418.165 1401.51 L418.165 1369.35 Z\" fill=\"#000000\" fill-rule=\"evenodd\" fill-opacity=\"1\" /><path clip-path=\"url(#clip580)\" d=\"M443.743 1390.88 Q438.581 1390.88 436.591 1392.06 Q434.6 1393.24 434.6 1396.09 Q434.6 1398.36 436.081 1399.7 Q437.586 1401.02 440.156 1401.02 Q443.697 1401.02 445.827 1398.52 Q447.98 1396 447.98 1391.83 L447.98 1390.88 L443.743 1390.88 M452.239 1389.12 L452.239 1403.91 L447.98 1403.91 L447.98 1399.98 Q446.521 1402.34 444.345 1403.47 Q442.169 1404.59 439.021 1404.59 Q435.04 1404.59 432.679 1402.36 Q430.341 1400.12 430.341 1396.37 Q430.341 1391.99 433.257 1389.77 Q436.197 1387.55 442.007 1387.55 L447.98 1387.55 L447.98 1387.13 Q447.98 1384.19 446.035 1382.6 Q444.114 1380.97 440.619 1380.97 Q438.396 1380.97 436.29 1381.51 Q434.183 1382.04 432.239 1383.1 L432.239 1379.17 Q434.577 1378.27 436.776 1377.83 Q438.975 1377.36 441.058 1377.36 Q446.683 1377.36 449.461 1380.28 Q452.239 1383.2 452.239 1389.12 Z\" fill=\"#000000\" fill-rule=\"evenodd\" fill-opacity=\"1\" /><path clip-path=\"url(#clip580)\" d=\"M482.563 1388.27 L482.563 1403.91 L478.303 1403.91 L478.303 1388.41 Q478.303 1384.72 476.868 1382.9 Q475.433 1381.07 472.563 1381.07 Q469.114 1381.07 467.123 1383.27 Q465.132 1385.47 465.132 1389.26 L465.132 1403.91 L460.85 1403.91 L460.85 1377.99 L465.132 1377.99 L465.132 1382.02 Q466.66 1379.68 468.72 1378.52 Q470.804 1377.36 473.512 1377.36 Q477.979 1377.36 480.271 1380.14 Q482.563 1382.9 482.563 1388.27 Z\" fill=\"#000000\" fill-rule=\"evenodd\" fill-opacity=\"1\" /><path clip-path=\"url(#clip580)\" d=\"M501.521 1369.35 L530.757 1369.35 L530.757 1373.29 L518.488 1373.29 L518.488 1403.91 L513.789 1403.91 L513.789 1373.29 L501.521 1373.29 L501.521 1369.35 Z\" fill=\"#000000\" fill-rule=\"evenodd\" fill-opacity=\"1\" /><path clip-path=\"url(#clip580)\" d=\"M549.206 1389.89 L549.206 1391.97 L529.623 1391.97 Q529.9 1396.37 532.262 1398.68 Q534.646 1400.97 538.882 1400.97 Q541.336 1400.97 543.627 1400.37 Q545.942 1399.77 548.211 1398.57 L548.211 1402.59 Q545.919 1403.57 543.511 1404.08 Q541.104 1404.59 538.627 1404.59 Q532.424 1404.59 528.789 1400.97 Q525.178 1397.36 525.178 1391.21 Q525.178 1384.84 528.604 1381.11 Q532.053 1377.36 537.886 1377.36 Q543.118 1377.36 546.15 1380.74 Q549.206 1384.1 549.206 1389.89 M544.947 1388.64 Q544.9 1385.14 542.979 1383.06 Q541.081 1380.97 537.933 1380.97 Q534.368 1380.97 532.215 1382.99 Q530.086 1385 529.762 1388.66 L544.947 1388.64 Z\" fill=\"#000000\" fill-rule=\"evenodd\" fill-opacity=\"1\" /><path clip-path=\"url(#clip580)\" d=\"M576.382 1382.97 Q577.979 1380.1 580.201 1378.73 Q582.423 1377.36 585.433 1377.36 Q589.483 1377.36 591.683 1380.21 Q593.882 1383.03 593.882 1388.27 L593.882 1403.91 L589.599 1403.91 L589.599 1388.41 Q589.599 1384.68 588.28 1382.87 Q586.96 1381.07 584.252 1381.07 Q580.942 1381.07 579.021 1383.27 Q577.099 1385.47 577.099 1389.26 L577.099 1403.91 L572.817 1403.91 L572.817 1388.41 Q572.817 1384.66 571.497 1382.87 Q570.178 1381.07 567.423 1381.07 Q564.16 1381.07 562.238 1383.29 Q560.317 1385.49 560.317 1389.26 L560.317 1403.91 L556.035 1403.91 L556.035 1377.99 L560.317 1377.99 L560.317 1382.02 Q561.775 1379.63 563.812 1378.5 Q565.849 1377.36 568.65 1377.36 Q571.474 1377.36 573.442 1378.8 Q575.433 1380.23 576.382 1382.97 Z\" fill=\"#000000\" fill-rule=\"evenodd\" fill-opacity=\"1\" /><path clip-path=\"url(#clip580)\" d=\"M606.497 1400.03 L606.497 1413.78 L602.215 1413.78 L602.215 1377.99 L606.497 1377.99 L606.497 1381.92 Q607.84 1379.61 609.877 1378.5 Q611.937 1377.36 614.784 1377.36 Q619.506 1377.36 622.446 1381.11 Q625.409 1384.86 625.409 1390.97 Q625.409 1397.09 622.446 1400.84 Q619.506 1404.59 614.784 1404.59 Q611.937 1404.59 609.877 1403.47 Q607.84 1402.34 606.497 1400.03 M620.988 1390.97 Q620.988 1386.28 619.043 1383.61 Q617.122 1380.93 613.743 1380.93 Q610.363 1380.93 608.419 1383.61 Q606.497 1386.28 606.497 1390.97 Q606.497 1395.67 608.419 1398.36 Q610.363 1401.02 613.743 1401.02 Q617.122 1401.02 619.043 1398.36 Q620.988 1395.67 620.988 1390.97 Z\" fill=\"#000000\" fill-rule=\"evenodd\" fill-opacity=\"1\" /><path clip-path=\"url(#clip580)\" d=\"M654.645 1389.89 L654.645 1391.97 L635.062 1391.97 Q635.34 1396.37 637.701 1398.68 Q640.085 1400.97 644.321 1400.97 Q646.775 1400.97 649.066 1400.37 Q651.381 1399.77 653.65 1398.57 L653.65 1402.59 Q651.358 1403.57 648.951 1404.08 Q646.543 1404.59 644.066 1404.59 Q637.863 1404.59 634.229 1400.97 Q630.617 1397.36 630.617 1391.21 Q630.617 1384.84 634.043 1381.11 Q637.492 1377.36 643.326 1377.36 Q648.557 1377.36 651.59 1380.74 Q654.645 1384.1 654.645 1389.89 M650.386 1388.64 Q650.34 1385.14 648.418 1383.06 Q646.52 1380.97 643.372 1380.97 Q639.807 1380.97 637.654 1382.99 Q635.525 1385 635.201 1388.66 L650.386 1388.64 Z\" fill=\"#000000\" fill-rule=\"evenodd\" fill-opacity=\"1\" /><path clip-path=\"url(#clip580)\" d=\"M676.659 1381.97 Q675.941 1381.55 675.085 1381.37 Q674.252 1381.16 673.233 1381.16 Q669.622 1381.16 667.677 1383.52 Q665.756 1385.86 665.756 1390.26 L665.756 1403.91 L661.474 1403.91 L661.474 1377.99 L665.756 1377.99 L665.756 1382.02 Q667.099 1379.66 669.252 1378.52 Q671.404 1377.36 674.483 1377.36 Q674.923 1377.36 675.455 1377.43 Q675.988 1377.48 676.636 1377.6 L676.659 1381.97 Z\" fill=\"#000000\" fill-rule=\"evenodd\" fill-opacity=\"1\" /><path clip-path=\"url(#clip580)\" d=\"M692.909 1390.88 Q687.747 1390.88 685.756 1392.06 Q683.765 1393.24 683.765 1396.09 Q683.765 1398.36 685.247 1399.7 Q686.751 1401.02 689.321 1401.02 Q692.863 1401.02 694.992 1398.52 Q697.145 1396 697.145 1391.83 L697.145 1390.88 L692.909 1390.88 M701.404 1389.12 L701.404 1403.91 L697.145 1403.91 L697.145 1399.98 Q695.687 1402.34 693.511 1403.47 Q691.335 1404.59 688.187 1404.59 Q684.205 1404.59 681.844 1402.36 Q679.506 1400.12 679.506 1396.37 Q679.506 1391.99 682.423 1389.77 Q685.363 1387.55 691.173 1387.55 L697.145 1387.55 L697.145 1387.13 Q697.145 1384.19 695.2 1382.6 Q693.279 1380.97 689.784 1380.97 Q687.562 1380.97 685.455 1381.51 Q683.349 1382.04 681.404 1383.1 L681.404 1379.17 Q683.742 1378.27 685.941 1377.83 Q688.14 1377.36 690.224 1377.36 Q695.849 1377.36 698.626 1380.28 Q701.404 1383.2 701.404 1389.12 Z\" fill=\"#000000\" fill-rule=\"evenodd\" fill-opacity=\"1\" /><path clip-path=\"url(#clip580)\" d=\"M714.39 1370.63 L714.39 1377.99 L723.163 1377.99 L723.163 1381.3 L714.39 1381.3 L714.39 1395.37 Q714.39 1398.54 715.247 1399.45 Q716.126 1400.35 718.788 1400.35 L723.163 1400.35 L723.163 1403.91 L718.788 1403.91 Q713.858 1403.91 711.983 1402.09 Q710.108 1400.23 710.108 1395.37 L710.108 1381.3 L706.983 1381.3 L706.983 1377.99 L710.108 1377.99 L710.108 1370.63 L714.39 1370.63 Z\" fill=\"#000000\" fill-rule=\"evenodd\" fill-opacity=\"1\" /><path clip-path=\"url(#clip580)\" d=\"M728.325 1393.68 L728.325 1377.99 L732.585 1377.99 L732.585 1393.52 Q732.585 1397.2 734.02 1399.05 Q735.455 1400.88 738.325 1400.88 Q741.774 1400.88 743.765 1398.68 Q745.779 1396.48 745.779 1392.69 L745.779 1377.99 L750.038 1377.99 L750.038 1403.91 L745.779 1403.91 L745.779 1399.93 Q744.228 1402.29 742.168 1403.45 Q740.131 1404.59 737.422 1404.59 Q732.955 1404.59 730.64 1401.81 Q728.325 1399.03 728.325 1393.68 M739.043 1377.36 L739.043 1377.36 Z\" fill=\"#000000\" fill-rule=\"evenodd\" fill-opacity=\"1\" /><path clip-path=\"url(#clip580)\" d=\"M773.834 1381.97 Q773.117 1381.55 772.26 1381.37 Q771.427 1381.16 770.408 1381.16 Q766.797 1381.16 764.853 1383.52 Q762.932 1385.86 762.932 1390.26 L762.932 1403.91 L758.649 1403.91 L758.649 1377.99 L762.932 1377.99 L762.932 1382.02 Q764.274 1379.66 766.427 1378.52 Q768.58 1377.36 771.658 1377.36 Q772.098 1377.36 772.631 1377.43 Q773.163 1377.48 773.811 1377.6 L773.834 1381.97 Z\" fill=\"#000000\" fill-rule=\"evenodd\" fill-opacity=\"1\" /><path clip-path=\"url(#clip580)\" d=\"M799.436 1389.89 L799.436 1391.97 L779.853 1391.97 Q780.131 1396.37 782.492 1398.68 Q784.876 1400.97 789.112 1400.97 Q791.566 1400.97 793.857 1400.37 Q796.172 1399.77 798.441 1398.57 L798.441 1402.59 Q796.149 1403.57 793.742 1404.08 Q791.334 1404.59 788.857 1404.59 Q782.654 1404.59 779.019 1400.97 Q775.408 1397.36 775.408 1391.21 Q775.408 1384.84 778.834 1381.11 Q782.283 1377.36 788.117 1377.36 Q793.348 1377.36 796.38 1380.74 Q799.436 1384.1 799.436 1389.89 M795.177 1388.64 Q795.13 1385.14 793.209 1383.06 Q791.311 1380.97 788.163 1380.97 Q784.598 1380.97 782.445 1382.99 Q780.316 1385 779.992 1388.66 L795.177 1388.64 Z\" fill=\"#000000\" fill-rule=\"evenodd\" fill-opacity=\"1\" /><path clip-path=\"url(#clip580)\" d=\"M841.681 1382.97 Q843.278 1380.1 845.501 1378.73 Q847.723 1377.36 850.732 1377.36 Q854.783 1377.36 856.982 1380.21 Q859.181 1383.03 859.181 1388.27 L859.181 1403.91 L854.899 1403.91 L854.899 1388.41 Q854.899 1384.68 853.579 1382.87 Q852.26 1381.07 849.551 1381.07 Q846.241 1381.07 844.32 1383.27 Q842.399 1385.47 842.399 1389.26 L842.399 1403.91 L838.116 1403.91 L838.116 1388.41 Q838.116 1384.66 836.797 1382.87 Q835.477 1381.07 832.723 1381.07 Q829.459 1381.07 827.538 1383.29 Q825.616 1385.49 825.616 1389.26 L825.616 1403.91 L821.334 1403.91 L821.334 1377.99 L825.616 1377.99 L825.616 1382.02 Q827.075 1379.63 829.112 1378.5 Q831.149 1377.36 833.95 1377.36 Q836.774 1377.36 838.741 1378.8 Q840.732 1380.23 841.681 1382.97 Z\" fill=\"#000000\" fill-rule=\"evenodd\" fill-opacity=\"1\" /><path clip-path=\"url(#clip580)\" d=\"M879.459 1390.88 Q874.297 1390.88 872.306 1392.06 Q870.315 1393.24 870.315 1396.09 Q870.315 1398.36 871.797 1399.7 Q873.301 1401.02 875.871 1401.02 Q879.412 1401.02 881.542 1398.52 Q883.695 1396 883.695 1391.83 L883.695 1390.88 L879.459 1390.88 M887.954 1389.12 L887.954 1403.91 L883.695 1403.91 L883.695 1399.98 Q882.237 1402.34 880.061 1403.47 Q877.885 1404.59 874.737 1404.59 Q870.755 1404.59 868.394 1402.36 Q866.056 1400.12 866.056 1396.37 Q866.056 1391.99 868.973 1389.77 Q871.912 1387.55 877.723 1387.55 L883.695 1387.55 L883.695 1387.13 Q883.695 1384.19 881.75 1382.6 Q879.829 1380.97 876.334 1380.97 Q874.112 1380.97 872.005 1381.51 Q869.899 1382.04 867.954 1383.1 L867.954 1379.17 Q870.292 1378.27 872.491 1377.83 Q874.69 1377.36 876.774 1377.36 Q882.399 1377.36 885.176 1380.28 Q887.954 1383.2 887.954 1389.12 Z\" fill=\"#000000\" fill-rule=\"evenodd\" fill-opacity=\"1\" /><path clip-path=\"url(#clip580)\" d=\"M918.278 1377.99 L908.903 1390.6 L918.764 1403.91 L913.741 1403.91 L906.195 1393.73 L898.648 1403.91 L893.625 1403.91 L903.695 1390.35 L894.482 1377.99 L899.505 1377.99 L906.38 1387.22 L913.255 1377.99 L918.278 1377.99 Z\" fill=\"#000000\" fill-rule=\"evenodd\" fill-opacity=\"1\" /></svg>\n"
      ]
     },
     "execution_count": 60,
     "metadata": {},
     "output_type": "execute_result"
    }
   ],
   "source": [
    "plot(1:11, Jantempmax, label=\"Jan Temperature max\", legend=:bottomleft)"
   ]
  },
  {
   "cell_type": "markdown",
   "id": "bcfc44f6",
   "metadata": {},
   "source": [
    "# Now we do this for Jan average temperature 1922-1932 \n"
   ]
  },
  {
   "cell_type": "code",
   "execution_count": 61,
   "id": "ef9b050e",
   "metadata": {},
   "outputs": [
    {
     "data": {
      "text/plain": [
       "11-element Vector{Any}:\n",
       " 22.85\n",
       " 25.65\n",
       " 25.65\n",
       " 23.65\n",
       " 28.95\n",
       " 22.6\n",
       " 30.9\n",
       " 13.95\n",
       " 22.3\n",
       " 31.05\n",
       " 33.0"
      ]
     },
     "execution_count": 61,
     "metadata": {},
     "output_type": "execute_result"
    }
   ],
   "source": [
    "Jantempaverage=B[2:12,6]"
   ]
  },
  {
   "cell_type": "code",
   "execution_count": 62,
   "id": "664423a8",
   "metadata": {},
   "outputs": [
    {
     "data": {
      "image/svg+xml": [
       "<?xml version=\"1.0\" encoding=\"utf-8\"?>\n",
       "<svg xmlns=\"http://www.w3.org/2000/svg\" xmlns:xlink=\"http://www.w3.org/1999/xlink\" width=\"600\" height=\"400\" viewBox=\"0 0 2400 1600\">\n",
       "<defs>\n",
       "  <clipPath id=\"clip620\">\n",
       "    <rect x=\"0\" y=\"0\" width=\"2400\" height=\"1600\"/>\n",
       "  </clipPath>\n",
       "</defs>\n",
       "<path clip-path=\"url(#clip620)\" d=\"\n",
       "M0 1600 L2400 1600 L2400 0 L0 0  Z\n",
       "  \" fill=\"#ffffff\" fill-rule=\"evenodd\" fill-opacity=\"1\"/>\n",
       "<defs>\n",
       "  <clipPath id=\"clip621\">\n",
       "    <rect x=\"480\" y=\"0\" width=\"1681\" height=\"1600\"/>\n",
       "  </clipPath>\n",
       "</defs>\n",
       "<path clip-path=\"url(#clip620)\" d=\"\n",
       "M140.696 1486.45 L2352.76 1486.45 L2352.76 47.2441 L140.696 47.2441  Z\n",
       "  \" fill=\"#ffffff\" fill-rule=\"evenodd\" fill-opacity=\"1\"/>\n",
       "<defs>\n",
       "  <clipPath id=\"clip622\">\n",
       "    <rect x=\"140\" y=\"47\" width=\"2213\" height=\"1440\"/>\n",
       "  </clipPath>\n",
       "</defs>\n",
       "<polyline clip-path=\"url(#clip622)\" style=\"stroke:#000000; stroke-linecap:round; stroke-linejoin:round; stroke-width:2; stroke-opacity:0.1; fill:none\" points=\"\n",
       "  411.986,1486.45 411.986,47.2441 \n",
       "  \"/>\n",
       "<polyline clip-path=\"url(#clip622)\" style=\"stroke:#000000; stroke-linecap:round; stroke-linejoin:round; stroke-width:2; stroke-opacity:0.1; fill:none\" points=\"\n",
       "  829.356,1486.45 829.356,47.2441 \n",
       "  \"/>\n",
       "<polyline clip-path=\"url(#clip622)\" style=\"stroke:#000000; stroke-linecap:round; stroke-linejoin:round; stroke-width:2; stroke-opacity:0.1; fill:none\" points=\"\n",
       "  1246.73,1486.45 1246.73,47.2441 \n",
       "  \"/>\n",
       "<polyline clip-path=\"url(#clip622)\" style=\"stroke:#000000; stroke-linecap:round; stroke-linejoin:round; stroke-width:2; stroke-opacity:0.1; fill:none\" points=\"\n",
       "  1664.1,1486.45 1664.1,47.2441 \n",
       "  \"/>\n",
       "<polyline clip-path=\"url(#clip622)\" style=\"stroke:#000000; stroke-linecap:round; stroke-linejoin:round; stroke-width:2; stroke-opacity:0.1; fill:none\" points=\"\n",
       "  2081.47,1486.45 2081.47,47.2441 \n",
       "  \"/>\n",
       "<polyline clip-path=\"url(#clip620)\" style=\"stroke:#000000; stroke-linecap:round; stroke-linejoin:round; stroke-width:4; stroke-opacity:1; fill:none\" points=\"\n",
       "  140.696,1486.45 2352.76,1486.45 \n",
       "  \"/>\n",
       "<polyline clip-path=\"url(#clip620)\" style=\"stroke:#000000; stroke-linecap:round; stroke-linejoin:round; stroke-width:4; stroke-opacity:1; fill:none\" points=\"\n",
       "  411.986,1486.45 411.986,1467.55 \n",
       "  \"/>\n",
       "<polyline clip-path=\"url(#clip620)\" style=\"stroke:#000000; stroke-linecap:round; stroke-linejoin:round; stroke-width:4; stroke-opacity:1; fill:none\" points=\"\n",
       "  829.356,1486.45 829.356,1467.55 \n",
       "  \"/>\n",
       "<polyline clip-path=\"url(#clip620)\" style=\"stroke:#000000; stroke-linecap:round; stroke-linejoin:round; stroke-width:4; stroke-opacity:1; fill:none\" points=\"\n",
       "  1246.73,1486.45 1246.73,1467.55 \n",
       "  \"/>\n",
       "<polyline clip-path=\"url(#clip620)\" style=\"stroke:#000000; stroke-linecap:round; stroke-linejoin:round; stroke-width:4; stroke-opacity:1; fill:none\" points=\"\n",
       "  1664.1,1486.45 1664.1,1467.55 \n",
       "  \"/>\n",
       "<polyline clip-path=\"url(#clip620)\" style=\"stroke:#000000; stroke-linecap:round; stroke-linejoin:round; stroke-width:4; stroke-opacity:1; fill:none\" points=\"\n",
       "  2081.47,1486.45 2081.47,1467.55 \n",
       "  \"/>\n",
       "<path clip-path=\"url(#clip620)\" d=\"M406.639 1544.91 L422.958 1544.91 L422.958 1548.85 L401.014 1548.85 L401.014 1544.91 Q403.676 1542.16 408.259 1537.53 Q412.866 1532.88 414.046 1531.53 Q416.291 1529.01 417.171 1527.27 Q418.074 1525.51 418.074 1523.82 Q418.074 1521.07 416.129 1519.33 Q414.208 1517.6 411.106 1517.6 Q408.907 1517.6 406.454 1518.36 Q404.023 1519.13 401.245 1520.68 L401.245 1515.95 Q404.069 1514.82 406.523 1514.24 Q408.977 1513.66 411.014 1513.66 Q416.384 1513.66 419.579 1516.35 Q422.773 1519.03 422.773 1523.52 Q422.773 1525.65 421.963 1527.57 Q421.176 1529.47 419.069 1532.07 Q418.491 1532.74 415.389 1535.95 Q412.287 1539.15 406.639 1544.91 Z\" fill=\"#000000\" fill-rule=\"evenodd\" fill-opacity=\"1\" /><path clip-path=\"url(#clip620)\" d=\"M832.365 1518.36 L820.56 1536.81 L832.365 1536.81 L832.365 1518.36 M831.138 1514.29 L837.018 1514.29 L837.018 1536.81 L841.948 1536.81 L841.948 1540.7 L837.018 1540.7 L837.018 1548.85 L832.365 1548.85 L832.365 1540.7 L816.763 1540.7 L816.763 1536.19 L831.138 1514.29 Z\" fill=\"#000000\" fill-rule=\"evenodd\" fill-opacity=\"1\" /><path clip-path=\"url(#clip620)\" d=\"M1247.13 1529.7 Q1243.98 1529.7 1242.13 1531.86 Q1240.3 1534.01 1240.3 1537.76 Q1240.3 1541.49 1242.13 1543.66 Q1243.98 1545.82 1247.13 1545.82 Q1250.28 1545.82 1252.11 1543.66 Q1253.96 1541.49 1253.96 1537.76 Q1253.96 1534.01 1252.11 1531.86 Q1250.28 1529.7 1247.13 1529.7 M1256.41 1515.05 L1256.41 1519.31 Q1254.65 1518.48 1252.85 1518.04 Q1251.07 1517.6 1249.31 1517.6 Q1244.68 1517.6 1242.22 1520.72 Q1239.79 1523.85 1239.45 1530.17 Q1240.81 1528.15 1242.87 1527.09 Q1244.93 1526 1247.41 1526 Q1252.62 1526 1255.63 1529.17 Q1258.66 1532.32 1258.66 1537.76 Q1258.66 1543.08 1255.51 1546.3 Q1252.36 1549.52 1247.13 1549.52 Q1241.14 1549.52 1237.96 1544.94 Q1234.79 1540.33 1234.79 1531.6 Q1234.79 1523.41 1238.68 1518.55 Q1242.57 1513.66 1249.12 1513.66 Q1250.88 1513.66 1252.66 1514.01 Q1254.47 1514.36 1256.41 1515.05 Z\" fill=\"#000000\" fill-rule=\"evenodd\" fill-opacity=\"1\" /><path clip-path=\"url(#clip620)\" d=\"M1664.1 1532.44 Q1660.76 1532.44 1658.84 1534.22 Q1656.94 1536 1656.94 1539.13 Q1656.94 1542.25 1658.84 1544.03 Q1660.76 1545.82 1664.1 1545.82 Q1667.43 1545.82 1669.35 1544.03 Q1671.27 1542.23 1671.27 1539.13 Q1671.27 1536 1669.35 1534.22 Q1667.45 1532.44 1664.1 1532.44 M1659.42 1530.45 Q1656.41 1529.7 1654.72 1527.64 Q1653.05 1525.58 1653.05 1522.62 Q1653.05 1518.48 1655.99 1516.07 Q1658.96 1513.66 1664.1 1513.66 Q1669.26 1513.66 1672.2 1516.07 Q1675.14 1518.48 1675.14 1522.62 Q1675.14 1525.58 1673.45 1527.64 Q1671.78 1529.7 1668.79 1530.45 Q1672.17 1531.23 1674.05 1533.52 Q1675.95 1535.82 1675.95 1539.13 Q1675.95 1544.15 1672.87 1546.83 Q1669.81 1549.52 1664.1 1549.52 Q1658.38 1549.52 1655.3 1546.83 Q1652.24 1544.15 1652.24 1539.13 Q1652.24 1535.82 1654.14 1533.52 Q1656.04 1531.23 1659.42 1530.45 M1657.71 1523.06 Q1657.71 1525.75 1659.37 1527.25 Q1661.06 1528.76 1664.1 1528.76 Q1667.1 1528.76 1668.79 1527.25 Q1670.51 1525.75 1670.51 1523.06 Q1670.51 1520.38 1668.79 1518.87 Q1667.1 1517.37 1664.1 1517.37 Q1661.06 1517.37 1659.37 1518.87 Q1657.71 1520.38 1657.71 1523.06 Z\" fill=\"#000000\" fill-rule=\"evenodd\" fill-opacity=\"1\" /><path clip-path=\"url(#clip620)\" d=\"M2056.15 1544.91 L2063.79 1544.91 L2063.79 1518.55 L2055.48 1520.21 L2055.48 1515.95 L2063.75 1514.29 L2068.42 1514.29 L2068.42 1544.91 L2076.06 1544.91 L2076.06 1548.85 L2056.15 1548.85 L2056.15 1544.91 Z\" fill=\"#000000\" fill-rule=\"evenodd\" fill-opacity=\"1\" /><path clip-path=\"url(#clip620)\" d=\"M2095.5 1517.37 Q2091.89 1517.37 2090.06 1520.93 Q2088.26 1524.47 2088.26 1531.6 Q2088.26 1538.71 2090.06 1542.27 Q2091.89 1545.82 2095.5 1545.82 Q2099.14 1545.82 2100.94 1542.27 Q2102.77 1538.71 2102.77 1531.6 Q2102.77 1524.47 2100.94 1520.93 Q2099.14 1517.37 2095.5 1517.37 M2095.5 1513.66 Q2101.31 1513.66 2104.37 1518.27 Q2107.45 1522.85 2107.45 1531.6 Q2107.45 1540.33 2104.37 1544.94 Q2101.31 1549.52 2095.5 1549.52 Q2089.69 1549.52 2086.62 1544.94 Q2083.56 1540.33 2083.56 1531.6 Q2083.56 1522.85 2086.62 1518.27 Q2089.69 1513.66 2095.5 1513.66 Z\" fill=\"#000000\" fill-rule=\"evenodd\" fill-opacity=\"1\" /><polyline clip-path=\"url(#clip622)\" style=\"stroke:#000000; stroke-linecap:round; stroke-linejoin:round; stroke-width:2; stroke-opacity:0.1; fill:none\" points=\"\n",
       "  140.696,1370.88 2352.76,1370.88 \n",
       "  \"/>\n",
       "<polyline clip-path=\"url(#clip622)\" style=\"stroke:#000000; stroke-linecap:round; stroke-linejoin:round; stroke-width:2; stroke-opacity:0.1; fill:none\" points=\"\n",
       "  140.696,1014.52 2352.76,1014.52 \n",
       "  \"/>\n",
       "<polyline clip-path=\"url(#clip622)\" style=\"stroke:#000000; stroke-linecap:round; stroke-linejoin:round; stroke-width:2; stroke-opacity:0.1; fill:none\" points=\"\n",
       "  140.696,658.156 2352.76,658.156 \n",
       "  \"/>\n",
       "<polyline clip-path=\"url(#clip622)\" style=\"stroke:#000000; stroke-linecap:round; stroke-linejoin:round; stroke-width:2; stroke-opacity:0.1; fill:none\" points=\"\n",
       "  140.696,301.794 2352.76,301.794 \n",
       "  \"/>\n",
       "<polyline clip-path=\"url(#clip620)\" style=\"stroke:#000000; stroke-linecap:round; stroke-linejoin:round; stroke-width:4; stroke-opacity:1; fill:none\" points=\"\n",
       "  140.696,1486.45 140.696,47.2441 \n",
       "  \"/>\n",
       "<polyline clip-path=\"url(#clip620)\" style=\"stroke:#000000; stroke-linecap:round; stroke-linejoin:round; stroke-width:4; stroke-opacity:1; fill:none\" points=\"\n",
       "  140.696,1370.88 159.593,1370.88 \n",
       "  \"/>\n",
       "<polyline clip-path=\"url(#clip620)\" style=\"stroke:#000000; stroke-linecap:round; stroke-linejoin:round; stroke-width:4; stroke-opacity:1; fill:none\" points=\"\n",
       "  140.696,1014.52 159.593,1014.52 \n",
       "  \"/>\n",
       "<polyline clip-path=\"url(#clip620)\" style=\"stroke:#000000; stroke-linecap:round; stroke-linejoin:round; stroke-width:4; stroke-opacity:1; fill:none\" points=\"\n",
       "  140.696,658.156 159.593,658.156 \n",
       "  \"/>\n",
       "<polyline clip-path=\"url(#clip620)\" style=\"stroke:#000000; stroke-linecap:round; stroke-linejoin:round; stroke-width:4; stroke-opacity:1; fill:none\" points=\"\n",
       "  140.696,301.794 159.593,301.794 \n",
       "  \"/>\n",
       "<path clip-path=\"url(#clip620)\" d=\"M54.3949 1384.22 L62.0337 1384.22 L62.0337 1357.86 L53.7236 1359.53 L53.7236 1355.27 L61.9874 1353.6 L66.6633 1353.6 L66.6633 1384.22 L74.3022 1384.22 L74.3022 1388.16 L54.3949 1388.16 L54.3949 1384.22 Z\" fill=\"#000000\" fill-rule=\"evenodd\" fill-opacity=\"1\" /><path clip-path=\"url(#clip620)\" d=\"M83.7929 1353.6 L102.149 1353.6 L102.149 1357.53 L88.0753 1357.53 L88.0753 1366.01 Q89.0938 1365.66 90.1123 1365.5 Q91.1308 1365.31 92.1493 1365.31 Q97.9363 1365.31 101.316 1368.48 Q104.696 1371.66 104.696 1377.07 Q104.696 1382.65 101.223 1385.75 Q97.7511 1388.83 91.4317 1388.83 Q89.2558 1388.83 86.9873 1388.46 Q84.7419 1388.09 82.3346 1387.35 L82.3346 1382.65 Q84.4179 1383.78 86.6401 1384.34 Q88.8623 1384.9 91.3391 1384.9 Q95.3437 1384.9 97.6817 1382.79 Q100.02 1380.68 100.02 1377.07 Q100.02 1373.46 97.6817 1371.35 Q95.3437 1369.25 91.3391 1369.25 Q89.4641 1369.25 87.5892 1369.66 Q85.7373 1370.08 83.7929 1370.96 L83.7929 1353.6 Z\" fill=\"#000000\" fill-rule=\"evenodd\" fill-opacity=\"1\" /><path clip-path=\"url(#clip620)\" d=\"M56.6171 1027.86 L72.9365 1027.86 L72.9365 1031.8 L50.9921 1031.8 L50.9921 1027.86 Q53.6541 1025.11 58.2375 1020.48 Q62.8439 1015.83 64.0245 1014.48 Q66.2698 1011.96 67.1494 1010.22 Q68.0522 1008.46 68.0522 1006.77 Q68.0522 1004.02 66.1078 1002.28 Q64.1865 1000.55 61.0847 1000.55 Q58.8856 1000.55 56.4319 1001.31 Q54.0014 1002.08 51.2236 1003.63 L51.2236 998.904 Q54.0477 997.77 56.5014 997.191 Q58.955 996.613 60.9921 996.613 Q66.3624 996.613 69.5568 999.298 Q72.7513 1001.98 72.7513 1006.47 Q72.7513 1008.6 71.9411 1010.52 Q71.1541 1012.42 69.0476 1015.02 Q68.4689 1015.69 65.367 1018.9 Q62.2652 1022.1 56.6171 1027.86 Z\" fill=\"#000000\" fill-rule=\"evenodd\" fill-opacity=\"1\" /><path clip-path=\"url(#clip620)\" d=\"M92.7512 1000.32 Q89.1401 1000.32 87.3114 1003.88 Q85.5058 1007.42 85.5058 1014.55 Q85.5058 1021.66 87.3114 1025.22 Q89.1401 1028.77 92.7512 1028.77 Q96.3854 1028.77 98.1909 1025.22 Q100.02 1021.66 100.02 1014.55 Q100.02 1007.42 98.1909 1003.88 Q96.3854 1000.32 92.7512 1000.32 M92.7512 996.613 Q98.5613 996.613 101.617 1001.22 Q104.696 1005.8 104.696 1014.55 Q104.696 1023.28 101.617 1027.89 Q98.5613 1032.47 92.7512 1032.47 Q86.941 1032.47 83.8623 1027.89 Q80.8068 1023.28 80.8068 1014.55 Q80.8068 1005.8 83.8623 1001.22 Q86.941 996.613 92.7512 996.613 Z\" fill=\"#000000\" fill-rule=\"evenodd\" fill-opacity=\"1\" /><path clip-path=\"url(#clip620)\" d=\"M57.6125 671.5 L73.9318 671.5 L73.9318 675.436 L51.9875 675.436 L51.9875 671.5 Q54.6495 668.746 59.2328 664.116 Q63.8393 659.463 65.0198 658.121 Q67.2652 655.598 68.1448 653.862 Q69.0476 652.102 69.0476 650.413 Q69.0476 647.658 67.1032 645.922 Q65.1819 644.186 62.08 644.186 Q59.881 644.186 57.4273 644.95 Q54.9967 645.713 52.219 647.264 L52.219 642.542 Q55.043 641.408 57.4967 640.829 Q59.9504 640.251 61.9874 640.251 Q67.3578 640.251 70.5522 642.936 Q73.7466 645.621 73.7466 650.112 Q73.7466 652.241 72.9365 654.163 Q72.1494 656.061 70.0429 658.653 Q69.4642 659.325 66.3624 662.542 Q63.2606 665.737 57.6125 671.5 Z\" fill=\"#000000\" fill-rule=\"evenodd\" fill-opacity=\"1\" /><path clip-path=\"url(#clip620)\" d=\"M83.7929 640.876 L102.149 640.876 L102.149 644.811 L88.0753 644.811 L88.0753 653.283 Q89.0938 652.936 90.1123 652.774 Q91.1308 652.588 92.1493 652.588 Q97.9363 652.588 101.316 655.76 Q104.696 658.931 104.696 664.348 Q104.696 669.926 101.223 673.028 Q97.7511 676.107 91.4317 676.107 Q89.2558 676.107 86.9873 675.736 Q84.7419 675.366 82.3346 674.625 L82.3346 669.926 Q84.4179 671.061 86.6401 671.616 Q88.8623 672.172 91.3391 672.172 Q95.3437 672.172 97.6817 670.065 Q100.02 667.959 100.02 664.348 Q100.02 660.737 97.6817 658.63 Q95.3437 656.524 91.3391 656.524 Q89.4641 656.524 87.5892 656.94 Q85.7373 657.357 83.7929 658.237 L83.7929 640.876 Z\" fill=\"#000000\" fill-rule=\"evenodd\" fill-opacity=\"1\" /><path clip-path=\"url(#clip620)\" d=\"M66.7559 300.439 Q70.1124 301.157 71.9874 303.425 Q73.8855 305.694 73.8855 309.027 Q73.8855 314.143 70.367 316.944 Q66.8485 319.745 60.3671 319.745 Q58.1912 319.745 55.8764 319.305 Q53.5847 318.888 51.131 318.032 L51.131 313.518 Q53.0754 314.652 55.3903 315.231 Q57.7051 315.81 60.2282 315.81 Q64.6263 315.81 66.918 314.074 Q69.2328 312.337 69.2328 309.027 Q69.2328 305.972 67.08 304.259 Q64.9504 302.523 61.131 302.523 L57.1032 302.523 L57.1032 298.68 L61.3161 298.68 Q64.7652 298.68 66.5939 297.314 Q68.4226 295.925 68.4226 293.333 Q68.4226 290.671 66.5245 289.259 Q64.6495 287.824 61.131 287.824 Q59.2097 287.824 57.0106 288.24 Q54.8115 288.657 52.1727 289.537 L52.1727 285.37 Q54.8347 284.629 57.1495 284.259 Q59.4875 283.889 61.5476 283.889 Q66.8717 283.889 69.9735 286.319 Q73.0753 288.726 73.0753 292.847 Q73.0753 295.717 71.4318 297.708 Q69.7883 299.675 66.7559 300.439 Z\" fill=\"#000000\" fill-rule=\"evenodd\" fill-opacity=\"1\" /><path clip-path=\"url(#clip620)\" d=\"M92.7512 287.592 Q89.1401 287.592 87.3114 291.157 Q85.5058 294.699 85.5058 301.828 Q85.5058 308.935 87.3114 312.499 Q89.1401 316.041 92.7512 316.041 Q96.3854 316.041 98.1909 312.499 Q100.02 308.935 100.02 301.828 Q100.02 294.699 98.1909 291.157 Q96.3854 287.592 92.7512 287.592 M92.7512 283.889 Q98.5613 283.889 101.617 288.495 Q104.696 293.078 104.696 301.828 Q104.696 310.555 101.617 315.161 Q98.5613 319.745 92.7512 319.745 Q86.941 319.745 83.8623 315.161 Q80.8068 310.555 80.8068 301.828 Q80.8068 293.078 83.8623 288.495 Q86.941 283.889 92.7512 283.889 Z\" fill=\"#000000\" fill-rule=\"evenodd\" fill-opacity=\"1\" /><polyline clip-path=\"url(#clip622)\" style=\"stroke:#009af9; stroke-linecap:round; stroke-linejoin:round; stroke-width:4; stroke-opacity:1; fill:none\" points=\"\n",
       "  203.301,811.391 411.986,611.828 620.671,611.828 829.356,754.373 1038.04,376.63 1246.73,829.209 1455.41,237.648 1664.1,1445.72 1872.78,850.591 2081.47,226.957 \n",
       "  2290.15,87.9763 \n",
       "  \"/>\n",
       "<path clip-path=\"url(#clip620)\" d=\"\n",
       "M214.431 1438.47 L1033.16 1438.47 L1033.16 1334.79 L214.431 1334.79  Z\n",
       "  \" fill=\"#ffffff\" fill-rule=\"evenodd\" fill-opacity=\"1\"/>\n",
       "<polyline clip-path=\"url(#clip620)\" style=\"stroke:#000000; stroke-linecap:round; stroke-linejoin:round; stroke-width:4; stroke-opacity:1; fill:none\" points=\"\n",
       "  214.431,1438.47 1033.16,1438.47 1033.16,1334.79 214.431,1334.79 214.431,1438.47 \n",
       "  \"/>\n",
       "<polyline clip-path=\"url(#clip620)\" style=\"stroke:#009af9; stroke-linecap:round; stroke-linejoin:round; stroke-width:4; stroke-opacity:1; fill:none\" points=\"\n",
       "  239.009,1386.63 386.48,1386.63 \n",
       "  \"/>\n",
       "<path clip-path=\"url(#clip620)\" d=\"M418.165 1369.35 L422.841 1369.35 L422.841 1401.51 Q422.841 1407.76 420.457 1410.58 Q418.095 1413.41 412.841 1413.41 L411.058 1413.41 L411.058 1409.47 L412.517 1409.47 Q415.619 1409.47 416.892 1407.73 Q418.165 1406 418.165 1401.51 L418.165 1369.35 Z\" fill=\"#000000\" fill-rule=\"evenodd\" fill-opacity=\"1\" /><path clip-path=\"url(#clip620)\" d=\"M443.743 1390.88 Q438.581 1390.88 436.591 1392.06 Q434.6 1393.24 434.6 1396.09 Q434.6 1398.36 436.081 1399.7 Q437.586 1401.02 440.156 1401.02 Q443.697 1401.02 445.827 1398.52 Q447.98 1396 447.98 1391.83 L447.98 1390.88 L443.743 1390.88 M452.239 1389.12 L452.239 1403.91 L447.98 1403.91 L447.98 1399.98 Q446.521 1402.34 444.345 1403.47 Q442.169 1404.59 439.021 1404.59 Q435.04 1404.59 432.679 1402.36 Q430.341 1400.12 430.341 1396.37 Q430.341 1391.99 433.257 1389.77 Q436.197 1387.55 442.007 1387.55 L447.98 1387.55 L447.98 1387.13 Q447.98 1384.19 446.035 1382.6 Q444.114 1380.97 440.619 1380.97 Q438.396 1380.97 436.29 1381.51 Q434.183 1382.04 432.239 1383.1 L432.239 1379.17 Q434.577 1378.27 436.776 1377.83 Q438.975 1377.36 441.058 1377.36 Q446.683 1377.36 449.461 1380.28 Q452.239 1383.2 452.239 1389.12 Z\" fill=\"#000000\" fill-rule=\"evenodd\" fill-opacity=\"1\" /><path clip-path=\"url(#clip620)\" d=\"M482.563 1388.27 L482.563 1403.91 L478.303 1403.91 L478.303 1388.41 Q478.303 1384.72 476.868 1382.9 Q475.433 1381.07 472.563 1381.07 Q469.114 1381.07 467.123 1383.27 Q465.132 1385.47 465.132 1389.26 L465.132 1403.91 L460.85 1403.91 L460.85 1377.99 L465.132 1377.99 L465.132 1382.02 Q466.66 1379.68 468.72 1378.52 Q470.804 1377.36 473.512 1377.36 Q477.979 1377.36 480.271 1380.14 Q482.563 1382.9 482.563 1388.27 Z\" fill=\"#000000\" fill-rule=\"evenodd\" fill-opacity=\"1\" /><path clip-path=\"url(#clip620)\" d=\"M501.521 1369.35 L530.757 1369.35 L530.757 1373.29 L518.488 1373.29 L518.488 1403.91 L513.789 1403.91 L513.789 1373.29 L501.521 1373.29 L501.521 1369.35 Z\" fill=\"#000000\" fill-rule=\"evenodd\" fill-opacity=\"1\" /><path clip-path=\"url(#clip620)\" d=\"M549.206 1389.89 L549.206 1391.97 L529.623 1391.97 Q529.9 1396.37 532.262 1398.68 Q534.646 1400.97 538.882 1400.97 Q541.336 1400.97 543.627 1400.37 Q545.942 1399.77 548.211 1398.57 L548.211 1402.59 Q545.919 1403.57 543.511 1404.08 Q541.104 1404.59 538.627 1404.59 Q532.424 1404.59 528.789 1400.97 Q525.178 1397.36 525.178 1391.21 Q525.178 1384.84 528.604 1381.11 Q532.053 1377.36 537.886 1377.36 Q543.118 1377.36 546.15 1380.74 Q549.206 1384.1 549.206 1389.89 M544.947 1388.64 Q544.9 1385.14 542.979 1383.06 Q541.081 1380.97 537.933 1380.97 Q534.368 1380.97 532.215 1382.99 Q530.086 1385 529.762 1388.66 L544.947 1388.64 Z\" fill=\"#000000\" fill-rule=\"evenodd\" fill-opacity=\"1\" /><path clip-path=\"url(#clip620)\" d=\"M576.382 1382.97 Q577.979 1380.1 580.201 1378.73 Q582.423 1377.36 585.433 1377.36 Q589.483 1377.36 591.683 1380.21 Q593.882 1383.03 593.882 1388.27 L593.882 1403.91 L589.599 1403.91 L589.599 1388.41 Q589.599 1384.68 588.28 1382.87 Q586.96 1381.07 584.252 1381.07 Q580.942 1381.07 579.021 1383.27 Q577.099 1385.47 577.099 1389.26 L577.099 1403.91 L572.817 1403.91 L572.817 1388.41 Q572.817 1384.66 571.497 1382.87 Q570.178 1381.07 567.423 1381.07 Q564.16 1381.07 562.238 1383.29 Q560.317 1385.49 560.317 1389.26 L560.317 1403.91 L556.035 1403.91 L556.035 1377.99 L560.317 1377.99 L560.317 1382.02 Q561.775 1379.63 563.812 1378.5 Q565.849 1377.36 568.65 1377.36 Q571.474 1377.36 573.442 1378.8 Q575.433 1380.23 576.382 1382.97 Z\" fill=\"#000000\" fill-rule=\"evenodd\" fill-opacity=\"1\" /><path clip-path=\"url(#clip620)\" d=\"M606.497 1400.03 L606.497 1413.78 L602.215 1413.78 L602.215 1377.99 L606.497 1377.99 L606.497 1381.92 Q607.84 1379.61 609.877 1378.5 Q611.937 1377.36 614.784 1377.36 Q619.506 1377.36 622.446 1381.11 Q625.409 1384.86 625.409 1390.97 Q625.409 1397.09 622.446 1400.84 Q619.506 1404.59 614.784 1404.59 Q611.937 1404.59 609.877 1403.47 Q607.84 1402.34 606.497 1400.03 M620.988 1390.97 Q620.988 1386.28 619.043 1383.61 Q617.122 1380.93 613.743 1380.93 Q610.363 1380.93 608.419 1383.61 Q606.497 1386.28 606.497 1390.97 Q606.497 1395.67 608.419 1398.36 Q610.363 1401.02 613.743 1401.02 Q617.122 1401.02 619.043 1398.36 Q620.988 1395.67 620.988 1390.97 Z\" fill=\"#000000\" fill-rule=\"evenodd\" fill-opacity=\"1\" /><path clip-path=\"url(#clip620)\" d=\"M654.645 1389.89 L654.645 1391.97 L635.062 1391.97 Q635.34 1396.37 637.701 1398.68 Q640.085 1400.97 644.321 1400.97 Q646.775 1400.97 649.066 1400.37 Q651.381 1399.77 653.65 1398.57 L653.65 1402.59 Q651.358 1403.57 648.951 1404.08 Q646.543 1404.59 644.066 1404.59 Q637.863 1404.59 634.229 1400.97 Q630.617 1397.36 630.617 1391.21 Q630.617 1384.84 634.043 1381.11 Q637.492 1377.36 643.326 1377.36 Q648.557 1377.36 651.59 1380.74 Q654.645 1384.1 654.645 1389.89 M650.386 1388.64 Q650.34 1385.14 648.418 1383.06 Q646.52 1380.97 643.372 1380.97 Q639.807 1380.97 637.654 1382.99 Q635.525 1385 635.201 1388.66 L650.386 1388.64 Z\" fill=\"#000000\" fill-rule=\"evenodd\" fill-opacity=\"1\" /><path clip-path=\"url(#clip620)\" d=\"M676.659 1381.97 Q675.941 1381.55 675.085 1381.37 Q674.252 1381.16 673.233 1381.16 Q669.622 1381.16 667.677 1383.52 Q665.756 1385.86 665.756 1390.26 L665.756 1403.91 L661.474 1403.91 L661.474 1377.99 L665.756 1377.99 L665.756 1382.02 Q667.099 1379.66 669.252 1378.52 Q671.404 1377.36 674.483 1377.36 Q674.923 1377.36 675.455 1377.43 Q675.988 1377.48 676.636 1377.6 L676.659 1381.97 Z\" fill=\"#000000\" fill-rule=\"evenodd\" fill-opacity=\"1\" /><path clip-path=\"url(#clip620)\" d=\"M692.909 1390.88 Q687.747 1390.88 685.756 1392.06 Q683.765 1393.24 683.765 1396.09 Q683.765 1398.36 685.247 1399.7 Q686.751 1401.02 689.321 1401.02 Q692.863 1401.02 694.992 1398.52 Q697.145 1396 697.145 1391.83 L697.145 1390.88 L692.909 1390.88 M701.404 1389.12 L701.404 1403.91 L697.145 1403.91 L697.145 1399.98 Q695.687 1402.34 693.511 1403.47 Q691.335 1404.59 688.187 1404.59 Q684.205 1404.59 681.844 1402.36 Q679.506 1400.12 679.506 1396.37 Q679.506 1391.99 682.423 1389.77 Q685.363 1387.55 691.173 1387.55 L697.145 1387.55 L697.145 1387.13 Q697.145 1384.19 695.2 1382.6 Q693.279 1380.97 689.784 1380.97 Q687.562 1380.97 685.455 1381.51 Q683.349 1382.04 681.404 1383.1 L681.404 1379.17 Q683.742 1378.27 685.941 1377.83 Q688.14 1377.36 690.224 1377.36 Q695.849 1377.36 698.626 1380.28 Q701.404 1383.2 701.404 1389.12 Z\" fill=\"#000000\" fill-rule=\"evenodd\" fill-opacity=\"1\" /><path clip-path=\"url(#clip620)\" d=\"M714.39 1370.63 L714.39 1377.99 L723.163 1377.99 L723.163 1381.3 L714.39 1381.3 L714.39 1395.37 Q714.39 1398.54 715.247 1399.45 Q716.126 1400.35 718.788 1400.35 L723.163 1400.35 L723.163 1403.91 L718.788 1403.91 Q713.858 1403.91 711.983 1402.09 Q710.108 1400.23 710.108 1395.37 L710.108 1381.3 L706.983 1381.3 L706.983 1377.99 L710.108 1377.99 L710.108 1370.63 L714.39 1370.63 Z\" fill=\"#000000\" fill-rule=\"evenodd\" fill-opacity=\"1\" /><path clip-path=\"url(#clip620)\" d=\"M728.325 1393.68 L728.325 1377.99 L732.585 1377.99 L732.585 1393.52 Q732.585 1397.2 734.02 1399.05 Q735.455 1400.88 738.325 1400.88 Q741.774 1400.88 743.765 1398.68 Q745.779 1396.48 745.779 1392.69 L745.779 1377.99 L750.038 1377.99 L750.038 1403.91 L745.779 1403.91 L745.779 1399.93 Q744.228 1402.29 742.168 1403.45 Q740.131 1404.59 737.422 1404.59 Q732.955 1404.59 730.64 1401.81 Q728.325 1399.03 728.325 1393.68 M739.043 1377.36 L739.043 1377.36 Z\" fill=\"#000000\" fill-rule=\"evenodd\" fill-opacity=\"1\" /><path clip-path=\"url(#clip620)\" d=\"M773.834 1381.97 Q773.117 1381.55 772.26 1381.37 Q771.427 1381.16 770.408 1381.16 Q766.797 1381.16 764.853 1383.52 Q762.932 1385.86 762.932 1390.26 L762.932 1403.91 L758.649 1403.91 L758.649 1377.99 L762.932 1377.99 L762.932 1382.02 Q764.274 1379.66 766.427 1378.52 Q768.58 1377.36 771.658 1377.36 Q772.098 1377.36 772.631 1377.43 Q773.163 1377.48 773.811 1377.6 L773.834 1381.97 Z\" fill=\"#000000\" fill-rule=\"evenodd\" fill-opacity=\"1\" /><path clip-path=\"url(#clip620)\" d=\"M799.436 1389.89 L799.436 1391.97 L779.853 1391.97 Q780.131 1396.37 782.492 1398.68 Q784.876 1400.97 789.112 1400.97 Q791.566 1400.97 793.857 1400.37 Q796.172 1399.77 798.441 1398.57 L798.441 1402.59 Q796.149 1403.57 793.742 1404.08 Q791.334 1404.59 788.857 1404.59 Q782.654 1404.59 779.019 1400.97 Q775.408 1397.36 775.408 1391.21 Q775.408 1384.84 778.834 1381.11 Q782.283 1377.36 788.117 1377.36 Q793.348 1377.36 796.38 1380.74 Q799.436 1384.1 799.436 1389.89 M795.177 1388.64 Q795.13 1385.14 793.209 1383.06 Q791.311 1380.97 788.163 1380.97 Q784.598 1380.97 782.445 1382.99 Q780.316 1385 779.992 1388.66 L795.177 1388.64 Z\" fill=\"#000000\" fill-rule=\"evenodd\" fill-opacity=\"1\" /><path clip-path=\"url(#clip620)\" d=\"M833.278 1390.88 Q828.116 1390.88 826.126 1392.06 Q824.135 1393.24 824.135 1396.09 Q824.135 1398.36 825.616 1399.7 Q827.121 1401.02 829.69 1401.02 Q833.232 1401.02 835.362 1398.52 Q837.515 1396 837.515 1391.83 L837.515 1390.88 L833.278 1390.88 M841.774 1389.12 L841.774 1403.91 L837.515 1403.91 L837.515 1399.98 Q836.056 1402.34 833.88 1403.47 Q831.704 1404.59 828.556 1404.59 Q824.575 1404.59 822.214 1402.36 Q819.876 1400.12 819.876 1396.37 Q819.876 1391.99 822.792 1389.77 Q825.732 1387.55 831.542 1387.55 L837.515 1387.55 L837.515 1387.13 Q837.515 1384.19 835.57 1382.6 Q833.649 1380.97 830.153 1380.97 Q827.931 1380.97 825.825 1381.51 Q823.718 1382.04 821.774 1383.1 L821.774 1379.17 Q824.112 1378.27 826.311 1377.83 Q828.51 1377.36 830.593 1377.36 Q836.218 1377.36 838.996 1380.28 Q841.774 1383.2 841.774 1389.12 Z\" fill=\"#000000\" fill-rule=\"evenodd\" fill-opacity=\"1\" /><path clip-path=\"url(#clip620)\" d=\"M847.491 1377.99 L852.005 1377.99 L860.107 1399.75 L868.209 1377.99 L872.723 1377.99 L863 1403.91 L857.213 1403.91 L847.491 1377.99 Z\" fill=\"#000000\" fill-rule=\"evenodd\" fill-opacity=\"1\" /><path clip-path=\"url(#clip620)\" d=\"M900.778 1389.89 L900.778 1391.97 L881.195 1391.97 Q881.473 1396.37 883.834 1398.68 Q886.218 1400.97 890.454 1400.97 Q892.908 1400.97 895.199 1400.37 Q897.514 1399.77 899.783 1398.57 L899.783 1402.59 Q897.491 1403.57 895.084 1404.08 Q892.676 1404.59 890.199 1404.59 Q883.996 1404.59 880.362 1400.97 Q876.75 1397.36 876.75 1391.21 Q876.75 1384.84 880.176 1381.11 Q883.625 1377.36 889.459 1377.36 Q894.69 1377.36 897.723 1380.74 Q900.778 1384.1 900.778 1389.89 M896.519 1388.64 Q896.473 1385.14 894.551 1383.06 Q892.653 1380.97 889.505 1380.97 Q885.94 1380.97 883.787 1382.99 Q881.658 1385 881.334 1388.66 L896.519 1388.64 Z\" fill=\"#000000\" fill-rule=\"evenodd\" fill-opacity=\"1\" /><path clip-path=\"url(#clip620)\" d=\"M922.792 1381.97 Q922.074 1381.55 921.218 1381.37 Q920.384 1381.16 919.366 1381.16 Q915.755 1381.16 913.81 1383.52 Q911.889 1385.86 911.889 1390.26 L911.889 1403.91 L907.607 1403.91 L907.607 1377.99 L911.889 1377.99 L911.889 1382.02 Q913.232 1379.66 915.384 1378.52 Q917.537 1377.36 920.616 1377.36 Q921.056 1377.36 921.588 1377.43 Q922.121 1377.48 922.769 1377.6 L922.792 1381.97 Z\" fill=\"#000000\" fill-rule=\"evenodd\" fill-opacity=\"1\" /><path clip-path=\"url(#clip620)\" d=\"M939.042 1390.88 Q933.88 1390.88 931.889 1392.06 Q929.898 1393.24 929.898 1396.09 Q929.898 1398.36 931.38 1399.7 Q932.884 1401.02 935.454 1401.02 Q938.995 1401.02 941.125 1398.52 Q943.278 1396 943.278 1391.83 L943.278 1390.88 L939.042 1390.88 M947.537 1389.12 L947.537 1403.91 L943.278 1403.91 L943.278 1399.98 Q941.82 1402.34 939.644 1403.47 Q937.468 1404.59 934.32 1404.59 Q930.338 1404.59 927.977 1402.36 Q925.639 1400.12 925.639 1396.37 Q925.639 1391.99 928.556 1389.77 Q931.496 1387.55 937.306 1387.55 L943.278 1387.55 L943.278 1387.13 Q943.278 1384.19 941.333 1382.6 Q939.412 1380.97 935.917 1380.97 Q933.695 1380.97 931.588 1381.51 Q929.482 1382.04 927.537 1383.1 L927.537 1379.17 Q929.875 1378.27 932.074 1377.83 Q934.273 1377.36 936.357 1377.36 Q941.982 1377.36 944.759 1380.28 Q947.537 1383.2 947.537 1389.12 Z\" fill=\"#000000\" fill-rule=\"evenodd\" fill-opacity=\"1\" /><path clip-path=\"url(#clip620)\" d=\"M973.37 1390.65 Q973.37 1386.02 971.449 1383.47 Q969.551 1380.93 966.102 1380.93 Q962.676 1380.93 960.755 1383.47 Q958.856 1386.02 958.856 1390.65 Q958.856 1395.26 960.755 1397.8 Q962.676 1400.35 966.102 1400.35 Q969.551 1400.35 971.449 1397.8 Q973.37 1395.26 973.37 1390.65 M977.63 1400.7 Q977.63 1407.32 974.69 1410.53 Q971.75 1413.78 965.685 1413.78 Q963.44 1413.78 961.449 1413.43 Q959.458 1413.1 957.583 1412.41 L957.583 1408.27 Q959.458 1409.28 961.287 1409.77 Q963.116 1410.26 965.014 1410.26 Q969.204 1410.26 971.287 1408.06 Q973.37 1405.88 973.37 1401.46 L973.37 1399.35 Q972.051 1401.65 969.991 1402.78 Q967.93 1403.91 965.06 1403.91 Q960.292 1403.91 957.375 1400.28 Q954.458 1396.65 954.458 1390.65 Q954.458 1384.63 957.375 1381 Q960.292 1377.36 965.06 1377.36 Q967.93 1377.36 969.991 1378.5 Q972.051 1379.63 973.37 1381.92 L973.37 1377.99 L977.63 1377.99 L977.63 1400.7 Z\" fill=\"#000000\" fill-rule=\"evenodd\" fill-opacity=\"1\" /><path clip-path=\"url(#clip620)\" d=\"M1008.58 1389.89 L1008.58 1391.97 L988.995 1391.97 Q989.273 1396.37 991.634 1398.68 Q994.018 1400.97 998.254 1400.97 Q1000.71 1400.97 1003 1400.37 Q1005.31 1399.77 1007.58 1398.57 L1007.58 1402.59 Q1005.29 1403.57 1002.88 1404.08 Q1000.48 1404.59 998 1404.59 Q991.796 1404.59 988.162 1400.97 Q984.551 1397.36 984.551 1391.21 Q984.551 1384.84 987.977 1381.11 Q991.426 1377.36 997.259 1377.36 Q1002.49 1377.36 1005.52 1380.74 Q1008.58 1384.1 1008.58 1389.89 M1004.32 1388.64 Q1004.27 1385.14 1002.35 1383.06 Q1000.45 1380.97 997.305 1380.97 Q993.741 1380.97 991.588 1382.99 Q989.458 1385 989.134 1388.66 L1004.32 1388.64 Z\" fill=\"#000000\" fill-rule=\"evenodd\" fill-opacity=\"1\" /></svg>\n"
      ]
     },
     "execution_count": 62,
     "metadata": {},
     "output_type": "execute_result"
    }
   ],
   "source": [
    "plot(1:11, Jantempaverage, label=\"Jan Temperature average\", legend=:bottomleft)"
   ]
  },
  {
   "cell_type": "markdown",
   "id": "88be71df",
   "metadata": {},
   "source": [
    "# Now we do this for 2012-2022 Dec Min average data: "
   ]
  },
  {
   "cell_type": "code",
   "execution_count": 63,
   "id": "8dec487f",
   "metadata": {},
   "outputs": [
    {
     "data": {
      "text/plain": [
       "11-element Vector{Any}:\n",
       " 13.0\n",
       "  4.09\n",
       " 21.545\n",
       " 25.73\n",
       " 22.82\n",
       " -3.28\n",
       " 22.27\n",
       " 28.18\n",
       " 15.64\n",
       " 17.36\n",
       "  9.27"
      ]
     },
     "execution_count": 63,
     "metadata": {},
     "output_type": "execute_result"
    }
   ],
   "source": [
    "Dectempmin=C[2:12,2]"
   ]
  },
  {
   "cell_type": "code",
   "execution_count": 64,
   "id": "551173b1",
   "metadata": {},
   "outputs": [
    {
     "data": {
      "image/svg+xml": [
       "<?xml version=\"1.0\" encoding=\"utf-8\"?>\n",
       "<svg xmlns=\"http://www.w3.org/2000/svg\" xmlns:xlink=\"http://www.w3.org/1999/xlink\" width=\"600\" height=\"400\" viewBox=\"0 0 2400 1600\">\n",
       "<defs>\n",
       "  <clipPath id=\"clip660\">\n",
       "    <rect x=\"0\" y=\"0\" width=\"2400\" height=\"1600\"/>\n",
       "  </clipPath>\n",
       "</defs>\n",
       "<path clip-path=\"url(#clip660)\" d=\"\n",
       "M0 1600 L2400 1600 L2400 0 L0 0  Z\n",
       "  \" fill=\"#ffffff\" fill-rule=\"evenodd\" fill-opacity=\"1\"/>\n",
       "<defs>\n",
       "  <clipPath id=\"clip661\">\n",
       "    <rect x=\"480\" y=\"0\" width=\"1681\" height=\"1600\"/>\n",
       "  </clipPath>\n",
       "</defs>\n",
       "<path clip-path=\"url(#clip660)\" d=\"\n",
       "M140.696 1486.45 L2352.76 1486.45 L2352.76 47.2441 L140.696 47.2441  Z\n",
       "  \" fill=\"#ffffff\" fill-rule=\"evenodd\" fill-opacity=\"1\"/>\n",
       "<defs>\n",
       "  <clipPath id=\"clip662\">\n",
       "    <rect x=\"140\" y=\"47\" width=\"2213\" height=\"1440\"/>\n",
       "  </clipPath>\n",
       "</defs>\n",
       "<polyline clip-path=\"url(#clip662)\" style=\"stroke:#000000; stroke-linecap:round; stroke-linejoin:round; stroke-width:2; stroke-opacity:0.1; fill:none\" points=\"\n",
       "  411.986,1486.45 411.986,47.2441 \n",
       "  \"/>\n",
       "<polyline clip-path=\"url(#clip662)\" style=\"stroke:#000000; stroke-linecap:round; stroke-linejoin:round; stroke-width:2; stroke-opacity:0.1; fill:none\" points=\"\n",
       "  829.356,1486.45 829.356,47.2441 \n",
       "  \"/>\n",
       "<polyline clip-path=\"url(#clip662)\" style=\"stroke:#000000; stroke-linecap:round; stroke-linejoin:round; stroke-width:2; stroke-opacity:0.1; fill:none\" points=\"\n",
       "  1246.73,1486.45 1246.73,47.2441 \n",
       "  \"/>\n",
       "<polyline clip-path=\"url(#clip662)\" style=\"stroke:#000000; stroke-linecap:round; stroke-linejoin:round; stroke-width:2; stroke-opacity:0.1; fill:none\" points=\"\n",
       "  1664.1,1486.45 1664.1,47.2441 \n",
       "  \"/>\n",
       "<polyline clip-path=\"url(#clip662)\" style=\"stroke:#000000; stroke-linecap:round; stroke-linejoin:round; stroke-width:2; stroke-opacity:0.1; fill:none\" points=\"\n",
       "  2081.47,1486.45 2081.47,47.2441 \n",
       "  \"/>\n",
       "<polyline clip-path=\"url(#clip660)\" style=\"stroke:#000000; stroke-linecap:round; stroke-linejoin:round; stroke-width:4; stroke-opacity:1; fill:none\" points=\"\n",
       "  140.696,1486.45 2352.76,1486.45 \n",
       "  \"/>\n",
       "<polyline clip-path=\"url(#clip660)\" style=\"stroke:#000000; stroke-linecap:round; stroke-linejoin:round; stroke-width:4; stroke-opacity:1; fill:none\" points=\"\n",
       "  411.986,1486.45 411.986,1467.55 \n",
       "  \"/>\n",
       "<polyline clip-path=\"url(#clip660)\" style=\"stroke:#000000; stroke-linecap:round; stroke-linejoin:round; stroke-width:4; stroke-opacity:1; fill:none\" points=\"\n",
       "  829.356,1486.45 829.356,1467.55 \n",
       "  \"/>\n",
       "<polyline clip-path=\"url(#clip660)\" style=\"stroke:#000000; stroke-linecap:round; stroke-linejoin:round; stroke-width:4; stroke-opacity:1; fill:none\" points=\"\n",
       "  1246.73,1486.45 1246.73,1467.55 \n",
       "  \"/>\n",
       "<polyline clip-path=\"url(#clip660)\" style=\"stroke:#000000; stroke-linecap:round; stroke-linejoin:round; stroke-width:4; stroke-opacity:1; fill:none\" points=\"\n",
       "  1664.1,1486.45 1664.1,1467.55 \n",
       "  \"/>\n",
       "<polyline clip-path=\"url(#clip660)\" style=\"stroke:#000000; stroke-linecap:round; stroke-linejoin:round; stroke-width:4; stroke-opacity:1; fill:none\" points=\"\n",
       "  2081.47,1486.45 2081.47,1467.55 \n",
       "  \"/>\n",
       "<path clip-path=\"url(#clip660)\" d=\"M406.639 1544.91 L422.958 1544.91 L422.958 1548.85 L401.014 1548.85 L401.014 1544.91 Q403.676 1542.16 408.259 1537.53 Q412.866 1532.88 414.046 1531.53 Q416.291 1529.01 417.171 1527.27 Q418.074 1525.51 418.074 1523.82 Q418.074 1521.07 416.129 1519.33 Q414.208 1517.6 411.106 1517.6 Q408.907 1517.6 406.454 1518.36 Q404.023 1519.13 401.245 1520.68 L401.245 1515.95 Q404.069 1514.82 406.523 1514.24 Q408.977 1513.66 411.014 1513.66 Q416.384 1513.66 419.579 1516.35 Q422.773 1519.03 422.773 1523.52 Q422.773 1525.65 421.963 1527.57 Q421.176 1529.47 419.069 1532.07 Q418.491 1532.74 415.389 1535.95 Q412.287 1539.15 406.639 1544.91 Z\" fill=\"#000000\" fill-rule=\"evenodd\" fill-opacity=\"1\" /><path clip-path=\"url(#clip660)\" d=\"M832.365 1518.36 L820.56 1536.81 L832.365 1536.81 L832.365 1518.36 M831.138 1514.29 L837.018 1514.29 L837.018 1536.81 L841.948 1536.81 L841.948 1540.7 L837.018 1540.7 L837.018 1548.85 L832.365 1548.85 L832.365 1540.7 L816.763 1540.7 L816.763 1536.19 L831.138 1514.29 Z\" fill=\"#000000\" fill-rule=\"evenodd\" fill-opacity=\"1\" /><path clip-path=\"url(#clip660)\" d=\"M1247.13 1529.7 Q1243.98 1529.7 1242.13 1531.86 Q1240.3 1534.01 1240.3 1537.76 Q1240.3 1541.49 1242.13 1543.66 Q1243.98 1545.82 1247.13 1545.82 Q1250.28 1545.82 1252.11 1543.66 Q1253.96 1541.49 1253.96 1537.76 Q1253.96 1534.01 1252.11 1531.86 Q1250.28 1529.7 1247.13 1529.7 M1256.41 1515.05 L1256.41 1519.31 Q1254.65 1518.48 1252.85 1518.04 Q1251.07 1517.6 1249.31 1517.6 Q1244.68 1517.6 1242.22 1520.72 Q1239.79 1523.85 1239.45 1530.17 Q1240.81 1528.15 1242.87 1527.09 Q1244.93 1526 1247.41 1526 Q1252.62 1526 1255.63 1529.17 Q1258.66 1532.32 1258.66 1537.76 Q1258.66 1543.08 1255.51 1546.3 Q1252.36 1549.52 1247.13 1549.52 Q1241.14 1549.52 1237.96 1544.94 Q1234.79 1540.33 1234.79 1531.6 Q1234.79 1523.41 1238.68 1518.55 Q1242.57 1513.66 1249.12 1513.66 Q1250.88 1513.66 1252.66 1514.01 Q1254.47 1514.36 1256.41 1515.05 Z\" fill=\"#000000\" fill-rule=\"evenodd\" fill-opacity=\"1\" /><path clip-path=\"url(#clip660)\" d=\"M1664.1 1532.44 Q1660.76 1532.44 1658.84 1534.22 Q1656.94 1536 1656.94 1539.13 Q1656.94 1542.25 1658.84 1544.03 Q1660.76 1545.82 1664.1 1545.82 Q1667.43 1545.82 1669.35 1544.03 Q1671.27 1542.23 1671.27 1539.13 Q1671.27 1536 1669.35 1534.22 Q1667.45 1532.44 1664.1 1532.44 M1659.42 1530.45 Q1656.41 1529.7 1654.72 1527.64 Q1653.05 1525.58 1653.05 1522.62 Q1653.05 1518.48 1655.99 1516.07 Q1658.96 1513.66 1664.1 1513.66 Q1669.26 1513.66 1672.2 1516.07 Q1675.14 1518.48 1675.14 1522.62 Q1675.14 1525.58 1673.45 1527.64 Q1671.78 1529.7 1668.79 1530.45 Q1672.17 1531.23 1674.05 1533.52 Q1675.95 1535.82 1675.95 1539.13 Q1675.95 1544.15 1672.87 1546.83 Q1669.81 1549.52 1664.1 1549.52 Q1658.38 1549.52 1655.3 1546.83 Q1652.24 1544.15 1652.24 1539.13 Q1652.24 1535.82 1654.14 1533.52 Q1656.04 1531.23 1659.42 1530.45 M1657.71 1523.06 Q1657.71 1525.75 1659.37 1527.25 Q1661.06 1528.76 1664.1 1528.76 Q1667.1 1528.76 1668.79 1527.25 Q1670.51 1525.75 1670.51 1523.06 Q1670.51 1520.38 1668.79 1518.87 Q1667.1 1517.37 1664.1 1517.37 Q1661.06 1517.37 1659.37 1518.87 Q1657.71 1520.38 1657.71 1523.06 Z\" fill=\"#000000\" fill-rule=\"evenodd\" fill-opacity=\"1\" /><path clip-path=\"url(#clip660)\" d=\"M2056.15 1544.91 L2063.79 1544.91 L2063.79 1518.55 L2055.48 1520.21 L2055.48 1515.95 L2063.75 1514.29 L2068.42 1514.29 L2068.42 1544.91 L2076.06 1544.91 L2076.06 1548.85 L2056.15 1548.85 L2056.15 1544.91 Z\" fill=\"#000000\" fill-rule=\"evenodd\" fill-opacity=\"1\" /><path clip-path=\"url(#clip660)\" d=\"M2095.5 1517.37 Q2091.89 1517.37 2090.06 1520.93 Q2088.26 1524.47 2088.26 1531.6 Q2088.26 1538.71 2090.06 1542.27 Q2091.89 1545.82 2095.5 1545.82 Q2099.14 1545.82 2100.94 1542.27 Q2102.77 1538.71 2102.77 1531.6 Q2102.77 1524.47 2100.94 1520.93 Q2099.14 1517.37 2095.5 1517.37 M2095.5 1513.66 Q2101.31 1513.66 2104.37 1518.27 Q2107.45 1522.85 2107.45 1531.6 Q2107.45 1540.33 2104.37 1544.94 Q2101.31 1549.52 2095.5 1549.52 Q2089.69 1549.52 2086.62 1544.94 Q2083.56 1540.33 2083.56 1531.6 Q2083.56 1522.85 2086.62 1518.27 Q2089.69 1513.66 2095.5 1513.66 Z\" fill=\"#000000\" fill-rule=\"evenodd\" fill-opacity=\"1\" /><polyline clip-path=\"url(#clip662)\" style=\"stroke:#000000; stroke-linecap:round; stroke-linejoin:round; stroke-width:2; stroke-opacity:0.1; fill:none\" points=\"\n",
       "  140.696,1304.16 2352.76,1304.16 \n",
       "  \"/>\n",
       "<polyline clip-path=\"url(#clip662)\" style=\"stroke:#000000; stroke-linecap:round; stroke-linejoin:round; stroke-width:2; stroke-opacity:0.1; fill:none\" points=\"\n",
       "  140.696,1088.37 2352.76,1088.37 \n",
       "  \"/>\n",
       "<polyline clip-path=\"url(#clip662)\" style=\"stroke:#000000; stroke-linecap:round; stroke-linejoin:round; stroke-width:2; stroke-opacity:0.1; fill:none\" points=\"\n",
       "  140.696,872.582 2352.76,872.582 \n",
       "  \"/>\n",
       "<polyline clip-path=\"url(#clip662)\" style=\"stroke:#000000; stroke-linecap:round; stroke-linejoin:round; stroke-width:2; stroke-opacity:0.1; fill:none\" points=\"\n",
       "  140.696,656.794 2352.76,656.794 \n",
       "  \"/>\n",
       "<polyline clip-path=\"url(#clip662)\" style=\"stroke:#000000; stroke-linecap:round; stroke-linejoin:round; stroke-width:2; stroke-opacity:0.1; fill:none\" points=\"\n",
       "  140.696,441.006 2352.76,441.006 \n",
       "  \"/>\n",
       "<polyline clip-path=\"url(#clip662)\" style=\"stroke:#000000; stroke-linecap:round; stroke-linejoin:round; stroke-width:2; stroke-opacity:0.1; fill:none\" points=\"\n",
       "  140.696,225.218 2352.76,225.218 \n",
       "  \"/>\n",
       "<polyline clip-path=\"url(#clip660)\" style=\"stroke:#000000; stroke-linecap:round; stroke-linejoin:round; stroke-width:4; stroke-opacity:1; fill:none\" points=\"\n",
       "  140.696,1486.45 140.696,47.2441 \n",
       "  \"/>\n",
       "<polyline clip-path=\"url(#clip660)\" style=\"stroke:#000000; stroke-linecap:round; stroke-linejoin:round; stroke-width:4; stroke-opacity:1; fill:none\" points=\"\n",
       "  140.696,1304.16 159.593,1304.16 \n",
       "  \"/>\n",
       "<polyline clip-path=\"url(#clip660)\" style=\"stroke:#000000; stroke-linecap:round; stroke-linejoin:round; stroke-width:4; stroke-opacity:1; fill:none\" points=\"\n",
       "  140.696,1088.37 159.593,1088.37 \n",
       "  \"/>\n",
       "<polyline clip-path=\"url(#clip660)\" style=\"stroke:#000000; stroke-linecap:round; stroke-linejoin:round; stroke-width:4; stroke-opacity:1; fill:none\" points=\"\n",
       "  140.696,872.582 159.593,872.582 \n",
       "  \"/>\n",
       "<polyline clip-path=\"url(#clip660)\" style=\"stroke:#000000; stroke-linecap:round; stroke-linejoin:round; stroke-width:4; stroke-opacity:1; fill:none\" points=\"\n",
       "  140.696,656.794 159.593,656.794 \n",
       "  \"/>\n",
       "<polyline clip-path=\"url(#clip660)\" style=\"stroke:#000000; stroke-linecap:round; stroke-linejoin:round; stroke-width:4; stroke-opacity:1; fill:none\" points=\"\n",
       "  140.696,441.006 159.593,441.006 \n",
       "  \"/>\n",
       "<polyline clip-path=\"url(#clip660)\" style=\"stroke:#000000; stroke-linecap:round; stroke-linejoin:round; stroke-width:4; stroke-opacity:1; fill:none\" points=\"\n",
       "  140.696,225.218 159.593,225.218 \n",
       "  \"/>\n",
       "<path clip-path=\"url(#clip660)\" d=\"M92.7512 1289.96 Q89.1401 1289.96 87.3114 1293.52 Q85.5058 1297.06 85.5058 1304.19 Q85.5058 1311.3 87.3114 1314.86 Q89.1401 1318.41 92.7512 1318.41 Q96.3854 1318.41 98.1909 1314.86 Q100.02 1311.3 100.02 1304.19 Q100.02 1297.06 98.1909 1293.52 Q96.3854 1289.96 92.7512 1289.96 M92.7512 1286.25 Q98.5613 1286.25 101.617 1290.86 Q104.696 1295.44 104.696 1304.19 Q104.696 1312.92 101.617 1317.53 Q98.5613 1322.11 92.7512 1322.11 Q86.941 1322.11 83.8623 1317.53 Q80.8068 1312.92 80.8068 1304.19 Q80.8068 1295.44 83.8623 1290.86 Q86.941 1286.25 92.7512 1286.25 Z\" fill=\"#000000\" fill-rule=\"evenodd\" fill-opacity=\"1\" /><path clip-path=\"url(#clip660)\" d=\"M83.7929 1071.09 L102.149 1071.09 L102.149 1075.03 L88.0753 1075.03 L88.0753 1083.5 Q89.0938 1083.15 90.1123 1082.99 Q91.1308 1082.8 92.1493 1082.8 Q97.9363 1082.8 101.316 1085.97 Q104.696 1089.15 104.696 1094.56 Q104.696 1100.14 101.223 1103.24 Q97.7511 1106.32 91.4317 1106.32 Q89.2558 1106.32 86.9873 1105.95 Q84.7419 1105.58 82.3346 1104.84 L82.3346 1100.14 Q84.4179 1101.28 86.6401 1101.83 Q88.8623 1102.39 91.3391 1102.39 Q95.3437 1102.39 97.6817 1100.28 Q100.02 1098.17 100.02 1094.56 Q100.02 1090.95 97.6817 1088.84 Q95.3437 1086.74 91.3391 1086.74 Q89.4641 1086.74 87.5892 1087.16 Q85.7373 1087.57 83.7929 1088.45 L83.7929 1071.09 Z\" fill=\"#000000\" fill-rule=\"evenodd\" fill-opacity=\"1\" /><path clip-path=\"url(#clip660)\" d=\"M53.3995 885.927 L61.0384 885.927 L61.0384 859.561 L52.7282 861.228 L52.7282 856.969 L60.9921 855.302 L65.668 855.302 L65.668 885.927 L73.3068 885.927 L73.3068 889.862 L53.3995 889.862 L53.3995 885.927 Z\" fill=\"#000000\" fill-rule=\"evenodd\" fill-opacity=\"1\" /><path clip-path=\"url(#clip660)\" d=\"M92.7512 858.381 Q89.1401 858.381 87.3114 861.946 Q85.5058 865.487 85.5058 872.617 Q85.5058 879.723 87.3114 883.288 Q89.1401 886.83 92.7512 886.83 Q96.3854 886.83 98.1909 883.288 Q100.02 879.723 100.02 872.617 Q100.02 865.487 98.1909 861.946 Q96.3854 858.381 92.7512 858.381 M92.7512 854.677 Q98.5613 854.677 101.617 859.284 Q104.696 863.867 104.696 872.617 Q104.696 881.344 101.617 885.95 Q98.5613 890.533 92.7512 890.533 Q86.941 890.533 83.8623 885.95 Q80.8068 881.344 80.8068 872.617 Q80.8068 863.867 83.8623 859.284 Q86.941 854.677 92.7512 854.677 Z\" fill=\"#000000\" fill-rule=\"evenodd\" fill-opacity=\"1\" /><path clip-path=\"url(#clip660)\" d=\"M54.3949 670.139 L62.0337 670.139 L62.0337 643.773 L53.7236 645.44 L53.7236 641.181 L61.9874 639.514 L66.6633 639.514 L66.6633 670.139 L74.3022 670.139 L74.3022 674.074 L54.3949 674.074 L54.3949 670.139 Z\" fill=\"#000000\" fill-rule=\"evenodd\" fill-opacity=\"1\" /><path clip-path=\"url(#clip660)\" d=\"M83.7929 639.514 L102.149 639.514 L102.149 643.449 L88.0753 643.449 L88.0753 651.921 Q89.0938 651.574 90.1123 651.412 Q91.1308 651.227 92.1493 651.227 Q97.9363 651.227 101.316 654.398 Q104.696 657.569 104.696 662.986 Q104.696 668.565 101.223 671.667 Q97.7511 674.745 91.4317 674.745 Q89.2558 674.745 86.9873 674.375 Q84.7419 674.005 82.3346 673.264 L82.3346 668.565 Q84.4179 669.699 86.6401 670.255 Q88.8623 670.81 91.3391 670.81 Q95.3437 670.81 97.6817 668.704 Q100.02 666.597 100.02 662.986 Q100.02 659.375 97.6817 657.269 Q95.3437 655.162 91.3391 655.162 Q89.4641 655.162 87.5892 655.579 Q85.7373 655.995 83.7929 656.875 L83.7929 639.514 Z\" fill=\"#000000\" fill-rule=\"evenodd\" fill-opacity=\"1\" /><path clip-path=\"url(#clip660)\" d=\"M56.6171 454.351 L72.9365 454.351 L72.9365 458.286 L50.9921 458.286 L50.9921 454.351 Q53.6541 451.596 58.2375 446.966 Q62.8439 442.314 64.0245 440.971 Q66.2698 438.448 67.1494 436.712 Q68.0522 434.953 68.0522 433.263 Q68.0522 430.508 66.1078 428.772 Q64.1865 427.036 61.0847 427.036 Q58.8856 427.036 56.4319 427.8 Q54.0014 428.564 51.2236 430.115 L51.2236 425.392 Q54.0477 424.258 56.5014 423.679 Q58.955 423.101 60.9921 423.101 Q66.3624 423.101 69.5568 425.786 Q72.7513 428.471 72.7513 432.962 Q72.7513 435.091 71.9411 437.013 Q71.1541 438.911 69.0476 441.503 Q68.4689 442.175 65.367 445.392 Q62.2652 448.587 56.6171 454.351 Z\" fill=\"#000000\" fill-rule=\"evenodd\" fill-opacity=\"1\" /><path clip-path=\"url(#clip660)\" d=\"M92.7512 426.804 Q89.1401 426.804 87.3114 430.369 Q85.5058 433.911 85.5058 441.041 Q85.5058 448.147 87.3114 451.712 Q89.1401 455.253 92.7512 455.253 Q96.3854 455.253 98.1909 451.712 Q100.02 448.147 100.02 441.041 Q100.02 433.911 98.1909 430.369 Q96.3854 426.804 92.7512 426.804 M92.7512 423.101 Q98.5613 423.101 101.617 427.707 Q104.696 432.291 104.696 441.041 Q104.696 449.767 101.617 454.374 Q98.5613 458.957 92.7512 458.957 Q86.941 458.957 83.8623 454.374 Q80.8068 449.767 80.8068 441.041 Q80.8068 432.291 83.8623 427.707 Q86.941 423.101 92.7512 423.101 Z\" fill=\"#000000\" fill-rule=\"evenodd\" fill-opacity=\"1\" /><path clip-path=\"url(#clip660)\" d=\"M57.6125 238.562 L73.9318 238.562 L73.9318 242.498 L51.9875 242.498 L51.9875 238.562 Q54.6495 235.808 59.2328 231.178 Q63.8393 226.525 65.0198 225.183 Q67.2652 222.66 68.1448 220.924 Q69.0476 219.164 69.0476 217.475 Q69.0476 214.72 67.1032 212.984 Q65.1819 211.248 62.08 211.248 Q59.881 211.248 57.4273 212.012 Q54.9967 212.776 52.219 214.326 L52.219 209.604 Q55.043 208.47 57.4967 207.891 Q59.9504 207.313 61.9874 207.313 Q67.3578 207.313 70.5522 209.998 Q73.7466 212.683 73.7466 217.174 Q73.7466 219.303 72.9365 221.225 Q72.1494 223.123 70.0429 225.715 Q69.4642 226.387 66.3624 229.604 Q63.2606 232.799 57.6125 238.562 Z\" fill=\"#000000\" fill-rule=\"evenodd\" fill-opacity=\"1\" /><path clip-path=\"url(#clip660)\" d=\"M83.7929 207.938 L102.149 207.938 L102.149 211.873 L88.0753 211.873 L88.0753 220.345 Q89.0938 219.998 90.1123 219.836 Q91.1308 219.65 92.1493 219.65 Q97.9363 219.65 101.316 222.822 Q104.696 225.993 104.696 231.41 Q104.696 236.988 101.223 240.09 Q97.7511 243.169 91.4317 243.169 Q89.2558 243.169 86.9873 242.799 Q84.7419 242.428 82.3346 241.687 L82.3346 236.988 Q84.4179 238.123 86.6401 238.678 Q88.8623 239.234 91.3391 239.234 Q95.3437 239.234 97.6817 237.127 Q100.02 235.021 100.02 231.41 Q100.02 227.799 97.6817 225.692 Q95.3437 223.586 91.3391 223.586 Q89.4641 223.586 87.5892 224.002 Q85.7373 224.419 83.7929 225.299 L83.7929 207.938 Z\" fill=\"#000000\" fill-rule=\"evenodd\" fill-opacity=\"1\" /><polyline clip-path=\"url(#clip662)\" style=\"stroke:#009af9; stroke-linecap:round; stroke-linejoin:round; stroke-width:4; stroke-opacity:1; fill:none\" points=\"\n",
       "  203.301,743.109 411.986,1127.64 620.671,374.327 829.356,193.712 1038.04,319.301 1246.73,1445.72 1455.41,343.038 1664.1,87.9763 1872.78,629.173 2081.47,554.942 \n",
       "  2290.15,904.087 \n",
       "  \"/>\n",
       "<path clip-path=\"url(#clip660)\" d=\"\n",
       "M214.431 1438.47 L938.528 1438.47 L938.528 1334.79 L214.431 1334.79  Z\n",
       "  \" fill=\"#ffffff\" fill-rule=\"evenodd\" fill-opacity=\"1\"/>\n",
       "<polyline clip-path=\"url(#clip660)\" style=\"stroke:#000000; stroke-linecap:round; stroke-linejoin:round; stroke-width:4; stroke-opacity:1; fill:none\" points=\"\n",
       "  214.431,1438.47 938.528,1438.47 938.528,1334.79 214.431,1334.79 214.431,1438.47 \n",
       "  \"/>\n",
       "<polyline clip-path=\"url(#clip660)\" style=\"stroke:#009af9; stroke-linecap:round; stroke-linejoin:round; stroke-width:4; stroke-opacity:1; fill:none\" points=\"\n",
       "  239.009,1386.63 386.48,1386.63 \n",
       "  \"/>\n",
       "<path clip-path=\"url(#clip660)\" d=\"M415.734 1373.2 L415.734 1400.07 L421.382 1400.07 Q428.535 1400.07 431.845 1396.83 Q435.179 1393.59 435.179 1386.6 Q435.179 1379.66 431.845 1376.44 Q428.535 1373.2 421.382 1373.2 L415.734 1373.2 M411.058 1369.35 L420.665 1369.35 Q430.711 1369.35 435.41 1373.54 Q440.109 1377.71 440.109 1386.6 Q440.109 1395.53 435.387 1399.72 Q430.665 1403.91 420.665 1403.91 L411.058 1403.91 L411.058 1369.35 Z\" fill=\"#000000\" fill-rule=\"evenodd\" fill-opacity=\"1\" /><path clip-path=\"url(#clip660)\" d=\"M469.554 1389.89 L469.554 1391.97 L449.97 1391.97 Q450.248 1396.37 452.609 1398.68 Q454.993 1400.97 459.23 1400.97 Q461.683 1400.97 463.975 1400.37 Q466.29 1399.77 468.558 1398.57 L468.558 1402.59 Q466.267 1403.57 463.859 1404.08 Q461.452 1404.59 458.975 1404.59 Q452.771 1404.59 449.137 1400.97 Q445.526 1397.36 445.526 1391.21 Q445.526 1384.84 448.952 1381.11 Q452.401 1377.36 458.234 1377.36 Q463.466 1377.36 466.498 1380.74 Q469.554 1384.1 469.554 1389.89 M465.294 1388.64 Q465.248 1385.14 463.327 1383.06 Q461.429 1380.97 458.28 1380.97 Q454.716 1380.97 452.563 1382.99 Q450.433 1385 450.109 1388.66 L465.294 1388.64 Z\" fill=\"#000000\" fill-rule=\"evenodd\" fill-opacity=\"1\" /><path clip-path=\"url(#clip660)\" d=\"M495.202 1378.98 L495.202 1382.97 Q493.396 1381.97 491.567 1381.48 Q489.762 1380.97 487.91 1380.97 Q483.766 1380.97 481.475 1383.61 Q479.183 1386.23 479.183 1390.97 Q479.183 1395.72 481.475 1398.36 Q483.766 1400.97 487.91 1400.97 Q489.762 1400.97 491.567 1400.49 Q493.396 1399.98 495.202 1398.98 L495.202 1402.92 Q493.419 1403.75 491.498 1404.17 Q489.6 1404.59 487.447 1404.59 Q481.591 1404.59 478.141 1400.91 Q474.692 1397.22 474.692 1390.97 Q474.692 1384.63 478.165 1381 Q481.66 1377.36 487.725 1377.36 Q489.692 1377.36 491.567 1377.78 Q493.442 1378.17 495.202 1378.98 Z\" fill=\"#000000\" fill-rule=\"evenodd\" fill-opacity=\"1\" /><path clip-path=\"url(#clip660)\" d=\"M513.072 1369.35 L542.308 1369.35 L542.308 1373.29 L530.039 1373.29 L530.039 1403.91 L525.34 1403.91 L525.34 1373.29 L513.072 1373.29 L513.072 1369.35 Z\" fill=\"#000000\" fill-rule=\"evenodd\" fill-opacity=\"1\" /><path clip-path=\"url(#clip660)\" d=\"M560.757 1389.89 L560.757 1391.97 L541.174 1391.97 Q541.451 1396.37 543.812 1398.68 Q546.197 1400.97 550.433 1400.97 Q552.886 1400.97 555.178 1400.37 Q557.493 1399.77 559.761 1398.57 L559.761 1402.59 Q557.47 1403.57 555.062 1404.08 Q552.655 1404.59 550.178 1404.59 Q543.974 1404.59 540.34 1400.97 Q536.729 1397.36 536.729 1391.21 Q536.729 1384.84 540.155 1381.11 Q543.604 1377.36 549.437 1377.36 Q554.669 1377.36 557.701 1380.74 Q560.757 1384.1 560.757 1389.89 M556.498 1388.64 Q556.451 1385.14 554.53 1383.06 Q552.632 1380.97 549.484 1380.97 Q545.919 1380.97 543.766 1382.99 Q541.636 1385 541.312 1388.66 L556.498 1388.64 Z\" fill=\"#000000\" fill-rule=\"evenodd\" fill-opacity=\"1\" /><path clip-path=\"url(#clip660)\" d=\"M587.933 1382.97 Q589.53 1380.1 591.752 1378.73 Q593.974 1377.36 596.983 1377.36 Q601.034 1377.36 603.233 1380.21 Q605.432 1383.03 605.432 1388.27 L605.432 1403.91 L601.15 1403.91 L601.15 1388.41 Q601.15 1384.68 599.831 1382.87 Q598.511 1381.07 595.803 1381.07 Q592.493 1381.07 590.571 1383.27 Q588.65 1385.47 588.65 1389.26 L588.65 1403.91 L584.368 1403.91 L584.368 1388.41 Q584.368 1384.66 583.048 1382.87 Q581.729 1381.07 578.974 1381.07 Q575.71 1381.07 573.789 1383.29 Q571.868 1385.49 571.868 1389.26 L571.868 1403.91 L567.585 1403.91 L567.585 1377.99 L571.868 1377.99 L571.868 1382.02 Q573.326 1379.63 575.363 1378.5 Q577.4 1377.36 580.201 1377.36 Q583.025 1377.36 584.993 1378.8 Q586.983 1380.23 587.933 1382.97 Z\" fill=\"#000000\" fill-rule=\"evenodd\" fill-opacity=\"1\" /><path clip-path=\"url(#clip660)\" d=\"M618.048 1400.03 L618.048 1413.78 L613.766 1413.78 L613.766 1377.99 L618.048 1377.99 L618.048 1381.92 Q619.391 1379.61 621.428 1378.5 Q623.488 1377.36 626.335 1377.36 Q631.057 1377.36 633.997 1381.11 Q636.96 1384.86 636.96 1390.97 Q636.96 1397.09 633.997 1400.84 Q631.057 1404.59 626.335 1404.59 Q623.488 1404.59 621.428 1403.47 Q619.391 1402.34 618.048 1400.03 M632.539 1390.97 Q632.539 1386.28 630.594 1383.61 Q628.673 1380.93 625.293 1380.93 Q621.914 1380.93 619.969 1383.61 Q618.048 1386.28 618.048 1390.97 Q618.048 1395.67 619.969 1398.36 Q621.914 1401.02 625.293 1401.02 Q628.673 1401.02 630.594 1398.36 Q632.539 1395.67 632.539 1390.97 Z\" fill=\"#000000\" fill-rule=\"evenodd\" fill-opacity=\"1\" /><path clip-path=\"url(#clip660)\" d=\"M666.196 1389.89 L666.196 1391.97 L646.613 1391.97 Q646.891 1396.37 649.252 1398.68 Q651.636 1400.97 655.872 1400.97 Q658.326 1400.97 660.617 1400.37 Q662.932 1399.77 665.201 1398.57 L665.201 1402.59 Q662.909 1403.57 660.502 1404.08 Q658.094 1404.59 655.617 1404.59 Q649.414 1404.59 645.779 1400.97 Q642.168 1397.36 642.168 1391.21 Q642.168 1384.84 645.594 1381.11 Q649.043 1377.36 654.877 1377.36 Q660.108 1377.36 663.14 1380.74 Q666.196 1384.1 666.196 1389.89 M661.937 1388.64 Q661.89 1385.14 659.969 1383.06 Q658.071 1380.97 654.923 1380.97 Q651.358 1380.97 649.205 1382.99 Q647.076 1385 646.752 1388.66 L661.937 1388.64 Z\" fill=\"#000000\" fill-rule=\"evenodd\" fill-opacity=\"1\" /><path clip-path=\"url(#clip660)\" d=\"M688.21 1381.97 Q687.492 1381.55 686.636 1381.37 Q685.802 1381.16 684.784 1381.16 Q681.173 1381.16 679.228 1383.52 Q677.307 1385.86 677.307 1390.26 L677.307 1403.91 L673.025 1403.91 L673.025 1377.99 L677.307 1377.99 L677.307 1382.02 Q678.65 1379.66 680.802 1378.52 Q682.955 1377.36 686.034 1377.36 Q686.474 1377.36 687.006 1377.43 Q687.538 1377.48 688.187 1377.6 L688.21 1381.97 Z\" fill=\"#000000\" fill-rule=\"evenodd\" fill-opacity=\"1\" /><path clip-path=\"url(#clip660)\" d=\"M704.46 1390.88 Q699.298 1390.88 697.307 1392.06 Q695.316 1393.24 695.316 1396.09 Q695.316 1398.36 696.798 1399.7 Q698.302 1401.02 700.872 1401.02 Q704.413 1401.02 706.543 1398.52 Q708.696 1396 708.696 1391.83 L708.696 1390.88 L704.46 1390.88 M712.955 1389.12 L712.955 1403.91 L708.696 1403.91 L708.696 1399.98 Q707.237 1402.34 705.062 1403.47 Q702.886 1404.59 699.737 1404.59 Q695.756 1404.59 693.395 1402.36 Q691.057 1400.12 691.057 1396.37 Q691.057 1391.99 693.974 1389.77 Q696.913 1387.55 702.724 1387.55 L708.696 1387.55 L708.696 1387.13 Q708.696 1384.19 706.751 1382.6 Q704.83 1380.97 701.335 1380.97 Q699.112 1380.97 697.006 1381.51 Q694.9 1382.04 692.955 1383.1 L692.955 1379.17 Q695.293 1378.27 697.492 1377.83 Q699.691 1377.36 701.775 1377.36 Q707.399 1377.36 710.177 1380.28 Q712.955 1383.2 712.955 1389.12 Z\" fill=\"#000000\" fill-rule=\"evenodd\" fill-opacity=\"1\" /><path clip-path=\"url(#clip660)\" d=\"M725.941 1370.63 L725.941 1377.99 L734.714 1377.99 L734.714 1381.3 L725.941 1381.3 L725.941 1395.37 Q725.941 1398.54 726.798 1399.45 Q727.677 1400.35 730.339 1400.35 L734.714 1400.35 L734.714 1403.91 L730.339 1403.91 Q725.409 1403.91 723.534 1402.09 Q721.659 1400.23 721.659 1395.37 L721.659 1381.3 L718.534 1381.3 L718.534 1377.99 L721.659 1377.99 L721.659 1370.63 L725.941 1370.63 Z\" fill=\"#000000\" fill-rule=\"evenodd\" fill-opacity=\"1\" /><path clip-path=\"url(#clip660)\" d=\"M739.876 1393.68 L739.876 1377.99 L744.135 1377.99 L744.135 1393.52 Q744.135 1397.2 745.571 1399.05 Q747.006 1400.88 749.876 1400.88 Q753.325 1400.88 755.316 1398.68 Q757.33 1396.48 757.33 1392.69 L757.33 1377.99 L761.589 1377.99 L761.589 1403.91 L757.33 1403.91 L757.33 1399.93 Q755.779 1402.29 753.719 1403.45 Q751.682 1404.59 748.973 1404.59 Q744.506 1404.59 742.191 1401.81 Q739.876 1399.03 739.876 1393.68 M750.594 1377.36 L750.594 1377.36 Z\" fill=\"#000000\" fill-rule=\"evenodd\" fill-opacity=\"1\" /><path clip-path=\"url(#clip660)\" d=\"M785.385 1381.97 Q784.668 1381.55 783.811 1381.37 Q782.978 1381.16 781.959 1381.16 Q778.348 1381.16 776.404 1383.52 Q774.482 1385.86 774.482 1390.26 L774.482 1403.91 L770.2 1403.91 L770.2 1377.99 L774.482 1377.99 L774.482 1382.02 Q775.825 1379.66 777.978 1378.52 Q780.131 1377.36 783.209 1377.36 Q783.649 1377.36 784.181 1377.43 Q784.714 1377.48 785.362 1377.6 L785.385 1381.97 Z\" fill=\"#000000\" fill-rule=\"evenodd\" fill-opacity=\"1\" /><path clip-path=\"url(#clip660)\" d=\"M810.987 1389.89 L810.987 1391.97 L791.404 1391.97 Q791.681 1396.37 794.043 1398.68 Q796.427 1400.97 800.663 1400.97 Q803.117 1400.97 805.408 1400.37 Q807.723 1399.77 809.992 1398.57 L809.992 1402.59 Q807.7 1403.57 805.292 1404.08 Q802.885 1404.59 800.408 1404.59 Q794.205 1404.59 790.57 1400.97 Q786.959 1397.36 786.959 1391.21 Q786.959 1384.84 790.385 1381.11 Q793.834 1377.36 799.668 1377.36 Q804.899 1377.36 807.931 1380.74 Q810.987 1384.1 810.987 1389.89 M806.728 1388.64 Q806.681 1385.14 804.76 1383.06 Q802.862 1380.97 799.714 1380.97 Q796.149 1380.97 793.996 1382.99 Q791.867 1385 791.543 1388.66 L806.728 1388.64 Z\" fill=\"#000000\" fill-rule=\"evenodd\" fill-opacity=\"1\" /><path clip-path=\"url(#clip660)\" d=\"M853.232 1382.97 Q854.829 1380.1 857.051 1378.73 Q859.274 1377.36 862.283 1377.36 Q866.334 1377.36 868.533 1380.21 Q870.732 1383.03 870.732 1388.27 L870.732 1403.91 L866.45 1403.91 L866.45 1388.41 Q866.45 1384.68 865.13 1382.87 Q863.811 1381.07 861.102 1381.07 Q857.792 1381.07 855.871 1383.27 Q853.95 1385.47 853.95 1389.26 L853.95 1403.91 L849.667 1403.91 L849.667 1388.41 Q849.667 1384.66 848.348 1382.87 Q847.028 1381.07 844.274 1381.07 Q841.01 1381.07 839.089 1383.29 Q837.167 1385.49 837.167 1389.26 L837.167 1403.91 L832.885 1403.91 L832.885 1377.99 L837.167 1377.99 L837.167 1382.02 Q838.626 1379.63 840.663 1378.5 Q842.7 1377.36 845.501 1377.36 Q848.325 1377.36 850.292 1378.8 Q852.283 1380.23 853.232 1382.97 Z\" fill=\"#000000\" fill-rule=\"evenodd\" fill-opacity=\"1\" /><path clip-path=\"url(#clip660)\" d=\"M879.227 1377.99 L883.486 1377.99 L883.486 1403.91 L879.227 1403.91 L879.227 1377.99 M879.227 1367.9 L883.486 1367.9 L883.486 1373.29 L879.227 1373.29 L879.227 1367.9 Z\" fill=\"#000000\" fill-rule=\"evenodd\" fill-opacity=\"1\" /><path clip-path=\"url(#clip660)\" d=\"M913.949 1388.27 L913.949 1403.91 L909.69 1403.91 L909.69 1388.41 Q909.69 1384.72 908.255 1382.9 Q906.82 1381.07 903.949 1381.07 Q900.5 1381.07 898.51 1383.27 Q896.519 1385.47 896.519 1389.26 L896.519 1403.91 L892.236 1403.91 L892.236 1377.99 L896.519 1377.99 L896.519 1382.02 Q898.047 1379.68 900.107 1378.52 Q902.19 1377.36 904.898 1377.36 Q909.366 1377.36 911.658 1380.14 Q913.949 1382.9 913.949 1388.27 Z\" fill=\"#000000\" fill-rule=\"evenodd\" fill-opacity=\"1\" /></svg>\n"
      ]
     },
     "execution_count": 64,
     "metadata": {},
     "output_type": "execute_result"
    }
   ],
   "source": [
    "plot(1:11, Dectempmin, label=\"Dec Temperature min\", legend=:bottomleft)"
   ]
  },
  {
   "cell_type": "markdown",
   "id": "c53b96b5",
   "metadata": {},
   "source": [
    "# Now we do this for 2012-2022 Dec Max average data: "
   ]
  },
  {
   "cell_type": "code",
   "execution_count": 65,
   "id": "e2643047",
   "metadata": {},
   "outputs": [
    {
     "data": {
      "text/plain": [
       "11-element Vector{Any}:\n",
       " 26.36\n",
       " 21.09\n",
       " 31.727\n",
       " 34.82\n",
       " 35.73\n",
       " 13.36\n",
       " 34.09\n",
       " 39.09\n",
       " 31.55\n",
       " 33.36\n",
       " 26.09"
      ]
     },
     "execution_count": 65,
     "metadata": {},
     "output_type": "execute_result"
    }
   ],
   "source": [
    "Dectempmax=C[2:12,3]"
   ]
  },
  {
   "cell_type": "code",
   "execution_count": 66,
   "id": "85d57bc2",
   "metadata": {},
   "outputs": [
    {
     "data": {
      "image/svg+xml": [
       "<?xml version=\"1.0\" encoding=\"utf-8\"?>\n",
       "<svg xmlns=\"http://www.w3.org/2000/svg\" xmlns:xlink=\"http://www.w3.org/1999/xlink\" width=\"600\" height=\"400\" viewBox=\"0 0 2400 1600\">\n",
       "<defs>\n",
       "  <clipPath id=\"clip700\">\n",
       "    <rect x=\"0\" y=\"0\" width=\"2400\" height=\"1600\"/>\n",
       "  </clipPath>\n",
       "</defs>\n",
       "<path clip-path=\"url(#clip700)\" d=\"\n",
       "M0 1600 L2400 1600 L2400 0 L0 0  Z\n",
       "  \" fill=\"#ffffff\" fill-rule=\"evenodd\" fill-opacity=\"1\"/>\n",
       "<defs>\n",
       "  <clipPath id=\"clip701\">\n",
       "    <rect x=\"480\" y=\"0\" width=\"1681\" height=\"1600\"/>\n",
       "  </clipPath>\n",
       "</defs>\n",
       "<path clip-path=\"url(#clip700)\" d=\"\n",
       "M140.696 1486.45 L2352.76 1486.45 L2352.76 47.2441 L140.696 47.2441  Z\n",
       "  \" fill=\"#ffffff\" fill-rule=\"evenodd\" fill-opacity=\"1\"/>\n",
       "<defs>\n",
       "  <clipPath id=\"clip702\">\n",
       "    <rect x=\"140\" y=\"47\" width=\"2213\" height=\"1440\"/>\n",
       "  </clipPath>\n",
       "</defs>\n",
       "<polyline clip-path=\"url(#clip702)\" style=\"stroke:#000000; stroke-linecap:round; stroke-linejoin:round; stroke-width:2; stroke-opacity:0.1; fill:none\" points=\"\n",
       "  411.986,1486.45 411.986,47.2441 \n",
       "  \"/>\n",
       "<polyline clip-path=\"url(#clip702)\" style=\"stroke:#000000; stroke-linecap:round; stroke-linejoin:round; stroke-width:2; stroke-opacity:0.1; fill:none\" points=\"\n",
       "  829.356,1486.45 829.356,47.2441 \n",
       "  \"/>\n",
       "<polyline clip-path=\"url(#clip702)\" style=\"stroke:#000000; stroke-linecap:round; stroke-linejoin:round; stroke-width:2; stroke-opacity:0.1; fill:none\" points=\"\n",
       "  1246.73,1486.45 1246.73,47.2441 \n",
       "  \"/>\n",
       "<polyline clip-path=\"url(#clip702)\" style=\"stroke:#000000; stroke-linecap:round; stroke-linejoin:round; stroke-width:2; stroke-opacity:0.1; fill:none\" points=\"\n",
       "  1664.1,1486.45 1664.1,47.2441 \n",
       "  \"/>\n",
       "<polyline clip-path=\"url(#clip702)\" style=\"stroke:#000000; stroke-linecap:round; stroke-linejoin:round; stroke-width:2; stroke-opacity:0.1; fill:none\" points=\"\n",
       "  2081.47,1486.45 2081.47,47.2441 \n",
       "  \"/>\n",
       "<polyline clip-path=\"url(#clip700)\" style=\"stroke:#000000; stroke-linecap:round; stroke-linejoin:round; stroke-width:4; stroke-opacity:1; fill:none\" points=\"\n",
       "  140.696,1486.45 2352.76,1486.45 \n",
       "  \"/>\n",
       "<polyline clip-path=\"url(#clip700)\" style=\"stroke:#000000; stroke-linecap:round; stroke-linejoin:round; stroke-width:4; stroke-opacity:1; fill:none\" points=\"\n",
       "  411.986,1486.45 411.986,1467.55 \n",
       "  \"/>\n",
       "<polyline clip-path=\"url(#clip700)\" style=\"stroke:#000000; stroke-linecap:round; stroke-linejoin:round; stroke-width:4; stroke-opacity:1; fill:none\" points=\"\n",
       "  829.356,1486.45 829.356,1467.55 \n",
       "  \"/>\n",
       "<polyline clip-path=\"url(#clip700)\" style=\"stroke:#000000; stroke-linecap:round; stroke-linejoin:round; stroke-width:4; stroke-opacity:1; fill:none\" points=\"\n",
       "  1246.73,1486.45 1246.73,1467.55 \n",
       "  \"/>\n",
       "<polyline clip-path=\"url(#clip700)\" style=\"stroke:#000000; stroke-linecap:round; stroke-linejoin:round; stroke-width:4; stroke-opacity:1; fill:none\" points=\"\n",
       "  1664.1,1486.45 1664.1,1467.55 \n",
       "  \"/>\n",
       "<polyline clip-path=\"url(#clip700)\" style=\"stroke:#000000; stroke-linecap:round; stroke-linejoin:round; stroke-width:4; stroke-opacity:1; fill:none\" points=\"\n",
       "  2081.47,1486.45 2081.47,1467.55 \n",
       "  \"/>\n",
       "<path clip-path=\"url(#clip700)\" d=\"M406.639 1544.91 L422.958 1544.91 L422.958 1548.85 L401.014 1548.85 L401.014 1544.91 Q403.676 1542.16 408.259 1537.53 Q412.866 1532.88 414.046 1531.53 Q416.291 1529.01 417.171 1527.27 Q418.074 1525.51 418.074 1523.82 Q418.074 1521.07 416.129 1519.33 Q414.208 1517.6 411.106 1517.6 Q408.907 1517.6 406.454 1518.36 Q404.023 1519.13 401.245 1520.68 L401.245 1515.95 Q404.069 1514.82 406.523 1514.24 Q408.977 1513.66 411.014 1513.66 Q416.384 1513.66 419.579 1516.35 Q422.773 1519.03 422.773 1523.52 Q422.773 1525.65 421.963 1527.57 Q421.176 1529.47 419.069 1532.07 Q418.491 1532.74 415.389 1535.95 Q412.287 1539.15 406.639 1544.91 Z\" fill=\"#000000\" fill-rule=\"evenodd\" fill-opacity=\"1\" /><path clip-path=\"url(#clip700)\" d=\"M832.365 1518.36 L820.56 1536.81 L832.365 1536.81 L832.365 1518.36 M831.138 1514.29 L837.018 1514.29 L837.018 1536.81 L841.948 1536.81 L841.948 1540.7 L837.018 1540.7 L837.018 1548.85 L832.365 1548.85 L832.365 1540.7 L816.763 1540.7 L816.763 1536.19 L831.138 1514.29 Z\" fill=\"#000000\" fill-rule=\"evenodd\" fill-opacity=\"1\" /><path clip-path=\"url(#clip700)\" d=\"M1247.13 1529.7 Q1243.98 1529.7 1242.13 1531.86 Q1240.3 1534.01 1240.3 1537.76 Q1240.3 1541.49 1242.13 1543.66 Q1243.98 1545.82 1247.13 1545.82 Q1250.28 1545.82 1252.11 1543.66 Q1253.96 1541.49 1253.96 1537.76 Q1253.96 1534.01 1252.11 1531.86 Q1250.28 1529.7 1247.13 1529.7 M1256.41 1515.05 L1256.41 1519.31 Q1254.65 1518.48 1252.85 1518.04 Q1251.07 1517.6 1249.31 1517.6 Q1244.68 1517.6 1242.22 1520.72 Q1239.79 1523.85 1239.45 1530.17 Q1240.81 1528.15 1242.87 1527.09 Q1244.93 1526 1247.41 1526 Q1252.62 1526 1255.63 1529.17 Q1258.66 1532.32 1258.66 1537.76 Q1258.66 1543.08 1255.51 1546.3 Q1252.36 1549.52 1247.13 1549.52 Q1241.14 1549.52 1237.96 1544.94 Q1234.79 1540.33 1234.79 1531.6 Q1234.79 1523.41 1238.68 1518.55 Q1242.57 1513.66 1249.12 1513.66 Q1250.88 1513.66 1252.66 1514.01 Q1254.47 1514.36 1256.41 1515.05 Z\" fill=\"#000000\" fill-rule=\"evenodd\" fill-opacity=\"1\" /><path clip-path=\"url(#clip700)\" d=\"M1664.1 1532.44 Q1660.76 1532.44 1658.84 1534.22 Q1656.94 1536 1656.94 1539.13 Q1656.94 1542.25 1658.84 1544.03 Q1660.76 1545.82 1664.1 1545.82 Q1667.43 1545.82 1669.35 1544.03 Q1671.27 1542.23 1671.27 1539.13 Q1671.27 1536 1669.35 1534.22 Q1667.45 1532.44 1664.1 1532.44 M1659.42 1530.45 Q1656.41 1529.7 1654.72 1527.64 Q1653.05 1525.58 1653.05 1522.62 Q1653.05 1518.48 1655.99 1516.07 Q1658.96 1513.66 1664.1 1513.66 Q1669.26 1513.66 1672.2 1516.07 Q1675.14 1518.48 1675.14 1522.62 Q1675.14 1525.58 1673.45 1527.64 Q1671.78 1529.7 1668.79 1530.45 Q1672.17 1531.23 1674.05 1533.52 Q1675.95 1535.82 1675.95 1539.13 Q1675.95 1544.15 1672.87 1546.83 Q1669.81 1549.52 1664.1 1549.52 Q1658.38 1549.52 1655.3 1546.83 Q1652.24 1544.15 1652.24 1539.13 Q1652.24 1535.82 1654.14 1533.52 Q1656.04 1531.23 1659.42 1530.45 M1657.71 1523.06 Q1657.71 1525.75 1659.37 1527.25 Q1661.06 1528.76 1664.1 1528.76 Q1667.1 1528.76 1668.79 1527.25 Q1670.51 1525.75 1670.51 1523.06 Q1670.51 1520.38 1668.79 1518.87 Q1667.1 1517.37 1664.1 1517.37 Q1661.06 1517.37 1659.37 1518.87 Q1657.71 1520.38 1657.71 1523.06 Z\" fill=\"#000000\" fill-rule=\"evenodd\" fill-opacity=\"1\" /><path clip-path=\"url(#clip700)\" d=\"M2056.15 1544.91 L2063.79 1544.91 L2063.79 1518.55 L2055.48 1520.21 L2055.48 1515.95 L2063.75 1514.29 L2068.42 1514.29 L2068.42 1544.91 L2076.06 1544.91 L2076.06 1548.85 L2056.15 1548.85 L2056.15 1544.91 Z\" fill=\"#000000\" fill-rule=\"evenodd\" fill-opacity=\"1\" /><path clip-path=\"url(#clip700)\" d=\"M2095.5 1517.37 Q2091.89 1517.37 2090.06 1520.93 Q2088.26 1524.47 2088.26 1531.6 Q2088.26 1538.71 2090.06 1542.27 Q2091.89 1545.82 2095.5 1545.82 Q2099.14 1545.82 2100.94 1542.27 Q2102.77 1538.71 2102.77 1531.6 Q2102.77 1524.47 2100.94 1520.93 Q2099.14 1517.37 2095.5 1517.37 M2095.5 1513.66 Q2101.31 1513.66 2104.37 1518.27 Q2107.45 1522.85 2107.45 1531.6 Q2107.45 1540.33 2104.37 1544.94 Q2101.31 1549.52 2095.5 1549.52 Q2089.69 1549.52 2086.62 1544.94 Q2083.56 1540.33 2083.56 1531.6 Q2083.56 1522.85 2086.62 1518.27 Q2089.69 1513.66 2095.5 1513.66 Z\" fill=\"#000000\" fill-rule=\"evenodd\" fill-opacity=\"1\" /><polyline clip-path=\"url(#clip702)\" style=\"stroke:#000000; stroke-linecap:round; stroke-linejoin:round; stroke-width:2; stroke-opacity:0.1; fill:none\" points=\"\n",
       "  140.696,1304.16 2352.76,1304.16 \n",
       "  \"/>\n",
       "<polyline clip-path=\"url(#clip702)\" style=\"stroke:#000000; stroke-linecap:round; stroke-linejoin:round; stroke-width:2; stroke-opacity:0.1; fill:none\" points=\"\n",
       "  140.696,1088.37 2352.76,1088.37 \n",
       "  \"/>\n",
       "<polyline clip-path=\"url(#clip702)\" style=\"stroke:#000000; stroke-linecap:round; stroke-linejoin:round; stroke-width:2; stroke-opacity:0.1; fill:none\" points=\"\n",
       "  140.696,872.582 2352.76,872.582 \n",
       "  \"/>\n",
       "<polyline clip-path=\"url(#clip702)\" style=\"stroke:#000000; stroke-linecap:round; stroke-linejoin:round; stroke-width:2; stroke-opacity:0.1; fill:none\" points=\"\n",
       "  140.696,656.794 2352.76,656.794 \n",
       "  \"/>\n",
       "<polyline clip-path=\"url(#clip702)\" style=\"stroke:#000000; stroke-linecap:round; stroke-linejoin:round; stroke-width:2; stroke-opacity:0.1; fill:none\" points=\"\n",
       "  140.696,441.006 2352.76,441.006 \n",
       "  \"/>\n",
       "<polyline clip-path=\"url(#clip702)\" style=\"stroke:#000000; stroke-linecap:round; stroke-linejoin:round; stroke-width:2; stroke-opacity:0.1; fill:none\" points=\"\n",
       "  140.696,225.218 2352.76,225.218 \n",
       "  \"/>\n",
       "<polyline clip-path=\"url(#clip700)\" style=\"stroke:#000000; stroke-linecap:round; stroke-linejoin:round; stroke-width:4; stroke-opacity:1; fill:none\" points=\"\n",
       "  140.696,1486.45 140.696,47.2441 \n",
       "  \"/>\n",
       "<polyline clip-path=\"url(#clip700)\" style=\"stroke:#000000; stroke-linecap:round; stroke-linejoin:round; stroke-width:4; stroke-opacity:1; fill:none\" points=\"\n",
       "  140.696,1304.16 159.593,1304.16 \n",
       "  \"/>\n",
       "<polyline clip-path=\"url(#clip700)\" style=\"stroke:#000000; stroke-linecap:round; stroke-linejoin:round; stroke-width:4; stroke-opacity:1; fill:none\" points=\"\n",
       "  140.696,1088.37 159.593,1088.37 \n",
       "  \"/>\n",
       "<polyline clip-path=\"url(#clip700)\" style=\"stroke:#000000; stroke-linecap:round; stroke-linejoin:round; stroke-width:4; stroke-opacity:1; fill:none\" points=\"\n",
       "  140.696,872.582 159.593,872.582 \n",
       "  \"/>\n",
       "<polyline clip-path=\"url(#clip700)\" style=\"stroke:#000000; stroke-linecap:round; stroke-linejoin:round; stroke-width:4; stroke-opacity:1; fill:none\" points=\"\n",
       "  140.696,656.794 159.593,656.794 \n",
       "  \"/>\n",
       "<polyline clip-path=\"url(#clip700)\" style=\"stroke:#000000; stroke-linecap:round; stroke-linejoin:round; stroke-width:4; stroke-opacity:1; fill:none\" points=\"\n",
       "  140.696,441.006 159.593,441.006 \n",
       "  \"/>\n",
       "<polyline clip-path=\"url(#clip700)\" style=\"stroke:#000000; stroke-linecap:round; stroke-linejoin:round; stroke-width:4; stroke-opacity:1; fill:none\" points=\"\n",
       "  140.696,225.218 159.593,225.218 \n",
       "  \"/>\n",
       "<path clip-path=\"url(#clip700)\" d=\"M92.7512 1289.96 Q89.1401 1289.96 87.3114 1293.52 Q85.5058 1297.06 85.5058 1304.19 Q85.5058 1311.3 87.3114 1314.86 Q89.1401 1318.41 92.7512 1318.41 Q96.3854 1318.41 98.1909 1314.86 Q100.02 1311.3 100.02 1304.19 Q100.02 1297.06 98.1909 1293.52 Q96.3854 1289.96 92.7512 1289.96 M92.7512 1286.25 Q98.5613 1286.25 101.617 1290.86 Q104.696 1295.44 104.696 1304.19 Q104.696 1312.92 101.617 1317.53 Q98.5613 1322.11 92.7512 1322.11 Q86.941 1322.11 83.8623 1317.53 Q80.8068 1312.92 80.8068 1304.19 Q80.8068 1295.44 83.8623 1290.86 Q86.941 1286.25 92.7512 1286.25 Z\" fill=\"#000000\" fill-rule=\"evenodd\" fill-opacity=\"1\" /><path clip-path=\"url(#clip700)\" d=\"M83.7929 1071.09 L102.149 1071.09 L102.149 1075.03 L88.0753 1075.03 L88.0753 1083.5 Q89.0938 1083.15 90.1123 1082.99 Q91.1308 1082.8 92.1493 1082.8 Q97.9363 1082.8 101.316 1085.97 Q104.696 1089.15 104.696 1094.56 Q104.696 1100.14 101.223 1103.24 Q97.7511 1106.32 91.4317 1106.32 Q89.2558 1106.32 86.9873 1105.95 Q84.7419 1105.58 82.3346 1104.84 L82.3346 1100.14 Q84.4179 1101.28 86.6401 1101.83 Q88.8623 1102.39 91.3391 1102.39 Q95.3437 1102.39 97.6817 1100.28 Q100.02 1098.17 100.02 1094.56 Q100.02 1090.95 97.6817 1088.84 Q95.3437 1086.74 91.3391 1086.74 Q89.4641 1086.74 87.5892 1087.16 Q85.7373 1087.57 83.7929 1088.45 L83.7929 1071.09 Z\" fill=\"#000000\" fill-rule=\"evenodd\" fill-opacity=\"1\" /><path clip-path=\"url(#clip700)\" d=\"M53.3995 885.927 L61.0384 885.927 L61.0384 859.561 L52.7282 861.228 L52.7282 856.969 L60.9921 855.302 L65.668 855.302 L65.668 885.927 L73.3068 885.927 L73.3068 889.862 L53.3995 889.862 L53.3995 885.927 Z\" fill=\"#000000\" fill-rule=\"evenodd\" fill-opacity=\"1\" /><path clip-path=\"url(#clip700)\" d=\"M92.7512 858.381 Q89.1401 858.381 87.3114 861.946 Q85.5058 865.487 85.5058 872.617 Q85.5058 879.723 87.3114 883.288 Q89.1401 886.83 92.7512 886.83 Q96.3854 886.83 98.1909 883.288 Q100.02 879.723 100.02 872.617 Q100.02 865.487 98.1909 861.946 Q96.3854 858.381 92.7512 858.381 M92.7512 854.677 Q98.5613 854.677 101.617 859.284 Q104.696 863.867 104.696 872.617 Q104.696 881.344 101.617 885.95 Q98.5613 890.533 92.7512 890.533 Q86.941 890.533 83.8623 885.95 Q80.8068 881.344 80.8068 872.617 Q80.8068 863.867 83.8623 859.284 Q86.941 854.677 92.7512 854.677 Z\" fill=\"#000000\" fill-rule=\"evenodd\" fill-opacity=\"1\" /><path clip-path=\"url(#clip700)\" d=\"M54.3949 670.139 L62.0337 670.139 L62.0337 643.773 L53.7236 645.44 L53.7236 641.181 L61.9874 639.514 L66.6633 639.514 L66.6633 670.139 L74.3022 670.139 L74.3022 674.074 L54.3949 674.074 L54.3949 670.139 Z\" fill=\"#000000\" fill-rule=\"evenodd\" fill-opacity=\"1\" /><path clip-path=\"url(#clip700)\" d=\"M83.7929 639.514 L102.149 639.514 L102.149 643.449 L88.0753 643.449 L88.0753 651.921 Q89.0938 651.574 90.1123 651.412 Q91.1308 651.227 92.1493 651.227 Q97.9363 651.227 101.316 654.398 Q104.696 657.569 104.696 662.986 Q104.696 668.565 101.223 671.667 Q97.7511 674.745 91.4317 674.745 Q89.2558 674.745 86.9873 674.375 Q84.7419 674.005 82.3346 673.264 L82.3346 668.565 Q84.4179 669.699 86.6401 670.255 Q88.8623 670.81 91.3391 670.81 Q95.3437 670.81 97.6817 668.704 Q100.02 666.597 100.02 662.986 Q100.02 659.375 97.6817 657.269 Q95.3437 655.162 91.3391 655.162 Q89.4641 655.162 87.5892 655.579 Q85.7373 655.995 83.7929 656.875 L83.7929 639.514 Z\" fill=\"#000000\" fill-rule=\"evenodd\" fill-opacity=\"1\" /><path clip-path=\"url(#clip700)\" d=\"M56.6171 454.351 L72.9365 454.351 L72.9365 458.286 L50.9921 458.286 L50.9921 454.351 Q53.6541 451.596 58.2375 446.966 Q62.8439 442.314 64.0245 440.971 Q66.2698 438.448 67.1494 436.712 Q68.0522 434.953 68.0522 433.263 Q68.0522 430.508 66.1078 428.772 Q64.1865 427.036 61.0847 427.036 Q58.8856 427.036 56.4319 427.8 Q54.0014 428.564 51.2236 430.115 L51.2236 425.392 Q54.0477 424.258 56.5014 423.679 Q58.955 423.101 60.9921 423.101 Q66.3624 423.101 69.5568 425.786 Q72.7513 428.471 72.7513 432.962 Q72.7513 435.091 71.9411 437.013 Q71.1541 438.911 69.0476 441.503 Q68.4689 442.175 65.367 445.392 Q62.2652 448.587 56.6171 454.351 Z\" fill=\"#000000\" fill-rule=\"evenodd\" fill-opacity=\"1\" /><path clip-path=\"url(#clip700)\" d=\"M92.7512 426.804 Q89.1401 426.804 87.3114 430.369 Q85.5058 433.911 85.5058 441.041 Q85.5058 448.147 87.3114 451.712 Q89.1401 455.253 92.7512 455.253 Q96.3854 455.253 98.1909 451.712 Q100.02 448.147 100.02 441.041 Q100.02 433.911 98.1909 430.369 Q96.3854 426.804 92.7512 426.804 M92.7512 423.101 Q98.5613 423.101 101.617 427.707 Q104.696 432.291 104.696 441.041 Q104.696 449.767 101.617 454.374 Q98.5613 458.957 92.7512 458.957 Q86.941 458.957 83.8623 454.374 Q80.8068 449.767 80.8068 441.041 Q80.8068 432.291 83.8623 427.707 Q86.941 423.101 92.7512 423.101 Z\" fill=\"#000000\" fill-rule=\"evenodd\" fill-opacity=\"1\" /><path clip-path=\"url(#clip700)\" d=\"M57.6125 238.562 L73.9318 238.562 L73.9318 242.498 L51.9875 242.498 L51.9875 238.562 Q54.6495 235.808 59.2328 231.178 Q63.8393 226.525 65.0198 225.183 Q67.2652 222.66 68.1448 220.924 Q69.0476 219.164 69.0476 217.475 Q69.0476 214.72 67.1032 212.984 Q65.1819 211.248 62.08 211.248 Q59.881 211.248 57.4273 212.012 Q54.9967 212.776 52.219 214.326 L52.219 209.604 Q55.043 208.47 57.4967 207.891 Q59.9504 207.313 61.9874 207.313 Q67.3578 207.313 70.5522 209.998 Q73.7466 212.683 73.7466 217.174 Q73.7466 219.303 72.9365 221.225 Q72.1494 223.123 70.0429 225.715 Q69.4642 226.387 66.3624 229.604 Q63.2606 232.799 57.6125 238.562 Z\" fill=\"#000000\" fill-rule=\"evenodd\" fill-opacity=\"1\" /><path clip-path=\"url(#clip700)\" d=\"M83.7929 207.938 L102.149 207.938 L102.149 211.873 L88.0753 211.873 L88.0753 220.345 Q89.0938 219.998 90.1123 219.836 Q91.1308 219.65 92.1493 219.65 Q97.9363 219.65 101.316 222.822 Q104.696 225.993 104.696 231.41 Q104.696 236.988 101.223 240.09 Q97.7511 243.169 91.4317 243.169 Q89.2558 243.169 86.9873 242.799 Q84.7419 242.428 82.3346 241.687 L82.3346 236.988 Q84.4179 238.123 86.6401 238.678 Q88.8623 239.234 91.3391 239.234 Q95.3437 239.234 97.6817 237.127 Q100.02 235.021 100.02 231.41 Q100.02 227.799 97.6817 225.692 Q95.3437 223.586 91.3391 223.586 Q89.4641 223.586 87.5892 224.002 Q85.7373 224.419 83.7929 225.299 L83.7929 207.938 Z\" fill=\"#000000\" fill-rule=\"evenodd\" fill-opacity=\"1\" /><polyline clip-path=\"url(#clip702)\" style=\"stroke:#009af9; stroke-linecap:round; stroke-linejoin:round; stroke-width:4; stroke-opacity:1; fill:none\" points=\"\n",
       "  203.301,743.109 411.986,1127.64 620.671,374.327 829.356,193.712 1038.04,319.301 1246.73,1445.72 1455.41,343.038 1664.1,87.9763 1872.78,629.173 2081.47,554.942 \n",
       "  2290.15,904.087 \n",
       "  \"/>\n",
       "<path clip-path=\"url(#clip700)\" d=\"\n",
       "M214.431 1438.47 L954.893 1438.47 L954.893 1334.79 L214.431 1334.79  Z\n",
       "  \" fill=\"#ffffff\" fill-rule=\"evenodd\" fill-opacity=\"1\"/>\n",
       "<polyline clip-path=\"url(#clip700)\" style=\"stroke:#000000; stroke-linecap:round; stroke-linejoin:round; stroke-width:4; stroke-opacity:1; fill:none\" points=\"\n",
       "  214.431,1438.47 954.893,1438.47 954.893,1334.79 214.431,1334.79 214.431,1438.47 \n",
       "  \"/>\n",
       "<polyline clip-path=\"url(#clip700)\" style=\"stroke:#009af9; stroke-linecap:round; stroke-linejoin:round; stroke-width:4; stroke-opacity:1; fill:none\" points=\"\n",
       "  239.009,1386.63 386.48,1386.63 \n",
       "  \"/>\n",
       "<path clip-path=\"url(#clip700)\" d=\"M415.734 1373.2 L415.734 1400.07 L421.382 1400.07 Q428.535 1400.07 431.845 1396.83 Q435.179 1393.59 435.179 1386.6 Q435.179 1379.66 431.845 1376.44 Q428.535 1373.2 421.382 1373.2 L415.734 1373.2 M411.058 1369.35 L420.665 1369.35 Q430.711 1369.35 435.41 1373.54 Q440.109 1377.71 440.109 1386.6 Q440.109 1395.53 435.387 1399.72 Q430.665 1403.91 420.665 1403.91 L411.058 1403.91 L411.058 1369.35 Z\" fill=\"#000000\" fill-rule=\"evenodd\" fill-opacity=\"1\" /><path clip-path=\"url(#clip700)\" d=\"M469.554 1389.89 L469.554 1391.97 L449.97 1391.97 Q450.248 1396.37 452.609 1398.68 Q454.993 1400.97 459.23 1400.97 Q461.683 1400.97 463.975 1400.37 Q466.29 1399.77 468.558 1398.57 L468.558 1402.59 Q466.267 1403.57 463.859 1404.08 Q461.452 1404.59 458.975 1404.59 Q452.771 1404.59 449.137 1400.97 Q445.526 1397.36 445.526 1391.21 Q445.526 1384.84 448.952 1381.11 Q452.401 1377.36 458.234 1377.36 Q463.466 1377.36 466.498 1380.74 Q469.554 1384.1 469.554 1389.89 M465.294 1388.64 Q465.248 1385.14 463.327 1383.06 Q461.429 1380.97 458.28 1380.97 Q454.716 1380.97 452.563 1382.99 Q450.433 1385 450.109 1388.66 L465.294 1388.64 Z\" fill=\"#000000\" fill-rule=\"evenodd\" fill-opacity=\"1\" /><path clip-path=\"url(#clip700)\" d=\"M495.202 1378.98 L495.202 1382.97 Q493.396 1381.97 491.567 1381.48 Q489.762 1380.97 487.91 1380.97 Q483.766 1380.97 481.475 1383.61 Q479.183 1386.23 479.183 1390.97 Q479.183 1395.72 481.475 1398.36 Q483.766 1400.97 487.91 1400.97 Q489.762 1400.97 491.567 1400.49 Q493.396 1399.98 495.202 1398.98 L495.202 1402.92 Q493.419 1403.75 491.498 1404.17 Q489.6 1404.59 487.447 1404.59 Q481.591 1404.59 478.141 1400.91 Q474.692 1397.22 474.692 1390.97 Q474.692 1384.63 478.165 1381 Q481.66 1377.36 487.725 1377.36 Q489.692 1377.36 491.567 1377.78 Q493.442 1378.17 495.202 1378.98 Z\" fill=\"#000000\" fill-rule=\"evenodd\" fill-opacity=\"1\" /><path clip-path=\"url(#clip700)\" d=\"M513.072 1369.35 L542.308 1369.35 L542.308 1373.29 L530.039 1373.29 L530.039 1403.91 L525.34 1403.91 L525.34 1373.29 L513.072 1373.29 L513.072 1369.35 Z\" fill=\"#000000\" fill-rule=\"evenodd\" fill-opacity=\"1\" /><path clip-path=\"url(#clip700)\" d=\"M560.757 1389.89 L560.757 1391.97 L541.174 1391.97 Q541.451 1396.37 543.812 1398.68 Q546.197 1400.97 550.433 1400.97 Q552.886 1400.97 555.178 1400.37 Q557.493 1399.77 559.761 1398.57 L559.761 1402.59 Q557.47 1403.57 555.062 1404.08 Q552.655 1404.59 550.178 1404.59 Q543.974 1404.59 540.34 1400.97 Q536.729 1397.36 536.729 1391.21 Q536.729 1384.84 540.155 1381.11 Q543.604 1377.36 549.437 1377.36 Q554.669 1377.36 557.701 1380.74 Q560.757 1384.1 560.757 1389.89 M556.498 1388.64 Q556.451 1385.14 554.53 1383.06 Q552.632 1380.97 549.484 1380.97 Q545.919 1380.97 543.766 1382.99 Q541.636 1385 541.312 1388.66 L556.498 1388.64 Z\" fill=\"#000000\" fill-rule=\"evenodd\" fill-opacity=\"1\" /><path clip-path=\"url(#clip700)\" d=\"M587.933 1382.97 Q589.53 1380.1 591.752 1378.73 Q593.974 1377.36 596.983 1377.36 Q601.034 1377.36 603.233 1380.21 Q605.432 1383.03 605.432 1388.27 L605.432 1403.91 L601.15 1403.91 L601.15 1388.41 Q601.15 1384.68 599.831 1382.87 Q598.511 1381.07 595.803 1381.07 Q592.493 1381.07 590.571 1383.27 Q588.65 1385.47 588.65 1389.26 L588.65 1403.91 L584.368 1403.91 L584.368 1388.41 Q584.368 1384.66 583.048 1382.87 Q581.729 1381.07 578.974 1381.07 Q575.71 1381.07 573.789 1383.29 Q571.868 1385.49 571.868 1389.26 L571.868 1403.91 L567.585 1403.91 L567.585 1377.99 L571.868 1377.99 L571.868 1382.02 Q573.326 1379.63 575.363 1378.5 Q577.4 1377.36 580.201 1377.36 Q583.025 1377.36 584.993 1378.8 Q586.983 1380.23 587.933 1382.97 Z\" fill=\"#000000\" fill-rule=\"evenodd\" fill-opacity=\"1\" /><path clip-path=\"url(#clip700)\" d=\"M618.048 1400.03 L618.048 1413.78 L613.766 1413.78 L613.766 1377.99 L618.048 1377.99 L618.048 1381.92 Q619.391 1379.61 621.428 1378.5 Q623.488 1377.36 626.335 1377.36 Q631.057 1377.36 633.997 1381.11 Q636.96 1384.86 636.96 1390.97 Q636.96 1397.09 633.997 1400.84 Q631.057 1404.59 626.335 1404.59 Q623.488 1404.59 621.428 1403.47 Q619.391 1402.34 618.048 1400.03 M632.539 1390.97 Q632.539 1386.28 630.594 1383.61 Q628.673 1380.93 625.293 1380.93 Q621.914 1380.93 619.969 1383.61 Q618.048 1386.28 618.048 1390.97 Q618.048 1395.67 619.969 1398.36 Q621.914 1401.02 625.293 1401.02 Q628.673 1401.02 630.594 1398.36 Q632.539 1395.67 632.539 1390.97 Z\" fill=\"#000000\" fill-rule=\"evenodd\" fill-opacity=\"1\" /><path clip-path=\"url(#clip700)\" d=\"M666.196 1389.89 L666.196 1391.97 L646.613 1391.97 Q646.891 1396.37 649.252 1398.68 Q651.636 1400.97 655.872 1400.97 Q658.326 1400.97 660.617 1400.37 Q662.932 1399.77 665.201 1398.57 L665.201 1402.59 Q662.909 1403.57 660.502 1404.08 Q658.094 1404.59 655.617 1404.59 Q649.414 1404.59 645.779 1400.97 Q642.168 1397.36 642.168 1391.21 Q642.168 1384.84 645.594 1381.11 Q649.043 1377.36 654.877 1377.36 Q660.108 1377.36 663.14 1380.74 Q666.196 1384.1 666.196 1389.89 M661.937 1388.64 Q661.89 1385.14 659.969 1383.06 Q658.071 1380.97 654.923 1380.97 Q651.358 1380.97 649.205 1382.99 Q647.076 1385 646.752 1388.66 L661.937 1388.64 Z\" fill=\"#000000\" fill-rule=\"evenodd\" fill-opacity=\"1\" /><path clip-path=\"url(#clip700)\" d=\"M688.21 1381.97 Q687.492 1381.55 686.636 1381.37 Q685.802 1381.16 684.784 1381.16 Q681.173 1381.16 679.228 1383.52 Q677.307 1385.86 677.307 1390.26 L677.307 1403.91 L673.025 1403.91 L673.025 1377.99 L677.307 1377.99 L677.307 1382.02 Q678.65 1379.66 680.802 1378.52 Q682.955 1377.36 686.034 1377.36 Q686.474 1377.36 687.006 1377.43 Q687.538 1377.48 688.187 1377.6 L688.21 1381.97 Z\" fill=\"#000000\" fill-rule=\"evenodd\" fill-opacity=\"1\" /><path clip-path=\"url(#clip700)\" d=\"M704.46 1390.88 Q699.298 1390.88 697.307 1392.06 Q695.316 1393.24 695.316 1396.09 Q695.316 1398.36 696.798 1399.7 Q698.302 1401.02 700.872 1401.02 Q704.413 1401.02 706.543 1398.52 Q708.696 1396 708.696 1391.83 L708.696 1390.88 L704.46 1390.88 M712.955 1389.12 L712.955 1403.91 L708.696 1403.91 L708.696 1399.98 Q707.237 1402.34 705.062 1403.47 Q702.886 1404.59 699.737 1404.59 Q695.756 1404.59 693.395 1402.36 Q691.057 1400.12 691.057 1396.37 Q691.057 1391.99 693.974 1389.77 Q696.913 1387.55 702.724 1387.55 L708.696 1387.55 L708.696 1387.13 Q708.696 1384.19 706.751 1382.6 Q704.83 1380.97 701.335 1380.97 Q699.112 1380.97 697.006 1381.51 Q694.9 1382.04 692.955 1383.1 L692.955 1379.17 Q695.293 1378.27 697.492 1377.83 Q699.691 1377.36 701.775 1377.36 Q707.399 1377.36 710.177 1380.28 Q712.955 1383.2 712.955 1389.12 Z\" fill=\"#000000\" fill-rule=\"evenodd\" fill-opacity=\"1\" /><path clip-path=\"url(#clip700)\" d=\"M725.941 1370.63 L725.941 1377.99 L734.714 1377.99 L734.714 1381.3 L725.941 1381.3 L725.941 1395.37 Q725.941 1398.54 726.798 1399.45 Q727.677 1400.35 730.339 1400.35 L734.714 1400.35 L734.714 1403.91 L730.339 1403.91 Q725.409 1403.91 723.534 1402.09 Q721.659 1400.23 721.659 1395.37 L721.659 1381.3 L718.534 1381.3 L718.534 1377.99 L721.659 1377.99 L721.659 1370.63 L725.941 1370.63 Z\" fill=\"#000000\" fill-rule=\"evenodd\" fill-opacity=\"1\" /><path clip-path=\"url(#clip700)\" d=\"M739.876 1393.68 L739.876 1377.99 L744.135 1377.99 L744.135 1393.52 Q744.135 1397.2 745.571 1399.05 Q747.006 1400.88 749.876 1400.88 Q753.325 1400.88 755.316 1398.68 Q757.33 1396.48 757.33 1392.69 L757.33 1377.99 L761.589 1377.99 L761.589 1403.91 L757.33 1403.91 L757.33 1399.93 Q755.779 1402.29 753.719 1403.45 Q751.682 1404.59 748.973 1404.59 Q744.506 1404.59 742.191 1401.81 Q739.876 1399.03 739.876 1393.68 M750.594 1377.36 L750.594 1377.36 Z\" fill=\"#000000\" fill-rule=\"evenodd\" fill-opacity=\"1\" /><path clip-path=\"url(#clip700)\" d=\"M785.385 1381.97 Q784.668 1381.55 783.811 1381.37 Q782.978 1381.16 781.959 1381.16 Q778.348 1381.16 776.404 1383.52 Q774.482 1385.86 774.482 1390.26 L774.482 1403.91 L770.2 1403.91 L770.2 1377.99 L774.482 1377.99 L774.482 1382.02 Q775.825 1379.66 777.978 1378.52 Q780.131 1377.36 783.209 1377.36 Q783.649 1377.36 784.181 1377.43 Q784.714 1377.48 785.362 1377.6 L785.385 1381.97 Z\" fill=\"#000000\" fill-rule=\"evenodd\" fill-opacity=\"1\" /><path clip-path=\"url(#clip700)\" d=\"M810.987 1389.89 L810.987 1391.97 L791.404 1391.97 Q791.681 1396.37 794.043 1398.68 Q796.427 1400.97 800.663 1400.97 Q803.117 1400.97 805.408 1400.37 Q807.723 1399.77 809.992 1398.57 L809.992 1402.59 Q807.7 1403.57 805.292 1404.08 Q802.885 1404.59 800.408 1404.59 Q794.205 1404.59 790.57 1400.97 Q786.959 1397.36 786.959 1391.21 Q786.959 1384.84 790.385 1381.11 Q793.834 1377.36 799.668 1377.36 Q804.899 1377.36 807.931 1380.74 Q810.987 1384.1 810.987 1389.89 M806.728 1388.64 Q806.681 1385.14 804.76 1383.06 Q802.862 1380.97 799.714 1380.97 Q796.149 1380.97 793.996 1382.99 Q791.867 1385 791.543 1388.66 L806.728 1388.64 Z\" fill=\"#000000\" fill-rule=\"evenodd\" fill-opacity=\"1\" /><path clip-path=\"url(#clip700)\" d=\"M853.232 1382.97 Q854.829 1380.1 857.051 1378.73 Q859.274 1377.36 862.283 1377.36 Q866.334 1377.36 868.533 1380.21 Q870.732 1383.03 870.732 1388.27 L870.732 1403.91 L866.45 1403.91 L866.45 1388.41 Q866.45 1384.68 865.13 1382.87 Q863.811 1381.07 861.102 1381.07 Q857.792 1381.07 855.871 1383.27 Q853.95 1385.47 853.95 1389.26 L853.95 1403.91 L849.667 1403.91 L849.667 1388.41 Q849.667 1384.66 848.348 1382.87 Q847.028 1381.07 844.274 1381.07 Q841.01 1381.07 839.089 1383.29 Q837.167 1385.49 837.167 1389.26 L837.167 1403.91 L832.885 1403.91 L832.885 1377.99 L837.167 1377.99 L837.167 1382.02 Q838.626 1379.63 840.663 1378.5 Q842.7 1377.36 845.501 1377.36 Q848.325 1377.36 850.292 1378.8 Q852.283 1380.23 853.232 1382.97 Z\" fill=\"#000000\" fill-rule=\"evenodd\" fill-opacity=\"1\" /><path clip-path=\"url(#clip700)\" d=\"M891.01 1390.88 Q885.848 1390.88 883.857 1392.06 Q881.866 1393.24 881.866 1396.09 Q881.866 1398.36 883.348 1399.7 Q884.852 1401.02 887.422 1401.02 Q890.963 1401.02 893.093 1398.52 Q895.246 1396 895.246 1391.83 L895.246 1390.88 L891.01 1390.88 M899.505 1389.12 L899.505 1403.91 L895.246 1403.91 L895.246 1399.98 Q893.787 1402.34 891.611 1403.47 Q889.436 1404.59 886.287 1404.59 Q882.306 1404.59 879.945 1402.36 Q877.607 1400.12 877.607 1396.37 Q877.607 1391.99 880.524 1389.77 Q883.463 1387.55 889.274 1387.55 L895.246 1387.55 L895.246 1387.13 Q895.246 1384.19 893.301 1382.6 Q891.38 1380.97 887.885 1380.97 Q885.662 1380.97 883.556 1381.51 Q881.449 1382.04 879.505 1383.1 L879.505 1379.17 Q881.843 1378.27 884.042 1377.83 Q886.241 1377.36 888.324 1377.36 Q893.949 1377.36 896.727 1380.28 Q899.505 1383.2 899.505 1389.12 Z\" fill=\"#000000\" fill-rule=\"evenodd\" fill-opacity=\"1\" /><path clip-path=\"url(#clip700)\" d=\"M929.829 1377.99 L920.454 1390.6 L930.315 1403.91 L925.292 1403.91 L917.746 1393.73 L910.199 1403.91 L905.176 1403.91 L915.246 1390.35 L906.033 1377.99 L911.056 1377.99 L917.931 1387.22 L924.806 1377.99 L929.829 1377.99 Z\" fill=\"#000000\" fill-rule=\"evenodd\" fill-opacity=\"1\" /></svg>\n"
      ]
     },
     "execution_count": 66,
     "metadata": {},
     "output_type": "execute_result"
    }
   ],
   "source": [
    "plot(1:11, Dectempmin, label=\"Dec Temperature max\", legend=:bottomleft)"
   ]
  },
  {
   "cell_type": "markdown",
   "id": "6987500a",
   "metadata": {},
   "source": [
    "# Now we do this for 2012-2022 Dec Average Data:"
   ]
  },
  {
   "cell_type": "code",
   "execution_count": 67,
   "id": "28df0947",
   "metadata": {},
   "outputs": [
    {
     "data": {
      "text/plain": [
       "11-element Vector{Any}:\n",
       " 19.68\n",
       " 12.59\n",
       " 26.64\n",
       " 30.27\n",
       " 29.27\n",
       "  5.05\n",
       " 28.68\n",
       " 33.64\n",
       " 23.59\n",
       " 25.36\n",
       " 17.68"
      ]
     },
     "execution_count": 67,
     "metadata": {},
     "output_type": "execute_result"
    }
   ],
   "source": [
    "Dectempaverage=C[2:12,4]"
   ]
  },
  {
   "cell_type": "code",
   "execution_count": 68,
   "id": "36c5b4ed",
   "metadata": {},
   "outputs": [
    {
     "data": {
      "image/svg+xml": [
       "<?xml version=\"1.0\" encoding=\"utf-8\"?>\n",
       "<svg xmlns=\"http://www.w3.org/2000/svg\" xmlns:xlink=\"http://www.w3.org/1999/xlink\" width=\"600\" height=\"400\" viewBox=\"0 0 2400 1600\">\n",
       "<defs>\n",
       "  <clipPath id=\"clip740\">\n",
       "    <rect x=\"0\" y=\"0\" width=\"2400\" height=\"1600\"/>\n",
       "  </clipPath>\n",
       "</defs>\n",
       "<path clip-path=\"url(#clip740)\" d=\"\n",
       "M0 1600 L2400 1600 L2400 0 L0 0  Z\n",
       "  \" fill=\"#ffffff\" fill-rule=\"evenodd\" fill-opacity=\"1\"/>\n",
       "<defs>\n",
       "  <clipPath id=\"clip741\">\n",
       "    <rect x=\"480\" y=\"0\" width=\"1681\" height=\"1600\"/>\n",
       "  </clipPath>\n",
       "</defs>\n",
       "<path clip-path=\"url(#clip740)\" d=\"\n",
       "M140.696 1486.45 L2352.76 1486.45 L2352.76 47.2441 L140.696 47.2441  Z\n",
       "  \" fill=\"#ffffff\" fill-rule=\"evenodd\" fill-opacity=\"1\"/>\n",
       "<defs>\n",
       "  <clipPath id=\"clip742\">\n",
       "    <rect x=\"140\" y=\"47\" width=\"2213\" height=\"1440\"/>\n",
       "  </clipPath>\n",
       "</defs>\n",
       "<polyline clip-path=\"url(#clip742)\" style=\"stroke:#000000; stroke-linecap:round; stroke-linejoin:round; stroke-width:2; stroke-opacity:0.1; fill:none\" points=\"\n",
       "  411.986,1486.45 411.986,47.2441 \n",
       "  \"/>\n",
       "<polyline clip-path=\"url(#clip742)\" style=\"stroke:#000000; stroke-linecap:round; stroke-linejoin:round; stroke-width:2; stroke-opacity:0.1; fill:none\" points=\"\n",
       "  829.356,1486.45 829.356,47.2441 \n",
       "  \"/>\n",
       "<polyline clip-path=\"url(#clip742)\" style=\"stroke:#000000; stroke-linecap:round; stroke-linejoin:round; stroke-width:2; stroke-opacity:0.1; fill:none\" points=\"\n",
       "  1246.73,1486.45 1246.73,47.2441 \n",
       "  \"/>\n",
       "<polyline clip-path=\"url(#clip742)\" style=\"stroke:#000000; stroke-linecap:round; stroke-linejoin:round; stroke-width:2; stroke-opacity:0.1; fill:none\" points=\"\n",
       "  1664.1,1486.45 1664.1,47.2441 \n",
       "  \"/>\n",
       "<polyline clip-path=\"url(#clip742)\" style=\"stroke:#000000; stroke-linecap:round; stroke-linejoin:round; stroke-width:2; stroke-opacity:0.1; fill:none\" points=\"\n",
       "  2081.47,1486.45 2081.47,47.2441 \n",
       "  \"/>\n",
       "<polyline clip-path=\"url(#clip740)\" style=\"stroke:#000000; stroke-linecap:round; stroke-linejoin:round; stroke-width:4; stroke-opacity:1; fill:none\" points=\"\n",
       "  140.696,1486.45 2352.76,1486.45 \n",
       "  \"/>\n",
       "<polyline clip-path=\"url(#clip740)\" style=\"stroke:#000000; stroke-linecap:round; stroke-linejoin:round; stroke-width:4; stroke-opacity:1; fill:none\" points=\"\n",
       "  411.986,1486.45 411.986,1467.55 \n",
       "  \"/>\n",
       "<polyline clip-path=\"url(#clip740)\" style=\"stroke:#000000; stroke-linecap:round; stroke-linejoin:round; stroke-width:4; stroke-opacity:1; fill:none\" points=\"\n",
       "  829.356,1486.45 829.356,1467.55 \n",
       "  \"/>\n",
       "<polyline clip-path=\"url(#clip740)\" style=\"stroke:#000000; stroke-linecap:round; stroke-linejoin:round; stroke-width:4; stroke-opacity:1; fill:none\" points=\"\n",
       "  1246.73,1486.45 1246.73,1467.55 \n",
       "  \"/>\n",
       "<polyline clip-path=\"url(#clip740)\" style=\"stroke:#000000; stroke-linecap:round; stroke-linejoin:round; stroke-width:4; stroke-opacity:1; fill:none\" points=\"\n",
       "  1664.1,1486.45 1664.1,1467.55 \n",
       "  \"/>\n",
       "<polyline clip-path=\"url(#clip740)\" style=\"stroke:#000000; stroke-linecap:round; stroke-linejoin:round; stroke-width:4; stroke-opacity:1; fill:none\" points=\"\n",
       "  2081.47,1486.45 2081.47,1467.55 \n",
       "  \"/>\n",
       "<path clip-path=\"url(#clip740)\" d=\"M406.639 1544.91 L422.958 1544.91 L422.958 1548.85 L401.014 1548.85 L401.014 1544.91 Q403.676 1542.16 408.259 1537.53 Q412.866 1532.88 414.046 1531.53 Q416.291 1529.01 417.171 1527.27 Q418.074 1525.51 418.074 1523.82 Q418.074 1521.07 416.129 1519.33 Q414.208 1517.6 411.106 1517.6 Q408.907 1517.6 406.454 1518.36 Q404.023 1519.13 401.245 1520.68 L401.245 1515.95 Q404.069 1514.82 406.523 1514.24 Q408.977 1513.66 411.014 1513.66 Q416.384 1513.66 419.579 1516.35 Q422.773 1519.03 422.773 1523.52 Q422.773 1525.65 421.963 1527.57 Q421.176 1529.47 419.069 1532.07 Q418.491 1532.74 415.389 1535.95 Q412.287 1539.15 406.639 1544.91 Z\" fill=\"#000000\" fill-rule=\"evenodd\" fill-opacity=\"1\" /><path clip-path=\"url(#clip740)\" d=\"M832.365 1518.36 L820.56 1536.81 L832.365 1536.81 L832.365 1518.36 M831.138 1514.29 L837.018 1514.29 L837.018 1536.81 L841.948 1536.81 L841.948 1540.7 L837.018 1540.7 L837.018 1548.85 L832.365 1548.85 L832.365 1540.7 L816.763 1540.7 L816.763 1536.19 L831.138 1514.29 Z\" fill=\"#000000\" fill-rule=\"evenodd\" fill-opacity=\"1\" /><path clip-path=\"url(#clip740)\" d=\"M1247.13 1529.7 Q1243.98 1529.7 1242.13 1531.86 Q1240.3 1534.01 1240.3 1537.76 Q1240.3 1541.49 1242.13 1543.66 Q1243.98 1545.82 1247.13 1545.82 Q1250.28 1545.82 1252.11 1543.66 Q1253.96 1541.49 1253.96 1537.76 Q1253.96 1534.01 1252.11 1531.86 Q1250.28 1529.7 1247.13 1529.7 M1256.41 1515.05 L1256.41 1519.31 Q1254.65 1518.48 1252.85 1518.04 Q1251.07 1517.6 1249.31 1517.6 Q1244.68 1517.6 1242.22 1520.72 Q1239.79 1523.85 1239.45 1530.17 Q1240.81 1528.15 1242.87 1527.09 Q1244.93 1526 1247.41 1526 Q1252.62 1526 1255.63 1529.17 Q1258.66 1532.32 1258.66 1537.76 Q1258.66 1543.08 1255.51 1546.3 Q1252.36 1549.52 1247.13 1549.52 Q1241.14 1549.52 1237.96 1544.94 Q1234.79 1540.33 1234.79 1531.6 Q1234.79 1523.41 1238.68 1518.55 Q1242.57 1513.66 1249.12 1513.66 Q1250.88 1513.66 1252.66 1514.01 Q1254.47 1514.36 1256.41 1515.05 Z\" fill=\"#000000\" fill-rule=\"evenodd\" fill-opacity=\"1\" /><path clip-path=\"url(#clip740)\" d=\"M1664.1 1532.44 Q1660.76 1532.44 1658.84 1534.22 Q1656.94 1536 1656.94 1539.13 Q1656.94 1542.25 1658.84 1544.03 Q1660.76 1545.82 1664.1 1545.82 Q1667.43 1545.82 1669.35 1544.03 Q1671.27 1542.23 1671.27 1539.13 Q1671.27 1536 1669.35 1534.22 Q1667.45 1532.44 1664.1 1532.44 M1659.42 1530.45 Q1656.41 1529.7 1654.72 1527.64 Q1653.05 1525.58 1653.05 1522.62 Q1653.05 1518.48 1655.99 1516.07 Q1658.96 1513.66 1664.1 1513.66 Q1669.26 1513.66 1672.2 1516.07 Q1675.14 1518.48 1675.14 1522.62 Q1675.14 1525.58 1673.45 1527.64 Q1671.78 1529.7 1668.79 1530.45 Q1672.17 1531.23 1674.05 1533.52 Q1675.95 1535.82 1675.95 1539.13 Q1675.95 1544.15 1672.87 1546.83 Q1669.81 1549.52 1664.1 1549.52 Q1658.38 1549.52 1655.3 1546.83 Q1652.24 1544.15 1652.24 1539.13 Q1652.24 1535.82 1654.14 1533.52 Q1656.04 1531.23 1659.42 1530.45 M1657.71 1523.06 Q1657.71 1525.75 1659.37 1527.25 Q1661.06 1528.76 1664.1 1528.76 Q1667.1 1528.76 1668.79 1527.25 Q1670.51 1525.75 1670.51 1523.06 Q1670.51 1520.38 1668.79 1518.87 Q1667.1 1517.37 1664.1 1517.37 Q1661.06 1517.37 1659.37 1518.87 Q1657.71 1520.38 1657.71 1523.06 Z\" fill=\"#000000\" fill-rule=\"evenodd\" fill-opacity=\"1\" /><path clip-path=\"url(#clip740)\" d=\"M2056.15 1544.91 L2063.79 1544.91 L2063.79 1518.55 L2055.48 1520.21 L2055.48 1515.95 L2063.75 1514.29 L2068.42 1514.29 L2068.42 1544.91 L2076.06 1544.91 L2076.06 1548.85 L2056.15 1548.85 L2056.15 1544.91 Z\" fill=\"#000000\" fill-rule=\"evenodd\" fill-opacity=\"1\" /><path clip-path=\"url(#clip740)\" d=\"M2095.5 1517.37 Q2091.89 1517.37 2090.06 1520.93 Q2088.26 1524.47 2088.26 1531.6 Q2088.26 1538.71 2090.06 1542.27 Q2091.89 1545.82 2095.5 1545.82 Q2099.14 1545.82 2100.94 1542.27 Q2102.77 1538.71 2102.77 1531.6 Q2102.77 1524.47 2100.94 1520.93 Q2099.14 1517.37 2095.5 1517.37 M2095.5 1513.66 Q2101.31 1513.66 2104.37 1518.27 Q2107.45 1522.85 2107.45 1531.6 Q2107.45 1540.33 2104.37 1544.94 Q2101.31 1549.52 2095.5 1549.52 Q2089.69 1549.52 2086.62 1544.94 Q2083.56 1540.33 2083.56 1531.6 Q2083.56 1522.85 2086.62 1518.27 Q2089.69 1513.66 2095.5 1513.66 Z\" fill=\"#000000\" fill-rule=\"evenodd\" fill-opacity=\"1\" /><polyline clip-path=\"url(#clip742)\" style=\"stroke:#000000; stroke-linecap:round; stroke-linejoin:round; stroke-width:2; stroke-opacity:0.1; fill:none\" points=\"\n",
       "  140.696,1448.09 2352.76,1448.09 \n",
       "  \"/>\n",
       "<polyline clip-path=\"url(#clip742)\" style=\"stroke:#000000; stroke-linecap:round; stroke-linejoin:round; stroke-width:2; stroke-opacity:0.1; fill:none\" points=\"\n",
       "  140.696,1210.64 2352.76,1210.64 \n",
       "  \"/>\n",
       "<polyline clip-path=\"url(#clip742)\" style=\"stroke:#000000; stroke-linecap:round; stroke-linejoin:round; stroke-width:2; stroke-opacity:0.1; fill:none\" points=\"\n",
       "  140.696,973.19 2352.76,973.19 \n",
       "  \"/>\n",
       "<polyline clip-path=\"url(#clip742)\" style=\"stroke:#000000; stroke-linecap:round; stroke-linejoin:round; stroke-width:2; stroke-opacity:0.1; fill:none\" points=\"\n",
       "  140.696,735.74 2352.76,735.74 \n",
       "  \"/>\n",
       "<polyline clip-path=\"url(#clip742)\" style=\"stroke:#000000; stroke-linecap:round; stroke-linejoin:round; stroke-width:2; stroke-opacity:0.1; fill:none\" points=\"\n",
       "  140.696,498.29 2352.76,498.29 \n",
       "  \"/>\n",
       "<polyline clip-path=\"url(#clip742)\" style=\"stroke:#000000; stroke-linecap:round; stroke-linejoin:round; stroke-width:2; stroke-opacity:0.1; fill:none\" points=\"\n",
       "  140.696,260.84 2352.76,260.84 \n",
       "  \"/>\n",
       "<polyline clip-path=\"url(#clip740)\" style=\"stroke:#000000; stroke-linecap:round; stroke-linejoin:round; stroke-width:4; stroke-opacity:1; fill:none\" points=\"\n",
       "  140.696,1486.45 140.696,47.2441 \n",
       "  \"/>\n",
       "<polyline clip-path=\"url(#clip740)\" style=\"stroke:#000000; stroke-linecap:round; stroke-linejoin:round; stroke-width:4; stroke-opacity:1; fill:none\" points=\"\n",
       "  140.696,1448.09 159.593,1448.09 \n",
       "  \"/>\n",
       "<polyline clip-path=\"url(#clip740)\" style=\"stroke:#000000; stroke-linecap:round; stroke-linejoin:round; stroke-width:4; stroke-opacity:1; fill:none\" points=\"\n",
       "  140.696,1210.64 159.593,1210.64 \n",
       "  \"/>\n",
       "<polyline clip-path=\"url(#clip740)\" style=\"stroke:#000000; stroke-linecap:round; stroke-linejoin:round; stroke-width:4; stroke-opacity:1; fill:none\" points=\"\n",
       "  140.696,973.19 159.593,973.19 \n",
       "  \"/>\n",
       "<polyline clip-path=\"url(#clip740)\" style=\"stroke:#000000; stroke-linecap:round; stroke-linejoin:round; stroke-width:4; stroke-opacity:1; fill:none\" points=\"\n",
       "  140.696,735.74 159.593,735.74 \n",
       "  \"/>\n",
       "<polyline clip-path=\"url(#clip740)\" style=\"stroke:#000000; stroke-linecap:round; stroke-linejoin:round; stroke-width:4; stroke-opacity:1; fill:none\" points=\"\n",
       "  140.696,498.29 159.593,498.29 \n",
       "  \"/>\n",
       "<polyline clip-path=\"url(#clip740)\" style=\"stroke:#000000; stroke-linecap:round; stroke-linejoin:round; stroke-width:4; stroke-opacity:1; fill:none\" points=\"\n",
       "  140.696,260.84 159.593,260.84 \n",
       "  \"/>\n",
       "<path clip-path=\"url(#clip740)\" d=\"M83.7929 1430.81 L102.149 1430.81 L102.149 1434.75 L88.0753 1434.75 L88.0753 1443.22 Q89.0938 1442.87 90.1123 1442.71 Q91.1308 1442.52 92.1493 1442.52 Q97.9363 1442.52 101.316 1445.69 Q104.696 1448.87 104.696 1454.28 Q104.696 1459.86 101.223 1462.96 Q97.7511 1466.04 91.4317 1466.04 Q89.2558 1466.04 86.9873 1465.67 Q84.7419 1465.3 82.3346 1464.56 L82.3346 1459.86 Q84.4179 1461 86.6401 1461.55 Q88.8623 1462.11 91.3391 1462.11 Q95.3437 1462.11 97.6817 1460 Q100.02 1457.89 100.02 1454.28 Q100.02 1450.67 97.6817 1448.56 Q95.3437 1446.46 91.3391 1446.46 Q89.4641 1446.46 87.5892 1446.87 Q85.7373 1447.29 83.7929 1448.17 L83.7929 1430.81 Z\" fill=\"#000000\" fill-rule=\"evenodd\" fill-opacity=\"1\" /><path clip-path=\"url(#clip740)\" d=\"M53.3995 1223.98 L61.0384 1223.98 L61.0384 1197.62 L52.7282 1199.29 L52.7282 1195.03 L60.9921 1193.36 L65.668 1193.36 L65.668 1223.98 L73.3068 1223.98 L73.3068 1227.92 L53.3995 1227.92 L53.3995 1223.98 Z\" fill=\"#000000\" fill-rule=\"evenodd\" fill-opacity=\"1\" /><path clip-path=\"url(#clip740)\" d=\"M92.7512 1196.44 Q89.1401 1196.44 87.3114 1200 Q85.5058 1203.55 85.5058 1210.67 Q85.5058 1217.78 87.3114 1221.35 Q89.1401 1224.89 92.7512 1224.89 Q96.3854 1224.89 98.1909 1221.35 Q100.02 1217.78 100.02 1210.67 Q100.02 1203.55 98.1909 1200 Q96.3854 1196.44 92.7512 1196.44 M92.7512 1192.74 Q98.5613 1192.74 101.617 1197.34 Q104.696 1201.92 104.696 1210.67 Q104.696 1219.4 101.617 1224.01 Q98.5613 1228.59 92.7512 1228.59 Q86.941 1228.59 83.8623 1224.01 Q80.8068 1219.4 80.8068 1210.67 Q80.8068 1201.92 83.8623 1197.34 Q86.941 1192.74 92.7512 1192.74 Z\" fill=\"#000000\" fill-rule=\"evenodd\" fill-opacity=\"1\" /><path clip-path=\"url(#clip740)\" d=\"M54.3949 986.535 L62.0337 986.535 L62.0337 960.169 L53.7236 961.836 L53.7236 957.577 L61.9874 955.91 L66.6633 955.91 L66.6633 986.535 L74.3022 986.535 L74.3022 990.47 L54.3949 990.47 L54.3949 986.535 Z\" fill=\"#000000\" fill-rule=\"evenodd\" fill-opacity=\"1\" /><path clip-path=\"url(#clip740)\" d=\"M83.7929 955.91 L102.149 955.91 L102.149 959.845 L88.0753 959.845 L88.0753 968.317 Q89.0938 967.97 90.1123 967.808 Q91.1308 967.623 92.1493 967.623 Q97.9363 967.623 101.316 970.794 Q104.696 973.966 104.696 979.382 Q104.696 984.961 101.223 988.063 Q97.7511 991.141 91.4317 991.141 Q89.2558 991.141 86.9873 990.771 Q84.7419 990.401 82.3346 989.66 L82.3346 984.961 Q84.4179 986.095 86.6401 986.651 Q88.8623 987.206 91.3391 987.206 Q95.3437 987.206 97.6817 985.1 Q100.02 982.993 100.02 979.382 Q100.02 975.771 97.6817 973.665 Q95.3437 971.558 91.3391 971.558 Q89.4641 971.558 87.5892 971.975 Q85.7373 972.391 83.7929 973.271 L83.7929 955.91 Z\" fill=\"#000000\" fill-rule=\"evenodd\" fill-opacity=\"1\" /><path clip-path=\"url(#clip740)\" d=\"M56.6171 749.085 L72.9365 749.085 L72.9365 753.02 L50.9921 753.02 L50.9921 749.085 Q53.6541 746.33 58.2375 741.701 Q62.8439 737.048 64.0245 735.705 Q66.2698 733.182 67.1494 731.446 Q68.0522 729.687 68.0522 727.997 Q68.0522 725.242 66.1078 723.506 Q64.1865 721.77 61.0847 721.77 Q58.8856 721.77 56.4319 722.534 Q54.0014 723.298 51.2236 724.849 L51.2236 720.127 Q54.0477 718.992 56.5014 718.414 Q58.955 717.835 60.9921 717.835 Q66.3624 717.835 69.5568 720.52 Q72.7513 723.205 72.7513 727.696 Q72.7513 729.826 71.9411 731.747 Q71.1541 733.645 69.0476 736.238 Q68.4689 736.909 65.367 740.127 Q62.2652 743.321 56.6171 749.085 Z\" fill=\"#000000\" fill-rule=\"evenodd\" fill-opacity=\"1\" /><path clip-path=\"url(#clip740)\" d=\"M92.7512 721.539 Q89.1401 721.539 87.3114 725.104 Q85.5058 728.645 85.5058 735.775 Q85.5058 742.881 87.3114 746.446 Q89.1401 749.988 92.7512 749.988 Q96.3854 749.988 98.1909 746.446 Q100.02 742.881 100.02 735.775 Q100.02 728.645 98.1909 725.104 Q96.3854 721.539 92.7512 721.539 M92.7512 717.835 Q98.5613 717.835 101.617 722.441 Q104.696 727.025 104.696 735.775 Q104.696 744.502 101.617 749.108 Q98.5613 753.691 92.7512 753.691 Q86.941 753.691 83.8623 749.108 Q80.8068 744.502 80.8068 735.775 Q80.8068 727.025 83.8623 722.441 Q86.941 717.835 92.7512 717.835 Z\" fill=\"#000000\" fill-rule=\"evenodd\" fill-opacity=\"1\" /><path clip-path=\"url(#clip740)\" d=\"M57.6125 511.635 L73.9318 511.635 L73.9318 515.57 L51.9875 515.57 L51.9875 511.635 Q54.6495 508.88 59.2328 504.251 Q63.8393 499.598 65.0198 498.255 Q67.2652 495.732 68.1448 493.996 Q69.0476 492.237 69.0476 490.547 Q69.0476 487.792 67.1032 486.056 Q65.1819 484.32 62.08 484.32 Q59.881 484.32 57.4273 485.084 Q54.9967 485.848 52.219 487.399 L52.219 482.677 Q55.043 481.542 57.4967 480.964 Q59.9504 480.385 61.9874 480.385 Q67.3578 480.385 70.5522 483.07 Q73.7466 485.755 73.7466 490.246 Q73.7466 492.376 72.9365 494.297 Q72.1494 496.195 70.0429 498.788 Q69.4642 499.459 66.3624 502.677 Q63.2606 505.871 57.6125 511.635 Z\" fill=\"#000000\" fill-rule=\"evenodd\" fill-opacity=\"1\" /><path clip-path=\"url(#clip740)\" d=\"M83.7929 481.01 L102.149 481.01 L102.149 484.945 L88.0753 484.945 L88.0753 493.417 Q89.0938 493.07 90.1123 492.908 Q91.1308 492.723 92.1493 492.723 Q97.9363 492.723 101.316 495.894 Q104.696 499.065 104.696 504.482 Q104.696 510.061 101.223 513.163 Q97.7511 516.241 91.4317 516.241 Q89.2558 516.241 86.9873 515.871 Q84.7419 515.501 82.3346 514.76 L82.3346 510.061 Q84.4179 511.195 86.6401 511.751 Q88.8623 512.306 91.3391 512.306 Q95.3437 512.306 97.6817 510.2 Q100.02 508.093 100.02 504.482 Q100.02 500.871 97.6817 498.765 Q95.3437 496.658 91.3391 496.658 Q89.4641 496.658 87.5892 497.075 Q85.7373 497.491 83.7929 498.371 L83.7929 481.01 Z\" fill=\"#000000\" fill-rule=\"evenodd\" fill-opacity=\"1\" /><path clip-path=\"url(#clip740)\" d=\"M66.7559 259.486 Q70.1124 260.203 71.9874 262.472 Q73.8855 264.74 73.8855 268.074 Q73.8855 273.189 70.367 275.99 Q66.8485 278.791 60.3671 278.791 Q58.1912 278.791 55.8764 278.351 Q53.5847 277.935 51.131 277.078 L51.131 272.564 Q53.0754 273.699 55.3903 274.277 Q57.7051 274.856 60.2282 274.856 Q64.6263 274.856 66.918 273.12 Q69.2328 271.384 69.2328 268.074 Q69.2328 265.018 67.08 263.305 Q64.9504 261.569 61.131 261.569 L57.1032 261.569 L57.1032 257.727 L61.3161 257.727 Q64.7652 257.727 66.5939 256.361 Q68.4226 254.972 68.4226 252.379 Q68.4226 249.717 66.5245 248.305 Q64.6495 246.87 61.131 246.87 Q59.2097 246.87 57.0106 247.287 Q54.8115 247.703 52.1727 248.583 L52.1727 244.416 Q54.8347 243.676 57.1495 243.305 Q59.4875 242.935 61.5476 242.935 Q66.8717 242.935 69.9735 245.365 Q73.0753 247.773 73.0753 251.893 Q73.0753 254.764 71.4318 256.754 Q69.7883 258.722 66.7559 259.486 Z\" fill=\"#000000\" fill-rule=\"evenodd\" fill-opacity=\"1\" /><path clip-path=\"url(#clip740)\" d=\"M92.7512 246.639 Q89.1401 246.639 87.3114 250.203 Q85.5058 253.745 85.5058 260.875 Q85.5058 267.981 87.3114 271.546 Q89.1401 275.088 92.7512 275.088 Q96.3854 275.088 98.1909 271.546 Q100.02 267.981 100.02 260.875 Q100.02 253.745 98.1909 250.203 Q96.3854 246.639 92.7512 246.639 M92.7512 242.935 Q98.5613 242.935 101.617 247.541 Q104.696 252.125 104.696 260.875 Q104.696 269.601 101.617 274.208 Q98.5613 278.791 92.7512 278.791 Q86.941 278.791 83.8623 274.208 Q80.8068 269.601 80.8068 260.875 Q80.8068 252.125 83.8623 247.541 Q86.941 242.935 92.7512 242.935 Z\" fill=\"#000000\" fill-rule=\"evenodd\" fill-opacity=\"1\" /><polyline clip-path=\"url(#clip742)\" style=\"stroke:#009af9; stroke-linecap:round; stroke-linejoin:round; stroke-width:4; stroke-opacity:1; fill:none\" points=\"\n",
       "  203.301,750.937 411.986,1087.64 620.671,420.406 829.356,248.018 1038.04,295.508 1246.73,1445.72 1455.41,323.527 1664.1,87.9763 1872.78,565.251 2081.47,481.194 \n",
       "  2290.15,845.917 \n",
       "  \"/>\n",
       "<path clip-path=\"url(#clip740)\" d=\"\n",
       "M214.431 1438.47 L1045.31 1438.47 L1045.31 1334.79 L214.431 1334.79  Z\n",
       "  \" fill=\"#ffffff\" fill-rule=\"evenodd\" fill-opacity=\"1\"/>\n",
       "<polyline clip-path=\"url(#clip740)\" style=\"stroke:#000000; stroke-linecap:round; stroke-linejoin:round; stroke-width:4; stroke-opacity:1; fill:none\" points=\"\n",
       "  214.431,1438.47 1045.31,1438.47 1045.31,1334.79 214.431,1334.79 214.431,1438.47 \n",
       "  \"/>\n",
       "<polyline clip-path=\"url(#clip740)\" style=\"stroke:#009af9; stroke-linecap:round; stroke-linejoin:round; stroke-width:4; stroke-opacity:1; fill:none\" points=\"\n",
       "  239.009,1386.63 386.48,1386.63 \n",
       "  \"/>\n",
       "<path clip-path=\"url(#clip740)\" d=\"M415.734 1373.2 L415.734 1400.07 L421.382 1400.07 Q428.535 1400.07 431.845 1396.83 Q435.179 1393.59 435.179 1386.6 Q435.179 1379.66 431.845 1376.44 Q428.535 1373.2 421.382 1373.2 L415.734 1373.2 M411.058 1369.35 L420.665 1369.35 Q430.711 1369.35 435.41 1373.54 Q440.109 1377.71 440.109 1386.6 Q440.109 1395.53 435.387 1399.72 Q430.665 1403.91 420.665 1403.91 L411.058 1403.91 L411.058 1369.35 Z\" fill=\"#000000\" fill-rule=\"evenodd\" fill-opacity=\"1\" /><path clip-path=\"url(#clip740)\" d=\"M469.554 1389.89 L469.554 1391.97 L449.97 1391.97 Q450.248 1396.37 452.609 1398.68 Q454.993 1400.97 459.23 1400.97 Q461.683 1400.97 463.975 1400.37 Q466.29 1399.77 468.558 1398.57 L468.558 1402.59 Q466.267 1403.57 463.859 1404.08 Q461.452 1404.59 458.975 1404.59 Q452.771 1404.59 449.137 1400.97 Q445.526 1397.36 445.526 1391.21 Q445.526 1384.84 448.952 1381.11 Q452.401 1377.36 458.234 1377.36 Q463.466 1377.36 466.498 1380.74 Q469.554 1384.1 469.554 1389.89 M465.294 1388.64 Q465.248 1385.14 463.327 1383.06 Q461.429 1380.97 458.28 1380.97 Q454.716 1380.97 452.563 1382.99 Q450.433 1385 450.109 1388.66 L465.294 1388.64 Z\" fill=\"#000000\" fill-rule=\"evenodd\" fill-opacity=\"1\" /><path clip-path=\"url(#clip740)\" d=\"M495.202 1378.98 L495.202 1382.97 Q493.396 1381.97 491.567 1381.48 Q489.762 1380.97 487.91 1380.97 Q483.766 1380.97 481.475 1383.61 Q479.183 1386.23 479.183 1390.97 Q479.183 1395.72 481.475 1398.36 Q483.766 1400.97 487.91 1400.97 Q489.762 1400.97 491.567 1400.49 Q493.396 1399.98 495.202 1398.98 L495.202 1402.92 Q493.419 1403.75 491.498 1404.17 Q489.6 1404.59 487.447 1404.59 Q481.591 1404.59 478.141 1400.91 Q474.692 1397.22 474.692 1390.97 Q474.692 1384.63 478.165 1381 Q481.66 1377.36 487.725 1377.36 Q489.692 1377.36 491.567 1377.78 Q493.442 1378.17 495.202 1378.98 Z\" fill=\"#000000\" fill-rule=\"evenodd\" fill-opacity=\"1\" /><path clip-path=\"url(#clip740)\" d=\"M513.072 1369.35 L542.308 1369.35 L542.308 1373.29 L530.039 1373.29 L530.039 1403.91 L525.34 1403.91 L525.34 1373.29 L513.072 1373.29 L513.072 1369.35 Z\" fill=\"#000000\" fill-rule=\"evenodd\" fill-opacity=\"1\" /><path clip-path=\"url(#clip740)\" d=\"M560.757 1389.89 L560.757 1391.97 L541.174 1391.97 Q541.451 1396.37 543.812 1398.68 Q546.197 1400.97 550.433 1400.97 Q552.886 1400.97 555.178 1400.37 Q557.493 1399.77 559.761 1398.57 L559.761 1402.59 Q557.47 1403.57 555.062 1404.08 Q552.655 1404.59 550.178 1404.59 Q543.974 1404.59 540.34 1400.97 Q536.729 1397.36 536.729 1391.21 Q536.729 1384.84 540.155 1381.11 Q543.604 1377.36 549.437 1377.36 Q554.669 1377.36 557.701 1380.74 Q560.757 1384.1 560.757 1389.89 M556.498 1388.64 Q556.451 1385.14 554.53 1383.06 Q552.632 1380.97 549.484 1380.97 Q545.919 1380.97 543.766 1382.99 Q541.636 1385 541.312 1388.66 L556.498 1388.64 Z\" fill=\"#000000\" fill-rule=\"evenodd\" fill-opacity=\"1\" /><path clip-path=\"url(#clip740)\" d=\"M587.933 1382.97 Q589.53 1380.1 591.752 1378.73 Q593.974 1377.36 596.983 1377.36 Q601.034 1377.36 603.233 1380.21 Q605.432 1383.03 605.432 1388.27 L605.432 1403.91 L601.15 1403.91 L601.15 1388.41 Q601.15 1384.68 599.831 1382.87 Q598.511 1381.07 595.803 1381.07 Q592.493 1381.07 590.571 1383.27 Q588.65 1385.47 588.65 1389.26 L588.65 1403.91 L584.368 1403.91 L584.368 1388.41 Q584.368 1384.66 583.048 1382.87 Q581.729 1381.07 578.974 1381.07 Q575.71 1381.07 573.789 1383.29 Q571.868 1385.49 571.868 1389.26 L571.868 1403.91 L567.585 1403.91 L567.585 1377.99 L571.868 1377.99 L571.868 1382.02 Q573.326 1379.63 575.363 1378.5 Q577.4 1377.36 580.201 1377.36 Q583.025 1377.36 584.993 1378.8 Q586.983 1380.23 587.933 1382.97 Z\" fill=\"#000000\" fill-rule=\"evenodd\" fill-opacity=\"1\" /><path clip-path=\"url(#clip740)\" d=\"M618.048 1400.03 L618.048 1413.78 L613.766 1413.78 L613.766 1377.99 L618.048 1377.99 L618.048 1381.92 Q619.391 1379.61 621.428 1378.5 Q623.488 1377.36 626.335 1377.36 Q631.057 1377.36 633.997 1381.11 Q636.96 1384.86 636.96 1390.97 Q636.96 1397.09 633.997 1400.84 Q631.057 1404.59 626.335 1404.59 Q623.488 1404.59 621.428 1403.47 Q619.391 1402.34 618.048 1400.03 M632.539 1390.97 Q632.539 1386.28 630.594 1383.61 Q628.673 1380.93 625.293 1380.93 Q621.914 1380.93 619.969 1383.61 Q618.048 1386.28 618.048 1390.97 Q618.048 1395.67 619.969 1398.36 Q621.914 1401.02 625.293 1401.02 Q628.673 1401.02 630.594 1398.36 Q632.539 1395.67 632.539 1390.97 Z\" fill=\"#000000\" fill-rule=\"evenodd\" fill-opacity=\"1\" /><path clip-path=\"url(#clip740)\" d=\"M666.196 1389.89 L666.196 1391.97 L646.613 1391.97 Q646.891 1396.37 649.252 1398.68 Q651.636 1400.97 655.872 1400.97 Q658.326 1400.97 660.617 1400.37 Q662.932 1399.77 665.201 1398.57 L665.201 1402.59 Q662.909 1403.57 660.502 1404.08 Q658.094 1404.59 655.617 1404.59 Q649.414 1404.59 645.779 1400.97 Q642.168 1397.36 642.168 1391.21 Q642.168 1384.84 645.594 1381.11 Q649.043 1377.36 654.877 1377.36 Q660.108 1377.36 663.14 1380.74 Q666.196 1384.1 666.196 1389.89 M661.937 1388.64 Q661.89 1385.14 659.969 1383.06 Q658.071 1380.97 654.923 1380.97 Q651.358 1380.97 649.205 1382.99 Q647.076 1385 646.752 1388.66 L661.937 1388.64 Z\" fill=\"#000000\" fill-rule=\"evenodd\" fill-opacity=\"1\" /><path clip-path=\"url(#clip740)\" d=\"M688.21 1381.97 Q687.492 1381.55 686.636 1381.37 Q685.802 1381.16 684.784 1381.16 Q681.173 1381.16 679.228 1383.52 Q677.307 1385.86 677.307 1390.26 L677.307 1403.91 L673.025 1403.91 L673.025 1377.99 L677.307 1377.99 L677.307 1382.02 Q678.65 1379.66 680.802 1378.52 Q682.955 1377.36 686.034 1377.36 Q686.474 1377.36 687.006 1377.43 Q687.538 1377.48 688.187 1377.6 L688.21 1381.97 Z\" fill=\"#000000\" fill-rule=\"evenodd\" fill-opacity=\"1\" /><path clip-path=\"url(#clip740)\" d=\"M704.46 1390.88 Q699.298 1390.88 697.307 1392.06 Q695.316 1393.24 695.316 1396.09 Q695.316 1398.36 696.798 1399.7 Q698.302 1401.02 700.872 1401.02 Q704.413 1401.02 706.543 1398.52 Q708.696 1396 708.696 1391.83 L708.696 1390.88 L704.46 1390.88 M712.955 1389.12 L712.955 1403.91 L708.696 1403.91 L708.696 1399.98 Q707.237 1402.34 705.062 1403.47 Q702.886 1404.59 699.737 1404.59 Q695.756 1404.59 693.395 1402.36 Q691.057 1400.12 691.057 1396.37 Q691.057 1391.99 693.974 1389.77 Q696.913 1387.55 702.724 1387.55 L708.696 1387.55 L708.696 1387.13 Q708.696 1384.19 706.751 1382.6 Q704.83 1380.97 701.335 1380.97 Q699.112 1380.97 697.006 1381.51 Q694.9 1382.04 692.955 1383.1 L692.955 1379.17 Q695.293 1378.27 697.492 1377.83 Q699.691 1377.36 701.775 1377.36 Q707.399 1377.36 710.177 1380.28 Q712.955 1383.2 712.955 1389.12 Z\" fill=\"#000000\" fill-rule=\"evenodd\" fill-opacity=\"1\" /><path clip-path=\"url(#clip740)\" d=\"M725.941 1370.63 L725.941 1377.99 L734.714 1377.99 L734.714 1381.3 L725.941 1381.3 L725.941 1395.37 Q725.941 1398.54 726.798 1399.45 Q727.677 1400.35 730.339 1400.35 L734.714 1400.35 L734.714 1403.91 L730.339 1403.91 Q725.409 1403.91 723.534 1402.09 Q721.659 1400.23 721.659 1395.37 L721.659 1381.3 L718.534 1381.3 L718.534 1377.99 L721.659 1377.99 L721.659 1370.63 L725.941 1370.63 Z\" fill=\"#000000\" fill-rule=\"evenodd\" fill-opacity=\"1\" /><path clip-path=\"url(#clip740)\" d=\"M739.876 1393.68 L739.876 1377.99 L744.135 1377.99 L744.135 1393.52 Q744.135 1397.2 745.571 1399.05 Q747.006 1400.88 749.876 1400.88 Q753.325 1400.88 755.316 1398.68 Q757.33 1396.48 757.33 1392.69 L757.33 1377.99 L761.589 1377.99 L761.589 1403.91 L757.33 1403.91 L757.33 1399.93 Q755.779 1402.29 753.719 1403.45 Q751.682 1404.59 748.973 1404.59 Q744.506 1404.59 742.191 1401.81 Q739.876 1399.03 739.876 1393.68 M750.594 1377.36 L750.594 1377.36 Z\" fill=\"#000000\" fill-rule=\"evenodd\" fill-opacity=\"1\" /><path clip-path=\"url(#clip740)\" d=\"M785.385 1381.97 Q784.668 1381.55 783.811 1381.37 Q782.978 1381.16 781.959 1381.16 Q778.348 1381.16 776.404 1383.52 Q774.482 1385.86 774.482 1390.26 L774.482 1403.91 L770.2 1403.91 L770.2 1377.99 L774.482 1377.99 L774.482 1382.02 Q775.825 1379.66 777.978 1378.52 Q780.131 1377.36 783.209 1377.36 Q783.649 1377.36 784.181 1377.43 Q784.714 1377.48 785.362 1377.6 L785.385 1381.97 Z\" fill=\"#000000\" fill-rule=\"evenodd\" fill-opacity=\"1\" /><path clip-path=\"url(#clip740)\" d=\"M810.987 1389.89 L810.987 1391.97 L791.404 1391.97 Q791.681 1396.37 794.043 1398.68 Q796.427 1400.97 800.663 1400.97 Q803.117 1400.97 805.408 1400.37 Q807.723 1399.77 809.992 1398.57 L809.992 1402.59 Q807.7 1403.57 805.292 1404.08 Q802.885 1404.59 800.408 1404.59 Q794.205 1404.59 790.57 1400.97 Q786.959 1397.36 786.959 1391.21 Q786.959 1384.84 790.385 1381.11 Q793.834 1377.36 799.668 1377.36 Q804.899 1377.36 807.931 1380.74 Q810.987 1384.1 810.987 1389.89 M806.728 1388.64 Q806.681 1385.14 804.76 1383.06 Q802.862 1380.97 799.714 1380.97 Q796.149 1380.97 793.996 1382.99 Q791.867 1385 791.543 1388.66 L806.728 1388.64 Z\" fill=\"#000000\" fill-rule=\"evenodd\" fill-opacity=\"1\" /><path clip-path=\"url(#clip740)\" d=\"M844.783 1373.96 L838.44 1391.16 L851.149 1391.16 L844.783 1373.96 M842.144 1369.35 L847.445 1369.35 L860.616 1403.91 L855.755 1403.91 L852.607 1395.05 L837.028 1395.05 L833.88 1403.91 L828.95 1403.91 L842.144 1369.35 Z\" fill=\"#000000\" fill-rule=\"evenodd\" fill-opacity=\"1\" /><path clip-path=\"url(#clip740)\" d=\"M859.644 1377.99 L864.158 1377.99 L872.26 1399.75 L880.362 1377.99 L884.875 1377.99 L875.153 1403.91 L869.366 1403.91 L859.644 1377.99 Z\" fill=\"#000000\" fill-rule=\"evenodd\" fill-opacity=\"1\" /><path clip-path=\"url(#clip740)\" d=\"M912.931 1389.89 L912.931 1391.97 L893.348 1391.97 Q893.625 1396.37 895.986 1398.68 Q898.371 1400.97 902.607 1400.97 Q905.06 1400.97 907.352 1400.37 Q909.667 1399.77 911.935 1398.57 L911.935 1402.59 Q909.644 1403.57 907.236 1404.08 Q904.829 1404.59 902.352 1404.59 Q896.148 1404.59 892.514 1400.97 Q888.903 1397.36 888.903 1391.21 Q888.903 1384.84 892.329 1381.11 Q895.778 1377.36 901.611 1377.36 Q906.843 1377.36 909.875 1380.74 Q912.931 1384.1 912.931 1389.89 M908.672 1388.64 Q908.625 1385.14 906.704 1383.06 Q904.806 1380.97 901.658 1380.97 Q898.093 1380.97 895.94 1382.99 Q893.811 1385 893.486 1388.66 L908.672 1388.64 Z\" fill=\"#000000\" fill-rule=\"evenodd\" fill-opacity=\"1\" /><path clip-path=\"url(#clip740)\" d=\"M934.945 1381.97 Q934.227 1381.55 933.37 1381.37 Q932.537 1381.16 931.519 1381.16 Q927.908 1381.16 925.963 1383.52 Q924.042 1385.86 924.042 1390.26 L924.042 1403.91 L919.759 1403.91 L919.759 1377.99 L924.042 1377.99 L924.042 1382.02 Q925.384 1379.66 927.537 1378.52 Q929.69 1377.36 932.769 1377.36 Q933.208 1377.36 933.741 1377.43 Q934.273 1377.48 934.921 1377.6 L934.945 1381.97 Z\" fill=\"#000000\" fill-rule=\"evenodd\" fill-opacity=\"1\" /><path clip-path=\"url(#clip740)\" d=\"M951.194 1390.88 Q946.032 1390.88 944.042 1392.06 Q942.051 1393.24 942.051 1396.09 Q942.051 1398.36 943.532 1399.7 Q945.037 1401.02 947.607 1401.02 Q951.148 1401.02 953.278 1398.52 Q955.431 1396 955.431 1391.83 L955.431 1390.88 L951.194 1390.88 M959.69 1389.12 L959.69 1403.91 L955.431 1403.91 L955.431 1399.98 Q953.972 1402.34 951.796 1403.47 Q949.62 1404.59 946.472 1404.59 Q942.491 1404.59 940.13 1402.36 Q937.792 1400.12 937.792 1396.37 Q937.792 1391.99 940.708 1389.77 Q943.648 1387.55 949.458 1387.55 L955.431 1387.55 L955.431 1387.13 Q955.431 1384.19 953.486 1382.6 Q951.565 1380.97 948.069 1380.97 Q945.847 1380.97 943.741 1381.51 Q941.634 1382.04 939.69 1383.1 L939.69 1379.17 Q942.028 1378.27 944.227 1377.83 Q946.426 1377.36 948.509 1377.36 Q954.134 1377.36 956.912 1380.28 Q959.69 1383.2 959.69 1389.12 Z\" fill=\"#000000\" fill-rule=\"evenodd\" fill-opacity=\"1\" /><path clip-path=\"url(#clip740)\" d=\"M985.523 1390.65 Q985.523 1386.02 983.602 1383.47 Q981.704 1380.93 978.255 1380.93 Q974.829 1380.93 972.907 1383.47 Q971.009 1386.02 971.009 1390.65 Q971.009 1395.26 972.907 1397.8 Q974.829 1400.35 978.255 1400.35 Q981.704 1400.35 983.602 1397.8 Q985.523 1395.26 985.523 1390.65 M989.782 1400.7 Q989.782 1407.32 986.842 1410.53 Q983.903 1413.78 977.838 1413.78 Q975.592 1413.78 973.602 1413.43 Q971.611 1413.1 969.736 1412.41 L969.736 1408.27 Q971.611 1409.28 973.44 1409.77 Q975.268 1410.26 977.167 1410.26 Q981.356 1410.26 983.44 1408.06 Q985.523 1405.88 985.523 1401.46 L985.523 1399.35 Q984.204 1401.65 982.143 1402.78 Q980.083 1403.91 977.213 1403.91 Q972.444 1403.91 969.528 1400.28 Q966.611 1396.65 966.611 1390.65 Q966.611 1384.63 969.528 1381 Q972.444 1377.36 977.213 1377.36 Q980.083 1377.36 982.143 1378.5 Q984.204 1379.63 985.523 1381.92 L985.523 1377.99 L989.782 1377.99 L989.782 1400.7 Z\" fill=\"#000000\" fill-rule=\"evenodd\" fill-opacity=\"1\" /><path clip-path=\"url(#clip740)\" d=\"M1020.73 1389.89 L1020.73 1391.97 L1001.15 1391.97 Q1001.43 1396.37 1003.79 1398.68 Q1006.17 1400.97 1010.41 1400.97 Q1012.86 1400.97 1015.15 1400.37 Q1017.47 1399.77 1019.74 1398.57 L1019.74 1402.59 Q1017.44 1403.57 1015.04 1404.08 Q1012.63 1404.59 1010.15 1404.59 Q1003.95 1404.59 1000.31 1400.97 Q996.703 1397.36 996.703 1391.21 Q996.703 1384.84 1000.13 1381.11 Q1003.58 1377.36 1009.41 1377.36 Q1014.64 1377.36 1017.68 1380.74 Q1020.73 1384.1 1020.73 1389.89 M1016.47 1388.64 Q1016.43 1385.14 1014.5 1383.06 Q1012.61 1380.97 1009.46 1380.97 Q1005.89 1380.97 1003.74 1382.99 Q1001.61 1385 1001.29 1388.66 L1016.47 1388.64 Z\" fill=\"#000000\" fill-rule=\"evenodd\" fill-opacity=\"1\" /></svg>\n"
      ]
     },
     "execution_count": 68,
     "metadata": {},
     "output_type": "execute_result"
    }
   ],
   "source": [
    "plot(1:11, Dectempaverage, label=\"Dec Temperature Average\", legend=:bottomleft)"
   ]
  },
  {
   "cell_type": "markdown",
   "id": "6b2bc1d5",
   "metadata": {},
   "source": [
    "# Now we are going to graph December Minimum Average temperature 1922 and December Minimum Average temperature 2012: "
   ]
  },
  {
   "cell_type": "code",
   "execution_count": 69,
   "id": "89f0f1f4",
   "metadata": {},
   "outputs": [
    {
     "data": {
      "text/plain": [
       "11-element Vector{Any}:\n",
       " 21.18\n",
       " 22.3\n",
       " 22.34\n",
       " -0.36\n",
       " 12.91\n",
       " 14.0\n",
       " 18.36\n",
       " 16.91\n",
       " 13.73\n",
       " 31.818\n",
       " 25.18"
      ]
     },
     "execution_count": 69,
     "metadata": {},
     "output_type": "execute_result"
    }
   ],
   "source": [
    "#December 1922-1932 Min Average\n",
    "dectempmin1922=B[2:12,2]"
   ]
  },
  {
   "cell_type": "code",
   "execution_count": 70,
   "id": "eee589fd",
   "metadata": {},
   "outputs": [
    {
     "data": {
      "text/plain": [
       "11-element Vector{Any}:\n",
       " 13.0\n",
       "  4.09\n",
       " 21.545\n",
       " 25.73\n",
       " 22.82\n",
       " -3.28\n",
       " 22.27\n",
       " 28.18\n",
       " 15.64\n",
       " 17.36\n",
       "  9.27"
      ]
     },
     "execution_count": 70,
     "metadata": {},
     "output_type": "execute_result"
    }
   ],
   "source": [
    "#December 2012-2022 Min Average\n",
    "Dectempmin2012=C[2:12,2]"
   ]
  },
  {
   "cell_type": "code",
   "execution_count": 71,
   "id": "adc617b2",
   "metadata": {},
   "outputs": [
    {
     "data": {
      "image/svg+xml": [
       "<?xml version=\"1.0\" encoding=\"utf-8\"?>\n",
       "<svg xmlns=\"http://www.w3.org/2000/svg\" xmlns:xlink=\"http://www.w3.org/1999/xlink\" width=\"600\" height=\"400\" viewBox=\"0 0 2400 1600\">\n",
       "<defs>\n",
       "  <clipPath id=\"clip780\">\n",
       "    <rect x=\"0\" y=\"0\" width=\"2400\" height=\"1600\"/>\n",
       "  </clipPath>\n",
       "</defs>\n",
       "<path clip-path=\"url(#clip780)\" d=\"\n",
       "M0 1600 L2400 1600 L2400 0 L0 0  Z\n",
       "  \" fill=\"#ffffff\" fill-rule=\"evenodd\" fill-opacity=\"1\"/>\n",
       "<defs>\n",
       "  <clipPath id=\"clip781\">\n",
       "    <rect x=\"480\" y=\"0\" width=\"1681\" height=\"1600\"/>\n",
       "  </clipPath>\n",
       "</defs>\n",
       "<path clip-path=\"url(#clip780)\" d=\"\n",
       "M203.964 1423.18 L2352.76 1423.18 L2352.76 123.472 L203.964 123.472  Z\n",
       "  \" fill=\"#ffffff\" fill-rule=\"evenodd\" fill-opacity=\"1\"/>\n",
       "<defs>\n",
       "  <clipPath id=\"clip782\">\n",
       "    <rect x=\"203\" y=\"123\" width=\"2150\" height=\"1301\"/>\n",
       "  </clipPath>\n",
       "</defs>\n",
       "<polyline clip-path=\"url(#clip782)\" style=\"stroke:#000000; stroke-linecap:round; stroke-linejoin:round; stroke-width:2; stroke-opacity:0.1; fill:none\" points=\"\n",
       "  467.495,1423.18 467.495,123.472 \n",
       "  \"/>\n",
       "<polyline clip-path=\"url(#clip782)\" style=\"stroke:#000000; stroke-linecap:round; stroke-linejoin:round; stroke-width:2; stroke-opacity:0.1; fill:none\" points=\"\n",
       "  872.927,1423.18 872.927,123.472 \n",
       "  \"/>\n",
       "<polyline clip-path=\"url(#clip782)\" style=\"stroke:#000000; stroke-linecap:round; stroke-linejoin:round; stroke-width:2; stroke-opacity:0.1; fill:none\" points=\"\n",
       "  1278.36,1423.18 1278.36,123.472 \n",
       "  \"/>\n",
       "<polyline clip-path=\"url(#clip782)\" style=\"stroke:#000000; stroke-linecap:round; stroke-linejoin:round; stroke-width:2; stroke-opacity:0.1; fill:none\" points=\"\n",
       "  1683.79,1423.18 1683.79,123.472 \n",
       "  \"/>\n",
       "<polyline clip-path=\"url(#clip782)\" style=\"stroke:#000000; stroke-linecap:round; stroke-linejoin:round; stroke-width:2; stroke-opacity:0.1; fill:none\" points=\"\n",
       "  2089.22,1423.18 2089.22,123.472 \n",
       "  \"/>\n",
       "<polyline clip-path=\"url(#clip780)\" style=\"stroke:#000000; stroke-linecap:round; stroke-linejoin:round; stroke-width:4; stroke-opacity:1; fill:none\" points=\"\n",
       "  203.964,1423.18 2352.76,1423.18 \n",
       "  \"/>\n",
       "<polyline clip-path=\"url(#clip780)\" style=\"stroke:#000000; stroke-linecap:round; stroke-linejoin:round; stroke-width:4; stroke-opacity:1; fill:none\" points=\"\n",
       "  467.495,1423.18 467.495,1404.28 \n",
       "  \"/>\n",
       "<polyline clip-path=\"url(#clip780)\" style=\"stroke:#000000; stroke-linecap:round; stroke-linejoin:round; stroke-width:4; stroke-opacity:1; fill:none\" points=\"\n",
       "  872.927,1423.18 872.927,1404.28 \n",
       "  \"/>\n",
       "<polyline clip-path=\"url(#clip780)\" style=\"stroke:#000000; stroke-linecap:round; stroke-linejoin:round; stroke-width:4; stroke-opacity:1; fill:none\" points=\"\n",
       "  1278.36,1423.18 1278.36,1404.28 \n",
       "  \"/>\n",
       "<polyline clip-path=\"url(#clip780)\" style=\"stroke:#000000; stroke-linecap:round; stroke-linejoin:round; stroke-width:4; stroke-opacity:1; fill:none\" points=\"\n",
       "  1683.79,1423.18 1683.79,1404.28 \n",
       "  \"/>\n",
       "<polyline clip-path=\"url(#clip780)\" style=\"stroke:#000000; stroke-linecap:round; stroke-linejoin:round; stroke-width:4; stroke-opacity:1; fill:none\" points=\"\n",
       "  2089.22,1423.18 2089.22,1404.28 \n",
       "  \"/>\n",
       "<path clip-path=\"url(#clip780)\" d=\"M462.148 1481.64 L478.467 1481.64 L478.467 1485.58 L456.523 1485.58 L456.523 1481.64 Q459.185 1478.89 463.768 1474.26 Q468.374 1469.61 469.555 1468.27 Q471.8 1465.74 472.68 1464.01 Q473.583 1462.25 473.583 1460.56 Q473.583 1457.8 471.638 1456.07 Q469.717 1454.33 466.615 1454.33 Q464.416 1454.33 461.962 1455.09 Q459.532 1455.86 456.754 1457.41 L456.754 1452.69 Q459.578 1451.55 462.032 1450.97 Q464.485 1450.39 466.522 1450.39 Q471.893 1450.39 475.087 1453.08 Q478.282 1455.77 478.282 1460.26 Q478.282 1462.39 477.472 1464.31 Q476.684 1466.2 474.578 1468.8 Q473.999 1469.47 470.897 1472.69 Q467.796 1475.88 462.148 1481.64 Z\" fill=\"#000000\" fill-rule=\"evenodd\" fill-opacity=\"1\" /><path clip-path=\"url(#clip780)\" d=\"M875.936 1455.09 L864.131 1473.54 L875.936 1473.54 L875.936 1455.09 M874.71 1451.02 L880.589 1451.02 L880.589 1473.54 L885.52 1473.54 L885.52 1477.43 L880.589 1477.43 L880.589 1485.58 L875.936 1485.58 L875.936 1477.43 L860.335 1477.43 L860.335 1472.92 L874.71 1451.02 Z\" fill=\"#000000\" fill-rule=\"evenodd\" fill-opacity=\"1\" /><path clip-path=\"url(#clip780)\" d=\"M1278.76 1466.44 Q1275.62 1466.44 1273.76 1468.59 Q1271.94 1470.74 1271.94 1474.49 Q1271.94 1478.22 1273.76 1480.39 Q1275.62 1482.55 1278.76 1482.55 Q1281.91 1482.55 1283.74 1480.39 Q1285.59 1478.22 1285.59 1474.49 Q1285.59 1470.74 1283.74 1468.59 Q1281.91 1466.44 1278.76 1466.44 M1288.05 1451.78 L1288.05 1456.04 Q1286.29 1455.21 1284.48 1454.77 Q1282.7 1454.33 1280.94 1454.33 Q1276.31 1454.33 1273.86 1457.45 Q1271.43 1460.58 1271.08 1466.9 Q1272.45 1464.89 1274.51 1463.82 Q1276.57 1462.73 1279.04 1462.73 Q1284.25 1462.73 1287.26 1465.9 Q1290.29 1469.05 1290.29 1474.49 Q1290.29 1479.82 1287.14 1483.03 Q1284 1486.25 1278.76 1486.25 Q1272.77 1486.25 1269.6 1481.67 Q1266.43 1477.06 1266.43 1468.33 Q1266.43 1460.14 1270.32 1455.28 Q1274.2 1450.39 1280.76 1450.39 Q1282.51 1450.39 1284.3 1450.74 Q1286.1 1451.09 1288.05 1451.78 Z\" fill=\"#000000\" fill-rule=\"evenodd\" fill-opacity=\"1\" /><path clip-path=\"url(#clip780)\" d=\"M1683.79 1469.17 Q1680.46 1469.17 1678.54 1470.95 Q1676.64 1472.73 1676.64 1475.86 Q1676.64 1478.98 1678.54 1480.77 Q1680.46 1482.55 1683.79 1482.55 Q1687.13 1482.55 1689.05 1480.77 Q1690.97 1478.96 1690.97 1475.86 Q1690.97 1472.73 1689.05 1470.95 Q1687.15 1469.17 1683.79 1469.17 M1679.12 1467.18 Q1676.11 1466.44 1674.42 1464.38 Q1672.75 1462.32 1672.75 1459.35 Q1672.75 1455.21 1675.69 1452.8 Q1678.65 1450.39 1683.79 1450.39 Q1688.95 1450.39 1691.89 1452.8 Q1694.83 1455.21 1694.83 1459.35 Q1694.83 1462.32 1693.14 1464.38 Q1691.48 1466.44 1688.49 1467.18 Q1691.87 1467.96 1693.75 1470.26 Q1695.64 1472.55 1695.64 1475.86 Q1695.64 1480.88 1692.57 1483.57 Q1689.51 1486.25 1683.79 1486.25 Q1678.07 1486.25 1675 1483.57 Q1671.94 1480.88 1671.94 1475.86 Q1671.94 1472.55 1673.84 1470.26 Q1675.74 1467.96 1679.12 1467.18 M1677.4 1459.79 Q1677.4 1462.48 1679.07 1463.98 Q1680.76 1465.49 1683.79 1465.49 Q1686.8 1465.49 1688.49 1463.98 Q1690.2 1462.48 1690.2 1459.79 Q1690.2 1457.11 1688.49 1455.6 Q1686.8 1454.1 1683.79 1454.1 Q1680.76 1454.1 1679.07 1455.6 Q1677.4 1457.11 1677.4 1459.79 Z\" fill=\"#000000\" fill-rule=\"evenodd\" fill-opacity=\"1\" /><path clip-path=\"url(#clip780)\" d=\"M2063.91 1481.64 L2071.55 1481.64 L2071.55 1455.28 L2063.24 1456.95 L2063.24 1452.69 L2071.5 1451.02 L2076.18 1451.02 L2076.18 1481.64 L2083.82 1481.64 L2083.82 1485.58 L2063.91 1485.58 L2063.91 1481.64 Z\" fill=\"#000000\" fill-rule=\"evenodd\" fill-opacity=\"1\" /><path clip-path=\"url(#clip780)\" d=\"M2103.26 1454.1 Q2099.65 1454.1 2097.82 1457.66 Q2096.02 1461.2 2096.02 1468.33 Q2096.02 1475.44 2097.82 1479.01 Q2099.65 1482.55 2103.26 1482.55 Q2106.9 1482.55 2108.7 1479.01 Q2110.53 1475.44 2110.53 1468.33 Q2110.53 1461.2 2108.7 1457.66 Q2106.9 1454.1 2103.26 1454.1 M2103.26 1450.39 Q2109.07 1450.39 2112.13 1455 Q2115.21 1459.58 2115.21 1468.33 Q2115.21 1477.06 2112.13 1481.67 Q2109.07 1486.25 2103.26 1486.25 Q2097.45 1486.25 2094.38 1481.67 Q2091.32 1477.06 2091.32 1468.33 Q2091.32 1459.58 2094.38 1455 Q2097.45 1450.39 2103.26 1450.39 Z\" fill=\"#000000\" fill-rule=\"evenodd\" fill-opacity=\"1\" /><path clip-path=\"url(#clip780)\" d=\"M783.299 1520.52 L790.206 1520.52 L803.383 1540.07 L816.464 1520.52 L823.371 1520.52 L806.565 1545.41 L806.565 1568.04 L800.104 1568.04 L800.104 1545.41 L783.299 1520.52 Z\" fill=\"#000000\" fill-rule=\"evenodd\" fill-opacity=\"1\" /><path clip-path=\"url(#clip780)\" d=\"M851.221 1548.76 L851.221 1551.62 L824.294 1551.62 Q824.676 1557.67 827.922 1560.85 Q831.201 1564 837.025 1564 Q840.399 1564 843.55 1563.17 Q846.733 1562.35 849.852 1560.69 L849.852 1566.23 Q846.701 1567.57 843.391 1568.27 Q840.081 1568.97 836.675 1568.97 Q828.145 1568.97 823.148 1564 Q818.183 1559.04 818.183 1550.57 Q818.183 1541.82 822.893 1536.69 Q827.636 1531.54 835.657 1531.54 Q842.85 1531.54 847.019 1536.18 Q851.221 1540.8 851.221 1548.76 M845.364 1547.04 Q845.301 1542.23 842.659 1539.37 Q840.049 1536.5 835.72 1536.5 Q830.819 1536.5 827.859 1539.27 Q824.93 1542.04 824.485 1547.07 L845.364 1547.04 Z\" fill=\"#000000\" fill-rule=\"evenodd\" fill-opacity=\"1\" /><path clip-path=\"url(#clip780)\" d=\"M877.034 1550.12 Q869.936 1550.12 867.199 1551.75 Q864.461 1553.37 864.461 1557.29 Q864.461 1560.4 866.499 1562.25 Q868.567 1564.07 872.1 1564.07 Q876.97 1564.07 879.898 1560.63 Q882.858 1557.16 882.858 1551.43 L882.858 1550.12 L877.034 1550.12 M888.715 1547.71 L888.715 1568.04 L882.858 1568.04 L882.858 1562.63 Q880.853 1565.88 877.861 1567.44 Q874.869 1568.97 870.541 1568.97 Q865.066 1568.97 861.82 1565.91 Q858.605 1562.82 858.605 1557.67 Q858.605 1551.65 862.615 1548.6 Q866.658 1545.54 874.647 1545.54 L882.858 1545.54 L882.858 1544.97 Q882.858 1540.93 880.185 1538.73 Q877.543 1536.5 872.737 1536.5 Q869.681 1536.5 866.785 1537.23 Q863.889 1537.97 861.215 1539.43 L861.215 1534.02 Q864.43 1532.78 867.453 1532.17 Q870.477 1531.54 873.342 1531.54 Q881.076 1531.54 884.895 1535.55 Q888.715 1539.56 888.715 1547.71 Z\" fill=\"#000000\" fill-rule=\"evenodd\" fill-opacity=\"1\" /><path clip-path=\"url(#clip780)\" d=\"M921.435 1537.87 Q920.448 1537.3 919.27 1537.04 Q918.124 1536.76 916.724 1536.76 Q911.759 1536.76 909.085 1540 Q906.443 1543.22 906.443 1549.27 L906.443 1568.04 L900.555 1568.04 L900.555 1532.4 L906.443 1532.4 L906.443 1537.93 Q908.289 1534.69 911.249 1533.13 Q914.209 1531.54 918.443 1531.54 Q919.047 1531.54 919.779 1531.63 Q920.512 1531.7 921.403 1531.85 L921.435 1537.87 Z\" fill=\"#000000\" fill-rule=\"evenodd\" fill-opacity=\"1\" /><path clip-path=\"url(#clip780)\" d=\"M950.303 1533.45 L950.303 1538.98 Q947.82 1537.71 945.147 1537.07 Q942.473 1536.44 939.609 1536.44 Q935.248 1536.44 933.052 1537.77 Q930.888 1539.11 930.888 1541.79 Q930.888 1543.82 932.447 1545 Q934.007 1546.15 938.717 1547.2 L940.723 1547.64 Q946.961 1548.98 949.571 1551.43 Q952.213 1553.85 952.213 1558.21 Q952.213 1563.17 948.266 1566.07 Q944.351 1568.97 937.476 1568.97 Q934.612 1568.97 931.492 1568.39 Q928.405 1567.85 924.968 1566.74 L924.968 1560.69 Q928.214 1562.38 931.365 1563.24 Q934.516 1564.07 937.603 1564.07 Q941.741 1564.07 943.969 1562.66 Q946.197 1561.23 946.197 1558.65 Q946.197 1556.27 944.574 1554.99 Q942.982 1553.72 937.54 1552.54 L935.503 1552.07 Q930.06 1550.92 927.641 1548.56 Q925.222 1546.18 925.222 1542.04 Q925.222 1537.01 928.787 1534.27 Q932.352 1531.54 938.908 1531.54 Q942.155 1531.54 945.02 1532.01 Q947.884 1532.49 950.303 1533.45 Z\" fill=\"#000000\" fill-rule=\"evenodd\" fill-opacity=\"1\" /><path clip-path=\"url(#clip780)\" d=\"M996.327 1518.58 Q992.062 1525.9 989.993 1533.06 Q987.924 1540.23 987.924 1547.58 Q987.924 1554.93 989.993 1562.16 Q992.094 1569.35 996.327 1576.64 L991.235 1576.64 Q986.46 1569.16 984.073 1561.93 Q981.718 1554.71 981.718 1547.58 Q981.718 1540.48 984.073 1533.29 Q986.428 1526.09 991.235 1518.58 L996.327 1518.58 Z\" fill=\"#000000\" fill-rule=\"evenodd\" fill-opacity=\"1\" /><path clip-path=\"url(#clip780)\" d=\"M1009.63 1562.63 L1020.13 1562.63 L1020.13 1526.38 L1008.71 1528.67 L1008.71 1522.82 L1020.07 1520.52 L1026.5 1520.52 L1026.5 1562.63 L1037 1562.63 L1037 1568.04 L1009.63 1568.04 L1009.63 1562.63 Z\" fill=\"#000000\" fill-rule=\"evenodd\" fill-opacity=\"1\" /><path clip-path=\"url(#clip780)\" d=\"M1050.18 1567.06 L1050.18 1561.2 Q1052.6 1562.35 1055.08 1562.95 Q1057.57 1563.56 1059.95 1563.56 Q1066.32 1563.56 1069.66 1559.29 Q1073.03 1554.99 1073.51 1546.27 Q1071.67 1549.01 1068.83 1550.47 Q1066 1551.94 1062.56 1551.94 Q1055.43 1551.94 1051.26 1547.64 Q1047.13 1543.31 1047.13 1535.83 Q1047.13 1528.51 1051.45 1524.09 Q1055.78 1519.66 1062.98 1519.66 Q1071.22 1519.66 1075.55 1526 Q1079.91 1532.3 1079.91 1544.33 Q1079.91 1555.57 1074.56 1562.28 Q1069.25 1568.97 1060.24 1568.97 Q1057.82 1568.97 1055.34 1568.49 Q1052.85 1568.01 1050.18 1567.06 M1062.98 1546.91 Q1067.3 1546.91 1069.82 1543.95 Q1072.37 1540.99 1072.37 1535.83 Q1072.37 1530.71 1069.82 1527.75 Q1067.3 1524.76 1062.98 1524.76 Q1058.65 1524.76 1056.1 1527.75 Q1053.59 1530.71 1053.59 1535.83 Q1053.59 1540.99 1056.1 1543.95 Q1058.65 1546.91 1062.98 1546.91 Z\" fill=\"#000000\" fill-rule=\"evenodd\" fill-opacity=\"1\" /><path clip-path=\"url(#clip780)\" d=\"M1097 1562.63 L1119.44 1562.63 L1119.44 1568.04 L1089.27 1568.04 L1089.27 1562.63 Q1092.93 1558.85 1099.23 1552.48 Q1105.56 1546.08 1107.19 1544.24 Q1110.27 1540.77 1111.48 1538.38 Q1112.72 1535.96 1112.72 1533.64 Q1112.72 1529.85 1110.05 1527.46 Q1107.41 1525.08 1103.14 1525.08 Q1100.12 1525.08 1096.75 1526.13 Q1093.4 1527.18 1089.58 1529.31 L1089.58 1522.82 Q1093.47 1521.26 1096.84 1520.46 Q1100.22 1519.66 1103.02 1519.66 Q1110.4 1519.66 1114.79 1523.36 Q1119.19 1527.05 1119.19 1533.22 Q1119.19 1536.15 1118.07 1538.79 Q1116.99 1541.4 1114.09 1544.97 Q1113.3 1545.89 1109.03 1550.32 Q1104.77 1554.71 1097 1562.63 Z\" fill=\"#000000\" fill-rule=\"evenodd\" fill-opacity=\"1\" /><path clip-path=\"url(#clip780)\" d=\"M1138.47 1562.63 L1160.91 1562.63 L1160.91 1568.04 L1130.74 1568.04 L1130.74 1562.63 Q1134.4 1558.85 1140.7 1552.48 Q1147.04 1546.08 1148.66 1544.24 Q1151.75 1540.77 1152.96 1538.38 Q1154.2 1535.96 1154.2 1533.64 Q1154.2 1529.85 1151.52 1527.46 Q1148.88 1525.08 1144.62 1525.08 Q1141.59 1525.08 1138.22 1526.13 Q1134.88 1527.18 1131.06 1529.31 L1131.06 1522.82 Q1134.94 1521.26 1138.31 1520.46 Q1141.69 1519.66 1144.49 1519.66 Q1151.87 1519.66 1156.27 1523.36 Q1160.66 1527.05 1160.66 1533.22 Q1160.66 1536.15 1159.54 1538.79 Q1158.46 1541.4 1155.57 1544.97 Q1154.77 1545.89 1150.5 1550.32 Q1146.24 1554.71 1138.47 1562.63 Z\" fill=\"#000000\" fill-rule=\"evenodd\" fill-opacity=\"1\" /><path clip-path=\"url(#clip780)\" d=\"M1170.62 1547.58 L1187.78 1547.58 L1187.78 1552.8 L1170.62 1552.8 L1170.62 1547.58 Z\" fill=\"#000000\" fill-rule=\"evenodd\" fill-opacity=\"1\" /><path clip-path=\"url(#clip780)\" d=\"M1199.04 1562.63 L1209.55 1562.63 L1209.55 1526.38 L1198.12 1528.67 L1198.12 1522.82 L1209.48 1520.52 L1215.91 1520.52 L1215.91 1562.63 L1226.42 1562.63 L1226.42 1568.04 L1199.04 1568.04 L1199.04 1562.63 Z\" fill=\"#000000\" fill-rule=\"evenodd\" fill-opacity=\"1\" /><path clip-path=\"url(#clip780)\" d=\"M1239.59 1567.06 L1239.59 1561.2 Q1242.01 1562.35 1244.49 1562.95 Q1246.98 1563.56 1249.36 1563.56 Q1255.73 1563.56 1259.07 1559.29 Q1262.45 1554.99 1262.92 1546.27 Q1261.08 1549.01 1258.24 1550.47 Q1255.41 1551.94 1251.97 1551.94 Q1244.84 1551.94 1240.67 1547.64 Q1236.54 1543.31 1236.54 1535.83 Q1236.54 1528.51 1240.87 1524.09 Q1245.19 1519.66 1252.39 1519.66 Q1260.63 1519.66 1264.96 1526 Q1269.32 1532.3 1269.32 1544.33 Q1269.32 1555.57 1263.97 1562.28 Q1258.66 1568.97 1249.65 1568.97 Q1247.23 1568.97 1244.75 1568.49 Q1242.27 1568.01 1239.59 1567.06 M1252.39 1546.91 Q1256.72 1546.91 1259.23 1543.95 Q1261.78 1540.99 1261.78 1535.83 Q1261.78 1530.71 1259.23 1527.75 Q1256.72 1524.76 1252.39 1524.76 Q1248.06 1524.76 1245.51 1527.75 Q1243 1530.71 1243 1535.83 Q1243 1540.99 1245.51 1543.95 Q1248.06 1546.91 1252.39 1546.91 Z\" fill=\"#000000\" fill-rule=\"evenodd\" fill-opacity=\"1\" /><path clip-path=\"url(#clip780)\" d=\"M1300.35 1542.42 Q1304.97 1543.41 1307.55 1546.53 Q1310.16 1549.65 1310.16 1554.23 Q1310.16 1561.26 1305.32 1565.12 Q1300.48 1568.97 1291.57 1568.97 Q1288.58 1568.97 1285.39 1568.36 Q1282.24 1567.79 1278.87 1566.61 L1278.87 1560.4 Q1281.54 1561.96 1284.73 1562.76 Q1287.91 1563.56 1291.38 1563.56 Q1297.43 1563.56 1300.58 1561.17 Q1303.76 1558.78 1303.76 1554.23 Q1303.76 1550.03 1300.8 1547.67 Q1297.87 1545.29 1292.62 1545.29 L1287.08 1545.29 L1287.08 1540 L1292.87 1540 Q1297.62 1540 1300.13 1538.13 Q1302.64 1536.22 1302.64 1532.65 Q1302.64 1528.99 1300.03 1527.05 Q1297.46 1525.08 1292.62 1525.08 Q1289.98 1525.08 1286.95 1525.65 Q1283.93 1526.22 1280.3 1527.43 L1280.3 1521.7 Q1283.96 1520.68 1287.14 1520.17 Q1290.36 1519.66 1293.19 1519.66 Q1300.51 1519.66 1304.78 1523.01 Q1309.04 1526.32 1309.04 1531.98 Q1309.04 1535.93 1306.78 1538.67 Q1304.52 1541.37 1300.35 1542.42 Z\" fill=\"#000000\" fill-rule=\"evenodd\" fill-opacity=\"1\" /><path clip-path=\"url(#clip780)\" d=\"M1327.88 1562.63 L1350.32 1562.63 L1350.32 1568.04 L1320.15 1568.04 L1320.15 1562.63 Q1323.81 1558.85 1330.11 1552.48 Q1336.45 1546.08 1338.07 1544.24 Q1341.16 1540.77 1342.37 1538.38 Q1343.61 1535.96 1343.61 1533.64 Q1343.61 1529.85 1340.93 1527.46 Q1338.29 1525.08 1334.03 1525.08 Q1331 1525.08 1327.63 1526.13 Q1324.29 1527.18 1320.47 1529.31 L1320.47 1522.82 Q1324.35 1521.26 1327.73 1520.46 Q1331.1 1519.66 1333.9 1519.66 Q1341.28 1519.66 1345.68 1523.36 Q1350.07 1527.05 1350.07 1533.22 Q1350.07 1536.15 1348.96 1538.79 Q1347.87 1541.4 1344.98 1544.97 Q1344.18 1545.89 1339.92 1550.32 Q1335.65 1554.71 1327.88 1562.63 Z\" fill=\"#000000\" fill-rule=\"evenodd\" fill-opacity=\"1\" /><path clip-path=\"url(#clip780)\" d=\"M1364.49 1559.96 L1371.2 1559.96 L1371.2 1565.43 L1365.98 1575.62 L1361.88 1575.62 L1364.49 1565.43 L1364.49 1559.96 Z\" fill=\"#000000\" fill-rule=\"evenodd\" fill-opacity=\"1\" /><path clip-path=\"url(#clip780)\" d=\"M1410.8 1562.63 L1433.24 1562.63 L1433.24 1568.04 L1403.06 1568.04 L1403.06 1562.63 Q1406.72 1558.85 1413.03 1552.48 Q1419.36 1546.08 1420.98 1544.24 Q1424.07 1540.77 1425.28 1538.38 Q1426.52 1535.96 1426.52 1533.64 Q1426.52 1529.85 1423.85 1527.46 Q1421.21 1525.08 1416.94 1525.08 Q1413.92 1525.08 1410.54 1526.13 Q1407.2 1527.18 1403.38 1529.31 L1403.38 1522.82 Q1407.27 1521.26 1410.64 1520.46 Q1414.01 1519.66 1416.81 1519.66 Q1424.2 1519.66 1428.59 1523.36 Q1432.98 1527.05 1432.98 1533.22 Q1432.98 1536.15 1431.87 1538.79 Q1430.79 1541.4 1427.89 1544.97 Q1427.09 1545.89 1422.83 1550.32 Q1418.56 1554.71 1410.8 1562.63 Z\" fill=\"#000000\" fill-rule=\"evenodd\" fill-opacity=\"1\" /><path clip-path=\"url(#clip780)\" d=\"M1460.48 1524.76 Q1455.52 1524.76 1453 1529.66 Q1450.52 1534.53 1450.52 1544.33 Q1450.52 1554.1 1453 1559 Q1455.52 1563.87 1460.48 1563.87 Q1465.48 1563.87 1467.96 1559 Q1470.48 1554.1 1470.48 1544.33 Q1470.48 1534.53 1467.96 1529.66 Q1465.48 1524.76 1460.48 1524.76 M1460.48 1519.66 Q1468.47 1519.66 1472.67 1526 Q1476.91 1532.3 1476.91 1544.33 Q1476.91 1556.33 1472.67 1562.66 Q1468.47 1568.97 1460.48 1568.97 Q1452.49 1568.97 1448.26 1562.66 Q1444.06 1556.33 1444.06 1544.33 Q1444.06 1532.3 1448.26 1526 Q1452.49 1519.66 1460.48 1519.66 Z\" fill=\"#000000\" fill-rule=\"evenodd\" fill-opacity=\"1\" /><path clip-path=\"url(#clip780)\" d=\"M1489.32 1562.63 L1499.82 1562.63 L1499.82 1526.38 L1488.4 1528.67 L1488.4 1522.82 L1499.76 1520.52 L1506.19 1520.52 L1506.19 1562.63 L1516.69 1562.63 L1516.69 1568.04 L1489.32 1568.04 L1489.32 1562.63 Z\" fill=\"#000000\" fill-rule=\"evenodd\" fill-opacity=\"1\" /><path clip-path=\"url(#clip780)\" d=\"M1535.22 1562.63 L1557.66 1562.63 L1557.66 1568.04 L1527.48 1568.04 L1527.48 1562.63 Q1531.14 1558.85 1537.44 1552.48 Q1543.78 1546.08 1545.4 1544.24 Q1548.49 1540.77 1549.7 1538.38 Q1550.94 1535.96 1550.94 1533.64 Q1550.94 1529.85 1548.27 1527.46 Q1545.62 1525.08 1541.36 1525.08 Q1538.34 1525.08 1534.96 1526.13 Q1531.62 1527.18 1527.8 1529.31 L1527.8 1522.82 Q1531.68 1521.26 1535.06 1520.46 Q1538.43 1519.66 1541.23 1519.66 Q1548.62 1519.66 1553.01 1523.36 Q1557.4 1527.05 1557.4 1533.22 Q1557.4 1536.15 1556.29 1538.79 Q1555.2 1541.4 1552.31 1544.97 Q1551.51 1545.89 1547.25 1550.32 Q1542.98 1554.71 1535.22 1562.63 Z\" fill=\"#000000\" fill-rule=\"evenodd\" fill-opacity=\"1\" /><path clip-path=\"url(#clip780)\" d=\"M1567.36 1547.58 L1584.52 1547.58 L1584.52 1552.8 L1567.36 1552.8 L1567.36 1547.58 Z\" fill=\"#000000\" fill-rule=\"evenodd\" fill-opacity=\"1\" /><path clip-path=\"url(#clip780)\" d=\"M1600.21 1562.63 L1622.65 1562.63 L1622.65 1568.04 L1592.48 1568.04 L1592.48 1562.63 Q1596.14 1558.85 1602.44 1552.48 Q1608.77 1546.08 1610.39 1544.24 Q1613.48 1540.77 1614.69 1538.38 Q1615.93 1535.96 1615.93 1533.64 Q1615.93 1529.85 1613.26 1527.46 Q1610.62 1525.08 1606.35 1525.08 Q1603.33 1525.08 1599.96 1526.13 Q1596.61 1527.18 1592.79 1529.31 L1592.79 1522.82 Q1596.68 1521.26 1600.05 1520.46 Q1603.42 1519.66 1606.23 1519.66 Q1613.61 1519.66 1618 1523.36 Q1622.39 1527.05 1622.39 1533.22 Q1622.39 1536.15 1621.28 1538.79 Q1620.2 1541.4 1617.3 1544.97 Q1616.51 1545.89 1612.24 1550.32 Q1607.98 1554.71 1600.21 1562.63 Z\" fill=\"#000000\" fill-rule=\"evenodd\" fill-opacity=\"1\" /><path clip-path=\"url(#clip780)\" d=\"M1649.89 1524.76 Q1644.93 1524.76 1642.41 1529.66 Q1639.93 1534.53 1639.93 1544.33 Q1639.93 1554.1 1642.41 1559 Q1644.93 1563.87 1649.89 1563.87 Q1654.89 1563.87 1657.37 1559 Q1659.89 1554.1 1659.89 1544.33 Q1659.89 1534.53 1657.37 1529.66 Q1654.89 1524.76 1649.89 1524.76 M1649.89 1519.66 Q1657.88 1519.66 1662.08 1526 Q1666.32 1532.3 1666.32 1544.33 Q1666.32 1556.33 1662.08 1562.66 Q1657.88 1568.97 1649.89 1568.97 Q1641.91 1568.97 1637.67 1562.66 Q1633.47 1556.33 1633.47 1544.33 Q1633.47 1532.3 1637.67 1526 Q1641.91 1519.66 1649.89 1519.66 Z\" fill=\"#000000\" fill-rule=\"evenodd\" fill-opacity=\"1\" /><path clip-path=\"url(#clip780)\" d=\"M1683.16 1562.63 L1705.59 1562.63 L1705.59 1568.04 L1675.42 1568.04 L1675.42 1562.63 Q1679.08 1558.85 1685.38 1552.48 Q1691.72 1546.08 1693.34 1544.24 Q1696.43 1540.77 1697.64 1538.38 Q1698.88 1535.96 1698.88 1533.64 Q1698.88 1529.85 1696.2 1527.46 Q1693.56 1525.08 1689.3 1525.08 Q1686.27 1525.08 1682.9 1526.13 Q1679.56 1527.18 1675.74 1529.31 L1675.74 1522.82 Q1679.62 1521.26 1683 1520.46 Q1686.37 1519.66 1689.17 1519.66 Q1696.55 1519.66 1700.95 1523.36 Q1705.34 1527.05 1705.34 1533.22 Q1705.34 1536.15 1704.23 1538.79 Q1703.14 1541.4 1700.25 1544.97 Q1699.45 1545.89 1695.19 1550.32 Q1690.92 1554.71 1683.16 1562.63 Z\" fill=\"#000000\" fill-rule=\"evenodd\" fill-opacity=\"1\" /><path clip-path=\"url(#clip780)\" d=\"M1724.63 1562.63 L1747.07 1562.63 L1747.07 1568.04 L1716.89 1568.04 L1716.89 1562.63 Q1720.55 1558.85 1726.86 1552.48 Q1733.19 1546.08 1734.81 1544.24 Q1737.9 1540.77 1739.11 1538.38 Q1740.35 1535.96 1740.35 1533.64 Q1740.35 1529.85 1737.68 1527.46 Q1735.04 1525.08 1730.77 1525.08 Q1727.75 1525.08 1724.37 1526.13 Q1721.03 1527.18 1717.21 1529.31 L1717.21 1522.82 Q1721.09 1521.26 1724.47 1520.46 Q1727.84 1519.66 1730.64 1519.66 Q1738.03 1519.66 1742.42 1523.36 Q1746.81 1527.05 1746.81 1533.22 Q1746.81 1536.15 1745.7 1538.79 Q1744.62 1541.4 1741.72 1544.97 Q1740.92 1545.89 1736.66 1550.32 Q1732.39 1554.71 1724.63 1562.63 Z\" fill=\"#000000\" fill-rule=\"evenodd\" fill-opacity=\"1\" /><path clip-path=\"url(#clip780)\" d=\"M1758.81 1518.58 L1763.9 1518.58 Q1768.68 1526.09 1771.03 1533.29 Q1773.42 1540.48 1773.42 1547.58 Q1773.42 1554.71 1771.03 1561.93 Q1768.68 1569.16 1763.9 1576.64 L1758.81 1576.64 Q1763.04 1569.35 1765.11 1562.16 Q1767.21 1554.93 1767.21 1547.58 Q1767.21 1540.23 1765.11 1533.06 Q1763.04 1525.9 1758.81 1518.58 Z\" fill=\"#000000\" fill-rule=\"evenodd\" fill-opacity=\"1\" /><polyline clip-path=\"url(#clip782)\" style=\"stroke:#000000; stroke-linecap:round; stroke-linejoin:round; stroke-width:2; stroke-opacity:0.1; fill:none\" points=\"\n",
       "  203.964,1271.81 2352.76,1271.81 \n",
       "  \"/>\n",
       "<polyline clip-path=\"url(#clip782)\" style=\"stroke:#000000; stroke-linecap:round; stroke-linejoin:round; stroke-width:2; stroke-opacity:0.1; fill:none\" points=\"\n",
       "  203.964,922.462 2352.76,922.462 \n",
       "  \"/>\n",
       "<polyline clip-path=\"url(#clip782)\" style=\"stroke:#000000; stroke-linecap:round; stroke-linejoin:round; stroke-width:2; stroke-opacity:0.1; fill:none\" points=\"\n",
       "  203.964,573.115 2352.76,573.115 \n",
       "  \"/>\n",
       "<polyline clip-path=\"url(#clip782)\" style=\"stroke:#000000; stroke-linecap:round; stroke-linejoin:round; stroke-width:2; stroke-opacity:0.1; fill:none\" points=\"\n",
       "  203.964,223.768 2352.76,223.768 \n",
       "  \"/>\n",
       "<polyline clip-path=\"url(#clip780)\" style=\"stroke:#000000; stroke-linecap:round; stroke-linejoin:round; stroke-width:4; stroke-opacity:1; fill:none\" points=\"\n",
       "  203.964,1423.18 203.964,123.472 \n",
       "  \"/>\n",
       "<polyline clip-path=\"url(#clip780)\" style=\"stroke:#000000; stroke-linecap:round; stroke-linejoin:round; stroke-width:4; stroke-opacity:1; fill:none\" points=\"\n",
       "  203.964,1271.81 222.861,1271.81 \n",
       "  \"/>\n",
       "<polyline clip-path=\"url(#clip780)\" style=\"stroke:#000000; stroke-linecap:round; stroke-linejoin:round; stroke-width:4; stroke-opacity:1; fill:none\" points=\"\n",
       "  203.964,922.462 222.861,922.462 \n",
       "  \"/>\n",
       "<polyline clip-path=\"url(#clip780)\" style=\"stroke:#000000; stroke-linecap:round; stroke-linejoin:round; stroke-width:4; stroke-opacity:1; fill:none\" points=\"\n",
       "  203.964,573.115 222.861,573.115 \n",
       "  \"/>\n",
       "<polyline clip-path=\"url(#clip780)\" style=\"stroke:#000000; stroke-linecap:round; stroke-linejoin:round; stroke-width:4; stroke-opacity:1; fill:none\" points=\"\n",
       "  203.964,223.768 222.861,223.768 \n",
       "  \"/>\n",
       "<path clip-path=\"url(#clip780)\" d=\"M156.019 1257.61 Q152.408 1257.61 150.579 1261.17 Q148.774 1264.71 148.774 1271.84 Q148.774 1278.95 150.579 1282.52 Q152.408 1286.06 156.019 1286.06 Q159.653 1286.06 161.459 1282.52 Q163.288 1278.95 163.288 1271.84 Q163.288 1264.71 161.459 1261.17 Q159.653 1257.61 156.019 1257.61 M156.019 1253.9 Q161.829 1253.9 164.885 1258.51 Q167.964 1263.09 167.964 1271.84 Q167.964 1280.57 164.885 1285.18 Q161.829 1289.76 156.019 1289.76 Q150.209 1289.76 147.13 1285.18 Q144.075 1280.57 144.075 1271.84 Q144.075 1263.09 147.13 1258.51 Q150.209 1253.9 156.019 1253.9 Z\" fill=\"#000000\" fill-rule=\"evenodd\" fill-opacity=\"1\" /><path clip-path=\"url(#clip780)\" d=\"M116.668 935.807 L124.306 935.807 L124.306 909.442 L115.996 911.108 L115.996 906.849 L124.26 905.182 L128.936 905.182 L128.936 935.807 L136.575 935.807 L136.575 939.742 L116.668 939.742 L116.668 935.807 Z\" fill=\"#000000\" fill-rule=\"evenodd\" fill-opacity=\"1\" /><path clip-path=\"url(#clip780)\" d=\"M156.019 908.261 Q152.408 908.261 150.579 911.826 Q148.774 915.368 148.774 922.497 Q148.774 929.604 150.579 933.168 Q152.408 936.71 156.019 936.71 Q159.653 936.71 161.459 933.168 Q163.288 929.604 163.288 922.497 Q163.288 915.368 161.459 911.826 Q159.653 908.261 156.019 908.261 M156.019 904.557 Q161.829 904.557 164.885 909.164 Q167.964 913.747 167.964 922.497 Q167.964 931.224 164.885 935.83 Q161.829 940.414 156.019 940.414 Q150.209 940.414 147.13 935.83 Q144.075 931.224 144.075 922.497 Q144.075 913.747 147.13 909.164 Q150.209 904.557 156.019 904.557 Z\" fill=\"#000000\" fill-rule=\"evenodd\" fill-opacity=\"1\" /><path clip-path=\"url(#clip780)\" d=\"M119.885 586.46 L136.204 586.46 L136.204 590.395 L114.26 590.395 L114.26 586.46 Q116.922 583.705 121.505 579.076 Q126.112 574.423 127.292 573.08 Q129.538 570.557 130.417 568.821 Q131.32 567.062 131.32 565.372 Q131.32 562.617 129.376 560.881 Q127.455 559.145 124.353 559.145 Q122.154 559.145 119.7 559.909 Q117.269 560.673 114.492 562.224 L114.492 557.502 Q117.316 556.367 119.769 555.789 Q122.223 555.21 124.26 555.21 Q129.63 555.21 132.825 557.895 Q136.019 560.58 136.019 565.071 Q136.019 567.201 135.209 569.122 Q134.422 571.02 132.316 573.613 Q131.737 574.284 128.635 577.502 Q125.533 580.696 119.885 586.46 Z\" fill=\"#000000\" fill-rule=\"evenodd\" fill-opacity=\"1\" /><path clip-path=\"url(#clip780)\" d=\"M156.019 558.914 Q152.408 558.914 150.579 562.478 Q148.774 566.02 148.774 573.15 Q148.774 580.256 150.579 583.821 Q152.408 587.363 156.019 587.363 Q159.653 587.363 161.459 583.821 Q163.288 580.256 163.288 573.15 Q163.288 566.02 161.459 562.478 Q159.653 558.914 156.019 558.914 M156.019 555.21 Q161.829 555.21 164.885 559.816 Q167.964 564.4 167.964 573.15 Q167.964 581.877 164.885 586.483 Q161.829 591.066 156.019 591.066 Q150.209 591.066 147.13 586.483 Q144.075 581.877 144.075 573.15 Q144.075 564.4 147.13 559.816 Q150.209 555.21 156.019 555.21 Z\" fill=\"#000000\" fill-rule=\"evenodd\" fill-opacity=\"1\" /><path clip-path=\"url(#clip780)\" d=\"M130.024 222.413 Q133.38 223.131 135.255 225.4 Q137.154 227.668 137.154 231.001 Q137.154 236.117 133.635 238.918 Q130.117 241.719 123.635 241.719 Q121.459 241.719 119.144 241.279 Q116.853 240.862 114.399 240.006 L114.399 235.492 Q116.343 236.626 118.658 237.205 Q120.973 237.784 123.496 237.784 Q127.894 237.784 130.186 236.048 Q132.501 234.312 132.501 231.001 Q132.501 227.946 130.348 226.233 Q128.218 224.497 124.399 224.497 L120.371 224.497 L120.371 220.654 L124.584 220.654 Q128.033 220.654 129.862 219.289 Q131.691 217.9 131.691 215.307 Q131.691 212.645 129.792 211.233 Q127.917 209.798 124.399 209.798 Q122.478 209.798 120.279 210.214 Q118.08 210.631 115.441 211.511 L115.441 207.344 Q118.103 206.603 120.418 206.233 Q122.755 205.863 124.816 205.863 Q130.14 205.863 133.242 208.293 Q136.343 210.701 136.343 214.821 Q136.343 217.691 134.7 219.682 Q133.056 221.65 130.024 222.413 Z\" fill=\"#000000\" fill-rule=\"evenodd\" fill-opacity=\"1\" /><path clip-path=\"url(#clip780)\" d=\"M156.019 209.566 Q152.408 209.566 150.579 213.131 Q148.774 216.673 148.774 223.802 Q148.774 230.909 150.579 234.474 Q152.408 238.015 156.019 238.015 Q159.653 238.015 161.459 234.474 Q163.288 230.909 163.288 223.802 Q163.288 216.673 161.459 213.131 Q159.653 209.566 156.019 209.566 M156.019 205.863 Q161.829 205.863 164.885 210.469 Q167.964 215.052 167.964 223.802 Q167.964 232.529 164.885 237.136 Q161.829 241.719 156.019 241.719 Q150.209 241.719 147.13 237.136 Q144.075 232.529 144.075 223.802 Q144.075 215.052 147.13 210.469 Q150.209 205.863 156.019 205.863 Z\" fill=\"#000000\" fill-rule=\"evenodd\" fill-opacity=\"1\" /><path clip-path=\"url(#clip780)\" d=\"M16.4842 1185.19 L16.4842 1144.99 L21.895 1144.99 L21.895 1161.86 L64.0042 1161.86 L64.0042 1168.32 L21.895 1168.32 L21.895 1185.19 L16.4842 1185.19 Z\" fill=\"#000000\" fill-rule=\"evenodd\" fill-opacity=\"1\" /><path clip-path=\"url(#clip780)\" d=\"M44.7161 1119.62 L47.5806 1119.62 L47.5806 1146.55 Q53.6281 1146.17 56.8109 1142.92 Q59.9619 1139.64 59.9619 1133.82 Q59.9619 1130.44 59.1344 1127.29 Q58.3069 1124.11 56.6518 1120.99 L62.1899 1120.99 Q63.5267 1124.14 64.227 1127.45 Q64.9272 1130.76 64.9272 1134.17 Q64.9272 1142.7 59.9619 1147.69 Q54.9967 1152.66 46.5303 1152.66 Q37.7774 1152.66 32.6531 1147.95 Q27.4968 1143.21 27.4968 1135.18 Q27.4968 1127.99 32.1438 1123.82 Q36.7589 1119.62 44.7161 1119.62 M42.9973 1125.48 Q38.1912 1125.54 35.3266 1128.18 Q32.4621 1130.79 32.4621 1135.12 Q32.4621 1140.02 35.2312 1142.98 Q38.0002 1145.91 43.0292 1146.36 L42.9973 1125.48 Z\" fill=\"#000000\" fill-rule=\"evenodd\" fill-opacity=\"1\" /><path clip-path=\"url(#clip780)\" d=\"M35.1993 1082.25 Q31.2526 1080.06 29.3747 1077 Q27.4968 1073.95 27.4968 1069.81 Q27.4968 1064.24 31.4117 1061.22 Q35.2948 1058.19 42.4881 1058.19 L64.0042 1058.19 L64.0042 1064.08 L42.679 1064.08 Q37.5546 1064.08 35.072 1065.89 Q32.5894 1067.71 32.5894 1071.43 Q32.5894 1075.98 35.6131 1078.63 Q38.6368 1081.27 43.8567 1081.27 L64.0042 1081.27 L64.0042 1087.16 L42.679 1087.16 Q37.5228 1087.16 35.072 1088.97 Q32.5894 1090.78 32.5894 1094.57 Q32.5894 1099.06 35.6449 1101.7 Q38.6686 1104.34 43.8567 1104.34 L64.0042 1104.34 L64.0042 1110.23 L28.3562 1110.23 L28.3562 1104.34 L33.8944 1104.34 Q30.616 1102.34 29.0564 1099.54 Q27.4968 1096.74 27.4968 1092.88 Q27.4968 1089 29.4702 1086.3 Q31.4436 1083.56 35.1993 1082.25 Z\" fill=\"#000000\" fill-rule=\"evenodd\" fill-opacity=\"1\" /><path clip-path=\"url(#clip780)\" d=\"M58.657 1040.84 L77.5631 1040.84 L77.5631 1046.73 L28.3562 1046.73 L28.3562 1040.84 L33.7671 1040.84 Q30.5842 1039 29.0564 1036.2 Q27.4968 1033.37 27.4968 1029.45 Q27.4968 1022.96 32.6531 1018.91 Q37.8093 1014.84 46.212 1014.84 Q54.6147 1014.84 59.771 1018.91 Q64.9272 1022.96 64.9272 1029.45 Q64.9272 1033.37 63.3994 1036.2 Q61.8398 1039 58.657 1040.84 M46.212 1020.92 Q39.7508 1020.92 36.0905 1023.59 Q32.3984 1026.24 32.3984 1030.88 Q32.3984 1035.53 36.0905 1038.2 Q39.7508 1040.84 46.212 1040.84 Q52.6732 1040.84 56.3653 1038.2 Q60.0256 1035.53 60.0256 1030.88 Q60.0256 1026.24 56.3653 1023.59 Q52.6732 1020.92 46.212 1020.92 Z\" fill=\"#000000\" fill-rule=\"evenodd\" fill-opacity=\"1\" /><path clip-path=\"url(#clip780)\" d=\"M44.7161 974.641 L47.5806 974.641 L47.5806 1001.57 Q53.6281 1001.19 56.8109 997.94 Q59.9619 994.662 59.9619 988.837 Q59.9619 985.463 59.1344 982.312 Q58.3069 979.129 56.6518 976.01 L62.1899 976.01 Q63.5267 979.161 64.227 982.471 Q64.9272 985.781 64.9272 989.187 Q64.9272 997.717 59.9619 1002.71 Q54.9967 1007.68 46.5303 1007.68 Q37.7774 1007.68 32.6531 1002.97 Q27.4968 998.226 27.4968 990.206 Q27.4968 983.012 32.1438 978.843 Q36.7589 974.641 44.7161 974.641 M42.9973 980.498 Q38.1912 980.562 35.3266 983.203 Q32.4621 985.813 32.4621 990.142 Q32.4621 995.044 35.2312 998.004 Q38.0002 1000.93 43.0292 1001.38 L42.9973 980.498 Z\" fill=\"#000000\" fill-rule=\"evenodd\" fill-opacity=\"1\" /><path clip-path=\"url(#clip780)\" d=\"M33.8307 944.373 Q33.2578 945.359 33.0032 946.537 Q32.7167 947.683 32.7167 949.083 Q32.7167 954.048 35.9632 956.722 Q39.1779 959.364 45.2253 959.364 L64.0042 959.364 L64.0042 965.252 L28.3562 965.252 L28.3562 959.364 L33.8944 959.364 Q30.6479 957.518 29.0883 954.558 Q27.4968 951.598 27.4968 947.364 Q27.4968 946.76 27.5923 946.028 Q27.656 945.296 27.8151 944.404 L33.8307 944.373 Z\" fill=\"#000000\" fill-rule=\"evenodd\" fill-opacity=\"1\" /><path clip-path=\"url(#clip780)\" d=\"M46.0847 922.029 Q46.0847 929.127 47.7079 931.864 Q49.3312 934.601 53.2461 934.601 Q56.3653 934.601 58.2114 932.564 Q60.0256 930.495 60.0256 926.962 Q60.0256 922.093 56.5881 919.164 Q53.1188 916.204 47.3897 916.204 L46.0847 916.204 L46.0847 922.029 M43.6657 910.348 L64.0042 910.348 L64.0042 916.204 L58.5933 916.204 Q61.8398 918.209 63.3994 921.201 Q64.9272 924.193 64.9272 928.522 Q64.9272 933.996 61.8716 937.243 Q58.7843 940.458 53.6281 940.458 Q47.6125 940.458 44.5569 936.447 Q41.5014 932.405 41.5014 924.416 L41.5014 916.204 L40.9285 916.204 Q36.8862 916.204 34.6901 918.878 Q32.4621 921.52 32.4621 926.326 Q32.4621 929.381 33.1941 932.278 Q33.9262 935.174 35.3903 937.848 L29.9795 937.848 Q28.7381 934.633 28.1334 931.609 Q27.4968 928.586 27.4968 925.721 Q27.4968 917.987 31.5072 914.167 Q35.5176 910.348 43.6657 910.348 Z\" fill=\"#000000\" fill-rule=\"evenodd\" fill-opacity=\"1\" /><path clip-path=\"url(#clip780)\" d=\"M18.2347 892.492 L28.3562 892.492 L28.3562 880.429 L32.9077 880.429 L32.9077 892.492 L52.2594 892.492 Q56.6199 892.492 57.8613 891.314 Q59.1026 890.105 59.1026 886.445 L59.1026 880.429 L64.0042 880.429 L64.0042 886.445 Q64.0042 893.224 61.4897 895.802 Q58.9434 898.38 52.2594 898.38 L32.9077 898.38 L32.9077 902.677 L28.3562 902.677 L28.3562 898.38 L18.2347 898.38 L18.2347 892.492 Z\" fill=\"#000000\" fill-rule=\"evenodd\" fill-opacity=\"1\" /><path clip-path=\"url(#clip780)\" d=\"M49.9359 873.331 L28.3562 873.331 L28.3562 867.475 L49.7131 867.475 Q54.7739 867.475 57.3202 865.501 Q59.8346 863.528 59.8346 859.581 Q59.8346 854.839 56.8109 852.102 Q53.7872 849.333 48.5673 849.333 L28.3562 849.333 L28.3562 843.476 L64.0042 843.476 L64.0042 849.333 L58.5296 849.333 Q61.7762 851.465 63.3676 854.298 Q64.9272 857.099 64.9272 860.823 Q64.9272 866.966 61.1078 870.148 Q57.2883 873.331 49.9359 873.331 M27.4968 858.595 L27.4968 858.595 Z\" fill=\"#000000\" fill-rule=\"evenodd\" fill-opacity=\"1\" /><path clip-path=\"url(#clip780)\" d=\"M33.8307 810.756 Q33.2578 811.743 33.0032 812.921 Q32.7167 814.067 32.7167 815.467 Q32.7167 820.432 35.9632 823.106 Q39.1779 825.748 45.2253 825.748 L64.0042 825.748 L64.0042 831.636 L28.3562 831.636 L28.3562 825.748 L33.8944 825.748 Q30.6479 823.902 29.0883 820.941 Q27.4968 817.981 27.4968 813.748 Q27.4968 813.143 27.5923 812.411 Q27.656 811.679 27.8151 810.788 L33.8307 810.756 Z\" fill=\"#000000\" fill-rule=\"evenodd\" fill-opacity=\"1\" /><path clip-path=\"url(#clip780)\" d=\"M44.7161 775.554 L47.5806 775.554 L47.5806 802.481 Q53.6281 802.099 56.8109 798.852 Q59.9619 795.574 59.9619 789.75 Q59.9619 786.376 59.1344 783.225 Q58.3069 780.042 56.6518 776.923 L62.1899 776.923 Q63.5267 780.074 64.227 783.384 Q64.9272 786.694 64.9272 790.1 Q64.9272 798.63 59.9619 803.627 Q54.9967 808.592 46.5303 808.592 Q37.7774 808.592 32.6531 803.881 Q27.4968 799.139 27.4968 791.118 Q27.4968 783.925 32.1438 779.755 Q36.7589 775.554 44.7161 775.554 M42.9973 781.41 Q38.1912 781.474 35.3266 784.116 Q32.4621 786.726 32.4621 791.054 Q32.4621 795.956 35.2312 798.916 Q38.0002 801.844 43.0292 802.29 L42.9973 781.41 Z\" fill=\"#000000\" fill-rule=\"evenodd\" fill-opacity=\"1\" /><path clip-path=\"url(#clip780)\" d=\"M14.5426 731.153 Q21.8632 735.418 29.0246 737.487 Q36.186 739.556 43.5384 739.556 Q50.8908 739.556 58.1159 737.487 Q65.3091 735.386 72.5979 731.153 L72.5979 736.246 Q65.1182 741.02 57.8931 743.407 Q50.668 745.762 43.5384 745.762 Q36.4406 745.762 29.2474 743.407 Q22.0542 741.052 14.5426 736.246 L14.5426 731.153 Z\" fill=\"#000000\" fill-rule=\"evenodd\" fill-opacity=\"1\" /><path clip-path=\"url(#clip780)\" d=\"M16.4842 719.536 L16.4842 692.227 L21.895 692.227 L21.895 713.106 L35.8996 713.106 L35.8996 694.264 L41.3104 694.264 L41.3104 713.106 L64.0042 713.106 L64.0042 719.536 L16.4842 719.536 Z\" fill=\"#000000\" fill-rule=\"evenodd\" fill-opacity=\"1\" /><path clip-path=\"url(#clip780)\" d=\"M46.0847 672.079 Q46.0847 679.177 47.7079 681.914 Q49.3312 684.652 53.2461 684.652 Q56.3653 684.652 58.2114 682.615 Q60.0256 680.546 60.0256 677.013 Q60.0256 672.143 56.5881 669.215 Q53.1188 666.255 47.3897 666.255 L46.0847 666.255 L46.0847 672.079 M43.6657 660.398 L64.0042 660.398 L64.0042 666.255 L58.5933 666.255 Q61.8398 668.26 63.3994 671.252 Q64.9272 674.244 64.9272 678.572 Q64.9272 684.047 61.8716 687.293 Q58.7843 690.508 53.6281 690.508 Q47.6125 690.508 44.5569 686.498 Q41.5014 682.456 41.5014 674.467 L41.5014 666.255 L40.9285 666.255 Q36.8862 666.255 34.6901 668.928 Q32.4621 671.57 32.4621 676.376 Q32.4621 679.432 33.1941 682.328 Q33.9262 685.225 35.3903 687.898 L29.9795 687.898 Q28.7381 684.684 28.1334 681.66 Q27.4968 678.636 27.4968 675.772 Q27.4968 668.037 31.5072 664.218 Q35.5176 660.398 43.6657 660.398 Z\" fill=\"#000000\" fill-rule=\"evenodd\" fill-opacity=\"1\" /><path clip-path=\"url(#clip780)\" d=\"M42.4881 618.703 L64.0042 618.703 L64.0042 624.559 L42.679 624.559 Q37.6183 624.559 35.1038 626.533 Q32.5894 628.506 32.5894 632.453 Q32.5894 637.195 35.6131 639.933 Q38.6368 642.67 43.8567 642.67 L64.0042 642.67 L64.0042 648.558 L14.479 648.558 L14.479 642.67 L33.8944 642.67 Q30.6797 640.569 29.0883 637.736 Q27.4968 634.872 27.4968 631.148 Q27.4968 625.005 31.3163 621.854 Q35.1038 618.703 42.4881 618.703 Z\" fill=\"#000000\" fill-rule=\"evenodd\" fill-opacity=\"1\" /><path clip-path=\"url(#clip780)\" d=\"M33.8307 586.365 Q33.2578 587.352 33.0032 588.53 Q32.7167 589.675 32.7167 591.076 Q32.7167 596.041 35.9632 598.715 Q39.1779 601.356 45.2253 601.356 L64.0042 601.356 L64.0042 607.245 L28.3562 607.245 L28.3562 601.356 L33.8944 601.356 Q30.6479 599.51 29.0883 596.55 Q27.4968 593.59 27.4968 589.357 Q27.4968 588.752 27.5923 588.02 Q27.656 587.288 27.8151 586.397 L33.8307 586.365 Z\" fill=\"#000000\" fill-rule=\"evenodd\" fill-opacity=\"1\" /><path clip-path=\"url(#clip780)\" d=\"M44.7161 551.163 L47.5806 551.163 L47.5806 578.09 Q53.6281 577.708 56.8109 574.461 Q59.9619 571.183 59.9619 565.358 Q59.9619 561.985 59.1344 558.833 Q58.3069 555.651 56.6518 552.531 L62.1899 552.531 Q63.5267 555.682 64.227 558.993 Q64.9272 562.303 64.9272 565.708 Q64.9272 574.239 59.9619 579.236 Q54.9967 584.201 46.5303 584.201 Q37.7774 584.201 32.6531 579.49 Q27.4968 574.748 27.4968 566.727 Q27.4968 559.534 32.1438 555.364 Q36.7589 551.163 44.7161 551.163 M42.9973 557.019 Q38.1912 557.083 35.3266 559.725 Q32.4621 562.335 32.4621 566.663 Q32.4621 571.565 35.2312 574.525 Q38.0002 577.453 43.0292 577.899 L42.9973 557.019 Z\" fill=\"#000000\" fill-rule=\"evenodd\" fill-opacity=\"1\" /><path clip-path=\"url(#clip780)\" d=\"M42.4881 511.918 L64.0042 511.918 L64.0042 517.775 L42.679 517.775 Q37.6183 517.775 35.1038 519.748 Q32.5894 521.721 32.5894 525.668 Q32.5894 530.411 35.6131 533.148 Q38.6368 535.885 43.8567 535.885 L64.0042 535.885 L64.0042 541.773 L28.3562 541.773 L28.3562 535.885 L33.8944 535.885 Q30.6797 533.784 29.0883 530.952 Q27.4968 528.087 27.4968 524.363 Q27.4968 518.22 31.3163 515.069 Q35.1038 511.918 42.4881 511.918 Z\" fill=\"#000000\" fill-rule=\"evenodd\" fill-opacity=\"1\" /><path clip-path=\"url(#clip780)\" d=\"M42.4881 470.605 L64.0042 470.605 L64.0042 476.461 L42.679 476.461 Q37.6183 476.461 35.1038 478.435 Q32.5894 480.408 32.5894 484.355 Q32.5894 489.097 35.6131 491.834 Q38.6368 494.572 43.8567 494.572 L64.0042 494.572 L64.0042 500.46 L14.479 500.46 L14.479 494.572 L33.8944 494.572 Q30.6797 492.471 29.0883 489.638 Q27.4968 486.774 27.4968 483.05 Q27.4968 476.907 31.3163 473.756 Q35.1038 470.605 42.4881 470.605 Z\" fill=\"#000000\" fill-rule=\"evenodd\" fill-opacity=\"1\" /><path clip-path=\"url(#clip780)\" d=\"M44.7161 428.432 L47.5806 428.432 L47.5806 455.359 Q53.6281 454.977 56.8109 451.73 Q59.9619 448.452 59.9619 442.628 Q59.9619 439.254 59.1344 436.103 Q58.3069 432.92 56.6518 429.801 L62.1899 429.801 Q63.5267 432.952 64.227 436.262 Q64.9272 439.572 64.9272 442.978 Q64.9272 451.508 59.9619 456.505 Q54.9967 461.47 46.5303 461.47 Q37.7774 461.47 32.6531 456.759 Q27.4968 452.017 27.4968 443.996 Q27.4968 436.803 32.1438 432.633 Q36.7589 428.432 44.7161 428.432 M42.9973 434.288 Q38.1912 434.352 35.3266 436.994 Q32.4621 439.604 32.4621 443.932 Q32.4621 448.834 35.2312 451.794 Q38.0002 454.722 43.0292 455.168 L42.9973 434.288 Z\" fill=\"#000000\" fill-rule=\"evenodd\" fill-opacity=\"1\" /><path clip-path=\"url(#clip780)\" d=\"M28.3562 418.82 L28.3562 412.963 L64.0042 412.963 L64.0042 418.82 L28.3562 418.82 M14.479 418.82 L14.479 412.963 L21.895 412.963 L21.895 418.82 L14.479 418.82 Z\" fill=\"#000000\" fill-rule=\"evenodd\" fill-opacity=\"1\" /><path clip-path=\"url(#clip780)\" d=\"M18.2347 394.917 L28.3562 394.917 L28.3562 382.854 L32.9077 382.854 L32.9077 394.917 L52.2594 394.917 Q56.6199 394.917 57.8613 393.739 Q59.1026 392.529 59.1026 388.869 L59.1026 382.854 L64.0042 382.854 L64.0042 388.869 Q64.0042 395.649 61.4897 398.227 Q58.9434 400.805 52.2594 400.805 L32.9077 400.805 L32.9077 405.102 L28.3562 405.102 L28.3562 400.805 L18.2347 400.805 L18.2347 394.917 Z\" fill=\"#000000\" fill-rule=\"evenodd\" fill-opacity=\"1\" /><path clip-path=\"url(#clip780)\" d=\"M14.5426 376.074 L14.5426 370.981 Q22.0542 366.207 29.2474 363.852 Q36.4406 361.465 43.5384 361.465 Q50.668 361.465 57.8931 363.852 Q65.1182 366.207 72.5979 370.981 L72.5979 376.074 Q65.3091 371.841 58.1159 369.772 Q50.8908 367.671 43.5384 367.671 Q36.186 367.671 29.0246 369.772 Q21.8632 371.841 14.5426 376.074 Z\" fill=\"#000000\" fill-rule=\"evenodd\" fill-opacity=\"1\" /><path clip-path=\"url(#clip780)\" d=\"M44.2518 12.096 L52.4346 12.096 L52.4346 68.3631 Q52.4346 79.3005 48.2622 84.2426 Q44.1302 89.1847 34.9347 89.1847 L31.8155 89.1847 L31.8155 82.2982 L34.3676 82.2982 Q39.7958 82.2982 42.0238 79.26 Q44.2518 76.2218 44.2518 68.3631 L44.2518 12.096 Z\" fill=\"#000000\" fill-rule=\"evenodd\" fill-opacity=\"1\" /><path clip-path=\"url(#clip780)\" d=\"M89.0143 49.7694 Q79.9807 49.7694 76.497 51.8354 Q73.0132 53.9013 73.0132 58.8839 Q73.0132 62.8538 75.6058 65.2034 Q78.2389 67.5124 82.7354 67.5124 Q88.9332 67.5124 92.6601 63.1374 Q96.4274 58.7219 96.4274 51.4303 L96.4274 49.7694 L89.0143 49.7694 M103.881 46.6907 L103.881 72.576 L96.4274 72.576 L96.4274 65.6895 Q93.8753 69.8214 90.0675 71.8063 Q86.2596 73.7508 80.7504 73.7508 Q73.7829 73.7508 69.6509 69.8619 Q65.5595 65.9325 65.5595 59.3701 Q65.5595 51.7138 70.6637 47.825 Q75.8083 43.9361 85.9761 43.9361 L96.4274 43.9361 L96.4274 43.2069 Q96.4274 38.0623 93.0247 35.2672 Q89.6624 32.4315 83.5455 32.4315 Q79.6567 32.4315 75.9703 33.3632 Q72.284 34.295 68.8813 36.1584 L68.8813 29.2718 Q72.9727 27.692 76.821 26.9223 Q80.6694 26.1121 84.3152 26.1121 Q94.1589 26.1121 99.02 31.2163 Q103.881 36.3204 103.881 46.6907 Z\" fill=\"#000000\" fill-rule=\"evenodd\" fill-opacity=\"1\" /><path clip-path=\"url(#clip780)\" d=\"M156.948 45.1919 L156.948 72.576 L149.494 72.576 L149.494 45.4349 Q149.494 38.994 146.983 35.7938 Q144.471 32.5936 139.448 32.5936 Q133.412 32.5936 129.928 36.4419 Q126.445 40.2903 126.445 46.9338 L126.445 72.576 L118.95 72.576 L118.95 27.2059 L126.445 27.2059 L126.445 34.2544 Q129.118 30.163 132.724 28.1376 Q136.369 26.1121 141.109 26.1121 Q148.927 26.1121 152.938 30.9732 Q156.948 35.7938 156.948 45.1919 Z\" fill=\"#000000\" fill-rule=\"evenodd\" fill-opacity=\"1\" /><path clip-path=\"url(#clip780)\" d=\"M218.724 20.1573 L207.625 50.2555 L229.864 50.2555 L218.724 20.1573 M214.106 12.096 L223.383 12.096 L246.432 72.576 L237.925 72.576 L232.416 57.061 L205.154 57.061 L199.644 72.576 L191.016 72.576 L214.106 12.096 Z\" fill=\"#000000\" fill-rule=\"evenodd\" fill-opacity=\"1\" /><path clip-path=\"url(#clip780)\" d=\"M244.731 27.2059 L252.63 27.2059 L266.808 65.2844 L280.987 27.2059 L288.886 27.2059 L271.872 72.576 L261.745 72.576 L244.731 27.2059 Z\" fill=\"#000000\" fill-rule=\"evenodd\" fill-opacity=\"1\" /><path clip-path=\"url(#clip780)\" d=\"M337.983 48.0275 L337.983 51.6733 L303.712 51.6733 Q304.198 59.3701 308.33 63.421 Q312.503 67.4314 319.916 67.4314 Q324.21 67.4314 328.22 66.3781 Q332.271 65.3249 336.241 63.2184 L336.241 70.267 Q332.231 71.9684 328.018 72.8596 Q323.805 73.7508 319.47 73.7508 Q308.614 73.7508 302.254 67.4314 Q295.934 61.1119 295.934 50.3365 Q295.934 39.1965 301.93 32.6746 Q307.966 26.1121 318.174 26.1121 Q327.329 26.1121 332.636 32.0264 Q337.983 37.9003 337.983 48.0275 M330.529 45.84 Q330.448 39.7232 327.086 36.0774 Q323.764 32.4315 318.255 32.4315 Q312.017 32.4315 308.249 35.9558 Q304.522 39.4801 303.955 45.8805 L330.529 45.84 Z\" fill=\"#000000\" fill-rule=\"evenodd\" fill-opacity=\"1\" /><path clip-path=\"url(#clip780)\" d=\"M376.507 34.1734 Q375.251 33.4443 373.752 33.1202 Q372.294 32.7556 370.512 32.7556 Q364.192 32.7556 360.789 36.8875 Q357.427 40.9789 357.427 48.6757 L357.427 72.576 L349.933 72.576 L349.933 27.2059 L357.427 27.2059 L357.427 34.2544 Q359.777 30.1225 363.544 28.1376 Q367.311 26.1121 372.699 26.1121 Q373.469 26.1121 374.4 26.2337 Q375.332 26.3147 376.466 26.5172 L376.507 34.1734 Z\" fill=\"#000000\" fill-rule=\"evenodd\" fill-opacity=\"1\" /><path clip-path=\"url(#clip780)\" d=\"M404.944 49.7694 Q395.911 49.7694 392.427 51.8354 Q388.943 53.9013 388.943 58.8839 Q388.943 62.8538 391.536 65.2034 Q394.169 67.5124 398.665 67.5124 Q404.863 67.5124 408.59 63.1374 Q412.357 58.7219 412.357 51.4303 L412.357 49.7694 L404.944 49.7694 M419.811 46.6907 L419.811 72.576 L412.357 72.576 L412.357 65.6895 Q409.805 69.8214 405.998 71.8063 Q402.19 73.7508 396.68 73.7508 Q389.713 73.7508 385.581 69.8619 Q381.49 65.9325 381.49 59.3701 Q381.49 51.7138 386.594 47.825 Q391.738 43.9361 401.906 43.9361 L412.357 43.9361 L412.357 43.2069 Q412.357 38.0623 408.955 35.2672 Q405.592 32.4315 399.476 32.4315 Q395.587 32.4315 391.9 33.3632 Q388.214 34.295 384.811 36.1584 L384.811 29.2718 Q388.903 27.692 392.751 26.9223 Q396.599 26.1121 400.245 26.1121 Q410.089 26.1121 414.95 31.2163 Q419.811 36.3204 419.811 46.6907 Z\" fill=\"#000000\" fill-rule=\"evenodd\" fill-opacity=\"1\" /><path clip-path=\"url(#clip780)\" d=\"M465.019 49.3643 Q465.019 41.2625 461.657 36.8065 Q458.335 32.3505 452.299 32.3505 Q446.304 32.3505 442.942 36.8065 Q439.62 41.2625 439.62 49.3643 Q439.62 57.4256 442.942 61.8816 Q446.304 66.3376 452.299 66.3376 Q458.335 66.3376 461.657 61.8816 Q465.019 57.4256 465.019 49.3643 M472.473 66.9452 Q472.473 78.5308 467.328 84.1616 Q462.184 89.8329 451.57 89.8329 Q447.641 89.8329 444.157 89.2252 Q440.673 88.6581 437.392 87.4428 L437.392 80.1917 Q440.673 81.9741 443.873 82.8248 Q447.074 83.6755 450.395 83.6755 Q457.728 83.6755 461.373 79.8271 Q465.019 76.0193 465.019 68.282 L465.019 64.5957 Q462.71 68.6061 459.105 70.5911 Q455.5 72.576 450.476 72.576 Q442.132 72.576 437.027 66.2161 Q431.923 59.8562 431.923 49.3643 Q431.923 38.832 437.027 32.472 Q442.132 26.1121 450.476 26.1121 Q455.5 26.1121 459.105 28.0971 Q462.71 30.082 465.019 34.0924 L465.019 27.2059 L472.473 27.2059 L472.473 66.9452 Z\" fill=\"#000000\" fill-rule=\"evenodd\" fill-opacity=\"1\" /><path clip-path=\"url(#clip780)\" d=\"M526.633 48.0275 L526.633 51.6733 L492.363 51.6733 Q492.849 59.3701 496.981 63.421 Q501.153 67.4314 508.566 67.4314 Q512.86 67.4314 516.871 66.3781 Q520.922 65.3249 524.892 63.2184 L524.892 70.267 Q520.881 71.9684 516.668 72.8596 Q512.455 73.7508 508.121 73.7508 Q497.264 73.7508 490.904 67.4314 Q484.585 61.1119 484.585 50.3365 Q484.585 39.1965 490.58 32.6746 Q496.616 26.1121 506.825 26.1121 Q515.98 26.1121 521.286 32.0264 Q526.633 37.9003 526.633 48.0275 M519.18 45.84 Q519.099 39.7232 515.737 36.0774 Q512.415 32.4315 506.906 32.4315 Q500.667 32.4315 496.9 35.9558 Q493.173 39.4801 492.606 45.8805 L519.18 45.84 Z\" fill=\"#000000\" fill-rule=\"evenodd\" fill-opacity=\"1\" /><path clip-path=\"url(#clip780)\" d=\"M600.562 35.9153 Q603.358 30.8922 607.246 28.5022 Q611.135 26.1121 616.401 26.1121 Q623.491 26.1121 627.339 31.0947 Q631.187 36.0368 631.187 45.1919 L631.187 72.576 L623.693 72.576 L623.693 45.4349 Q623.693 38.913 621.384 35.7533 Q619.075 32.5936 614.336 32.5936 Q608.543 32.5936 605.18 36.4419 Q601.818 40.2903 601.818 46.9338 L601.818 72.576 L594.324 72.576 L594.324 45.4349 Q594.324 38.8725 592.015 35.7533 Q589.706 32.5936 584.885 32.5936 Q579.174 32.5936 575.811 36.4824 Q572.449 40.3308 572.449 46.9338 L572.449 72.576 L564.955 72.576 L564.955 27.2059 L572.449 27.2059 L572.449 34.2544 Q575.001 30.082 578.566 28.0971 Q582.131 26.1121 587.032 26.1121 Q591.975 26.1121 595.418 28.6237 Q598.902 31.1352 600.562 35.9153 Z\" fill=\"#000000\" fill-rule=\"evenodd\" fill-opacity=\"1\" /><path clip-path=\"url(#clip780)\" d=\"M646.054 27.2059 L653.508 27.2059 L653.508 72.576 L646.054 72.576 L646.054 27.2059 M646.054 9.54393 L653.508 9.54393 L653.508 18.9825 L646.054 18.9825 L646.054 9.54393 Z\" fill=\"#000000\" fill-rule=\"evenodd\" fill-opacity=\"1\" /><path clip-path=\"url(#clip780)\" d=\"M706.818 45.1919 L706.818 72.576 L699.364 72.576 L699.364 45.4349 Q699.364 38.994 696.852 35.7938 Q694.341 32.5936 689.318 32.5936 Q683.282 32.5936 679.798 36.4419 Q676.314 40.2903 676.314 46.9338 L676.314 72.576 L668.82 72.576 L668.82 27.2059 L676.314 27.2059 L676.314 34.2544 Q678.988 30.163 682.593 28.1376 Q686.239 26.1121 690.979 26.1121 Q698.797 26.1121 702.807 30.9732 Q706.818 35.7938 706.818 45.1919 Z\" fill=\"#000000\" fill-rule=\"evenodd\" fill-opacity=\"1\" /><path clip-path=\"url(#clip780)\" d=\"M755.429 14.324 L755.429 27.2059 L770.781 27.2059 L770.781 32.9987 L755.429 32.9987 L755.429 57.6282 Q755.429 63.1779 756.927 64.7578 Q758.467 66.3376 763.125 66.3376 L770.781 66.3376 L770.781 72.576 L763.125 72.576 Q754.497 72.576 751.216 69.3758 Q747.934 66.1351 747.934 57.6282 L747.934 32.9987 L742.466 32.9987 L742.466 27.2059 L747.934 27.2059 L747.934 14.324 L755.429 14.324 Z\" fill=\"#000000\" fill-rule=\"evenodd\" fill-opacity=\"1\" /><path clip-path=\"url(#clip780)\" d=\"M819.392 48.0275 L819.392 51.6733 L785.122 51.6733 Q785.608 59.3701 789.74 63.421 Q793.912 67.4314 801.325 67.4314 Q805.619 67.4314 809.63 66.3781 Q813.681 65.3249 817.65 63.2184 L817.65 70.267 Q813.64 71.9684 809.427 72.8596 Q805.214 73.7508 800.88 73.7508 Q790.023 73.7508 783.663 67.4314 Q777.344 61.1119 777.344 50.3365 Q777.344 39.1965 783.339 32.6746 Q789.375 26.1121 799.583 26.1121 Q808.738 26.1121 814.045 32.0264 Q819.392 37.9003 819.392 48.0275 M811.939 45.84 Q811.858 39.7232 808.495 36.0774 Q805.174 32.4315 799.664 32.4315 Q793.426 32.4315 789.659 35.9558 Q785.932 39.4801 785.365 45.8805 L811.939 45.84 Z\" fill=\"#000000\" fill-rule=\"evenodd\" fill-opacity=\"1\" /><path clip-path=\"url(#clip780)\" d=\"M866.95 35.9153 Q869.745 30.8922 873.634 28.5022 Q877.523 26.1121 882.789 26.1121 Q889.878 26.1121 893.726 31.0947 Q897.575 36.0368 897.575 45.1919 L897.575 72.576 L890.081 72.576 L890.081 45.4349 Q890.081 38.913 887.772 35.7533 Q885.463 32.5936 880.723 32.5936 Q874.93 32.5936 871.568 36.4419 Q868.206 40.2903 868.206 46.9338 L868.206 72.576 L860.712 72.576 L860.712 45.4349 Q860.712 38.8725 858.402 35.7533 Q856.093 32.5936 851.273 32.5936 Q845.561 32.5936 842.199 36.4824 Q838.837 40.3308 838.837 46.9338 L838.837 72.576 L831.342 72.576 L831.342 27.2059 L838.837 27.2059 L838.837 34.2544 Q841.389 30.082 844.953 28.0971 Q848.518 26.1121 853.42 26.1121 Q858.362 26.1121 861.805 28.6237 Q865.289 31.1352 866.95 35.9153 Z\" fill=\"#000000\" fill-rule=\"evenodd\" fill-opacity=\"1\" /><path clip-path=\"url(#clip780)\" d=\"M919.652 65.7705 L919.652 89.8329 L912.158 89.8329 L912.158 27.2059 L919.652 27.2059 L919.652 34.0924 Q922.002 30.0415 925.566 28.0971 Q929.172 26.1121 934.154 26.1121 Q942.418 26.1121 947.563 32.6746 Q952.748 39.2371 952.748 49.9314 Q952.748 60.6258 947.563 67.1883 Q942.418 73.7508 934.154 73.7508 Q929.172 73.7508 925.566 71.8063 Q922.002 69.8214 919.652 65.7705 M945.011 49.9314 Q945.011 41.7081 941.608 37.0496 Q938.246 32.3505 932.332 32.3505 Q926.417 32.3505 923.014 37.0496 Q919.652 41.7081 919.652 49.9314 Q919.652 58.1548 923.014 62.8538 Q926.417 67.5124 932.332 67.5124 Q938.246 67.5124 941.608 62.8538 Q945.011 58.1548 945.011 49.9314 Z\" fill=\"#000000\" fill-rule=\"evenodd\" fill-opacity=\"1\" /><path clip-path=\"url(#clip780)\" d=\"M993.946 65.6895 L1007.31 65.6895 L1007.31 19.5497 L992.771 22.4663 L992.771 15.0127 L1007.23 12.096 L1015.42 12.096 L1015.42 65.6895 L1028.78 65.6895 L1028.78 72.576 L993.946 72.576 L993.946 65.6895 Z\" fill=\"#000000\" fill-rule=\"evenodd\" fill-opacity=\"1\" /><path clip-path=\"url(#clip780)\" d=\"M1045.55 71.3202 L1045.55 63.8666 Q1048.63 65.3249 1051.79 66.0946 Q1054.95 66.8642 1057.99 66.8642 Q1066.09 66.8642 1070.35 61.436 Q1074.64 55.9673 1075.25 44.8678 Q1072.9 48.3516 1069.29 50.215 Q1065.69 52.0784 1061.31 52.0784 Q1052.24 52.0784 1046.93 46.6097 Q1041.67 41.1005 1041.67 31.5808 Q1041.67 22.2638 1047.17 16.633 Q1052.68 11.0023 1061.84 11.0023 Q1072.33 11.0023 1077.84 19.0636 Q1083.39 27.0843 1083.39 42.3968 Q1083.39 56.6965 1076.58 65.2439 Q1069.82 73.7508 1058.36 73.7508 Q1055.28 73.7508 1052.12 73.1431 Q1048.96 72.5355 1045.55 71.3202 M1061.84 45.678 Q1067.35 45.678 1070.55 41.9107 Q1073.79 38.1433 1073.79 31.5808 Q1073.79 25.0589 1070.55 21.2916 Q1067.35 17.4837 1061.84 17.4837 Q1056.33 17.4837 1053.09 21.2916 Q1049.89 25.0589 1049.89 31.5808 Q1049.89 38.1433 1053.09 41.9107 Q1056.33 45.678 1061.84 45.678 Z\" fill=\"#000000\" fill-rule=\"evenodd\" fill-opacity=\"1\" /><path clip-path=\"url(#clip780)\" d=\"M1105.14 65.6895 L1133.7 65.6895 L1133.7 72.576 L1095.3 72.576 L1095.3 65.6895 Q1099.96 60.8689 1107.98 52.7671 Q1116.04 44.6248 1118.11 42.2752 Q1122.04 37.8598 1123.57 34.8216 Q1125.15 31.7429 1125.15 28.7857 Q1125.15 23.9651 1121.75 20.927 Q1118.39 17.8888 1112.96 17.8888 Q1109.11 17.8888 1104.82 19.2256 Q1100.57 20.5624 1095.7 23.2765 L1095.7 15.0127 Q1100.65 13.0277 1104.94 12.015 Q1109.23 11.0023 1112.8 11.0023 Q1122.2 11.0023 1127.79 15.7013 Q1133.38 20.4004 1133.38 28.2591 Q1133.38 31.9859 1131.96 35.3482 Q1130.58 38.6699 1126.9 43.2069 Q1125.88 44.3817 1120.46 50.0125 Q1115.03 55.6027 1105.14 65.6895 Z\" fill=\"#000000\" fill-rule=\"evenodd\" fill-opacity=\"1\" /><path clip-path=\"url(#clip780)\" d=\"M1157.93 65.6895 L1186.49 65.6895 L1186.49 72.576 L1148.08 72.576 L1148.08 65.6895 Q1152.74 60.8689 1160.76 52.7671 Q1168.82 44.6248 1170.89 42.2752 Q1174.82 37.8598 1176.36 34.8216 Q1177.94 31.7429 1177.94 28.7857 Q1177.94 23.9651 1174.54 20.927 Q1171.17 17.8888 1165.74 17.8888 Q1161.9 17.8888 1157.6 19.2256 Q1153.35 20.5624 1148.49 23.2765 L1148.49 15.0127 Q1153.43 13.0277 1157.72 12.015 Q1162.02 11.0023 1165.58 11.0023 Q1174.98 11.0023 1180.57 15.7013 Q1186.16 20.4004 1186.16 28.2591 Q1186.16 31.9859 1184.74 35.3482 Q1183.37 38.6699 1179.68 43.2069 Q1178.67 44.3817 1173.24 50.0125 Q1167.81 55.6027 1157.93 65.6895 Z\" fill=\"#000000\" fill-rule=\"evenodd\" fill-opacity=\"1\" /><path clip-path=\"url(#clip780)\" d=\"M1223.63 27.2059 L1231.53 27.2059 L1245.71 65.2844 L1259.89 27.2059 L1267.79 27.2059 L1250.77 72.576 L1240.65 72.576 L1223.63 27.2059 Z\" fill=\"#000000\" fill-rule=\"evenodd\" fill-opacity=\"1\" /><path clip-path=\"url(#clip780)\" d=\"M1307 28.5427 L1307 35.5912 Q1303.84 33.9709 1300.44 33.1607 Q1297.03 32.3505 1293.39 32.3505 Q1287.84 32.3505 1285.04 34.0519 Q1282.29 35.7533 1282.29 39.156 Q1282.29 41.7486 1284.27 43.2475 Q1286.26 44.7058 1292.25 46.0426 L1294.81 46.6097 Q1302.75 48.3111 1306.07 51.4303 Q1309.43 54.509 1309.43 60.0587 Q1309.43 66.3781 1304.41 70.0644 Q1299.42 73.7508 1290.67 73.7508 Q1287.03 73.7508 1283.06 73.0216 Q1279.13 72.3329 1274.75 70.9151 L1274.75 63.2184 Q1278.89 65.3654 1282.9 66.4591 Q1286.91 67.5124 1290.84 67.5124 Q1296.1 67.5124 1298.94 65.73 Q1301.77 63.9071 1301.77 60.6258 Q1301.77 57.5877 1299.71 55.9673 Q1297.68 54.3469 1290.76 52.8481 L1288.16 52.2405 Q1281.24 50.7821 1278.16 47.7845 Q1275.08 44.7463 1275.08 39.4801 Q1275.08 33.0797 1279.62 29.5959 Q1284.15 26.1121 1292.5 26.1121 Q1296.63 26.1121 1300.28 26.7198 Q1303.92 27.3274 1307 28.5427 Z\" fill=\"#000000\" fill-rule=\"evenodd\" fill-opacity=\"1\" /><path clip-path=\"url(#clip780)\" d=\"M1347.99 12.096 L1356.18 12.096 L1356.18 68.3631 Q1356.18 79.3005 1352.01 84.2426 Q1347.87 89.1847 1338.68 89.1847 L1335.56 89.1847 L1335.56 82.2982 L1338.11 82.2982 Q1343.54 82.2982 1345.77 79.26 Q1347.99 76.2218 1347.99 68.3631 L1347.99 12.096 Z\" fill=\"#000000\" fill-rule=\"evenodd\" fill-opacity=\"1\" /><path clip-path=\"url(#clip780)\" d=\"M1392.76 49.7694 Q1383.72 49.7694 1380.24 51.8354 Q1376.76 53.9013 1376.76 58.8839 Q1376.76 62.8538 1379.35 65.2034 Q1381.98 67.5124 1386.48 67.5124 Q1392.68 67.5124 1396.4 63.1374 Q1400.17 58.7219 1400.17 51.4303 L1400.17 49.7694 L1392.76 49.7694 M1407.62 46.6907 L1407.62 72.576 L1400.17 72.576 L1400.17 65.6895 Q1397.62 69.8214 1393.81 71.8063 Q1390 73.7508 1384.49 73.7508 Q1377.53 73.7508 1373.39 69.8619 Q1369.3 65.9325 1369.3 59.3701 Q1369.3 51.7138 1374.41 47.825 Q1379.55 43.9361 1389.72 43.9361 L1400.17 43.9361 L1400.17 43.2069 Q1400.17 38.0623 1396.77 35.2672 Q1393.41 32.4315 1387.29 32.4315 Q1383.4 32.4315 1379.71 33.3632 Q1376.03 34.295 1372.62 36.1584 L1372.62 29.2718 Q1376.72 27.692 1380.56 26.9223 Q1384.41 26.1121 1388.06 26.1121 Q1397.9 26.1121 1402.76 31.2163 Q1407.62 36.3204 1407.62 46.6907 Z\" fill=\"#000000\" fill-rule=\"evenodd\" fill-opacity=\"1\" /><path clip-path=\"url(#clip780)\" d=\"M1460.69 45.1919 L1460.69 72.576 L1453.24 72.576 L1453.24 45.4349 Q1453.24 38.994 1450.73 35.7938 Q1448.21 32.5936 1443.19 32.5936 Q1437.16 32.5936 1433.67 36.4419 Q1430.19 40.2903 1430.19 46.9338 L1430.19 72.576 L1422.69 72.576 L1422.69 27.2059 L1430.19 27.2059 L1430.19 34.2544 Q1432.86 30.163 1436.47 28.1376 Q1440.11 26.1121 1444.85 26.1121 Q1452.67 26.1121 1456.68 30.9732 Q1460.69 35.7938 1460.69 45.1919 Z\" fill=\"#000000\" fill-rule=\"evenodd\" fill-opacity=\"1\" /><path clip-path=\"url(#clip780)\" d=\"M1522.47 20.1573 L1511.37 50.2555 L1533.61 50.2555 L1522.47 20.1573 M1517.85 12.096 L1527.13 12.096 L1550.18 72.576 L1541.67 72.576 L1536.16 57.061 L1508.9 57.061 L1503.39 72.576 L1494.76 72.576 L1517.85 12.096 Z\" fill=\"#000000\" fill-rule=\"evenodd\" fill-opacity=\"1\" /><path clip-path=\"url(#clip780)\" d=\"M1548.47 27.2059 L1556.37 27.2059 L1570.55 65.2844 L1584.73 27.2059 L1592.63 27.2059 L1575.62 72.576 L1565.49 72.576 L1548.47 27.2059 Z\" fill=\"#000000\" fill-rule=\"evenodd\" fill-opacity=\"1\" /><path clip-path=\"url(#clip780)\" d=\"M1641.73 48.0275 L1641.73 51.6733 L1607.46 51.6733 Q1607.94 59.3701 1612.07 63.421 Q1616.25 67.4314 1623.66 67.4314 Q1627.95 67.4314 1631.96 66.3781 Q1636.01 65.3249 1639.98 63.2184 L1639.98 70.267 Q1635.97 71.9684 1631.76 72.8596 Q1627.55 73.7508 1623.21 73.7508 Q1612.36 73.7508 1606 67.4314 Q1599.68 61.1119 1599.68 50.3365 Q1599.68 39.1965 1605.67 32.6746 Q1611.71 26.1121 1621.92 26.1121 Q1631.07 26.1121 1636.38 32.0264 Q1641.73 37.9003 1641.73 48.0275 M1634.27 45.84 Q1634.19 39.7232 1630.83 36.0774 Q1627.51 32.4315 1622 32.4315 Q1615.76 32.4315 1611.99 35.9558 Q1608.27 39.4801 1607.7 45.8805 L1634.27 45.84 Z\" fill=\"#000000\" fill-rule=\"evenodd\" fill-opacity=\"1\" /><path clip-path=\"url(#clip780)\" d=\"M1680.25 34.1734 Q1678.99 33.4443 1677.5 33.1202 Q1676.04 32.7556 1674.25 32.7556 Q1667.94 32.7556 1664.53 36.8875 Q1661.17 40.9789 1661.17 48.6757 L1661.17 72.576 L1653.68 72.576 L1653.68 27.2059 L1661.17 27.2059 L1661.17 34.2544 Q1663.52 30.1225 1667.29 28.1376 Q1671.05 26.1121 1676.44 26.1121 Q1677.21 26.1121 1678.14 26.2337 Q1679.08 26.3147 1680.21 26.5172 L1680.25 34.1734 Z\" fill=\"#000000\" fill-rule=\"evenodd\" fill-opacity=\"1\" /><path clip-path=\"url(#clip780)\" d=\"M1708.69 49.7694 Q1699.65 49.7694 1696.17 51.8354 Q1692.69 53.9013 1692.69 58.8839 Q1692.69 62.8538 1695.28 65.2034 Q1697.91 67.5124 1702.41 67.5124 Q1708.61 67.5124 1712.33 63.1374 Q1716.1 58.7219 1716.1 51.4303 L1716.1 49.7694 L1708.69 49.7694 M1723.55 46.6907 L1723.55 72.576 L1716.1 72.576 L1716.1 65.6895 Q1713.55 69.8214 1709.74 71.8063 Q1705.93 73.7508 1700.42 73.7508 Q1693.46 73.7508 1689.32 69.8619 Q1685.23 65.9325 1685.23 59.3701 Q1685.23 51.7138 1690.34 47.825 Q1695.48 43.9361 1705.65 43.9361 L1716.1 43.9361 L1716.1 43.2069 Q1716.1 38.0623 1712.7 35.2672 Q1709.34 32.4315 1703.22 32.4315 Q1699.33 32.4315 1695.64 33.3632 Q1691.96 34.295 1688.55 36.1584 L1688.55 29.2718 Q1692.65 27.692 1696.49 26.9223 Q1700.34 26.1121 1703.99 26.1121 Q1713.83 26.1121 1718.69 31.2163 Q1723.55 36.3204 1723.55 46.6907 Z\" fill=\"#000000\" fill-rule=\"evenodd\" fill-opacity=\"1\" /><path clip-path=\"url(#clip780)\" d=\"M1768.76 49.3643 Q1768.76 41.2625 1765.4 36.8065 Q1762.08 32.3505 1756.04 32.3505 Q1750.05 32.3505 1746.68 36.8065 Q1743.36 41.2625 1743.36 49.3643 Q1743.36 57.4256 1746.68 61.8816 Q1750.05 66.3376 1756.04 66.3376 Q1762.08 66.3376 1765.4 61.8816 Q1768.76 57.4256 1768.76 49.3643 M1776.22 66.9452 Q1776.22 78.5308 1771.07 84.1616 Q1765.93 89.8329 1755.31 89.8329 Q1751.38 89.8329 1747.9 89.2252 Q1744.42 88.6581 1741.14 87.4428 L1741.14 80.1917 Q1744.42 81.9741 1747.62 82.8248 Q1750.82 83.6755 1754.14 83.6755 Q1761.47 83.6755 1765.12 79.8271 Q1768.76 76.0193 1768.76 68.282 L1768.76 64.5957 Q1766.45 68.6061 1762.85 70.5911 Q1759.24 72.576 1754.22 72.576 Q1745.87 72.576 1740.77 66.2161 Q1735.67 59.8562 1735.67 49.3643 Q1735.67 38.832 1740.77 32.472 Q1745.87 26.1121 1754.22 26.1121 Q1759.24 26.1121 1762.85 28.0971 Q1766.45 30.082 1768.76 34.0924 L1768.76 27.2059 L1776.22 27.2059 L1776.22 66.9452 Z\" fill=\"#000000\" fill-rule=\"evenodd\" fill-opacity=\"1\" /><path clip-path=\"url(#clip780)\" d=\"M1830.38 48.0275 L1830.38 51.6733 L1796.11 51.6733 Q1796.59 59.3701 1800.72 63.421 Q1804.9 67.4314 1812.31 67.4314 Q1816.6 67.4314 1820.61 66.3781 Q1824.66 65.3249 1828.63 63.2184 L1828.63 70.267 Q1824.62 71.9684 1820.41 72.8596 Q1816.2 73.7508 1811.86 73.7508 Q1801.01 73.7508 1794.65 67.4314 Q1788.33 61.1119 1788.33 50.3365 Q1788.33 39.1965 1794.32 32.6746 Q1800.36 26.1121 1810.57 26.1121 Q1819.72 26.1121 1825.03 32.0264 Q1830.38 37.9003 1830.38 48.0275 M1822.92 45.84 Q1822.84 39.7232 1819.48 36.0774 Q1816.16 32.4315 1810.65 32.4315 Q1804.41 32.4315 1800.64 35.9558 Q1796.92 39.4801 1796.35 45.8805 L1822.92 45.84 Z\" fill=\"#000000\" fill-rule=\"evenodd\" fill-opacity=\"1\" /><path clip-path=\"url(#clip780)\" d=\"M1904.31 35.9153 Q1907.1 30.8922 1910.99 28.5022 Q1914.88 26.1121 1920.14 26.1121 Q1927.23 26.1121 1931.08 31.0947 Q1934.93 36.0368 1934.93 45.1919 L1934.93 72.576 L1927.44 72.576 L1927.44 45.4349 Q1927.44 38.913 1925.13 35.7533 Q1922.82 32.5936 1918.08 32.5936 Q1912.29 32.5936 1908.92 36.4419 Q1905.56 40.2903 1905.56 46.9338 L1905.56 72.576 L1898.07 72.576 L1898.07 45.4349 Q1898.07 38.8725 1895.76 35.7533 Q1893.45 32.5936 1888.63 32.5936 Q1882.92 32.5936 1879.55 36.4824 Q1876.19 40.3308 1876.19 46.9338 L1876.19 72.576 L1868.7 72.576 L1868.7 27.2059 L1876.19 27.2059 L1876.19 34.2544 Q1878.74 30.082 1882.31 28.0971 Q1885.87 26.1121 1890.78 26.1121 Q1895.72 26.1121 1899.16 28.6237 Q1902.64 31.1352 1904.31 35.9153 Z\" fill=\"#000000\" fill-rule=\"evenodd\" fill-opacity=\"1\" /><path clip-path=\"url(#clip780)\" d=\"M1949.8 27.2059 L1957.25 27.2059 L1957.25 72.576 L1949.8 72.576 L1949.8 27.2059 M1949.8 9.54393 L1957.25 9.54393 L1957.25 18.9825 L1949.8 18.9825 L1949.8 9.54393 Z\" fill=\"#000000\" fill-rule=\"evenodd\" fill-opacity=\"1\" /><path clip-path=\"url(#clip780)\" d=\"M2010.56 45.1919 L2010.56 72.576 L2003.11 72.576 L2003.11 45.4349 Q2003.11 38.994 2000.6 35.7938 Q1998.08 32.5936 1993.06 32.5936 Q1987.02 32.5936 1983.54 36.4419 Q1980.06 40.2903 1980.06 46.9338 L1980.06 72.576 L1972.56 72.576 L1972.56 27.2059 L1980.06 27.2059 L1980.06 34.2544 Q1982.73 30.163 1986.34 28.1376 Q1989.98 26.1121 1994.72 26.1121 Q2002.54 26.1121 2006.55 30.9732 Q2010.56 35.7938 2010.56 45.1919 Z\" fill=\"#000000\" fill-rule=\"evenodd\" fill-opacity=\"1\" /><path clip-path=\"url(#clip780)\" d=\"M2059.17 14.324 L2059.17 27.2059 L2074.52 27.2059 L2074.52 32.9987 L2059.17 32.9987 L2059.17 57.6282 Q2059.17 63.1779 2060.67 64.7578 Q2062.21 66.3376 2066.87 66.3376 L2074.52 66.3376 L2074.52 72.576 L2066.87 72.576 Q2058.24 72.576 2054.96 69.3758 Q2051.68 66.1351 2051.68 57.6282 L2051.68 32.9987 L2046.21 32.9987 L2046.21 27.2059 L2051.68 27.2059 L2051.68 14.324 L2059.17 14.324 Z\" fill=\"#000000\" fill-rule=\"evenodd\" fill-opacity=\"1\" /><path clip-path=\"url(#clip780)\" d=\"M2123.14 48.0275 L2123.14 51.6733 L2088.86 51.6733 Q2089.35 59.3701 2093.48 63.421 Q2097.66 67.4314 2105.07 67.4314 Q2109.36 67.4314 2113.37 66.3781 Q2117.42 65.3249 2121.39 63.2184 L2121.39 70.267 Q2117.38 71.9684 2113.17 72.8596 Q2108.96 73.7508 2104.62 73.7508 Q2093.77 73.7508 2087.41 67.4314 Q2081.09 61.1119 2081.09 50.3365 Q2081.09 39.1965 2087.08 32.6746 Q2093.12 26.1121 2103.33 26.1121 Q2112.48 26.1121 2117.79 32.0264 Q2123.14 37.9003 2123.14 48.0275 M2115.68 45.84 Q2115.6 39.7232 2112.24 36.0774 Q2108.92 32.4315 2103.41 32.4315 Q2097.17 32.4315 2093.4 35.9558 Q2089.67 39.4801 2089.11 45.8805 L2115.68 45.84 Z\" fill=\"#000000\" fill-rule=\"evenodd\" fill-opacity=\"1\" /><path clip-path=\"url(#clip780)\" d=\"M2170.69 35.9153 Q2173.49 30.8922 2177.38 28.5022 Q2181.27 26.1121 2186.53 26.1121 Q2193.62 26.1121 2197.47 31.0947 Q2201.32 36.0368 2201.32 45.1919 L2201.32 72.576 L2193.82 72.576 L2193.82 45.4349 Q2193.82 38.913 2191.51 35.7533 Q2189.21 32.5936 2184.47 32.5936 Q2178.67 32.5936 2175.31 36.4419 Q2171.95 40.2903 2171.95 46.9338 L2171.95 72.576 L2164.45 72.576 L2164.45 45.4349 Q2164.45 38.8725 2162.15 35.7533 Q2159.84 32.5936 2155.02 32.5936 Q2149.3 32.5936 2145.94 36.4824 Q2142.58 40.3308 2142.58 46.9338 L2142.58 72.576 L2135.09 72.576 L2135.09 27.2059 L2142.58 27.2059 L2142.58 34.2544 Q2145.13 30.082 2148.7 28.0971 Q2152.26 26.1121 2157.16 26.1121 Q2162.11 26.1121 2165.55 28.6237 Q2169.03 31.1352 2170.69 35.9153 Z\" fill=\"#000000\" fill-rule=\"evenodd\" fill-opacity=\"1\" /><path clip-path=\"url(#clip780)\" d=\"M2223.4 65.7705 L2223.4 89.8329 L2215.9 89.8329 L2215.9 27.2059 L2223.4 27.2059 L2223.4 34.0924 Q2225.74 30.0415 2229.31 28.0971 Q2232.91 26.1121 2237.9 26.1121 Q2246.16 26.1121 2251.31 32.6746 Q2256.49 39.2371 2256.49 49.9314 Q2256.49 60.6258 2251.31 67.1883 Q2246.16 73.7508 2237.9 73.7508 Q2232.91 73.7508 2229.31 71.8063 Q2225.74 69.8214 2223.4 65.7705 M2248.75 49.9314 Q2248.75 41.7081 2245.35 37.0496 Q2241.99 32.3505 2236.07 32.3505 Q2230.16 32.3505 2226.76 37.0496 Q2223.4 41.7081 2223.4 49.9314 Q2223.4 58.1548 2226.76 62.8538 Q2230.16 67.5124 2236.07 67.5124 Q2241.99 67.5124 2245.35 62.8538 Q2248.75 58.1548 2248.75 49.9314 Z\" fill=\"#000000\" fill-rule=\"evenodd\" fill-opacity=\"1\" /><path clip-path=\"url(#clip780)\" d=\"M2303.32 65.6895 L2331.88 65.6895 L2331.88 72.576 L2293.48 72.576 L2293.48 65.6895 Q2298.13 60.8689 2306.16 52.7671 Q2314.22 44.6248 2316.28 42.2752 Q2320.21 37.8598 2321.75 34.8216 Q2323.33 31.7429 2323.33 28.7857 Q2323.33 23.9651 2319.93 20.927 Q2316.57 17.8888 2311.14 17.8888 Q2307.29 17.8888 2303 19.2256 Q2298.74 20.5624 2293.88 23.2765 L2293.88 15.0127 Q2298.82 13.0277 2303.12 12.015 Q2307.41 11.0023 2310.98 11.0023 Q2320.37 11.0023 2325.96 15.7013 Q2331.55 20.4004 2331.55 28.2591 Q2331.55 31.9859 2330.14 35.3482 Q2328.76 38.6699 2325.07 43.2069 Q2324.06 44.3817 2318.63 50.0125 Q2313.2 55.6027 2303.32 65.6895 Z\" fill=\"#000000\" fill-rule=\"evenodd\" fill-opacity=\"1\" /><path clip-path=\"url(#clip780)\" d=\"M2366.55 17.4837 Q2360.23 17.4837 2357.03 23.7221 Q2353.87 29.92 2353.87 42.3968 Q2353.87 54.833 2357.03 61.0714 Q2360.23 67.2693 2366.55 67.2693 Q2372.91 67.2693 2376.07 61.0714 Q2379.27 54.833 2379.27 42.3968 Q2379.27 29.92 2376.07 23.7221 Q2372.91 17.4837 2366.55 17.4837 M2366.55 11.0023 Q2376.72 11.0023 2382.07 19.0636 Q2387.46 27.0843 2387.46 42.3968 Q2387.46 57.6687 2382.07 65.73 Q2376.72 73.7508 2366.55 73.7508 Q2356.39 73.7508 2351 65.73 Q2345.65 57.6687 2345.65 42.3968 Q2345.65 27.0843 2351 19.0636 Q2356.39 11.0023 2366.55 11.0023 Z\" fill=\"#000000\" fill-rule=\"evenodd\" fill-opacity=\"1\" /><path clip-path=\"url(#clip780)\" d=\"M2403.26 65.6895 L2416.62 65.6895 L2416.62 19.5497 L2402.08 22.4663 L2402.08 15.0127 L2416.54 12.096 L2424.73 12.096 L2424.73 65.6895 L2438.09 65.6895 L2438.09 72.576 L2403.26 72.576 L2403.26 65.6895 Z\" fill=\"#000000\" fill-rule=\"evenodd\" fill-opacity=\"1\" /><path clip-path=\"url(#clip780)\" d=\"M2461.67 65.6895 L2490.23 65.6895 L2490.23 72.576 L2451.83 72.576 L2451.83 65.6895 Q2456.48 60.8689 2464.51 52.7671 Q2472.57 44.6248 2474.63 42.2752 Q2478.56 37.8598 2480.1 34.8216 Q2481.68 31.7429 2481.68 28.7857 Q2481.68 23.9651 2478.28 20.927 Q2474.92 17.8888 2469.49 17.8888 Q2465.64 17.8888 2461.35 19.2256 Q2457.09 20.5624 2452.23 23.2765 L2452.23 15.0127 Q2457.17 13.0277 2461.47 12.015 Q2465.76 11.0023 2469.33 11.0023 Q2478.72 11.0023 2484.31 15.7013 Q2489.9 20.4004 2489.9 28.2591 Q2489.9 31.9859 2488.49 35.3482 Q2487.11 38.6699 2483.42 43.2069 Q2482.41 44.3817 2476.98 50.0125 Q2471.55 55.6027 2461.67 65.6895 Z\" fill=\"#000000\" fill-rule=\"evenodd\" fill-opacity=\"1\" /><polyline clip-path=\"url(#clip782)\" style=\"stroke:#009af9; stroke-linecap:round; stroke-linejoin:round; stroke-width:4; stroke-opacity:1; fill:none\" points=\"\n",
       "  264.778,531.892 467.495,492.765 670.211,491.368 872.927,1284.39 1075.64,820.802 1278.36,782.723 1481.08,630.408 1683.79,681.063 1886.51,792.156 2089.22,160.256 \n",
       "  2291.94,392.153 \n",
       "  \"/>\n",
       "<polyline clip-path=\"url(#clip782)\" style=\"stroke:#e26f46; stroke-linecap:round; stroke-linejoin:round; stroke-width:4; stroke-opacity:1; fill:none\" points=\"\n",
       "  264.778,817.658 467.495,1128.93 670.211,519.141 872.927,372.939 1075.64,474.599 1278.36,1386.4 1481.08,493.813 1683.79,287.349 1886.51,725.43 2089.22,665.343 \n",
       "  2291.94,947.965 \n",
       "  \"/>\n",
       "<path clip-path=\"url(#clip780)\" d=\"\n",
       "M275.59 322.316 L906.879 322.316 L906.879 166.796 L275.59 166.796  Z\n",
       "  \" fill=\"#ffffff\" fill-rule=\"evenodd\" fill-opacity=\"1\"/>\n",
       "<polyline clip-path=\"url(#clip780)\" style=\"stroke:#000000; stroke-linecap:round; stroke-linejoin:round; stroke-width:4; stroke-opacity:1; fill:none\" points=\"\n",
       "  275.59,322.316 906.879,322.316 906.879,166.796 275.59,166.796 275.59,322.316 \n",
       "  \"/>\n",
       "<polyline clip-path=\"url(#clip780)\" style=\"stroke:#009af9; stroke-linecap:round; stroke-linejoin:round; stroke-width:4; stroke-opacity:1; fill:none\" points=\"\n",
       "  299.465,218.636 442.718,218.636 \n",
       "  \"/>\n",
       "<path clip-path=\"url(#clip780)\" d=\"M471.27 205.198 L471.27 232.073 L476.918 232.073 Q484.071 232.073 487.381 228.832 Q490.714 225.592 490.714 218.601 Q490.714 211.657 487.381 208.439 Q484.071 205.198 476.918 205.198 L471.27 205.198 M466.594 201.356 L476.2 201.356 Q486.246 201.356 490.945 205.546 Q495.645 209.712 495.645 218.601 Q495.645 227.536 490.922 231.726 Q486.2 235.916 476.2 235.916 L466.594 235.916 L466.594 201.356 Z\" fill=\"#000000\" fill-rule=\"evenodd\" fill-opacity=\"1\" /><path clip-path=\"url(#clip780)\" d=\"M525.089 221.888 L525.089 223.971 L505.506 223.971 Q505.783 228.369 508.144 230.684 Q510.529 232.976 514.765 232.976 Q517.218 232.976 519.51 232.374 Q521.825 231.772 524.093 230.569 L524.093 234.596 Q521.802 235.568 519.394 236.078 Q516.987 236.587 514.51 236.587 Q508.306 236.587 504.672 232.976 Q501.061 229.365 501.061 223.207 Q501.061 216.842 504.487 213.115 Q507.936 209.365 513.769 209.365 Q519.001 209.365 522.033 212.745 Q525.089 216.101 525.089 221.888 M520.83 220.638 Q520.783 217.143 518.862 215.059 Q516.964 212.976 513.816 212.976 Q510.251 212.976 508.098 214.99 Q505.969 217.004 505.644 220.661 L520.83 220.638 Z\" fill=\"#000000\" fill-rule=\"evenodd\" fill-opacity=\"1\" /><path clip-path=\"url(#clip780)\" d=\"M550.737 210.985 L550.737 214.967 Q548.931 213.971 547.103 213.485 Q545.297 212.976 543.445 212.976 Q539.302 212.976 537.01 215.615 Q534.718 218.231 534.718 222.976 Q534.718 227.721 537.01 230.36 Q539.302 232.976 543.445 232.976 Q545.297 232.976 547.103 232.49 Q548.931 231.981 550.737 230.985 L550.737 234.92 Q548.954 235.754 547.033 236.17 Q545.135 236.587 542.982 236.587 Q537.126 236.587 533.677 232.906 Q530.228 229.226 530.228 222.976 Q530.228 216.633 533.7 212.999 Q537.195 209.365 543.26 209.365 Q545.228 209.365 547.103 209.782 Q548.978 210.175 550.737 210.985 Z\" fill=\"#000000\" fill-rule=\"evenodd\" fill-opacity=\"1\" /><path clip-path=\"url(#clip780)\" d=\"M562.357 202.629 L562.357 209.99 L571.13 209.99 L571.13 213.3 L562.357 213.3 L562.357 227.374 Q562.357 230.545 563.214 231.448 Q564.093 232.351 566.755 232.351 L571.13 232.351 L571.13 235.916 L566.755 235.916 Q561.825 235.916 559.95 234.087 Q558.075 232.235 558.075 227.374 L558.075 213.3 L554.95 213.3 L554.95 209.99 L558.075 209.99 L558.075 202.629 L562.357 202.629 Z\" fill=\"#000000\" fill-rule=\"evenodd\" fill-opacity=\"1\" /><path clip-path=\"url(#clip780)\" d=\"M598.908 221.888 L598.908 223.971 L579.325 223.971 Q579.602 228.369 581.963 230.684 Q584.348 232.976 588.584 232.976 Q591.038 232.976 593.329 232.374 Q595.644 231.772 597.912 230.569 L597.912 234.596 Q595.621 235.568 593.213 236.078 Q590.806 236.587 588.329 236.587 Q582.126 236.587 578.491 232.976 Q574.88 229.365 574.88 223.207 Q574.88 216.842 578.306 213.115 Q581.755 209.365 587.588 209.365 Q592.82 209.365 595.852 212.745 Q598.908 216.101 598.908 221.888 M594.649 220.638 Q594.602 217.143 592.681 215.059 Q590.783 212.976 587.635 212.976 Q584.07 212.976 581.917 214.99 Q579.788 217.004 579.464 220.661 L594.649 220.638 Z\" fill=\"#000000\" fill-rule=\"evenodd\" fill-opacity=\"1\" /><path clip-path=\"url(#clip780)\" d=\"M626.084 214.967 Q627.681 212.096 629.903 210.731 Q632.125 209.365 635.135 209.365 Q639.185 209.365 641.384 212.212 Q643.584 215.036 643.584 220.268 L643.584 235.916 L639.301 235.916 L639.301 220.407 Q639.301 216.68 637.982 214.874 Q636.662 213.069 633.954 213.069 Q630.644 213.069 628.723 215.268 Q626.801 217.467 626.801 221.263 L626.801 235.916 L622.519 235.916 L622.519 220.407 Q622.519 216.657 621.199 214.874 Q619.88 213.069 617.125 213.069 Q613.861 213.069 611.94 215.291 Q610.019 217.49 610.019 221.263 L610.019 235.916 L605.737 235.916 L605.737 209.99 L610.019 209.99 L610.019 214.018 Q611.477 211.633 613.514 210.499 Q615.551 209.365 618.352 209.365 Q621.176 209.365 623.144 210.8 Q625.135 212.235 626.084 214.967 Z\" fill=\"#000000\" fill-rule=\"evenodd\" fill-opacity=\"1\" /><path clip-path=\"url(#clip780)\" d=\"M656.199 232.027 L656.199 245.777 L651.917 245.777 L651.917 209.99 L656.199 209.99 L656.199 213.925 Q657.542 211.61 659.579 210.499 Q661.639 209.365 664.486 209.365 Q669.208 209.365 672.148 213.115 Q675.111 216.865 675.111 222.976 Q675.111 229.087 672.148 232.837 Q669.208 236.587 664.486 236.587 Q661.639 236.587 659.579 235.476 Q657.542 234.342 656.199 232.027 M670.69 222.976 Q670.69 218.277 668.745 215.615 Q666.824 212.93 663.445 212.93 Q660.065 212.93 658.12 215.615 Q656.199 218.277 656.199 222.976 Q656.199 227.675 658.12 230.36 Q660.065 233.022 663.445 233.022 Q666.824 233.022 668.745 230.36 Q670.69 227.675 670.69 222.976 Z\" fill=\"#000000\" fill-rule=\"evenodd\" fill-opacity=\"1\" /><path clip-path=\"url(#clip780)\" d=\"M702.356 214.967 Q703.954 212.096 706.176 210.731 Q708.398 209.365 711.407 209.365 Q715.458 209.365 717.657 212.212 Q719.856 215.036 719.856 220.268 L719.856 235.916 L715.574 235.916 L715.574 220.407 Q715.574 216.68 714.254 214.874 Q712.935 213.069 710.227 213.069 Q706.917 213.069 704.995 215.268 Q703.074 217.467 703.074 221.263 L703.074 235.916 L698.792 235.916 L698.792 220.407 Q698.792 216.657 697.472 214.874 Q696.153 213.069 693.398 213.069 Q690.134 213.069 688.213 215.291 Q686.292 217.49 686.292 221.263 L686.292 235.916 L682.009 235.916 L682.009 209.99 L686.292 209.99 L686.292 214.018 Q687.75 211.633 689.787 210.499 Q691.824 209.365 694.625 209.365 Q697.449 209.365 699.417 210.8 Q701.407 212.235 702.356 214.967 Z\" fill=\"#000000\" fill-rule=\"evenodd\" fill-opacity=\"1\" /><path clip-path=\"url(#clip780)\" d=\"M728.352 209.99 L732.611 209.99 L732.611 235.916 L728.352 235.916 L728.352 209.99 M728.352 199.897 L732.611 199.897 L732.611 205.291 L728.352 205.291 L728.352 199.897 Z\" fill=\"#000000\" fill-rule=\"evenodd\" fill-opacity=\"1\" /><path clip-path=\"url(#clip780)\" d=\"M763.074 220.268 L763.074 235.916 L758.814 235.916 L758.814 220.407 Q758.814 216.726 757.379 214.897 Q755.944 213.069 753.074 213.069 Q749.625 213.069 747.634 215.268 Q745.643 217.467 745.643 221.263 L745.643 235.916 L741.361 235.916 L741.361 209.99 L745.643 209.99 L745.643 214.018 Q747.171 211.68 749.231 210.522 Q751.314 209.365 754.023 209.365 Q758.49 209.365 760.782 212.143 Q763.074 214.897 763.074 220.268 Z\" fill=\"#000000\" fill-rule=\"evenodd\" fill-opacity=\"1\" /><path clip-path=\"url(#clip780)\" d=\"M772.981 231.981 L780.62 231.981 L780.62 205.615 L772.31 207.282 L772.31 203.022 L780.574 201.356 L785.249 201.356 L785.249 231.981 L792.888 231.981 L792.888 235.916 L772.981 235.916 L772.981 231.981 Z\" fill=\"#000000\" fill-rule=\"evenodd\" fill-opacity=\"1\" /><path clip-path=\"url(#clip780)\" d=\"M802.472 235.198 L802.472 230.939 Q804.231 231.772 806.036 232.212 Q807.842 232.652 809.578 232.652 Q814.208 232.652 816.638 229.55 Q819.092 226.425 819.439 220.082 Q818.096 222.073 816.036 223.138 Q813.976 224.203 811.476 224.203 Q806.291 224.203 803.259 221.078 Q800.249 217.93 800.249 212.49 Q800.249 207.166 803.397 203.948 Q806.546 200.731 811.777 200.731 Q817.772 200.731 820.921 205.337 Q824.092 209.92 824.092 218.67 Q824.092 226.842 820.203 231.726 Q816.337 236.587 809.786 236.587 Q808.027 236.587 806.222 236.24 Q804.416 235.893 802.472 235.198 M811.777 220.545 Q814.925 220.545 816.754 218.393 Q818.606 216.24 818.606 212.49 Q818.606 208.763 816.754 206.61 Q814.925 204.434 811.777 204.434 Q808.629 204.434 806.777 206.61 Q804.948 208.763 804.948 212.49 Q804.948 216.24 806.777 218.393 Q808.629 220.545 811.777 220.545 Z\" fill=\"#000000\" fill-rule=\"evenodd\" fill-opacity=\"1\" /><path clip-path=\"url(#clip780)\" d=\"M836.522 231.981 L852.842 231.981 L852.842 235.916 L830.897 235.916 L830.897 231.981 Q833.559 229.226 838.143 224.596 Q842.749 219.944 843.93 218.601 Q846.175 216.078 847.055 214.342 Q847.957 212.583 847.957 210.893 Q847.957 208.138 846.013 206.402 Q844.092 204.666 840.99 204.666 Q838.791 204.666 836.337 205.43 Q833.907 206.194 831.129 207.745 L831.129 203.022 Q833.953 201.888 836.407 201.309 Q838.86 200.731 840.897 200.731 Q846.268 200.731 849.462 203.416 Q852.656 206.101 852.656 210.592 Q852.656 212.721 851.846 214.643 Q851.059 216.541 848.953 219.133 Q848.374 219.805 845.272 223.022 Q842.17 226.217 836.522 231.981 Z\" fill=\"#000000\" fill-rule=\"evenodd\" fill-opacity=\"1\" /><path clip-path=\"url(#clip780)\" d=\"M866.684 231.981 L883.004 231.981 L883.004 235.916 L861.059 235.916 L861.059 231.981 Q863.721 229.226 868.305 224.596 Q872.911 219.944 874.092 218.601 Q876.337 216.078 877.217 214.342 Q878.119 212.583 878.119 210.893 Q878.119 208.138 876.175 206.402 Q874.254 204.666 871.152 204.666 Q868.953 204.666 866.499 205.43 Q864.068 206.194 861.291 207.745 L861.291 203.022 Q864.115 201.888 866.568 201.309 Q869.022 200.731 871.059 200.731 Q876.43 200.731 879.624 203.416 Q882.818 206.101 882.818 210.592 Q882.818 212.721 882.008 214.643 Q881.221 216.541 879.115 219.133 Q878.536 219.805 875.434 223.022 Q872.332 226.217 866.684 231.981 Z\" fill=\"#000000\" fill-rule=\"evenodd\" fill-opacity=\"1\" /><polyline clip-path=\"url(#clip780)\" style=\"stroke:#e26f46; stroke-linecap:round; stroke-linejoin:round; stroke-width:4; stroke-opacity:1; fill:none\" points=\"\n",
       "  299.465,270.476 442.718,270.476 \n",
       "  \"/>\n",
       "<path clip-path=\"url(#clip780)\" d=\"M471.27 257.038 L471.27 283.913 L476.918 283.913 Q484.071 283.913 487.381 280.672 Q490.714 277.432 490.714 270.441 Q490.714 263.497 487.381 260.279 Q484.071 257.038 476.918 257.038 L471.27 257.038 M466.594 253.196 L476.2 253.196 Q486.246 253.196 490.945 257.386 Q495.645 261.552 495.645 270.441 Q495.645 279.376 490.922 283.566 Q486.2 287.756 476.2 287.756 L466.594 287.756 L466.594 253.196 Z\" fill=\"#000000\" fill-rule=\"evenodd\" fill-opacity=\"1\" /><path clip-path=\"url(#clip780)\" d=\"M525.089 273.728 L525.089 275.811 L505.506 275.811 Q505.783 280.209 508.144 282.524 Q510.529 284.816 514.765 284.816 Q517.218 284.816 519.51 284.214 Q521.825 283.612 524.093 282.409 L524.093 286.436 Q521.802 287.408 519.394 287.918 Q516.987 288.427 514.51 288.427 Q508.306 288.427 504.672 284.816 Q501.061 281.205 501.061 275.047 Q501.061 268.682 504.487 264.955 Q507.936 261.205 513.769 261.205 Q519.001 261.205 522.033 264.585 Q525.089 267.941 525.089 273.728 M520.83 272.478 Q520.783 268.983 518.862 266.899 Q516.964 264.816 513.816 264.816 Q510.251 264.816 508.098 266.83 Q505.969 268.844 505.644 272.501 L520.83 272.478 Z\" fill=\"#000000\" fill-rule=\"evenodd\" fill-opacity=\"1\" /><path clip-path=\"url(#clip780)\" d=\"M550.737 262.825 L550.737 266.807 Q548.931 265.811 547.103 265.325 Q545.297 264.816 543.445 264.816 Q539.302 264.816 537.01 267.455 Q534.718 270.071 534.718 274.816 Q534.718 279.561 537.01 282.2 Q539.302 284.816 543.445 284.816 Q545.297 284.816 547.103 284.33 Q548.931 283.821 550.737 282.825 L550.737 286.76 Q548.954 287.594 547.033 288.01 Q545.135 288.427 542.982 288.427 Q537.126 288.427 533.677 284.746 Q530.228 281.066 530.228 274.816 Q530.228 268.473 533.7 264.839 Q537.195 261.205 543.26 261.205 Q545.228 261.205 547.103 261.622 Q548.978 262.015 550.737 262.825 Z\" fill=\"#000000\" fill-rule=\"evenodd\" fill-opacity=\"1\" /><path clip-path=\"url(#clip780)\" d=\"M562.357 254.469 L562.357 261.83 L571.13 261.83 L571.13 265.14 L562.357 265.14 L562.357 279.214 Q562.357 282.385 563.214 283.288 Q564.093 284.191 566.755 284.191 L571.13 284.191 L571.13 287.756 L566.755 287.756 Q561.825 287.756 559.95 285.927 Q558.075 284.075 558.075 279.214 L558.075 265.14 L554.95 265.14 L554.95 261.83 L558.075 261.83 L558.075 254.469 L562.357 254.469 Z\" fill=\"#000000\" fill-rule=\"evenodd\" fill-opacity=\"1\" /><path clip-path=\"url(#clip780)\" d=\"M598.908 273.728 L598.908 275.811 L579.325 275.811 Q579.602 280.209 581.963 282.524 Q584.348 284.816 588.584 284.816 Q591.038 284.816 593.329 284.214 Q595.644 283.612 597.912 282.409 L597.912 286.436 Q595.621 287.408 593.213 287.918 Q590.806 288.427 588.329 288.427 Q582.126 288.427 578.491 284.816 Q574.88 281.205 574.88 275.047 Q574.88 268.682 578.306 264.955 Q581.755 261.205 587.588 261.205 Q592.82 261.205 595.852 264.585 Q598.908 267.941 598.908 273.728 M594.649 272.478 Q594.602 268.983 592.681 266.899 Q590.783 264.816 587.635 264.816 Q584.07 264.816 581.917 266.83 Q579.788 268.844 579.464 272.501 L594.649 272.478 Z\" fill=\"#000000\" fill-rule=\"evenodd\" fill-opacity=\"1\" /><path clip-path=\"url(#clip780)\" d=\"M626.084 266.807 Q627.681 263.936 629.903 262.571 Q632.125 261.205 635.135 261.205 Q639.185 261.205 641.384 264.052 Q643.584 266.876 643.584 272.108 L643.584 287.756 L639.301 287.756 L639.301 272.247 Q639.301 268.52 637.982 266.714 Q636.662 264.909 633.954 264.909 Q630.644 264.909 628.723 267.108 Q626.801 269.307 626.801 273.103 L626.801 287.756 L622.519 287.756 L622.519 272.247 Q622.519 268.497 621.199 266.714 Q619.88 264.909 617.125 264.909 Q613.861 264.909 611.94 267.131 Q610.019 269.33 610.019 273.103 L610.019 287.756 L605.737 287.756 L605.737 261.83 L610.019 261.83 L610.019 265.858 Q611.477 263.473 613.514 262.339 Q615.551 261.205 618.352 261.205 Q621.176 261.205 623.144 262.64 Q625.135 264.075 626.084 266.807 Z\" fill=\"#000000\" fill-rule=\"evenodd\" fill-opacity=\"1\" /><path clip-path=\"url(#clip780)\" d=\"M656.199 283.867 L656.199 297.617 L651.917 297.617 L651.917 261.83 L656.199 261.83 L656.199 265.765 Q657.542 263.45 659.579 262.339 Q661.639 261.205 664.486 261.205 Q669.208 261.205 672.148 264.955 Q675.111 268.705 675.111 274.816 Q675.111 280.927 672.148 284.677 Q669.208 288.427 664.486 288.427 Q661.639 288.427 659.579 287.316 Q657.542 286.182 656.199 283.867 M670.69 274.816 Q670.69 270.117 668.745 267.455 Q666.824 264.77 663.445 264.77 Q660.065 264.77 658.12 267.455 Q656.199 270.117 656.199 274.816 Q656.199 279.515 658.12 282.2 Q660.065 284.862 663.445 284.862 Q666.824 284.862 668.745 282.2 Q670.69 279.515 670.69 274.816 Z\" fill=\"#000000\" fill-rule=\"evenodd\" fill-opacity=\"1\" /><path clip-path=\"url(#clip780)\" d=\"M702.356 266.807 Q703.954 263.936 706.176 262.571 Q708.398 261.205 711.407 261.205 Q715.458 261.205 717.657 264.052 Q719.856 266.876 719.856 272.108 L719.856 287.756 L715.574 287.756 L715.574 272.247 Q715.574 268.52 714.254 266.714 Q712.935 264.909 710.227 264.909 Q706.917 264.909 704.995 267.108 Q703.074 269.307 703.074 273.103 L703.074 287.756 L698.792 287.756 L698.792 272.247 Q698.792 268.497 697.472 266.714 Q696.153 264.909 693.398 264.909 Q690.134 264.909 688.213 267.131 Q686.292 269.33 686.292 273.103 L686.292 287.756 L682.009 287.756 L682.009 261.83 L686.292 261.83 L686.292 265.858 Q687.75 263.473 689.787 262.339 Q691.824 261.205 694.625 261.205 Q697.449 261.205 699.417 262.64 Q701.407 264.075 702.356 266.807 Z\" fill=\"#000000\" fill-rule=\"evenodd\" fill-opacity=\"1\" /><path clip-path=\"url(#clip780)\" d=\"M728.352 261.83 L732.611 261.83 L732.611 287.756 L728.352 287.756 L728.352 261.83 M728.352 251.737 L732.611 251.737 L732.611 257.131 L728.352 257.131 L728.352 251.737 Z\" fill=\"#000000\" fill-rule=\"evenodd\" fill-opacity=\"1\" /><path clip-path=\"url(#clip780)\" d=\"M763.074 272.108 L763.074 287.756 L758.814 287.756 L758.814 272.247 Q758.814 268.566 757.379 266.737 Q755.944 264.909 753.074 264.909 Q749.625 264.909 747.634 267.108 Q745.643 269.307 745.643 273.103 L745.643 287.756 L741.361 287.756 L741.361 261.83 L745.643 261.83 L745.643 265.858 Q747.171 263.52 749.231 262.362 Q751.314 261.205 754.023 261.205 Q758.49 261.205 760.782 263.983 Q763.074 266.737 763.074 272.108 Z\" fill=\"#000000\" fill-rule=\"evenodd\" fill-opacity=\"1\" /><path clip-path=\"url(#clip780)\" d=\"M776.199 283.821 L792.518 283.821 L792.518 287.756 L770.574 287.756 L770.574 283.821 Q773.236 281.066 777.819 276.436 Q782.425 271.784 783.606 270.441 Q785.851 267.918 786.731 266.182 Q787.634 264.423 787.634 262.733 Q787.634 259.978 785.689 258.242 Q783.768 256.506 780.666 256.506 Q778.467 256.506 776.013 257.27 Q773.583 258.034 770.805 259.585 L770.805 254.862 Q773.629 253.728 776.083 253.149 Q778.537 252.571 780.574 252.571 Q785.944 252.571 789.138 255.256 Q792.333 257.941 792.333 262.432 Q792.333 264.561 791.523 266.483 Q790.736 268.381 788.629 270.973 Q788.05 271.645 784.949 274.862 Q781.847 278.057 776.199 283.821 Z\" fill=\"#000000\" fill-rule=\"evenodd\" fill-opacity=\"1\" /><path clip-path=\"url(#clip780)\" d=\"M812.333 256.274 Q808.722 256.274 806.893 259.839 Q805.087 263.381 805.087 270.51 Q805.087 277.617 806.893 281.182 Q808.722 284.723 812.333 284.723 Q815.967 284.723 817.772 281.182 Q819.601 277.617 819.601 270.51 Q819.601 263.381 817.772 259.839 Q815.967 256.274 812.333 256.274 M812.333 252.571 Q818.143 252.571 821.198 257.177 Q824.277 261.76 824.277 270.51 Q824.277 279.237 821.198 283.844 Q818.143 288.427 812.333 288.427 Q806.522 288.427 803.444 283.844 Q800.388 279.237 800.388 270.51 Q800.388 261.76 803.444 257.177 Q806.522 252.571 812.333 252.571 Z\" fill=\"#000000\" fill-rule=\"evenodd\" fill-opacity=\"1\" /><path clip-path=\"url(#clip780)\" d=\"M833.305 283.821 L840.944 283.821 L840.944 257.455 L832.633 259.122 L832.633 254.862 L840.897 253.196 L845.573 253.196 L845.573 283.821 L853.212 283.821 L853.212 287.756 L833.305 287.756 L833.305 283.821 Z\" fill=\"#000000\" fill-rule=\"evenodd\" fill-opacity=\"1\" /><path clip-path=\"url(#clip780)\" d=\"M866.684 283.821 L883.004 283.821 L883.004 287.756 L861.059 287.756 L861.059 283.821 Q863.721 281.066 868.305 276.436 Q872.911 271.784 874.092 270.441 Q876.337 267.918 877.217 266.182 Q878.119 264.423 878.119 262.733 Q878.119 259.978 876.175 258.242 Q874.254 256.506 871.152 256.506 Q868.953 256.506 866.499 257.27 Q864.068 258.034 861.291 259.585 L861.291 254.862 Q864.115 253.728 866.568 253.149 Q869.022 252.571 871.059 252.571 Q876.43 252.571 879.624 255.256 Q882.818 257.941 882.818 262.432 Q882.818 264.561 882.008 266.483 Q881.221 268.381 879.115 270.973 Q878.536 271.645 875.434 274.862 Q872.332 278.057 866.684 283.821 Z\" fill=\"#000000\" fill-rule=\"evenodd\" fill-opacity=\"1\" /></svg>\n"
      ]
     },
     "execution_count": 71,
     "metadata": {},
     "output_type": "execute_result"
    }
   ],
   "source": [
    "plot(1:11, dectempmin1922, label=\"Dectempmin1922\", ylabel=\"Temperature (Fahrenheit)\",xlabel=\"Years (1922-1932, 2012-2022)\",title=\"Jan Average min temp 1922 vs Jan Average min temp 2012 \")\n",
    "plot!(1:11, Dectempmin2012, label=\"Dectempmin2012\")"
   ]
  },
  {
   "cell_type": "markdown",
   "id": "92d3fa62",
   "metadata": {},
   "source": [
    "# Outcome \n",
    "\n",
    "Here we see the contrast of the two different decades when it comes to average Minimum Temperature for December 1922-1932 and December 2012-2022"
   ]
  },
  {
   "cell_type": "markdown",
   "id": "336b5919",
   "metadata": {},
   "source": [
    "# Now we are going to do Average Maximum Temperature For December 1922-1932 and 2012-2022."
   ]
  },
  {
   "cell_type": "code",
   "execution_count": 72,
   "id": "1c253691",
   "metadata": {},
   "outputs": [
    {
     "data": {
      "text/plain": [
       "11-element Vector{Any}:\n",
       " 31.81\n",
       " 32.9\n",
       " 32.9\n",
       " 14.18\n",
       " 27.91\n",
       " 27.82\n",
       " 30.55\n",
       " 31.55\n",
       " 28.0\n",
       " 38.46\n",
       " 37.09"
      ]
     },
     "execution_count": 72,
     "metadata": {},
     "output_type": "execute_result"
    }
   ],
   "source": [
    "#December 1922-1932 max Average\n",
    "dectempmmax1922=B[2:12,3]"
   ]
  },
  {
   "cell_type": "code",
   "execution_count": 73,
   "id": "95c59edf",
   "metadata": {},
   "outputs": [
    {
     "data": {
      "text/plain": [
       "11-element Vector{Any}:\n",
       " 26.36\n",
       " 21.09\n",
       " 31.727\n",
       " 34.82\n",
       " 35.73\n",
       " 13.36\n",
       " 34.09\n",
       " 39.09\n",
       " 31.55\n",
       " 33.36\n",
       " 26.09"
      ]
     },
     "execution_count": 73,
     "metadata": {},
     "output_type": "execute_result"
    }
   ],
   "source": [
    "# December 2012-2022\n",
    "Dectempmax2012=C[2:12,3]"
   ]
  },
  {
   "cell_type": "code",
   "execution_count": 74,
   "id": "e2e20ee0",
   "metadata": {},
   "outputs": [
    {
     "data": {
      "image/svg+xml": [
       "<?xml version=\"1.0\" encoding=\"utf-8\"?>\n",
       "<svg xmlns=\"http://www.w3.org/2000/svg\" xmlns:xlink=\"http://www.w3.org/1999/xlink\" width=\"600\" height=\"400\" viewBox=\"0 0 2400 1600\">\n",
       "<defs>\n",
       "  <clipPath id=\"clip820\">\n",
       "    <rect x=\"0\" y=\"0\" width=\"2400\" height=\"1600\"/>\n",
       "  </clipPath>\n",
       "</defs>\n",
       "<path clip-path=\"url(#clip820)\" d=\"\n",
       "M0 1600 L2400 1600 L2400 0 L0 0  Z\n",
       "  \" fill=\"#ffffff\" fill-rule=\"evenodd\" fill-opacity=\"1\"/>\n",
       "<defs>\n",
       "  <clipPath id=\"clip821\">\n",
       "    <rect x=\"480\" y=\"0\" width=\"1681\" height=\"1600\"/>\n",
       "  </clipPath>\n",
       "</defs>\n",
       "<path clip-path=\"url(#clip820)\" d=\"\n",
       "M203.964 1423.18 L2352.76 1423.18 L2352.76 123.472 L203.964 123.472  Z\n",
       "  \" fill=\"#ffffff\" fill-rule=\"evenodd\" fill-opacity=\"1\"/>\n",
       "<defs>\n",
       "  <clipPath id=\"clip822\">\n",
       "    <rect x=\"203\" y=\"123\" width=\"2150\" height=\"1301\"/>\n",
       "  </clipPath>\n",
       "</defs>\n",
       "<polyline clip-path=\"url(#clip822)\" style=\"stroke:#000000; stroke-linecap:round; stroke-linejoin:round; stroke-width:2; stroke-opacity:0.1; fill:none\" points=\"\n",
       "  467.495,1423.18 467.495,123.472 \n",
       "  \"/>\n",
       "<polyline clip-path=\"url(#clip822)\" style=\"stroke:#000000; stroke-linecap:round; stroke-linejoin:round; stroke-width:2; stroke-opacity:0.1; fill:none\" points=\"\n",
       "  872.927,1423.18 872.927,123.472 \n",
       "  \"/>\n",
       "<polyline clip-path=\"url(#clip822)\" style=\"stroke:#000000; stroke-linecap:round; stroke-linejoin:round; stroke-width:2; stroke-opacity:0.1; fill:none\" points=\"\n",
       "  1278.36,1423.18 1278.36,123.472 \n",
       "  \"/>\n",
       "<polyline clip-path=\"url(#clip822)\" style=\"stroke:#000000; stroke-linecap:round; stroke-linejoin:round; stroke-width:2; stroke-opacity:0.1; fill:none\" points=\"\n",
       "  1683.79,1423.18 1683.79,123.472 \n",
       "  \"/>\n",
       "<polyline clip-path=\"url(#clip822)\" style=\"stroke:#000000; stroke-linecap:round; stroke-linejoin:round; stroke-width:2; stroke-opacity:0.1; fill:none\" points=\"\n",
       "  2089.22,1423.18 2089.22,123.472 \n",
       "  \"/>\n",
       "<polyline clip-path=\"url(#clip820)\" style=\"stroke:#000000; stroke-linecap:round; stroke-linejoin:round; stroke-width:4; stroke-opacity:1; fill:none\" points=\"\n",
       "  203.964,1423.18 2352.76,1423.18 \n",
       "  \"/>\n",
       "<polyline clip-path=\"url(#clip820)\" style=\"stroke:#000000; stroke-linecap:round; stroke-linejoin:round; stroke-width:4; stroke-opacity:1; fill:none\" points=\"\n",
       "  467.495,1423.18 467.495,1404.28 \n",
       "  \"/>\n",
       "<polyline clip-path=\"url(#clip820)\" style=\"stroke:#000000; stroke-linecap:round; stroke-linejoin:round; stroke-width:4; stroke-opacity:1; fill:none\" points=\"\n",
       "  872.927,1423.18 872.927,1404.28 \n",
       "  \"/>\n",
       "<polyline clip-path=\"url(#clip820)\" style=\"stroke:#000000; stroke-linecap:round; stroke-linejoin:round; stroke-width:4; stroke-opacity:1; fill:none\" points=\"\n",
       "  1278.36,1423.18 1278.36,1404.28 \n",
       "  \"/>\n",
       "<polyline clip-path=\"url(#clip820)\" style=\"stroke:#000000; stroke-linecap:round; stroke-linejoin:round; stroke-width:4; stroke-opacity:1; fill:none\" points=\"\n",
       "  1683.79,1423.18 1683.79,1404.28 \n",
       "  \"/>\n",
       "<polyline clip-path=\"url(#clip820)\" style=\"stroke:#000000; stroke-linecap:round; stroke-linejoin:round; stroke-width:4; stroke-opacity:1; fill:none\" points=\"\n",
       "  2089.22,1423.18 2089.22,1404.28 \n",
       "  \"/>\n",
       "<path clip-path=\"url(#clip820)\" d=\"M462.148 1481.64 L478.467 1481.64 L478.467 1485.58 L456.523 1485.58 L456.523 1481.64 Q459.185 1478.89 463.768 1474.26 Q468.374 1469.61 469.555 1468.27 Q471.8 1465.74 472.68 1464.01 Q473.583 1462.25 473.583 1460.56 Q473.583 1457.8 471.638 1456.07 Q469.717 1454.33 466.615 1454.33 Q464.416 1454.33 461.962 1455.09 Q459.532 1455.86 456.754 1457.41 L456.754 1452.69 Q459.578 1451.55 462.032 1450.97 Q464.485 1450.39 466.522 1450.39 Q471.893 1450.39 475.087 1453.08 Q478.282 1455.77 478.282 1460.26 Q478.282 1462.39 477.472 1464.31 Q476.684 1466.2 474.578 1468.8 Q473.999 1469.47 470.897 1472.69 Q467.796 1475.88 462.148 1481.64 Z\" fill=\"#000000\" fill-rule=\"evenodd\" fill-opacity=\"1\" /><path clip-path=\"url(#clip820)\" d=\"M875.936 1455.09 L864.131 1473.54 L875.936 1473.54 L875.936 1455.09 M874.71 1451.02 L880.589 1451.02 L880.589 1473.54 L885.52 1473.54 L885.52 1477.43 L880.589 1477.43 L880.589 1485.58 L875.936 1485.58 L875.936 1477.43 L860.335 1477.43 L860.335 1472.92 L874.71 1451.02 Z\" fill=\"#000000\" fill-rule=\"evenodd\" fill-opacity=\"1\" /><path clip-path=\"url(#clip820)\" d=\"M1278.76 1466.44 Q1275.62 1466.44 1273.76 1468.59 Q1271.94 1470.74 1271.94 1474.49 Q1271.94 1478.22 1273.76 1480.39 Q1275.62 1482.55 1278.76 1482.55 Q1281.91 1482.55 1283.74 1480.39 Q1285.59 1478.22 1285.59 1474.49 Q1285.59 1470.74 1283.74 1468.59 Q1281.91 1466.44 1278.76 1466.44 M1288.05 1451.78 L1288.05 1456.04 Q1286.29 1455.21 1284.48 1454.77 Q1282.7 1454.33 1280.94 1454.33 Q1276.31 1454.33 1273.86 1457.45 Q1271.43 1460.58 1271.08 1466.9 Q1272.45 1464.89 1274.51 1463.82 Q1276.57 1462.73 1279.04 1462.73 Q1284.25 1462.73 1287.26 1465.9 Q1290.29 1469.05 1290.29 1474.49 Q1290.29 1479.82 1287.14 1483.03 Q1284 1486.25 1278.76 1486.25 Q1272.77 1486.25 1269.6 1481.67 Q1266.43 1477.06 1266.43 1468.33 Q1266.43 1460.14 1270.32 1455.28 Q1274.2 1450.39 1280.76 1450.39 Q1282.51 1450.39 1284.3 1450.74 Q1286.1 1451.09 1288.05 1451.78 Z\" fill=\"#000000\" fill-rule=\"evenodd\" fill-opacity=\"1\" /><path clip-path=\"url(#clip820)\" d=\"M1683.79 1469.17 Q1680.46 1469.17 1678.54 1470.95 Q1676.64 1472.73 1676.64 1475.86 Q1676.64 1478.98 1678.54 1480.77 Q1680.46 1482.55 1683.79 1482.55 Q1687.13 1482.55 1689.05 1480.77 Q1690.97 1478.96 1690.97 1475.86 Q1690.97 1472.73 1689.05 1470.95 Q1687.15 1469.17 1683.79 1469.17 M1679.12 1467.18 Q1676.11 1466.44 1674.42 1464.38 Q1672.75 1462.32 1672.75 1459.35 Q1672.75 1455.21 1675.69 1452.8 Q1678.65 1450.39 1683.79 1450.39 Q1688.95 1450.39 1691.89 1452.8 Q1694.83 1455.21 1694.83 1459.35 Q1694.83 1462.32 1693.14 1464.38 Q1691.48 1466.44 1688.49 1467.18 Q1691.87 1467.96 1693.75 1470.26 Q1695.64 1472.55 1695.64 1475.86 Q1695.64 1480.88 1692.57 1483.57 Q1689.51 1486.25 1683.79 1486.25 Q1678.07 1486.25 1675 1483.57 Q1671.94 1480.88 1671.94 1475.86 Q1671.94 1472.55 1673.84 1470.26 Q1675.74 1467.96 1679.12 1467.18 M1677.4 1459.79 Q1677.4 1462.48 1679.07 1463.98 Q1680.76 1465.49 1683.79 1465.49 Q1686.8 1465.49 1688.49 1463.98 Q1690.2 1462.48 1690.2 1459.79 Q1690.2 1457.11 1688.49 1455.6 Q1686.8 1454.1 1683.79 1454.1 Q1680.76 1454.1 1679.07 1455.6 Q1677.4 1457.11 1677.4 1459.79 Z\" fill=\"#000000\" fill-rule=\"evenodd\" fill-opacity=\"1\" /><path clip-path=\"url(#clip820)\" d=\"M2063.91 1481.64 L2071.55 1481.64 L2071.55 1455.28 L2063.24 1456.95 L2063.24 1452.69 L2071.5 1451.02 L2076.18 1451.02 L2076.18 1481.64 L2083.82 1481.64 L2083.82 1485.58 L2063.91 1485.58 L2063.91 1481.64 Z\" fill=\"#000000\" fill-rule=\"evenodd\" fill-opacity=\"1\" /><path clip-path=\"url(#clip820)\" d=\"M2103.26 1454.1 Q2099.65 1454.1 2097.82 1457.66 Q2096.02 1461.2 2096.02 1468.33 Q2096.02 1475.44 2097.82 1479.01 Q2099.65 1482.55 2103.26 1482.55 Q2106.9 1482.55 2108.7 1479.01 Q2110.53 1475.44 2110.53 1468.33 Q2110.53 1461.2 2108.7 1457.66 Q2106.9 1454.1 2103.26 1454.1 M2103.26 1450.39 Q2109.07 1450.39 2112.13 1455 Q2115.21 1459.58 2115.21 1468.33 Q2115.21 1477.06 2112.13 1481.67 Q2109.07 1486.25 2103.26 1486.25 Q2097.45 1486.25 2094.38 1481.67 Q2091.32 1477.06 2091.32 1468.33 Q2091.32 1459.58 2094.38 1455 Q2097.45 1450.39 2103.26 1450.39 Z\" fill=\"#000000\" fill-rule=\"evenodd\" fill-opacity=\"1\" /><path clip-path=\"url(#clip820)\" d=\"M783.299 1520.52 L790.206 1520.52 L803.383 1540.07 L816.464 1520.52 L823.371 1520.52 L806.565 1545.41 L806.565 1568.04 L800.104 1568.04 L800.104 1545.41 L783.299 1520.52 Z\" fill=\"#000000\" fill-rule=\"evenodd\" fill-opacity=\"1\" /><path clip-path=\"url(#clip820)\" d=\"M851.221 1548.76 L851.221 1551.62 L824.294 1551.62 Q824.676 1557.67 827.922 1560.85 Q831.201 1564 837.025 1564 Q840.399 1564 843.55 1563.17 Q846.733 1562.35 849.852 1560.69 L849.852 1566.23 Q846.701 1567.57 843.391 1568.27 Q840.081 1568.97 836.675 1568.97 Q828.145 1568.97 823.148 1564 Q818.183 1559.04 818.183 1550.57 Q818.183 1541.82 822.893 1536.69 Q827.636 1531.54 835.657 1531.54 Q842.85 1531.54 847.019 1536.18 Q851.221 1540.8 851.221 1548.76 M845.364 1547.04 Q845.301 1542.23 842.659 1539.37 Q840.049 1536.5 835.72 1536.5 Q830.819 1536.5 827.859 1539.27 Q824.93 1542.04 824.485 1547.07 L845.364 1547.04 Z\" fill=\"#000000\" fill-rule=\"evenodd\" fill-opacity=\"1\" /><path clip-path=\"url(#clip820)\" d=\"M877.034 1550.12 Q869.936 1550.12 867.199 1551.75 Q864.461 1553.37 864.461 1557.29 Q864.461 1560.4 866.499 1562.25 Q868.567 1564.07 872.1 1564.07 Q876.97 1564.07 879.898 1560.63 Q882.858 1557.16 882.858 1551.43 L882.858 1550.12 L877.034 1550.12 M888.715 1547.71 L888.715 1568.04 L882.858 1568.04 L882.858 1562.63 Q880.853 1565.88 877.861 1567.44 Q874.869 1568.97 870.541 1568.97 Q865.066 1568.97 861.82 1565.91 Q858.605 1562.82 858.605 1557.67 Q858.605 1551.65 862.615 1548.6 Q866.658 1545.54 874.647 1545.54 L882.858 1545.54 L882.858 1544.97 Q882.858 1540.93 880.185 1538.73 Q877.543 1536.5 872.737 1536.5 Q869.681 1536.5 866.785 1537.23 Q863.889 1537.97 861.215 1539.43 L861.215 1534.02 Q864.43 1532.78 867.453 1532.17 Q870.477 1531.54 873.342 1531.54 Q881.076 1531.54 884.895 1535.55 Q888.715 1539.56 888.715 1547.71 Z\" fill=\"#000000\" fill-rule=\"evenodd\" fill-opacity=\"1\" /><path clip-path=\"url(#clip820)\" d=\"M921.435 1537.87 Q920.448 1537.3 919.27 1537.04 Q918.124 1536.76 916.724 1536.76 Q911.759 1536.76 909.085 1540 Q906.443 1543.22 906.443 1549.27 L906.443 1568.04 L900.555 1568.04 L900.555 1532.4 L906.443 1532.4 L906.443 1537.93 Q908.289 1534.69 911.249 1533.13 Q914.209 1531.54 918.443 1531.54 Q919.047 1531.54 919.779 1531.63 Q920.512 1531.7 921.403 1531.85 L921.435 1537.87 Z\" fill=\"#000000\" fill-rule=\"evenodd\" fill-opacity=\"1\" /><path clip-path=\"url(#clip820)\" d=\"M950.303 1533.45 L950.303 1538.98 Q947.82 1537.71 945.147 1537.07 Q942.473 1536.44 939.609 1536.44 Q935.248 1536.44 933.052 1537.77 Q930.888 1539.11 930.888 1541.79 Q930.888 1543.82 932.447 1545 Q934.007 1546.15 938.717 1547.2 L940.723 1547.64 Q946.961 1548.98 949.571 1551.43 Q952.213 1553.85 952.213 1558.21 Q952.213 1563.17 948.266 1566.07 Q944.351 1568.97 937.476 1568.97 Q934.612 1568.97 931.492 1568.39 Q928.405 1567.85 924.968 1566.74 L924.968 1560.69 Q928.214 1562.38 931.365 1563.24 Q934.516 1564.07 937.603 1564.07 Q941.741 1564.07 943.969 1562.66 Q946.197 1561.23 946.197 1558.65 Q946.197 1556.27 944.574 1554.99 Q942.982 1553.72 937.54 1552.54 L935.503 1552.07 Q930.06 1550.92 927.641 1548.56 Q925.222 1546.18 925.222 1542.04 Q925.222 1537.01 928.787 1534.27 Q932.352 1531.54 938.908 1531.54 Q942.155 1531.54 945.02 1532.01 Q947.884 1532.49 950.303 1533.45 Z\" fill=\"#000000\" fill-rule=\"evenodd\" fill-opacity=\"1\" /><path clip-path=\"url(#clip820)\" d=\"M996.327 1518.58 Q992.062 1525.9 989.993 1533.06 Q987.924 1540.23 987.924 1547.58 Q987.924 1554.93 989.993 1562.16 Q992.094 1569.35 996.327 1576.64 L991.235 1576.64 Q986.46 1569.16 984.073 1561.93 Q981.718 1554.71 981.718 1547.58 Q981.718 1540.48 984.073 1533.29 Q986.428 1526.09 991.235 1518.58 L996.327 1518.58 Z\" fill=\"#000000\" fill-rule=\"evenodd\" fill-opacity=\"1\" /><path clip-path=\"url(#clip820)\" d=\"M1009.63 1562.63 L1020.13 1562.63 L1020.13 1526.38 L1008.71 1528.67 L1008.71 1522.82 L1020.07 1520.52 L1026.5 1520.52 L1026.5 1562.63 L1037 1562.63 L1037 1568.04 L1009.63 1568.04 L1009.63 1562.63 Z\" fill=\"#000000\" fill-rule=\"evenodd\" fill-opacity=\"1\" /><path clip-path=\"url(#clip820)\" d=\"M1050.18 1567.06 L1050.18 1561.2 Q1052.6 1562.35 1055.08 1562.95 Q1057.57 1563.56 1059.95 1563.56 Q1066.32 1563.56 1069.66 1559.29 Q1073.03 1554.99 1073.51 1546.27 Q1071.67 1549.01 1068.83 1550.47 Q1066 1551.94 1062.56 1551.94 Q1055.43 1551.94 1051.26 1547.64 Q1047.13 1543.31 1047.13 1535.83 Q1047.13 1528.51 1051.45 1524.09 Q1055.78 1519.66 1062.98 1519.66 Q1071.22 1519.66 1075.55 1526 Q1079.91 1532.3 1079.91 1544.33 Q1079.91 1555.57 1074.56 1562.28 Q1069.25 1568.97 1060.24 1568.97 Q1057.82 1568.97 1055.34 1568.49 Q1052.85 1568.01 1050.18 1567.06 M1062.98 1546.91 Q1067.3 1546.91 1069.82 1543.95 Q1072.37 1540.99 1072.37 1535.83 Q1072.37 1530.71 1069.82 1527.75 Q1067.3 1524.76 1062.98 1524.76 Q1058.65 1524.76 1056.1 1527.75 Q1053.59 1530.71 1053.59 1535.83 Q1053.59 1540.99 1056.1 1543.95 Q1058.65 1546.91 1062.98 1546.91 Z\" fill=\"#000000\" fill-rule=\"evenodd\" fill-opacity=\"1\" /><path clip-path=\"url(#clip820)\" d=\"M1097 1562.63 L1119.44 1562.63 L1119.44 1568.04 L1089.27 1568.04 L1089.27 1562.63 Q1092.93 1558.85 1099.23 1552.48 Q1105.56 1546.08 1107.19 1544.24 Q1110.27 1540.77 1111.48 1538.38 Q1112.72 1535.96 1112.72 1533.64 Q1112.72 1529.85 1110.05 1527.46 Q1107.41 1525.08 1103.14 1525.08 Q1100.12 1525.08 1096.75 1526.13 Q1093.4 1527.18 1089.58 1529.31 L1089.58 1522.82 Q1093.47 1521.26 1096.84 1520.46 Q1100.22 1519.66 1103.02 1519.66 Q1110.4 1519.66 1114.79 1523.36 Q1119.19 1527.05 1119.19 1533.22 Q1119.19 1536.15 1118.07 1538.79 Q1116.99 1541.4 1114.09 1544.97 Q1113.3 1545.89 1109.03 1550.32 Q1104.77 1554.71 1097 1562.63 Z\" fill=\"#000000\" fill-rule=\"evenodd\" fill-opacity=\"1\" /><path clip-path=\"url(#clip820)\" d=\"M1138.47 1562.63 L1160.91 1562.63 L1160.91 1568.04 L1130.74 1568.04 L1130.74 1562.63 Q1134.4 1558.85 1140.7 1552.48 Q1147.04 1546.08 1148.66 1544.24 Q1151.75 1540.77 1152.96 1538.38 Q1154.2 1535.96 1154.2 1533.64 Q1154.2 1529.85 1151.52 1527.46 Q1148.88 1525.08 1144.62 1525.08 Q1141.59 1525.08 1138.22 1526.13 Q1134.88 1527.18 1131.06 1529.31 L1131.06 1522.82 Q1134.94 1521.26 1138.31 1520.46 Q1141.69 1519.66 1144.49 1519.66 Q1151.87 1519.66 1156.27 1523.36 Q1160.66 1527.05 1160.66 1533.22 Q1160.66 1536.15 1159.54 1538.79 Q1158.46 1541.4 1155.57 1544.97 Q1154.77 1545.89 1150.5 1550.32 Q1146.24 1554.71 1138.47 1562.63 Z\" fill=\"#000000\" fill-rule=\"evenodd\" fill-opacity=\"1\" /><path clip-path=\"url(#clip820)\" d=\"M1170.62 1547.58 L1187.78 1547.58 L1187.78 1552.8 L1170.62 1552.8 L1170.62 1547.58 Z\" fill=\"#000000\" fill-rule=\"evenodd\" fill-opacity=\"1\" /><path clip-path=\"url(#clip820)\" d=\"M1199.04 1562.63 L1209.55 1562.63 L1209.55 1526.38 L1198.12 1528.67 L1198.12 1522.82 L1209.48 1520.52 L1215.91 1520.52 L1215.91 1562.63 L1226.42 1562.63 L1226.42 1568.04 L1199.04 1568.04 L1199.04 1562.63 Z\" fill=\"#000000\" fill-rule=\"evenodd\" fill-opacity=\"1\" /><path clip-path=\"url(#clip820)\" d=\"M1239.59 1567.06 L1239.59 1561.2 Q1242.01 1562.35 1244.49 1562.95 Q1246.98 1563.56 1249.36 1563.56 Q1255.73 1563.56 1259.07 1559.29 Q1262.45 1554.99 1262.92 1546.27 Q1261.08 1549.01 1258.24 1550.47 Q1255.41 1551.94 1251.97 1551.94 Q1244.84 1551.94 1240.67 1547.64 Q1236.54 1543.31 1236.54 1535.83 Q1236.54 1528.51 1240.87 1524.09 Q1245.19 1519.66 1252.39 1519.66 Q1260.63 1519.66 1264.96 1526 Q1269.32 1532.3 1269.32 1544.33 Q1269.32 1555.57 1263.97 1562.28 Q1258.66 1568.97 1249.65 1568.97 Q1247.23 1568.97 1244.75 1568.49 Q1242.27 1568.01 1239.59 1567.06 M1252.39 1546.91 Q1256.72 1546.91 1259.23 1543.95 Q1261.78 1540.99 1261.78 1535.83 Q1261.78 1530.71 1259.23 1527.75 Q1256.72 1524.76 1252.39 1524.76 Q1248.06 1524.76 1245.51 1527.75 Q1243 1530.71 1243 1535.83 Q1243 1540.99 1245.51 1543.95 Q1248.06 1546.91 1252.39 1546.91 Z\" fill=\"#000000\" fill-rule=\"evenodd\" fill-opacity=\"1\" /><path clip-path=\"url(#clip820)\" d=\"M1300.35 1542.42 Q1304.97 1543.41 1307.55 1546.53 Q1310.16 1549.65 1310.16 1554.23 Q1310.16 1561.26 1305.32 1565.12 Q1300.48 1568.97 1291.57 1568.97 Q1288.58 1568.97 1285.39 1568.36 Q1282.24 1567.79 1278.87 1566.61 L1278.87 1560.4 Q1281.54 1561.96 1284.73 1562.76 Q1287.91 1563.56 1291.38 1563.56 Q1297.43 1563.56 1300.58 1561.17 Q1303.76 1558.78 1303.76 1554.23 Q1303.76 1550.03 1300.8 1547.67 Q1297.87 1545.29 1292.62 1545.29 L1287.08 1545.29 L1287.08 1540 L1292.87 1540 Q1297.62 1540 1300.13 1538.13 Q1302.64 1536.22 1302.64 1532.65 Q1302.64 1528.99 1300.03 1527.05 Q1297.46 1525.08 1292.62 1525.08 Q1289.98 1525.08 1286.95 1525.65 Q1283.93 1526.22 1280.3 1527.43 L1280.3 1521.7 Q1283.96 1520.68 1287.14 1520.17 Q1290.36 1519.66 1293.19 1519.66 Q1300.51 1519.66 1304.78 1523.01 Q1309.04 1526.32 1309.04 1531.98 Q1309.04 1535.93 1306.78 1538.67 Q1304.52 1541.37 1300.35 1542.42 Z\" fill=\"#000000\" fill-rule=\"evenodd\" fill-opacity=\"1\" /><path clip-path=\"url(#clip820)\" d=\"M1327.88 1562.63 L1350.32 1562.63 L1350.32 1568.04 L1320.15 1568.04 L1320.15 1562.63 Q1323.81 1558.85 1330.11 1552.48 Q1336.45 1546.08 1338.07 1544.24 Q1341.16 1540.77 1342.37 1538.38 Q1343.61 1535.96 1343.61 1533.64 Q1343.61 1529.85 1340.93 1527.46 Q1338.29 1525.08 1334.03 1525.08 Q1331 1525.08 1327.63 1526.13 Q1324.29 1527.18 1320.47 1529.31 L1320.47 1522.82 Q1324.35 1521.26 1327.73 1520.46 Q1331.1 1519.66 1333.9 1519.66 Q1341.28 1519.66 1345.68 1523.36 Q1350.07 1527.05 1350.07 1533.22 Q1350.07 1536.15 1348.96 1538.79 Q1347.87 1541.4 1344.98 1544.97 Q1344.18 1545.89 1339.92 1550.32 Q1335.65 1554.71 1327.88 1562.63 Z\" fill=\"#000000\" fill-rule=\"evenodd\" fill-opacity=\"1\" /><path clip-path=\"url(#clip820)\" d=\"M1364.49 1559.96 L1371.2 1559.96 L1371.2 1565.43 L1365.98 1575.62 L1361.88 1575.62 L1364.49 1565.43 L1364.49 1559.96 Z\" fill=\"#000000\" fill-rule=\"evenodd\" fill-opacity=\"1\" /><path clip-path=\"url(#clip820)\" d=\"M1410.8 1562.63 L1433.24 1562.63 L1433.24 1568.04 L1403.06 1568.04 L1403.06 1562.63 Q1406.72 1558.85 1413.03 1552.48 Q1419.36 1546.08 1420.98 1544.24 Q1424.07 1540.77 1425.28 1538.38 Q1426.52 1535.96 1426.52 1533.64 Q1426.52 1529.85 1423.85 1527.46 Q1421.21 1525.08 1416.94 1525.08 Q1413.92 1525.08 1410.54 1526.13 Q1407.2 1527.18 1403.38 1529.31 L1403.38 1522.82 Q1407.27 1521.26 1410.64 1520.46 Q1414.01 1519.66 1416.81 1519.66 Q1424.2 1519.66 1428.59 1523.36 Q1432.98 1527.05 1432.98 1533.22 Q1432.98 1536.15 1431.87 1538.79 Q1430.79 1541.4 1427.89 1544.97 Q1427.09 1545.89 1422.83 1550.32 Q1418.56 1554.71 1410.8 1562.63 Z\" fill=\"#000000\" fill-rule=\"evenodd\" fill-opacity=\"1\" /><path clip-path=\"url(#clip820)\" d=\"M1460.48 1524.76 Q1455.52 1524.76 1453 1529.66 Q1450.52 1534.53 1450.52 1544.33 Q1450.52 1554.1 1453 1559 Q1455.52 1563.87 1460.48 1563.87 Q1465.48 1563.87 1467.96 1559 Q1470.48 1554.1 1470.48 1544.33 Q1470.48 1534.53 1467.96 1529.66 Q1465.48 1524.76 1460.48 1524.76 M1460.48 1519.66 Q1468.47 1519.66 1472.67 1526 Q1476.91 1532.3 1476.91 1544.33 Q1476.91 1556.33 1472.67 1562.66 Q1468.47 1568.97 1460.48 1568.97 Q1452.49 1568.97 1448.26 1562.66 Q1444.06 1556.33 1444.06 1544.33 Q1444.06 1532.3 1448.26 1526 Q1452.49 1519.66 1460.48 1519.66 Z\" fill=\"#000000\" fill-rule=\"evenodd\" fill-opacity=\"1\" /><path clip-path=\"url(#clip820)\" d=\"M1489.32 1562.63 L1499.82 1562.63 L1499.82 1526.38 L1488.4 1528.67 L1488.4 1522.82 L1499.76 1520.52 L1506.19 1520.52 L1506.19 1562.63 L1516.69 1562.63 L1516.69 1568.04 L1489.32 1568.04 L1489.32 1562.63 Z\" fill=\"#000000\" fill-rule=\"evenodd\" fill-opacity=\"1\" /><path clip-path=\"url(#clip820)\" d=\"M1535.22 1562.63 L1557.66 1562.63 L1557.66 1568.04 L1527.48 1568.04 L1527.48 1562.63 Q1531.14 1558.85 1537.44 1552.48 Q1543.78 1546.08 1545.4 1544.24 Q1548.49 1540.77 1549.7 1538.38 Q1550.94 1535.96 1550.94 1533.64 Q1550.94 1529.85 1548.27 1527.46 Q1545.62 1525.08 1541.36 1525.08 Q1538.34 1525.08 1534.96 1526.13 Q1531.62 1527.18 1527.8 1529.31 L1527.8 1522.82 Q1531.68 1521.26 1535.06 1520.46 Q1538.43 1519.66 1541.23 1519.66 Q1548.62 1519.66 1553.01 1523.36 Q1557.4 1527.05 1557.4 1533.22 Q1557.4 1536.15 1556.29 1538.79 Q1555.2 1541.4 1552.31 1544.97 Q1551.51 1545.89 1547.25 1550.32 Q1542.98 1554.71 1535.22 1562.63 Z\" fill=\"#000000\" fill-rule=\"evenodd\" fill-opacity=\"1\" /><path clip-path=\"url(#clip820)\" d=\"M1567.36 1547.58 L1584.52 1547.58 L1584.52 1552.8 L1567.36 1552.8 L1567.36 1547.58 Z\" fill=\"#000000\" fill-rule=\"evenodd\" fill-opacity=\"1\" /><path clip-path=\"url(#clip820)\" d=\"M1600.21 1562.63 L1622.65 1562.63 L1622.65 1568.04 L1592.48 1568.04 L1592.48 1562.63 Q1596.14 1558.85 1602.44 1552.48 Q1608.77 1546.08 1610.39 1544.24 Q1613.48 1540.77 1614.69 1538.38 Q1615.93 1535.96 1615.93 1533.64 Q1615.93 1529.85 1613.26 1527.46 Q1610.62 1525.08 1606.35 1525.08 Q1603.33 1525.08 1599.96 1526.13 Q1596.61 1527.18 1592.79 1529.31 L1592.79 1522.82 Q1596.68 1521.26 1600.05 1520.46 Q1603.42 1519.66 1606.23 1519.66 Q1613.61 1519.66 1618 1523.36 Q1622.39 1527.05 1622.39 1533.22 Q1622.39 1536.15 1621.28 1538.79 Q1620.2 1541.4 1617.3 1544.97 Q1616.51 1545.89 1612.24 1550.32 Q1607.98 1554.71 1600.21 1562.63 Z\" fill=\"#000000\" fill-rule=\"evenodd\" fill-opacity=\"1\" /><path clip-path=\"url(#clip820)\" d=\"M1649.89 1524.76 Q1644.93 1524.76 1642.41 1529.66 Q1639.93 1534.53 1639.93 1544.33 Q1639.93 1554.1 1642.41 1559 Q1644.93 1563.87 1649.89 1563.87 Q1654.89 1563.87 1657.37 1559 Q1659.89 1554.1 1659.89 1544.33 Q1659.89 1534.53 1657.37 1529.66 Q1654.89 1524.76 1649.89 1524.76 M1649.89 1519.66 Q1657.88 1519.66 1662.08 1526 Q1666.32 1532.3 1666.32 1544.33 Q1666.32 1556.33 1662.08 1562.66 Q1657.88 1568.97 1649.89 1568.97 Q1641.91 1568.97 1637.67 1562.66 Q1633.47 1556.33 1633.47 1544.33 Q1633.47 1532.3 1637.67 1526 Q1641.91 1519.66 1649.89 1519.66 Z\" fill=\"#000000\" fill-rule=\"evenodd\" fill-opacity=\"1\" /><path clip-path=\"url(#clip820)\" d=\"M1683.16 1562.63 L1705.59 1562.63 L1705.59 1568.04 L1675.42 1568.04 L1675.42 1562.63 Q1679.08 1558.85 1685.38 1552.48 Q1691.72 1546.08 1693.34 1544.24 Q1696.43 1540.77 1697.64 1538.38 Q1698.88 1535.96 1698.88 1533.64 Q1698.88 1529.85 1696.2 1527.46 Q1693.56 1525.08 1689.3 1525.08 Q1686.27 1525.08 1682.9 1526.13 Q1679.56 1527.18 1675.74 1529.31 L1675.74 1522.82 Q1679.62 1521.26 1683 1520.46 Q1686.37 1519.66 1689.17 1519.66 Q1696.55 1519.66 1700.95 1523.36 Q1705.34 1527.05 1705.34 1533.22 Q1705.34 1536.15 1704.23 1538.79 Q1703.14 1541.4 1700.25 1544.97 Q1699.45 1545.89 1695.19 1550.32 Q1690.92 1554.71 1683.16 1562.63 Z\" fill=\"#000000\" fill-rule=\"evenodd\" fill-opacity=\"1\" /><path clip-path=\"url(#clip820)\" d=\"M1724.63 1562.63 L1747.07 1562.63 L1747.07 1568.04 L1716.89 1568.04 L1716.89 1562.63 Q1720.55 1558.85 1726.86 1552.48 Q1733.19 1546.08 1734.81 1544.24 Q1737.9 1540.77 1739.11 1538.38 Q1740.35 1535.96 1740.35 1533.64 Q1740.35 1529.85 1737.68 1527.46 Q1735.04 1525.08 1730.77 1525.08 Q1727.75 1525.08 1724.37 1526.13 Q1721.03 1527.18 1717.21 1529.31 L1717.21 1522.82 Q1721.09 1521.26 1724.47 1520.46 Q1727.84 1519.66 1730.64 1519.66 Q1738.03 1519.66 1742.42 1523.36 Q1746.81 1527.05 1746.81 1533.22 Q1746.81 1536.15 1745.7 1538.79 Q1744.62 1541.4 1741.72 1544.97 Q1740.92 1545.89 1736.66 1550.32 Q1732.39 1554.71 1724.63 1562.63 Z\" fill=\"#000000\" fill-rule=\"evenodd\" fill-opacity=\"1\" /><path clip-path=\"url(#clip820)\" d=\"M1758.81 1518.58 L1763.9 1518.58 Q1768.68 1526.09 1771.03 1533.29 Q1773.42 1540.48 1773.42 1547.58 Q1773.42 1554.71 1771.03 1561.93 Q1768.68 1569.16 1763.9 1576.64 L1758.81 1576.64 Q1763.04 1569.35 1765.11 1562.16 Q1767.21 1554.93 1767.21 1547.58 Q1767.21 1540.23 1765.11 1533.06 Q1763.04 1525.9 1758.81 1518.58 Z\" fill=\"#000000\" fill-rule=\"evenodd\" fill-opacity=\"1\" /><polyline clip-path=\"url(#clip822)\" style=\"stroke:#000000; stroke-linecap:round; stroke-linejoin:round; stroke-width:2; stroke-opacity:0.1; fill:none\" points=\"\n",
       "  203.964,1308.24 2352.76,1308.24 \n",
       "  \"/>\n",
       "<polyline clip-path=\"url(#clip822)\" style=\"stroke:#000000; stroke-linecap:round; stroke-linejoin:round; stroke-width:2; stroke-opacity:0.1; fill:none\" points=\"\n",
       "  203.964,1069.97 2352.76,1069.97 \n",
       "  \"/>\n",
       "<polyline clip-path=\"url(#clip822)\" style=\"stroke:#000000; stroke-linecap:round; stroke-linejoin:round; stroke-width:2; stroke-opacity:0.1; fill:none\" points=\"\n",
       "  203.964,831.702 2352.76,831.702 \n",
       "  \"/>\n",
       "<polyline clip-path=\"url(#clip822)\" style=\"stroke:#000000; stroke-linecap:round; stroke-linejoin:round; stroke-width:2; stroke-opacity:0.1; fill:none\" points=\"\n",
       "  203.964,593.432 2352.76,593.432 \n",
       "  \"/>\n",
       "<polyline clip-path=\"url(#clip822)\" style=\"stroke:#000000; stroke-linecap:round; stroke-linejoin:round; stroke-width:2; stroke-opacity:0.1; fill:none\" points=\"\n",
       "  203.964,355.161 2352.76,355.161 \n",
       "  \"/>\n",
       "<polyline clip-path=\"url(#clip820)\" style=\"stroke:#000000; stroke-linecap:round; stroke-linejoin:round; stroke-width:4; stroke-opacity:1; fill:none\" points=\"\n",
       "  203.964,1423.18 203.964,123.472 \n",
       "  \"/>\n",
       "<polyline clip-path=\"url(#clip820)\" style=\"stroke:#000000; stroke-linecap:round; stroke-linejoin:round; stroke-width:4; stroke-opacity:1; fill:none\" points=\"\n",
       "  203.964,1308.24 222.861,1308.24 \n",
       "  \"/>\n",
       "<polyline clip-path=\"url(#clip820)\" style=\"stroke:#000000; stroke-linecap:round; stroke-linejoin:round; stroke-width:4; stroke-opacity:1; fill:none\" points=\"\n",
       "  203.964,1069.97 222.861,1069.97 \n",
       "  \"/>\n",
       "<polyline clip-path=\"url(#clip820)\" style=\"stroke:#000000; stroke-linecap:round; stroke-linejoin:round; stroke-width:4; stroke-opacity:1; fill:none\" points=\"\n",
       "  203.964,831.702 222.861,831.702 \n",
       "  \"/>\n",
       "<polyline clip-path=\"url(#clip820)\" style=\"stroke:#000000; stroke-linecap:round; stroke-linejoin:round; stroke-width:4; stroke-opacity:1; fill:none\" points=\"\n",
       "  203.964,593.432 222.861,593.432 \n",
       "  \"/>\n",
       "<polyline clip-path=\"url(#clip820)\" style=\"stroke:#000000; stroke-linecap:round; stroke-linejoin:round; stroke-width:4; stroke-opacity:1; fill:none\" points=\"\n",
       "  203.964,355.161 222.861,355.161 \n",
       "  \"/>\n",
       "<path clip-path=\"url(#clip820)\" d=\"M117.663 1321.59 L125.302 1321.59 L125.302 1295.22 L116.992 1296.89 L116.992 1292.63 L125.255 1290.96 L129.931 1290.96 L129.931 1321.59 L137.57 1321.59 L137.57 1325.52 L117.663 1325.52 L117.663 1321.59 Z\" fill=\"#000000\" fill-rule=\"evenodd\" fill-opacity=\"1\" /><path clip-path=\"url(#clip820)\" d=\"M147.061 1290.96 L165.417 1290.96 L165.417 1294.9 L151.343 1294.9 L151.343 1303.37 Q152.362 1303.02 153.38 1302.86 Q154.399 1302.68 155.417 1302.68 Q161.204 1302.68 164.584 1305.85 Q167.964 1309.02 167.964 1314.44 Q167.964 1320.01 164.491 1323.12 Q161.019 1326.19 154.7 1326.19 Q152.524 1326.19 150.255 1325.82 Q148.01 1325.45 145.603 1324.71 L145.603 1320.01 Q147.686 1321.15 149.908 1321.7 Q152.13 1322.26 154.607 1322.26 Q158.612 1322.26 160.95 1320.15 Q163.288 1318.05 163.288 1314.44 Q163.288 1310.82 160.95 1308.72 Q158.612 1306.61 154.607 1306.61 Q152.732 1306.61 150.857 1307.03 Q149.005 1307.44 147.061 1308.32 L147.061 1290.96 Z\" fill=\"#000000\" fill-rule=\"evenodd\" fill-opacity=\"1\" /><path clip-path=\"url(#clip820)\" d=\"M119.885 1083.32 L136.204 1083.32 L136.204 1087.25 L114.26 1087.25 L114.26 1083.32 Q116.922 1080.56 121.505 1075.93 Q126.112 1071.28 127.292 1069.94 Q129.538 1067.41 130.417 1065.68 Q131.32 1063.92 131.32 1062.23 Q131.32 1059.47 129.376 1057.74 Q127.455 1056 124.353 1056 Q122.154 1056 119.7 1056.77 Q117.269 1057.53 114.492 1059.08 L114.492 1054.36 Q117.316 1053.23 119.769 1052.65 Q122.223 1052.07 124.26 1052.07 Q129.63 1052.07 132.825 1054.75 Q136.019 1057.44 136.019 1061.93 Q136.019 1064.06 135.209 1065.98 Q134.422 1067.88 132.316 1070.47 Q131.737 1071.14 128.635 1074.36 Q125.533 1077.55 119.885 1083.32 Z\" fill=\"#000000\" fill-rule=\"evenodd\" fill-opacity=\"1\" /><path clip-path=\"url(#clip820)\" d=\"M156.019 1055.77 Q152.408 1055.77 150.579 1059.34 Q148.774 1062.88 148.774 1070.01 Q148.774 1077.11 150.579 1080.68 Q152.408 1084.22 156.019 1084.22 Q159.653 1084.22 161.459 1080.68 Q163.288 1077.11 163.288 1070.01 Q163.288 1062.88 161.459 1059.34 Q159.653 1055.77 156.019 1055.77 M156.019 1052.07 Q161.829 1052.07 164.885 1056.67 Q167.964 1061.26 167.964 1070.01 Q167.964 1078.73 164.885 1083.34 Q161.829 1087.92 156.019 1087.92 Q150.209 1087.92 147.13 1083.34 Q144.075 1078.73 144.075 1070.01 Q144.075 1061.26 147.13 1056.67 Q150.209 1052.07 156.019 1052.07 Z\" fill=\"#000000\" fill-rule=\"evenodd\" fill-opacity=\"1\" /><path clip-path=\"url(#clip820)\" d=\"M120.88 845.047 L137.2 845.047 L137.2 848.982 L115.256 848.982 L115.256 845.047 Q117.918 842.292 122.501 837.663 Q127.107 833.01 128.288 831.668 Q130.533 829.144 131.413 827.408 Q132.316 825.649 132.316 823.959 Q132.316 821.205 130.371 819.468 Q128.45 817.732 125.348 817.732 Q123.149 817.732 120.695 818.496 Q118.265 819.26 115.487 820.811 L115.487 816.089 Q118.311 814.955 120.765 814.376 Q123.218 813.797 125.255 813.797 Q130.626 813.797 133.82 816.482 Q137.015 819.168 137.015 823.658 Q137.015 825.788 136.204 827.709 Q135.417 829.607 133.311 832.2 Q132.732 832.871 129.63 836.089 Q126.529 839.283 120.88 845.047 Z\" fill=\"#000000\" fill-rule=\"evenodd\" fill-opacity=\"1\" /><path clip-path=\"url(#clip820)\" d=\"M147.061 814.422 L165.417 814.422 L165.417 818.357 L151.343 818.357 L151.343 826.83 Q152.362 826.482 153.38 826.32 Q154.399 826.135 155.417 826.135 Q161.204 826.135 164.584 829.306 Q167.964 832.478 167.964 837.894 Q167.964 843.473 164.491 846.575 Q161.019 849.654 154.7 849.654 Q152.524 849.654 150.255 849.283 Q148.01 848.913 145.603 848.172 L145.603 843.473 Q147.686 844.607 149.908 845.163 Q152.13 845.718 154.607 845.718 Q158.612 845.718 160.95 843.612 Q163.288 841.505 163.288 837.894 Q163.288 834.283 160.95 832.177 Q158.612 830.07 154.607 830.07 Q152.732 830.07 150.857 830.487 Q149.005 830.904 147.061 831.783 L147.061 814.422 Z\" fill=\"#000000\" fill-rule=\"evenodd\" fill-opacity=\"1\" /><path clip-path=\"url(#clip820)\" d=\"M130.024 592.078 Q133.38 592.795 135.255 595.064 Q137.154 597.332 137.154 600.666 Q137.154 605.781 133.635 608.582 Q130.117 611.383 123.635 611.383 Q121.459 611.383 119.144 610.943 Q116.853 610.527 114.399 609.67 L114.399 605.156 Q116.343 606.291 118.658 606.869 Q120.973 607.448 123.496 607.448 Q127.894 607.448 130.186 605.712 Q132.501 603.976 132.501 600.666 Q132.501 597.61 130.348 595.897 Q128.218 594.161 124.399 594.161 L120.371 594.161 L120.371 590.318 L124.584 590.318 Q128.033 590.318 129.862 588.953 Q131.691 587.564 131.691 584.971 Q131.691 582.309 129.792 580.897 Q127.917 579.462 124.399 579.462 Q122.478 579.462 120.279 579.879 Q118.08 580.295 115.441 581.175 L115.441 577.008 Q118.103 576.268 120.418 575.897 Q122.755 575.527 124.816 575.527 Q130.14 575.527 133.242 577.957 Q136.343 580.365 136.343 584.485 Q136.343 587.355 134.7 589.346 Q133.056 591.314 130.024 592.078 Z\" fill=\"#000000\" fill-rule=\"evenodd\" fill-opacity=\"1\" /><path clip-path=\"url(#clip820)\" d=\"M156.019 579.231 Q152.408 579.231 150.579 582.795 Q148.774 586.337 148.774 593.467 Q148.774 600.573 150.579 604.138 Q152.408 607.679 156.019 607.679 Q159.653 607.679 161.459 604.138 Q163.288 600.573 163.288 593.467 Q163.288 586.337 161.459 582.795 Q159.653 579.231 156.019 579.231 M156.019 575.527 Q161.829 575.527 164.885 580.133 Q167.964 584.717 167.964 593.467 Q167.964 602.193 164.885 606.8 Q161.829 611.383 156.019 611.383 Q150.209 611.383 147.13 606.8 Q144.075 602.193 144.075 593.467 Q144.075 584.717 147.13 580.133 Q150.209 575.527 156.019 575.527 Z\" fill=\"#000000\" fill-rule=\"evenodd\" fill-opacity=\"1\" /><path clip-path=\"url(#clip820)\" d=\"M131.019 353.807 Q134.376 354.525 136.251 356.793 Q138.149 359.062 138.149 362.395 Q138.149 367.511 134.63 370.312 Q131.112 373.113 124.63 373.113 Q122.455 373.113 120.14 372.673 Q117.848 372.256 115.394 371.4 L115.394 366.886 Q117.339 368.02 119.654 368.599 Q121.968 369.178 124.492 369.178 Q128.89 369.178 131.181 367.442 Q133.496 365.705 133.496 362.395 Q133.496 359.34 131.343 357.627 Q129.214 355.891 125.394 355.891 L121.367 355.891 L121.367 352.048 L125.58 352.048 Q129.029 352.048 130.857 350.682 Q132.686 349.293 132.686 346.701 Q132.686 344.039 130.788 342.627 Q128.913 341.192 125.394 341.192 Q123.473 341.192 121.274 341.608 Q119.075 342.025 116.436 342.905 L116.436 338.738 Q119.098 337.997 121.413 337.627 Q123.751 337.256 125.811 337.256 Q131.135 337.256 134.237 339.687 Q137.339 342.094 137.339 346.215 Q137.339 349.085 135.695 351.076 Q134.052 353.043 131.019 353.807 Z\" fill=\"#000000\" fill-rule=\"evenodd\" fill-opacity=\"1\" /><path clip-path=\"url(#clip820)\" d=\"M147.061 337.881 L165.417 337.881 L165.417 341.817 L151.343 341.817 L151.343 350.289 Q152.362 349.942 153.38 349.78 Q154.399 349.594 155.417 349.594 Q161.204 349.594 164.584 352.766 Q167.964 355.937 167.964 361.354 Q167.964 366.932 164.491 370.034 Q161.019 373.113 154.7 373.113 Q152.524 373.113 150.255 372.742 Q148.01 372.372 145.603 371.631 L145.603 366.932 Q147.686 368.066 149.908 368.622 Q152.13 369.178 154.607 369.178 Q158.612 369.178 160.95 367.071 Q163.288 364.965 163.288 361.354 Q163.288 357.742 160.95 355.636 Q158.612 353.53 154.607 353.53 Q152.732 353.53 150.857 353.946 Q149.005 354.363 147.061 355.242 L147.061 337.881 Z\" fill=\"#000000\" fill-rule=\"evenodd\" fill-opacity=\"1\" /><path clip-path=\"url(#clip820)\" d=\"M16.4842 1180.91 L16.4842 1140.71 L21.895 1140.71 L21.895 1157.58 L64.0042 1157.58 L64.0042 1164.04 L21.895 1164.04 L21.895 1180.91 L16.4842 1180.91 Z\" fill=\"#000000\" fill-rule=\"evenodd\" fill-opacity=\"1\" /><path clip-path=\"url(#clip820)\" d=\"M44.7161 1115.34 L47.5806 1115.34 L47.5806 1142.27 Q53.6281 1141.88 56.8109 1138.64 Q59.9619 1135.36 59.9619 1129.54 Q59.9619 1126.16 59.1344 1123.01 Q58.3069 1119.83 56.6518 1116.71 L62.1899 1116.71 Q63.5267 1119.86 64.227 1123.17 Q64.9272 1126.48 64.9272 1129.89 Q64.9272 1138.42 59.9619 1143.41 Q54.9967 1148.38 46.5303 1148.38 Q37.7774 1148.38 32.6531 1143.67 Q27.4968 1138.92 27.4968 1130.9 Q27.4968 1123.71 32.1438 1119.54 Q36.7589 1115.34 44.7161 1115.34 M42.9973 1121.2 Q38.1912 1121.26 35.3266 1123.9 Q32.4621 1126.51 32.4621 1130.84 Q32.4621 1135.74 35.2312 1138.7 Q38.0002 1141.63 43.0292 1142.08 L42.9973 1121.2 Z\" fill=\"#000000\" fill-rule=\"evenodd\" fill-opacity=\"1\" /><path clip-path=\"url(#clip820)\" d=\"M35.1993 1077.97 Q31.2526 1075.78 29.3747 1072.72 Q27.4968 1069.67 27.4968 1065.53 Q27.4968 1059.96 31.4117 1056.93 Q35.2948 1053.91 42.4881 1053.91 L64.0042 1053.91 L64.0042 1059.8 L42.679 1059.8 Q37.5546 1059.8 35.072 1061.61 Q32.5894 1063.43 32.5894 1067.15 Q32.5894 1071.7 35.6131 1074.34 Q38.6368 1076.99 43.8567 1076.99 L64.0042 1076.99 L64.0042 1082.87 L42.679 1082.87 Q37.5228 1082.87 35.072 1084.69 Q32.5894 1086.5 32.5894 1090.29 Q32.5894 1094.78 35.6449 1097.42 Q38.6686 1100.06 43.8567 1100.06 L64.0042 1100.06 L64.0042 1105.95 L28.3562 1105.95 L28.3562 1100.06 L33.8944 1100.06 Q30.616 1098.06 29.0564 1095.26 Q27.4968 1092.45 27.4968 1088.6 Q27.4968 1084.72 29.4702 1082.02 Q31.4436 1079.28 35.1993 1077.97 Z\" fill=\"#000000\" fill-rule=\"evenodd\" fill-opacity=\"1\" /><path clip-path=\"url(#clip820)\" d=\"M58.657 1036.56 L77.5631 1036.56 L77.5631 1042.45 L28.3562 1042.45 L28.3562 1036.56 L33.7671 1036.56 Q30.5842 1034.72 29.0564 1031.92 Q27.4968 1029.08 27.4968 1025.17 Q27.4968 1018.68 32.6531 1014.63 Q37.8093 1010.56 46.212 1010.56 Q54.6147 1010.56 59.771 1014.63 Q64.9272 1018.68 64.9272 1025.17 Q64.9272 1029.08 63.3994 1031.92 Q61.8398 1034.72 58.657 1036.56 M46.212 1016.64 Q39.7508 1016.64 36.0905 1019.31 Q32.3984 1021.95 32.3984 1026.6 Q32.3984 1031.25 36.0905 1033.92 Q39.7508 1036.56 46.212 1036.56 Q52.6732 1036.56 56.3653 1033.92 Q60.0256 1031.25 60.0256 1026.6 Q60.0256 1021.95 56.3653 1019.31 Q52.6732 1016.64 46.212 1016.64 Z\" fill=\"#000000\" fill-rule=\"evenodd\" fill-opacity=\"1\" /><path clip-path=\"url(#clip820)\" d=\"M44.7161 970.361 L47.5806 970.361 L47.5806 997.287 Q53.6281 996.906 56.8109 993.659 Q59.9619 990.381 59.9619 984.556 Q59.9619 981.182 59.1344 978.031 Q58.3069 974.848 56.6518 971.729 L62.1899 971.729 Q63.5267 974.88 64.227 978.19 Q64.9272 981.501 64.9272 984.906 Q64.9272 993.436 59.9619 998.433 Q54.9967 1003.4 46.5303 1003.4 Q37.7774 1003.4 32.6531 998.688 Q27.4968 993.945 27.4968 985.925 Q27.4968 978.731 32.1438 974.562 Q36.7589 970.361 44.7161 970.361 M42.9973 976.217 Q38.1912 976.281 35.3266 978.922 Q32.4621 981.532 32.4621 985.861 Q32.4621 990.763 35.2312 993.723 Q38.0002 996.651 43.0292 997.096 L42.9973 976.217 Z\" fill=\"#000000\" fill-rule=\"evenodd\" fill-opacity=\"1\" /><path clip-path=\"url(#clip820)\" d=\"M33.8307 940.092 Q33.2578 941.078 33.0032 942.256 Q32.7167 943.402 32.7167 944.802 Q32.7167 949.767 35.9632 952.441 Q39.1779 955.083 45.2253 955.083 L64.0042 955.083 L64.0042 960.971 L28.3562 960.971 L28.3562 955.083 L33.8944 955.083 Q30.6479 953.237 29.0883 950.277 Q27.4968 947.317 27.4968 943.083 Q27.4968 942.479 27.5923 941.747 Q27.656 941.015 27.8151 940.123 L33.8307 940.092 Z\" fill=\"#000000\" fill-rule=\"evenodd\" fill-opacity=\"1\" /><path clip-path=\"url(#clip820)\" d=\"M46.0847 917.748 Q46.0847 924.846 47.7079 927.583 Q49.3312 930.32 53.2461 930.32 Q56.3653 930.32 58.2114 928.283 Q60.0256 926.214 60.0256 922.681 Q60.0256 917.812 56.5881 914.883 Q53.1188 911.923 47.3897 911.923 L46.0847 911.923 L46.0847 917.748 M43.6657 906.067 L64.0042 906.067 L64.0042 911.923 L58.5933 911.923 Q61.8398 913.929 63.3994 916.92 Q64.9272 919.912 64.9272 924.241 Q64.9272 929.715 61.8716 932.962 Q58.7843 936.177 53.6281 936.177 Q47.6125 936.177 44.5569 932.166 Q41.5014 928.124 41.5014 920.135 L41.5014 911.923 L40.9285 911.923 Q36.8862 911.923 34.6901 914.597 Q32.4621 917.239 32.4621 922.045 Q32.4621 925.1 33.1941 927.997 Q33.9262 930.893 35.3903 933.567 L29.9795 933.567 Q28.7381 930.352 28.1334 927.328 Q27.4968 924.305 27.4968 921.44 Q27.4968 913.706 31.5072 909.886 Q35.5176 906.067 43.6657 906.067 Z\" fill=\"#000000\" fill-rule=\"evenodd\" fill-opacity=\"1\" /><path clip-path=\"url(#clip820)\" d=\"M18.2347 888.211 L28.3562 888.211 L28.3562 876.148 L32.9077 876.148 L32.9077 888.211 L52.2594 888.211 Q56.6199 888.211 57.8613 887.033 Q59.1026 885.824 59.1026 882.164 L59.1026 876.148 L64.0042 876.148 L64.0042 882.164 Q64.0042 888.943 61.4897 891.521 Q58.9434 894.099 52.2594 894.099 L32.9077 894.099 L32.9077 898.396 L28.3562 898.396 L28.3562 894.099 L18.2347 894.099 L18.2347 888.211 Z\" fill=\"#000000\" fill-rule=\"evenodd\" fill-opacity=\"1\" /><path clip-path=\"url(#clip820)\" d=\"M49.9359 869.05 L28.3562 869.05 L28.3562 863.194 L49.7131 863.194 Q54.7739 863.194 57.3202 861.22 Q59.8346 859.247 59.8346 855.3 Q59.8346 850.558 56.8109 847.821 Q53.7872 845.052 48.5673 845.052 L28.3562 845.052 L28.3562 839.195 L64.0042 839.195 L64.0042 845.052 L58.5296 845.052 Q61.7762 847.184 63.3676 850.017 Q64.9272 852.818 64.9272 856.542 Q64.9272 862.685 61.1078 865.867 Q57.2883 869.05 49.9359 869.05 M27.4968 854.314 L27.4968 854.314 Z\" fill=\"#000000\" fill-rule=\"evenodd\" fill-opacity=\"1\" /><path clip-path=\"url(#clip820)\" d=\"M33.8307 806.475 Q33.2578 807.462 33.0032 808.64 Q32.7167 809.786 32.7167 811.186 Q32.7167 816.151 35.9632 818.825 Q39.1779 821.467 45.2253 821.467 L64.0042 821.467 L64.0042 827.355 L28.3562 827.355 L28.3562 821.467 L33.8944 821.467 Q30.6479 819.621 29.0883 816.661 Q27.4968 813.7 27.4968 809.467 Q27.4968 808.863 27.5923 808.13 Q27.656 807.398 27.8151 806.507 L33.8307 806.475 Z\" fill=\"#000000\" fill-rule=\"evenodd\" fill-opacity=\"1\" /><path clip-path=\"url(#clip820)\" d=\"M44.7161 771.273 L47.5806 771.273 L47.5806 798.2 Q53.6281 797.818 56.8109 794.572 Q59.9619 791.293 59.9619 785.469 Q59.9619 782.095 59.1344 778.944 Q58.3069 775.761 56.6518 772.642 L62.1899 772.642 Q63.5267 775.793 64.227 779.103 Q64.9272 782.413 64.9272 785.819 Q64.9272 794.349 59.9619 799.346 Q54.9967 804.311 46.5303 804.311 Q37.7774 804.311 32.6531 799.6 Q27.4968 794.858 27.4968 786.837 Q27.4968 779.644 32.1438 775.474 Q36.7589 771.273 44.7161 771.273 M42.9973 777.129 Q38.1912 777.193 35.3266 779.835 Q32.4621 782.445 32.4621 786.774 Q32.4621 791.675 35.2312 794.635 Q38.0002 797.563 43.0292 798.009 L42.9973 777.129 Z\" fill=\"#000000\" fill-rule=\"evenodd\" fill-opacity=\"1\" /><path clip-path=\"url(#clip820)\" d=\"M14.5426 726.872 Q21.8632 731.137 29.0246 733.206 Q36.186 735.275 43.5384 735.275 Q50.8908 735.275 58.1159 733.206 Q65.3091 731.105 72.5979 726.872 L72.5979 731.965 Q65.1182 736.739 57.8931 739.126 Q50.668 741.482 43.5384 741.482 Q36.4406 741.482 29.2474 739.126 Q22.0542 736.771 14.5426 731.965 L14.5426 726.872 Z\" fill=\"#000000\" fill-rule=\"evenodd\" fill-opacity=\"1\" /><path clip-path=\"url(#clip820)\" d=\"M14.479 697.463 L19.3487 697.463 L19.3487 703.064 Q19.3487 706.216 20.6219 707.457 Q21.895 708.666 25.2052 708.666 L28.3562 708.666 L28.3562 699.022 L32.9077 699.022 L32.9077 708.666 L64.0042 708.666 L64.0042 714.555 L32.9077 714.555 L32.9077 720.156 L28.3562 720.156 L28.3562 714.555 L25.8736 714.555 Q19.9216 714.555 17.2162 711.786 Q14.479 709.016 14.479 703.001 L14.479 697.463 Z\" fill=\"#000000\" fill-rule=\"evenodd\" fill-opacity=\"1\" /><path clip-path=\"url(#clip820)\" d=\"M46.0847 676.36 Q46.0847 683.458 47.7079 686.195 Q49.3312 688.933 53.2461 688.933 Q56.3653 688.933 58.2114 686.896 Q60.0256 684.827 60.0256 681.294 Q60.0256 676.424 56.5881 673.496 Q53.1188 670.536 47.3897 670.536 L46.0847 670.536 L46.0847 676.36 M43.6657 664.679 L64.0042 664.679 L64.0042 670.536 L58.5933 670.536 Q61.8398 672.541 63.3994 675.533 Q64.9272 678.525 64.9272 682.853 Q64.9272 688.328 61.8716 691.574 Q58.7843 694.789 53.6281 694.789 Q47.6125 694.789 44.5569 690.779 Q41.5014 686.736 41.5014 678.747 L41.5014 670.536 L40.9285 670.536 Q36.8862 670.536 34.6901 673.209 Q32.4621 675.851 32.4621 680.657 Q32.4621 683.713 33.1941 686.609 Q33.9262 689.506 35.3903 692.179 L29.9795 692.179 Q28.7381 688.964 28.1334 685.941 Q27.4968 682.917 27.4968 680.052 Q27.4968 672.318 31.5072 668.499 Q35.5176 664.679 43.6657 664.679 Z\" fill=\"#000000\" fill-rule=\"evenodd\" fill-opacity=\"1\" /><path clip-path=\"url(#clip820)\" d=\"M42.4881 622.984 L64.0042 622.984 L64.0042 628.84 L42.679 628.84 Q37.6183 628.84 35.1038 630.814 Q32.5894 632.787 32.5894 636.734 Q32.5894 641.476 35.6131 644.214 Q38.6368 646.951 43.8567 646.951 L64.0042 646.951 L64.0042 652.839 L14.479 652.839 L14.479 646.951 L33.8944 646.951 Q30.6797 644.85 29.0883 642.017 Q27.4968 639.153 27.4968 635.429 Q27.4968 629.286 31.3163 626.135 Q35.1038 622.984 42.4881 622.984 Z\" fill=\"#000000\" fill-rule=\"evenodd\" fill-opacity=\"1\" /><path clip-path=\"url(#clip820)\" d=\"M33.8307 590.646 Q33.2578 591.633 33.0032 592.81 Q32.7167 593.956 32.7167 595.357 Q32.7167 600.322 35.9632 602.996 Q39.1779 605.637 45.2253 605.637 L64.0042 605.637 L64.0042 611.526 L28.3562 611.526 L28.3562 605.637 L33.8944 605.637 Q30.6479 603.791 29.0883 600.831 Q27.4968 597.871 27.4968 593.638 Q27.4968 593.033 27.5923 592.301 Q27.656 591.569 27.8151 590.678 L33.8307 590.646 Z\" fill=\"#000000\" fill-rule=\"evenodd\" fill-opacity=\"1\" /><path clip-path=\"url(#clip820)\" d=\"M44.7161 555.444 L47.5806 555.444 L47.5806 582.371 Q53.6281 581.989 56.8109 578.742 Q59.9619 575.464 59.9619 569.639 Q59.9619 566.265 59.1344 563.114 Q58.3069 559.932 56.6518 556.812 L62.1899 556.812 Q63.5267 559.963 64.227 563.274 Q64.9272 566.584 64.9272 569.989 Q64.9272 578.519 59.9619 583.517 Q54.9967 588.482 46.5303 588.482 Q37.7774 588.482 32.6531 583.771 Q27.4968 579.029 27.4968 571.008 Q27.4968 563.815 32.1438 559.645 Q36.7589 555.444 44.7161 555.444 M42.9973 561.3 Q38.1912 561.364 35.3266 564.006 Q32.4621 566.616 32.4621 570.944 Q32.4621 575.846 35.2312 578.806 Q38.0002 581.734 43.0292 582.18 L42.9973 561.3 Z\" fill=\"#000000\" fill-rule=\"evenodd\" fill-opacity=\"1\" /><path clip-path=\"url(#clip820)\" d=\"M42.4881 516.199 L64.0042 516.199 L64.0042 522.056 L42.679 522.056 Q37.6183 522.056 35.1038 524.029 Q32.5894 526.002 32.5894 529.949 Q32.5894 534.692 35.6131 537.429 Q38.6368 540.166 43.8567 540.166 L64.0042 540.166 L64.0042 546.054 L28.3562 546.054 L28.3562 540.166 L33.8944 540.166 Q30.6797 538.065 29.0883 535.233 Q27.4968 532.368 27.4968 528.644 Q27.4968 522.501 31.3163 519.35 Q35.1038 516.199 42.4881 516.199 Z\" fill=\"#000000\" fill-rule=\"evenodd\" fill-opacity=\"1\" /><path clip-path=\"url(#clip820)\" d=\"M42.4881 474.886 L64.0042 474.886 L64.0042 480.742 L42.679 480.742 Q37.6183 480.742 35.1038 482.716 Q32.5894 484.689 32.5894 488.636 Q32.5894 493.378 35.6131 496.115 Q38.6368 498.853 43.8567 498.853 L64.0042 498.853 L64.0042 504.741 L14.479 504.741 L14.479 498.853 L33.8944 498.853 Q30.6797 496.752 29.0883 493.919 Q27.4968 491.055 27.4968 487.331 Q27.4968 481.188 31.3163 478.037 Q35.1038 474.886 42.4881 474.886 Z\" fill=\"#000000\" fill-rule=\"evenodd\" fill-opacity=\"1\" /><path clip-path=\"url(#clip820)\" d=\"M44.7161 432.713 L47.5806 432.713 L47.5806 459.64 Q53.6281 459.258 56.8109 456.011 Q59.9619 452.733 59.9619 446.908 Q59.9619 443.535 59.1344 440.384 Q58.3069 437.201 56.6518 434.082 L62.1899 434.082 Q63.5267 437.233 64.227 440.543 Q64.9272 443.853 64.9272 447.259 Q64.9272 455.789 59.9619 460.786 Q54.9967 465.751 46.5303 465.751 Q37.7774 465.751 32.6531 461.04 Q27.4968 456.298 27.4968 448.277 Q27.4968 441.084 32.1438 436.914 Q36.7589 432.713 44.7161 432.713 M42.9973 438.569 Q38.1912 438.633 35.3266 441.275 Q32.4621 443.885 32.4621 448.213 Q32.4621 453.115 35.2312 456.075 Q38.0002 459.003 43.0292 459.449 L42.9973 438.569 Z\" fill=\"#000000\" fill-rule=\"evenodd\" fill-opacity=\"1\" /><path clip-path=\"url(#clip820)\" d=\"M28.3562 423.101 L28.3562 417.244 L64.0042 417.244 L64.0042 423.101 L28.3562 423.101 M14.479 423.101 L14.479 417.244 L21.895 417.244 L21.895 423.101 L14.479 423.101 Z\" fill=\"#000000\" fill-rule=\"evenodd\" fill-opacity=\"1\" /><path clip-path=\"url(#clip820)\" d=\"M18.2347 399.197 L28.3562 399.197 L28.3562 387.134 L32.9077 387.134 L32.9077 399.197 L52.2594 399.197 Q56.6199 399.197 57.8613 398.02 Q59.1026 396.81 59.1026 393.15 L59.1026 387.134 L64.0042 387.134 L64.0042 393.15 Q64.0042 399.93 61.4897 402.508 Q58.9434 405.086 52.2594 405.086 L32.9077 405.086 L32.9077 409.383 L28.3562 409.383 L28.3562 405.086 L18.2347 405.086 L18.2347 399.197 Z\" fill=\"#000000\" fill-rule=\"evenodd\" fill-opacity=\"1\" /><path clip-path=\"url(#clip820)\" d=\"M14.5426 380.355 L14.5426 375.262 Q22.0542 370.488 29.2474 368.133 Q36.4406 365.746 43.5384 365.746 Q50.668 365.746 57.8931 368.133 Q65.1182 370.488 72.5979 375.262 L72.5979 380.355 Q65.3091 376.122 58.1159 374.053 Q50.8908 371.952 43.5384 371.952 Q36.186 371.952 29.0246 374.053 Q21.8632 376.122 14.5426 380.355 Z\" fill=\"#000000\" fill-rule=\"evenodd\" fill-opacity=\"1\" /><path clip-path=\"url(#clip820)\" d=\"M-10.7393 18.8205 L-10.7393 65.8515 L-0.85505 65.8515 Q11.6622 65.8515 17.455 60.1802 Q23.2883 54.509 23.2883 42.2752 Q23.2883 30.1225 17.455 24.4918 Q11.6622 18.8205 -0.85505 18.8205 L-10.7393 18.8205 M-18.9221 12.096 L-2.11083 12.096 Q15.4701 12.096 23.6934 19.4281 Q31.9168 26.7198 31.9168 42.2752 Q31.9168 57.9117 23.6529 65.2439 Q15.3891 72.576 -2.11083 72.576 L-18.9221 72.576 L-18.9221 12.096 Z\" fill=\"#000000\" fill-rule=\"evenodd\" fill-opacity=\"1\" /><path clip-path=\"url(#clip820)\" d=\"M83.4443 48.0275 L83.4443 51.6733 L49.1736 51.6733 Q49.6597 59.3701 53.7916 63.421 Q57.9641 67.4314 65.3772 67.4314 Q69.6712 67.4314 73.6816 66.3781 Q77.7325 65.3249 81.7024 63.2184 L81.7024 70.267 Q77.692 71.9684 73.479 72.8596 Q69.2661 73.7508 64.9316 73.7508 Q54.0752 73.7508 47.7153 67.4314 Q41.3959 61.1119 41.3959 50.3365 Q41.3959 39.1965 47.3912 32.6746 Q53.4271 26.1121 63.6353 26.1121 Q72.7904 26.1121 78.0971 32.0264 Q83.4443 37.9003 83.4443 48.0275 M75.9906 45.84 Q75.9096 39.7232 72.5473 36.0774 Q69.2256 32.4315 63.7164 32.4315 Q57.478 32.4315 53.7106 35.9558 Q49.9838 39.4801 49.4167 45.8805 L75.9906 45.84 Z\" fill=\"#000000\" fill-rule=\"evenodd\" fill-opacity=\"1\" /><path clip-path=\"url(#clip820)\" d=\"M128.328 28.9478 L128.328 35.9153 Q125.169 34.1734 121.968 33.3227 Q118.809 32.4315 115.568 32.4315 Q108.317 32.4315 104.306 37.0496 Q100.296 41.6271 100.296 49.9314 Q100.296 58.2358 104.306 62.8538 Q108.317 67.4314 115.568 67.4314 Q118.809 67.4314 121.968 66.5807 Q125.169 65.6895 128.328 63.9476 L128.328 70.8341 Q125.209 72.2924 121.847 73.0216 Q118.525 73.7508 114.758 73.7508 Q104.509 73.7508 98.4731 67.3098 Q92.4373 60.8689 92.4373 49.9314 Q92.4373 38.832 98.5136 32.472 Q104.63 26.1121 115.244 26.1121 Q118.687 26.1121 121.968 26.8413 Q125.25 27.5299 128.328 28.9478 Z\" fill=\"#000000\" fill-rule=\"evenodd\" fill-opacity=\"1\" /><path clip-path=\"url(#clip820)\" d=\"M188.201 20.1573 L177.101 50.2555 L199.341 50.2555 L188.201 20.1573 M183.583 12.096 L192.859 12.096 L215.909 72.576 L207.402 72.576 L201.893 57.061 L174.63 57.061 L169.121 72.576 L160.492 72.576 L183.583 12.096 Z\" fill=\"#000000\" fill-rule=\"evenodd\" fill-opacity=\"1\" /><path clip-path=\"url(#clip820)\" d=\"M214.207 27.2059 L222.107 27.2059 L236.285 65.2844 L250.463 27.2059 L258.362 27.2059 L241.349 72.576 L231.221 72.576 L214.207 27.2059 Z\" fill=\"#000000\" fill-rule=\"evenodd\" fill-opacity=\"1\" /><path clip-path=\"url(#clip820)\" d=\"M307.459 48.0275 L307.459 51.6733 L273.189 51.6733 Q273.675 59.3701 277.807 63.421 Q281.979 67.4314 289.392 67.4314 Q293.686 67.4314 297.697 66.3781 Q301.747 65.3249 305.717 63.2184 L305.717 70.267 Q301.707 71.9684 297.494 72.8596 Q293.281 73.7508 288.947 73.7508 Q278.09 73.7508 271.73 67.4314 Q265.411 61.1119 265.411 50.3365 Q265.411 39.1965 271.406 32.6746 Q277.442 26.1121 287.65 26.1121 Q296.805 26.1121 302.112 32.0264 Q307.459 37.9003 307.459 48.0275 M300.006 45.84 Q299.925 39.7232 296.562 36.0774 Q293.241 32.4315 287.731 32.4315 Q281.493 32.4315 277.726 35.9558 Q273.999 39.4801 273.432 45.8805 L300.006 45.84 Z\" fill=\"#000000\" fill-rule=\"evenodd\" fill-opacity=\"1\" /><path clip-path=\"url(#clip820)\" d=\"M345.983 34.1734 Q344.728 33.4443 343.229 33.1202 Q341.77 32.7556 339.988 32.7556 Q333.669 32.7556 330.266 36.8875 Q326.904 40.9789 326.904 48.6757 L326.904 72.576 L319.409 72.576 L319.409 27.2059 L326.904 27.2059 L326.904 34.2544 Q329.253 30.1225 333.02 28.1376 Q336.788 26.1121 342.176 26.1121 Q342.945 26.1121 343.877 26.2337 Q344.809 26.3147 345.943 26.5172 L345.983 34.1734 Z\" fill=\"#000000\" fill-rule=\"evenodd\" fill-opacity=\"1\" /><path clip-path=\"url(#clip820)\" d=\"M374.421 49.7694 Q365.387 49.7694 361.903 51.8354 Q358.42 53.9013 358.42 58.8839 Q358.42 62.8538 361.012 65.2034 Q363.645 67.5124 368.142 67.5124 Q374.34 67.5124 378.067 63.1374 Q381.834 58.7219 381.834 51.4303 L381.834 49.7694 L374.421 49.7694 M389.288 46.6907 L389.288 72.576 L381.834 72.576 L381.834 65.6895 Q379.282 69.8214 375.474 71.8063 Q371.666 73.7508 366.157 73.7508 Q359.189 73.7508 355.057 69.8619 Q350.966 65.9325 350.966 59.3701 Q350.966 51.7138 356.07 47.825 Q361.215 43.9361 371.383 43.9361 L381.834 43.9361 L381.834 43.2069 Q381.834 38.0623 378.431 35.2672 Q375.069 32.4315 368.952 32.4315 Q365.063 32.4315 361.377 33.3632 Q357.69 34.295 354.288 36.1584 L354.288 29.2718 Q358.379 27.692 362.227 26.9223 Q366.076 26.1121 369.722 26.1121 Q379.565 26.1121 384.426 31.2163 Q389.288 36.3204 389.288 46.6907 Z\" fill=\"#000000\" fill-rule=\"evenodd\" fill-opacity=\"1\" /><path clip-path=\"url(#clip820)\" d=\"M434.496 49.3643 Q434.496 41.2625 431.133 36.8065 Q427.812 32.3505 421.776 32.3505 Q415.78 32.3505 412.418 36.8065 Q409.096 41.2625 409.096 49.3643 Q409.096 57.4256 412.418 61.8816 Q415.78 66.3376 421.776 66.3376 Q427.812 66.3376 431.133 61.8816 Q434.496 57.4256 434.496 49.3643 M441.949 66.9452 Q441.949 78.5308 436.805 84.1616 Q431.66 89.8329 421.047 89.8329 Q417.117 89.8329 413.633 89.2252 Q410.15 88.6581 406.868 87.4428 L406.868 80.1917 Q410.15 81.9741 413.35 82.8248 Q416.55 83.6755 419.872 83.6755 Q427.204 83.6755 430.85 79.8271 Q434.496 76.0193 434.496 68.282 L434.496 64.5957 Q432.187 68.6061 428.581 70.5911 Q424.976 72.576 419.953 72.576 Q411.608 72.576 406.504 66.2161 Q401.4 59.8562 401.4 49.3643 Q401.4 38.832 406.504 32.472 Q411.608 26.1121 419.953 26.1121 Q424.976 26.1121 428.581 28.0971 Q432.187 30.082 434.496 34.0924 L434.496 27.2059 L441.949 27.2059 L441.949 66.9452 Z\" fill=\"#000000\" fill-rule=\"evenodd\" fill-opacity=\"1\" /><path clip-path=\"url(#clip820)\" d=\"M496.11 48.0275 L496.11 51.6733 L461.839 51.6733 Q462.325 59.3701 466.457 63.421 Q470.63 67.4314 478.043 67.4314 Q482.337 67.4314 486.347 66.3781 Q490.398 65.3249 494.368 63.2184 L494.368 70.267 Q490.358 71.9684 486.145 72.8596 Q481.932 73.7508 477.597 73.7508 Q466.741 73.7508 460.381 67.4314 Q454.061 61.1119 454.061 50.3365 Q454.061 39.1965 460.057 32.6746 Q466.093 26.1121 476.301 26.1121 Q485.456 26.1121 490.763 32.0264 Q496.11 37.9003 496.11 48.0275 M488.656 45.84 Q488.575 39.7232 485.213 36.0774 Q481.891 32.4315 476.382 32.4315 Q470.144 32.4315 466.376 35.9558 Q462.649 39.4801 462.082 45.8805 L488.656 45.84 Z\" fill=\"#000000\" fill-rule=\"evenodd\" fill-opacity=\"1\" /><path clip-path=\"url(#clip820)\" d=\"M570.039 35.9153 Q572.834 30.8922 576.723 28.5022 Q580.612 26.1121 585.878 26.1121 Q592.967 26.1121 596.815 31.0947 Q600.664 36.0368 600.664 45.1919 L600.664 72.576 L593.17 72.576 L593.17 45.4349 Q593.17 38.913 590.861 35.7533 Q588.552 32.5936 583.812 32.5936 Q578.019 32.5936 574.657 36.4419 Q571.295 40.2903 571.295 46.9338 L571.295 72.576 L563.8 72.576 L563.8 45.4349 Q563.8 38.8725 561.491 35.7533 Q559.182 32.5936 554.362 32.5936 Q548.65 32.5936 545.288 36.4824 Q541.926 40.3308 541.926 46.9338 L541.926 72.576 L534.431 72.576 L534.431 27.2059 L541.926 27.2059 L541.926 34.2544 Q544.478 30.082 548.042 28.0971 Q551.607 26.1121 556.509 26.1121 Q561.451 26.1121 564.894 28.6237 Q568.378 31.1352 570.039 35.9153 Z\" fill=\"#000000\" fill-rule=\"evenodd\" fill-opacity=\"1\" /><path clip-path=\"url(#clip820)\" d=\"M636.15 49.7694 Q627.116 49.7694 623.632 51.8354 Q620.149 53.9013 620.149 58.8839 Q620.149 62.8538 622.741 65.2034 Q625.374 67.5124 629.871 67.5124 Q636.069 67.5124 639.795 63.1374 Q643.563 58.7219 643.563 51.4303 L643.563 49.7694 L636.15 49.7694 M651.016 46.6907 L651.016 72.576 L643.563 72.576 L643.563 65.6895 Q641.011 69.8214 637.203 71.8063 Q633.395 73.7508 627.886 73.7508 Q620.918 73.7508 616.786 69.8619 Q612.695 65.9325 612.695 59.3701 Q612.695 51.7138 617.799 47.825 Q622.944 43.9361 633.111 43.9361 L643.563 43.9361 L643.563 43.2069 Q643.563 38.0623 640.16 35.2672 Q636.798 32.4315 630.681 32.4315 Q626.792 32.4315 623.106 33.3632 Q619.419 34.295 616.017 36.1584 L616.017 29.2718 Q620.108 27.692 623.956 26.9223 Q627.805 26.1121 631.451 26.1121 Q641.294 26.1121 646.155 31.2163 Q651.016 36.3204 651.016 46.6907 Z\" fill=\"#000000\" fill-rule=\"evenodd\" fill-opacity=\"1\" /><path clip-path=\"url(#clip820)\" d=\"M704.083 27.2059 L687.677 49.2833 L704.934 72.576 L696.144 72.576 L682.938 54.752 L669.732 72.576 L660.941 72.576 L678.563 48.8377 L662.44 27.2059 L671.23 27.2059 L683.262 43.369 L695.293 27.2059 L704.083 27.2059 Z\" fill=\"#000000\" fill-rule=\"evenodd\" fill-opacity=\"1\" /><path clip-path=\"url(#clip820)\" d=\"M749.21 14.324 L749.21 27.2059 L764.563 27.2059 L764.563 32.9987 L749.21 32.9987 L749.21 57.6282 Q749.21 63.1779 750.709 64.7578 Q752.249 66.3376 756.907 66.3376 L764.563 66.3376 L764.563 72.576 L756.907 72.576 Q748.279 72.576 744.997 69.3758 Q741.716 66.1351 741.716 57.6282 L741.716 32.9987 L736.247 32.9987 L736.247 27.2059 L741.716 27.2059 L741.716 14.324 L749.21 14.324 Z\" fill=\"#000000\" fill-rule=\"evenodd\" fill-opacity=\"1\" /><path clip-path=\"url(#clip820)\" d=\"M813.174 48.0275 L813.174 51.6733 L778.904 51.6733 Q779.39 59.3701 783.522 63.421 Q787.694 67.4314 795.107 67.4314 Q799.401 67.4314 803.411 66.3781 Q807.462 65.3249 811.432 63.2184 L811.432 70.267 Q807.422 71.9684 803.209 72.8596 Q798.996 73.7508 794.662 73.7508 Q783.805 73.7508 777.445 67.4314 Q771.126 61.1119 771.126 50.3365 Q771.126 39.1965 777.121 32.6746 Q783.157 26.1121 793.365 26.1121 Q802.52 26.1121 807.827 32.0264 Q813.174 37.9003 813.174 48.0275 M805.72 45.84 Q805.639 39.7232 802.277 36.0774 Q798.955 32.4315 793.446 32.4315 Q787.208 32.4315 783.441 35.9558 Q779.714 39.4801 779.147 45.8805 L805.72 45.84 Z\" fill=\"#000000\" fill-rule=\"evenodd\" fill-opacity=\"1\" /><path clip-path=\"url(#clip820)\" d=\"M860.732 35.9153 Q863.527 30.8922 867.416 28.5022 Q871.305 26.1121 876.571 26.1121 Q883.66 26.1121 887.508 31.0947 Q891.357 36.0368 891.357 45.1919 L891.357 72.576 L883.862 72.576 L883.862 45.4349 Q883.862 38.913 881.553 35.7533 Q879.244 32.5936 874.505 32.5936 Q868.712 32.5936 865.35 36.4419 Q861.988 40.2903 861.988 46.9338 L861.988 72.576 L854.493 72.576 L854.493 45.4349 Q854.493 38.8725 852.184 35.7533 Q849.875 32.5936 845.055 32.5936 Q839.343 32.5936 835.981 36.4824 Q832.618 40.3308 832.618 46.9338 L832.618 72.576 L825.124 72.576 L825.124 27.2059 L832.618 27.2059 L832.618 34.2544 Q835.171 30.082 838.735 28.0971 Q842.3 26.1121 847.202 26.1121 Q852.144 26.1121 855.587 28.6237 Q859.071 31.1352 860.732 35.9153 Z\" fill=\"#000000\" fill-rule=\"evenodd\" fill-opacity=\"1\" /><path clip-path=\"url(#clip820)\" d=\"M913.434 65.7705 L913.434 89.8329 L905.94 89.8329 L905.94 27.2059 L913.434 27.2059 L913.434 34.0924 Q915.784 30.0415 919.348 28.0971 Q922.954 26.1121 927.936 26.1121 Q936.2 26.1121 941.345 32.6746 Q946.53 39.2371 946.53 49.9314 Q946.53 60.6258 941.345 67.1883 Q936.2 73.7508 927.936 73.7508 Q922.954 73.7508 919.348 71.8063 Q915.784 69.8214 913.434 65.7705 M938.793 49.9314 Q938.793 41.7081 935.39 37.0496 Q932.028 32.3505 926.113 32.3505 Q920.199 32.3505 916.796 37.0496 Q913.434 41.7081 913.434 49.9314 Q913.434 58.1548 916.796 62.8538 Q920.199 67.5124 926.113 67.5124 Q932.028 67.5124 935.39 62.8538 Q938.793 58.1548 938.793 49.9314 Z\" fill=\"#000000\" fill-rule=\"evenodd\" fill-opacity=\"1\" /><path clip-path=\"url(#clip820)\" d=\"M987.728 65.6895 L1001.1 65.6895 L1001.1 19.5497 L986.553 22.4663 L986.553 15.0127 L1001.01 12.096 L1009.2 12.096 L1009.2 65.6895 L1022.57 65.6895 L1022.57 72.576 L987.728 72.576 L987.728 65.6895 Z\" fill=\"#000000\" fill-rule=\"evenodd\" fill-opacity=\"1\" /><path clip-path=\"url(#clip820)\" d=\"M1039.34 71.3202 L1039.34 63.8666 Q1042.41 65.3249 1045.57 66.0946 Q1048.73 66.8642 1051.77 66.8642 Q1059.87 66.8642 1064.13 61.436 Q1068.42 55.9673 1069.03 44.8678 Q1066.68 48.3516 1063.07 50.215 Q1059.47 52.0784 1055.09 52.0784 Q1046.02 52.0784 1040.71 46.6097 Q1035.45 41.1005 1035.45 31.5808 Q1035.45 22.2638 1040.96 16.633 Q1046.47 11.0023 1055.62 11.0023 Q1066.11 11.0023 1071.62 19.0636 Q1077.17 27.0843 1077.17 42.3968 Q1077.17 56.6965 1070.37 65.2439 Q1063.6 73.7508 1052.14 73.7508 Q1049.06 73.7508 1045.9 73.1431 Q1042.74 72.5355 1039.34 71.3202 M1055.62 45.678 Q1061.13 45.678 1064.33 41.9107 Q1067.57 38.1433 1067.57 31.5808 Q1067.57 25.0589 1064.33 21.2916 Q1061.13 17.4837 1055.62 17.4837 Q1050.11 17.4837 1046.87 21.2916 Q1043.67 25.0589 1043.67 31.5808 Q1043.67 38.1433 1046.87 41.9107 Q1050.11 45.678 1055.62 45.678 Z\" fill=\"#000000\" fill-rule=\"evenodd\" fill-opacity=\"1\" /><path clip-path=\"url(#clip820)\" d=\"M1098.92 65.6895 L1127.48 65.6895 L1127.48 72.576 L1089.08 72.576 L1089.08 65.6895 Q1093.74 60.8689 1101.76 52.7671 Q1109.82 44.6248 1111.89 42.2752 Q1115.82 37.8598 1117.36 34.8216 Q1118.94 31.7429 1118.94 28.7857 Q1118.94 23.9651 1115.53 20.927 Q1112.17 17.8888 1106.74 17.8888 Q1102.89 17.8888 1098.6 19.2256 Q1094.35 20.5624 1089.49 23.2765 L1089.49 15.0127 Q1094.43 13.0277 1098.72 12.015 Q1103.02 11.0023 1106.58 11.0023 Q1115.98 11.0023 1121.57 15.7013 Q1127.16 20.4004 1127.16 28.2591 Q1127.16 31.9859 1125.74 35.3482 Q1124.36 38.6699 1120.68 43.2069 Q1119.67 44.3817 1114.24 50.0125 Q1108.81 55.6027 1098.92 65.6895 Z\" fill=\"#000000\" fill-rule=\"evenodd\" fill-opacity=\"1\" /><path clip-path=\"url(#clip820)\" d=\"M1151.71 65.6895 L1180.27 65.6895 L1180.27 72.576 L1141.86 72.576 L1141.86 65.6895 Q1146.52 60.8689 1154.54 52.7671 Q1162.61 44.6248 1164.67 42.2752 Q1168.6 37.8598 1170.14 34.8216 Q1171.72 31.7429 1171.72 28.7857 Q1171.72 23.9651 1168.32 20.927 Q1164.95 17.8888 1159.53 17.8888 Q1155.68 17.8888 1151.38 19.2256 Q1147.13 20.5624 1142.27 23.2765 L1142.27 15.0127 Q1147.21 13.0277 1151.51 12.015 Q1155.8 11.0023 1159.36 11.0023 Q1168.76 11.0023 1174.35 15.7013 Q1179.94 20.4004 1179.94 28.2591 Q1179.94 31.9859 1178.53 35.3482 Q1177.15 38.6699 1173.46 43.2069 Q1172.45 44.3817 1167.02 50.0125 Q1161.59 55.6027 1151.71 65.6895 Z\" fill=\"#000000\" fill-rule=\"evenodd\" fill-opacity=\"1\" /><path clip-path=\"url(#clip820)\" d=\"M1217.41 27.2059 L1225.31 27.2059 L1239.49 65.2844 L1253.67 27.2059 L1261.57 27.2059 L1244.55 72.576 L1234.43 72.576 L1217.41 27.2059 Z\" fill=\"#000000\" fill-rule=\"evenodd\" fill-opacity=\"1\" /><path clip-path=\"url(#clip820)\" d=\"M1300.78 28.5427 L1300.78 35.5912 Q1297.62 33.9709 1294.22 33.1607 Q1290.82 32.3505 1287.17 32.3505 Q1281.62 32.3505 1278.83 34.0519 Q1276.07 35.7533 1276.07 39.156 Q1276.07 41.7486 1278.06 43.2475 Q1280.04 44.7058 1286.04 46.0426 L1288.59 46.6097 Q1296.53 48.3111 1299.85 51.4303 Q1303.21 54.509 1303.21 60.0587 Q1303.21 66.3781 1298.19 70.0644 Q1293.21 73.7508 1284.46 73.7508 Q1280.81 73.7508 1276.84 73.0216 Q1272.91 72.3329 1268.54 70.9151 L1268.54 63.2184 Q1272.67 65.3654 1276.68 66.4591 Q1280.69 67.5124 1284.62 67.5124 Q1289.88 67.5124 1292.72 65.73 Q1295.56 63.9071 1295.56 60.6258 Q1295.56 57.5877 1293.49 55.9673 Q1291.46 54.3469 1284.54 52.8481 L1281.94 52.2405 Q1275.02 50.7821 1271.94 47.7845 Q1268.86 44.7463 1268.86 39.4801 Q1268.86 33.0797 1273.4 29.5959 Q1277.93 26.1121 1286.28 26.1121 Q1290.41 26.1121 1294.06 26.7198 Q1297.7 27.3274 1300.78 28.5427 Z\" fill=\"#000000\" fill-rule=\"evenodd\" fill-opacity=\"1\" /><path clip-path=\"url(#clip820)\" d=\"M1349.96 18.8205 L1349.96 65.8515 L1359.84 65.8515 Q1372.36 65.8515 1378.15 60.1802 Q1383.99 54.509 1383.99 42.2752 Q1383.99 30.1225 1378.15 24.4918 Q1372.36 18.8205 1359.84 18.8205 L1349.96 18.8205 M1341.78 12.096 L1358.59 12.096 Q1376.17 12.096 1384.39 19.4281 Q1392.62 26.7198 1392.62 42.2752 Q1392.62 57.9117 1384.35 65.2439 Q1376.09 72.576 1358.59 72.576 L1341.78 72.576 L1341.78 12.096 Z\" fill=\"#000000\" fill-rule=\"evenodd\" fill-opacity=\"1\" /><path clip-path=\"url(#clip820)\" d=\"M1444.14 48.0275 L1444.14 51.6733 L1409.87 51.6733 Q1410.36 59.3701 1414.49 63.421 Q1418.66 67.4314 1426.08 67.4314 Q1430.37 67.4314 1434.38 66.3781 Q1438.43 65.3249 1442.4 63.2184 L1442.4 70.267 Q1438.39 71.9684 1434.18 72.8596 Q1429.96 73.7508 1425.63 73.7508 Q1414.77 73.7508 1408.41 67.4314 Q1402.09 61.1119 1402.09 50.3365 Q1402.09 39.1965 1408.09 32.6746 Q1414.13 26.1121 1424.33 26.1121 Q1433.49 26.1121 1438.8 32.0264 Q1444.14 37.9003 1444.14 48.0275 M1436.69 45.84 Q1436.61 39.7232 1433.25 36.0774 Q1429.92 32.4315 1424.42 32.4315 Q1418.18 32.4315 1414.41 35.9558 Q1410.68 39.4801 1410.12 45.8805 L1436.69 45.84 Z\" fill=\"#000000\" fill-rule=\"evenodd\" fill-opacity=\"1\" /><path clip-path=\"url(#clip820)\" d=\"M1489.03 28.9478 L1489.03 35.9153 Q1485.87 34.1734 1482.67 33.3227 Q1479.51 32.4315 1476.27 32.4315 Q1469.02 32.4315 1465.01 37.0496 Q1460.99 41.6271 1460.99 49.9314 Q1460.99 58.2358 1465.01 62.8538 Q1469.02 67.4314 1476.27 67.4314 Q1479.51 67.4314 1482.67 66.5807 Q1485.87 65.6895 1489.03 63.9476 L1489.03 70.8341 Q1485.91 72.2924 1482.55 73.0216 Q1479.22 73.7508 1475.46 73.7508 Q1465.21 73.7508 1459.17 67.3098 Q1453.14 60.8689 1453.14 49.9314 Q1453.14 38.832 1459.21 32.472 Q1465.33 26.1121 1475.94 26.1121 Q1479.39 26.1121 1482.67 26.8413 Q1485.95 27.5299 1489.03 28.9478 Z\" fill=\"#000000\" fill-rule=\"evenodd\" fill-opacity=\"1\" /><path clip-path=\"url(#clip820)\" d=\"M1548.9 20.1573 L1537.8 50.2555 L1560.04 50.2555 L1548.9 20.1573 M1544.28 12.096 L1553.56 12.096 L1576.61 72.576 L1568.1 72.576 L1562.59 57.061 L1535.33 57.061 L1529.82 72.576 L1521.19 72.576 L1544.28 12.096 Z\" fill=\"#000000\" fill-rule=\"evenodd\" fill-opacity=\"1\" /><path clip-path=\"url(#clip820)\" d=\"M1574.91 27.2059 L1582.81 27.2059 L1596.98 65.2844 L1611.16 27.2059 L1619.06 27.2059 L1602.05 72.576 L1591.92 72.576 L1574.91 27.2059 Z\" fill=\"#000000\" fill-rule=\"evenodd\" fill-opacity=\"1\" /><path clip-path=\"url(#clip820)\" d=\"M1668.16 48.0275 L1668.16 51.6733 L1633.89 51.6733 Q1634.37 59.3701 1638.51 63.421 Q1642.68 67.4314 1650.09 67.4314 Q1654.38 67.4314 1658.4 66.3781 Q1662.45 65.3249 1666.42 63.2184 L1666.42 70.267 Q1662.41 71.9684 1658.19 72.8596 Q1653.98 73.7508 1649.65 73.7508 Q1638.79 73.7508 1632.43 67.4314 Q1626.11 61.1119 1626.11 50.3365 Q1626.11 39.1965 1632.1 32.6746 Q1638.14 26.1121 1648.35 26.1121 Q1657.5 26.1121 1662.81 32.0264 Q1668.16 37.9003 1668.16 48.0275 M1660.7 45.84 Q1660.62 39.7232 1657.26 36.0774 Q1653.94 32.4315 1648.43 32.4315 Q1642.19 32.4315 1638.42 35.9558 Q1634.7 39.4801 1634.13 45.8805 L1660.7 45.84 Z\" fill=\"#000000\" fill-rule=\"evenodd\" fill-opacity=\"1\" /><path clip-path=\"url(#clip820)\" d=\"M1706.68 34.1734 Q1705.43 33.4443 1703.93 33.1202 Q1702.47 32.7556 1700.69 32.7556 Q1694.37 32.7556 1690.96 36.8875 Q1687.6 40.9789 1687.6 48.6757 L1687.6 72.576 L1680.11 72.576 L1680.11 27.2059 L1687.6 27.2059 L1687.6 34.2544 Q1689.95 30.1225 1693.72 28.1376 Q1697.49 26.1121 1702.87 26.1121 Q1703.64 26.1121 1704.58 26.2337 Q1705.51 26.3147 1706.64 26.5172 L1706.68 34.1734 Z\" fill=\"#000000\" fill-rule=\"evenodd\" fill-opacity=\"1\" /><path clip-path=\"url(#clip820)\" d=\"M1735.12 49.7694 Q1726.09 49.7694 1722.6 51.8354 Q1719.12 53.9013 1719.12 58.8839 Q1719.12 62.8538 1721.71 65.2034 Q1724.34 67.5124 1728.84 67.5124 Q1735.04 67.5124 1738.77 63.1374 Q1742.53 58.7219 1742.53 51.4303 L1742.53 49.7694 L1735.12 49.7694 M1749.99 46.6907 L1749.99 72.576 L1742.53 72.576 L1742.53 65.6895 Q1739.98 69.8214 1736.17 71.8063 Q1732.36 73.7508 1726.86 73.7508 Q1719.89 73.7508 1715.76 69.8619 Q1711.66 65.9325 1711.66 59.3701 Q1711.66 51.7138 1716.77 47.825 Q1721.91 43.9361 1732.08 43.9361 L1742.53 43.9361 L1742.53 43.2069 Q1742.53 38.0623 1739.13 35.2672 Q1735.77 32.4315 1729.65 32.4315 Q1725.76 32.4315 1722.08 33.3632 Q1718.39 34.295 1714.99 36.1584 L1714.99 29.2718 Q1719.08 27.692 1722.93 26.9223 Q1726.77 26.1121 1730.42 26.1121 Q1740.26 26.1121 1745.13 31.2163 Q1749.99 36.3204 1749.99 46.6907 Z\" fill=\"#000000\" fill-rule=\"evenodd\" fill-opacity=\"1\" /><path clip-path=\"url(#clip820)\" d=\"M1795.19 49.3643 Q1795.19 41.2625 1791.83 36.8065 Q1788.51 32.3505 1782.47 32.3505 Q1776.48 32.3505 1773.12 36.8065 Q1769.8 41.2625 1769.8 49.3643 Q1769.8 57.4256 1773.12 61.8816 Q1776.48 66.3376 1782.47 66.3376 Q1788.51 66.3376 1791.83 61.8816 Q1795.19 57.4256 1795.19 49.3643 M1802.65 66.9452 Q1802.65 78.5308 1797.5 84.1616 Q1792.36 89.8329 1781.75 89.8329 Q1777.82 89.8329 1774.33 89.2252 Q1770.85 88.6581 1767.57 87.4428 L1767.57 80.1917 Q1770.85 81.9741 1774.05 82.8248 Q1777.25 83.6755 1780.57 83.6755 Q1787.9 83.6755 1791.55 79.8271 Q1795.19 76.0193 1795.19 68.282 L1795.19 64.5957 Q1792.89 68.6061 1789.28 70.5911 Q1785.67 72.576 1780.65 72.576 Q1772.31 72.576 1767.2 66.2161 Q1762.1 59.8562 1762.1 49.3643 Q1762.1 38.832 1767.2 32.472 Q1772.31 26.1121 1780.65 26.1121 Q1785.67 26.1121 1789.28 28.0971 Q1792.89 30.082 1795.19 34.0924 L1795.19 27.2059 L1802.65 27.2059 L1802.65 66.9452 Z\" fill=\"#000000\" fill-rule=\"evenodd\" fill-opacity=\"1\" /><path clip-path=\"url(#clip820)\" d=\"M1856.81 48.0275 L1856.81 51.6733 L1822.54 51.6733 Q1823.02 59.3701 1827.16 63.421 Q1831.33 67.4314 1838.74 67.4314 Q1843.04 67.4314 1847.05 66.3781 Q1851.1 65.3249 1855.07 63.2184 L1855.07 70.267 Q1851.06 71.9684 1846.84 72.8596 Q1842.63 73.7508 1838.3 73.7508 Q1827.44 73.7508 1821.08 67.4314 Q1814.76 61.1119 1814.76 50.3365 Q1814.76 39.1965 1820.76 32.6746 Q1826.79 26.1121 1837 26.1121 Q1846.15 26.1121 1851.46 32.0264 Q1856.81 37.9003 1856.81 48.0275 M1849.35 45.84 Q1849.27 39.7232 1845.91 36.0774 Q1842.59 32.4315 1837.08 32.4315 Q1830.84 32.4315 1827.07 35.9558 Q1823.35 39.4801 1822.78 45.8805 L1849.35 45.84 Z\" fill=\"#000000\" fill-rule=\"evenodd\" fill-opacity=\"1\" /><path clip-path=\"url(#clip820)\" d=\"M1930.74 35.9153 Q1933.53 30.8922 1937.42 28.5022 Q1941.31 26.1121 1946.58 26.1121 Q1953.67 26.1121 1957.51 31.0947 Q1961.36 36.0368 1961.36 45.1919 L1961.36 72.576 L1953.87 72.576 L1953.87 45.4349 Q1953.87 38.913 1951.56 35.7533 Q1949.25 32.5936 1944.51 32.5936 Q1938.72 32.5936 1935.36 36.4419 Q1931.99 40.2903 1931.99 46.9338 L1931.99 72.576 L1924.5 72.576 L1924.5 45.4349 Q1924.5 38.8725 1922.19 35.7533 Q1919.88 32.5936 1915.06 32.5936 Q1909.35 32.5936 1905.99 36.4824 Q1902.62 40.3308 1902.62 46.9338 L1902.62 72.576 L1895.13 72.576 L1895.13 27.2059 L1902.62 27.2059 L1902.62 34.2544 Q1905.18 30.082 1908.74 28.0971 Q1912.31 26.1121 1917.21 26.1121 Q1922.15 26.1121 1925.59 28.6237 Q1929.08 31.1352 1930.74 35.9153 Z\" fill=\"#000000\" fill-rule=\"evenodd\" fill-opacity=\"1\" /><path clip-path=\"url(#clip820)\" d=\"M1996.85 49.7694 Q1987.81 49.7694 1984.33 51.8354 Q1980.85 53.9013 1980.85 58.8839 Q1980.85 62.8538 1983.44 65.2034 Q1986.07 67.5124 1990.57 67.5124 Q1996.77 67.5124 2000.49 63.1374 Q2004.26 58.7219 2004.26 51.4303 L2004.26 49.7694 L1996.85 49.7694 M2011.72 46.6907 L2011.72 72.576 L2004.26 72.576 L2004.26 65.6895 Q2001.71 69.8214 1997.9 71.8063 Q1994.09 73.7508 1988.58 73.7508 Q1981.62 73.7508 1977.49 69.8619 Q1973.39 65.9325 1973.39 59.3701 Q1973.39 51.7138 1978.5 47.825 Q1983.64 43.9361 1993.81 43.9361 L2004.26 43.9361 L2004.26 43.2069 Q2004.26 38.0623 2000.86 35.2672 Q1997.5 32.4315 1991.38 32.4315 Q1987.49 32.4315 1983.8 33.3632 Q1980.12 34.295 1976.72 36.1584 L1976.72 29.2718 Q1980.81 27.692 1984.66 26.9223 Q1988.5 26.1121 1992.15 26.1121 Q2001.99 26.1121 2006.85 31.2163 Q2011.72 36.3204 2011.72 46.6907 Z\" fill=\"#000000\" fill-rule=\"evenodd\" fill-opacity=\"1\" /><path clip-path=\"url(#clip820)\" d=\"M2064.78 27.2059 L2048.38 49.2833 L2065.63 72.576 L2056.84 72.576 L2043.64 54.752 L2030.43 72.576 L2021.64 72.576 L2039.26 48.8377 L2023.14 27.2059 L2031.93 27.2059 L2043.96 43.369 L2055.99 27.2059 L2064.78 27.2059 Z\" fill=\"#000000\" fill-rule=\"evenodd\" fill-opacity=\"1\" /><path clip-path=\"url(#clip820)\" d=\"M2109.91 14.324 L2109.91 27.2059 L2125.26 27.2059 L2125.26 32.9987 L2109.91 32.9987 L2109.91 57.6282 Q2109.91 63.1779 2111.41 64.7578 Q2112.95 66.3376 2117.61 66.3376 L2125.26 66.3376 L2125.26 72.576 L2117.61 72.576 Q2108.98 72.576 2105.7 69.3758 Q2102.41 66.1351 2102.41 57.6282 L2102.41 32.9987 L2096.95 32.9987 L2096.95 27.2059 L2102.41 27.2059 L2102.41 14.324 L2109.91 14.324 Z\" fill=\"#000000\" fill-rule=\"evenodd\" fill-opacity=\"1\" /><path clip-path=\"url(#clip820)\" d=\"M2173.87 48.0275 L2173.87 51.6733 L2139.6 51.6733 Q2140.09 59.3701 2144.22 63.421 Q2148.39 67.4314 2155.81 67.4314 Q2160.1 67.4314 2164.11 66.3781 Q2168.16 65.3249 2172.13 63.2184 L2172.13 70.267 Q2168.12 71.9684 2163.91 72.8596 Q2159.69 73.7508 2155.36 73.7508 Q2144.5 73.7508 2138.14 67.4314 Q2131.82 61.1119 2131.82 50.3365 Q2131.82 39.1965 2137.82 32.6746 Q2143.86 26.1121 2154.06 26.1121 Q2163.22 26.1121 2168.53 32.0264 Q2173.87 37.9003 2173.87 48.0275 M2166.42 45.84 Q2166.34 39.7232 2162.98 36.0774 Q2159.65 32.4315 2154.14 32.4315 Q2147.91 32.4315 2144.14 35.9558 Q2140.41 39.4801 2139.85 45.8805 L2166.42 45.84 Z\" fill=\"#000000\" fill-rule=\"evenodd\" fill-opacity=\"1\" /><path clip-path=\"url(#clip820)\" d=\"M2221.43 35.9153 Q2224.23 30.8922 2228.11 28.5022 Q2232 26.1121 2237.27 26.1121 Q2244.36 26.1121 2248.21 31.0947 Q2252.06 36.0368 2252.06 45.1919 L2252.06 72.576 L2244.56 72.576 L2244.56 45.4349 Q2244.56 38.913 2242.25 35.7533 Q2239.94 32.5936 2235.2 32.5936 Q2229.41 32.5936 2226.05 36.4419 Q2222.69 40.2903 2222.69 46.9338 L2222.69 72.576 L2215.19 72.576 L2215.19 45.4349 Q2215.19 38.8725 2212.88 35.7533 Q2210.57 32.5936 2205.75 32.5936 Q2200.04 32.5936 2196.68 36.4824 Q2193.32 40.3308 2193.32 46.9338 L2193.32 72.576 L2185.82 72.576 L2185.82 27.2059 L2193.32 27.2059 L2193.32 34.2544 Q2195.87 30.082 2199.43 28.0971 Q2203 26.1121 2207.9 26.1121 Q2212.84 26.1121 2216.29 28.6237 Q2219.77 31.1352 2221.43 35.9153 Z\" fill=\"#000000\" fill-rule=\"evenodd\" fill-opacity=\"1\" /><path clip-path=\"url(#clip820)\" d=\"M2274.13 65.7705 L2274.13 89.8329 L2266.64 89.8329 L2266.64 27.2059 L2274.13 27.2059 L2274.13 34.0924 Q2276.48 30.0415 2280.05 28.0971 Q2283.65 26.1121 2288.63 26.1121 Q2296.9 26.1121 2302.04 32.6746 Q2307.23 39.2371 2307.23 49.9314 Q2307.23 60.6258 2302.04 67.1883 Q2296.9 73.7508 2288.63 73.7508 Q2283.65 73.7508 2280.05 71.8063 Q2276.48 69.8214 2274.13 65.7705 M2299.49 49.9314 Q2299.49 41.7081 2296.09 37.0496 Q2292.73 32.3505 2286.81 32.3505 Q2280.9 32.3505 2277.5 37.0496 Q2274.13 41.7081 2274.13 49.9314 Q2274.13 58.1548 2277.5 62.8538 Q2280.9 67.5124 2286.81 67.5124 Q2292.73 67.5124 2296.09 62.8538 Q2299.49 58.1548 2299.49 49.9314 Z\" fill=\"#000000\" fill-rule=\"evenodd\" fill-opacity=\"1\" /><path clip-path=\"url(#clip820)\" d=\"M2354.06 65.6895 L2382.62 65.6895 L2382.62 72.576 L2344.21 72.576 L2344.21 65.6895 Q2348.87 60.8689 2356.89 52.7671 Q2364.95 44.6248 2367.02 42.2752 Q2370.95 37.8598 2372.49 34.8216 Q2374.07 31.7429 2374.07 28.7857 Q2374.07 23.9651 2370.67 20.927 Q2367.3 17.8888 2361.88 17.8888 Q2358.03 17.8888 2353.73 19.2256 Q2349.48 20.5624 2344.62 23.2765 L2344.62 15.0127 Q2349.56 13.0277 2353.85 12.015 Q2358.15 11.0023 2361.71 11.0023 Q2371.11 11.0023 2376.7 15.7013 Q2382.29 20.4004 2382.29 28.2591 Q2382.29 31.9859 2380.87 35.3482 Q2379.5 38.6699 2375.81 43.2069 Q2374.8 44.3817 2369.37 50.0125 Q2363.94 55.6027 2354.06 65.6895 Z\" fill=\"#000000\" fill-rule=\"evenodd\" fill-opacity=\"1\" /><path clip-path=\"url(#clip820)\" d=\"M2417.29 17.4837 Q2410.97 17.4837 2407.77 23.7221 Q2404.61 29.92 2404.61 42.3968 Q2404.61 54.833 2407.77 61.0714 Q2410.97 67.2693 2417.29 67.2693 Q2423.65 67.2693 2426.81 61.0714 Q2430.01 54.833 2430.01 42.3968 Q2430.01 29.92 2426.81 23.7221 Q2423.65 17.4837 2417.29 17.4837 M2417.29 11.0023 Q2427.46 11.0023 2432.81 19.0636 Q2438.19 27.0843 2438.19 42.3968 Q2438.19 57.6687 2432.81 65.73 Q2427.46 73.7508 2417.29 73.7508 Q2407.12 73.7508 2401.74 65.73 Q2396.39 57.6687 2396.39 42.3968 Q2396.39 27.0843 2401.74 19.0636 Q2407.12 11.0023 2417.29 11.0023 Z\" fill=\"#000000\" fill-rule=\"evenodd\" fill-opacity=\"1\" /><path clip-path=\"url(#clip820)\" d=\"M2453.99 65.6895 L2467.36 65.6895 L2467.36 19.5497 L2452.82 22.4663 L2452.82 15.0127 L2467.28 12.096 L2475.46 12.096 L2475.46 65.6895 L2488.83 65.6895 L2488.83 72.576 L2453.99 72.576 L2453.99 65.6895 Z\" fill=\"#000000\" fill-rule=\"evenodd\" fill-opacity=\"1\" /><path clip-path=\"url(#clip820)\" d=\"M2512.41 65.6895 L2540.97 65.6895 L2540.97 72.576 L2502.56 72.576 L2502.56 65.6895 Q2507.22 60.8689 2515.24 52.7671 Q2523.3 44.6248 2525.37 42.2752 Q2529.3 37.8598 2530.84 34.8216 Q2532.42 31.7429 2532.42 28.7857 Q2532.42 23.9651 2529.02 20.927 Q2525.65 17.8888 2520.23 17.8888 Q2516.38 17.8888 2512.08 19.2256 Q2507.83 20.5624 2502.97 23.2765 L2502.97 15.0127 Q2507.91 13.0277 2512.2 12.015 Q2516.5 11.0023 2520.06 11.0023 Q2529.46 11.0023 2535.05 15.7013 Q2540.64 20.4004 2540.64 28.2591 Q2540.64 31.9859 2539.22 35.3482 Q2537.85 38.6699 2534.16 43.2069 Q2533.15 44.3817 2527.72 50.0125 Q2522.29 55.6027 2512.41 65.6895 Z\" fill=\"#000000\" fill-rule=\"evenodd\" fill-opacity=\"1\" /><polyline clip-path=\"url(#clip822)\" style=\"stroke:#009af9; stroke-linecap:round; stroke-linejoin:round; stroke-width:4; stroke-opacity:1; fill:none\" points=\"\n",
       "  264.778,507.178 467.495,455.235 670.211,455.235 872.927,1347.32 1075.64,693.029 1278.36,697.318 1481.08,567.222 1683.79,519.568 1886.51,688.74 2089.22,190.278 \n",
       "  2291.94,255.564 \n",
       "  \"/>\n",
       "<polyline clip-path=\"url(#clip822)\" style=\"stroke:#e26f46; stroke-linecap:round; stroke-linejoin:round; stroke-width:4; stroke-opacity:1; fill:none\" points=\"\n",
       "  264.778,766.893 467.495,1018.03 670.211,511.133 872.927,363.739 1075.64,320.374 1278.36,1386.4 1481.08,398.527 1683.79,160.256 1886.51,519.568 2089.22,433.314 \n",
       "  2291.94,779.759 \n",
       "  \"/>\n",
       "<path clip-path=\"url(#clip820)\" d=\"\n",
       "M275.59 322.316 L962.573 322.316 L962.573 166.796 L275.59 166.796  Z\n",
       "  \" fill=\"#ffffff\" fill-rule=\"evenodd\" fill-opacity=\"1\"/>\n",
       "<polyline clip-path=\"url(#clip820)\" style=\"stroke:#000000; stroke-linecap:round; stroke-linejoin:round; stroke-width:4; stroke-opacity:1; fill:none\" points=\"\n",
       "  275.59,322.316 962.573,322.316 962.573,166.796 275.59,166.796 275.59,322.316 \n",
       "  \"/>\n",
       "<polyline clip-path=\"url(#clip820)\" style=\"stroke:#009af9; stroke-linecap:round; stroke-linejoin:round; stroke-width:4; stroke-opacity:1; fill:none\" points=\"\n",
       "  299.465,218.636 442.718,218.636 \n",
       "  \"/>\n",
       "<path clip-path=\"url(#clip820)\" d=\"M485.506 213.925 L485.506 199.897 L489.765 199.897 L489.765 235.916 L485.506 235.916 L485.506 232.027 Q484.163 234.342 482.103 235.476 Q480.066 236.587 477.196 236.587 Q472.496 236.587 469.534 232.837 Q466.594 229.087 466.594 222.976 Q466.594 216.865 469.534 213.115 Q472.496 209.365 477.196 209.365 Q480.066 209.365 482.103 210.499 Q484.163 211.61 485.506 213.925 M470.992 222.976 Q470.992 227.675 472.913 230.36 Q474.858 233.022 478.237 233.022 Q481.617 233.022 483.561 230.36 Q485.506 227.675 485.506 222.976 Q485.506 218.277 483.561 215.615 Q481.617 212.93 478.237 212.93 Q474.858 212.93 472.913 215.615 Q470.992 218.277 470.992 222.976 Z\" fill=\"#000000\" fill-rule=\"evenodd\" fill-opacity=\"1\" /><path clip-path=\"url(#clip820)\" d=\"M520.714 221.888 L520.714 223.971 L501.131 223.971 Q501.408 228.369 503.769 230.684 Q506.154 232.976 510.39 232.976 Q512.843 232.976 515.135 232.374 Q517.45 231.772 519.718 230.569 L519.718 234.596 Q517.427 235.568 515.019 236.078 Q512.612 236.587 510.135 236.587 Q503.932 236.587 500.297 232.976 Q496.686 229.365 496.686 223.207 Q496.686 216.842 500.112 213.115 Q503.561 209.365 509.394 209.365 Q514.626 209.365 517.658 212.745 Q520.714 216.101 520.714 221.888 M516.455 220.638 Q516.408 217.143 514.487 215.059 Q512.589 212.976 509.441 212.976 Q505.876 212.976 503.723 214.99 Q501.594 217.004 501.269 220.661 L516.455 220.638 Z\" fill=\"#000000\" fill-rule=\"evenodd\" fill-opacity=\"1\" /><path clip-path=\"url(#clip820)\" d=\"M546.362 210.985 L546.362 214.967 Q544.556 213.971 542.728 213.485 Q540.922 212.976 539.07 212.976 Q534.927 212.976 532.635 215.615 Q530.343 218.231 530.343 222.976 Q530.343 227.721 532.635 230.36 Q534.927 232.976 539.07 232.976 Q540.922 232.976 542.728 232.49 Q544.556 231.981 546.362 230.985 L546.362 234.92 Q544.579 235.754 542.658 236.17 Q540.76 236.587 538.607 236.587 Q532.751 236.587 529.302 232.906 Q525.853 229.226 525.853 222.976 Q525.853 216.633 529.325 212.999 Q532.82 209.365 538.885 209.365 Q540.853 209.365 542.728 209.782 Q544.603 210.175 546.362 210.985 Z\" fill=\"#000000\" fill-rule=\"evenodd\" fill-opacity=\"1\" /><path clip-path=\"url(#clip820)\" d=\"M557.982 202.629 L557.982 209.99 L566.755 209.99 L566.755 213.3 L557.982 213.3 L557.982 227.374 Q557.982 230.545 558.839 231.448 Q559.718 232.351 562.38 232.351 L566.755 232.351 L566.755 235.916 L562.38 235.916 Q557.45 235.916 555.575 234.087 Q553.7 232.235 553.7 227.374 L553.7 213.3 L550.575 213.3 L550.575 209.99 L553.7 209.99 L553.7 202.629 L557.982 202.629 Z\" fill=\"#000000\" fill-rule=\"evenodd\" fill-opacity=\"1\" /><path clip-path=\"url(#clip820)\" d=\"M594.533 221.888 L594.533 223.971 L574.95 223.971 Q575.227 228.369 577.589 230.684 Q579.973 232.976 584.209 232.976 Q586.663 232.976 588.954 232.374 Q591.269 231.772 593.538 230.569 L593.538 234.596 Q591.246 235.568 588.838 236.078 Q586.431 236.587 583.954 236.587 Q577.751 236.587 574.116 232.976 Q570.505 229.365 570.505 223.207 Q570.505 216.842 573.931 213.115 Q577.38 209.365 583.213 209.365 Q588.445 209.365 591.477 212.745 Q594.533 216.101 594.533 221.888 M590.274 220.638 Q590.227 217.143 588.306 215.059 Q586.408 212.976 583.26 212.976 Q579.695 212.976 577.542 214.99 Q575.413 217.004 575.089 220.661 L590.274 220.638 Z\" fill=\"#000000\" fill-rule=\"evenodd\" fill-opacity=\"1\" /><path clip-path=\"url(#clip820)\" d=\"M621.709 214.967 Q623.306 212.096 625.528 210.731 Q627.75 209.365 630.76 209.365 Q634.81 209.365 637.01 212.212 Q639.209 215.036 639.209 220.268 L639.209 235.916 L634.926 235.916 L634.926 220.407 Q634.926 216.68 633.607 214.874 Q632.287 213.069 629.579 213.069 Q626.269 213.069 624.348 215.268 Q622.426 217.467 622.426 221.263 L622.426 235.916 L618.144 235.916 L618.144 220.407 Q618.144 216.657 616.824 214.874 Q615.505 213.069 612.75 213.069 Q609.487 213.069 607.565 215.291 Q605.644 217.49 605.644 221.263 L605.644 235.916 L601.362 235.916 L601.362 209.99 L605.644 209.99 L605.644 214.018 Q607.102 211.633 609.139 210.499 Q611.176 209.365 613.977 209.365 Q616.801 209.365 618.769 210.8 Q620.76 212.235 621.709 214.967 Z\" fill=\"#000000\" fill-rule=\"evenodd\" fill-opacity=\"1\" /><path clip-path=\"url(#clip820)\" d=\"M651.824 232.027 L651.824 245.777 L647.542 245.777 L647.542 209.99 L651.824 209.99 L651.824 213.925 Q653.167 211.61 655.204 210.499 Q657.264 209.365 660.111 209.365 Q664.833 209.365 667.773 213.115 Q670.736 216.865 670.736 222.976 Q670.736 229.087 667.773 232.837 Q664.833 236.587 660.111 236.587 Q657.264 236.587 655.204 235.476 Q653.167 234.342 651.824 232.027 M666.315 222.976 Q666.315 218.277 664.37 215.615 Q662.449 212.93 659.07 212.93 Q655.69 212.93 653.746 215.615 Q651.824 218.277 651.824 222.976 Q651.824 227.675 653.746 230.36 Q655.69 233.022 659.07 233.022 Q662.449 233.022 664.37 230.36 Q666.315 227.675 666.315 222.976 Z\" fill=\"#000000\" fill-rule=\"evenodd\" fill-opacity=\"1\" /><path clip-path=\"url(#clip820)\" d=\"M697.981 214.967 Q699.579 212.096 701.801 210.731 Q704.023 209.365 707.032 209.365 Q711.083 209.365 713.282 212.212 Q715.481 215.036 715.481 220.268 L715.481 235.916 L711.199 235.916 L711.199 220.407 Q711.199 216.68 709.879 214.874 Q708.56 213.069 705.852 213.069 Q702.542 213.069 700.62 215.268 Q698.699 217.467 698.699 221.263 L698.699 235.916 L694.417 235.916 L694.417 220.407 Q694.417 216.657 693.097 214.874 Q691.778 213.069 689.023 213.069 Q685.759 213.069 683.838 215.291 Q681.917 217.49 681.917 221.263 L681.917 235.916 L677.634 235.916 L677.634 209.99 L681.917 209.99 L681.917 214.018 Q683.375 211.633 685.412 210.499 Q687.449 209.365 690.25 209.365 Q693.074 209.365 695.042 210.8 Q697.032 212.235 697.981 214.967 Z\" fill=\"#000000\" fill-rule=\"evenodd\" fill-opacity=\"1\" /><path clip-path=\"url(#clip820)\" d=\"M744.162 214.967 Q745.759 212.096 747.981 210.731 Q750.203 209.365 753.213 209.365 Q757.263 209.365 759.463 212.212 Q761.662 215.036 761.662 220.268 L761.662 235.916 L757.379 235.916 L757.379 220.407 Q757.379 216.68 756.06 214.874 Q754.74 213.069 752.032 213.069 Q748.722 213.069 746.801 215.268 Q744.879 217.467 744.879 221.263 L744.879 235.916 L740.597 235.916 L740.597 220.407 Q740.597 216.657 739.277 214.874 Q737.958 213.069 735.203 213.069 Q731.94 213.069 730.018 215.291 Q728.097 217.49 728.097 221.263 L728.097 235.916 L723.815 235.916 L723.815 209.99 L728.097 209.99 L728.097 214.018 Q729.555 211.633 731.592 210.499 Q733.629 209.365 736.43 209.365 Q739.254 209.365 741.222 210.8 Q743.213 212.235 744.162 214.967 Z\" fill=\"#000000\" fill-rule=\"evenodd\" fill-opacity=\"1\" /><path clip-path=\"url(#clip820)\" d=\"M781.939 222.883 Q776.777 222.883 774.787 224.064 Q772.796 225.244 772.796 228.092 Q772.796 230.36 774.277 231.703 Q775.782 233.022 778.351 233.022 Q781.893 233.022 784.023 230.522 Q786.175 227.999 786.175 223.832 L786.175 222.883 L781.939 222.883 M790.435 221.124 L790.435 235.916 L786.175 235.916 L786.175 231.981 Q784.717 234.342 782.541 235.476 Q780.365 236.587 777.217 236.587 Q773.236 236.587 770.875 234.365 Q768.537 232.119 768.537 228.369 Q768.537 223.994 771.453 221.772 Q774.393 219.55 780.203 219.55 L786.175 219.55 L786.175 219.133 Q786.175 216.194 784.231 214.596 Q782.31 212.976 778.814 212.976 Q776.592 212.976 774.486 213.508 Q772.379 214.041 770.435 215.106 L770.435 211.17 Q772.773 210.268 774.972 209.828 Q777.171 209.365 779.254 209.365 Q784.879 209.365 787.657 212.282 Q790.435 215.198 790.435 221.124 Z\" fill=\"#000000\" fill-rule=\"evenodd\" fill-opacity=\"1\" /><path clip-path=\"url(#clip820)\" d=\"M820.759 209.99 L811.384 222.606 L821.245 235.916 L816.222 235.916 L808.675 225.731 L801.129 235.916 L796.106 235.916 L806.175 222.351 L796.962 209.99 L801.985 209.99 L808.86 219.226 L815.735 209.99 L820.759 209.99 Z\" fill=\"#000000\" fill-rule=\"evenodd\" fill-opacity=\"1\" /><path clip-path=\"url(#clip820)\" d=\"M828.675 231.981 L836.314 231.981 L836.314 205.615 L828.004 207.282 L828.004 203.022 L836.268 201.356 L840.944 201.356 L840.944 231.981 L848.582 231.981 L848.582 235.916 L828.675 235.916 L828.675 231.981 Z\" fill=\"#000000\" fill-rule=\"evenodd\" fill-opacity=\"1\" /><path clip-path=\"url(#clip820)\" d=\"M858.166 235.198 L858.166 230.939 Q859.925 231.772 861.731 232.212 Q863.536 232.652 865.272 232.652 Q869.902 232.652 872.332 229.55 Q874.786 226.425 875.133 220.082 Q873.791 222.073 871.73 223.138 Q869.67 224.203 867.17 224.203 Q861.985 224.203 858.953 221.078 Q855.944 217.93 855.944 212.49 Q855.944 207.166 859.092 203.948 Q862.24 200.731 867.471 200.731 Q873.467 200.731 876.615 205.337 Q879.786 209.92 879.786 218.67 Q879.786 226.842 875.897 231.726 Q872.031 236.587 865.48 236.587 Q863.721 236.587 861.916 236.24 Q860.11 235.893 858.166 235.198 M867.471 220.545 Q870.619 220.545 872.448 218.393 Q874.3 216.24 874.3 212.49 Q874.3 208.763 872.448 206.61 Q870.619 204.434 867.471 204.434 Q864.323 204.434 862.471 206.61 Q860.643 208.763 860.643 212.49 Q860.643 216.24 862.471 218.393 Q864.323 220.545 867.471 220.545 Z\" fill=\"#000000\" fill-rule=\"evenodd\" fill-opacity=\"1\" /><path clip-path=\"url(#clip820)\" d=\"M892.216 231.981 L908.536 231.981 L908.536 235.916 L886.591 235.916 L886.591 231.981 Q889.254 229.226 893.837 224.596 Q898.443 219.944 899.624 218.601 Q901.869 216.078 902.749 214.342 Q903.652 212.583 903.652 210.893 Q903.652 208.138 901.707 206.402 Q899.786 204.666 896.684 204.666 Q894.485 204.666 892.031 205.43 Q889.601 206.194 886.823 207.745 L886.823 203.022 Q889.647 201.888 892.101 201.309 Q894.554 200.731 896.591 200.731 Q901.962 200.731 905.156 203.416 Q908.351 206.101 908.351 210.592 Q908.351 212.721 907.54 214.643 Q906.753 216.541 904.647 219.133 Q904.068 219.805 900.966 223.022 Q897.865 226.217 892.216 231.981 Z\" fill=\"#000000\" fill-rule=\"evenodd\" fill-opacity=\"1\" /><path clip-path=\"url(#clip820)\" d=\"M922.378 231.981 L938.698 231.981 L938.698 235.916 L916.753 235.916 L916.753 231.981 Q919.415 229.226 923.999 224.596 Q928.605 219.944 929.786 218.601 Q932.031 216.078 932.911 214.342 Q933.813 212.583 933.813 210.893 Q933.813 208.138 931.869 206.402 Q929.948 204.666 926.846 204.666 Q924.647 204.666 922.193 205.43 Q919.763 206.194 916.985 207.745 L916.985 203.022 Q919.809 201.888 922.263 201.309 Q924.716 200.731 926.753 200.731 Q932.124 200.731 935.318 203.416 Q938.513 206.101 938.513 210.592 Q938.513 212.721 937.702 214.643 Q936.915 216.541 934.809 219.133 Q934.23 219.805 931.128 223.022 Q928.026 226.217 922.378 231.981 Z\" fill=\"#000000\" fill-rule=\"evenodd\" fill-opacity=\"1\" /><polyline clip-path=\"url(#clip820)\" style=\"stroke:#e26f46; stroke-linecap:round; stroke-linejoin:round; stroke-width:4; stroke-opacity:1; fill:none\" points=\"\n",
       "  299.465,270.476 442.718,270.476 \n",
       "  \"/>\n",
       "<path clip-path=\"url(#clip820)\" d=\"M471.27 257.038 L471.27 283.913 L476.918 283.913 Q484.071 283.913 487.381 280.672 Q490.714 277.432 490.714 270.441 Q490.714 263.497 487.381 260.279 Q484.071 257.038 476.918 257.038 L471.27 257.038 M466.594 253.196 L476.2 253.196 Q486.246 253.196 490.945 257.386 Q495.645 261.552 495.645 270.441 Q495.645 279.376 490.922 283.566 Q486.2 287.756 476.2 287.756 L466.594 287.756 L466.594 253.196 Z\" fill=\"#000000\" fill-rule=\"evenodd\" fill-opacity=\"1\" /><path clip-path=\"url(#clip820)\" d=\"M525.089 273.728 L525.089 275.811 L505.506 275.811 Q505.783 280.209 508.144 282.524 Q510.529 284.816 514.765 284.816 Q517.218 284.816 519.51 284.214 Q521.825 283.612 524.093 282.409 L524.093 286.436 Q521.802 287.408 519.394 287.918 Q516.987 288.427 514.51 288.427 Q508.306 288.427 504.672 284.816 Q501.061 281.205 501.061 275.047 Q501.061 268.682 504.487 264.955 Q507.936 261.205 513.769 261.205 Q519.001 261.205 522.033 264.585 Q525.089 267.941 525.089 273.728 M520.83 272.478 Q520.783 268.983 518.862 266.899 Q516.964 264.816 513.816 264.816 Q510.251 264.816 508.098 266.83 Q505.969 268.844 505.644 272.501 L520.83 272.478 Z\" fill=\"#000000\" fill-rule=\"evenodd\" fill-opacity=\"1\" /><path clip-path=\"url(#clip820)\" d=\"M550.737 262.825 L550.737 266.807 Q548.931 265.811 547.103 265.325 Q545.297 264.816 543.445 264.816 Q539.302 264.816 537.01 267.455 Q534.718 270.071 534.718 274.816 Q534.718 279.561 537.01 282.2 Q539.302 284.816 543.445 284.816 Q545.297 284.816 547.103 284.33 Q548.931 283.821 550.737 282.825 L550.737 286.76 Q548.954 287.594 547.033 288.01 Q545.135 288.427 542.982 288.427 Q537.126 288.427 533.677 284.746 Q530.228 281.066 530.228 274.816 Q530.228 268.473 533.7 264.839 Q537.195 261.205 543.26 261.205 Q545.228 261.205 547.103 261.622 Q548.978 262.015 550.737 262.825 Z\" fill=\"#000000\" fill-rule=\"evenodd\" fill-opacity=\"1\" /><path clip-path=\"url(#clip820)\" d=\"M562.357 254.469 L562.357 261.83 L571.13 261.83 L571.13 265.14 L562.357 265.14 L562.357 279.214 Q562.357 282.385 563.214 283.288 Q564.093 284.191 566.755 284.191 L571.13 284.191 L571.13 287.756 L566.755 287.756 Q561.825 287.756 559.95 285.927 Q558.075 284.075 558.075 279.214 L558.075 265.14 L554.95 265.14 L554.95 261.83 L558.075 261.83 L558.075 254.469 L562.357 254.469 Z\" fill=\"#000000\" fill-rule=\"evenodd\" fill-opacity=\"1\" /><path clip-path=\"url(#clip820)\" d=\"M598.908 273.728 L598.908 275.811 L579.325 275.811 Q579.602 280.209 581.963 282.524 Q584.348 284.816 588.584 284.816 Q591.038 284.816 593.329 284.214 Q595.644 283.612 597.912 282.409 L597.912 286.436 Q595.621 287.408 593.213 287.918 Q590.806 288.427 588.329 288.427 Q582.126 288.427 578.491 284.816 Q574.88 281.205 574.88 275.047 Q574.88 268.682 578.306 264.955 Q581.755 261.205 587.588 261.205 Q592.82 261.205 595.852 264.585 Q598.908 267.941 598.908 273.728 M594.649 272.478 Q594.602 268.983 592.681 266.899 Q590.783 264.816 587.635 264.816 Q584.07 264.816 581.917 266.83 Q579.788 268.844 579.464 272.501 L594.649 272.478 Z\" fill=\"#000000\" fill-rule=\"evenodd\" fill-opacity=\"1\" /><path clip-path=\"url(#clip820)\" d=\"M626.084 266.807 Q627.681 263.936 629.903 262.571 Q632.125 261.205 635.135 261.205 Q639.185 261.205 641.384 264.052 Q643.584 266.876 643.584 272.108 L643.584 287.756 L639.301 287.756 L639.301 272.247 Q639.301 268.52 637.982 266.714 Q636.662 264.909 633.954 264.909 Q630.644 264.909 628.723 267.108 Q626.801 269.307 626.801 273.103 L626.801 287.756 L622.519 287.756 L622.519 272.247 Q622.519 268.497 621.199 266.714 Q619.88 264.909 617.125 264.909 Q613.861 264.909 611.94 267.131 Q610.019 269.33 610.019 273.103 L610.019 287.756 L605.737 287.756 L605.737 261.83 L610.019 261.83 L610.019 265.858 Q611.477 263.473 613.514 262.339 Q615.551 261.205 618.352 261.205 Q621.176 261.205 623.144 262.64 Q625.135 264.075 626.084 266.807 Z\" fill=\"#000000\" fill-rule=\"evenodd\" fill-opacity=\"1\" /><path clip-path=\"url(#clip820)\" d=\"M656.199 283.867 L656.199 297.617 L651.917 297.617 L651.917 261.83 L656.199 261.83 L656.199 265.765 Q657.542 263.45 659.579 262.339 Q661.639 261.205 664.486 261.205 Q669.208 261.205 672.148 264.955 Q675.111 268.705 675.111 274.816 Q675.111 280.927 672.148 284.677 Q669.208 288.427 664.486 288.427 Q661.639 288.427 659.579 287.316 Q657.542 286.182 656.199 283.867 M670.69 274.816 Q670.69 270.117 668.745 267.455 Q666.824 264.77 663.445 264.77 Q660.065 264.77 658.12 267.455 Q656.199 270.117 656.199 274.816 Q656.199 279.515 658.12 282.2 Q660.065 284.862 663.445 284.862 Q666.824 284.862 668.745 282.2 Q670.69 279.515 670.69 274.816 Z\" fill=\"#000000\" fill-rule=\"evenodd\" fill-opacity=\"1\" /><path clip-path=\"url(#clip820)\" d=\"M702.356 266.807 Q703.954 263.936 706.176 262.571 Q708.398 261.205 711.407 261.205 Q715.458 261.205 717.657 264.052 Q719.856 266.876 719.856 272.108 L719.856 287.756 L715.574 287.756 L715.574 272.247 Q715.574 268.52 714.254 266.714 Q712.935 264.909 710.227 264.909 Q706.917 264.909 704.995 267.108 Q703.074 269.307 703.074 273.103 L703.074 287.756 L698.792 287.756 L698.792 272.247 Q698.792 268.497 697.472 266.714 Q696.153 264.909 693.398 264.909 Q690.134 264.909 688.213 267.131 Q686.292 269.33 686.292 273.103 L686.292 287.756 L682.009 287.756 L682.009 261.83 L686.292 261.83 L686.292 265.858 Q687.75 263.473 689.787 262.339 Q691.824 261.205 694.625 261.205 Q697.449 261.205 699.417 262.64 Q701.407 264.075 702.356 266.807 Z\" fill=\"#000000\" fill-rule=\"evenodd\" fill-opacity=\"1\" /><path clip-path=\"url(#clip820)\" d=\"M740.134 274.723 Q734.972 274.723 732.981 275.904 Q730.99 277.084 730.99 279.932 Q730.99 282.2 732.472 283.543 Q733.977 284.862 736.546 284.862 Q740.088 284.862 742.217 282.362 Q744.37 279.839 744.37 275.672 L744.37 274.723 L740.134 274.723 M748.629 272.964 L748.629 287.756 L744.37 287.756 L744.37 283.821 Q742.912 286.182 740.736 287.316 Q738.56 288.427 735.412 288.427 Q731.43 288.427 729.069 286.205 Q726.731 283.959 726.731 280.209 Q726.731 275.834 729.648 273.612 Q732.588 271.39 738.398 271.39 L744.37 271.39 L744.37 270.973 Q744.37 268.034 742.426 266.436 Q740.504 264.816 737.009 264.816 Q734.787 264.816 732.68 265.348 Q730.574 265.881 728.629 266.946 L728.629 263.01 Q730.967 262.108 733.166 261.668 Q735.365 261.205 737.449 261.205 Q743.074 261.205 745.852 264.122 Q748.629 267.038 748.629 272.964 Z\" fill=\"#000000\" fill-rule=\"evenodd\" fill-opacity=\"1\" /><path clip-path=\"url(#clip820)\" d=\"M778.953 261.83 L769.578 274.446 L779.439 287.756 L774.416 287.756 L766.87 277.571 L759.324 287.756 L754.301 287.756 L764.37 274.191 L755.157 261.83 L760.18 261.83 L767.055 271.066 L773.93 261.83 L778.953 261.83 Z\" fill=\"#000000\" fill-rule=\"evenodd\" fill-opacity=\"1\" /><path clip-path=\"url(#clip820)\" d=\"M790.087 283.821 L806.407 283.821 L806.407 287.756 L784.462 287.756 L784.462 283.821 Q787.124 281.066 791.708 276.436 Q796.314 271.784 797.495 270.441 Q799.74 267.918 800.62 266.182 Q801.523 264.423 801.523 262.733 Q801.523 259.978 799.578 258.242 Q797.657 256.506 794.555 256.506 Q792.356 256.506 789.902 257.27 Q787.472 258.034 784.694 259.585 L784.694 254.862 Q787.518 253.728 789.972 253.149 Q792.425 252.571 794.462 252.571 Q799.833 252.571 803.027 255.256 Q806.222 257.941 806.222 262.432 Q806.222 264.561 805.411 266.483 Q804.624 268.381 802.518 270.973 Q801.939 271.645 798.837 274.862 Q795.736 278.057 790.087 283.821 Z\" fill=\"#000000\" fill-rule=\"evenodd\" fill-opacity=\"1\" /><path clip-path=\"url(#clip820)\" d=\"M826.221 256.274 Q822.61 256.274 820.782 259.839 Q818.976 263.381 818.976 270.51 Q818.976 277.617 820.782 281.182 Q822.61 284.723 826.221 284.723 Q829.856 284.723 831.661 281.182 Q833.49 277.617 833.49 270.51 Q833.49 263.381 831.661 259.839 Q829.856 256.274 826.221 256.274 M826.221 252.571 Q832.032 252.571 835.087 257.177 Q838.166 261.76 838.166 270.51 Q838.166 279.237 835.087 283.844 Q832.032 288.427 826.221 288.427 Q820.411 288.427 817.333 283.844 Q814.277 279.237 814.277 270.51 Q814.277 261.76 817.333 257.177 Q820.411 252.571 826.221 252.571 Z\" fill=\"#000000\" fill-rule=\"evenodd\" fill-opacity=\"1\" /><path clip-path=\"url(#clip820)\" d=\"M847.194 283.821 L854.832 283.821 L854.832 257.455 L846.522 259.122 L846.522 254.862 L854.786 253.196 L859.462 253.196 L859.462 283.821 L867.101 283.821 L867.101 287.756 L847.194 287.756 L847.194 283.821 Z\" fill=\"#000000\" fill-rule=\"evenodd\" fill-opacity=\"1\" /><path clip-path=\"url(#clip820)\" d=\"M880.573 283.821 L896.892 283.821 L896.892 287.756 L874.948 287.756 L874.948 283.821 Q877.61 281.066 882.193 276.436 Q886.8 271.784 887.98 270.441 Q890.226 267.918 891.105 266.182 Q892.008 264.423 892.008 262.733 Q892.008 259.978 890.064 258.242 Q888.142 256.506 885.041 256.506 Q882.842 256.506 880.388 257.27 Q877.957 258.034 875.18 259.585 L875.18 254.862 Q878.004 253.728 880.457 253.149 Q882.911 252.571 884.948 252.571 Q890.318 252.571 893.513 255.256 Q896.707 257.941 896.707 262.432 Q896.707 264.561 895.897 266.483 Q895.11 268.381 893.003 270.973 Q892.425 271.645 889.323 274.862 Q886.221 278.057 880.573 283.821 Z\" fill=\"#000000\" fill-rule=\"evenodd\" fill-opacity=\"1\" /></svg>\n"
      ]
     },
     "execution_count": 74,
     "metadata": {},
     "output_type": "execute_result"
    }
   ],
   "source": [
    "plot(1:11, dectempmmax1922, label=\"dectempmmax1922\", ylabel=\"Temperature (fahrenheit)\", xlabel=\"Years (1922-1932, 2012-2022)\", title=\"Dec Average max temp 1922 vs Dec Average max temp 2012 \")\n",
    "plot!(1:11, Dectempmax2012, label=\"Dectempmax2012\")"
   ]
  },
  {
   "cell_type": "markdown",
   "id": "892a3051",
   "metadata": {},
   "source": [
    "# Now we are going to graph 1922- 1932 Decemeber average temperature with 2012-2022 Decemeber average temperature: "
   ]
  },
  {
   "cell_type": "code",
   "execution_count": 75,
   "id": "a0bcb22e",
   "metadata": {},
   "outputs": [
    {
     "data": {
      "text/plain": [
       "11-element Vector{Any}:\n",
       " 26.5\n",
       " 27.64\n",
       " 27.6\n",
       "  6.91\n",
       " 20.41\n",
       " 20.91\n",
       " 24.46\n",
       " 24.23\n",
       " 20.86\n",
       " 35.14\n",
       " 31.14"
      ]
     },
     "execution_count": 75,
     "metadata": {},
     "output_type": "execute_result"
    }
   ],
   "source": [
    "#December 1922-1932  Average\n",
    "dectempavg1922=B[2:12,4]"
   ]
  },
  {
   "cell_type": "code",
   "execution_count": 76,
   "id": "f49ab332",
   "metadata": {},
   "outputs": [
    {
     "data": {
      "text/plain": [
       "11-element Vector{Any}:\n",
       " 19.68\n",
       " 12.59\n",
       " 26.64\n",
       " 30.27\n",
       " 29.27\n",
       "  5.05\n",
       " 28.68\n",
       " 33.64\n",
       " 23.59\n",
       " 25.36\n",
       " 17.68"
      ]
     },
     "execution_count": 76,
     "metadata": {},
     "output_type": "execute_result"
    }
   ],
   "source": [
    "#December 2012-2022 Average\n",
    "dectempavg2012=C[2:12,4]"
   ]
  },
  {
   "cell_type": "code",
   "execution_count": 77,
   "id": "e6560cbf",
   "metadata": {},
   "outputs": [
    {
     "data": {
      "image/svg+xml": [
       "<?xml version=\"1.0\" encoding=\"utf-8\"?>\n",
       "<svg xmlns=\"http://www.w3.org/2000/svg\" xmlns:xlink=\"http://www.w3.org/1999/xlink\" width=\"600\" height=\"400\" viewBox=\"0 0 2400 1600\">\n",
       "<defs>\n",
       "  <clipPath id=\"clip860\">\n",
       "    <rect x=\"0\" y=\"0\" width=\"2400\" height=\"1600\"/>\n",
       "  </clipPath>\n",
       "</defs>\n",
       "<path clip-path=\"url(#clip860)\" d=\"\n",
       "M0 1600 L2400 1600 L2400 0 L0 0  Z\n",
       "  \" fill=\"#ffffff\" fill-rule=\"evenodd\" fill-opacity=\"1\"/>\n",
       "<defs>\n",
       "  <clipPath id=\"clip861\">\n",
       "    <rect x=\"480\" y=\"0\" width=\"1681\" height=\"1600\"/>\n",
       "  </clipPath>\n",
       "</defs>\n",
       "<path clip-path=\"url(#clip860)\" d=\"\n",
       "M203.964 1423.18 L2352.76 1423.18 L2352.76 123.472 L203.964 123.472  Z\n",
       "  \" fill=\"#ffffff\" fill-rule=\"evenodd\" fill-opacity=\"1\"/>\n",
       "<defs>\n",
       "  <clipPath id=\"clip862\">\n",
       "    <rect x=\"203\" y=\"123\" width=\"2150\" height=\"1301\"/>\n",
       "  </clipPath>\n",
       "</defs>\n",
       "<polyline clip-path=\"url(#clip862)\" style=\"stroke:#000000; stroke-linecap:round; stroke-linejoin:round; stroke-width:2; stroke-opacity:0.1; fill:none\" points=\"\n",
       "  467.495,1423.18 467.495,123.472 \n",
       "  \"/>\n",
       "<polyline clip-path=\"url(#clip862)\" style=\"stroke:#000000; stroke-linecap:round; stroke-linejoin:round; stroke-width:2; stroke-opacity:0.1; fill:none\" points=\"\n",
       "  872.927,1423.18 872.927,123.472 \n",
       "  \"/>\n",
       "<polyline clip-path=\"url(#clip862)\" style=\"stroke:#000000; stroke-linecap:round; stroke-linejoin:round; stroke-width:2; stroke-opacity:0.1; fill:none\" points=\"\n",
       "  1278.36,1423.18 1278.36,123.472 \n",
       "  \"/>\n",
       "<polyline clip-path=\"url(#clip862)\" style=\"stroke:#000000; stroke-linecap:round; stroke-linejoin:round; stroke-width:2; stroke-opacity:0.1; fill:none\" points=\"\n",
       "  1683.79,1423.18 1683.79,123.472 \n",
       "  \"/>\n",
       "<polyline clip-path=\"url(#clip862)\" style=\"stroke:#000000; stroke-linecap:round; stroke-linejoin:round; stroke-width:2; stroke-opacity:0.1; fill:none\" points=\"\n",
       "  2089.22,1423.18 2089.22,123.472 \n",
       "  \"/>\n",
       "<polyline clip-path=\"url(#clip860)\" style=\"stroke:#000000; stroke-linecap:round; stroke-linejoin:round; stroke-width:4; stroke-opacity:1; fill:none\" points=\"\n",
       "  203.964,1423.18 2352.76,1423.18 \n",
       "  \"/>\n",
       "<polyline clip-path=\"url(#clip860)\" style=\"stroke:#000000; stroke-linecap:round; stroke-linejoin:round; stroke-width:4; stroke-opacity:1; fill:none\" points=\"\n",
       "  467.495,1423.18 467.495,1404.28 \n",
       "  \"/>\n",
       "<polyline clip-path=\"url(#clip860)\" style=\"stroke:#000000; stroke-linecap:round; stroke-linejoin:round; stroke-width:4; stroke-opacity:1; fill:none\" points=\"\n",
       "  872.927,1423.18 872.927,1404.28 \n",
       "  \"/>\n",
       "<polyline clip-path=\"url(#clip860)\" style=\"stroke:#000000; stroke-linecap:round; stroke-linejoin:round; stroke-width:4; stroke-opacity:1; fill:none\" points=\"\n",
       "  1278.36,1423.18 1278.36,1404.28 \n",
       "  \"/>\n",
       "<polyline clip-path=\"url(#clip860)\" style=\"stroke:#000000; stroke-linecap:round; stroke-linejoin:round; stroke-width:4; stroke-opacity:1; fill:none\" points=\"\n",
       "  1683.79,1423.18 1683.79,1404.28 \n",
       "  \"/>\n",
       "<polyline clip-path=\"url(#clip860)\" style=\"stroke:#000000; stroke-linecap:round; stroke-linejoin:round; stroke-width:4; stroke-opacity:1; fill:none\" points=\"\n",
       "  2089.22,1423.18 2089.22,1404.28 \n",
       "  \"/>\n",
       "<path clip-path=\"url(#clip860)\" d=\"M462.148 1481.64 L478.467 1481.64 L478.467 1485.58 L456.523 1485.58 L456.523 1481.64 Q459.185 1478.89 463.768 1474.26 Q468.374 1469.61 469.555 1468.27 Q471.8 1465.74 472.68 1464.01 Q473.583 1462.25 473.583 1460.56 Q473.583 1457.8 471.638 1456.07 Q469.717 1454.33 466.615 1454.33 Q464.416 1454.33 461.962 1455.09 Q459.532 1455.86 456.754 1457.41 L456.754 1452.69 Q459.578 1451.55 462.032 1450.97 Q464.485 1450.39 466.522 1450.39 Q471.893 1450.39 475.087 1453.08 Q478.282 1455.77 478.282 1460.26 Q478.282 1462.39 477.472 1464.31 Q476.684 1466.2 474.578 1468.8 Q473.999 1469.47 470.897 1472.69 Q467.796 1475.88 462.148 1481.64 Z\" fill=\"#000000\" fill-rule=\"evenodd\" fill-opacity=\"1\" /><path clip-path=\"url(#clip860)\" d=\"M875.936 1455.09 L864.131 1473.54 L875.936 1473.54 L875.936 1455.09 M874.71 1451.02 L880.589 1451.02 L880.589 1473.54 L885.52 1473.54 L885.52 1477.43 L880.589 1477.43 L880.589 1485.58 L875.936 1485.58 L875.936 1477.43 L860.335 1477.43 L860.335 1472.92 L874.71 1451.02 Z\" fill=\"#000000\" fill-rule=\"evenodd\" fill-opacity=\"1\" /><path clip-path=\"url(#clip860)\" d=\"M1278.76 1466.44 Q1275.62 1466.44 1273.76 1468.59 Q1271.94 1470.74 1271.94 1474.49 Q1271.94 1478.22 1273.76 1480.39 Q1275.62 1482.55 1278.76 1482.55 Q1281.91 1482.55 1283.74 1480.39 Q1285.59 1478.22 1285.59 1474.49 Q1285.59 1470.74 1283.74 1468.59 Q1281.91 1466.44 1278.76 1466.44 M1288.05 1451.78 L1288.05 1456.04 Q1286.29 1455.21 1284.48 1454.77 Q1282.7 1454.33 1280.94 1454.33 Q1276.31 1454.33 1273.86 1457.45 Q1271.43 1460.58 1271.08 1466.9 Q1272.45 1464.89 1274.51 1463.82 Q1276.57 1462.73 1279.04 1462.73 Q1284.25 1462.73 1287.26 1465.9 Q1290.29 1469.05 1290.29 1474.49 Q1290.29 1479.82 1287.14 1483.03 Q1284 1486.25 1278.76 1486.25 Q1272.77 1486.25 1269.6 1481.67 Q1266.43 1477.06 1266.43 1468.33 Q1266.43 1460.14 1270.32 1455.28 Q1274.2 1450.39 1280.76 1450.39 Q1282.51 1450.39 1284.3 1450.74 Q1286.1 1451.09 1288.05 1451.78 Z\" fill=\"#000000\" fill-rule=\"evenodd\" fill-opacity=\"1\" /><path clip-path=\"url(#clip860)\" d=\"M1683.79 1469.17 Q1680.46 1469.17 1678.54 1470.95 Q1676.64 1472.73 1676.64 1475.86 Q1676.64 1478.98 1678.54 1480.77 Q1680.46 1482.55 1683.79 1482.55 Q1687.13 1482.55 1689.05 1480.77 Q1690.97 1478.96 1690.97 1475.86 Q1690.97 1472.73 1689.05 1470.95 Q1687.15 1469.17 1683.79 1469.17 M1679.12 1467.18 Q1676.11 1466.44 1674.42 1464.38 Q1672.75 1462.32 1672.75 1459.35 Q1672.75 1455.21 1675.69 1452.8 Q1678.65 1450.39 1683.79 1450.39 Q1688.95 1450.39 1691.89 1452.8 Q1694.83 1455.21 1694.83 1459.35 Q1694.83 1462.32 1693.14 1464.38 Q1691.48 1466.44 1688.49 1467.18 Q1691.87 1467.96 1693.75 1470.26 Q1695.64 1472.55 1695.64 1475.86 Q1695.64 1480.88 1692.57 1483.57 Q1689.51 1486.25 1683.79 1486.25 Q1678.07 1486.25 1675 1483.57 Q1671.94 1480.88 1671.94 1475.86 Q1671.94 1472.55 1673.84 1470.26 Q1675.74 1467.96 1679.12 1467.18 M1677.4 1459.79 Q1677.4 1462.48 1679.07 1463.98 Q1680.76 1465.49 1683.79 1465.49 Q1686.8 1465.49 1688.49 1463.98 Q1690.2 1462.48 1690.2 1459.79 Q1690.2 1457.11 1688.49 1455.6 Q1686.8 1454.1 1683.79 1454.1 Q1680.76 1454.1 1679.07 1455.6 Q1677.4 1457.11 1677.4 1459.79 Z\" fill=\"#000000\" fill-rule=\"evenodd\" fill-opacity=\"1\" /><path clip-path=\"url(#clip860)\" d=\"M2063.91 1481.64 L2071.55 1481.64 L2071.55 1455.28 L2063.24 1456.95 L2063.24 1452.69 L2071.5 1451.02 L2076.18 1451.02 L2076.18 1481.64 L2083.82 1481.64 L2083.82 1485.58 L2063.91 1485.58 L2063.91 1481.64 Z\" fill=\"#000000\" fill-rule=\"evenodd\" fill-opacity=\"1\" /><path clip-path=\"url(#clip860)\" d=\"M2103.26 1454.1 Q2099.65 1454.1 2097.82 1457.66 Q2096.02 1461.2 2096.02 1468.33 Q2096.02 1475.44 2097.82 1479.01 Q2099.65 1482.55 2103.26 1482.55 Q2106.9 1482.55 2108.7 1479.01 Q2110.53 1475.44 2110.53 1468.33 Q2110.53 1461.2 2108.7 1457.66 Q2106.9 1454.1 2103.26 1454.1 M2103.26 1450.39 Q2109.07 1450.39 2112.13 1455 Q2115.21 1459.58 2115.21 1468.33 Q2115.21 1477.06 2112.13 1481.67 Q2109.07 1486.25 2103.26 1486.25 Q2097.45 1486.25 2094.38 1481.67 Q2091.32 1477.06 2091.32 1468.33 Q2091.32 1459.58 2094.38 1455 Q2097.45 1450.39 2103.26 1450.39 Z\" fill=\"#000000\" fill-rule=\"evenodd\" fill-opacity=\"1\" /><path clip-path=\"url(#clip860)\" d=\"M783.299 1520.52 L790.206 1520.52 L803.383 1540.07 L816.464 1520.52 L823.371 1520.52 L806.565 1545.41 L806.565 1568.04 L800.104 1568.04 L800.104 1545.41 L783.299 1520.52 Z\" fill=\"#000000\" fill-rule=\"evenodd\" fill-opacity=\"1\" /><path clip-path=\"url(#clip860)\" d=\"M851.221 1548.76 L851.221 1551.62 L824.294 1551.62 Q824.676 1557.67 827.922 1560.85 Q831.201 1564 837.025 1564 Q840.399 1564 843.55 1563.17 Q846.733 1562.35 849.852 1560.69 L849.852 1566.23 Q846.701 1567.57 843.391 1568.27 Q840.081 1568.97 836.675 1568.97 Q828.145 1568.97 823.148 1564 Q818.183 1559.04 818.183 1550.57 Q818.183 1541.82 822.893 1536.69 Q827.636 1531.54 835.657 1531.54 Q842.85 1531.54 847.019 1536.18 Q851.221 1540.8 851.221 1548.76 M845.364 1547.04 Q845.301 1542.23 842.659 1539.37 Q840.049 1536.5 835.72 1536.5 Q830.819 1536.5 827.859 1539.27 Q824.93 1542.04 824.485 1547.07 L845.364 1547.04 Z\" fill=\"#000000\" fill-rule=\"evenodd\" fill-opacity=\"1\" /><path clip-path=\"url(#clip860)\" d=\"M877.034 1550.12 Q869.936 1550.12 867.199 1551.75 Q864.461 1553.37 864.461 1557.29 Q864.461 1560.4 866.499 1562.25 Q868.567 1564.07 872.1 1564.07 Q876.97 1564.07 879.898 1560.63 Q882.858 1557.16 882.858 1551.43 L882.858 1550.12 L877.034 1550.12 M888.715 1547.71 L888.715 1568.04 L882.858 1568.04 L882.858 1562.63 Q880.853 1565.88 877.861 1567.44 Q874.869 1568.97 870.541 1568.97 Q865.066 1568.97 861.82 1565.91 Q858.605 1562.82 858.605 1557.67 Q858.605 1551.65 862.615 1548.6 Q866.658 1545.54 874.647 1545.54 L882.858 1545.54 L882.858 1544.97 Q882.858 1540.93 880.185 1538.73 Q877.543 1536.5 872.737 1536.5 Q869.681 1536.5 866.785 1537.23 Q863.889 1537.97 861.215 1539.43 L861.215 1534.02 Q864.43 1532.78 867.453 1532.17 Q870.477 1531.54 873.342 1531.54 Q881.076 1531.54 884.895 1535.55 Q888.715 1539.56 888.715 1547.71 Z\" fill=\"#000000\" fill-rule=\"evenodd\" fill-opacity=\"1\" /><path clip-path=\"url(#clip860)\" d=\"M921.435 1537.87 Q920.448 1537.3 919.27 1537.04 Q918.124 1536.76 916.724 1536.76 Q911.759 1536.76 909.085 1540 Q906.443 1543.22 906.443 1549.27 L906.443 1568.04 L900.555 1568.04 L900.555 1532.4 L906.443 1532.4 L906.443 1537.93 Q908.289 1534.69 911.249 1533.13 Q914.209 1531.54 918.443 1531.54 Q919.047 1531.54 919.779 1531.63 Q920.512 1531.7 921.403 1531.85 L921.435 1537.87 Z\" fill=\"#000000\" fill-rule=\"evenodd\" fill-opacity=\"1\" /><path clip-path=\"url(#clip860)\" d=\"M950.303 1533.45 L950.303 1538.98 Q947.82 1537.71 945.147 1537.07 Q942.473 1536.44 939.609 1536.44 Q935.248 1536.44 933.052 1537.77 Q930.888 1539.11 930.888 1541.79 Q930.888 1543.82 932.447 1545 Q934.007 1546.15 938.717 1547.2 L940.723 1547.64 Q946.961 1548.98 949.571 1551.43 Q952.213 1553.85 952.213 1558.21 Q952.213 1563.17 948.266 1566.07 Q944.351 1568.97 937.476 1568.97 Q934.612 1568.97 931.492 1568.39 Q928.405 1567.85 924.968 1566.74 L924.968 1560.69 Q928.214 1562.38 931.365 1563.24 Q934.516 1564.07 937.603 1564.07 Q941.741 1564.07 943.969 1562.66 Q946.197 1561.23 946.197 1558.65 Q946.197 1556.27 944.574 1554.99 Q942.982 1553.72 937.54 1552.54 L935.503 1552.07 Q930.06 1550.92 927.641 1548.56 Q925.222 1546.18 925.222 1542.04 Q925.222 1537.01 928.787 1534.27 Q932.352 1531.54 938.908 1531.54 Q942.155 1531.54 945.02 1532.01 Q947.884 1532.49 950.303 1533.45 Z\" fill=\"#000000\" fill-rule=\"evenodd\" fill-opacity=\"1\" /><path clip-path=\"url(#clip860)\" d=\"M996.327 1518.58 Q992.062 1525.9 989.993 1533.06 Q987.924 1540.23 987.924 1547.58 Q987.924 1554.93 989.993 1562.16 Q992.094 1569.35 996.327 1576.64 L991.235 1576.64 Q986.46 1569.16 984.073 1561.93 Q981.718 1554.71 981.718 1547.58 Q981.718 1540.48 984.073 1533.29 Q986.428 1526.09 991.235 1518.58 L996.327 1518.58 Z\" fill=\"#000000\" fill-rule=\"evenodd\" fill-opacity=\"1\" /><path clip-path=\"url(#clip860)\" d=\"M1009.63 1562.63 L1020.13 1562.63 L1020.13 1526.38 L1008.71 1528.67 L1008.71 1522.82 L1020.07 1520.52 L1026.5 1520.52 L1026.5 1562.63 L1037 1562.63 L1037 1568.04 L1009.63 1568.04 L1009.63 1562.63 Z\" fill=\"#000000\" fill-rule=\"evenodd\" fill-opacity=\"1\" /><path clip-path=\"url(#clip860)\" d=\"M1050.18 1567.06 L1050.18 1561.2 Q1052.6 1562.35 1055.08 1562.95 Q1057.57 1563.56 1059.95 1563.56 Q1066.32 1563.56 1069.66 1559.29 Q1073.03 1554.99 1073.51 1546.27 Q1071.67 1549.01 1068.83 1550.47 Q1066 1551.94 1062.56 1551.94 Q1055.43 1551.94 1051.26 1547.64 Q1047.13 1543.31 1047.13 1535.83 Q1047.13 1528.51 1051.45 1524.09 Q1055.78 1519.66 1062.98 1519.66 Q1071.22 1519.66 1075.55 1526 Q1079.91 1532.3 1079.91 1544.33 Q1079.91 1555.57 1074.56 1562.28 Q1069.25 1568.97 1060.24 1568.97 Q1057.82 1568.97 1055.34 1568.49 Q1052.85 1568.01 1050.18 1567.06 M1062.98 1546.91 Q1067.3 1546.91 1069.82 1543.95 Q1072.37 1540.99 1072.37 1535.83 Q1072.37 1530.71 1069.82 1527.75 Q1067.3 1524.76 1062.98 1524.76 Q1058.65 1524.76 1056.1 1527.75 Q1053.59 1530.71 1053.59 1535.83 Q1053.59 1540.99 1056.1 1543.95 Q1058.65 1546.91 1062.98 1546.91 Z\" fill=\"#000000\" fill-rule=\"evenodd\" fill-opacity=\"1\" /><path clip-path=\"url(#clip860)\" d=\"M1097 1562.63 L1119.44 1562.63 L1119.44 1568.04 L1089.27 1568.04 L1089.27 1562.63 Q1092.93 1558.85 1099.23 1552.48 Q1105.56 1546.08 1107.19 1544.24 Q1110.27 1540.77 1111.48 1538.38 Q1112.72 1535.96 1112.72 1533.64 Q1112.72 1529.85 1110.05 1527.46 Q1107.41 1525.08 1103.14 1525.08 Q1100.12 1525.08 1096.75 1526.13 Q1093.4 1527.18 1089.58 1529.31 L1089.58 1522.82 Q1093.47 1521.26 1096.84 1520.46 Q1100.22 1519.66 1103.02 1519.66 Q1110.4 1519.66 1114.79 1523.36 Q1119.19 1527.05 1119.19 1533.22 Q1119.19 1536.15 1118.07 1538.79 Q1116.99 1541.4 1114.09 1544.97 Q1113.3 1545.89 1109.03 1550.32 Q1104.77 1554.71 1097 1562.63 Z\" fill=\"#000000\" fill-rule=\"evenodd\" fill-opacity=\"1\" /><path clip-path=\"url(#clip860)\" d=\"M1138.47 1562.63 L1160.91 1562.63 L1160.91 1568.04 L1130.74 1568.04 L1130.74 1562.63 Q1134.4 1558.85 1140.7 1552.48 Q1147.04 1546.08 1148.66 1544.24 Q1151.75 1540.77 1152.96 1538.38 Q1154.2 1535.96 1154.2 1533.64 Q1154.2 1529.85 1151.52 1527.46 Q1148.88 1525.08 1144.62 1525.08 Q1141.59 1525.08 1138.22 1526.13 Q1134.88 1527.18 1131.06 1529.31 L1131.06 1522.82 Q1134.94 1521.26 1138.31 1520.46 Q1141.69 1519.66 1144.49 1519.66 Q1151.87 1519.66 1156.27 1523.36 Q1160.66 1527.05 1160.66 1533.22 Q1160.66 1536.15 1159.54 1538.79 Q1158.46 1541.4 1155.57 1544.97 Q1154.77 1545.89 1150.5 1550.32 Q1146.24 1554.71 1138.47 1562.63 Z\" fill=\"#000000\" fill-rule=\"evenodd\" fill-opacity=\"1\" /><path clip-path=\"url(#clip860)\" d=\"M1170.62 1547.58 L1187.78 1547.58 L1187.78 1552.8 L1170.62 1552.8 L1170.62 1547.58 Z\" fill=\"#000000\" fill-rule=\"evenodd\" fill-opacity=\"1\" /><path clip-path=\"url(#clip860)\" d=\"M1199.04 1562.63 L1209.55 1562.63 L1209.55 1526.38 L1198.12 1528.67 L1198.12 1522.82 L1209.48 1520.52 L1215.91 1520.52 L1215.91 1562.63 L1226.42 1562.63 L1226.42 1568.04 L1199.04 1568.04 L1199.04 1562.63 Z\" fill=\"#000000\" fill-rule=\"evenodd\" fill-opacity=\"1\" /><path clip-path=\"url(#clip860)\" d=\"M1239.59 1567.06 L1239.59 1561.2 Q1242.01 1562.35 1244.49 1562.95 Q1246.98 1563.56 1249.36 1563.56 Q1255.73 1563.56 1259.07 1559.29 Q1262.45 1554.99 1262.92 1546.27 Q1261.08 1549.01 1258.24 1550.47 Q1255.41 1551.94 1251.97 1551.94 Q1244.84 1551.94 1240.67 1547.64 Q1236.54 1543.31 1236.54 1535.83 Q1236.54 1528.51 1240.87 1524.09 Q1245.19 1519.66 1252.39 1519.66 Q1260.63 1519.66 1264.96 1526 Q1269.32 1532.3 1269.32 1544.33 Q1269.32 1555.57 1263.97 1562.28 Q1258.66 1568.97 1249.65 1568.97 Q1247.23 1568.97 1244.75 1568.49 Q1242.27 1568.01 1239.59 1567.06 M1252.39 1546.91 Q1256.72 1546.91 1259.23 1543.95 Q1261.78 1540.99 1261.78 1535.83 Q1261.78 1530.71 1259.23 1527.75 Q1256.72 1524.76 1252.39 1524.76 Q1248.06 1524.76 1245.51 1527.75 Q1243 1530.71 1243 1535.83 Q1243 1540.99 1245.51 1543.95 Q1248.06 1546.91 1252.39 1546.91 Z\" fill=\"#000000\" fill-rule=\"evenodd\" fill-opacity=\"1\" /><path clip-path=\"url(#clip860)\" d=\"M1300.35 1542.42 Q1304.97 1543.41 1307.55 1546.53 Q1310.16 1549.65 1310.16 1554.23 Q1310.16 1561.26 1305.32 1565.12 Q1300.48 1568.97 1291.57 1568.97 Q1288.58 1568.97 1285.39 1568.36 Q1282.24 1567.79 1278.87 1566.61 L1278.87 1560.4 Q1281.54 1561.96 1284.73 1562.76 Q1287.91 1563.56 1291.38 1563.56 Q1297.43 1563.56 1300.58 1561.17 Q1303.76 1558.78 1303.76 1554.23 Q1303.76 1550.03 1300.8 1547.67 Q1297.87 1545.29 1292.62 1545.29 L1287.08 1545.29 L1287.08 1540 L1292.87 1540 Q1297.62 1540 1300.13 1538.13 Q1302.64 1536.22 1302.64 1532.65 Q1302.64 1528.99 1300.03 1527.05 Q1297.46 1525.08 1292.62 1525.08 Q1289.98 1525.08 1286.95 1525.65 Q1283.93 1526.22 1280.3 1527.43 L1280.3 1521.7 Q1283.96 1520.68 1287.14 1520.17 Q1290.36 1519.66 1293.19 1519.66 Q1300.51 1519.66 1304.78 1523.01 Q1309.04 1526.32 1309.04 1531.98 Q1309.04 1535.93 1306.78 1538.67 Q1304.52 1541.37 1300.35 1542.42 Z\" fill=\"#000000\" fill-rule=\"evenodd\" fill-opacity=\"1\" /><path clip-path=\"url(#clip860)\" d=\"M1327.88 1562.63 L1350.32 1562.63 L1350.32 1568.04 L1320.15 1568.04 L1320.15 1562.63 Q1323.81 1558.85 1330.11 1552.48 Q1336.45 1546.08 1338.07 1544.24 Q1341.16 1540.77 1342.37 1538.38 Q1343.61 1535.96 1343.61 1533.64 Q1343.61 1529.85 1340.93 1527.46 Q1338.29 1525.08 1334.03 1525.08 Q1331 1525.08 1327.63 1526.13 Q1324.29 1527.18 1320.47 1529.31 L1320.47 1522.82 Q1324.35 1521.26 1327.73 1520.46 Q1331.1 1519.66 1333.9 1519.66 Q1341.28 1519.66 1345.68 1523.36 Q1350.07 1527.05 1350.07 1533.22 Q1350.07 1536.15 1348.96 1538.79 Q1347.87 1541.4 1344.98 1544.97 Q1344.18 1545.89 1339.92 1550.32 Q1335.65 1554.71 1327.88 1562.63 Z\" fill=\"#000000\" fill-rule=\"evenodd\" fill-opacity=\"1\" /><path clip-path=\"url(#clip860)\" d=\"M1364.49 1559.96 L1371.2 1559.96 L1371.2 1565.43 L1365.98 1575.62 L1361.88 1575.62 L1364.49 1565.43 L1364.49 1559.96 Z\" fill=\"#000000\" fill-rule=\"evenodd\" fill-opacity=\"1\" /><path clip-path=\"url(#clip860)\" d=\"M1410.8 1562.63 L1433.24 1562.63 L1433.24 1568.04 L1403.06 1568.04 L1403.06 1562.63 Q1406.72 1558.85 1413.03 1552.48 Q1419.36 1546.08 1420.98 1544.24 Q1424.07 1540.77 1425.28 1538.38 Q1426.52 1535.96 1426.52 1533.64 Q1426.52 1529.85 1423.85 1527.46 Q1421.21 1525.08 1416.94 1525.08 Q1413.92 1525.08 1410.54 1526.13 Q1407.2 1527.18 1403.38 1529.31 L1403.38 1522.82 Q1407.27 1521.26 1410.64 1520.46 Q1414.01 1519.66 1416.81 1519.66 Q1424.2 1519.66 1428.59 1523.36 Q1432.98 1527.05 1432.98 1533.22 Q1432.98 1536.15 1431.87 1538.79 Q1430.79 1541.4 1427.89 1544.97 Q1427.09 1545.89 1422.83 1550.32 Q1418.56 1554.71 1410.8 1562.63 Z\" fill=\"#000000\" fill-rule=\"evenodd\" fill-opacity=\"1\" /><path clip-path=\"url(#clip860)\" d=\"M1460.48 1524.76 Q1455.52 1524.76 1453 1529.66 Q1450.52 1534.53 1450.52 1544.33 Q1450.52 1554.1 1453 1559 Q1455.52 1563.87 1460.48 1563.87 Q1465.48 1563.87 1467.96 1559 Q1470.48 1554.1 1470.48 1544.33 Q1470.48 1534.53 1467.96 1529.66 Q1465.48 1524.76 1460.48 1524.76 M1460.48 1519.66 Q1468.47 1519.66 1472.67 1526 Q1476.91 1532.3 1476.91 1544.33 Q1476.91 1556.33 1472.67 1562.66 Q1468.47 1568.97 1460.48 1568.97 Q1452.49 1568.97 1448.26 1562.66 Q1444.06 1556.33 1444.06 1544.33 Q1444.06 1532.3 1448.26 1526 Q1452.49 1519.66 1460.48 1519.66 Z\" fill=\"#000000\" fill-rule=\"evenodd\" fill-opacity=\"1\" /><path clip-path=\"url(#clip860)\" d=\"M1489.32 1562.63 L1499.82 1562.63 L1499.82 1526.38 L1488.4 1528.67 L1488.4 1522.82 L1499.76 1520.52 L1506.19 1520.52 L1506.19 1562.63 L1516.69 1562.63 L1516.69 1568.04 L1489.32 1568.04 L1489.32 1562.63 Z\" fill=\"#000000\" fill-rule=\"evenodd\" fill-opacity=\"1\" /><path clip-path=\"url(#clip860)\" d=\"M1535.22 1562.63 L1557.66 1562.63 L1557.66 1568.04 L1527.48 1568.04 L1527.48 1562.63 Q1531.14 1558.85 1537.44 1552.48 Q1543.78 1546.08 1545.4 1544.24 Q1548.49 1540.77 1549.7 1538.38 Q1550.94 1535.96 1550.94 1533.64 Q1550.94 1529.85 1548.27 1527.46 Q1545.62 1525.08 1541.36 1525.08 Q1538.34 1525.08 1534.96 1526.13 Q1531.62 1527.18 1527.8 1529.31 L1527.8 1522.82 Q1531.68 1521.26 1535.06 1520.46 Q1538.43 1519.66 1541.23 1519.66 Q1548.62 1519.66 1553.01 1523.36 Q1557.4 1527.05 1557.4 1533.22 Q1557.4 1536.15 1556.29 1538.79 Q1555.2 1541.4 1552.31 1544.97 Q1551.51 1545.89 1547.25 1550.32 Q1542.98 1554.71 1535.22 1562.63 Z\" fill=\"#000000\" fill-rule=\"evenodd\" fill-opacity=\"1\" /><path clip-path=\"url(#clip860)\" d=\"M1567.36 1547.58 L1584.52 1547.58 L1584.52 1552.8 L1567.36 1552.8 L1567.36 1547.58 Z\" fill=\"#000000\" fill-rule=\"evenodd\" fill-opacity=\"1\" /><path clip-path=\"url(#clip860)\" d=\"M1600.21 1562.63 L1622.65 1562.63 L1622.65 1568.04 L1592.48 1568.04 L1592.48 1562.63 Q1596.14 1558.85 1602.44 1552.48 Q1608.77 1546.08 1610.39 1544.24 Q1613.48 1540.77 1614.69 1538.38 Q1615.93 1535.96 1615.93 1533.64 Q1615.93 1529.85 1613.26 1527.46 Q1610.62 1525.08 1606.35 1525.08 Q1603.33 1525.08 1599.96 1526.13 Q1596.61 1527.18 1592.79 1529.31 L1592.79 1522.82 Q1596.68 1521.26 1600.05 1520.46 Q1603.42 1519.66 1606.23 1519.66 Q1613.61 1519.66 1618 1523.36 Q1622.39 1527.05 1622.39 1533.22 Q1622.39 1536.15 1621.28 1538.79 Q1620.2 1541.4 1617.3 1544.97 Q1616.51 1545.89 1612.24 1550.32 Q1607.98 1554.71 1600.21 1562.63 Z\" fill=\"#000000\" fill-rule=\"evenodd\" fill-opacity=\"1\" /><path clip-path=\"url(#clip860)\" d=\"M1649.89 1524.76 Q1644.93 1524.76 1642.41 1529.66 Q1639.93 1534.53 1639.93 1544.33 Q1639.93 1554.1 1642.41 1559 Q1644.93 1563.87 1649.89 1563.87 Q1654.89 1563.87 1657.37 1559 Q1659.89 1554.1 1659.89 1544.33 Q1659.89 1534.53 1657.37 1529.66 Q1654.89 1524.76 1649.89 1524.76 M1649.89 1519.66 Q1657.88 1519.66 1662.08 1526 Q1666.32 1532.3 1666.32 1544.33 Q1666.32 1556.33 1662.08 1562.66 Q1657.88 1568.97 1649.89 1568.97 Q1641.91 1568.97 1637.67 1562.66 Q1633.47 1556.33 1633.47 1544.33 Q1633.47 1532.3 1637.67 1526 Q1641.91 1519.66 1649.89 1519.66 Z\" fill=\"#000000\" fill-rule=\"evenodd\" fill-opacity=\"1\" /><path clip-path=\"url(#clip860)\" d=\"M1683.16 1562.63 L1705.59 1562.63 L1705.59 1568.04 L1675.42 1568.04 L1675.42 1562.63 Q1679.08 1558.85 1685.38 1552.48 Q1691.72 1546.08 1693.34 1544.24 Q1696.43 1540.77 1697.64 1538.38 Q1698.88 1535.96 1698.88 1533.64 Q1698.88 1529.85 1696.2 1527.46 Q1693.56 1525.08 1689.3 1525.08 Q1686.27 1525.08 1682.9 1526.13 Q1679.56 1527.18 1675.74 1529.31 L1675.74 1522.82 Q1679.62 1521.26 1683 1520.46 Q1686.37 1519.66 1689.17 1519.66 Q1696.55 1519.66 1700.95 1523.36 Q1705.34 1527.05 1705.34 1533.22 Q1705.34 1536.15 1704.23 1538.79 Q1703.14 1541.4 1700.25 1544.97 Q1699.45 1545.89 1695.19 1550.32 Q1690.92 1554.71 1683.16 1562.63 Z\" fill=\"#000000\" fill-rule=\"evenodd\" fill-opacity=\"1\" /><path clip-path=\"url(#clip860)\" d=\"M1724.63 1562.63 L1747.07 1562.63 L1747.07 1568.04 L1716.89 1568.04 L1716.89 1562.63 Q1720.55 1558.85 1726.86 1552.48 Q1733.19 1546.08 1734.81 1544.24 Q1737.9 1540.77 1739.11 1538.38 Q1740.35 1535.96 1740.35 1533.64 Q1740.35 1529.85 1737.68 1527.46 Q1735.04 1525.08 1730.77 1525.08 Q1727.75 1525.08 1724.37 1526.13 Q1721.03 1527.18 1717.21 1529.31 L1717.21 1522.82 Q1721.09 1521.26 1724.47 1520.46 Q1727.84 1519.66 1730.64 1519.66 Q1738.03 1519.66 1742.42 1523.36 Q1746.81 1527.05 1746.81 1533.22 Q1746.81 1536.15 1745.7 1538.79 Q1744.62 1541.4 1741.72 1544.97 Q1740.92 1545.89 1736.66 1550.32 Q1732.39 1554.71 1724.63 1562.63 Z\" fill=\"#000000\" fill-rule=\"evenodd\" fill-opacity=\"1\" /><path clip-path=\"url(#clip860)\" d=\"M1758.81 1518.58 L1763.9 1518.58 Q1768.68 1526.09 1771.03 1533.29 Q1773.42 1540.48 1773.42 1547.58 Q1773.42 1554.71 1771.03 1561.93 Q1768.68 1569.16 1763.9 1576.64 L1758.81 1576.64 Q1763.04 1569.35 1765.11 1562.16 Q1767.21 1554.93 1767.21 1547.58 Q1767.21 1540.23 1765.11 1533.06 Q1763.04 1525.9 1758.81 1518.58 Z\" fill=\"#000000\" fill-rule=\"evenodd\" fill-opacity=\"1\" /><polyline clip-path=\"url(#clip862)\" style=\"stroke:#000000; stroke-linecap:round; stroke-linejoin:round; stroke-width:2; stroke-opacity:0.1; fill:none\" points=\"\n",
       "  203.964,1388.43 2352.76,1388.43 \n",
       "  \"/>\n",
       "<polyline clip-path=\"url(#clip862)\" style=\"stroke:#000000; stroke-linecap:round; stroke-linejoin:round; stroke-width:2; stroke-opacity:0.1; fill:none\" points=\"\n",
       "  203.964,1184.69 2352.76,1184.69 \n",
       "  \"/>\n",
       "<polyline clip-path=\"url(#clip862)\" style=\"stroke:#000000; stroke-linecap:round; stroke-linejoin:round; stroke-width:2; stroke-opacity:0.1; fill:none\" points=\"\n",
       "  203.964,980.942 2352.76,980.942 \n",
       "  \"/>\n",
       "<polyline clip-path=\"url(#clip862)\" style=\"stroke:#000000; stroke-linecap:round; stroke-linejoin:round; stroke-width:2; stroke-opacity:0.1; fill:none\" points=\"\n",
       "  203.964,777.197 2352.76,777.197 \n",
       "  \"/>\n",
       "<polyline clip-path=\"url(#clip862)\" style=\"stroke:#000000; stroke-linecap:round; stroke-linejoin:round; stroke-width:2; stroke-opacity:0.1; fill:none\" points=\"\n",
       "  203.964,573.452 2352.76,573.452 \n",
       "  \"/>\n",
       "<polyline clip-path=\"url(#clip862)\" style=\"stroke:#000000; stroke-linecap:round; stroke-linejoin:round; stroke-width:2; stroke-opacity:0.1; fill:none\" points=\"\n",
       "  203.964,369.706 2352.76,369.706 \n",
       "  \"/>\n",
       "<polyline clip-path=\"url(#clip862)\" style=\"stroke:#000000; stroke-linecap:round; stroke-linejoin:round; stroke-width:2; stroke-opacity:0.1; fill:none\" points=\"\n",
       "  203.964,165.961 2352.76,165.961 \n",
       "  \"/>\n",
       "<polyline clip-path=\"url(#clip860)\" style=\"stroke:#000000; stroke-linecap:round; stroke-linejoin:round; stroke-width:4; stroke-opacity:1; fill:none\" points=\"\n",
       "  203.964,1423.18 203.964,123.472 \n",
       "  \"/>\n",
       "<polyline clip-path=\"url(#clip860)\" style=\"stroke:#000000; stroke-linecap:round; stroke-linejoin:round; stroke-width:4; stroke-opacity:1; fill:none\" points=\"\n",
       "  203.964,1388.43 222.861,1388.43 \n",
       "  \"/>\n",
       "<polyline clip-path=\"url(#clip860)\" style=\"stroke:#000000; stroke-linecap:round; stroke-linejoin:round; stroke-width:4; stroke-opacity:1; fill:none\" points=\"\n",
       "  203.964,1184.69 222.861,1184.69 \n",
       "  \"/>\n",
       "<polyline clip-path=\"url(#clip860)\" style=\"stroke:#000000; stroke-linecap:round; stroke-linejoin:round; stroke-width:4; stroke-opacity:1; fill:none\" points=\"\n",
       "  203.964,980.942 222.861,980.942 \n",
       "  \"/>\n",
       "<polyline clip-path=\"url(#clip860)\" style=\"stroke:#000000; stroke-linecap:round; stroke-linejoin:round; stroke-width:4; stroke-opacity:1; fill:none\" points=\"\n",
       "  203.964,777.197 222.861,777.197 \n",
       "  \"/>\n",
       "<polyline clip-path=\"url(#clip860)\" style=\"stroke:#000000; stroke-linecap:round; stroke-linejoin:round; stroke-width:4; stroke-opacity:1; fill:none\" points=\"\n",
       "  203.964,573.452 222.861,573.452 \n",
       "  \"/>\n",
       "<polyline clip-path=\"url(#clip860)\" style=\"stroke:#000000; stroke-linecap:round; stroke-linejoin:round; stroke-width:4; stroke-opacity:1; fill:none\" points=\"\n",
       "  203.964,369.706 222.861,369.706 \n",
       "  \"/>\n",
       "<polyline clip-path=\"url(#clip860)\" style=\"stroke:#000000; stroke-linecap:round; stroke-linejoin:round; stroke-width:4; stroke-opacity:1; fill:none\" points=\"\n",
       "  203.964,165.961 222.861,165.961 \n",
       "  \"/>\n",
       "<path clip-path=\"url(#clip860)\" d=\"M147.061 1371.15 L165.417 1371.15 L165.417 1375.09 L151.343 1375.09 L151.343 1383.56 Q152.362 1383.21 153.38 1383.05 Q154.399 1382.87 155.417 1382.87 Q161.204 1382.87 164.584 1386.04 Q167.964 1389.21 167.964 1394.63 Q167.964 1400.2 164.491 1403.31 Q161.019 1406.38 154.7 1406.38 Q152.524 1406.38 150.255 1406.01 Q148.01 1405.64 145.603 1404.9 L145.603 1400.2 Q147.686 1401.34 149.908 1401.89 Q152.13 1402.45 154.607 1402.45 Q158.612 1402.45 160.95 1400.34 Q163.288 1398.24 163.288 1394.63 Q163.288 1391.01 160.95 1388.91 Q158.612 1386.8 154.607 1386.8 Q152.732 1386.8 150.857 1387.22 Q149.005 1387.63 147.061 1388.51 L147.061 1371.15 Z\" fill=\"#000000\" fill-rule=\"evenodd\" fill-opacity=\"1\" /><path clip-path=\"url(#clip860)\" d=\"M116.668 1198.03 L124.306 1198.03 L124.306 1171.67 L115.996 1173.33 L115.996 1169.07 L124.26 1167.41 L128.936 1167.41 L128.936 1198.03 L136.575 1198.03 L136.575 1201.97 L116.668 1201.97 L116.668 1198.03 Z\" fill=\"#000000\" fill-rule=\"evenodd\" fill-opacity=\"1\" /><path clip-path=\"url(#clip860)\" d=\"M156.019 1170.49 Q152.408 1170.49 150.579 1174.05 Q148.774 1177.59 148.774 1184.72 Q148.774 1191.83 150.579 1195.39 Q152.408 1198.94 156.019 1198.94 Q159.653 1198.94 161.459 1195.39 Q163.288 1191.83 163.288 1184.72 Q163.288 1177.59 161.459 1174.05 Q159.653 1170.49 156.019 1170.49 M156.019 1166.78 Q161.829 1166.78 164.885 1171.39 Q167.964 1175.97 167.964 1184.72 Q167.964 1193.45 164.885 1198.06 Q161.829 1202.64 156.019 1202.64 Q150.209 1202.64 147.13 1198.06 Q144.075 1193.45 144.075 1184.72 Q144.075 1175.97 147.13 1171.39 Q150.209 1166.78 156.019 1166.78 Z\" fill=\"#000000\" fill-rule=\"evenodd\" fill-opacity=\"1\" /><path clip-path=\"url(#clip860)\" d=\"M117.663 994.287 L125.302 994.287 L125.302 967.922 L116.992 969.588 L116.992 965.329 L125.255 963.662 L129.931 963.662 L129.931 994.287 L137.57 994.287 L137.57 998.222 L117.663 998.222 L117.663 994.287 Z\" fill=\"#000000\" fill-rule=\"evenodd\" fill-opacity=\"1\" /><path clip-path=\"url(#clip860)\" d=\"M147.061 963.662 L165.417 963.662 L165.417 967.598 L151.343 967.598 L151.343 976.07 Q152.362 975.723 153.38 975.561 Q154.399 975.375 155.417 975.375 Q161.204 975.375 164.584 978.547 Q167.964 981.718 167.964 987.135 Q167.964 992.713 164.491 995.815 Q161.019 998.894 154.7 998.894 Q152.524 998.894 150.255 998.523 Q148.01 998.153 145.603 997.412 L145.603 992.713 Q147.686 993.847 149.908 994.403 Q152.13 994.959 154.607 994.959 Q158.612 994.959 160.95 992.852 Q163.288 990.746 163.288 987.135 Q163.288 983.523 160.95 981.417 Q158.612 979.311 154.607 979.311 Q152.732 979.311 150.857 979.727 Q149.005 980.144 147.061 981.023 L147.061 963.662 Z\" fill=\"#000000\" fill-rule=\"evenodd\" fill-opacity=\"1\" /><path clip-path=\"url(#clip860)\" d=\"M119.885 790.542 L136.204 790.542 L136.204 794.477 L114.26 794.477 L114.26 790.542 Q116.922 787.787 121.505 783.158 Q126.112 778.505 127.292 777.162 Q129.538 774.639 130.417 772.903 Q131.32 771.144 131.32 769.454 Q131.32 766.7 129.376 764.963 Q127.455 763.227 124.353 763.227 Q122.154 763.227 119.7 763.991 Q117.269 764.755 114.492 766.306 L114.492 761.584 Q117.316 760.45 119.769 759.871 Q122.223 759.292 124.26 759.292 Q129.63 759.292 132.825 761.977 Q136.019 764.662 136.019 769.153 Q136.019 771.283 135.209 773.204 Q134.422 775.102 132.316 777.695 Q131.737 778.366 128.635 781.584 Q125.533 784.778 119.885 790.542 Z\" fill=\"#000000\" fill-rule=\"evenodd\" fill-opacity=\"1\" /><path clip-path=\"url(#clip860)\" d=\"M156.019 762.996 Q152.408 762.996 150.579 766.561 Q148.774 770.102 148.774 777.232 Q148.774 784.338 150.579 787.903 Q152.408 791.445 156.019 791.445 Q159.653 791.445 161.459 787.903 Q163.288 784.338 163.288 777.232 Q163.288 770.102 161.459 766.561 Q159.653 762.996 156.019 762.996 M156.019 759.292 Q161.829 759.292 164.885 763.899 Q167.964 768.482 167.964 777.232 Q167.964 785.959 164.885 790.565 Q161.829 795.148 156.019 795.148 Q150.209 795.148 147.13 790.565 Q144.075 785.959 144.075 777.232 Q144.075 768.482 147.13 763.899 Q150.209 759.292 156.019 759.292 Z\" fill=\"#000000\" fill-rule=\"evenodd\" fill-opacity=\"1\" /><path clip-path=\"url(#clip860)\" d=\"M120.88 586.797 L137.2 586.797 L137.2 590.732 L115.256 590.732 L115.256 586.797 Q117.918 584.042 122.501 579.412 Q127.107 574.76 128.288 573.417 Q130.533 570.894 131.413 569.158 Q132.316 567.399 132.316 565.709 Q132.316 562.954 130.371 561.218 Q128.45 559.482 125.348 559.482 Q123.149 559.482 120.695 560.246 Q118.265 561.01 115.487 562.561 L115.487 557.838 Q118.311 556.704 120.765 556.126 Q123.218 555.547 125.255 555.547 Q130.626 555.547 133.82 558.232 Q137.015 560.917 137.015 565.408 Q137.015 567.538 136.204 569.459 Q135.417 571.357 133.311 573.95 Q132.732 574.621 129.63 577.838 Q126.529 581.033 120.88 586.797 Z\" fill=\"#000000\" fill-rule=\"evenodd\" fill-opacity=\"1\" /><path clip-path=\"url(#clip860)\" d=\"M147.061 556.172 L165.417 556.172 L165.417 560.107 L151.343 560.107 L151.343 568.579 Q152.362 568.232 153.38 568.07 Q154.399 567.885 155.417 567.885 Q161.204 567.885 164.584 571.056 Q167.964 574.227 167.964 579.644 Q167.964 585.223 164.491 588.324 Q161.019 591.403 154.7 591.403 Q152.524 591.403 150.255 591.033 Q148.01 590.662 145.603 589.922 L145.603 585.223 Q147.686 586.357 149.908 586.912 Q152.13 587.468 154.607 587.468 Q158.612 587.468 160.95 585.361 Q163.288 583.255 163.288 579.644 Q163.288 576.033 160.95 573.926 Q158.612 571.82 154.607 571.82 Q152.732 571.82 150.857 572.237 Q149.005 572.653 147.061 573.533 L147.061 556.172 Z\" fill=\"#000000\" fill-rule=\"evenodd\" fill-opacity=\"1\" /><path clip-path=\"url(#clip860)\" d=\"M130.024 368.352 Q133.38 369.07 135.255 371.338 Q137.154 373.607 137.154 376.94 Q137.154 382.056 133.635 384.857 Q130.117 387.658 123.635 387.658 Q121.459 387.658 119.144 387.218 Q116.853 386.801 114.399 385.945 L114.399 381.431 Q116.343 382.565 118.658 383.144 Q120.973 383.723 123.496 383.723 Q127.894 383.723 130.186 381.987 Q132.501 380.25 132.501 376.94 Q132.501 373.885 130.348 372.172 Q128.218 370.436 124.399 370.436 L120.371 370.436 L120.371 366.593 L124.584 366.593 Q128.033 366.593 129.862 365.227 Q131.691 363.838 131.691 361.246 Q131.691 358.584 129.792 357.172 Q127.917 355.737 124.399 355.737 Q122.478 355.737 120.279 356.153 Q118.08 356.57 115.441 357.45 L115.441 353.283 Q118.103 352.542 120.418 352.172 Q122.755 351.802 124.816 351.802 Q130.14 351.802 133.242 354.232 Q136.343 356.639 136.343 360.76 Q136.343 363.63 134.7 365.621 Q133.056 367.588 130.024 368.352 Z\" fill=\"#000000\" fill-rule=\"evenodd\" fill-opacity=\"1\" /><path clip-path=\"url(#clip860)\" d=\"M156.019 355.505 Q152.408 355.505 150.579 359.07 Q148.774 362.612 148.774 369.741 Q148.774 376.848 150.579 380.412 Q152.408 383.954 156.019 383.954 Q159.653 383.954 161.459 380.412 Q163.288 376.848 163.288 369.741 Q163.288 362.612 161.459 359.07 Q159.653 355.505 156.019 355.505 M156.019 351.802 Q161.829 351.802 164.885 356.408 Q167.964 360.991 167.964 369.741 Q167.964 378.468 164.885 383.074 Q161.829 387.658 156.019 387.658 Q150.209 387.658 147.13 383.074 Q144.075 378.468 144.075 369.741 Q144.075 360.991 147.13 356.408 Q150.209 351.802 156.019 351.802 Z\" fill=\"#000000\" fill-rule=\"evenodd\" fill-opacity=\"1\" /><path clip-path=\"url(#clip860)\" d=\"M131.019 164.607 Q134.376 165.325 136.251 167.593 Q138.149 169.862 138.149 173.195 Q138.149 178.311 134.63 181.112 Q131.112 183.912 124.63 183.912 Q122.455 183.912 120.14 183.473 Q117.848 183.056 115.394 182.2 L115.394 177.686 Q117.339 178.82 119.654 179.399 Q121.968 179.977 124.492 179.977 Q128.89 179.977 131.181 178.241 Q133.496 176.505 133.496 173.195 Q133.496 170.139 131.343 168.426 Q129.214 166.69 125.394 166.69 L121.367 166.69 L121.367 162.848 L125.58 162.848 Q129.029 162.848 130.857 161.482 Q132.686 160.093 132.686 157.501 Q132.686 154.839 130.788 153.427 Q128.913 151.991 125.394 151.991 Q123.473 151.991 121.274 152.408 Q119.075 152.825 116.436 153.704 L116.436 149.538 Q119.098 148.797 121.413 148.427 Q123.751 148.056 125.811 148.056 Q131.135 148.056 134.237 150.487 Q137.339 152.894 137.339 157.014 Q137.339 159.885 135.695 161.876 Q134.052 163.843 131.019 164.607 Z\" fill=\"#000000\" fill-rule=\"evenodd\" fill-opacity=\"1\" /><path clip-path=\"url(#clip860)\" d=\"M147.061 148.681 L165.417 148.681 L165.417 152.616 L151.343 152.616 L151.343 161.089 Q152.362 160.741 153.38 160.579 Q154.399 160.394 155.417 160.394 Q161.204 160.394 164.584 163.565 Q167.964 166.737 167.964 172.153 Q167.964 177.732 164.491 180.834 Q161.019 183.912 154.7 183.912 Q152.524 183.912 150.255 183.542 Q148.01 183.172 145.603 182.431 L145.603 177.732 Q147.686 178.866 149.908 179.422 Q152.13 179.977 154.607 179.977 Q158.612 179.977 160.95 177.871 Q163.288 175.764 163.288 172.153 Q163.288 168.542 160.95 166.436 Q158.612 164.329 154.607 164.329 Q152.732 164.329 150.857 164.746 Q149.005 165.163 147.061 166.042 L147.061 148.681 Z\" fill=\"#000000\" fill-rule=\"evenodd\" fill-opacity=\"1\" /><path clip-path=\"url(#clip860)\" d=\"M16.4842 1185.19 L16.4842 1144.99 L21.895 1144.99 L21.895 1161.86 L64.0042 1161.86 L64.0042 1168.32 L21.895 1168.32 L21.895 1185.19 L16.4842 1185.19 Z\" fill=\"#000000\" fill-rule=\"evenodd\" fill-opacity=\"1\" /><path clip-path=\"url(#clip860)\" d=\"M44.7161 1119.62 L47.5806 1119.62 L47.5806 1146.55 Q53.6281 1146.17 56.8109 1142.92 Q59.9619 1139.64 59.9619 1133.82 Q59.9619 1130.44 59.1344 1127.29 Q58.3069 1124.11 56.6518 1120.99 L62.1899 1120.99 Q63.5267 1124.14 64.227 1127.45 Q64.9272 1130.76 64.9272 1134.17 Q64.9272 1142.7 59.9619 1147.69 Q54.9967 1152.66 46.5303 1152.66 Q37.7774 1152.66 32.6531 1147.95 Q27.4968 1143.21 27.4968 1135.18 Q27.4968 1127.99 32.1438 1123.82 Q36.7589 1119.62 44.7161 1119.62 M42.9973 1125.48 Q38.1912 1125.54 35.3266 1128.18 Q32.4621 1130.79 32.4621 1135.12 Q32.4621 1140.02 35.2312 1142.98 Q38.0002 1145.91 43.0292 1146.36 L42.9973 1125.48 Z\" fill=\"#000000\" fill-rule=\"evenodd\" fill-opacity=\"1\" /><path clip-path=\"url(#clip860)\" d=\"M35.1993 1082.25 Q31.2526 1080.06 29.3747 1077 Q27.4968 1073.95 27.4968 1069.81 Q27.4968 1064.24 31.4117 1061.22 Q35.2948 1058.19 42.4881 1058.19 L64.0042 1058.19 L64.0042 1064.08 L42.679 1064.08 Q37.5546 1064.08 35.072 1065.89 Q32.5894 1067.71 32.5894 1071.43 Q32.5894 1075.98 35.6131 1078.63 Q38.6368 1081.27 43.8567 1081.27 L64.0042 1081.27 L64.0042 1087.16 L42.679 1087.16 Q37.5228 1087.16 35.072 1088.97 Q32.5894 1090.78 32.5894 1094.57 Q32.5894 1099.06 35.6449 1101.7 Q38.6686 1104.34 43.8567 1104.34 L64.0042 1104.34 L64.0042 1110.23 L28.3562 1110.23 L28.3562 1104.34 L33.8944 1104.34 Q30.616 1102.34 29.0564 1099.54 Q27.4968 1096.74 27.4968 1092.88 Q27.4968 1089 29.4702 1086.3 Q31.4436 1083.56 35.1993 1082.25 Z\" fill=\"#000000\" fill-rule=\"evenodd\" fill-opacity=\"1\" /><path clip-path=\"url(#clip860)\" d=\"M58.657 1040.84 L77.5631 1040.84 L77.5631 1046.73 L28.3562 1046.73 L28.3562 1040.84 L33.7671 1040.84 Q30.5842 1039 29.0564 1036.2 Q27.4968 1033.37 27.4968 1029.45 Q27.4968 1022.96 32.6531 1018.91 Q37.8093 1014.84 46.212 1014.84 Q54.6147 1014.84 59.771 1018.91 Q64.9272 1022.96 64.9272 1029.45 Q64.9272 1033.37 63.3994 1036.2 Q61.8398 1039 58.657 1040.84 M46.212 1020.92 Q39.7508 1020.92 36.0905 1023.59 Q32.3984 1026.24 32.3984 1030.88 Q32.3984 1035.53 36.0905 1038.2 Q39.7508 1040.84 46.212 1040.84 Q52.6732 1040.84 56.3653 1038.2 Q60.0256 1035.53 60.0256 1030.88 Q60.0256 1026.24 56.3653 1023.59 Q52.6732 1020.92 46.212 1020.92 Z\" fill=\"#000000\" fill-rule=\"evenodd\" fill-opacity=\"1\" /><path clip-path=\"url(#clip860)\" d=\"M44.7161 974.641 L47.5806 974.641 L47.5806 1001.57 Q53.6281 1001.19 56.8109 997.94 Q59.9619 994.662 59.9619 988.837 Q59.9619 985.463 59.1344 982.312 Q58.3069 979.129 56.6518 976.01 L62.1899 976.01 Q63.5267 979.161 64.227 982.471 Q64.9272 985.781 64.9272 989.187 Q64.9272 997.717 59.9619 1002.71 Q54.9967 1007.68 46.5303 1007.68 Q37.7774 1007.68 32.6531 1002.97 Q27.4968 998.226 27.4968 990.206 Q27.4968 983.012 32.1438 978.843 Q36.7589 974.641 44.7161 974.641 M42.9973 980.498 Q38.1912 980.562 35.3266 983.203 Q32.4621 985.813 32.4621 990.142 Q32.4621 995.044 35.2312 998.004 Q38.0002 1000.93 43.0292 1001.38 L42.9973 980.498 Z\" fill=\"#000000\" fill-rule=\"evenodd\" fill-opacity=\"1\" /><path clip-path=\"url(#clip860)\" d=\"M33.8307 944.373 Q33.2578 945.359 33.0032 946.537 Q32.7167 947.683 32.7167 949.083 Q32.7167 954.048 35.9632 956.722 Q39.1779 959.364 45.2253 959.364 L64.0042 959.364 L64.0042 965.252 L28.3562 965.252 L28.3562 959.364 L33.8944 959.364 Q30.6479 957.518 29.0883 954.558 Q27.4968 951.598 27.4968 947.364 Q27.4968 946.76 27.5923 946.028 Q27.656 945.296 27.8151 944.404 L33.8307 944.373 Z\" fill=\"#000000\" fill-rule=\"evenodd\" fill-opacity=\"1\" /><path clip-path=\"url(#clip860)\" d=\"M46.0847 922.029 Q46.0847 929.127 47.7079 931.864 Q49.3312 934.601 53.2461 934.601 Q56.3653 934.601 58.2114 932.564 Q60.0256 930.495 60.0256 926.962 Q60.0256 922.093 56.5881 919.164 Q53.1188 916.204 47.3897 916.204 L46.0847 916.204 L46.0847 922.029 M43.6657 910.348 L64.0042 910.348 L64.0042 916.204 L58.5933 916.204 Q61.8398 918.209 63.3994 921.201 Q64.9272 924.193 64.9272 928.522 Q64.9272 933.996 61.8716 937.243 Q58.7843 940.458 53.6281 940.458 Q47.6125 940.458 44.5569 936.447 Q41.5014 932.405 41.5014 924.416 L41.5014 916.204 L40.9285 916.204 Q36.8862 916.204 34.6901 918.878 Q32.4621 921.52 32.4621 926.326 Q32.4621 929.381 33.1941 932.278 Q33.9262 935.174 35.3903 937.848 L29.9795 937.848 Q28.7381 934.633 28.1334 931.609 Q27.4968 928.586 27.4968 925.721 Q27.4968 917.987 31.5072 914.167 Q35.5176 910.348 43.6657 910.348 Z\" fill=\"#000000\" fill-rule=\"evenodd\" fill-opacity=\"1\" /><path clip-path=\"url(#clip860)\" d=\"M18.2347 892.492 L28.3562 892.492 L28.3562 880.429 L32.9077 880.429 L32.9077 892.492 L52.2594 892.492 Q56.6199 892.492 57.8613 891.314 Q59.1026 890.105 59.1026 886.445 L59.1026 880.429 L64.0042 880.429 L64.0042 886.445 Q64.0042 893.224 61.4897 895.802 Q58.9434 898.38 52.2594 898.38 L32.9077 898.38 L32.9077 902.677 L28.3562 902.677 L28.3562 898.38 L18.2347 898.38 L18.2347 892.492 Z\" fill=\"#000000\" fill-rule=\"evenodd\" fill-opacity=\"1\" /><path clip-path=\"url(#clip860)\" d=\"M49.9359 873.331 L28.3562 873.331 L28.3562 867.475 L49.7131 867.475 Q54.7739 867.475 57.3202 865.501 Q59.8346 863.528 59.8346 859.581 Q59.8346 854.839 56.8109 852.102 Q53.7872 849.333 48.5673 849.333 L28.3562 849.333 L28.3562 843.476 L64.0042 843.476 L64.0042 849.333 L58.5296 849.333 Q61.7762 851.465 63.3676 854.298 Q64.9272 857.099 64.9272 860.823 Q64.9272 866.966 61.1078 870.148 Q57.2883 873.331 49.9359 873.331 M27.4968 858.595 L27.4968 858.595 Z\" fill=\"#000000\" fill-rule=\"evenodd\" fill-opacity=\"1\" /><path clip-path=\"url(#clip860)\" d=\"M33.8307 810.756 Q33.2578 811.743 33.0032 812.921 Q32.7167 814.067 32.7167 815.467 Q32.7167 820.432 35.9632 823.106 Q39.1779 825.748 45.2253 825.748 L64.0042 825.748 L64.0042 831.636 L28.3562 831.636 L28.3562 825.748 L33.8944 825.748 Q30.6479 823.902 29.0883 820.941 Q27.4968 817.981 27.4968 813.748 Q27.4968 813.143 27.5923 812.411 Q27.656 811.679 27.8151 810.788 L33.8307 810.756 Z\" fill=\"#000000\" fill-rule=\"evenodd\" fill-opacity=\"1\" /><path clip-path=\"url(#clip860)\" d=\"M44.7161 775.554 L47.5806 775.554 L47.5806 802.481 Q53.6281 802.099 56.8109 798.852 Q59.9619 795.574 59.9619 789.75 Q59.9619 786.376 59.1344 783.225 Q58.3069 780.042 56.6518 776.923 L62.1899 776.923 Q63.5267 780.074 64.227 783.384 Q64.9272 786.694 64.9272 790.1 Q64.9272 798.63 59.9619 803.627 Q54.9967 808.592 46.5303 808.592 Q37.7774 808.592 32.6531 803.881 Q27.4968 799.139 27.4968 791.118 Q27.4968 783.925 32.1438 779.755 Q36.7589 775.554 44.7161 775.554 M42.9973 781.41 Q38.1912 781.474 35.3266 784.116 Q32.4621 786.726 32.4621 791.054 Q32.4621 795.956 35.2312 798.916 Q38.0002 801.844 43.0292 802.29 L42.9973 781.41 Z\" fill=\"#000000\" fill-rule=\"evenodd\" fill-opacity=\"1\" /><path clip-path=\"url(#clip860)\" d=\"M14.5426 731.153 Q21.8632 735.418 29.0246 737.487 Q36.186 739.556 43.5384 739.556 Q50.8908 739.556 58.1159 737.487 Q65.3091 735.386 72.5979 731.153 L72.5979 736.246 Q65.1182 741.02 57.8931 743.407 Q50.668 745.762 43.5384 745.762 Q36.4406 745.762 29.2474 743.407 Q22.0542 741.052 14.5426 736.246 L14.5426 731.153 Z\" fill=\"#000000\" fill-rule=\"evenodd\" fill-opacity=\"1\" /><path clip-path=\"url(#clip860)\" d=\"M16.4842 719.536 L16.4842 692.227 L21.895 692.227 L21.895 713.106 L35.8996 713.106 L35.8996 694.264 L41.3104 694.264 L41.3104 713.106 L64.0042 713.106 L64.0042 719.536 L16.4842 719.536 Z\" fill=\"#000000\" fill-rule=\"evenodd\" fill-opacity=\"1\" /><path clip-path=\"url(#clip860)\" d=\"M46.0847 672.079 Q46.0847 679.177 47.7079 681.914 Q49.3312 684.652 53.2461 684.652 Q56.3653 684.652 58.2114 682.615 Q60.0256 680.546 60.0256 677.013 Q60.0256 672.143 56.5881 669.215 Q53.1188 666.255 47.3897 666.255 L46.0847 666.255 L46.0847 672.079 M43.6657 660.398 L64.0042 660.398 L64.0042 666.255 L58.5933 666.255 Q61.8398 668.26 63.3994 671.252 Q64.9272 674.244 64.9272 678.572 Q64.9272 684.047 61.8716 687.293 Q58.7843 690.508 53.6281 690.508 Q47.6125 690.508 44.5569 686.498 Q41.5014 682.456 41.5014 674.467 L41.5014 666.255 L40.9285 666.255 Q36.8862 666.255 34.6901 668.928 Q32.4621 671.57 32.4621 676.376 Q32.4621 679.432 33.1941 682.328 Q33.9262 685.225 35.3903 687.898 L29.9795 687.898 Q28.7381 684.684 28.1334 681.66 Q27.4968 678.636 27.4968 675.772 Q27.4968 668.037 31.5072 664.218 Q35.5176 660.398 43.6657 660.398 Z\" fill=\"#000000\" fill-rule=\"evenodd\" fill-opacity=\"1\" /><path clip-path=\"url(#clip860)\" d=\"M42.4881 618.703 L64.0042 618.703 L64.0042 624.559 L42.679 624.559 Q37.6183 624.559 35.1038 626.533 Q32.5894 628.506 32.5894 632.453 Q32.5894 637.195 35.6131 639.933 Q38.6368 642.67 43.8567 642.67 L64.0042 642.67 L64.0042 648.558 L14.479 648.558 L14.479 642.67 L33.8944 642.67 Q30.6797 640.569 29.0883 637.736 Q27.4968 634.872 27.4968 631.148 Q27.4968 625.005 31.3163 621.854 Q35.1038 618.703 42.4881 618.703 Z\" fill=\"#000000\" fill-rule=\"evenodd\" fill-opacity=\"1\" /><path clip-path=\"url(#clip860)\" d=\"M33.8307 586.365 Q33.2578 587.352 33.0032 588.53 Q32.7167 589.675 32.7167 591.076 Q32.7167 596.041 35.9632 598.715 Q39.1779 601.356 45.2253 601.356 L64.0042 601.356 L64.0042 607.245 L28.3562 607.245 L28.3562 601.356 L33.8944 601.356 Q30.6479 599.51 29.0883 596.55 Q27.4968 593.59 27.4968 589.357 Q27.4968 588.752 27.5923 588.02 Q27.656 587.288 27.8151 586.397 L33.8307 586.365 Z\" fill=\"#000000\" fill-rule=\"evenodd\" fill-opacity=\"1\" /><path clip-path=\"url(#clip860)\" d=\"M44.7161 551.163 L47.5806 551.163 L47.5806 578.09 Q53.6281 577.708 56.8109 574.461 Q59.9619 571.183 59.9619 565.358 Q59.9619 561.985 59.1344 558.833 Q58.3069 555.651 56.6518 552.531 L62.1899 552.531 Q63.5267 555.682 64.227 558.993 Q64.9272 562.303 64.9272 565.708 Q64.9272 574.239 59.9619 579.236 Q54.9967 584.201 46.5303 584.201 Q37.7774 584.201 32.6531 579.49 Q27.4968 574.748 27.4968 566.727 Q27.4968 559.534 32.1438 555.364 Q36.7589 551.163 44.7161 551.163 M42.9973 557.019 Q38.1912 557.083 35.3266 559.725 Q32.4621 562.335 32.4621 566.663 Q32.4621 571.565 35.2312 574.525 Q38.0002 577.453 43.0292 577.899 L42.9973 557.019 Z\" fill=\"#000000\" fill-rule=\"evenodd\" fill-opacity=\"1\" /><path clip-path=\"url(#clip860)\" d=\"M42.4881 511.918 L64.0042 511.918 L64.0042 517.775 L42.679 517.775 Q37.6183 517.775 35.1038 519.748 Q32.5894 521.721 32.5894 525.668 Q32.5894 530.411 35.6131 533.148 Q38.6368 535.885 43.8567 535.885 L64.0042 535.885 L64.0042 541.773 L28.3562 541.773 L28.3562 535.885 L33.8944 535.885 Q30.6797 533.784 29.0883 530.952 Q27.4968 528.087 27.4968 524.363 Q27.4968 518.22 31.3163 515.069 Q35.1038 511.918 42.4881 511.918 Z\" fill=\"#000000\" fill-rule=\"evenodd\" fill-opacity=\"1\" /><path clip-path=\"url(#clip860)\" d=\"M42.4881 470.605 L64.0042 470.605 L64.0042 476.461 L42.679 476.461 Q37.6183 476.461 35.1038 478.435 Q32.5894 480.408 32.5894 484.355 Q32.5894 489.097 35.6131 491.834 Q38.6368 494.572 43.8567 494.572 L64.0042 494.572 L64.0042 500.46 L14.479 500.46 L14.479 494.572 L33.8944 494.572 Q30.6797 492.471 29.0883 489.638 Q27.4968 486.774 27.4968 483.05 Q27.4968 476.907 31.3163 473.756 Q35.1038 470.605 42.4881 470.605 Z\" fill=\"#000000\" fill-rule=\"evenodd\" fill-opacity=\"1\" /><path clip-path=\"url(#clip860)\" d=\"M44.7161 428.432 L47.5806 428.432 L47.5806 455.359 Q53.6281 454.977 56.8109 451.73 Q59.9619 448.452 59.9619 442.628 Q59.9619 439.254 59.1344 436.103 Q58.3069 432.92 56.6518 429.801 L62.1899 429.801 Q63.5267 432.952 64.227 436.262 Q64.9272 439.572 64.9272 442.978 Q64.9272 451.508 59.9619 456.505 Q54.9967 461.47 46.5303 461.47 Q37.7774 461.47 32.6531 456.759 Q27.4968 452.017 27.4968 443.996 Q27.4968 436.803 32.1438 432.633 Q36.7589 428.432 44.7161 428.432 M42.9973 434.288 Q38.1912 434.352 35.3266 436.994 Q32.4621 439.604 32.4621 443.932 Q32.4621 448.834 35.2312 451.794 Q38.0002 454.722 43.0292 455.168 L42.9973 434.288 Z\" fill=\"#000000\" fill-rule=\"evenodd\" fill-opacity=\"1\" /><path clip-path=\"url(#clip860)\" d=\"M28.3562 418.82 L28.3562 412.963 L64.0042 412.963 L64.0042 418.82 L28.3562 418.82 M14.479 418.82 L14.479 412.963 L21.895 412.963 L21.895 418.82 L14.479 418.82 Z\" fill=\"#000000\" fill-rule=\"evenodd\" fill-opacity=\"1\" /><path clip-path=\"url(#clip860)\" d=\"M18.2347 394.917 L28.3562 394.917 L28.3562 382.854 L32.9077 382.854 L32.9077 394.917 L52.2594 394.917 Q56.6199 394.917 57.8613 393.739 Q59.1026 392.529 59.1026 388.869 L59.1026 382.854 L64.0042 382.854 L64.0042 388.869 Q64.0042 395.649 61.4897 398.227 Q58.9434 400.805 52.2594 400.805 L32.9077 400.805 L32.9077 405.102 L28.3562 405.102 L28.3562 400.805 L18.2347 400.805 L18.2347 394.917 Z\" fill=\"#000000\" fill-rule=\"evenodd\" fill-opacity=\"1\" /><path clip-path=\"url(#clip860)\" d=\"M14.5426 376.074 L14.5426 370.981 Q22.0542 366.207 29.2474 363.852 Q36.4406 361.465 43.5384 361.465 Q50.668 361.465 57.8931 363.852 Q65.1182 366.207 72.5979 370.981 L72.5979 376.074 Q65.3091 371.841 58.1159 369.772 Q50.8908 367.671 43.5384 367.671 Q36.186 367.671 29.0246 369.772 Q21.8632 371.841 14.5426 376.074 Z\" fill=\"#000000\" fill-rule=\"evenodd\" fill-opacity=\"1\" /><path clip-path=\"url(#clip860)\" d=\"M196.383 18.8205 L196.383 65.8515 L206.268 65.8515 Q218.785 65.8515 224.578 60.1802 Q230.411 54.509 230.411 42.2752 Q230.411 30.1225 224.578 24.4918 Q218.785 18.8205 206.268 18.8205 L196.383 18.8205 M188.201 12.096 L205.012 12.096 Q222.593 12.096 230.816 19.4281 Q239.039 26.7198 239.039 42.2752 Q239.039 57.9117 230.776 65.2439 Q222.512 72.576 205.012 72.576 L188.201 72.576 L188.201 12.096 Z\" fill=\"#000000\" fill-rule=\"evenodd\" fill-opacity=\"1\" /><path clip-path=\"url(#clip860)\" d=\"M290.567 48.0275 L290.567 51.6733 L256.296 51.6733 Q256.782 59.3701 260.914 63.421 Q265.087 67.4314 272.5 67.4314 Q276.794 67.4314 280.804 66.3781 Q284.855 65.3249 288.825 63.2184 L288.825 70.267 Q284.815 71.9684 280.602 72.8596 Q276.389 73.7508 272.054 73.7508 Q261.198 73.7508 254.838 67.4314 Q248.519 61.1119 248.519 50.3365 Q248.519 39.1965 254.514 32.6746 Q260.55 26.1121 270.758 26.1121 Q279.913 26.1121 285.22 32.0264 Q290.567 37.9003 290.567 48.0275 M283.113 45.84 Q283.032 39.7232 279.67 36.0774 Q276.348 32.4315 270.839 32.4315 Q264.601 32.4315 260.833 35.9558 Q257.107 39.4801 256.539 45.8805 L283.113 45.84 Z\" fill=\"#000000\" fill-rule=\"evenodd\" fill-opacity=\"1\" /><path clip-path=\"url(#clip860)\" d=\"M335.451 28.9478 L335.451 35.9153 Q332.291 34.1734 329.091 33.3227 Q325.931 32.4315 322.691 32.4315 Q315.44 32.4315 311.429 37.0496 Q307.419 41.6271 307.419 49.9314 Q307.419 58.2358 311.429 62.8538 Q315.44 67.4314 322.691 67.4314 Q325.931 67.4314 329.091 66.5807 Q332.291 65.6895 335.451 63.9476 L335.451 70.8341 Q332.332 72.2924 328.97 73.0216 Q325.648 73.7508 321.88 73.7508 Q311.632 73.7508 305.596 67.3098 Q299.56 60.8689 299.56 49.9314 Q299.56 38.832 305.636 32.472 Q311.753 26.1121 322.367 26.1121 Q325.81 26.1121 329.091 26.8413 Q332.372 27.5299 335.451 28.9478 Z\" fill=\"#000000\" fill-rule=\"evenodd\" fill-opacity=\"1\" /><path clip-path=\"url(#clip860)\" d=\"M395.323 20.1573 L384.224 50.2555 L406.463 50.2555 L395.323 20.1573 M390.705 12.096 L399.982 12.096 L423.032 72.576 L414.525 72.576 L409.015 57.061 L381.753 57.061 L376.244 72.576 L367.615 72.576 L390.705 12.096 Z\" fill=\"#000000\" fill-rule=\"evenodd\" fill-opacity=\"1\" /><path clip-path=\"url(#clip860)\" d=\"M421.33 27.2059 L429.229 27.2059 L443.408 65.2844 L457.586 27.2059 L465.485 27.2059 L448.471 72.576 L438.344 72.576 L421.33 27.2059 Z\" fill=\"#000000\" fill-rule=\"evenodd\" fill-opacity=\"1\" /><path clip-path=\"url(#clip860)\" d=\"M514.582 48.0275 L514.582 51.6733 L480.311 51.6733 Q480.797 59.3701 484.929 63.421 Q489.102 67.4314 496.515 67.4314 Q500.809 67.4314 504.819 66.3781 Q508.87 65.3249 512.84 63.2184 L512.84 70.267 Q508.83 71.9684 504.617 72.8596 Q500.404 73.7508 496.069 73.7508 Q485.213 73.7508 478.853 67.4314 Q472.534 61.1119 472.534 50.3365 Q472.534 39.1965 478.529 32.6746 Q484.565 26.1121 494.773 26.1121 Q503.928 26.1121 509.235 32.0264 Q514.582 37.9003 514.582 48.0275 M507.128 45.84 Q507.047 39.7232 503.685 36.0774 Q500.363 32.4315 494.854 32.4315 Q488.616 32.4315 484.848 35.9558 Q481.122 39.4801 480.554 45.8805 L507.128 45.84 Z\" fill=\"#000000\" fill-rule=\"evenodd\" fill-opacity=\"1\" /><path clip-path=\"url(#clip860)\" d=\"M553.106 34.1734 Q551.85 33.4443 550.351 33.1202 Q548.893 32.7556 547.111 32.7556 Q540.791 32.7556 537.389 36.8875 Q534.026 40.9789 534.026 48.6757 L534.026 72.576 L526.532 72.576 L526.532 27.2059 L534.026 27.2059 L534.026 34.2544 Q536.376 30.1225 540.143 28.1376 Q543.911 26.1121 549.298 26.1121 Q550.068 26.1121 551 26.2337 Q551.931 26.3147 553.066 26.5172 L553.106 34.1734 Z\" fill=\"#000000\" fill-rule=\"evenodd\" fill-opacity=\"1\" /><path clip-path=\"url(#clip860)\" d=\"M581.543 49.7694 Q572.51 49.7694 569.026 51.8354 Q565.542 53.9013 565.542 58.8839 Q565.542 62.8538 568.135 65.2034 Q570.768 67.5124 575.265 67.5124 Q581.462 67.5124 585.189 63.1374 Q588.957 58.7219 588.957 51.4303 L588.957 49.7694 L581.543 49.7694 M596.41 46.6907 L596.41 72.576 L588.957 72.576 L588.957 65.6895 Q586.405 69.8214 582.597 71.8063 Q578.789 73.7508 573.28 73.7508 Q566.312 73.7508 562.18 69.8619 Q558.089 65.9325 558.089 59.3701 Q558.089 51.7138 563.193 47.825 Q568.338 43.9361 578.505 43.9361 L588.957 43.9361 L588.957 43.2069 Q588.957 38.0623 585.554 35.2672 Q582.192 32.4315 576.075 32.4315 Q572.186 32.4315 568.5 33.3632 Q564.813 34.295 561.41 36.1584 L561.41 29.2718 Q565.502 27.692 569.35 26.9223 Q573.199 26.1121 576.844 26.1121 Q586.688 26.1121 591.549 31.2163 Q596.41 36.3204 596.41 46.6907 Z\" fill=\"#000000\" fill-rule=\"evenodd\" fill-opacity=\"1\" /><path clip-path=\"url(#clip860)\" d=\"M641.618 49.3643 Q641.618 41.2625 638.256 36.8065 Q634.934 32.3505 628.899 32.3505 Q622.903 32.3505 619.541 36.8065 Q616.219 41.2625 616.219 49.3643 Q616.219 57.4256 619.541 61.8816 Q622.903 66.3376 628.899 66.3376 Q634.934 66.3376 638.256 61.8816 Q641.618 57.4256 641.618 49.3643 M649.072 66.9452 Q649.072 78.5308 643.927 84.1616 Q638.783 89.8329 628.169 89.8329 Q624.24 89.8329 620.756 89.2252 Q617.272 88.6581 613.991 87.4428 L613.991 80.1917 Q617.272 81.9741 620.473 82.8248 Q623.673 83.6755 626.995 83.6755 Q634.327 83.6755 637.973 79.8271 Q641.618 76.0193 641.618 68.282 L641.618 64.5957 Q639.309 68.6061 635.704 70.5911 Q632.099 72.576 627.076 72.576 Q618.731 72.576 613.627 66.2161 Q608.522 59.8562 608.522 49.3643 Q608.522 38.832 613.627 32.472 Q618.731 26.1121 627.076 26.1121 Q632.099 26.1121 635.704 28.0971 Q639.309 30.082 641.618 34.0924 L641.618 27.2059 L649.072 27.2059 L649.072 66.9452 Z\" fill=\"#000000\" fill-rule=\"evenodd\" fill-opacity=\"1\" /><path clip-path=\"url(#clip860)\" d=\"M703.233 48.0275 L703.233 51.6733 L668.962 51.6733 Q669.448 59.3701 673.58 63.421 Q677.752 67.4314 685.166 67.4314 Q689.46 67.4314 693.47 66.3781 Q697.521 65.3249 701.491 63.2184 L701.491 70.267 Q697.48 71.9684 693.267 72.8596 Q689.054 73.7508 684.72 73.7508 Q673.864 73.7508 667.504 67.4314 Q661.184 61.1119 661.184 50.3365 Q661.184 39.1965 667.18 32.6746 Q673.215 26.1121 683.424 26.1121 Q692.579 26.1121 697.885 32.0264 Q703.233 37.9003 703.233 48.0275 M695.779 45.84 Q695.698 39.7232 692.336 36.0774 Q689.014 32.4315 683.505 32.4315 Q677.266 32.4315 673.499 35.9558 Q669.772 39.4801 669.205 45.8805 L695.779 45.84 Z\" fill=\"#000000\" fill-rule=\"evenodd\" fill-opacity=\"1\" /><path clip-path=\"url(#clip860)\" d=\"M749.21 14.324 L749.21 27.2059 L764.563 27.2059 L764.563 32.9987 L749.21 32.9987 L749.21 57.6282 Q749.21 63.1779 750.709 64.7578 Q752.249 66.3376 756.907 66.3376 L764.563 66.3376 L764.563 72.576 L756.907 72.576 Q748.279 72.576 744.997 69.3758 Q741.716 66.1351 741.716 57.6282 L741.716 32.9987 L736.247 32.9987 L736.247 27.2059 L741.716 27.2059 L741.716 14.324 L749.21 14.324 Z\" fill=\"#000000\" fill-rule=\"evenodd\" fill-opacity=\"1\" /><path clip-path=\"url(#clip860)\" d=\"M813.174 48.0275 L813.174 51.6733 L778.904 51.6733 Q779.39 59.3701 783.522 63.421 Q787.694 67.4314 795.107 67.4314 Q799.401 67.4314 803.411 66.3781 Q807.462 65.3249 811.432 63.2184 L811.432 70.267 Q807.422 71.9684 803.209 72.8596 Q798.996 73.7508 794.662 73.7508 Q783.805 73.7508 777.445 67.4314 Q771.126 61.1119 771.126 50.3365 Q771.126 39.1965 777.121 32.6746 Q783.157 26.1121 793.365 26.1121 Q802.52 26.1121 807.827 32.0264 Q813.174 37.9003 813.174 48.0275 M805.72 45.84 Q805.639 39.7232 802.277 36.0774 Q798.955 32.4315 793.446 32.4315 Q787.208 32.4315 783.441 35.9558 Q779.714 39.4801 779.147 45.8805 L805.72 45.84 Z\" fill=\"#000000\" fill-rule=\"evenodd\" fill-opacity=\"1\" /><path clip-path=\"url(#clip860)\" d=\"M860.732 35.9153 Q863.527 30.8922 867.416 28.5022 Q871.305 26.1121 876.571 26.1121 Q883.66 26.1121 887.508 31.0947 Q891.357 36.0368 891.357 45.1919 L891.357 72.576 L883.862 72.576 L883.862 45.4349 Q883.862 38.913 881.553 35.7533 Q879.244 32.5936 874.505 32.5936 Q868.712 32.5936 865.35 36.4419 Q861.988 40.2903 861.988 46.9338 L861.988 72.576 L854.493 72.576 L854.493 45.4349 Q854.493 38.8725 852.184 35.7533 Q849.875 32.5936 845.055 32.5936 Q839.343 32.5936 835.981 36.4824 Q832.618 40.3308 832.618 46.9338 L832.618 72.576 L825.124 72.576 L825.124 27.2059 L832.618 27.2059 L832.618 34.2544 Q835.171 30.082 838.735 28.0971 Q842.3 26.1121 847.202 26.1121 Q852.144 26.1121 855.587 28.6237 Q859.071 31.1352 860.732 35.9153 Z\" fill=\"#000000\" fill-rule=\"evenodd\" fill-opacity=\"1\" /><path clip-path=\"url(#clip860)\" d=\"M913.434 65.7705 L913.434 89.8329 L905.94 89.8329 L905.94 27.2059 L913.434 27.2059 L913.434 34.0924 Q915.784 30.0415 919.348 28.0971 Q922.954 26.1121 927.936 26.1121 Q936.2 26.1121 941.345 32.6746 Q946.53 39.2371 946.53 49.9314 Q946.53 60.6258 941.345 67.1883 Q936.2 73.7508 927.936 73.7508 Q922.954 73.7508 919.348 71.8063 Q915.784 69.8214 913.434 65.7705 M938.793 49.9314 Q938.793 41.7081 935.39 37.0496 Q932.028 32.3505 926.113 32.3505 Q920.199 32.3505 916.796 37.0496 Q913.434 41.7081 913.434 49.9314 Q913.434 58.1548 916.796 62.8538 Q920.199 67.5124 926.113 67.5124 Q932.028 67.5124 935.39 62.8538 Q938.793 58.1548 938.793 49.9314 Z\" fill=\"#000000\" fill-rule=\"evenodd\" fill-opacity=\"1\" /><path clip-path=\"url(#clip860)\" d=\"M987.728 65.6895 L1001.1 65.6895 L1001.1 19.5497 L986.553 22.4663 L986.553 15.0127 L1001.01 12.096 L1009.2 12.096 L1009.2 65.6895 L1022.57 65.6895 L1022.57 72.576 L987.728 72.576 L987.728 65.6895 Z\" fill=\"#000000\" fill-rule=\"evenodd\" fill-opacity=\"1\" /><path clip-path=\"url(#clip860)\" d=\"M1039.34 71.3202 L1039.34 63.8666 Q1042.41 65.3249 1045.57 66.0946 Q1048.73 66.8642 1051.77 66.8642 Q1059.87 66.8642 1064.13 61.436 Q1068.42 55.9673 1069.03 44.8678 Q1066.68 48.3516 1063.07 50.215 Q1059.47 52.0784 1055.09 52.0784 Q1046.02 52.0784 1040.71 46.6097 Q1035.45 41.1005 1035.45 31.5808 Q1035.45 22.2638 1040.96 16.633 Q1046.47 11.0023 1055.62 11.0023 Q1066.11 11.0023 1071.62 19.0636 Q1077.17 27.0843 1077.17 42.3968 Q1077.17 56.6965 1070.37 65.2439 Q1063.6 73.7508 1052.14 73.7508 Q1049.06 73.7508 1045.9 73.1431 Q1042.74 72.5355 1039.34 71.3202 M1055.62 45.678 Q1061.13 45.678 1064.33 41.9107 Q1067.57 38.1433 1067.57 31.5808 Q1067.57 25.0589 1064.33 21.2916 Q1061.13 17.4837 1055.62 17.4837 Q1050.11 17.4837 1046.87 21.2916 Q1043.67 25.0589 1043.67 31.5808 Q1043.67 38.1433 1046.87 41.9107 Q1050.11 45.678 1055.62 45.678 Z\" fill=\"#000000\" fill-rule=\"evenodd\" fill-opacity=\"1\" /><path clip-path=\"url(#clip860)\" d=\"M1098.92 65.6895 L1127.48 65.6895 L1127.48 72.576 L1089.08 72.576 L1089.08 65.6895 Q1093.74 60.8689 1101.76 52.7671 Q1109.82 44.6248 1111.89 42.2752 Q1115.82 37.8598 1117.36 34.8216 Q1118.94 31.7429 1118.94 28.7857 Q1118.94 23.9651 1115.53 20.927 Q1112.17 17.8888 1106.74 17.8888 Q1102.89 17.8888 1098.6 19.2256 Q1094.35 20.5624 1089.49 23.2765 L1089.49 15.0127 Q1094.43 13.0277 1098.72 12.015 Q1103.02 11.0023 1106.58 11.0023 Q1115.98 11.0023 1121.57 15.7013 Q1127.16 20.4004 1127.16 28.2591 Q1127.16 31.9859 1125.74 35.3482 Q1124.36 38.6699 1120.68 43.2069 Q1119.67 44.3817 1114.24 50.0125 Q1108.81 55.6027 1098.92 65.6895 Z\" fill=\"#000000\" fill-rule=\"evenodd\" fill-opacity=\"1\" /><path clip-path=\"url(#clip860)\" d=\"M1151.71 65.6895 L1180.27 65.6895 L1180.27 72.576 L1141.86 72.576 L1141.86 65.6895 Q1146.52 60.8689 1154.54 52.7671 Q1162.61 44.6248 1164.67 42.2752 Q1168.6 37.8598 1170.14 34.8216 Q1171.72 31.7429 1171.72 28.7857 Q1171.72 23.9651 1168.32 20.927 Q1164.95 17.8888 1159.53 17.8888 Q1155.68 17.8888 1151.38 19.2256 Q1147.13 20.5624 1142.27 23.2765 L1142.27 15.0127 Q1147.21 13.0277 1151.51 12.015 Q1155.8 11.0023 1159.36 11.0023 Q1168.76 11.0023 1174.35 15.7013 Q1179.94 20.4004 1179.94 28.2591 Q1179.94 31.9859 1178.53 35.3482 Q1177.15 38.6699 1173.46 43.2069 Q1172.45 44.3817 1167.02 50.0125 Q1161.59 55.6027 1151.71 65.6895 Z\" fill=\"#000000\" fill-rule=\"evenodd\" fill-opacity=\"1\" /><path clip-path=\"url(#clip860)\" d=\"M1217.41 27.2059 L1225.31 27.2059 L1239.49 65.2844 L1253.67 27.2059 L1261.57 27.2059 L1244.55 72.576 L1234.43 72.576 L1217.41 27.2059 Z\" fill=\"#000000\" fill-rule=\"evenodd\" fill-opacity=\"1\" /><path clip-path=\"url(#clip860)\" d=\"M1300.78 28.5427 L1300.78 35.5912 Q1297.62 33.9709 1294.22 33.1607 Q1290.82 32.3505 1287.17 32.3505 Q1281.62 32.3505 1278.83 34.0519 Q1276.07 35.7533 1276.07 39.156 Q1276.07 41.7486 1278.06 43.2475 Q1280.04 44.7058 1286.04 46.0426 L1288.59 46.6097 Q1296.53 48.3111 1299.85 51.4303 Q1303.21 54.509 1303.21 60.0587 Q1303.21 66.3781 1298.19 70.0644 Q1293.21 73.7508 1284.46 73.7508 Q1280.81 73.7508 1276.84 73.0216 Q1272.91 72.3329 1268.54 70.9151 L1268.54 63.2184 Q1272.67 65.3654 1276.68 66.4591 Q1280.69 67.5124 1284.62 67.5124 Q1289.88 67.5124 1292.72 65.73 Q1295.56 63.9071 1295.56 60.6258 Q1295.56 57.5877 1293.49 55.9673 Q1291.46 54.3469 1284.54 52.8481 L1281.94 52.2405 Q1275.02 50.7821 1271.94 47.7845 Q1268.86 44.7463 1268.86 39.4801 Q1268.86 33.0797 1273.4 29.5959 Q1277.93 26.1121 1286.28 26.1121 Q1290.41 26.1121 1294.06 26.7198 Q1297.7 27.3274 1300.78 28.5427 Z\" fill=\"#000000\" fill-rule=\"evenodd\" fill-opacity=\"1\" /><path clip-path=\"url(#clip860)\" d=\"M1349.96 18.8205 L1349.96 65.8515 L1359.84 65.8515 Q1372.36 65.8515 1378.15 60.1802 Q1383.99 54.509 1383.99 42.2752 Q1383.99 30.1225 1378.15 24.4918 Q1372.36 18.8205 1359.84 18.8205 L1349.96 18.8205 M1341.78 12.096 L1358.59 12.096 Q1376.17 12.096 1384.39 19.4281 Q1392.62 26.7198 1392.62 42.2752 Q1392.62 57.9117 1384.35 65.2439 Q1376.09 72.576 1358.59 72.576 L1341.78 72.576 L1341.78 12.096 Z\" fill=\"#000000\" fill-rule=\"evenodd\" fill-opacity=\"1\" /><path clip-path=\"url(#clip860)\" d=\"M1444.14 48.0275 L1444.14 51.6733 L1409.87 51.6733 Q1410.36 59.3701 1414.49 63.421 Q1418.66 67.4314 1426.08 67.4314 Q1430.37 67.4314 1434.38 66.3781 Q1438.43 65.3249 1442.4 63.2184 L1442.4 70.267 Q1438.39 71.9684 1434.18 72.8596 Q1429.96 73.7508 1425.63 73.7508 Q1414.77 73.7508 1408.41 67.4314 Q1402.09 61.1119 1402.09 50.3365 Q1402.09 39.1965 1408.09 32.6746 Q1414.13 26.1121 1424.33 26.1121 Q1433.49 26.1121 1438.8 32.0264 Q1444.14 37.9003 1444.14 48.0275 M1436.69 45.84 Q1436.61 39.7232 1433.25 36.0774 Q1429.92 32.4315 1424.42 32.4315 Q1418.18 32.4315 1414.41 35.9558 Q1410.68 39.4801 1410.12 45.8805 L1436.69 45.84 Z\" fill=\"#000000\" fill-rule=\"evenodd\" fill-opacity=\"1\" /><path clip-path=\"url(#clip860)\" d=\"M1489.03 28.9478 L1489.03 35.9153 Q1485.87 34.1734 1482.67 33.3227 Q1479.51 32.4315 1476.27 32.4315 Q1469.02 32.4315 1465.01 37.0496 Q1460.99 41.6271 1460.99 49.9314 Q1460.99 58.2358 1465.01 62.8538 Q1469.02 67.4314 1476.27 67.4314 Q1479.51 67.4314 1482.67 66.5807 Q1485.87 65.6895 1489.03 63.9476 L1489.03 70.8341 Q1485.91 72.2924 1482.55 73.0216 Q1479.22 73.7508 1475.46 73.7508 Q1465.21 73.7508 1459.17 67.3098 Q1453.14 60.8689 1453.14 49.9314 Q1453.14 38.832 1459.21 32.472 Q1465.33 26.1121 1475.94 26.1121 Q1479.39 26.1121 1482.67 26.8413 Q1485.95 27.5299 1489.03 28.9478 Z\" fill=\"#000000\" fill-rule=\"evenodd\" fill-opacity=\"1\" /><path clip-path=\"url(#clip860)\" d=\"M1548.9 20.1573 L1537.8 50.2555 L1560.04 50.2555 L1548.9 20.1573 M1544.28 12.096 L1553.56 12.096 L1576.61 72.576 L1568.1 72.576 L1562.59 57.061 L1535.33 57.061 L1529.82 72.576 L1521.19 72.576 L1544.28 12.096 Z\" fill=\"#000000\" fill-rule=\"evenodd\" fill-opacity=\"1\" /><path clip-path=\"url(#clip860)\" d=\"M1574.91 27.2059 L1582.81 27.2059 L1596.98 65.2844 L1611.16 27.2059 L1619.06 27.2059 L1602.05 72.576 L1591.92 72.576 L1574.91 27.2059 Z\" fill=\"#000000\" fill-rule=\"evenodd\" fill-opacity=\"1\" /><path clip-path=\"url(#clip860)\" d=\"M1668.16 48.0275 L1668.16 51.6733 L1633.89 51.6733 Q1634.37 59.3701 1638.51 63.421 Q1642.68 67.4314 1650.09 67.4314 Q1654.38 67.4314 1658.4 66.3781 Q1662.45 65.3249 1666.42 63.2184 L1666.42 70.267 Q1662.41 71.9684 1658.19 72.8596 Q1653.98 73.7508 1649.65 73.7508 Q1638.79 73.7508 1632.43 67.4314 Q1626.11 61.1119 1626.11 50.3365 Q1626.11 39.1965 1632.1 32.6746 Q1638.14 26.1121 1648.35 26.1121 Q1657.5 26.1121 1662.81 32.0264 Q1668.16 37.9003 1668.16 48.0275 M1660.7 45.84 Q1660.62 39.7232 1657.26 36.0774 Q1653.94 32.4315 1648.43 32.4315 Q1642.19 32.4315 1638.42 35.9558 Q1634.7 39.4801 1634.13 45.8805 L1660.7 45.84 Z\" fill=\"#000000\" fill-rule=\"evenodd\" fill-opacity=\"1\" /><path clip-path=\"url(#clip860)\" d=\"M1706.68 34.1734 Q1705.43 33.4443 1703.93 33.1202 Q1702.47 32.7556 1700.69 32.7556 Q1694.37 32.7556 1690.96 36.8875 Q1687.6 40.9789 1687.6 48.6757 L1687.6 72.576 L1680.11 72.576 L1680.11 27.2059 L1687.6 27.2059 L1687.6 34.2544 Q1689.95 30.1225 1693.72 28.1376 Q1697.49 26.1121 1702.87 26.1121 Q1703.64 26.1121 1704.58 26.2337 Q1705.51 26.3147 1706.64 26.5172 L1706.68 34.1734 Z\" fill=\"#000000\" fill-rule=\"evenodd\" fill-opacity=\"1\" /><path clip-path=\"url(#clip860)\" d=\"M1735.12 49.7694 Q1726.09 49.7694 1722.6 51.8354 Q1719.12 53.9013 1719.12 58.8839 Q1719.12 62.8538 1721.71 65.2034 Q1724.34 67.5124 1728.84 67.5124 Q1735.04 67.5124 1738.77 63.1374 Q1742.53 58.7219 1742.53 51.4303 L1742.53 49.7694 L1735.12 49.7694 M1749.99 46.6907 L1749.99 72.576 L1742.53 72.576 L1742.53 65.6895 Q1739.98 69.8214 1736.17 71.8063 Q1732.36 73.7508 1726.86 73.7508 Q1719.89 73.7508 1715.76 69.8619 Q1711.66 65.9325 1711.66 59.3701 Q1711.66 51.7138 1716.77 47.825 Q1721.91 43.9361 1732.08 43.9361 L1742.53 43.9361 L1742.53 43.2069 Q1742.53 38.0623 1739.13 35.2672 Q1735.77 32.4315 1729.65 32.4315 Q1725.76 32.4315 1722.08 33.3632 Q1718.39 34.295 1714.99 36.1584 L1714.99 29.2718 Q1719.08 27.692 1722.93 26.9223 Q1726.77 26.1121 1730.42 26.1121 Q1740.26 26.1121 1745.13 31.2163 Q1749.99 36.3204 1749.99 46.6907 Z\" fill=\"#000000\" fill-rule=\"evenodd\" fill-opacity=\"1\" /><path clip-path=\"url(#clip860)\" d=\"M1795.19 49.3643 Q1795.19 41.2625 1791.83 36.8065 Q1788.51 32.3505 1782.47 32.3505 Q1776.48 32.3505 1773.12 36.8065 Q1769.8 41.2625 1769.8 49.3643 Q1769.8 57.4256 1773.12 61.8816 Q1776.48 66.3376 1782.47 66.3376 Q1788.51 66.3376 1791.83 61.8816 Q1795.19 57.4256 1795.19 49.3643 M1802.65 66.9452 Q1802.65 78.5308 1797.5 84.1616 Q1792.36 89.8329 1781.75 89.8329 Q1777.82 89.8329 1774.33 89.2252 Q1770.85 88.6581 1767.57 87.4428 L1767.57 80.1917 Q1770.85 81.9741 1774.05 82.8248 Q1777.25 83.6755 1780.57 83.6755 Q1787.9 83.6755 1791.55 79.8271 Q1795.19 76.0193 1795.19 68.282 L1795.19 64.5957 Q1792.89 68.6061 1789.28 70.5911 Q1785.67 72.576 1780.65 72.576 Q1772.31 72.576 1767.2 66.2161 Q1762.1 59.8562 1762.1 49.3643 Q1762.1 38.832 1767.2 32.472 Q1772.31 26.1121 1780.65 26.1121 Q1785.67 26.1121 1789.28 28.0971 Q1792.89 30.082 1795.19 34.0924 L1795.19 27.2059 L1802.65 27.2059 L1802.65 66.9452 Z\" fill=\"#000000\" fill-rule=\"evenodd\" fill-opacity=\"1\" /><path clip-path=\"url(#clip860)\" d=\"M1856.81 48.0275 L1856.81 51.6733 L1822.54 51.6733 Q1823.02 59.3701 1827.16 63.421 Q1831.33 67.4314 1838.74 67.4314 Q1843.04 67.4314 1847.05 66.3781 Q1851.1 65.3249 1855.07 63.2184 L1855.07 70.267 Q1851.06 71.9684 1846.84 72.8596 Q1842.63 73.7508 1838.3 73.7508 Q1827.44 73.7508 1821.08 67.4314 Q1814.76 61.1119 1814.76 50.3365 Q1814.76 39.1965 1820.76 32.6746 Q1826.79 26.1121 1837 26.1121 Q1846.15 26.1121 1851.46 32.0264 Q1856.81 37.9003 1856.81 48.0275 M1849.35 45.84 Q1849.27 39.7232 1845.91 36.0774 Q1842.59 32.4315 1837.08 32.4315 Q1830.84 32.4315 1827.07 35.9558 Q1823.35 39.4801 1822.78 45.8805 L1849.35 45.84 Z\" fill=\"#000000\" fill-rule=\"evenodd\" fill-opacity=\"1\" /><path clip-path=\"url(#clip860)\" d=\"M1902.79 14.324 L1902.79 27.2059 L1918.14 27.2059 L1918.14 32.9987 L1902.79 32.9987 L1902.79 57.6282 Q1902.79 63.1779 1904.29 64.7578 Q1905.82 66.3376 1910.48 66.3376 L1918.14 66.3376 L1918.14 72.576 L1910.48 72.576 Q1901.85 72.576 1898.57 69.3758 Q1895.29 66.1351 1895.29 57.6282 L1895.29 32.9987 L1889.82 32.9987 L1889.82 27.2059 L1895.29 27.2059 L1895.29 14.324 L1902.79 14.324 Z\" fill=\"#000000\" fill-rule=\"evenodd\" fill-opacity=\"1\" /><path clip-path=\"url(#clip860)\" d=\"M1966.75 48.0275 L1966.75 51.6733 L1932.48 51.6733 Q1932.97 59.3701 1937.1 63.421 Q1941.27 67.4314 1948.68 67.4314 Q1952.98 67.4314 1956.99 66.3781 Q1961.04 65.3249 1965.01 63.2184 L1965.01 70.267 Q1961 71.9684 1956.78 72.8596 Q1952.57 73.7508 1948.24 73.7508 Q1937.38 73.7508 1931.02 67.4314 Q1924.7 61.1119 1924.7 50.3365 Q1924.7 39.1965 1930.7 32.6746 Q1936.73 26.1121 1946.94 26.1121 Q1956.1 26.1121 1961.4 32.0264 Q1966.75 37.9003 1966.75 48.0275 M1959.3 45.84 Q1959.22 39.7232 1955.85 36.0774 Q1952.53 32.4315 1947.02 32.4315 Q1940.78 32.4315 1937.02 35.9558 Q1933.29 39.4801 1932.72 45.8805 L1959.3 45.84 Z\" fill=\"#000000\" fill-rule=\"evenodd\" fill-opacity=\"1\" /><path clip-path=\"url(#clip860)\" d=\"M2014.31 35.9153 Q2017.1 30.8922 2020.99 28.5022 Q2024.88 26.1121 2030.15 26.1121 Q2037.24 26.1121 2041.08 31.0947 Q2044.93 36.0368 2044.93 45.1919 L2044.93 72.576 L2037.44 72.576 L2037.44 45.4349 Q2037.44 38.913 2035.13 35.7533 Q2032.82 32.5936 2028.08 32.5936 Q2022.29 32.5936 2018.93 36.4419 Q2015.56 40.2903 2015.56 46.9338 L2015.56 72.576 L2008.07 72.576 L2008.07 45.4349 Q2008.07 38.8725 2005.76 35.7533 Q2003.45 32.5936 1998.63 32.5936 Q1992.92 32.5936 1989.56 36.4824 Q1986.19 40.3308 1986.19 46.9338 L1986.19 72.576 L1978.7 72.576 L1978.7 27.2059 L1986.19 27.2059 L1986.19 34.2544 Q1988.75 30.082 1992.31 28.0971 Q1995.88 26.1121 2000.78 26.1121 Q2005.72 26.1121 2009.16 28.6237 Q2012.65 31.1352 2014.31 35.9153 Z\" fill=\"#000000\" fill-rule=\"evenodd\" fill-opacity=\"1\" /><path clip-path=\"url(#clip860)\" d=\"M2067.01 65.7705 L2067.01 89.8329 L2059.52 89.8329 L2059.52 27.2059 L2067.01 27.2059 L2067.01 34.0924 Q2069.36 30.0415 2072.92 28.0971 Q2076.53 26.1121 2081.51 26.1121 Q2089.78 26.1121 2094.92 32.6746 Q2100.11 39.2371 2100.11 49.9314 Q2100.11 60.6258 2094.92 67.1883 Q2089.78 73.7508 2081.51 73.7508 Q2076.53 73.7508 2072.92 71.8063 Q2069.36 69.8214 2067.01 65.7705 M2092.37 49.9314 Q2092.37 41.7081 2088.97 37.0496 Q2085.6 32.3505 2079.69 32.3505 Q2073.78 32.3505 2070.37 37.0496 Q2067.01 41.7081 2067.01 49.9314 Q2067.01 58.1548 2070.37 62.8538 Q2073.78 67.5124 2079.69 67.5124 Q2085.6 67.5124 2088.97 62.8538 Q2092.37 58.1548 2092.37 49.9314 Z\" fill=\"#000000\" fill-rule=\"evenodd\" fill-opacity=\"1\" /><path clip-path=\"url(#clip860)\" d=\"M2146.93 65.6895 L2175.49 65.6895 L2175.49 72.576 L2137.09 72.576 L2137.09 65.6895 Q2141.75 60.8689 2149.77 52.7671 Q2157.83 44.6248 2159.9 42.2752 Q2163.83 37.8598 2165.37 34.8216 Q2166.95 31.7429 2166.95 28.7857 Q2166.95 23.9651 2163.54 20.927 Q2160.18 17.8888 2154.75 17.8888 Q2150.9 17.8888 2146.61 19.2256 Q2142.36 20.5624 2137.5 23.2765 L2137.5 15.0127 Q2142.44 13.0277 2146.73 12.015 Q2151.03 11.0023 2154.59 11.0023 Q2163.99 11.0023 2169.58 15.7013 Q2175.17 20.4004 2175.17 28.2591 Q2175.17 31.9859 2173.75 35.3482 Q2172.37 38.6699 2168.69 43.2069 Q2167.67 44.3817 2162.25 50.0125 Q2156.82 55.6027 2146.93 65.6895 Z\" fill=\"#000000\" fill-rule=\"evenodd\" fill-opacity=\"1\" /><path clip-path=\"url(#clip860)\" d=\"M2210.17 17.4837 Q2203.85 17.4837 2200.65 23.7221 Q2197.49 29.92 2197.49 42.3968 Q2197.49 54.833 2200.65 61.0714 Q2203.85 67.2693 2210.17 67.2693 Q2216.53 67.2693 2219.69 61.0714 Q2222.89 54.833 2222.89 42.3968 Q2222.89 29.92 2219.69 23.7221 Q2216.53 17.4837 2210.17 17.4837 M2210.17 11.0023 Q2220.34 11.0023 2225.68 19.0636 Q2231.07 27.0843 2231.07 42.3968 Q2231.07 57.6687 2225.68 65.73 Q2220.34 73.7508 2210.17 73.7508 Q2200 73.7508 2194.61 65.73 Q2189.27 57.6687 2189.27 42.3968 Q2189.27 27.0843 2194.61 19.0636 Q2200 11.0023 2210.17 11.0023 Z\" fill=\"#000000\" fill-rule=\"evenodd\" fill-opacity=\"1\" /><path clip-path=\"url(#clip860)\" d=\"M2246.87 65.6895 L2260.24 65.6895 L2260.24 19.5497 L2245.7 22.4663 L2245.7 15.0127 L2260.16 12.096 L2268.34 12.096 L2268.34 65.6895 L2281.71 65.6895 L2281.71 72.576 L2246.87 72.576 L2246.87 65.6895 Z\" fill=\"#000000\" fill-rule=\"evenodd\" fill-opacity=\"1\" /><path clip-path=\"url(#clip860)\" d=\"M2305.28 65.6895 L2333.84 65.6895 L2333.84 72.576 L2295.44 72.576 L2295.44 65.6895 Q2300.1 60.8689 2308.12 52.7671 Q2316.18 44.6248 2318.25 42.2752 Q2322.18 37.8598 2323.72 34.8216 Q2325.3 31.7429 2325.3 28.7857 Q2325.3 23.9651 2321.89 20.927 Q2318.53 17.8888 2313.1 17.8888 Q2309.25 17.8888 2304.96 19.2256 Q2300.71 20.5624 2295.85 23.2765 L2295.85 15.0127 Q2300.79 13.0277 2305.08 12.015 Q2309.38 11.0023 2312.94 11.0023 Q2322.34 11.0023 2327.93 15.7013 Q2333.52 20.4004 2333.52 28.2591 Q2333.52 31.9859 2332.1 35.3482 Q2330.72 38.6699 2327.04 43.2069 Q2326.02 44.3817 2320.6 50.0125 Q2315.17 55.6027 2305.28 65.6895 Z\" fill=\"#000000\" fill-rule=\"evenodd\" fill-opacity=\"1\" /><polyline clip-path=\"url(#clip862)\" style=\"stroke:#009af9; stroke-linecap:round; stroke-linejoin:round; stroke-width:4; stroke-opacity:1; fill:none\" points=\"\n",
       "  264.778,512.328 467.495,465.874 670.211,467.504 872.927,1310.6 1075.64,760.49 1278.36,740.115 1481.08,595.456 1683.79,604.829 1886.51,742.153 2089.22,160.256 \n",
       "  2291.94,323.253 \n",
       "  \"/>\n",
       "<polyline clip-path=\"url(#clip862)\" style=\"stroke:#e26f46; stroke-linecap:round; stroke-linejoin:round; stroke-width:4; stroke-opacity:1; fill:none\" points=\"\n",
       "  264.778,790.237 467.495,1079.15 670.211,506.623 872.927,358.704 1075.64,399.453 1278.36,1386.4 1481.08,423.495 1683.79,221.38 1886.51,630.908 2089.22,558.782 \n",
       "  2291.94,871.735 \n",
       "  \"/>\n",
       "<path clip-path=\"url(#clip860)\" d=\"\n",
       "M275.59 322.316 L900.305 322.316 L900.305 166.796 L275.59 166.796  Z\n",
       "  \" fill=\"#ffffff\" fill-rule=\"evenodd\" fill-opacity=\"1\"/>\n",
       "<polyline clip-path=\"url(#clip860)\" style=\"stroke:#000000; stroke-linecap:round; stroke-linejoin:round; stroke-width:4; stroke-opacity:1; fill:none\" points=\"\n",
       "  275.59,322.316 900.305,322.316 900.305,166.796 275.59,166.796 275.59,322.316 \n",
       "  \"/>\n",
       "<polyline clip-path=\"url(#clip860)\" style=\"stroke:#009af9; stroke-linecap:round; stroke-linejoin:round; stroke-width:4; stroke-opacity:1; fill:none\" points=\"\n",
       "  299.465,218.636 442.718,218.636 \n",
       "  \"/>\n",
       "<path clip-path=\"url(#clip860)\" d=\"M485.506 213.925 L485.506 199.897 L489.765 199.897 L489.765 235.916 L485.506 235.916 L485.506 232.027 Q484.163 234.342 482.103 235.476 Q480.066 236.587 477.196 236.587 Q472.496 236.587 469.534 232.837 Q466.594 229.087 466.594 222.976 Q466.594 216.865 469.534 213.115 Q472.496 209.365 477.196 209.365 Q480.066 209.365 482.103 210.499 Q484.163 211.61 485.506 213.925 M470.992 222.976 Q470.992 227.675 472.913 230.36 Q474.858 233.022 478.237 233.022 Q481.617 233.022 483.561 230.36 Q485.506 227.675 485.506 222.976 Q485.506 218.277 483.561 215.615 Q481.617 212.93 478.237 212.93 Q474.858 212.93 472.913 215.615 Q470.992 218.277 470.992 222.976 Z\" fill=\"#000000\" fill-rule=\"evenodd\" fill-opacity=\"1\" /><path clip-path=\"url(#clip860)\" d=\"M520.714 221.888 L520.714 223.971 L501.131 223.971 Q501.408 228.369 503.769 230.684 Q506.154 232.976 510.39 232.976 Q512.843 232.976 515.135 232.374 Q517.45 231.772 519.718 230.569 L519.718 234.596 Q517.427 235.568 515.019 236.078 Q512.612 236.587 510.135 236.587 Q503.932 236.587 500.297 232.976 Q496.686 229.365 496.686 223.207 Q496.686 216.842 500.112 213.115 Q503.561 209.365 509.394 209.365 Q514.626 209.365 517.658 212.745 Q520.714 216.101 520.714 221.888 M516.455 220.638 Q516.408 217.143 514.487 215.059 Q512.589 212.976 509.441 212.976 Q505.876 212.976 503.723 214.99 Q501.594 217.004 501.269 220.661 L516.455 220.638 Z\" fill=\"#000000\" fill-rule=\"evenodd\" fill-opacity=\"1\" /><path clip-path=\"url(#clip860)\" d=\"M546.362 210.985 L546.362 214.967 Q544.556 213.971 542.728 213.485 Q540.922 212.976 539.07 212.976 Q534.927 212.976 532.635 215.615 Q530.343 218.231 530.343 222.976 Q530.343 227.721 532.635 230.36 Q534.927 232.976 539.07 232.976 Q540.922 232.976 542.728 232.49 Q544.556 231.981 546.362 230.985 L546.362 234.92 Q544.579 235.754 542.658 236.17 Q540.76 236.587 538.607 236.587 Q532.751 236.587 529.302 232.906 Q525.853 229.226 525.853 222.976 Q525.853 216.633 529.325 212.999 Q532.82 209.365 538.885 209.365 Q540.853 209.365 542.728 209.782 Q544.603 210.175 546.362 210.985 Z\" fill=\"#000000\" fill-rule=\"evenodd\" fill-opacity=\"1\" /><path clip-path=\"url(#clip860)\" d=\"M557.982 202.629 L557.982 209.99 L566.755 209.99 L566.755 213.3 L557.982 213.3 L557.982 227.374 Q557.982 230.545 558.839 231.448 Q559.718 232.351 562.38 232.351 L566.755 232.351 L566.755 235.916 L562.38 235.916 Q557.45 235.916 555.575 234.087 Q553.7 232.235 553.7 227.374 L553.7 213.3 L550.575 213.3 L550.575 209.99 L553.7 209.99 L553.7 202.629 L557.982 202.629 Z\" fill=\"#000000\" fill-rule=\"evenodd\" fill-opacity=\"1\" /><path clip-path=\"url(#clip860)\" d=\"M594.533 221.888 L594.533 223.971 L574.95 223.971 Q575.227 228.369 577.589 230.684 Q579.973 232.976 584.209 232.976 Q586.663 232.976 588.954 232.374 Q591.269 231.772 593.538 230.569 L593.538 234.596 Q591.246 235.568 588.838 236.078 Q586.431 236.587 583.954 236.587 Q577.751 236.587 574.116 232.976 Q570.505 229.365 570.505 223.207 Q570.505 216.842 573.931 213.115 Q577.38 209.365 583.213 209.365 Q588.445 209.365 591.477 212.745 Q594.533 216.101 594.533 221.888 M590.274 220.638 Q590.227 217.143 588.306 215.059 Q586.408 212.976 583.26 212.976 Q579.695 212.976 577.542 214.99 Q575.413 217.004 575.089 220.661 L590.274 220.638 Z\" fill=\"#000000\" fill-rule=\"evenodd\" fill-opacity=\"1\" /><path clip-path=\"url(#clip860)\" d=\"M621.709 214.967 Q623.306 212.096 625.528 210.731 Q627.75 209.365 630.76 209.365 Q634.81 209.365 637.01 212.212 Q639.209 215.036 639.209 220.268 L639.209 235.916 L634.926 235.916 L634.926 220.407 Q634.926 216.68 633.607 214.874 Q632.287 213.069 629.579 213.069 Q626.269 213.069 624.348 215.268 Q622.426 217.467 622.426 221.263 L622.426 235.916 L618.144 235.916 L618.144 220.407 Q618.144 216.657 616.824 214.874 Q615.505 213.069 612.75 213.069 Q609.487 213.069 607.565 215.291 Q605.644 217.49 605.644 221.263 L605.644 235.916 L601.362 235.916 L601.362 209.99 L605.644 209.99 L605.644 214.018 Q607.102 211.633 609.139 210.499 Q611.176 209.365 613.977 209.365 Q616.801 209.365 618.769 210.8 Q620.76 212.235 621.709 214.967 Z\" fill=\"#000000\" fill-rule=\"evenodd\" fill-opacity=\"1\" /><path clip-path=\"url(#clip860)\" d=\"M651.824 232.027 L651.824 245.777 L647.542 245.777 L647.542 209.99 L651.824 209.99 L651.824 213.925 Q653.167 211.61 655.204 210.499 Q657.264 209.365 660.111 209.365 Q664.833 209.365 667.773 213.115 Q670.736 216.865 670.736 222.976 Q670.736 229.087 667.773 232.837 Q664.833 236.587 660.111 236.587 Q657.264 236.587 655.204 235.476 Q653.167 234.342 651.824 232.027 M666.315 222.976 Q666.315 218.277 664.37 215.615 Q662.449 212.93 659.07 212.93 Q655.69 212.93 653.746 215.615 Q651.824 218.277 651.824 222.976 Q651.824 227.675 653.746 230.36 Q655.69 233.022 659.07 233.022 Q662.449 233.022 664.37 230.36 Q666.315 227.675 666.315 222.976 Z\" fill=\"#000000\" fill-rule=\"evenodd\" fill-opacity=\"1\" /><path clip-path=\"url(#clip860)\" d=\"M689.579 222.883 Q684.417 222.883 682.426 224.064 Q680.435 225.244 680.435 228.092 Q680.435 230.36 681.917 231.703 Q683.421 233.022 685.991 233.022 Q689.532 233.022 691.662 230.522 Q693.815 227.999 693.815 223.832 L693.815 222.883 L689.579 222.883 M698.074 221.124 L698.074 235.916 L693.815 235.916 L693.815 231.981 Q692.356 234.342 690.181 235.476 Q688.005 236.587 684.856 236.587 Q680.875 236.587 678.514 234.365 Q676.176 232.119 676.176 228.369 Q676.176 223.994 679.093 221.772 Q682.032 219.55 687.843 219.55 L693.815 219.55 L693.815 219.133 Q693.815 216.194 691.87 214.596 Q689.949 212.976 686.454 212.976 Q684.231 212.976 682.125 213.508 Q680.019 214.041 678.074 215.106 L678.074 211.17 Q680.412 210.268 682.611 209.828 Q684.81 209.365 686.893 209.365 Q692.518 209.365 695.296 212.282 Q698.074 215.198 698.074 221.124 Z\" fill=\"#000000\" fill-rule=\"evenodd\" fill-opacity=\"1\" /><path clip-path=\"url(#clip860)\" d=\"M703.792 209.99 L708.305 209.99 L716.407 231.749 L724.509 209.99 L729.023 209.99 L719.301 235.916 L713.514 235.916 L703.792 209.99 Z\" fill=\"#000000\" fill-rule=\"evenodd\" fill-opacity=\"1\" /><path clip-path=\"url(#clip860)\" d=\"M751.963 222.652 Q751.963 218.022 750.041 215.476 Q748.143 212.93 744.694 212.93 Q741.268 212.93 739.347 215.476 Q737.449 218.022 737.449 222.652 Q737.449 227.258 739.347 229.805 Q741.268 232.351 744.694 232.351 Q748.143 232.351 750.041 229.805 Q751.963 227.258 751.963 222.652 M756.222 232.698 Q756.222 239.318 753.282 242.536 Q750.342 245.777 744.277 245.777 Q742.032 245.777 740.041 245.43 Q738.051 245.105 736.176 244.411 L736.176 240.268 Q738.051 241.286 739.879 241.772 Q741.708 242.258 743.606 242.258 Q747.796 242.258 749.879 240.059 Q751.963 237.883 751.963 233.462 L751.963 231.356 Q750.643 233.647 748.583 234.781 Q746.523 235.916 743.652 235.916 Q738.884 235.916 735.967 232.281 Q733.051 228.647 733.051 222.652 Q733.051 216.633 735.967 212.999 Q738.884 209.365 743.652 209.365 Q746.523 209.365 748.583 210.499 Q750.643 211.633 751.963 213.925 L751.963 209.99 L756.222 209.99 L756.222 232.698 Z\" fill=\"#000000\" fill-rule=\"evenodd\" fill-opacity=\"1\" /><path clip-path=\"url(#clip860)\" d=\"M766.407 231.981 L774.046 231.981 L774.046 205.615 L765.736 207.282 L765.736 203.022 L774 201.356 L778.675 201.356 L778.675 231.981 L786.314 231.981 L786.314 235.916 L766.407 235.916 L766.407 231.981 Z\" fill=\"#000000\" fill-rule=\"evenodd\" fill-opacity=\"1\" /><path clip-path=\"url(#clip860)\" d=\"M795.898 235.198 L795.898 230.939 Q797.657 231.772 799.462 232.212 Q801.268 232.652 803.004 232.652 Q807.634 232.652 810.064 229.55 Q812.518 226.425 812.865 220.082 Q811.522 222.073 809.462 223.138 Q807.402 224.203 804.902 224.203 Q799.717 224.203 796.685 221.078 Q793.675 217.93 793.675 212.49 Q793.675 207.166 796.823 203.948 Q799.972 200.731 805.203 200.731 Q811.198 200.731 814.347 205.337 Q817.518 209.92 817.518 218.67 Q817.518 226.842 813.629 231.726 Q809.763 236.587 803.212 236.587 Q801.453 236.587 799.648 236.24 Q797.842 235.893 795.898 235.198 M805.203 220.545 Q808.351 220.545 810.18 218.393 Q812.032 216.24 812.032 212.49 Q812.032 208.763 810.18 206.61 Q808.351 204.434 805.203 204.434 Q802.055 204.434 800.203 206.61 Q798.374 208.763 798.374 212.49 Q798.374 216.24 800.203 218.393 Q802.055 220.545 805.203 220.545 Z\" fill=\"#000000\" fill-rule=\"evenodd\" fill-opacity=\"1\" /><path clip-path=\"url(#clip860)\" d=\"M829.948 231.981 L846.268 231.981 L846.268 235.916 L824.323 235.916 L824.323 231.981 Q826.985 229.226 831.569 224.596 Q836.175 219.944 837.356 218.601 Q839.601 216.078 840.481 214.342 Q841.383 212.583 841.383 210.893 Q841.383 208.138 839.439 206.402 Q837.518 204.666 834.416 204.666 Q832.217 204.666 829.763 205.43 Q827.333 206.194 824.555 207.745 L824.555 203.022 Q827.379 201.888 829.833 201.309 Q832.286 200.731 834.323 200.731 Q839.694 200.731 842.888 203.416 Q846.082 206.101 846.082 210.592 Q846.082 212.721 845.272 214.643 Q844.485 216.541 842.379 219.133 Q841.8 219.805 838.698 223.022 Q835.596 226.217 829.948 231.981 Z\" fill=\"#000000\" fill-rule=\"evenodd\" fill-opacity=\"1\" /><path clip-path=\"url(#clip860)\" d=\"M860.11 231.981 L876.43 231.981 L876.43 235.916 L854.485 235.916 L854.485 231.981 Q857.147 229.226 861.731 224.596 Q866.337 219.944 867.518 218.601 Q869.763 216.078 870.643 214.342 Q871.545 212.583 871.545 210.893 Q871.545 208.138 869.601 206.402 Q867.68 204.666 864.578 204.666 Q862.379 204.666 859.925 205.43 Q857.494 206.194 854.717 207.745 L854.717 203.022 Q857.541 201.888 859.994 201.309 Q862.448 200.731 864.485 200.731 Q869.855 200.731 873.05 203.416 Q876.244 206.101 876.244 210.592 Q876.244 212.721 875.434 214.643 Q874.647 216.541 872.541 219.133 Q871.962 219.805 868.86 223.022 Q865.758 226.217 860.11 231.981 Z\" fill=\"#000000\" fill-rule=\"evenodd\" fill-opacity=\"1\" /><polyline clip-path=\"url(#clip860)\" style=\"stroke:#e26f46; stroke-linecap:round; stroke-linejoin:round; stroke-width:4; stroke-opacity:1; fill:none\" points=\"\n",
       "  299.465,270.476 442.718,270.476 \n",
       "  \"/>\n",
       "<path clip-path=\"url(#clip860)\" d=\"M485.506 265.765 L485.506 251.737 L489.765 251.737 L489.765 287.756 L485.506 287.756 L485.506 283.867 Q484.163 286.182 482.103 287.316 Q480.066 288.427 477.196 288.427 Q472.496 288.427 469.534 284.677 Q466.594 280.927 466.594 274.816 Q466.594 268.705 469.534 264.955 Q472.496 261.205 477.196 261.205 Q480.066 261.205 482.103 262.339 Q484.163 263.45 485.506 265.765 M470.992 274.816 Q470.992 279.515 472.913 282.2 Q474.858 284.862 478.237 284.862 Q481.617 284.862 483.561 282.2 Q485.506 279.515 485.506 274.816 Q485.506 270.117 483.561 267.455 Q481.617 264.77 478.237 264.77 Q474.858 264.77 472.913 267.455 Q470.992 270.117 470.992 274.816 Z\" fill=\"#000000\" fill-rule=\"evenodd\" fill-opacity=\"1\" /><path clip-path=\"url(#clip860)\" d=\"M520.714 273.728 L520.714 275.811 L501.131 275.811 Q501.408 280.209 503.769 282.524 Q506.154 284.816 510.39 284.816 Q512.843 284.816 515.135 284.214 Q517.45 283.612 519.718 282.409 L519.718 286.436 Q517.427 287.408 515.019 287.918 Q512.612 288.427 510.135 288.427 Q503.932 288.427 500.297 284.816 Q496.686 281.205 496.686 275.047 Q496.686 268.682 500.112 264.955 Q503.561 261.205 509.394 261.205 Q514.626 261.205 517.658 264.585 Q520.714 267.941 520.714 273.728 M516.455 272.478 Q516.408 268.983 514.487 266.899 Q512.589 264.816 509.441 264.816 Q505.876 264.816 503.723 266.83 Q501.594 268.844 501.269 272.501 L516.455 272.478 Z\" fill=\"#000000\" fill-rule=\"evenodd\" fill-opacity=\"1\" /><path clip-path=\"url(#clip860)\" d=\"M546.362 262.825 L546.362 266.807 Q544.556 265.811 542.728 265.325 Q540.922 264.816 539.07 264.816 Q534.927 264.816 532.635 267.455 Q530.343 270.071 530.343 274.816 Q530.343 279.561 532.635 282.2 Q534.927 284.816 539.07 284.816 Q540.922 284.816 542.728 284.33 Q544.556 283.821 546.362 282.825 L546.362 286.76 Q544.579 287.594 542.658 288.01 Q540.76 288.427 538.607 288.427 Q532.751 288.427 529.302 284.746 Q525.853 281.066 525.853 274.816 Q525.853 268.473 529.325 264.839 Q532.82 261.205 538.885 261.205 Q540.853 261.205 542.728 261.622 Q544.603 262.015 546.362 262.825 Z\" fill=\"#000000\" fill-rule=\"evenodd\" fill-opacity=\"1\" /><path clip-path=\"url(#clip860)\" d=\"M557.982 254.469 L557.982 261.83 L566.755 261.83 L566.755 265.14 L557.982 265.14 L557.982 279.214 Q557.982 282.385 558.839 283.288 Q559.718 284.191 562.38 284.191 L566.755 284.191 L566.755 287.756 L562.38 287.756 Q557.45 287.756 555.575 285.927 Q553.7 284.075 553.7 279.214 L553.7 265.14 L550.575 265.14 L550.575 261.83 L553.7 261.83 L553.7 254.469 L557.982 254.469 Z\" fill=\"#000000\" fill-rule=\"evenodd\" fill-opacity=\"1\" /><path clip-path=\"url(#clip860)\" d=\"M594.533 273.728 L594.533 275.811 L574.95 275.811 Q575.227 280.209 577.589 282.524 Q579.973 284.816 584.209 284.816 Q586.663 284.816 588.954 284.214 Q591.269 283.612 593.538 282.409 L593.538 286.436 Q591.246 287.408 588.838 287.918 Q586.431 288.427 583.954 288.427 Q577.751 288.427 574.116 284.816 Q570.505 281.205 570.505 275.047 Q570.505 268.682 573.931 264.955 Q577.38 261.205 583.213 261.205 Q588.445 261.205 591.477 264.585 Q594.533 267.941 594.533 273.728 M590.274 272.478 Q590.227 268.983 588.306 266.899 Q586.408 264.816 583.26 264.816 Q579.695 264.816 577.542 266.83 Q575.413 268.844 575.089 272.501 L590.274 272.478 Z\" fill=\"#000000\" fill-rule=\"evenodd\" fill-opacity=\"1\" /><path clip-path=\"url(#clip860)\" d=\"M621.709 266.807 Q623.306 263.936 625.528 262.571 Q627.75 261.205 630.76 261.205 Q634.81 261.205 637.01 264.052 Q639.209 266.876 639.209 272.108 L639.209 287.756 L634.926 287.756 L634.926 272.247 Q634.926 268.52 633.607 266.714 Q632.287 264.909 629.579 264.909 Q626.269 264.909 624.348 267.108 Q622.426 269.307 622.426 273.103 L622.426 287.756 L618.144 287.756 L618.144 272.247 Q618.144 268.497 616.824 266.714 Q615.505 264.909 612.75 264.909 Q609.487 264.909 607.565 267.131 Q605.644 269.33 605.644 273.103 L605.644 287.756 L601.362 287.756 L601.362 261.83 L605.644 261.83 L605.644 265.858 Q607.102 263.473 609.139 262.339 Q611.176 261.205 613.977 261.205 Q616.801 261.205 618.769 262.64 Q620.76 264.075 621.709 266.807 Z\" fill=\"#000000\" fill-rule=\"evenodd\" fill-opacity=\"1\" /><path clip-path=\"url(#clip860)\" d=\"M651.824 283.867 L651.824 297.617 L647.542 297.617 L647.542 261.83 L651.824 261.83 L651.824 265.765 Q653.167 263.45 655.204 262.339 Q657.264 261.205 660.111 261.205 Q664.833 261.205 667.773 264.955 Q670.736 268.705 670.736 274.816 Q670.736 280.927 667.773 284.677 Q664.833 288.427 660.111 288.427 Q657.264 288.427 655.204 287.316 Q653.167 286.182 651.824 283.867 M666.315 274.816 Q666.315 270.117 664.37 267.455 Q662.449 264.77 659.07 264.77 Q655.69 264.77 653.746 267.455 Q651.824 270.117 651.824 274.816 Q651.824 279.515 653.746 282.2 Q655.69 284.862 659.07 284.862 Q662.449 284.862 664.37 282.2 Q666.315 279.515 666.315 274.816 Z\" fill=\"#000000\" fill-rule=\"evenodd\" fill-opacity=\"1\" /><path clip-path=\"url(#clip860)\" d=\"M689.579 274.723 Q684.417 274.723 682.426 275.904 Q680.435 277.084 680.435 279.932 Q680.435 282.2 681.917 283.543 Q683.421 284.862 685.991 284.862 Q689.532 284.862 691.662 282.362 Q693.815 279.839 693.815 275.672 L693.815 274.723 L689.579 274.723 M698.074 272.964 L698.074 287.756 L693.815 287.756 L693.815 283.821 Q692.356 286.182 690.181 287.316 Q688.005 288.427 684.856 288.427 Q680.875 288.427 678.514 286.205 Q676.176 283.959 676.176 280.209 Q676.176 275.834 679.093 273.612 Q682.032 271.39 687.843 271.39 L693.815 271.39 L693.815 270.973 Q693.815 268.034 691.87 266.436 Q689.949 264.816 686.454 264.816 Q684.231 264.816 682.125 265.348 Q680.019 265.881 678.074 266.946 L678.074 263.01 Q680.412 262.108 682.611 261.668 Q684.81 261.205 686.893 261.205 Q692.518 261.205 695.296 264.122 Q698.074 267.038 698.074 272.964 Z\" fill=\"#000000\" fill-rule=\"evenodd\" fill-opacity=\"1\" /><path clip-path=\"url(#clip860)\" d=\"M703.792 261.83 L708.305 261.83 L716.407 283.589 L724.509 261.83 L729.023 261.83 L719.301 287.756 L713.514 287.756 L703.792 261.83 Z\" fill=\"#000000\" fill-rule=\"evenodd\" fill-opacity=\"1\" /><path clip-path=\"url(#clip860)\" d=\"M751.963 274.492 Q751.963 269.862 750.041 267.316 Q748.143 264.77 744.694 264.77 Q741.268 264.77 739.347 267.316 Q737.449 269.862 737.449 274.492 Q737.449 279.098 739.347 281.645 Q741.268 284.191 744.694 284.191 Q748.143 284.191 750.041 281.645 Q751.963 279.098 751.963 274.492 M756.222 284.538 Q756.222 291.158 753.282 294.376 Q750.342 297.617 744.277 297.617 Q742.032 297.617 740.041 297.27 Q738.051 296.945 736.176 296.251 L736.176 292.108 Q738.051 293.126 739.879 293.612 Q741.708 294.098 743.606 294.098 Q747.796 294.098 749.879 291.899 Q751.963 289.723 751.963 285.302 L751.963 283.196 Q750.643 285.487 748.583 286.621 Q746.523 287.756 743.652 287.756 Q738.884 287.756 735.967 284.121 Q733.051 280.487 733.051 274.492 Q733.051 268.473 735.967 264.839 Q738.884 261.205 743.652 261.205 Q746.523 261.205 748.583 262.339 Q750.643 263.473 751.963 265.765 L751.963 261.83 L756.222 261.83 L756.222 284.538 Z\" fill=\"#000000\" fill-rule=\"evenodd\" fill-opacity=\"1\" /><path clip-path=\"url(#clip860)\" d=\"M769.625 283.821 L785.944 283.821 L785.944 287.756 L764 287.756 L764 283.821 Q766.662 281.066 771.245 276.436 Q775.851 271.784 777.032 270.441 Q779.277 267.918 780.157 266.182 Q781.06 264.423 781.06 262.733 Q781.06 259.978 779.115 258.242 Q777.194 256.506 774.092 256.506 Q771.893 256.506 769.439 257.27 Q767.009 258.034 764.231 259.585 L764.231 254.862 Q767.055 253.728 769.509 253.149 Q771.962 252.571 774 252.571 Q779.37 252.571 782.564 255.256 Q785.759 257.941 785.759 262.432 Q785.759 264.561 784.949 266.483 Q784.161 268.381 782.055 270.973 Q781.476 271.645 778.374 274.862 Q775.273 278.057 769.625 283.821 Z\" fill=\"#000000\" fill-rule=\"evenodd\" fill-opacity=\"1\" /><path clip-path=\"url(#clip860)\" d=\"M805.759 256.274 Q802.148 256.274 800.319 259.839 Q798.513 263.381 798.513 270.51 Q798.513 277.617 800.319 281.182 Q802.148 284.723 805.759 284.723 Q809.393 284.723 811.198 281.182 Q813.027 277.617 813.027 270.51 Q813.027 263.381 811.198 259.839 Q809.393 256.274 805.759 256.274 M805.759 252.571 Q811.569 252.571 814.624 257.177 Q817.703 261.76 817.703 270.51 Q817.703 279.237 814.624 283.844 Q811.569 288.427 805.759 288.427 Q799.948 288.427 796.87 283.844 Q793.814 279.237 793.814 270.51 Q793.814 261.76 796.87 257.177 Q799.948 252.571 805.759 252.571 Z\" fill=\"#000000\" fill-rule=\"evenodd\" fill-opacity=\"1\" /><path clip-path=\"url(#clip860)\" d=\"M826.731 283.821 L834.37 283.821 L834.37 257.455 L826.059 259.122 L826.059 254.862 L834.323 253.196 L838.999 253.196 L838.999 283.821 L846.638 283.821 L846.638 287.756 L826.731 287.756 L826.731 283.821 Z\" fill=\"#000000\" fill-rule=\"evenodd\" fill-opacity=\"1\" /><path clip-path=\"url(#clip860)\" d=\"M860.11 283.821 L876.43 283.821 L876.43 287.756 L854.485 287.756 L854.485 283.821 Q857.147 281.066 861.731 276.436 Q866.337 271.784 867.518 270.441 Q869.763 267.918 870.643 266.182 Q871.545 264.423 871.545 262.733 Q871.545 259.978 869.601 258.242 Q867.68 256.506 864.578 256.506 Q862.379 256.506 859.925 257.27 Q857.494 258.034 854.717 259.585 L854.717 254.862 Q857.541 253.728 859.994 253.149 Q862.448 252.571 864.485 252.571 Q869.855 252.571 873.05 255.256 Q876.244 257.941 876.244 262.432 Q876.244 264.561 875.434 266.483 Q874.647 268.381 872.541 270.973 Q871.962 271.645 868.86 274.862 Q865.758 278.057 860.11 283.821 Z\" fill=\"#000000\" fill-rule=\"evenodd\" fill-opacity=\"1\" /></svg>\n"
      ]
     },
     "execution_count": 77,
     "metadata": {},
     "output_type": "execute_result"
    }
   ],
   "source": [
    "plot(1:11, dectempavg1922, label=\"dectempavg1922\", ylabel=\"Temperature (Fahrenheit)\", xlabel=\"Years (1922-1932, 2012-2022)\", title=\"Dec Average temp 1922 vs Dec Average temp 2012 \")\n",
    "plot!(1:11, dectempavg2012, label=\"dectempavg2012\")"
   ]
  },
  {
   "cell_type": "markdown",
   "id": "b5e74afd",
   "metadata": {},
   "source": [
    "# We will now move on to graphing Jan Min average Temperature 1922-1932 with  2012-2022."
   ]
  },
  {
   "cell_type": "code",
   "execution_count": 78,
   "id": "4402fc5e",
   "metadata": {},
   "outputs": [
    {
     "data": {
      "text/plain": [
       "11-element Vector{Any}:\n",
       "  5.65\n",
       " 11.2\n",
       " -3.25\n",
       "  9.9\n",
       " 14.95\n",
       "  7.75\n",
       " 17.3\n",
       " -2.95\n",
       "  9.0\n",
       " 17.8\n",
       " 22.5"
      ]
     },
     "execution_count": 78,
     "metadata": {},
     "output_type": "execute_result"
    }
   ],
   "source": [
    "#Jan 1922-1932  Min\n",
    "jantempmin1922=B[2:12,5]"
   ]
  },
  {
   "cell_type": "code",
   "execution_count": 79,
   "id": "1e1c4059",
   "metadata": {},
   "outputs": [
    {
     "data": {
      "text/plain": [
       "11-element Vector{Any}:\n",
       " 14.05\n",
       " 11.7\n",
       "  2.45\n",
       "  7.5\n",
       "  8.6\n",
       " 12.95\n",
       "  7.4\n",
       "  8.6\n",
       " 17.75\n",
       " 20.7\n",
       "  6.8"
      ]
     },
     "execution_count": 79,
     "metadata": {},
     "output_type": "execute_result"
    }
   ],
   "source": [
    "#Jan 2012-2022  Min\n",
    "jantempmin2012=C[2:12,5]"
   ]
  },
  {
   "cell_type": "code",
   "execution_count": 80,
   "id": "2c1a4fe0",
   "metadata": {},
   "outputs": [
    {
     "data": {
      "image/svg+xml": [
       "<?xml version=\"1.0\" encoding=\"utf-8\"?>\n",
       "<svg xmlns=\"http://www.w3.org/2000/svg\" xmlns:xlink=\"http://www.w3.org/1999/xlink\" width=\"600\" height=\"400\" viewBox=\"0 0 2400 1600\">\n",
       "<defs>\n",
       "  <clipPath id=\"clip900\">\n",
       "    <rect x=\"0\" y=\"0\" width=\"2400\" height=\"1600\"/>\n",
       "  </clipPath>\n",
       "</defs>\n",
       "<path clip-path=\"url(#clip900)\" d=\"\n",
       "M0 1600 L2400 1600 L2400 0 L0 0  Z\n",
       "  \" fill=\"#ffffff\" fill-rule=\"evenodd\" fill-opacity=\"1\"/>\n",
       "<defs>\n",
       "  <clipPath id=\"clip901\">\n",
       "    <rect x=\"480\" y=\"0\" width=\"1681\" height=\"1600\"/>\n",
       "  </clipPath>\n",
       "</defs>\n",
       "<path clip-path=\"url(#clip900)\" d=\"\n",
       "M203.964 1423.18 L2352.76 1423.18 L2352.76 123.472 L203.964 123.472  Z\n",
       "  \" fill=\"#ffffff\" fill-rule=\"evenodd\" fill-opacity=\"1\"/>\n",
       "<defs>\n",
       "  <clipPath id=\"clip902\">\n",
       "    <rect x=\"203\" y=\"123\" width=\"2150\" height=\"1301\"/>\n",
       "  </clipPath>\n",
       "</defs>\n",
       "<polyline clip-path=\"url(#clip902)\" style=\"stroke:#000000; stroke-linecap:round; stroke-linejoin:round; stroke-width:2; stroke-opacity:0.1; fill:none\" points=\"\n",
       "  467.495,1423.18 467.495,123.472 \n",
       "  \"/>\n",
       "<polyline clip-path=\"url(#clip902)\" style=\"stroke:#000000; stroke-linecap:round; stroke-linejoin:round; stroke-width:2; stroke-opacity:0.1; fill:none\" points=\"\n",
       "  872.927,1423.18 872.927,123.472 \n",
       "  \"/>\n",
       "<polyline clip-path=\"url(#clip902)\" style=\"stroke:#000000; stroke-linecap:round; stroke-linejoin:round; stroke-width:2; stroke-opacity:0.1; fill:none\" points=\"\n",
       "  1278.36,1423.18 1278.36,123.472 \n",
       "  \"/>\n",
       "<polyline clip-path=\"url(#clip902)\" style=\"stroke:#000000; stroke-linecap:round; stroke-linejoin:round; stroke-width:2; stroke-opacity:0.1; fill:none\" points=\"\n",
       "  1683.79,1423.18 1683.79,123.472 \n",
       "  \"/>\n",
       "<polyline clip-path=\"url(#clip902)\" style=\"stroke:#000000; stroke-linecap:round; stroke-linejoin:round; stroke-width:2; stroke-opacity:0.1; fill:none\" points=\"\n",
       "  2089.22,1423.18 2089.22,123.472 \n",
       "  \"/>\n",
       "<polyline clip-path=\"url(#clip900)\" style=\"stroke:#000000; stroke-linecap:round; stroke-linejoin:round; stroke-width:4; stroke-opacity:1; fill:none\" points=\"\n",
       "  203.964,1423.18 2352.76,1423.18 \n",
       "  \"/>\n",
       "<polyline clip-path=\"url(#clip900)\" style=\"stroke:#000000; stroke-linecap:round; stroke-linejoin:round; stroke-width:4; stroke-opacity:1; fill:none\" points=\"\n",
       "  467.495,1423.18 467.495,1404.28 \n",
       "  \"/>\n",
       "<polyline clip-path=\"url(#clip900)\" style=\"stroke:#000000; stroke-linecap:round; stroke-linejoin:round; stroke-width:4; stroke-opacity:1; fill:none\" points=\"\n",
       "  872.927,1423.18 872.927,1404.28 \n",
       "  \"/>\n",
       "<polyline clip-path=\"url(#clip900)\" style=\"stroke:#000000; stroke-linecap:round; stroke-linejoin:round; stroke-width:4; stroke-opacity:1; fill:none\" points=\"\n",
       "  1278.36,1423.18 1278.36,1404.28 \n",
       "  \"/>\n",
       "<polyline clip-path=\"url(#clip900)\" style=\"stroke:#000000; stroke-linecap:round; stroke-linejoin:round; stroke-width:4; stroke-opacity:1; fill:none\" points=\"\n",
       "  1683.79,1423.18 1683.79,1404.28 \n",
       "  \"/>\n",
       "<polyline clip-path=\"url(#clip900)\" style=\"stroke:#000000; stroke-linecap:round; stroke-linejoin:round; stroke-width:4; stroke-opacity:1; fill:none\" points=\"\n",
       "  2089.22,1423.18 2089.22,1404.28 \n",
       "  \"/>\n",
       "<path clip-path=\"url(#clip900)\" d=\"M462.148 1481.64 L478.467 1481.64 L478.467 1485.58 L456.523 1485.58 L456.523 1481.64 Q459.185 1478.89 463.768 1474.26 Q468.374 1469.61 469.555 1468.27 Q471.8 1465.74 472.68 1464.01 Q473.583 1462.25 473.583 1460.56 Q473.583 1457.8 471.638 1456.07 Q469.717 1454.33 466.615 1454.33 Q464.416 1454.33 461.962 1455.09 Q459.532 1455.86 456.754 1457.41 L456.754 1452.69 Q459.578 1451.55 462.032 1450.97 Q464.485 1450.39 466.522 1450.39 Q471.893 1450.39 475.087 1453.08 Q478.282 1455.77 478.282 1460.26 Q478.282 1462.39 477.472 1464.31 Q476.684 1466.2 474.578 1468.8 Q473.999 1469.47 470.897 1472.69 Q467.796 1475.88 462.148 1481.64 Z\" fill=\"#000000\" fill-rule=\"evenodd\" fill-opacity=\"1\" /><path clip-path=\"url(#clip900)\" d=\"M875.936 1455.09 L864.131 1473.54 L875.936 1473.54 L875.936 1455.09 M874.71 1451.02 L880.589 1451.02 L880.589 1473.54 L885.52 1473.54 L885.52 1477.43 L880.589 1477.43 L880.589 1485.58 L875.936 1485.58 L875.936 1477.43 L860.335 1477.43 L860.335 1472.92 L874.71 1451.02 Z\" fill=\"#000000\" fill-rule=\"evenodd\" fill-opacity=\"1\" /><path clip-path=\"url(#clip900)\" d=\"M1278.76 1466.44 Q1275.62 1466.44 1273.76 1468.59 Q1271.94 1470.74 1271.94 1474.49 Q1271.94 1478.22 1273.76 1480.39 Q1275.62 1482.55 1278.76 1482.55 Q1281.91 1482.55 1283.74 1480.39 Q1285.59 1478.22 1285.59 1474.49 Q1285.59 1470.74 1283.74 1468.59 Q1281.91 1466.44 1278.76 1466.44 M1288.05 1451.78 L1288.05 1456.04 Q1286.29 1455.21 1284.48 1454.77 Q1282.7 1454.33 1280.94 1454.33 Q1276.31 1454.33 1273.86 1457.45 Q1271.43 1460.58 1271.08 1466.9 Q1272.45 1464.89 1274.51 1463.82 Q1276.57 1462.73 1279.04 1462.73 Q1284.25 1462.73 1287.26 1465.9 Q1290.29 1469.05 1290.29 1474.49 Q1290.29 1479.82 1287.14 1483.03 Q1284 1486.25 1278.76 1486.25 Q1272.77 1486.25 1269.6 1481.67 Q1266.43 1477.06 1266.43 1468.33 Q1266.43 1460.14 1270.32 1455.28 Q1274.2 1450.39 1280.76 1450.39 Q1282.51 1450.39 1284.3 1450.74 Q1286.1 1451.09 1288.05 1451.78 Z\" fill=\"#000000\" fill-rule=\"evenodd\" fill-opacity=\"1\" /><path clip-path=\"url(#clip900)\" d=\"M1683.79 1469.17 Q1680.46 1469.17 1678.54 1470.95 Q1676.64 1472.73 1676.64 1475.86 Q1676.64 1478.98 1678.54 1480.77 Q1680.46 1482.55 1683.79 1482.55 Q1687.13 1482.55 1689.05 1480.77 Q1690.97 1478.96 1690.97 1475.86 Q1690.97 1472.73 1689.05 1470.95 Q1687.15 1469.17 1683.79 1469.17 M1679.12 1467.18 Q1676.11 1466.44 1674.42 1464.38 Q1672.75 1462.32 1672.75 1459.35 Q1672.75 1455.21 1675.69 1452.8 Q1678.65 1450.39 1683.79 1450.39 Q1688.95 1450.39 1691.89 1452.8 Q1694.83 1455.21 1694.83 1459.35 Q1694.83 1462.32 1693.14 1464.38 Q1691.48 1466.44 1688.49 1467.18 Q1691.87 1467.96 1693.75 1470.26 Q1695.64 1472.55 1695.64 1475.86 Q1695.64 1480.88 1692.57 1483.57 Q1689.51 1486.25 1683.79 1486.25 Q1678.07 1486.25 1675 1483.57 Q1671.94 1480.88 1671.94 1475.86 Q1671.94 1472.55 1673.84 1470.26 Q1675.74 1467.96 1679.12 1467.18 M1677.4 1459.79 Q1677.4 1462.48 1679.07 1463.98 Q1680.76 1465.49 1683.79 1465.49 Q1686.8 1465.49 1688.49 1463.98 Q1690.2 1462.48 1690.2 1459.79 Q1690.2 1457.11 1688.49 1455.6 Q1686.8 1454.1 1683.79 1454.1 Q1680.76 1454.1 1679.07 1455.6 Q1677.4 1457.11 1677.4 1459.79 Z\" fill=\"#000000\" fill-rule=\"evenodd\" fill-opacity=\"1\" /><path clip-path=\"url(#clip900)\" d=\"M2063.91 1481.64 L2071.55 1481.64 L2071.55 1455.28 L2063.24 1456.95 L2063.24 1452.69 L2071.5 1451.02 L2076.18 1451.02 L2076.18 1481.64 L2083.82 1481.64 L2083.82 1485.58 L2063.91 1485.58 L2063.91 1481.64 Z\" fill=\"#000000\" fill-rule=\"evenodd\" fill-opacity=\"1\" /><path clip-path=\"url(#clip900)\" d=\"M2103.26 1454.1 Q2099.65 1454.1 2097.82 1457.66 Q2096.02 1461.2 2096.02 1468.33 Q2096.02 1475.44 2097.82 1479.01 Q2099.65 1482.55 2103.26 1482.55 Q2106.9 1482.55 2108.7 1479.01 Q2110.53 1475.44 2110.53 1468.33 Q2110.53 1461.2 2108.7 1457.66 Q2106.9 1454.1 2103.26 1454.1 M2103.26 1450.39 Q2109.07 1450.39 2112.13 1455 Q2115.21 1459.58 2115.21 1468.33 Q2115.21 1477.06 2112.13 1481.67 Q2109.07 1486.25 2103.26 1486.25 Q2097.45 1486.25 2094.38 1481.67 Q2091.32 1477.06 2091.32 1468.33 Q2091.32 1459.58 2094.38 1455 Q2097.45 1450.39 2103.26 1450.39 Z\" fill=\"#000000\" fill-rule=\"evenodd\" fill-opacity=\"1\" /><path clip-path=\"url(#clip900)\" d=\"M783.299 1520.52 L790.206 1520.52 L803.383 1540.07 L816.464 1520.52 L823.371 1520.52 L806.565 1545.41 L806.565 1568.04 L800.104 1568.04 L800.104 1545.41 L783.299 1520.52 Z\" fill=\"#000000\" fill-rule=\"evenodd\" fill-opacity=\"1\" /><path clip-path=\"url(#clip900)\" d=\"M851.221 1548.76 L851.221 1551.62 L824.294 1551.62 Q824.676 1557.67 827.922 1560.85 Q831.201 1564 837.025 1564 Q840.399 1564 843.55 1563.17 Q846.733 1562.35 849.852 1560.69 L849.852 1566.23 Q846.701 1567.57 843.391 1568.27 Q840.081 1568.97 836.675 1568.97 Q828.145 1568.97 823.148 1564 Q818.183 1559.04 818.183 1550.57 Q818.183 1541.82 822.893 1536.69 Q827.636 1531.54 835.657 1531.54 Q842.85 1531.54 847.019 1536.18 Q851.221 1540.8 851.221 1548.76 M845.364 1547.04 Q845.301 1542.23 842.659 1539.37 Q840.049 1536.5 835.72 1536.5 Q830.819 1536.5 827.859 1539.27 Q824.93 1542.04 824.485 1547.07 L845.364 1547.04 Z\" fill=\"#000000\" fill-rule=\"evenodd\" fill-opacity=\"1\" /><path clip-path=\"url(#clip900)\" d=\"M877.034 1550.12 Q869.936 1550.12 867.199 1551.75 Q864.461 1553.37 864.461 1557.29 Q864.461 1560.4 866.499 1562.25 Q868.567 1564.07 872.1 1564.07 Q876.97 1564.07 879.898 1560.63 Q882.858 1557.16 882.858 1551.43 L882.858 1550.12 L877.034 1550.12 M888.715 1547.71 L888.715 1568.04 L882.858 1568.04 L882.858 1562.63 Q880.853 1565.88 877.861 1567.44 Q874.869 1568.97 870.541 1568.97 Q865.066 1568.97 861.82 1565.91 Q858.605 1562.82 858.605 1557.67 Q858.605 1551.65 862.615 1548.6 Q866.658 1545.54 874.647 1545.54 L882.858 1545.54 L882.858 1544.97 Q882.858 1540.93 880.185 1538.73 Q877.543 1536.5 872.737 1536.5 Q869.681 1536.5 866.785 1537.23 Q863.889 1537.97 861.215 1539.43 L861.215 1534.02 Q864.43 1532.78 867.453 1532.17 Q870.477 1531.54 873.342 1531.54 Q881.076 1531.54 884.895 1535.55 Q888.715 1539.56 888.715 1547.71 Z\" fill=\"#000000\" fill-rule=\"evenodd\" fill-opacity=\"1\" /><path clip-path=\"url(#clip900)\" d=\"M921.435 1537.87 Q920.448 1537.3 919.27 1537.04 Q918.124 1536.76 916.724 1536.76 Q911.759 1536.76 909.085 1540 Q906.443 1543.22 906.443 1549.27 L906.443 1568.04 L900.555 1568.04 L900.555 1532.4 L906.443 1532.4 L906.443 1537.93 Q908.289 1534.69 911.249 1533.13 Q914.209 1531.54 918.443 1531.54 Q919.047 1531.54 919.779 1531.63 Q920.512 1531.7 921.403 1531.85 L921.435 1537.87 Z\" fill=\"#000000\" fill-rule=\"evenodd\" fill-opacity=\"1\" /><path clip-path=\"url(#clip900)\" d=\"M950.303 1533.45 L950.303 1538.98 Q947.82 1537.71 945.147 1537.07 Q942.473 1536.44 939.609 1536.44 Q935.248 1536.44 933.052 1537.77 Q930.888 1539.11 930.888 1541.79 Q930.888 1543.82 932.447 1545 Q934.007 1546.15 938.717 1547.2 L940.723 1547.64 Q946.961 1548.98 949.571 1551.43 Q952.213 1553.85 952.213 1558.21 Q952.213 1563.17 948.266 1566.07 Q944.351 1568.97 937.476 1568.97 Q934.612 1568.97 931.492 1568.39 Q928.405 1567.85 924.968 1566.74 L924.968 1560.69 Q928.214 1562.38 931.365 1563.24 Q934.516 1564.07 937.603 1564.07 Q941.741 1564.07 943.969 1562.66 Q946.197 1561.23 946.197 1558.65 Q946.197 1556.27 944.574 1554.99 Q942.982 1553.72 937.54 1552.54 L935.503 1552.07 Q930.06 1550.92 927.641 1548.56 Q925.222 1546.18 925.222 1542.04 Q925.222 1537.01 928.787 1534.27 Q932.352 1531.54 938.908 1531.54 Q942.155 1531.54 945.02 1532.01 Q947.884 1532.49 950.303 1533.45 Z\" fill=\"#000000\" fill-rule=\"evenodd\" fill-opacity=\"1\" /><path clip-path=\"url(#clip900)\" d=\"M996.327 1518.58 Q992.062 1525.9 989.993 1533.06 Q987.924 1540.23 987.924 1547.58 Q987.924 1554.93 989.993 1562.16 Q992.094 1569.35 996.327 1576.64 L991.235 1576.64 Q986.46 1569.16 984.073 1561.93 Q981.718 1554.71 981.718 1547.58 Q981.718 1540.48 984.073 1533.29 Q986.428 1526.09 991.235 1518.58 L996.327 1518.58 Z\" fill=\"#000000\" fill-rule=\"evenodd\" fill-opacity=\"1\" /><path clip-path=\"url(#clip900)\" d=\"M1009.63 1562.63 L1020.13 1562.63 L1020.13 1526.38 L1008.71 1528.67 L1008.71 1522.82 L1020.07 1520.52 L1026.5 1520.52 L1026.5 1562.63 L1037 1562.63 L1037 1568.04 L1009.63 1568.04 L1009.63 1562.63 Z\" fill=\"#000000\" fill-rule=\"evenodd\" fill-opacity=\"1\" /><path clip-path=\"url(#clip900)\" d=\"M1050.18 1567.06 L1050.18 1561.2 Q1052.6 1562.35 1055.08 1562.95 Q1057.57 1563.56 1059.95 1563.56 Q1066.32 1563.56 1069.66 1559.29 Q1073.03 1554.99 1073.51 1546.27 Q1071.67 1549.01 1068.83 1550.47 Q1066 1551.94 1062.56 1551.94 Q1055.43 1551.94 1051.26 1547.64 Q1047.13 1543.31 1047.13 1535.83 Q1047.13 1528.51 1051.45 1524.09 Q1055.78 1519.66 1062.98 1519.66 Q1071.22 1519.66 1075.55 1526 Q1079.91 1532.3 1079.91 1544.33 Q1079.91 1555.57 1074.56 1562.28 Q1069.25 1568.97 1060.24 1568.97 Q1057.82 1568.97 1055.34 1568.49 Q1052.85 1568.01 1050.18 1567.06 M1062.98 1546.91 Q1067.3 1546.91 1069.82 1543.95 Q1072.37 1540.99 1072.37 1535.83 Q1072.37 1530.71 1069.82 1527.75 Q1067.3 1524.76 1062.98 1524.76 Q1058.65 1524.76 1056.1 1527.75 Q1053.59 1530.71 1053.59 1535.83 Q1053.59 1540.99 1056.1 1543.95 Q1058.65 1546.91 1062.98 1546.91 Z\" fill=\"#000000\" fill-rule=\"evenodd\" fill-opacity=\"1\" /><path clip-path=\"url(#clip900)\" d=\"M1097 1562.63 L1119.44 1562.63 L1119.44 1568.04 L1089.27 1568.04 L1089.27 1562.63 Q1092.93 1558.85 1099.23 1552.48 Q1105.56 1546.08 1107.19 1544.24 Q1110.27 1540.77 1111.48 1538.38 Q1112.72 1535.96 1112.72 1533.64 Q1112.72 1529.85 1110.05 1527.46 Q1107.41 1525.08 1103.14 1525.08 Q1100.12 1525.08 1096.75 1526.13 Q1093.4 1527.18 1089.58 1529.31 L1089.58 1522.82 Q1093.47 1521.26 1096.84 1520.46 Q1100.22 1519.66 1103.02 1519.66 Q1110.4 1519.66 1114.79 1523.36 Q1119.19 1527.05 1119.19 1533.22 Q1119.19 1536.15 1118.07 1538.79 Q1116.99 1541.4 1114.09 1544.97 Q1113.3 1545.89 1109.03 1550.32 Q1104.77 1554.71 1097 1562.63 Z\" fill=\"#000000\" fill-rule=\"evenodd\" fill-opacity=\"1\" /><path clip-path=\"url(#clip900)\" d=\"M1138.47 1562.63 L1160.91 1562.63 L1160.91 1568.04 L1130.74 1568.04 L1130.74 1562.63 Q1134.4 1558.85 1140.7 1552.48 Q1147.04 1546.08 1148.66 1544.24 Q1151.75 1540.77 1152.96 1538.38 Q1154.2 1535.96 1154.2 1533.64 Q1154.2 1529.85 1151.52 1527.46 Q1148.88 1525.08 1144.62 1525.08 Q1141.59 1525.08 1138.22 1526.13 Q1134.88 1527.18 1131.06 1529.31 L1131.06 1522.82 Q1134.94 1521.26 1138.31 1520.46 Q1141.69 1519.66 1144.49 1519.66 Q1151.87 1519.66 1156.27 1523.36 Q1160.66 1527.05 1160.66 1533.22 Q1160.66 1536.15 1159.54 1538.79 Q1158.46 1541.4 1155.57 1544.97 Q1154.77 1545.89 1150.5 1550.32 Q1146.24 1554.71 1138.47 1562.63 Z\" fill=\"#000000\" fill-rule=\"evenodd\" fill-opacity=\"1\" /><path clip-path=\"url(#clip900)\" d=\"M1170.62 1547.58 L1187.78 1547.58 L1187.78 1552.8 L1170.62 1552.8 L1170.62 1547.58 Z\" fill=\"#000000\" fill-rule=\"evenodd\" fill-opacity=\"1\" /><path clip-path=\"url(#clip900)\" d=\"M1199.04 1562.63 L1209.55 1562.63 L1209.55 1526.38 L1198.12 1528.67 L1198.12 1522.82 L1209.48 1520.52 L1215.91 1520.52 L1215.91 1562.63 L1226.42 1562.63 L1226.42 1568.04 L1199.04 1568.04 L1199.04 1562.63 Z\" fill=\"#000000\" fill-rule=\"evenodd\" fill-opacity=\"1\" /><path clip-path=\"url(#clip900)\" d=\"M1239.59 1567.06 L1239.59 1561.2 Q1242.01 1562.35 1244.49 1562.95 Q1246.98 1563.56 1249.36 1563.56 Q1255.73 1563.56 1259.07 1559.29 Q1262.45 1554.99 1262.92 1546.27 Q1261.08 1549.01 1258.24 1550.47 Q1255.41 1551.94 1251.97 1551.94 Q1244.84 1551.94 1240.67 1547.64 Q1236.54 1543.31 1236.54 1535.83 Q1236.54 1528.51 1240.87 1524.09 Q1245.19 1519.66 1252.39 1519.66 Q1260.63 1519.66 1264.96 1526 Q1269.32 1532.3 1269.32 1544.33 Q1269.32 1555.57 1263.97 1562.28 Q1258.66 1568.97 1249.65 1568.97 Q1247.23 1568.97 1244.75 1568.49 Q1242.27 1568.01 1239.59 1567.06 M1252.39 1546.91 Q1256.72 1546.91 1259.23 1543.95 Q1261.78 1540.99 1261.78 1535.83 Q1261.78 1530.71 1259.23 1527.75 Q1256.72 1524.76 1252.39 1524.76 Q1248.06 1524.76 1245.51 1527.75 Q1243 1530.71 1243 1535.83 Q1243 1540.99 1245.51 1543.95 Q1248.06 1546.91 1252.39 1546.91 Z\" fill=\"#000000\" fill-rule=\"evenodd\" fill-opacity=\"1\" /><path clip-path=\"url(#clip900)\" d=\"M1300.35 1542.42 Q1304.97 1543.41 1307.55 1546.53 Q1310.16 1549.65 1310.16 1554.23 Q1310.16 1561.26 1305.32 1565.12 Q1300.48 1568.97 1291.57 1568.97 Q1288.58 1568.97 1285.39 1568.36 Q1282.24 1567.79 1278.87 1566.61 L1278.87 1560.4 Q1281.54 1561.96 1284.73 1562.76 Q1287.91 1563.56 1291.38 1563.56 Q1297.43 1563.56 1300.58 1561.17 Q1303.76 1558.78 1303.76 1554.23 Q1303.76 1550.03 1300.8 1547.67 Q1297.87 1545.29 1292.62 1545.29 L1287.08 1545.29 L1287.08 1540 L1292.87 1540 Q1297.62 1540 1300.13 1538.13 Q1302.64 1536.22 1302.64 1532.65 Q1302.64 1528.99 1300.03 1527.05 Q1297.46 1525.08 1292.62 1525.08 Q1289.98 1525.08 1286.95 1525.65 Q1283.93 1526.22 1280.3 1527.43 L1280.3 1521.7 Q1283.96 1520.68 1287.14 1520.17 Q1290.36 1519.66 1293.19 1519.66 Q1300.51 1519.66 1304.78 1523.01 Q1309.04 1526.32 1309.04 1531.98 Q1309.04 1535.93 1306.78 1538.67 Q1304.52 1541.37 1300.35 1542.42 Z\" fill=\"#000000\" fill-rule=\"evenodd\" fill-opacity=\"1\" /><path clip-path=\"url(#clip900)\" d=\"M1327.88 1562.63 L1350.32 1562.63 L1350.32 1568.04 L1320.15 1568.04 L1320.15 1562.63 Q1323.81 1558.85 1330.11 1552.48 Q1336.45 1546.08 1338.07 1544.24 Q1341.16 1540.77 1342.37 1538.38 Q1343.61 1535.96 1343.61 1533.64 Q1343.61 1529.85 1340.93 1527.46 Q1338.29 1525.08 1334.03 1525.08 Q1331 1525.08 1327.63 1526.13 Q1324.29 1527.18 1320.47 1529.31 L1320.47 1522.82 Q1324.35 1521.26 1327.73 1520.46 Q1331.1 1519.66 1333.9 1519.66 Q1341.28 1519.66 1345.68 1523.36 Q1350.07 1527.05 1350.07 1533.22 Q1350.07 1536.15 1348.96 1538.79 Q1347.87 1541.4 1344.98 1544.97 Q1344.18 1545.89 1339.92 1550.32 Q1335.65 1554.71 1327.88 1562.63 Z\" fill=\"#000000\" fill-rule=\"evenodd\" fill-opacity=\"1\" /><path clip-path=\"url(#clip900)\" d=\"M1364.49 1559.96 L1371.2 1559.96 L1371.2 1565.43 L1365.98 1575.62 L1361.88 1575.62 L1364.49 1565.43 L1364.49 1559.96 Z\" fill=\"#000000\" fill-rule=\"evenodd\" fill-opacity=\"1\" /><path clip-path=\"url(#clip900)\" d=\"M1410.8 1562.63 L1433.24 1562.63 L1433.24 1568.04 L1403.06 1568.04 L1403.06 1562.63 Q1406.72 1558.85 1413.03 1552.48 Q1419.36 1546.08 1420.98 1544.24 Q1424.07 1540.77 1425.28 1538.38 Q1426.52 1535.96 1426.52 1533.64 Q1426.52 1529.85 1423.85 1527.46 Q1421.21 1525.08 1416.94 1525.08 Q1413.92 1525.08 1410.54 1526.13 Q1407.2 1527.18 1403.38 1529.31 L1403.38 1522.82 Q1407.27 1521.26 1410.64 1520.46 Q1414.01 1519.66 1416.81 1519.66 Q1424.2 1519.66 1428.59 1523.36 Q1432.98 1527.05 1432.98 1533.22 Q1432.98 1536.15 1431.87 1538.79 Q1430.79 1541.4 1427.89 1544.97 Q1427.09 1545.89 1422.83 1550.32 Q1418.56 1554.71 1410.8 1562.63 Z\" fill=\"#000000\" fill-rule=\"evenodd\" fill-opacity=\"1\" /><path clip-path=\"url(#clip900)\" d=\"M1460.48 1524.76 Q1455.52 1524.76 1453 1529.66 Q1450.52 1534.53 1450.52 1544.33 Q1450.52 1554.1 1453 1559 Q1455.52 1563.87 1460.48 1563.87 Q1465.48 1563.87 1467.96 1559 Q1470.48 1554.1 1470.48 1544.33 Q1470.48 1534.53 1467.96 1529.66 Q1465.48 1524.76 1460.48 1524.76 M1460.48 1519.66 Q1468.47 1519.66 1472.67 1526 Q1476.91 1532.3 1476.91 1544.33 Q1476.91 1556.33 1472.67 1562.66 Q1468.47 1568.97 1460.48 1568.97 Q1452.49 1568.97 1448.26 1562.66 Q1444.06 1556.33 1444.06 1544.33 Q1444.06 1532.3 1448.26 1526 Q1452.49 1519.66 1460.48 1519.66 Z\" fill=\"#000000\" fill-rule=\"evenodd\" fill-opacity=\"1\" /><path clip-path=\"url(#clip900)\" d=\"M1489.32 1562.63 L1499.82 1562.63 L1499.82 1526.38 L1488.4 1528.67 L1488.4 1522.82 L1499.76 1520.52 L1506.19 1520.52 L1506.19 1562.63 L1516.69 1562.63 L1516.69 1568.04 L1489.32 1568.04 L1489.32 1562.63 Z\" fill=\"#000000\" fill-rule=\"evenodd\" fill-opacity=\"1\" /><path clip-path=\"url(#clip900)\" d=\"M1535.22 1562.63 L1557.66 1562.63 L1557.66 1568.04 L1527.48 1568.04 L1527.48 1562.63 Q1531.14 1558.85 1537.44 1552.48 Q1543.78 1546.08 1545.4 1544.24 Q1548.49 1540.77 1549.7 1538.38 Q1550.94 1535.96 1550.94 1533.64 Q1550.94 1529.85 1548.27 1527.46 Q1545.62 1525.08 1541.36 1525.08 Q1538.34 1525.08 1534.96 1526.13 Q1531.62 1527.18 1527.8 1529.31 L1527.8 1522.82 Q1531.68 1521.26 1535.06 1520.46 Q1538.43 1519.66 1541.23 1519.66 Q1548.62 1519.66 1553.01 1523.36 Q1557.4 1527.05 1557.4 1533.22 Q1557.4 1536.15 1556.29 1538.79 Q1555.2 1541.4 1552.31 1544.97 Q1551.51 1545.89 1547.25 1550.32 Q1542.98 1554.71 1535.22 1562.63 Z\" fill=\"#000000\" fill-rule=\"evenodd\" fill-opacity=\"1\" /><path clip-path=\"url(#clip900)\" d=\"M1567.36 1547.58 L1584.52 1547.58 L1584.52 1552.8 L1567.36 1552.8 L1567.36 1547.58 Z\" fill=\"#000000\" fill-rule=\"evenodd\" fill-opacity=\"1\" /><path clip-path=\"url(#clip900)\" d=\"M1600.21 1562.63 L1622.65 1562.63 L1622.65 1568.04 L1592.48 1568.04 L1592.48 1562.63 Q1596.14 1558.85 1602.44 1552.48 Q1608.77 1546.08 1610.39 1544.24 Q1613.48 1540.77 1614.69 1538.38 Q1615.93 1535.96 1615.93 1533.64 Q1615.93 1529.85 1613.26 1527.46 Q1610.62 1525.08 1606.35 1525.08 Q1603.33 1525.08 1599.96 1526.13 Q1596.61 1527.18 1592.79 1529.31 L1592.79 1522.82 Q1596.68 1521.26 1600.05 1520.46 Q1603.42 1519.66 1606.23 1519.66 Q1613.61 1519.66 1618 1523.36 Q1622.39 1527.05 1622.39 1533.22 Q1622.39 1536.15 1621.28 1538.79 Q1620.2 1541.4 1617.3 1544.97 Q1616.51 1545.89 1612.24 1550.32 Q1607.98 1554.71 1600.21 1562.63 Z\" fill=\"#000000\" fill-rule=\"evenodd\" fill-opacity=\"1\" /><path clip-path=\"url(#clip900)\" d=\"M1649.89 1524.76 Q1644.93 1524.76 1642.41 1529.66 Q1639.93 1534.53 1639.93 1544.33 Q1639.93 1554.1 1642.41 1559 Q1644.93 1563.87 1649.89 1563.87 Q1654.89 1563.87 1657.37 1559 Q1659.89 1554.1 1659.89 1544.33 Q1659.89 1534.53 1657.37 1529.66 Q1654.89 1524.76 1649.89 1524.76 M1649.89 1519.66 Q1657.88 1519.66 1662.08 1526 Q1666.32 1532.3 1666.32 1544.33 Q1666.32 1556.33 1662.08 1562.66 Q1657.88 1568.97 1649.89 1568.97 Q1641.91 1568.97 1637.67 1562.66 Q1633.47 1556.33 1633.47 1544.33 Q1633.47 1532.3 1637.67 1526 Q1641.91 1519.66 1649.89 1519.66 Z\" fill=\"#000000\" fill-rule=\"evenodd\" fill-opacity=\"1\" /><path clip-path=\"url(#clip900)\" d=\"M1683.16 1562.63 L1705.59 1562.63 L1705.59 1568.04 L1675.42 1568.04 L1675.42 1562.63 Q1679.08 1558.85 1685.38 1552.48 Q1691.72 1546.08 1693.34 1544.24 Q1696.43 1540.77 1697.64 1538.38 Q1698.88 1535.96 1698.88 1533.64 Q1698.88 1529.85 1696.2 1527.46 Q1693.56 1525.08 1689.3 1525.08 Q1686.27 1525.08 1682.9 1526.13 Q1679.56 1527.18 1675.74 1529.31 L1675.74 1522.82 Q1679.62 1521.26 1683 1520.46 Q1686.37 1519.66 1689.17 1519.66 Q1696.55 1519.66 1700.95 1523.36 Q1705.34 1527.05 1705.34 1533.22 Q1705.34 1536.15 1704.23 1538.79 Q1703.14 1541.4 1700.25 1544.97 Q1699.45 1545.89 1695.19 1550.32 Q1690.92 1554.71 1683.16 1562.63 Z\" fill=\"#000000\" fill-rule=\"evenodd\" fill-opacity=\"1\" /><path clip-path=\"url(#clip900)\" d=\"M1724.63 1562.63 L1747.07 1562.63 L1747.07 1568.04 L1716.89 1568.04 L1716.89 1562.63 Q1720.55 1558.85 1726.86 1552.48 Q1733.19 1546.08 1734.81 1544.24 Q1737.9 1540.77 1739.11 1538.38 Q1740.35 1535.96 1740.35 1533.64 Q1740.35 1529.85 1737.68 1527.46 Q1735.04 1525.08 1730.77 1525.08 Q1727.75 1525.08 1724.37 1526.13 Q1721.03 1527.18 1717.21 1529.31 L1717.21 1522.82 Q1721.09 1521.26 1724.47 1520.46 Q1727.84 1519.66 1730.64 1519.66 Q1738.03 1519.66 1742.42 1523.36 Q1746.81 1527.05 1746.81 1533.22 Q1746.81 1536.15 1745.7 1538.79 Q1744.62 1541.4 1741.72 1544.97 Q1740.92 1545.89 1736.66 1550.32 Q1732.39 1554.71 1724.63 1562.63 Z\" fill=\"#000000\" fill-rule=\"evenodd\" fill-opacity=\"1\" /><path clip-path=\"url(#clip900)\" d=\"M1758.81 1518.58 L1763.9 1518.58 Q1768.68 1526.09 1771.03 1533.29 Q1773.42 1540.48 1773.42 1547.58 Q1773.42 1554.71 1771.03 1561.93 Q1768.68 1569.16 1763.9 1576.64 L1758.81 1576.64 Q1763.04 1569.35 1765.11 1562.16 Q1767.21 1554.93 1767.21 1547.58 Q1767.21 1540.23 1765.11 1533.06 Q1763.04 1525.9 1758.81 1518.58 Z\" fill=\"#000000\" fill-rule=\"evenodd\" fill-opacity=\"1\" /><polyline clip-path=\"url(#clip902)\" style=\"stroke:#000000; stroke-linecap:round; stroke-linejoin:round; stroke-width:2; stroke-opacity:0.1; fill:none\" points=\"\n",
       "  203.964,1231.64 2352.76,1231.64 \n",
       "  \"/>\n",
       "<polyline clip-path=\"url(#clip902)\" style=\"stroke:#000000; stroke-linecap:round; stroke-linejoin:round; stroke-width:2; stroke-opacity:0.1; fill:none\" points=\"\n",
       "  203.964,993.555 2352.76,993.555 \n",
       "  \"/>\n",
       "<polyline clip-path=\"url(#clip902)\" style=\"stroke:#000000; stroke-linecap:round; stroke-linejoin:round; stroke-width:2; stroke-opacity:0.1; fill:none\" points=\"\n",
       "  203.964,755.47 2352.76,755.47 \n",
       "  \"/>\n",
       "<polyline clip-path=\"url(#clip902)\" style=\"stroke:#000000; stroke-linecap:round; stroke-linejoin:round; stroke-width:2; stroke-opacity:0.1; fill:none\" points=\"\n",
       "  203.964,517.384 2352.76,517.384 \n",
       "  \"/>\n",
       "<polyline clip-path=\"url(#clip902)\" style=\"stroke:#000000; stroke-linecap:round; stroke-linejoin:round; stroke-width:2; stroke-opacity:0.1; fill:none\" points=\"\n",
       "  203.964,279.299 2352.76,279.299 \n",
       "  \"/>\n",
       "<polyline clip-path=\"url(#clip900)\" style=\"stroke:#000000; stroke-linecap:round; stroke-linejoin:round; stroke-width:4; stroke-opacity:1; fill:none\" points=\"\n",
       "  203.964,1423.18 203.964,123.472 \n",
       "  \"/>\n",
       "<polyline clip-path=\"url(#clip900)\" style=\"stroke:#000000; stroke-linecap:round; stroke-linejoin:round; stroke-width:4; stroke-opacity:1; fill:none\" points=\"\n",
       "  203.964,1231.64 222.861,1231.64 \n",
       "  \"/>\n",
       "<polyline clip-path=\"url(#clip900)\" style=\"stroke:#000000; stroke-linecap:round; stroke-linejoin:round; stroke-width:4; stroke-opacity:1; fill:none\" points=\"\n",
       "  203.964,993.555 222.861,993.555 \n",
       "  \"/>\n",
       "<polyline clip-path=\"url(#clip900)\" style=\"stroke:#000000; stroke-linecap:round; stroke-linejoin:round; stroke-width:4; stroke-opacity:1; fill:none\" points=\"\n",
       "  203.964,755.47 222.861,755.47 \n",
       "  \"/>\n",
       "<polyline clip-path=\"url(#clip900)\" style=\"stroke:#000000; stroke-linecap:round; stroke-linejoin:round; stroke-width:4; stroke-opacity:1; fill:none\" points=\"\n",
       "  203.964,517.384 222.861,517.384 \n",
       "  \"/>\n",
       "<polyline clip-path=\"url(#clip900)\" style=\"stroke:#000000; stroke-linecap:round; stroke-linejoin:round; stroke-width:4; stroke-opacity:1; fill:none\" points=\"\n",
       "  203.964,279.299 222.861,279.299 \n",
       "  \"/>\n",
       "<path clip-path=\"url(#clip900)\" d=\"M156.019 1217.44 Q152.408 1217.44 150.579 1221 Q148.774 1224.55 148.774 1231.67 Q148.774 1238.78 150.579 1242.35 Q152.408 1245.89 156.019 1245.89 Q159.653 1245.89 161.459 1242.35 Q163.288 1238.78 163.288 1231.67 Q163.288 1224.55 161.459 1221 Q159.653 1217.44 156.019 1217.44 M156.019 1213.74 Q161.829 1213.74 164.885 1218.34 Q167.964 1222.92 167.964 1231.67 Q167.964 1240.4 164.885 1245.01 Q161.829 1249.59 156.019 1249.59 Q150.209 1249.59 147.13 1245.01 Q144.075 1240.4 144.075 1231.67 Q144.075 1222.92 147.13 1218.34 Q150.209 1213.74 156.019 1213.74 Z\" fill=\"#000000\" fill-rule=\"evenodd\" fill-opacity=\"1\" /><path clip-path=\"url(#clip900)\" d=\"M147.061 976.275 L165.417 976.275 L165.417 980.21 L151.343 980.21 L151.343 988.682 Q152.362 988.335 153.38 988.173 Q154.399 987.988 155.417 987.988 Q161.204 987.988 164.584 991.159 Q167.964 994.33 167.964 999.747 Q167.964 1005.33 164.491 1008.43 Q161.019 1011.51 154.7 1011.51 Q152.524 1011.51 150.255 1011.14 Q148.01 1010.77 145.603 1010.02 L145.603 1005.33 Q147.686 1006.46 149.908 1007.02 Q152.13 1007.57 154.607 1007.57 Q158.612 1007.57 160.95 1005.46 Q163.288 1003.36 163.288 999.747 Q163.288 996.136 160.95 994.029 Q158.612 991.923 154.607 991.923 Q152.732 991.923 150.857 992.34 Q149.005 992.756 147.061 993.636 L147.061 976.275 Z\" fill=\"#000000\" fill-rule=\"evenodd\" fill-opacity=\"1\" /><path clip-path=\"url(#clip900)\" d=\"M116.668 768.814 L124.306 768.814 L124.306 742.449 L115.996 744.115 L115.996 739.856 L124.26 738.19 L128.936 738.19 L128.936 768.814 L136.575 768.814 L136.575 772.75 L116.668 772.75 L116.668 768.814 Z\" fill=\"#000000\" fill-rule=\"evenodd\" fill-opacity=\"1\" /><path clip-path=\"url(#clip900)\" d=\"M156.019 741.268 Q152.408 741.268 150.579 744.833 Q148.774 748.375 148.774 755.504 Q148.774 762.611 150.579 766.176 Q152.408 769.717 156.019 769.717 Q159.653 769.717 161.459 766.176 Q163.288 762.611 163.288 755.504 Q163.288 748.375 161.459 744.833 Q159.653 741.268 156.019 741.268 M156.019 737.565 Q161.829 737.565 164.885 742.171 Q167.964 746.754 167.964 755.504 Q167.964 764.231 164.885 768.838 Q161.829 773.421 156.019 773.421 Q150.209 773.421 147.13 768.838 Q144.075 764.231 144.075 755.504 Q144.075 746.754 147.13 742.171 Q150.209 737.565 156.019 737.565 Z\" fill=\"#000000\" fill-rule=\"evenodd\" fill-opacity=\"1\" /><path clip-path=\"url(#clip900)\" d=\"M117.663 530.729 L125.302 530.729 L125.302 504.364 L116.992 506.03 L116.992 501.771 L125.255 500.104 L129.931 500.104 L129.931 530.729 L137.57 530.729 L137.57 534.664 L117.663 534.664 L117.663 530.729 Z\" fill=\"#000000\" fill-rule=\"evenodd\" fill-opacity=\"1\" /><path clip-path=\"url(#clip900)\" d=\"M147.061 500.104 L165.417 500.104 L165.417 504.039 L151.343 504.039 L151.343 512.512 Q152.362 512.164 153.38 512.002 Q154.399 511.817 155.417 511.817 Q161.204 511.817 164.584 514.988 Q167.964 518.16 167.964 523.576 Q167.964 529.155 164.491 532.257 Q161.019 535.336 154.7 535.336 Q152.524 535.336 150.255 534.965 Q148.01 534.595 145.603 533.854 L145.603 529.155 Q147.686 530.289 149.908 530.845 Q152.13 531.4 154.607 531.4 Q158.612 531.4 160.95 529.294 Q163.288 527.187 163.288 523.576 Q163.288 519.965 160.95 517.859 Q158.612 515.752 154.607 515.752 Q152.732 515.752 150.857 516.169 Q149.005 516.586 147.061 517.465 L147.061 500.104 Z\" fill=\"#000000\" fill-rule=\"evenodd\" fill-opacity=\"1\" /><path clip-path=\"url(#clip900)\" d=\"M119.885 292.644 L136.204 292.644 L136.204 296.579 L114.26 296.579 L114.26 292.644 Q116.922 289.889 121.505 285.26 Q126.112 280.607 127.292 279.264 Q129.538 276.741 130.417 275.005 Q131.32 273.246 131.32 271.556 Q131.32 268.801 129.376 267.065 Q127.455 265.329 124.353 265.329 Q122.154 265.329 119.7 266.093 Q117.269 266.857 114.492 268.408 L114.492 263.686 Q117.316 262.551 119.769 261.973 Q122.223 261.394 124.26 261.394 Q129.63 261.394 132.825 264.079 Q136.019 266.764 136.019 271.255 Q136.019 273.385 135.209 275.306 Q134.422 277.204 132.316 279.797 Q131.737 280.468 128.635 283.686 Q125.533 286.88 119.885 292.644 Z\" fill=\"#000000\" fill-rule=\"evenodd\" fill-opacity=\"1\" /><path clip-path=\"url(#clip900)\" d=\"M156.019 265.098 Q152.408 265.098 150.579 268.662 Q148.774 272.204 148.774 279.334 Q148.774 286.44 150.579 290.005 Q152.408 293.547 156.019 293.547 Q159.653 293.547 161.459 290.005 Q163.288 286.44 163.288 279.334 Q163.288 272.204 161.459 268.662 Q159.653 265.098 156.019 265.098 M156.019 261.394 Q161.829 261.394 164.885 266 Q167.964 270.584 167.964 279.334 Q167.964 288.06 164.885 292.667 Q161.829 297.25 156.019 297.25 Q150.209 297.25 147.13 292.667 Q144.075 288.06 144.075 279.334 Q144.075 270.584 147.13 266 Q150.209 261.394 156.019 261.394 Z\" fill=\"#000000\" fill-rule=\"evenodd\" fill-opacity=\"1\" /><path clip-path=\"url(#clip900)\" d=\"M16.4842 1185.19 L16.4842 1144.99 L21.895 1144.99 L21.895 1161.86 L64.0042 1161.86 L64.0042 1168.32 L21.895 1168.32 L21.895 1185.19 L16.4842 1185.19 Z\" fill=\"#000000\" fill-rule=\"evenodd\" fill-opacity=\"1\" /><path clip-path=\"url(#clip900)\" d=\"M44.7161 1119.62 L47.5806 1119.62 L47.5806 1146.55 Q53.6281 1146.17 56.8109 1142.92 Q59.9619 1139.64 59.9619 1133.82 Q59.9619 1130.44 59.1344 1127.29 Q58.3069 1124.11 56.6518 1120.99 L62.1899 1120.99 Q63.5267 1124.14 64.227 1127.45 Q64.9272 1130.76 64.9272 1134.17 Q64.9272 1142.7 59.9619 1147.69 Q54.9967 1152.66 46.5303 1152.66 Q37.7774 1152.66 32.6531 1147.95 Q27.4968 1143.21 27.4968 1135.18 Q27.4968 1127.99 32.1438 1123.82 Q36.7589 1119.62 44.7161 1119.62 M42.9973 1125.48 Q38.1912 1125.54 35.3266 1128.18 Q32.4621 1130.79 32.4621 1135.12 Q32.4621 1140.02 35.2312 1142.98 Q38.0002 1145.91 43.0292 1146.36 L42.9973 1125.48 Z\" fill=\"#000000\" fill-rule=\"evenodd\" fill-opacity=\"1\" /><path clip-path=\"url(#clip900)\" d=\"M35.1993 1082.25 Q31.2526 1080.06 29.3747 1077 Q27.4968 1073.95 27.4968 1069.81 Q27.4968 1064.24 31.4117 1061.22 Q35.2948 1058.19 42.4881 1058.19 L64.0042 1058.19 L64.0042 1064.08 L42.679 1064.08 Q37.5546 1064.08 35.072 1065.89 Q32.5894 1067.71 32.5894 1071.43 Q32.5894 1075.98 35.6131 1078.63 Q38.6368 1081.27 43.8567 1081.27 L64.0042 1081.27 L64.0042 1087.16 L42.679 1087.16 Q37.5228 1087.16 35.072 1088.97 Q32.5894 1090.78 32.5894 1094.57 Q32.5894 1099.06 35.6449 1101.7 Q38.6686 1104.34 43.8567 1104.34 L64.0042 1104.34 L64.0042 1110.23 L28.3562 1110.23 L28.3562 1104.34 L33.8944 1104.34 Q30.616 1102.34 29.0564 1099.54 Q27.4968 1096.74 27.4968 1092.88 Q27.4968 1089 29.4702 1086.3 Q31.4436 1083.56 35.1993 1082.25 Z\" fill=\"#000000\" fill-rule=\"evenodd\" fill-opacity=\"1\" /><path clip-path=\"url(#clip900)\" d=\"M58.657 1040.84 L77.5631 1040.84 L77.5631 1046.73 L28.3562 1046.73 L28.3562 1040.84 L33.7671 1040.84 Q30.5842 1039 29.0564 1036.2 Q27.4968 1033.37 27.4968 1029.45 Q27.4968 1022.96 32.6531 1018.91 Q37.8093 1014.84 46.212 1014.84 Q54.6147 1014.84 59.771 1018.91 Q64.9272 1022.96 64.9272 1029.45 Q64.9272 1033.37 63.3994 1036.2 Q61.8398 1039 58.657 1040.84 M46.212 1020.92 Q39.7508 1020.92 36.0905 1023.59 Q32.3984 1026.24 32.3984 1030.88 Q32.3984 1035.53 36.0905 1038.2 Q39.7508 1040.84 46.212 1040.84 Q52.6732 1040.84 56.3653 1038.2 Q60.0256 1035.53 60.0256 1030.88 Q60.0256 1026.24 56.3653 1023.59 Q52.6732 1020.92 46.212 1020.92 Z\" fill=\"#000000\" fill-rule=\"evenodd\" fill-opacity=\"1\" /><path clip-path=\"url(#clip900)\" d=\"M44.7161 974.641 L47.5806 974.641 L47.5806 1001.57 Q53.6281 1001.19 56.8109 997.94 Q59.9619 994.662 59.9619 988.837 Q59.9619 985.463 59.1344 982.312 Q58.3069 979.129 56.6518 976.01 L62.1899 976.01 Q63.5267 979.161 64.227 982.471 Q64.9272 985.781 64.9272 989.187 Q64.9272 997.717 59.9619 1002.71 Q54.9967 1007.68 46.5303 1007.68 Q37.7774 1007.68 32.6531 1002.97 Q27.4968 998.226 27.4968 990.206 Q27.4968 983.012 32.1438 978.843 Q36.7589 974.641 44.7161 974.641 M42.9973 980.498 Q38.1912 980.562 35.3266 983.203 Q32.4621 985.813 32.4621 990.142 Q32.4621 995.044 35.2312 998.004 Q38.0002 1000.93 43.0292 1001.38 L42.9973 980.498 Z\" fill=\"#000000\" fill-rule=\"evenodd\" fill-opacity=\"1\" /><path clip-path=\"url(#clip900)\" d=\"M33.8307 944.373 Q33.2578 945.359 33.0032 946.537 Q32.7167 947.683 32.7167 949.083 Q32.7167 954.048 35.9632 956.722 Q39.1779 959.364 45.2253 959.364 L64.0042 959.364 L64.0042 965.252 L28.3562 965.252 L28.3562 959.364 L33.8944 959.364 Q30.6479 957.518 29.0883 954.558 Q27.4968 951.598 27.4968 947.364 Q27.4968 946.76 27.5923 946.028 Q27.656 945.296 27.8151 944.404 L33.8307 944.373 Z\" fill=\"#000000\" fill-rule=\"evenodd\" fill-opacity=\"1\" /><path clip-path=\"url(#clip900)\" d=\"M46.0847 922.029 Q46.0847 929.127 47.7079 931.864 Q49.3312 934.601 53.2461 934.601 Q56.3653 934.601 58.2114 932.564 Q60.0256 930.495 60.0256 926.962 Q60.0256 922.093 56.5881 919.164 Q53.1188 916.204 47.3897 916.204 L46.0847 916.204 L46.0847 922.029 M43.6657 910.348 L64.0042 910.348 L64.0042 916.204 L58.5933 916.204 Q61.8398 918.209 63.3994 921.201 Q64.9272 924.193 64.9272 928.522 Q64.9272 933.996 61.8716 937.243 Q58.7843 940.458 53.6281 940.458 Q47.6125 940.458 44.5569 936.447 Q41.5014 932.405 41.5014 924.416 L41.5014 916.204 L40.9285 916.204 Q36.8862 916.204 34.6901 918.878 Q32.4621 921.52 32.4621 926.326 Q32.4621 929.381 33.1941 932.278 Q33.9262 935.174 35.3903 937.848 L29.9795 937.848 Q28.7381 934.633 28.1334 931.609 Q27.4968 928.586 27.4968 925.721 Q27.4968 917.987 31.5072 914.167 Q35.5176 910.348 43.6657 910.348 Z\" fill=\"#000000\" fill-rule=\"evenodd\" fill-opacity=\"1\" /><path clip-path=\"url(#clip900)\" d=\"M18.2347 892.492 L28.3562 892.492 L28.3562 880.429 L32.9077 880.429 L32.9077 892.492 L52.2594 892.492 Q56.6199 892.492 57.8613 891.314 Q59.1026 890.105 59.1026 886.445 L59.1026 880.429 L64.0042 880.429 L64.0042 886.445 Q64.0042 893.224 61.4897 895.802 Q58.9434 898.38 52.2594 898.38 L32.9077 898.38 L32.9077 902.677 L28.3562 902.677 L28.3562 898.38 L18.2347 898.38 L18.2347 892.492 Z\" fill=\"#000000\" fill-rule=\"evenodd\" fill-opacity=\"1\" /><path clip-path=\"url(#clip900)\" d=\"M49.9359 873.331 L28.3562 873.331 L28.3562 867.475 L49.7131 867.475 Q54.7739 867.475 57.3202 865.501 Q59.8346 863.528 59.8346 859.581 Q59.8346 854.839 56.8109 852.102 Q53.7872 849.333 48.5673 849.333 L28.3562 849.333 L28.3562 843.476 L64.0042 843.476 L64.0042 849.333 L58.5296 849.333 Q61.7762 851.465 63.3676 854.298 Q64.9272 857.099 64.9272 860.823 Q64.9272 866.966 61.1078 870.148 Q57.2883 873.331 49.9359 873.331 M27.4968 858.595 L27.4968 858.595 Z\" fill=\"#000000\" fill-rule=\"evenodd\" fill-opacity=\"1\" /><path clip-path=\"url(#clip900)\" d=\"M33.8307 810.756 Q33.2578 811.743 33.0032 812.921 Q32.7167 814.067 32.7167 815.467 Q32.7167 820.432 35.9632 823.106 Q39.1779 825.748 45.2253 825.748 L64.0042 825.748 L64.0042 831.636 L28.3562 831.636 L28.3562 825.748 L33.8944 825.748 Q30.6479 823.902 29.0883 820.941 Q27.4968 817.981 27.4968 813.748 Q27.4968 813.143 27.5923 812.411 Q27.656 811.679 27.8151 810.788 L33.8307 810.756 Z\" fill=\"#000000\" fill-rule=\"evenodd\" fill-opacity=\"1\" /><path clip-path=\"url(#clip900)\" d=\"M44.7161 775.554 L47.5806 775.554 L47.5806 802.481 Q53.6281 802.099 56.8109 798.852 Q59.9619 795.574 59.9619 789.75 Q59.9619 786.376 59.1344 783.225 Q58.3069 780.042 56.6518 776.923 L62.1899 776.923 Q63.5267 780.074 64.227 783.384 Q64.9272 786.694 64.9272 790.1 Q64.9272 798.63 59.9619 803.627 Q54.9967 808.592 46.5303 808.592 Q37.7774 808.592 32.6531 803.881 Q27.4968 799.139 27.4968 791.118 Q27.4968 783.925 32.1438 779.755 Q36.7589 775.554 44.7161 775.554 M42.9973 781.41 Q38.1912 781.474 35.3266 784.116 Q32.4621 786.726 32.4621 791.054 Q32.4621 795.956 35.2312 798.916 Q38.0002 801.844 43.0292 802.29 L42.9973 781.41 Z\" fill=\"#000000\" fill-rule=\"evenodd\" fill-opacity=\"1\" /><path clip-path=\"url(#clip900)\" d=\"M14.5426 731.153 Q21.8632 735.418 29.0246 737.487 Q36.186 739.556 43.5384 739.556 Q50.8908 739.556 58.1159 737.487 Q65.3091 735.386 72.5979 731.153 L72.5979 736.246 Q65.1182 741.02 57.8931 743.407 Q50.668 745.762 43.5384 745.762 Q36.4406 745.762 29.2474 743.407 Q22.0542 741.052 14.5426 736.246 L14.5426 731.153 Z\" fill=\"#000000\" fill-rule=\"evenodd\" fill-opacity=\"1\" /><path clip-path=\"url(#clip900)\" d=\"M16.4842 719.536 L16.4842 692.227 L21.895 692.227 L21.895 713.106 L35.8996 713.106 L35.8996 694.264 L41.3104 694.264 L41.3104 713.106 L64.0042 713.106 L64.0042 719.536 L16.4842 719.536 Z\" fill=\"#000000\" fill-rule=\"evenodd\" fill-opacity=\"1\" /><path clip-path=\"url(#clip900)\" d=\"M46.0847 672.079 Q46.0847 679.177 47.7079 681.914 Q49.3312 684.652 53.2461 684.652 Q56.3653 684.652 58.2114 682.615 Q60.0256 680.546 60.0256 677.013 Q60.0256 672.143 56.5881 669.215 Q53.1188 666.255 47.3897 666.255 L46.0847 666.255 L46.0847 672.079 M43.6657 660.398 L64.0042 660.398 L64.0042 666.255 L58.5933 666.255 Q61.8398 668.26 63.3994 671.252 Q64.9272 674.244 64.9272 678.572 Q64.9272 684.047 61.8716 687.293 Q58.7843 690.508 53.6281 690.508 Q47.6125 690.508 44.5569 686.498 Q41.5014 682.456 41.5014 674.467 L41.5014 666.255 L40.9285 666.255 Q36.8862 666.255 34.6901 668.928 Q32.4621 671.57 32.4621 676.376 Q32.4621 679.432 33.1941 682.328 Q33.9262 685.225 35.3903 687.898 L29.9795 687.898 Q28.7381 684.684 28.1334 681.66 Q27.4968 678.636 27.4968 675.772 Q27.4968 668.037 31.5072 664.218 Q35.5176 660.398 43.6657 660.398 Z\" fill=\"#000000\" fill-rule=\"evenodd\" fill-opacity=\"1\" /><path clip-path=\"url(#clip900)\" d=\"M42.4881 618.703 L64.0042 618.703 L64.0042 624.559 L42.679 624.559 Q37.6183 624.559 35.1038 626.533 Q32.5894 628.506 32.5894 632.453 Q32.5894 637.195 35.6131 639.933 Q38.6368 642.67 43.8567 642.67 L64.0042 642.67 L64.0042 648.558 L14.479 648.558 L14.479 642.67 L33.8944 642.67 Q30.6797 640.569 29.0883 637.736 Q27.4968 634.872 27.4968 631.148 Q27.4968 625.005 31.3163 621.854 Q35.1038 618.703 42.4881 618.703 Z\" fill=\"#000000\" fill-rule=\"evenodd\" fill-opacity=\"1\" /><path clip-path=\"url(#clip900)\" d=\"M33.8307 586.365 Q33.2578 587.352 33.0032 588.53 Q32.7167 589.675 32.7167 591.076 Q32.7167 596.041 35.9632 598.715 Q39.1779 601.356 45.2253 601.356 L64.0042 601.356 L64.0042 607.245 L28.3562 607.245 L28.3562 601.356 L33.8944 601.356 Q30.6479 599.51 29.0883 596.55 Q27.4968 593.59 27.4968 589.357 Q27.4968 588.752 27.5923 588.02 Q27.656 587.288 27.8151 586.397 L33.8307 586.365 Z\" fill=\"#000000\" fill-rule=\"evenodd\" fill-opacity=\"1\" /><path clip-path=\"url(#clip900)\" d=\"M44.7161 551.163 L47.5806 551.163 L47.5806 578.09 Q53.6281 577.708 56.8109 574.461 Q59.9619 571.183 59.9619 565.358 Q59.9619 561.985 59.1344 558.833 Q58.3069 555.651 56.6518 552.531 L62.1899 552.531 Q63.5267 555.682 64.227 558.993 Q64.9272 562.303 64.9272 565.708 Q64.9272 574.239 59.9619 579.236 Q54.9967 584.201 46.5303 584.201 Q37.7774 584.201 32.6531 579.49 Q27.4968 574.748 27.4968 566.727 Q27.4968 559.534 32.1438 555.364 Q36.7589 551.163 44.7161 551.163 M42.9973 557.019 Q38.1912 557.083 35.3266 559.725 Q32.4621 562.335 32.4621 566.663 Q32.4621 571.565 35.2312 574.525 Q38.0002 577.453 43.0292 577.899 L42.9973 557.019 Z\" fill=\"#000000\" fill-rule=\"evenodd\" fill-opacity=\"1\" /><path clip-path=\"url(#clip900)\" d=\"M42.4881 511.918 L64.0042 511.918 L64.0042 517.775 L42.679 517.775 Q37.6183 517.775 35.1038 519.748 Q32.5894 521.721 32.5894 525.668 Q32.5894 530.411 35.6131 533.148 Q38.6368 535.885 43.8567 535.885 L64.0042 535.885 L64.0042 541.773 L28.3562 541.773 L28.3562 535.885 L33.8944 535.885 Q30.6797 533.784 29.0883 530.952 Q27.4968 528.087 27.4968 524.363 Q27.4968 518.22 31.3163 515.069 Q35.1038 511.918 42.4881 511.918 Z\" fill=\"#000000\" fill-rule=\"evenodd\" fill-opacity=\"1\" /><path clip-path=\"url(#clip900)\" d=\"M42.4881 470.605 L64.0042 470.605 L64.0042 476.461 L42.679 476.461 Q37.6183 476.461 35.1038 478.435 Q32.5894 480.408 32.5894 484.355 Q32.5894 489.097 35.6131 491.834 Q38.6368 494.572 43.8567 494.572 L64.0042 494.572 L64.0042 500.46 L14.479 500.46 L14.479 494.572 L33.8944 494.572 Q30.6797 492.471 29.0883 489.638 Q27.4968 486.774 27.4968 483.05 Q27.4968 476.907 31.3163 473.756 Q35.1038 470.605 42.4881 470.605 Z\" fill=\"#000000\" fill-rule=\"evenodd\" fill-opacity=\"1\" /><path clip-path=\"url(#clip900)\" d=\"M44.7161 428.432 L47.5806 428.432 L47.5806 455.359 Q53.6281 454.977 56.8109 451.73 Q59.9619 448.452 59.9619 442.628 Q59.9619 439.254 59.1344 436.103 Q58.3069 432.92 56.6518 429.801 L62.1899 429.801 Q63.5267 432.952 64.227 436.262 Q64.9272 439.572 64.9272 442.978 Q64.9272 451.508 59.9619 456.505 Q54.9967 461.47 46.5303 461.47 Q37.7774 461.47 32.6531 456.759 Q27.4968 452.017 27.4968 443.996 Q27.4968 436.803 32.1438 432.633 Q36.7589 428.432 44.7161 428.432 M42.9973 434.288 Q38.1912 434.352 35.3266 436.994 Q32.4621 439.604 32.4621 443.932 Q32.4621 448.834 35.2312 451.794 Q38.0002 454.722 43.0292 455.168 L42.9973 434.288 Z\" fill=\"#000000\" fill-rule=\"evenodd\" fill-opacity=\"1\" /><path clip-path=\"url(#clip900)\" d=\"M28.3562 418.82 L28.3562 412.963 L64.0042 412.963 L64.0042 418.82 L28.3562 418.82 M14.479 418.82 L14.479 412.963 L21.895 412.963 L21.895 418.82 L14.479 418.82 Z\" fill=\"#000000\" fill-rule=\"evenodd\" fill-opacity=\"1\" /><path clip-path=\"url(#clip900)\" d=\"M18.2347 394.917 L28.3562 394.917 L28.3562 382.854 L32.9077 382.854 L32.9077 394.917 L52.2594 394.917 Q56.6199 394.917 57.8613 393.739 Q59.1026 392.529 59.1026 388.869 L59.1026 382.854 L64.0042 382.854 L64.0042 388.869 Q64.0042 395.649 61.4897 398.227 Q58.9434 400.805 52.2594 400.805 L32.9077 400.805 L32.9077 405.102 L28.3562 405.102 L28.3562 400.805 L18.2347 400.805 L18.2347 394.917 Z\" fill=\"#000000\" fill-rule=\"evenodd\" fill-opacity=\"1\" /><path clip-path=\"url(#clip900)\" d=\"M14.5426 376.074 L14.5426 370.981 Q22.0542 366.207 29.2474 363.852 Q36.4406 361.465 43.5384 361.465 Q50.668 361.465 57.8931 363.852 Q65.1182 366.207 72.5979 370.981 L72.5979 376.074 Q65.3091 371.841 58.1159 369.772 Q50.8908 367.671 43.5384 367.671 Q36.186 367.671 29.0246 369.772 Q21.8632 371.841 14.5426 376.074 Z\" fill=\"#000000\" fill-rule=\"evenodd\" fill-opacity=\"1\" /><path clip-path=\"url(#clip900)\" d=\"M44.2518 12.096 L52.4346 12.096 L52.4346 68.3631 Q52.4346 79.3005 48.2622 84.2426 Q44.1302 89.1847 34.9347 89.1847 L31.8155 89.1847 L31.8155 82.2982 L34.3676 82.2982 Q39.7958 82.2982 42.0238 79.26 Q44.2518 76.2218 44.2518 68.3631 L44.2518 12.096 Z\" fill=\"#000000\" fill-rule=\"evenodd\" fill-opacity=\"1\" /><path clip-path=\"url(#clip900)\" d=\"M89.0143 49.7694 Q79.9807 49.7694 76.497 51.8354 Q73.0132 53.9013 73.0132 58.8839 Q73.0132 62.8538 75.6058 65.2034 Q78.2389 67.5124 82.7354 67.5124 Q88.9332 67.5124 92.6601 63.1374 Q96.4274 58.7219 96.4274 51.4303 L96.4274 49.7694 L89.0143 49.7694 M103.881 46.6907 L103.881 72.576 L96.4274 72.576 L96.4274 65.6895 Q93.8753 69.8214 90.0675 71.8063 Q86.2596 73.7508 80.7504 73.7508 Q73.7829 73.7508 69.6509 69.8619 Q65.5595 65.9325 65.5595 59.3701 Q65.5595 51.7138 70.6637 47.825 Q75.8083 43.9361 85.9761 43.9361 L96.4274 43.9361 L96.4274 43.2069 Q96.4274 38.0623 93.0247 35.2672 Q89.6624 32.4315 83.5455 32.4315 Q79.6567 32.4315 75.9703 33.3632 Q72.284 34.295 68.8813 36.1584 L68.8813 29.2718 Q72.9727 27.692 76.821 26.9223 Q80.6694 26.1121 84.3152 26.1121 Q94.1589 26.1121 99.02 31.2163 Q103.881 36.3204 103.881 46.6907 Z\" fill=\"#000000\" fill-rule=\"evenodd\" fill-opacity=\"1\" /><path clip-path=\"url(#clip900)\" d=\"M156.948 45.1919 L156.948 72.576 L149.494 72.576 L149.494 45.4349 Q149.494 38.994 146.983 35.7938 Q144.471 32.5936 139.448 32.5936 Q133.412 32.5936 129.928 36.4419 Q126.445 40.2903 126.445 46.9338 L126.445 72.576 L118.95 72.576 L118.95 27.2059 L126.445 27.2059 L126.445 34.2544 Q129.118 30.163 132.724 28.1376 Q136.369 26.1121 141.109 26.1121 Q148.927 26.1121 152.938 30.9732 Q156.948 35.7938 156.948 45.1919 Z\" fill=\"#000000\" fill-rule=\"evenodd\" fill-opacity=\"1\" /><path clip-path=\"url(#clip900)\" d=\"M218.724 20.1573 L207.625 50.2555 L229.864 50.2555 L218.724 20.1573 M214.106 12.096 L223.383 12.096 L246.432 72.576 L237.925 72.576 L232.416 57.061 L205.154 57.061 L199.644 72.576 L191.016 72.576 L214.106 12.096 Z\" fill=\"#000000\" fill-rule=\"evenodd\" fill-opacity=\"1\" /><path clip-path=\"url(#clip900)\" d=\"M244.731 27.2059 L252.63 27.2059 L266.808 65.2844 L280.987 27.2059 L288.886 27.2059 L271.872 72.576 L261.745 72.576 L244.731 27.2059 Z\" fill=\"#000000\" fill-rule=\"evenodd\" fill-opacity=\"1\" /><path clip-path=\"url(#clip900)\" d=\"M337.983 48.0275 L337.983 51.6733 L303.712 51.6733 Q304.198 59.3701 308.33 63.421 Q312.503 67.4314 319.916 67.4314 Q324.21 67.4314 328.22 66.3781 Q332.271 65.3249 336.241 63.2184 L336.241 70.267 Q332.231 71.9684 328.018 72.8596 Q323.805 73.7508 319.47 73.7508 Q308.614 73.7508 302.254 67.4314 Q295.934 61.1119 295.934 50.3365 Q295.934 39.1965 301.93 32.6746 Q307.966 26.1121 318.174 26.1121 Q327.329 26.1121 332.636 32.0264 Q337.983 37.9003 337.983 48.0275 M330.529 45.84 Q330.448 39.7232 327.086 36.0774 Q323.764 32.4315 318.255 32.4315 Q312.017 32.4315 308.249 35.9558 Q304.522 39.4801 303.955 45.8805 L330.529 45.84 Z\" fill=\"#000000\" fill-rule=\"evenodd\" fill-opacity=\"1\" /><path clip-path=\"url(#clip900)\" d=\"M376.507 34.1734 Q375.251 33.4443 373.752 33.1202 Q372.294 32.7556 370.512 32.7556 Q364.192 32.7556 360.789 36.8875 Q357.427 40.9789 357.427 48.6757 L357.427 72.576 L349.933 72.576 L349.933 27.2059 L357.427 27.2059 L357.427 34.2544 Q359.777 30.1225 363.544 28.1376 Q367.311 26.1121 372.699 26.1121 Q373.469 26.1121 374.4 26.2337 Q375.332 26.3147 376.466 26.5172 L376.507 34.1734 Z\" fill=\"#000000\" fill-rule=\"evenodd\" fill-opacity=\"1\" /><path clip-path=\"url(#clip900)\" d=\"M404.944 49.7694 Q395.911 49.7694 392.427 51.8354 Q388.943 53.9013 388.943 58.8839 Q388.943 62.8538 391.536 65.2034 Q394.169 67.5124 398.665 67.5124 Q404.863 67.5124 408.59 63.1374 Q412.357 58.7219 412.357 51.4303 L412.357 49.7694 L404.944 49.7694 M419.811 46.6907 L419.811 72.576 L412.357 72.576 L412.357 65.6895 Q409.805 69.8214 405.998 71.8063 Q402.19 73.7508 396.68 73.7508 Q389.713 73.7508 385.581 69.8619 Q381.49 65.9325 381.49 59.3701 Q381.49 51.7138 386.594 47.825 Q391.738 43.9361 401.906 43.9361 L412.357 43.9361 L412.357 43.2069 Q412.357 38.0623 408.955 35.2672 Q405.592 32.4315 399.476 32.4315 Q395.587 32.4315 391.9 33.3632 Q388.214 34.295 384.811 36.1584 L384.811 29.2718 Q388.903 27.692 392.751 26.9223 Q396.599 26.1121 400.245 26.1121 Q410.089 26.1121 414.95 31.2163 Q419.811 36.3204 419.811 46.6907 Z\" fill=\"#000000\" fill-rule=\"evenodd\" fill-opacity=\"1\" /><path clip-path=\"url(#clip900)\" d=\"M465.019 49.3643 Q465.019 41.2625 461.657 36.8065 Q458.335 32.3505 452.299 32.3505 Q446.304 32.3505 442.942 36.8065 Q439.62 41.2625 439.62 49.3643 Q439.62 57.4256 442.942 61.8816 Q446.304 66.3376 452.299 66.3376 Q458.335 66.3376 461.657 61.8816 Q465.019 57.4256 465.019 49.3643 M472.473 66.9452 Q472.473 78.5308 467.328 84.1616 Q462.184 89.8329 451.57 89.8329 Q447.641 89.8329 444.157 89.2252 Q440.673 88.6581 437.392 87.4428 L437.392 80.1917 Q440.673 81.9741 443.873 82.8248 Q447.074 83.6755 450.395 83.6755 Q457.728 83.6755 461.373 79.8271 Q465.019 76.0193 465.019 68.282 L465.019 64.5957 Q462.71 68.6061 459.105 70.5911 Q455.5 72.576 450.476 72.576 Q442.132 72.576 437.027 66.2161 Q431.923 59.8562 431.923 49.3643 Q431.923 38.832 437.027 32.472 Q442.132 26.1121 450.476 26.1121 Q455.5 26.1121 459.105 28.0971 Q462.71 30.082 465.019 34.0924 L465.019 27.2059 L472.473 27.2059 L472.473 66.9452 Z\" fill=\"#000000\" fill-rule=\"evenodd\" fill-opacity=\"1\" /><path clip-path=\"url(#clip900)\" d=\"M526.633 48.0275 L526.633 51.6733 L492.363 51.6733 Q492.849 59.3701 496.981 63.421 Q501.153 67.4314 508.566 67.4314 Q512.86 67.4314 516.871 66.3781 Q520.922 65.3249 524.892 63.2184 L524.892 70.267 Q520.881 71.9684 516.668 72.8596 Q512.455 73.7508 508.121 73.7508 Q497.264 73.7508 490.904 67.4314 Q484.585 61.1119 484.585 50.3365 Q484.585 39.1965 490.58 32.6746 Q496.616 26.1121 506.825 26.1121 Q515.98 26.1121 521.286 32.0264 Q526.633 37.9003 526.633 48.0275 M519.18 45.84 Q519.099 39.7232 515.737 36.0774 Q512.415 32.4315 506.906 32.4315 Q500.667 32.4315 496.9 35.9558 Q493.173 39.4801 492.606 45.8805 L519.18 45.84 Z\" fill=\"#000000\" fill-rule=\"evenodd\" fill-opacity=\"1\" /><path clip-path=\"url(#clip900)\" d=\"M600.562 35.9153 Q603.358 30.8922 607.246 28.5022 Q611.135 26.1121 616.401 26.1121 Q623.491 26.1121 627.339 31.0947 Q631.187 36.0368 631.187 45.1919 L631.187 72.576 L623.693 72.576 L623.693 45.4349 Q623.693 38.913 621.384 35.7533 Q619.075 32.5936 614.336 32.5936 Q608.543 32.5936 605.18 36.4419 Q601.818 40.2903 601.818 46.9338 L601.818 72.576 L594.324 72.576 L594.324 45.4349 Q594.324 38.8725 592.015 35.7533 Q589.706 32.5936 584.885 32.5936 Q579.174 32.5936 575.811 36.4824 Q572.449 40.3308 572.449 46.9338 L572.449 72.576 L564.955 72.576 L564.955 27.2059 L572.449 27.2059 L572.449 34.2544 Q575.001 30.082 578.566 28.0971 Q582.131 26.1121 587.032 26.1121 Q591.975 26.1121 595.418 28.6237 Q598.902 31.1352 600.562 35.9153 Z\" fill=\"#000000\" fill-rule=\"evenodd\" fill-opacity=\"1\" /><path clip-path=\"url(#clip900)\" d=\"M646.054 27.2059 L653.508 27.2059 L653.508 72.576 L646.054 72.576 L646.054 27.2059 M646.054 9.54393 L653.508 9.54393 L653.508 18.9825 L646.054 18.9825 L646.054 9.54393 Z\" fill=\"#000000\" fill-rule=\"evenodd\" fill-opacity=\"1\" /><path clip-path=\"url(#clip900)\" d=\"M706.818 45.1919 L706.818 72.576 L699.364 72.576 L699.364 45.4349 Q699.364 38.994 696.852 35.7938 Q694.341 32.5936 689.318 32.5936 Q683.282 32.5936 679.798 36.4419 Q676.314 40.2903 676.314 46.9338 L676.314 72.576 L668.82 72.576 L668.82 27.2059 L676.314 27.2059 L676.314 34.2544 Q678.988 30.163 682.593 28.1376 Q686.239 26.1121 690.979 26.1121 Q698.797 26.1121 702.807 30.9732 Q706.818 35.7938 706.818 45.1919 Z\" fill=\"#000000\" fill-rule=\"evenodd\" fill-opacity=\"1\" /><path clip-path=\"url(#clip900)\" d=\"M755.429 14.324 L755.429 27.2059 L770.781 27.2059 L770.781 32.9987 L755.429 32.9987 L755.429 57.6282 Q755.429 63.1779 756.927 64.7578 Q758.467 66.3376 763.125 66.3376 L770.781 66.3376 L770.781 72.576 L763.125 72.576 Q754.497 72.576 751.216 69.3758 Q747.934 66.1351 747.934 57.6282 L747.934 32.9987 L742.466 32.9987 L742.466 27.2059 L747.934 27.2059 L747.934 14.324 L755.429 14.324 Z\" fill=\"#000000\" fill-rule=\"evenodd\" fill-opacity=\"1\" /><path clip-path=\"url(#clip900)\" d=\"M819.392 48.0275 L819.392 51.6733 L785.122 51.6733 Q785.608 59.3701 789.74 63.421 Q793.912 67.4314 801.325 67.4314 Q805.619 67.4314 809.63 66.3781 Q813.681 65.3249 817.65 63.2184 L817.65 70.267 Q813.64 71.9684 809.427 72.8596 Q805.214 73.7508 800.88 73.7508 Q790.023 73.7508 783.663 67.4314 Q777.344 61.1119 777.344 50.3365 Q777.344 39.1965 783.339 32.6746 Q789.375 26.1121 799.583 26.1121 Q808.738 26.1121 814.045 32.0264 Q819.392 37.9003 819.392 48.0275 M811.939 45.84 Q811.858 39.7232 808.495 36.0774 Q805.174 32.4315 799.664 32.4315 Q793.426 32.4315 789.659 35.9558 Q785.932 39.4801 785.365 45.8805 L811.939 45.84 Z\" fill=\"#000000\" fill-rule=\"evenodd\" fill-opacity=\"1\" /><path clip-path=\"url(#clip900)\" d=\"M866.95 35.9153 Q869.745 30.8922 873.634 28.5022 Q877.523 26.1121 882.789 26.1121 Q889.878 26.1121 893.726 31.0947 Q897.575 36.0368 897.575 45.1919 L897.575 72.576 L890.081 72.576 L890.081 45.4349 Q890.081 38.913 887.772 35.7533 Q885.463 32.5936 880.723 32.5936 Q874.93 32.5936 871.568 36.4419 Q868.206 40.2903 868.206 46.9338 L868.206 72.576 L860.712 72.576 L860.712 45.4349 Q860.712 38.8725 858.402 35.7533 Q856.093 32.5936 851.273 32.5936 Q845.561 32.5936 842.199 36.4824 Q838.837 40.3308 838.837 46.9338 L838.837 72.576 L831.342 72.576 L831.342 27.2059 L838.837 27.2059 L838.837 34.2544 Q841.389 30.082 844.953 28.0971 Q848.518 26.1121 853.42 26.1121 Q858.362 26.1121 861.805 28.6237 Q865.289 31.1352 866.95 35.9153 Z\" fill=\"#000000\" fill-rule=\"evenodd\" fill-opacity=\"1\" /><path clip-path=\"url(#clip900)\" d=\"M919.652 65.7705 L919.652 89.8329 L912.158 89.8329 L912.158 27.2059 L919.652 27.2059 L919.652 34.0924 Q922.002 30.0415 925.566 28.0971 Q929.172 26.1121 934.154 26.1121 Q942.418 26.1121 947.563 32.6746 Q952.748 39.2371 952.748 49.9314 Q952.748 60.6258 947.563 67.1883 Q942.418 73.7508 934.154 73.7508 Q929.172 73.7508 925.566 71.8063 Q922.002 69.8214 919.652 65.7705 M945.011 49.9314 Q945.011 41.7081 941.608 37.0496 Q938.246 32.3505 932.332 32.3505 Q926.417 32.3505 923.014 37.0496 Q919.652 41.7081 919.652 49.9314 Q919.652 58.1548 923.014 62.8538 Q926.417 67.5124 932.332 67.5124 Q938.246 67.5124 941.608 62.8538 Q945.011 58.1548 945.011 49.9314 Z\" fill=\"#000000\" fill-rule=\"evenodd\" fill-opacity=\"1\" /><path clip-path=\"url(#clip900)\" d=\"M993.946 65.6895 L1007.31 65.6895 L1007.31 19.5497 L992.771 22.4663 L992.771 15.0127 L1007.23 12.096 L1015.42 12.096 L1015.42 65.6895 L1028.78 65.6895 L1028.78 72.576 L993.946 72.576 L993.946 65.6895 Z\" fill=\"#000000\" fill-rule=\"evenodd\" fill-opacity=\"1\" /><path clip-path=\"url(#clip900)\" d=\"M1045.55 71.3202 L1045.55 63.8666 Q1048.63 65.3249 1051.79 66.0946 Q1054.95 66.8642 1057.99 66.8642 Q1066.09 66.8642 1070.35 61.436 Q1074.64 55.9673 1075.25 44.8678 Q1072.9 48.3516 1069.29 50.215 Q1065.69 52.0784 1061.31 52.0784 Q1052.24 52.0784 1046.93 46.6097 Q1041.67 41.1005 1041.67 31.5808 Q1041.67 22.2638 1047.17 16.633 Q1052.68 11.0023 1061.84 11.0023 Q1072.33 11.0023 1077.84 19.0636 Q1083.39 27.0843 1083.39 42.3968 Q1083.39 56.6965 1076.58 65.2439 Q1069.82 73.7508 1058.36 73.7508 Q1055.28 73.7508 1052.12 73.1431 Q1048.96 72.5355 1045.55 71.3202 M1061.84 45.678 Q1067.35 45.678 1070.55 41.9107 Q1073.79 38.1433 1073.79 31.5808 Q1073.79 25.0589 1070.55 21.2916 Q1067.35 17.4837 1061.84 17.4837 Q1056.33 17.4837 1053.09 21.2916 Q1049.89 25.0589 1049.89 31.5808 Q1049.89 38.1433 1053.09 41.9107 Q1056.33 45.678 1061.84 45.678 Z\" fill=\"#000000\" fill-rule=\"evenodd\" fill-opacity=\"1\" /><path clip-path=\"url(#clip900)\" d=\"M1105.14 65.6895 L1133.7 65.6895 L1133.7 72.576 L1095.3 72.576 L1095.3 65.6895 Q1099.96 60.8689 1107.98 52.7671 Q1116.04 44.6248 1118.11 42.2752 Q1122.04 37.8598 1123.57 34.8216 Q1125.15 31.7429 1125.15 28.7857 Q1125.15 23.9651 1121.75 20.927 Q1118.39 17.8888 1112.96 17.8888 Q1109.11 17.8888 1104.82 19.2256 Q1100.57 20.5624 1095.7 23.2765 L1095.7 15.0127 Q1100.65 13.0277 1104.94 12.015 Q1109.23 11.0023 1112.8 11.0023 Q1122.2 11.0023 1127.79 15.7013 Q1133.38 20.4004 1133.38 28.2591 Q1133.38 31.9859 1131.96 35.3482 Q1130.58 38.6699 1126.9 43.2069 Q1125.88 44.3817 1120.46 50.0125 Q1115.03 55.6027 1105.14 65.6895 Z\" fill=\"#000000\" fill-rule=\"evenodd\" fill-opacity=\"1\" /><path clip-path=\"url(#clip900)\" d=\"M1157.93 65.6895 L1186.49 65.6895 L1186.49 72.576 L1148.08 72.576 L1148.08 65.6895 Q1152.74 60.8689 1160.76 52.7671 Q1168.82 44.6248 1170.89 42.2752 Q1174.82 37.8598 1176.36 34.8216 Q1177.94 31.7429 1177.94 28.7857 Q1177.94 23.9651 1174.54 20.927 Q1171.17 17.8888 1165.74 17.8888 Q1161.9 17.8888 1157.6 19.2256 Q1153.35 20.5624 1148.49 23.2765 L1148.49 15.0127 Q1153.43 13.0277 1157.72 12.015 Q1162.02 11.0023 1165.58 11.0023 Q1174.98 11.0023 1180.57 15.7013 Q1186.16 20.4004 1186.16 28.2591 Q1186.16 31.9859 1184.74 35.3482 Q1183.37 38.6699 1179.68 43.2069 Q1178.67 44.3817 1173.24 50.0125 Q1167.81 55.6027 1157.93 65.6895 Z\" fill=\"#000000\" fill-rule=\"evenodd\" fill-opacity=\"1\" /><path clip-path=\"url(#clip900)\" d=\"M1223.63 27.2059 L1231.53 27.2059 L1245.71 65.2844 L1259.89 27.2059 L1267.79 27.2059 L1250.77 72.576 L1240.65 72.576 L1223.63 27.2059 Z\" fill=\"#000000\" fill-rule=\"evenodd\" fill-opacity=\"1\" /><path clip-path=\"url(#clip900)\" d=\"M1307 28.5427 L1307 35.5912 Q1303.84 33.9709 1300.44 33.1607 Q1297.03 32.3505 1293.39 32.3505 Q1287.84 32.3505 1285.04 34.0519 Q1282.29 35.7533 1282.29 39.156 Q1282.29 41.7486 1284.27 43.2475 Q1286.26 44.7058 1292.25 46.0426 L1294.81 46.6097 Q1302.75 48.3111 1306.07 51.4303 Q1309.43 54.509 1309.43 60.0587 Q1309.43 66.3781 1304.41 70.0644 Q1299.42 73.7508 1290.67 73.7508 Q1287.03 73.7508 1283.06 73.0216 Q1279.13 72.3329 1274.75 70.9151 L1274.75 63.2184 Q1278.89 65.3654 1282.9 66.4591 Q1286.91 67.5124 1290.84 67.5124 Q1296.1 67.5124 1298.94 65.73 Q1301.77 63.9071 1301.77 60.6258 Q1301.77 57.5877 1299.71 55.9673 Q1297.68 54.3469 1290.76 52.8481 L1288.16 52.2405 Q1281.24 50.7821 1278.16 47.7845 Q1275.08 44.7463 1275.08 39.4801 Q1275.08 33.0797 1279.62 29.5959 Q1284.15 26.1121 1292.5 26.1121 Q1296.63 26.1121 1300.28 26.7198 Q1303.92 27.3274 1307 28.5427 Z\" fill=\"#000000\" fill-rule=\"evenodd\" fill-opacity=\"1\" /><path clip-path=\"url(#clip900)\" d=\"M1347.99 12.096 L1356.18 12.096 L1356.18 68.3631 Q1356.18 79.3005 1352.01 84.2426 Q1347.87 89.1847 1338.68 89.1847 L1335.56 89.1847 L1335.56 82.2982 L1338.11 82.2982 Q1343.54 82.2982 1345.77 79.26 Q1347.99 76.2218 1347.99 68.3631 L1347.99 12.096 Z\" fill=\"#000000\" fill-rule=\"evenodd\" fill-opacity=\"1\" /><path clip-path=\"url(#clip900)\" d=\"M1392.76 49.7694 Q1383.72 49.7694 1380.24 51.8354 Q1376.76 53.9013 1376.76 58.8839 Q1376.76 62.8538 1379.35 65.2034 Q1381.98 67.5124 1386.48 67.5124 Q1392.68 67.5124 1396.4 63.1374 Q1400.17 58.7219 1400.17 51.4303 L1400.17 49.7694 L1392.76 49.7694 M1407.62 46.6907 L1407.62 72.576 L1400.17 72.576 L1400.17 65.6895 Q1397.62 69.8214 1393.81 71.8063 Q1390 73.7508 1384.49 73.7508 Q1377.53 73.7508 1373.39 69.8619 Q1369.3 65.9325 1369.3 59.3701 Q1369.3 51.7138 1374.41 47.825 Q1379.55 43.9361 1389.72 43.9361 L1400.17 43.9361 L1400.17 43.2069 Q1400.17 38.0623 1396.77 35.2672 Q1393.41 32.4315 1387.29 32.4315 Q1383.4 32.4315 1379.71 33.3632 Q1376.03 34.295 1372.62 36.1584 L1372.62 29.2718 Q1376.72 27.692 1380.56 26.9223 Q1384.41 26.1121 1388.06 26.1121 Q1397.9 26.1121 1402.76 31.2163 Q1407.62 36.3204 1407.62 46.6907 Z\" fill=\"#000000\" fill-rule=\"evenodd\" fill-opacity=\"1\" /><path clip-path=\"url(#clip900)\" d=\"M1460.69 45.1919 L1460.69 72.576 L1453.24 72.576 L1453.24 45.4349 Q1453.24 38.994 1450.73 35.7938 Q1448.21 32.5936 1443.19 32.5936 Q1437.16 32.5936 1433.67 36.4419 Q1430.19 40.2903 1430.19 46.9338 L1430.19 72.576 L1422.69 72.576 L1422.69 27.2059 L1430.19 27.2059 L1430.19 34.2544 Q1432.86 30.163 1436.47 28.1376 Q1440.11 26.1121 1444.85 26.1121 Q1452.67 26.1121 1456.68 30.9732 Q1460.69 35.7938 1460.69 45.1919 Z\" fill=\"#000000\" fill-rule=\"evenodd\" fill-opacity=\"1\" /><path clip-path=\"url(#clip900)\" d=\"M1522.47 20.1573 L1511.37 50.2555 L1533.61 50.2555 L1522.47 20.1573 M1517.85 12.096 L1527.13 12.096 L1550.18 72.576 L1541.67 72.576 L1536.16 57.061 L1508.9 57.061 L1503.39 72.576 L1494.76 72.576 L1517.85 12.096 Z\" fill=\"#000000\" fill-rule=\"evenodd\" fill-opacity=\"1\" /><path clip-path=\"url(#clip900)\" d=\"M1548.47 27.2059 L1556.37 27.2059 L1570.55 65.2844 L1584.73 27.2059 L1592.63 27.2059 L1575.62 72.576 L1565.49 72.576 L1548.47 27.2059 Z\" fill=\"#000000\" fill-rule=\"evenodd\" fill-opacity=\"1\" /><path clip-path=\"url(#clip900)\" d=\"M1641.73 48.0275 L1641.73 51.6733 L1607.46 51.6733 Q1607.94 59.3701 1612.07 63.421 Q1616.25 67.4314 1623.66 67.4314 Q1627.95 67.4314 1631.96 66.3781 Q1636.01 65.3249 1639.98 63.2184 L1639.98 70.267 Q1635.97 71.9684 1631.76 72.8596 Q1627.55 73.7508 1623.21 73.7508 Q1612.36 73.7508 1606 67.4314 Q1599.68 61.1119 1599.68 50.3365 Q1599.68 39.1965 1605.67 32.6746 Q1611.71 26.1121 1621.92 26.1121 Q1631.07 26.1121 1636.38 32.0264 Q1641.73 37.9003 1641.73 48.0275 M1634.27 45.84 Q1634.19 39.7232 1630.83 36.0774 Q1627.51 32.4315 1622 32.4315 Q1615.76 32.4315 1611.99 35.9558 Q1608.27 39.4801 1607.7 45.8805 L1634.27 45.84 Z\" fill=\"#000000\" fill-rule=\"evenodd\" fill-opacity=\"1\" /><path clip-path=\"url(#clip900)\" d=\"M1680.25 34.1734 Q1678.99 33.4443 1677.5 33.1202 Q1676.04 32.7556 1674.25 32.7556 Q1667.94 32.7556 1664.53 36.8875 Q1661.17 40.9789 1661.17 48.6757 L1661.17 72.576 L1653.68 72.576 L1653.68 27.2059 L1661.17 27.2059 L1661.17 34.2544 Q1663.52 30.1225 1667.29 28.1376 Q1671.05 26.1121 1676.44 26.1121 Q1677.21 26.1121 1678.14 26.2337 Q1679.08 26.3147 1680.21 26.5172 L1680.25 34.1734 Z\" fill=\"#000000\" fill-rule=\"evenodd\" fill-opacity=\"1\" /><path clip-path=\"url(#clip900)\" d=\"M1708.69 49.7694 Q1699.65 49.7694 1696.17 51.8354 Q1692.69 53.9013 1692.69 58.8839 Q1692.69 62.8538 1695.28 65.2034 Q1697.91 67.5124 1702.41 67.5124 Q1708.61 67.5124 1712.33 63.1374 Q1716.1 58.7219 1716.1 51.4303 L1716.1 49.7694 L1708.69 49.7694 M1723.55 46.6907 L1723.55 72.576 L1716.1 72.576 L1716.1 65.6895 Q1713.55 69.8214 1709.74 71.8063 Q1705.93 73.7508 1700.42 73.7508 Q1693.46 73.7508 1689.32 69.8619 Q1685.23 65.9325 1685.23 59.3701 Q1685.23 51.7138 1690.34 47.825 Q1695.48 43.9361 1705.65 43.9361 L1716.1 43.9361 L1716.1 43.2069 Q1716.1 38.0623 1712.7 35.2672 Q1709.34 32.4315 1703.22 32.4315 Q1699.33 32.4315 1695.64 33.3632 Q1691.96 34.295 1688.55 36.1584 L1688.55 29.2718 Q1692.65 27.692 1696.49 26.9223 Q1700.34 26.1121 1703.99 26.1121 Q1713.83 26.1121 1718.69 31.2163 Q1723.55 36.3204 1723.55 46.6907 Z\" fill=\"#000000\" fill-rule=\"evenodd\" fill-opacity=\"1\" /><path clip-path=\"url(#clip900)\" d=\"M1768.76 49.3643 Q1768.76 41.2625 1765.4 36.8065 Q1762.08 32.3505 1756.04 32.3505 Q1750.05 32.3505 1746.68 36.8065 Q1743.36 41.2625 1743.36 49.3643 Q1743.36 57.4256 1746.68 61.8816 Q1750.05 66.3376 1756.04 66.3376 Q1762.08 66.3376 1765.4 61.8816 Q1768.76 57.4256 1768.76 49.3643 M1776.22 66.9452 Q1776.22 78.5308 1771.07 84.1616 Q1765.93 89.8329 1755.31 89.8329 Q1751.38 89.8329 1747.9 89.2252 Q1744.42 88.6581 1741.14 87.4428 L1741.14 80.1917 Q1744.42 81.9741 1747.62 82.8248 Q1750.82 83.6755 1754.14 83.6755 Q1761.47 83.6755 1765.12 79.8271 Q1768.76 76.0193 1768.76 68.282 L1768.76 64.5957 Q1766.45 68.6061 1762.85 70.5911 Q1759.24 72.576 1754.22 72.576 Q1745.87 72.576 1740.77 66.2161 Q1735.67 59.8562 1735.67 49.3643 Q1735.67 38.832 1740.77 32.472 Q1745.87 26.1121 1754.22 26.1121 Q1759.24 26.1121 1762.85 28.0971 Q1766.45 30.082 1768.76 34.0924 L1768.76 27.2059 L1776.22 27.2059 L1776.22 66.9452 Z\" fill=\"#000000\" fill-rule=\"evenodd\" fill-opacity=\"1\" /><path clip-path=\"url(#clip900)\" d=\"M1830.38 48.0275 L1830.38 51.6733 L1796.11 51.6733 Q1796.59 59.3701 1800.72 63.421 Q1804.9 67.4314 1812.31 67.4314 Q1816.6 67.4314 1820.61 66.3781 Q1824.66 65.3249 1828.63 63.2184 L1828.63 70.267 Q1824.62 71.9684 1820.41 72.8596 Q1816.2 73.7508 1811.86 73.7508 Q1801.01 73.7508 1794.65 67.4314 Q1788.33 61.1119 1788.33 50.3365 Q1788.33 39.1965 1794.32 32.6746 Q1800.36 26.1121 1810.57 26.1121 Q1819.72 26.1121 1825.03 32.0264 Q1830.38 37.9003 1830.38 48.0275 M1822.92 45.84 Q1822.84 39.7232 1819.48 36.0774 Q1816.16 32.4315 1810.65 32.4315 Q1804.41 32.4315 1800.64 35.9558 Q1796.92 39.4801 1796.35 45.8805 L1822.92 45.84 Z\" fill=\"#000000\" fill-rule=\"evenodd\" fill-opacity=\"1\" /><path clip-path=\"url(#clip900)\" d=\"M1904.31 35.9153 Q1907.1 30.8922 1910.99 28.5022 Q1914.88 26.1121 1920.14 26.1121 Q1927.23 26.1121 1931.08 31.0947 Q1934.93 36.0368 1934.93 45.1919 L1934.93 72.576 L1927.44 72.576 L1927.44 45.4349 Q1927.44 38.913 1925.13 35.7533 Q1922.82 32.5936 1918.08 32.5936 Q1912.29 32.5936 1908.92 36.4419 Q1905.56 40.2903 1905.56 46.9338 L1905.56 72.576 L1898.07 72.576 L1898.07 45.4349 Q1898.07 38.8725 1895.76 35.7533 Q1893.45 32.5936 1888.63 32.5936 Q1882.92 32.5936 1879.55 36.4824 Q1876.19 40.3308 1876.19 46.9338 L1876.19 72.576 L1868.7 72.576 L1868.7 27.2059 L1876.19 27.2059 L1876.19 34.2544 Q1878.74 30.082 1882.31 28.0971 Q1885.87 26.1121 1890.78 26.1121 Q1895.72 26.1121 1899.16 28.6237 Q1902.64 31.1352 1904.31 35.9153 Z\" fill=\"#000000\" fill-rule=\"evenodd\" fill-opacity=\"1\" /><path clip-path=\"url(#clip900)\" d=\"M1949.8 27.2059 L1957.25 27.2059 L1957.25 72.576 L1949.8 72.576 L1949.8 27.2059 M1949.8 9.54393 L1957.25 9.54393 L1957.25 18.9825 L1949.8 18.9825 L1949.8 9.54393 Z\" fill=\"#000000\" fill-rule=\"evenodd\" fill-opacity=\"1\" /><path clip-path=\"url(#clip900)\" d=\"M2010.56 45.1919 L2010.56 72.576 L2003.11 72.576 L2003.11 45.4349 Q2003.11 38.994 2000.6 35.7938 Q1998.08 32.5936 1993.06 32.5936 Q1987.02 32.5936 1983.54 36.4419 Q1980.06 40.2903 1980.06 46.9338 L1980.06 72.576 L1972.56 72.576 L1972.56 27.2059 L1980.06 27.2059 L1980.06 34.2544 Q1982.73 30.163 1986.34 28.1376 Q1989.98 26.1121 1994.72 26.1121 Q2002.54 26.1121 2006.55 30.9732 Q2010.56 35.7938 2010.56 45.1919 Z\" fill=\"#000000\" fill-rule=\"evenodd\" fill-opacity=\"1\" /><path clip-path=\"url(#clip900)\" d=\"M2059.17 14.324 L2059.17 27.2059 L2074.52 27.2059 L2074.52 32.9987 L2059.17 32.9987 L2059.17 57.6282 Q2059.17 63.1779 2060.67 64.7578 Q2062.21 66.3376 2066.87 66.3376 L2074.52 66.3376 L2074.52 72.576 L2066.87 72.576 Q2058.24 72.576 2054.96 69.3758 Q2051.68 66.1351 2051.68 57.6282 L2051.68 32.9987 L2046.21 32.9987 L2046.21 27.2059 L2051.68 27.2059 L2051.68 14.324 L2059.17 14.324 Z\" fill=\"#000000\" fill-rule=\"evenodd\" fill-opacity=\"1\" /><path clip-path=\"url(#clip900)\" d=\"M2123.14 48.0275 L2123.14 51.6733 L2088.86 51.6733 Q2089.35 59.3701 2093.48 63.421 Q2097.66 67.4314 2105.07 67.4314 Q2109.36 67.4314 2113.37 66.3781 Q2117.42 65.3249 2121.39 63.2184 L2121.39 70.267 Q2117.38 71.9684 2113.17 72.8596 Q2108.96 73.7508 2104.62 73.7508 Q2093.77 73.7508 2087.41 67.4314 Q2081.09 61.1119 2081.09 50.3365 Q2081.09 39.1965 2087.08 32.6746 Q2093.12 26.1121 2103.33 26.1121 Q2112.48 26.1121 2117.79 32.0264 Q2123.14 37.9003 2123.14 48.0275 M2115.68 45.84 Q2115.6 39.7232 2112.24 36.0774 Q2108.92 32.4315 2103.41 32.4315 Q2097.17 32.4315 2093.4 35.9558 Q2089.67 39.4801 2089.11 45.8805 L2115.68 45.84 Z\" fill=\"#000000\" fill-rule=\"evenodd\" fill-opacity=\"1\" /><path clip-path=\"url(#clip900)\" d=\"M2170.69 35.9153 Q2173.49 30.8922 2177.38 28.5022 Q2181.27 26.1121 2186.53 26.1121 Q2193.62 26.1121 2197.47 31.0947 Q2201.32 36.0368 2201.32 45.1919 L2201.32 72.576 L2193.82 72.576 L2193.82 45.4349 Q2193.82 38.913 2191.51 35.7533 Q2189.21 32.5936 2184.47 32.5936 Q2178.67 32.5936 2175.31 36.4419 Q2171.95 40.2903 2171.95 46.9338 L2171.95 72.576 L2164.45 72.576 L2164.45 45.4349 Q2164.45 38.8725 2162.15 35.7533 Q2159.84 32.5936 2155.02 32.5936 Q2149.3 32.5936 2145.94 36.4824 Q2142.58 40.3308 2142.58 46.9338 L2142.58 72.576 L2135.09 72.576 L2135.09 27.2059 L2142.58 27.2059 L2142.58 34.2544 Q2145.13 30.082 2148.7 28.0971 Q2152.26 26.1121 2157.16 26.1121 Q2162.11 26.1121 2165.55 28.6237 Q2169.03 31.1352 2170.69 35.9153 Z\" fill=\"#000000\" fill-rule=\"evenodd\" fill-opacity=\"1\" /><path clip-path=\"url(#clip900)\" d=\"M2223.4 65.7705 L2223.4 89.8329 L2215.9 89.8329 L2215.9 27.2059 L2223.4 27.2059 L2223.4 34.0924 Q2225.74 30.0415 2229.31 28.0971 Q2232.91 26.1121 2237.9 26.1121 Q2246.16 26.1121 2251.31 32.6746 Q2256.49 39.2371 2256.49 49.9314 Q2256.49 60.6258 2251.31 67.1883 Q2246.16 73.7508 2237.9 73.7508 Q2232.91 73.7508 2229.31 71.8063 Q2225.74 69.8214 2223.4 65.7705 M2248.75 49.9314 Q2248.75 41.7081 2245.35 37.0496 Q2241.99 32.3505 2236.07 32.3505 Q2230.16 32.3505 2226.76 37.0496 Q2223.4 41.7081 2223.4 49.9314 Q2223.4 58.1548 2226.76 62.8538 Q2230.16 67.5124 2236.07 67.5124 Q2241.99 67.5124 2245.35 62.8538 Q2248.75 58.1548 2248.75 49.9314 Z\" fill=\"#000000\" fill-rule=\"evenodd\" fill-opacity=\"1\" /><path clip-path=\"url(#clip900)\" d=\"M2303.32 65.6895 L2331.88 65.6895 L2331.88 72.576 L2293.48 72.576 L2293.48 65.6895 Q2298.13 60.8689 2306.16 52.7671 Q2314.22 44.6248 2316.28 42.2752 Q2320.21 37.8598 2321.75 34.8216 Q2323.33 31.7429 2323.33 28.7857 Q2323.33 23.9651 2319.93 20.927 Q2316.57 17.8888 2311.14 17.8888 Q2307.29 17.8888 2303 19.2256 Q2298.74 20.5624 2293.88 23.2765 L2293.88 15.0127 Q2298.82 13.0277 2303.12 12.015 Q2307.41 11.0023 2310.98 11.0023 Q2320.37 11.0023 2325.96 15.7013 Q2331.55 20.4004 2331.55 28.2591 Q2331.55 31.9859 2330.14 35.3482 Q2328.76 38.6699 2325.07 43.2069 Q2324.06 44.3817 2318.63 50.0125 Q2313.2 55.6027 2303.32 65.6895 Z\" fill=\"#000000\" fill-rule=\"evenodd\" fill-opacity=\"1\" /><path clip-path=\"url(#clip900)\" d=\"M2366.55 17.4837 Q2360.23 17.4837 2357.03 23.7221 Q2353.87 29.92 2353.87 42.3968 Q2353.87 54.833 2357.03 61.0714 Q2360.23 67.2693 2366.55 67.2693 Q2372.91 67.2693 2376.07 61.0714 Q2379.27 54.833 2379.27 42.3968 Q2379.27 29.92 2376.07 23.7221 Q2372.91 17.4837 2366.55 17.4837 M2366.55 11.0023 Q2376.72 11.0023 2382.07 19.0636 Q2387.46 27.0843 2387.46 42.3968 Q2387.46 57.6687 2382.07 65.73 Q2376.72 73.7508 2366.55 73.7508 Q2356.39 73.7508 2351 65.73 Q2345.65 57.6687 2345.65 42.3968 Q2345.65 27.0843 2351 19.0636 Q2356.39 11.0023 2366.55 11.0023 Z\" fill=\"#000000\" fill-rule=\"evenodd\" fill-opacity=\"1\" /><path clip-path=\"url(#clip900)\" d=\"M2403.26 65.6895 L2416.62 65.6895 L2416.62 19.5497 L2402.08 22.4663 L2402.08 15.0127 L2416.54 12.096 L2424.73 12.096 L2424.73 65.6895 L2438.09 65.6895 L2438.09 72.576 L2403.26 72.576 L2403.26 65.6895 Z\" fill=\"#000000\" fill-rule=\"evenodd\" fill-opacity=\"1\" /><path clip-path=\"url(#clip900)\" d=\"M2461.67 65.6895 L2490.23 65.6895 L2490.23 72.576 L2451.83 72.576 L2451.83 65.6895 Q2456.48 60.8689 2464.51 52.7671 Q2472.57 44.6248 2474.63 42.2752 Q2478.56 37.8598 2480.1 34.8216 Q2481.68 31.7429 2481.68 28.7857 Q2481.68 23.9651 2478.28 20.927 Q2474.92 17.8888 2469.49 17.8888 Q2465.64 17.8888 2461.35 19.2256 Q2457.09 20.5624 2452.23 23.2765 L2452.23 15.0127 Q2457.17 13.0277 2461.47 12.015 Q2465.76 11.0023 2469.33 11.0023 Q2478.72 11.0023 2484.31 15.7013 Q2489.9 20.4004 2489.9 28.2591 Q2489.9 31.9859 2488.49 35.3482 Q2487.11 38.6699 2483.42 43.2069 Q2482.41 44.3817 2476.98 50.0125 Q2471.55 55.6027 2461.67 65.6895 Z\" fill=\"#000000\" fill-rule=\"evenodd\" fill-opacity=\"1\" /><polyline clip-path=\"url(#clip902)\" style=\"stroke:#009af9; stroke-linecap:round; stroke-linejoin:round; stroke-width:4; stroke-opacity:1; fill:none\" points=\"\n",
       "  264.778,962.604 467.495,698.329 670.211,1386.4 872.927,760.231 1075.64,519.765 1278.36,862.608 1481.08,407.865 1683.79,1372.11 1886.51,803.087 2089.22,384.056 \n",
       "  2291.94,160.256 \n",
       "  \"/>\n",
       "<polyline clip-path=\"url(#clip902)\" style=\"stroke:#e26f46; stroke-linecap:round; stroke-linejoin:round; stroke-width:4; stroke-opacity:1; fill:none\" points=\"\n",
       "  264.778,562.62 467.495,674.521 670.211,1114.98 872.927,874.512 1075.64,822.133 1278.36,614.999 1481.08,879.274 1683.79,822.133 1886.51,386.437 2089.22,245.967 \n",
       "  2291.94,907.844 \n",
       "  \"/>\n",
       "<path clip-path=\"url(#clip900)\" d=\"\n",
       "M275.59 322.316 L892.921 322.316 L892.921 166.796 L275.59 166.796  Z\n",
       "  \" fill=\"#ffffff\" fill-rule=\"evenodd\" fill-opacity=\"1\"/>\n",
       "<polyline clip-path=\"url(#clip900)\" style=\"stroke:#000000; stroke-linecap:round; stroke-linejoin:round; stroke-width:4; stroke-opacity:1; fill:none\" points=\"\n",
       "  275.59,322.316 892.921,322.316 892.921,166.796 275.59,166.796 275.59,322.316 \n",
       "  \"/>\n",
       "<polyline clip-path=\"url(#clip900)\" style=\"stroke:#009af9; stroke-linecap:round; stroke-linejoin:round; stroke-width:4; stroke-opacity:1; fill:none\" points=\"\n",
       "  299.465,218.636 442.718,218.636 \n",
       "  \"/>\n",
       "<path clip-path=\"url(#clip900)\" d=\"M471.918 209.99 L476.177 209.99 L476.177 236.379 Q476.177 241.332 474.279 243.555 Q472.404 245.777 468.214 245.777 L466.594 245.777 L466.594 242.166 L467.728 242.166 Q470.159 242.166 471.038 241.031 Q471.918 239.92 471.918 236.379 L471.918 209.99 M471.918 199.897 L476.177 199.897 L476.177 205.291 L471.918 205.291 L471.918 199.897 Z\" fill=\"#000000\" fill-rule=\"evenodd\" fill-opacity=\"1\" /><path clip-path=\"url(#clip900)\" d=\"M496.871 222.883 Q491.709 222.883 489.719 224.064 Q487.728 225.244 487.728 228.092 Q487.728 230.36 489.209 231.703 Q490.714 233.022 493.283 233.022 Q496.825 233.022 498.955 230.522 Q501.107 227.999 501.107 223.832 L501.107 222.883 L496.871 222.883 M505.367 221.124 L505.367 235.916 L501.107 235.916 L501.107 231.981 Q499.649 234.342 497.473 235.476 Q495.297 236.587 492.149 236.587 Q488.168 236.587 485.807 234.365 Q483.469 232.119 483.469 228.369 Q483.469 223.994 486.385 221.772 Q489.325 219.55 495.135 219.55 L501.107 219.55 L501.107 219.133 Q501.107 216.194 499.163 214.596 Q497.242 212.976 493.746 212.976 Q491.524 212.976 489.418 213.508 Q487.311 214.041 485.367 215.106 L485.367 211.17 Q487.705 210.268 489.904 209.828 Q492.103 209.365 494.186 209.365 Q499.811 209.365 502.589 212.282 Q505.367 215.198 505.367 221.124 Z\" fill=\"#000000\" fill-rule=\"evenodd\" fill-opacity=\"1\" /><path clip-path=\"url(#clip900)\" d=\"M535.691 220.268 L535.691 235.916 L531.431 235.916 L531.431 220.407 Q531.431 216.726 529.996 214.897 Q528.561 213.069 525.691 213.069 Q522.242 213.069 520.251 215.268 Q518.26 217.467 518.26 221.263 L518.26 235.916 L513.978 235.916 L513.978 209.99 L518.26 209.99 L518.26 214.018 Q519.788 211.68 521.848 210.522 Q523.931 209.365 526.64 209.365 Q531.107 209.365 533.399 212.143 Q535.691 214.897 535.691 220.268 Z\" fill=\"#000000\" fill-rule=\"evenodd\" fill-opacity=\"1\" /><path clip-path=\"url(#clip900)\" d=\"M548.399 202.629 L548.399 209.99 L557.172 209.99 L557.172 213.3 L548.399 213.3 L548.399 227.374 Q548.399 230.545 549.255 231.448 Q550.135 232.351 552.797 232.351 L557.172 232.351 L557.172 235.916 L552.797 235.916 Q547.866 235.916 545.991 234.087 Q544.116 232.235 544.116 227.374 L544.116 213.3 L540.991 213.3 L540.991 209.99 L544.116 209.99 L544.116 202.629 L548.399 202.629 Z\" fill=\"#000000\" fill-rule=\"evenodd\" fill-opacity=\"1\" /><path clip-path=\"url(#clip900)\" d=\"M584.95 221.888 L584.95 223.971 L565.366 223.971 Q565.644 228.369 568.005 230.684 Q570.389 232.976 574.626 232.976 Q577.079 232.976 579.371 232.374 Q581.686 231.772 583.954 230.569 L583.954 234.596 Q581.663 235.568 579.255 236.078 Q576.848 236.587 574.371 236.587 Q568.167 236.587 564.533 232.976 Q560.922 229.365 560.922 223.207 Q560.922 216.842 564.348 213.115 Q567.797 209.365 573.63 209.365 Q578.862 209.365 581.894 212.745 Q584.95 216.101 584.95 221.888 M580.69 220.638 Q580.644 217.143 578.723 215.059 Q576.825 212.976 573.677 212.976 Q570.112 212.976 567.959 214.99 Q565.829 217.004 565.505 220.661 L580.69 220.638 Z\" fill=\"#000000\" fill-rule=\"evenodd\" fill-opacity=\"1\" /><path clip-path=\"url(#clip900)\" d=\"M612.125 214.967 Q613.723 212.096 615.945 210.731 Q618.167 209.365 621.176 209.365 Q625.227 209.365 627.426 212.212 Q629.625 215.036 629.625 220.268 L629.625 235.916 L625.343 235.916 L625.343 220.407 Q625.343 216.68 624.023 214.874 Q622.704 213.069 619.996 213.069 Q616.686 213.069 614.764 215.268 Q612.843 217.467 612.843 221.263 L612.843 235.916 L608.561 235.916 L608.561 220.407 Q608.561 216.657 607.241 214.874 Q605.922 213.069 603.167 213.069 Q599.903 213.069 597.982 215.291 Q596.061 217.49 596.061 221.263 L596.061 235.916 L591.778 235.916 L591.778 209.99 L596.061 209.99 L596.061 214.018 Q597.519 211.633 599.556 210.499 Q601.593 209.365 604.394 209.365 Q607.218 209.365 609.186 210.8 Q611.176 212.235 612.125 214.967 Z\" fill=\"#000000\" fill-rule=\"evenodd\" fill-opacity=\"1\" /><path clip-path=\"url(#clip900)\" d=\"M642.241 232.027 L642.241 245.777 L637.959 245.777 L637.959 209.99 L642.241 209.99 L642.241 213.925 Q643.584 211.61 645.621 210.499 Q647.681 209.365 650.528 209.365 Q655.25 209.365 658.19 213.115 Q661.153 216.865 661.153 222.976 Q661.153 229.087 658.19 232.837 Q655.25 236.587 650.528 236.587 Q647.681 236.587 645.621 235.476 Q643.584 234.342 642.241 232.027 M656.732 222.976 Q656.732 218.277 654.787 215.615 Q652.866 212.93 649.486 212.93 Q646.107 212.93 644.162 215.615 Q642.241 218.277 642.241 222.976 Q642.241 227.675 644.162 230.36 Q646.107 233.022 649.486 233.022 Q652.866 233.022 654.787 230.36 Q656.732 227.675 656.732 222.976 Z\" fill=\"#000000\" fill-rule=\"evenodd\" fill-opacity=\"1\" /><path clip-path=\"url(#clip900)\" d=\"M688.398 214.967 Q689.995 212.096 692.218 210.731 Q694.44 209.365 697.449 209.365 Q701.5 209.365 703.699 212.212 Q705.898 215.036 705.898 220.268 L705.898 235.916 L701.616 235.916 L701.616 220.407 Q701.616 216.68 700.296 214.874 Q698.977 213.069 696.268 213.069 Q692.958 213.069 691.037 215.268 Q689.116 217.467 689.116 221.263 L689.116 235.916 L684.833 235.916 L684.833 220.407 Q684.833 216.657 683.514 214.874 Q682.194 213.069 679.44 213.069 Q676.176 213.069 674.255 215.291 Q672.333 217.49 672.333 221.263 L672.333 235.916 L668.051 235.916 L668.051 209.99 L672.333 209.99 L672.333 214.018 Q673.792 211.633 675.829 210.499 Q677.866 209.365 680.667 209.365 Q683.491 209.365 685.458 210.8 Q687.449 212.235 688.398 214.967 Z\" fill=\"#000000\" fill-rule=\"evenodd\" fill-opacity=\"1\" /><path clip-path=\"url(#clip900)\" d=\"M714.393 209.99 L718.653 209.99 L718.653 235.916 L714.393 235.916 L714.393 209.99 M714.393 199.897 L718.653 199.897 L718.653 205.291 L714.393 205.291 L714.393 199.897 Z\" fill=\"#000000\" fill-rule=\"evenodd\" fill-opacity=\"1\" /><path clip-path=\"url(#clip900)\" d=\"M749.115 220.268 L749.115 235.916 L744.856 235.916 L744.856 220.407 Q744.856 216.726 743.421 214.897 Q741.986 213.069 739.115 213.069 Q735.666 213.069 733.676 215.268 Q731.685 217.467 731.685 221.263 L731.685 235.916 L727.403 235.916 L727.403 209.99 L731.685 209.99 L731.685 214.018 Q733.213 211.68 735.273 210.522 Q737.356 209.365 740.065 209.365 Q744.532 209.365 746.824 212.143 Q749.115 214.897 749.115 220.268 Z\" fill=\"#000000\" fill-rule=\"evenodd\" fill-opacity=\"1\" /><path clip-path=\"url(#clip900)\" d=\"M759.023 231.981 L766.662 231.981 L766.662 205.615 L758.351 207.282 L758.351 203.022 L766.615 201.356 L771.291 201.356 L771.291 231.981 L778.93 231.981 L778.93 235.916 L759.023 235.916 L759.023 231.981 Z\" fill=\"#000000\" fill-rule=\"evenodd\" fill-opacity=\"1\" /><path clip-path=\"url(#clip900)\" d=\"M788.513 235.198 L788.513 230.939 Q790.273 231.772 792.078 232.212 Q793.884 232.652 795.62 232.652 Q800.249 232.652 802.68 229.55 Q805.134 226.425 805.481 220.082 Q804.138 222.073 802.078 223.138 Q800.018 224.203 797.518 224.203 Q792.333 224.203 789.3 221.078 Q786.291 217.93 786.291 212.49 Q786.291 207.166 789.439 203.948 Q792.587 200.731 797.819 200.731 Q803.814 200.731 806.962 205.337 Q810.134 209.92 810.134 218.67 Q810.134 226.842 806.245 231.726 Q802.379 236.587 795.828 236.587 Q794.069 236.587 792.263 236.24 Q790.458 235.893 788.513 235.198 M797.819 220.545 Q800.967 220.545 802.796 218.393 Q804.647 216.24 804.647 212.49 Q804.647 208.763 802.796 206.61 Q800.967 204.434 797.819 204.434 Q794.671 204.434 792.819 206.61 Q790.99 208.763 790.99 212.49 Q790.99 216.24 792.819 218.393 Q794.671 220.545 797.819 220.545 Z\" fill=\"#000000\" fill-rule=\"evenodd\" fill-opacity=\"1\" /><path clip-path=\"url(#clip900)\" d=\"M822.564 231.981 L838.883 231.981 L838.883 235.916 L816.939 235.916 L816.939 231.981 Q819.601 229.226 824.184 224.596 Q828.791 219.944 829.971 218.601 Q832.217 216.078 833.096 214.342 Q833.999 212.583 833.999 210.893 Q833.999 208.138 832.055 206.402 Q830.133 204.666 827.032 204.666 Q824.833 204.666 822.379 205.43 Q819.948 206.194 817.171 207.745 L817.171 203.022 Q819.995 201.888 822.448 201.309 Q824.902 200.731 826.939 200.731 Q832.309 200.731 835.504 203.416 Q838.698 206.101 838.698 210.592 Q838.698 212.721 837.888 214.643 Q837.101 216.541 834.995 219.133 Q834.416 219.805 831.314 223.022 Q828.212 226.217 822.564 231.981 Z\" fill=\"#000000\" fill-rule=\"evenodd\" fill-opacity=\"1\" /><path clip-path=\"url(#clip900)\" d=\"M852.726 231.981 L869.045 231.981 L869.045 235.916 L847.101 235.916 L847.101 231.981 Q849.763 229.226 854.346 224.596 Q858.953 219.944 860.133 218.601 Q862.379 216.078 863.258 214.342 Q864.161 212.583 864.161 210.893 Q864.161 208.138 862.217 206.402 Q860.295 204.666 857.194 204.666 Q854.994 204.666 852.541 205.43 Q850.11 206.194 847.332 207.745 L847.332 203.022 Q850.157 201.888 852.61 201.309 Q855.064 200.731 857.101 200.731 Q862.471 200.731 865.666 203.416 Q868.86 206.101 868.86 210.592 Q868.86 212.721 868.05 214.643 Q867.263 216.541 865.156 219.133 Q864.578 219.805 861.476 223.022 Q858.374 226.217 852.726 231.981 Z\" fill=\"#000000\" fill-rule=\"evenodd\" fill-opacity=\"1\" /><polyline clip-path=\"url(#clip900)\" style=\"stroke:#e26f46; stroke-linecap:round; stroke-linejoin:round; stroke-width:4; stroke-opacity:1; fill:none\" points=\"\n",
       "  299.465,270.476 442.718,270.476 \n",
       "  \"/>\n",
       "<path clip-path=\"url(#clip900)\" d=\"M471.918 261.83 L476.177 261.83 L476.177 288.219 Q476.177 293.172 474.279 295.395 Q472.404 297.617 468.214 297.617 L466.594 297.617 L466.594 294.006 L467.728 294.006 Q470.159 294.006 471.038 292.871 Q471.918 291.76 471.918 288.219 L471.918 261.83 M471.918 251.737 L476.177 251.737 L476.177 257.131 L471.918 257.131 L471.918 251.737 Z\" fill=\"#000000\" fill-rule=\"evenodd\" fill-opacity=\"1\" /><path clip-path=\"url(#clip900)\" d=\"M496.871 274.723 Q491.709 274.723 489.719 275.904 Q487.728 277.084 487.728 279.932 Q487.728 282.2 489.209 283.543 Q490.714 284.862 493.283 284.862 Q496.825 284.862 498.955 282.362 Q501.107 279.839 501.107 275.672 L501.107 274.723 L496.871 274.723 M505.367 272.964 L505.367 287.756 L501.107 287.756 L501.107 283.821 Q499.649 286.182 497.473 287.316 Q495.297 288.427 492.149 288.427 Q488.168 288.427 485.807 286.205 Q483.469 283.959 483.469 280.209 Q483.469 275.834 486.385 273.612 Q489.325 271.39 495.135 271.39 L501.107 271.39 L501.107 270.973 Q501.107 268.034 499.163 266.436 Q497.242 264.816 493.746 264.816 Q491.524 264.816 489.418 265.348 Q487.311 265.881 485.367 266.946 L485.367 263.01 Q487.705 262.108 489.904 261.668 Q492.103 261.205 494.186 261.205 Q499.811 261.205 502.589 264.122 Q505.367 267.038 505.367 272.964 Z\" fill=\"#000000\" fill-rule=\"evenodd\" fill-opacity=\"1\" /><path clip-path=\"url(#clip900)\" d=\"M535.691 272.108 L535.691 287.756 L531.431 287.756 L531.431 272.247 Q531.431 268.566 529.996 266.737 Q528.561 264.909 525.691 264.909 Q522.242 264.909 520.251 267.108 Q518.26 269.307 518.26 273.103 L518.26 287.756 L513.978 287.756 L513.978 261.83 L518.26 261.83 L518.26 265.858 Q519.788 263.52 521.848 262.362 Q523.931 261.205 526.64 261.205 Q531.107 261.205 533.399 263.983 Q535.691 266.737 535.691 272.108 Z\" fill=\"#000000\" fill-rule=\"evenodd\" fill-opacity=\"1\" /><path clip-path=\"url(#clip900)\" d=\"M548.399 254.469 L548.399 261.83 L557.172 261.83 L557.172 265.14 L548.399 265.14 L548.399 279.214 Q548.399 282.385 549.255 283.288 Q550.135 284.191 552.797 284.191 L557.172 284.191 L557.172 287.756 L552.797 287.756 Q547.866 287.756 545.991 285.927 Q544.116 284.075 544.116 279.214 L544.116 265.14 L540.991 265.14 L540.991 261.83 L544.116 261.83 L544.116 254.469 L548.399 254.469 Z\" fill=\"#000000\" fill-rule=\"evenodd\" fill-opacity=\"1\" /><path clip-path=\"url(#clip900)\" d=\"M584.95 273.728 L584.95 275.811 L565.366 275.811 Q565.644 280.209 568.005 282.524 Q570.389 284.816 574.626 284.816 Q577.079 284.816 579.371 284.214 Q581.686 283.612 583.954 282.409 L583.954 286.436 Q581.663 287.408 579.255 287.918 Q576.848 288.427 574.371 288.427 Q568.167 288.427 564.533 284.816 Q560.922 281.205 560.922 275.047 Q560.922 268.682 564.348 264.955 Q567.797 261.205 573.63 261.205 Q578.862 261.205 581.894 264.585 Q584.95 267.941 584.95 273.728 M580.69 272.478 Q580.644 268.983 578.723 266.899 Q576.825 264.816 573.677 264.816 Q570.112 264.816 567.959 266.83 Q565.829 268.844 565.505 272.501 L580.69 272.478 Z\" fill=\"#000000\" fill-rule=\"evenodd\" fill-opacity=\"1\" /><path clip-path=\"url(#clip900)\" d=\"M612.125 266.807 Q613.723 263.936 615.945 262.571 Q618.167 261.205 621.176 261.205 Q625.227 261.205 627.426 264.052 Q629.625 266.876 629.625 272.108 L629.625 287.756 L625.343 287.756 L625.343 272.247 Q625.343 268.52 624.023 266.714 Q622.704 264.909 619.996 264.909 Q616.686 264.909 614.764 267.108 Q612.843 269.307 612.843 273.103 L612.843 287.756 L608.561 287.756 L608.561 272.247 Q608.561 268.497 607.241 266.714 Q605.922 264.909 603.167 264.909 Q599.903 264.909 597.982 267.131 Q596.061 269.33 596.061 273.103 L596.061 287.756 L591.778 287.756 L591.778 261.83 L596.061 261.83 L596.061 265.858 Q597.519 263.473 599.556 262.339 Q601.593 261.205 604.394 261.205 Q607.218 261.205 609.186 262.64 Q611.176 264.075 612.125 266.807 Z\" fill=\"#000000\" fill-rule=\"evenodd\" fill-opacity=\"1\" /><path clip-path=\"url(#clip900)\" d=\"M642.241 283.867 L642.241 297.617 L637.959 297.617 L637.959 261.83 L642.241 261.83 L642.241 265.765 Q643.584 263.45 645.621 262.339 Q647.681 261.205 650.528 261.205 Q655.25 261.205 658.19 264.955 Q661.153 268.705 661.153 274.816 Q661.153 280.927 658.19 284.677 Q655.25 288.427 650.528 288.427 Q647.681 288.427 645.621 287.316 Q643.584 286.182 642.241 283.867 M656.732 274.816 Q656.732 270.117 654.787 267.455 Q652.866 264.77 649.486 264.77 Q646.107 264.77 644.162 267.455 Q642.241 270.117 642.241 274.816 Q642.241 279.515 644.162 282.2 Q646.107 284.862 649.486 284.862 Q652.866 284.862 654.787 282.2 Q656.732 279.515 656.732 274.816 Z\" fill=\"#000000\" fill-rule=\"evenodd\" fill-opacity=\"1\" /><path clip-path=\"url(#clip900)\" d=\"M688.398 266.807 Q689.995 263.936 692.218 262.571 Q694.44 261.205 697.449 261.205 Q701.5 261.205 703.699 264.052 Q705.898 266.876 705.898 272.108 L705.898 287.756 L701.616 287.756 L701.616 272.247 Q701.616 268.52 700.296 266.714 Q698.977 264.909 696.268 264.909 Q692.958 264.909 691.037 267.108 Q689.116 269.307 689.116 273.103 L689.116 287.756 L684.833 287.756 L684.833 272.247 Q684.833 268.497 683.514 266.714 Q682.194 264.909 679.44 264.909 Q676.176 264.909 674.255 267.131 Q672.333 269.33 672.333 273.103 L672.333 287.756 L668.051 287.756 L668.051 261.83 L672.333 261.83 L672.333 265.858 Q673.792 263.473 675.829 262.339 Q677.866 261.205 680.667 261.205 Q683.491 261.205 685.458 262.64 Q687.449 264.075 688.398 266.807 Z\" fill=\"#000000\" fill-rule=\"evenodd\" fill-opacity=\"1\" /><path clip-path=\"url(#clip900)\" d=\"M714.393 261.83 L718.653 261.83 L718.653 287.756 L714.393 287.756 L714.393 261.83 M714.393 251.737 L718.653 251.737 L718.653 257.131 L714.393 257.131 L714.393 251.737 Z\" fill=\"#000000\" fill-rule=\"evenodd\" fill-opacity=\"1\" /><path clip-path=\"url(#clip900)\" d=\"M749.115 272.108 L749.115 287.756 L744.856 287.756 L744.856 272.247 Q744.856 268.566 743.421 266.737 Q741.986 264.909 739.115 264.909 Q735.666 264.909 733.676 267.108 Q731.685 269.307 731.685 273.103 L731.685 287.756 L727.403 287.756 L727.403 261.83 L731.685 261.83 L731.685 265.858 Q733.213 263.52 735.273 262.362 Q737.356 261.205 740.065 261.205 Q744.532 261.205 746.824 263.983 Q749.115 266.737 749.115 272.108 Z\" fill=\"#000000\" fill-rule=\"evenodd\" fill-opacity=\"1\" /><path clip-path=\"url(#clip900)\" d=\"M762.24 283.821 L778.56 283.821 L778.56 287.756 L756.615 287.756 L756.615 283.821 Q759.277 281.066 763.861 276.436 Q768.467 271.784 769.648 270.441 Q771.893 267.918 772.773 266.182 Q773.675 264.423 773.675 262.733 Q773.675 259.978 771.731 258.242 Q769.81 256.506 766.708 256.506 Q764.509 256.506 762.055 257.27 Q759.625 258.034 756.847 259.585 L756.847 254.862 Q759.671 253.728 762.125 253.149 Q764.578 252.571 766.615 252.571 Q771.986 252.571 775.18 255.256 Q778.374 257.941 778.374 262.432 Q778.374 264.561 777.564 266.483 Q776.777 268.381 774.671 270.973 Q774.092 271.645 770.99 274.862 Q767.888 278.057 762.24 283.821 Z\" fill=\"#000000\" fill-rule=\"evenodd\" fill-opacity=\"1\" /><path clip-path=\"url(#clip900)\" d=\"M798.374 256.274 Q794.763 256.274 792.935 259.839 Q791.129 263.381 791.129 270.51 Q791.129 277.617 792.935 281.182 Q794.763 284.723 798.374 284.723 Q802.009 284.723 803.814 281.182 Q805.643 277.617 805.643 270.51 Q805.643 263.381 803.814 259.839 Q802.009 256.274 798.374 256.274 M798.374 252.571 Q804.185 252.571 807.24 257.177 Q810.319 261.76 810.319 270.51 Q810.319 279.237 807.24 283.844 Q804.185 288.427 798.374 288.427 Q792.564 288.427 789.486 283.844 Q786.43 279.237 786.43 270.51 Q786.43 261.76 789.486 257.177 Q792.564 252.571 798.374 252.571 Z\" fill=\"#000000\" fill-rule=\"evenodd\" fill-opacity=\"1\" /><path clip-path=\"url(#clip900)\" d=\"M819.346 283.821 L826.985 283.821 L826.985 257.455 L818.675 259.122 L818.675 254.862 L826.939 253.196 L831.615 253.196 L831.615 283.821 L839.254 283.821 L839.254 287.756 L819.346 287.756 L819.346 283.821 Z\" fill=\"#000000\" fill-rule=\"evenodd\" fill-opacity=\"1\" /><path clip-path=\"url(#clip900)\" d=\"M852.726 283.821 L869.045 283.821 L869.045 287.756 L847.101 287.756 L847.101 283.821 Q849.763 281.066 854.346 276.436 Q858.953 271.784 860.133 270.441 Q862.379 267.918 863.258 266.182 Q864.161 264.423 864.161 262.733 Q864.161 259.978 862.217 258.242 Q860.295 256.506 857.194 256.506 Q854.994 256.506 852.541 257.27 Q850.11 258.034 847.332 259.585 L847.332 254.862 Q850.157 253.728 852.61 253.149 Q855.064 252.571 857.101 252.571 Q862.471 252.571 865.666 255.256 Q868.86 257.941 868.86 262.432 Q868.86 264.561 868.05 266.483 Q867.263 268.381 865.156 270.973 Q864.578 271.645 861.476 274.862 Q858.374 278.057 852.726 283.821 Z\" fill=\"#000000\" fill-rule=\"evenodd\" fill-opacity=\"1\" /></svg>\n"
      ]
     },
     "execution_count": 80,
     "metadata": {},
     "output_type": "execute_result"
    }
   ],
   "source": [
    "plot(1:11, jantempmin1922, label=\"jantempmin1922\", ylabel=\"Temperature (Fahrenheit)\", xlabel=\"Years (1922-1932, 2012-2022)\" ,title=\"Jan Average min temp 1922 vs Jan Average min temp 2012 \")\n",
    "plot!(1:11, jantempmin2012, label=\"jantempmin2012\")"
   ]
  },
  {
   "cell_type": "markdown",
   "id": "24857924",
   "metadata": {},
   "source": [
    "# Now we are going to be plotting Max Jan average 1922-1932 and 2012-2022. "
   ]
  },
  {
   "cell_type": "code",
   "execution_count": 81,
   "id": "8f5916c0",
   "metadata": {},
   "outputs": [
    {
     "data": {
      "text/plain": [
       "11-element Vector{Any}:\n",
       " 22.85\n",
       " 25.65\n",
       " 25.65\n",
       " 23.65\n",
       " 28.95\n",
       " 22.6\n",
       " 30.9\n",
       " 13.95\n",
       " 22.3\n",
       " 31.05\n",
       " 33.0"
      ]
     },
     "execution_count": 81,
     "metadata": {},
     "output_type": "execute_result"
    }
   ],
   "source": [
    "#Jan 1922-1932 Max\n",
    "jantempmax1922=B[2:12,6]"
   ]
  },
  {
   "cell_type": "code",
   "execution_count": 82,
   "id": "e0923723",
   "metadata": {},
   "outputs": [
    {
     "data": {
      "text/plain": [
       "11-element Vector{Any}:\n",
       " 32.45\n",
       " 30.65\n",
       " 20.75\n",
       " 21.45\n",
       " 23.3\n",
       " 25.4\n",
       " 23.95\n",
       " 23.3\n",
       " 32.75\n",
       " 30.9\n",
       " 24.15"
      ]
     },
     "execution_count": 82,
     "metadata": {},
     "output_type": "execute_result"
    }
   ],
   "source": [
    "#Jan 2012-2022  max\n",
    "jantempmax2012=C[2:12,6]"
   ]
  },
  {
   "cell_type": "code",
   "execution_count": 83,
   "id": "c8465d91",
   "metadata": {},
   "outputs": [
    {
     "data": {
      "image/svg+xml": [
       "<?xml version=\"1.0\" encoding=\"utf-8\"?>\n",
       "<svg xmlns=\"http://www.w3.org/2000/svg\" xmlns:xlink=\"http://www.w3.org/1999/xlink\" width=\"600\" height=\"400\" viewBox=\"0 0 2400 1600\">\n",
       "<defs>\n",
       "  <clipPath id=\"clip940\">\n",
       "    <rect x=\"0\" y=\"0\" width=\"2400\" height=\"1600\"/>\n",
       "  </clipPath>\n",
       "</defs>\n",
       "<path clip-path=\"url(#clip940)\" d=\"\n",
       "M0 1600 L2400 1600 L2400 0 L0 0  Z\n",
       "  \" fill=\"#ffffff\" fill-rule=\"evenodd\" fill-opacity=\"1\"/>\n",
       "<defs>\n",
       "  <clipPath id=\"clip941\">\n",
       "    <rect x=\"480\" y=\"0\" width=\"1681\" height=\"1600\"/>\n",
       "  </clipPath>\n",
       "</defs>\n",
       "<path clip-path=\"url(#clip940)\" d=\"\n",
       "M203.964 1423.18 L2352.76 1423.18 L2352.76 123.472 L203.964 123.472  Z\n",
       "  \" fill=\"#ffffff\" fill-rule=\"evenodd\" fill-opacity=\"1\"/>\n",
       "<defs>\n",
       "  <clipPath id=\"clip942\">\n",
       "    <rect x=\"203\" y=\"123\" width=\"2150\" height=\"1301\"/>\n",
       "  </clipPath>\n",
       "</defs>\n",
       "<polyline clip-path=\"url(#clip942)\" style=\"stroke:#000000; stroke-linecap:round; stroke-linejoin:round; stroke-width:2; stroke-opacity:0.1; fill:none\" points=\"\n",
       "  467.495,1423.18 467.495,123.472 \n",
       "  \"/>\n",
       "<polyline clip-path=\"url(#clip942)\" style=\"stroke:#000000; stroke-linecap:round; stroke-linejoin:round; stroke-width:2; stroke-opacity:0.1; fill:none\" points=\"\n",
       "  872.927,1423.18 872.927,123.472 \n",
       "  \"/>\n",
       "<polyline clip-path=\"url(#clip942)\" style=\"stroke:#000000; stroke-linecap:round; stroke-linejoin:round; stroke-width:2; stroke-opacity:0.1; fill:none\" points=\"\n",
       "  1278.36,1423.18 1278.36,123.472 \n",
       "  \"/>\n",
       "<polyline clip-path=\"url(#clip942)\" style=\"stroke:#000000; stroke-linecap:round; stroke-linejoin:round; stroke-width:2; stroke-opacity:0.1; fill:none\" points=\"\n",
       "  1683.79,1423.18 1683.79,123.472 \n",
       "  \"/>\n",
       "<polyline clip-path=\"url(#clip942)\" style=\"stroke:#000000; stroke-linecap:round; stroke-linejoin:round; stroke-width:2; stroke-opacity:0.1; fill:none\" points=\"\n",
       "  2089.22,1423.18 2089.22,123.472 \n",
       "  \"/>\n",
       "<polyline clip-path=\"url(#clip940)\" style=\"stroke:#000000; stroke-linecap:round; stroke-linejoin:round; stroke-width:4; stroke-opacity:1; fill:none\" points=\"\n",
       "  203.964,1423.18 2352.76,1423.18 \n",
       "  \"/>\n",
       "<polyline clip-path=\"url(#clip940)\" style=\"stroke:#000000; stroke-linecap:round; stroke-linejoin:round; stroke-width:4; stroke-opacity:1; fill:none\" points=\"\n",
       "  467.495,1423.18 467.495,1404.28 \n",
       "  \"/>\n",
       "<polyline clip-path=\"url(#clip940)\" style=\"stroke:#000000; stroke-linecap:round; stroke-linejoin:round; stroke-width:4; stroke-opacity:1; fill:none\" points=\"\n",
       "  872.927,1423.18 872.927,1404.28 \n",
       "  \"/>\n",
       "<polyline clip-path=\"url(#clip940)\" style=\"stroke:#000000; stroke-linecap:round; stroke-linejoin:round; stroke-width:4; stroke-opacity:1; fill:none\" points=\"\n",
       "  1278.36,1423.18 1278.36,1404.28 \n",
       "  \"/>\n",
       "<polyline clip-path=\"url(#clip940)\" style=\"stroke:#000000; stroke-linecap:round; stroke-linejoin:round; stroke-width:4; stroke-opacity:1; fill:none\" points=\"\n",
       "  1683.79,1423.18 1683.79,1404.28 \n",
       "  \"/>\n",
       "<polyline clip-path=\"url(#clip940)\" style=\"stroke:#000000; stroke-linecap:round; stroke-linejoin:round; stroke-width:4; stroke-opacity:1; fill:none\" points=\"\n",
       "  2089.22,1423.18 2089.22,1404.28 \n",
       "  \"/>\n",
       "<path clip-path=\"url(#clip940)\" d=\"M462.148 1481.64 L478.467 1481.64 L478.467 1485.58 L456.523 1485.58 L456.523 1481.64 Q459.185 1478.89 463.768 1474.26 Q468.374 1469.61 469.555 1468.27 Q471.8 1465.74 472.68 1464.01 Q473.583 1462.25 473.583 1460.56 Q473.583 1457.8 471.638 1456.07 Q469.717 1454.33 466.615 1454.33 Q464.416 1454.33 461.962 1455.09 Q459.532 1455.86 456.754 1457.41 L456.754 1452.69 Q459.578 1451.55 462.032 1450.97 Q464.485 1450.39 466.522 1450.39 Q471.893 1450.39 475.087 1453.08 Q478.282 1455.77 478.282 1460.26 Q478.282 1462.39 477.472 1464.31 Q476.684 1466.2 474.578 1468.8 Q473.999 1469.47 470.897 1472.69 Q467.796 1475.88 462.148 1481.64 Z\" fill=\"#000000\" fill-rule=\"evenodd\" fill-opacity=\"1\" /><path clip-path=\"url(#clip940)\" d=\"M875.936 1455.09 L864.131 1473.54 L875.936 1473.54 L875.936 1455.09 M874.71 1451.02 L880.589 1451.02 L880.589 1473.54 L885.52 1473.54 L885.52 1477.43 L880.589 1477.43 L880.589 1485.58 L875.936 1485.58 L875.936 1477.43 L860.335 1477.43 L860.335 1472.92 L874.71 1451.02 Z\" fill=\"#000000\" fill-rule=\"evenodd\" fill-opacity=\"1\" /><path clip-path=\"url(#clip940)\" d=\"M1278.76 1466.44 Q1275.62 1466.44 1273.76 1468.59 Q1271.94 1470.74 1271.94 1474.49 Q1271.94 1478.22 1273.76 1480.39 Q1275.62 1482.55 1278.76 1482.55 Q1281.91 1482.55 1283.74 1480.39 Q1285.59 1478.22 1285.59 1474.49 Q1285.59 1470.74 1283.74 1468.59 Q1281.91 1466.44 1278.76 1466.44 M1288.05 1451.78 L1288.05 1456.04 Q1286.29 1455.21 1284.48 1454.77 Q1282.7 1454.33 1280.94 1454.33 Q1276.31 1454.33 1273.86 1457.45 Q1271.43 1460.58 1271.08 1466.9 Q1272.45 1464.89 1274.51 1463.82 Q1276.57 1462.73 1279.04 1462.73 Q1284.25 1462.73 1287.26 1465.9 Q1290.29 1469.05 1290.29 1474.49 Q1290.29 1479.82 1287.14 1483.03 Q1284 1486.25 1278.76 1486.25 Q1272.77 1486.25 1269.6 1481.67 Q1266.43 1477.06 1266.43 1468.33 Q1266.43 1460.14 1270.32 1455.28 Q1274.2 1450.39 1280.76 1450.39 Q1282.51 1450.39 1284.3 1450.74 Q1286.1 1451.09 1288.05 1451.78 Z\" fill=\"#000000\" fill-rule=\"evenodd\" fill-opacity=\"1\" /><path clip-path=\"url(#clip940)\" d=\"M1683.79 1469.17 Q1680.46 1469.17 1678.54 1470.95 Q1676.64 1472.73 1676.64 1475.86 Q1676.64 1478.98 1678.54 1480.77 Q1680.46 1482.55 1683.79 1482.55 Q1687.13 1482.55 1689.05 1480.77 Q1690.97 1478.96 1690.97 1475.86 Q1690.97 1472.73 1689.05 1470.95 Q1687.15 1469.17 1683.79 1469.17 M1679.12 1467.18 Q1676.11 1466.44 1674.42 1464.38 Q1672.75 1462.32 1672.75 1459.35 Q1672.75 1455.21 1675.69 1452.8 Q1678.65 1450.39 1683.79 1450.39 Q1688.95 1450.39 1691.89 1452.8 Q1694.83 1455.21 1694.83 1459.35 Q1694.83 1462.32 1693.14 1464.38 Q1691.48 1466.44 1688.49 1467.18 Q1691.87 1467.96 1693.75 1470.26 Q1695.64 1472.55 1695.64 1475.86 Q1695.64 1480.88 1692.57 1483.57 Q1689.51 1486.25 1683.79 1486.25 Q1678.07 1486.25 1675 1483.57 Q1671.94 1480.88 1671.94 1475.86 Q1671.94 1472.55 1673.84 1470.26 Q1675.74 1467.96 1679.12 1467.18 M1677.4 1459.79 Q1677.4 1462.48 1679.07 1463.98 Q1680.76 1465.49 1683.79 1465.49 Q1686.8 1465.49 1688.49 1463.98 Q1690.2 1462.48 1690.2 1459.79 Q1690.2 1457.11 1688.49 1455.6 Q1686.8 1454.1 1683.79 1454.1 Q1680.76 1454.1 1679.07 1455.6 Q1677.4 1457.11 1677.4 1459.79 Z\" fill=\"#000000\" fill-rule=\"evenodd\" fill-opacity=\"1\" /><path clip-path=\"url(#clip940)\" d=\"M2063.91 1481.64 L2071.55 1481.64 L2071.55 1455.28 L2063.24 1456.95 L2063.24 1452.69 L2071.5 1451.02 L2076.18 1451.02 L2076.18 1481.64 L2083.82 1481.64 L2083.82 1485.58 L2063.91 1485.58 L2063.91 1481.64 Z\" fill=\"#000000\" fill-rule=\"evenodd\" fill-opacity=\"1\" /><path clip-path=\"url(#clip940)\" d=\"M2103.26 1454.1 Q2099.65 1454.1 2097.82 1457.66 Q2096.02 1461.2 2096.02 1468.33 Q2096.02 1475.44 2097.82 1479.01 Q2099.65 1482.55 2103.26 1482.55 Q2106.9 1482.55 2108.7 1479.01 Q2110.53 1475.44 2110.53 1468.33 Q2110.53 1461.2 2108.7 1457.66 Q2106.9 1454.1 2103.26 1454.1 M2103.26 1450.39 Q2109.07 1450.39 2112.13 1455 Q2115.21 1459.58 2115.21 1468.33 Q2115.21 1477.06 2112.13 1481.67 Q2109.07 1486.25 2103.26 1486.25 Q2097.45 1486.25 2094.38 1481.67 Q2091.32 1477.06 2091.32 1468.33 Q2091.32 1459.58 2094.38 1455 Q2097.45 1450.39 2103.26 1450.39 Z\" fill=\"#000000\" fill-rule=\"evenodd\" fill-opacity=\"1\" /><path clip-path=\"url(#clip940)\" d=\"M772.939 1520.52 L779.845 1520.52 L793.022 1540.07 L806.104 1520.52 L813.011 1520.52 L796.205 1545.41 L796.205 1568.04 L789.744 1568.04 L789.744 1545.41 L772.939 1520.52 Z\" fill=\"#000000\" fill-rule=\"evenodd\" fill-opacity=\"1\" /><path clip-path=\"url(#clip940)\" d=\"M840.861 1548.76 L840.861 1551.62 L813.934 1551.62 Q814.316 1557.67 817.562 1560.85 Q820.84 1564 826.665 1564 Q830.039 1564 833.19 1563.17 Q836.373 1562.35 839.492 1560.69 L839.492 1566.23 Q836.341 1567.57 833.031 1568.27 Q829.721 1568.97 826.315 1568.97 Q817.785 1568.97 812.788 1564 Q807.823 1559.04 807.823 1550.57 Q807.823 1541.82 812.533 1536.69 Q817.276 1531.54 825.296 1531.54 Q832.49 1531.54 836.659 1536.18 Q840.861 1540.8 840.861 1548.76 M835.004 1547.04 Q834.941 1542.23 832.299 1539.37 Q829.689 1536.5 825.36 1536.5 Q820.459 1536.5 817.498 1539.27 Q814.57 1542.04 814.125 1547.07 L835.004 1547.04 Z\" fill=\"#000000\" fill-rule=\"evenodd\" fill-opacity=\"1\" /><path clip-path=\"url(#clip940)\" d=\"M866.674 1550.12 Q859.576 1550.12 856.839 1551.75 Q854.101 1553.37 854.101 1557.29 Q854.101 1560.4 856.138 1562.25 Q858.207 1564.07 861.74 1564.07 Q866.61 1564.07 869.538 1560.63 Q872.498 1557.16 872.498 1551.43 L872.498 1550.12 L866.674 1550.12 M878.355 1547.71 L878.355 1568.04 L872.498 1568.04 L872.498 1562.63 Q870.493 1565.88 867.501 1567.44 Q864.509 1568.97 860.181 1568.97 Q854.706 1568.97 851.46 1565.91 Q848.245 1562.82 848.245 1557.67 Q848.245 1551.65 852.255 1548.6 Q856.297 1545.54 864.286 1545.54 L872.498 1545.54 L872.498 1544.97 Q872.498 1540.93 869.825 1538.73 Q867.183 1536.5 862.377 1536.5 Q859.321 1536.5 856.425 1537.23 Q853.528 1537.97 850.855 1539.43 L850.855 1534.02 Q854.069 1532.78 857.093 1532.17 Q860.117 1531.54 862.981 1531.54 Q870.716 1531.54 874.535 1535.55 Q878.355 1539.56 878.355 1547.71 Z\" fill=\"#000000\" fill-rule=\"evenodd\" fill-opacity=\"1\" /><path clip-path=\"url(#clip940)\" d=\"M911.074 1537.87 Q910.088 1537.3 908.91 1537.04 Q907.764 1536.76 906.364 1536.76 Q901.399 1536.76 898.725 1540 Q896.083 1543.22 896.083 1549.27 L896.083 1568.04 L890.195 1568.04 L890.195 1532.4 L896.083 1532.4 L896.083 1537.93 Q897.929 1534.69 900.889 1533.13 Q903.849 1531.54 908.082 1531.54 Q908.687 1531.54 909.419 1531.63 Q910.151 1531.7 911.043 1531.85 L911.074 1537.87 Z\" fill=\"#000000\" fill-rule=\"evenodd\" fill-opacity=\"1\" /><path clip-path=\"url(#clip940)\" d=\"M939.943 1533.45 L939.943 1538.98 Q937.46 1537.71 934.787 1537.07 Q932.113 1536.44 929.248 1536.44 Q924.888 1536.44 922.692 1537.77 Q920.527 1539.11 920.527 1541.79 Q920.527 1543.82 922.087 1545 Q923.647 1546.15 928.357 1547.2 L930.362 1547.64 Q936.601 1548.98 939.211 1551.43 Q941.853 1553.85 941.853 1558.21 Q941.853 1563.17 937.906 1566.07 Q933.991 1568.97 927.116 1568.97 Q924.251 1568.97 921.132 1568.39 Q918.045 1567.85 914.607 1566.74 L914.607 1560.69 Q917.854 1562.38 921.005 1563.24 Q924.156 1564.07 927.243 1564.07 Q931.381 1564.07 933.609 1562.66 Q935.837 1561.23 935.837 1558.65 Q935.837 1556.27 934.214 1554.99 Q932.622 1553.72 927.18 1552.54 L925.143 1552.07 Q919.7 1550.92 917.281 1548.56 Q914.862 1546.18 914.862 1542.04 Q914.862 1537.01 918.427 1534.27 Q921.992 1531.54 928.548 1531.54 Q931.795 1531.54 934.659 1532.01 Q937.524 1532.49 939.943 1533.45 Z\" fill=\"#000000\" fill-rule=\"evenodd\" fill-opacity=\"1\" /><path clip-path=\"url(#clip940)\" d=\"M985.967 1518.58 Q981.702 1525.9 979.633 1533.06 Q977.564 1540.23 977.564 1547.58 Q977.564 1554.93 979.633 1562.16 Q981.734 1569.35 985.967 1576.64 L980.874 1576.64 Q976.1 1569.16 973.713 1561.93 Q971.358 1554.71 971.358 1547.58 Q971.358 1540.48 973.713 1533.29 Q976.068 1526.09 980.874 1518.58 L985.967 1518.58 Z\" fill=\"#000000\" fill-rule=\"evenodd\" fill-opacity=\"1\" /><path clip-path=\"url(#clip940)\" d=\"M999.271 1562.63 L1009.77 1562.63 L1009.77 1526.38 L998.348 1528.67 L998.348 1522.82 L1009.71 1520.52 L1016.14 1520.52 L1016.14 1562.63 L1026.64 1562.63 L1026.64 1568.04 L999.271 1568.04 L999.271 1562.63 Z\" fill=\"#000000\" fill-rule=\"evenodd\" fill-opacity=\"1\" /><path clip-path=\"url(#clip940)\" d=\"M1039.82 1567.06 L1039.82 1561.2 Q1042.24 1562.35 1044.72 1562.95 Q1047.21 1563.56 1049.59 1563.56 Q1055.96 1563.56 1059.3 1559.29 Q1062.67 1554.99 1063.15 1546.27 Q1061.31 1549.01 1058.47 1550.47 Q1055.64 1551.94 1052.2 1551.94 Q1045.07 1551.94 1040.9 1547.64 Q1036.77 1543.31 1036.77 1535.83 Q1036.77 1528.51 1041.09 1524.09 Q1045.42 1519.66 1052.62 1519.66 Q1060.86 1519.66 1065.19 1526 Q1069.55 1532.3 1069.55 1544.33 Q1069.55 1555.57 1064.2 1562.28 Q1058.89 1568.97 1049.88 1568.97 Q1047.46 1568.97 1044.98 1568.49 Q1042.49 1568.01 1039.82 1567.06 M1052.62 1546.91 Q1056.94 1546.91 1059.46 1543.95 Q1062.01 1540.99 1062.01 1535.83 Q1062.01 1530.71 1059.46 1527.75 Q1056.94 1524.76 1052.62 1524.76 Q1048.29 1524.76 1045.74 1527.75 Q1043.23 1530.71 1043.23 1535.83 Q1043.23 1540.99 1045.74 1543.95 Q1048.29 1546.91 1052.62 1546.91 Z\" fill=\"#000000\" fill-rule=\"evenodd\" fill-opacity=\"1\" /><path clip-path=\"url(#clip940)\" d=\"M1086.64 1562.63 L1109.08 1562.63 L1109.08 1568.04 L1078.91 1568.04 L1078.91 1562.63 Q1082.57 1558.85 1088.87 1552.48 Q1095.2 1546.08 1096.83 1544.24 Q1099.91 1540.77 1101.12 1538.38 Q1102.36 1535.96 1102.36 1533.64 Q1102.36 1529.85 1099.69 1527.46 Q1097.05 1525.08 1092.78 1525.08 Q1089.76 1525.08 1086.39 1526.13 Q1083.04 1527.18 1079.22 1529.31 L1079.22 1522.82 Q1083.11 1521.26 1086.48 1520.46 Q1089.86 1519.66 1092.66 1519.66 Q1100.04 1519.66 1104.43 1523.36 Q1108.83 1527.05 1108.83 1533.22 Q1108.83 1536.15 1107.71 1538.79 Q1106.63 1541.4 1103.73 1544.97 Q1102.94 1545.89 1098.67 1550.32 Q1094.41 1554.71 1086.64 1562.63 Z\" fill=\"#000000\" fill-rule=\"evenodd\" fill-opacity=\"1\" /><path clip-path=\"url(#clip940)\" d=\"M1128.11 1562.63 L1150.55 1562.63 L1150.55 1568.04 L1120.38 1568.04 L1120.38 1562.63 Q1124.04 1558.85 1130.34 1552.48 Q1136.68 1546.08 1138.3 1544.24 Q1141.39 1540.77 1142.6 1538.38 Q1143.84 1535.96 1143.84 1533.64 Q1143.84 1529.85 1141.16 1527.46 Q1138.52 1525.08 1134.26 1525.08 Q1131.23 1525.08 1127.86 1526.13 Q1124.52 1527.18 1120.7 1529.31 L1120.7 1522.82 Q1124.58 1521.26 1127.95 1520.46 Q1131.33 1519.66 1134.13 1519.66 Q1141.51 1519.66 1145.91 1523.36 Q1150.3 1527.05 1150.3 1533.22 Q1150.3 1536.15 1149.18 1538.79 Q1148.1 1541.4 1145.21 1544.97 Q1144.41 1545.89 1140.14 1550.32 Q1135.88 1554.71 1128.11 1562.63 Z\" fill=\"#000000\" fill-rule=\"evenodd\" fill-opacity=\"1\" /><path clip-path=\"url(#clip940)\" d=\"M1160.26 1547.58 L1177.42 1547.58 L1177.42 1552.8 L1160.26 1552.8 L1160.26 1547.58 Z\" fill=\"#000000\" fill-rule=\"evenodd\" fill-opacity=\"1\" /><path clip-path=\"url(#clip940)\" d=\"M1188.68 1562.63 L1199.19 1562.63 L1199.19 1526.38 L1187.76 1528.67 L1187.76 1522.82 L1199.12 1520.52 L1205.55 1520.52 L1205.55 1562.63 L1216.06 1562.63 L1216.06 1568.04 L1188.68 1568.04 L1188.68 1562.63 Z\" fill=\"#000000\" fill-rule=\"evenodd\" fill-opacity=\"1\" /><path clip-path=\"url(#clip940)\" d=\"M1229.23 1567.06 L1229.23 1561.2 Q1231.65 1562.35 1234.13 1562.95 Q1236.62 1563.56 1239 1563.56 Q1245.37 1563.56 1248.71 1559.29 Q1252.09 1554.99 1252.56 1546.27 Q1250.72 1549.01 1247.88 1550.47 Q1245.05 1551.94 1241.61 1551.94 Q1234.48 1551.94 1230.31 1547.64 Q1226.18 1543.31 1226.18 1535.83 Q1226.18 1528.51 1230.51 1524.09 Q1234.83 1519.66 1242.03 1519.66 Q1250.27 1519.66 1254.6 1526 Q1258.96 1532.3 1258.96 1544.33 Q1258.96 1555.57 1253.61 1562.28 Q1248.3 1568.97 1239.29 1568.97 Q1236.87 1568.97 1234.39 1568.49 Q1231.91 1568.01 1229.23 1567.06 M1242.03 1546.91 Q1246.36 1546.91 1248.87 1543.95 Q1251.42 1540.99 1251.42 1535.83 Q1251.42 1530.71 1248.87 1527.75 Q1246.36 1524.76 1242.03 1524.76 Q1237.7 1524.76 1235.15 1527.75 Q1232.64 1530.71 1232.64 1535.83 Q1232.64 1540.99 1235.15 1543.95 Q1237.7 1546.91 1242.03 1546.91 Z\" fill=\"#000000\" fill-rule=\"evenodd\" fill-opacity=\"1\" /><path clip-path=\"url(#clip940)\" d=\"M1289.99 1542.42 Q1294.61 1543.41 1297.19 1546.53 Q1299.8 1549.65 1299.8 1554.23 Q1299.8 1561.26 1294.96 1565.12 Q1290.12 1568.97 1281.21 1568.97 Q1278.22 1568.97 1275.03 1568.36 Q1271.88 1567.79 1268.51 1566.61 L1268.51 1560.4 Q1271.18 1561.96 1274.37 1562.76 Q1277.55 1563.56 1281.02 1563.56 Q1287.06 1563.56 1290.22 1561.17 Q1293.4 1558.78 1293.4 1554.23 Q1293.4 1550.03 1290.44 1547.67 Q1287.51 1545.29 1282.26 1545.29 L1276.72 1545.29 L1276.72 1540 L1282.51 1540 Q1287.26 1540 1289.77 1538.13 Q1292.28 1536.22 1292.28 1532.65 Q1292.28 1528.99 1289.67 1527.05 Q1287.1 1525.08 1282.26 1525.08 Q1279.62 1525.08 1276.59 1525.65 Q1273.57 1526.22 1269.94 1527.43 L1269.94 1521.7 Q1273.6 1520.68 1276.78 1520.17 Q1280 1519.66 1282.83 1519.66 Q1290.15 1519.66 1294.42 1523.01 Q1298.68 1526.32 1298.68 1531.98 Q1298.68 1535.93 1296.42 1538.67 Q1294.16 1541.37 1289.99 1542.42 Z\" fill=\"#000000\" fill-rule=\"evenodd\" fill-opacity=\"1\" /><path clip-path=\"url(#clip940)\" d=\"M1317.52 1562.63 L1339.96 1562.63 L1339.96 1568.04 L1309.79 1568.04 L1309.79 1562.63 Q1313.45 1558.85 1319.75 1552.48 Q1326.09 1546.08 1327.71 1544.24 Q1330.8 1540.77 1332.01 1538.38 Q1333.25 1535.96 1333.25 1533.64 Q1333.25 1529.85 1330.57 1527.46 Q1327.93 1525.08 1323.67 1525.08 Q1320.64 1525.08 1317.27 1526.13 Q1313.93 1527.18 1310.11 1529.31 L1310.11 1522.82 Q1313.99 1521.26 1317.37 1520.46 Q1320.74 1519.66 1323.54 1519.66 Q1330.92 1519.66 1335.32 1523.36 Q1339.71 1527.05 1339.71 1533.22 Q1339.71 1536.15 1338.6 1538.79 Q1337.51 1541.4 1334.62 1544.97 Q1333.82 1545.89 1329.56 1550.32 Q1325.29 1554.71 1317.52 1562.63 Z\" fill=\"#000000\" fill-rule=\"evenodd\" fill-opacity=\"1\" /><path clip-path=\"url(#clip940)\" d=\"M1354.13 1559.96 L1360.84 1559.96 L1360.84 1565.43 L1355.62 1575.62 L1351.52 1575.62 L1354.13 1565.43 L1354.13 1559.96 Z\" fill=\"#000000\" fill-rule=\"evenodd\" fill-opacity=\"1\" /><path clip-path=\"url(#clip940)\" d=\"M1400.44 1562.63 L1422.88 1562.63 L1422.88 1568.04 L1392.7 1568.04 L1392.7 1562.63 Q1396.36 1558.85 1402.67 1552.48 Q1409 1546.08 1410.62 1544.24 Q1413.71 1540.77 1414.92 1538.38 Q1416.16 1535.96 1416.16 1533.64 Q1416.16 1529.85 1413.49 1527.46 Q1410.85 1525.08 1406.58 1525.08 Q1403.56 1525.08 1400.18 1526.13 Q1396.84 1527.18 1393.02 1529.31 L1393.02 1522.82 Q1396.91 1521.26 1400.28 1520.46 Q1403.65 1519.66 1406.45 1519.66 Q1413.84 1519.66 1418.23 1523.36 Q1422.62 1527.05 1422.62 1533.22 Q1422.62 1536.15 1421.51 1538.79 Q1420.43 1541.4 1417.53 1544.97 Q1416.73 1545.89 1412.47 1550.32 Q1408.2 1554.71 1400.44 1562.63 Z\" fill=\"#000000\" fill-rule=\"evenodd\" fill-opacity=\"1\" /><path clip-path=\"url(#clip940)\" d=\"M1450.12 1524.76 Q1445.16 1524.76 1442.64 1529.66 Q1440.16 1534.53 1440.16 1544.33 Q1440.16 1554.1 1442.64 1559 Q1445.16 1563.87 1450.12 1563.87 Q1455.12 1563.87 1457.6 1559 Q1460.12 1554.1 1460.12 1544.33 Q1460.12 1534.53 1457.6 1529.66 Q1455.12 1524.76 1450.12 1524.76 M1450.12 1519.66 Q1458.11 1519.66 1462.31 1526 Q1466.55 1532.3 1466.55 1544.33 Q1466.55 1556.33 1462.31 1562.66 Q1458.11 1568.97 1450.12 1568.97 Q1442.13 1568.97 1437.9 1562.66 Q1433.7 1556.33 1433.7 1544.33 Q1433.7 1532.3 1437.9 1526 Q1442.13 1519.66 1450.12 1519.66 Z\" fill=\"#000000\" fill-rule=\"evenodd\" fill-opacity=\"1\" /><path clip-path=\"url(#clip940)\" d=\"M1478.96 1562.63 L1489.46 1562.63 L1489.46 1526.38 L1478.04 1528.67 L1478.04 1522.82 L1489.4 1520.52 L1495.83 1520.52 L1495.83 1562.63 L1506.33 1562.63 L1506.33 1568.04 L1478.96 1568.04 L1478.96 1562.63 Z\" fill=\"#000000\" fill-rule=\"evenodd\" fill-opacity=\"1\" /><path clip-path=\"url(#clip940)\" d=\"M1524.86 1562.63 L1547.29 1562.63 L1547.29 1568.04 L1517.12 1568.04 L1517.12 1562.63 Q1520.78 1558.85 1527.08 1552.48 Q1533.42 1546.08 1535.04 1544.24 Q1538.13 1540.77 1539.34 1538.38 Q1540.58 1535.96 1540.58 1533.64 Q1540.58 1529.85 1537.91 1527.46 Q1535.26 1525.08 1531 1525.08 Q1527.98 1525.08 1524.6 1526.13 Q1521.26 1527.18 1517.44 1529.31 L1517.44 1522.82 Q1521.32 1521.26 1524.7 1520.46 Q1528.07 1519.66 1530.87 1519.66 Q1538.26 1519.66 1542.65 1523.36 Q1547.04 1527.05 1547.04 1533.22 Q1547.04 1536.15 1545.93 1538.79 Q1544.84 1541.4 1541.95 1544.97 Q1541.15 1545.89 1536.89 1550.32 Q1532.62 1554.71 1524.86 1562.63 Z\" fill=\"#000000\" fill-rule=\"evenodd\" fill-opacity=\"1\" /><path clip-path=\"url(#clip940)\" d=\"M1557 1547.58 L1574.16 1547.58 L1574.16 1552.8 L1557 1552.8 L1557 1547.58 Z\" fill=\"#000000\" fill-rule=\"evenodd\" fill-opacity=\"1\" /><path clip-path=\"url(#clip940)\" d=\"M1610.57 1562.63 L1633.01 1562.63 L1633.01 1568.04 L1602.84 1568.04 L1602.84 1562.63 Q1606.5 1558.85 1612.8 1552.48 Q1619.13 1546.08 1620.76 1544.24 Q1623.84 1540.77 1625.05 1538.38 Q1626.29 1535.96 1626.29 1533.64 Q1626.29 1529.85 1623.62 1527.46 Q1620.98 1525.08 1616.71 1525.08 Q1613.69 1525.08 1610.32 1526.13 Q1606.97 1527.18 1603.15 1529.31 L1603.15 1522.82 Q1607.04 1521.26 1610.41 1520.46 Q1613.78 1519.66 1616.59 1519.66 Q1623.97 1519.66 1628.36 1523.36 Q1632.75 1527.05 1632.75 1533.22 Q1632.75 1536.15 1631.64 1538.79 Q1630.56 1541.4 1627.66 1544.97 Q1626.87 1545.89 1622.6 1550.32 Q1618.34 1554.71 1610.57 1562.63 Z\" fill=\"#000000\" fill-rule=\"evenodd\" fill-opacity=\"1\" /><path clip-path=\"url(#clip940)\" d=\"M1660.25 1524.76 Q1655.29 1524.76 1652.77 1529.66 Q1650.29 1534.53 1650.29 1544.33 Q1650.29 1554.1 1652.77 1559 Q1655.29 1563.87 1660.25 1563.87 Q1665.25 1563.87 1667.73 1559 Q1670.25 1554.1 1670.25 1544.33 Q1670.25 1534.53 1667.73 1529.66 Q1665.25 1524.76 1660.25 1524.76 M1660.25 1519.66 Q1668.24 1519.66 1672.44 1526 Q1676.68 1532.3 1676.68 1544.33 Q1676.68 1556.33 1672.44 1562.66 Q1668.24 1568.97 1660.25 1568.97 Q1652.27 1568.97 1648.03 1562.66 Q1643.83 1556.33 1643.83 1544.33 Q1643.83 1532.3 1648.03 1526 Q1652.27 1519.66 1660.25 1519.66 Z\" fill=\"#000000\" fill-rule=\"evenodd\" fill-opacity=\"1\" /><path clip-path=\"url(#clip940)\" d=\"M1693.52 1562.63 L1715.95 1562.63 L1715.95 1568.04 L1685.78 1568.04 L1685.78 1562.63 Q1689.44 1558.85 1695.74 1552.48 Q1702.08 1546.08 1703.7 1544.24 Q1706.79 1540.77 1708 1538.38 Q1709.24 1535.96 1709.24 1533.64 Q1709.24 1529.85 1706.56 1527.46 Q1703.92 1525.08 1699.66 1525.08 Q1696.63 1525.08 1693.26 1526.13 Q1689.92 1527.18 1686.1 1529.31 L1686.1 1522.82 Q1689.98 1521.26 1693.36 1520.46 Q1696.73 1519.66 1699.53 1519.66 Q1706.92 1519.66 1711.31 1523.36 Q1715.7 1527.05 1715.7 1533.22 Q1715.7 1536.15 1714.59 1538.79 Q1713.5 1541.4 1710.61 1544.97 Q1709.81 1545.89 1705.55 1550.32 Q1701.28 1554.71 1693.52 1562.63 Z\" fill=\"#000000\" fill-rule=\"evenodd\" fill-opacity=\"1\" /><path clip-path=\"url(#clip940)\" d=\"M1734.99 1562.63 L1757.43 1562.63 L1757.43 1568.04 L1727.25 1568.04 L1727.25 1562.63 Q1730.91 1558.85 1737.22 1552.48 Q1743.55 1546.08 1745.17 1544.24 Q1748.26 1540.77 1749.47 1538.38 Q1750.71 1535.96 1750.71 1533.64 Q1750.71 1529.85 1748.04 1527.46 Q1745.4 1525.08 1741.13 1525.08 Q1738.11 1525.08 1734.73 1526.13 Q1731.39 1527.18 1727.57 1529.31 L1727.57 1522.82 Q1731.45 1521.26 1734.83 1520.46 Q1738.2 1519.66 1741 1519.66 Q1748.39 1519.66 1752.78 1523.36 Q1757.17 1527.05 1757.17 1533.22 Q1757.17 1536.15 1756.06 1538.79 Q1754.98 1541.4 1752.08 1544.97 Q1751.28 1545.89 1747.02 1550.32 Q1742.75 1554.71 1734.99 1562.63 Z\" fill=\"#000000\" fill-rule=\"evenodd\" fill-opacity=\"1\" /><path clip-path=\"url(#clip940)\" d=\"M1769.17 1518.58 L1774.26 1518.58 Q1779.04 1526.09 1781.39 1533.29 Q1783.78 1540.48 1783.78 1547.58 Q1783.78 1554.71 1781.39 1561.93 Q1779.04 1569.16 1774.26 1576.64 L1769.17 1576.64 Q1773.4 1569.35 1775.47 1562.16 Q1777.57 1554.93 1777.57 1547.58 Q1777.57 1540.23 1775.47 1533.06 Q1773.4 1525.9 1769.17 1518.58 Z\" fill=\"#000000\" fill-rule=\"evenodd\" fill-opacity=\"1\" /><polyline clip-path=\"url(#clip942)\" style=\"stroke:#000000; stroke-linecap:round; stroke-linejoin:round; stroke-width:2; stroke-opacity:0.1; fill:none\" points=\"\n",
       "  203.964,1318.81 2352.76,1318.81 \n",
       "  \"/>\n",
       "<polyline clip-path=\"url(#clip942)\" style=\"stroke:#000000; stroke-linecap:round; stroke-linejoin:round; stroke-width:2; stroke-opacity:0.1; fill:none\" points=\"\n",
       "  203.964,996.992 2352.76,996.992 \n",
       "  \"/>\n",
       "<polyline clip-path=\"url(#clip942)\" style=\"stroke:#000000; stroke-linecap:round; stroke-linejoin:round; stroke-width:2; stroke-opacity:0.1; fill:none\" points=\"\n",
       "  203.964,675.17 2352.76,675.17 \n",
       "  \"/>\n",
       "<polyline clip-path=\"url(#clip942)\" style=\"stroke:#000000; stroke-linecap:round; stroke-linejoin:round; stroke-width:2; stroke-opacity:0.1; fill:none\" points=\"\n",
       "  203.964,353.349 2352.76,353.349 \n",
       "  \"/>\n",
       "<polyline clip-path=\"url(#clip940)\" style=\"stroke:#000000; stroke-linecap:round; stroke-linejoin:round; stroke-width:4; stroke-opacity:1; fill:none\" points=\"\n",
       "  203.964,1423.18 203.964,123.472 \n",
       "  \"/>\n",
       "<polyline clip-path=\"url(#clip940)\" style=\"stroke:#000000; stroke-linecap:round; stroke-linejoin:round; stroke-width:4; stroke-opacity:1; fill:none\" points=\"\n",
       "  203.964,1318.81 222.861,1318.81 \n",
       "  \"/>\n",
       "<polyline clip-path=\"url(#clip940)\" style=\"stroke:#000000; stroke-linecap:round; stroke-linejoin:round; stroke-width:4; stroke-opacity:1; fill:none\" points=\"\n",
       "  203.964,996.992 222.861,996.992 \n",
       "  \"/>\n",
       "<polyline clip-path=\"url(#clip940)\" style=\"stroke:#000000; stroke-linecap:round; stroke-linejoin:round; stroke-width:4; stroke-opacity:1; fill:none\" points=\"\n",
       "  203.964,675.17 222.861,675.17 \n",
       "  \"/>\n",
       "<polyline clip-path=\"url(#clip940)\" style=\"stroke:#000000; stroke-linecap:round; stroke-linejoin:round; stroke-width:4; stroke-opacity:1; fill:none\" points=\"\n",
       "  203.964,353.349 222.861,353.349 \n",
       "  \"/>\n",
       "<path clip-path=\"url(#clip940)\" d=\"M117.663 1332.16 L125.302 1332.16 L125.302 1305.79 L116.992 1307.46 L116.992 1303.2 L125.255 1301.53 L129.931 1301.53 L129.931 1332.16 L137.57 1332.16 L137.57 1336.09 L117.663 1336.09 L117.663 1332.16 Z\" fill=\"#000000\" fill-rule=\"evenodd\" fill-opacity=\"1\" /><path clip-path=\"url(#clip940)\" d=\"M147.061 1301.53 L165.417 1301.53 L165.417 1305.47 L151.343 1305.47 L151.343 1313.94 Q152.362 1313.59 153.38 1313.43 Q154.399 1313.25 155.417 1313.25 Q161.204 1313.25 164.584 1316.42 Q167.964 1319.59 167.964 1325.01 Q167.964 1330.58 164.491 1333.69 Q161.019 1336.76 154.7 1336.76 Q152.524 1336.76 150.255 1336.39 Q148.01 1336.02 145.603 1335.28 L145.603 1330.58 Q147.686 1331.72 149.908 1332.27 Q152.13 1332.83 154.607 1332.83 Q158.612 1332.83 160.95 1330.72 Q163.288 1328.62 163.288 1325.01 Q163.288 1321.39 160.95 1319.29 Q158.612 1317.18 154.607 1317.18 Q152.732 1317.18 150.857 1317.6 Q149.005 1318.01 147.061 1318.89 L147.061 1301.53 Z\" fill=\"#000000\" fill-rule=\"evenodd\" fill-opacity=\"1\" /><path clip-path=\"url(#clip940)\" d=\"M119.885 1010.34 L136.204 1010.34 L136.204 1014.27 L114.26 1014.27 L114.26 1010.34 Q116.922 1007.58 121.505 1002.95 Q126.112 998.3 127.292 996.957 Q129.538 994.434 130.417 992.698 Q131.32 990.939 131.32 989.249 Q131.32 986.494 129.376 984.758 Q127.455 983.022 124.353 983.022 Q122.154 983.022 119.7 983.786 Q117.269 984.55 114.492 986.101 L114.492 981.378 Q117.316 980.244 119.769 979.666 Q122.223 979.087 124.26 979.087 Q129.63 979.087 132.825 981.772 Q136.019 984.457 136.019 988.948 Q136.019 991.078 135.209 992.999 Q134.422 994.897 132.316 997.49 Q131.737 998.161 128.635 1001.38 Q125.533 1004.57 119.885 1010.34 Z\" fill=\"#000000\" fill-rule=\"evenodd\" fill-opacity=\"1\" /><path clip-path=\"url(#clip940)\" d=\"M156.019 982.791 Q152.408 982.791 150.579 986.355 Q148.774 989.897 148.774 997.027 Q148.774 1004.13 150.579 1007.7 Q152.408 1011.24 156.019 1011.24 Q159.653 1011.24 161.459 1007.7 Q163.288 1004.13 163.288 997.027 Q163.288 989.897 161.459 986.355 Q159.653 982.791 156.019 982.791 M156.019 979.087 Q161.829 979.087 164.885 983.693 Q167.964 988.277 167.964 997.027 Q167.964 1005.75 164.885 1010.36 Q161.829 1014.94 156.019 1014.94 Q150.209 1014.94 147.13 1010.36 Q144.075 1005.75 144.075 997.027 Q144.075 988.277 147.13 983.693 Q150.209 979.087 156.019 979.087 Z\" fill=\"#000000\" fill-rule=\"evenodd\" fill-opacity=\"1\" /><path clip-path=\"url(#clip940)\" d=\"M120.88 688.515 L137.2 688.515 L137.2 692.45 L115.256 692.45 L115.256 688.515 Q117.918 685.761 122.501 681.131 Q127.107 676.478 128.288 675.136 Q130.533 672.613 131.413 670.877 Q132.316 669.117 132.316 667.427 Q132.316 664.673 130.371 662.937 Q128.45 661.201 125.348 661.201 Q123.149 661.201 120.695 661.965 Q118.265 662.728 115.487 664.279 L115.487 659.557 Q118.311 658.423 120.765 657.844 Q123.218 657.265 125.255 657.265 Q130.626 657.265 133.82 659.951 Q137.015 662.636 137.015 667.127 Q137.015 669.256 136.204 671.177 Q135.417 673.076 133.311 675.668 Q132.732 676.339 129.63 679.557 Q126.529 682.751 120.88 688.515 Z\" fill=\"#000000\" fill-rule=\"evenodd\" fill-opacity=\"1\" /><path clip-path=\"url(#clip940)\" d=\"M147.061 657.89 L165.417 657.89 L165.417 661.826 L151.343 661.826 L151.343 670.298 Q152.362 669.951 153.38 669.789 Q154.399 669.603 155.417 669.603 Q161.204 669.603 164.584 672.775 Q167.964 675.946 167.964 681.363 Q167.964 686.941 164.491 690.043 Q161.019 693.122 154.7 693.122 Q152.524 693.122 150.255 692.751 Q148.01 692.381 145.603 691.64 L145.603 686.941 Q147.686 688.075 149.908 688.631 Q152.13 689.187 154.607 689.187 Q158.612 689.187 160.95 687.08 Q163.288 684.974 163.288 681.363 Q163.288 677.751 160.95 675.645 Q158.612 673.539 154.607 673.539 Q152.732 673.539 150.857 673.955 Q149.005 674.372 147.061 675.251 L147.061 657.89 Z\" fill=\"#000000\" fill-rule=\"evenodd\" fill-opacity=\"1\" /><path clip-path=\"url(#clip940)\" d=\"M130.024 351.995 Q133.38 352.713 135.255 354.981 Q137.154 357.25 137.154 360.583 Q137.154 365.699 133.635 368.5 Q130.117 371.3 123.635 371.3 Q121.459 371.3 119.144 370.861 Q116.853 370.444 114.399 369.587 L114.399 365.074 Q116.343 366.208 118.658 366.787 Q120.973 367.365 123.496 367.365 Q127.894 367.365 130.186 365.629 Q132.501 363.893 132.501 360.583 Q132.501 357.527 130.348 355.814 Q128.218 354.078 124.399 354.078 L120.371 354.078 L120.371 350.236 L124.584 350.236 Q128.033 350.236 129.862 348.87 Q131.691 347.481 131.691 344.889 Q131.691 342.226 129.792 340.814 Q127.917 339.379 124.399 339.379 Q122.478 339.379 120.279 339.796 Q118.08 340.213 115.441 341.092 L115.441 336.926 Q118.103 336.185 120.418 335.814 Q122.755 335.444 124.816 335.444 Q130.14 335.444 133.242 337.875 Q136.343 340.282 136.343 344.402 Q136.343 347.273 134.7 349.263 Q133.056 351.231 130.024 351.995 Z\" fill=\"#000000\" fill-rule=\"evenodd\" fill-opacity=\"1\" /><path clip-path=\"url(#clip940)\" d=\"M156.019 339.148 Q152.408 339.148 150.579 342.713 Q148.774 346.254 148.774 353.384 Q148.774 360.49 150.579 364.055 Q152.408 367.597 156.019 367.597 Q159.653 367.597 161.459 364.055 Q163.288 360.49 163.288 353.384 Q163.288 346.254 161.459 342.713 Q159.653 339.148 156.019 339.148 M156.019 335.444 Q161.829 335.444 164.885 340.051 Q167.964 344.634 167.964 353.384 Q167.964 362.111 164.885 366.717 Q161.829 371.3 156.019 371.3 Q150.209 371.3 147.13 366.717 Q144.075 362.111 144.075 353.384 Q144.075 344.634 147.13 340.051 Q150.209 335.444 156.019 335.444 Z\" fill=\"#000000\" fill-rule=\"evenodd\" fill-opacity=\"1\" /><path clip-path=\"url(#clip940)\" d=\"M16.4842 1185.19 L16.4842 1144.99 L21.895 1144.99 L21.895 1161.86 L64.0042 1161.86 L64.0042 1168.32 L21.895 1168.32 L21.895 1185.19 L16.4842 1185.19 Z\" fill=\"#000000\" fill-rule=\"evenodd\" fill-opacity=\"1\" /><path clip-path=\"url(#clip940)\" d=\"M44.7161 1119.62 L47.5806 1119.62 L47.5806 1146.55 Q53.6281 1146.17 56.8109 1142.92 Q59.9619 1139.64 59.9619 1133.82 Q59.9619 1130.44 59.1344 1127.29 Q58.3069 1124.11 56.6518 1120.99 L62.1899 1120.99 Q63.5267 1124.14 64.227 1127.45 Q64.9272 1130.76 64.9272 1134.17 Q64.9272 1142.7 59.9619 1147.69 Q54.9967 1152.66 46.5303 1152.66 Q37.7774 1152.66 32.6531 1147.95 Q27.4968 1143.21 27.4968 1135.18 Q27.4968 1127.99 32.1438 1123.82 Q36.7589 1119.62 44.7161 1119.62 M42.9973 1125.48 Q38.1912 1125.54 35.3266 1128.18 Q32.4621 1130.79 32.4621 1135.12 Q32.4621 1140.02 35.2312 1142.98 Q38.0002 1145.91 43.0292 1146.36 L42.9973 1125.48 Z\" fill=\"#000000\" fill-rule=\"evenodd\" fill-opacity=\"1\" /><path clip-path=\"url(#clip940)\" d=\"M35.1993 1082.25 Q31.2526 1080.06 29.3747 1077 Q27.4968 1073.95 27.4968 1069.81 Q27.4968 1064.24 31.4117 1061.22 Q35.2948 1058.19 42.4881 1058.19 L64.0042 1058.19 L64.0042 1064.08 L42.679 1064.08 Q37.5546 1064.08 35.072 1065.89 Q32.5894 1067.71 32.5894 1071.43 Q32.5894 1075.98 35.6131 1078.63 Q38.6368 1081.27 43.8567 1081.27 L64.0042 1081.27 L64.0042 1087.16 L42.679 1087.16 Q37.5228 1087.16 35.072 1088.97 Q32.5894 1090.78 32.5894 1094.57 Q32.5894 1099.06 35.6449 1101.7 Q38.6686 1104.34 43.8567 1104.34 L64.0042 1104.34 L64.0042 1110.23 L28.3562 1110.23 L28.3562 1104.34 L33.8944 1104.34 Q30.616 1102.34 29.0564 1099.54 Q27.4968 1096.74 27.4968 1092.88 Q27.4968 1089 29.4702 1086.3 Q31.4436 1083.56 35.1993 1082.25 Z\" fill=\"#000000\" fill-rule=\"evenodd\" fill-opacity=\"1\" /><path clip-path=\"url(#clip940)\" d=\"M58.657 1040.84 L77.5631 1040.84 L77.5631 1046.73 L28.3562 1046.73 L28.3562 1040.84 L33.7671 1040.84 Q30.5842 1039 29.0564 1036.2 Q27.4968 1033.37 27.4968 1029.45 Q27.4968 1022.96 32.6531 1018.91 Q37.8093 1014.84 46.212 1014.84 Q54.6147 1014.84 59.771 1018.91 Q64.9272 1022.96 64.9272 1029.45 Q64.9272 1033.37 63.3994 1036.2 Q61.8398 1039 58.657 1040.84 M46.212 1020.92 Q39.7508 1020.92 36.0905 1023.59 Q32.3984 1026.24 32.3984 1030.88 Q32.3984 1035.53 36.0905 1038.2 Q39.7508 1040.84 46.212 1040.84 Q52.6732 1040.84 56.3653 1038.2 Q60.0256 1035.53 60.0256 1030.88 Q60.0256 1026.24 56.3653 1023.59 Q52.6732 1020.92 46.212 1020.92 Z\" fill=\"#000000\" fill-rule=\"evenodd\" fill-opacity=\"1\" /><path clip-path=\"url(#clip940)\" d=\"M44.7161 974.641 L47.5806 974.641 L47.5806 1001.57 Q53.6281 1001.19 56.8109 997.94 Q59.9619 994.662 59.9619 988.837 Q59.9619 985.463 59.1344 982.312 Q58.3069 979.129 56.6518 976.01 L62.1899 976.01 Q63.5267 979.161 64.227 982.471 Q64.9272 985.781 64.9272 989.187 Q64.9272 997.717 59.9619 1002.71 Q54.9967 1007.68 46.5303 1007.68 Q37.7774 1007.68 32.6531 1002.97 Q27.4968 998.226 27.4968 990.206 Q27.4968 983.012 32.1438 978.843 Q36.7589 974.641 44.7161 974.641 M42.9973 980.498 Q38.1912 980.562 35.3266 983.203 Q32.4621 985.813 32.4621 990.142 Q32.4621 995.044 35.2312 998.004 Q38.0002 1000.93 43.0292 1001.38 L42.9973 980.498 Z\" fill=\"#000000\" fill-rule=\"evenodd\" fill-opacity=\"1\" /><path clip-path=\"url(#clip940)\" d=\"M33.8307 944.373 Q33.2578 945.359 33.0032 946.537 Q32.7167 947.683 32.7167 949.083 Q32.7167 954.048 35.9632 956.722 Q39.1779 959.364 45.2253 959.364 L64.0042 959.364 L64.0042 965.252 L28.3562 965.252 L28.3562 959.364 L33.8944 959.364 Q30.6479 957.518 29.0883 954.558 Q27.4968 951.598 27.4968 947.364 Q27.4968 946.76 27.5923 946.028 Q27.656 945.296 27.8151 944.404 L33.8307 944.373 Z\" fill=\"#000000\" fill-rule=\"evenodd\" fill-opacity=\"1\" /><path clip-path=\"url(#clip940)\" d=\"M46.0847 922.029 Q46.0847 929.127 47.7079 931.864 Q49.3312 934.601 53.2461 934.601 Q56.3653 934.601 58.2114 932.564 Q60.0256 930.495 60.0256 926.962 Q60.0256 922.093 56.5881 919.164 Q53.1188 916.204 47.3897 916.204 L46.0847 916.204 L46.0847 922.029 M43.6657 910.348 L64.0042 910.348 L64.0042 916.204 L58.5933 916.204 Q61.8398 918.209 63.3994 921.201 Q64.9272 924.193 64.9272 928.522 Q64.9272 933.996 61.8716 937.243 Q58.7843 940.458 53.6281 940.458 Q47.6125 940.458 44.5569 936.447 Q41.5014 932.405 41.5014 924.416 L41.5014 916.204 L40.9285 916.204 Q36.8862 916.204 34.6901 918.878 Q32.4621 921.52 32.4621 926.326 Q32.4621 929.381 33.1941 932.278 Q33.9262 935.174 35.3903 937.848 L29.9795 937.848 Q28.7381 934.633 28.1334 931.609 Q27.4968 928.586 27.4968 925.721 Q27.4968 917.987 31.5072 914.167 Q35.5176 910.348 43.6657 910.348 Z\" fill=\"#000000\" fill-rule=\"evenodd\" fill-opacity=\"1\" /><path clip-path=\"url(#clip940)\" d=\"M18.2347 892.492 L28.3562 892.492 L28.3562 880.429 L32.9077 880.429 L32.9077 892.492 L52.2594 892.492 Q56.6199 892.492 57.8613 891.314 Q59.1026 890.105 59.1026 886.445 L59.1026 880.429 L64.0042 880.429 L64.0042 886.445 Q64.0042 893.224 61.4897 895.802 Q58.9434 898.38 52.2594 898.38 L32.9077 898.38 L32.9077 902.677 L28.3562 902.677 L28.3562 898.38 L18.2347 898.38 L18.2347 892.492 Z\" fill=\"#000000\" fill-rule=\"evenodd\" fill-opacity=\"1\" /><path clip-path=\"url(#clip940)\" d=\"M49.9359 873.331 L28.3562 873.331 L28.3562 867.475 L49.7131 867.475 Q54.7739 867.475 57.3202 865.501 Q59.8346 863.528 59.8346 859.581 Q59.8346 854.839 56.8109 852.102 Q53.7872 849.333 48.5673 849.333 L28.3562 849.333 L28.3562 843.476 L64.0042 843.476 L64.0042 849.333 L58.5296 849.333 Q61.7762 851.465 63.3676 854.298 Q64.9272 857.099 64.9272 860.823 Q64.9272 866.966 61.1078 870.148 Q57.2883 873.331 49.9359 873.331 M27.4968 858.595 L27.4968 858.595 Z\" fill=\"#000000\" fill-rule=\"evenodd\" fill-opacity=\"1\" /><path clip-path=\"url(#clip940)\" d=\"M33.8307 810.756 Q33.2578 811.743 33.0032 812.921 Q32.7167 814.067 32.7167 815.467 Q32.7167 820.432 35.9632 823.106 Q39.1779 825.748 45.2253 825.748 L64.0042 825.748 L64.0042 831.636 L28.3562 831.636 L28.3562 825.748 L33.8944 825.748 Q30.6479 823.902 29.0883 820.941 Q27.4968 817.981 27.4968 813.748 Q27.4968 813.143 27.5923 812.411 Q27.656 811.679 27.8151 810.788 L33.8307 810.756 Z\" fill=\"#000000\" fill-rule=\"evenodd\" fill-opacity=\"1\" /><path clip-path=\"url(#clip940)\" d=\"M44.7161 775.554 L47.5806 775.554 L47.5806 802.481 Q53.6281 802.099 56.8109 798.852 Q59.9619 795.574 59.9619 789.75 Q59.9619 786.376 59.1344 783.225 Q58.3069 780.042 56.6518 776.923 L62.1899 776.923 Q63.5267 780.074 64.227 783.384 Q64.9272 786.694 64.9272 790.1 Q64.9272 798.63 59.9619 803.627 Q54.9967 808.592 46.5303 808.592 Q37.7774 808.592 32.6531 803.881 Q27.4968 799.139 27.4968 791.118 Q27.4968 783.925 32.1438 779.755 Q36.7589 775.554 44.7161 775.554 M42.9973 781.41 Q38.1912 781.474 35.3266 784.116 Q32.4621 786.726 32.4621 791.054 Q32.4621 795.956 35.2312 798.916 Q38.0002 801.844 43.0292 802.29 L42.9973 781.41 Z\" fill=\"#000000\" fill-rule=\"evenodd\" fill-opacity=\"1\" /><path clip-path=\"url(#clip940)\" d=\"M14.5426 731.153 Q21.8632 735.418 29.0246 737.487 Q36.186 739.556 43.5384 739.556 Q50.8908 739.556 58.1159 737.487 Q65.3091 735.386 72.5979 731.153 L72.5979 736.246 Q65.1182 741.02 57.8931 743.407 Q50.668 745.762 43.5384 745.762 Q36.4406 745.762 29.2474 743.407 Q22.0542 741.052 14.5426 736.246 L14.5426 731.153 Z\" fill=\"#000000\" fill-rule=\"evenodd\" fill-opacity=\"1\" /><path clip-path=\"url(#clip940)\" d=\"M16.4842 719.536 L16.4842 692.227 L21.895 692.227 L21.895 713.106 L35.8996 713.106 L35.8996 694.264 L41.3104 694.264 L41.3104 713.106 L64.0042 713.106 L64.0042 719.536 L16.4842 719.536 Z\" fill=\"#000000\" fill-rule=\"evenodd\" fill-opacity=\"1\" /><path clip-path=\"url(#clip940)\" d=\"M46.0847 672.079 Q46.0847 679.177 47.7079 681.914 Q49.3312 684.652 53.2461 684.652 Q56.3653 684.652 58.2114 682.615 Q60.0256 680.546 60.0256 677.013 Q60.0256 672.143 56.5881 669.215 Q53.1188 666.255 47.3897 666.255 L46.0847 666.255 L46.0847 672.079 M43.6657 660.398 L64.0042 660.398 L64.0042 666.255 L58.5933 666.255 Q61.8398 668.26 63.3994 671.252 Q64.9272 674.244 64.9272 678.572 Q64.9272 684.047 61.8716 687.293 Q58.7843 690.508 53.6281 690.508 Q47.6125 690.508 44.5569 686.498 Q41.5014 682.456 41.5014 674.467 L41.5014 666.255 L40.9285 666.255 Q36.8862 666.255 34.6901 668.928 Q32.4621 671.57 32.4621 676.376 Q32.4621 679.432 33.1941 682.328 Q33.9262 685.225 35.3903 687.898 L29.9795 687.898 Q28.7381 684.684 28.1334 681.66 Q27.4968 678.636 27.4968 675.772 Q27.4968 668.037 31.5072 664.218 Q35.5176 660.398 43.6657 660.398 Z\" fill=\"#000000\" fill-rule=\"evenodd\" fill-opacity=\"1\" /><path clip-path=\"url(#clip940)\" d=\"M42.4881 618.703 L64.0042 618.703 L64.0042 624.559 L42.679 624.559 Q37.6183 624.559 35.1038 626.533 Q32.5894 628.506 32.5894 632.453 Q32.5894 637.195 35.6131 639.933 Q38.6368 642.67 43.8567 642.67 L64.0042 642.67 L64.0042 648.558 L14.479 648.558 L14.479 642.67 L33.8944 642.67 Q30.6797 640.569 29.0883 637.736 Q27.4968 634.872 27.4968 631.148 Q27.4968 625.005 31.3163 621.854 Q35.1038 618.703 42.4881 618.703 Z\" fill=\"#000000\" fill-rule=\"evenodd\" fill-opacity=\"1\" /><path clip-path=\"url(#clip940)\" d=\"M33.8307 586.365 Q33.2578 587.352 33.0032 588.53 Q32.7167 589.675 32.7167 591.076 Q32.7167 596.041 35.9632 598.715 Q39.1779 601.356 45.2253 601.356 L64.0042 601.356 L64.0042 607.245 L28.3562 607.245 L28.3562 601.356 L33.8944 601.356 Q30.6479 599.51 29.0883 596.55 Q27.4968 593.59 27.4968 589.357 Q27.4968 588.752 27.5923 588.02 Q27.656 587.288 27.8151 586.397 L33.8307 586.365 Z\" fill=\"#000000\" fill-rule=\"evenodd\" fill-opacity=\"1\" /><path clip-path=\"url(#clip940)\" d=\"M44.7161 551.163 L47.5806 551.163 L47.5806 578.09 Q53.6281 577.708 56.8109 574.461 Q59.9619 571.183 59.9619 565.358 Q59.9619 561.985 59.1344 558.833 Q58.3069 555.651 56.6518 552.531 L62.1899 552.531 Q63.5267 555.682 64.227 558.993 Q64.9272 562.303 64.9272 565.708 Q64.9272 574.239 59.9619 579.236 Q54.9967 584.201 46.5303 584.201 Q37.7774 584.201 32.6531 579.49 Q27.4968 574.748 27.4968 566.727 Q27.4968 559.534 32.1438 555.364 Q36.7589 551.163 44.7161 551.163 M42.9973 557.019 Q38.1912 557.083 35.3266 559.725 Q32.4621 562.335 32.4621 566.663 Q32.4621 571.565 35.2312 574.525 Q38.0002 577.453 43.0292 577.899 L42.9973 557.019 Z\" fill=\"#000000\" fill-rule=\"evenodd\" fill-opacity=\"1\" /><path clip-path=\"url(#clip940)\" d=\"M42.4881 511.918 L64.0042 511.918 L64.0042 517.775 L42.679 517.775 Q37.6183 517.775 35.1038 519.748 Q32.5894 521.721 32.5894 525.668 Q32.5894 530.411 35.6131 533.148 Q38.6368 535.885 43.8567 535.885 L64.0042 535.885 L64.0042 541.773 L28.3562 541.773 L28.3562 535.885 L33.8944 535.885 Q30.6797 533.784 29.0883 530.952 Q27.4968 528.087 27.4968 524.363 Q27.4968 518.22 31.3163 515.069 Q35.1038 511.918 42.4881 511.918 Z\" fill=\"#000000\" fill-rule=\"evenodd\" fill-opacity=\"1\" /><path clip-path=\"url(#clip940)\" d=\"M42.4881 470.605 L64.0042 470.605 L64.0042 476.461 L42.679 476.461 Q37.6183 476.461 35.1038 478.435 Q32.5894 480.408 32.5894 484.355 Q32.5894 489.097 35.6131 491.834 Q38.6368 494.572 43.8567 494.572 L64.0042 494.572 L64.0042 500.46 L14.479 500.46 L14.479 494.572 L33.8944 494.572 Q30.6797 492.471 29.0883 489.638 Q27.4968 486.774 27.4968 483.05 Q27.4968 476.907 31.3163 473.756 Q35.1038 470.605 42.4881 470.605 Z\" fill=\"#000000\" fill-rule=\"evenodd\" fill-opacity=\"1\" /><path clip-path=\"url(#clip940)\" d=\"M44.7161 428.432 L47.5806 428.432 L47.5806 455.359 Q53.6281 454.977 56.8109 451.73 Q59.9619 448.452 59.9619 442.628 Q59.9619 439.254 59.1344 436.103 Q58.3069 432.92 56.6518 429.801 L62.1899 429.801 Q63.5267 432.952 64.227 436.262 Q64.9272 439.572 64.9272 442.978 Q64.9272 451.508 59.9619 456.505 Q54.9967 461.47 46.5303 461.47 Q37.7774 461.47 32.6531 456.759 Q27.4968 452.017 27.4968 443.996 Q27.4968 436.803 32.1438 432.633 Q36.7589 428.432 44.7161 428.432 M42.9973 434.288 Q38.1912 434.352 35.3266 436.994 Q32.4621 439.604 32.4621 443.932 Q32.4621 448.834 35.2312 451.794 Q38.0002 454.722 43.0292 455.168 L42.9973 434.288 Z\" fill=\"#000000\" fill-rule=\"evenodd\" fill-opacity=\"1\" /><path clip-path=\"url(#clip940)\" d=\"M28.3562 418.82 L28.3562 412.963 L64.0042 412.963 L64.0042 418.82 L28.3562 418.82 M14.479 418.82 L14.479 412.963 L21.895 412.963 L21.895 418.82 L14.479 418.82 Z\" fill=\"#000000\" fill-rule=\"evenodd\" fill-opacity=\"1\" /><path clip-path=\"url(#clip940)\" d=\"M18.2347 394.917 L28.3562 394.917 L28.3562 382.854 L32.9077 382.854 L32.9077 394.917 L52.2594 394.917 Q56.6199 394.917 57.8613 393.739 Q59.1026 392.529 59.1026 388.869 L59.1026 382.854 L64.0042 382.854 L64.0042 388.869 Q64.0042 395.649 61.4897 398.227 Q58.9434 400.805 52.2594 400.805 L32.9077 400.805 L32.9077 405.102 L28.3562 405.102 L28.3562 400.805 L18.2347 400.805 L18.2347 394.917 Z\" fill=\"#000000\" fill-rule=\"evenodd\" fill-opacity=\"1\" /><path clip-path=\"url(#clip940)\" d=\"M14.5426 376.074 L14.5426 370.981 Q22.0542 366.207 29.2474 363.852 Q36.4406 361.465 43.5384 361.465 Q50.668 361.465 57.8931 363.852 Q65.1182 366.207 72.5979 370.981 L72.5979 376.074 Q65.3091 371.841 58.1159 369.772 Q50.8908 367.671 43.5384 367.671 Q36.186 367.671 29.0246 369.772 Q21.8632 371.841 14.5426 376.074 Z\" fill=\"#000000\" fill-rule=\"evenodd\" fill-opacity=\"1\" /><path clip-path=\"url(#clip940)\" d=\"M38.3374 12.096 L46.5203 12.096 L46.5203 68.3631 Q46.5203 79.3005 42.3478 84.2426 Q38.2159 89.1847 29.0204 89.1847 L25.9012 89.1847 L25.9012 82.2982 L28.4532 82.2982 Q33.8815 82.2982 36.1095 79.26 Q38.3374 76.2218 38.3374 68.3631 L38.3374 12.096 Z\" fill=\"#000000\" fill-rule=\"evenodd\" fill-opacity=\"1\" /><path clip-path=\"url(#clip940)\" d=\"M83.0999 49.7694 Q74.0664 49.7694 70.5826 51.8354 Q67.0989 53.9013 67.0989 58.8839 Q67.0989 62.8538 69.6914 65.2034 Q72.3245 67.5124 76.821 67.5124 Q83.0189 67.5124 86.7458 63.1374 Q90.5131 58.7219 90.5131 51.4303 L90.5131 49.7694 L83.0999 49.7694 M97.9668 46.6907 L97.9668 72.576 L90.5131 72.576 L90.5131 65.6895 Q87.961 69.8214 84.1532 71.8063 Q80.3453 73.7508 74.8361 73.7508 Q67.8685 73.7508 63.7366 69.8619 Q59.6452 65.9325 59.6452 59.3701 Q59.6452 51.7138 64.7493 47.825 Q69.894 43.9361 80.0618 43.9361 L90.5131 43.9361 L90.5131 43.2069 Q90.5131 38.0623 87.1103 35.2672 Q83.7481 32.4315 77.6312 32.4315 Q73.7424 32.4315 70.056 33.3632 Q66.3697 34.295 62.9669 36.1584 L62.9669 29.2718 Q67.0584 27.692 70.9067 26.9223 Q74.7551 26.1121 78.4009 26.1121 Q88.2446 26.1121 93.1057 31.2163 Q97.9668 36.3204 97.9668 46.6907 Z\" fill=\"#000000\" fill-rule=\"evenodd\" fill-opacity=\"1\" /><path clip-path=\"url(#clip940)\" d=\"M151.034 45.1919 L151.034 72.576 L143.58 72.576 L143.58 45.4349 Q143.58 38.994 141.068 35.7938 Q138.557 32.5936 133.534 32.5936 Q127.498 32.5936 124.014 36.4419 Q120.53 40.2903 120.53 46.9338 L120.53 72.576 L113.036 72.576 L113.036 27.2059 L120.53 27.2059 L120.53 34.2544 Q123.204 30.163 126.809 28.1376 Q130.455 26.1121 135.195 26.1121 Q143.013 26.1121 147.023 30.9732 Q151.034 35.7938 151.034 45.1919 Z\" fill=\"#000000\" fill-rule=\"evenodd\" fill-opacity=\"1\" /><path clip-path=\"url(#clip940)\" d=\"M212.891 49.7694 Q203.857 49.7694 200.374 51.8354 Q196.89 53.9013 196.89 58.8839 Q196.89 62.8538 199.482 65.2034 Q202.116 67.5124 206.612 67.5124 Q212.81 67.5124 216.537 63.1374 Q220.304 58.7219 220.304 51.4303 L220.304 49.7694 L212.891 49.7694 M227.758 46.6907 L227.758 72.576 L220.304 72.576 L220.304 65.6895 Q217.752 69.8214 213.944 71.8063 Q210.136 73.7508 204.627 73.7508 Q197.66 73.7508 193.528 69.8619 Q189.436 65.9325 189.436 59.3701 Q189.436 51.7138 194.54 47.825 Q199.685 43.9361 209.853 43.9361 L220.304 43.9361 L220.304 43.2069 Q220.304 38.0623 216.901 35.2672 Q213.539 32.4315 207.422 32.4315 Q203.533 32.4315 199.847 33.3632 Q196.161 34.295 192.758 36.1584 L192.758 29.2718 Q196.849 27.692 200.698 26.9223 Q204.546 26.1121 208.192 26.1121 Q218.036 26.1121 222.897 31.2163 Q227.758 36.3204 227.758 46.6907 Z\" fill=\"#000000\" fill-rule=\"evenodd\" fill-opacity=\"1\" /><path clip-path=\"url(#clip940)\" d=\"M237.763 27.2059 L245.663 27.2059 L259.841 65.2844 L274.019 27.2059 L281.918 27.2059 L264.905 72.576 L254.777 72.576 L237.763 27.2059 Z\" fill=\"#000000\" fill-rule=\"evenodd\" fill-opacity=\"1\" /><path clip-path=\"url(#clip940)\" d=\"M331.015 48.0275 L331.015 51.6733 L296.745 51.6733 Q297.231 59.3701 301.363 63.421 Q305.535 67.4314 312.948 67.4314 Q317.242 67.4314 321.253 66.3781 Q325.304 65.3249 329.273 63.2184 L329.273 70.267 Q325.263 71.9684 321.05 72.8596 Q316.837 73.7508 312.503 73.7508 Q301.646 73.7508 295.286 67.4314 Q288.967 61.1119 288.967 50.3365 Q288.967 39.1965 294.962 32.6746 Q300.998 26.1121 311.206 26.1121 Q320.361 26.1121 325.668 32.0264 Q331.015 37.9003 331.015 48.0275 M323.562 45.84 Q323.481 39.7232 320.118 36.0774 Q316.797 32.4315 311.287 32.4315 Q305.049 32.4315 301.282 35.9558 Q297.555 39.4801 296.988 45.8805 L323.562 45.84 Z\" fill=\"#000000\" fill-rule=\"evenodd\" fill-opacity=\"1\" /><path clip-path=\"url(#clip940)\" d=\"M369.539 34.1734 Q368.284 33.4443 366.785 33.1202 Q365.326 32.7556 363.544 32.7556 Q357.225 32.7556 353.822 36.8875 Q350.46 40.9789 350.46 48.6757 L350.46 72.576 L342.965 72.576 L342.965 27.2059 L350.46 27.2059 L350.46 34.2544 Q352.809 30.1225 356.576 28.1376 Q360.344 26.1121 365.732 26.1121 Q366.501 26.1121 367.433 26.2337 Q368.365 26.3147 369.499 26.5172 L369.539 34.1734 Z\" fill=\"#000000\" fill-rule=\"evenodd\" fill-opacity=\"1\" /><path clip-path=\"url(#clip940)\" d=\"M397.977 49.7694 Q388.943 49.7694 385.459 51.8354 Q381.976 53.9013 381.976 58.8839 Q381.976 62.8538 384.568 65.2034 Q387.201 67.5124 391.698 67.5124 Q397.896 67.5124 401.623 63.1374 Q405.39 58.7219 405.39 51.4303 L405.39 49.7694 L397.977 49.7694 M412.844 46.6907 L412.844 72.576 L405.39 72.576 L405.39 65.6895 Q402.838 69.8214 399.03 71.8063 Q395.222 73.7508 389.713 73.7508 Q382.745 73.7508 378.613 69.8619 Q374.522 65.9325 374.522 59.3701 Q374.522 51.7138 379.626 47.825 Q384.771 43.9361 394.939 43.9361 L405.39 43.9361 L405.39 43.2069 Q405.39 38.0623 401.987 35.2672 Q398.625 32.4315 392.508 32.4315 Q388.619 32.4315 384.933 33.3632 Q381.246 34.295 377.844 36.1584 L377.844 29.2718 Q381.935 27.692 385.784 26.9223 Q389.632 26.1121 393.278 26.1121 Q403.121 26.1121 407.982 31.2163 Q412.844 36.3204 412.844 46.6907 Z\" fill=\"#000000\" fill-rule=\"evenodd\" fill-opacity=\"1\" /><path clip-path=\"url(#clip940)\" d=\"M458.052 49.3643 Q458.052 41.2625 454.689 36.8065 Q451.368 32.3505 445.332 32.3505 Q439.336 32.3505 435.974 36.8065 Q432.652 41.2625 432.652 49.3643 Q432.652 57.4256 435.974 61.8816 Q439.336 66.3376 445.332 66.3376 Q451.368 66.3376 454.689 61.8816 Q458.052 57.4256 458.052 49.3643 M465.505 66.9452 Q465.505 78.5308 460.361 84.1616 Q455.216 89.8329 444.603 89.8329 Q440.673 89.8329 437.189 89.2252 Q433.706 88.6581 430.424 87.4428 L430.424 80.1917 Q433.706 81.9741 436.906 82.8248 Q440.106 83.6755 443.428 83.6755 Q450.76 83.6755 454.406 79.8271 Q458.052 76.0193 458.052 68.282 L458.052 64.5957 Q455.743 68.6061 452.137 70.5911 Q448.532 72.576 443.509 72.576 Q435.164 72.576 430.06 66.2161 Q424.956 59.8562 424.956 49.3643 Q424.956 38.832 430.06 32.472 Q435.164 26.1121 443.509 26.1121 Q448.532 26.1121 452.137 28.0971 Q455.743 30.082 458.052 34.0924 L458.052 27.2059 L465.505 27.2059 L465.505 66.9452 Z\" fill=\"#000000\" fill-rule=\"evenodd\" fill-opacity=\"1\" /><path clip-path=\"url(#clip940)\" d=\"M519.666 48.0275 L519.666 51.6733 L485.395 51.6733 Q485.881 59.3701 490.013 63.421 Q494.186 67.4314 501.599 67.4314 Q505.893 67.4314 509.903 66.3781 Q513.954 65.3249 517.924 63.2184 L517.924 70.267 Q513.914 71.9684 509.701 72.8596 Q505.488 73.7508 501.153 73.7508 Q490.297 73.7508 483.937 67.4314 Q477.618 61.1119 477.618 50.3365 Q477.618 39.1965 483.613 32.6746 Q489.649 26.1121 499.857 26.1121 Q509.012 26.1121 514.319 32.0264 Q519.666 37.9003 519.666 48.0275 M512.212 45.84 Q512.131 39.7232 508.769 36.0774 Q505.447 32.4315 499.938 32.4315 Q493.7 32.4315 489.932 35.9558 Q486.205 39.4801 485.638 45.8805 L512.212 45.84 Z\" fill=\"#000000\" fill-rule=\"evenodd\" fill-opacity=\"1\" /><path clip-path=\"url(#clip940)\" d=\"M565.644 14.324 L565.644 27.2059 L580.997 27.2059 L580.997 32.9987 L565.644 32.9987 L565.644 57.6282 Q565.644 63.1779 567.142 64.7578 Q568.682 66.3376 573.34 66.3376 L580.997 66.3376 L580.997 72.576 L573.34 72.576 Q564.712 72.576 561.431 69.3758 Q558.149 66.1351 558.149 57.6282 L558.149 32.9987 L552.681 32.9987 L552.681 27.2059 L558.149 27.2059 L558.149 14.324 L565.644 14.324 Z\" fill=\"#000000\" fill-rule=\"evenodd\" fill-opacity=\"1\" /><path clip-path=\"url(#clip940)\" d=\"M629.607 48.0275 L629.607 51.6733 L595.337 51.6733 Q595.823 59.3701 599.955 63.421 Q604.127 67.4314 611.54 67.4314 Q615.834 67.4314 619.845 66.3781 Q623.896 65.3249 627.866 63.2184 L627.866 70.267 Q623.855 71.9684 619.642 72.8596 Q615.429 73.7508 611.095 73.7508 Q600.238 73.7508 593.878 67.4314 Q587.559 61.1119 587.559 50.3365 Q587.559 39.1965 593.554 32.6746 Q599.59 26.1121 609.799 26.1121 Q618.954 26.1121 624.26 32.0264 Q629.607 37.9003 629.607 48.0275 M622.154 45.84 Q622.073 39.7232 618.71 36.0774 Q615.389 32.4315 609.88 32.4315 Q603.641 32.4315 599.874 35.9558 Q596.147 39.4801 595.58 45.8805 L622.154 45.84 Z\" fill=\"#000000\" fill-rule=\"evenodd\" fill-opacity=\"1\" /><path clip-path=\"url(#clip940)\" d=\"M677.165 35.9153 Q679.96 30.8922 683.849 28.5022 Q687.738 26.1121 693.004 26.1121 Q700.093 26.1121 703.942 31.0947 Q707.79 36.0368 707.79 45.1919 L707.79 72.576 L700.296 72.576 L700.296 45.4349 Q700.296 38.913 697.987 35.7533 Q695.678 32.5936 690.938 32.5936 Q685.145 32.5936 681.783 36.4419 Q678.421 40.2903 678.421 46.9338 L678.421 72.576 L670.927 72.576 L670.927 45.4349 Q670.927 38.8725 668.618 35.7533 Q666.309 32.5936 661.488 32.5936 Q655.776 32.5936 652.414 36.4824 Q649.052 40.3308 649.052 46.9338 L649.052 72.576 L641.558 72.576 L641.558 27.2059 L649.052 27.2059 L649.052 34.2544 Q651.604 30.082 655.169 28.0971 Q658.733 26.1121 663.635 26.1121 Q668.577 26.1121 672.02 28.6237 Q675.504 31.1352 677.165 35.9153 Z\" fill=\"#000000\" fill-rule=\"evenodd\" fill-opacity=\"1\" /><path clip-path=\"url(#clip940)\" d=\"M729.867 65.7705 L729.867 89.8329 L722.373 89.8329 L722.373 27.2059 L729.867 27.2059 L729.867 34.0924 Q732.217 30.0415 735.782 28.0971 Q739.387 26.1121 744.37 26.1121 Q752.633 26.1121 757.778 32.6746 Q762.963 39.2371 762.963 49.9314 Q762.963 60.6258 757.778 67.1883 Q752.633 73.7508 744.37 73.7508 Q739.387 73.7508 735.782 71.8063 Q732.217 69.8214 729.867 65.7705 M755.226 49.9314 Q755.226 41.7081 751.823 37.0496 Q748.461 32.3505 742.547 32.3505 Q736.632 32.3505 733.23 37.0496 Q729.867 41.7081 729.867 49.9314 Q729.867 58.1548 733.23 62.8538 Q736.632 67.5124 742.547 67.5124 Q748.461 67.5124 751.823 62.8538 Q755.226 58.1548 755.226 49.9314 Z\" fill=\"#000000\" fill-rule=\"evenodd\" fill-opacity=\"1\" /><path clip-path=\"url(#clip940)\" d=\"M837.014 35.9153 Q839.809 30.8922 843.698 28.5022 Q847.587 26.1121 852.853 26.1121 Q859.942 26.1121 863.79 31.0947 Q867.639 36.0368 867.639 45.1919 L867.639 72.576 L860.144 72.576 L860.144 45.4349 Q860.144 38.913 857.835 35.7533 Q855.526 32.5936 850.787 32.5936 Q844.994 32.5936 841.632 36.4419 Q838.27 40.2903 838.27 46.9338 L838.27 72.576 L830.775 72.576 L830.775 45.4349 Q830.775 38.8725 828.466 35.7533 Q826.157 32.5936 821.337 32.5936 Q815.625 32.5936 812.263 36.4824 Q808.9 40.3308 808.9 46.9338 L808.9 72.576 L801.406 72.576 L801.406 27.2059 L808.9 27.2059 L808.9 34.2544 Q811.453 30.082 815.017 28.0971 Q818.582 26.1121 823.484 26.1121 Q828.426 26.1121 831.869 28.6237 Q835.353 31.1352 837.014 35.9153 Z\" fill=\"#000000\" fill-rule=\"evenodd\" fill-opacity=\"1\" /><path clip-path=\"url(#clip940)\" d=\"M903.124 49.7694 Q894.091 49.7694 890.607 51.8354 Q887.123 53.9013 887.123 58.8839 Q887.123 62.8538 889.716 65.2034 Q892.349 67.5124 896.846 67.5124 Q903.043 67.5124 906.77 63.1374 Q910.538 58.7219 910.538 51.4303 L910.538 49.7694 L903.124 49.7694 M917.991 46.6907 L917.991 72.576 L910.538 72.576 L910.538 65.6895 Q907.986 69.8214 904.178 71.8063 Q900.37 73.7508 894.861 73.7508 Q887.893 73.7508 883.761 69.8619 Q879.67 65.9325 879.67 59.3701 Q879.67 51.7138 884.774 47.825 Q889.919 43.9361 900.086 43.9361 L910.538 43.9361 L910.538 43.2069 Q910.538 38.0623 907.135 35.2672 Q903.773 32.4315 897.656 32.4315 Q893.767 32.4315 890.081 33.3632 Q886.394 34.295 882.991 36.1584 L882.991 29.2718 Q887.083 27.692 890.931 26.9223 Q894.78 26.1121 898.425 26.1121 Q908.269 26.1121 913.13 31.2163 Q917.991 36.3204 917.991 46.6907 Z\" fill=\"#000000\" fill-rule=\"evenodd\" fill-opacity=\"1\" /><path clip-path=\"url(#clip940)\" d=\"M971.058 27.2059 L954.652 49.2833 L971.909 72.576 L963.118 72.576 L949.912 54.752 L936.706 72.576 L927.916 72.576 L945.537 48.8377 L929.415 27.2059 L938.205 27.2059 L950.236 43.369 L962.268 27.2059 L971.058 27.2059 Z\" fill=\"#000000\" fill-rule=\"evenodd\" fill-opacity=\"1\" /><path clip-path=\"url(#clip940)\" d=\"M1011.28 65.6895 L1024.65 65.6895 L1024.65 19.5497 L1010.11 22.4663 L1010.11 15.0127 L1024.57 12.096 L1032.75 12.096 L1032.75 65.6895 L1046.12 65.6895 L1046.12 72.576 L1011.28 72.576 L1011.28 65.6895 Z\" fill=\"#000000\" fill-rule=\"evenodd\" fill-opacity=\"1\" /><path clip-path=\"url(#clip940)\" d=\"M1062.89 71.3202 L1062.89 63.8666 Q1065.97 65.3249 1069.13 66.0946 Q1072.29 66.8642 1075.33 66.8642 Q1083.43 66.8642 1087.68 61.436 Q1091.98 55.9673 1092.59 44.8678 Q1090.24 48.3516 1086.63 50.215 Q1083.03 52.0784 1078.65 52.0784 Q1069.58 52.0784 1064.27 46.6097 Q1059 41.1005 1059 31.5808 Q1059 22.2638 1064.51 16.633 Q1070.02 11.0023 1079.18 11.0023 Q1089.67 11.0023 1095.18 19.0636 Q1100.73 27.0843 1100.73 42.3968 Q1100.73 56.6965 1093.92 65.2439 Q1087.16 73.7508 1075.69 73.7508 Q1072.61 73.7508 1069.45 73.1431 Q1066.29 72.5355 1062.89 71.3202 M1079.18 45.678 Q1084.69 45.678 1087.89 41.9107 Q1091.13 38.1433 1091.13 31.5808 Q1091.13 25.0589 1087.89 21.2916 Q1084.69 17.4837 1079.18 17.4837 Q1073.67 17.4837 1070.43 21.2916 Q1067.23 25.0589 1067.23 31.5808 Q1067.23 38.1433 1070.43 41.9107 Q1073.67 45.678 1079.18 45.678 Z\" fill=\"#000000\" fill-rule=\"evenodd\" fill-opacity=\"1\" /><path clip-path=\"url(#clip940)\" d=\"M1122.48 65.6895 L1151.04 65.6895 L1151.04 72.576 L1112.64 72.576 L1112.64 65.6895 Q1117.3 60.8689 1125.32 52.7671 Q1133.38 44.6248 1135.44 42.2752 Q1139.37 37.8598 1140.91 34.8216 Q1142.49 31.7429 1142.49 28.7857 Q1142.49 23.9651 1139.09 20.927 Q1135.73 17.8888 1130.3 17.8888 Q1126.45 17.8888 1122.16 19.2256 Q1117.9 20.5624 1113.04 23.2765 L1113.04 15.0127 Q1117.98 13.0277 1122.28 12.015 Q1126.57 11.0023 1130.14 11.0023 Q1139.54 11.0023 1145.13 15.7013 Q1150.72 20.4004 1150.72 28.2591 Q1150.72 31.9859 1149.3 35.3482 Q1147.92 38.6699 1144.23 43.2069 Q1143.22 44.3817 1137.79 50.0125 Q1132.37 55.6027 1122.48 65.6895 Z\" fill=\"#000000\" fill-rule=\"evenodd\" fill-opacity=\"1\" /><path clip-path=\"url(#clip940)\" d=\"M1175.26 65.6895 L1203.82 65.6895 L1203.82 72.576 L1165.42 72.576 L1165.42 65.6895 Q1170.08 60.8689 1178.1 52.7671 Q1186.16 44.6248 1188.23 42.2752 Q1192.16 37.8598 1193.7 34.8216 Q1195.28 31.7429 1195.28 28.7857 Q1195.28 23.9651 1191.87 20.927 Q1188.51 17.8888 1183.08 17.8888 Q1179.23 17.8888 1174.94 19.2256 Q1170.69 20.5624 1165.83 23.2765 L1165.83 15.0127 Q1170.77 13.0277 1175.06 12.015 Q1179.36 11.0023 1182.92 11.0023 Q1192.32 11.0023 1197.91 15.7013 Q1203.5 20.4004 1203.5 28.2591 Q1203.5 31.9859 1202.08 35.3482 Q1200.7 38.6699 1197.02 43.2069 Q1196 44.3817 1190.58 50.0125 Q1185.15 55.6027 1175.26 65.6895 Z\" fill=\"#000000\" fill-rule=\"evenodd\" fill-opacity=\"1\" /><path clip-path=\"url(#clip940)\" d=\"M1240.97 27.2059 L1248.87 27.2059 L1263.05 65.2844 L1277.23 27.2059 L1285.12 27.2059 L1268.11 72.576 L1257.98 72.576 L1240.97 27.2059 Z\" fill=\"#000000\" fill-rule=\"evenodd\" fill-opacity=\"1\" /><path clip-path=\"url(#clip940)\" d=\"M1324.34 28.5427 L1324.34 35.5912 Q1321.18 33.9709 1317.78 33.1607 Q1314.37 32.3505 1310.73 32.3505 Q1305.18 32.3505 1302.38 34.0519 Q1299.63 35.7533 1299.63 39.156 Q1299.63 41.7486 1301.61 43.2475 Q1303.6 44.7058 1309.59 46.0426 L1312.14 46.6097 Q1320.08 48.3111 1323.41 51.4303 Q1326.77 54.509 1326.77 60.0587 Q1326.77 66.3781 1321.74 70.0644 Q1316.76 73.7508 1308.01 73.7508 Q1304.37 73.7508 1300.4 73.0216 Q1296.47 72.3329 1292.09 70.9151 L1292.09 63.2184 Q1296.22 65.3654 1300.23 66.4591 Q1304.25 67.5124 1308.17 67.5124 Q1313.44 67.5124 1316.28 65.73 Q1319.11 63.9071 1319.11 60.6258 Q1319.11 57.5877 1317.05 55.9673 Q1315.02 54.3469 1308.09 52.8481 L1305.5 52.2405 Q1298.57 50.7821 1295.5 47.7845 Q1292.42 44.7463 1292.42 39.4801 Q1292.42 33.0797 1296.95 29.5959 Q1301.49 26.1121 1309.84 26.1121 Q1313.97 26.1121 1317.61 26.7198 Q1321.26 27.3274 1324.34 28.5427 Z\" fill=\"#000000\" fill-rule=\"evenodd\" fill-opacity=\"1\" /><path clip-path=\"url(#clip940)\" d=\"M1365.33 12.096 L1373.52 12.096 L1373.52 68.3631 Q1373.52 79.3005 1369.34 84.2426 Q1365.21 89.1847 1356.02 89.1847 L1352.9 89.1847 L1352.9 82.2982 L1355.45 82.2982 Q1360.88 82.2982 1363.1 79.26 Q1365.33 76.2218 1365.33 68.3631 L1365.33 12.096 Z\" fill=\"#000000\" fill-rule=\"evenodd\" fill-opacity=\"1\" /><path clip-path=\"url(#clip940)\" d=\"M1410.1 49.7694 Q1401.06 49.7694 1397.58 51.8354 Q1394.09 53.9013 1394.09 58.8839 Q1394.09 62.8538 1396.69 65.2034 Q1399.32 67.5124 1403.82 67.5124 Q1410.01 67.5124 1413.74 63.1374 Q1417.51 58.7219 1417.51 51.4303 L1417.51 49.7694 L1410.1 49.7694 M1424.96 46.6907 L1424.96 72.576 L1417.51 72.576 L1417.51 65.6895 Q1414.96 69.8214 1411.15 71.8063 Q1407.34 73.7508 1401.83 73.7508 Q1394.86 73.7508 1390.73 69.8619 Q1386.64 65.9325 1386.64 59.3701 Q1386.64 51.7138 1391.74 47.825 Q1396.89 43.9361 1407.06 43.9361 L1417.51 43.9361 L1417.51 43.2069 Q1417.51 38.0623 1414.11 35.2672 Q1410.74 32.4315 1404.63 32.4315 Q1400.74 32.4315 1397.05 33.3632 Q1393.36 34.295 1389.96 36.1584 L1389.96 29.2718 Q1394.05 27.692 1397.9 26.9223 Q1401.75 26.1121 1405.4 26.1121 Q1415.24 26.1121 1420.1 31.2163 Q1424.96 36.3204 1424.96 46.6907 Z\" fill=\"#000000\" fill-rule=\"evenodd\" fill-opacity=\"1\" /><path clip-path=\"url(#clip940)\" d=\"M1478.03 45.1919 L1478.03 72.576 L1470.58 72.576 L1470.58 45.4349 Q1470.58 38.994 1468.06 35.7938 Q1465.55 32.5936 1460.53 32.5936 Q1454.49 32.5936 1451.01 36.4419 Q1447.53 40.2903 1447.53 46.9338 L1447.53 72.576 L1440.03 72.576 L1440.03 27.2059 L1447.53 27.2059 L1447.53 34.2544 Q1450.2 30.163 1453.8 28.1376 Q1457.45 26.1121 1462.19 26.1121 Q1470.01 26.1121 1474.02 30.9732 Q1478.03 35.7938 1478.03 45.1919 Z\" fill=\"#000000\" fill-rule=\"evenodd\" fill-opacity=\"1\" /><path clip-path=\"url(#clip940)\" d=\"M1539.89 49.7694 Q1530.85 49.7694 1527.37 51.8354 Q1523.89 53.9013 1523.89 58.8839 Q1523.89 62.8538 1526.48 65.2034 Q1529.11 67.5124 1533.61 67.5124 Q1539.81 67.5124 1543.53 63.1374 Q1547.3 58.7219 1547.3 51.4303 L1547.3 49.7694 L1539.89 49.7694 M1554.75 46.6907 L1554.75 72.576 L1547.3 72.576 L1547.3 65.6895 Q1544.75 69.8214 1540.94 71.8063 Q1537.13 73.7508 1531.62 73.7508 Q1524.65 73.7508 1520.52 69.8619 Q1516.43 65.9325 1516.43 59.3701 Q1516.43 51.7138 1521.54 47.825 Q1526.68 43.9361 1536.85 43.9361 L1547.3 43.9361 L1547.3 43.2069 Q1547.3 38.0623 1543.9 35.2672 Q1540.53 32.4315 1534.42 32.4315 Q1530.53 32.4315 1526.84 33.3632 Q1523.16 34.295 1519.75 36.1584 L1519.75 29.2718 Q1523.84 27.692 1527.69 26.9223 Q1531.54 26.1121 1535.19 26.1121 Q1545.03 26.1121 1549.89 31.2163 Q1554.75 36.3204 1554.75 46.6907 Z\" fill=\"#000000\" fill-rule=\"evenodd\" fill-opacity=\"1\" /><path clip-path=\"url(#clip940)\" d=\"M1564.76 27.2059 L1572.66 27.2059 L1586.84 65.2844 L1601.01 27.2059 L1608.91 27.2059 L1591.9 72.576 L1581.77 72.576 L1564.76 27.2059 Z\" fill=\"#000000\" fill-rule=\"evenodd\" fill-opacity=\"1\" /><path clip-path=\"url(#clip940)\" d=\"M1658.01 48.0275 L1658.01 51.6733 L1623.74 51.6733 Q1624.23 59.3701 1628.36 63.421 Q1632.53 67.4314 1639.94 67.4314 Q1644.24 67.4314 1648.25 66.3781 Q1652.3 65.3249 1656.27 63.2184 L1656.27 70.267 Q1652.26 71.9684 1648.05 72.8596 Q1643.83 73.7508 1639.5 73.7508 Q1628.64 73.7508 1622.28 67.4314 Q1615.96 61.1119 1615.96 50.3365 Q1615.96 39.1965 1621.96 32.6746 Q1627.99 26.1121 1638.2 26.1121 Q1647.36 26.1121 1652.66 32.0264 Q1658.01 37.9003 1658.01 48.0275 M1650.56 45.84 Q1650.48 39.7232 1647.11 36.0774 Q1643.79 32.4315 1638.28 32.4315 Q1632.04 32.4315 1628.28 35.9558 Q1624.55 39.4801 1623.98 45.8805 L1650.56 45.84 Z\" fill=\"#000000\" fill-rule=\"evenodd\" fill-opacity=\"1\" /><path clip-path=\"url(#clip940)\" d=\"M1696.53 34.1734 Q1695.28 33.4443 1693.78 33.1202 Q1692.32 32.7556 1690.54 32.7556 Q1684.22 32.7556 1680.82 36.8875 Q1677.45 40.9789 1677.45 48.6757 L1677.45 72.576 L1669.96 72.576 L1669.96 27.2059 L1677.45 27.2059 L1677.45 34.2544 Q1679.8 30.1225 1683.57 28.1376 Q1687.34 26.1121 1692.73 26.1121 Q1693.5 26.1121 1694.43 26.2337 Q1695.36 26.3147 1696.49 26.5172 L1696.53 34.1734 Z\" fill=\"#000000\" fill-rule=\"evenodd\" fill-opacity=\"1\" /><path clip-path=\"url(#clip940)\" d=\"M1724.97 49.7694 Q1715.94 49.7694 1712.45 51.8354 Q1708.97 53.9013 1708.97 58.8839 Q1708.97 62.8538 1711.56 65.2034 Q1714.2 67.5124 1718.69 67.5124 Q1724.89 67.5124 1728.62 63.1374 Q1732.39 58.7219 1732.39 51.4303 L1732.39 49.7694 L1724.97 49.7694 M1739.84 46.6907 L1739.84 72.576 L1732.39 72.576 L1732.39 65.6895 Q1729.83 69.8214 1726.03 71.8063 Q1722.22 73.7508 1716.71 73.7508 Q1709.74 73.7508 1705.61 69.8619 Q1701.52 65.9325 1701.52 59.3701 Q1701.52 51.7138 1706.62 47.825 Q1711.77 43.9361 1721.93 43.9361 L1732.39 43.9361 L1732.39 43.2069 Q1732.39 38.0623 1728.98 35.2672 Q1725.62 32.4315 1719.5 32.4315 Q1715.61 32.4315 1711.93 33.3632 Q1708.24 34.295 1704.84 36.1584 L1704.84 29.2718 Q1708.93 27.692 1712.78 26.9223 Q1716.63 26.1121 1720.27 26.1121 Q1730.12 26.1121 1734.98 31.2163 Q1739.84 36.3204 1739.84 46.6907 Z\" fill=\"#000000\" fill-rule=\"evenodd\" fill-opacity=\"1\" /><path clip-path=\"url(#clip940)\" d=\"M1785.05 49.3643 Q1785.05 41.2625 1781.68 36.8065 Q1778.36 32.3505 1772.33 32.3505 Q1766.33 32.3505 1762.97 36.8065 Q1759.65 41.2625 1759.65 49.3643 Q1759.65 57.4256 1762.97 61.8816 Q1766.33 66.3376 1772.33 66.3376 Q1778.36 66.3376 1781.68 61.8816 Q1785.05 57.4256 1785.05 49.3643 M1792.5 66.9452 Q1792.5 78.5308 1787.36 84.1616 Q1782.21 89.8329 1771.6 89.8329 Q1767.67 89.8329 1764.18 89.2252 Q1760.7 88.6581 1757.42 87.4428 L1757.42 80.1917 Q1760.7 81.9741 1763.9 82.8248 Q1767.1 83.6755 1770.42 83.6755 Q1777.76 83.6755 1781.4 79.8271 Q1785.05 76.0193 1785.05 68.282 L1785.05 64.5957 Q1782.74 68.6061 1779.13 70.5911 Q1775.53 72.576 1770.5 72.576 Q1762.16 72.576 1757.06 66.2161 Q1751.95 59.8562 1751.95 49.3643 Q1751.95 38.832 1757.06 32.472 Q1762.16 26.1121 1770.5 26.1121 Q1775.53 26.1121 1779.13 28.0971 Q1782.74 30.082 1785.05 34.0924 L1785.05 27.2059 L1792.5 27.2059 L1792.5 66.9452 Z\" fill=\"#000000\" fill-rule=\"evenodd\" fill-opacity=\"1\" /><path clip-path=\"url(#clip940)\" d=\"M1846.66 48.0275 L1846.66 51.6733 L1812.39 51.6733 Q1812.88 59.3701 1817.01 63.421 Q1821.18 67.4314 1828.59 67.4314 Q1832.89 67.4314 1836.9 66.3781 Q1840.95 65.3249 1844.92 63.2184 L1844.92 70.267 Q1840.91 71.9684 1836.7 72.8596 Q1832.48 73.7508 1828.15 73.7508 Q1817.29 73.7508 1810.93 67.4314 Q1804.61 61.1119 1804.61 50.3365 Q1804.61 39.1965 1810.61 32.6746 Q1816.64 26.1121 1826.85 26.1121 Q1836.01 26.1121 1841.31 32.0264 Q1846.66 37.9003 1846.66 48.0275 M1839.21 45.84 Q1839.13 39.7232 1835.76 36.0774 Q1832.44 32.4315 1826.93 32.4315 Q1820.69 32.4315 1816.93 35.9558 Q1813.2 39.4801 1812.63 45.8805 L1839.21 45.84 Z\" fill=\"#000000\" fill-rule=\"evenodd\" fill-opacity=\"1\" /><path clip-path=\"url(#clip940)\" d=\"M1892.64 14.324 L1892.64 27.2059 L1907.99 27.2059 L1907.99 32.9987 L1892.64 32.9987 L1892.64 57.6282 Q1892.64 63.1779 1894.14 64.7578 Q1895.68 66.3376 1900.34 66.3376 L1907.99 66.3376 L1907.99 72.576 L1900.34 72.576 Q1891.71 72.576 1888.43 69.3758 Q1885.14 66.1351 1885.14 57.6282 L1885.14 32.9987 L1879.68 32.9987 L1879.68 27.2059 L1885.14 27.2059 L1885.14 14.324 L1892.64 14.324 Z\" fill=\"#000000\" fill-rule=\"evenodd\" fill-opacity=\"1\" /><path clip-path=\"url(#clip940)\" d=\"M1956.6 48.0275 L1956.6 51.6733 L1922.33 51.6733 Q1922.82 59.3701 1926.95 63.421 Q1931.12 67.4314 1938.54 67.4314 Q1942.83 67.4314 1946.84 66.3781 Q1950.89 65.3249 1954.86 63.2184 L1954.86 70.267 Q1950.85 71.9684 1946.64 72.8596 Q1942.42 73.7508 1938.09 73.7508 Q1927.23 73.7508 1920.87 67.4314 Q1914.55 61.1119 1914.55 50.3365 Q1914.55 39.1965 1920.55 32.6746 Q1926.59 26.1121 1936.79 26.1121 Q1945.95 26.1121 1951.26 32.0264 Q1956.6 37.9003 1956.6 48.0275 M1949.15 45.84 Q1949.07 39.7232 1945.71 36.0774 Q1942.38 32.4315 1936.87 32.4315 Q1930.64 32.4315 1926.87 35.9558 Q1923.14 39.4801 1922.58 45.8805 L1949.15 45.84 Z\" fill=\"#000000\" fill-rule=\"evenodd\" fill-opacity=\"1\" /><path clip-path=\"url(#clip940)\" d=\"M2004.16 35.9153 Q2006.96 30.8922 2010.84 28.5022 Q2014.73 26.1121 2020 26.1121 Q2027.09 26.1121 2030.94 31.0947 Q2034.79 36.0368 2034.79 45.1919 L2034.79 72.576 L2027.29 72.576 L2027.29 45.4349 Q2027.29 38.913 2024.98 35.7533 Q2022.67 32.5936 2017.93 32.5936 Q2012.14 32.5936 2008.78 36.4419 Q2005.42 40.2903 2005.42 46.9338 L2005.42 72.576 L1997.92 72.576 L1997.92 45.4349 Q1997.92 38.8725 1995.61 35.7533 Q1993.3 32.5936 1988.48 32.5936 Q1982.77 32.5936 1979.41 36.4824 Q1976.05 40.3308 1976.05 46.9338 L1976.05 72.576 L1968.55 72.576 L1968.55 27.2059 L1976.05 27.2059 L1976.05 34.2544 Q1978.6 30.082 1982.16 28.0971 Q1985.73 26.1121 1990.63 26.1121 Q1995.57 26.1121 1999.02 28.6237 Q2002.5 31.1352 2004.16 35.9153 Z\" fill=\"#000000\" fill-rule=\"evenodd\" fill-opacity=\"1\" /><path clip-path=\"url(#clip940)\" d=\"M2056.86 65.7705 L2056.86 89.8329 L2049.37 89.8329 L2049.37 27.2059 L2056.86 27.2059 L2056.86 34.0924 Q2059.21 30.0415 2062.78 28.0971 Q2066.38 26.1121 2071.36 26.1121 Q2079.63 26.1121 2084.77 32.6746 Q2089.96 39.2371 2089.96 49.9314 Q2089.96 60.6258 2084.77 67.1883 Q2079.63 73.7508 2071.36 73.7508 Q2066.38 73.7508 2062.78 71.8063 Q2059.21 69.8214 2056.86 65.7705 M2082.22 49.9314 Q2082.22 41.7081 2078.82 37.0496 Q2075.46 32.3505 2069.54 32.3505 Q2063.63 32.3505 2060.22 37.0496 Q2056.86 41.7081 2056.86 49.9314 Q2056.86 58.1548 2060.22 62.8538 Q2063.63 67.5124 2069.54 67.5124 Q2075.46 67.5124 2078.82 62.8538 Q2082.22 58.1548 2082.22 49.9314 Z\" fill=\"#000000\" fill-rule=\"evenodd\" fill-opacity=\"1\" /><path clip-path=\"url(#clip940)\" d=\"M2164.01 35.9153 Q2166.8 30.8922 2170.69 28.5022 Q2174.58 26.1121 2179.85 26.1121 Q2186.94 26.1121 2190.79 31.0947 Q2194.63 36.0368 2194.63 45.1919 L2194.63 72.576 L2187.14 72.576 L2187.14 45.4349 Q2187.14 38.913 2184.83 35.7533 Q2182.52 32.5936 2177.78 32.5936 Q2171.99 32.5936 2168.63 36.4419 Q2165.26 40.2903 2165.26 46.9338 L2165.26 72.576 L2157.77 72.576 L2157.77 45.4349 Q2157.77 38.8725 2155.46 35.7533 Q2153.15 32.5936 2148.33 32.5936 Q2142.62 32.5936 2139.26 36.4824 Q2135.9 40.3308 2135.9 46.9338 L2135.9 72.576 L2128.4 72.576 L2128.4 27.2059 L2135.9 27.2059 L2135.9 34.2544 Q2138.45 30.082 2142.01 28.0971 Q2145.58 26.1121 2150.48 26.1121 Q2155.42 26.1121 2158.86 28.6237 Q2162.35 31.1352 2164.01 35.9153 Z\" fill=\"#000000\" fill-rule=\"evenodd\" fill-opacity=\"1\" /><path clip-path=\"url(#clip940)\" d=\"M2230.12 49.7694 Q2221.09 49.7694 2217.6 51.8354 Q2214.12 53.9013 2214.12 58.8839 Q2214.12 62.8538 2216.71 65.2034 Q2219.34 67.5124 2223.84 67.5124 Q2230.04 67.5124 2233.77 63.1374 Q2237.53 58.7219 2237.53 51.4303 L2237.53 49.7694 L2230.12 49.7694 M2244.99 46.6907 L2244.99 72.576 L2237.53 72.576 L2237.53 65.6895 Q2234.98 69.8214 2231.17 71.8063 Q2227.37 73.7508 2221.86 73.7508 Q2214.89 73.7508 2210.76 69.8619 Q2206.66 65.9325 2206.66 59.3701 Q2206.66 51.7138 2211.77 47.825 Q2216.91 43.9361 2227.08 43.9361 L2237.53 43.9361 L2237.53 43.2069 Q2237.53 38.0623 2234.13 35.2672 Q2230.77 32.4315 2224.65 32.4315 Q2220.76 32.4315 2217.08 33.3632 Q2213.39 34.295 2209.99 36.1584 L2209.99 29.2718 Q2214.08 27.692 2217.93 26.9223 Q2221.77 26.1121 2225.42 26.1121 Q2235.26 26.1121 2240.13 31.2163 Q2244.99 36.3204 2244.99 46.6907 Z\" fill=\"#000000\" fill-rule=\"evenodd\" fill-opacity=\"1\" /><path clip-path=\"url(#clip940)\" d=\"M2298.05 27.2059 L2281.65 49.2833 L2298.9 72.576 L2290.11 72.576 L2276.91 54.752 L2263.7 72.576 L2254.91 72.576 L2272.53 48.8377 L2256.41 27.2059 L2265.2 27.2059 L2277.23 43.369 L2289.26 27.2059 L2298.05 27.2059 Z\" fill=\"#000000\" fill-rule=\"evenodd\" fill-opacity=\"1\" /><path clip-path=\"url(#clip940)\" d=\"M2343.91 65.6895 L2372.47 65.6895 L2372.47 72.576 L2334.07 72.576 L2334.07 65.6895 Q2338.72 60.8689 2346.75 52.7671 Q2354.81 44.6248 2356.87 42.2752 Q2360.8 37.8598 2362.34 34.8216 Q2363.92 31.7429 2363.92 28.7857 Q2363.92 23.9651 2360.52 20.927 Q2357.16 17.8888 2351.73 17.8888 Q2347.88 17.8888 2343.59 19.2256 Q2339.33 20.5624 2334.47 23.2765 L2334.47 15.0127 Q2339.41 13.0277 2343.71 12.015 Q2348 11.0023 2351.57 11.0023 Q2360.96 11.0023 2366.55 15.7013 Q2372.14 20.4004 2372.14 28.2591 Q2372.14 31.9859 2370.73 35.3482 Q2369.35 38.6699 2365.66 43.2069 Q2364.65 44.3817 2359.22 50.0125 Q2353.79 55.6027 2343.91 65.6895 Z\" fill=\"#000000\" fill-rule=\"evenodd\" fill-opacity=\"1\" /><path clip-path=\"url(#clip940)\" d=\"M2407.14 17.4837 Q2400.82 17.4837 2397.62 23.7221 Q2394.46 29.92 2394.46 42.3968 Q2394.46 54.833 2397.62 61.0714 Q2400.82 67.2693 2407.14 67.2693 Q2413.5 67.2693 2416.66 61.0714 Q2419.86 54.833 2419.86 42.3968 Q2419.86 29.92 2416.66 23.7221 Q2413.5 17.4837 2407.14 17.4837 M2407.14 11.0023 Q2417.31 11.0023 2422.66 19.0636 Q2428.05 27.0843 2428.05 42.3968 Q2428.05 57.6687 2422.66 65.73 Q2417.31 73.7508 2407.14 73.7508 Q2396.98 73.7508 2391.59 65.73 Q2386.24 57.6687 2386.24 42.3968 Q2386.24 27.0843 2391.59 19.0636 Q2396.98 11.0023 2407.14 11.0023 Z\" fill=\"#000000\" fill-rule=\"evenodd\" fill-opacity=\"1\" /><path clip-path=\"url(#clip940)\" d=\"M2443.85 65.6895 L2457.21 65.6895 L2457.21 19.5497 L2442.67 22.4663 L2442.67 15.0127 L2457.13 12.096 L2465.32 12.096 L2465.32 65.6895 L2478.68 65.6895 L2478.68 72.576 L2443.85 72.576 L2443.85 65.6895 Z\" fill=\"#000000\" fill-rule=\"evenodd\" fill-opacity=\"1\" /><path clip-path=\"url(#clip940)\" d=\"M2502.26 65.6895 L2530.82 65.6895 L2530.82 72.576 L2492.42 72.576 L2492.42 65.6895 Q2497.07 60.8689 2505.1 52.7671 Q2513.16 44.6248 2515.22 42.2752 Q2519.15 37.8598 2520.69 34.8216 Q2522.27 31.7429 2522.27 28.7857 Q2522.27 23.9651 2518.87 20.927 Q2515.51 17.8888 2510.08 17.8888 Q2506.23 17.8888 2501.94 19.2256 Q2497.68 20.5624 2492.82 23.2765 L2492.82 15.0127 Q2497.76 13.0277 2502.06 12.015 Q2506.35 11.0023 2509.92 11.0023 Q2519.31 11.0023 2524.9 15.7013 Q2530.49 20.4004 2530.49 28.2591 Q2530.49 31.9859 2529.08 35.3482 Q2527.7 38.6699 2524.01 43.2069 Q2523 44.3817 2517.57 50.0125 Q2512.14 55.6027 2502.26 65.6895 Z\" fill=\"#000000\" fill-rule=\"evenodd\" fill-opacity=\"1\" /><polyline clip-path=\"url(#clip942)\" style=\"stroke:#009af9; stroke-linecap:round; stroke-linejoin:round; stroke-width:4; stroke-opacity:1; fill:none\" points=\"\n",
       "  264.778,813.554 467.495,633.334 670.211,633.334 872.927,762.062 1075.64,420.932 1278.36,829.645 1481.08,295.421 1683.79,1386.4 1886.51,848.954 2089.22,285.767 \n",
       "  2291.94,160.256 \n",
       "  \"/>\n",
       "<polyline clip-path=\"url(#clip942)\" style=\"stroke:#e26f46; stroke-linecap:round; stroke-linejoin:round; stroke-width:4; stroke-opacity:1; fill:none\" points=\"\n",
       "  264.778,195.657 467.495,311.512 670.211,948.719 872.927,903.664 1075.64,784.59 1278.36,649.425 1481.08,742.753 1683.79,784.59 1886.51,176.347 2089.22,295.421 \n",
       "  2291.94,729.88 \n",
       "  \"/>\n",
       "<path clip-path=\"url(#clip940)\" d=\"\n",
       "M1649.91 1379.86 L2281.13 1379.86 L2281.13 1224.34 L1649.91 1224.34  Z\n",
       "  \" fill=\"#ffffff\" fill-rule=\"evenodd\" fill-opacity=\"1\"/>\n",
       "<polyline clip-path=\"url(#clip940)\" style=\"stroke:#000000; stroke-linecap:round; stroke-linejoin:round; stroke-width:4; stroke-opacity:1; fill:none\" points=\"\n",
       "  1649.91,1379.86 2281.13,1379.86 2281.13,1224.34 1649.91,1224.34 1649.91,1379.86 \n",
       "  \"/>\n",
       "<polyline clip-path=\"url(#clip940)\" style=\"stroke:#009af9; stroke-linecap:round; stroke-linejoin:round; stroke-width:4; stroke-opacity:1; fill:none\" points=\"\n",
       "  1673.79,1276.18 1817.04,1276.18 \n",
       "  \"/>\n",
       "<path clip-path=\"url(#clip940)\" d=\"M1846.24 1267.53 L1850.5 1267.53 L1850.5 1293.92 Q1850.5 1298.87 1848.6 1301.1 Q1846.72 1303.32 1842.53 1303.32 L1840.91 1303.32 L1840.91 1299.71 L1842.05 1299.71 Q1844.48 1299.71 1845.36 1298.57 Q1846.24 1297.46 1846.24 1293.92 L1846.24 1267.53 M1846.24 1257.44 L1850.5 1257.44 L1850.5 1262.83 L1846.24 1262.83 L1846.24 1257.44 Z\" fill=\"#000000\" fill-rule=\"evenodd\" fill-opacity=\"1\" /><path clip-path=\"url(#clip940)\" d=\"M1871.19 1280.42 Q1866.03 1280.42 1864.04 1281.6 Q1862.05 1282.79 1862.05 1285.63 Q1862.05 1287.9 1863.53 1289.24 Q1865.03 1290.56 1867.6 1290.56 Q1871.14 1290.56 1873.27 1288.06 Q1875.43 1285.54 1875.43 1281.37 L1875.43 1280.42 L1871.19 1280.42 M1879.69 1278.66 L1879.69 1293.46 L1875.43 1293.46 L1875.43 1289.52 Q1873.97 1291.88 1871.79 1293.02 Q1869.62 1294.13 1866.47 1294.13 Q1862.49 1294.13 1860.13 1291.91 Q1857.79 1289.66 1857.79 1285.91 Q1857.79 1281.54 1860.71 1279.31 Q1863.65 1277.09 1869.46 1277.09 L1875.43 1277.09 L1875.43 1276.67 Q1875.43 1273.73 1873.48 1272.14 Q1871.56 1270.52 1868.07 1270.52 Q1865.84 1270.52 1863.74 1271.05 Q1861.63 1271.58 1859.69 1272.65 L1859.69 1268.71 Q1862.02 1267.81 1864.22 1267.37 Q1866.42 1266.91 1868.51 1266.91 Q1874.13 1266.91 1876.91 1269.82 Q1879.69 1272.74 1879.69 1278.66 Z\" fill=\"#000000\" fill-rule=\"evenodd\" fill-opacity=\"1\" /><path clip-path=\"url(#clip940)\" d=\"M1910.01 1277.81 L1910.01 1293.46 L1905.75 1293.46 L1905.75 1277.95 Q1905.75 1274.27 1904.32 1272.44 Q1902.88 1270.61 1900.01 1270.61 Q1896.56 1270.61 1894.57 1272.81 Q1892.58 1275.01 1892.58 1278.8 L1892.58 1293.46 L1888.3 1293.46 L1888.3 1267.53 L1892.58 1267.53 L1892.58 1271.56 Q1894.11 1269.22 1896.17 1268.06 Q1898.25 1266.91 1900.96 1266.91 Q1905.43 1266.91 1907.72 1269.68 Q1910.01 1272.44 1910.01 1277.81 Z\" fill=\"#000000\" fill-rule=\"evenodd\" fill-opacity=\"1\" /><path clip-path=\"url(#clip940)\" d=\"M1922.72 1260.17 L1922.72 1267.53 L1931.49 1267.53 L1931.49 1270.84 L1922.72 1270.84 L1922.72 1284.91 Q1922.72 1288.09 1923.58 1288.99 Q1924.45 1289.89 1927.12 1289.89 L1931.49 1289.89 L1931.49 1293.46 L1927.12 1293.46 Q1922.19 1293.46 1920.31 1291.63 Q1918.44 1289.78 1918.44 1284.91 L1918.44 1270.84 L1915.31 1270.84 L1915.31 1267.53 L1918.44 1267.53 L1918.44 1260.17 L1922.72 1260.17 Z\" fill=\"#000000\" fill-rule=\"evenodd\" fill-opacity=\"1\" /><path clip-path=\"url(#clip940)\" d=\"M1959.27 1279.43 L1959.27 1281.51 L1939.69 1281.51 Q1939.96 1285.91 1942.33 1288.22 Q1944.71 1290.52 1948.95 1290.52 Q1951.4 1290.52 1953.69 1289.91 Q1956.01 1289.31 1958.27 1288.11 L1958.27 1292.14 Q1955.98 1293.11 1953.58 1293.62 Q1951.17 1294.13 1948.69 1294.13 Q1942.49 1294.13 1938.85 1290.52 Q1935.24 1286.91 1935.24 1280.75 Q1935.24 1274.38 1938.67 1270.66 Q1942.12 1266.91 1947.95 1266.91 Q1953.18 1266.91 1956.21 1270.29 Q1959.27 1273.64 1959.27 1279.43 M1955.01 1278.18 Q1954.96 1274.68 1953.04 1272.6 Q1951.14 1270.52 1948 1270.52 Q1944.43 1270.52 1942.28 1272.53 Q1940.15 1274.54 1939.83 1278.2 L1955.01 1278.18 Z\" fill=\"#000000\" fill-rule=\"evenodd\" fill-opacity=\"1\" /><path clip-path=\"url(#clip940)\" d=\"M1986.45 1272.51 Q1988.04 1269.64 1990.26 1268.27 Q1992.49 1266.91 1995.5 1266.91 Q1999.55 1266.91 2001.75 1269.75 Q2003.95 1272.58 2003.95 1277.81 L2003.95 1293.46 L1999.66 1293.46 L1999.66 1277.95 Q1999.66 1274.22 1998.34 1272.41 Q1997.02 1270.61 1994.32 1270.61 Q1991.01 1270.61 1989.08 1272.81 Q1987.16 1275.01 1987.16 1278.8 L1987.16 1293.46 L1982.88 1293.46 L1982.88 1277.95 Q1982.88 1274.2 1981.56 1272.41 Q1980.24 1270.61 1977.49 1270.61 Q1974.22 1270.61 1972.3 1272.83 Q1970.38 1275.03 1970.38 1278.8 L1970.38 1293.46 L1966.1 1293.46 L1966.1 1267.53 L1970.38 1267.53 L1970.38 1271.56 Q1971.84 1269.17 1973.88 1268.04 Q1975.91 1266.91 1978.71 1266.91 Q1981.54 1266.91 1983.51 1268.34 Q1985.5 1269.78 1986.45 1272.51 Z\" fill=\"#000000\" fill-rule=\"evenodd\" fill-opacity=\"1\" /><path clip-path=\"url(#clip940)\" d=\"M2016.56 1289.57 L2016.56 1303.32 L2012.28 1303.32 L2012.28 1267.53 L2016.56 1267.53 L2016.56 1271.47 Q2017.9 1269.15 2019.94 1268.04 Q2022 1266.91 2024.85 1266.91 Q2029.57 1266.91 2032.51 1270.66 Q2035.47 1274.41 2035.47 1280.52 Q2035.47 1286.63 2032.51 1290.38 Q2029.57 1294.13 2024.85 1294.13 Q2022 1294.13 2019.94 1293.02 Q2017.9 1291.88 2016.56 1289.57 M2031.05 1280.52 Q2031.05 1275.82 2029.11 1273.16 Q2027.19 1270.47 2023.81 1270.47 Q2020.43 1270.47 2018.48 1273.16 Q2016.56 1275.82 2016.56 1280.52 Q2016.56 1285.22 2018.48 1287.9 Q2020.43 1290.56 2023.81 1290.56 Q2027.19 1290.56 2029.11 1287.9 Q2031.05 1285.22 2031.05 1280.52 Z\" fill=\"#000000\" fill-rule=\"evenodd\" fill-opacity=\"1\" /><path clip-path=\"url(#clip940)\" d=\"M2062.72 1272.51 Q2064.32 1269.64 2066.54 1268.27 Q2068.76 1266.91 2071.77 1266.91 Q2075.82 1266.91 2078.02 1269.75 Q2080.22 1272.58 2080.22 1277.81 L2080.22 1293.46 L2075.94 1293.46 L2075.94 1277.95 Q2075.94 1274.22 2074.62 1272.41 Q2073.3 1270.61 2070.59 1270.61 Q2067.28 1270.61 2065.36 1272.81 Q2063.44 1275.01 2063.44 1278.8 L2063.44 1293.46 L2059.15 1293.46 L2059.15 1277.95 Q2059.15 1274.2 2057.83 1272.41 Q2056.51 1270.61 2053.76 1270.61 Q2050.5 1270.61 2048.57 1272.83 Q2046.65 1275.03 2046.65 1278.8 L2046.65 1293.46 L2042.37 1293.46 L2042.37 1267.53 L2046.65 1267.53 L2046.65 1271.56 Q2048.11 1269.17 2050.15 1268.04 Q2052.19 1266.91 2054.99 1266.91 Q2057.81 1266.91 2059.78 1268.34 Q2061.77 1269.78 2062.72 1272.51 Z\" fill=\"#000000\" fill-rule=\"evenodd\" fill-opacity=\"1\" /><path clip-path=\"url(#clip940)\" d=\"M2100.5 1280.42 Q2095.33 1280.42 2093.34 1281.6 Q2091.35 1282.79 2091.35 1285.63 Q2091.35 1287.9 2092.83 1289.24 Q2094.34 1290.56 2096.91 1290.56 Q2100.45 1290.56 2102.58 1288.06 Q2104.73 1285.54 2104.73 1281.37 L2104.73 1280.42 L2100.5 1280.42 M2108.99 1278.66 L2108.99 1293.46 L2104.73 1293.46 L2104.73 1289.52 Q2103.27 1291.88 2101.1 1293.02 Q2098.92 1294.13 2095.77 1294.13 Q2091.79 1294.13 2089.43 1291.91 Q2087.09 1289.66 2087.09 1285.91 Q2087.09 1281.54 2090.01 1279.31 Q2092.95 1277.09 2098.76 1277.09 L2104.73 1277.09 L2104.73 1276.67 Q2104.73 1273.73 2102.79 1272.14 Q2100.87 1270.52 2097.37 1270.52 Q2095.15 1270.52 2093.04 1271.05 Q2090.94 1271.58 2088.99 1272.65 L2088.99 1268.71 Q2091.33 1267.81 2093.53 1267.37 Q2095.73 1266.91 2097.81 1266.91 Q2103.44 1266.91 2106.21 1269.82 Q2108.99 1272.74 2108.99 1278.66 Z\" fill=\"#000000\" fill-rule=\"evenodd\" fill-opacity=\"1\" /><path clip-path=\"url(#clip940)\" d=\"M2139.31 1267.53 L2129.94 1280.15 L2139.8 1293.46 L2134.78 1293.46 L2127.23 1283.27 L2119.69 1293.46 L2114.66 1293.46 L2124.73 1279.89 L2115.52 1267.53 L2120.54 1267.53 L2127.42 1276.77 L2134.29 1267.53 L2139.31 1267.53 Z\" fill=\"#000000\" fill-rule=\"evenodd\" fill-opacity=\"1\" /><path clip-path=\"url(#clip940)\" d=\"M2147.23 1289.52 L2154.87 1289.52 L2154.87 1263.16 L2146.56 1264.82 L2146.56 1260.56 L2154.82 1258.9 L2159.5 1258.9 L2159.5 1289.52 L2167.14 1289.52 L2167.14 1293.46 L2147.23 1293.46 L2147.23 1289.52 Z\" fill=\"#000000\" fill-rule=\"evenodd\" fill-opacity=\"1\" /><path clip-path=\"url(#clip940)\" d=\"M2176.72 1292.74 L2176.72 1288.48 Q2178.48 1289.31 2180.29 1289.75 Q2182.09 1290.19 2183.83 1290.19 Q2188.46 1290.19 2190.89 1287.09 Q2193.34 1283.97 2193.69 1277.62 Q2192.35 1279.61 2190.29 1280.68 Q2188.23 1281.74 2185.73 1281.74 Q2180.54 1281.74 2177.51 1278.62 Q2174.5 1275.47 2174.5 1270.03 Q2174.5 1264.71 2177.65 1261.49 Q2180.8 1258.27 2186.03 1258.27 Q2192.02 1258.27 2195.17 1262.88 Q2198.34 1267.46 2198.34 1276.21 Q2198.34 1284.38 2194.45 1289.27 Q2190.59 1294.13 2184.04 1294.13 Q2182.28 1294.13 2180.47 1293.78 Q2178.67 1293.43 2176.72 1292.74 M2186.03 1278.09 Q2189.18 1278.09 2191 1275.93 Q2192.86 1273.78 2192.86 1270.03 Q2192.86 1266.3 2191 1264.15 Q2189.18 1261.97 2186.03 1261.97 Q2182.88 1261.97 2181.03 1264.15 Q2179.2 1266.3 2179.2 1270.03 Q2179.2 1273.78 2181.03 1275.93 Q2182.88 1278.09 2186.03 1278.09 Z\" fill=\"#000000\" fill-rule=\"evenodd\" fill-opacity=\"1\" /><path clip-path=\"url(#clip940)\" d=\"M2210.77 1289.52 L2227.09 1289.52 L2227.09 1293.46 L2205.15 1293.46 L2205.15 1289.52 Q2207.81 1286.77 2212.39 1282.14 Q2217 1277.48 2218.18 1276.14 Q2220.43 1273.62 2221.31 1271.88 Q2222.21 1270.12 2222.21 1268.43 Q2222.21 1265.68 2220.26 1263.94 Q2218.34 1262.21 2215.24 1262.21 Q2213.04 1262.21 2210.59 1262.97 Q2208.16 1263.73 2205.38 1265.29 L2205.38 1260.56 Q2208.2 1259.43 2210.66 1258.85 Q2213.11 1258.27 2215.15 1258.27 Q2220.52 1258.27 2223.71 1260.96 Q2226.91 1263.64 2226.91 1268.13 Q2226.91 1270.26 2226.1 1272.18 Q2225.31 1274.08 2223.2 1276.67 Q2222.62 1277.35 2219.52 1280.56 Q2216.42 1283.76 2210.77 1289.52 Z\" fill=\"#000000\" fill-rule=\"evenodd\" fill-opacity=\"1\" /><path clip-path=\"url(#clip940)\" d=\"M2240.93 1289.52 L2257.25 1289.52 L2257.25 1293.46 L2235.31 1293.46 L2235.31 1289.52 Q2237.97 1286.77 2242.56 1282.14 Q2247.16 1277.48 2248.34 1276.14 Q2250.59 1273.62 2251.47 1271.88 Q2252.37 1270.12 2252.37 1268.43 Q2252.37 1265.68 2250.43 1263.94 Q2248.5 1262.21 2245.4 1262.21 Q2243.2 1262.21 2240.75 1262.97 Q2238.32 1263.73 2235.54 1265.29 L2235.54 1260.56 Q2238.37 1259.43 2240.82 1258.85 Q2243.27 1258.27 2245.31 1258.27 Q2250.68 1258.27 2253.87 1260.96 Q2257.07 1263.64 2257.07 1268.13 Q2257.07 1270.26 2256.26 1272.18 Q2255.47 1274.08 2253.37 1276.67 Q2252.79 1277.35 2249.68 1280.56 Q2246.58 1283.76 2240.93 1289.52 Z\" fill=\"#000000\" fill-rule=\"evenodd\" fill-opacity=\"1\" /><polyline clip-path=\"url(#clip940)\" style=\"stroke:#e26f46; stroke-linecap:round; stroke-linejoin:round; stroke-width:4; stroke-opacity:1; fill:none\" points=\"\n",
       "  1673.79,1328.02 1817.04,1328.02 \n",
       "  \"/>\n",
       "<path clip-path=\"url(#clip940)\" d=\"M1846.24 1319.37 L1850.5 1319.37 L1850.5 1345.76 Q1850.5 1350.71 1848.6 1352.94 Q1846.72 1355.16 1842.53 1355.16 L1840.91 1355.16 L1840.91 1351.55 L1842.05 1351.55 Q1844.48 1351.55 1845.36 1350.41 Q1846.24 1349.3 1846.24 1345.76 L1846.24 1319.37 M1846.24 1309.28 L1850.5 1309.28 L1850.5 1314.67 L1846.24 1314.67 L1846.24 1309.28 Z\" fill=\"#000000\" fill-rule=\"evenodd\" fill-opacity=\"1\" /><path clip-path=\"url(#clip940)\" d=\"M1871.19 1332.26 Q1866.03 1332.26 1864.04 1333.44 Q1862.05 1334.63 1862.05 1337.47 Q1862.05 1339.74 1863.53 1341.08 Q1865.03 1342.4 1867.6 1342.4 Q1871.14 1342.4 1873.27 1339.9 Q1875.43 1337.38 1875.43 1333.21 L1875.43 1332.26 L1871.19 1332.26 M1879.69 1330.5 L1879.69 1345.3 L1875.43 1345.3 L1875.43 1341.36 Q1873.97 1343.72 1871.79 1344.86 Q1869.62 1345.97 1866.47 1345.97 Q1862.49 1345.97 1860.13 1343.75 Q1857.79 1341.5 1857.79 1337.75 Q1857.79 1333.38 1860.71 1331.15 Q1863.65 1328.93 1869.46 1328.93 L1875.43 1328.93 L1875.43 1328.51 Q1875.43 1325.57 1873.48 1323.98 Q1871.56 1322.36 1868.07 1322.36 Q1865.84 1322.36 1863.74 1322.89 Q1861.63 1323.42 1859.69 1324.49 L1859.69 1320.55 Q1862.02 1319.65 1864.22 1319.21 Q1866.42 1318.75 1868.51 1318.75 Q1874.13 1318.75 1876.91 1321.66 Q1879.69 1324.58 1879.69 1330.5 Z\" fill=\"#000000\" fill-rule=\"evenodd\" fill-opacity=\"1\" /><path clip-path=\"url(#clip940)\" d=\"M1910.01 1329.65 L1910.01 1345.3 L1905.75 1345.3 L1905.75 1329.79 Q1905.75 1326.11 1904.32 1324.28 Q1902.88 1322.45 1900.01 1322.45 Q1896.56 1322.45 1894.57 1324.65 Q1892.58 1326.85 1892.58 1330.64 L1892.58 1345.3 L1888.3 1345.3 L1888.3 1319.37 L1892.58 1319.37 L1892.58 1323.4 Q1894.11 1321.06 1896.17 1319.9 Q1898.25 1318.75 1900.96 1318.75 Q1905.43 1318.75 1907.72 1321.52 Q1910.01 1324.28 1910.01 1329.65 Z\" fill=\"#000000\" fill-rule=\"evenodd\" fill-opacity=\"1\" /><path clip-path=\"url(#clip940)\" d=\"M1922.72 1312.01 L1922.72 1319.37 L1931.49 1319.37 L1931.49 1322.68 L1922.72 1322.68 L1922.72 1336.75 Q1922.72 1339.93 1923.58 1340.83 Q1924.45 1341.73 1927.12 1341.73 L1931.49 1341.73 L1931.49 1345.3 L1927.12 1345.3 Q1922.19 1345.3 1920.31 1343.47 Q1918.44 1341.62 1918.44 1336.75 L1918.44 1322.68 L1915.31 1322.68 L1915.31 1319.37 L1918.44 1319.37 L1918.44 1312.01 L1922.72 1312.01 Z\" fill=\"#000000\" fill-rule=\"evenodd\" fill-opacity=\"1\" /><path clip-path=\"url(#clip940)\" d=\"M1959.27 1331.27 L1959.27 1333.35 L1939.69 1333.35 Q1939.96 1337.75 1942.33 1340.06 Q1944.71 1342.36 1948.95 1342.36 Q1951.4 1342.36 1953.69 1341.75 Q1956.01 1341.15 1958.27 1339.95 L1958.27 1343.98 Q1955.98 1344.95 1953.58 1345.46 Q1951.17 1345.97 1948.69 1345.97 Q1942.49 1345.97 1938.85 1342.36 Q1935.24 1338.75 1935.24 1332.59 Q1935.24 1326.22 1938.67 1322.5 Q1942.12 1318.75 1947.95 1318.75 Q1953.18 1318.75 1956.21 1322.13 Q1959.27 1325.48 1959.27 1331.27 M1955.01 1330.02 Q1954.96 1326.52 1953.04 1324.44 Q1951.14 1322.36 1948 1322.36 Q1944.43 1322.36 1942.28 1324.37 Q1940.15 1326.38 1939.83 1330.04 L1955.01 1330.02 Z\" fill=\"#000000\" fill-rule=\"evenodd\" fill-opacity=\"1\" /><path clip-path=\"url(#clip940)\" d=\"M1986.45 1324.35 Q1988.04 1321.48 1990.26 1320.11 Q1992.49 1318.75 1995.5 1318.75 Q1999.55 1318.75 2001.75 1321.59 Q2003.95 1324.42 2003.95 1329.65 L2003.95 1345.3 L1999.66 1345.3 L1999.66 1329.79 Q1999.66 1326.06 1998.34 1324.25 Q1997.02 1322.45 1994.32 1322.45 Q1991.01 1322.45 1989.08 1324.65 Q1987.16 1326.85 1987.16 1330.64 L1987.16 1345.3 L1982.88 1345.3 L1982.88 1329.79 Q1982.88 1326.04 1981.56 1324.25 Q1980.24 1322.45 1977.49 1322.45 Q1974.22 1322.45 1972.3 1324.67 Q1970.38 1326.87 1970.38 1330.64 L1970.38 1345.3 L1966.1 1345.3 L1966.1 1319.37 L1970.38 1319.37 L1970.38 1323.4 Q1971.84 1321.01 1973.88 1319.88 Q1975.91 1318.75 1978.71 1318.75 Q1981.54 1318.75 1983.51 1320.18 Q1985.5 1321.62 1986.45 1324.35 Z\" fill=\"#000000\" fill-rule=\"evenodd\" fill-opacity=\"1\" /><path clip-path=\"url(#clip940)\" d=\"M2016.56 1341.41 L2016.56 1355.16 L2012.28 1355.16 L2012.28 1319.37 L2016.56 1319.37 L2016.56 1323.31 Q2017.9 1320.99 2019.94 1319.88 Q2022 1318.75 2024.85 1318.75 Q2029.57 1318.75 2032.51 1322.5 Q2035.47 1326.25 2035.47 1332.36 Q2035.47 1338.47 2032.51 1342.22 Q2029.57 1345.97 2024.85 1345.97 Q2022 1345.97 2019.94 1344.86 Q2017.9 1343.72 2016.56 1341.41 M2031.05 1332.36 Q2031.05 1327.66 2029.11 1325 Q2027.19 1322.31 2023.81 1322.31 Q2020.43 1322.31 2018.48 1325 Q2016.56 1327.66 2016.56 1332.36 Q2016.56 1337.06 2018.48 1339.74 Q2020.43 1342.4 2023.81 1342.4 Q2027.19 1342.4 2029.11 1339.74 Q2031.05 1337.06 2031.05 1332.36 Z\" fill=\"#000000\" fill-rule=\"evenodd\" fill-opacity=\"1\" /><path clip-path=\"url(#clip940)\" d=\"M2062.72 1324.35 Q2064.32 1321.48 2066.54 1320.11 Q2068.76 1318.75 2071.77 1318.75 Q2075.82 1318.75 2078.02 1321.59 Q2080.22 1324.42 2080.22 1329.65 L2080.22 1345.3 L2075.94 1345.3 L2075.94 1329.79 Q2075.94 1326.06 2074.62 1324.25 Q2073.3 1322.45 2070.59 1322.45 Q2067.28 1322.45 2065.36 1324.65 Q2063.44 1326.85 2063.44 1330.64 L2063.44 1345.3 L2059.15 1345.3 L2059.15 1329.79 Q2059.15 1326.04 2057.83 1324.25 Q2056.51 1322.45 2053.76 1322.45 Q2050.5 1322.45 2048.57 1324.67 Q2046.65 1326.87 2046.65 1330.64 L2046.65 1345.3 L2042.37 1345.3 L2042.37 1319.37 L2046.65 1319.37 L2046.65 1323.4 Q2048.11 1321.01 2050.15 1319.88 Q2052.19 1318.75 2054.99 1318.75 Q2057.81 1318.75 2059.78 1320.18 Q2061.77 1321.62 2062.72 1324.35 Z\" fill=\"#000000\" fill-rule=\"evenodd\" fill-opacity=\"1\" /><path clip-path=\"url(#clip940)\" d=\"M2100.5 1332.26 Q2095.33 1332.26 2093.34 1333.44 Q2091.35 1334.63 2091.35 1337.47 Q2091.35 1339.74 2092.83 1341.08 Q2094.34 1342.4 2096.91 1342.4 Q2100.45 1342.4 2102.58 1339.9 Q2104.73 1337.38 2104.73 1333.21 L2104.73 1332.26 L2100.5 1332.26 M2108.99 1330.5 L2108.99 1345.3 L2104.73 1345.3 L2104.73 1341.36 Q2103.27 1343.72 2101.1 1344.86 Q2098.92 1345.97 2095.77 1345.97 Q2091.79 1345.97 2089.43 1343.75 Q2087.09 1341.5 2087.09 1337.75 Q2087.09 1333.38 2090.01 1331.15 Q2092.95 1328.93 2098.76 1328.93 L2104.73 1328.93 L2104.73 1328.51 Q2104.73 1325.57 2102.79 1323.98 Q2100.87 1322.36 2097.37 1322.36 Q2095.15 1322.36 2093.04 1322.89 Q2090.94 1323.42 2088.99 1324.49 L2088.99 1320.55 Q2091.33 1319.65 2093.53 1319.21 Q2095.73 1318.75 2097.81 1318.75 Q2103.44 1318.75 2106.21 1321.66 Q2108.99 1324.58 2108.99 1330.5 Z\" fill=\"#000000\" fill-rule=\"evenodd\" fill-opacity=\"1\" /><path clip-path=\"url(#clip940)\" d=\"M2139.31 1319.37 L2129.94 1331.99 L2139.8 1345.3 L2134.78 1345.3 L2127.23 1335.11 L2119.69 1345.3 L2114.66 1345.3 L2124.73 1331.73 L2115.52 1319.37 L2120.54 1319.37 L2127.42 1328.61 L2134.29 1319.37 L2139.31 1319.37 Z\" fill=\"#000000\" fill-rule=\"evenodd\" fill-opacity=\"1\" /><path clip-path=\"url(#clip940)\" d=\"M2150.45 1341.36 L2166.77 1341.36 L2166.77 1345.3 L2144.82 1345.3 L2144.82 1341.36 Q2147.49 1338.61 2152.07 1333.98 Q2156.68 1329.32 2157.86 1327.98 Q2160.1 1325.46 2160.98 1323.72 Q2161.88 1321.96 2161.88 1320.27 Q2161.88 1317.52 2159.94 1315.78 Q2158.02 1314.05 2154.92 1314.05 Q2152.72 1314.05 2150.26 1314.81 Q2147.83 1315.57 2145.06 1317.13 L2145.06 1312.4 Q2147.88 1311.27 2150.33 1310.69 Q2152.79 1310.11 2154.82 1310.11 Q2160.19 1310.11 2163.39 1312.8 Q2166.58 1315.48 2166.58 1319.97 Q2166.58 1322.1 2165.77 1324.02 Q2164.99 1325.92 2162.88 1328.51 Q2162.3 1329.19 2159.2 1332.4 Q2156.1 1335.6 2150.45 1341.36 Z\" fill=\"#000000\" fill-rule=\"evenodd\" fill-opacity=\"1\" /><path clip-path=\"url(#clip940)\" d=\"M2186.58 1313.81 Q2182.97 1313.81 2181.14 1317.38 Q2179.34 1320.92 2179.34 1328.05 Q2179.34 1335.16 2181.14 1338.72 Q2182.97 1342.26 2186.58 1342.26 Q2190.22 1342.26 2192.02 1338.72 Q2193.85 1335.16 2193.85 1328.05 Q2193.85 1320.92 2192.02 1317.38 Q2190.22 1313.81 2186.58 1313.81 M2186.58 1310.11 Q2192.39 1310.11 2195.45 1314.72 Q2198.53 1319.3 2198.53 1328.05 Q2198.53 1336.78 2195.45 1341.38 Q2192.39 1345.97 2186.58 1345.97 Q2180.77 1345.97 2177.69 1341.38 Q2174.64 1336.78 2174.64 1328.05 Q2174.64 1319.3 2177.69 1314.72 Q2180.77 1310.11 2186.58 1310.11 Z\" fill=\"#000000\" fill-rule=\"evenodd\" fill-opacity=\"1\" /><path clip-path=\"url(#clip940)\" d=\"M2207.56 1341.36 L2215.19 1341.36 L2215.19 1315 L2206.88 1316.66 L2206.88 1312.4 L2215.15 1310.74 L2219.82 1310.74 L2219.82 1341.36 L2227.46 1341.36 L2227.46 1345.3 L2207.56 1345.3 L2207.56 1341.36 Z\" fill=\"#000000\" fill-rule=\"evenodd\" fill-opacity=\"1\" /><path clip-path=\"url(#clip940)\" d=\"M2240.93 1341.36 L2257.25 1341.36 L2257.25 1345.3 L2235.31 1345.3 L2235.31 1341.36 Q2237.97 1338.61 2242.56 1333.98 Q2247.16 1329.32 2248.34 1327.98 Q2250.59 1325.46 2251.47 1323.72 Q2252.37 1321.96 2252.37 1320.27 Q2252.37 1317.52 2250.43 1315.78 Q2248.5 1314.05 2245.4 1314.05 Q2243.2 1314.05 2240.75 1314.81 Q2238.32 1315.57 2235.54 1317.13 L2235.54 1312.4 Q2238.37 1311.27 2240.82 1310.69 Q2243.27 1310.11 2245.31 1310.11 Q2250.68 1310.11 2253.87 1312.8 Q2257.07 1315.48 2257.07 1319.97 Q2257.07 1322.1 2256.26 1324.02 Q2255.47 1325.92 2253.37 1328.51 Q2252.79 1329.19 2249.68 1332.4 Q2246.58 1335.6 2240.93 1341.36 Z\" fill=\"#000000\" fill-rule=\"evenodd\" fill-opacity=\"1\" /></svg>\n"
      ]
     },
     "execution_count": 83,
     "metadata": {},
     "output_type": "execute_result"
    }
   ],
   "source": [
    "plot(1:11, jantempmax1922, label=\"jantempmax1922\", ylabel=\"Temperature (Fahrenheit)\",xlabel=\"Years (1922-1932, 2012- 2022)\", title=\"Jan average temp max 1922 vs Jan average temp max 2012\")\n",
    "plot!(1:11, jantempmax2012, label=\"jantempmax2012\")"
   ]
  },
  {
   "cell_type": "markdown",
   "id": "9af2bda6",
   "metadata": {},
   "source": [
    "# Now we are goign to graph Average Jan temperature 1922-1932 and Jan 2012-2022"
   ]
  },
  {
   "cell_type": "code",
   "execution_count": 84,
   "id": "77c70f51",
   "metadata": {},
   "outputs": [
    {
     "data": {
      "text/plain": [
       "11-element Vector{Any}:\n",
       " 14.25\n",
       " 18.43\n",
       "  5.65\n",
       " 16.78\n",
       " 21.95\n",
       " 15.18\n",
       " 24.1\n",
       "  5.5\n",
       " 15.65\n",
       " 24.43\n",
       " 27.75"
      ]
     },
     "execution_count": 84,
     "metadata": {},
     "output_type": "execute_result"
    }
   ],
   "source": [
    "#Jan 1922-1932 Avg\n",
    "jantempavg1922=B[2:12,7]"
   ]
  },
  {
   "cell_type": "code",
   "execution_count": 85,
   "id": "72ca37a5",
   "metadata": {},
   "outputs": [
    {
     "data": {
      "text/plain": [
       "11-element Vector{Any}:\n",
       " 32.45\n",
       " 30.65\n",
       " 20.75\n",
       " 21.45\n",
       " 23.3\n",
       " 25.4\n",
       " 23.95\n",
       " 23.3\n",
       " 32.75\n",
       " 30.9\n",
       " 24.15"
      ]
     },
     "execution_count": 85,
     "metadata": {},
     "output_type": "execute_result"
    }
   ],
   "source": [
    "#Jan 2012-2022  Avg\n",
    "jantempavg2012=C[2:12,6]"
   ]
  },
  {
   "cell_type": "code",
   "execution_count": 86,
   "id": "0a2ab75d",
   "metadata": {},
   "outputs": [
    {
     "data": {
      "image/svg+xml": [
       "<?xml version=\"1.0\" encoding=\"utf-8\"?>\n",
       "<svg xmlns=\"http://www.w3.org/2000/svg\" xmlns:xlink=\"http://www.w3.org/1999/xlink\" width=\"600\" height=\"400\" viewBox=\"0 0 2400 1600\">\n",
       "<defs>\n",
       "  <clipPath id=\"clip980\">\n",
       "    <rect x=\"0\" y=\"0\" width=\"2400\" height=\"1600\"/>\n",
       "  </clipPath>\n",
       "</defs>\n",
       "<path clip-path=\"url(#clip980)\" d=\"\n",
       "M0 1600 L2400 1600 L2400 0 L0 0  Z\n",
       "  \" fill=\"#ffffff\" fill-rule=\"evenodd\" fill-opacity=\"1\"/>\n",
       "<defs>\n",
       "  <clipPath id=\"clip981\">\n",
       "    <rect x=\"480\" y=\"0\" width=\"1681\" height=\"1600\"/>\n",
       "  </clipPath>\n",
       "</defs>\n",
       "<path clip-path=\"url(#clip980)\" d=\"\n",
       "M203.964 1423.18 L2352.76 1423.18 L2352.76 123.472 L203.964 123.472  Z\n",
       "  \" fill=\"#ffffff\" fill-rule=\"evenodd\" fill-opacity=\"1\"/>\n",
       "<defs>\n",
       "  <clipPath id=\"clip982\">\n",
       "    <rect x=\"203\" y=\"123\" width=\"2150\" height=\"1301\"/>\n",
       "  </clipPath>\n",
       "</defs>\n",
       "<polyline clip-path=\"url(#clip982)\" style=\"stroke:#000000; stroke-linecap:round; stroke-linejoin:round; stroke-width:2; stroke-opacity:0.1; fill:none\" points=\"\n",
       "  467.495,1423.18 467.495,123.472 \n",
       "  \"/>\n",
       "<polyline clip-path=\"url(#clip982)\" style=\"stroke:#000000; stroke-linecap:round; stroke-linejoin:round; stroke-width:2; stroke-opacity:0.1; fill:none\" points=\"\n",
       "  872.927,1423.18 872.927,123.472 \n",
       "  \"/>\n",
       "<polyline clip-path=\"url(#clip982)\" style=\"stroke:#000000; stroke-linecap:round; stroke-linejoin:round; stroke-width:2; stroke-opacity:0.1; fill:none\" points=\"\n",
       "  1278.36,1423.18 1278.36,123.472 \n",
       "  \"/>\n",
       "<polyline clip-path=\"url(#clip982)\" style=\"stroke:#000000; stroke-linecap:round; stroke-linejoin:round; stroke-width:2; stroke-opacity:0.1; fill:none\" points=\"\n",
       "  1683.79,1423.18 1683.79,123.472 \n",
       "  \"/>\n",
       "<polyline clip-path=\"url(#clip982)\" style=\"stroke:#000000; stroke-linecap:round; stroke-linejoin:round; stroke-width:2; stroke-opacity:0.1; fill:none\" points=\"\n",
       "  2089.22,1423.18 2089.22,123.472 \n",
       "  \"/>\n",
       "<polyline clip-path=\"url(#clip980)\" style=\"stroke:#000000; stroke-linecap:round; stroke-linejoin:round; stroke-width:4; stroke-opacity:1; fill:none\" points=\"\n",
       "  203.964,1423.18 2352.76,1423.18 \n",
       "  \"/>\n",
       "<polyline clip-path=\"url(#clip980)\" style=\"stroke:#000000; stroke-linecap:round; stroke-linejoin:round; stroke-width:4; stroke-opacity:1; fill:none\" points=\"\n",
       "  467.495,1423.18 467.495,1404.28 \n",
       "  \"/>\n",
       "<polyline clip-path=\"url(#clip980)\" style=\"stroke:#000000; stroke-linecap:round; stroke-linejoin:round; stroke-width:4; stroke-opacity:1; fill:none\" points=\"\n",
       "  872.927,1423.18 872.927,1404.28 \n",
       "  \"/>\n",
       "<polyline clip-path=\"url(#clip980)\" style=\"stroke:#000000; stroke-linecap:round; stroke-linejoin:round; stroke-width:4; stroke-opacity:1; fill:none\" points=\"\n",
       "  1278.36,1423.18 1278.36,1404.28 \n",
       "  \"/>\n",
       "<polyline clip-path=\"url(#clip980)\" style=\"stroke:#000000; stroke-linecap:round; stroke-linejoin:round; stroke-width:4; stroke-opacity:1; fill:none\" points=\"\n",
       "  1683.79,1423.18 1683.79,1404.28 \n",
       "  \"/>\n",
       "<polyline clip-path=\"url(#clip980)\" style=\"stroke:#000000; stroke-linecap:round; stroke-linejoin:round; stroke-width:4; stroke-opacity:1; fill:none\" points=\"\n",
       "  2089.22,1423.18 2089.22,1404.28 \n",
       "  \"/>\n",
       "<path clip-path=\"url(#clip980)\" d=\"M462.148 1481.64 L478.467 1481.64 L478.467 1485.58 L456.523 1485.58 L456.523 1481.64 Q459.185 1478.89 463.768 1474.26 Q468.374 1469.61 469.555 1468.27 Q471.8 1465.74 472.68 1464.01 Q473.583 1462.25 473.583 1460.56 Q473.583 1457.8 471.638 1456.07 Q469.717 1454.33 466.615 1454.33 Q464.416 1454.33 461.962 1455.09 Q459.532 1455.86 456.754 1457.41 L456.754 1452.69 Q459.578 1451.55 462.032 1450.97 Q464.485 1450.39 466.522 1450.39 Q471.893 1450.39 475.087 1453.08 Q478.282 1455.77 478.282 1460.26 Q478.282 1462.39 477.472 1464.31 Q476.684 1466.2 474.578 1468.8 Q473.999 1469.47 470.897 1472.69 Q467.796 1475.88 462.148 1481.64 Z\" fill=\"#000000\" fill-rule=\"evenodd\" fill-opacity=\"1\" /><path clip-path=\"url(#clip980)\" d=\"M875.936 1455.09 L864.131 1473.54 L875.936 1473.54 L875.936 1455.09 M874.71 1451.02 L880.589 1451.02 L880.589 1473.54 L885.52 1473.54 L885.52 1477.43 L880.589 1477.43 L880.589 1485.58 L875.936 1485.58 L875.936 1477.43 L860.335 1477.43 L860.335 1472.92 L874.71 1451.02 Z\" fill=\"#000000\" fill-rule=\"evenodd\" fill-opacity=\"1\" /><path clip-path=\"url(#clip980)\" d=\"M1278.76 1466.44 Q1275.62 1466.44 1273.76 1468.59 Q1271.94 1470.74 1271.94 1474.49 Q1271.94 1478.22 1273.76 1480.39 Q1275.62 1482.55 1278.76 1482.55 Q1281.91 1482.55 1283.74 1480.39 Q1285.59 1478.22 1285.59 1474.49 Q1285.59 1470.74 1283.74 1468.59 Q1281.91 1466.44 1278.76 1466.44 M1288.05 1451.78 L1288.05 1456.04 Q1286.29 1455.21 1284.48 1454.77 Q1282.7 1454.33 1280.94 1454.33 Q1276.31 1454.33 1273.86 1457.45 Q1271.43 1460.58 1271.08 1466.9 Q1272.45 1464.89 1274.51 1463.82 Q1276.57 1462.73 1279.04 1462.73 Q1284.25 1462.73 1287.26 1465.9 Q1290.29 1469.05 1290.29 1474.49 Q1290.29 1479.82 1287.14 1483.03 Q1284 1486.25 1278.76 1486.25 Q1272.77 1486.25 1269.6 1481.67 Q1266.43 1477.06 1266.43 1468.33 Q1266.43 1460.14 1270.32 1455.28 Q1274.2 1450.39 1280.76 1450.39 Q1282.51 1450.39 1284.3 1450.74 Q1286.1 1451.09 1288.05 1451.78 Z\" fill=\"#000000\" fill-rule=\"evenodd\" fill-opacity=\"1\" /><path clip-path=\"url(#clip980)\" d=\"M1683.79 1469.17 Q1680.46 1469.17 1678.54 1470.95 Q1676.64 1472.73 1676.64 1475.86 Q1676.64 1478.98 1678.54 1480.77 Q1680.46 1482.55 1683.79 1482.55 Q1687.13 1482.55 1689.05 1480.77 Q1690.97 1478.96 1690.97 1475.86 Q1690.97 1472.73 1689.05 1470.95 Q1687.15 1469.17 1683.79 1469.17 M1679.12 1467.18 Q1676.11 1466.44 1674.42 1464.38 Q1672.75 1462.32 1672.75 1459.35 Q1672.75 1455.21 1675.69 1452.8 Q1678.65 1450.39 1683.79 1450.39 Q1688.95 1450.39 1691.89 1452.8 Q1694.83 1455.21 1694.83 1459.35 Q1694.83 1462.32 1693.14 1464.38 Q1691.48 1466.44 1688.49 1467.18 Q1691.87 1467.96 1693.75 1470.26 Q1695.64 1472.55 1695.64 1475.86 Q1695.64 1480.88 1692.57 1483.57 Q1689.51 1486.25 1683.79 1486.25 Q1678.07 1486.25 1675 1483.57 Q1671.94 1480.88 1671.94 1475.86 Q1671.94 1472.55 1673.84 1470.26 Q1675.74 1467.96 1679.12 1467.18 M1677.4 1459.79 Q1677.4 1462.48 1679.07 1463.98 Q1680.76 1465.49 1683.79 1465.49 Q1686.8 1465.49 1688.49 1463.98 Q1690.2 1462.48 1690.2 1459.79 Q1690.2 1457.11 1688.49 1455.6 Q1686.8 1454.1 1683.79 1454.1 Q1680.76 1454.1 1679.07 1455.6 Q1677.4 1457.11 1677.4 1459.79 Z\" fill=\"#000000\" fill-rule=\"evenodd\" fill-opacity=\"1\" /><path clip-path=\"url(#clip980)\" d=\"M2063.91 1481.64 L2071.55 1481.64 L2071.55 1455.28 L2063.24 1456.95 L2063.24 1452.69 L2071.5 1451.02 L2076.18 1451.02 L2076.18 1481.64 L2083.82 1481.64 L2083.82 1485.58 L2063.91 1485.58 L2063.91 1481.64 Z\" fill=\"#000000\" fill-rule=\"evenodd\" fill-opacity=\"1\" /><path clip-path=\"url(#clip980)\" d=\"M2103.26 1454.1 Q2099.65 1454.1 2097.82 1457.66 Q2096.02 1461.2 2096.02 1468.33 Q2096.02 1475.44 2097.82 1479.01 Q2099.65 1482.55 2103.26 1482.55 Q2106.9 1482.55 2108.7 1479.01 Q2110.53 1475.44 2110.53 1468.33 Q2110.53 1461.2 2108.7 1457.66 Q2106.9 1454.1 2103.26 1454.1 M2103.26 1450.39 Q2109.07 1450.39 2112.13 1455 Q2115.21 1459.58 2115.21 1468.33 Q2115.21 1477.06 2112.13 1481.67 Q2109.07 1486.25 2103.26 1486.25 Q2097.45 1486.25 2094.38 1481.67 Q2091.32 1477.06 2091.32 1468.33 Q2091.32 1459.58 2094.38 1455 Q2097.45 1450.39 2103.26 1450.39 Z\" fill=\"#000000\" fill-rule=\"evenodd\" fill-opacity=\"1\" /><path clip-path=\"url(#clip980)\" d=\"M772.939 1520.52 L779.845 1520.52 L793.022 1540.07 L806.104 1520.52 L813.011 1520.52 L796.205 1545.41 L796.205 1568.04 L789.744 1568.04 L789.744 1545.41 L772.939 1520.52 Z\" fill=\"#000000\" fill-rule=\"evenodd\" fill-opacity=\"1\" /><path clip-path=\"url(#clip980)\" d=\"M840.861 1548.76 L840.861 1551.62 L813.934 1551.62 Q814.316 1557.67 817.562 1560.85 Q820.84 1564 826.665 1564 Q830.039 1564 833.19 1563.17 Q836.373 1562.35 839.492 1560.69 L839.492 1566.23 Q836.341 1567.57 833.031 1568.27 Q829.721 1568.97 826.315 1568.97 Q817.785 1568.97 812.788 1564 Q807.823 1559.04 807.823 1550.57 Q807.823 1541.82 812.533 1536.69 Q817.276 1531.54 825.296 1531.54 Q832.49 1531.54 836.659 1536.18 Q840.861 1540.8 840.861 1548.76 M835.004 1547.04 Q834.941 1542.23 832.299 1539.37 Q829.689 1536.5 825.36 1536.5 Q820.459 1536.5 817.498 1539.27 Q814.57 1542.04 814.125 1547.07 L835.004 1547.04 Z\" fill=\"#000000\" fill-rule=\"evenodd\" fill-opacity=\"1\" /><path clip-path=\"url(#clip980)\" d=\"M866.674 1550.12 Q859.576 1550.12 856.839 1551.75 Q854.101 1553.37 854.101 1557.29 Q854.101 1560.4 856.138 1562.25 Q858.207 1564.07 861.74 1564.07 Q866.61 1564.07 869.538 1560.63 Q872.498 1557.16 872.498 1551.43 L872.498 1550.12 L866.674 1550.12 M878.355 1547.71 L878.355 1568.04 L872.498 1568.04 L872.498 1562.63 Q870.493 1565.88 867.501 1567.44 Q864.509 1568.97 860.181 1568.97 Q854.706 1568.97 851.46 1565.91 Q848.245 1562.82 848.245 1557.67 Q848.245 1551.65 852.255 1548.6 Q856.297 1545.54 864.286 1545.54 L872.498 1545.54 L872.498 1544.97 Q872.498 1540.93 869.825 1538.73 Q867.183 1536.5 862.377 1536.5 Q859.321 1536.5 856.425 1537.23 Q853.528 1537.97 850.855 1539.43 L850.855 1534.02 Q854.069 1532.78 857.093 1532.17 Q860.117 1531.54 862.981 1531.54 Q870.716 1531.54 874.535 1535.55 Q878.355 1539.56 878.355 1547.71 Z\" fill=\"#000000\" fill-rule=\"evenodd\" fill-opacity=\"1\" /><path clip-path=\"url(#clip980)\" d=\"M911.074 1537.87 Q910.088 1537.3 908.91 1537.04 Q907.764 1536.76 906.364 1536.76 Q901.399 1536.76 898.725 1540 Q896.083 1543.22 896.083 1549.27 L896.083 1568.04 L890.195 1568.04 L890.195 1532.4 L896.083 1532.4 L896.083 1537.93 Q897.929 1534.69 900.889 1533.13 Q903.849 1531.54 908.082 1531.54 Q908.687 1531.54 909.419 1531.63 Q910.151 1531.7 911.043 1531.85 L911.074 1537.87 Z\" fill=\"#000000\" fill-rule=\"evenodd\" fill-opacity=\"1\" /><path clip-path=\"url(#clip980)\" d=\"M939.943 1533.45 L939.943 1538.98 Q937.46 1537.71 934.787 1537.07 Q932.113 1536.44 929.248 1536.44 Q924.888 1536.44 922.692 1537.77 Q920.527 1539.11 920.527 1541.79 Q920.527 1543.82 922.087 1545 Q923.647 1546.15 928.357 1547.2 L930.362 1547.64 Q936.601 1548.98 939.211 1551.43 Q941.853 1553.85 941.853 1558.21 Q941.853 1563.17 937.906 1566.07 Q933.991 1568.97 927.116 1568.97 Q924.251 1568.97 921.132 1568.39 Q918.045 1567.85 914.607 1566.74 L914.607 1560.69 Q917.854 1562.38 921.005 1563.24 Q924.156 1564.07 927.243 1564.07 Q931.381 1564.07 933.609 1562.66 Q935.837 1561.23 935.837 1558.65 Q935.837 1556.27 934.214 1554.99 Q932.622 1553.72 927.18 1552.54 L925.143 1552.07 Q919.7 1550.92 917.281 1548.56 Q914.862 1546.18 914.862 1542.04 Q914.862 1537.01 918.427 1534.27 Q921.992 1531.54 928.548 1531.54 Q931.795 1531.54 934.659 1532.01 Q937.524 1532.49 939.943 1533.45 Z\" fill=\"#000000\" fill-rule=\"evenodd\" fill-opacity=\"1\" /><path clip-path=\"url(#clip980)\" d=\"M985.967 1518.58 Q981.702 1525.9 979.633 1533.06 Q977.564 1540.23 977.564 1547.58 Q977.564 1554.93 979.633 1562.16 Q981.734 1569.35 985.967 1576.64 L980.874 1576.64 Q976.1 1569.16 973.713 1561.93 Q971.358 1554.71 971.358 1547.58 Q971.358 1540.48 973.713 1533.29 Q976.068 1526.09 980.874 1518.58 L985.967 1518.58 Z\" fill=\"#000000\" fill-rule=\"evenodd\" fill-opacity=\"1\" /><path clip-path=\"url(#clip980)\" d=\"M999.271 1562.63 L1009.77 1562.63 L1009.77 1526.38 L998.348 1528.67 L998.348 1522.82 L1009.71 1520.52 L1016.14 1520.52 L1016.14 1562.63 L1026.64 1562.63 L1026.64 1568.04 L999.271 1568.04 L999.271 1562.63 Z\" fill=\"#000000\" fill-rule=\"evenodd\" fill-opacity=\"1\" /><path clip-path=\"url(#clip980)\" d=\"M1039.82 1567.06 L1039.82 1561.2 Q1042.24 1562.35 1044.72 1562.95 Q1047.21 1563.56 1049.59 1563.56 Q1055.96 1563.56 1059.3 1559.29 Q1062.67 1554.99 1063.15 1546.27 Q1061.31 1549.01 1058.47 1550.47 Q1055.64 1551.94 1052.2 1551.94 Q1045.07 1551.94 1040.9 1547.64 Q1036.77 1543.31 1036.77 1535.83 Q1036.77 1528.51 1041.09 1524.09 Q1045.42 1519.66 1052.62 1519.66 Q1060.86 1519.66 1065.19 1526 Q1069.55 1532.3 1069.55 1544.33 Q1069.55 1555.57 1064.2 1562.28 Q1058.89 1568.97 1049.88 1568.97 Q1047.46 1568.97 1044.98 1568.49 Q1042.49 1568.01 1039.82 1567.06 M1052.62 1546.91 Q1056.94 1546.91 1059.46 1543.95 Q1062.01 1540.99 1062.01 1535.83 Q1062.01 1530.71 1059.46 1527.75 Q1056.94 1524.76 1052.62 1524.76 Q1048.29 1524.76 1045.74 1527.75 Q1043.23 1530.71 1043.23 1535.83 Q1043.23 1540.99 1045.74 1543.95 Q1048.29 1546.91 1052.62 1546.91 Z\" fill=\"#000000\" fill-rule=\"evenodd\" fill-opacity=\"1\" /><path clip-path=\"url(#clip980)\" d=\"M1082.22 1562.63 L1092.72 1562.63 L1092.72 1526.38 L1081.29 1528.67 L1081.29 1522.82 L1092.66 1520.52 L1099.09 1520.52 L1099.09 1562.63 L1109.59 1562.63 L1109.59 1568.04 L1082.22 1568.04 L1082.22 1562.63 Z\" fill=\"#000000\" fill-rule=\"evenodd\" fill-opacity=\"1\" /><path clip-path=\"url(#clip980)\" d=\"M1128.11 1562.63 L1150.55 1562.63 L1150.55 1568.04 L1120.38 1568.04 L1120.38 1562.63 Q1124.04 1558.85 1130.34 1552.48 Q1136.68 1546.08 1138.3 1544.24 Q1141.39 1540.77 1142.6 1538.38 Q1143.84 1535.96 1143.84 1533.64 Q1143.84 1529.85 1141.16 1527.46 Q1138.52 1525.08 1134.26 1525.08 Q1131.23 1525.08 1127.86 1526.13 Q1124.52 1527.18 1120.7 1529.31 L1120.7 1522.82 Q1124.58 1521.26 1127.95 1520.46 Q1131.33 1519.66 1134.13 1519.66 Q1141.51 1519.66 1145.91 1523.36 Q1150.3 1527.05 1150.3 1533.22 Q1150.3 1536.15 1149.18 1538.79 Q1148.1 1541.4 1145.21 1544.97 Q1144.41 1545.89 1140.14 1550.32 Q1135.88 1554.71 1128.11 1562.63 Z\" fill=\"#000000\" fill-rule=\"evenodd\" fill-opacity=\"1\" /><path clip-path=\"url(#clip980)\" d=\"M1160.26 1547.58 L1177.42 1547.58 L1177.42 1552.8 L1160.26 1552.8 L1160.26 1547.58 Z\" fill=\"#000000\" fill-rule=\"evenodd\" fill-opacity=\"1\" /><path clip-path=\"url(#clip980)\" d=\"M1209.4 1562.63 L1219.91 1562.63 L1219.91 1526.38 L1208.48 1528.67 L1208.48 1522.82 L1219.84 1520.52 L1226.27 1520.52 L1226.27 1562.63 L1236.78 1562.63 L1236.78 1568.04 L1209.4 1568.04 L1209.4 1562.63 Z\" fill=\"#000000\" fill-rule=\"evenodd\" fill-opacity=\"1\" /><path clip-path=\"url(#clip980)\" d=\"M1249.95 1567.06 L1249.95 1561.2 Q1252.37 1562.35 1254.85 1562.95 Q1257.34 1563.56 1259.72 1563.56 Q1266.09 1563.56 1269.43 1559.29 Q1272.81 1554.99 1273.28 1546.27 Q1271.44 1549.01 1268.6 1550.47 Q1265.77 1551.94 1262.33 1551.94 Q1255.2 1551.94 1251.03 1547.64 Q1246.9 1543.31 1246.9 1535.83 Q1246.9 1528.51 1251.23 1524.09 Q1255.55 1519.66 1262.75 1519.66 Q1270.99 1519.66 1275.32 1526 Q1279.68 1532.3 1279.68 1544.33 Q1279.68 1555.57 1274.33 1562.28 Q1269.02 1568.97 1260.01 1568.97 Q1257.59 1568.97 1255.11 1568.49 Q1252.63 1568.01 1249.95 1567.06 M1262.75 1546.91 Q1267.08 1546.91 1269.59 1543.95 Q1272.14 1540.99 1272.14 1535.83 Q1272.14 1530.71 1269.59 1527.75 Q1267.08 1524.76 1262.75 1524.76 Q1258.42 1524.76 1255.87 1527.75 Q1253.36 1530.71 1253.36 1535.83 Q1253.36 1540.99 1255.87 1543.95 Q1258.42 1546.91 1262.75 1546.91 Z\" fill=\"#000000\" fill-rule=\"evenodd\" fill-opacity=\"1\" /><path clip-path=\"url(#clip980)\" d=\"M1296.77 1562.63 L1319.21 1562.63 L1319.21 1568.04 L1289.04 1568.04 L1289.04 1562.63 Q1292.7 1558.85 1299 1552.48 Q1305.33 1546.08 1306.96 1544.24 Q1310.05 1540.77 1311.25 1538.38 Q1312.5 1535.96 1312.5 1533.64 Q1312.5 1529.85 1309.82 1527.46 Q1307.18 1525.08 1302.92 1525.08 Q1299.89 1525.08 1296.52 1526.13 Q1293.18 1527.18 1289.36 1529.31 L1289.36 1522.82 Q1293.24 1521.26 1296.61 1520.46 Q1299.99 1519.66 1302.79 1519.66 Q1310.17 1519.66 1314.56 1523.36 Q1318.96 1527.05 1318.96 1533.22 Q1318.96 1536.15 1317.84 1538.79 Q1316.76 1541.4 1313.86 1544.97 Q1313.07 1545.89 1308.8 1550.32 Q1304.54 1554.71 1296.77 1562.63 Z\" fill=\"#000000\" fill-rule=\"evenodd\" fill-opacity=\"1\" /><path clip-path=\"url(#clip980)\" d=\"M1338.25 1562.63 L1360.68 1562.63 L1360.68 1568.04 L1330.51 1568.04 L1330.51 1562.63 Q1334.17 1558.85 1340.47 1552.48 Q1346.81 1546.08 1348.43 1544.24 Q1351.52 1540.77 1352.73 1538.38 Q1353.97 1535.96 1353.97 1533.64 Q1353.97 1529.85 1351.29 1527.46 Q1348.65 1525.08 1344.39 1525.08 Q1341.36 1525.08 1337.99 1526.13 Q1334.65 1527.18 1330.83 1529.31 L1330.83 1522.82 Q1334.71 1521.26 1338.09 1520.46 Q1341.46 1519.66 1344.26 1519.66 Q1351.64 1519.66 1356.04 1523.36 Q1360.43 1527.05 1360.43 1533.22 Q1360.43 1536.15 1359.32 1538.79 Q1358.23 1541.4 1355.34 1544.97 Q1354.54 1545.89 1350.28 1550.32 Q1346.01 1554.71 1338.25 1562.63 Z\" fill=\"#000000\" fill-rule=\"evenodd\" fill-opacity=\"1\" /><path clip-path=\"url(#clip980)\" d=\"M1374.85 1559.96 L1381.56 1559.96 L1381.56 1565.43 L1376.34 1575.62 L1372.24 1575.62 L1374.85 1565.43 L1374.85 1559.96 Z\" fill=\"#000000\" fill-rule=\"evenodd\" fill-opacity=\"1\" /><path clip-path=\"url(#clip980)\" d=\"M1421.16 1562.63 L1443.6 1562.63 L1443.6 1568.04 L1413.42 1568.04 L1413.42 1562.63 Q1417.08 1558.85 1423.39 1552.48 Q1429.72 1546.08 1431.34 1544.24 Q1434.43 1540.77 1435.64 1538.38 Q1436.88 1535.96 1436.88 1533.64 Q1436.88 1529.85 1434.21 1527.46 Q1431.57 1525.08 1427.3 1525.08 Q1424.28 1525.08 1420.9 1526.13 Q1417.56 1527.18 1413.74 1529.31 L1413.74 1522.82 Q1417.63 1521.26 1421 1520.46 Q1424.37 1519.66 1427.17 1519.66 Q1434.56 1519.66 1438.95 1523.36 Q1443.34 1527.05 1443.34 1533.22 Q1443.34 1536.15 1442.23 1538.79 Q1441.15 1541.4 1438.25 1544.97 Q1437.45 1545.89 1433.19 1550.32 Q1428.92 1554.71 1421.16 1562.63 Z\" fill=\"#000000\" fill-rule=\"evenodd\" fill-opacity=\"1\" /><path clip-path=\"url(#clip980)\" d=\"M1470.84 1524.76 Q1465.88 1524.76 1463.36 1529.66 Q1460.88 1534.53 1460.88 1544.33 Q1460.88 1554.1 1463.36 1559 Q1465.88 1563.87 1470.84 1563.87 Q1475.84 1563.87 1478.32 1559 Q1480.84 1554.1 1480.84 1544.33 Q1480.84 1534.53 1478.32 1529.66 Q1475.84 1524.76 1470.84 1524.76 M1470.84 1519.66 Q1478.83 1519.66 1483.03 1526 Q1487.27 1532.3 1487.27 1544.33 Q1487.27 1556.33 1483.03 1562.66 Q1478.83 1568.97 1470.84 1568.97 Q1462.85 1568.97 1458.62 1562.66 Q1454.42 1556.33 1454.42 1544.33 Q1454.42 1532.3 1458.62 1526 Q1462.85 1519.66 1470.84 1519.66 Z\" fill=\"#000000\" fill-rule=\"evenodd\" fill-opacity=\"1\" /><path clip-path=\"url(#clip980)\" d=\"M1499.68 1562.63 L1510.18 1562.63 L1510.18 1526.38 L1498.76 1528.67 L1498.76 1522.82 L1510.12 1520.52 L1516.55 1520.52 L1516.55 1562.63 L1527.05 1562.63 L1527.05 1568.04 L1499.68 1568.04 L1499.68 1562.63 Z\" fill=\"#000000\" fill-rule=\"evenodd\" fill-opacity=\"1\" /><path clip-path=\"url(#clip980)\" d=\"M1545.58 1562.63 L1568.02 1562.63 L1568.02 1568.04 L1537.84 1568.04 L1537.84 1562.63 Q1541.5 1558.85 1547.8 1552.48 Q1554.14 1546.08 1555.76 1544.24 Q1558.85 1540.77 1560.06 1538.38 Q1561.3 1535.96 1561.3 1533.64 Q1561.3 1529.85 1558.63 1527.46 Q1555.98 1525.08 1551.72 1525.08 Q1548.7 1525.08 1545.32 1526.13 Q1541.98 1527.18 1538.16 1529.31 L1538.16 1522.82 Q1542.04 1521.26 1545.42 1520.46 Q1548.79 1519.66 1551.59 1519.66 Q1558.98 1519.66 1563.37 1523.36 Q1567.76 1527.05 1567.76 1533.22 Q1567.76 1536.15 1566.65 1538.79 Q1565.56 1541.4 1562.67 1544.97 Q1561.87 1545.89 1557.61 1550.32 Q1553.34 1554.71 1545.58 1562.63 Z\" fill=\"#000000\" fill-rule=\"evenodd\" fill-opacity=\"1\" /><path clip-path=\"url(#clip980)\" d=\"M1577.72 1547.58 L1594.88 1547.58 L1594.88 1552.8 L1577.72 1552.8 L1577.72 1547.58 Z\" fill=\"#000000\" fill-rule=\"evenodd\" fill-opacity=\"1\" /><path clip-path=\"url(#clip980)\" d=\"M1610.57 1562.63 L1633.01 1562.63 L1633.01 1568.04 L1602.84 1568.04 L1602.84 1562.63 Q1606.5 1558.85 1612.8 1552.48 Q1619.13 1546.08 1620.76 1544.24 Q1623.84 1540.77 1625.05 1538.38 Q1626.29 1535.96 1626.29 1533.64 Q1626.29 1529.85 1623.62 1527.46 Q1620.98 1525.08 1616.71 1525.08 Q1613.69 1525.08 1610.32 1526.13 Q1606.97 1527.18 1603.15 1529.31 L1603.15 1522.82 Q1607.04 1521.26 1610.41 1520.46 Q1613.78 1519.66 1616.59 1519.66 Q1623.97 1519.66 1628.36 1523.36 Q1632.75 1527.05 1632.75 1533.22 Q1632.75 1536.15 1631.64 1538.79 Q1630.56 1541.4 1627.66 1544.97 Q1626.87 1545.89 1622.6 1550.32 Q1618.34 1554.71 1610.57 1562.63 Z\" fill=\"#000000\" fill-rule=\"evenodd\" fill-opacity=\"1\" /><path clip-path=\"url(#clip980)\" d=\"M1660.25 1524.76 Q1655.29 1524.76 1652.77 1529.66 Q1650.29 1534.53 1650.29 1544.33 Q1650.29 1554.1 1652.77 1559 Q1655.29 1563.87 1660.25 1563.87 Q1665.25 1563.87 1667.73 1559 Q1670.25 1554.1 1670.25 1544.33 Q1670.25 1534.53 1667.73 1529.66 Q1665.25 1524.76 1660.25 1524.76 M1660.25 1519.66 Q1668.24 1519.66 1672.44 1526 Q1676.68 1532.3 1676.68 1544.33 Q1676.68 1556.33 1672.44 1562.66 Q1668.24 1568.97 1660.25 1568.97 Q1652.27 1568.97 1648.03 1562.66 Q1643.83 1556.33 1643.83 1544.33 Q1643.83 1532.3 1648.03 1526 Q1652.27 1519.66 1660.25 1519.66 Z\" fill=\"#000000\" fill-rule=\"evenodd\" fill-opacity=\"1\" /><path clip-path=\"url(#clip980)\" d=\"M1693.52 1562.63 L1715.95 1562.63 L1715.95 1568.04 L1685.78 1568.04 L1685.78 1562.63 Q1689.44 1558.85 1695.74 1552.48 Q1702.08 1546.08 1703.7 1544.24 Q1706.79 1540.77 1708 1538.38 Q1709.24 1535.96 1709.24 1533.64 Q1709.24 1529.85 1706.56 1527.46 Q1703.92 1525.08 1699.66 1525.08 Q1696.63 1525.08 1693.26 1526.13 Q1689.92 1527.18 1686.1 1529.31 L1686.1 1522.82 Q1689.98 1521.26 1693.36 1520.46 Q1696.73 1519.66 1699.53 1519.66 Q1706.92 1519.66 1711.31 1523.36 Q1715.7 1527.05 1715.7 1533.22 Q1715.7 1536.15 1714.59 1538.79 Q1713.5 1541.4 1710.61 1544.97 Q1709.81 1545.89 1705.55 1550.32 Q1701.28 1554.71 1693.52 1562.63 Z\" fill=\"#000000\" fill-rule=\"evenodd\" fill-opacity=\"1\" /><path clip-path=\"url(#clip980)\" d=\"M1734.99 1562.63 L1757.43 1562.63 L1757.43 1568.04 L1727.25 1568.04 L1727.25 1562.63 Q1730.91 1558.85 1737.22 1552.48 Q1743.55 1546.08 1745.17 1544.24 Q1748.26 1540.77 1749.47 1538.38 Q1750.71 1535.96 1750.71 1533.64 Q1750.71 1529.85 1748.04 1527.46 Q1745.4 1525.08 1741.13 1525.08 Q1738.11 1525.08 1734.73 1526.13 Q1731.39 1527.18 1727.57 1529.31 L1727.57 1522.82 Q1731.45 1521.26 1734.83 1520.46 Q1738.2 1519.66 1741 1519.66 Q1748.39 1519.66 1752.78 1523.36 Q1757.17 1527.05 1757.17 1533.22 Q1757.17 1536.15 1756.06 1538.79 Q1754.98 1541.4 1752.08 1544.97 Q1751.28 1545.89 1747.02 1550.32 Q1742.75 1554.71 1734.99 1562.63 Z\" fill=\"#000000\" fill-rule=\"evenodd\" fill-opacity=\"1\" /><path clip-path=\"url(#clip980)\" d=\"M1769.17 1518.58 L1774.26 1518.58 Q1779.04 1526.09 1781.39 1533.29 Q1783.78 1540.48 1783.78 1547.58 Q1783.78 1554.71 1781.39 1561.93 Q1779.04 1569.16 1774.26 1576.64 L1769.17 1576.64 Q1773.4 1569.35 1775.47 1562.16 Q1777.57 1554.93 1777.57 1547.58 Q1777.57 1540.23 1775.47 1533.06 Q1773.4 1525.9 1769.17 1518.58 Z\" fill=\"#000000\" fill-rule=\"evenodd\" fill-opacity=\"1\" /><polyline clip-path=\"url(#clip982)\" style=\"stroke:#000000; stroke-linecap:round; stroke-linejoin:round; stroke-width:2; stroke-opacity:0.1; fill:none\" points=\"\n",
       "  203.964,1408.89 2352.76,1408.89 \n",
       "  \"/>\n",
       "<polyline clip-path=\"url(#clip982)\" style=\"stroke:#000000; stroke-linecap:round; stroke-linejoin:round; stroke-width:2; stroke-opacity:0.1; fill:none\" points=\"\n",
       "  203.964,1183.91 2352.76,1183.91 \n",
       "  \"/>\n",
       "<polyline clip-path=\"url(#clip982)\" style=\"stroke:#000000; stroke-linecap:round; stroke-linejoin:round; stroke-width:2; stroke-opacity:0.1; fill:none\" points=\"\n",
       "  203.964,958.934 2352.76,958.934 \n",
       "  \"/>\n",
       "<polyline clip-path=\"url(#clip982)\" style=\"stroke:#000000; stroke-linecap:round; stroke-linejoin:round; stroke-width:2; stroke-opacity:0.1; fill:none\" points=\"\n",
       "  203.964,733.955 2352.76,733.955 \n",
       "  \"/>\n",
       "<polyline clip-path=\"url(#clip982)\" style=\"stroke:#000000; stroke-linecap:round; stroke-linejoin:round; stroke-width:2; stroke-opacity:0.1; fill:none\" points=\"\n",
       "  203.964,508.975 2352.76,508.975 \n",
       "  \"/>\n",
       "<polyline clip-path=\"url(#clip982)\" style=\"stroke:#000000; stroke-linecap:round; stroke-linejoin:round; stroke-width:2; stroke-opacity:0.1; fill:none\" points=\"\n",
       "  203.964,283.995 2352.76,283.995 \n",
       "  \"/>\n",
       "<polyline clip-path=\"url(#clip980)\" style=\"stroke:#000000; stroke-linecap:round; stroke-linejoin:round; stroke-width:4; stroke-opacity:1; fill:none\" points=\"\n",
       "  203.964,1423.18 203.964,123.472 \n",
       "  \"/>\n",
       "<polyline clip-path=\"url(#clip980)\" style=\"stroke:#000000; stroke-linecap:round; stroke-linejoin:round; stroke-width:4; stroke-opacity:1; fill:none\" points=\"\n",
       "  203.964,1408.89 222.861,1408.89 \n",
       "  \"/>\n",
       "<polyline clip-path=\"url(#clip980)\" style=\"stroke:#000000; stroke-linecap:round; stroke-linejoin:round; stroke-width:4; stroke-opacity:1; fill:none\" points=\"\n",
       "  203.964,1183.91 222.861,1183.91 \n",
       "  \"/>\n",
       "<polyline clip-path=\"url(#clip980)\" style=\"stroke:#000000; stroke-linecap:round; stroke-linejoin:round; stroke-width:4; stroke-opacity:1; fill:none\" points=\"\n",
       "  203.964,958.934 222.861,958.934 \n",
       "  \"/>\n",
       "<polyline clip-path=\"url(#clip980)\" style=\"stroke:#000000; stroke-linecap:round; stroke-linejoin:round; stroke-width:4; stroke-opacity:1; fill:none\" points=\"\n",
       "  203.964,733.955 222.861,733.955 \n",
       "  \"/>\n",
       "<polyline clip-path=\"url(#clip980)\" style=\"stroke:#000000; stroke-linecap:round; stroke-linejoin:round; stroke-width:4; stroke-opacity:1; fill:none\" points=\"\n",
       "  203.964,508.975 222.861,508.975 \n",
       "  \"/>\n",
       "<polyline clip-path=\"url(#clip980)\" style=\"stroke:#000000; stroke-linecap:round; stroke-linejoin:round; stroke-width:4; stroke-opacity:1; fill:none\" points=\"\n",
       "  203.964,283.995 222.861,283.995 \n",
       "  \"/>\n",
       "<path clip-path=\"url(#clip980)\" d=\"M147.061 1391.61 L165.417 1391.61 L165.417 1395.55 L151.343 1395.55 L151.343 1404.02 Q152.362 1403.67 153.38 1403.51 Q154.399 1403.33 155.417 1403.33 Q161.204 1403.33 164.584 1406.5 Q167.964 1409.67 167.964 1415.09 Q167.964 1420.66 164.491 1423.77 Q161.019 1426.84 154.7 1426.84 Q152.524 1426.84 150.255 1426.47 Q148.01 1426.1 145.603 1425.36 L145.603 1420.66 Q147.686 1421.8 149.908 1422.35 Q152.13 1422.91 154.607 1422.91 Q158.612 1422.91 160.95 1420.8 Q163.288 1418.7 163.288 1415.09 Q163.288 1411.47 160.95 1409.37 Q158.612 1407.26 154.607 1407.26 Q152.732 1407.26 150.857 1407.68 Q149.005 1408.1 147.061 1408.97 L147.061 1391.61 Z\" fill=\"#000000\" fill-rule=\"evenodd\" fill-opacity=\"1\" /><path clip-path=\"url(#clip980)\" d=\"M116.668 1197.26 L124.306 1197.26 L124.306 1170.89 L115.996 1172.56 L115.996 1168.3 L124.26 1166.63 L128.936 1166.63 L128.936 1197.26 L136.575 1197.26 L136.575 1201.19 L116.668 1201.19 L116.668 1197.26 Z\" fill=\"#000000\" fill-rule=\"evenodd\" fill-opacity=\"1\" /><path clip-path=\"url(#clip980)\" d=\"M156.019 1169.71 Q152.408 1169.71 150.579 1173.28 Q148.774 1176.82 148.774 1183.95 Q148.774 1191.06 150.579 1194.62 Q152.408 1198.16 156.019 1198.16 Q159.653 1198.16 161.459 1194.62 Q163.288 1191.06 163.288 1183.95 Q163.288 1176.82 161.459 1173.28 Q159.653 1169.71 156.019 1169.71 M156.019 1166.01 Q161.829 1166.01 164.885 1170.62 Q167.964 1175.2 167.964 1183.95 Q167.964 1192.68 164.885 1197.28 Q161.829 1201.87 156.019 1201.87 Q150.209 1201.87 147.13 1197.28 Q144.075 1192.68 144.075 1183.95 Q144.075 1175.2 147.13 1170.62 Q150.209 1166.01 156.019 1166.01 Z\" fill=\"#000000\" fill-rule=\"evenodd\" fill-opacity=\"1\" /><path clip-path=\"url(#clip980)\" d=\"M117.663 972.279 L125.302 972.279 L125.302 945.913 L116.992 947.58 L116.992 943.321 L125.255 941.654 L129.931 941.654 L129.931 972.279 L137.57 972.279 L137.57 976.214 L117.663 976.214 L117.663 972.279 Z\" fill=\"#000000\" fill-rule=\"evenodd\" fill-opacity=\"1\" /><path clip-path=\"url(#clip980)\" d=\"M147.061 941.654 L165.417 941.654 L165.417 945.589 L151.343 945.589 L151.343 954.062 Q152.362 953.714 153.38 953.552 Q154.399 953.367 155.417 953.367 Q161.204 953.367 164.584 956.538 Q167.964 959.71 167.964 965.126 Q167.964 970.705 164.491 973.807 Q161.019 976.886 154.7 976.886 Q152.524 976.886 150.255 976.515 Q148.01 976.145 145.603 975.404 L145.603 970.705 Q147.686 971.839 149.908 972.395 Q152.13 972.95 154.607 972.95 Q158.612 972.95 160.95 970.844 Q163.288 968.737 163.288 965.126 Q163.288 961.515 160.95 959.409 Q158.612 957.302 154.607 957.302 Q152.732 957.302 150.857 957.719 Q149.005 958.136 147.061 959.015 L147.061 941.654 Z\" fill=\"#000000\" fill-rule=\"evenodd\" fill-opacity=\"1\" /><path clip-path=\"url(#clip980)\" d=\"M119.885 747.299 L136.204 747.299 L136.204 751.235 L114.26 751.235 L114.26 747.299 Q116.922 744.545 121.505 739.915 Q126.112 735.262 127.292 733.92 Q129.538 731.397 130.417 729.661 Q131.32 727.901 131.32 726.212 Q131.32 723.457 129.376 721.721 Q127.455 719.985 124.353 719.985 Q122.154 719.985 119.7 720.749 Q117.269 721.512 114.492 723.063 L114.492 718.341 Q117.316 717.207 119.769 716.628 Q122.223 716.05 124.26 716.05 Q129.63 716.05 132.825 718.735 Q136.019 721.42 136.019 725.911 Q136.019 728.04 135.209 729.962 Q134.422 731.86 132.316 734.452 Q131.737 735.124 128.635 738.341 Q125.533 741.536 119.885 747.299 Z\" fill=\"#000000\" fill-rule=\"evenodd\" fill-opacity=\"1\" /><path clip-path=\"url(#clip980)\" d=\"M156.019 719.753 Q152.408 719.753 150.579 723.318 Q148.774 726.86 148.774 733.989 Q148.774 741.096 150.579 744.66 Q152.408 748.202 156.019 748.202 Q159.653 748.202 161.459 744.66 Q163.288 741.096 163.288 733.989 Q163.288 726.86 161.459 723.318 Q159.653 719.753 156.019 719.753 M156.019 716.05 Q161.829 716.05 164.885 720.656 Q167.964 725.239 167.964 733.989 Q167.964 742.716 164.885 747.323 Q161.829 751.906 156.019 751.906 Q150.209 751.906 147.13 747.323 Q144.075 742.716 144.075 733.989 Q144.075 725.239 147.13 720.656 Q150.209 716.05 156.019 716.05 Z\" fill=\"#000000\" fill-rule=\"evenodd\" fill-opacity=\"1\" /><path clip-path=\"url(#clip980)\" d=\"M120.88 522.32 L137.2 522.32 L137.2 526.255 L115.256 526.255 L115.256 522.32 Q117.918 519.565 122.501 514.935 Q127.107 510.283 128.288 508.94 Q130.533 506.417 131.413 504.681 Q132.316 502.922 132.316 501.232 Q132.316 498.477 130.371 496.741 Q128.45 495.005 125.348 495.005 Q123.149 495.005 120.695 495.769 Q118.265 496.533 115.487 498.084 L115.487 493.361 Q118.311 492.227 120.765 491.649 Q123.218 491.07 125.255 491.07 Q130.626 491.07 133.82 493.755 Q137.015 496.44 137.015 500.931 Q137.015 503.061 136.204 504.982 Q135.417 506.88 133.311 509.473 Q132.732 510.144 129.63 513.361 Q126.529 516.556 120.88 522.32 Z\" fill=\"#000000\" fill-rule=\"evenodd\" fill-opacity=\"1\" /><path clip-path=\"url(#clip980)\" d=\"M147.061 491.695 L165.417 491.695 L165.417 495.63 L151.343 495.63 L151.343 504.102 Q152.362 503.755 153.38 503.593 Q154.399 503.408 155.417 503.408 Q161.204 503.408 164.584 506.579 Q167.964 509.75 167.964 515.167 Q167.964 520.746 164.491 523.847 Q161.019 526.926 154.7 526.926 Q152.524 526.926 150.255 526.556 Q148.01 526.185 145.603 525.445 L145.603 520.746 Q147.686 521.88 149.908 522.435 Q152.13 522.991 154.607 522.991 Q158.612 522.991 160.95 520.884 Q163.288 518.778 163.288 515.167 Q163.288 511.556 160.95 509.449 Q158.612 507.343 154.607 507.343 Q152.732 507.343 150.857 507.76 Q149.005 508.176 147.061 509.056 L147.061 491.695 Z\" fill=\"#000000\" fill-rule=\"evenodd\" fill-opacity=\"1\" /><path clip-path=\"url(#clip980)\" d=\"M130.024 282.641 Q133.38 283.359 135.255 285.627 Q137.154 287.896 137.154 291.229 Q137.154 296.345 133.635 299.146 Q130.117 301.946 123.635 301.946 Q121.459 301.946 119.144 301.507 Q116.853 301.09 114.399 300.233 L114.399 295.72 Q116.343 296.854 118.658 297.433 Q120.973 298.011 123.496 298.011 Q127.894 298.011 130.186 296.275 Q132.501 294.539 132.501 291.229 Q132.501 288.173 130.348 286.46 Q128.218 284.724 124.399 284.724 L120.371 284.724 L120.371 280.882 L124.584 280.882 Q128.033 280.882 129.862 279.516 Q131.691 278.127 131.691 275.535 Q131.691 272.873 129.792 271.46 Q127.917 270.025 124.399 270.025 Q122.478 270.025 120.279 270.442 Q118.08 270.859 115.441 271.738 L115.441 267.572 Q118.103 266.831 120.418 266.461 Q122.755 266.09 124.816 266.09 Q130.14 266.09 133.242 268.521 Q136.343 270.928 136.343 275.048 Q136.343 277.919 134.7 279.91 Q133.056 281.877 130.024 282.641 Z\" fill=\"#000000\" fill-rule=\"evenodd\" fill-opacity=\"1\" /><path clip-path=\"url(#clip980)\" d=\"M156.019 269.794 Q152.408 269.794 150.579 273.359 Q148.774 276.9 148.774 284.03 Q148.774 291.136 150.579 294.701 Q152.408 298.243 156.019 298.243 Q159.653 298.243 161.459 294.701 Q163.288 291.136 163.288 284.03 Q163.288 276.9 161.459 273.359 Q159.653 269.794 156.019 269.794 M156.019 266.09 Q161.829 266.09 164.885 270.697 Q167.964 275.28 167.964 284.03 Q167.964 292.757 164.885 297.363 Q161.829 301.946 156.019 301.946 Q150.209 301.946 147.13 297.363 Q144.075 292.757 144.075 284.03 Q144.075 275.28 147.13 270.697 Q150.209 266.09 156.019 266.09 Z\" fill=\"#000000\" fill-rule=\"evenodd\" fill-opacity=\"1\" /><path clip-path=\"url(#clip980)\" d=\"M16.4842 1185.19 L16.4842 1144.99 L21.895 1144.99 L21.895 1161.86 L64.0042 1161.86 L64.0042 1168.32 L21.895 1168.32 L21.895 1185.19 L16.4842 1185.19 Z\" fill=\"#000000\" fill-rule=\"evenodd\" fill-opacity=\"1\" /><path clip-path=\"url(#clip980)\" d=\"M44.7161 1119.62 L47.5806 1119.62 L47.5806 1146.55 Q53.6281 1146.17 56.8109 1142.92 Q59.9619 1139.64 59.9619 1133.82 Q59.9619 1130.44 59.1344 1127.29 Q58.3069 1124.11 56.6518 1120.99 L62.1899 1120.99 Q63.5267 1124.14 64.227 1127.45 Q64.9272 1130.76 64.9272 1134.17 Q64.9272 1142.7 59.9619 1147.69 Q54.9967 1152.66 46.5303 1152.66 Q37.7774 1152.66 32.6531 1147.95 Q27.4968 1143.21 27.4968 1135.18 Q27.4968 1127.99 32.1438 1123.82 Q36.7589 1119.62 44.7161 1119.62 M42.9973 1125.48 Q38.1912 1125.54 35.3266 1128.18 Q32.4621 1130.79 32.4621 1135.12 Q32.4621 1140.02 35.2312 1142.98 Q38.0002 1145.91 43.0292 1146.36 L42.9973 1125.48 Z\" fill=\"#000000\" fill-rule=\"evenodd\" fill-opacity=\"1\" /><path clip-path=\"url(#clip980)\" d=\"M35.1993 1082.25 Q31.2526 1080.06 29.3747 1077 Q27.4968 1073.95 27.4968 1069.81 Q27.4968 1064.24 31.4117 1061.22 Q35.2948 1058.19 42.4881 1058.19 L64.0042 1058.19 L64.0042 1064.08 L42.679 1064.08 Q37.5546 1064.08 35.072 1065.89 Q32.5894 1067.71 32.5894 1071.43 Q32.5894 1075.98 35.6131 1078.63 Q38.6368 1081.27 43.8567 1081.27 L64.0042 1081.27 L64.0042 1087.16 L42.679 1087.16 Q37.5228 1087.16 35.072 1088.97 Q32.5894 1090.78 32.5894 1094.57 Q32.5894 1099.06 35.6449 1101.7 Q38.6686 1104.34 43.8567 1104.34 L64.0042 1104.34 L64.0042 1110.23 L28.3562 1110.23 L28.3562 1104.34 L33.8944 1104.34 Q30.616 1102.34 29.0564 1099.54 Q27.4968 1096.74 27.4968 1092.88 Q27.4968 1089 29.4702 1086.3 Q31.4436 1083.56 35.1993 1082.25 Z\" fill=\"#000000\" fill-rule=\"evenodd\" fill-opacity=\"1\" /><path clip-path=\"url(#clip980)\" d=\"M58.657 1040.84 L77.5631 1040.84 L77.5631 1046.73 L28.3562 1046.73 L28.3562 1040.84 L33.7671 1040.84 Q30.5842 1039 29.0564 1036.2 Q27.4968 1033.37 27.4968 1029.45 Q27.4968 1022.96 32.6531 1018.91 Q37.8093 1014.84 46.212 1014.84 Q54.6147 1014.84 59.771 1018.91 Q64.9272 1022.96 64.9272 1029.45 Q64.9272 1033.37 63.3994 1036.2 Q61.8398 1039 58.657 1040.84 M46.212 1020.92 Q39.7508 1020.92 36.0905 1023.59 Q32.3984 1026.24 32.3984 1030.88 Q32.3984 1035.53 36.0905 1038.2 Q39.7508 1040.84 46.212 1040.84 Q52.6732 1040.84 56.3653 1038.2 Q60.0256 1035.53 60.0256 1030.88 Q60.0256 1026.24 56.3653 1023.59 Q52.6732 1020.92 46.212 1020.92 Z\" fill=\"#000000\" fill-rule=\"evenodd\" fill-opacity=\"1\" /><path clip-path=\"url(#clip980)\" d=\"M44.7161 974.641 L47.5806 974.641 L47.5806 1001.57 Q53.6281 1001.19 56.8109 997.94 Q59.9619 994.662 59.9619 988.837 Q59.9619 985.463 59.1344 982.312 Q58.3069 979.129 56.6518 976.01 L62.1899 976.01 Q63.5267 979.161 64.227 982.471 Q64.9272 985.781 64.9272 989.187 Q64.9272 997.717 59.9619 1002.71 Q54.9967 1007.68 46.5303 1007.68 Q37.7774 1007.68 32.6531 1002.97 Q27.4968 998.226 27.4968 990.206 Q27.4968 983.012 32.1438 978.843 Q36.7589 974.641 44.7161 974.641 M42.9973 980.498 Q38.1912 980.562 35.3266 983.203 Q32.4621 985.813 32.4621 990.142 Q32.4621 995.044 35.2312 998.004 Q38.0002 1000.93 43.0292 1001.38 L42.9973 980.498 Z\" fill=\"#000000\" fill-rule=\"evenodd\" fill-opacity=\"1\" /><path clip-path=\"url(#clip980)\" d=\"M33.8307 944.373 Q33.2578 945.359 33.0032 946.537 Q32.7167 947.683 32.7167 949.083 Q32.7167 954.048 35.9632 956.722 Q39.1779 959.364 45.2253 959.364 L64.0042 959.364 L64.0042 965.252 L28.3562 965.252 L28.3562 959.364 L33.8944 959.364 Q30.6479 957.518 29.0883 954.558 Q27.4968 951.598 27.4968 947.364 Q27.4968 946.76 27.5923 946.028 Q27.656 945.296 27.8151 944.404 L33.8307 944.373 Z\" fill=\"#000000\" fill-rule=\"evenodd\" fill-opacity=\"1\" /><path clip-path=\"url(#clip980)\" d=\"M46.0847 922.029 Q46.0847 929.127 47.7079 931.864 Q49.3312 934.601 53.2461 934.601 Q56.3653 934.601 58.2114 932.564 Q60.0256 930.495 60.0256 926.962 Q60.0256 922.093 56.5881 919.164 Q53.1188 916.204 47.3897 916.204 L46.0847 916.204 L46.0847 922.029 M43.6657 910.348 L64.0042 910.348 L64.0042 916.204 L58.5933 916.204 Q61.8398 918.209 63.3994 921.201 Q64.9272 924.193 64.9272 928.522 Q64.9272 933.996 61.8716 937.243 Q58.7843 940.458 53.6281 940.458 Q47.6125 940.458 44.5569 936.447 Q41.5014 932.405 41.5014 924.416 L41.5014 916.204 L40.9285 916.204 Q36.8862 916.204 34.6901 918.878 Q32.4621 921.52 32.4621 926.326 Q32.4621 929.381 33.1941 932.278 Q33.9262 935.174 35.3903 937.848 L29.9795 937.848 Q28.7381 934.633 28.1334 931.609 Q27.4968 928.586 27.4968 925.721 Q27.4968 917.987 31.5072 914.167 Q35.5176 910.348 43.6657 910.348 Z\" fill=\"#000000\" fill-rule=\"evenodd\" fill-opacity=\"1\" /><path clip-path=\"url(#clip980)\" d=\"M18.2347 892.492 L28.3562 892.492 L28.3562 880.429 L32.9077 880.429 L32.9077 892.492 L52.2594 892.492 Q56.6199 892.492 57.8613 891.314 Q59.1026 890.105 59.1026 886.445 L59.1026 880.429 L64.0042 880.429 L64.0042 886.445 Q64.0042 893.224 61.4897 895.802 Q58.9434 898.38 52.2594 898.38 L32.9077 898.38 L32.9077 902.677 L28.3562 902.677 L28.3562 898.38 L18.2347 898.38 L18.2347 892.492 Z\" fill=\"#000000\" fill-rule=\"evenodd\" fill-opacity=\"1\" /><path clip-path=\"url(#clip980)\" d=\"M49.9359 873.331 L28.3562 873.331 L28.3562 867.475 L49.7131 867.475 Q54.7739 867.475 57.3202 865.501 Q59.8346 863.528 59.8346 859.581 Q59.8346 854.839 56.8109 852.102 Q53.7872 849.333 48.5673 849.333 L28.3562 849.333 L28.3562 843.476 L64.0042 843.476 L64.0042 849.333 L58.5296 849.333 Q61.7762 851.465 63.3676 854.298 Q64.9272 857.099 64.9272 860.823 Q64.9272 866.966 61.1078 870.148 Q57.2883 873.331 49.9359 873.331 M27.4968 858.595 L27.4968 858.595 Z\" fill=\"#000000\" fill-rule=\"evenodd\" fill-opacity=\"1\" /><path clip-path=\"url(#clip980)\" d=\"M33.8307 810.756 Q33.2578 811.743 33.0032 812.921 Q32.7167 814.067 32.7167 815.467 Q32.7167 820.432 35.9632 823.106 Q39.1779 825.748 45.2253 825.748 L64.0042 825.748 L64.0042 831.636 L28.3562 831.636 L28.3562 825.748 L33.8944 825.748 Q30.6479 823.902 29.0883 820.941 Q27.4968 817.981 27.4968 813.748 Q27.4968 813.143 27.5923 812.411 Q27.656 811.679 27.8151 810.788 L33.8307 810.756 Z\" fill=\"#000000\" fill-rule=\"evenodd\" fill-opacity=\"1\" /><path clip-path=\"url(#clip980)\" d=\"M44.7161 775.554 L47.5806 775.554 L47.5806 802.481 Q53.6281 802.099 56.8109 798.852 Q59.9619 795.574 59.9619 789.75 Q59.9619 786.376 59.1344 783.225 Q58.3069 780.042 56.6518 776.923 L62.1899 776.923 Q63.5267 780.074 64.227 783.384 Q64.9272 786.694 64.9272 790.1 Q64.9272 798.63 59.9619 803.627 Q54.9967 808.592 46.5303 808.592 Q37.7774 808.592 32.6531 803.881 Q27.4968 799.139 27.4968 791.118 Q27.4968 783.925 32.1438 779.755 Q36.7589 775.554 44.7161 775.554 M42.9973 781.41 Q38.1912 781.474 35.3266 784.116 Q32.4621 786.726 32.4621 791.054 Q32.4621 795.956 35.2312 798.916 Q38.0002 801.844 43.0292 802.29 L42.9973 781.41 Z\" fill=\"#000000\" fill-rule=\"evenodd\" fill-opacity=\"1\" /><path clip-path=\"url(#clip980)\" d=\"M14.5426 731.153 Q21.8632 735.418 29.0246 737.487 Q36.186 739.556 43.5384 739.556 Q50.8908 739.556 58.1159 737.487 Q65.3091 735.386 72.5979 731.153 L72.5979 736.246 Q65.1182 741.02 57.8931 743.407 Q50.668 745.762 43.5384 745.762 Q36.4406 745.762 29.2474 743.407 Q22.0542 741.052 14.5426 736.246 L14.5426 731.153 Z\" fill=\"#000000\" fill-rule=\"evenodd\" fill-opacity=\"1\" /><path clip-path=\"url(#clip980)\" d=\"M16.4842 719.536 L16.4842 692.227 L21.895 692.227 L21.895 713.106 L35.8996 713.106 L35.8996 694.264 L41.3104 694.264 L41.3104 713.106 L64.0042 713.106 L64.0042 719.536 L16.4842 719.536 Z\" fill=\"#000000\" fill-rule=\"evenodd\" fill-opacity=\"1\" /><path clip-path=\"url(#clip980)\" d=\"M46.0847 672.079 Q46.0847 679.177 47.7079 681.914 Q49.3312 684.652 53.2461 684.652 Q56.3653 684.652 58.2114 682.615 Q60.0256 680.546 60.0256 677.013 Q60.0256 672.143 56.5881 669.215 Q53.1188 666.255 47.3897 666.255 L46.0847 666.255 L46.0847 672.079 M43.6657 660.398 L64.0042 660.398 L64.0042 666.255 L58.5933 666.255 Q61.8398 668.26 63.3994 671.252 Q64.9272 674.244 64.9272 678.572 Q64.9272 684.047 61.8716 687.293 Q58.7843 690.508 53.6281 690.508 Q47.6125 690.508 44.5569 686.498 Q41.5014 682.456 41.5014 674.467 L41.5014 666.255 L40.9285 666.255 Q36.8862 666.255 34.6901 668.928 Q32.4621 671.57 32.4621 676.376 Q32.4621 679.432 33.1941 682.328 Q33.9262 685.225 35.3903 687.898 L29.9795 687.898 Q28.7381 684.684 28.1334 681.66 Q27.4968 678.636 27.4968 675.772 Q27.4968 668.037 31.5072 664.218 Q35.5176 660.398 43.6657 660.398 Z\" fill=\"#000000\" fill-rule=\"evenodd\" fill-opacity=\"1\" /><path clip-path=\"url(#clip980)\" d=\"M42.4881 618.703 L64.0042 618.703 L64.0042 624.559 L42.679 624.559 Q37.6183 624.559 35.1038 626.533 Q32.5894 628.506 32.5894 632.453 Q32.5894 637.195 35.6131 639.933 Q38.6368 642.67 43.8567 642.67 L64.0042 642.67 L64.0042 648.558 L14.479 648.558 L14.479 642.67 L33.8944 642.67 Q30.6797 640.569 29.0883 637.736 Q27.4968 634.872 27.4968 631.148 Q27.4968 625.005 31.3163 621.854 Q35.1038 618.703 42.4881 618.703 Z\" fill=\"#000000\" fill-rule=\"evenodd\" fill-opacity=\"1\" /><path clip-path=\"url(#clip980)\" d=\"M33.8307 586.365 Q33.2578 587.352 33.0032 588.53 Q32.7167 589.675 32.7167 591.076 Q32.7167 596.041 35.9632 598.715 Q39.1779 601.356 45.2253 601.356 L64.0042 601.356 L64.0042 607.245 L28.3562 607.245 L28.3562 601.356 L33.8944 601.356 Q30.6479 599.51 29.0883 596.55 Q27.4968 593.59 27.4968 589.357 Q27.4968 588.752 27.5923 588.02 Q27.656 587.288 27.8151 586.397 L33.8307 586.365 Z\" fill=\"#000000\" fill-rule=\"evenodd\" fill-opacity=\"1\" /><path clip-path=\"url(#clip980)\" d=\"M44.7161 551.163 L47.5806 551.163 L47.5806 578.09 Q53.6281 577.708 56.8109 574.461 Q59.9619 571.183 59.9619 565.358 Q59.9619 561.985 59.1344 558.833 Q58.3069 555.651 56.6518 552.531 L62.1899 552.531 Q63.5267 555.682 64.227 558.993 Q64.9272 562.303 64.9272 565.708 Q64.9272 574.239 59.9619 579.236 Q54.9967 584.201 46.5303 584.201 Q37.7774 584.201 32.6531 579.49 Q27.4968 574.748 27.4968 566.727 Q27.4968 559.534 32.1438 555.364 Q36.7589 551.163 44.7161 551.163 M42.9973 557.019 Q38.1912 557.083 35.3266 559.725 Q32.4621 562.335 32.4621 566.663 Q32.4621 571.565 35.2312 574.525 Q38.0002 577.453 43.0292 577.899 L42.9973 557.019 Z\" fill=\"#000000\" fill-rule=\"evenodd\" fill-opacity=\"1\" /><path clip-path=\"url(#clip980)\" d=\"M42.4881 511.918 L64.0042 511.918 L64.0042 517.775 L42.679 517.775 Q37.6183 517.775 35.1038 519.748 Q32.5894 521.721 32.5894 525.668 Q32.5894 530.411 35.6131 533.148 Q38.6368 535.885 43.8567 535.885 L64.0042 535.885 L64.0042 541.773 L28.3562 541.773 L28.3562 535.885 L33.8944 535.885 Q30.6797 533.784 29.0883 530.952 Q27.4968 528.087 27.4968 524.363 Q27.4968 518.22 31.3163 515.069 Q35.1038 511.918 42.4881 511.918 Z\" fill=\"#000000\" fill-rule=\"evenodd\" fill-opacity=\"1\" /><path clip-path=\"url(#clip980)\" d=\"M42.4881 470.605 L64.0042 470.605 L64.0042 476.461 L42.679 476.461 Q37.6183 476.461 35.1038 478.435 Q32.5894 480.408 32.5894 484.355 Q32.5894 489.097 35.6131 491.834 Q38.6368 494.572 43.8567 494.572 L64.0042 494.572 L64.0042 500.46 L14.479 500.46 L14.479 494.572 L33.8944 494.572 Q30.6797 492.471 29.0883 489.638 Q27.4968 486.774 27.4968 483.05 Q27.4968 476.907 31.3163 473.756 Q35.1038 470.605 42.4881 470.605 Z\" fill=\"#000000\" fill-rule=\"evenodd\" fill-opacity=\"1\" /><path clip-path=\"url(#clip980)\" d=\"M44.7161 428.432 L47.5806 428.432 L47.5806 455.359 Q53.6281 454.977 56.8109 451.73 Q59.9619 448.452 59.9619 442.628 Q59.9619 439.254 59.1344 436.103 Q58.3069 432.92 56.6518 429.801 L62.1899 429.801 Q63.5267 432.952 64.227 436.262 Q64.9272 439.572 64.9272 442.978 Q64.9272 451.508 59.9619 456.505 Q54.9967 461.47 46.5303 461.47 Q37.7774 461.47 32.6531 456.759 Q27.4968 452.017 27.4968 443.996 Q27.4968 436.803 32.1438 432.633 Q36.7589 428.432 44.7161 428.432 M42.9973 434.288 Q38.1912 434.352 35.3266 436.994 Q32.4621 439.604 32.4621 443.932 Q32.4621 448.834 35.2312 451.794 Q38.0002 454.722 43.0292 455.168 L42.9973 434.288 Z\" fill=\"#000000\" fill-rule=\"evenodd\" fill-opacity=\"1\" /><path clip-path=\"url(#clip980)\" d=\"M28.3562 418.82 L28.3562 412.963 L64.0042 412.963 L64.0042 418.82 L28.3562 418.82 M14.479 418.82 L14.479 412.963 L21.895 412.963 L21.895 418.82 L14.479 418.82 Z\" fill=\"#000000\" fill-rule=\"evenodd\" fill-opacity=\"1\" /><path clip-path=\"url(#clip980)\" d=\"M18.2347 394.917 L28.3562 394.917 L28.3562 382.854 L32.9077 382.854 L32.9077 394.917 L52.2594 394.917 Q56.6199 394.917 57.8613 393.739 Q59.1026 392.529 59.1026 388.869 L59.1026 382.854 L64.0042 382.854 L64.0042 388.869 Q64.0042 395.649 61.4897 398.227 Q58.9434 400.805 52.2594 400.805 L32.9077 400.805 L32.9077 405.102 L28.3562 405.102 L28.3562 400.805 L18.2347 400.805 L18.2347 394.917 Z\" fill=\"#000000\" fill-rule=\"evenodd\" fill-opacity=\"1\" /><path clip-path=\"url(#clip980)\" d=\"M14.5426 376.074 L14.5426 370.981 Q22.0542 366.207 29.2474 363.852 Q36.4406 361.465 43.5384 361.465 Q50.668 361.465 57.8931 363.852 Q65.1182 366.207 72.5979 370.981 L72.5979 376.074 Q65.3091 371.841 58.1159 369.772 Q50.8908 367.671 43.5384 367.671 Q36.186 367.671 29.0246 369.772 Q21.8632 371.841 14.5426 376.074 Z\" fill=\"#000000\" fill-rule=\"evenodd\" fill-opacity=\"1\" /><path clip-path=\"url(#clip980)\" d=\"M227.069 12.096 L235.252 12.096 L235.252 68.3631 Q235.252 79.3005 231.079 84.2426 Q226.948 89.1847 217.752 89.1847 L214.633 89.1847 L214.633 82.2982 L217.185 82.2982 Q222.613 82.2982 224.841 79.26 Q227.069 76.2218 227.069 68.3631 L227.069 12.096 Z\" fill=\"#000000\" fill-rule=\"evenodd\" fill-opacity=\"1\" /><path clip-path=\"url(#clip980)\" d=\"M271.832 49.7694 Q262.798 49.7694 259.314 51.8354 Q255.83 53.9013 255.83 58.8839 Q255.83 62.8538 258.423 65.2034 Q261.056 67.5124 265.553 67.5124 Q271.751 67.5124 275.477 63.1374 Q279.245 58.7219 279.245 51.4303 L279.245 49.7694 L271.832 49.7694 M286.698 46.6907 L286.698 72.576 L279.245 72.576 L279.245 65.6895 Q276.693 69.8214 272.885 71.8063 Q269.077 73.7508 263.568 73.7508 Q256.6 73.7508 252.468 69.8619 Q248.377 65.9325 248.377 59.3701 Q248.377 51.7138 253.481 47.825 Q258.626 43.9361 268.793 43.9361 L279.245 43.9361 L279.245 43.2069 Q279.245 38.0623 275.842 35.2672 Q272.48 32.4315 266.363 32.4315 Q262.474 32.4315 258.788 33.3632 Q255.101 34.295 251.699 36.1584 L251.699 29.2718 Q255.79 27.692 259.638 26.9223 Q263.487 26.1121 267.133 26.1121 Q276.976 26.1121 281.837 31.2163 Q286.698 36.3204 286.698 46.6907 Z\" fill=\"#000000\" fill-rule=\"evenodd\" fill-opacity=\"1\" /><path clip-path=\"url(#clip980)\" d=\"M339.765 45.1919 L339.765 72.576 L332.312 72.576 L332.312 45.4349 Q332.312 38.994 329.8 35.7938 Q327.288 32.5936 322.265 32.5936 Q316.229 32.5936 312.746 36.4419 Q309.262 40.2903 309.262 46.9338 L309.262 72.576 L301.768 72.576 L301.768 27.2059 L309.262 27.2059 L309.262 34.2544 Q311.936 30.163 315.541 28.1376 Q319.187 26.1121 323.926 26.1121 Q331.744 26.1121 335.755 30.9732 Q339.765 35.7938 339.765 45.1919 Z\" fill=\"#000000\" fill-rule=\"evenodd\" fill-opacity=\"1\" /><path clip-path=\"url(#clip980)\" d=\"M401.542 20.1573 L390.442 50.2555 L412.682 50.2555 L401.542 20.1573 M396.923 12.096 L406.2 12.096 L429.25 72.576 L420.743 72.576 L415.234 57.061 L387.971 57.061 L382.462 72.576 L373.833 72.576 L396.923 12.096 Z\" fill=\"#000000\" fill-rule=\"evenodd\" fill-opacity=\"1\" /><path clip-path=\"url(#clip980)\" d=\"M427.548 27.2059 L435.448 27.2059 L449.626 65.2844 L463.804 27.2059 L471.703 27.2059 L454.689 72.576 L444.562 72.576 L427.548 27.2059 Z\" fill=\"#000000\" fill-rule=\"evenodd\" fill-opacity=\"1\" /><path clip-path=\"url(#clip980)\" d=\"M520.8 48.0275 L520.8 51.6733 L486.529 51.6733 Q487.016 59.3701 491.148 63.421 Q495.32 67.4314 502.733 67.4314 Q507.027 67.4314 511.037 66.3781 Q515.088 65.3249 519.058 63.2184 L519.058 70.267 Q515.048 71.9684 510.835 72.8596 Q506.622 73.7508 502.288 73.7508 Q491.431 73.7508 485.071 67.4314 Q478.752 61.1119 478.752 50.3365 Q478.752 39.1965 484.747 32.6746 Q490.783 26.1121 500.991 26.1121 Q510.146 26.1121 515.453 32.0264 Q520.8 37.9003 520.8 48.0275 M513.346 45.84 Q513.265 39.7232 509.903 36.0774 Q506.581 32.4315 501.072 32.4315 Q494.834 32.4315 491.067 35.9558 Q487.34 39.4801 486.773 45.8805 L513.346 45.84 Z\" fill=\"#000000\" fill-rule=\"evenodd\" fill-opacity=\"1\" /><path clip-path=\"url(#clip980)\" d=\"M559.324 34.1734 Q558.068 33.4443 556.57 33.1202 Q555.111 32.7556 553.329 32.7556 Q547.009 32.7556 543.607 36.8875 Q540.244 40.9789 540.244 48.6757 L540.244 72.576 L532.75 72.576 L532.75 27.2059 L540.244 27.2059 L540.244 34.2544 Q542.594 30.1225 546.361 28.1376 Q550.129 26.1121 555.516 26.1121 Q556.286 26.1121 557.218 26.2337 Q558.149 26.3147 559.284 26.5172 L559.324 34.1734 Z\" fill=\"#000000\" fill-rule=\"evenodd\" fill-opacity=\"1\" /><path clip-path=\"url(#clip980)\" d=\"M587.762 49.7694 Q578.728 49.7694 575.244 51.8354 Q571.761 53.9013 571.761 58.8839 Q571.761 62.8538 574.353 65.2034 Q576.986 67.5124 581.483 67.5124 Q587.681 67.5124 591.407 63.1374 Q595.175 58.7219 595.175 51.4303 L595.175 49.7694 L587.762 49.7694 M602.628 46.6907 L602.628 72.576 L595.175 72.576 L595.175 65.6895 Q592.623 69.8214 588.815 71.8063 Q585.007 73.7508 579.498 73.7508 Q572.53 73.7508 568.398 69.8619 Q564.307 65.9325 564.307 59.3701 Q564.307 51.7138 569.411 47.825 Q574.556 43.9361 584.723 43.9361 L595.175 43.9361 L595.175 43.2069 Q595.175 38.0623 591.772 35.2672 Q588.41 32.4315 582.293 32.4315 Q578.404 32.4315 574.718 33.3632 Q571.031 34.295 567.629 36.1584 L567.629 29.2718 Q571.72 27.692 575.568 26.9223 Q579.417 26.1121 583.063 26.1121 Q592.906 26.1121 597.767 31.2163 Q602.628 36.3204 602.628 46.6907 Z\" fill=\"#000000\" fill-rule=\"evenodd\" fill-opacity=\"1\" /><path clip-path=\"url(#clip980)\" d=\"M647.836 49.3643 Q647.836 41.2625 644.474 36.8065 Q641.153 32.3505 635.117 32.3505 Q629.121 32.3505 625.759 36.8065 Q622.437 41.2625 622.437 49.3643 Q622.437 57.4256 625.759 61.8816 Q629.121 66.3376 635.117 66.3376 Q641.153 66.3376 644.474 61.8816 Q647.836 57.4256 647.836 49.3643 M655.29 66.9452 Q655.29 78.5308 650.146 84.1616 Q645.001 89.8329 634.387 89.8329 Q630.458 89.8329 626.974 89.2252 Q623.491 88.6581 620.209 87.4428 L620.209 80.1917 Q623.491 81.9741 626.691 82.8248 Q629.891 83.6755 633.213 83.6755 Q640.545 83.6755 644.191 79.8271 Q647.836 76.0193 647.836 68.282 L647.836 64.5957 Q645.527 68.6061 641.922 70.5911 Q638.317 72.576 633.294 72.576 Q624.949 72.576 619.845 66.2161 Q614.741 59.8562 614.741 49.3643 Q614.741 38.832 619.845 32.472 Q624.949 26.1121 633.294 26.1121 Q638.317 26.1121 641.922 28.0971 Q645.527 30.082 647.836 34.0924 L647.836 27.2059 L655.29 27.2059 L655.29 66.9452 Z\" fill=\"#000000\" fill-rule=\"evenodd\" fill-opacity=\"1\" /><path clip-path=\"url(#clip980)\" d=\"M709.451 48.0275 L709.451 51.6733 L675.18 51.6733 Q675.666 59.3701 679.798 63.421 Q683.971 67.4314 691.384 67.4314 Q695.678 67.4314 699.688 66.3781 Q703.739 65.3249 707.709 63.2184 L707.709 70.267 Q703.698 71.9684 699.486 72.8596 Q695.273 73.7508 690.938 73.7508 Q680.082 73.7508 673.722 67.4314 Q667.402 61.1119 667.402 50.3365 Q667.402 39.1965 673.398 32.6746 Q679.434 26.1121 689.642 26.1121 Q698.797 26.1121 704.104 32.0264 Q709.451 37.9003 709.451 48.0275 M701.997 45.84 Q701.916 39.7232 698.554 36.0774 Q695.232 32.4315 689.723 32.4315 Q683.484 32.4315 679.717 35.9558 Q675.99 39.4801 675.423 45.8805 L701.997 45.84 Z\" fill=\"#000000\" fill-rule=\"evenodd\" fill-opacity=\"1\" /><path clip-path=\"url(#clip980)\" d=\"M755.429 14.324 L755.429 27.2059 L770.781 27.2059 L770.781 32.9987 L755.429 32.9987 L755.429 57.6282 Q755.429 63.1779 756.927 64.7578 Q758.467 66.3376 763.125 66.3376 L770.781 66.3376 L770.781 72.576 L763.125 72.576 Q754.497 72.576 751.216 69.3758 Q747.934 66.1351 747.934 57.6282 L747.934 32.9987 L742.466 32.9987 L742.466 27.2059 L747.934 27.2059 L747.934 14.324 L755.429 14.324 Z\" fill=\"#000000\" fill-rule=\"evenodd\" fill-opacity=\"1\" /><path clip-path=\"url(#clip980)\" d=\"M819.392 48.0275 L819.392 51.6733 L785.122 51.6733 Q785.608 59.3701 789.74 63.421 Q793.912 67.4314 801.325 67.4314 Q805.619 67.4314 809.63 66.3781 Q813.681 65.3249 817.65 63.2184 L817.65 70.267 Q813.64 71.9684 809.427 72.8596 Q805.214 73.7508 800.88 73.7508 Q790.023 73.7508 783.663 67.4314 Q777.344 61.1119 777.344 50.3365 Q777.344 39.1965 783.339 32.6746 Q789.375 26.1121 799.583 26.1121 Q808.738 26.1121 814.045 32.0264 Q819.392 37.9003 819.392 48.0275 M811.939 45.84 Q811.858 39.7232 808.495 36.0774 Q805.174 32.4315 799.664 32.4315 Q793.426 32.4315 789.659 35.9558 Q785.932 39.4801 785.365 45.8805 L811.939 45.84 Z\" fill=\"#000000\" fill-rule=\"evenodd\" fill-opacity=\"1\" /><path clip-path=\"url(#clip980)\" d=\"M866.95 35.9153 Q869.745 30.8922 873.634 28.5022 Q877.523 26.1121 882.789 26.1121 Q889.878 26.1121 893.726 31.0947 Q897.575 36.0368 897.575 45.1919 L897.575 72.576 L890.081 72.576 L890.081 45.4349 Q890.081 38.913 887.772 35.7533 Q885.463 32.5936 880.723 32.5936 Q874.93 32.5936 871.568 36.4419 Q868.206 40.2903 868.206 46.9338 L868.206 72.576 L860.712 72.576 L860.712 45.4349 Q860.712 38.8725 858.402 35.7533 Q856.093 32.5936 851.273 32.5936 Q845.561 32.5936 842.199 36.4824 Q838.837 40.3308 838.837 46.9338 L838.837 72.576 L831.342 72.576 L831.342 27.2059 L838.837 27.2059 L838.837 34.2544 Q841.389 30.082 844.953 28.0971 Q848.518 26.1121 853.42 26.1121 Q858.362 26.1121 861.805 28.6237 Q865.289 31.1352 866.95 35.9153 Z\" fill=\"#000000\" fill-rule=\"evenodd\" fill-opacity=\"1\" /><path clip-path=\"url(#clip980)\" d=\"M919.652 65.7705 L919.652 89.8329 L912.158 89.8329 L912.158 27.2059 L919.652 27.2059 L919.652 34.0924 Q922.002 30.0415 925.566 28.0971 Q929.172 26.1121 934.154 26.1121 Q942.418 26.1121 947.563 32.6746 Q952.748 39.2371 952.748 49.9314 Q952.748 60.6258 947.563 67.1883 Q942.418 73.7508 934.154 73.7508 Q929.172 73.7508 925.566 71.8063 Q922.002 69.8214 919.652 65.7705 M945.011 49.9314 Q945.011 41.7081 941.608 37.0496 Q938.246 32.3505 932.332 32.3505 Q926.417 32.3505 923.014 37.0496 Q919.652 41.7081 919.652 49.9314 Q919.652 58.1548 923.014 62.8538 Q926.417 67.5124 932.332 67.5124 Q938.246 67.5124 941.608 62.8538 Q945.011 58.1548 945.011 49.9314 Z\" fill=\"#000000\" fill-rule=\"evenodd\" fill-opacity=\"1\" /><path clip-path=\"url(#clip980)\" d=\"M993.946 65.6895 L1007.31 65.6895 L1007.31 19.5497 L992.771 22.4663 L992.771 15.0127 L1007.23 12.096 L1015.42 12.096 L1015.42 65.6895 L1028.78 65.6895 L1028.78 72.576 L993.946 72.576 L993.946 65.6895 Z\" fill=\"#000000\" fill-rule=\"evenodd\" fill-opacity=\"1\" /><path clip-path=\"url(#clip980)\" d=\"M1045.55 71.3202 L1045.55 63.8666 Q1048.63 65.3249 1051.79 66.0946 Q1054.95 66.8642 1057.99 66.8642 Q1066.09 66.8642 1070.35 61.436 Q1074.64 55.9673 1075.25 44.8678 Q1072.9 48.3516 1069.29 50.215 Q1065.69 52.0784 1061.31 52.0784 Q1052.24 52.0784 1046.93 46.6097 Q1041.67 41.1005 1041.67 31.5808 Q1041.67 22.2638 1047.17 16.633 Q1052.68 11.0023 1061.84 11.0023 Q1072.33 11.0023 1077.84 19.0636 Q1083.39 27.0843 1083.39 42.3968 Q1083.39 56.6965 1076.58 65.2439 Q1069.82 73.7508 1058.36 73.7508 Q1055.28 73.7508 1052.12 73.1431 Q1048.96 72.5355 1045.55 71.3202 M1061.84 45.678 Q1067.35 45.678 1070.55 41.9107 Q1073.79 38.1433 1073.79 31.5808 Q1073.79 25.0589 1070.55 21.2916 Q1067.35 17.4837 1061.84 17.4837 Q1056.33 17.4837 1053.09 21.2916 Q1049.89 25.0589 1049.89 31.5808 Q1049.89 38.1433 1053.09 41.9107 Q1056.33 45.678 1061.84 45.678 Z\" fill=\"#000000\" fill-rule=\"evenodd\" fill-opacity=\"1\" /><path clip-path=\"url(#clip980)\" d=\"M1105.14 65.6895 L1133.7 65.6895 L1133.7 72.576 L1095.3 72.576 L1095.3 65.6895 Q1099.96 60.8689 1107.98 52.7671 Q1116.04 44.6248 1118.11 42.2752 Q1122.04 37.8598 1123.57 34.8216 Q1125.15 31.7429 1125.15 28.7857 Q1125.15 23.9651 1121.75 20.927 Q1118.39 17.8888 1112.96 17.8888 Q1109.11 17.8888 1104.82 19.2256 Q1100.57 20.5624 1095.7 23.2765 L1095.7 15.0127 Q1100.65 13.0277 1104.94 12.015 Q1109.23 11.0023 1112.8 11.0023 Q1122.2 11.0023 1127.79 15.7013 Q1133.38 20.4004 1133.38 28.2591 Q1133.38 31.9859 1131.96 35.3482 Q1130.58 38.6699 1126.9 43.2069 Q1125.88 44.3817 1120.46 50.0125 Q1115.03 55.6027 1105.14 65.6895 Z\" fill=\"#000000\" fill-rule=\"evenodd\" fill-opacity=\"1\" /><path clip-path=\"url(#clip980)\" d=\"M1157.93 65.6895 L1186.49 65.6895 L1186.49 72.576 L1148.08 72.576 L1148.08 65.6895 Q1152.74 60.8689 1160.76 52.7671 Q1168.82 44.6248 1170.89 42.2752 Q1174.82 37.8598 1176.36 34.8216 Q1177.94 31.7429 1177.94 28.7857 Q1177.94 23.9651 1174.54 20.927 Q1171.17 17.8888 1165.74 17.8888 Q1161.9 17.8888 1157.6 19.2256 Q1153.35 20.5624 1148.49 23.2765 L1148.49 15.0127 Q1153.43 13.0277 1157.72 12.015 Q1162.02 11.0023 1165.58 11.0023 Q1174.98 11.0023 1180.57 15.7013 Q1186.16 20.4004 1186.16 28.2591 Q1186.16 31.9859 1184.74 35.3482 Q1183.37 38.6699 1179.68 43.2069 Q1178.67 44.3817 1173.24 50.0125 Q1167.81 55.6027 1157.93 65.6895 Z\" fill=\"#000000\" fill-rule=\"evenodd\" fill-opacity=\"1\" /><path clip-path=\"url(#clip980)\" d=\"M1223.63 27.2059 L1231.53 27.2059 L1245.71 65.2844 L1259.89 27.2059 L1267.79 27.2059 L1250.77 72.576 L1240.65 72.576 L1223.63 27.2059 Z\" fill=\"#000000\" fill-rule=\"evenodd\" fill-opacity=\"1\" /><path clip-path=\"url(#clip980)\" d=\"M1307 28.5427 L1307 35.5912 Q1303.84 33.9709 1300.44 33.1607 Q1297.03 32.3505 1293.39 32.3505 Q1287.84 32.3505 1285.04 34.0519 Q1282.29 35.7533 1282.29 39.156 Q1282.29 41.7486 1284.27 43.2475 Q1286.26 44.7058 1292.25 46.0426 L1294.81 46.6097 Q1302.75 48.3111 1306.07 51.4303 Q1309.43 54.509 1309.43 60.0587 Q1309.43 66.3781 1304.41 70.0644 Q1299.42 73.7508 1290.67 73.7508 Q1287.03 73.7508 1283.06 73.0216 Q1279.13 72.3329 1274.75 70.9151 L1274.75 63.2184 Q1278.89 65.3654 1282.9 66.4591 Q1286.91 67.5124 1290.84 67.5124 Q1296.1 67.5124 1298.94 65.73 Q1301.77 63.9071 1301.77 60.6258 Q1301.77 57.5877 1299.71 55.9673 Q1297.68 54.3469 1290.76 52.8481 L1288.16 52.2405 Q1281.24 50.7821 1278.16 47.7845 Q1275.08 44.7463 1275.08 39.4801 Q1275.08 33.0797 1279.62 29.5959 Q1284.15 26.1121 1292.5 26.1121 Q1296.63 26.1121 1300.28 26.7198 Q1303.92 27.3274 1307 28.5427 Z\" fill=\"#000000\" fill-rule=\"evenodd\" fill-opacity=\"1\" /><path clip-path=\"url(#clip980)\" d=\"M1347.99 12.096 L1356.18 12.096 L1356.18 68.3631 Q1356.18 79.3005 1352.01 84.2426 Q1347.87 89.1847 1338.68 89.1847 L1335.56 89.1847 L1335.56 82.2982 L1338.11 82.2982 Q1343.54 82.2982 1345.77 79.26 Q1347.99 76.2218 1347.99 68.3631 L1347.99 12.096 Z\" fill=\"#000000\" fill-rule=\"evenodd\" fill-opacity=\"1\" /><path clip-path=\"url(#clip980)\" d=\"M1392.76 49.7694 Q1383.72 49.7694 1380.24 51.8354 Q1376.76 53.9013 1376.76 58.8839 Q1376.76 62.8538 1379.35 65.2034 Q1381.98 67.5124 1386.48 67.5124 Q1392.68 67.5124 1396.4 63.1374 Q1400.17 58.7219 1400.17 51.4303 L1400.17 49.7694 L1392.76 49.7694 M1407.62 46.6907 L1407.62 72.576 L1400.17 72.576 L1400.17 65.6895 Q1397.62 69.8214 1393.81 71.8063 Q1390 73.7508 1384.49 73.7508 Q1377.53 73.7508 1373.39 69.8619 Q1369.3 65.9325 1369.3 59.3701 Q1369.3 51.7138 1374.41 47.825 Q1379.55 43.9361 1389.72 43.9361 L1400.17 43.9361 L1400.17 43.2069 Q1400.17 38.0623 1396.77 35.2672 Q1393.41 32.4315 1387.29 32.4315 Q1383.4 32.4315 1379.71 33.3632 Q1376.03 34.295 1372.62 36.1584 L1372.62 29.2718 Q1376.72 27.692 1380.56 26.9223 Q1384.41 26.1121 1388.06 26.1121 Q1397.9 26.1121 1402.76 31.2163 Q1407.62 36.3204 1407.62 46.6907 Z\" fill=\"#000000\" fill-rule=\"evenodd\" fill-opacity=\"1\" /><path clip-path=\"url(#clip980)\" d=\"M1460.69 45.1919 L1460.69 72.576 L1453.24 72.576 L1453.24 45.4349 Q1453.24 38.994 1450.73 35.7938 Q1448.21 32.5936 1443.19 32.5936 Q1437.16 32.5936 1433.67 36.4419 Q1430.19 40.2903 1430.19 46.9338 L1430.19 72.576 L1422.69 72.576 L1422.69 27.2059 L1430.19 27.2059 L1430.19 34.2544 Q1432.86 30.163 1436.47 28.1376 Q1440.11 26.1121 1444.85 26.1121 Q1452.67 26.1121 1456.68 30.9732 Q1460.69 35.7938 1460.69 45.1919 Z\" fill=\"#000000\" fill-rule=\"evenodd\" fill-opacity=\"1\" /><path clip-path=\"url(#clip980)\" d=\"M1522.47 20.1573 L1511.37 50.2555 L1533.61 50.2555 L1522.47 20.1573 M1517.85 12.096 L1527.13 12.096 L1550.18 72.576 L1541.67 72.576 L1536.16 57.061 L1508.9 57.061 L1503.39 72.576 L1494.76 72.576 L1517.85 12.096 Z\" fill=\"#000000\" fill-rule=\"evenodd\" fill-opacity=\"1\" /><path clip-path=\"url(#clip980)\" d=\"M1548.47 27.2059 L1556.37 27.2059 L1570.55 65.2844 L1584.73 27.2059 L1592.63 27.2059 L1575.62 72.576 L1565.49 72.576 L1548.47 27.2059 Z\" fill=\"#000000\" fill-rule=\"evenodd\" fill-opacity=\"1\" /><path clip-path=\"url(#clip980)\" d=\"M1641.73 48.0275 L1641.73 51.6733 L1607.46 51.6733 Q1607.94 59.3701 1612.07 63.421 Q1616.25 67.4314 1623.66 67.4314 Q1627.95 67.4314 1631.96 66.3781 Q1636.01 65.3249 1639.98 63.2184 L1639.98 70.267 Q1635.97 71.9684 1631.76 72.8596 Q1627.55 73.7508 1623.21 73.7508 Q1612.36 73.7508 1606 67.4314 Q1599.68 61.1119 1599.68 50.3365 Q1599.68 39.1965 1605.67 32.6746 Q1611.71 26.1121 1621.92 26.1121 Q1631.07 26.1121 1636.38 32.0264 Q1641.73 37.9003 1641.73 48.0275 M1634.27 45.84 Q1634.19 39.7232 1630.83 36.0774 Q1627.51 32.4315 1622 32.4315 Q1615.76 32.4315 1611.99 35.9558 Q1608.27 39.4801 1607.7 45.8805 L1634.27 45.84 Z\" fill=\"#000000\" fill-rule=\"evenodd\" fill-opacity=\"1\" /><path clip-path=\"url(#clip980)\" d=\"M1680.25 34.1734 Q1678.99 33.4443 1677.5 33.1202 Q1676.04 32.7556 1674.25 32.7556 Q1667.94 32.7556 1664.53 36.8875 Q1661.17 40.9789 1661.17 48.6757 L1661.17 72.576 L1653.68 72.576 L1653.68 27.2059 L1661.17 27.2059 L1661.17 34.2544 Q1663.52 30.1225 1667.29 28.1376 Q1671.05 26.1121 1676.44 26.1121 Q1677.21 26.1121 1678.14 26.2337 Q1679.08 26.3147 1680.21 26.5172 L1680.25 34.1734 Z\" fill=\"#000000\" fill-rule=\"evenodd\" fill-opacity=\"1\" /><path clip-path=\"url(#clip980)\" d=\"M1708.69 49.7694 Q1699.65 49.7694 1696.17 51.8354 Q1692.69 53.9013 1692.69 58.8839 Q1692.69 62.8538 1695.28 65.2034 Q1697.91 67.5124 1702.41 67.5124 Q1708.61 67.5124 1712.33 63.1374 Q1716.1 58.7219 1716.1 51.4303 L1716.1 49.7694 L1708.69 49.7694 M1723.55 46.6907 L1723.55 72.576 L1716.1 72.576 L1716.1 65.6895 Q1713.55 69.8214 1709.74 71.8063 Q1705.93 73.7508 1700.42 73.7508 Q1693.46 73.7508 1689.32 69.8619 Q1685.23 65.9325 1685.23 59.3701 Q1685.23 51.7138 1690.34 47.825 Q1695.48 43.9361 1705.65 43.9361 L1716.1 43.9361 L1716.1 43.2069 Q1716.1 38.0623 1712.7 35.2672 Q1709.34 32.4315 1703.22 32.4315 Q1699.33 32.4315 1695.64 33.3632 Q1691.96 34.295 1688.55 36.1584 L1688.55 29.2718 Q1692.65 27.692 1696.49 26.9223 Q1700.34 26.1121 1703.99 26.1121 Q1713.83 26.1121 1718.69 31.2163 Q1723.55 36.3204 1723.55 46.6907 Z\" fill=\"#000000\" fill-rule=\"evenodd\" fill-opacity=\"1\" /><path clip-path=\"url(#clip980)\" d=\"M1768.76 49.3643 Q1768.76 41.2625 1765.4 36.8065 Q1762.08 32.3505 1756.04 32.3505 Q1750.05 32.3505 1746.68 36.8065 Q1743.36 41.2625 1743.36 49.3643 Q1743.36 57.4256 1746.68 61.8816 Q1750.05 66.3376 1756.04 66.3376 Q1762.08 66.3376 1765.4 61.8816 Q1768.76 57.4256 1768.76 49.3643 M1776.22 66.9452 Q1776.22 78.5308 1771.07 84.1616 Q1765.93 89.8329 1755.31 89.8329 Q1751.38 89.8329 1747.9 89.2252 Q1744.42 88.6581 1741.14 87.4428 L1741.14 80.1917 Q1744.42 81.9741 1747.62 82.8248 Q1750.82 83.6755 1754.14 83.6755 Q1761.47 83.6755 1765.12 79.8271 Q1768.76 76.0193 1768.76 68.282 L1768.76 64.5957 Q1766.45 68.6061 1762.85 70.5911 Q1759.24 72.576 1754.22 72.576 Q1745.87 72.576 1740.77 66.2161 Q1735.67 59.8562 1735.67 49.3643 Q1735.67 38.832 1740.77 32.472 Q1745.87 26.1121 1754.22 26.1121 Q1759.24 26.1121 1762.85 28.0971 Q1766.45 30.082 1768.76 34.0924 L1768.76 27.2059 L1776.22 27.2059 L1776.22 66.9452 Z\" fill=\"#000000\" fill-rule=\"evenodd\" fill-opacity=\"1\" /><path clip-path=\"url(#clip980)\" d=\"M1830.38 48.0275 L1830.38 51.6733 L1796.11 51.6733 Q1796.59 59.3701 1800.72 63.421 Q1804.9 67.4314 1812.31 67.4314 Q1816.6 67.4314 1820.61 66.3781 Q1824.66 65.3249 1828.63 63.2184 L1828.63 70.267 Q1824.62 71.9684 1820.41 72.8596 Q1816.2 73.7508 1811.86 73.7508 Q1801.01 73.7508 1794.65 67.4314 Q1788.33 61.1119 1788.33 50.3365 Q1788.33 39.1965 1794.32 32.6746 Q1800.36 26.1121 1810.57 26.1121 Q1819.72 26.1121 1825.03 32.0264 Q1830.38 37.9003 1830.38 48.0275 M1822.92 45.84 Q1822.84 39.7232 1819.48 36.0774 Q1816.16 32.4315 1810.65 32.4315 Q1804.41 32.4315 1800.64 35.9558 Q1796.92 39.4801 1796.35 45.8805 L1822.92 45.84 Z\" fill=\"#000000\" fill-rule=\"evenodd\" fill-opacity=\"1\" /><path clip-path=\"url(#clip980)\" d=\"M1876.35 14.324 L1876.35 27.2059 L1891.71 27.2059 L1891.71 32.9987 L1876.35 32.9987 L1876.35 57.6282 Q1876.35 63.1779 1877.85 64.7578 Q1879.39 66.3376 1884.05 66.3376 L1891.71 66.3376 L1891.71 72.576 L1884.05 72.576 Q1875.42 72.576 1872.14 69.3758 Q1868.86 66.1351 1868.86 57.6282 L1868.86 32.9987 L1863.39 32.9987 L1863.39 27.2059 L1868.86 27.2059 L1868.86 14.324 L1876.35 14.324 Z\" fill=\"#000000\" fill-rule=\"evenodd\" fill-opacity=\"1\" /><path clip-path=\"url(#clip980)\" d=\"M1940.32 48.0275 L1940.32 51.6733 L1906.05 51.6733 Q1906.53 59.3701 1910.67 63.421 Q1914.84 67.4314 1922.25 67.4314 Q1926.54 67.4314 1930.56 66.3781 Q1934.61 65.3249 1938.58 63.2184 L1938.58 70.267 Q1934.57 71.9684 1930.35 72.8596 Q1926.14 73.7508 1921.81 73.7508 Q1910.95 73.7508 1904.59 67.4314 Q1898.27 61.1119 1898.27 50.3365 Q1898.27 39.1965 1904.26 32.6746 Q1910.3 26.1121 1920.51 26.1121 Q1929.66 26.1121 1934.97 32.0264 Q1940.32 37.9003 1940.32 48.0275 M1932.86 45.84 Q1932.78 39.7232 1929.42 36.0774 Q1926.1 32.4315 1920.59 32.4315 Q1914.35 32.4315 1910.58 35.9558 Q1906.86 39.4801 1906.29 45.8805 L1932.86 45.84 Z\" fill=\"#000000\" fill-rule=\"evenodd\" fill-opacity=\"1\" /><path clip-path=\"url(#clip980)\" d=\"M1987.88 35.9153 Q1990.67 30.8922 1994.56 28.5022 Q1998.45 26.1121 2003.71 26.1121 Q2010.8 26.1121 2014.65 31.0947 Q2018.5 36.0368 2018.5 45.1919 L2018.5 72.576 L2011.01 72.576 L2011.01 45.4349 Q2011.01 38.913 2008.7 35.7533 Q2006.39 32.5936 2001.65 32.5936 Q1995.86 32.5936 1992.49 36.4419 Q1989.13 40.2903 1989.13 46.9338 L1989.13 72.576 L1981.64 72.576 L1981.64 45.4349 Q1981.64 38.8725 1979.33 35.7533 Q1977.02 32.5936 1972.2 32.5936 Q1966.49 32.5936 1963.12 36.4824 Q1959.76 40.3308 1959.76 46.9338 L1959.76 72.576 L1952.27 72.576 L1952.27 27.2059 L1959.76 27.2059 L1959.76 34.2544 Q1962.31 30.082 1965.88 28.0971 Q1969.44 26.1121 1974.35 26.1121 Q1979.29 26.1121 1982.73 28.6237 Q1986.21 31.1352 1987.88 35.9153 Z\" fill=\"#000000\" fill-rule=\"evenodd\" fill-opacity=\"1\" /><path clip-path=\"url(#clip980)\" d=\"M2040.58 65.7705 L2040.58 89.8329 L2033.08 89.8329 L2033.08 27.2059 L2040.58 27.2059 L2040.58 34.0924 Q2042.93 30.0415 2046.49 28.0971 Q2050.1 26.1121 2055.08 26.1121 Q2063.34 26.1121 2068.49 32.6746 Q2073.67 39.2371 2073.67 49.9314 Q2073.67 60.6258 2068.49 67.1883 Q2063.34 73.7508 2055.08 73.7508 Q2050.1 73.7508 2046.49 71.8063 Q2042.93 69.8214 2040.58 65.7705 M2065.94 49.9314 Q2065.94 41.7081 2062.53 37.0496 Q2059.17 32.3505 2053.26 32.3505 Q2047.34 32.3505 2043.94 37.0496 Q2040.58 41.7081 2040.58 49.9314 Q2040.58 58.1548 2043.94 62.8538 Q2047.34 67.5124 2053.26 67.5124 Q2059.17 67.5124 2062.53 62.8538 Q2065.94 58.1548 2065.94 49.9314 Z\" fill=\"#000000\" fill-rule=\"evenodd\" fill-opacity=\"1\" /><path clip-path=\"url(#clip980)\" d=\"M2120.5 65.6895 L2149.06 65.6895 L2149.06 72.576 L2110.66 72.576 L2110.66 65.6895 Q2115.32 60.8689 2123.34 52.7671 Q2131.4 44.6248 2133.47 42.2752 Q2137.39 37.8598 2138.93 34.8216 Q2140.51 31.7429 2140.51 28.7857 Q2140.51 23.9651 2137.11 20.927 Q2133.75 17.8888 2128.32 17.8888 Q2124.47 17.8888 2120.18 19.2256 Q2115.92 20.5624 2111.06 23.2765 L2111.06 15.0127 Q2116.01 13.0277 2120.3 12.015 Q2124.59 11.0023 2128.16 11.0023 Q2137.56 11.0023 2143.15 15.7013 Q2148.74 20.4004 2148.74 28.2591 Q2148.74 31.9859 2147.32 35.3482 Q2145.94 38.6699 2142.26 43.2069 Q2141.24 44.3817 2135.81 50.0125 Q2130.39 55.6027 2120.5 65.6895 Z\" fill=\"#000000\" fill-rule=\"evenodd\" fill-opacity=\"1\" /><path clip-path=\"url(#clip980)\" d=\"M2183.74 17.4837 Q2177.42 17.4837 2174.22 23.7221 Q2171.06 29.92 2171.06 42.3968 Q2171.06 54.833 2174.22 61.0714 Q2177.42 67.2693 2183.74 67.2693 Q2190.1 67.2693 2193.26 61.0714 Q2196.46 54.833 2196.46 42.3968 Q2196.46 29.92 2193.26 23.7221 Q2190.1 17.4837 2183.74 17.4837 M2183.74 11.0023 Q2193.9 11.0023 2199.25 19.0636 Q2204.64 27.0843 2204.64 42.3968 Q2204.64 57.6687 2199.25 65.73 Q2193.9 73.7508 2183.74 73.7508 Q2173.57 73.7508 2168.18 65.73 Q2162.83 57.6687 2162.83 42.3968 Q2162.83 27.0843 2168.18 19.0636 Q2173.57 11.0023 2183.74 11.0023 Z\" fill=\"#000000\" fill-rule=\"evenodd\" fill-opacity=\"1\" /><path clip-path=\"url(#clip980)\" d=\"M2220.44 65.6895 L2233.81 65.6895 L2233.81 19.5497 L2219.26 22.4663 L2219.26 15.0127 L2233.72 12.096 L2241.91 12.096 L2241.91 65.6895 L2255.28 65.6895 L2255.28 72.576 L2220.44 72.576 L2220.44 65.6895 Z\" fill=\"#000000\" fill-rule=\"evenodd\" fill-opacity=\"1\" /><path clip-path=\"url(#clip980)\" d=\"M2278.85 65.6895 L2307.41 65.6895 L2307.41 72.576 L2269.01 72.576 L2269.01 65.6895 Q2273.67 60.8689 2281.69 52.7671 Q2289.75 44.6248 2291.81 42.2752 Q2295.74 37.8598 2297.28 34.8216 Q2298.86 31.7429 2298.86 28.7857 Q2298.86 23.9651 2295.46 20.927 Q2292.1 17.8888 2286.67 17.8888 Q2282.82 17.8888 2278.53 19.2256 Q2274.27 20.5624 2269.41 23.2765 L2269.41 15.0127 Q2274.36 13.0277 2278.65 12.015 Q2282.94 11.0023 2286.51 11.0023 Q2295.91 11.0023 2301.5 15.7013 Q2307.09 20.4004 2307.09 28.2591 Q2307.09 31.9859 2305.67 35.3482 Q2304.29 38.6699 2300.61 43.2069 Q2299.59 44.3817 2294.16 50.0125 Q2288.74 55.6027 2278.85 65.6895 Z\" fill=\"#000000\" fill-rule=\"evenodd\" fill-opacity=\"1\" /><polyline clip-path=\"url(#clip982)\" style=\"stroke:#009af9; stroke-linecap:round; stroke-linejoin:round; stroke-width:4; stroke-opacity:1; fill:none\" points=\"\n",
       "  264.778,992.681 467.495,804.598 670.211,1379.65 872.927,878.841 1075.64,646.212 1278.36,950.835 1481.08,549.471 1683.79,1386.4 1886.51,929.687 2089.22,534.623 \n",
       "  2291.94,385.236 \n",
       "  \"/>\n",
       "<polyline clip-path=\"url(#clip982)\" style=\"stroke:#e26f46; stroke-linecap:round; stroke-linejoin:round; stroke-width:4; stroke-opacity:1; fill:none\" points=\"\n",
       "  264.778,173.755 467.495,254.748 670.211,700.208 872.927,668.71 1075.64,585.468 1278.36,490.976 1481.08,556.221 1683.79,585.468 1886.51,160.256 2089.22,243.499 \n",
       "  2291.94,547.221 \n",
       "  \"/>\n",
       "<path clip-path=\"url(#clip980)\" d=\"\n",
       "M1666 1379.86 L2281.13 1379.86 L2281.13 1224.34 L1666 1224.34  Z\n",
       "  \" fill=\"#ffffff\" fill-rule=\"evenodd\" fill-opacity=\"1\"/>\n",
       "<polyline clip-path=\"url(#clip980)\" style=\"stroke:#000000; stroke-linecap:round; stroke-linejoin:round; stroke-width:4; stroke-opacity:1; fill:none\" points=\"\n",
       "  1666,1379.86 2281.13,1379.86 2281.13,1224.34 1666,1224.34 1666,1379.86 \n",
       "  \"/>\n",
       "<polyline clip-path=\"url(#clip980)\" style=\"stroke:#009af9; stroke-linecap:round; stroke-linejoin:round; stroke-width:4; stroke-opacity:1; fill:none\" points=\"\n",
       "  1689.87,1276.18 1833.13,1276.18 \n",
       "  \"/>\n",
       "<path clip-path=\"url(#clip980)\" d=\"M1862.33 1267.53 L1866.58 1267.53 L1866.58 1293.92 Q1866.58 1298.87 1864.69 1301.1 Q1862.81 1303.32 1858.62 1303.32 L1857 1303.32 L1857 1299.71 L1858.14 1299.71 Q1860.57 1299.71 1861.45 1298.57 Q1862.33 1297.46 1862.33 1293.92 L1862.33 1267.53 M1862.33 1257.44 L1866.58 1257.44 L1866.58 1262.83 L1862.33 1262.83 L1862.33 1257.44 Z\" fill=\"#000000\" fill-rule=\"evenodd\" fill-opacity=\"1\" /><path clip-path=\"url(#clip980)\" d=\"M1887.28 1280.42 Q1882.12 1280.42 1880.13 1281.6 Q1878.14 1282.79 1878.14 1285.63 Q1878.14 1287.9 1879.62 1289.24 Q1881.12 1290.56 1883.69 1290.56 Q1887.23 1290.56 1889.36 1288.06 Q1891.52 1285.54 1891.52 1281.37 L1891.52 1280.42 L1887.28 1280.42 M1895.77 1278.66 L1895.77 1293.46 L1891.52 1293.46 L1891.52 1289.52 Q1890.06 1291.88 1887.88 1293.02 Q1885.71 1294.13 1882.56 1294.13 Q1878.58 1294.13 1876.21 1291.91 Q1873.88 1289.66 1873.88 1285.91 Q1873.88 1281.54 1876.79 1279.31 Q1879.73 1277.09 1885.54 1277.09 L1891.52 1277.09 L1891.52 1276.67 Q1891.52 1273.73 1889.57 1272.14 Q1887.65 1270.52 1884.15 1270.52 Q1881.93 1270.52 1879.83 1271.05 Q1877.72 1271.58 1875.77 1272.65 L1875.77 1268.71 Q1878.11 1267.81 1880.31 1267.37 Q1882.51 1266.91 1884.59 1266.91 Q1890.22 1266.91 1893 1269.82 Q1895.77 1272.74 1895.77 1278.66 Z\" fill=\"#000000\" fill-rule=\"evenodd\" fill-opacity=\"1\" /><path clip-path=\"url(#clip980)\" d=\"M1926.1 1277.81 L1926.1 1293.46 L1921.84 1293.46 L1921.84 1277.95 Q1921.84 1274.27 1920.4 1272.44 Q1918.97 1270.61 1916.1 1270.61 Q1912.65 1270.61 1910.66 1272.81 Q1908.67 1275.01 1908.67 1278.8 L1908.67 1293.46 L1904.39 1293.46 L1904.39 1267.53 L1908.67 1267.53 L1908.67 1271.56 Q1910.2 1269.22 1912.26 1268.06 Q1914.34 1266.91 1917.05 1266.91 Q1921.52 1266.91 1923.81 1269.68 Q1926.1 1272.44 1926.1 1277.81 Z\" fill=\"#000000\" fill-rule=\"evenodd\" fill-opacity=\"1\" /><path clip-path=\"url(#clip980)\" d=\"M1938.81 1260.17 L1938.81 1267.53 L1947.58 1267.53 L1947.58 1270.84 L1938.81 1270.84 L1938.81 1284.91 Q1938.81 1288.09 1939.66 1288.99 Q1940.54 1289.89 1943.2 1289.89 L1947.58 1289.89 L1947.58 1293.46 L1943.2 1293.46 Q1938.27 1293.46 1936.4 1291.63 Q1934.52 1289.78 1934.52 1284.91 L1934.52 1270.84 L1931.4 1270.84 L1931.4 1267.53 L1934.52 1267.53 L1934.52 1260.17 L1938.81 1260.17 Z\" fill=\"#000000\" fill-rule=\"evenodd\" fill-opacity=\"1\" /><path clip-path=\"url(#clip980)\" d=\"M1975.36 1279.43 L1975.36 1281.51 L1955.77 1281.51 Q1956.05 1285.91 1958.41 1288.22 Q1960.8 1290.52 1965.03 1290.52 Q1967.49 1290.52 1969.78 1289.91 Q1972.09 1289.31 1974.36 1288.11 L1974.36 1292.14 Q1972.07 1293.11 1969.66 1293.62 Q1967.26 1294.13 1964.78 1294.13 Q1958.58 1294.13 1954.94 1290.52 Q1951.33 1286.91 1951.33 1280.75 Q1951.33 1274.38 1954.76 1270.66 Q1958.2 1266.91 1964.04 1266.91 Q1969.27 1266.91 1972.3 1270.29 Q1975.36 1273.64 1975.36 1279.43 M1971.1 1278.18 Q1971.05 1274.68 1969.13 1272.6 Q1967.23 1270.52 1964.08 1270.52 Q1960.52 1270.52 1958.37 1272.53 Q1956.24 1274.54 1955.91 1278.2 L1971.1 1278.18 Z\" fill=\"#000000\" fill-rule=\"evenodd\" fill-opacity=\"1\" /><path clip-path=\"url(#clip980)\" d=\"M2002.53 1272.51 Q2004.13 1269.64 2006.35 1268.27 Q2008.57 1266.91 2011.58 1266.91 Q2015.63 1266.91 2017.83 1269.75 Q2020.03 1272.58 2020.03 1277.81 L2020.03 1293.46 L2015.75 1293.46 L2015.75 1277.95 Q2015.75 1274.22 2014.43 1272.41 Q2013.11 1270.61 2010.4 1270.61 Q2007.09 1270.61 2005.17 1272.81 Q2003.25 1275.01 2003.25 1278.8 L2003.25 1293.46 L1998.97 1293.46 L1998.97 1277.95 Q1998.97 1274.2 1997.65 1272.41 Q1996.33 1270.61 1993.57 1270.61 Q1990.31 1270.61 1988.39 1272.83 Q1986.47 1275.03 1986.47 1278.8 L1986.47 1293.46 L1982.19 1293.46 L1982.19 1267.53 L1986.47 1267.53 L1986.47 1271.56 Q1987.93 1269.17 1989.96 1268.04 Q1992 1266.91 1994.8 1266.91 Q1997.63 1266.91 1999.59 1268.34 Q2001.58 1269.78 2002.53 1272.51 Z\" fill=\"#000000\" fill-rule=\"evenodd\" fill-opacity=\"1\" /><path clip-path=\"url(#clip980)\" d=\"M2032.65 1289.57 L2032.65 1303.32 L2028.37 1303.32 L2028.37 1267.53 L2032.65 1267.53 L2032.65 1271.47 Q2033.99 1269.15 2036.03 1268.04 Q2038.09 1266.91 2040.94 1266.91 Q2045.66 1266.91 2048.6 1270.66 Q2051.56 1274.41 2051.56 1280.52 Q2051.56 1286.63 2048.6 1290.38 Q2045.66 1294.13 2040.94 1294.13 Q2038.09 1294.13 2036.03 1293.02 Q2033.99 1291.88 2032.65 1289.57 M2047.14 1280.52 Q2047.14 1275.82 2045.19 1273.16 Q2043.27 1270.47 2039.89 1270.47 Q2036.51 1270.47 2034.57 1273.16 Q2032.65 1275.82 2032.65 1280.52 Q2032.65 1285.22 2034.57 1287.9 Q2036.51 1290.56 2039.89 1290.56 Q2043.27 1290.56 2045.19 1287.9 Q2047.14 1285.22 2047.14 1280.52 Z\" fill=\"#000000\" fill-rule=\"evenodd\" fill-opacity=\"1\" /><path clip-path=\"url(#clip980)\" d=\"M2070.4 1280.42 Q2065.24 1280.42 2063.25 1281.6 Q2061.26 1282.79 2061.26 1285.63 Q2061.26 1287.9 2062.74 1289.24 Q2064.25 1290.56 2066.82 1290.56 Q2070.36 1290.56 2072.49 1288.06 Q2074.64 1285.54 2074.64 1281.37 L2074.64 1280.42 L2070.4 1280.42 M2078.9 1278.66 L2078.9 1293.46 L2074.64 1293.46 L2074.64 1289.52 Q2073.18 1291.88 2071.01 1293.02 Q2068.83 1294.13 2065.68 1294.13 Q2061.7 1294.13 2059.34 1291.91 Q2057 1289.66 2057 1285.91 Q2057 1281.54 2059.92 1279.31 Q2062.86 1277.09 2068.67 1277.09 L2074.64 1277.09 L2074.64 1276.67 Q2074.64 1273.73 2072.69 1272.14 Q2070.77 1270.52 2067.28 1270.52 Q2065.06 1270.52 2062.95 1271.05 Q2060.84 1271.58 2058.9 1272.65 L2058.9 1268.71 Q2061.24 1267.81 2063.44 1267.37 Q2065.63 1266.91 2067.72 1266.91 Q2073.34 1266.91 2076.12 1269.82 Q2078.9 1272.74 2078.9 1278.66 Z\" fill=\"#000000\" fill-rule=\"evenodd\" fill-opacity=\"1\" /><path clip-path=\"url(#clip980)\" d=\"M2084.62 1267.53 L2089.13 1267.53 L2097.23 1289.29 L2105.33 1267.53 L2109.85 1267.53 L2100.13 1293.46 L2094.34 1293.46 L2084.62 1267.53 Z\" fill=\"#000000\" fill-rule=\"evenodd\" fill-opacity=\"1\" /><path clip-path=\"url(#clip980)\" d=\"M2132.79 1280.19 Q2132.79 1275.56 2130.87 1273.02 Q2128.97 1270.47 2125.52 1270.47 Q2122.09 1270.47 2120.17 1273.02 Q2118.27 1275.56 2118.27 1280.19 Q2118.27 1284.8 2120.17 1287.35 Q2122.09 1289.89 2125.52 1289.89 Q2128.97 1289.89 2130.87 1287.35 Q2132.79 1284.8 2132.79 1280.19 M2137.05 1290.24 Q2137.05 1296.86 2134.11 1300.08 Q2131.17 1303.32 2125.1 1303.32 Q2122.86 1303.32 2120.87 1302.97 Q2118.88 1302.65 2117 1301.95 L2117 1297.81 Q2118.88 1298.83 2120.7 1299.31 Q2122.53 1299.8 2124.43 1299.8 Q2128.62 1299.8 2130.7 1297.6 Q2132.79 1295.42 2132.79 1291 L2132.79 1288.9 Q2131.47 1291.19 2129.41 1292.32 Q2127.35 1293.46 2124.48 1293.46 Q2119.71 1293.46 2116.79 1289.82 Q2113.88 1286.19 2113.88 1280.19 Q2113.88 1274.17 2116.79 1270.54 Q2119.71 1266.91 2124.48 1266.91 Q2127.35 1266.91 2129.41 1268.04 Q2131.47 1269.17 2132.79 1271.47 L2132.79 1267.53 L2137.05 1267.53 L2137.05 1290.24 Z\" fill=\"#000000\" fill-rule=\"evenodd\" fill-opacity=\"1\" /><path clip-path=\"url(#clip980)\" d=\"M2147.23 1289.52 L2154.87 1289.52 L2154.87 1263.16 L2146.56 1264.82 L2146.56 1260.56 L2154.82 1258.9 L2159.5 1258.9 L2159.5 1289.52 L2167.14 1289.52 L2167.14 1293.46 L2147.23 1293.46 L2147.23 1289.52 Z\" fill=\"#000000\" fill-rule=\"evenodd\" fill-opacity=\"1\" /><path clip-path=\"url(#clip980)\" d=\"M2176.72 1292.74 L2176.72 1288.48 Q2178.48 1289.31 2180.29 1289.75 Q2182.09 1290.19 2183.83 1290.19 Q2188.46 1290.19 2190.89 1287.09 Q2193.34 1283.97 2193.69 1277.62 Q2192.35 1279.61 2190.29 1280.68 Q2188.23 1281.74 2185.73 1281.74 Q2180.54 1281.74 2177.51 1278.62 Q2174.5 1275.47 2174.5 1270.03 Q2174.5 1264.71 2177.65 1261.49 Q2180.8 1258.27 2186.03 1258.27 Q2192.02 1258.27 2195.17 1262.88 Q2198.34 1267.46 2198.34 1276.21 Q2198.34 1284.38 2194.45 1289.27 Q2190.59 1294.13 2184.04 1294.13 Q2182.28 1294.13 2180.47 1293.78 Q2178.67 1293.43 2176.72 1292.74 M2186.03 1278.09 Q2189.18 1278.09 2191 1275.93 Q2192.86 1273.78 2192.86 1270.03 Q2192.86 1266.3 2191 1264.15 Q2189.18 1261.97 2186.03 1261.97 Q2182.88 1261.97 2181.03 1264.15 Q2179.2 1266.3 2179.2 1270.03 Q2179.2 1273.78 2181.03 1275.93 Q2182.88 1278.09 2186.03 1278.09 Z\" fill=\"#000000\" fill-rule=\"evenodd\" fill-opacity=\"1\" /><path clip-path=\"url(#clip980)\" d=\"M2210.77 1289.52 L2227.09 1289.52 L2227.09 1293.46 L2205.15 1293.46 L2205.15 1289.52 Q2207.81 1286.77 2212.39 1282.14 Q2217 1277.48 2218.18 1276.14 Q2220.43 1273.62 2221.31 1271.88 Q2222.21 1270.12 2222.21 1268.43 Q2222.21 1265.68 2220.26 1263.94 Q2218.34 1262.21 2215.24 1262.21 Q2213.04 1262.21 2210.59 1262.97 Q2208.16 1263.73 2205.38 1265.29 L2205.38 1260.56 Q2208.2 1259.43 2210.66 1258.85 Q2213.11 1258.27 2215.15 1258.27 Q2220.52 1258.27 2223.71 1260.96 Q2226.91 1263.64 2226.91 1268.13 Q2226.91 1270.26 2226.1 1272.18 Q2225.31 1274.08 2223.2 1276.67 Q2222.62 1277.35 2219.52 1280.56 Q2216.42 1283.76 2210.77 1289.52 Z\" fill=\"#000000\" fill-rule=\"evenodd\" fill-opacity=\"1\" /><path clip-path=\"url(#clip980)\" d=\"M2240.93 1289.52 L2257.25 1289.52 L2257.25 1293.46 L2235.31 1293.46 L2235.31 1289.52 Q2237.97 1286.77 2242.56 1282.14 Q2247.16 1277.48 2248.34 1276.14 Q2250.59 1273.62 2251.47 1271.88 Q2252.37 1270.12 2252.37 1268.43 Q2252.37 1265.68 2250.43 1263.94 Q2248.5 1262.21 2245.4 1262.21 Q2243.2 1262.21 2240.75 1262.97 Q2238.32 1263.73 2235.54 1265.29 L2235.54 1260.56 Q2238.37 1259.43 2240.82 1258.85 Q2243.27 1258.27 2245.31 1258.27 Q2250.68 1258.27 2253.87 1260.96 Q2257.07 1263.64 2257.07 1268.13 Q2257.07 1270.26 2256.26 1272.18 Q2255.47 1274.08 2253.37 1276.67 Q2252.79 1277.35 2249.68 1280.56 Q2246.58 1283.76 2240.93 1289.52 Z\" fill=\"#000000\" fill-rule=\"evenodd\" fill-opacity=\"1\" /><polyline clip-path=\"url(#clip980)\" style=\"stroke:#e26f46; stroke-linecap:round; stroke-linejoin:round; stroke-width:4; stroke-opacity:1; fill:none\" points=\"\n",
       "  1689.87,1328.02 1833.13,1328.02 \n",
       "  \"/>\n",
       "<path clip-path=\"url(#clip980)\" d=\"M1862.33 1319.37 L1866.58 1319.37 L1866.58 1345.76 Q1866.58 1350.71 1864.69 1352.94 Q1862.81 1355.16 1858.62 1355.16 L1857 1355.16 L1857 1351.55 L1858.14 1351.55 Q1860.57 1351.55 1861.45 1350.41 Q1862.33 1349.3 1862.33 1345.76 L1862.33 1319.37 M1862.33 1309.28 L1866.58 1309.28 L1866.58 1314.67 L1862.33 1314.67 L1862.33 1309.28 Z\" fill=\"#000000\" fill-rule=\"evenodd\" fill-opacity=\"1\" /><path clip-path=\"url(#clip980)\" d=\"M1887.28 1332.26 Q1882.12 1332.26 1880.13 1333.44 Q1878.14 1334.63 1878.14 1337.47 Q1878.14 1339.74 1879.62 1341.08 Q1881.12 1342.4 1883.69 1342.4 Q1887.23 1342.4 1889.36 1339.9 Q1891.52 1337.38 1891.52 1333.21 L1891.52 1332.26 L1887.28 1332.26 M1895.77 1330.5 L1895.77 1345.3 L1891.52 1345.3 L1891.52 1341.36 Q1890.06 1343.72 1887.88 1344.86 Q1885.71 1345.97 1882.56 1345.97 Q1878.58 1345.97 1876.21 1343.75 Q1873.88 1341.5 1873.88 1337.75 Q1873.88 1333.38 1876.79 1331.15 Q1879.73 1328.93 1885.54 1328.93 L1891.52 1328.93 L1891.52 1328.51 Q1891.52 1325.57 1889.57 1323.98 Q1887.65 1322.36 1884.15 1322.36 Q1881.93 1322.36 1879.83 1322.89 Q1877.72 1323.42 1875.77 1324.49 L1875.77 1320.55 Q1878.11 1319.65 1880.31 1319.21 Q1882.51 1318.75 1884.59 1318.75 Q1890.22 1318.75 1893 1321.66 Q1895.77 1324.58 1895.77 1330.5 Z\" fill=\"#000000\" fill-rule=\"evenodd\" fill-opacity=\"1\" /><path clip-path=\"url(#clip980)\" d=\"M1926.1 1329.65 L1926.1 1345.3 L1921.84 1345.3 L1921.84 1329.79 Q1921.84 1326.11 1920.4 1324.28 Q1918.97 1322.45 1916.1 1322.45 Q1912.65 1322.45 1910.66 1324.65 Q1908.67 1326.85 1908.67 1330.64 L1908.67 1345.3 L1904.39 1345.3 L1904.39 1319.37 L1908.67 1319.37 L1908.67 1323.4 Q1910.2 1321.06 1912.26 1319.9 Q1914.34 1318.75 1917.05 1318.75 Q1921.52 1318.75 1923.81 1321.52 Q1926.1 1324.28 1926.1 1329.65 Z\" fill=\"#000000\" fill-rule=\"evenodd\" fill-opacity=\"1\" /><path clip-path=\"url(#clip980)\" d=\"M1938.81 1312.01 L1938.81 1319.37 L1947.58 1319.37 L1947.58 1322.68 L1938.81 1322.68 L1938.81 1336.75 Q1938.81 1339.93 1939.66 1340.83 Q1940.54 1341.73 1943.2 1341.73 L1947.58 1341.73 L1947.58 1345.3 L1943.2 1345.3 Q1938.27 1345.3 1936.4 1343.47 Q1934.52 1341.62 1934.52 1336.75 L1934.52 1322.68 L1931.4 1322.68 L1931.4 1319.37 L1934.52 1319.37 L1934.52 1312.01 L1938.81 1312.01 Z\" fill=\"#000000\" fill-rule=\"evenodd\" fill-opacity=\"1\" /><path clip-path=\"url(#clip980)\" d=\"M1975.36 1331.27 L1975.36 1333.35 L1955.77 1333.35 Q1956.05 1337.75 1958.41 1340.06 Q1960.8 1342.36 1965.03 1342.36 Q1967.49 1342.36 1969.78 1341.75 Q1972.09 1341.15 1974.36 1339.95 L1974.36 1343.98 Q1972.07 1344.95 1969.66 1345.46 Q1967.26 1345.97 1964.78 1345.97 Q1958.58 1345.97 1954.94 1342.36 Q1951.33 1338.75 1951.33 1332.59 Q1951.33 1326.22 1954.76 1322.5 Q1958.2 1318.75 1964.04 1318.75 Q1969.27 1318.75 1972.3 1322.13 Q1975.36 1325.48 1975.36 1331.27 M1971.1 1330.02 Q1971.05 1326.52 1969.13 1324.44 Q1967.23 1322.36 1964.08 1322.36 Q1960.52 1322.36 1958.37 1324.37 Q1956.24 1326.38 1955.91 1330.04 L1971.1 1330.02 Z\" fill=\"#000000\" fill-rule=\"evenodd\" fill-opacity=\"1\" /><path clip-path=\"url(#clip980)\" d=\"M2002.53 1324.35 Q2004.13 1321.48 2006.35 1320.11 Q2008.57 1318.75 2011.58 1318.75 Q2015.63 1318.75 2017.83 1321.59 Q2020.03 1324.42 2020.03 1329.65 L2020.03 1345.3 L2015.75 1345.3 L2015.75 1329.79 Q2015.75 1326.06 2014.43 1324.25 Q2013.11 1322.45 2010.4 1322.45 Q2007.09 1322.45 2005.17 1324.65 Q2003.25 1326.85 2003.25 1330.64 L2003.25 1345.3 L1998.97 1345.3 L1998.97 1329.79 Q1998.97 1326.04 1997.65 1324.25 Q1996.33 1322.45 1993.57 1322.45 Q1990.31 1322.45 1988.39 1324.67 Q1986.47 1326.87 1986.47 1330.64 L1986.47 1345.3 L1982.19 1345.3 L1982.19 1319.37 L1986.47 1319.37 L1986.47 1323.4 Q1987.93 1321.01 1989.96 1319.88 Q1992 1318.75 1994.8 1318.75 Q1997.63 1318.75 1999.59 1320.18 Q2001.58 1321.62 2002.53 1324.35 Z\" fill=\"#000000\" fill-rule=\"evenodd\" fill-opacity=\"1\" /><path clip-path=\"url(#clip980)\" d=\"M2032.65 1341.41 L2032.65 1355.16 L2028.37 1355.16 L2028.37 1319.37 L2032.65 1319.37 L2032.65 1323.31 Q2033.99 1320.99 2036.03 1319.88 Q2038.09 1318.75 2040.94 1318.75 Q2045.66 1318.75 2048.6 1322.5 Q2051.56 1326.25 2051.56 1332.36 Q2051.56 1338.47 2048.6 1342.22 Q2045.66 1345.97 2040.94 1345.97 Q2038.09 1345.97 2036.03 1344.86 Q2033.99 1343.72 2032.65 1341.41 M2047.14 1332.36 Q2047.14 1327.66 2045.19 1325 Q2043.27 1322.31 2039.89 1322.31 Q2036.51 1322.31 2034.57 1325 Q2032.65 1327.66 2032.65 1332.36 Q2032.65 1337.06 2034.57 1339.74 Q2036.51 1342.4 2039.89 1342.4 Q2043.27 1342.4 2045.19 1339.74 Q2047.14 1337.06 2047.14 1332.36 Z\" fill=\"#000000\" fill-rule=\"evenodd\" fill-opacity=\"1\" /><path clip-path=\"url(#clip980)\" d=\"M2070.4 1332.26 Q2065.24 1332.26 2063.25 1333.44 Q2061.26 1334.63 2061.26 1337.47 Q2061.26 1339.74 2062.74 1341.08 Q2064.25 1342.4 2066.82 1342.4 Q2070.36 1342.4 2072.49 1339.9 Q2074.64 1337.38 2074.64 1333.21 L2074.64 1332.26 L2070.4 1332.26 M2078.9 1330.5 L2078.9 1345.3 L2074.64 1345.3 L2074.64 1341.36 Q2073.18 1343.72 2071.01 1344.86 Q2068.83 1345.97 2065.68 1345.97 Q2061.7 1345.97 2059.34 1343.75 Q2057 1341.5 2057 1337.75 Q2057 1333.38 2059.92 1331.15 Q2062.86 1328.93 2068.67 1328.93 L2074.64 1328.93 L2074.64 1328.51 Q2074.64 1325.57 2072.69 1323.98 Q2070.77 1322.36 2067.28 1322.36 Q2065.06 1322.36 2062.95 1322.89 Q2060.84 1323.42 2058.9 1324.49 L2058.9 1320.55 Q2061.24 1319.65 2063.44 1319.21 Q2065.63 1318.75 2067.72 1318.75 Q2073.34 1318.75 2076.12 1321.66 Q2078.9 1324.58 2078.9 1330.5 Z\" fill=\"#000000\" fill-rule=\"evenodd\" fill-opacity=\"1\" /><path clip-path=\"url(#clip980)\" d=\"M2084.62 1319.37 L2089.13 1319.37 L2097.23 1341.13 L2105.33 1319.37 L2109.85 1319.37 L2100.13 1345.3 L2094.34 1345.3 L2084.62 1319.37 Z\" fill=\"#000000\" fill-rule=\"evenodd\" fill-opacity=\"1\" /><path clip-path=\"url(#clip980)\" d=\"M2132.79 1332.03 Q2132.79 1327.4 2130.87 1324.86 Q2128.97 1322.31 2125.52 1322.31 Q2122.09 1322.31 2120.17 1324.86 Q2118.27 1327.4 2118.27 1332.03 Q2118.27 1336.64 2120.17 1339.19 Q2122.09 1341.73 2125.52 1341.73 Q2128.97 1341.73 2130.87 1339.19 Q2132.79 1336.64 2132.79 1332.03 M2137.05 1342.08 Q2137.05 1348.7 2134.11 1351.92 Q2131.17 1355.16 2125.1 1355.16 Q2122.86 1355.16 2120.87 1354.81 Q2118.88 1354.49 2117 1353.79 L2117 1349.65 Q2118.88 1350.67 2120.7 1351.15 Q2122.53 1351.64 2124.43 1351.64 Q2128.62 1351.64 2130.7 1349.44 Q2132.79 1347.26 2132.79 1342.84 L2132.79 1340.74 Q2131.47 1343.03 2129.41 1344.16 Q2127.35 1345.3 2124.48 1345.3 Q2119.71 1345.3 2116.79 1341.66 Q2113.88 1338.03 2113.88 1332.03 Q2113.88 1326.01 2116.79 1322.38 Q2119.71 1318.75 2124.48 1318.75 Q2127.35 1318.75 2129.41 1319.88 Q2131.47 1321.01 2132.79 1323.31 L2132.79 1319.37 L2137.05 1319.37 L2137.05 1342.08 Z\" fill=\"#000000\" fill-rule=\"evenodd\" fill-opacity=\"1\" /><path clip-path=\"url(#clip980)\" d=\"M2150.45 1341.36 L2166.77 1341.36 L2166.77 1345.3 L2144.82 1345.3 L2144.82 1341.36 Q2147.49 1338.61 2152.07 1333.98 Q2156.68 1329.32 2157.86 1327.98 Q2160.1 1325.46 2160.98 1323.72 Q2161.88 1321.96 2161.88 1320.27 Q2161.88 1317.52 2159.94 1315.78 Q2158.02 1314.05 2154.92 1314.05 Q2152.72 1314.05 2150.26 1314.81 Q2147.83 1315.57 2145.06 1317.13 L2145.06 1312.4 Q2147.88 1311.27 2150.33 1310.69 Q2152.79 1310.11 2154.82 1310.11 Q2160.19 1310.11 2163.39 1312.8 Q2166.58 1315.48 2166.58 1319.97 Q2166.58 1322.1 2165.77 1324.02 Q2164.99 1325.92 2162.88 1328.51 Q2162.3 1329.19 2159.2 1332.4 Q2156.1 1335.6 2150.45 1341.36 Z\" fill=\"#000000\" fill-rule=\"evenodd\" fill-opacity=\"1\" /><path clip-path=\"url(#clip980)\" d=\"M2186.58 1313.81 Q2182.97 1313.81 2181.14 1317.38 Q2179.34 1320.92 2179.34 1328.05 Q2179.34 1335.16 2181.14 1338.72 Q2182.97 1342.26 2186.58 1342.26 Q2190.22 1342.26 2192.02 1338.72 Q2193.85 1335.16 2193.85 1328.05 Q2193.85 1320.92 2192.02 1317.38 Q2190.22 1313.81 2186.58 1313.81 M2186.58 1310.11 Q2192.39 1310.11 2195.45 1314.72 Q2198.53 1319.3 2198.53 1328.05 Q2198.53 1336.78 2195.45 1341.38 Q2192.39 1345.97 2186.58 1345.97 Q2180.77 1345.97 2177.69 1341.38 Q2174.64 1336.78 2174.64 1328.05 Q2174.64 1319.3 2177.69 1314.72 Q2180.77 1310.11 2186.58 1310.11 Z\" fill=\"#000000\" fill-rule=\"evenodd\" fill-opacity=\"1\" /><path clip-path=\"url(#clip980)\" d=\"M2207.56 1341.36 L2215.19 1341.36 L2215.19 1315 L2206.88 1316.66 L2206.88 1312.4 L2215.15 1310.74 L2219.82 1310.74 L2219.82 1341.36 L2227.46 1341.36 L2227.46 1345.3 L2207.56 1345.3 L2207.56 1341.36 Z\" fill=\"#000000\" fill-rule=\"evenodd\" fill-opacity=\"1\" /><path clip-path=\"url(#clip980)\" d=\"M2240.93 1341.36 L2257.25 1341.36 L2257.25 1345.3 L2235.31 1345.3 L2235.31 1341.36 Q2237.97 1338.61 2242.56 1333.98 Q2247.16 1329.32 2248.34 1327.98 Q2250.59 1325.46 2251.47 1323.72 Q2252.37 1321.96 2252.37 1320.27 Q2252.37 1317.52 2250.43 1315.78 Q2248.5 1314.05 2245.4 1314.05 Q2243.2 1314.05 2240.75 1314.81 Q2238.32 1315.57 2235.54 1317.13 L2235.54 1312.4 Q2238.37 1311.27 2240.82 1310.69 Q2243.27 1310.11 2245.31 1310.11 Q2250.68 1310.11 2253.87 1312.8 Q2257.07 1315.48 2257.07 1319.97 Q2257.07 1322.1 2256.26 1324.02 Q2255.47 1325.92 2253.37 1328.51 Q2252.79 1329.19 2249.68 1332.4 Q2246.58 1335.6 2240.93 1341.36 Z\" fill=\"#000000\" fill-rule=\"evenodd\" fill-opacity=\"1\" /></svg>\n"
      ]
     },
     "execution_count": 86,
     "metadata": {},
     "output_type": "execute_result"
    }
   ],
   "source": [
    "\n",
    "plot(1:11, jantempavg1922, ylabel=\"Temperature (Fahrenheit)\",xlabel=\"Years (1912- 1922, 2012-2022)\",label=\"jantempavg1922\", title=\"Jan Average temp 1922 vs Jan Average temp 2012 \")\n",
    "plot!(1:11, jantempavg2012, label=\"jantempavg2012\")\n"
   ]
  },
  {
   "cell_type": "code",
   "execution_count": null,
   "id": "77404646",
   "metadata": {},
   "outputs": [],
   "source": []
  },
  {
   "cell_type": "code",
   "execution_count": null,
   "id": "e6932353",
   "metadata": {},
   "outputs": [],
   "source": []
  },
  {
   "cell_type": "code",
   "execution_count": null,
   "id": "85f09274",
   "metadata": {},
   "outputs": [],
   "source": []
  },
  {
   "cell_type": "markdown",
   "id": "25a904b5",
   "metadata": {},
   "source": [
    "# This below is legacy code: DO NOT MESS WITH IT!!!"
   ]
  },
  {
   "cell_type": "code",
   "execution_count": 87,
   "id": "af7bd84b",
   "metadata": {
    "scrolled": true
   },
   "outputs": [
    {
     "data": {
      "text/plain": [
       "11-element Vector{Any}:\n",
       " 13.0\n",
       "  4.09\n",
       " 21.545\n",
       " 25.73\n",
       " 22.82\n",
       " -3.28\n",
       " 22.27\n",
       " 28.18\n",
       " 15.64\n",
       " 17.36\n",
       "  9.27"
      ]
     },
     "execution_count": 87,
     "metadata": {},
     "output_type": "execute_result"
    }
   ],
   "source": [
    "D[2:12,2]# this gives the 'first decade'"
   ]
  },
  {
   "cell_type": "code",
   "execution_count": 88,
   "id": "a321cf4d",
   "metadata": {},
   "outputs": [
    {
     "data": {
      "text/plain": [
       "11-element Vector{Any}:\n",
       " 2012\n",
       " 2013\n",
       " 2014\n",
       " 2015\n",
       " 2016\n",
       " 2017\n",
       " 2018\n",
       " 2019\n",
       " 2020\n",
       " 2021\n",
       " 2022"
      ]
     },
     "execution_count": 88,
     "metadata": {},
     "output_type": "execute_result"
    }
   ],
   "source": [
    "D[2:12,1]# this gives the years "
   ]
  },
  {
   "cell_type": "code",
   "execution_count": null,
   "id": "603a042e",
   "metadata": {},
   "outputs": [],
   "source": []
  },
  {
   "cell_type": "code",
   "execution_count": null,
   "id": "1fac10fb",
   "metadata": {},
   "outputs": [],
   "source": []
  },
  {
   "cell_type": "code",
   "execution_count": null,
   "id": "d1077b95",
   "metadata": {},
   "outputs": [],
   "source": []
  }
 ],
 "metadata": {
  "kernelspec": {
   "display_name": "Julia 1.8.3",
   "language": "julia",
   "name": "julia-1.8"
  },
  "language_info": {
   "file_extension": ".jl",
   "mimetype": "application/julia",
   "name": "julia",
   "version": "1.8.3"
  }
 },
 "nbformat": 4,
 "nbformat_minor": 5
}
