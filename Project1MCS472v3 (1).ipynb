{
 "cells": [
  {
   "cell_type": "markdown",
   "id": "6bd83454",
   "metadata": {},
   "source": [
    "# Project 1 MCS 472 \n",
    "\n",
    "Abraham Morales Arroyo \n",
    "\n",
    "## The Winters in Greenbay, Wisconsin\n",
    "\n",
    "January 2023 appears to be one for the warmest winter months, at least in Greenbay, Wisconsin. \n",
    "\n",
    "Download data for the first winter month, starting December 21 to January 20, for the past 100 years. \n",
    "\n",
    "Look for minima, maxima, and average temperatures for each day.\n",
    "\n",
    "Analyze the data with plots and segmentation, that is: divide the 100 years up in decades. \n",
    "\n",
    "\n",
    "#### Disclamer: The project has been modified to take place in Greenbay, Wisconsin. The data has been modified from 1922- 1932 then there is a time skip up to 2012- 2022.  \n",
    "\n",
    "I am going to have two different files, where the first file containes the Minimum Average, Max Average, and Average Data for December and January, respectfully. This file will be caled ``Classtoday.txt``, and it is from the year 1922- 1932. Then there is another file called ``Classtoday2.txt`` Where it has the same data, but instead it is from the years 2012-2022. \n"
   ]
  },
  {
   "cell_type": "code",
   "execution_count": 1,
   "id": "f2186e8b",
   "metadata": {},
   "outputs": [],
   "source": [
    "using DelimitedFiles"
   ]
  },
  {
   "cell_type": "code",
   "execution_count": 2,
   "id": "799cc967",
   "metadata": {},
   "outputs": [
    {
     "data": {
      "text/plain": [
       "23×7 Matrix{Any}:\n",
       "     \"Year\"    \"AMiD\"    \"AMAD\"    \"AD\"    \"AMiJ\"    \"AMaJ\"    \"AJ\"\n",
       " 1922        21.18     31.81     26.5     5.65     22.85     14.25\n",
       " 1923        22.3      32.9      27.64   11.2      25.65     18.43\n",
       " 1924        22.34     32.9      27.6    -3.25     25.65      5.65\n",
       " 1925        -0.36     14.18      6.91    9.9      23.65     16.78\n",
       " 1926        12.91     27.91     20.41   14.95     28.95     21.95\n",
       " 1927        14.0      27.82     20.91    7.75     22.6      15.18\n",
       " 1928        18.36     30.55     24.46   17.3      30.9      24.1\n",
       " 1929        16.91     31.55     24.23   -2.95     13.95      5.5\n",
       " 1930        13.73     28.0      20.86    9.0      22.3      15.65\n",
       " 1931        31.818    38.46     35.14   17.8      31.05     24.43\n",
       " 1932        25.18     37.09     31.14   22.5      33.0      27.75\n",
       " 2012        13.0      26.36     19.68   14.05     32.45     23.25\n",
       " 2013         4.09     21.09     12.59   11.7      30.65     21.175\n",
       " 2014        21.545    31.727    26.64    2.45     20.75     11.6\n",
       " 2015        25.73     34.82     30.27    7.5      21.45     14.48\n",
       " 2016        22.82     35.73     29.27    8.6      23.3      15.95\n",
       " 2017        -3.28     13.36      5.05   12.95     25.4      19.18\n",
       " 2018        22.27     34.09     28.68    7.4      23.95     15.68\n",
       " 2019        28.18     39.09     33.64    8.6      23.3      15.95\n",
       " 2020        15.64     31.55     23.59   17.75     32.75     25.25\n",
       " 2021        17.36     33.36     25.36   20.7      30.9      25.8\n",
       " 2022         9.27     26.09     17.68    6.8      24.15     15.48"
      ]
     },
     "execution_count": 2,
     "metadata": {},
     "output_type": "execute_result"
    }
   ],
   "source": [
    "A = readdlm(\"Classtoday.txt\")"
   ]
  },
  {
   "cell_type": "markdown",
   "id": "c5ee356c",
   "metadata": {},
   "source": [
    "# The Headers here are abreviations: \n",
    "\n",
    " AMiD= Average Minimum Temperature in December \n",
    "\n",
    " AMAD= Average Maximum Temperature in December\n",
    "\n",
    " AD= Average December Temperature\n",
    "\n",
    " AMiJ= Average Minimum Temperature in January \n",
    "\n",
    " AMAJ= Average Maximum Temperature in January\n",
    "\n",
    "AJ= Average January Temperature\n"
   ]
  },
  {
   "cell_type": "markdown",
   "id": "5059061b",
   "metadata": {},
   "source": [
    "For the previous instruction to work, the file ``Classtoday.txt`` has to be on file."
   ]
  },
  {
   "cell_type": "markdown",
   "id": "280cc972",
   "metadata": {},
   "source": [
    "To make the notebook self contained, the string representation of the file will be copied and pasted into a cell."
   ]
  },
  {
   "cell_type": "code",
   "execution_count": 3,
   "id": "83f9f449",
   "metadata": {
    "scrolled": true
   },
   "outputs": [
    {
     "data": {
      "text/plain": [
       "\"Any[\\\"Year\\\" \\\"AMiD\\\" \\\"AMAD\\\" \\\"AD\\\" \\\"AMiJ\\\" \\\"AMaJ\\\" \\\"AJ\\\"; 1922 21.18 31.81 26.5 5.65 22.85 14.25; 1923 22.3 32.9 27.64 11.2 25.65 18.43; 1924 22.34 32.9 27.6 -3.25 25.65 5.65; 1925 -0.36 14.18 6.91 9.9 23.65 16.78; 1926 12.91 27.91 20.41 14.95 28.95 21.95; 1927 14.0 27.82 20.91 \" ⋯ 387 bytes ⋯ \".82 35.73 29.27 8.6 23.3 15.95; 2017 -3.28 13.36 5.05 12.95 25.4 19.18; 2018 22.27 34.09 28.68 7.4 23.95 15.68; 2019 28.18 39.09 33.64 8.6 23.3 15.95; 2020 15.64 31.55 23.59 17.75 32.75 25.25; 2021 17.36 33.36 25.36 20.7 30.9 25.8; 2022 9.27 26.09 17.68 6.8 24.15 15.48]\""
      ]
     },
     "execution_count": 3,
     "metadata": {},
     "output_type": "execute_result"
    }
   ],
   "source": [
    "strA = string(A)"
   ]
  },
  {
   "cell_type": "code",
   "execution_count": 4,
   "id": "1bf384d3",
   "metadata": {},
   "outputs": [
    {
     "name": "stdout",
     "output_type": "stream",
     "text": [
      "Any[\"Year\" \"AMiD\" \"AMAD\" \"AD\" \"AMiJ\" \"AMaJ\" \"AJ\"; 1922 21.18 31.81 26.5 5.65 22.85 14.25; 1923 22.3 32.9 27.64 11.2 25.65 18.43; 1924 22.34 32.9 27.6 -3.25 25.65 5.65; 1925 -0.36 14.18 6.91 9.9 23.65 16.78; 1926 12.91 27.91 20.41 14.95 28.95 21.95; 1927 14.0 27.82 20.91 7.75 22.6 15.18; 1928 18.36 30.55 24.46 17.3 30.9 24.1; 1929 16.91 31.55 24.23 -2.95 13.95 5.5; 1930 13.73 28.0 20.86 9.0 22.3 15.65; 1931 31.818 38.46 35.14 17.8 31.05 24.43; 1932 25.18 37.09 31.14 22.5 33.0 27.75; 2012 13.0 26.36 19.68 14.05 32.45 23.25; 2013 4.09 21.09 12.59 11.7 30.65 21.175; 2014 21.545 31.727 26.64 2.45 20.75 11.6; 2015 25.73 34.82 30.27 7.5 21.45 14.48; 2016 22.82 35.73 29.27 8.6 23.3 15.95; 2017 -3.28 13.36 5.05 12.95 25.4 19.18; 2018 22.27 34.09 28.68 7.4 23.95 15.68; 2019 28.18 39.09 33.64 8.6 23.3 15.95; 2020 15.64 31.55 23.59 17.75 32.75 25.25; 2021 17.36 33.36 25.36 20.7 30.9 25.8; 2022 9.27 26.09 17.68 6.8 24.15 15.48]"
     ]
    }
   ],
   "source": [
    "print(strA)"
   ]
  },
  {
   "cell_type": "code",
   "execution_count": 5,
   "id": "06677caa",
   "metadata": {},
   "outputs": [
    {
     "data": {
      "text/plain": [
       "23×7 Matrix{Any}:\n",
       "     \"Year\"    \"AMiD\"    \"AMAD\"    \"AD\"    \"AMiJ\"    \"AMaJ\"    \"AJ\"\n",
       " 1922        21.18     31.81     26.5     5.65     22.85     14.25\n",
       " 1923        22.3      32.9      27.64   11.2      25.65     18.43\n",
       " 1924        22.34     32.9      27.6    -3.25     25.65      5.65\n",
       " 1925        -0.36     14.18      6.91    9.9      23.65     16.78\n",
       " 1926        12.91     27.91     20.41   14.95     28.95     21.95\n",
       " 1927        14.0      27.82     20.91    7.75     22.6      15.18\n",
       " 1928        18.36     30.55     24.46   17.3      30.9      24.1\n",
       " 1929        16.91     31.55     24.23   -2.95     13.95      5.5\n",
       " 1930        13.73     28.0      20.86    9.0      22.3      15.65\n",
       " 1931        31.818    38.46     35.14   17.8      31.05     24.43\n",
       " 1932        25.18     37.09     31.14   22.5      33.0      27.75\n",
       " 2012        13.0      26.36     19.68   14.05     32.45     23.25\n",
       " 2013         4.09     21.09     12.59   11.7      30.65     21.175\n",
       " 2014        21.545    31.727    26.64    2.45     20.75     11.6\n",
       " 2015        25.73     34.82     30.27    7.5      21.45     14.48\n",
       " 2016        22.82     35.73     29.27    8.6      23.3      15.95\n",
       " 2017        -3.28     13.36      5.05   12.95     25.4      19.18\n",
       " 2018        22.27     34.09     28.68    7.4      23.95     15.68\n",
       " 2019        28.18     39.09     33.64    8.6      23.3      15.95\n",
       " 2020        15.64     31.55     23.59   17.75     32.75     25.25\n",
       " 2021        17.36     33.36     25.36   20.7      30.9      25.8\n",
       " 2022         9.27     26.09     17.68    6.8      24.15     15.48"
      ]
     },
     "execution_count": 5,
     "metadata": {},
     "output_type": "execute_result"
    }
   ],
   "source": [
    "B=Any[\"Year\" \"AMiD\" \"AMAD\" \"AD\" \"AMiJ\" \"AMaJ\" \"AJ\"; 1922 21.18 31.81 26.5 5.65 22.85 14.25; 1923 22.3 32.9 27.64 11.2 25.65 18.43; 1924 22.34 32.9 27.6 -3.25 25.65 5.65; 1925 -0.36 14.18 6.91 9.9 23.65 16.78; 1926 12.91 27.91 20.41 14.95 28.95 21.95; 1927 14.0 27.82 20.91 7.75 22.6 15.18; 1928 18.36 30.55 24.46 17.3 30.9 24.1; 1929 16.91 31.55 24.23 -2.95 13.95 5.5; 1930 13.73 28.0 20.86 9.0 22.3 15.65; 1931 31.818 38.46 35.14 17.8 31.05 24.43; 1932 25.18 37.09 31.14 22.5 33.0 27.75; 2012 13.0 26.36 19.68 14.05 32.45 23.25; 2013 4.09 21.09 12.59 11.7 30.65 21.175; 2014 21.545 31.727 26.64 2.45 20.75 11.6; 2015 25.73 34.82 30.27 7.5 21.45 14.48; 2016 22.82 35.73 29.27 8.6 23.3 15.95; 2017 -3.28 13.36 5.05 12.95 25.4 19.18; 2018 22.27 34.09 28.68 7.4 23.95 15.68; 2019 28.18 39.09 33.64 8.6 23.3 15.95; 2020 15.64 31.55 23.59 17.75 32.75 25.25; 2021 17.36 33.36 25.36 20.7 30.9 25.8; 2022 9.27 26.09 17.68 6.8 24.15 15.48]"
   ]
  },
  {
   "cell_type": "markdown",
   "id": "785af082",
   "metadata": {},
   "source": [
    "The instructions in the notebook will continue to work with ``B`` so everything will work even if the file was not present.\n",
    "\n",
    "\n",
    "# Now we are going to have the rest of the data, From the years 2012-2022, be read and then stored into a matrix so it can be used for this project: "
   ]
  },
  {
   "cell_type": "code",
   "execution_count": 6,
   "id": "f6f6357d",
   "metadata": {
    "scrolled": true
   },
   "outputs": [
    {
     "data": {
      "text/plain": [
       "12×7 Matrix{Any}:\n",
       "     \"Year\"    \"AMiD\"    \"AMAD\"    \"AD\"    \"AMiJ\"    \"AMaJ\"    \"AJ\"\n",
       " 2012        13.0      26.36     19.68   14.05     32.45     23.25\n",
       " 2013         4.09     21.09     12.59   11.7      30.65     21.175\n",
       " 2014        21.545    31.727    26.64    2.45     20.75     11.6\n",
       " 2015        25.73     34.82     30.27    7.5      21.45     14.48\n",
       " 2016        22.82     35.73     29.27    8.6      23.3      15.95\n",
       " 2017        -3.28     13.36      5.05   12.95     25.4      19.18\n",
       " 2018        22.27     34.09     28.68    7.4      23.95     15.68\n",
       " 2019        28.18     39.09     33.64    8.6      23.3      15.95\n",
       " 2020        15.64     31.55     23.59   17.75     32.75     25.25\n",
       " 2021        17.36     33.36     25.36   20.7      30.9      25.8\n",
       " 2022         9.27     26.09     17.68    6.8      24.15     15.48"
      ]
     },
     "execution_count": 6,
     "metadata": {},
     "output_type": "execute_result"
    }
   ],
   "source": [
    "C = readdlm(\"Classtoday2.txt\")"
   ]
  },
  {
   "cell_type": "code",
   "execution_count": 7,
   "id": "322cee97",
   "metadata": {},
   "outputs": [
    {
     "data": {
      "text/plain": [
       "\"Any[\\\"Year\\\" \\\"AMiD\\\" \\\"AMAD\\\" \\\"AD\\\" \\\"AMiJ\\\" \\\"AMaJ\\\" \\\"AJ\\\"; 2012 13.0 26.36 19.68 14.05 32.45 23.25; 2013 4.09 21.09 12.59 11.7 30.65 21.175; 2014 21.545 31.727 26.64 2.45 20.75 11.6; 2015 25.73 34.82 30.27 7.5 21.45 14.48; 2016 22.82 35.73 29.27 8.6 23.3 15.95; 2017 -3.28 13.36 5.05 12.95 25.4 19.18; 2018 22.27 34.09 28.68 7.4 23.95 15.68; 2019 28.18 39.09 33.64 8.6 23.3 15.95; 2020 15.64 31.55 23.59 17.75 32.75 25.25; 2021 17.36 33.36 25.36 20.7 30.9 25.8; 2022 9.27 26.09 17.68 6.8 24.15 15.48]\""
      ]
     },
     "execution_count": 7,
     "metadata": {},
     "output_type": "execute_result"
    }
   ],
   "source": [
    "strC = string(C)"
   ]
  },
  {
   "cell_type": "code",
   "execution_count": 8,
   "id": "365739ae",
   "metadata": {},
   "outputs": [
    {
     "data": {
      "text/plain": [
       "12×7 Matrix{Any}:\n",
       "     \"Year\"    \"AMiD\"    \"AMAD\"    \"AD\"    \"AMiJ\"    \"AMaJ\"    \"AJ\"\n",
       " 2012        13.0      26.36     19.68   14.05     32.45     23.25\n",
       " 2013         4.09     21.09     12.59   11.7      30.65     21.175\n",
       " 2014        21.545    31.727    26.64    2.45     20.75     11.6\n",
       " 2015        25.73     34.82     30.27    7.5      21.45     14.48\n",
       " 2016        22.82     35.73     29.27    8.6      23.3      15.95\n",
       " 2017        -3.28     13.36      5.05   12.95     25.4      19.18\n",
       " 2018        22.27     34.09     28.68    7.4      23.95     15.68\n",
       " 2019        28.18     39.09     33.64    8.6      23.3      15.95\n",
       " 2020        15.64     31.55     23.59   17.75     32.75     25.25\n",
       " 2021        17.36     33.36     25.36   20.7      30.9      25.8\n",
       " 2022         9.27     26.09     17.68    6.8      24.15     15.48"
      ]
     },
     "execution_count": 8,
     "metadata": {},
     "output_type": "execute_result"
    }
   ],
   "source": [
    "D=Any[\"Year\" \"AMiD\" \"AMAD\" \"AD\" \"AMiJ\" \"AMaJ\" \"AJ\"; 2012 13.0 26.36 19.68 14.05 32.45 23.25; 2013 4.09 21.09 12.59 11.7 30.65 21.175; 2014 21.545 31.727 26.64 2.45 20.75 11.6; 2015 25.73 34.82 30.27 7.5 21.45 14.48; 2016 22.82 35.73 29.27 8.6 23.3 15.95; 2017 -3.28 13.36 5.05 12.95 25.4 19.18; 2018 22.27 34.09 28.68 7.4 23.95 15.68; 2019 28.18 39.09 33.64 8.6 23.3 15.95; 2020 15.64 31.55 23.59 17.75 32.75 25.25; 2021 17.36 33.36 25.36 20.7 30.9 25.8; 2022 9.27 26.09 17.68 6.8 24.15 15.48]"
   ]
  },
  {
   "cell_type": "markdown",
   "id": "a33545f7",
   "metadata": {},
   "source": [
    "# Let us take the average of minimum temperatures of December for the first decade, 1922- 1932"
   ]
  },
  {
   "cell_type": "code",
   "execution_count": 9,
   "id": "09056c9b",
   "metadata": {},
   "outputs": [],
   "source": [
    "using Statistics"
   ]
  },
  {
   "cell_type": "markdown",
   "id": "cb06e970",
   "metadata": {},
   "source": [
    "here we are making the selection of the month that we want "
   ]
  },
  {
   "cell_type": "code",
   "execution_count": 10,
   "id": "8568535c",
   "metadata": {},
   "outputs": [
    {
     "data": {
      "text/plain": [
       "\"AMiD\""
      ]
     },
     "execution_count": 10,
     "metadata": {},
     "output_type": "execute_result"
    }
   ],
   "source": [
    "B[1,2]"
   ]
  },
  {
   "cell_type": "code",
   "execution_count": 11,
   "id": "c8747602",
   "metadata": {},
   "outputs": [
    {
     "data": {
      "text/plain": [
       "18.033454545454546"
      ]
     },
     "execution_count": 11,
     "metadata": {},
     "output_type": "execute_result"
    }
   ],
   "source": [
    "mean(B[2:12,2]) # column 2, rows 3 and 4 just as an example"
   ]
  },
  {
   "cell_type": "markdown",
   "id": "fb5529c1",
   "metadata": {},
   "source": [
    " As we can see the average temperature for December 20th - 31st from 1922-1932 is about ``18.03`` (rounded) "
   ]
  },
  {
   "cell_type": "markdown",
   "id": "ecc5ea8d",
   "metadata": {},
   "source": [
    "# Now we are going to be comparing this to the minimum temperature of Dec 20th- 31st from 2012-2022: "
   ]
  },
  {
   "cell_type": "markdown",
   "id": "9752581c",
   "metadata": {},
   "source": [
    "Making the selection of the month: "
   ]
  },
  {
   "cell_type": "code",
   "execution_count": 12,
   "id": "b4b32764",
   "metadata": {},
   "outputs": [
    {
     "data": {
      "text/plain": [
       "\"AMiD\""
      ]
     },
     "execution_count": 12,
     "metadata": {},
     "output_type": "execute_result"
    }
   ],
   "source": [
    "D[1,2]"
   ]
  },
  {
   "cell_type": "markdown",
   "id": "cfd3f822",
   "metadata": {},
   "source": [
    "now we are going to be taking the average: "
   ]
  },
  {
   "cell_type": "code",
   "execution_count": 13,
   "id": "2219306d",
   "metadata": {},
   "outputs": [
    {
     "data": {
      "text/plain": [
       "16.056818181818183"
      ]
     },
     "execution_count": 13,
     "metadata": {},
     "output_type": "execute_result"
    }
   ],
   "source": [
    "mean(D[2:12,2]) # Remember that for the years 2012-2022 is going to be stored in the matrix named ``D``"
   ]
  },
  {
   "cell_type": "markdown",
   "id": "40da13f3",
   "metadata": {},
   "source": [
    "Here we see that we got the average of minimum average temperature for December, 2012-2022, to be ``16.06``, rounded"
   ]
  },
  {
   "cell_type": "markdown",
   "id": "da66dbe8",
   "metadata": {},
   "source": [
    "# Outcome: \n",
    "\n",
    "When we compare the average temperature from 1922-1932, Average Min December: ``18.03``. To the data 2012-2022: ``16.06`` we see that for the years 2012-2022 the average temperature is much lower than the average temperature from 1922-1932.  \n",
    "\n",
    "There is a difference of: "
   ]
  },
  {
   "cell_type": "code",
   "execution_count": 14,
   "id": "64f2f9d3",
   "metadata": {},
   "outputs": [
    {
     "data": {
      "text/plain": [
       "1.9700000000000024"
      ]
     },
     "execution_count": 14,
     "metadata": {},
     "output_type": "execute_result"
    }
   ],
   "source": [
    "18.03-16.06"
   ]
  },
  {
   "cell_type": "markdown",
   "id": "119909a2",
   "metadata": {},
   "source": [
    "The difference from the years 1922-1932 to 2012-2022 is: ``1.9700000000000024``, meaning it has become colder."
   ]
  },
  {
   "cell_type": "markdown",
   "id": "e354ed8e",
   "metadata": {},
   "source": [
    "# We will now do the same but for the average Max temperature for December 1922-1932"
   ]
  },
  {
   "cell_type": "code",
   "execution_count": 15,
   "id": "3baa67db",
   "metadata": {},
   "outputs": [
    {
     "data": {
      "text/plain": [
       "\"AMAD\""
      ]
     },
     "execution_count": 15,
     "metadata": {},
     "output_type": "execute_result"
    }
   ],
   "source": [
    "B[1,3]"
   ]
  },
  {
   "cell_type": "markdown",
   "id": "3c9ec0c4",
   "metadata": {},
   "source": [
    "This is the Average Max temperature for December 1922-1932. Now we are going to make sure that we are working with the correct rolls and data:"
   ]
  },
  {
   "cell_type": "code",
   "execution_count": 16,
   "id": "03cd39de",
   "metadata": {},
   "outputs": [
    {
     "data": {
      "text/plain": [
       "11-element Vector{Any}:\n",
       " 31.81\n",
       " 32.9\n",
       " 32.9\n",
       " 14.18\n",
       " 27.91\n",
       " 27.82\n",
       " 30.55\n",
       " 31.55\n",
       " 28.0\n",
       " 38.46\n",
       " 37.09"
      ]
     },
     "execution_count": 16,
     "metadata": {},
     "output_type": "execute_result"
    }
   ],
   "source": [
    "B[2:12,3]# this gives us the data"
   ]
  },
  {
   "cell_type": "markdown",
   "id": "e8790d5d",
   "metadata": {},
   "source": [
    "Yes this matches up the data for Average Max temperature for December of 1922-1932."
   ]
  },
  {
   "cell_type": "code",
   "execution_count": 17,
   "id": "6483fee7",
   "metadata": {},
   "outputs": [
    {
     "data": {
      "text/plain": [
       "30.288181818181815"
      ]
     },
     "execution_count": 17,
     "metadata": {},
     "output_type": "execute_result"
    }
   ],
   "source": [
    "mean(B[2:12,3]) # column 2, rows 3 and 4 just as an example"
   ]
  },
  {
   "cell_type": "markdown",
   "id": "46cc48e3",
   "metadata": {},
   "source": [
    "This is the average for Average Max temperature for December 1922-1932, ``30.29``"
   ]
  },
  {
   "cell_type": "markdown",
   "id": "2e3ae9ca",
   "metadata": {},
   "source": [
    "# Now we are going to be comparing this to the Max Average temperature of Dec 20th- 31st from 2012-2022: "
   ]
  },
  {
   "cell_type": "code",
   "execution_count": 18,
   "id": "a089c20e",
   "metadata": {},
   "outputs": [
    {
     "data": {
      "text/plain": [
       "\"AMAD\""
      ]
     },
     "execution_count": 18,
     "metadata": {},
     "output_type": "execute_result"
    }
   ],
   "source": [
    "D[1,3]"
   ]
  },
  {
   "cell_type": "code",
   "execution_count": 19,
   "id": "f0d36c05",
   "metadata": {},
   "outputs": [
    {
     "data": {
      "text/plain": [
       "11-element Vector{Any}:\n",
       " 26.36\n",
       " 21.09\n",
       " 31.727\n",
       " 34.82\n",
       " 35.73\n",
       " 13.36\n",
       " 34.09\n",
       " 39.09\n",
       " 31.55\n",
       " 33.36\n",
       " 26.09"
      ]
     },
     "execution_count": 19,
     "metadata": {},
     "output_type": "execute_result"
    }
   ],
   "source": [
    "D[2:12,3]# this gives the data"
   ]
  },
  {
   "cell_type": "code",
   "execution_count": 20,
   "id": "96bd296e",
   "metadata": {},
   "outputs": [
    {
     "data": {
      "text/plain": [
       "29.751545454545454"
      ]
     },
     "execution_count": 20,
     "metadata": {},
     "output_type": "execute_result"
    }
   ],
   "source": [
    "mean(D[2:12,3]) # column 2, rows 3 and 4 just as an example"
   ]
  },
  {
   "cell_type": "markdown",
   "id": "567518da",
   "metadata": {},
   "source": [
    "The average of ``29.75`` is for Average Max December 2012-2022"
   ]
  },
  {
   "cell_type": "markdown",
   "id": "a1d12ec8",
   "metadata": {},
   "source": [
    "# Outcome: \n",
    "\n",
    "Here the 1922- 1932 is : ``30.29``\n",
    "\n",
    "For 2012-2022 is: ``29.75``\n",
    "\n",
    "\n",
    "Here we see that the temperature has dropped, from ``30.29`` to ``29.75``. The difference is: \n"
   ]
  },
  {
   "cell_type": "code",
   "execution_count": 21,
   "id": "b53ffbdc",
   "metadata": {},
   "outputs": [
    {
     "data": {
      "text/plain": [
       "0.5399999999999991"
      ]
     },
     "execution_count": 21,
     "metadata": {},
     "output_type": "execute_result"
    }
   ],
   "source": [
    "30.29-29.75"
   ]
  },
  {
   "cell_type": "markdown",
   "id": "cadbad5e",
   "metadata": {},
   "source": [
    "Here we see that the difference was ``0.54``, meaning it has become colder."
   ]
  },
  {
   "cell_type": "markdown",
   "id": "d313598e",
   "metadata": {},
   "source": [
    "# Now we are going to be comparing this to the average temperature of Dec 20th- 31st from 1922-1932: "
   ]
  },
  {
   "cell_type": "code",
   "execution_count": 22,
   "id": "fe463c0d",
   "metadata": {},
   "outputs": [
    {
     "data": {
      "text/plain": [
       "\"AD\""
      ]
     },
     "execution_count": 22,
     "metadata": {},
     "output_type": "execute_result"
    }
   ],
   "source": [
    "B[1,4]"
   ]
  },
  {
   "cell_type": "code",
   "execution_count": 23,
   "id": "88165a22",
   "metadata": {},
   "outputs": [
    {
     "data": {
      "text/plain": [
       "11-element Vector{Any}:\n",
       " 26.5\n",
       " 27.64\n",
       " 27.6\n",
       "  6.91\n",
       " 20.41\n",
       " 20.91\n",
       " 24.46\n",
       " 24.23\n",
       " 20.86\n",
       " 35.14\n",
       " 31.14"
      ]
     },
     "execution_count": 23,
     "metadata": {},
     "output_type": "execute_result"
    }
   ],
   "source": [
    "B[2:12,4]# this gives the data"
   ]
  },
  {
   "cell_type": "code",
   "execution_count": 24,
   "id": "51bbb8af",
   "metadata": {},
   "outputs": [
    {
     "data": {
      "text/plain": [
       "24.16363636363636"
      ]
     },
     "execution_count": 24,
     "metadata": {},
     "output_type": "execute_result"
    }
   ],
   "source": [
    "mean(B[2:12,4])"
   ]
  },
  {
   "cell_type": "markdown",
   "id": "8d3cfcb6",
   "metadata": {},
   "source": [
    "Here we see that the average of temperature is ``24.16`` for December 1922-1932."
   ]
  },
  {
   "cell_type": "markdown",
   "id": "6bb69458",
   "metadata": {},
   "source": [
    "# Now we are going to be comparing this to the average temperature of Dec 20th- 31st from 2012-2022: "
   ]
  },
  {
   "cell_type": "code",
   "execution_count": 25,
   "id": "14a3ab4a",
   "metadata": {},
   "outputs": [
    {
     "data": {
      "text/plain": [
       "\"AD\""
      ]
     },
     "execution_count": 25,
     "metadata": {},
     "output_type": "execute_result"
    }
   ],
   "source": [
    "C[1,4]"
   ]
  },
  {
   "cell_type": "code",
   "execution_count": 26,
   "id": "d0720e23",
   "metadata": {},
   "outputs": [
    {
     "data": {
      "text/plain": [
       "11-element Vector{Any}:\n",
       " 19.68\n",
       " 12.59\n",
       " 26.64\n",
       " 30.27\n",
       " 29.27\n",
       "  5.05\n",
       " 28.68\n",
       " 33.64\n",
       " 23.59\n",
       " 25.36\n",
       " 17.68"
      ]
     },
     "execution_count": 26,
     "metadata": {},
     "output_type": "execute_result"
    }
   ],
   "source": [
    "C[2:12,4]# this gives the data"
   ]
  },
  {
   "cell_type": "code",
   "execution_count": 27,
   "id": "c04207c4",
   "metadata": {},
   "outputs": [
    {
     "data": {
      "text/plain": [
       "22.95"
      ]
     },
     "execution_count": 27,
     "metadata": {},
     "output_type": "execute_result"
    }
   ],
   "source": [
    "mean(C[2:12,4])"
   ]
  },
  {
   "cell_type": "markdown",
   "id": "8fa6d3f4",
   "metadata": {},
   "source": [
    "Here we see that the average temperature for December 2012-2022 is: ``22.95``"
   ]
  },
  {
   "cell_type": "markdown",
   "id": "99ab62d4",
   "metadata": {},
   "source": [
    "# Outcome: \n",
    "\n",
    "Average December Temperature 1922-1932: ``24.16``\n",
    "\n",
    "Average December Temperature 2012-2012: ``22.95``\n",
    "\n",
    "\n",
    "Here we see that the average temperature from one decade to another decade has dropped. It went from ``24.16`` to ``22.95``"
   ]
  },
  {
   "cell_type": "code",
   "execution_count": 28,
   "id": "bb20c6d4",
   "metadata": {},
   "outputs": [
    {
     "data": {
      "text/plain": [
       "1.2100000000000009"
      ]
     },
     "execution_count": 28,
     "metadata": {},
     "output_type": "execute_result"
    }
   ],
   "source": [
    "24.16-22.95"
   ]
  },
  {
   "cell_type": "markdown",
   "id": "8289d67a",
   "metadata": {},
   "source": [
    "Here we see that there is a decrease of ``1.21`` in temperature. "
   ]
  },
  {
   "cell_type": "markdown",
   "id": "aa6cd887",
   "metadata": {},
   "source": [
    "# Now we are going to find the Average Minimum temperature for January from 1922-1932: "
   ]
  },
  {
   "cell_type": "code",
   "execution_count": 32,
   "id": "f7384bc0",
   "metadata": {},
   "outputs": [
    {
     "data": {
      "text/plain": [
       "\"AMiJ\""
      ]
     },
     "execution_count": 32,
     "metadata": {},
     "output_type": "execute_result"
    }
   ],
   "source": [
    "B[1,5] #this gives the max minimum to January"
   ]
  },
  {
   "cell_type": "code",
   "execution_count": 33,
   "id": "26b9d1c6",
   "metadata": {},
   "outputs": [
    {
     "data": {
      "text/plain": [
       "11-element Vector{Any}:\n",
       "  5.65\n",
       " 11.2\n",
       " -3.25\n",
       "  9.9\n",
       " 14.95\n",
       "  7.75\n",
       " 17.3\n",
       " -2.95\n",
       "  9.0\n",
       " 17.8\n",
       " 22.5"
      ]
     },
     "execution_count": 33,
     "metadata": {},
     "output_type": "execute_result"
    }
   ],
   "source": [
    "B[2:12,5]# this gives the data"
   ]
  },
  {
   "cell_type": "code",
   "execution_count": 35,
   "id": "812bcb53",
   "metadata": {},
   "outputs": [
    {
     "data": {
      "text/plain": [
       "9.986363636363636"
      ]
     },
     "execution_count": 35,
     "metadata": {},
     "output_type": "execute_result"
    }
   ],
   "source": [
    "mean(B[2:12,5])"
   ]
  },
  {
   "cell_type": "markdown",
   "id": "b2117c49",
   "metadata": {},
   "source": [
    "Here we see that the average Max for min January 1922-1932 is: ``9.99``"
   ]
  },
  {
   "cell_type": "markdown",
   "id": "2981e28b",
   "metadata": {},
   "source": [
    "# Now we do the same for January but for 2012-2022:"
   ]
  },
  {
   "cell_type": "code",
   "execution_count": 36,
   "id": "72c82723",
   "metadata": {},
   "outputs": [
    {
     "data": {
      "text/plain": [
       "\"AMiJ\""
      ]
     },
     "execution_count": 36,
     "metadata": {},
     "output_type": "execute_result"
    }
   ],
   "source": [
    "C[1,5]"
   ]
  },
  {
   "cell_type": "code",
   "execution_count": 37,
   "id": "cf08cbfd",
   "metadata": {},
   "outputs": [
    {
     "data": {
      "text/plain": [
       "11-element Vector{Any}:\n",
       " 14.05\n",
       " 11.7\n",
       "  2.45\n",
       "  7.5\n",
       "  8.6\n",
       " 12.95\n",
       "  7.4\n",
       "  8.6\n",
       " 17.75\n",
       " 20.7\n",
       "  6.8"
      ]
     },
     "execution_count": 37,
     "metadata": {},
     "output_type": "execute_result"
    }
   ],
   "source": [
    "C[2:12,5]"
   ]
  },
  {
   "cell_type": "code",
   "execution_count": 38,
   "id": "ec0c6658",
   "metadata": {},
   "outputs": [
    {
     "data": {
      "text/plain": [
       "10.772727272727273"
      ]
     },
     "execution_count": 38,
     "metadata": {},
     "output_type": "execute_result"
    }
   ],
   "source": [
    "mean(C[2:12,5])"
   ]
  },
  {
   "cell_type": "markdown",
   "id": "cecad139",
   "metadata": {},
   "source": [
    "Here we see that there is ``10.77`` for the Average Jan Minimum for 2012-2022. \n",
    "\n",
    "# Outcome: \n",
    "\n",
    "Here we see for 1922-1932 for Min Jan average is: 9.99\n",
    "\n",
    "For 2012- 2022 for the Min Jan Average: 10.77 \n",
    "\n",
    "Here we see that there is an increase in temperature: "
   ]
  },
  {
   "cell_type": "code",
   "execution_count": 39,
   "id": "5f017362",
   "metadata": {},
   "outputs": [
    {
     "data": {
      "text/plain": [
       "0.7799999999999994"
      ]
     },
     "execution_count": 39,
     "metadata": {},
     "output_type": "execute_result"
    }
   ],
   "source": [
    "10.77-9.99"
   ]
  },
  {
   "cell_type": "markdown",
   "id": "a845ffb6",
   "metadata": {},
   "source": [
    "here we see that the increase of ``0.78`` in the temperature. "
   ]
  },
  {
   "cell_type": "markdown",
   "id": "f6ef3331",
   "metadata": {},
   "source": [
    "# Now we are going to find the Average Max temperature for January from 1922-1932: "
   ]
  },
  {
   "cell_type": "code",
   "execution_count": 40,
   "id": "b4b0bb1f",
   "metadata": {},
   "outputs": [
    {
     "data": {
      "text/plain": [
       "\"AMaJ\""
      ]
     },
     "execution_count": 40,
     "metadata": {},
     "output_type": "execute_result"
    }
   ],
   "source": [
    "B[1,6] #this gives the max of Jan"
   ]
  },
  {
   "cell_type": "code",
   "execution_count": 41,
   "id": "0c3627c9",
   "metadata": {},
   "outputs": [
    {
     "data": {
      "text/plain": [
       "11-element Vector{Any}:\n",
       " 22.85\n",
       " 25.65\n",
       " 25.65\n",
       " 23.65\n",
       " 28.95\n",
       " 22.6\n",
       " 30.9\n",
       " 13.95\n",
       " 22.3\n",
       " 31.05\n",
       " 33.0"
      ]
     },
     "execution_count": 41,
     "metadata": {},
     "output_type": "execute_result"
    }
   ],
   "source": [
    "B[2:12,6]# this gives the data"
   ]
  },
  {
   "cell_type": "code",
   "execution_count": 42,
   "id": "bcfe3a5e",
   "metadata": {},
   "outputs": [
    {
     "data": {
      "text/plain": [
       "25.50454545454546"
      ]
     },
     "execution_count": 42,
     "metadata": {},
     "output_type": "execute_result"
    }
   ],
   "source": [
    "mean(B[2:12,6])"
   ]
  },
  {
   "cell_type": "markdown",
   "id": "a3a19034",
   "metadata": {},
   "source": [
    "here we see that the average Max for Jan 1922-1932 is: ``25.50``"
   ]
  },
  {
   "cell_type": "markdown",
   "id": "a7a25103",
   "metadata": {},
   "source": [
    "# Now we are going to find the Average Max temperature for January from 2012-2022: "
   ]
  },
  {
   "cell_type": "code",
   "execution_count": 43,
   "id": "6dc6fc9b",
   "metadata": {},
   "outputs": [
    {
     "data": {
      "text/plain": [
       "\"AMaJ\""
      ]
     },
     "execution_count": 43,
     "metadata": {},
     "output_type": "execute_result"
    }
   ],
   "source": [
    "C[1,6]"
   ]
  },
  {
   "cell_type": "code",
   "execution_count": 44,
   "id": "879714d3",
   "metadata": {},
   "outputs": [
    {
     "data": {
      "text/plain": [
       "11-element Vector{Any}:\n",
       " 32.45\n",
       " 30.65\n",
       " 20.75\n",
       " 21.45\n",
       " 23.3\n",
       " 25.4\n",
       " 23.95\n",
       " 23.3\n",
       " 32.75\n",
       " 30.9\n",
       " 24.15"
      ]
     },
     "execution_count": 44,
     "metadata": {},
     "output_type": "execute_result"
    }
   ],
   "source": [
    "C[2:12,6]"
   ]
  },
  {
   "cell_type": "code",
   "execution_count": 46,
   "id": "220f55b9",
   "metadata": {},
   "outputs": [
    {
     "data": {
      "text/plain": [
       "26.277272727272724"
      ]
     },
     "execution_count": 46,
     "metadata": {},
     "output_type": "execute_result"
    }
   ],
   "source": [
    "mean(C[2:12,6])"
   ]
  },
  {
   "cell_type": "markdown",
   "id": "db31a577",
   "metadata": {},
   "source": [
    "Here we see that the average for Jan 2012-2022 is: ``26.28``"
   ]
  },
  {
   "cell_type": "markdown",
   "id": "da6354e3",
   "metadata": {},
   "source": [
    "# Outcome \n",
    "\n",
    "we see that weather: ``25.50`` (1922-1932)\n",
    "\n",
    "We see that weather: ``26.28`` (2012-2022)\n",
    "\n",
    "Here we see that there was increase of weather:"
   ]
  },
  {
   "cell_type": "code",
   "execution_count": 47,
   "id": "8a60b12c",
   "metadata": {},
   "outputs": [
    {
     "data": {
      "text/plain": [
       "0.7800000000000011"
      ]
     },
     "execution_count": 47,
     "metadata": {},
     "output_type": "execute_result"
    }
   ],
   "source": [
    "# the difference of weather is: \n",
    "26.28-25.50"
   ]
  },
  {
   "cell_type": "markdown",
   "id": "270e40f6",
   "metadata": {},
   "source": [
    "here we see that there is an increase of weather is: ``0.78``"
   ]
  },
  {
   "cell_type": "markdown",
   "id": "3622bcb0",
   "metadata": {},
   "source": [
    "# Now we are going to find the average of January 1922-1932: "
   ]
  },
  {
   "cell_type": "code",
   "execution_count": 48,
   "id": "86db9d13",
   "metadata": {},
   "outputs": [
    {
     "data": {
      "text/plain": [
       "\"AJ\""
      ]
     },
     "execution_count": 48,
     "metadata": {},
     "output_type": "execute_result"
    }
   ],
   "source": [
    "B[1,7]"
   ]
  },
  {
   "cell_type": "code",
   "execution_count": 49,
   "id": "999cb3dd",
   "metadata": {},
   "outputs": [
    {
     "data": {
      "text/plain": [
       "11-element Vector{Any}:\n",
       " 14.25\n",
       " 18.43\n",
       "  5.65\n",
       " 16.78\n",
       " 21.95\n",
       " 15.18\n",
       " 24.1\n",
       "  5.5\n",
       " 15.65\n",
       " 24.43\n",
       " 27.75"
      ]
     },
     "execution_count": 49,
     "metadata": {},
     "output_type": "execute_result"
    }
   ],
   "source": [
    "B[2:12,7]# this gives the data"
   ]
  },
  {
   "cell_type": "code",
   "execution_count": 50,
   "id": "e588f320",
   "metadata": {},
   "outputs": [
    {
     "data": {
      "text/plain": [
       "17.242727272727276"
      ]
     },
     "execution_count": 50,
     "metadata": {},
     "output_type": "execute_result"
    }
   ],
   "source": [
    "mean(B[2:12,7])"
   ]
  },
  {
   "cell_type": "markdown",
   "id": "1d8e566f",
   "metadata": {},
   "source": [
    "Here we see that the average for January temperature for 1922-1932 is: ``17.24``"
   ]
  },
  {
   "cell_type": "markdown",
   "id": "7c9655e0",
   "metadata": {},
   "source": [
    "# Now we do this for January temperature 2012-2022: "
   ]
  },
  {
   "cell_type": "code",
   "execution_count": 51,
   "id": "fd5803d9",
   "metadata": {},
   "outputs": [
    {
     "data": {
      "text/plain": [
       "\"AJ\""
      ]
     },
     "execution_count": 51,
     "metadata": {},
     "output_type": "execute_result"
    }
   ],
   "source": [
    "C[1,7]"
   ]
  },
  {
   "cell_type": "code",
   "execution_count": 52,
   "id": "22d7fd11",
   "metadata": {},
   "outputs": [
    {
     "data": {
      "text/plain": [
       "11-element Vector{Any}:\n",
       " 23.25\n",
       " 21.175\n",
       " 11.6\n",
       " 14.48\n",
       " 15.95\n",
       " 19.18\n",
       " 15.68\n",
       " 15.95\n",
       " 25.25\n",
       " 25.8\n",
       " 15.48"
      ]
     },
     "execution_count": 52,
     "metadata": {},
     "output_type": "execute_result"
    }
   ],
   "source": [
    "C[2:12,7]"
   ]
  },
  {
   "cell_type": "code",
   "execution_count": 53,
   "id": "3a58cad7",
   "metadata": {},
   "outputs": [
    {
     "data": {
      "text/plain": [
       "18.526818181818182"
      ]
     },
     "execution_count": 53,
     "metadata": {},
     "output_type": "execute_result"
    }
   ],
   "source": [
    "mean(C[2:12,7])"
   ]
  },
  {
   "cell_type": "markdown",
   "id": "52bffa79",
   "metadata": {},
   "source": [
    "Here we see that the average for 2012-2022 January: ``18.53`` "
   ]
  },
  {
   "cell_type": "markdown",
   "id": "d10c9d17",
   "metadata": {},
   "source": [
    "# Outcome \n",
    "\n",
    "Temperature for 1922-1932 Jan: ``17.24``\n",
    "\n",
    "Temperature for 2012-2022 Jan: ``18.53``"
   ]
  },
  {
   "cell_type": "markdown",
   "id": "6603124e",
   "metadata": {},
   "source": [
    "There has been an increase in temperature, the difference is: "
   ]
  },
  {
   "cell_type": "code",
   "execution_count": 54,
   "id": "1ea58720",
   "metadata": {},
   "outputs": [
    {
     "data": {
      "text/plain": [
       "1.2900000000000027"
      ]
     },
     "execution_count": 54,
     "metadata": {},
     "output_type": "execute_result"
    }
   ],
   "source": [
    "18.53-17.24"
   ]
  },
  {
   "cell_type": "markdown",
   "id": "3d87d283",
   "metadata": {},
   "source": [
    "Here we see that the increase of temperature is ``1.29``"
   ]
  },
  {
   "cell_type": "code",
   "execution_count": null,
   "id": "e5f22c41",
   "metadata": {},
   "outputs": [],
   "source": []
  },
  {
   "cell_type": "code",
   "execution_count": null,
   "id": "cd448b1b",
   "metadata": {},
   "outputs": [],
   "source": []
  },
  {
   "cell_type": "code",
   "execution_count": null,
   "id": "96469c04",
   "metadata": {},
   "outputs": [],
   "source": []
  },
  {
   "cell_type": "code",
   "execution_count": null,
   "id": "c9d812e9",
   "metadata": {},
   "outputs": [],
   "source": []
  },
  {
   "cell_type": "code",
   "execution_count": null,
   "id": "55d03a2e",
   "metadata": {},
   "outputs": [],
   "source": []
  },
  {
   "cell_type": "code",
   "execution_count": null,
   "id": "18dbd8fc",
   "metadata": {},
   "outputs": [],
   "source": []
  },
  {
   "cell_type": "code",
   "execution_count": null,
   "id": "1f69eec9",
   "metadata": {},
   "outputs": [],
   "source": []
  },
  {
   "cell_type": "markdown",
   "id": "25a904b5",
   "metadata": {},
   "source": [
    "# This below is legacy code: DO NOT MESS WITH IT!!!"
   ]
  },
  {
   "cell_type": "code",
   "execution_count": 30,
   "id": "af7bd84b",
   "metadata": {},
   "outputs": [
    {
     "data": {
      "text/plain": [
       "11-element Vector{Any}:\n",
       " 13.0\n",
       "  4.09\n",
       " 21.545\n",
       " 25.73\n",
       " 22.82\n",
       " -3.28\n",
       " 22.27\n",
       " 28.18\n",
       " 15.64\n",
       " 17.36\n",
       "  9.27"
      ]
     },
     "execution_count": 30,
     "metadata": {},
     "output_type": "execute_result"
    }
   ],
   "source": [
    "D[2:12,2]# this gives the 'first decade'"
   ]
  },
  {
   "cell_type": "code",
   "execution_count": 45,
   "id": "a321cf4d",
   "metadata": {},
   "outputs": [
    {
     "data": {
      "text/plain": [
       "11-element Vector{Any}:\n",
       " 2012\n",
       " 2013\n",
       " 2014\n",
       " 2015\n",
       " 2016\n",
       " 2017\n",
       " 2018\n",
       " 2019\n",
       " 2020\n",
       " 2021\n",
       " 2022"
      ]
     },
     "execution_count": 45,
     "metadata": {},
     "output_type": "execute_result"
    }
   ],
   "source": [
    "D[2:12,1]# this gives the years "
   ]
  },
  {
   "cell_type": "code",
   "execution_count": null,
   "id": "603a042e",
   "metadata": {},
   "outputs": [],
   "source": []
  },
  {
   "cell_type": "code",
   "execution_count": null,
   "id": "1fac10fb",
   "metadata": {},
   "outputs": [],
   "source": []
  },
  {
   "cell_type": "code",
   "execution_count": null,
   "id": "d1077b95",
   "metadata": {},
   "outputs": [],
   "source": []
  }
 ],
 "metadata": {
  "kernelspec": {
   "display_name": "Julia 1.8.3",
   "language": "julia",
   "name": "julia-1.8"
  },
  "language_info": {
   "file_extension": ".jl",
   "mimetype": "application/julia",
   "name": "julia",
   "version": "1.8.3"
  }
 },
 "nbformat": 4,
 "nbformat_minor": 5
}
