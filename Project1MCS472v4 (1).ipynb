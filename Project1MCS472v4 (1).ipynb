{
 "cells": [
  {
   "cell_type": "markdown",
   "id": "6bd83454",
   "metadata": {},
   "source": [
    "# Project 1 MCS 472 \n",
    "\n",
    "Abraham Morales Arroyo \n",
    "\n",
    "## The Winters in Greenbay, Wisconsin\n",
    "\n",
    "January 2023 appears to be one for the warmest winter months, at least in Greenbay, Wisconsin. \n",
    "\n",
    "Download data for the first winter month, starting December 21 to January 20, for the past 100 years. \n",
    "\n",
    "Look for minima, maxima, and average temperatures for each day.\n",
    "\n",
    "Analyze the data with plots and segmentation, that is: divide the 100 years up in decades. \n",
    "\n",
    "\n",
    "#### Disclamer: The project has been modified to take place in Greenbay, Wisconsin. The data has been modified from 1922- 1932 then there is a time skip up to 2012- 2022.  \n",
    "\n",
    "I am going to have two different files, where the first file containes the Minimum Average, Max Average, and Average Data for December and January, respectfully. This file will be caled ``Classtoday.txt``, and it is from the year 1922- 1932. Then there is another file called ``Classtoday2.txt`` Where it has the same data, but instead it is from the years 2012-2022. \n"
   ]
  },
  {
   "cell_type": "code",
   "execution_count": 1,
   "id": "f2186e8b",
   "metadata": {},
   "outputs": [],
   "source": [
    "using DelimitedFiles"
   ]
  },
  {
   "cell_type": "code",
   "execution_count": 2,
   "id": "799cc967",
   "metadata": {},
   "outputs": [
    {
     "data": {
      "text/plain": [
       "23×7 Matrix{Any}:\n",
       "     \"Year\"    \"AMiD\"    \"AMAD\"    \"AD\"    \"AMiJ\"    \"AMaJ\"    \"AJ\"\n",
       " 1922        21.18     31.81     26.5     5.65     22.85     14.25\n",
       " 1923        22.3      32.9      27.64   11.2      25.65     18.43\n",
       " 1924        22.34     32.9      27.6    -3.25     25.65      5.65\n",
       " 1925        -0.36     14.18      6.91    9.9      23.65     16.78\n",
       " 1926        12.91     27.91     20.41   14.95     28.95     21.95\n",
       " 1927        14.0      27.82     20.91    7.75     22.6      15.18\n",
       " 1928        18.36     30.55     24.46   17.3      30.9      24.1\n",
       " 1929        16.91     31.55     24.23   -2.95     13.95      5.5\n",
       " 1930        13.73     28.0      20.86    9.0      22.3      15.65\n",
       " 1931        31.818    38.46     35.14   17.8      31.05     24.43\n",
       " 1932        25.18     37.09     31.14   22.5      33.0      27.75\n",
       " 2012        13.0      26.36     19.68   14.05     32.45     23.25\n",
       " 2013         4.09     21.09     12.59   11.7      30.65     21.175\n",
       " 2014        21.545    31.727    26.64    2.45     20.75     11.6\n",
       " 2015        25.73     34.82     30.27    7.5      21.45     14.48\n",
       " 2016        22.82     35.73     29.27    8.6      23.3      15.95\n",
       " 2017        -3.28     13.36      5.05   12.95     25.4      19.18\n",
       " 2018        22.27     34.09     28.68    7.4      23.95     15.68\n",
       " 2019        28.18     39.09     33.64    8.6      23.3      15.95\n",
       " 2020        15.64     31.55     23.59   17.75     32.75     25.25\n",
       " 2021        17.36     33.36     25.36   20.7      30.9      25.8\n",
       " 2022         9.27     26.09     17.68    6.8      24.15     15.48"
      ]
     },
     "execution_count": 2,
     "metadata": {},
     "output_type": "execute_result"
    }
   ],
   "source": [
    "A = readdlm(\"Classtoday.txt\")"
   ]
  },
  {
   "cell_type": "markdown",
   "id": "c5ee356c",
   "metadata": {},
   "source": [
    "# The Headers here are abreviations: \n",
    "\n",
    " AMiD= Average Minimum Temperature in December \n",
    "\n",
    " AMAD= Average Maximum Temperature in December\n",
    "\n",
    " AD= Average December Temperature\n",
    "\n",
    " AMiJ= Average Minimum Temperature in January \n",
    "\n",
    " AMAJ= Average Maximum Temperature in January\n",
    "\n",
    "AJ= Average January Temperature\n"
   ]
  },
  {
   "cell_type": "markdown",
   "id": "5059061b",
   "metadata": {},
   "source": [
    "For the previous instruction to work, the file ``Classtoday.txt`` has to be on file."
   ]
  },
  {
   "cell_type": "markdown",
   "id": "280cc972",
   "metadata": {},
   "source": [
    "To make the notebook self contained, the string representation of the file will be copied and pasted into a cell."
   ]
  },
  {
   "cell_type": "code",
   "execution_count": 3,
   "id": "83f9f449",
   "metadata": {
    "scrolled": true
   },
   "outputs": [
    {
     "data": {
      "text/plain": [
       "\"Any[\\\"Year\\\" \\\"AMiD\\\" \\\"AMAD\\\" \\\"AD\\\" \\\"AMiJ\\\" \\\"AMaJ\\\" \\\"AJ\\\"; 1922 21.18 31.81 26.5 5.65 22.85 14.25; 1923 22.3 32.9 27.64 11.2 25.65 18.43; 1924 22.34 32.9 27.6 -3.25 25.65 5.65; 1925 -0.36 14.18 6.91 9.9 23.65 16.78; 1926 12.91 27.91 20.41 14.95 28.95 21.95; 1927 14.0 27.82 20.91 \" ⋯ 387 bytes ⋯ \".82 35.73 29.27 8.6 23.3 15.95; 2017 -3.28 13.36 5.05 12.95 25.4 19.18; 2018 22.27 34.09 28.68 7.4 23.95 15.68; 2019 28.18 39.09 33.64 8.6 23.3 15.95; 2020 15.64 31.55 23.59 17.75 32.75 25.25; 2021 17.36 33.36 25.36 20.7 30.9 25.8; 2022 9.27 26.09 17.68 6.8 24.15 15.48]\""
      ]
     },
     "execution_count": 3,
     "metadata": {},
     "output_type": "execute_result"
    }
   ],
   "source": [
    "strA = string(A)"
   ]
  },
  {
   "cell_type": "code",
   "execution_count": 4,
   "id": "1bf384d3",
   "metadata": {},
   "outputs": [
    {
     "name": "stdout",
     "output_type": "stream",
     "text": [
      "Any[\"Year\" \"AMiD\" \"AMAD\" \"AD\" \"AMiJ\" \"AMaJ\" \"AJ\"; 1922 21.18 31.81 26.5 5.65 22.85 14.25; 1923 22.3 32.9 27.64 11.2 25.65 18.43; 1924 22.34 32.9 27.6 -3.25 25.65 5.65; 1925 -0.36 14.18 6.91 9.9 23.65 16.78; 1926 12.91 27.91 20.41 14.95 28.95 21.95; 1927 14.0 27.82 20.91 7.75 22.6 15.18; 1928 18.36 30.55 24.46 17.3 30.9 24.1; 1929 16.91 31.55 24.23 -2.95 13.95 5.5; 1930 13.73 28.0 20.86 9.0 22.3 15.65; 1931 31.818 38.46 35.14 17.8 31.05 24.43; 1932 25.18 37.09 31.14 22.5 33.0 27.75; 2012 13.0 26.36 19.68 14.05 32.45 23.25; 2013 4.09 21.09 12.59 11.7 30.65 21.175; 2014 21.545 31.727 26.64 2.45 20.75 11.6; 2015 25.73 34.82 30.27 7.5 21.45 14.48; 2016 22.82 35.73 29.27 8.6 23.3 15.95; 2017 -3.28 13.36 5.05 12.95 25.4 19.18; 2018 22.27 34.09 28.68 7.4 23.95 15.68; 2019 28.18 39.09 33.64 8.6 23.3 15.95; 2020 15.64 31.55 23.59 17.75 32.75 25.25; 2021 17.36 33.36 25.36 20.7 30.9 25.8; 2022 9.27 26.09 17.68 6.8 24.15 15.48]"
     ]
    }
   ],
   "source": [
    "print(strA)"
   ]
  },
  {
   "cell_type": "code",
   "execution_count": 5,
   "id": "06677caa",
   "metadata": {},
   "outputs": [
    {
     "data": {
      "text/plain": [
       "23×7 Matrix{Any}:\n",
       "     \"Year\"    \"AMiD\"    \"AMAD\"    \"AD\"    \"AMiJ\"    \"AMaJ\"    \"AJ\"\n",
       " 1922        21.18     31.81     26.5     5.65     22.85     14.25\n",
       " 1923        22.3      32.9      27.64   11.2      25.65     18.43\n",
       " 1924        22.34     32.9      27.6    -3.25     25.65      5.65\n",
       " 1925        -0.36     14.18      6.91    9.9      23.65     16.78\n",
       " 1926        12.91     27.91     20.41   14.95     28.95     21.95\n",
       " 1927        14.0      27.82     20.91    7.75     22.6      15.18\n",
       " 1928        18.36     30.55     24.46   17.3      30.9      24.1\n",
       " 1929        16.91     31.55     24.23   -2.95     13.95      5.5\n",
       " 1930        13.73     28.0      20.86    9.0      22.3      15.65\n",
       " 1931        31.818    38.46     35.14   17.8      31.05     24.43\n",
       " 1932        25.18     37.09     31.14   22.5      33.0      27.75\n",
       " 2012        13.0      26.36     19.68   14.05     32.45     23.25\n",
       " 2013         4.09     21.09     12.59   11.7      30.65     21.175\n",
       " 2014        21.545    31.727    26.64    2.45     20.75     11.6\n",
       " 2015        25.73     34.82     30.27    7.5      21.45     14.48\n",
       " 2016        22.82     35.73     29.27    8.6      23.3      15.95\n",
       " 2017        -3.28     13.36      5.05   12.95     25.4      19.18\n",
       " 2018        22.27     34.09     28.68    7.4      23.95     15.68\n",
       " 2019        28.18     39.09     33.64    8.6      23.3      15.95\n",
       " 2020        15.64     31.55     23.59   17.75     32.75     25.25\n",
       " 2021        17.36     33.36     25.36   20.7      30.9      25.8\n",
       " 2022         9.27     26.09     17.68    6.8      24.15     15.48"
      ]
     },
     "execution_count": 5,
     "metadata": {},
     "output_type": "execute_result"
    }
   ],
   "source": [
    "B=Any[\"Year\" \"AMiD\" \"AMAD\" \"AD\" \"AMiJ\" \"AMaJ\" \"AJ\"; 1922 21.18 31.81 26.5 5.65 22.85 14.25; 1923 22.3 32.9 27.64 11.2 25.65 18.43; 1924 22.34 32.9 27.6 -3.25 25.65 5.65; 1925 -0.36 14.18 6.91 9.9 23.65 16.78; 1926 12.91 27.91 20.41 14.95 28.95 21.95; 1927 14.0 27.82 20.91 7.75 22.6 15.18; 1928 18.36 30.55 24.46 17.3 30.9 24.1; 1929 16.91 31.55 24.23 -2.95 13.95 5.5; 1930 13.73 28.0 20.86 9.0 22.3 15.65; 1931 31.818 38.46 35.14 17.8 31.05 24.43; 1932 25.18 37.09 31.14 22.5 33.0 27.75; 2012 13.0 26.36 19.68 14.05 32.45 23.25; 2013 4.09 21.09 12.59 11.7 30.65 21.175; 2014 21.545 31.727 26.64 2.45 20.75 11.6; 2015 25.73 34.82 30.27 7.5 21.45 14.48; 2016 22.82 35.73 29.27 8.6 23.3 15.95; 2017 -3.28 13.36 5.05 12.95 25.4 19.18; 2018 22.27 34.09 28.68 7.4 23.95 15.68; 2019 28.18 39.09 33.64 8.6 23.3 15.95; 2020 15.64 31.55 23.59 17.75 32.75 25.25; 2021 17.36 33.36 25.36 20.7 30.9 25.8; 2022 9.27 26.09 17.68 6.8 24.15 15.48]"
   ]
  },
  {
   "cell_type": "markdown",
   "id": "785af082",
   "metadata": {},
   "source": [
    "The instructions in the notebook will continue to work with ``B`` so everything will work even if the file was not present.\n",
    "\n",
    "\n",
    "# Now we are going to have the rest of the data, From the years 2012-2022, be read and then stored into a matrix so it can be used for this project: "
   ]
  },
  {
   "cell_type": "code",
   "execution_count": 6,
   "id": "f6f6357d",
   "metadata": {
    "scrolled": true
   },
   "outputs": [
    {
     "data": {
      "text/plain": [
       "12×7 Matrix{Any}:\n",
       "     \"Year\"    \"AMiD\"    \"AMAD\"    \"AD\"    \"AMiJ\"    \"AMaJ\"    \"AJ\"\n",
       " 2012        13.0      26.36     19.68   14.05     32.45     23.25\n",
       " 2013         4.09     21.09     12.59   11.7      30.65     21.175\n",
       " 2014        21.545    31.727    26.64    2.45     20.75     11.6\n",
       " 2015        25.73     34.82     30.27    7.5      21.45     14.48\n",
       " 2016        22.82     35.73     29.27    8.6      23.3      15.95\n",
       " 2017        -3.28     13.36      5.05   12.95     25.4      19.18\n",
       " 2018        22.27     34.09     28.68    7.4      23.95     15.68\n",
       " 2019        28.18     39.09     33.64    8.6      23.3      15.95\n",
       " 2020        15.64     31.55     23.59   17.75     32.75     25.25\n",
       " 2021        17.36     33.36     25.36   20.7      30.9      25.8\n",
       " 2022         9.27     26.09     17.68    6.8      24.15     15.48"
      ]
     },
     "execution_count": 6,
     "metadata": {},
     "output_type": "execute_result"
    }
   ],
   "source": [
    "C = readdlm(\"Classtoday2.txt\")"
   ]
  },
  {
   "cell_type": "code",
   "execution_count": 7,
   "id": "322cee97",
   "metadata": {},
   "outputs": [
    {
     "data": {
      "text/plain": [
       "\"Any[\\\"Year\\\" \\\"AMiD\\\" \\\"AMAD\\\" \\\"AD\\\" \\\"AMiJ\\\" \\\"AMaJ\\\" \\\"AJ\\\"; 2012 13.0 26.36 19.68 14.05 32.45 23.25; 2013 4.09 21.09 12.59 11.7 30.65 21.175; 2014 21.545 31.727 26.64 2.45 20.75 11.6; 2015 25.73 34.82 30.27 7.5 21.45 14.48; 2016 22.82 35.73 29.27 8.6 23.3 15.95; 2017 -3.28 13.36 5.05 12.95 25.4 19.18; 2018 22.27 34.09 28.68 7.4 23.95 15.68; 2019 28.18 39.09 33.64 8.6 23.3 15.95; 2020 15.64 31.55 23.59 17.75 32.75 25.25; 2021 17.36 33.36 25.36 20.7 30.9 25.8; 2022 9.27 26.09 17.68 6.8 24.15 15.48]\""
      ]
     },
     "execution_count": 7,
     "metadata": {},
     "output_type": "execute_result"
    }
   ],
   "source": [
    "strC = string(C)"
   ]
  },
  {
   "cell_type": "code",
   "execution_count": 8,
   "id": "365739ae",
   "metadata": {},
   "outputs": [
    {
     "data": {
      "text/plain": [
       "12×7 Matrix{Any}:\n",
       "     \"Year\"    \"AMiD\"    \"AMAD\"    \"AD\"    \"AMiJ\"    \"AMaJ\"    \"AJ\"\n",
       " 2012        13.0      26.36     19.68   14.05     32.45     23.25\n",
       " 2013         4.09     21.09     12.59   11.7      30.65     21.175\n",
       " 2014        21.545    31.727    26.64    2.45     20.75     11.6\n",
       " 2015        25.73     34.82     30.27    7.5      21.45     14.48\n",
       " 2016        22.82     35.73     29.27    8.6      23.3      15.95\n",
       " 2017        -3.28     13.36      5.05   12.95     25.4      19.18\n",
       " 2018        22.27     34.09     28.68    7.4      23.95     15.68\n",
       " 2019        28.18     39.09     33.64    8.6      23.3      15.95\n",
       " 2020        15.64     31.55     23.59   17.75     32.75     25.25\n",
       " 2021        17.36     33.36     25.36   20.7      30.9      25.8\n",
       " 2022         9.27     26.09     17.68    6.8      24.15     15.48"
      ]
     },
     "execution_count": 8,
     "metadata": {},
     "output_type": "execute_result"
    }
   ],
   "source": [
    "D=Any[\"Year\" \"AMiD\" \"AMAD\" \"AD\" \"AMiJ\" \"AMaJ\" \"AJ\"; 2012 13.0 26.36 19.68 14.05 32.45 23.25; 2013 4.09 21.09 12.59 11.7 30.65 21.175; 2014 21.545 31.727 26.64 2.45 20.75 11.6; 2015 25.73 34.82 30.27 7.5 21.45 14.48; 2016 22.82 35.73 29.27 8.6 23.3 15.95; 2017 -3.28 13.36 5.05 12.95 25.4 19.18; 2018 22.27 34.09 28.68 7.4 23.95 15.68; 2019 28.18 39.09 33.64 8.6 23.3 15.95; 2020 15.64 31.55 23.59 17.75 32.75 25.25; 2021 17.36 33.36 25.36 20.7 30.9 25.8; 2022 9.27 26.09 17.68 6.8 24.15 15.48]"
   ]
  },
  {
   "cell_type": "markdown",
   "id": "a33545f7",
   "metadata": {},
   "source": [
    "# Let us take the average of minimum temperatures of December for the first decade, 1922- 1932"
   ]
  },
  {
   "cell_type": "code",
   "execution_count": 9,
   "id": "09056c9b",
   "metadata": {},
   "outputs": [],
   "source": [
    "using Statistics"
   ]
  },
  {
   "cell_type": "markdown",
   "id": "cb06e970",
   "metadata": {},
   "source": [
    "here we are making the selection of the month that we want "
   ]
  },
  {
   "cell_type": "code",
   "execution_count": 10,
   "id": "8568535c",
   "metadata": {},
   "outputs": [
    {
     "data": {
      "text/plain": [
       "\"AMiD\""
      ]
     },
     "execution_count": 10,
     "metadata": {},
     "output_type": "execute_result"
    }
   ],
   "source": [
    "B[1,2]"
   ]
  },
  {
   "cell_type": "code",
   "execution_count": 11,
   "id": "c8747602",
   "metadata": {},
   "outputs": [
    {
     "data": {
      "text/plain": [
       "18.033454545454546"
      ]
     },
     "execution_count": 11,
     "metadata": {},
     "output_type": "execute_result"
    }
   ],
   "source": [
    "mean(B[2:12,2]) # column 2, rows 3 and 4 just as an example"
   ]
  },
  {
   "cell_type": "markdown",
   "id": "fb5529c1",
   "metadata": {},
   "source": [
    " As we can see the average temperature for December 20th - 31st from 1922-1932 is about ``18.03`` (rounded) "
   ]
  },
  {
   "cell_type": "markdown",
   "id": "ecc5ea8d",
   "metadata": {},
   "source": [
    "# Now we are going to be comparing this to the minimum temperature of Dec 20th- 31st from 2012-2022: "
   ]
  },
  {
   "cell_type": "markdown",
   "id": "9752581c",
   "metadata": {},
   "source": [
    "Making the selection of the month: "
   ]
  },
  {
   "cell_type": "code",
   "execution_count": 12,
   "id": "b4b32764",
   "metadata": {},
   "outputs": [
    {
     "data": {
      "text/plain": [
       "\"AMiD\""
      ]
     },
     "execution_count": 12,
     "metadata": {},
     "output_type": "execute_result"
    }
   ],
   "source": [
    "D[1,2]"
   ]
  },
  {
   "cell_type": "markdown",
   "id": "cfd3f822",
   "metadata": {},
   "source": [
    "now we are going to be taking the average: "
   ]
  },
  {
   "cell_type": "code",
   "execution_count": 13,
   "id": "2219306d",
   "metadata": {},
   "outputs": [
    {
     "data": {
      "text/plain": [
       "16.056818181818183"
      ]
     },
     "execution_count": 13,
     "metadata": {},
     "output_type": "execute_result"
    }
   ],
   "source": [
    "mean(D[2:12,2]) # Remember that for the years 2012-2022 is going to be stored in the matrix named ``D``"
   ]
  },
  {
   "cell_type": "markdown",
   "id": "40da13f3",
   "metadata": {},
   "source": [
    "Here we see that we got the average of minimum average temperature for December, 2012-2022, to be ``16.06``, rounded"
   ]
  },
  {
   "cell_type": "markdown",
   "id": "da66dbe8",
   "metadata": {},
   "source": [
    "# Outcome: \n",
    "\n",
    "When we compare the average temperature from 1922-1932, Average Min December: ``18.03``. To the data 2012-2022: ``16.06`` we see that for the years 2012-2022 the average temperature is much lower than the average temperature from 1922-1932.  \n",
    "\n",
    "There is a difference of: "
   ]
  },
  {
   "cell_type": "code",
   "execution_count": 14,
   "id": "64f2f9d3",
   "metadata": {},
   "outputs": [
    {
     "data": {
      "text/plain": [
       "1.9700000000000024"
      ]
     },
     "execution_count": 14,
     "metadata": {},
     "output_type": "execute_result"
    }
   ],
   "source": [
    "18.03-16.06"
   ]
  },
  {
   "cell_type": "markdown",
   "id": "119909a2",
   "metadata": {},
   "source": [
    "The difference from the years 1922-1932 to 2012-2022 is: ``1.9700000000000024``, meaning it has become colder."
   ]
  },
  {
   "cell_type": "markdown",
   "id": "e354ed8e",
   "metadata": {},
   "source": [
    "# We will now do the same but for the average Max temperature for December 1922-1932"
   ]
  },
  {
   "cell_type": "code",
   "execution_count": 15,
   "id": "3baa67db",
   "metadata": {},
   "outputs": [
    {
     "data": {
      "text/plain": [
       "\"AMAD\""
      ]
     },
     "execution_count": 15,
     "metadata": {},
     "output_type": "execute_result"
    }
   ],
   "source": [
    "B[1,3]"
   ]
  },
  {
   "cell_type": "markdown",
   "id": "3c9ec0c4",
   "metadata": {},
   "source": [
    "This is the Average Max temperature for December 1922-1932. Now we are going to make sure that we are working with the correct rolls and data:"
   ]
  },
  {
   "cell_type": "code",
   "execution_count": 16,
   "id": "03cd39de",
   "metadata": {},
   "outputs": [
    {
     "data": {
      "text/plain": [
       "11-element Vector{Any}:\n",
       " 31.81\n",
       " 32.9\n",
       " 32.9\n",
       " 14.18\n",
       " 27.91\n",
       " 27.82\n",
       " 30.55\n",
       " 31.55\n",
       " 28.0\n",
       " 38.46\n",
       " 37.09"
      ]
     },
     "execution_count": 16,
     "metadata": {},
     "output_type": "execute_result"
    }
   ],
   "source": [
    "B[2:12,3]# this gives us the data"
   ]
  },
  {
   "cell_type": "markdown",
   "id": "e8790d5d",
   "metadata": {},
   "source": [
    "Yes this matches up the data for Average Max temperature for December of 1922-1932."
   ]
  },
  {
   "cell_type": "code",
   "execution_count": 17,
   "id": "6483fee7",
   "metadata": {},
   "outputs": [
    {
     "data": {
      "text/plain": [
       "30.288181818181815"
      ]
     },
     "execution_count": 17,
     "metadata": {},
     "output_type": "execute_result"
    }
   ],
   "source": [
    "mean(B[2:12,3]) # column 2, rows 3 and 4 just as an example"
   ]
  },
  {
   "cell_type": "markdown",
   "id": "46cc48e3",
   "metadata": {},
   "source": [
    "This is the average for Average Max temperature for December 1922-1932, ``30.29``"
   ]
  },
  {
   "cell_type": "markdown",
   "id": "2e3ae9ca",
   "metadata": {},
   "source": [
    "# Now we are going to be comparing this to the Max Average temperature of Dec 20th- 31st from 2012-2022: "
   ]
  },
  {
   "cell_type": "code",
   "execution_count": 18,
   "id": "a089c20e",
   "metadata": {},
   "outputs": [
    {
     "data": {
      "text/plain": [
       "\"AMAD\""
      ]
     },
     "execution_count": 18,
     "metadata": {},
     "output_type": "execute_result"
    }
   ],
   "source": [
    "D[1,3]"
   ]
  },
  {
   "cell_type": "code",
   "execution_count": 19,
   "id": "f0d36c05",
   "metadata": {},
   "outputs": [
    {
     "data": {
      "text/plain": [
       "11-element Vector{Any}:\n",
       " 26.36\n",
       " 21.09\n",
       " 31.727\n",
       " 34.82\n",
       " 35.73\n",
       " 13.36\n",
       " 34.09\n",
       " 39.09\n",
       " 31.55\n",
       " 33.36\n",
       " 26.09"
      ]
     },
     "execution_count": 19,
     "metadata": {},
     "output_type": "execute_result"
    }
   ],
   "source": [
    "D[2:12,3]# this gives the data"
   ]
  },
  {
   "cell_type": "code",
   "execution_count": 20,
   "id": "96bd296e",
   "metadata": {},
   "outputs": [
    {
     "data": {
      "text/plain": [
       "29.751545454545454"
      ]
     },
     "execution_count": 20,
     "metadata": {},
     "output_type": "execute_result"
    }
   ],
   "source": [
    "mean(D[2:12,3]) # column 2, rows 3 and 4 just as an example"
   ]
  },
  {
   "cell_type": "markdown",
   "id": "567518da",
   "metadata": {},
   "source": [
    "The average of ``29.75`` is for Average Max December 2012-2022"
   ]
  },
  {
   "cell_type": "markdown",
   "id": "a1d12ec8",
   "metadata": {},
   "source": [
    "# Outcome: \n",
    "\n",
    "Here the 1922- 1932 is : ``30.29``\n",
    "\n",
    "For 2012-2022 is: ``29.75``\n",
    "\n",
    "\n",
    "Here we see that the temperature has dropped, from ``30.29`` to ``29.75``. The difference is: \n"
   ]
  },
  {
   "cell_type": "code",
   "execution_count": 21,
   "id": "b53ffbdc",
   "metadata": {},
   "outputs": [
    {
     "data": {
      "text/plain": [
       "0.5399999999999991"
      ]
     },
     "execution_count": 21,
     "metadata": {},
     "output_type": "execute_result"
    }
   ],
   "source": [
    "30.29-29.75"
   ]
  },
  {
   "cell_type": "markdown",
   "id": "cadbad5e",
   "metadata": {},
   "source": [
    "Here we see that the difference was ``0.54``, meaning it has become colder."
   ]
  },
  {
   "cell_type": "markdown",
   "id": "d313598e",
   "metadata": {},
   "source": [
    "# Now we are going to be comparing this to the average temperature of Dec 20th- 31st from 1922-1932: "
   ]
  },
  {
   "cell_type": "code",
   "execution_count": 22,
   "id": "fe463c0d",
   "metadata": {},
   "outputs": [
    {
     "data": {
      "text/plain": [
       "\"AD\""
      ]
     },
     "execution_count": 22,
     "metadata": {},
     "output_type": "execute_result"
    }
   ],
   "source": [
    "B[1,4]"
   ]
  },
  {
   "cell_type": "code",
   "execution_count": 23,
   "id": "88165a22",
   "metadata": {},
   "outputs": [
    {
     "data": {
      "text/plain": [
       "11-element Vector{Any}:\n",
       " 26.5\n",
       " 27.64\n",
       " 27.6\n",
       "  6.91\n",
       " 20.41\n",
       " 20.91\n",
       " 24.46\n",
       " 24.23\n",
       " 20.86\n",
       " 35.14\n",
       " 31.14"
      ]
     },
     "execution_count": 23,
     "metadata": {},
     "output_type": "execute_result"
    }
   ],
   "source": [
    "B[2:12,4]# this gives the data"
   ]
  },
  {
   "cell_type": "code",
   "execution_count": 24,
   "id": "51bbb8af",
   "metadata": {},
   "outputs": [
    {
     "data": {
      "text/plain": [
       "24.16363636363636"
      ]
     },
     "execution_count": 24,
     "metadata": {},
     "output_type": "execute_result"
    }
   ],
   "source": [
    "mean(B[2:12,4])"
   ]
  },
  {
   "cell_type": "markdown",
   "id": "8d3cfcb6",
   "metadata": {},
   "source": [
    "Here we see that the average of temperature is ``24.16`` for December 1922-1932."
   ]
  },
  {
   "cell_type": "markdown",
   "id": "6bb69458",
   "metadata": {},
   "source": [
    "# Now we are going to be comparing this to the average temperature of Dec 20th- 31st from 2012-2022: "
   ]
  },
  {
   "cell_type": "code",
   "execution_count": 25,
   "id": "14a3ab4a",
   "metadata": {},
   "outputs": [
    {
     "data": {
      "text/plain": [
       "\"AD\""
      ]
     },
     "execution_count": 25,
     "metadata": {},
     "output_type": "execute_result"
    }
   ],
   "source": [
    "C[1,4]"
   ]
  },
  {
   "cell_type": "code",
   "execution_count": 26,
   "id": "d0720e23",
   "metadata": {},
   "outputs": [
    {
     "data": {
      "text/plain": [
       "11-element Vector{Any}:\n",
       " 19.68\n",
       " 12.59\n",
       " 26.64\n",
       " 30.27\n",
       " 29.27\n",
       "  5.05\n",
       " 28.68\n",
       " 33.64\n",
       " 23.59\n",
       " 25.36\n",
       " 17.68"
      ]
     },
     "execution_count": 26,
     "metadata": {},
     "output_type": "execute_result"
    }
   ],
   "source": [
    "C[2:12,4]# this gives the data"
   ]
  },
  {
   "cell_type": "code",
   "execution_count": 27,
   "id": "c04207c4",
   "metadata": {},
   "outputs": [
    {
     "data": {
      "text/plain": [
       "22.95"
      ]
     },
     "execution_count": 27,
     "metadata": {},
     "output_type": "execute_result"
    }
   ],
   "source": [
    "mean(C[2:12,4])"
   ]
  },
  {
   "cell_type": "markdown",
   "id": "8fa6d3f4",
   "metadata": {},
   "source": [
    "Here we see that the average temperature for December 2012-2022 is: ``22.95``"
   ]
  },
  {
   "cell_type": "markdown",
   "id": "99ab62d4",
   "metadata": {},
   "source": [
    "# Outcome: \n",
    "\n",
    "Average December Temperature 1922-1932: ``24.16``\n",
    "\n",
    "Average December Temperature 2012-2012: ``22.95``\n",
    "\n",
    "\n",
    "Here we see that the average temperature from one decade to another decade has dropped. It went from ``24.16`` to ``22.95``"
   ]
  },
  {
   "cell_type": "code",
   "execution_count": 28,
   "id": "bb20c6d4",
   "metadata": {},
   "outputs": [
    {
     "data": {
      "text/plain": [
       "1.2100000000000009"
      ]
     },
     "execution_count": 28,
     "metadata": {},
     "output_type": "execute_result"
    }
   ],
   "source": [
    "24.16-22.95"
   ]
  },
  {
   "cell_type": "markdown",
   "id": "8289d67a",
   "metadata": {},
   "source": [
    "Here we see that there is a decrease of ``1.21`` in temperature. "
   ]
  },
  {
   "cell_type": "markdown",
   "id": "aa6cd887",
   "metadata": {},
   "source": [
    "# Now we are going to find the Average Minimum temperature for January from 1922-1932: "
   ]
  },
  {
   "cell_type": "code",
   "execution_count": 29,
   "id": "f7384bc0",
   "metadata": {},
   "outputs": [
    {
     "data": {
      "text/plain": [
       "\"AMiJ\""
      ]
     },
     "execution_count": 29,
     "metadata": {},
     "output_type": "execute_result"
    }
   ],
   "source": [
    "B[1,5] #this gives the max minimum to January"
   ]
  },
  {
   "cell_type": "code",
   "execution_count": 30,
   "id": "26b9d1c6",
   "metadata": {},
   "outputs": [
    {
     "data": {
      "text/plain": [
       "11-element Vector{Any}:\n",
       "  5.65\n",
       " 11.2\n",
       " -3.25\n",
       "  9.9\n",
       " 14.95\n",
       "  7.75\n",
       " 17.3\n",
       " -2.95\n",
       "  9.0\n",
       " 17.8\n",
       " 22.5"
      ]
     },
     "execution_count": 30,
     "metadata": {},
     "output_type": "execute_result"
    }
   ],
   "source": [
    "B[2:12,5]# this gives the data"
   ]
  },
  {
   "cell_type": "code",
   "execution_count": 31,
   "id": "812bcb53",
   "metadata": {},
   "outputs": [
    {
     "data": {
      "text/plain": [
       "9.986363636363636"
      ]
     },
     "execution_count": 31,
     "metadata": {},
     "output_type": "execute_result"
    }
   ],
   "source": [
    "mean(B[2:12,5])"
   ]
  },
  {
   "cell_type": "markdown",
   "id": "105f968d",
   "metadata": {},
   "source": [
    "Here we see that the average Max for min January 1922-1932 is: ``9.99``"
   ]
  },
  {
   "cell_type": "markdown",
   "id": "e4428879",
   "metadata": {},
   "source": [
    "# Now we do the same for January but for 2012-2022:"
   ]
  },
  {
   "cell_type": "code",
   "execution_count": 32,
   "id": "72c82723",
   "metadata": {},
   "outputs": [
    {
     "data": {
      "text/plain": [
       "\"AMiJ\""
      ]
     },
     "execution_count": 32,
     "metadata": {},
     "output_type": "execute_result"
    }
   ],
   "source": [
    "C[1,5]"
   ]
  },
  {
   "cell_type": "code",
   "execution_count": 33,
   "id": "f85fe35b",
   "metadata": {},
   "outputs": [
    {
     "data": {
      "text/plain": [
       "11-element Vector{Any}:\n",
       " 14.05\n",
       " 11.7\n",
       "  2.45\n",
       "  7.5\n",
       "  8.6\n",
       " 12.95\n",
       "  7.4\n",
       "  8.6\n",
       " 17.75\n",
       " 20.7\n",
       "  6.8"
      ]
     },
     "execution_count": 33,
     "metadata": {},
     "output_type": "execute_result"
    }
   ],
   "source": [
    "C[2:12,5]"
   ]
  },
  {
   "cell_type": "code",
   "execution_count": 34,
   "id": "e05abd52",
   "metadata": {},
   "outputs": [
    {
     "data": {
      "text/plain": [
       "10.772727272727273"
      ]
     },
     "execution_count": 34,
     "metadata": {},
     "output_type": "execute_result"
    }
   ],
   "source": [
    "mean(C[2:12,5])"
   ]
  },
  {
   "cell_type": "markdown",
   "id": "1999a6e3",
   "metadata": {},
   "source": [
    "Here we see that there is ``10.77`` for the Average Jan Minimum for 2012-2022. \n",
    "\n",
    "# Outcome: \n",
    "\n",
    "Here we see for 1922-1932 for Min Jan average is: 9.99\n",
    "\n",
    "For 2012- 2022 for the Min Jan Average: 10.77 \n",
    "\n",
    "Here we see that there is an increase in temperature: "
   ]
  },
  {
   "cell_type": "code",
   "execution_count": 35,
   "id": "5f017362",
   "metadata": {},
   "outputs": [
    {
     "data": {
      "text/plain": [
       "0.7799999999999994"
      ]
     },
     "execution_count": 35,
     "metadata": {},
     "output_type": "execute_result"
    }
   ],
   "source": [
    "10.77-9.99"
   ]
  },
  {
   "cell_type": "markdown",
   "id": "3f65daea",
   "metadata": {},
   "source": [
    "here we see that the increase of ``0.78`` in the temperature. "
   ]
  },
  {
   "cell_type": "markdown",
   "id": "9e718e71",
   "metadata": {},
   "source": [
    "# Now we are going to find the Average Max temperature for January from 1922-1932: "
   ]
  },
  {
   "cell_type": "code",
   "execution_count": 36,
   "id": "4eff6440",
   "metadata": {},
   "outputs": [
    {
     "data": {
      "text/plain": [
       "\"AMaJ\""
      ]
     },
     "execution_count": 36,
     "metadata": {},
     "output_type": "execute_result"
    }
   ],
   "source": [
    "B[1,6] #this gives the max of Jan"
   ]
  },
  {
   "cell_type": "code",
   "execution_count": 37,
   "id": "07b9ff91",
   "metadata": {},
   "outputs": [
    {
     "data": {
      "text/plain": [
       "11-element Vector{Any}:\n",
       " 22.85\n",
       " 25.65\n",
       " 25.65\n",
       " 23.65\n",
       " 28.95\n",
       " 22.6\n",
       " 30.9\n",
       " 13.95\n",
       " 22.3\n",
       " 31.05\n",
       " 33.0"
      ]
     },
     "execution_count": 37,
     "metadata": {},
     "output_type": "execute_result"
    }
   ],
   "source": [
    "B[2:12,6]# this gives the data"
   ]
  },
  {
   "cell_type": "code",
   "execution_count": 38,
   "id": "631f7881",
   "metadata": {},
   "outputs": [
    {
     "data": {
      "text/plain": [
       "25.50454545454546"
      ]
     },
     "execution_count": 38,
     "metadata": {},
     "output_type": "execute_result"
    }
   ],
   "source": [
    "mean(B[2:12,6])"
   ]
  },
  {
   "cell_type": "markdown",
   "id": "67ce632e",
   "metadata": {},
   "source": [
    "here we see that the average Max for Jan 1922-1932 is: ``25.50``"
   ]
  },
  {
   "cell_type": "markdown",
   "id": "7ba84cbe",
   "metadata": {},
   "source": [
    "# Now we are going to find the Average Max temperature for January from 2012-2022: "
   ]
  },
  {
   "cell_type": "code",
   "execution_count": 39,
   "id": "804203bd",
   "metadata": {},
   "outputs": [
    {
     "data": {
      "text/plain": [
       "\"AMaJ\""
      ]
     },
     "execution_count": 39,
     "metadata": {},
     "output_type": "execute_result"
    }
   ],
   "source": [
    "C[1,6]"
   ]
  },
  {
   "cell_type": "code",
   "execution_count": 40,
   "id": "bee2b090",
   "metadata": {},
   "outputs": [
    {
     "data": {
      "text/plain": [
       "11-element Vector{Any}:\n",
       " 32.45\n",
       " 30.65\n",
       " 20.75\n",
       " 21.45\n",
       " 23.3\n",
       " 25.4\n",
       " 23.95\n",
       " 23.3\n",
       " 32.75\n",
       " 30.9\n",
       " 24.15"
      ]
     },
     "execution_count": 40,
     "metadata": {},
     "output_type": "execute_result"
    }
   ],
   "source": [
    "C[2:12,6]"
   ]
  },
  {
   "cell_type": "code",
   "execution_count": 41,
   "id": "e8611712",
   "metadata": {},
   "outputs": [
    {
     "data": {
      "text/plain": [
       "26.277272727272724"
      ]
     },
     "execution_count": 41,
     "metadata": {},
     "output_type": "execute_result"
    }
   ],
   "source": [
    "mean(C[2:12,6])"
   ]
  },
  {
   "cell_type": "markdown",
   "id": "7c904c8e",
   "metadata": {},
   "source": [
    "Here we see that the average for Jan 2012-2022 is: ``26.28``"
   ]
  },
  {
   "cell_type": "markdown",
   "id": "cdd7dd9f",
   "metadata": {},
   "source": [
    "# Outcome \n",
    "\n",
    "we see that weather: ``25.50`` (1922-1932)\n",
    "\n",
    "We see that weather: ``26.28`` (2012-2022)\n",
    "\n",
    "Here we see that there was increase of weather:"
   ]
  },
  {
   "cell_type": "code",
   "execution_count": 42,
   "id": "8a60b12c",
   "metadata": {},
   "outputs": [
    {
     "data": {
      "text/plain": [
       "0.7800000000000011"
      ]
     },
     "execution_count": 42,
     "metadata": {},
     "output_type": "execute_result"
    }
   ],
   "source": [
    "# the difference of weather is: \n",
    "26.28-25.50"
   ]
  },
  {
   "cell_type": "markdown",
   "id": "2309c3f7",
   "metadata": {},
   "source": [
    "here we see that there is an increase of weather is: ``0.78``"
   ]
  },
  {
   "cell_type": "markdown",
   "id": "e987fe42",
   "metadata": {},
   "source": [
    "# Now we are going to find the average of January 1922-1932: "
   ]
  },
  {
   "cell_type": "code",
   "execution_count": 43,
   "id": "48e9cec3",
   "metadata": {},
   "outputs": [
    {
     "data": {
      "text/plain": [
       "\"AJ\""
      ]
     },
     "execution_count": 43,
     "metadata": {},
     "output_type": "execute_result"
    }
   ],
   "source": [
    "B[1,7]"
   ]
  },
  {
   "cell_type": "code",
   "execution_count": 44,
   "id": "835082fd",
   "metadata": {},
   "outputs": [
    {
     "data": {
      "text/plain": [
       "11-element Vector{Any}:\n",
       " 14.25\n",
       " 18.43\n",
       "  5.65\n",
       " 16.78\n",
       " 21.95\n",
       " 15.18\n",
       " 24.1\n",
       "  5.5\n",
       " 15.65\n",
       " 24.43\n",
       " 27.75"
      ]
     },
     "execution_count": 44,
     "metadata": {},
     "output_type": "execute_result"
    }
   ],
   "source": [
    "B[2:12,7]# this gives the data"
   ]
  },
  {
   "cell_type": "code",
   "execution_count": 45,
   "id": "0d08e325",
   "metadata": {},
   "outputs": [
    {
     "data": {
      "text/plain": [
       "17.242727272727276"
      ]
     },
     "execution_count": 45,
     "metadata": {},
     "output_type": "execute_result"
    }
   ],
   "source": [
    "mean(B[2:12,7])"
   ]
  },
  {
   "cell_type": "markdown",
   "id": "07b84425",
   "metadata": {},
   "source": [
    "Here we see that the average for January temperature for 1922-1932 is: ``17.24``"
   ]
  },
  {
   "cell_type": "markdown",
   "id": "da8e3503",
   "metadata": {},
   "source": [
    "# Now we do this for January temperature 2012-2022: "
   ]
  },
  {
   "cell_type": "code",
   "execution_count": 46,
   "id": "1c39fba4",
   "metadata": {},
   "outputs": [
    {
     "data": {
      "text/plain": [
       "\"AJ\""
      ]
     },
     "execution_count": 46,
     "metadata": {},
     "output_type": "execute_result"
    }
   ],
   "source": [
    "C[1,7]"
   ]
  },
  {
   "cell_type": "code",
   "execution_count": 47,
   "id": "1647ab3f",
   "metadata": {},
   "outputs": [
    {
     "data": {
      "text/plain": [
       "11-element Vector{Any}:\n",
       " 23.25\n",
       " 21.175\n",
       " 11.6\n",
       " 14.48\n",
       " 15.95\n",
       " 19.18\n",
       " 15.68\n",
       " 15.95\n",
       " 25.25\n",
       " 25.8\n",
       " 15.48"
      ]
     },
     "execution_count": 47,
     "metadata": {},
     "output_type": "execute_result"
    }
   ],
   "source": [
    "C[2:12,7]"
   ]
  },
  {
   "cell_type": "code",
   "execution_count": 48,
   "id": "f5424e89",
   "metadata": {},
   "outputs": [
    {
     "data": {
      "text/plain": [
       "18.526818181818182"
      ]
     },
     "execution_count": 48,
     "metadata": {},
     "output_type": "execute_result"
    }
   ],
   "source": [
    "mean(C[2:12,7])"
   ]
  },
  {
   "cell_type": "markdown",
   "id": "306384c6",
   "metadata": {},
   "source": [
    "Here we see that the average for 2012-2022 January: ``18.53`` "
   ]
  },
  {
   "cell_type": "markdown",
   "id": "d78762c4",
   "metadata": {},
   "source": [
    "# Outcome \n",
    "\n",
    "Temperature for 1922-1932 Jan: ``17.24``\n",
    "\n",
    "Temperature for 2012-2022 Jan: ``18.53``"
   ]
  },
  {
   "cell_type": "markdown",
   "id": "332e5c41",
   "metadata": {},
   "source": [
    "There has been an increase in temperature, the difference is: "
   ]
  },
  {
   "cell_type": "code",
   "execution_count": 49,
   "id": "18218d06",
   "metadata": {},
   "outputs": [
    {
     "data": {
      "text/plain": [
       "1.2900000000000027"
      ]
     },
     "execution_count": 49,
     "metadata": {},
     "output_type": "execute_result"
    }
   ],
   "source": [
    "18.53-17.24"
   ]
  },
  {
   "cell_type": "markdown",
   "id": "1b55def4",
   "metadata": {},
   "source": [
    "Here we see that the increase of temperature is ``1.29``"
   ]
  },
  {
   "cell_type": "markdown",
   "id": "1dae7251",
   "metadata": {},
   "source": [
    "# Now we are going to graph the data of minimum of December 1922-1932, then the minimum of December 2012-2022: "
   ]
  },
  {
   "cell_type": "markdown",
   "id": "7f4d6980",
   "metadata": {},
   "source": [
    "We are going to have to select the arrays that are going to be used in order to graph: \n",
    "\n",
    "for the sake of time I am going to have all of the January with 1922-1932 "
   ]
  },
  {
   "cell_type": "code",
   "execution_count": 50,
   "id": "45050816",
   "metadata": {},
   "outputs": [],
   "source": [
    "using Plots"
   ]
  },
  {
   "cell_type": "code",
   "execution_count": 51,
   "id": "85678be9",
   "metadata": {},
   "outputs": [
    {
     "data": {
      "text/plain": [
       "11-element Vector{Any}:\n",
       " 21.18\n",
       " 22.3\n",
       " 22.34\n",
       " -0.36\n",
       " 12.91\n",
       " 14.0\n",
       " 18.36\n",
       " 16.91\n",
       " 13.73\n",
       " 31.818\n",
       " 25.18"
      ]
     },
     "execution_count": 51,
     "metadata": {},
     "output_type": "execute_result"
    }
   ],
   "source": [
    "# I am going to try to get one month of December min 1922-1932 being selected and then recorded: \n",
    "dectempmin=B[2:12,2] # this is the min of temperature, it checks out"
   ]
  },
  {
   "cell_type": "markdown",
   "id": "10f432ba",
   "metadata": {},
   "source": [
    "Now we are going to graph it: "
   ]
  },
  {
   "cell_type": "code",
   "execution_count": 52,
   "id": "c4f1a803",
   "metadata": {},
   "outputs": [
    {
     "data": {
      "image/svg+xml": [
       "<?xml version=\"1.0\" encoding=\"utf-8\"?>\n",
       "<svg xmlns=\"http://www.w3.org/2000/svg\" xmlns:xlink=\"http://www.w3.org/1999/xlink\" width=\"600\" height=\"400\" viewBox=\"0 0 2400 1600\">\n",
       "<defs>\n",
       "  <clipPath id=\"clip910\">\n",
       "    <rect x=\"0\" y=\"0\" width=\"2400\" height=\"1600\"/>\n",
       "  </clipPath>\n",
       "</defs>\n",
       "<path clip-path=\"url(#clip910)\" d=\"\n",
       "M0 1600 L2400 1600 L2400 0 L0 0  Z\n",
       "  \" fill=\"#ffffff\" fill-rule=\"evenodd\" fill-opacity=\"1\"/>\n",
       "<defs>\n",
       "  <clipPath id=\"clip911\">\n",
       "    <rect x=\"480\" y=\"0\" width=\"1681\" height=\"1600\"/>\n",
       "  </clipPath>\n",
       "</defs>\n",
       "<path clip-path=\"url(#clip910)\" d=\"\n",
       "M140.696 1486.45 L2352.76 1486.45 L2352.76 47.2441 L140.696 47.2441  Z\n",
       "  \" fill=\"#ffffff\" fill-rule=\"evenodd\" fill-opacity=\"1\"/>\n",
       "<defs>\n",
       "  <clipPath id=\"clip912\">\n",
       "    <rect x=\"140\" y=\"47\" width=\"2213\" height=\"1440\"/>\n",
       "  </clipPath>\n",
       "</defs>\n",
       "<polyline clip-path=\"url(#clip912)\" style=\"stroke:#000000; stroke-linecap:round; stroke-linejoin:round; stroke-width:2; stroke-opacity:0.1; fill:none\" points=\"\n",
       "  411.986,1486.45 411.986,47.2441 \n",
       "  \"/>\n",
       "<polyline clip-path=\"url(#clip912)\" style=\"stroke:#000000; stroke-linecap:round; stroke-linejoin:round; stroke-width:2; stroke-opacity:0.1; fill:none\" points=\"\n",
       "  829.356,1486.45 829.356,47.2441 \n",
       "  \"/>\n",
       "<polyline clip-path=\"url(#clip912)\" style=\"stroke:#000000; stroke-linecap:round; stroke-linejoin:round; stroke-width:2; stroke-opacity:0.1; fill:none\" points=\"\n",
       "  1246.73,1486.45 1246.73,47.2441 \n",
       "  \"/>\n",
       "<polyline clip-path=\"url(#clip912)\" style=\"stroke:#000000; stroke-linecap:round; stroke-linejoin:round; stroke-width:2; stroke-opacity:0.1; fill:none\" points=\"\n",
       "  1664.1,1486.45 1664.1,47.2441 \n",
       "  \"/>\n",
       "<polyline clip-path=\"url(#clip912)\" style=\"stroke:#000000; stroke-linecap:round; stroke-linejoin:round; stroke-width:2; stroke-opacity:0.1; fill:none\" points=\"\n",
       "  2081.47,1486.45 2081.47,47.2441 \n",
       "  \"/>\n",
       "<polyline clip-path=\"url(#clip910)\" style=\"stroke:#000000; stroke-linecap:round; stroke-linejoin:round; stroke-width:4; stroke-opacity:1; fill:none\" points=\"\n",
       "  140.696,1486.45 2352.76,1486.45 \n",
       "  \"/>\n",
       "<polyline clip-path=\"url(#clip910)\" style=\"stroke:#000000; stroke-linecap:round; stroke-linejoin:round; stroke-width:4; stroke-opacity:1; fill:none\" points=\"\n",
       "  411.986,1486.45 411.986,1467.55 \n",
       "  \"/>\n",
       "<polyline clip-path=\"url(#clip910)\" style=\"stroke:#000000; stroke-linecap:round; stroke-linejoin:round; stroke-width:4; stroke-opacity:1; fill:none\" points=\"\n",
       "  829.356,1486.45 829.356,1467.55 \n",
       "  \"/>\n",
       "<polyline clip-path=\"url(#clip910)\" style=\"stroke:#000000; stroke-linecap:round; stroke-linejoin:round; stroke-width:4; stroke-opacity:1; fill:none\" points=\"\n",
       "  1246.73,1486.45 1246.73,1467.55 \n",
       "  \"/>\n",
       "<polyline clip-path=\"url(#clip910)\" style=\"stroke:#000000; stroke-linecap:round; stroke-linejoin:round; stroke-width:4; stroke-opacity:1; fill:none\" points=\"\n",
       "  1664.1,1486.45 1664.1,1467.55 \n",
       "  \"/>\n",
       "<polyline clip-path=\"url(#clip910)\" style=\"stroke:#000000; stroke-linecap:round; stroke-linejoin:round; stroke-width:4; stroke-opacity:1; fill:none\" points=\"\n",
       "  2081.47,1486.45 2081.47,1467.55 \n",
       "  \"/>\n",
       "<path clip-path=\"url(#clip910)\" d=\"M406.639 1544.91 L422.958 1544.91 L422.958 1548.85 L401.014 1548.85 L401.014 1544.91 Q403.676 1542.16 408.259 1537.53 Q412.866 1532.88 414.046 1531.53 Q416.291 1529.01 417.171 1527.27 Q418.074 1525.51 418.074 1523.82 Q418.074 1521.07 416.129 1519.33 Q414.208 1517.6 411.106 1517.6 Q408.907 1517.6 406.454 1518.36 Q404.023 1519.13 401.245 1520.68 L401.245 1515.95 Q404.069 1514.82 406.523 1514.24 Q408.977 1513.66 411.014 1513.66 Q416.384 1513.66 419.579 1516.35 Q422.773 1519.03 422.773 1523.52 Q422.773 1525.65 421.963 1527.57 Q421.176 1529.47 419.069 1532.07 Q418.491 1532.74 415.389 1535.95 Q412.287 1539.15 406.639 1544.91 Z\" fill=\"#000000\" fill-rule=\"evenodd\" fill-opacity=\"1\" /><path clip-path=\"url(#clip910)\" d=\"M832.365 1518.36 L820.56 1536.81 L832.365 1536.81 L832.365 1518.36 M831.138 1514.29 L837.018 1514.29 L837.018 1536.81 L841.948 1536.81 L841.948 1540.7 L837.018 1540.7 L837.018 1548.85 L832.365 1548.85 L832.365 1540.7 L816.763 1540.7 L816.763 1536.19 L831.138 1514.29 Z\" fill=\"#000000\" fill-rule=\"evenodd\" fill-opacity=\"1\" /><path clip-path=\"url(#clip910)\" d=\"M1247.13 1529.7 Q1243.98 1529.7 1242.13 1531.86 Q1240.3 1534.01 1240.3 1537.76 Q1240.3 1541.49 1242.13 1543.66 Q1243.98 1545.82 1247.13 1545.82 Q1250.28 1545.82 1252.11 1543.66 Q1253.96 1541.49 1253.96 1537.76 Q1253.96 1534.01 1252.11 1531.86 Q1250.28 1529.7 1247.13 1529.7 M1256.41 1515.05 L1256.41 1519.31 Q1254.65 1518.48 1252.85 1518.04 Q1251.07 1517.6 1249.31 1517.6 Q1244.68 1517.6 1242.22 1520.72 Q1239.79 1523.85 1239.45 1530.17 Q1240.81 1528.15 1242.87 1527.09 Q1244.93 1526 1247.41 1526 Q1252.62 1526 1255.63 1529.17 Q1258.66 1532.32 1258.66 1537.76 Q1258.66 1543.08 1255.51 1546.3 Q1252.36 1549.52 1247.13 1549.52 Q1241.14 1549.52 1237.96 1544.94 Q1234.79 1540.33 1234.79 1531.6 Q1234.79 1523.41 1238.68 1518.55 Q1242.57 1513.66 1249.12 1513.66 Q1250.88 1513.66 1252.66 1514.01 Q1254.47 1514.36 1256.41 1515.05 Z\" fill=\"#000000\" fill-rule=\"evenodd\" fill-opacity=\"1\" /><path clip-path=\"url(#clip910)\" d=\"M1664.1 1532.44 Q1660.76 1532.44 1658.84 1534.22 Q1656.94 1536 1656.94 1539.13 Q1656.94 1542.25 1658.84 1544.03 Q1660.76 1545.82 1664.1 1545.82 Q1667.43 1545.82 1669.35 1544.03 Q1671.27 1542.23 1671.27 1539.13 Q1671.27 1536 1669.35 1534.22 Q1667.45 1532.44 1664.1 1532.44 M1659.42 1530.45 Q1656.41 1529.7 1654.72 1527.64 Q1653.05 1525.58 1653.05 1522.62 Q1653.05 1518.48 1655.99 1516.07 Q1658.96 1513.66 1664.1 1513.66 Q1669.26 1513.66 1672.2 1516.07 Q1675.14 1518.48 1675.14 1522.62 Q1675.14 1525.58 1673.45 1527.64 Q1671.78 1529.7 1668.79 1530.45 Q1672.17 1531.23 1674.05 1533.52 Q1675.95 1535.82 1675.95 1539.13 Q1675.95 1544.15 1672.87 1546.83 Q1669.81 1549.52 1664.1 1549.52 Q1658.38 1549.52 1655.3 1546.83 Q1652.24 1544.15 1652.24 1539.13 Q1652.24 1535.82 1654.14 1533.52 Q1656.04 1531.23 1659.42 1530.45 M1657.71 1523.06 Q1657.71 1525.75 1659.37 1527.25 Q1661.06 1528.76 1664.1 1528.76 Q1667.1 1528.76 1668.79 1527.25 Q1670.51 1525.75 1670.51 1523.06 Q1670.51 1520.38 1668.79 1518.87 Q1667.1 1517.37 1664.1 1517.37 Q1661.06 1517.37 1659.37 1518.87 Q1657.71 1520.38 1657.71 1523.06 Z\" fill=\"#000000\" fill-rule=\"evenodd\" fill-opacity=\"1\" /><path clip-path=\"url(#clip910)\" d=\"M2056.15 1544.91 L2063.79 1544.91 L2063.79 1518.55 L2055.48 1520.21 L2055.48 1515.95 L2063.75 1514.29 L2068.42 1514.29 L2068.42 1544.91 L2076.06 1544.91 L2076.06 1548.85 L2056.15 1548.85 L2056.15 1544.91 Z\" fill=\"#000000\" fill-rule=\"evenodd\" fill-opacity=\"1\" /><path clip-path=\"url(#clip910)\" d=\"M2095.5 1517.37 Q2091.89 1517.37 2090.06 1520.93 Q2088.26 1524.47 2088.26 1531.6 Q2088.26 1538.71 2090.06 1542.27 Q2091.89 1545.82 2095.5 1545.82 Q2099.14 1545.82 2100.94 1542.27 Q2102.77 1538.71 2102.77 1531.6 Q2102.77 1524.47 2100.94 1520.93 Q2099.14 1517.37 2095.5 1517.37 M2095.5 1513.66 Q2101.31 1513.66 2104.37 1518.27 Q2107.45 1522.85 2107.45 1531.6 Q2107.45 1540.33 2104.37 1544.94 Q2101.31 1549.52 2095.5 1549.52 Q2089.69 1549.52 2086.62 1544.94 Q2083.56 1540.33 2083.56 1531.6 Q2083.56 1522.85 2086.62 1518.27 Q2089.69 1513.66 2095.5 1513.66 Z\" fill=\"#000000\" fill-rule=\"evenodd\" fill-opacity=\"1\" /><polyline clip-path=\"url(#clip912)\" style=\"stroke:#000000; stroke-linecap:round; stroke-linejoin:round; stroke-width:2; stroke-opacity:0.1; fill:none\" points=\"\n",
       "  140.696,1430.53 2352.76,1430.53 \n",
       "  \"/>\n",
       "<polyline clip-path=\"url(#clip912)\" style=\"stroke:#000000; stroke-linecap:round; stroke-linejoin:round; stroke-width:2; stroke-opacity:0.1; fill:none\" points=\"\n",
       "  140.696,1008.58 2352.76,1008.58 \n",
       "  \"/>\n",
       "<polyline clip-path=\"url(#clip912)\" style=\"stroke:#000000; stroke-linecap:round; stroke-linejoin:round; stroke-width:2; stroke-opacity:0.1; fill:none\" points=\"\n",
       "  140.696,586.633 2352.76,586.633 \n",
       "  \"/>\n",
       "<polyline clip-path=\"url(#clip912)\" style=\"stroke:#000000; stroke-linecap:round; stroke-linejoin:round; stroke-width:2; stroke-opacity:0.1; fill:none\" points=\"\n",
       "  140.696,164.686 2352.76,164.686 \n",
       "  \"/>\n",
       "<polyline clip-path=\"url(#clip910)\" style=\"stroke:#000000; stroke-linecap:round; stroke-linejoin:round; stroke-width:4; stroke-opacity:1; fill:none\" points=\"\n",
       "  140.696,1486.45 140.696,47.2441 \n",
       "  \"/>\n",
       "<polyline clip-path=\"url(#clip910)\" style=\"stroke:#000000; stroke-linecap:round; stroke-linejoin:round; stroke-width:4; stroke-opacity:1; fill:none\" points=\"\n",
       "  140.696,1430.53 159.593,1430.53 \n",
       "  \"/>\n",
       "<polyline clip-path=\"url(#clip910)\" style=\"stroke:#000000; stroke-linecap:round; stroke-linejoin:round; stroke-width:4; stroke-opacity:1; fill:none\" points=\"\n",
       "  140.696,1008.58 159.593,1008.58 \n",
       "  \"/>\n",
       "<polyline clip-path=\"url(#clip910)\" style=\"stroke:#000000; stroke-linecap:round; stroke-linejoin:round; stroke-width:4; stroke-opacity:1; fill:none\" points=\"\n",
       "  140.696,586.633 159.593,586.633 \n",
       "  \"/>\n",
       "<polyline clip-path=\"url(#clip910)\" style=\"stroke:#000000; stroke-linecap:round; stroke-linejoin:round; stroke-width:4; stroke-opacity:1; fill:none\" points=\"\n",
       "  140.696,164.686 159.593,164.686 \n",
       "  \"/>\n",
       "<path clip-path=\"url(#clip910)\" d=\"M92.7512 1416.32 Q89.1401 1416.32 87.3114 1419.89 Q85.5058 1423.43 85.5058 1430.56 Q85.5058 1437.67 87.3114 1441.23 Q89.1401 1444.77 92.7512 1444.77 Q96.3854 1444.77 98.1909 1441.23 Q100.02 1437.67 100.02 1430.56 Q100.02 1423.43 98.1909 1419.89 Q96.3854 1416.32 92.7512 1416.32 M92.7512 1412.62 Q98.5613 1412.62 101.617 1417.23 Q104.696 1421.81 104.696 1430.56 Q104.696 1439.29 101.617 1443.89 Q98.5613 1448.48 92.7512 1448.48 Q86.941 1448.48 83.8623 1443.89 Q80.8068 1439.29 80.8068 1430.56 Q80.8068 1421.81 83.8623 1417.23 Q86.941 1412.62 92.7512 1412.62 Z\" fill=\"#000000\" fill-rule=\"evenodd\" fill-opacity=\"1\" /><path clip-path=\"url(#clip910)\" d=\"M53.3995 1021.92 L61.0384 1021.92 L61.0384 995.558 L52.7282 997.225 L52.7282 992.966 L60.9921 991.299 L65.668 991.299 L65.668 1021.92 L73.3068 1021.92 L73.3068 1025.86 L53.3995 1025.86 L53.3995 1021.92 Z\" fill=\"#000000\" fill-rule=\"evenodd\" fill-opacity=\"1\" /><path clip-path=\"url(#clip910)\" d=\"M92.7512 994.378 Q89.1401 994.378 87.3114 997.943 Q85.5058 1001.48 85.5058 1008.61 Q85.5058 1015.72 87.3114 1019.29 Q89.1401 1022.83 92.7512 1022.83 Q96.3854 1022.83 98.1909 1019.29 Q100.02 1015.72 100.02 1008.61 Q100.02 1001.48 98.1909 997.943 Q96.3854 994.378 92.7512 994.378 M92.7512 990.674 Q98.5613 990.674 101.617 995.281 Q104.696 999.864 104.696 1008.61 Q104.696 1017.34 101.617 1021.95 Q98.5613 1026.53 92.7512 1026.53 Q86.941 1026.53 83.8623 1021.95 Q80.8068 1017.34 80.8068 1008.61 Q80.8068 999.864 83.8623 995.281 Q86.941 990.674 92.7512 990.674 Z\" fill=\"#000000\" fill-rule=\"evenodd\" fill-opacity=\"1\" /><path clip-path=\"url(#clip910)\" d=\"M56.6171 599.977 L72.9365 599.977 L72.9365 603.913 L50.9921 603.913 L50.9921 599.977 Q53.6541 597.223 58.2375 592.593 Q62.8439 587.941 64.0245 586.598 Q66.2698 584.075 67.1494 582.339 Q68.0522 580.579 68.0522 578.89 Q68.0522 576.135 66.1078 574.399 Q64.1865 572.663 61.0847 572.663 Q58.8856 572.663 56.4319 573.427 Q54.0014 574.191 51.2236 575.741 L51.2236 571.019 Q54.0477 569.885 56.5014 569.306 Q58.955 568.728 60.9921 568.728 Q66.3624 568.728 69.5568 571.413 Q72.7513 574.098 72.7513 578.589 Q72.7513 580.718 71.9411 582.64 Q71.1541 584.538 69.0476 587.13 Q68.4689 587.802 65.367 591.019 Q62.2652 594.214 56.6171 599.977 Z\" fill=\"#000000\" fill-rule=\"evenodd\" fill-opacity=\"1\" /><path clip-path=\"url(#clip910)\" d=\"M92.7512 572.431 Q89.1401 572.431 87.3114 575.996 Q85.5058 579.538 85.5058 586.667 Q85.5058 593.774 87.3114 597.339 Q89.1401 600.88 92.7512 600.88 Q96.3854 600.88 98.1909 597.339 Q100.02 593.774 100.02 586.667 Q100.02 579.538 98.1909 575.996 Q96.3854 572.431 92.7512 572.431 M92.7512 568.728 Q98.5613 568.728 101.617 573.334 Q104.696 577.917 104.696 586.667 Q104.696 595.394 101.617 600.001 Q98.5613 604.584 92.7512 604.584 Q86.941 604.584 83.8623 600.001 Q80.8068 595.394 80.8068 586.667 Q80.8068 577.917 83.8623 573.334 Q86.941 568.728 92.7512 568.728 Z\" fill=\"#000000\" fill-rule=\"evenodd\" fill-opacity=\"1\" /><path clip-path=\"url(#clip910)\" d=\"M66.7559 163.332 Q70.1124 164.05 71.9874 166.318 Q73.8855 168.587 73.8855 171.92 Q73.8855 177.036 70.367 179.837 Q66.8485 182.637 60.3671 182.637 Q58.1912 182.637 55.8764 182.198 Q53.5847 181.781 51.131 180.924 L51.131 176.411 Q53.0754 177.545 55.3903 178.124 Q57.7051 178.702 60.2282 178.702 Q64.6263 178.702 66.918 176.966 Q69.2328 175.23 69.2328 171.92 Q69.2328 168.864 67.08 167.151 Q64.9504 165.415 61.131 165.415 L57.1032 165.415 L57.1032 161.573 L61.3161 161.573 Q64.7652 161.573 66.5939 160.207 Q68.4226 158.818 68.4226 156.226 Q68.4226 153.564 66.5245 152.151 Q64.6495 150.716 61.131 150.716 Q59.2097 150.716 57.0106 151.133 Q54.8115 151.55 52.1727 152.429 L52.1727 148.263 Q54.8347 147.522 57.1495 147.152 Q59.4875 146.781 61.5476 146.781 Q66.8717 146.781 69.9735 149.212 Q73.0753 151.619 73.0753 155.739 Q73.0753 158.61 71.4318 160.601 Q69.7883 162.568 66.7559 163.332 Z\" fill=\"#000000\" fill-rule=\"evenodd\" fill-opacity=\"1\" /><path clip-path=\"url(#clip910)\" d=\"M92.7512 150.485 Q89.1401 150.485 87.3114 154.05 Q85.5058 157.591 85.5058 164.721 Q85.5058 171.827 87.3114 175.392 Q89.1401 178.934 92.7512 178.934 Q96.3854 178.934 98.1909 175.392 Q100.02 171.827 100.02 164.721 Q100.02 157.591 98.1909 154.05 Q96.3854 150.485 92.7512 150.485 M92.7512 146.781 Q98.5613 146.781 101.617 151.388 Q104.696 155.971 104.696 164.721 Q104.696 173.448 101.617 178.054 Q98.5613 182.637 92.7512 182.637 Q86.941 182.637 83.8623 178.054 Q80.8068 173.448 80.8068 164.721 Q80.8068 155.971 83.8623 151.388 Q86.941 146.781 92.7512 146.781 Z\" fill=\"#000000\" fill-rule=\"evenodd\" fill-opacity=\"1\" /><polyline clip-path=\"url(#clip912)\" style=\"stroke:#009af9; stroke-linecap:round; stroke-linejoin:round; stroke-width:4; stroke-opacity:1; fill:none\" points=\"\n",
       "  203.301,536.843 411.986,489.585 620.671,487.897 829.356,1445.72 1038.04,885.793 1246.73,839.801 1455.41,655.832 1664.1,717.014 1872.78,851.193 2081.47,87.9763 \n",
       "  2290.15,368.064 \n",
       "  \"/>\n",
       "<path clip-path=\"url(#clip910)\" d=\"\n",
       "M214.431 1438.47 L1087.93 1438.47 L1087.93 1334.79 L214.431 1334.79  Z\n",
       "  \" fill=\"#ffffff\" fill-rule=\"evenodd\" fill-opacity=\"1\"/>\n",
       "<polyline clip-path=\"url(#clip910)\" style=\"stroke:#000000; stroke-linecap:round; stroke-linejoin:round; stroke-width:4; stroke-opacity:1; fill:none\" points=\"\n",
       "  214.431,1438.47 1087.93,1438.47 1087.93,1334.79 214.431,1334.79 214.431,1438.47 \n",
       "  \"/>\n",
       "<polyline clip-path=\"url(#clip910)\" style=\"stroke:#009af9; stroke-linecap:round; stroke-linejoin:round; stroke-width:4; stroke-opacity:1; fill:none\" points=\"\n",
       "  239.009,1386.63 386.48,1386.63 \n",
       "  \"/>\n",
       "<path clip-path=\"url(#clip910)\" d=\"M415.734 1373.2 L415.734 1400.07 L421.382 1400.07 Q428.535 1400.07 431.845 1396.83 Q435.179 1393.59 435.179 1386.6 Q435.179 1379.66 431.845 1376.44 Q428.535 1373.2 421.382 1373.2 L415.734 1373.2 M411.058 1369.35 L420.665 1369.35 Q430.711 1369.35 435.41 1373.54 Q440.109 1377.71 440.109 1386.6 Q440.109 1395.53 435.387 1399.72 Q430.665 1403.91 420.665 1403.91 L411.058 1403.91 L411.058 1369.35 Z\" fill=\"#000000\" fill-rule=\"evenodd\" fill-opacity=\"1\" /><path clip-path=\"url(#clip910)\" d=\"M469.554 1389.89 L469.554 1391.97 L449.97 1391.97 Q450.248 1396.37 452.609 1398.68 Q454.993 1400.97 459.23 1400.97 Q461.683 1400.97 463.975 1400.37 Q466.29 1399.77 468.558 1398.57 L468.558 1402.59 Q466.267 1403.57 463.859 1404.08 Q461.452 1404.59 458.975 1404.59 Q452.771 1404.59 449.137 1400.97 Q445.526 1397.36 445.526 1391.21 Q445.526 1384.84 448.952 1381.11 Q452.401 1377.36 458.234 1377.36 Q463.466 1377.36 466.498 1380.74 Q469.554 1384.1 469.554 1389.89 M465.294 1388.64 Q465.248 1385.14 463.327 1383.06 Q461.429 1380.97 458.28 1380.97 Q454.716 1380.97 452.563 1382.99 Q450.433 1385 450.109 1388.66 L465.294 1388.64 Z\" fill=\"#000000\" fill-rule=\"evenodd\" fill-opacity=\"1\" /><path clip-path=\"url(#clip910)\" d=\"M495.202 1378.98 L495.202 1382.97 Q493.396 1381.97 491.567 1381.48 Q489.762 1380.97 487.91 1380.97 Q483.766 1380.97 481.475 1383.61 Q479.183 1386.23 479.183 1390.97 Q479.183 1395.72 481.475 1398.36 Q483.766 1400.97 487.91 1400.97 Q489.762 1400.97 491.567 1400.49 Q493.396 1399.98 495.202 1398.98 L495.202 1402.92 Q493.419 1403.75 491.498 1404.17 Q489.6 1404.59 487.447 1404.59 Q481.591 1404.59 478.141 1400.91 Q474.692 1397.22 474.692 1390.97 Q474.692 1384.63 478.165 1381 Q481.66 1377.36 487.725 1377.36 Q489.692 1377.36 491.567 1377.78 Q493.442 1378.17 495.202 1378.98 Z\" fill=\"#000000\" fill-rule=\"evenodd\" fill-opacity=\"1\" /><path clip-path=\"url(#clip910)\" d=\"M513.072 1369.35 L542.308 1369.35 L542.308 1373.29 L530.039 1373.29 L530.039 1403.91 L525.34 1403.91 L525.34 1373.29 L513.072 1373.29 L513.072 1369.35 Z\" fill=\"#000000\" fill-rule=\"evenodd\" fill-opacity=\"1\" /><path clip-path=\"url(#clip910)\" d=\"M560.757 1389.89 L560.757 1391.97 L541.174 1391.97 Q541.451 1396.37 543.812 1398.68 Q546.197 1400.97 550.433 1400.97 Q552.886 1400.97 555.178 1400.37 Q557.493 1399.77 559.761 1398.57 L559.761 1402.59 Q557.47 1403.57 555.062 1404.08 Q552.655 1404.59 550.178 1404.59 Q543.974 1404.59 540.34 1400.97 Q536.729 1397.36 536.729 1391.21 Q536.729 1384.84 540.155 1381.11 Q543.604 1377.36 549.437 1377.36 Q554.669 1377.36 557.701 1380.74 Q560.757 1384.1 560.757 1389.89 M556.498 1388.64 Q556.451 1385.14 554.53 1383.06 Q552.632 1380.97 549.484 1380.97 Q545.919 1380.97 543.766 1382.99 Q541.636 1385 541.312 1388.66 L556.498 1388.64 Z\" fill=\"#000000\" fill-rule=\"evenodd\" fill-opacity=\"1\" /><path clip-path=\"url(#clip910)\" d=\"M587.933 1382.97 Q589.53 1380.1 591.752 1378.73 Q593.974 1377.36 596.983 1377.36 Q601.034 1377.36 603.233 1380.21 Q605.432 1383.03 605.432 1388.27 L605.432 1403.91 L601.15 1403.91 L601.15 1388.41 Q601.15 1384.68 599.831 1382.87 Q598.511 1381.07 595.803 1381.07 Q592.493 1381.07 590.571 1383.27 Q588.65 1385.47 588.65 1389.26 L588.65 1403.91 L584.368 1403.91 L584.368 1388.41 Q584.368 1384.66 583.048 1382.87 Q581.729 1381.07 578.974 1381.07 Q575.71 1381.07 573.789 1383.29 Q571.868 1385.49 571.868 1389.26 L571.868 1403.91 L567.585 1403.91 L567.585 1377.99 L571.868 1377.99 L571.868 1382.02 Q573.326 1379.63 575.363 1378.5 Q577.4 1377.36 580.201 1377.36 Q583.025 1377.36 584.993 1378.8 Q586.983 1380.23 587.933 1382.97 Z\" fill=\"#000000\" fill-rule=\"evenodd\" fill-opacity=\"1\" /><path clip-path=\"url(#clip910)\" d=\"M618.048 1400.03 L618.048 1413.78 L613.766 1413.78 L613.766 1377.99 L618.048 1377.99 L618.048 1381.92 Q619.391 1379.61 621.428 1378.5 Q623.488 1377.36 626.335 1377.36 Q631.057 1377.36 633.997 1381.11 Q636.96 1384.86 636.96 1390.97 Q636.96 1397.09 633.997 1400.84 Q631.057 1404.59 626.335 1404.59 Q623.488 1404.59 621.428 1403.47 Q619.391 1402.34 618.048 1400.03 M632.539 1390.97 Q632.539 1386.28 630.594 1383.61 Q628.673 1380.93 625.293 1380.93 Q621.914 1380.93 619.969 1383.61 Q618.048 1386.28 618.048 1390.97 Q618.048 1395.67 619.969 1398.36 Q621.914 1401.02 625.293 1401.02 Q628.673 1401.02 630.594 1398.36 Q632.539 1395.67 632.539 1390.97 Z\" fill=\"#000000\" fill-rule=\"evenodd\" fill-opacity=\"1\" /><path clip-path=\"url(#clip910)\" d=\"M666.196 1389.89 L666.196 1391.97 L646.613 1391.97 Q646.891 1396.37 649.252 1398.68 Q651.636 1400.97 655.872 1400.97 Q658.326 1400.97 660.617 1400.37 Q662.932 1399.77 665.201 1398.57 L665.201 1402.59 Q662.909 1403.57 660.502 1404.08 Q658.094 1404.59 655.617 1404.59 Q649.414 1404.59 645.779 1400.97 Q642.168 1397.36 642.168 1391.21 Q642.168 1384.84 645.594 1381.11 Q649.043 1377.36 654.877 1377.36 Q660.108 1377.36 663.14 1380.74 Q666.196 1384.1 666.196 1389.89 M661.937 1388.64 Q661.89 1385.14 659.969 1383.06 Q658.071 1380.97 654.923 1380.97 Q651.358 1380.97 649.205 1382.99 Q647.076 1385 646.752 1388.66 L661.937 1388.64 Z\" fill=\"#000000\" fill-rule=\"evenodd\" fill-opacity=\"1\" /><path clip-path=\"url(#clip910)\" d=\"M688.21 1381.97 Q687.492 1381.55 686.636 1381.37 Q685.802 1381.16 684.784 1381.16 Q681.173 1381.16 679.228 1383.52 Q677.307 1385.86 677.307 1390.26 L677.307 1403.91 L673.025 1403.91 L673.025 1377.99 L677.307 1377.99 L677.307 1382.02 Q678.65 1379.66 680.802 1378.52 Q682.955 1377.36 686.034 1377.36 Q686.474 1377.36 687.006 1377.43 Q687.538 1377.48 688.187 1377.6 L688.21 1381.97 Z\" fill=\"#000000\" fill-rule=\"evenodd\" fill-opacity=\"1\" /><path clip-path=\"url(#clip910)\" d=\"M704.46 1390.88 Q699.298 1390.88 697.307 1392.06 Q695.316 1393.24 695.316 1396.09 Q695.316 1398.36 696.798 1399.7 Q698.302 1401.02 700.872 1401.02 Q704.413 1401.02 706.543 1398.52 Q708.696 1396 708.696 1391.83 L708.696 1390.88 L704.46 1390.88 M712.955 1389.12 L712.955 1403.91 L708.696 1403.91 L708.696 1399.98 Q707.237 1402.34 705.062 1403.47 Q702.886 1404.59 699.737 1404.59 Q695.756 1404.59 693.395 1402.36 Q691.057 1400.12 691.057 1396.37 Q691.057 1391.99 693.974 1389.77 Q696.913 1387.55 702.724 1387.55 L708.696 1387.55 L708.696 1387.13 Q708.696 1384.19 706.751 1382.6 Q704.83 1380.97 701.335 1380.97 Q699.112 1380.97 697.006 1381.51 Q694.9 1382.04 692.955 1383.1 L692.955 1379.17 Q695.293 1378.27 697.492 1377.83 Q699.691 1377.36 701.775 1377.36 Q707.399 1377.36 710.177 1380.28 Q712.955 1383.2 712.955 1389.12 Z\" fill=\"#000000\" fill-rule=\"evenodd\" fill-opacity=\"1\" /><path clip-path=\"url(#clip910)\" d=\"M725.941 1370.63 L725.941 1377.99 L734.714 1377.99 L734.714 1381.3 L725.941 1381.3 L725.941 1395.37 Q725.941 1398.54 726.798 1399.45 Q727.677 1400.35 730.339 1400.35 L734.714 1400.35 L734.714 1403.91 L730.339 1403.91 Q725.409 1403.91 723.534 1402.09 Q721.659 1400.23 721.659 1395.37 L721.659 1381.3 L718.534 1381.3 L718.534 1377.99 L721.659 1377.99 L721.659 1370.63 L725.941 1370.63 Z\" fill=\"#000000\" fill-rule=\"evenodd\" fill-opacity=\"1\" /><path clip-path=\"url(#clip910)\" d=\"M739.876 1393.68 L739.876 1377.99 L744.135 1377.99 L744.135 1393.52 Q744.135 1397.2 745.571 1399.05 Q747.006 1400.88 749.876 1400.88 Q753.325 1400.88 755.316 1398.68 Q757.33 1396.48 757.33 1392.69 L757.33 1377.99 L761.589 1377.99 L761.589 1403.91 L757.33 1403.91 L757.33 1399.93 Q755.779 1402.29 753.719 1403.45 Q751.682 1404.59 748.973 1404.59 Q744.506 1404.59 742.191 1401.81 Q739.876 1399.03 739.876 1393.68 M750.594 1377.36 L750.594 1377.36 Z\" fill=\"#000000\" fill-rule=\"evenodd\" fill-opacity=\"1\" /><path clip-path=\"url(#clip910)\" d=\"M785.385 1381.97 Q784.668 1381.55 783.811 1381.37 Q782.978 1381.16 781.959 1381.16 Q778.348 1381.16 776.404 1383.52 Q774.482 1385.86 774.482 1390.26 L774.482 1403.91 L770.2 1403.91 L770.2 1377.99 L774.482 1377.99 L774.482 1382.02 Q775.825 1379.66 777.978 1378.52 Q780.131 1377.36 783.209 1377.36 Q783.649 1377.36 784.181 1377.43 Q784.714 1377.48 785.362 1377.6 L785.385 1381.97 Z\" fill=\"#000000\" fill-rule=\"evenodd\" fill-opacity=\"1\" /><path clip-path=\"url(#clip910)\" d=\"M810.987 1389.89 L810.987 1391.97 L791.404 1391.97 Q791.681 1396.37 794.043 1398.68 Q796.427 1400.97 800.663 1400.97 Q803.117 1400.97 805.408 1400.37 Q807.723 1399.77 809.992 1398.57 L809.992 1402.59 Q807.7 1403.57 805.292 1404.08 Q802.885 1404.59 800.408 1404.59 Q794.205 1404.59 790.57 1400.97 Q786.959 1397.36 786.959 1391.21 Q786.959 1384.84 790.385 1381.11 Q793.834 1377.36 799.668 1377.36 Q804.899 1377.36 807.931 1380.74 Q810.987 1384.1 810.987 1389.89 M806.728 1388.64 Q806.681 1385.14 804.76 1383.06 Q802.862 1380.97 799.714 1380.97 Q796.149 1380.97 793.996 1382.99 Q791.867 1385 791.543 1388.66 L806.728 1388.64 Z\" fill=\"#000000\" fill-rule=\"evenodd\" fill-opacity=\"1\" /><path clip-path=\"url(#clip910)\" d=\"M833.232 1369.35 L840.2 1369.35 L849.019 1392.87 L857.885 1369.35 L864.852 1369.35 L864.852 1403.91 L860.292 1403.91 L860.292 1373.57 L851.38 1397.27 L846.681 1397.27 L837.769 1373.57 L837.769 1403.91 L833.232 1403.91 L833.232 1369.35 Z\" fill=\"#000000\" fill-rule=\"evenodd\" fill-opacity=\"1\" /><path clip-path=\"url(#clip910)\" d=\"M873.95 1377.99 L878.209 1377.99 L878.209 1403.91 L873.95 1403.91 L873.95 1377.99 M873.95 1367.9 L878.209 1367.9 L878.209 1373.29 L873.95 1373.29 L873.95 1367.9 Z\" fill=\"#000000\" fill-rule=\"evenodd\" fill-opacity=\"1\" /><path clip-path=\"url(#clip910)\" d=\"M908.672 1388.27 L908.672 1403.91 L904.412 1403.91 L904.412 1388.41 Q904.412 1384.72 902.977 1382.9 Q901.542 1381.07 898.672 1381.07 Q895.223 1381.07 893.232 1383.27 Q891.241 1385.47 891.241 1389.26 L891.241 1403.91 L886.959 1403.91 L886.959 1377.99 L891.241 1377.99 L891.241 1382.02 Q892.769 1379.68 894.829 1378.52 Q896.912 1377.36 899.621 1377.36 Q904.088 1377.36 906.38 1380.14 Q908.672 1382.9 908.672 1388.27 Z\" fill=\"#000000\" fill-rule=\"evenodd\" fill-opacity=\"1\" /><path clip-path=\"url(#clip910)\" d=\"M917.167 1377.99 L921.426 1377.99 L921.426 1403.91 L917.167 1403.91 L917.167 1377.99 M917.167 1367.9 L921.426 1367.9 L921.426 1373.29 L917.167 1373.29 L917.167 1367.9 Z\" fill=\"#000000\" fill-rule=\"evenodd\" fill-opacity=\"1\" /><path clip-path=\"url(#clip910)\" d=\"M950.523 1382.97 Q952.12 1380.1 954.343 1378.73 Q956.565 1377.36 959.574 1377.36 Q963.625 1377.36 965.824 1380.21 Q968.023 1383.03 968.023 1388.27 L968.023 1403.91 L963.741 1403.91 L963.741 1388.41 Q963.741 1384.68 962.421 1382.87 Q961.102 1381.07 958.394 1381.07 Q955.083 1381.07 953.162 1383.27 Q951.241 1385.47 951.241 1389.26 L951.241 1403.91 L946.958 1403.91 L946.958 1388.41 Q946.958 1384.66 945.639 1382.87 Q944.32 1381.07 941.565 1381.07 Q938.301 1381.07 936.38 1383.29 Q934.458 1385.49 934.458 1389.26 L934.458 1403.91 L930.176 1403.91 L930.176 1377.99 L934.458 1377.99 L934.458 1382.02 Q935.917 1379.63 937.954 1378.5 Q939.991 1377.36 942.792 1377.36 Q945.616 1377.36 947.583 1378.8 Q949.574 1380.23 950.523 1382.97 Z\" fill=\"#000000\" fill-rule=\"evenodd\" fill-opacity=\"1\" /><path clip-path=\"url(#clip910)\" d=\"M976.079 1393.68 L976.079 1377.99 L980.338 1377.99 L980.338 1393.52 Q980.338 1397.2 981.773 1399.05 Q983.208 1400.88 986.079 1400.88 Q989.528 1400.88 991.518 1398.68 Q993.532 1396.48 993.532 1392.69 L993.532 1377.99 L997.791 1377.99 L997.791 1403.91 L993.532 1403.91 L993.532 1399.93 Q991.981 1402.29 989.921 1403.45 Q987.884 1404.59 985.176 1404.59 Q980.708 1404.59 978.393 1401.81 Q976.079 1399.03 976.079 1393.68 M986.796 1377.36 L986.796 1377.36 Z\" fill=\"#000000\" fill-rule=\"evenodd\" fill-opacity=\"1\" /><path clip-path=\"url(#clip910)\" d=\"M1026.75 1382.97 Q1028.35 1380.1 1030.57 1378.73 Q1032.79 1377.36 1035.8 1377.36 Q1039.85 1377.36 1042.05 1380.21 Q1044.25 1383.03 1044.25 1388.27 L1044.25 1403.91 L1039.97 1403.91 L1039.97 1388.41 Q1039.97 1384.68 1038.65 1382.87 Q1037.33 1381.07 1034.62 1381.07 Q1031.31 1381.07 1029.39 1383.27 Q1027.47 1385.47 1027.47 1389.26 L1027.47 1403.91 L1023.18 1403.91 L1023.18 1388.41 Q1023.18 1384.66 1021.87 1382.87 Q1020.55 1381.07 1017.79 1381.07 Q1014.53 1381.07 1012.61 1383.29 Q1010.68 1385.49 1010.68 1389.26 L1010.68 1403.91 L1006.4 1403.91 L1006.4 1377.99 L1010.68 1377.99 L1010.68 1382.02 Q1012.14 1379.63 1014.18 1378.5 Q1016.22 1377.36 1019.02 1377.36 Q1021.84 1377.36 1023.81 1378.8 Q1025.8 1380.23 1026.75 1382.97 Z\" fill=\"#000000\" fill-rule=\"evenodd\" fill-opacity=\"1\" /></svg>\n"
      ]
     },
     "execution_count": 52,
     "metadata": {},
     "output_type": "execute_result"
    }
   ],
   "source": [
    "plot(1:11, dectempmin, label=\"Dec Temperature Minimum \", legend=:bottomleft)"
   ]
  },
  {
   "cell_type": "markdown",
   "id": "a81f7f62",
   "metadata": {},
   "source": [
    "# Outcome:\n",
    "here we see the data from 1922-1932 average min December be graphed. \n",
    "\n",
    "# Now we are going to do this for average max temperature for December 1922-1932"
   ]
  },
  {
   "cell_type": "code",
   "execution_count": 53,
   "id": "c8b47fa0",
   "metadata": {},
   "outputs": [
    {
     "data": {
      "text/plain": [
       "11-element Vector{Any}:\n",
       " 31.81\n",
       " 32.9\n",
       " 32.9\n",
       " 14.18\n",
       " 27.91\n",
       " 27.82\n",
       " 30.55\n",
       " 31.55\n",
       " 28.0\n",
       " 38.46\n",
       " 37.09"
      ]
     },
     "execution_count": 53,
     "metadata": {},
     "output_type": "execute_result"
    }
   ],
   "source": [
    "dectempmax=B[2:12,3]"
   ]
  },
  {
   "cell_type": "code",
   "execution_count": 54,
   "id": "6e0cd801",
   "metadata": {},
   "outputs": [
    {
     "data": {
      "image/svg+xml": [
       "<?xml version=\"1.0\" encoding=\"utf-8\"?>\n",
       "<svg xmlns=\"http://www.w3.org/2000/svg\" xmlns:xlink=\"http://www.w3.org/1999/xlink\" width=\"600\" height=\"400\" viewBox=\"0 0 2400 1600\">\n",
       "<defs>\n",
       "  <clipPath id=\"clip950\">\n",
       "    <rect x=\"0\" y=\"0\" width=\"2400\" height=\"1600\"/>\n",
       "  </clipPath>\n",
       "</defs>\n",
       "<path clip-path=\"url(#clip950)\" d=\"\n",
       "M0 1600 L2400 1600 L2400 0 L0 0  Z\n",
       "  \" fill=\"#ffffff\" fill-rule=\"evenodd\" fill-opacity=\"1\"/>\n",
       "<defs>\n",
       "  <clipPath id=\"clip951\">\n",
       "    <rect x=\"480\" y=\"0\" width=\"1681\" height=\"1600\"/>\n",
       "  </clipPath>\n",
       "</defs>\n",
       "<path clip-path=\"url(#clip950)\" d=\"\n",
       "M140.696 1486.45 L2352.76 1486.45 L2352.76 47.2441 L140.696 47.2441  Z\n",
       "  \" fill=\"#ffffff\" fill-rule=\"evenodd\" fill-opacity=\"1\"/>\n",
       "<defs>\n",
       "  <clipPath id=\"clip952\">\n",
       "    <rect x=\"140\" y=\"47\" width=\"2213\" height=\"1440\"/>\n",
       "  </clipPath>\n",
       "</defs>\n",
       "<polyline clip-path=\"url(#clip952)\" style=\"stroke:#000000; stroke-linecap:round; stroke-linejoin:round; stroke-width:2; stroke-opacity:0.1; fill:none\" points=\"\n",
       "  411.986,1486.45 411.986,47.2441 \n",
       "  \"/>\n",
       "<polyline clip-path=\"url(#clip952)\" style=\"stroke:#000000; stroke-linecap:round; stroke-linejoin:round; stroke-width:2; stroke-opacity:0.1; fill:none\" points=\"\n",
       "  829.356,1486.45 829.356,47.2441 \n",
       "  \"/>\n",
       "<polyline clip-path=\"url(#clip952)\" style=\"stroke:#000000; stroke-linecap:round; stroke-linejoin:round; stroke-width:2; stroke-opacity:0.1; fill:none\" points=\"\n",
       "  1246.73,1486.45 1246.73,47.2441 \n",
       "  \"/>\n",
       "<polyline clip-path=\"url(#clip952)\" style=\"stroke:#000000; stroke-linecap:round; stroke-linejoin:round; stroke-width:2; stroke-opacity:0.1; fill:none\" points=\"\n",
       "  1664.1,1486.45 1664.1,47.2441 \n",
       "  \"/>\n",
       "<polyline clip-path=\"url(#clip952)\" style=\"stroke:#000000; stroke-linecap:round; stroke-linejoin:round; stroke-width:2; stroke-opacity:0.1; fill:none\" points=\"\n",
       "  2081.47,1486.45 2081.47,47.2441 \n",
       "  \"/>\n",
       "<polyline clip-path=\"url(#clip950)\" style=\"stroke:#000000; stroke-linecap:round; stroke-linejoin:round; stroke-width:4; stroke-opacity:1; fill:none\" points=\"\n",
       "  140.696,1486.45 2352.76,1486.45 \n",
       "  \"/>\n",
       "<polyline clip-path=\"url(#clip950)\" style=\"stroke:#000000; stroke-linecap:round; stroke-linejoin:round; stroke-width:4; stroke-opacity:1; fill:none\" points=\"\n",
       "  411.986,1486.45 411.986,1467.55 \n",
       "  \"/>\n",
       "<polyline clip-path=\"url(#clip950)\" style=\"stroke:#000000; stroke-linecap:round; stroke-linejoin:round; stroke-width:4; stroke-opacity:1; fill:none\" points=\"\n",
       "  829.356,1486.45 829.356,1467.55 \n",
       "  \"/>\n",
       "<polyline clip-path=\"url(#clip950)\" style=\"stroke:#000000; stroke-linecap:round; stroke-linejoin:round; stroke-width:4; stroke-opacity:1; fill:none\" points=\"\n",
       "  1246.73,1486.45 1246.73,1467.55 \n",
       "  \"/>\n",
       "<polyline clip-path=\"url(#clip950)\" style=\"stroke:#000000; stroke-linecap:round; stroke-linejoin:round; stroke-width:4; stroke-opacity:1; fill:none\" points=\"\n",
       "  1664.1,1486.45 1664.1,1467.55 \n",
       "  \"/>\n",
       "<polyline clip-path=\"url(#clip950)\" style=\"stroke:#000000; stroke-linecap:round; stroke-linejoin:round; stroke-width:4; stroke-opacity:1; fill:none\" points=\"\n",
       "  2081.47,1486.45 2081.47,1467.55 \n",
       "  \"/>\n",
       "<path clip-path=\"url(#clip950)\" d=\"M406.639 1544.91 L422.958 1544.91 L422.958 1548.85 L401.014 1548.85 L401.014 1544.91 Q403.676 1542.16 408.259 1537.53 Q412.866 1532.88 414.046 1531.53 Q416.291 1529.01 417.171 1527.27 Q418.074 1525.51 418.074 1523.82 Q418.074 1521.07 416.129 1519.33 Q414.208 1517.6 411.106 1517.6 Q408.907 1517.6 406.454 1518.36 Q404.023 1519.13 401.245 1520.68 L401.245 1515.95 Q404.069 1514.82 406.523 1514.24 Q408.977 1513.66 411.014 1513.66 Q416.384 1513.66 419.579 1516.35 Q422.773 1519.03 422.773 1523.52 Q422.773 1525.65 421.963 1527.57 Q421.176 1529.47 419.069 1532.07 Q418.491 1532.74 415.389 1535.95 Q412.287 1539.15 406.639 1544.91 Z\" fill=\"#000000\" fill-rule=\"evenodd\" fill-opacity=\"1\" /><path clip-path=\"url(#clip950)\" d=\"M832.365 1518.36 L820.56 1536.81 L832.365 1536.81 L832.365 1518.36 M831.138 1514.29 L837.018 1514.29 L837.018 1536.81 L841.948 1536.81 L841.948 1540.7 L837.018 1540.7 L837.018 1548.85 L832.365 1548.85 L832.365 1540.7 L816.763 1540.7 L816.763 1536.19 L831.138 1514.29 Z\" fill=\"#000000\" fill-rule=\"evenodd\" fill-opacity=\"1\" /><path clip-path=\"url(#clip950)\" d=\"M1247.13 1529.7 Q1243.98 1529.7 1242.13 1531.86 Q1240.3 1534.01 1240.3 1537.76 Q1240.3 1541.49 1242.13 1543.66 Q1243.98 1545.82 1247.13 1545.82 Q1250.28 1545.82 1252.11 1543.66 Q1253.96 1541.49 1253.96 1537.76 Q1253.96 1534.01 1252.11 1531.86 Q1250.28 1529.7 1247.13 1529.7 M1256.41 1515.05 L1256.41 1519.31 Q1254.65 1518.48 1252.85 1518.04 Q1251.07 1517.6 1249.31 1517.6 Q1244.68 1517.6 1242.22 1520.72 Q1239.79 1523.85 1239.45 1530.17 Q1240.81 1528.15 1242.87 1527.09 Q1244.93 1526 1247.41 1526 Q1252.62 1526 1255.63 1529.17 Q1258.66 1532.32 1258.66 1537.76 Q1258.66 1543.08 1255.51 1546.3 Q1252.36 1549.52 1247.13 1549.52 Q1241.14 1549.52 1237.96 1544.94 Q1234.79 1540.33 1234.79 1531.6 Q1234.79 1523.41 1238.68 1518.55 Q1242.57 1513.66 1249.12 1513.66 Q1250.88 1513.66 1252.66 1514.01 Q1254.47 1514.36 1256.41 1515.05 Z\" fill=\"#000000\" fill-rule=\"evenodd\" fill-opacity=\"1\" /><path clip-path=\"url(#clip950)\" d=\"M1664.1 1532.44 Q1660.76 1532.44 1658.84 1534.22 Q1656.94 1536 1656.94 1539.13 Q1656.94 1542.25 1658.84 1544.03 Q1660.76 1545.82 1664.1 1545.82 Q1667.43 1545.82 1669.35 1544.03 Q1671.27 1542.23 1671.27 1539.13 Q1671.27 1536 1669.35 1534.22 Q1667.45 1532.44 1664.1 1532.44 M1659.42 1530.45 Q1656.41 1529.7 1654.72 1527.64 Q1653.05 1525.58 1653.05 1522.62 Q1653.05 1518.48 1655.99 1516.07 Q1658.96 1513.66 1664.1 1513.66 Q1669.26 1513.66 1672.2 1516.07 Q1675.14 1518.48 1675.14 1522.62 Q1675.14 1525.58 1673.45 1527.64 Q1671.78 1529.7 1668.79 1530.45 Q1672.17 1531.23 1674.05 1533.52 Q1675.95 1535.82 1675.95 1539.13 Q1675.95 1544.15 1672.87 1546.83 Q1669.81 1549.52 1664.1 1549.52 Q1658.38 1549.52 1655.3 1546.83 Q1652.24 1544.15 1652.24 1539.13 Q1652.24 1535.82 1654.14 1533.52 Q1656.04 1531.23 1659.42 1530.45 M1657.71 1523.06 Q1657.71 1525.75 1659.37 1527.25 Q1661.06 1528.76 1664.1 1528.76 Q1667.1 1528.76 1668.79 1527.25 Q1670.51 1525.75 1670.51 1523.06 Q1670.51 1520.38 1668.79 1518.87 Q1667.1 1517.37 1664.1 1517.37 Q1661.06 1517.37 1659.37 1518.87 Q1657.71 1520.38 1657.71 1523.06 Z\" fill=\"#000000\" fill-rule=\"evenodd\" fill-opacity=\"1\" /><path clip-path=\"url(#clip950)\" d=\"M2056.15 1544.91 L2063.79 1544.91 L2063.79 1518.55 L2055.48 1520.21 L2055.48 1515.95 L2063.75 1514.29 L2068.42 1514.29 L2068.42 1544.91 L2076.06 1544.91 L2076.06 1548.85 L2056.15 1548.85 L2056.15 1544.91 Z\" fill=\"#000000\" fill-rule=\"evenodd\" fill-opacity=\"1\" /><path clip-path=\"url(#clip950)\" d=\"M2095.5 1517.37 Q2091.89 1517.37 2090.06 1520.93 Q2088.26 1524.47 2088.26 1531.6 Q2088.26 1538.71 2090.06 1542.27 Q2091.89 1545.82 2095.5 1545.82 Q2099.14 1545.82 2100.94 1542.27 Q2102.77 1538.71 2102.77 1531.6 Q2102.77 1524.47 2100.94 1520.93 Q2099.14 1517.37 2095.5 1517.37 M2095.5 1513.66 Q2101.31 1513.66 2104.37 1518.27 Q2107.45 1522.85 2107.45 1531.6 Q2107.45 1540.33 2104.37 1544.94 Q2101.31 1549.52 2095.5 1549.52 Q2089.69 1549.52 2086.62 1544.94 Q2083.56 1540.33 2083.56 1531.6 Q2083.56 1522.85 2086.62 1518.27 Q2089.69 1513.66 2095.5 1513.66 Z\" fill=\"#000000\" fill-rule=\"evenodd\" fill-opacity=\"1\" /><polyline clip-path=\"url(#clip952)\" style=\"stroke:#000000; stroke-linecap:round; stroke-linejoin:round; stroke-width:2; stroke-opacity:0.1; fill:none\" points=\"\n",
       "  140.696,1399.86 2352.76,1399.86 \n",
       "  \"/>\n",
       "<polyline clip-path=\"url(#clip952)\" style=\"stroke:#000000; stroke-linecap:round; stroke-linejoin:round; stroke-width:2; stroke-opacity:0.1; fill:none\" points=\"\n",
       "  140.696,1120.26 2352.76,1120.26 \n",
       "  \"/>\n",
       "<polyline clip-path=\"url(#clip952)\" style=\"stroke:#000000; stroke-linecap:round; stroke-linejoin:round; stroke-width:2; stroke-opacity:0.1; fill:none\" points=\"\n",
       "  140.696,840.66 2352.76,840.66 \n",
       "  \"/>\n",
       "<polyline clip-path=\"url(#clip952)\" style=\"stroke:#000000; stroke-linecap:round; stroke-linejoin:round; stroke-width:2; stroke-opacity:0.1; fill:none\" points=\"\n",
       "  140.696,561.06 2352.76,561.06 \n",
       "  \"/>\n",
       "<polyline clip-path=\"url(#clip952)\" style=\"stroke:#000000; stroke-linecap:round; stroke-linejoin:round; stroke-width:2; stroke-opacity:0.1; fill:none\" points=\"\n",
       "  140.696,281.46 2352.76,281.46 \n",
       "  \"/>\n",
       "<polyline clip-path=\"url(#clip950)\" style=\"stroke:#000000; stroke-linecap:round; stroke-linejoin:round; stroke-width:4; stroke-opacity:1; fill:none\" points=\"\n",
       "  140.696,1486.45 140.696,47.2441 \n",
       "  \"/>\n",
       "<polyline clip-path=\"url(#clip950)\" style=\"stroke:#000000; stroke-linecap:round; stroke-linejoin:round; stroke-width:4; stroke-opacity:1; fill:none\" points=\"\n",
       "  140.696,1399.86 159.593,1399.86 \n",
       "  \"/>\n",
       "<polyline clip-path=\"url(#clip950)\" style=\"stroke:#000000; stroke-linecap:round; stroke-linejoin:round; stroke-width:4; stroke-opacity:1; fill:none\" points=\"\n",
       "  140.696,1120.26 159.593,1120.26 \n",
       "  \"/>\n",
       "<polyline clip-path=\"url(#clip950)\" style=\"stroke:#000000; stroke-linecap:round; stroke-linejoin:round; stroke-width:4; stroke-opacity:1; fill:none\" points=\"\n",
       "  140.696,840.66 159.593,840.66 \n",
       "  \"/>\n",
       "<polyline clip-path=\"url(#clip950)\" style=\"stroke:#000000; stroke-linecap:round; stroke-linejoin:round; stroke-width:4; stroke-opacity:1; fill:none\" points=\"\n",
       "  140.696,561.06 159.593,561.06 \n",
       "  \"/>\n",
       "<polyline clip-path=\"url(#clip950)\" style=\"stroke:#000000; stroke-linecap:round; stroke-linejoin:round; stroke-width:4; stroke-opacity:1; fill:none\" points=\"\n",
       "  140.696,281.46 159.593,281.46 \n",
       "  \"/>\n",
       "<path clip-path=\"url(#clip950)\" d=\"M54.3949 1413.21 L62.0337 1413.21 L62.0337 1386.84 L53.7236 1388.51 L53.7236 1384.25 L61.9874 1382.58 L66.6633 1382.58 L66.6633 1413.21 L74.3022 1413.21 L74.3022 1417.14 L54.3949 1417.14 L54.3949 1413.21 Z\" fill=\"#000000\" fill-rule=\"evenodd\" fill-opacity=\"1\" /><path clip-path=\"url(#clip950)\" d=\"M83.7929 1382.58 L102.149 1382.58 L102.149 1386.52 L88.0753 1386.52 L88.0753 1394.99 Q89.0938 1394.64 90.1123 1394.48 Q91.1308 1394.29 92.1493 1394.29 Q97.9363 1394.29 101.316 1397.47 Q104.696 1400.64 104.696 1406.05 Q104.696 1411.63 101.223 1414.73 Q97.7511 1417.81 91.4317 1417.81 Q89.2558 1417.81 86.9873 1417.44 Q84.7419 1417.07 82.3346 1416.33 L82.3346 1411.63 Q84.4179 1412.77 86.6401 1413.32 Q88.8623 1413.88 91.3391 1413.88 Q95.3437 1413.88 97.6817 1411.77 Q100.02 1409.66 100.02 1406.05 Q100.02 1402.44 97.6817 1400.34 Q95.3437 1398.23 91.3391 1398.23 Q89.4641 1398.23 87.5892 1398.65 Q85.7373 1399.06 83.7929 1399.94 L83.7929 1382.58 Z\" fill=\"#000000\" fill-rule=\"evenodd\" fill-opacity=\"1\" /><path clip-path=\"url(#clip950)\" d=\"M56.6171 1133.61 L72.9365 1133.61 L72.9365 1137.54 L50.9921 1137.54 L50.9921 1133.61 Q53.6541 1130.85 58.2375 1126.22 Q62.8439 1121.57 64.0245 1120.23 Q66.2698 1117.7 67.1494 1115.97 Q68.0522 1114.21 68.0522 1112.52 Q68.0522 1109.76 66.1078 1108.03 Q64.1865 1106.29 61.0847 1106.29 Q58.8856 1106.29 56.4319 1107.05 Q54.0014 1107.82 51.2236 1109.37 L51.2236 1104.65 Q54.0477 1103.51 56.5014 1102.93 Q58.955 1102.36 60.9921 1102.36 Q66.3624 1102.36 69.5568 1105.04 Q72.7513 1107.73 72.7513 1112.22 Q72.7513 1114.35 71.9411 1116.27 Q71.1541 1118.17 69.0476 1120.76 Q68.4689 1121.43 65.367 1124.65 Q62.2652 1127.84 56.6171 1133.61 Z\" fill=\"#000000\" fill-rule=\"evenodd\" fill-opacity=\"1\" /><path clip-path=\"url(#clip950)\" d=\"M92.7512 1106.06 Q89.1401 1106.06 87.3114 1109.62 Q85.5058 1113.17 85.5058 1120.3 Q85.5058 1127.4 87.3114 1130.97 Q89.1401 1134.51 92.7512 1134.51 Q96.3854 1134.51 98.1909 1130.97 Q100.02 1127.4 100.02 1120.3 Q100.02 1113.17 98.1909 1109.62 Q96.3854 1106.06 92.7512 1106.06 M92.7512 1102.36 Q98.5613 1102.36 101.617 1106.96 Q104.696 1111.55 104.696 1120.3 Q104.696 1129.02 101.617 1133.63 Q98.5613 1138.21 92.7512 1138.21 Q86.941 1138.21 83.8623 1133.63 Q80.8068 1129.02 80.8068 1120.3 Q80.8068 1111.55 83.8623 1106.96 Q86.941 1102.36 92.7512 1102.36 Z\" fill=\"#000000\" fill-rule=\"evenodd\" fill-opacity=\"1\" /><path clip-path=\"url(#clip950)\" d=\"M57.6125 854.005 L73.9318 854.005 L73.9318 857.94 L51.9875 857.94 L51.9875 854.005 Q54.6495 851.251 59.2328 846.621 Q63.8393 841.968 65.0198 840.626 Q67.2652 838.103 68.1448 836.367 Q69.0476 834.607 69.0476 832.917 Q69.0476 830.163 67.1032 828.427 Q65.1819 826.691 62.08 826.691 Q59.881 826.691 57.4273 827.455 Q54.9967 828.218 52.219 829.769 L52.219 825.047 Q55.043 823.913 57.4967 823.334 Q59.9504 822.755 61.9874 822.755 Q67.3578 822.755 70.5522 825.441 Q73.7466 828.126 73.7466 832.617 Q73.7466 834.746 72.9365 836.667 Q72.1494 838.566 70.0429 841.158 Q69.4642 841.829 66.3624 845.047 Q63.2606 848.241 57.6125 854.005 Z\" fill=\"#000000\" fill-rule=\"evenodd\" fill-opacity=\"1\" /><path clip-path=\"url(#clip950)\" d=\"M83.7929 823.38 L102.149 823.38 L102.149 827.316 L88.0753 827.316 L88.0753 835.788 Q89.0938 835.441 90.1123 835.279 Q91.1308 835.093 92.1493 835.093 Q97.9363 835.093 101.316 838.265 Q104.696 841.436 104.696 846.853 Q104.696 852.431 101.223 855.533 Q97.7511 858.612 91.4317 858.612 Q89.2558 858.612 86.9873 858.241 Q84.7419 857.871 82.3346 857.13 L82.3346 852.431 Q84.4179 853.566 86.6401 854.121 Q88.8623 854.677 91.3391 854.677 Q95.3437 854.677 97.6817 852.57 Q100.02 850.464 100.02 846.853 Q100.02 843.241 97.6817 841.135 Q95.3437 839.029 91.3391 839.029 Q89.4641 839.029 87.5892 839.445 Q85.7373 839.862 83.7929 840.742 L83.7929 823.38 Z\" fill=\"#000000\" fill-rule=\"evenodd\" fill-opacity=\"1\" /><path clip-path=\"url(#clip950)\" d=\"M66.7559 559.706 Q70.1124 560.424 71.9874 562.692 Q73.8855 564.961 73.8855 568.294 Q73.8855 573.41 70.367 576.21 Q66.8485 579.011 60.3671 579.011 Q58.1912 579.011 55.8764 578.572 Q53.5847 578.155 51.131 577.298 L51.131 572.785 Q53.0754 573.919 55.3903 574.498 Q57.7051 575.076 60.2282 575.076 Q64.6263 575.076 66.918 573.34 Q69.2328 571.604 69.2328 568.294 Q69.2328 565.238 67.08 563.525 Q64.9504 561.789 61.131 561.789 L57.1032 561.789 L57.1032 557.947 L61.3161 557.947 Q64.7652 557.947 66.5939 556.581 Q68.4226 555.192 68.4226 552.6 Q68.4226 549.937 66.5245 548.525 Q64.6495 547.09 61.131 547.09 Q59.2097 547.09 57.0106 547.507 Q54.8115 547.924 52.1727 548.803 L52.1727 544.637 Q54.8347 543.896 57.1495 543.525 Q59.4875 543.155 61.5476 543.155 Q66.8717 543.155 69.9735 545.586 Q73.0753 547.993 73.0753 552.113 Q73.0753 554.984 71.4318 556.974 Q69.7883 558.942 66.7559 559.706 Z\" fill=\"#000000\" fill-rule=\"evenodd\" fill-opacity=\"1\" /><path clip-path=\"url(#clip950)\" d=\"M92.7512 546.859 Q89.1401 546.859 87.3114 550.424 Q85.5058 553.965 85.5058 561.095 Q85.5058 568.201 87.3114 571.766 Q89.1401 575.308 92.7512 575.308 Q96.3854 575.308 98.1909 571.766 Q100.02 568.201 100.02 561.095 Q100.02 553.965 98.1909 550.424 Q96.3854 546.859 92.7512 546.859 M92.7512 543.155 Q98.5613 543.155 101.617 547.762 Q104.696 552.345 104.696 561.095 Q104.696 569.822 101.617 574.428 Q98.5613 579.011 92.7512 579.011 Q86.941 579.011 83.8623 574.428 Q80.8068 569.822 80.8068 561.095 Q80.8068 552.345 83.8623 547.762 Q86.941 543.155 92.7512 543.155 Z\" fill=\"#000000\" fill-rule=\"evenodd\" fill-opacity=\"1\" /><path clip-path=\"url(#clip950)\" d=\"M67.7513 280.106 Q71.1078 280.823 72.9827 283.092 Q74.8809 285.36 74.8809 288.693 Q74.8809 293.809 71.3624 296.61 Q67.8439 299.411 61.3624 299.411 Q59.1865 299.411 56.8717 298.971 Q54.5801 298.555 52.1264 297.698 L52.1264 293.184 Q54.0708 294.318 56.3856 294.897 Q58.7004 295.476 61.2236 295.476 Q65.6217 295.476 67.9133 293.74 Q70.2281 292.004 70.2281 288.693 Q70.2281 285.638 68.0754 283.925 Q65.9457 282.189 62.1263 282.189 L58.0986 282.189 L58.0986 278.346 L62.3115 278.346 Q65.7606 278.346 67.5893 276.981 Q69.418 275.592 69.418 272.999 Q69.418 270.337 67.5198 268.925 Q65.6448 267.49 62.1263 267.49 Q60.205 267.49 58.006 267.907 Q55.8069 268.323 53.168 269.203 L53.168 265.036 Q55.8301 264.295 58.1449 263.925 Q60.4828 263.555 62.543 263.555 Q67.867 263.555 70.9689 265.985 Q74.0707 268.393 74.0707 272.513 Q74.0707 275.383 72.4272 277.374 Q70.7837 279.342 67.7513 280.106 Z\" fill=\"#000000\" fill-rule=\"evenodd\" fill-opacity=\"1\" /><path clip-path=\"url(#clip950)\" d=\"M83.7929 264.18 L102.149 264.18 L102.149 268.115 L88.0753 268.115 L88.0753 276.587 Q89.0938 276.24 90.1123 276.078 Q91.1308 275.893 92.1493 275.893 Q97.9363 275.893 101.316 279.064 Q104.696 282.235 104.696 287.652 Q104.696 293.231 101.223 296.332 Q97.7511 299.411 91.4317 299.411 Q89.2558 299.411 86.9873 299.041 Q84.7419 298.67 82.3346 297.93 L82.3346 293.231 Q84.4179 294.365 86.6401 294.92 Q88.8623 295.476 91.3391 295.476 Q95.3437 295.476 97.6817 293.369 Q100.02 291.263 100.02 287.652 Q100.02 284.041 97.6817 281.934 Q95.3437 279.828 91.3391 279.828 Q89.4641 279.828 87.5892 280.244 Q85.7373 280.661 83.7929 281.541 L83.7929 264.18 Z\" fill=\"#000000\" fill-rule=\"evenodd\" fill-opacity=\"1\" /><polyline clip-path=\"url(#clip952)\" style=\"stroke:#009af9; stroke-linecap:round; stroke-linejoin:round; stroke-width:4; stroke-opacity:1; fill:none\" points=\"\n",
       "  203.301,459.845 411.986,398.892 620.671,398.892 829.356,1445.72 1038.04,677.933 1246.73,682.966 1455.41,530.304 1664.1,474.384 1872.78,672.9 2081.47,87.9763 \n",
       "  2290.15,164.587 \n",
       "  \"/>\n",
       "<path clip-path=\"url(#clip950)\" d=\"\n",
       "M214.431 1438.47 L1175.38 1438.47 L1175.38 1334.79 L214.431 1334.79  Z\n",
       "  \" fill=\"#ffffff\" fill-rule=\"evenodd\" fill-opacity=\"1\"/>\n",
       "<polyline clip-path=\"url(#clip950)\" style=\"stroke:#000000; stroke-linecap:round; stroke-linejoin:round; stroke-width:4; stroke-opacity:1; fill:none\" points=\"\n",
       "  214.431,1438.47 1175.38,1438.47 1175.38,1334.79 214.431,1334.79 214.431,1438.47 \n",
       "  \"/>\n",
       "<polyline clip-path=\"url(#clip950)\" style=\"stroke:#009af9; stroke-linecap:round; stroke-linejoin:round; stroke-width:4; stroke-opacity:1; fill:none\" points=\"\n",
       "  239.009,1386.63 386.48,1386.63 \n",
       "  \"/>\n",
       "<path clip-path=\"url(#clip950)\" d=\"M415.734 1373.2 L415.734 1400.07 L421.382 1400.07 Q428.535 1400.07 431.845 1396.83 Q435.179 1393.59 435.179 1386.6 Q435.179 1379.66 431.845 1376.44 Q428.535 1373.2 421.382 1373.2 L415.734 1373.2 M411.058 1369.35 L420.665 1369.35 Q430.711 1369.35 435.41 1373.54 Q440.109 1377.71 440.109 1386.6 Q440.109 1395.53 435.387 1399.72 Q430.665 1403.91 420.665 1403.91 L411.058 1403.91 L411.058 1369.35 Z\" fill=\"#000000\" fill-rule=\"evenodd\" fill-opacity=\"1\" /><path clip-path=\"url(#clip950)\" d=\"M469.554 1389.89 L469.554 1391.97 L449.97 1391.97 Q450.248 1396.37 452.609 1398.68 Q454.993 1400.97 459.23 1400.97 Q461.683 1400.97 463.975 1400.37 Q466.29 1399.77 468.558 1398.57 L468.558 1402.59 Q466.267 1403.57 463.859 1404.08 Q461.452 1404.59 458.975 1404.59 Q452.771 1404.59 449.137 1400.97 Q445.526 1397.36 445.526 1391.21 Q445.526 1384.84 448.952 1381.11 Q452.401 1377.36 458.234 1377.36 Q463.466 1377.36 466.498 1380.74 Q469.554 1384.1 469.554 1389.89 M465.294 1388.64 Q465.248 1385.14 463.327 1383.06 Q461.429 1380.97 458.28 1380.97 Q454.716 1380.97 452.563 1382.99 Q450.433 1385 450.109 1388.66 L465.294 1388.64 Z\" fill=\"#000000\" fill-rule=\"evenodd\" fill-opacity=\"1\" /><path clip-path=\"url(#clip950)\" d=\"M495.202 1378.98 L495.202 1382.97 Q493.396 1381.97 491.567 1381.48 Q489.762 1380.97 487.91 1380.97 Q483.766 1380.97 481.475 1383.61 Q479.183 1386.23 479.183 1390.97 Q479.183 1395.72 481.475 1398.36 Q483.766 1400.97 487.91 1400.97 Q489.762 1400.97 491.567 1400.49 Q493.396 1399.98 495.202 1398.98 L495.202 1402.92 Q493.419 1403.75 491.498 1404.17 Q489.6 1404.59 487.447 1404.59 Q481.591 1404.59 478.141 1400.91 Q474.692 1397.22 474.692 1390.97 Q474.692 1384.63 478.165 1381 Q481.66 1377.36 487.725 1377.36 Q489.692 1377.36 491.567 1377.78 Q493.442 1378.17 495.202 1378.98 Z\" fill=\"#000000\" fill-rule=\"evenodd\" fill-opacity=\"1\" /><path clip-path=\"url(#clip950)\" d=\"M513.072 1369.35 L542.308 1369.35 L542.308 1373.29 L530.039 1373.29 L530.039 1403.91 L525.34 1403.91 L525.34 1373.29 L513.072 1373.29 L513.072 1369.35 Z\" fill=\"#000000\" fill-rule=\"evenodd\" fill-opacity=\"1\" /><path clip-path=\"url(#clip950)\" d=\"M560.757 1389.89 L560.757 1391.97 L541.174 1391.97 Q541.451 1396.37 543.812 1398.68 Q546.197 1400.97 550.433 1400.97 Q552.886 1400.97 555.178 1400.37 Q557.493 1399.77 559.761 1398.57 L559.761 1402.59 Q557.47 1403.57 555.062 1404.08 Q552.655 1404.59 550.178 1404.59 Q543.974 1404.59 540.34 1400.97 Q536.729 1397.36 536.729 1391.21 Q536.729 1384.84 540.155 1381.11 Q543.604 1377.36 549.437 1377.36 Q554.669 1377.36 557.701 1380.74 Q560.757 1384.1 560.757 1389.89 M556.498 1388.64 Q556.451 1385.14 554.53 1383.06 Q552.632 1380.97 549.484 1380.97 Q545.919 1380.97 543.766 1382.99 Q541.636 1385 541.312 1388.66 L556.498 1388.64 Z\" fill=\"#000000\" fill-rule=\"evenodd\" fill-opacity=\"1\" /><path clip-path=\"url(#clip950)\" d=\"M587.933 1382.97 Q589.53 1380.1 591.752 1378.73 Q593.974 1377.36 596.983 1377.36 Q601.034 1377.36 603.233 1380.21 Q605.432 1383.03 605.432 1388.27 L605.432 1403.91 L601.15 1403.91 L601.15 1388.41 Q601.15 1384.68 599.831 1382.87 Q598.511 1381.07 595.803 1381.07 Q592.493 1381.07 590.571 1383.27 Q588.65 1385.47 588.65 1389.26 L588.65 1403.91 L584.368 1403.91 L584.368 1388.41 Q584.368 1384.66 583.048 1382.87 Q581.729 1381.07 578.974 1381.07 Q575.71 1381.07 573.789 1383.29 Q571.868 1385.49 571.868 1389.26 L571.868 1403.91 L567.585 1403.91 L567.585 1377.99 L571.868 1377.99 L571.868 1382.02 Q573.326 1379.63 575.363 1378.5 Q577.4 1377.36 580.201 1377.36 Q583.025 1377.36 584.993 1378.8 Q586.983 1380.23 587.933 1382.97 Z\" fill=\"#000000\" fill-rule=\"evenodd\" fill-opacity=\"1\" /><path clip-path=\"url(#clip950)\" d=\"M618.048 1400.03 L618.048 1413.78 L613.766 1413.78 L613.766 1377.99 L618.048 1377.99 L618.048 1381.92 Q619.391 1379.61 621.428 1378.5 Q623.488 1377.36 626.335 1377.36 Q631.057 1377.36 633.997 1381.11 Q636.96 1384.86 636.96 1390.97 Q636.96 1397.09 633.997 1400.84 Q631.057 1404.59 626.335 1404.59 Q623.488 1404.59 621.428 1403.47 Q619.391 1402.34 618.048 1400.03 M632.539 1390.97 Q632.539 1386.28 630.594 1383.61 Q628.673 1380.93 625.293 1380.93 Q621.914 1380.93 619.969 1383.61 Q618.048 1386.28 618.048 1390.97 Q618.048 1395.67 619.969 1398.36 Q621.914 1401.02 625.293 1401.02 Q628.673 1401.02 630.594 1398.36 Q632.539 1395.67 632.539 1390.97 Z\" fill=\"#000000\" fill-rule=\"evenodd\" fill-opacity=\"1\" /><path clip-path=\"url(#clip950)\" d=\"M666.196 1389.89 L666.196 1391.97 L646.613 1391.97 Q646.891 1396.37 649.252 1398.68 Q651.636 1400.97 655.872 1400.97 Q658.326 1400.97 660.617 1400.37 Q662.932 1399.77 665.201 1398.57 L665.201 1402.59 Q662.909 1403.57 660.502 1404.08 Q658.094 1404.59 655.617 1404.59 Q649.414 1404.59 645.779 1400.97 Q642.168 1397.36 642.168 1391.21 Q642.168 1384.84 645.594 1381.11 Q649.043 1377.36 654.877 1377.36 Q660.108 1377.36 663.14 1380.74 Q666.196 1384.1 666.196 1389.89 M661.937 1388.64 Q661.89 1385.14 659.969 1383.06 Q658.071 1380.97 654.923 1380.97 Q651.358 1380.97 649.205 1382.99 Q647.076 1385 646.752 1388.66 L661.937 1388.64 Z\" fill=\"#000000\" fill-rule=\"evenodd\" fill-opacity=\"1\" /><path clip-path=\"url(#clip950)\" d=\"M688.21 1381.97 Q687.492 1381.55 686.636 1381.37 Q685.802 1381.16 684.784 1381.16 Q681.173 1381.16 679.228 1383.52 Q677.307 1385.86 677.307 1390.26 L677.307 1403.91 L673.025 1403.91 L673.025 1377.99 L677.307 1377.99 L677.307 1382.02 Q678.65 1379.66 680.802 1378.52 Q682.955 1377.36 686.034 1377.36 Q686.474 1377.36 687.006 1377.43 Q687.538 1377.48 688.187 1377.6 L688.21 1381.97 Z\" fill=\"#000000\" fill-rule=\"evenodd\" fill-opacity=\"1\" /><path clip-path=\"url(#clip950)\" d=\"M704.46 1390.88 Q699.298 1390.88 697.307 1392.06 Q695.316 1393.24 695.316 1396.09 Q695.316 1398.36 696.798 1399.7 Q698.302 1401.02 700.872 1401.02 Q704.413 1401.02 706.543 1398.52 Q708.696 1396 708.696 1391.83 L708.696 1390.88 L704.46 1390.88 M712.955 1389.12 L712.955 1403.91 L708.696 1403.91 L708.696 1399.98 Q707.237 1402.34 705.062 1403.47 Q702.886 1404.59 699.737 1404.59 Q695.756 1404.59 693.395 1402.36 Q691.057 1400.12 691.057 1396.37 Q691.057 1391.99 693.974 1389.77 Q696.913 1387.55 702.724 1387.55 L708.696 1387.55 L708.696 1387.13 Q708.696 1384.19 706.751 1382.6 Q704.83 1380.97 701.335 1380.97 Q699.112 1380.97 697.006 1381.51 Q694.9 1382.04 692.955 1383.1 L692.955 1379.17 Q695.293 1378.27 697.492 1377.83 Q699.691 1377.36 701.775 1377.36 Q707.399 1377.36 710.177 1380.28 Q712.955 1383.2 712.955 1389.12 Z\" fill=\"#000000\" fill-rule=\"evenodd\" fill-opacity=\"1\" /><path clip-path=\"url(#clip950)\" d=\"M725.941 1370.63 L725.941 1377.99 L734.714 1377.99 L734.714 1381.3 L725.941 1381.3 L725.941 1395.37 Q725.941 1398.54 726.798 1399.45 Q727.677 1400.35 730.339 1400.35 L734.714 1400.35 L734.714 1403.91 L730.339 1403.91 Q725.409 1403.91 723.534 1402.09 Q721.659 1400.23 721.659 1395.37 L721.659 1381.3 L718.534 1381.3 L718.534 1377.99 L721.659 1377.99 L721.659 1370.63 L725.941 1370.63 Z\" fill=\"#000000\" fill-rule=\"evenodd\" fill-opacity=\"1\" /><path clip-path=\"url(#clip950)\" d=\"M739.876 1393.68 L739.876 1377.99 L744.135 1377.99 L744.135 1393.52 Q744.135 1397.2 745.571 1399.05 Q747.006 1400.88 749.876 1400.88 Q753.325 1400.88 755.316 1398.68 Q757.33 1396.48 757.33 1392.69 L757.33 1377.99 L761.589 1377.99 L761.589 1403.91 L757.33 1403.91 L757.33 1399.93 Q755.779 1402.29 753.719 1403.45 Q751.682 1404.59 748.973 1404.59 Q744.506 1404.59 742.191 1401.81 Q739.876 1399.03 739.876 1393.68 M750.594 1377.36 L750.594 1377.36 Z\" fill=\"#000000\" fill-rule=\"evenodd\" fill-opacity=\"1\" /><path clip-path=\"url(#clip950)\" d=\"M785.385 1381.97 Q784.668 1381.55 783.811 1381.37 Q782.978 1381.16 781.959 1381.16 Q778.348 1381.16 776.404 1383.52 Q774.482 1385.86 774.482 1390.26 L774.482 1403.91 L770.2 1403.91 L770.2 1377.99 L774.482 1377.99 L774.482 1382.02 Q775.825 1379.66 777.978 1378.52 Q780.131 1377.36 783.209 1377.36 Q783.649 1377.36 784.181 1377.43 Q784.714 1377.48 785.362 1377.6 L785.385 1381.97 Z\" fill=\"#000000\" fill-rule=\"evenodd\" fill-opacity=\"1\" /><path clip-path=\"url(#clip950)\" d=\"M810.987 1389.89 L810.987 1391.97 L791.404 1391.97 Q791.681 1396.37 794.043 1398.68 Q796.427 1400.97 800.663 1400.97 Q803.117 1400.97 805.408 1400.37 Q807.723 1399.77 809.992 1398.57 L809.992 1402.59 Q807.7 1403.57 805.292 1404.08 Q802.885 1404.59 800.408 1404.59 Q794.205 1404.59 790.57 1400.97 Q786.959 1397.36 786.959 1391.21 Q786.959 1384.84 790.385 1381.11 Q793.834 1377.36 799.668 1377.36 Q804.899 1377.36 807.931 1380.74 Q810.987 1384.1 810.987 1389.89 M806.728 1388.64 Q806.681 1385.14 804.76 1383.06 Q802.862 1380.97 799.714 1380.97 Q796.149 1380.97 793.996 1382.99 Q791.867 1385 791.543 1388.66 L806.728 1388.64 Z\" fill=\"#000000\" fill-rule=\"evenodd\" fill-opacity=\"1\" /><path clip-path=\"url(#clip950)\" d=\"M844.829 1390.88 Q839.667 1390.88 837.677 1392.06 Q835.686 1393.24 835.686 1396.09 Q835.686 1398.36 837.167 1399.7 Q838.672 1401.02 841.241 1401.02 Q844.783 1401.02 846.913 1398.52 Q849.065 1396 849.065 1391.83 L849.065 1390.88 L844.829 1390.88 M853.325 1389.12 L853.325 1403.91 L849.065 1403.91 L849.065 1399.98 Q847.607 1402.34 845.431 1403.47 Q843.255 1404.59 840.107 1404.59 Q836.126 1404.59 833.765 1402.36 Q831.427 1400.12 831.427 1396.37 Q831.427 1391.99 834.343 1389.77 Q837.283 1387.55 843.093 1387.55 L849.065 1387.55 L849.065 1387.13 Q849.065 1384.19 847.121 1382.6 Q845.2 1380.97 841.704 1380.97 Q839.482 1380.97 837.376 1381.51 Q835.269 1382.04 833.325 1383.1 L833.325 1379.17 Q835.663 1378.27 837.862 1377.83 Q840.061 1377.36 842.144 1377.36 Q847.769 1377.36 850.547 1380.28 Q853.325 1383.2 853.325 1389.12 Z\" fill=\"#000000\" fill-rule=\"evenodd\" fill-opacity=\"1\" /><path clip-path=\"url(#clip950)\" d=\"M859.042 1377.99 L863.556 1377.99 L871.658 1399.75 L879.76 1377.99 L884.274 1377.99 L874.551 1403.91 L868.764 1403.91 L859.042 1377.99 Z\" fill=\"#000000\" fill-rule=\"evenodd\" fill-opacity=\"1\" /><path clip-path=\"url(#clip950)\" d=\"M912.329 1389.89 L912.329 1391.97 L892.746 1391.97 Q893.023 1396.37 895.385 1398.68 Q897.769 1400.97 902.005 1400.97 Q904.459 1400.97 906.75 1400.37 Q909.065 1399.77 911.334 1398.57 L911.334 1402.59 Q909.042 1403.57 906.635 1404.08 Q904.227 1404.59 901.75 1404.59 Q895.547 1404.59 891.912 1400.97 Q888.301 1397.36 888.301 1391.21 Q888.301 1384.84 891.727 1381.11 Q895.176 1377.36 901.01 1377.36 Q906.241 1377.36 909.273 1380.74 Q912.329 1384.1 912.329 1389.89 M908.07 1388.64 Q908.023 1385.14 906.102 1383.06 Q904.204 1380.97 901.056 1380.97 Q897.491 1380.97 895.338 1382.99 Q893.209 1385 892.885 1388.66 L908.07 1388.64 Z\" fill=\"#000000\" fill-rule=\"evenodd\" fill-opacity=\"1\" /><path clip-path=\"url(#clip950)\" d=\"M934.343 1381.97 Q933.625 1381.55 932.769 1381.37 Q931.935 1381.16 930.917 1381.16 Q927.306 1381.16 925.361 1383.52 Q923.44 1385.86 923.44 1390.26 L923.44 1403.91 L919.158 1403.91 L919.158 1377.99 L923.44 1377.99 L923.44 1382.02 Q924.783 1379.66 926.935 1378.52 Q929.088 1377.36 932.167 1377.36 Q932.607 1377.36 933.139 1377.43 Q933.671 1377.48 934.32 1377.6 L934.343 1381.97 Z\" fill=\"#000000\" fill-rule=\"evenodd\" fill-opacity=\"1\" /><path clip-path=\"url(#clip950)\" d=\"M950.593 1390.88 Q945.431 1390.88 943.44 1392.06 Q941.449 1393.24 941.449 1396.09 Q941.449 1398.36 942.931 1399.7 Q944.435 1401.02 947.005 1401.02 Q950.546 1401.02 952.676 1398.52 Q954.829 1396 954.829 1391.83 L954.829 1390.88 L950.593 1390.88 M959.088 1389.12 L959.088 1403.91 L954.829 1403.91 L954.829 1399.98 Q953.37 1402.34 951.194 1403.47 Q949.019 1404.59 945.87 1404.59 Q941.889 1404.59 939.528 1402.36 Q937.19 1400.12 937.19 1396.37 Q937.19 1391.99 940.107 1389.77 Q943.046 1387.55 948.857 1387.55 L954.829 1387.55 L954.829 1387.13 Q954.829 1384.19 952.884 1382.6 Q950.963 1380.97 947.468 1380.97 Q945.245 1380.97 943.139 1381.51 Q941.032 1382.04 939.088 1383.1 L939.088 1379.17 Q941.426 1378.27 943.625 1377.83 Q945.824 1377.36 947.907 1377.36 Q953.532 1377.36 956.31 1380.28 Q959.088 1383.2 959.088 1389.12 Z\" fill=\"#000000\" fill-rule=\"evenodd\" fill-opacity=\"1\" /><path clip-path=\"url(#clip950)\" d=\"M984.921 1390.65 Q984.921 1386.02 983 1383.47 Q981.102 1380.93 977.653 1380.93 Q974.227 1380.93 972.305 1383.47 Q970.407 1386.02 970.407 1390.65 Q970.407 1395.26 972.305 1397.8 Q974.227 1400.35 977.653 1400.35 Q981.102 1400.35 983 1397.8 Q984.921 1395.26 984.921 1390.65 M989.18 1400.7 Q989.18 1407.32 986.241 1410.53 Q983.301 1413.78 977.236 1413.78 Q974.991 1413.78 973 1413.43 Q971.009 1413.1 969.134 1412.41 L969.134 1408.27 Q971.009 1409.28 972.838 1409.77 Q974.667 1410.26 976.565 1410.26 Q980.754 1410.26 982.838 1408.06 Q984.921 1405.88 984.921 1401.46 L984.921 1399.35 Q983.602 1401.65 981.542 1402.78 Q979.481 1403.91 976.611 1403.91 Q971.843 1403.91 968.926 1400.28 Q966.009 1396.65 966.009 1390.65 Q966.009 1384.63 968.926 1381 Q971.843 1377.36 976.611 1377.36 Q979.481 1377.36 981.542 1378.5 Q983.602 1379.63 984.921 1381.92 L984.921 1377.99 L989.18 1377.99 L989.18 1400.7 Z\" fill=\"#000000\" fill-rule=\"evenodd\" fill-opacity=\"1\" /><path clip-path=\"url(#clip950)\" d=\"M1020.13 1389.89 L1020.13 1391.97 L1000.55 1391.97 Q1000.82 1396.37 1003.18 1398.68 Q1005.57 1400.97 1009.81 1400.97 Q1012.26 1400.97 1014.55 1400.37 Q1016.87 1399.77 1019.13 1398.57 L1019.13 1402.59 Q1016.84 1403.57 1014.43 1404.08 Q1012.03 1404.59 1009.55 1404.59 Q1003.35 1404.59 999.713 1400.97 Q996.102 1397.36 996.102 1391.21 Q996.102 1384.84 999.528 1381.11 Q1002.98 1377.36 1008.81 1377.36 Q1014.04 1377.36 1017.07 1380.74 Q1020.13 1384.1 1020.13 1389.89 M1015.87 1388.64 Q1015.82 1385.14 1013.9 1383.06 Q1012 1380.97 1008.86 1380.97 Q1005.29 1380.97 1003.14 1382.99 Q1001.01 1385 1000.68 1388.66 L1015.87 1388.64 Z\" fill=\"#000000\" fill-rule=\"evenodd\" fill-opacity=\"1\" /><path clip-path=\"url(#clip950)\" d=\"M1042.37 1369.35 L1049.34 1369.35 L1058.16 1392.87 L1067.03 1369.35 L1073.99 1369.35 L1073.99 1403.91 L1069.43 1403.91 L1069.43 1373.57 L1060.52 1397.27 L1055.82 1397.27 L1046.91 1373.57 L1046.91 1403.91 L1042.37 1403.91 L1042.37 1369.35 Z\" fill=\"#000000\" fill-rule=\"evenodd\" fill-opacity=\"1\" /><path clip-path=\"url(#clip950)\" d=\"M1094.87 1390.88 Q1089.71 1390.88 1087.72 1392.06 Q1085.73 1393.24 1085.73 1396.09 Q1085.73 1398.36 1087.21 1399.7 Q1088.72 1401.02 1091.29 1401.02 Q1094.83 1401.02 1096.96 1398.52 Q1099.11 1396 1099.11 1391.83 L1099.11 1390.88 L1094.87 1390.88 M1103.37 1389.12 L1103.37 1403.91 L1099.11 1403.91 L1099.11 1399.98 Q1097.65 1402.34 1095.48 1403.47 Q1093.3 1404.59 1090.15 1404.59 Q1086.17 1404.59 1083.81 1402.36 Q1081.47 1400.12 1081.47 1396.37 Q1081.47 1391.99 1084.39 1389.77 Q1087.33 1387.55 1093.14 1387.55 L1099.11 1387.55 L1099.11 1387.13 Q1099.11 1384.19 1097.17 1382.6 Q1095.24 1380.97 1091.75 1380.97 Q1089.53 1380.97 1087.42 1381.51 Q1085.31 1382.04 1083.37 1383.1 L1083.37 1379.17 Q1085.71 1378.27 1087.91 1377.83 Q1090.11 1377.36 1092.19 1377.36 Q1097.81 1377.36 1100.59 1380.28 Q1103.37 1383.2 1103.37 1389.12 Z\" fill=\"#000000\" fill-rule=\"evenodd\" fill-opacity=\"1\" /><path clip-path=\"url(#clip950)\" d=\"M1133.69 1377.99 L1124.32 1390.6 L1134.18 1403.91 L1129.16 1403.91 L1121.61 1393.73 L1114.06 1403.91 L1109.04 1403.91 L1119.11 1390.35 L1109.9 1377.99 L1114.92 1377.99 L1121.8 1387.22 L1128.67 1377.99 L1133.69 1377.99 Z\" fill=\"#000000\" fill-rule=\"evenodd\" fill-opacity=\"1\" /></svg>\n"
      ]
     },
     "execution_count": 54,
     "metadata": {},
     "output_type": "execute_result"
    }
   ],
   "source": [
    "plot(1:11, dectempmax, label=\"Dec Temperature average Max \", legend=:bottomleft)"
   ]
  },
  {
   "cell_type": "markdown",
   "id": "16c73d2a",
   "metadata": {},
   "source": [
    "# Now Average December temperature: "
   ]
  },
  {
   "cell_type": "code",
   "execution_count": 55,
   "id": "4d462c7e",
   "metadata": {},
   "outputs": [
    {
     "data": {
      "text/plain": [
       "11-element Vector{Any}:\n",
       " 31.81\n",
       " 32.9\n",
       " 32.9\n",
       " 14.18\n",
       " 27.91\n",
       " 27.82\n",
       " 30.55\n",
       " 31.55\n",
       " 28.0\n",
       " 38.46\n",
       " 37.09"
      ]
     },
     "execution_count": 55,
     "metadata": {},
     "output_type": "execute_result"
    }
   ],
   "source": [
    "dectempaverage=B[2:12,3]"
   ]
  },
  {
   "cell_type": "code",
   "execution_count": 56,
   "id": "a4961f4a",
   "metadata": {},
   "outputs": [
    {
     "data": {
      "image/svg+xml": [
       "<?xml version=\"1.0\" encoding=\"utf-8\"?>\n",
       "<svg xmlns=\"http://www.w3.org/2000/svg\" xmlns:xlink=\"http://www.w3.org/1999/xlink\" width=\"600\" height=\"400\" viewBox=\"0 0 2400 1600\">\n",
       "<defs>\n",
       "  <clipPath id=\"clip990\">\n",
       "    <rect x=\"0\" y=\"0\" width=\"2400\" height=\"1600\"/>\n",
       "  </clipPath>\n",
       "</defs>\n",
       "<path clip-path=\"url(#clip990)\" d=\"\n",
       "M0 1600 L2400 1600 L2400 0 L0 0  Z\n",
       "  \" fill=\"#ffffff\" fill-rule=\"evenodd\" fill-opacity=\"1\"/>\n",
       "<defs>\n",
       "  <clipPath id=\"clip991\">\n",
       "    <rect x=\"480\" y=\"0\" width=\"1681\" height=\"1600\"/>\n",
       "  </clipPath>\n",
       "</defs>\n",
       "<path clip-path=\"url(#clip990)\" d=\"\n",
       "M140.696 1486.45 L2352.76 1486.45 L2352.76 47.2441 L140.696 47.2441  Z\n",
       "  \" fill=\"#ffffff\" fill-rule=\"evenodd\" fill-opacity=\"1\"/>\n",
       "<defs>\n",
       "  <clipPath id=\"clip992\">\n",
       "    <rect x=\"140\" y=\"47\" width=\"2213\" height=\"1440\"/>\n",
       "  </clipPath>\n",
       "</defs>\n",
       "<polyline clip-path=\"url(#clip992)\" style=\"stroke:#000000; stroke-linecap:round; stroke-linejoin:round; stroke-width:2; stroke-opacity:0.1; fill:none\" points=\"\n",
       "  411.986,1486.45 411.986,47.2441 \n",
       "  \"/>\n",
       "<polyline clip-path=\"url(#clip992)\" style=\"stroke:#000000; stroke-linecap:round; stroke-linejoin:round; stroke-width:2; stroke-opacity:0.1; fill:none\" points=\"\n",
       "  829.356,1486.45 829.356,47.2441 \n",
       "  \"/>\n",
       "<polyline clip-path=\"url(#clip992)\" style=\"stroke:#000000; stroke-linecap:round; stroke-linejoin:round; stroke-width:2; stroke-opacity:0.1; fill:none\" points=\"\n",
       "  1246.73,1486.45 1246.73,47.2441 \n",
       "  \"/>\n",
       "<polyline clip-path=\"url(#clip992)\" style=\"stroke:#000000; stroke-linecap:round; stroke-linejoin:round; stroke-width:2; stroke-opacity:0.1; fill:none\" points=\"\n",
       "  1664.1,1486.45 1664.1,47.2441 \n",
       "  \"/>\n",
       "<polyline clip-path=\"url(#clip992)\" style=\"stroke:#000000; stroke-linecap:round; stroke-linejoin:round; stroke-width:2; stroke-opacity:0.1; fill:none\" points=\"\n",
       "  2081.47,1486.45 2081.47,47.2441 \n",
       "  \"/>\n",
       "<polyline clip-path=\"url(#clip990)\" style=\"stroke:#000000; stroke-linecap:round; stroke-linejoin:round; stroke-width:4; stroke-opacity:1; fill:none\" points=\"\n",
       "  140.696,1486.45 2352.76,1486.45 \n",
       "  \"/>\n",
       "<polyline clip-path=\"url(#clip990)\" style=\"stroke:#000000; stroke-linecap:round; stroke-linejoin:round; stroke-width:4; stroke-opacity:1; fill:none\" points=\"\n",
       "  411.986,1486.45 411.986,1467.55 \n",
       "  \"/>\n",
       "<polyline clip-path=\"url(#clip990)\" style=\"stroke:#000000; stroke-linecap:round; stroke-linejoin:round; stroke-width:4; stroke-opacity:1; fill:none\" points=\"\n",
       "  829.356,1486.45 829.356,1467.55 \n",
       "  \"/>\n",
       "<polyline clip-path=\"url(#clip990)\" style=\"stroke:#000000; stroke-linecap:round; stroke-linejoin:round; stroke-width:4; stroke-opacity:1; fill:none\" points=\"\n",
       "  1246.73,1486.45 1246.73,1467.55 \n",
       "  \"/>\n",
       "<polyline clip-path=\"url(#clip990)\" style=\"stroke:#000000; stroke-linecap:round; stroke-linejoin:round; stroke-width:4; stroke-opacity:1; fill:none\" points=\"\n",
       "  1664.1,1486.45 1664.1,1467.55 \n",
       "  \"/>\n",
       "<polyline clip-path=\"url(#clip990)\" style=\"stroke:#000000; stroke-linecap:round; stroke-linejoin:round; stroke-width:4; stroke-opacity:1; fill:none\" points=\"\n",
       "  2081.47,1486.45 2081.47,1467.55 \n",
       "  \"/>\n",
       "<path clip-path=\"url(#clip990)\" d=\"M406.639 1544.91 L422.958 1544.91 L422.958 1548.85 L401.014 1548.85 L401.014 1544.91 Q403.676 1542.16 408.259 1537.53 Q412.866 1532.88 414.046 1531.53 Q416.291 1529.01 417.171 1527.27 Q418.074 1525.51 418.074 1523.82 Q418.074 1521.07 416.129 1519.33 Q414.208 1517.6 411.106 1517.6 Q408.907 1517.6 406.454 1518.36 Q404.023 1519.13 401.245 1520.68 L401.245 1515.95 Q404.069 1514.82 406.523 1514.24 Q408.977 1513.66 411.014 1513.66 Q416.384 1513.66 419.579 1516.35 Q422.773 1519.03 422.773 1523.52 Q422.773 1525.65 421.963 1527.57 Q421.176 1529.47 419.069 1532.07 Q418.491 1532.74 415.389 1535.95 Q412.287 1539.15 406.639 1544.91 Z\" fill=\"#000000\" fill-rule=\"evenodd\" fill-opacity=\"1\" /><path clip-path=\"url(#clip990)\" d=\"M832.365 1518.36 L820.56 1536.81 L832.365 1536.81 L832.365 1518.36 M831.138 1514.29 L837.018 1514.29 L837.018 1536.81 L841.948 1536.81 L841.948 1540.7 L837.018 1540.7 L837.018 1548.85 L832.365 1548.85 L832.365 1540.7 L816.763 1540.7 L816.763 1536.19 L831.138 1514.29 Z\" fill=\"#000000\" fill-rule=\"evenodd\" fill-opacity=\"1\" /><path clip-path=\"url(#clip990)\" d=\"M1247.13 1529.7 Q1243.98 1529.7 1242.13 1531.86 Q1240.3 1534.01 1240.3 1537.76 Q1240.3 1541.49 1242.13 1543.66 Q1243.98 1545.82 1247.13 1545.82 Q1250.28 1545.82 1252.11 1543.66 Q1253.96 1541.49 1253.96 1537.76 Q1253.96 1534.01 1252.11 1531.86 Q1250.28 1529.7 1247.13 1529.7 M1256.41 1515.05 L1256.41 1519.31 Q1254.65 1518.48 1252.85 1518.04 Q1251.07 1517.6 1249.31 1517.6 Q1244.68 1517.6 1242.22 1520.72 Q1239.79 1523.85 1239.45 1530.17 Q1240.81 1528.15 1242.87 1527.09 Q1244.93 1526 1247.41 1526 Q1252.62 1526 1255.63 1529.17 Q1258.66 1532.32 1258.66 1537.76 Q1258.66 1543.08 1255.51 1546.3 Q1252.36 1549.52 1247.13 1549.52 Q1241.14 1549.52 1237.96 1544.94 Q1234.79 1540.33 1234.79 1531.6 Q1234.79 1523.41 1238.68 1518.55 Q1242.57 1513.66 1249.12 1513.66 Q1250.88 1513.66 1252.66 1514.01 Q1254.47 1514.36 1256.41 1515.05 Z\" fill=\"#000000\" fill-rule=\"evenodd\" fill-opacity=\"1\" /><path clip-path=\"url(#clip990)\" d=\"M1664.1 1532.44 Q1660.76 1532.44 1658.84 1534.22 Q1656.94 1536 1656.94 1539.13 Q1656.94 1542.25 1658.84 1544.03 Q1660.76 1545.82 1664.1 1545.82 Q1667.43 1545.82 1669.35 1544.03 Q1671.27 1542.23 1671.27 1539.13 Q1671.27 1536 1669.35 1534.22 Q1667.45 1532.44 1664.1 1532.44 M1659.42 1530.45 Q1656.41 1529.7 1654.72 1527.64 Q1653.05 1525.58 1653.05 1522.62 Q1653.05 1518.48 1655.99 1516.07 Q1658.96 1513.66 1664.1 1513.66 Q1669.26 1513.66 1672.2 1516.07 Q1675.14 1518.48 1675.14 1522.62 Q1675.14 1525.58 1673.45 1527.64 Q1671.78 1529.7 1668.79 1530.45 Q1672.17 1531.23 1674.05 1533.52 Q1675.95 1535.82 1675.95 1539.13 Q1675.95 1544.15 1672.87 1546.83 Q1669.81 1549.52 1664.1 1549.52 Q1658.38 1549.52 1655.3 1546.83 Q1652.24 1544.15 1652.24 1539.13 Q1652.24 1535.82 1654.14 1533.52 Q1656.04 1531.23 1659.42 1530.45 M1657.71 1523.06 Q1657.71 1525.75 1659.37 1527.25 Q1661.06 1528.76 1664.1 1528.76 Q1667.1 1528.76 1668.79 1527.25 Q1670.51 1525.75 1670.51 1523.06 Q1670.51 1520.38 1668.79 1518.87 Q1667.1 1517.37 1664.1 1517.37 Q1661.06 1517.37 1659.37 1518.87 Q1657.71 1520.38 1657.71 1523.06 Z\" fill=\"#000000\" fill-rule=\"evenodd\" fill-opacity=\"1\" /><path clip-path=\"url(#clip990)\" d=\"M2056.15 1544.91 L2063.79 1544.91 L2063.79 1518.55 L2055.48 1520.21 L2055.48 1515.95 L2063.75 1514.29 L2068.42 1514.29 L2068.42 1544.91 L2076.06 1544.91 L2076.06 1548.85 L2056.15 1548.85 L2056.15 1544.91 Z\" fill=\"#000000\" fill-rule=\"evenodd\" fill-opacity=\"1\" /><path clip-path=\"url(#clip990)\" d=\"M2095.5 1517.37 Q2091.89 1517.37 2090.06 1520.93 Q2088.26 1524.47 2088.26 1531.6 Q2088.26 1538.71 2090.06 1542.27 Q2091.89 1545.82 2095.5 1545.82 Q2099.14 1545.82 2100.94 1542.27 Q2102.77 1538.71 2102.77 1531.6 Q2102.77 1524.47 2100.94 1520.93 Q2099.14 1517.37 2095.5 1517.37 M2095.5 1513.66 Q2101.31 1513.66 2104.37 1518.27 Q2107.45 1522.85 2107.45 1531.6 Q2107.45 1540.33 2104.37 1544.94 Q2101.31 1549.52 2095.5 1549.52 Q2089.69 1549.52 2086.62 1544.94 Q2083.56 1540.33 2083.56 1531.6 Q2083.56 1522.85 2086.62 1518.27 Q2089.69 1513.66 2095.5 1513.66 Z\" fill=\"#000000\" fill-rule=\"evenodd\" fill-opacity=\"1\" /><polyline clip-path=\"url(#clip992)\" style=\"stroke:#000000; stroke-linecap:round; stroke-linejoin:round; stroke-width:2; stroke-opacity:0.1; fill:none\" points=\"\n",
       "  140.696,1399.86 2352.76,1399.86 \n",
       "  \"/>\n",
       "<polyline clip-path=\"url(#clip992)\" style=\"stroke:#000000; stroke-linecap:round; stroke-linejoin:round; stroke-width:2; stroke-opacity:0.1; fill:none\" points=\"\n",
       "  140.696,1120.26 2352.76,1120.26 \n",
       "  \"/>\n",
       "<polyline clip-path=\"url(#clip992)\" style=\"stroke:#000000; stroke-linecap:round; stroke-linejoin:round; stroke-width:2; stroke-opacity:0.1; fill:none\" points=\"\n",
       "  140.696,840.66 2352.76,840.66 \n",
       "  \"/>\n",
       "<polyline clip-path=\"url(#clip992)\" style=\"stroke:#000000; stroke-linecap:round; stroke-linejoin:round; stroke-width:2; stroke-opacity:0.1; fill:none\" points=\"\n",
       "  140.696,561.06 2352.76,561.06 \n",
       "  \"/>\n",
       "<polyline clip-path=\"url(#clip992)\" style=\"stroke:#000000; stroke-linecap:round; stroke-linejoin:round; stroke-width:2; stroke-opacity:0.1; fill:none\" points=\"\n",
       "  140.696,281.46 2352.76,281.46 \n",
       "  \"/>\n",
       "<polyline clip-path=\"url(#clip990)\" style=\"stroke:#000000; stroke-linecap:round; stroke-linejoin:round; stroke-width:4; stroke-opacity:1; fill:none\" points=\"\n",
       "  140.696,1486.45 140.696,47.2441 \n",
       "  \"/>\n",
       "<polyline clip-path=\"url(#clip990)\" style=\"stroke:#000000; stroke-linecap:round; stroke-linejoin:round; stroke-width:4; stroke-opacity:1; fill:none\" points=\"\n",
       "  140.696,1399.86 159.593,1399.86 \n",
       "  \"/>\n",
       "<polyline clip-path=\"url(#clip990)\" style=\"stroke:#000000; stroke-linecap:round; stroke-linejoin:round; stroke-width:4; stroke-opacity:1; fill:none\" points=\"\n",
       "  140.696,1120.26 159.593,1120.26 \n",
       "  \"/>\n",
       "<polyline clip-path=\"url(#clip990)\" style=\"stroke:#000000; stroke-linecap:round; stroke-linejoin:round; stroke-width:4; stroke-opacity:1; fill:none\" points=\"\n",
       "  140.696,840.66 159.593,840.66 \n",
       "  \"/>\n",
       "<polyline clip-path=\"url(#clip990)\" style=\"stroke:#000000; stroke-linecap:round; stroke-linejoin:round; stroke-width:4; stroke-opacity:1; fill:none\" points=\"\n",
       "  140.696,561.06 159.593,561.06 \n",
       "  \"/>\n",
       "<polyline clip-path=\"url(#clip990)\" style=\"stroke:#000000; stroke-linecap:round; stroke-linejoin:round; stroke-width:4; stroke-opacity:1; fill:none\" points=\"\n",
       "  140.696,281.46 159.593,281.46 \n",
       "  \"/>\n",
       "<path clip-path=\"url(#clip990)\" d=\"M54.3949 1413.21 L62.0337 1413.21 L62.0337 1386.84 L53.7236 1388.51 L53.7236 1384.25 L61.9874 1382.58 L66.6633 1382.58 L66.6633 1413.21 L74.3022 1413.21 L74.3022 1417.14 L54.3949 1417.14 L54.3949 1413.21 Z\" fill=\"#000000\" fill-rule=\"evenodd\" fill-opacity=\"1\" /><path clip-path=\"url(#clip990)\" d=\"M83.7929 1382.58 L102.149 1382.58 L102.149 1386.52 L88.0753 1386.52 L88.0753 1394.99 Q89.0938 1394.64 90.1123 1394.48 Q91.1308 1394.29 92.1493 1394.29 Q97.9363 1394.29 101.316 1397.47 Q104.696 1400.64 104.696 1406.05 Q104.696 1411.63 101.223 1414.73 Q97.7511 1417.81 91.4317 1417.81 Q89.2558 1417.81 86.9873 1417.44 Q84.7419 1417.07 82.3346 1416.33 L82.3346 1411.63 Q84.4179 1412.77 86.6401 1413.32 Q88.8623 1413.88 91.3391 1413.88 Q95.3437 1413.88 97.6817 1411.77 Q100.02 1409.66 100.02 1406.05 Q100.02 1402.44 97.6817 1400.34 Q95.3437 1398.23 91.3391 1398.23 Q89.4641 1398.23 87.5892 1398.65 Q85.7373 1399.06 83.7929 1399.94 L83.7929 1382.58 Z\" fill=\"#000000\" fill-rule=\"evenodd\" fill-opacity=\"1\" /><path clip-path=\"url(#clip990)\" d=\"M56.6171 1133.61 L72.9365 1133.61 L72.9365 1137.54 L50.9921 1137.54 L50.9921 1133.61 Q53.6541 1130.85 58.2375 1126.22 Q62.8439 1121.57 64.0245 1120.23 Q66.2698 1117.7 67.1494 1115.97 Q68.0522 1114.21 68.0522 1112.52 Q68.0522 1109.76 66.1078 1108.03 Q64.1865 1106.29 61.0847 1106.29 Q58.8856 1106.29 56.4319 1107.05 Q54.0014 1107.82 51.2236 1109.37 L51.2236 1104.65 Q54.0477 1103.51 56.5014 1102.93 Q58.955 1102.36 60.9921 1102.36 Q66.3624 1102.36 69.5568 1105.04 Q72.7513 1107.73 72.7513 1112.22 Q72.7513 1114.35 71.9411 1116.27 Q71.1541 1118.17 69.0476 1120.76 Q68.4689 1121.43 65.367 1124.65 Q62.2652 1127.84 56.6171 1133.61 Z\" fill=\"#000000\" fill-rule=\"evenodd\" fill-opacity=\"1\" /><path clip-path=\"url(#clip990)\" d=\"M92.7512 1106.06 Q89.1401 1106.06 87.3114 1109.62 Q85.5058 1113.17 85.5058 1120.3 Q85.5058 1127.4 87.3114 1130.97 Q89.1401 1134.51 92.7512 1134.51 Q96.3854 1134.51 98.1909 1130.97 Q100.02 1127.4 100.02 1120.3 Q100.02 1113.17 98.1909 1109.62 Q96.3854 1106.06 92.7512 1106.06 M92.7512 1102.36 Q98.5613 1102.36 101.617 1106.96 Q104.696 1111.55 104.696 1120.3 Q104.696 1129.02 101.617 1133.63 Q98.5613 1138.21 92.7512 1138.21 Q86.941 1138.21 83.8623 1133.63 Q80.8068 1129.02 80.8068 1120.3 Q80.8068 1111.55 83.8623 1106.96 Q86.941 1102.36 92.7512 1102.36 Z\" fill=\"#000000\" fill-rule=\"evenodd\" fill-opacity=\"1\" /><path clip-path=\"url(#clip990)\" d=\"M57.6125 854.005 L73.9318 854.005 L73.9318 857.94 L51.9875 857.94 L51.9875 854.005 Q54.6495 851.251 59.2328 846.621 Q63.8393 841.968 65.0198 840.626 Q67.2652 838.103 68.1448 836.367 Q69.0476 834.607 69.0476 832.917 Q69.0476 830.163 67.1032 828.427 Q65.1819 826.691 62.08 826.691 Q59.881 826.691 57.4273 827.455 Q54.9967 828.218 52.219 829.769 L52.219 825.047 Q55.043 823.913 57.4967 823.334 Q59.9504 822.755 61.9874 822.755 Q67.3578 822.755 70.5522 825.441 Q73.7466 828.126 73.7466 832.617 Q73.7466 834.746 72.9365 836.667 Q72.1494 838.566 70.0429 841.158 Q69.4642 841.829 66.3624 845.047 Q63.2606 848.241 57.6125 854.005 Z\" fill=\"#000000\" fill-rule=\"evenodd\" fill-opacity=\"1\" /><path clip-path=\"url(#clip990)\" d=\"M83.7929 823.38 L102.149 823.38 L102.149 827.316 L88.0753 827.316 L88.0753 835.788 Q89.0938 835.441 90.1123 835.279 Q91.1308 835.093 92.1493 835.093 Q97.9363 835.093 101.316 838.265 Q104.696 841.436 104.696 846.853 Q104.696 852.431 101.223 855.533 Q97.7511 858.612 91.4317 858.612 Q89.2558 858.612 86.9873 858.241 Q84.7419 857.871 82.3346 857.13 L82.3346 852.431 Q84.4179 853.566 86.6401 854.121 Q88.8623 854.677 91.3391 854.677 Q95.3437 854.677 97.6817 852.57 Q100.02 850.464 100.02 846.853 Q100.02 843.241 97.6817 841.135 Q95.3437 839.029 91.3391 839.029 Q89.4641 839.029 87.5892 839.445 Q85.7373 839.862 83.7929 840.742 L83.7929 823.38 Z\" fill=\"#000000\" fill-rule=\"evenodd\" fill-opacity=\"1\" /><path clip-path=\"url(#clip990)\" d=\"M66.7559 559.706 Q70.1124 560.424 71.9874 562.692 Q73.8855 564.961 73.8855 568.294 Q73.8855 573.41 70.367 576.21 Q66.8485 579.011 60.3671 579.011 Q58.1912 579.011 55.8764 578.572 Q53.5847 578.155 51.131 577.298 L51.131 572.785 Q53.0754 573.919 55.3903 574.498 Q57.7051 575.076 60.2282 575.076 Q64.6263 575.076 66.918 573.34 Q69.2328 571.604 69.2328 568.294 Q69.2328 565.238 67.08 563.525 Q64.9504 561.789 61.131 561.789 L57.1032 561.789 L57.1032 557.947 L61.3161 557.947 Q64.7652 557.947 66.5939 556.581 Q68.4226 555.192 68.4226 552.6 Q68.4226 549.937 66.5245 548.525 Q64.6495 547.09 61.131 547.09 Q59.2097 547.09 57.0106 547.507 Q54.8115 547.924 52.1727 548.803 L52.1727 544.637 Q54.8347 543.896 57.1495 543.525 Q59.4875 543.155 61.5476 543.155 Q66.8717 543.155 69.9735 545.586 Q73.0753 547.993 73.0753 552.113 Q73.0753 554.984 71.4318 556.974 Q69.7883 558.942 66.7559 559.706 Z\" fill=\"#000000\" fill-rule=\"evenodd\" fill-opacity=\"1\" /><path clip-path=\"url(#clip990)\" d=\"M92.7512 546.859 Q89.1401 546.859 87.3114 550.424 Q85.5058 553.965 85.5058 561.095 Q85.5058 568.201 87.3114 571.766 Q89.1401 575.308 92.7512 575.308 Q96.3854 575.308 98.1909 571.766 Q100.02 568.201 100.02 561.095 Q100.02 553.965 98.1909 550.424 Q96.3854 546.859 92.7512 546.859 M92.7512 543.155 Q98.5613 543.155 101.617 547.762 Q104.696 552.345 104.696 561.095 Q104.696 569.822 101.617 574.428 Q98.5613 579.011 92.7512 579.011 Q86.941 579.011 83.8623 574.428 Q80.8068 569.822 80.8068 561.095 Q80.8068 552.345 83.8623 547.762 Q86.941 543.155 92.7512 543.155 Z\" fill=\"#000000\" fill-rule=\"evenodd\" fill-opacity=\"1\" /><path clip-path=\"url(#clip990)\" d=\"M67.7513 280.106 Q71.1078 280.823 72.9827 283.092 Q74.8809 285.36 74.8809 288.693 Q74.8809 293.809 71.3624 296.61 Q67.8439 299.411 61.3624 299.411 Q59.1865 299.411 56.8717 298.971 Q54.5801 298.555 52.1264 297.698 L52.1264 293.184 Q54.0708 294.318 56.3856 294.897 Q58.7004 295.476 61.2236 295.476 Q65.6217 295.476 67.9133 293.74 Q70.2281 292.004 70.2281 288.693 Q70.2281 285.638 68.0754 283.925 Q65.9457 282.189 62.1263 282.189 L58.0986 282.189 L58.0986 278.346 L62.3115 278.346 Q65.7606 278.346 67.5893 276.981 Q69.418 275.592 69.418 272.999 Q69.418 270.337 67.5198 268.925 Q65.6448 267.49 62.1263 267.49 Q60.205 267.49 58.006 267.907 Q55.8069 268.323 53.168 269.203 L53.168 265.036 Q55.8301 264.295 58.1449 263.925 Q60.4828 263.555 62.543 263.555 Q67.867 263.555 70.9689 265.985 Q74.0707 268.393 74.0707 272.513 Q74.0707 275.383 72.4272 277.374 Q70.7837 279.342 67.7513 280.106 Z\" fill=\"#000000\" fill-rule=\"evenodd\" fill-opacity=\"1\" /><path clip-path=\"url(#clip990)\" d=\"M83.7929 264.18 L102.149 264.18 L102.149 268.115 L88.0753 268.115 L88.0753 276.587 Q89.0938 276.24 90.1123 276.078 Q91.1308 275.893 92.1493 275.893 Q97.9363 275.893 101.316 279.064 Q104.696 282.235 104.696 287.652 Q104.696 293.231 101.223 296.332 Q97.7511 299.411 91.4317 299.411 Q89.2558 299.411 86.9873 299.041 Q84.7419 298.67 82.3346 297.93 L82.3346 293.231 Q84.4179 294.365 86.6401 294.92 Q88.8623 295.476 91.3391 295.476 Q95.3437 295.476 97.6817 293.369 Q100.02 291.263 100.02 287.652 Q100.02 284.041 97.6817 281.934 Q95.3437 279.828 91.3391 279.828 Q89.4641 279.828 87.5892 280.244 Q85.7373 280.661 83.7929 281.541 L83.7929 264.18 Z\" fill=\"#000000\" fill-rule=\"evenodd\" fill-opacity=\"1\" /><polyline clip-path=\"url(#clip992)\" style=\"stroke:#009af9; stroke-linecap:round; stroke-linejoin:round; stroke-width:4; stroke-opacity:1; fill:none\" points=\"\n",
       "  203.301,459.845 411.986,398.892 620.671,398.892 829.356,1445.72 1038.04,677.933 1246.73,682.966 1455.41,530.304 1664.1,474.384 1872.78,672.9 2081.47,87.9763 \n",
       "  2290.15,164.587 \n",
       "  \"/>\n",
       "<path clip-path=\"url(#clip990)\" d=\"\n",
       "M214.431 1438.47 L1044.71 1438.47 L1044.71 1334.79 L214.431 1334.79  Z\n",
       "  \" fill=\"#ffffff\" fill-rule=\"evenodd\" fill-opacity=\"1\"/>\n",
       "<polyline clip-path=\"url(#clip990)\" style=\"stroke:#000000; stroke-linecap:round; stroke-linejoin:round; stroke-width:4; stroke-opacity:1; fill:none\" points=\"\n",
       "  214.431,1438.47 1044.71,1438.47 1044.71,1334.79 214.431,1334.79 214.431,1438.47 \n",
       "  \"/>\n",
       "<polyline clip-path=\"url(#clip990)\" style=\"stroke:#009af9; stroke-linecap:round; stroke-linejoin:round; stroke-width:4; stroke-opacity:1; fill:none\" points=\"\n",
       "  239.009,1386.63 386.48,1386.63 \n",
       "  \"/>\n",
       "<path clip-path=\"url(#clip990)\" d=\"M415.734 1373.2 L415.734 1400.07 L421.382 1400.07 Q428.535 1400.07 431.845 1396.83 Q435.179 1393.59 435.179 1386.6 Q435.179 1379.66 431.845 1376.44 Q428.535 1373.2 421.382 1373.2 L415.734 1373.2 M411.058 1369.35 L420.665 1369.35 Q430.711 1369.35 435.41 1373.54 Q440.109 1377.71 440.109 1386.6 Q440.109 1395.53 435.387 1399.72 Q430.665 1403.91 420.665 1403.91 L411.058 1403.91 L411.058 1369.35 Z\" fill=\"#000000\" fill-rule=\"evenodd\" fill-opacity=\"1\" /><path clip-path=\"url(#clip990)\" d=\"M469.554 1389.89 L469.554 1391.97 L449.97 1391.97 Q450.248 1396.37 452.609 1398.68 Q454.993 1400.97 459.23 1400.97 Q461.683 1400.97 463.975 1400.37 Q466.29 1399.77 468.558 1398.57 L468.558 1402.59 Q466.267 1403.57 463.859 1404.08 Q461.452 1404.59 458.975 1404.59 Q452.771 1404.59 449.137 1400.97 Q445.526 1397.36 445.526 1391.21 Q445.526 1384.84 448.952 1381.11 Q452.401 1377.36 458.234 1377.36 Q463.466 1377.36 466.498 1380.74 Q469.554 1384.1 469.554 1389.89 M465.294 1388.64 Q465.248 1385.14 463.327 1383.06 Q461.429 1380.97 458.28 1380.97 Q454.716 1380.97 452.563 1382.99 Q450.433 1385 450.109 1388.66 L465.294 1388.64 Z\" fill=\"#000000\" fill-rule=\"evenodd\" fill-opacity=\"1\" /><path clip-path=\"url(#clip990)\" d=\"M495.202 1378.98 L495.202 1382.97 Q493.396 1381.97 491.567 1381.48 Q489.762 1380.97 487.91 1380.97 Q483.766 1380.97 481.475 1383.61 Q479.183 1386.23 479.183 1390.97 Q479.183 1395.72 481.475 1398.36 Q483.766 1400.97 487.91 1400.97 Q489.762 1400.97 491.567 1400.49 Q493.396 1399.98 495.202 1398.98 L495.202 1402.92 Q493.419 1403.75 491.498 1404.17 Q489.6 1404.59 487.447 1404.59 Q481.591 1404.59 478.141 1400.91 Q474.692 1397.22 474.692 1390.97 Q474.692 1384.63 478.165 1381 Q481.66 1377.36 487.725 1377.36 Q489.692 1377.36 491.567 1377.78 Q493.442 1378.17 495.202 1378.98 Z\" fill=\"#000000\" fill-rule=\"evenodd\" fill-opacity=\"1\" /><path clip-path=\"url(#clip990)\" d=\"M513.072 1369.35 L542.308 1369.35 L542.308 1373.29 L530.039 1373.29 L530.039 1403.91 L525.34 1403.91 L525.34 1373.29 L513.072 1373.29 L513.072 1369.35 Z\" fill=\"#000000\" fill-rule=\"evenodd\" fill-opacity=\"1\" /><path clip-path=\"url(#clip990)\" d=\"M560.757 1389.89 L560.757 1391.97 L541.174 1391.97 Q541.451 1396.37 543.812 1398.68 Q546.197 1400.97 550.433 1400.97 Q552.886 1400.97 555.178 1400.37 Q557.493 1399.77 559.761 1398.57 L559.761 1402.59 Q557.47 1403.57 555.062 1404.08 Q552.655 1404.59 550.178 1404.59 Q543.974 1404.59 540.34 1400.97 Q536.729 1397.36 536.729 1391.21 Q536.729 1384.84 540.155 1381.11 Q543.604 1377.36 549.437 1377.36 Q554.669 1377.36 557.701 1380.74 Q560.757 1384.1 560.757 1389.89 M556.498 1388.64 Q556.451 1385.14 554.53 1383.06 Q552.632 1380.97 549.484 1380.97 Q545.919 1380.97 543.766 1382.99 Q541.636 1385 541.312 1388.66 L556.498 1388.64 Z\" fill=\"#000000\" fill-rule=\"evenodd\" fill-opacity=\"1\" /><path clip-path=\"url(#clip990)\" d=\"M587.933 1382.97 Q589.53 1380.1 591.752 1378.73 Q593.974 1377.36 596.983 1377.36 Q601.034 1377.36 603.233 1380.21 Q605.432 1383.03 605.432 1388.27 L605.432 1403.91 L601.15 1403.91 L601.15 1388.41 Q601.15 1384.68 599.831 1382.87 Q598.511 1381.07 595.803 1381.07 Q592.493 1381.07 590.571 1383.27 Q588.65 1385.47 588.65 1389.26 L588.65 1403.91 L584.368 1403.91 L584.368 1388.41 Q584.368 1384.66 583.048 1382.87 Q581.729 1381.07 578.974 1381.07 Q575.71 1381.07 573.789 1383.29 Q571.868 1385.49 571.868 1389.26 L571.868 1403.91 L567.585 1403.91 L567.585 1377.99 L571.868 1377.99 L571.868 1382.02 Q573.326 1379.63 575.363 1378.5 Q577.4 1377.36 580.201 1377.36 Q583.025 1377.36 584.993 1378.8 Q586.983 1380.23 587.933 1382.97 Z\" fill=\"#000000\" fill-rule=\"evenodd\" fill-opacity=\"1\" /><path clip-path=\"url(#clip990)\" d=\"M618.048 1400.03 L618.048 1413.78 L613.766 1413.78 L613.766 1377.99 L618.048 1377.99 L618.048 1381.92 Q619.391 1379.61 621.428 1378.5 Q623.488 1377.36 626.335 1377.36 Q631.057 1377.36 633.997 1381.11 Q636.96 1384.86 636.96 1390.97 Q636.96 1397.09 633.997 1400.84 Q631.057 1404.59 626.335 1404.59 Q623.488 1404.59 621.428 1403.47 Q619.391 1402.34 618.048 1400.03 M632.539 1390.97 Q632.539 1386.28 630.594 1383.61 Q628.673 1380.93 625.293 1380.93 Q621.914 1380.93 619.969 1383.61 Q618.048 1386.28 618.048 1390.97 Q618.048 1395.67 619.969 1398.36 Q621.914 1401.02 625.293 1401.02 Q628.673 1401.02 630.594 1398.36 Q632.539 1395.67 632.539 1390.97 Z\" fill=\"#000000\" fill-rule=\"evenodd\" fill-opacity=\"1\" /><path clip-path=\"url(#clip990)\" d=\"M666.196 1389.89 L666.196 1391.97 L646.613 1391.97 Q646.891 1396.37 649.252 1398.68 Q651.636 1400.97 655.872 1400.97 Q658.326 1400.97 660.617 1400.37 Q662.932 1399.77 665.201 1398.57 L665.201 1402.59 Q662.909 1403.57 660.502 1404.08 Q658.094 1404.59 655.617 1404.59 Q649.414 1404.59 645.779 1400.97 Q642.168 1397.36 642.168 1391.21 Q642.168 1384.84 645.594 1381.11 Q649.043 1377.36 654.877 1377.36 Q660.108 1377.36 663.14 1380.74 Q666.196 1384.1 666.196 1389.89 M661.937 1388.64 Q661.89 1385.14 659.969 1383.06 Q658.071 1380.97 654.923 1380.97 Q651.358 1380.97 649.205 1382.99 Q647.076 1385 646.752 1388.66 L661.937 1388.64 Z\" fill=\"#000000\" fill-rule=\"evenodd\" fill-opacity=\"1\" /><path clip-path=\"url(#clip990)\" d=\"M688.21 1381.97 Q687.492 1381.55 686.636 1381.37 Q685.802 1381.16 684.784 1381.16 Q681.173 1381.16 679.228 1383.52 Q677.307 1385.86 677.307 1390.26 L677.307 1403.91 L673.025 1403.91 L673.025 1377.99 L677.307 1377.99 L677.307 1382.02 Q678.65 1379.66 680.802 1378.52 Q682.955 1377.36 686.034 1377.36 Q686.474 1377.36 687.006 1377.43 Q687.538 1377.48 688.187 1377.6 L688.21 1381.97 Z\" fill=\"#000000\" fill-rule=\"evenodd\" fill-opacity=\"1\" /><path clip-path=\"url(#clip990)\" d=\"M704.46 1390.88 Q699.298 1390.88 697.307 1392.06 Q695.316 1393.24 695.316 1396.09 Q695.316 1398.36 696.798 1399.7 Q698.302 1401.02 700.872 1401.02 Q704.413 1401.02 706.543 1398.52 Q708.696 1396 708.696 1391.83 L708.696 1390.88 L704.46 1390.88 M712.955 1389.12 L712.955 1403.91 L708.696 1403.91 L708.696 1399.98 Q707.237 1402.34 705.062 1403.47 Q702.886 1404.59 699.737 1404.59 Q695.756 1404.59 693.395 1402.36 Q691.057 1400.12 691.057 1396.37 Q691.057 1391.99 693.974 1389.77 Q696.913 1387.55 702.724 1387.55 L708.696 1387.55 L708.696 1387.13 Q708.696 1384.19 706.751 1382.6 Q704.83 1380.97 701.335 1380.97 Q699.112 1380.97 697.006 1381.51 Q694.9 1382.04 692.955 1383.1 L692.955 1379.17 Q695.293 1378.27 697.492 1377.83 Q699.691 1377.36 701.775 1377.36 Q707.399 1377.36 710.177 1380.28 Q712.955 1383.2 712.955 1389.12 Z\" fill=\"#000000\" fill-rule=\"evenodd\" fill-opacity=\"1\" /><path clip-path=\"url(#clip990)\" d=\"M725.941 1370.63 L725.941 1377.99 L734.714 1377.99 L734.714 1381.3 L725.941 1381.3 L725.941 1395.37 Q725.941 1398.54 726.798 1399.45 Q727.677 1400.35 730.339 1400.35 L734.714 1400.35 L734.714 1403.91 L730.339 1403.91 Q725.409 1403.91 723.534 1402.09 Q721.659 1400.23 721.659 1395.37 L721.659 1381.3 L718.534 1381.3 L718.534 1377.99 L721.659 1377.99 L721.659 1370.63 L725.941 1370.63 Z\" fill=\"#000000\" fill-rule=\"evenodd\" fill-opacity=\"1\" /><path clip-path=\"url(#clip990)\" d=\"M739.876 1393.68 L739.876 1377.99 L744.135 1377.99 L744.135 1393.52 Q744.135 1397.2 745.571 1399.05 Q747.006 1400.88 749.876 1400.88 Q753.325 1400.88 755.316 1398.68 Q757.33 1396.48 757.33 1392.69 L757.33 1377.99 L761.589 1377.99 L761.589 1403.91 L757.33 1403.91 L757.33 1399.93 Q755.779 1402.29 753.719 1403.45 Q751.682 1404.59 748.973 1404.59 Q744.506 1404.59 742.191 1401.81 Q739.876 1399.03 739.876 1393.68 M750.594 1377.36 L750.594 1377.36 Z\" fill=\"#000000\" fill-rule=\"evenodd\" fill-opacity=\"1\" /><path clip-path=\"url(#clip990)\" d=\"M785.385 1381.97 Q784.668 1381.55 783.811 1381.37 Q782.978 1381.16 781.959 1381.16 Q778.348 1381.16 776.404 1383.52 Q774.482 1385.86 774.482 1390.26 L774.482 1403.91 L770.2 1403.91 L770.2 1377.99 L774.482 1377.99 L774.482 1382.02 Q775.825 1379.66 777.978 1378.52 Q780.131 1377.36 783.209 1377.36 Q783.649 1377.36 784.181 1377.43 Q784.714 1377.48 785.362 1377.6 L785.385 1381.97 Z\" fill=\"#000000\" fill-rule=\"evenodd\" fill-opacity=\"1\" /><path clip-path=\"url(#clip990)\" d=\"M810.987 1389.89 L810.987 1391.97 L791.404 1391.97 Q791.681 1396.37 794.043 1398.68 Q796.427 1400.97 800.663 1400.97 Q803.117 1400.97 805.408 1400.37 Q807.723 1399.77 809.992 1398.57 L809.992 1402.59 Q807.7 1403.57 805.292 1404.08 Q802.885 1404.59 800.408 1404.59 Q794.205 1404.59 790.57 1400.97 Q786.959 1397.36 786.959 1391.21 Q786.959 1384.84 790.385 1381.11 Q793.834 1377.36 799.668 1377.36 Q804.899 1377.36 807.931 1380.74 Q810.987 1384.1 810.987 1389.89 M806.728 1388.64 Q806.681 1385.14 804.76 1383.06 Q802.862 1380.97 799.714 1380.97 Q796.149 1380.97 793.996 1382.99 Q791.867 1385 791.543 1388.66 L806.728 1388.64 Z\" fill=\"#000000\" fill-rule=\"evenodd\" fill-opacity=\"1\" /><path clip-path=\"url(#clip990)\" d=\"M844.829 1390.88 Q839.667 1390.88 837.677 1392.06 Q835.686 1393.24 835.686 1396.09 Q835.686 1398.36 837.167 1399.7 Q838.672 1401.02 841.241 1401.02 Q844.783 1401.02 846.913 1398.52 Q849.065 1396 849.065 1391.83 L849.065 1390.88 L844.829 1390.88 M853.325 1389.12 L853.325 1403.91 L849.065 1403.91 L849.065 1399.98 Q847.607 1402.34 845.431 1403.47 Q843.255 1404.59 840.107 1404.59 Q836.126 1404.59 833.765 1402.36 Q831.427 1400.12 831.427 1396.37 Q831.427 1391.99 834.343 1389.77 Q837.283 1387.55 843.093 1387.55 L849.065 1387.55 L849.065 1387.13 Q849.065 1384.19 847.121 1382.6 Q845.2 1380.97 841.704 1380.97 Q839.482 1380.97 837.376 1381.51 Q835.269 1382.04 833.325 1383.1 L833.325 1379.17 Q835.663 1378.27 837.862 1377.83 Q840.061 1377.36 842.144 1377.36 Q847.769 1377.36 850.547 1380.28 Q853.325 1383.2 853.325 1389.12 Z\" fill=\"#000000\" fill-rule=\"evenodd\" fill-opacity=\"1\" /><path clip-path=\"url(#clip990)\" d=\"M859.042 1377.99 L863.556 1377.99 L871.658 1399.75 L879.76 1377.99 L884.274 1377.99 L874.551 1403.91 L868.764 1403.91 L859.042 1377.99 Z\" fill=\"#000000\" fill-rule=\"evenodd\" fill-opacity=\"1\" /><path clip-path=\"url(#clip990)\" d=\"M912.329 1389.89 L912.329 1391.97 L892.746 1391.97 Q893.023 1396.37 895.385 1398.68 Q897.769 1400.97 902.005 1400.97 Q904.459 1400.97 906.75 1400.37 Q909.065 1399.77 911.334 1398.57 L911.334 1402.59 Q909.042 1403.57 906.635 1404.08 Q904.227 1404.59 901.75 1404.59 Q895.547 1404.59 891.912 1400.97 Q888.301 1397.36 888.301 1391.21 Q888.301 1384.84 891.727 1381.11 Q895.176 1377.36 901.01 1377.36 Q906.241 1377.36 909.273 1380.74 Q912.329 1384.1 912.329 1389.89 M908.07 1388.64 Q908.023 1385.14 906.102 1383.06 Q904.204 1380.97 901.056 1380.97 Q897.491 1380.97 895.338 1382.99 Q893.209 1385 892.885 1388.66 L908.07 1388.64 Z\" fill=\"#000000\" fill-rule=\"evenodd\" fill-opacity=\"1\" /><path clip-path=\"url(#clip990)\" d=\"M934.343 1381.97 Q933.625 1381.55 932.769 1381.37 Q931.935 1381.16 930.917 1381.16 Q927.306 1381.16 925.361 1383.52 Q923.44 1385.86 923.44 1390.26 L923.44 1403.91 L919.158 1403.91 L919.158 1377.99 L923.44 1377.99 L923.44 1382.02 Q924.783 1379.66 926.935 1378.52 Q929.088 1377.36 932.167 1377.36 Q932.607 1377.36 933.139 1377.43 Q933.671 1377.48 934.32 1377.6 L934.343 1381.97 Z\" fill=\"#000000\" fill-rule=\"evenodd\" fill-opacity=\"1\" /><path clip-path=\"url(#clip990)\" d=\"M950.593 1390.88 Q945.431 1390.88 943.44 1392.06 Q941.449 1393.24 941.449 1396.09 Q941.449 1398.36 942.931 1399.7 Q944.435 1401.02 947.005 1401.02 Q950.546 1401.02 952.676 1398.52 Q954.829 1396 954.829 1391.83 L954.829 1390.88 L950.593 1390.88 M959.088 1389.12 L959.088 1403.91 L954.829 1403.91 L954.829 1399.98 Q953.37 1402.34 951.194 1403.47 Q949.019 1404.59 945.87 1404.59 Q941.889 1404.59 939.528 1402.36 Q937.19 1400.12 937.19 1396.37 Q937.19 1391.99 940.107 1389.77 Q943.046 1387.55 948.857 1387.55 L954.829 1387.55 L954.829 1387.13 Q954.829 1384.19 952.884 1382.6 Q950.963 1380.97 947.468 1380.97 Q945.245 1380.97 943.139 1381.51 Q941.032 1382.04 939.088 1383.1 L939.088 1379.17 Q941.426 1378.27 943.625 1377.83 Q945.824 1377.36 947.907 1377.36 Q953.532 1377.36 956.31 1380.28 Q959.088 1383.2 959.088 1389.12 Z\" fill=\"#000000\" fill-rule=\"evenodd\" fill-opacity=\"1\" /><path clip-path=\"url(#clip990)\" d=\"M984.921 1390.65 Q984.921 1386.02 983 1383.47 Q981.102 1380.93 977.653 1380.93 Q974.227 1380.93 972.305 1383.47 Q970.407 1386.02 970.407 1390.65 Q970.407 1395.26 972.305 1397.8 Q974.227 1400.35 977.653 1400.35 Q981.102 1400.35 983 1397.8 Q984.921 1395.26 984.921 1390.65 M989.18 1400.7 Q989.18 1407.32 986.241 1410.53 Q983.301 1413.78 977.236 1413.78 Q974.991 1413.78 973 1413.43 Q971.009 1413.1 969.134 1412.41 L969.134 1408.27 Q971.009 1409.28 972.838 1409.77 Q974.667 1410.26 976.565 1410.26 Q980.754 1410.26 982.838 1408.06 Q984.921 1405.88 984.921 1401.46 L984.921 1399.35 Q983.602 1401.65 981.542 1402.78 Q979.481 1403.91 976.611 1403.91 Q971.843 1403.91 968.926 1400.28 Q966.009 1396.65 966.009 1390.65 Q966.009 1384.63 968.926 1381 Q971.843 1377.36 976.611 1377.36 Q979.481 1377.36 981.542 1378.5 Q983.602 1379.63 984.921 1381.92 L984.921 1377.99 L989.18 1377.99 L989.18 1400.7 Z\" fill=\"#000000\" fill-rule=\"evenodd\" fill-opacity=\"1\" /><path clip-path=\"url(#clip990)\" d=\"M1020.13 1389.89 L1020.13 1391.97 L1000.55 1391.97 Q1000.82 1396.37 1003.18 1398.68 Q1005.57 1400.97 1009.81 1400.97 Q1012.26 1400.97 1014.55 1400.37 Q1016.87 1399.77 1019.13 1398.57 L1019.13 1402.59 Q1016.84 1403.57 1014.43 1404.08 Q1012.03 1404.59 1009.55 1404.59 Q1003.35 1404.59 999.713 1400.97 Q996.102 1397.36 996.102 1391.21 Q996.102 1384.84 999.528 1381.11 Q1002.98 1377.36 1008.81 1377.36 Q1014.04 1377.36 1017.07 1380.74 Q1020.13 1384.1 1020.13 1389.89 M1015.87 1388.64 Q1015.82 1385.14 1013.9 1383.06 Q1012 1380.97 1008.86 1380.97 Q1005.29 1380.97 1003.14 1382.99 Q1001.01 1385 1000.68 1388.66 L1015.87 1388.64 Z\" fill=\"#000000\" fill-rule=\"evenodd\" fill-opacity=\"1\" /></svg>\n"
      ]
     },
     "execution_count": 56,
     "metadata": {},
     "output_type": "execute_result"
    }
   ],
   "source": [
    "plot(1:11, dectempaverage, label=\"Dec Temperature average\", legend=:bottomleft)"
   ]
  },
  {
   "cell_type": "markdown",
   "id": "4a30ae8e",
   "metadata": {},
   "source": [
    "Note that the reason why it only comes from 1-10 and the reason why is becuase it is a decade. we start from 1922 to 1932. "
   ]
  },
  {
   "cell_type": "markdown",
   "id": "be37608a",
   "metadata": {},
   "source": [
    "# Now we do this for Jan min average temperature 1922-1932 "
   ]
  },
  {
   "cell_type": "code",
   "execution_count": 57,
   "id": "17e6c801",
   "metadata": {},
   "outputs": [
    {
     "data": {
      "text/plain": [
       "11-element Vector{Any}:\n",
       " 26.5\n",
       " 27.64\n",
       " 27.6\n",
       "  6.91\n",
       " 20.41\n",
       " 20.91\n",
       " 24.46\n",
       " 24.23\n",
       " 20.86\n",
       " 35.14\n",
       " 31.14"
      ]
     },
     "execution_count": 57,
     "metadata": {},
     "output_type": "execute_result"
    }
   ],
   "source": [
    "Jantempmin=B[2:12,4]"
   ]
  },
  {
   "cell_type": "code",
   "execution_count": 58,
   "id": "65ffa183",
   "metadata": {},
   "outputs": [
    {
     "data": {
      "image/svg+xml": [
       "<?xml version=\"1.0\" encoding=\"utf-8\"?>\n",
       "<svg xmlns=\"http://www.w3.org/2000/svg\" xmlns:xlink=\"http://www.w3.org/1999/xlink\" width=\"600\" height=\"400\" viewBox=\"0 0 2400 1600\">\n",
       "<defs>\n",
       "  <clipPath id=\"clip030\">\n",
       "    <rect x=\"0\" y=\"0\" width=\"2400\" height=\"1600\"/>\n",
       "  </clipPath>\n",
       "</defs>\n",
       "<path clip-path=\"url(#clip030)\" d=\"\n",
       "M0 1600 L2400 1600 L2400 0 L0 0  Z\n",
       "  \" fill=\"#ffffff\" fill-rule=\"evenodd\" fill-opacity=\"1\"/>\n",
       "<defs>\n",
       "  <clipPath id=\"clip031\">\n",
       "    <rect x=\"480\" y=\"0\" width=\"1681\" height=\"1600\"/>\n",
       "  </clipPath>\n",
       "</defs>\n",
       "<path clip-path=\"url(#clip030)\" d=\"\n",
       "M140.696 1486.45 L2352.76 1486.45 L2352.76 47.2441 L140.696 47.2441  Z\n",
       "  \" fill=\"#ffffff\" fill-rule=\"evenodd\" fill-opacity=\"1\"/>\n",
       "<defs>\n",
       "  <clipPath id=\"clip032\">\n",
       "    <rect x=\"140\" y=\"47\" width=\"2213\" height=\"1440\"/>\n",
       "  </clipPath>\n",
       "</defs>\n",
       "<polyline clip-path=\"url(#clip032)\" style=\"stroke:#000000; stroke-linecap:round; stroke-linejoin:round; stroke-width:2; stroke-opacity:0.1; fill:none\" points=\"\n",
       "  411.986,1486.45 411.986,47.2441 \n",
       "  \"/>\n",
       "<polyline clip-path=\"url(#clip032)\" style=\"stroke:#000000; stroke-linecap:round; stroke-linejoin:round; stroke-width:2; stroke-opacity:0.1; fill:none\" points=\"\n",
       "  829.356,1486.45 829.356,47.2441 \n",
       "  \"/>\n",
       "<polyline clip-path=\"url(#clip032)\" style=\"stroke:#000000; stroke-linecap:round; stroke-linejoin:round; stroke-width:2; stroke-opacity:0.1; fill:none\" points=\"\n",
       "  1246.73,1486.45 1246.73,47.2441 \n",
       "  \"/>\n",
       "<polyline clip-path=\"url(#clip032)\" style=\"stroke:#000000; stroke-linecap:round; stroke-linejoin:round; stroke-width:2; stroke-opacity:0.1; fill:none\" points=\"\n",
       "  1664.1,1486.45 1664.1,47.2441 \n",
       "  \"/>\n",
       "<polyline clip-path=\"url(#clip032)\" style=\"stroke:#000000; stroke-linecap:round; stroke-linejoin:round; stroke-width:2; stroke-opacity:0.1; fill:none\" points=\"\n",
       "  2081.47,1486.45 2081.47,47.2441 \n",
       "  \"/>\n",
       "<polyline clip-path=\"url(#clip030)\" style=\"stroke:#000000; stroke-linecap:round; stroke-linejoin:round; stroke-width:4; stroke-opacity:1; fill:none\" points=\"\n",
       "  140.696,1486.45 2352.76,1486.45 \n",
       "  \"/>\n",
       "<polyline clip-path=\"url(#clip030)\" style=\"stroke:#000000; stroke-linecap:round; stroke-linejoin:round; stroke-width:4; stroke-opacity:1; fill:none\" points=\"\n",
       "  411.986,1486.45 411.986,1467.55 \n",
       "  \"/>\n",
       "<polyline clip-path=\"url(#clip030)\" style=\"stroke:#000000; stroke-linecap:round; stroke-linejoin:round; stroke-width:4; stroke-opacity:1; fill:none\" points=\"\n",
       "  829.356,1486.45 829.356,1467.55 \n",
       "  \"/>\n",
       "<polyline clip-path=\"url(#clip030)\" style=\"stroke:#000000; stroke-linecap:round; stroke-linejoin:round; stroke-width:4; stroke-opacity:1; fill:none\" points=\"\n",
       "  1246.73,1486.45 1246.73,1467.55 \n",
       "  \"/>\n",
       "<polyline clip-path=\"url(#clip030)\" style=\"stroke:#000000; stroke-linecap:round; stroke-linejoin:round; stroke-width:4; stroke-opacity:1; fill:none\" points=\"\n",
       "  1664.1,1486.45 1664.1,1467.55 \n",
       "  \"/>\n",
       "<polyline clip-path=\"url(#clip030)\" style=\"stroke:#000000; stroke-linecap:round; stroke-linejoin:round; stroke-width:4; stroke-opacity:1; fill:none\" points=\"\n",
       "  2081.47,1486.45 2081.47,1467.55 \n",
       "  \"/>\n",
       "<path clip-path=\"url(#clip030)\" d=\"M406.639 1544.91 L422.958 1544.91 L422.958 1548.85 L401.014 1548.85 L401.014 1544.91 Q403.676 1542.16 408.259 1537.53 Q412.866 1532.88 414.046 1531.53 Q416.291 1529.01 417.171 1527.27 Q418.074 1525.51 418.074 1523.82 Q418.074 1521.07 416.129 1519.33 Q414.208 1517.6 411.106 1517.6 Q408.907 1517.6 406.454 1518.36 Q404.023 1519.13 401.245 1520.68 L401.245 1515.95 Q404.069 1514.82 406.523 1514.24 Q408.977 1513.66 411.014 1513.66 Q416.384 1513.66 419.579 1516.35 Q422.773 1519.03 422.773 1523.52 Q422.773 1525.65 421.963 1527.57 Q421.176 1529.47 419.069 1532.07 Q418.491 1532.74 415.389 1535.95 Q412.287 1539.15 406.639 1544.91 Z\" fill=\"#000000\" fill-rule=\"evenodd\" fill-opacity=\"1\" /><path clip-path=\"url(#clip030)\" d=\"M832.365 1518.36 L820.56 1536.81 L832.365 1536.81 L832.365 1518.36 M831.138 1514.29 L837.018 1514.29 L837.018 1536.81 L841.948 1536.81 L841.948 1540.7 L837.018 1540.7 L837.018 1548.85 L832.365 1548.85 L832.365 1540.7 L816.763 1540.7 L816.763 1536.19 L831.138 1514.29 Z\" fill=\"#000000\" fill-rule=\"evenodd\" fill-opacity=\"1\" /><path clip-path=\"url(#clip030)\" d=\"M1247.13 1529.7 Q1243.98 1529.7 1242.13 1531.86 Q1240.3 1534.01 1240.3 1537.76 Q1240.3 1541.49 1242.13 1543.66 Q1243.98 1545.82 1247.13 1545.82 Q1250.28 1545.82 1252.11 1543.66 Q1253.96 1541.49 1253.96 1537.76 Q1253.96 1534.01 1252.11 1531.86 Q1250.28 1529.7 1247.13 1529.7 M1256.41 1515.05 L1256.41 1519.31 Q1254.65 1518.48 1252.85 1518.04 Q1251.07 1517.6 1249.31 1517.6 Q1244.68 1517.6 1242.22 1520.72 Q1239.79 1523.85 1239.45 1530.17 Q1240.81 1528.15 1242.87 1527.09 Q1244.93 1526 1247.41 1526 Q1252.62 1526 1255.63 1529.17 Q1258.66 1532.32 1258.66 1537.76 Q1258.66 1543.08 1255.51 1546.3 Q1252.36 1549.52 1247.13 1549.52 Q1241.14 1549.52 1237.96 1544.94 Q1234.79 1540.33 1234.79 1531.6 Q1234.79 1523.41 1238.68 1518.55 Q1242.57 1513.66 1249.12 1513.66 Q1250.88 1513.66 1252.66 1514.01 Q1254.47 1514.36 1256.41 1515.05 Z\" fill=\"#000000\" fill-rule=\"evenodd\" fill-opacity=\"1\" /><path clip-path=\"url(#clip030)\" d=\"M1664.1 1532.44 Q1660.76 1532.44 1658.84 1534.22 Q1656.94 1536 1656.94 1539.13 Q1656.94 1542.25 1658.84 1544.03 Q1660.76 1545.82 1664.1 1545.82 Q1667.43 1545.82 1669.35 1544.03 Q1671.27 1542.23 1671.27 1539.13 Q1671.27 1536 1669.35 1534.22 Q1667.45 1532.44 1664.1 1532.44 M1659.42 1530.45 Q1656.41 1529.7 1654.72 1527.64 Q1653.05 1525.58 1653.05 1522.62 Q1653.05 1518.48 1655.99 1516.07 Q1658.96 1513.66 1664.1 1513.66 Q1669.26 1513.66 1672.2 1516.07 Q1675.14 1518.48 1675.14 1522.62 Q1675.14 1525.58 1673.45 1527.64 Q1671.78 1529.7 1668.79 1530.45 Q1672.17 1531.23 1674.05 1533.52 Q1675.95 1535.82 1675.95 1539.13 Q1675.95 1544.15 1672.87 1546.83 Q1669.81 1549.52 1664.1 1549.52 Q1658.38 1549.52 1655.3 1546.83 Q1652.24 1544.15 1652.24 1539.13 Q1652.24 1535.82 1654.14 1533.52 Q1656.04 1531.23 1659.42 1530.45 M1657.71 1523.06 Q1657.71 1525.75 1659.37 1527.25 Q1661.06 1528.76 1664.1 1528.76 Q1667.1 1528.76 1668.79 1527.25 Q1670.51 1525.75 1670.51 1523.06 Q1670.51 1520.38 1668.79 1518.87 Q1667.1 1517.37 1664.1 1517.37 Q1661.06 1517.37 1659.37 1518.87 Q1657.71 1520.38 1657.71 1523.06 Z\" fill=\"#000000\" fill-rule=\"evenodd\" fill-opacity=\"1\" /><path clip-path=\"url(#clip030)\" d=\"M2056.15 1544.91 L2063.79 1544.91 L2063.79 1518.55 L2055.48 1520.21 L2055.48 1515.95 L2063.75 1514.29 L2068.42 1514.29 L2068.42 1544.91 L2076.06 1544.91 L2076.06 1548.85 L2056.15 1548.85 L2056.15 1544.91 Z\" fill=\"#000000\" fill-rule=\"evenodd\" fill-opacity=\"1\" /><path clip-path=\"url(#clip030)\" d=\"M2095.5 1517.37 Q2091.89 1517.37 2090.06 1520.93 Q2088.26 1524.47 2088.26 1531.6 Q2088.26 1538.71 2090.06 1542.27 Q2091.89 1545.82 2095.5 1545.82 Q2099.14 1545.82 2100.94 1542.27 Q2102.77 1538.71 2102.77 1531.6 Q2102.77 1524.47 2100.94 1520.93 Q2099.14 1517.37 2095.5 1517.37 M2095.5 1513.66 Q2101.31 1513.66 2104.37 1518.27 Q2107.45 1522.85 2107.45 1531.6 Q2107.45 1540.33 2104.37 1544.94 Q2101.31 1549.52 2095.5 1549.52 Q2089.69 1549.52 2086.62 1544.94 Q2083.56 1540.33 2083.56 1531.6 Q2083.56 1522.85 2086.62 1518.27 Q2089.69 1513.66 2095.5 1513.66 Z\" fill=\"#000000\" fill-rule=\"evenodd\" fill-opacity=\"1\" /><polyline clip-path=\"url(#clip032)\" style=\"stroke:#000000; stroke-linecap:round; stroke-linejoin:round; stroke-width:2; stroke-opacity:0.1; fill:none\" points=\"\n",
       "  140.696,1297.1 2352.76,1297.1 \n",
       "  \"/>\n",
       "<polyline clip-path=\"url(#clip032)\" style=\"stroke:#000000; stroke-linecap:round; stroke-linejoin:round; stroke-width:2; stroke-opacity:0.1; fill:none\" points=\"\n",
       "  140.696,1056.62 2352.76,1056.62 \n",
       "  \"/>\n",
       "<polyline clip-path=\"url(#clip032)\" style=\"stroke:#000000; stroke-linecap:round; stroke-linejoin:round; stroke-width:2; stroke-opacity:0.1; fill:none\" points=\"\n",
       "  140.696,816.144 2352.76,816.144 \n",
       "  \"/>\n",
       "<polyline clip-path=\"url(#clip032)\" style=\"stroke:#000000; stroke-linecap:round; stroke-linejoin:round; stroke-width:2; stroke-opacity:0.1; fill:none\" points=\"\n",
       "  140.696,575.666 2352.76,575.666 \n",
       "  \"/>\n",
       "<polyline clip-path=\"url(#clip032)\" style=\"stroke:#000000; stroke-linecap:round; stroke-linejoin:round; stroke-width:2; stroke-opacity:0.1; fill:none\" points=\"\n",
       "  140.696,335.188 2352.76,335.188 \n",
       "  \"/>\n",
       "<polyline clip-path=\"url(#clip032)\" style=\"stroke:#000000; stroke-linecap:round; stroke-linejoin:round; stroke-width:2; stroke-opacity:0.1; fill:none\" points=\"\n",
       "  140.696,94.7097 2352.76,94.7097 \n",
       "  \"/>\n",
       "<polyline clip-path=\"url(#clip030)\" style=\"stroke:#000000; stroke-linecap:round; stroke-linejoin:round; stroke-width:4; stroke-opacity:1; fill:none\" points=\"\n",
       "  140.696,1486.45 140.696,47.2441 \n",
       "  \"/>\n",
       "<polyline clip-path=\"url(#clip030)\" style=\"stroke:#000000; stroke-linecap:round; stroke-linejoin:round; stroke-width:4; stroke-opacity:1; fill:none\" points=\"\n",
       "  140.696,1297.1 159.593,1297.1 \n",
       "  \"/>\n",
       "<polyline clip-path=\"url(#clip030)\" style=\"stroke:#000000; stroke-linecap:round; stroke-linejoin:round; stroke-width:4; stroke-opacity:1; fill:none\" points=\"\n",
       "  140.696,1056.62 159.593,1056.62 \n",
       "  \"/>\n",
       "<polyline clip-path=\"url(#clip030)\" style=\"stroke:#000000; stroke-linecap:round; stroke-linejoin:round; stroke-width:4; stroke-opacity:1; fill:none\" points=\"\n",
       "  140.696,816.144 159.593,816.144 \n",
       "  \"/>\n",
       "<polyline clip-path=\"url(#clip030)\" style=\"stroke:#000000; stroke-linecap:round; stroke-linejoin:round; stroke-width:4; stroke-opacity:1; fill:none\" points=\"\n",
       "  140.696,575.666 159.593,575.666 \n",
       "  \"/>\n",
       "<polyline clip-path=\"url(#clip030)\" style=\"stroke:#000000; stroke-linecap:round; stroke-linejoin:round; stroke-width:4; stroke-opacity:1; fill:none\" points=\"\n",
       "  140.696,335.188 159.593,335.188 \n",
       "  \"/>\n",
       "<polyline clip-path=\"url(#clip030)\" style=\"stroke:#000000; stroke-linecap:round; stroke-linejoin:round; stroke-width:4; stroke-opacity:1; fill:none\" points=\"\n",
       "  140.696,94.7097 159.593,94.7097 \n",
       "  \"/>\n",
       "<path clip-path=\"url(#clip030)\" d=\"M53.3995 1310.45 L61.0384 1310.45 L61.0384 1284.08 L52.7282 1285.75 L52.7282 1281.49 L60.9921 1279.82 L65.668 1279.82 L65.668 1310.45 L73.3068 1310.45 L73.3068 1314.38 L53.3995 1314.38 L53.3995 1310.45 Z\" fill=\"#000000\" fill-rule=\"evenodd\" fill-opacity=\"1\" /><path clip-path=\"url(#clip030)\" d=\"M92.7512 1282.9 Q89.1401 1282.9 87.3114 1286.46 Q85.5058 1290.01 85.5058 1297.13 Q85.5058 1304.24 87.3114 1307.81 Q89.1401 1311.35 92.7512 1311.35 Q96.3854 1311.35 98.1909 1307.81 Q100.02 1304.24 100.02 1297.13 Q100.02 1290.01 98.1909 1286.46 Q96.3854 1282.9 92.7512 1282.9 M92.7512 1279.2 Q98.5613 1279.2 101.617 1283.8 Q104.696 1288.38 104.696 1297.13 Q104.696 1305.86 101.617 1310.47 Q98.5613 1315.05 92.7512 1315.05 Q86.941 1315.05 83.8623 1310.47 Q80.8068 1305.86 80.8068 1297.13 Q80.8068 1288.38 83.8623 1283.8 Q86.941 1279.2 92.7512 1279.2 Z\" fill=\"#000000\" fill-rule=\"evenodd\" fill-opacity=\"1\" /><path clip-path=\"url(#clip030)\" d=\"M54.3949 1069.97 L62.0337 1069.97 L62.0337 1043.6 L53.7236 1045.27 L53.7236 1041.01 L61.9874 1039.34 L66.6633 1039.34 L66.6633 1069.97 L74.3022 1069.97 L74.3022 1073.9 L54.3949 1073.9 L54.3949 1069.97 Z\" fill=\"#000000\" fill-rule=\"evenodd\" fill-opacity=\"1\" /><path clip-path=\"url(#clip030)\" d=\"M83.7929 1039.34 L102.149 1039.34 L102.149 1043.28 L88.0753 1043.28 L88.0753 1051.75 Q89.0938 1051.4 90.1123 1051.24 Q91.1308 1051.06 92.1493 1051.06 Q97.9363 1051.06 101.316 1054.23 Q104.696 1057.4 104.696 1062.81 Q104.696 1068.39 101.223 1071.49 Q97.7511 1074.57 91.4317 1074.57 Q89.2558 1074.57 86.9873 1074.2 Q84.7419 1073.83 82.3346 1073.09 L82.3346 1068.39 Q84.4179 1069.53 86.6401 1070.08 Q88.8623 1070.64 91.3391 1070.64 Q95.3437 1070.64 97.6817 1068.53 Q100.02 1066.43 100.02 1062.81 Q100.02 1059.2 97.6817 1057.1 Q95.3437 1054.99 91.3391 1054.99 Q89.4641 1054.99 87.5892 1055.41 Q85.7373 1055.82 83.7929 1056.7 L83.7929 1039.34 Z\" fill=\"#000000\" fill-rule=\"evenodd\" fill-opacity=\"1\" /><path clip-path=\"url(#clip030)\" d=\"M56.6171 829.489 L72.9365 829.489 L72.9365 833.424 L50.9921 833.424 L50.9921 829.489 Q53.6541 826.734 58.2375 822.105 Q62.8439 817.452 64.0245 816.109 Q66.2698 813.586 67.1494 811.85 Q68.0522 810.091 68.0522 808.401 Q68.0522 805.646 66.1078 803.91 Q64.1865 802.174 61.0847 802.174 Q58.8856 802.174 56.4319 802.938 Q54.0014 803.702 51.2236 805.253 L51.2236 800.531 Q54.0477 799.396 56.5014 798.818 Q58.955 798.239 60.9921 798.239 Q66.3624 798.239 69.5568 800.924 Q72.7513 803.609 72.7513 808.1 Q72.7513 810.23 71.9411 812.151 Q71.1541 814.049 69.0476 816.642 Q68.4689 817.313 65.367 820.531 Q62.2652 823.725 56.6171 829.489 Z\" fill=\"#000000\" fill-rule=\"evenodd\" fill-opacity=\"1\" /><path clip-path=\"url(#clip030)\" d=\"M92.7512 801.943 Q89.1401 801.943 87.3114 805.507 Q85.5058 809.049 85.5058 816.179 Q85.5058 823.285 87.3114 826.85 Q89.1401 830.392 92.7512 830.392 Q96.3854 830.392 98.1909 826.85 Q100.02 823.285 100.02 816.179 Q100.02 809.049 98.1909 805.507 Q96.3854 801.943 92.7512 801.943 M92.7512 798.239 Q98.5613 798.239 101.617 802.845 Q104.696 807.429 104.696 816.179 Q104.696 824.906 101.617 829.512 Q98.5613 834.095 92.7512 834.095 Q86.941 834.095 83.8623 829.512 Q80.8068 824.906 80.8068 816.179 Q80.8068 807.429 83.8623 802.845 Q86.941 798.239 92.7512 798.239 Z\" fill=\"#000000\" fill-rule=\"evenodd\" fill-opacity=\"1\" /><path clip-path=\"url(#clip030)\" d=\"M57.6125 589.011 L73.9318 589.011 L73.9318 592.946 L51.9875 592.946 L51.9875 589.011 Q54.6495 586.256 59.2328 581.627 Q63.8393 576.974 65.0198 575.631 Q67.2652 573.108 68.1448 571.372 Q69.0476 569.613 69.0476 567.923 Q69.0476 565.168 67.1032 563.432 Q65.1819 561.696 62.08 561.696 Q59.881 561.696 57.4273 562.46 Q54.9967 563.224 52.219 564.775 L52.219 560.053 Q55.043 558.918 57.4967 558.34 Q59.9504 557.761 61.9874 557.761 Q67.3578 557.761 70.5522 560.446 Q73.7466 563.131 73.7466 567.622 Q73.7466 569.752 72.9365 571.673 Q72.1494 573.571 70.0429 576.164 Q69.4642 576.835 66.3624 580.052 Q63.2606 583.247 57.6125 589.011 Z\" fill=\"#000000\" fill-rule=\"evenodd\" fill-opacity=\"1\" /><path clip-path=\"url(#clip030)\" d=\"M83.7929 558.386 L102.149 558.386 L102.149 562.321 L88.0753 562.321 L88.0753 570.793 Q89.0938 570.446 90.1123 570.284 Q91.1308 570.099 92.1493 570.099 Q97.9363 570.099 101.316 573.27 Q104.696 576.441 104.696 581.858 Q104.696 587.437 101.223 590.538 Q97.7511 593.617 91.4317 593.617 Q89.2558 593.617 86.9873 593.247 Q84.7419 592.876 82.3346 592.136 L82.3346 587.437 Q84.4179 588.571 86.6401 589.126 Q88.8623 589.682 91.3391 589.682 Q95.3437 589.682 97.6817 587.576 Q100.02 585.469 100.02 581.858 Q100.02 578.247 97.6817 576.14 Q95.3437 574.034 91.3391 574.034 Q89.4641 574.034 87.5892 574.451 Q85.7373 574.867 83.7929 575.747 L83.7929 558.386 Z\" fill=\"#000000\" fill-rule=\"evenodd\" fill-opacity=\"1\" /><path clip-path=\"url(#clip030)\" d=\"M66.7559 333.834 Q70.1124 334.551 71.9874 336.82 Q73.8855 339.088 73.8855 342.422 Q73.8855 347.537 70.367 350.338 Q66.8485 353.139 60.3671 353.139 Q58.1912 353.139 55.8764 352.699 Q53.5847 352.283 51.131 351.426 L51.131 346.912 Q53.0754 348.047 55.3903 348.625 Q57.7051 349.204 60.2282 349.204 Q64.6263 349.204 66.918 347.468 Q69.2328 345.732 69.2328 342.422 Q69.2328 339.366 67.08 337.653 Q64.9504 335.917 61.131 335.917 L57.1032 335.917 L57.1032 332.074 L61.3161 332.074 Q64.7652 332.074 66.5939 330.709 Q68.4226 329.32 68.4226 326.727 Q68.4226 324.065 66.5245 322.653 Q64.6495 321.218 61.131 321.218 Q59.2097 321.218 57.0106 321.635 Q54.8115 322.051 52.1727 322.931 L52.1727 318.764 Q54.8347 318.024 57.1495 317.653 Q59.4875 317.283 61.5476 317.283 Q66.8717 317.283 69.9735 319.713 Q73.0753 322.121 73.0753 326.241 Q73.0753 329.111 71.4318 331.102 Q69.7883 333.07 66.7559 333.834 Z\" fill=\"#000000\" fill-rule=\"evenodd\" fill-opacity=\"1\" /><path clip-path=\"url(#clip030)\" d=\"M92.7512 320.986 Q89.1401 320.986 87.3114 324.551 Q85.5058 328.093 85.5058 335.222 Q85.5058 342.329 87.3114 345.894 Q89.1401 349.435 92.7512 349.435 Q96.3854 349.435 98.1909 345.894 Q100.02 342.329 100.02 335.222 Q100.02 328.093 98.1909 324.551 Q96.3854 320.986 92.7512 320.986 M92.7512 317.283 Q98.5613 317.283 101.617 321.889 Q104.696 326.473 104.696 335.222 Q104.696 343.949 101.617 348.556 Q98.5613 353.139 92.7512 353.139 Q86.941 353.139 83.8623 348.556 Q80.8068 343.949 80.8068 335.222 Q80.8068 326.473 83.8623 321.889 Q86.941 317.283 92.7512 317.283 Z\" fill=\"#000000\" fill-rule=\"evenodd\" fill-opacity=\"1\" /><path clip-path=\"url(#clip030)\" d=\"M67.7513 93.3555 Q71.1078 94.0731 72.9827 96.3416 Q74.8809 98.6101 74.8809 101.943 Q74.8809 107.059 71.3624 109.86 Q67.8439 112.661 61.3624 112.661 Q59.1865 112.661 56.8717 112.221 Q54.5801 111.804 52.1264 110.948 L52.1264 106.434 Q54.0708 107.568 56.3856 108.147 Q58.7004 108.726 61.2236 108.726 Q65.6217 108.726 67.9133 106.99 Q70.2281 105.254 70.2281 101.943 Q70.2281 98.8879 68.0754 97.1749 Q65.9457 95.4388 62.1263 95.4388 L58.0986 95.4388 L58.0986 91.5963 L62.3115 91.5963 Q65.7606 91.5963 67.5893 90.2305 Q69.418 88.8416 69.418 86.2491 Q69.418 83.587 67.5198 82.175 Q65.6448 80.7398 62.1263 80.7398 Q60.205 80.7398 58.006 81.1565 Q55.8069 81.5732 53.168 82.4528 L53.168 78.2861 Q55.8301 77.5454 58.1449 77.175 Q60.4828 76.8047 62.543 76.8047 Q67.867 76.8047 70.9689 79.2352 Q74.0707 81.6426 74.0707 85.763 Q74.0707 88.6333 72.4272 90.624 Q70.7837 92.5916 67.7513 93.3555 Z\" fill=\"#000000\" fill-rule=\"evenodd\" fill-opacity=\"1\" /><path clip-path=\"url(#clip030)\" d=\"M83.7929 77.4297 L102.149 77.4297 L102.149 81.3648 L88.0753 81.3648 L88.0753 89.837 Q89.0938 89.4898 90.1123 89.3277 Q91.1308 89.1426 92.1493 89.1426 Q97.9363 89.1426 101.316 92.3138 Q104.696 95.4851 104.696 100.902 Q104.696 106.48 101.223 109.582 Q97.7511 112.661 91.4317 112.661 Q89.2558 112.661 86.9873 112.291 Q84.7419 111.92 82.3346 111.179 L82.3346 106.48 Q84.4179 107.615 86.6401 108.17 Q88.8623 108.726 91.3391 108.726 Q95.3437 108.726 97.6817 106.619 Q100.02 104.513 100.02 100.902 Q100.02 97.2907 97.6817 95.1842 Q95.3437 93.0777 91.3391 93.0777 Q89.4641 93.0777 87.5892 93.4944 Q85.7373 93.9111 83.7929 94.7907 L83.7929 77.4297 Z\" fill=\"#000000\" fill-rule=\"evenodd\" fill-opacity=\"1\" /><polyline clip-path=\"url(#clip032)\" style=\"stroke:#009af9; stroke-linecap:round; stroke-linejoin:round; stroke-width:4; stroke-opacity:1; fill:none\" points=\"\n",
       "  203.301,503.522 411.986,448.693 620.671,450.617 829.356,1445.72 1038.04,796.425 1246.73,772.377 1455.41,601.638 1664.1,612.7 1872.78,774.782 2081.47,87.9763 \n",
       "  2290.15,280.359 \n",
       "  \"/>\n",
       "<path clip-path=\"url(#clip030)\" d=\"\n",
       "M214.431 1438.47 L926.977 1438.47 L926.977 1334.79 L214.431 1334.79  Z\n",
       "  \" fill=\"#ffffff\" fill-rule=\"evenodd\" fill-opacity=\"1\"/>\n",
       "<polyline clip-path=\"url(#clip030)\" style=\"stroke:#000000; stroke-linecap:round; stroke-linejoin:round; stroke-width:4; stroke-opacity:1; fill:none\" points=\"\n",
       "  214.431,1438.47 926.977,1438.47 926.977,1334.79 214.431,1334.79 214.431,1438.47 \n",
       "  \"/>\n",
       "<polyline clip-path=\"url(#clip030)\" style=\"stroke:#009af9; stroke-linecap:round; stroke-linejoin:round; stroke-width:4; stroke-opacity:1; fill:none\" points=\"\n",
       "  239.009,1386.63 386.48,1386.63 \n",
       "  \"/>\n",
       "<path clip-path=\"url(#clip030)\" d=\"M418.165 1369.35 L422.841 1369.35 L422.841 1401.51 Q422.841 1407.76 420.457 1410.58 Q418.095 1413.41 412.841 1413.41 L411.058 1413.41 L411.058 1409.47 L412.517 1409.47 Q415.619 1409.47 416.892 1407.73 Q418.165 1406 418.165 1401.51 L418.165 1369.35 Z\" fill=\"#000000\" fill-rule=\"evenodd\" fill-opacity=\"1\" /><path clip-path=\"url(#clip030)\" d=\"M443.743 1390.88 Q438.581 1390.88 436.591 1392.06 Q434.6 1393.24 434.6 1396.09 Q434.6 1398.36 436.081 1399.7 Q437.586 1401.02 440.156 1401.02 Q443.697 1401.02 445.827 1398.52 Q447.98 1396 447.98 1391.83 L447.98 1390.88 L443.743 1390.88 M452.239 1389.12 L452.239 1403.91 L447.98 1403.91 L447.98 1399.98 Q446.521 1402.34 444.345 1403.47 Q442.169 1404.59 439.021 1404.59 Q435.04 1404.59 432.679 1402.36 Q430.341 1400.12 430.341 1396.37 Q430.341 1391.99 433.257 1389.77 Q436.197 1387.55 442.007 1387.55 L447.98 1387.55 L447.98 1387.13 Q447.98 1384.19 446.035 1382.6 Q444.114 1380.97 440.619 1380.97 Q438.396 1380.97 436.29 1381.51 Q434.183 1382.04 432.239 1383.1 L432.239 1379.17 Q434.577 1378.27 436.776 1377.83 Q438.975 1377.36 441.058 1377.36 Q446.683 1377.36 449.461 1380.28 Q452.239 1383.2 452.239 1389.12 Z\" fill=\"#000000\" fill-rule=\"evenodd\" fill-opacity=\"1\" /><path clip-path=\"url(#clip030)\" d=\"M482.563 1388.27 L482.563 1403.91 L478.303 1403.91 L478.303 1388.41 Q478.303 1384.72 476.868 1382.9 Q475.433 1381.07 472.563 1381.07 Q469.114 1381.07 467.123 1383.27 Q465.132 1385.47 465.132 1389.26 L465.132 1403.91 L460.85 1403.91 L460.85 1377.99 L465.132 1377.99 L465.132 1382.02 Q466.66 1379.68 468.72 1378.52 Q470.804 1377.36 473.512 1377.36 Q477.979 1377.36 480.271 1380.14 Q482.563 1382.9 482.563 1388.27 Z\" fill=\"#000000\" fill-rule=\"evenodd\" fill-opacity=\"1\" /><path clip-path=\"url(#clip030)\" d=\"M501.521 1369.35 L530.757 1369.35 L530.757 1373.29 L518.488 1373.29 L518.488 1403.91 L513.789 1403.91 L513.789 1373.29 L501.521 1373.29 L501.521 1369.35 Z\" fill=\"#000000\" fill-rule=\"evenodd\" fill-opacity=\"1\" /><path clip-path=\"url(#clip030)\" d=\"M549.206 1389.89 L549.206 1391.97 L529.623 1391.97 Q529.9 1396.37 532.262 1398.68 Q534.646 1400.97 538.882 1400.97 Q541.336 1400.97 543.627 1400.37 Q545.942 1399.77 548.211 1398.57 L548.211 1402.59 Q545.919 1403.57 543.511 1404.08 Q541.104 1404.59 538.627 1404.59 Q532.424 1404.59 528.789 1400.97 Q525.178 1397.36 525.178 1391.21 Q525.178 1384.84 528.604 1381.11 Q532.053 1377.36 537.886 1377.36 Q543.118 1377.36 546.15 1380.74 Q549.206 1384.1 549.206 1389.89 M544.947 1388.64 Q544.9 1385.14 542.979 1383.06 Q541.081 1380.97 537.933 1380.97 Q534.368 1380.97 532.215 1382.99 Q530.086 1385 529.762 1388.66 L544.947 1388.64 Z\" fill=\"#000000\" fill-rule=\"evenodd\" fill-opacity=\"1\" /><path clip-path=\"url(#clip030)\" d=\"M576.382 1382.97 Q577.979 1380.1 580.201 1378.73 Q582.423 1377.36 585.433 1377.36 Q589.483 1377.36 591.683 1380.21 Q593.882 1383.03 593.882 1388.27 L593.882 1403.91 L589.599 1403.91 L589.599 1388.41 Q589.599 1384.68 588.28 1382.87 Q586.96 1381.07 584.252 1381.07 Q580.942 1381.07 579.021 1383.27 Q577.099 1385.47 577.099 1389.26 L577.099 1403.91 L572.817 1403.91 L572.817 1388.41 Q572.817 1384.66 571.497 1382.87 Q570.178 1381.07 567.423 1381.07 Q564.16 1381.07 562.238 1383.29 Q560.317 1385.49 560.317 1389.26 L560.317 1403.91 L556.035 1403.91 L556.035 1377.99 L560.317 1377.99 L560.317 1382.02 Q561.775 1379.63 563.812 1378.5 Q565.849 1377.36 568.65 1377.36 Q571.474 1377.36 573.442 1378.8 Q575.433 1380.23 576.382 1382.97 Z\" fill=\"#000000\" fill-rule=\"evenodd\" fill-opacity=\"1\" /><path clip-path=\"url(#clip030)\" d=\"M606.497 1400.03 L606.497 1413.78 L602.215 1413.78 L602.215 1377.99 L606.497 1377.99 L606.497 1381.92 Q607.84 1379.61 609.877 1378.5 Q611.937 1377.36 614.784 1377.36 Q619.506 1377.36 622.446 1381.11 Q625.409 1384.86 625.409 1390.97 Q625.409 1397.09 622.446 1400.84 Q619.506 1404.59 614.784 1404.59 Q611.937 1404.59 609.877 1403.47 Q607.84 1402.34 606.497 1400.03 M620.988 1390.97 Q620.988 1386.28 619.043 1383.61 Q617.122 1380.93 613.743 1380.93 Q610.363 1380.93 608.419 1383.61 Q606.497 1386.28 606.497 1390.97 Q606.497 1395.67 608.419 1398.36 Q610.363 1401.02 613.743 1401.02 Q617.122 1401.02 619.043 1398.36 Q620.988 1395.67 620.988 1390.97 Z\" fill=\"#000000\" fill-rule=\"evenodd\" fill-opacity=\"1\" /><path clip-path=\"url(#clip030)\" d=\"M654.645 1389.89 L654.645 1391.97 L635.062 1391.97 Q635.34 1396.37 637.701 1398.68 Q640.085 1400.97 644.321 1400.97 Q646.775 1400.97 649.066 1400.37 Q651.381 1399.77 653.65 1398.57 L653.65 1402.59 Q651.358 1403.57 648.951 1404.08 Q646.543 1404.59 644.066 1404.59 Q637.863 1404.59 634.229 1400.97 Q630.617 1397.36 630.617 1391.21 Q630.617 1384.84 634.043 1381.11 Q637.492 1377.36 643.326 1377.36 Q648.557 1377.36 651.59 1380.74 Q654.645 1384.1 654.645 1389.89 M650.386 1388.64 Q650.34 1385.14 648.418 1383.06 Q646.52 1380.97 643.372 1380.97 Q639.807 1380.97 637.654 1382.99 Q635.525 1385 635.201 1388.66 L650.386 1388.64 Z\" fill=\"#000000\" fill-rule=\"evenodd\" fill-opacity=\"1\" /><path clip-path=\"url(#clip030)\" d=\"M676.659 1381.97 Q675.941 1381.55 675.085 1381.37 Q674.252 1381.16 673.233 1381.16 Q669.622 1381.16 667.677 1383.52 Q665.756 1385.86 665.756 1390.26 L665.756 1403.91 L661.474 1403.91 L661.474 1377.99 L665.756 1377.99 L665.756 1382.02 Q667.099 1379.66 669.252 1378.52 Q671.404 1377.36 674.483 1377.36 Q674.923 1377.36 675.455 1377.43 Q675.988 1377.48 676.636 1377.6 L676.659 1381.97 Z\" fill=\"#000000\" fill-rule=\"evenodd\" fill-opacity=\"1\" /><path clip-path=\"url(#clip030)\" d=\"M692.909 1390.88 Q687.747 1390.88 685.756 1392.06 Q683.765 1393.24 683.765 1396.09 Q683.765 1398.36 685.247 1399.7 Q686.751 1401.02 689.321 1401.02 Q692.863 1401.02 694.992 1398.52 Q697.145 1396 697.145 1391.83 L697.145 1390.88 L692.909 1390.88 M701.404 1389.12 L701.404 1403.91 L697.145 1403.91 L697.145 1399.98 Q695.687 1402.34 693.511 1403.47 Q691.335 1404.59 688.187 1404.59 Q684.205 1404.59 681.844 1402.36 Q679.506 1400.12 679.506 1396.37 Q679.506 1391.99 682.423 1389.77 Q685.363 1387.55 691.173 1387.55 L697.145 1387.55 L697.145 1387.13 Q697.145 1384.19 695.2 1382.6 Q693.279 1380.97 689.784 1380.97 Q687.562 1380.97 685.455 1381.51 Q683.349 1382.04 681.404 1383.1 L681.404 1379.17 Q683.742 1378.27 685.941 1377.83 Q688.14 1377.36 690.224 1377.36 Q695.849 1377.36 698.626 1380.28 Q701.404 1383.2 701.404 1389.12 Z\" fill=\"#000000\" fill-rule=\"evenodd\" fill-opacity=\"1\" /><path clip-path=\"url(#clip030)\" d=\"M714.39 1370.63 L714.39 1377.99 L723.163 1377.99 L723.163 1381.3 L714.39 1381.3 L714.39 1395.37 Q714.39 1398.54 715.247 1399.45 Q716.126 1400.35 718.788 1400.35 L723.163 1400.35 L723.163 1403.91 L718.788 1403.91 Q713.858 1403.91 711.983 1402.09 Q710.108 1400.23 710.108 1395.37 L710.108 1381.3 L706.983 1381.3 L706.983 1377.99 L710.108 1377.99 L710.108 1370.63 L714.39 1370.63 Z\" fill=\"#000000\" fill-rule=\"evenodd\" fill-opacity=\"1\" /><path clip-path=\"url(#clip030)\" d=\"M728.325 1393.68 L728.325 1377.99 L732.585 1377.99 L732.585 1393.52 Q732.585 1397.2 734.02 1399.05 Q735.455 1400.88 738.325 1400.88 Q741.774 1400.88 743.765 1398.68 Q745.779 1396.48 745.779 1392.69 L745.779 1377.99 L750.038 1377.99 L750.038 1403.91 L745.779 1403.91 L745.779 1399.93 Q744.228 1402.29 742.168 1403.45 Q740.131 1404.59 737.422 1404.59 Q732.955 1404.59 730.64 1401.81 Q728.325 1399.03 728.325 1393.68 M739.043 1377.36 L739.043 1377.36 Z\" fill=\"#000000\" fill-rule=\"evenodd\" fill-opacity=\"1\" /><path clip-path=\"url(#clip030)\" d=\"M773.834 1381.97 Q773.117 1381.55 772.26 1381.37 Q771.427 1381.16 770.408 1381.16 Q766.797 1381.16 764.853 1383.52 Q762.932 1385.86 762.932 1390.26 L762.932 1403.91 L758.649 1403.91 L758.649 1377.99 L762.932 1377.99 L762.932 1382.02 Q764.274 1379.66 766.427 1378.52 Q768.58 1377.36 771.658 1377.36 Q772.098 1377.36 772.631 1377.43 Q773.163 1377.48 773.811 1377.6 L773.834 1381.97 Z\" fill=\"#000000\" fill-rule=\"evenodd\" fill-opacity=\"1\" /><path clip-path=\"url(#clip030)\" d=\"M799.436 1389.89 L799.436 1391.97 L779.853 1391.97 Q780.131 1396.37 782.492 1398.68 Q784.876 1400.97 789.112 1400.97 Q791.566 1400.97 793.857 1400.37 Q796.172 1399.77 798.441 1398.57 L798.441 1402.59 Q796.149 1403.57 793.742 1404.08 Q791.334 1404.59 788.857 1404.59 Q782.654 1404.59 779.019 1400.97 Q775.408 1397.36 775.408 1391.21 Q775.408 1384.84 778.834 1381.11 Q782.283 1377.36 788.117 1377.36 Q793.348 1377.36 796.38 1380.74 Q799.436 1384.1 799.436 1389.89 M795.177 1388.64 Q795.13 1385.14 793.209 1383.06 Q791.311 1380.97 788.163 1380.97 Q784.598 1380.97 782.445 1382.99 Q780.316 1385 779.992 1388.66 L795.177 1388.64 Z\" fill=\"#000000\" fill-rule=\"evenodd\" fill-opacity=\"1\" /><path clip-path=\"url(#clip030)\" d=\"M841.681 1382.97 Q843.278 1380.1 845.501 1378.73 Q847.723 1377.36 850.732 1377.36 Q854.783 1377.36 856.982 1380.21 Q859.181 1383.03 859.181 1388.27 L859.181 1403.91 L854.899 1403.91 L854.899 1388.41 Q854.899 1384.68 853.579 1382.87 Q852.26 1381.07 849.551 1381.07 Q846.241 1381.07 844.32 1383.27 Q842.399 1385.47 842.399 1389.26 L842.399 1403.91 L838.116 1403.91 L838.116 1388.41 Q838.116 1384.66 836.797 1382.87 Q835.477 1381.07 832.723 1381.07 Q829.459 1381.07 827.538 1383.29 Q825.616 1385.49 825.616 1389.26 L825.616 1403.91 L821.334 1403.91 L821.334 1377.99 L825.616 1377.99 L825.616 1382.02 Q827.075 1379.63 829.112 1378.5 Q831.149 1377.36 833.95 1377.36 Q836.774 1377.36 838.741 1378.8 Q840.732 1380.23 841.681 1382.97 Z\" fill=\"#000000\" fill-rule=\"evenodd\" fill-opacity=\"1\" /><path clip-path=\"url(#clip030)\" d=\"M867.676 1377.99 L871.936 1377.99 L871.936 1403.91 L867.676 1403.91 L867.676 1377.99 M867.676 1367.9 L871.936 1367.9 L871.936 1373.29 L867.676 1373.29 L867.676 1367.9 Z\" fill=\"#000000\" fill-rule=\"evenodd\" fill-opacity=\"1\" /><path clip-path=\"url(#clip030)\" d=\"M902.398 1388.27 L902.398 1403.91 L898.139 1403.91 L898.139 1388.41 Q898.139 1384.72 896.704 1382.9 Q895.269 1381.07 892.398 1381.07 Q888.949 1381.07 886.959 1383.27 Q884.968 1385.47 884.968 1389.26 L884.968 1403.91 L880.686 1403.91 L880.686 1377.99 L884.968 1377.99 L884.968 1382.02 Q886.496 1379.68 888.556 1378.52 Q890.639 1377.36 893.348 1377.36 Q897.815 1377.36 900.107 1380.14 Q902.398 1382.9 902.398 1388.27 Z\" fill=\"#000000\" fill-rule=\"evenodd\" fill-opacity=\"1\" /></svg>\n"
      ]
     },
     "execution_count": 58,
     "metadata": {},
     "output_type": "execute_result"
    }
   ],
   "source": [
    "plot(1:11, Jantempmin, label=\"Jan Temperature min\", legend=:bottomleft)"
   ]
  },
  {
   "cell_type": "markdown",
   "id": "6df59c0f",
   "metadata": {},
   "source": [
    "# Now we do this for Jan Max average temperature 1922-1932 \n"
   ]
  },
  {
   "cell_type": "code",
   "execution_count": 59,
   "id": "e5f62e0a",
   "metadata": {},
   "outputs": [
    {
     "data": {
      "text/plain": [
       "11-element Vector{Any}:\n",
       "  5.65\n",
       " 11.2\n",
       " -3.25\n",
       "  9.9\n",
       " 14.95\n",
       "  7.75\n",
       " 17.3\n",
       " -2.95\n",
       "  9.0\n",
       " 17.8\n",
       " 22.5"
      ]
     },
     "execution_count": 59,
     "metadata": {},
     "output_type": "execute_result"
    }
   ],
   "source": [
    "Jantempmax=B[2:12,5]"
   ]
  },
  {
   "cell_type": "code",
   "execution_count": 60,
   "id": "44cbf689",
   "metadata": {},
   "outputs": [
    {
     "data": {
      "image/svg+xml": [
       "<?xml version=\"1.0\" encoding=\"utf-8\"?>\n",
       "<svg xmlns=\"http://www.w3.org/2000/svg\" xmlns:xlink=\"http://www.w3.org/1999/xlink\" width=\"600\" height=\"400\" viewBox=\"0 0 2400 1600\">\n",
       "<defs>\n",
       "  <clipPath id=\"clip070\">\n",
       "    <rect x=\"0\" y=\"0\" width=\"2400\" height=\"1600\"/>\n",
       "  </clipPath>\n",
       "</defs>\n",
       "<path clip-path=\"url(#clip070)\" d=\"\n",
       "M0 1600 L2400 1600 L2400 0 L0 0  Z\n",
       "  \" fill=\"#ffffff\" fill-rule=\"evenodd\" fill-opacity=\"1\"/>\n",
       "<defs>\n",
       "  <clipPath id=\"clip071\">\n",
       "    <rect x=\"480\" y=\"0\" width=\"1681\" height=\"1600\"/>\n",
       "  </clipPath>\n",
       "</defs>\n",
       "<path clip-path=\"url(#clip070)\" d=\"\n",
       "M140.696 1486.45 L2352.76 1486.45 L2352.76 47.2441 L140.696 47.2441  Z\n",
       "  \" fill=\"#ffffff\" fill-rule=\"evenodd\" fill-opacity=\"1\"/>\n",
       "<defs>\n",
       "  <clipPath id=\"clip072\">\n",
       "    <rect x=\"140\" y=\"47\" width=\"2213\" height=\"1440\"/>\n",
       "  </clipPath>\n",
       "</defs>\n",
       "<polyline clip-path=\"url(#clip072)\" style=\"stroke:#000000; stroke-linecap:round; stroke-linejoin:round; stroke-width:2; stroke-opacity:0.1; fill:none\" points=\"\n",
       "  411.986,1486.45 411.986,47.2441 \n",
       "  \"/>\n",
       "<polyline clip-path=\"url(#clip072)\" style=\"stroke:#000000; stroke-linecap:round; stroke-linejoin:round; stroke-width:2; stroke-opacity:0.1; fill:none\" points=\"\n",
       "  829.356,1486.45 829.356,47.2441 \n",
       "  \"/>\n",
       "<polyline clip-path=\"url(#clip072)\" style=\"stroke:#000000; stroke-linecap:round; stroke-linejoin:round; stroke-width:2; stroke-opacity:0.1; fill:none\" points=\"\n",
       "  1246.73,1486.45 1246.73,47.2441 \n",
       "  \"/>\n",
       "<polyline clip-path=\"url(#clip072)\" style=\"stroke:#000000; stroke-linecap:round; stroke-linejoin:round; stroke-width:2; stroke-opacity:0.1; fill:none\" points=\"\n",
       "  1664.1,1486.45 1664.1,47.2441 \n",
       "  \"/>\n",
       "<polyline clip-path=\"url(#clip072)\" style=\"stroke:#000000; stroke-linecap:round; stroke-linejoin:round; stroke-width:2; stroke-opacity:0.1; fill:none\" points=\"\n",
       "  2081.47,1486.45 2081.47,47.2441 \n",
       "  \"/>\n",
       "<polyline clip-path=\"url(#clip070)\" style=\"stroke:#000000; stroke-linecap:round; stroke-linejoin:round; stroke-width:4; stroke-opacity:1; fill:none\" points=\"\n",
       "  140.696,1486.45 2352.76,1486.45 \n",
       "  \"/>\n",
       "<polyline clip-path=\"url(#clip070)\" style=\"stroke:#000000; stroke-linecap:round; stroke-linejoin:round; stroke-width:4; stroke-opacity:1; fill:none\" points=\"\n",
       "  411.986,1486.45 411.986,1467.55 \n",
       "  \"/>\n",
       "<polyline clip-path=\"url(#clip070)\" style=\"stroke:#000000; stroke-linecap:round; stroke-linejoin:round; stroke-width:4; stroke-opacity:1; fill:none\" points=\"\n",
       "  829.356,1486.45 829.356,1467.55 \n",
       "  \"/>\n",
       "<polyline clip-path=\"url(#clip070)\" style=\"stroke:#000000; stroke-linecap:round; stroke-linejoin:round; stroke-width:4; stroke-opacity:1; fill:none\" points=\"\n",
       "  1246.73,1486.45 1246.73,1467.55 \n",
       "  \"/>\n",
       "<polyline clip-path=\"url(#clip070)\" style=\"stroke:#000000; stroke-linecap:round; stroke-linejoin:round; stroke-width:4; stroke-opacity:1; fill:none\" points=\"\n",
       "  1664.1,1486.45 1664.1,1467.55 \n",
       "  \"/>\n",
       "<polyline clip-path=\"url(#clip070)\" style=\"stroke:#000000; stroke-linecap:round; stroke-linejoin:round; stroke-width:4; stroke-opacity:1; fill:none\" points=\"\n",
       "  2081.47,1486.45 2081.47,1467.55 \n",
       "  \"/>\n",
       "<path clip-path=\"url(#clip070)\" d=\"M406.639 1544.91 L422.958 1544.91 L422.958 1548.85 L401.014 1548.85 L401.014 1544.91 Q403.676 1542.16 408.259 1537.53 Q412.866 1532.88 414.046 1531.53 Q416.291 1529.01 417.171 1527.27 Q418.074 1525.51 418.074 1523.82 Q418.074 1521.07 416.129 1519.33 Q414.208 1517.6 411.106 1517.6 Q408.907 1517.6 406.454 1518.36 Q404.023 1519.13 401.245 1520.68 L401.245 1515.95 Q404.069 1514.82 406.523 1514.24 Q408.977 1513.66 411.014 1513.66 Q416.384 1513.66 419.579 1516.35 Q422.773 1519.03 422.773 1523.52 Q422.773 1525.65 421.963 1527.57 Q421.176 1529.47 419.069 1532.07 Q418.491 1532.74 415.389 1535.95 Q412.287 1539.15 406.639 1544.91 Z\" fill=\"#000000\" fill-rule=\"evenodd\" fill-opacity=\"1\" /><path clip-path=\"url(#clip070)\" d=\"M832.365 1518.36 L820.56 1536.81 L832.365 1536.81 L832.365 1518.36 M831.138 1514.29 L837.018 1514.29 L837.018 1536.81 L841.948 1536.81 L841.948 1540.7 L837.018 1540.7 L837.018 1548.85 L832.365 1548.85 L832.365 1540.7 L816.763 1540.7 L816.763 1536.19 L831.138 1514.29 Z\" fill=\"#000000\" fill-rule=\"evenodd\" fill-opacity=\"1\" /><path clip-path=\"url(#clip070)\" d=\"M1247.13 1529.7 Q1243.98 1529.7 1242.13 1531.86 Q1240.3 1534.01 1240.3 1537.76 Q1240.3 1541.49 1242.13 1543.66 Q1243.98 1545.82 1247.13 1545.82 Q1250.28 1545.82 1252.11 1543.66 Q1253.96 1541.49 1253.96 1537.76 Q1253.96 1534.01 1252.11 1531.86 Q1250.28 1529.7 1247.13 1529.7 M1256.41 1515.05 L1256.41 1519.31 Q1254.65 1518.48 1252.85 1518.04 Q1251.07 1517.6 1249.31 1517.6 Q1244.68 1517.6 1242.22 1520.72 Q1239.79 1523.85 1239.45 1530.17 Q1240.81 1528.15 1242.87 1527.09 Q1244.93 1526 1247.41 1526 Q1252.62 1526 1255.63 1529.17 Q1258.66 1532.32 1258.66 1537.76 Q1258.66 1543.08 1255.51 1546.3 Q1252.36 1549.52 1247.13 1549.52 Q1241.14 1549.52 1237.96 1544.94 Q1234.79 1540.33 1234.79 1531.6 Q1234.79 1523.41 1238.68 1518.55 Q1242.57 1513.66 1249.12 1513.66 Q1250.88 1513.66 1252.66 1514.01 Q1254.47 1514.36 1256.41 1515.05 Z\" fill=\"#000000\" fill-rule=\"evenodd\" fill-opacity=\"1\" /><path clip-path=\"url(#clip070)\" d=\"M1664.1 1532.44 Q1660.76 1532.44 1658.84 1534.22 Q1656.94 1536 1656.94 1539.13 Q1656.94 1542.25 1658.84 1544.03 Q1660.76 1545.82 1664.1 1545.82 Q1667.43 1545.82 1669.35 1544.03 Q1671.27 1542.23 1671.27 1539.13 Q1671.27 1536 1669.35 1534.22 Q1667.45 1532.44 1664.1 1532.44 M1659.42 1530.45 Q1656.41 1529.7 1654.72 1527.64 Q1653.05 1525.58 1653.05 1522.62 Q1653.05 1518.48 1655.99 1516.07 Q1658.96 1513.66 1664.1 1513.66 Q1669.26 1513.66 1672.2 1516.07 Q1675.14 1518.48 1675.14 1522.62 Q1675.14 1525.58 1673.45 1527.64 Q1671.78 1529.7 1668.79 1530.45 Q1672.17 1531.23 1674.05 1533.52 Q1675.95 1535.82 1675.95 1539.13 Q1675.95 1544.15 1672.87 1546.83 Q1669.81 1549.52 1664.1 1549.52 Q1658.38 1549.52 1655.3 1546.83 Q1652.24 1544.15 1652.24 1539.13 Q1652.24 1535.82 1654.14 1533.52 Q1656.04 1531.23 1659.42 1530.45 M1657.71 1523.06 Q1657.71 1525.75 1659.37 1527.25 Q1661.06 1528.76 1664.1 1528.76 Q1667.1 1528.76 1668.79 1527.25 Q1670.51 1525.75 1670.51 1523.06 Q1670.51 1520.38 1668.79 1518.87 Q1667.1 1517.37 1664.1 1517.37 Q1661.06 1517.37 1659.37 1518.87 Q1657.71 1520.38 1657.71 1523.06 Z\" fill=\"#000000\" fill-rule=\"evenodd\" fill-opacity=\"1\" /><path clip-path=\"url(#clip070)\" d=\"M2056.15 1544.91 L2063.79 1544.91 L2063.79 1518.55 L2055.48 1520.21 L2055.48 1515.95 L2063.75 1514.29 L2068.42 1514.29 L2068.42 1544.91 L2076.06 1544.91 L2076.06 1548.85 L2056.15 1548.85 L2056.15 1544.91 Z\" fill=\"#000000\" fill-rule=\"evenodd\" fill-opacity=\"1\" /><path clip-path=\"url(#clip070)\" d=\"M2095.5 1517.37 Q2091.89 1517.37 2090.06 1520.93 Q2088.26 1524.47 2088.26 1531.6 Q2088.26 1538.71 2090.06 1542.27 Q2091.89 1545.82 2095.5 1545.82 Q2099.14 1545.82 2100.94 1542.27 Q2102.77 1538.71 2102.77 1531.6 Q2102.77 1524.47 2100.94 1520.93 Q2099.14 1517.37 2095.5 1517.37 M2095.5 1513.66 Q2101.31 1513.66 2104.37 1518.27 Q2107.45 1522.85 2107.45 1531.6 Q2107.45 1540.33 2104.37 1544.94 Q2101.31 1549.52 2095.5 1549.52 Q2089.69 1549.52 2086.62 1544.94 Q2083.56 1540.33 2083.56 1531.6 Q2083.56 1522.85 2086.62 1518.27 Q2089.69 1513.66 2095.5 1513.66 Z\" fill=\"#000000\" fill-rule=\"evenodd\" fill-opacity=\"1\" /><polyline clip-path=\"url(#clip072)\" style=\"stroke:#000000; stroke-linecap:round; stroke-linejoin:round; stroke-width:2; stroke-opacity:0.1; fill:none\" points=\"\n",
       "  140.696,1274.35 2352.76,1274.35 \n",
       "  \"/>\n",
       "<polyline clip-path=\"url(#clip072)\" style=\"stroke:#000000; stroke-linecap:round; stroke-linejoin:round; stroke-width:2; stroke-opacity:0.1; fill:none\" points=\"\n",
       "  140.696,1010.71 2352.76,1010.71 \n",
       "  \"/>\n",
       "<polyline clip-path=\"url(#clip072)\" style=\"stroke:#000000; stroke-linecap:round; stroke-linejoin:round; stroke-width:2; stroke-opacity:0.1; fill:none\" points=\"\n",
       "  140.696,747.073 2352.76,747.073 \n",
       "  \"/>\n",
       "<polyline clip-path=\"url(#clip072)\" style=\"stroke:#000000; stroke-linecap:round; stroke-linejoin:round; stroke-width:2; stroke-opacity:0.1; fill:none\" points=\"\n",
       "  140.696,483.434 2352.76,483.434 \n",
       "  \"/>\n",
       "<polyline clip-path=\"url(#clip072)\" style=\"stroke:#000000; stroke-linecap:round; stroke-linejoin:round; stroke-width:2; stroke-opacity:0.1; fill:none\" points=\"\n",
       "  140.696,219.796 2352.76,219.796 \n",
       "  \"/>\n",
       "<polyline clip-path=\"url(#clip070)\" style=\"stroke:#000000; stroke-linecap:round; stroke-linejoin:round; stroke-width:4; stroke-opacity:1; fill:none\" points=\"\n",
       "  140.696,1486.45 140.696,47.2441 \n",
       "  \"/>\n",
       "<polyline clip-path=\"url(#clip070)\" style=\"stroke:#000000; stroke-linecap:round; stroke-linejoin:round; stroke-width:4; stroke-opacity:1; fill:none\" points=\"\n",
       "  140.696,1274.35 159.593,1274.35 \n",
       "  \"/>\n",
       "<polyline clip-path=\"url(#clip070)\" style=\"stroke:#000000; stroke-linecap:round; stroke-linejoin:round; stroke-width:4; stroke-opacity:1; fill:none\" points=\"\n",
       "  140.696,1010.71 159.593,1010.71 \n",
       "  \"/>\n",
       "<polyline clip-path=\"url(#clip070)\" style=\"stroke:#000000; stroke-linecap:round; stroke-linejoin:round; stroke-width:4; stroke-opacity:1; fill:none\" points=\"\n",
       "  140.696,747.073 159.593,747.073 \n",
       "  \"/>\n",
       "<polyline clip-path=\"url(#clip070)\" style=\"stroke:#000000; stroke-linecap:round; stroke-linejoin:round; stroke-width:4; stroke-opacity:1; fill:none\" points=\"\n",
       "  140.696,483.434 159.593,483.434 \n",
       "  \"/>\n",
       "<polyline clip-path=\"url(#clip070)\" style=\"stroke:#000000; stroke-linecap:round; stroke-linejoin:round; stroke-width:4; stroke-opacity:1; fill:none\" points=\"\n",
       "  140.696,219.796 159.593,219.796 \n",
       "  \"/>\n",
       "<path clip-path=\"url(#clip070)\" d=\"M92.7512 1260.15 Q89.1401 1260.15 87.3114 1263.71 Q85.5058 1267.26 85.5058 1274.39 Q85.5058 1281.49 87.3114 1285.06 Q89.1401 1288.6 92.7512 1288.6 Q96.3854 1288.6 98.1909 1285.06 Q100.02 1281.49 100.02 1274.39 Q100.02 1267.26 98.1909 1263.71 Q96.3854 1260.15 92.7512 1260.15 M92.7512 1256.45 Q98.5613 1256.45 101.617 1261.05 Q104.696 1265.64 104.696 1274.39 Q104.696 1283.11 101.617 1287.72 Q98.5613 1292.3 92.7512 1292.3 Q86.941 1292.3 83.8623 1287.72 Q80.8068 1283.11 80.8068 1274.39 Q80.8068 1265.64 83.8623 1261.05 Q86.941 1256.45 92.7512 1256.45 Z\" fill=\"#000000\" fill-rule=\"evenodd\" fill-opacity=\"1\" /><path clip-path=\"url(#clip070)\" d=\"M83.7929 993.432 L102.149 993.432 L102.149 997.367 L88.0753 997.367 L88.0753 1005.84 Q89.0938 1005.49 90.1123 1005.33 Q91.1308 1005.14 92.1493 1005.14 Q97.9363 1005.14 101.316 1008.32 Q104.696 1011.49 104.696 1016.9 Q104.696 1022.48 101.223 1025.58 Q97.7511 1028.66 91.4317 1028.66 Q89.2558 1028.66 86.9873 1028.29 Q84.7419 1027.92 82.3346 1027.18 L82.3346 1022.48 Q84.4179 1023.62 86.6401 1024.17 Q88.8623 1024.73 91.3391 1024.73 Q95.3437 1024.73 97.6817 1022.62 Q100.02 1020.51 100.02 1016.9 Q100.02 1013.29 97.6817 1011.19 Q95.3437 1009.08 91.3391 1009.08 Q89.4641 1009.08 87.5892 1009.5 Q85.7373 1009.91 83.7929 1010.79 L83.7929 993.432 Z\" fill=\"#000000\" fill-rule=\"evenodd\" fill-opacity=\"1\" /><path clip-path=\"url(#clip070)\" d=\"M53.3995 760.418 L61.0384 760.418 L61.0384 734.052 L52.7282 735.719 L52.7282 731.46 L60.9921 729.793 L65.668 729.793 L65.668 760.418 L73.3068 760.418 L73.3068 764.353 L53.3995 764.353 L53.3995 760.418 Z\" fill=\"#000000\" fill-rule=\"evenodd\" fill-opacity=\"1\" /><path clip-path=\"url(#clip070)\" d=\"M92.7512 732.872 Q89.1401 732.872 87.3114 736.437 Q85.5058 739.978 85.5058 747.108 Q85.5058 754.214 87.3114 757.779 Q89.1401 761.321 92.7512 761.321 Q96.3854 761.321 98.1909 757.779 Q100.02 754.214 100.02 747.108 Q100.02 739.978 98.1909 736.437 Q96.3854 732.872 92.7512 732.872 M92.7512 729.168 Q98.5613 729.168 101.617 733.775 Q104.696 738.358 104.696 747.108 Q104.696 755.835 101.617 760.441 Q98.5613 765.024 92.7512 765.024 Q86.941 765.024 83.8623 760.441 Q80.8068 755.835 80.8068 747.108 Q80.8068 738.358 83.8623 733.775 Q86.941 729.168 92.7512 729.168 Z\" fill=\"#000000\" fill-rule=\"evenodd\" fill-opacity=\"1\" /><path clip-path=\"url(#clip070)\" d=\"M54.3949 496.779 L62.0337 496.779 L62.0337 470.414 L53.7236 472.08 L53.7236 467.821 L61.9874 466.154 L66.6633 466.154 L66.6633 496.779 L74.3022 496.779 L74.3022 500.714 L54.3949 500.714 L54.3949 496.779 Z\" fill=\"#000000\" fill-rule=\"evenodd\" fill-opacity=\"1\" /><path clip-path=\"url(#clip070)\" d=\"M83.7929 466.154 L102.149 466.154 L102.149 470.09 L88.0753 470.09 L88.0753 478.562 Q89.0938 478.214 90.1123 478.052 Q91.1308 477.867 92.1493 477.867 Q97.9363 477.867 101.316 481.039 Q104.696 484.21 104.696 489.626 Q104.696 495.205 101.223 498.307 Q97.7511 501.386 91.4317 501.386 Q89.2558 501.386 86.9873 501.015 Q84.7419 500.645 82.3346 499.904 L82.3346 495.205 Q84.4179 496.339 86.6401 496.895 Q88.8623 497.45 91.3391 497.45 Q95.3437 497.45 97.6817 495.344 Q100.02 493.238 100.02 489.626 Q100.02 486.015 97.6817 483.909 Q95.3437 481.802 91.3391 481.802 Q89.4641 481.802 87.5892 482.219 Q85.7373 482.636 83.7929 483.515 L83.7929 466.154 Z\" fill=\"#000000\" fill-rule=\"evenodd\" fill-opacity=\"1\" /><path clip-path=\"url(#clip070)\" d=\"M56.6171 233.14 L72.9365 233.14 L72.9365 237.076 L50.9921 237.076 L50.9921 233.14 Q53.6541 230.386 58.2375 225.756 Q62.8439 221.104 64.0245 219.761 Q66.2698 217.238 67.1494 215.502 Q68.0522 213.742 68.0522 212.053 Q68.0522 209.298 66.1078 207.562 Q64.1865 205.826 61.0847 205.826 Q58.8856 205.826 56.4319 206.59 Q54.0014 207.354 51.2236 208.904 L51.2236 204.182 Q54.0477 203.048 56.5014 202.469 Q58.955 201.891 60.9921 201.891 Q66.3624 201.891 69.5568 204.576 Q72.7513 207.261 72.7513 211.752 Q72.7513 213.881 71.9411 215.803 Q71.1541 217.701 69.0476 220.293 Q68.4689 220.965 65.367 224.182 Q62.2652 227.377 56.6171 233.14 Z\" fill=\"#000000\" fill-rule=\"evenodd\" fill-opacity=\"1\" /><path clip-path=\"url(#clip070)\" d=\"M92.7512 205.594 Q89.1401 205.594 87.3114 209.159 Q85.5058 212.701 85.5058 219.83 Q85.5058 226.937 87.3114 230.502 Q89.1401 234.043 92.7512 234.043 Q96.3854 234.043 98.1909 230.502 Q100.02 226.937 100.02 219.83 Q100.02 212.701 98.1909 209.159 Q96.3854 205.594 92.7512 205.594 M92.7512 201.891 Q98.5613 201.891 101.617 206.497 Q104.696 211.08 104.696 219.83 Q104.696 228.557 101.617 233.164 Q98.5613 237.747 92.7512 237.747 Q86.941 237.747 83.8623 233.164 Q80.8068 228.557 80.8068 219.83 Q80.8068 211.08 83.8623 206.497 Q86.941 201.891 92.7512 201.891 Z\" fill=\"#000000\" fill-rule=\"evenodd\" fill-opacity=\"1\" /><polyline clip-path=\"url(#clip072)\" style=\"stroke:#009af9; stroke-linecap:round; stroke-linejoin:round; stroke-width:4; stroke-opacity:1; fill:none\" points=\"\n",
       "  203.301,976.439 411.986,683.8 620.671,1445.72 829.356,752.346 1038.04,486.071 1246.73,865.711 1455.41,362.161 1664.1,1429.9 1872.78,799.801 2081.47,335.797 \n",
       "  2290.15,87.9763 \n",
       "  \"/>\n",
       "<path clip-path=\"url(#clip070)\" d=\"\n",
       "M214.431 1438.47 L943.343 1438.47 L943.343 1334.79 L214.431 1334.79  Z\n",
       "  \" fill=\"#ffffff\" fill-rule=\"evenodd\" fill-opacity=\"1\"/>\n",
       "<polyline clip-path=\"url(#clip070)\" style=\"stroke:#000000; stroke-linecap:round; stroke-linejoin:round; stroke-width:4; stroke-opacity:1; fill:none\" points=\"\n",
       "  214.431,1438.47 943.343,1438.47 943.343,1334.79 214.431,1334.79 214.431,1438.47 \n",
       "  \"/>\n",
       "<polyline clip-path=\"url(#clip070)\" style=\"stroke:#009af9; stroke-linecap:round; stroke-linejoin:round; stroke-width:4; stroke-opacity:1; fill:none\" points=\"\n",
       "  239.009,1386.63 386.48,1386.63 \n",
       "  \"/>\n",
       "<path clip-path=\"url(#clip070)\" d=\"M418.165 1369.35 L422.841 1369.35 L422.841 1401.51 Q422.841 1407.76 420.457 1410.58 Q418.095 1413.41 412.841 1413.41 L411.058 1413.41 L411.058 1409.47 L412.517 1409.47 Q415.619 1409.47 416.892 1407.73 Q418.165 1406 418.165 1401.51 L418.165 1369.35 Z\" fill=\"#000000\" fill-rule=\"evenodd\" fill-opacity=\"1\" /><path clip-path=\"url(#clip070)\" d=\"M443.743 1390.88 Q438.581 1390.88 436.591 1392.06 Q434.6 1393.24 434.6 1396.09 Q434.6 1398.36 436.081 1399.7 Q437.586 1401.02 440.156 1401.02 Q443.697 1401.02 445.827 1398.52 Q447.98 1396 447.98 1391.83 L447.98 1390.88 L443.743 1390.88 M452.239 1389.12 L452.239 1403.91 L447.98 1403.91 L447.98 1399.98 Q446.521 1402.34 444.345 1403.47 Q442.169 1404.59 439.021 1404.59 Q435.04 1404.59 432.679 1402.36 Q430.341 1400.12 430.341 1396.37 Q430.341 1391.99 433.257 1389.77 Q436.197 1387.55 442.007 1387.55 L447.98 1387.55 L447.98 1387.13 Q447.98 1384.19 446.035 1382.6 Q444.114 1380.97 440.619 1380.97 Q438.396 1380.97 436.29 1381.51 Q434.183 1382.04 432.239 1383.1 L432.239 1379.17 Q434.577 1378.27 436.776 1377.83 Q438.975 1377.36 441.058 1377.36 Q446.683 1377.36 449.461 1380.28 Q452.239 1383.2 452.239 1389.12 Z\" fill=\"#000000\" fill-rule=\"evenodd\" fill-opacity=\"1\" /><path clip-path=\"url(#clip070)\" d=\"M482.563 1388.27 L482.563 1403.91 L478.303 1403.91 L478.303 1388.41 Q478.303 1384.72 476.868 1382.9 Q475.433 1381.07 472.563 1381.07 Q469.114 1381.07 467.123 1383.27 Q465.132 1385.47 465.132 1389.26 L465.132 1403.91 L460.85 1403.91 L460.85 1377.99 L465.132 1377.99 L465.132 1382.02 Q466.66 1379.68 468.72 1378.52 Q470.804 1377.36 473.512 1377.36 Q477.979 1377.36 480.271 1380.14 Q482.563 1382.9 482.563 1388.27 Z\" fill=\"#000000\" fill-rule=\"evenodd\" fill-opacity=\"1\" /><path clip-path=\"url(#clip070)\" d=\"M501.521 1369.35 L530.757 1369.35 L530.757 1373.29 L518.488 1373.29 L518.488 1403.91 L513.789 1403.91 L513.789 1373.29 L501.521 1373.29 L501.521 1369.35 Z\" fill=\"#000000\" fill-rule=\"evenodd\" fill-opacity=\"1\" /><path clip-path=\"url(#clip070)\" d=\"M549.206 1389.89 L549.206 1391.97 L529.623 1391.97 Q529.9 1396.37 532.262 1398.68 Q534.646 1400.97 538.882 1400.97 Q541.336 1400.97 543.627 1400.37 Q545.942 1399.77 548.211 1398.57 L548.211 1402.59 Q545.919 1403.57 543.511 1404.08 Q541.104 1404.59 538.627 1404.59 Q532.424 1404.59 528.789 1400.97 Q525.178 1397.36 525.178 1391.21 Q525.178 1384.84 528.604 1381.11 Q532.053 1377.36 537.886 1377.36 Q543.118 1377.36 546.15 1380.74 Q549.206 1384.1 549.206 1389.89 M544.947 1388.64 Q544.9 1385.14 542.979 1383.06 Q541.081 1380.97 537.933 1380.97 Q534.368 1380.97 532.215 1382.99 Q530.086 1385 529.762 1388.66 L544.947 1388.64 Z\" fill=\"#000000\" fill-rule=\"evenodd\" fill-opacity=\"1\" /><path clip-path=\"url(#clip070)\" d=\"M576.382 1382.97 Q577.979 1380.1 580.201 1378.73 Q582.423 1377.36 585.433 1377.36 Q589.483 1377.36 591.683 1380.21 Q593.882 1383.03 593.882 1388.27 L593.882 1403.91 L589.599 1403.91 L589.599 1388.41 Q589.599 1384.68 588.28 1382.87 Q586.96 1381.07 584.252 1381.07 Q580.942 1381.07 579.021 1383.27 Q577.099 1385.47 577.099 1389.26 L577.099 1403.91 L572.817 1403.91 L572.817 1388.41 Q572.817 1384.66 571.497 1382.87 Q570.178 1381.07 567.423 1381.07 Q564.16 1381.07 562.238 1383.29 Q560.317 1385.49 560.317 1389.26 L560.317 1403.91 L556.035 1403.91 L556.035 1377.99 L560.317 1377.99 L560.317 1382.02 Q561.775 1379.63 563.812 1378.5 Q565.849 1377.36 568.65 1377.36 Q571.474 1377.36 573.442 1378.8 Q575.433 1380.23 576.382 1382.97 Z\" fill=\"#000000\" fill-rule=\"evenodd\" fill-opacity=\"1\" /><path clip-path=\"url(#clip070)\" d=\"M606.497 1400.03 L606.497 1413.78 L602.215 1413.78 L602.215 1377.99 L606.497 1377.99 L606.497 1381.92 Q607.84 1379.61 609.877 1378.5 Q611.937 1377.36 614.784 1377.36 Q619.506 1377.36 622.446 1381.11 Q625.409 1384.86 625.409 1390.97 Q625.409 1397.09 622.446 1400.84 Q619.506 1404.59 614.784 1404.59 Q611.937 1404.59 609.877 1403.47 Q607.84 1402.34 606.497 1400.03 M620.988 1390.97 Q620.988 1386.28 619.043 1383.61 Q617.122 1380.93 613.743 1380.93 Q610.363 1380.93 608.419 1383.61 Q606.497 1386.28 606.497 1390.97 Q606.497 1395.67 608.419 1398.36 Q610.363 1401.02 613.743 1401.02 Q617.122 1401.02 619.043 1398.36 Q620.988 1395.67 620.988 1390.97 Z\" fill=\"#000000\" fill-rule=\"evenodd\" fill-opacity=\"1\" /><path clip-path=\"url(#clip070)\" d=\"M654.645 1389.89 L654.645 1391.97 L635.062 1391.97 Q635.34 1396.37 637.701 1398.68 Q640.085 1400.97 644.321 1400.97 Q646.775 1400.97 649.066 1400.37 Q651.381 1399.77 653.65 1398.57 L653.65 1402.59 Q651.358 1403.57 648.951 1404.08 Q646.543 1404.59 644.066 1404.59 Q637.863 1404.59 634.229 1400.97 Q630.617 1397.36 630.617 1391.21 Q630.617 1384.84 634.043 1381.11 Q637.492 1377.36 643.326 1377.36 Q648.557 1377.36 651.59 1380.74 Q654.645 1384.1 654.645 1389.89 M650.386 1388.64 Q650.34 1385.14 648.418 1383.06 Q646.52 1380.97 643.372 1380.97 Q639.807 1380.97 637.654 1382.99 Q635.525 1385 635.201 1388.66 L650.386 1388.64 Z\" fill=\"#000000\" fill-rule=\"evenodd\" fill-opacity=\"1\" /><path clip-path=\"url(#clip070)\" d=\"M676.659 1381.97 Q675.941 1381.55 675.085 1381.37 Q674.252 1381.16 673.233 1381.16 Q669.622 1381.16 667.677 1383.52 Q665.756 1385.86 665.756 1390.26 L665.756 1403.91 L661.474 1403.91 L661.474 1377.99 L665.756 1377.99 L665.756 1382.02 Q667.099 1379.66 669.252 1378.52 Q671.404 1377.36 674.483 1377.36 Q674.923 1377.36 675.455 1377.43 Q675.988 1377.48 676.636 1377.6 L676.659 1381.97 Z\" fill=\"#000000\" fill-rule=\"evenodd\" fill-opacity=\"1\" /><path clip-path=\"url(#clip070)\" d=\"M692.909 1390.88 Q687.747 1390.88 685.756 1392.06 Q683.765 1393.24 683.765 1396.09 Q683.765 1398.36 685.247 1399.7 Q686.751 1401.02 689.321 1401.02 Q692.863 1401.02 694.992 1398.52 Q697.145 1396 697.145 1391.83 L697.145 1390.88 L692.909 1390.88 M701.404 1389.12 L701.404 1403.91 L697.145 1403.91 L697.145 1399.98 Q695.687 1402.34 693.511 1403.47 Q691.335 1404.59 688.187 1404.59 Q684.205 1404.59 681.844 1402.36 Q679.506 1400.12 679.506 1396.37 Q679.506 1391.99 682.423 1389.77 Q685.363 1387.55 691.173 1387.55 L697.145 1387.55 L697.145 1387.13 Q697.145 1384.19 695.2 1382.6 Q693.279 1380.97 689.784 1380.97 Q687.562 1380.97 685.455 1381.51 Q683.349 1382.04 681.404 1383.1 L681.404 1379.17 Q683.742 1378.27 685.941 1377.83 Q688.14 1377.36 690.224 1377.36 Q695.849 1377.36 698.626 1380.28 Q701.404 1383.2 701.404 1389.12 Z\" fill=\"#000000\" fill-rule=\"evenodd\" fill-opacity=\"1\" /><path clip-path=\"url(#clip070)\" d=\"M714.39 1370.63 L714.39 1377.99 L723.163 1377.99 L723.163 1381.3 L714.39 1381.3 L714.39 1395.37 Q714.39 1398.54 715.247 1399.45 Q716.126 1400.35 718.788 1400.35 L723.163 1400.35 L723.163 1403.91 L718.788 1403.91 Q713.858 1403.91 711.983 1402.09 Q710.108 1400.23 710.108 1395.37 L710.108 1381.3 L706.983 1381.3 L706.983 1377.99 L710.108 1377.99 L710.108 1370.63 L714.39 1370.63 Z\" fill=\"#000000\" fill-rule=\"evenodd\" fill-opacity=\"1\" /><path clip-path=\"url(#clip070)\" d=\"M728.325 1393.68 L728.325 1377.99 L732.585 1377.99 L732.585 1393.52 Q732.585 1397.2 734.02 1399.05 Q735.455 1400.88 738.325 1400.88 Q741.774 1400.88 743.765 1398.68 Q745.779 1396.48 745.779 1392.69 L745.779 1377.99 L750.038 1377.99 L750.038 1403.91 L745.779 1403.91 L745.779 1399.93 Q744.228 1402.29 742.168 1403.45 Q740.131 1404.59 737.422 1404.59 Q732.955 1404.59 730.64 1401.81 Q728.325 1399.03 728.325 1393.68 M739.043 1377.36 L739.043 1377.36 Z\" fill=\"#000000\" fill-rule=\"evenodd\" fill-opacity=\"1\" /><path clip-path=\"url(#clip070)\" d=\"M773.834 1381.97 Q773.117 1381.55 772.26 1381.37 Q771.427 1381.16 770.408 1381.16 Q766.797 1381.16 764.853 1383.52 Q762.932 1385.86 762.932 1390.26 L762.932 1403.91 L758.649 1403.91 L758.649 1377.99 L762.932 1377.99 L762.932 1382.02 Q764.274 1379.66 766.427 1378.52 Q768.58 1377.36 771.658 1377.36 Q772.098 1377.36 772.631 1377.43 Q773.163 1377.48 773.811 1377.6 L773.834 1381.97 Z\" fill=\"#000000\" fill-rule=\"evenodd\" fill-opacity=\"1\" /><path clip-path=\"url(#clip070)\" d=\"M799.436 1389.89 L799.436 1391.97 L779.853 1391.97 Q780.131 1396.37 782.492 1398.68 Q784.876 1400.97 789.112 1400.97 Q791.566 1400.97 793.857 1400.37 Q796.172 1399.77 798.441 1398.57 L798.441 1402.59 Q796.149 1403.57 793.742 1404.08 Q791.334 1404.59 788.857 1404.59 Q782.654 1404.59 779.019 1400.97 Q775.408 1397.36 775.408 1391.21 Q775.408 1384.84 778.834 1381.11 Q782.283 1377.36 788.117 1377.36 Q793.348 1377.36 796.38 1380.74 Q799.436 1384.1 799.436 1389.89 M795.177 1388.64 Q795.13 1385.14 793.209 1383.06 Q791.311 1380.97 788.163 1380.97 Q784.598 1380.97 782.445 1382.99 Q780.316 1385 779.992 1388.66 L795.177 1388.64 Z\" fill=\"#000000\" fill-rule=\"evenodd\" fill-opacity=\"1\" /><path clip-path=\"url(#clip070)\" d=\"M841.681 1382.97 Q843.278 1380.1 845.501 1378.73 Q847.723 1377.36 850.732 1377.36 Q854.783 1377.36 856.982 1380.21 Q859.181 1383.03 859.181 1388.27 L859.181 1403.91 L854.899 1403.91 L854.899 1388.41 Q854.899 1384.68 853.579 1382.87 Q852.26 1381.07 849.551 1381.07 Q846.241 1381.07 844.32 1383.27 Q842.399 1385.47 842.399 1389.26 L842.399 1403.91 L838.116 1403.91 L838.116 1388.41 Q838.116 1384.66 836.797 1382.87 Q835.477 1381.07 832.723 1381.07 Q829.459 1381.07 827.538 1383.29 Q825.616 1385.49 825.616 1389.26 L825.616 1403.91 L821.334 1403.91 L821.334 1377.99 L825.616 1377.99 L825.616 1382.02 Q827.075 1379.63 829.112 1378.5 Q831.149 1377.36 833.95 1377.36 Q836.774 1377.36 838.741 1378.8 Q840.732 1380.23 841.681 1382.97 Z\" fill=\"#000000\" fill-rule=\"evenodd\" fill-opacity=\"1\" /><path clip-path=\"url(#clip070)\" d=\"M879.459 1390.88 Q874.297 1390.88 872.306 1392.06 Q870.315 1393.24 870.315 1396.09 Q870.315 1398.36 871.797 1399.7 Q873.301 1401.02 875.871 1401.02 Q879.412 1401.02 881.542 1398.52 Q883.695 1396 883.695 1391.83 L883.695 1390.88 L879.459 1390.88 M887.954 1389.12 L887.954 1403.91 L883.695 1403.91 L883.695 1399.98 Q882.237 1402.34 880.061 1403.47 Q877.885 1404.59 874.737 1404.59 Q870.755 1404.59 868.394 1402.36 Q866.056 1400.12 866.056 1396.37 Q866.056 1391.99 868.973 1389.77 Q871.912 1387.55 877.723 1387.55 L883.695 1387.55 L883.695 1387.13 Q883.695 1384.19 881.75 1382.6 Q879.829 1380.97 876.334 1380.97 Q874.112 1380.97 872.005 1381.51 Q869.899 1382.04 867.954 1383.1 L867.954 1379.17 Q870.292 1378.27 872.491 1377.83 Q874.69 1377.36 876.774 1377.36 Q882.399 1377.36 885.176 1380.28 Q887.954 1383.2 887.954 1389.12 Z\" fill=\"#000000\" fill-rule=\"evenodd\" fill-opacity=\"1\" /><path clip-path=\"url(#clip070)\" d=\"M918.278 1377.99 L908.903 1390.6 L918.764 1403.91 L913.741 1403.91 L906.195 1393.73 L898.648 1403.91 L893.625 1403.91 L903.695 1390.35 L894.482 1377.99 L899.505 1377.99 L906.38 1387.22 L913.255 1377.99 L918.278 1377.99 Z\" fill=\"#000000\" fill-rule=\"evenodd\" fill-opacity=\"1\" /></svg>\n"
      ]
     },
     "execution_count": 60,
     "metadata": {},
     "output_type": "execute_result"
    }
   ],
   "source": [
    "plot(1:11, Jantempmax, label=\"Jan Temperature max\", legend=:bottomleft)"
   ]
  },
  {
   "cell_type": "markdown",
   "id": "bcfc44f6",
   "metadata": {},
   "source": [
    "# Now we do this for Jan average temperature 1922-1932 \n"
   ]
  },
  {
   "cell_type": "code",
   "execution_count": 61,
   "id": "ef9b050e",
   "metadata": {},
   "outputs": [
    {
     "data": {
      "text/plain": [
       "11-element Vector{Any}:\n",
       " 22.85\n",
       " 25.65\n",
       " 25.65\n",
       " 23.65\n",
       " 28.95\n",
       " 22.6\n",
       " 30.9\n",
       " 13.95\n",
       " 22.3\n",
       " 31.05\n",
       " 33.0"
      ]
     },
     "execution_count": 61,
     "metadata": {},
     "output_type": "execute_result"
    }
   ],
   "source": [
    "Jantempaverage=B[2:12,6]"
   ]
  },
  {
   "cell_type": "code",
   "execution_count": 62,
   "id": "664423a8",
   "metadata": {},
   "outputs": [
    {
     "data": {
      "image/svg+xml": [
       "<?xml version=\"1.0\" encoding=\"utf-8\"?>\n",
       "<svg xmlns=\"http://www.w3.org/2000/svg\" xmlns:xlink=\"http://www.w3.org/1999/xlink\" width=\"600\" height=\"400\" viewBox=\"0 0 2400 1600\">\n",
       "<defs>\n",
       "  <clipPath id=\"clip110\">\n",
       "    <rect x=\"0\" y=\"0\" width=\"2400\" height=\"1600\"/>\n",
       "  </clipPath>\n",
       "</defs>\n",
       "<path clip-path=\"url(#clip110)\" d=\"\n",
       "M0 1600 L2400 1600 L2400 0 L0 0  Z\n",
       "  \" fill=\"#ffffff\" fill-rule=\"evenodd\" fill-opacity=\"1\"/>\n",
       "<defs>\n",
       "  <clipPath id=\"clip111\">\n",
       "    <rect x=\"480\" y=\"0\" width=\"1681\" height=\"1600\"/>\n",
       "  </clipPath>\n",
       "</defs>\n",
       "<path clip-path=\"url(#clip110)\" d=\"\n",
       "M140.696 1486.45 L2352.76 1486.45 L2352.76 47.2441 L140.696 47.2441  Z\n",
       "  \" fill=\"#ffffff\" fill-rule=\"evenodd\" fill-opacity=\"1\"/>\n",
       "<defs>\n",
       "  <clipPath id=\"clip112\">\n",
       "    <rect x=\"140\" y=\"47\" width=\"2213\" height=\"1440\"/>\n",
       "  </clipPath>\n",
       "</defs>\n",
       "<polyline clip-path=\"url(#clip112)\" style=\"stroke:#000000; stroke-linecap:round; stroke-linejoin:round; stroke-width:2; stroke-opacity:0.1; fill:none\" points=\"\n",
       "  411.986,1486.45 411.986,47.2441 \n",
       "  \"/>\n",
       "<polyline clip-path=\"url(#clip112)\" style=\"stroke:#000000; stroke-linecap:round; stroke-linejoin:round; stroke-width:2; stroke-opacity:0.1; fill:none\" points=\"\n",
       "  829.356,1486.45 829.356,47.2441 \n",
       "  \"/>\n",
       "<polyline clip-path=\"url(#clip112)\" style=\"stroke:#000000; stroke-linecap:round; stroke-linejoin:round; stroke-width:2; stroke-opacity:0.1; fill:none\" points=\"\n",
       "  1246.73,1486.45 1246.73,47.2441 \n",
       "  \"/>\n",
       "<polyline clip-path=\"url(#clip112)\" style=\"stroke:#000000; stroke-linecap:round; stroke-linejoin:round; stroke-width:2; stroke-opacity:0.1; fill:none\" points=\"\n",
       "  1664.1,1486.45 1664.1,47.2441 \n",
       "  \"/>\n",
       "<polyline clip-path=\"url(#clip112)\" style=\"stroke:#000000; stroke-linecap:round; stroke-linejoin:round; stroke-width:2; stroke-opacity:0.1; fill:none\" points=\"\n",
       "  2081.47,1486.45 2081.47,47.2441 \n",
       "  \"/>\n",
       "<polyline clip-path=\"url(#clip110)\" style=\"stroke:#000000; stroke-linecap:round; stroke-linejoin:round; stroke-width:4; stroke-opacity:1; fill:none\" points=\"\n",
       "  140.696,1486.45 2352.76,1486.45 \n",
       "  \"/>\n",
       "<polyline clip-path=\"url(#clip110)\" style=\"stroke:#000000; stroke-linecap:round; stroke-linejoin:round; stroke-width:4; stroke-opacity:1; fill:none\" points=\"\n",
       "  411.986,1486.45 411.986,1467.55 \n",
       "  \"/>\n",
       "<polyline clip-path=\"url(#clip110)\" style=\"stroke:#000000; stroke-linecap:round; stroke-linejoin:round; stroke-width:4; stroke-opacity:1; fill:none\" points=\"\n",
       "  829.356,1486.45 829.356,1467.55 \n",
       "  \"/>\n",
       "<polyline clip-path=\"url(#clip110)\" style=\"stroke:#000000; stroke-linecap:round; stroke-linejoin:round; stroke-width:4; stroke-opacity:1; fill:none\" points=\"\n",
       "  1246.73,1486.45 1246.73,1467.55 \n",
       "  \"/>\n",
       "<polyline clip-path=\"url(#clip110)\" style=\"stroke:#000000; stroke-linecap:round; stroke-linejoin:round; stroke-width:4; stroke-opacity:1; fill:none\" points=\"\n",
       "  1664.1,1486.45 1664.1,1467.55 \n",
       "  \"/>\n",
       "<polyline clip-path=\"url(#clip110)\" style=\"stroke:#000000; stroke-linecap:round; stroke-linejoin:round; stroke-width:4; stroke-opacity:1; fill:none\" points=\"\n",
       "  2081.47,1486.45 2081.47,1467.55 \n",
       "  \"/>\n",
       "<path clip-path=\"url(#clip110)\" d=\"M406.639 1544.91 L422.958 1544.91 L422.958 1548.85 L401.014 1548.85 L401.014 1544.91 Q403.676 1542.16 408.259 1537.53 Q412.866 1532.88 414.046 1531.53 Q416.291 1529.01 417.171 1527.27 Q418.074 1525.51 418.074 1523.82 Q418.074 1521.07 416.129 1519.33 Q414.208 1517.6 411.106 1517.6 Q408.907 1517.6 406.454 1518.36 Q404.023 1519.13 401.245 1520.68 L401.245 1515.95 Q404.069 1514.82 406.523 1514.24 Q408.977 1513.66 411.014 1513.66 Q416.384 1513.66 419.579 1516.35 Q422.773 1519.03 422.773 1523.52 Q422.773 1525.65 421.963 1527.57 Q421.176 1529.47 419.069 1532.07 Q418.491 1532.74 415.389 1535.95 Q412.287 1539.15 406.639 1544.91 Z\" fill=\"#000000\" fill-rule=\"evenodd\" fill-opacity=\"1\" /><path clip-path=\"url(#clip110)\" d=\"M832.365 1518.36 L820.56 1536.81 L832.365 1536.81 L832.365 1518.36 M831.138 1514.29 L837.018 1514.29 L837.018 1536.81 L841.948 1536.81 L841.948 1540.7 L837.018 1540.7 L837.018 1548.85 L832.365 1548.85 L832.365 1540.7 L816.763 1540.7 L816.763 1536.19 L831.138 1514.29 Z\" fill=\"#000000\" fill-rule=\"evenodd\" fill-opacity=\"1\" /><path clip-path=\"url(#clip110)\" d=\"M1247.13 1529.7 Q1243.98 1529.7 1242.13 1531.86 Q1240.3 1534.01 1240.3 1537.76 Q1240.3 1541.49 1242.13 1543.66 Q1243.98 1545.82 1247.13 1545.82 Q1250.28 1545.82 1252.11 1543.66 Q1253.96 1541.49 1253.96 1537.76 Q1253.96 1534.01 1252.11 1531.86 Q1250.28 1529.7 1247.13 1529.7 M1256.41 1515.05 L1256.41 1519.31 Q1254.65 1518.48 1252.85 1518.04 Q1251.07 1517.6 1249.31 1517.6 Q1244.68 1517.6 1242.22 1520.72 Q1239.79 1523.85 1239.45 1530.17 Q1240.81 1528.15 1242.87 1527.09 Q1244.93 1526 1247.41 1526 Q1252.62 1526 1255.63 1529.17 Q1258.66 1532.32 1258.66 1537.76 Q1258.66 1543.08 1255.51 1546.3 Q1252.36 1549.52 1247.13 1549.52 Q1241.14 1549.52 1237.96 1544.94 Q1234.79 1540.33 1234.79 1531.6 Q1234.79 1523.41 1238.68 1518.55 Q1242.57 1513.66 1249.12 1513.66 Q1250.88 1513.66 1252.66 1514.01 Q1254.47 1514.36 1256.41 1515.05 Z\" fill=\"#000000\" fill-rule=\"evenodd\" fill-opacity=\"1\" /><path clip-path=\"url(#clip110)\" d=\"M1664.1 1532.44 Q1660.76 1532.44 1658.84 1534.22 Q1656.94 1536 1656.94 1539.13 Q1656.94 1542.25 1658.84 1544.03 Q1660.76 1545.82 1664.1 1545.82 Q1667.43 1545.82 1669.35 1544.03 Q1671.27 1542.23 1671.27 1539.13 Q1671.27 1536 1669.35 1534.22 Q1667.45 1532.44 1664.1 1532.44 M1659.42 1530.45 Q1656.41 1529.7 1654.72 1527.64 Q1653.05 1525.58 1653.05 1522.62 Q1653.05 1518.48 1655.99 1516.07 Q1658.96 1513.66 1664.1 1513.66 Q1669.26 1513.66 1672.2 1516.07 Q1675.14 1518.48 1675.14 1522.62 Q1675.14 1525.58 1673.45 1527.64 Q1671.78 1529.7 1668.79 1530.45 Q1672.17 1531.23 1674.05 1533.52 Q1675.95 1535.82 1675.95 1539.13 Q1675.95 1544.15 1672.87 1546.83 Q1669.81 1549.52 1664.1 1549.52 Q1658.38 1549.52 1655.3 1546.83 Q1652.24 1544.15 1652.24 1539.13 Q1652.24 1535.82 1654.14 1533.52 Q1656.04 1531.23 1659.42 1530.45 M1657.71 1523.06 Q1657.71 1525.75 1659.37 1527.25 Q1661.06 1528.76 1664.1 1528.76 Q1667.1 1528.76 1668.79 1527.25 Q1670.51 1525.75 1670.51 1523.06 Q1670.51 1520.38 1668.79 1518.87 Q1667.1 1517.37 1664.1 1517.37 Q1661.06 1517.37 1659.37 1518.87 Q1657.71 1520.38 1657.71 1523.06 Z\" fill=\"#000000\" fill-rule=\"evenodd\" fill-opacity=\"1\" /><path clip-path=\"url(#clip110)\" d=\"M2056.15 1544.91 L2063.79 1544.91 L2063.79 1518.55 L2055.48 1520.21 L2055.48 1515.95 L2063.75 1514.29 L2068.42 1514.29 L2068.42 1544.91 L2076.06 1544.91 L2076.06 1548.85 L2056.15 1548.85 L2056.15 1544.91 Z\" fill=\"#000000\" fill-rule=\"evenodd\" fill-opacity=\"1\" /><path clip-path=\"url(#clip110)\" d=\"M2095.5 1517.37 Q2091.89 1517.37 2090.06 1520.93 Q2088.26 1524.47 2088.26 1531.6 Q2088.26 1538.71 2090.06 1542.27 Q2091.89 1545.82 2095.5 1545.82 Q2099.14 1545.82 2100.94 1542.27 Q2102.77 1538.71 2102.77 1531.6 Q2102.77 1524.47 2100.94 1520.93 Q2099.14 1517.37 2095.5 1517.37 M2095.5 1513.66 Q2101.31 1513.66 2104.37 1518.27 Q2107.45 1522.85 2107.45 1531.6 Q2107.45 1540.33 2104.37 1544.94 Q2101.31 1549.52 2095.5 1549.52 Q2089.69 1549.52 2086.62 1544.94 Q2083.56 1540.33 2083.56 1531.6 Q2083.56 1522.85 2086.62 1518.27 Q2089.69 1513.66 2095.5 1513.66 Z\" fill=\"#000000\" fill-rule=\"evenodd\" fill-opacity=\"1\" /><polyline clip-path=\"url(#clip112)\" style=\"stroke:#000000; stroke-linecap:round; stroke-linejoin:round; stroke-width:2; stroke-opacity:0.1; fill:none\" points=\"\n",
       "  140.696,1370.88 2352.76,1370.88 \n",
       "  \"/>\n",
       "<polyline clip-path=\"url(#clip112)\" style=\"stroke:#000000; stroke-linecap:round; stroke-linejoin:round; stroke-width:2; stroke-opacity:0.1; fill:none\" points=\"\n",
       "  140.696,1014.52 2352.76,1014.52 \n",
       "  \"/>\n",
       "<polyline clip-path=\"url(#clip112)\" style=\"stroke:#000000; stroke-linecap:round; stroke-linejoin:round; stroke-width:2; stroke-opacity:0.1; fill:none\" points=\"\n",
       "  140.696,658.156 2352.76,658.156 \n",
       "  \"/>\n",
       "<polyline clip-path=\"url(#clip112)\" style=\"stroke:#000000; stroke-linecap:round; stroke-linejoin:round; stroke-width:2; stroke-opacity:0.1; fill:none\" points=\"\n",
       "  140.696,301.794 2352.76,301.794 \n",
       "  \"/>\n",
       "<polyline clip-path=\"url(#clip110)\" style=\"stroke:#000000; stroke-linecap:round; stroke-linejoin:round; stroke-width:4; stroke-opacity:1; fill:none\" points=\"\n",
       "  140.696,1486.45 140.696,47.2441 \n",
       "  \"/>\n",
       "<polyline clip-path=\"url(#clip110)\" style=\"stroke:#000000; stroke-linecap:round; stroke-linejoin:round; stroke-width:4; stroke-opacity:1; fill:none\" points=\"\n",
       "  140.696,1370.88 159.593,1370.88 \n",
       "  \"/>\n",
       "<polyline clip-path=\"url(#clip110)\" style=\"stroke:#000000; stroke-linecap:round; stroke-linejoin:round; stroke-width:4; stroke-opacity:1; fill:none\" points=\"\n",
       "  140.696,1014.52 159.593,1014.52 \n",
       "  \"/>\n",
       "<polyline clip-path=\"url(#clip110)\" style=\"stroke:#000000; stroke-linecap:round; stroke-linejoin:round; stroke-width:4; stroke-opacity:1; fill:none\" points=\"\n",
       "  140.696,658.156 159.593,658.156 \n",
       "  \"/>\n",
       "<polyline clip-path=\"url(#clip110)\" style=\"stroke:#000000; stroke-linecap:round; stroke-linejoin:round; stroke-width:4; stroke-opacity:1; fill:none\" points=\"\n",
       "  140.696,301.794 159.593,301.794 \n",
       "  \"/>\n",
       "<path clip-path=\"url(#clip110)\" d=\"M54.3949 1384.22 L62.0337 1384.22 L62.0337 1357.86 L53.7236 1359.53 L53.7236 1355.27 L61.9874 1353.6 L66.6633 1353.6 L66.6633 1384.22 L74.3022 1384.22 L74.3022 1388.16 L54.3949 1388.16 L54.3949 1384.22 Z\" fill=\"#000000\" fill-rule=\"evenodd\" fill-opacity=\"1\" /><path clip-path=\"url(#clip110)\" d=\"M83.7929 1353.6 L102.149 1353.6 L102.149 1357.53 L88.0753 1357.53 L88.0753 1366.01 Q89.0938 1365.66 90.1123 1365.5 Q91.1308 1365.31 92.1493 1365.31 Q97.9363 1365.31 101.316 1368.48 Q104.696 1371.66 104.696 1377.07 Q104.696 1382.65 101.223 1385.75 Q97.7511 1388.83 91.4317 1388.83 Q89.2558 1388.83 86.9873 1388.46 Q84.7419 1388.09 82.3346 1387.35 L82.3346 1382.65 Q84.4179 1383.78 86.6401 1384.34 Q88.8623 1384.9 91.3391 1384.9 Q95.3437 1384.9 97.6817 1382.79 Q100.02 1380.68 100.02 1377.07 Q100.02 1373.46 97.6817 1371.35 Q95.3437 1369.25 91.3391 1369.25 Q89.4641 1369.25 87.5892 1369.66 Q85.7373 1370.08 83.7929 1370.96 L83.7929 1353.6 Z\" fill=\"#000000\" fill-rule=\"evenodd\" fill-opacity=\"1\" /><path clip-path=\"url(#clip110)\" d=\"M56.6171 1027.86 L72.9365 1027.86 L72.9365 1031.8 L50.9921 1031.8 L50.9921 1027.86 Q53.6541 1025.11 58.2375 1020.48 Q62.8439 1015.83 64.0245 1014.48 Q66.2698 1011.96 67.1494 1010.22 Q68.0522 1008.46 68.0522 1006.77 Q68.0522 1004.02 66.1078 1002.28 Q64.1865 1000.55 61.0847 1000.55 Q58.8856 1000.55 56.4319 1001.31 Q54.0014 1002.08 51.2236 1003.63 L51.2236 998.904 Q54.0477 997.77 56.5014 997.191 Q58.955 996.613 60.9921 996.613 Q66.3624 996.613 69.5568 999.298 Q72.7513 1001.98 72.7513 1006.47 Q72.7513 1008.6 71.9411 1010.52 Q71.1541 1012.42 69.0476 1015.02 Q68.4689 1015.69 65.367 1018.9 Q62.2652 1022.1 56.6171 1027.86 Z\" fill=\"#000000\" fill-rule=\"evenodd\" fill-opacity=\"1\" /><path clip-path=\"url(#clip110)\" d=\"M92.7512 1000.32 Q89.1401 1000.32 87.3114 1003.88 Q85.5058 1007.42 85.5058 1014.55 Q85.5058 1021.66 87.3114 1025.22 Q89.1401 1028.77 92.7512 1028.77 Q96.3854 1028.77 98.1909 1025.22 Q100.02 1021.66 100.02 1014.55 Q100.02 1007.42 98.1909 1003.88 Q96.3854 1000.32 92.7512 1000.32 M92.7512 996.613 Q98.5613 996.613 101.617 1001.22 Q104.696 1005.8 104.696 1014.55 Q104.696 1023.28 101.617 1027.89 Q98.5613 1032.47 92.7512 1032.47 Q86.941 1032.47 83.8623 1027.89 Q80.8068 1023.28 80.8068 1014.55 Q80.8068 1005.8 83.8623 1001.22 Q86.941 996.613 92.7512 996.613 Z\" fill=\"#000000\" fill-rule=\"evenodd\" fill-opacity=\"1\" /><path clip-path=\"url(#clip110)\" d=\"M57.6125 671.5 L73.9318 671.5 L73.9318 675.436 L51.9875 675.436 L51.9875 671.5 Q54.6495 668.746 59.2328 664.116 Q63.8393 659.463 65.0198 658.121 Q67.2652 655.598 68.1448 653.862 Q69.0476 652.102 69.0476 650.413 Q69.0476 647.658 67.1032 645.922 Q65.1819 644.186 62.08 644.186 Q59.881 644.186 57.4273 644.95 Q54.9967 645.713 52.219 647.264 L52.219 642.542 Q55.043 641.408 57.4967 640.829 Q59.9504 640.251 61.9874 640.251 Q67.3578 640.251 70.5522 642.936 Q73.7466 645.621 73.7466 650.112 Q73.7466 652.241 72.9365 654.163 Q72.1494 656.061 70.0429 658.653 Q69.4642 659.325 66.3624 662.542 Q63.2606 665.737 57.6125 671.5 Z\" fill=\"#000000\" fill-rule=\"evenodd\" fill-opacity=\"1\" /><path clip-path=\"url(#clip110)\" d=\"M83.7929 640.876 L102.149 640.876 L102.149 644.811 L88.0753 644.811 L88.0753 653.283 Q89.0938 652.936 90.1123 652.774 Q91.1308 652.588 92.1493 652.588 Q97.9363 652.588 101.316 655.76 Q104.696 658.931 104.696 664.348 Q104.696 669.926 101.223 673.028 Q97.7511 676.107 91.4317 676.107 Q89.2558 676.107 86.9873 675.736 Q84.7419 675.366 82.3346 674.625 L82.3346 669.926 Q84.4179 671.061 86.6401 671.616 Q88.8623 672.172 91.3391 672.172 Q95.3437 672.172 97.6817 670.065 Q100.02 667.959 100.02 664.348 Q100.02 660.737 97.6817 658.63 Q95.3437 656.524 91.3391 656.524 Q89.4641 656.524 87.5892 656.94 Q85.7373 657.357 83.7929 658.237 L83.7929 640.876 Z\" fill=\"#000000\" fill-rule=\"evenodd\" fill-opacity=\"1\" /><path clip-path=\"url(#clip110)\" d=\"M66.7559 300.439 Q70.1124 301.157 71.9874 303.425 Q73.8855 305.694 73.8855 309.027 Q73.8855 314.143 70.367 316.944 Q66.8485 319.745 60.3671 319.745 Q58.1912 319.745 55.8764 319.305 Q53.5847 318.888 51.131 318.032 L51.131 313.518 Q53.0754 314.652 55.3903 315.231 Q57.7051 315.81 60.2282 315.81 Q64.6263 315.81 66.918 314.074 Q69.2328 312.337 69.2328 309.027 Q69.2328 305.972 67.08 304.259 Q64.9504 302.523 61.131 302.523 L57.1032 302.523 L57.1032 298.68 L61.3161 298.68 Q64.7652 298.68 66.5939 297.314 Q68.4226 295.925 68.4226 293.333 Q68.4226 290.671 66.5245 289.259 Q64.6495 287.824 61.131 287.824 Q59.2097 287.824 57.0106 288.24 Q54.8115 288.657 52.1727 289.537 L52.1727 285.37 Q54.8347 284.629 57.1495 284.259 Q59.4875 283.889 61.5476 283.889 Q66.8717 283.889 69.9735 286.319 Q73.0753 288.726 73.0753 292.847 Q73.0753 295.717 71.4318 297.708 Q69.7883 299.675 66.7559 300.439 Z\" fill=\"#000000\" fill-rule=\"evenodd\" fill-opacity=\"1\" /><path clip-path=\"url(#clip110)\" d=\"M92.7512 287.592 Q89.1401 287.592 87.3114 291.157 Q85.5058 294.699 85.5058 301.828 Q85.5058 308.935 87.3114 312.499 Q89.1401 316.041 92.7512 316.041 Q96.3854 316.041 98.1909 312.499 Q100.02 308.935 100.02 301.828 Q100.02 294.699 98.1909 291.157 Q96.3854 287.592 92.7512 287.592 M92.7512 283.889 Q98.5613 283.889 101.617 288.495 Q104.696 293.078 104.696 301.828 Q104.696 310.555 101.617 315.161 Q98.5613 319.745 92.7512 319.745 Q86.941 319.745 83.8623 315.161 Q80.8068 310.555 80.8068 301.828 Q80.8068 293.078 83.8623 288.495 Q86.941 283.889 92.7512 283.889 Z\" fill=\"#000000\" fill-rule=\"evenodd\" fill-opacity=\"1\" /><polyline clip-path=\"url(#clip112)\" style=\"stroke:#009af9; stroke-linecap:round; stroke-linejoin:round; stroke-width:4; stroke-opacity:1; fill:none\" points=\"\n",
       "  203.301,811.391 411.986,611.828 620.671,611.828 829.356,754.373 1038.04,376.63 1246.73,829.209 1455.41,237.648 1664.1,1445.72 1872.78,850.591 2081.47,226.957 \n",
       "  2290.15,87.9763 \n",
       "  \"/>\n",
       "<path clip-path=\"url(#clip110)\" d=\"\n",
       "M214.431 1438.47 L1033.16 1438.47 L1033.16 1334.79 L214.431 1334.79  Z\n",
       "  \" fill=\"#ffffff\" fill-rule=\"evenodd\" fill-opacity=\"1\"/>\n",
       "<polyline clip-path=\"url(#clip110)\" style=\"stroke:#000000; stroke-linecap:round; stroke-linejoin:round; stroke-width:4; stroke-opacity:1; fill:none\" points=\"\n",
       "  214.431,1438.47 1033.16,1438.47 1033.16,1334.79 214.431,1334.79 214.431,1438.47 \n",
       "  \"/>\n",
       "<polyline clip-path=\"url(#clip110)\" style=\"stroke:#009af9; stroke-linecap:round; stroke-linejoin:round; stroke-width:4; stroke-opacity:1; fill:none\" points=\"\n",
       "  239.009,1386.63 386.48,1386.63 \n",
       "  \"/>\n",
       "<path clip-path=\"url(#clip110)\" d=\"M418.165 1369.35 L422.841 1369.35 L422.841 1401.51 Q422.841 1407.76 420.457 1410.58 Q418.095 1413.41 412.841 1413.41 L411.058 1413.41 L411.058 1409.47 L412.517 1409.47 Q415.619 1409.47 416.892 1407.73 Q418.165 1406 418.165 1401.51 L418.165 1369.35 Z\" fill=\"#000000\" fill-rule=\"evenodd\" fill-opacity=\"1\" /><path clip-path=\"url(#clip110)\" d=\"M443.743 1390.88 Q438.581 1390.88 436.591 1392.06 Q434.6 1393.24 434.6 1396.09 Q434.6 1398.36 436.081 1399.7 Q437.586 1401.02 440.156 1401.02 Q443.697 1401.02 445.827 1398.52 Q447.98 1396 447.98 1391.83 L447.98 1390.88 L443.743 1390.88 M452.239 1389.12 L452.239 1403.91 L447.98 1403.91 L447.98 1399.98 Q446.521 1402.34 444.345 1403.47 Q442.169 1404.59 439.021 1404.59 Q435.04 1404.59 432.679 1402.36 Q430.341 1400.12 430.341 1396.37 Q430.341 1391.99 433.257 1389.77 Q436.197 1387.55 442.007 1387.55 L447.98 1387.55 L447.98 1387.13 Q447.98 1384.19 446.035 1382.6 Q444.114 1380.97 440.619 1380.97 Q438.396 1380.97 436.29 1381.51 Q434.183 1382.04 432.239 1383.1 L432.239 1379.17 Q434.577 1378.27 436.776 1377.83 Q438.975 1377.36 441.058 1377.36 Q446.683 1377.36 449.461 1380.28 Q452.239 1383.2 452.239 1389.12 Z\" fill=\"#000000\" fill-rule=\"evenodd\" fill-opacity=\"1\" /><path clip-path=\"url(#clip110)\" d=\"M482.563 1388.27 L482.563 1403.91 L478.303 1403.91 L478.303 1388.41 Q478.303 1384.72 476.868 1382.9 Q475.433 1381.07 472.563 1381.07 Q469.114 1381.07 467.123 1383.27 Q465.132 1385.47 465.132 1389.26 L465.132 1403.91 L460.85 1403.91 L460.85 1377.99 L465.132 1377.99 L465.132 1382.02 Q466.66 1379.68 468.72 1378.52 Q470.804 1377.36 473.512 1377.36 Q477.979 1377.36 480.271 1380.14 Q482.563 1382.9 482.563 1388.27 Z\" fill=\"#000000\" fill-rule=\"evenodd\" fill-opacity=\"1\" /><path clip-path=\"url(#clip110)\" d=\"M501.521 1369.35 L530.757 1369.35 L530.757 1373.29 L518.488 1373.29 L518.488 1403.91 L513.789 1403.91 L513.789 1373.29 L501.521 1373.29 L501.521 1369.35 Z\" fill=\"#000000\" fill-rule=\"evenodd\" fill-opacity=\"1\" /><path clip-path=\"url(#clip110)\" d=\"M549.206 1389.89 L549.206 1391.97 L529.623 1391.97 Q529.9 1396.37 532.262 1398.68 Q534.646 1400.97 538.882 1400.97 Q541.336 1400.97 543.627 1400.37 Q545.942 1399.77 548.211 1398.57 L548.211 1402.59 Q545.919 1403.57 543.511 1404.08 Q541.104 1404.59 538.627 1404.59 Q532.424 1404.59 528.789 1400.97 Q525.178 1397.36 525.178 1391.21 Q525.178 1384.84 528.604 1381.11 Q532.053 1377.36 537.886 1377.36 Q543.118 1377.36 546.15 1380.74 Q549.206 1384.1 549.206 1389.89 M544.947 1388.64 Q544.9 1385.14 542.979 1383.06 Q541.081 1380.97 537.933 1380.97 Q534.368 1380.97 532.215 1382.99 Q530.086 1385 529.762 1388.66 L544.947 1388.64 Z\" fill=\"#000000\" fill-rule=\"evenodd\" fill-opacity=\"1\" /><path clip-path=\"url(#clip110)\" d=\"M576.382 1382.97 Q577.979 1380.1 580.201 1378.73 Q582.423 1377.36 585.433 1377.36 Q589.483 1377.36 591.683 1380.21 Q593.882 1383.03 593.882 1388.27 L593.882 1403.91 L589.599 1403.91 L589.599 1388.41 Q589.599 1384.68 588.28 1382.87 Q586.96 1381.07 584.252 1381.07 Q580.942 1381.07 579.021 1383.27 Q577.099 1385.47 577.099 1389.26 L577.099 1403.91 L572.817 1403.91 L572.817 1388.41 Q572.817 1384.66 571.497 1382.87 Q570.178 1381.07 567.423 1381.07 Q564.16 1381.07 562.238 1383.29 Q560.317 1385.49 560.317 1389.26 L560.317 1403.91 L556.035 1403.91 L556.035 1377.99 L560.317 1377.99 L560.317 1382.02 Q561.775 1379.63 563.812 1378.5 Q565.849 1377.36 568.65 1377.36 Q571.474 1377.36 573.442 1378.8 Q575.433 1380.23 576.382 1382.97 Z\" fill=\"#000000\" fill-rule=\"evenodd\" fill-opacity=\"1\" /><path clip-path=\"url(#clip110)\" d=\"M606.497 1400.03 L606.497 1413.78 L602.215 1413.78 L602.215 1377.99 L606.497 1377.99 L606.497 1381.92 Q607.84 1379.61 609.877 1378.5 Q611.937 1377.36 614.784 1377.36 Q619.506 1377.36 622.446 1381.11 Q625.409 1384.86 625.409 1390.97 Q625.409 1397.09 622.446 1400.84 Q619.506 1404.59 614.784 1404.59 Q611.937 1404.59 609.877 1403.47 Q607.84 1402.34 606.497 1400.03 M620.988 1390.97 Q620.988 1386.28 619.043 1383.61 Q617.122 1380.93 613.743 1380.93 Q610.363 1380.93 608.419 1383.61 Q606.497 1386.28 606.497 1390.97 Q606.497 1395.67 608.419 1398.36 Q610.363 1401.02 613.743 1401.02 Q617.122 1401.02 619.043 1398.36 Q620.988 1395.67 620.988 1390.97 Z\" fill=\"#000000\" fill-rule=\"evenodd\" fill-opacity=\"1\" /><path clip-path=\"url(#clip110)\" d=\"M654.645 1389.89 L654.645 1391.97 L635.062 1391.97 Q635.34 1396.37 637.701 1398.68 Q640.085 1400.97 644.321 1400.97 Q646.775 1400.97 649.066 1400.37 Q651.381 1399.77 653.65 1398.57 L653.65 1402.59 Q651.358 1403.57 648.951 1404.08 Q646.543 1404.59 644.066 1404.59 Q637.863 1404.59 634.229 1400.97 Q630.617 1397.36 630.617 1391.21 Q630.617 1384.84 634.043 1381.11 Q637.492 1377.36 643.326 1377.36 Q648.557 1377.36 651.59 1380.74 Q654.645 1384.1 654.645 1389.89 M650.386 1388.64 Q650.34 1385.14 648.418 1383.06 Q646.52 1380.97 643.372 1380.97 Q639.807 1380.97 637.654 1382.99 Q635.525 1385 635.201 1388.66 L650.386 1388.64 Z\" fill=\"#000000\" fill-rule=\"evenodd\" fill-opacity=\"1\" /><path clip-path=\"url(#clip110)\" d=\"M676.659 1381.97 Q675.941 1381.55 675.085 1381.37 Q674.252 1381.16 673.233 1381.16 Q669.622 1381.16 667.677 1383.52 Q665.756 1385.86 665.756 1390.26 L665.756 1403.91 L661.474 1403.91 L661.474 1377.99 L665.756 1377.99 L665.756 1382.02 Q667.099 1379.66 669.252 1378.52 Q671.404 1377.36 674.483 1377.36 Q674.923 1377.36 675.455 1377.43 Q675.988 1377.48 676.636 1377.6 L676.659 1381.97 Z\" fill=\"#000000\" fill-rule=\"evenodd\" fill-opacity=\"1\" /><path clip-path=\"url(#clip110)\" d=\"M692.909 1390.88 Q687.747 1390.88 685.756 1392.06 Q683.765 1393.24 683.765 1396.09 Q683.765 1398.36 685.247 1399.7 Q686.751 1401.02 689.321 1401.02 Q692.863 1401.02 694.992 1398.52 Q697.145 1396 697.145 1391.83 L697.145 1390.88 L692.909 1390.88 M701.404 1389.12 L701.404 1403.91 L697.145 1403.91 L697.145 1399.98 Q695.687 1402.34 693.511 1403.47 Q691.335 1404.59 688.187 1404.59 Q684.205 1404.59 681.844 1402.36 Q679.506 1400.12 679.506 1396.37 Q679.506 1391.99 682.423 1389.77 Q685.363 1387.55 691.173 1387.55 L697.145 1387.55 L697.145 1387.13 Q697.145 1384.19 695.2 1382.6 Q693.279 1380.97 689.784 1380.97 Q687.562 1380.97 685.455 1381.51 Q683.349 1382.04 681.404 1383.1 L681.404 1379.17 Q683.742 1378.27 685.941 1377.83 Q688.14 1377.36 690.224 1377.36 Q695.849 1377.36 698.626 1380.28 Q701.404 1383.2 701.404 1389.12 Z\" fill=\"#000000\" fill-rule=\"evenodd\" fill-opacity=\"1\" /><path clip-path=\"url(#clip110)\" d=\"M714.39 1370.63 L714.39 1377.99 L723.163 1377.99 L723.163 1381.3 L714.39 1381.3 L714.39 1395.37 Q714.39 1398.54 715.247 1399.45 Q716.126 1400.35 718.788 1400.35 L723.163 1400.35 L723.163 1403.91 L718.788 1403.91 Q713.858 1403.91 711.983 1402.09 Q710.108 1400.23 710.108 1395.37 L710.108 1381.3 L706.983 1381.3 L706.983 1377.99 L710.108 1377.99 L710.108 1370.63 L714.39 1370.63 Z\" fill=\"#000000\" fill-rule=\"evenodd\" fill-opacity=\"1\" /><path clip-path=\"url(#clip110)\" d=\"M728.325 1393.68 L728.325 1377.99 L732.585 1377.99 L732.585 1393.52 Q732.585 1397.2 734.02 1399.05 Q735.455 1400.88 738.325 1400.88 Q741.774 1400.88 743.765 1398.68 Q745.779 1396.48 745.779 1392.69 L745.779 1377.99 L750.038 1377.99 L750.038 1403.91 L745.779 1403.91 L745.779 1399.93 Q744.228 1402.29 742.168 1403.45 Q740.131 1404.59 737.422 1404.59 Q732.955 1404.59 730.64 1401.81 Q728.325 1399.03 728.325 1393.68 M739.043 1377.36 L739.043 1377.36 Z\" fill=\"#000000\" fill-rule=\"evenodd\" fill-opacity=\"1\" /><path clip-path=\"url(#clip110)\" d=\"M773.834 1381.97 Q773.117 1381.55 772.26 1381.37 Q771.427 1381.16 770.408 1381.16 Q766.797 1381.16 764.853 1383.52 Q762.932 1385.86 762.932 1390.26 L762.932 1403.91 L758.649 1403.91 L758.649 1377.99 L762.932 1377.99 L762.932 1382.02 Q764.274 1379.66 766.427 1378.52 Q768.58 1377.36 771.658 1377.36 Q772.098 1377.36 772.631 1377.43 Q773.163 1377.48 773.811 1377.6 L773.834 1381.97 Z\" fill=\"#000000\" fill-rule=\"evenodd\" fill-opacity=\"1\" /><path clip-path=\"url(#clip110)\" d=\"M799.436 1389.89 L799.436 1391.97 L779.853 1391.97 Q780.131 1396.37 782.492 1398.68 Q784.876 1400.97 789.112 1400.97 Q791.566 1400.97 793.857 1400.37 Q796.172 1399.77 798.441 1398.57 L798.441 1402.59 Q796.149 1403.57 793.742 1404.08 Q791.334 1404.59 788.857 1404.59 Q782.654 1404.59 779.019 1400.97 Q775.408 1397.36 775.408 1391.21 Q775.408 1384.84 778.834 1381.11 Q782.283 1377.36 788.117 1377.36 Q793.348 1377.36 796.38 1380.74 Q799.436 1384.1 799.436 1389.89 M795.177 1388.64 Q795.13 1385.14 793.209 1383.06 Q791.311 1380.97 788.163 1380.97 Q784.598 1380.97 782.445 1382.99 Q780.316 1385 779.992 1388.66 L795.177 1388.64 Z\" fill=\"#000000\" fill-rule=\"evenodd\" fill-opacity=\"1\" /><path clip-path=\"url(#clip110)\" d=\"M833.278 1390.88 Q828.116 1390.88 826.126 1392.06 Q824.135 1393.24 824.135 1396.09 Q824.135 1398.36 825.616 1399.7 Q827.121 1401.02 829.69 1401.02 Q833.232 1401.02 835.362 1398.52 Q837.515 1396 837.515 1391.83 L837.515 1390.88 L833.278 1390.88 M841.774 1389.12 L841.774 1403.91 L837.515 1403.91 L837.515 1399.98 Q836.056 1402.34 833.88 1403.47 Q831.704 1404.59 828.556 1404.59 Q824.575 1404.59 822.214 1402.36 Q819.876 1400.12 819.876 1396.37 Q819.876 1391.99 822.792 1389.77 Q825.732 1387.55 831.542 1387.55 L837.515 1387.55 L837.515 1387.13 Q837.515 1384.19 835.57 1382.6 Q833.649 1380.97 830.153 1380.97 Q827.931 1380.97 825.825 1381.51 Q823.718 1382.04 821.774 1383.1 L821.774 1379.17 Q824.112 1378.27 826.311 1377.83 Q828.51 1377.36 830.593 1377.36 Q836.218 1377.36 838.996 1380.28 Q841.774 1383.2 841.774 1389.12 Z\" fill=\"#000000\" fill-rule=\"evenodd\" fill-opacity=\"1\" /><path clip-path=\"url(#clip110)\" d=\"M847.491 1377.99 L852.005 1377.99 L860.107 1399.75 L868.209 1377.99 L872.723 1377.99 L863 1403.91 L857.213 1403.91 L847.491 1377.99 Z\" fill=\"#000000\" fill-rule=\"evenodd\" fill-opacity=\"1\" /><path clip-path=\"url(#clip110)\" d=\"M900.778 1389.89 L900.778 1391.97 L881.195 1391.97 Q881.473 1396.37 883.834 1398.68 Q886.218 1400.97 890.454 1400.97 Q892.908 1400.97 895.199 1400.37 Q897.514 1399.77 899.783 1398.57 L899.783 1402.59 Q897.491 1403.57 895.084 1404.08 Q892.676 1404.59 890.199 1404.59 Q883.996 1404.59 880.362 1400.97 Q876.75 1397.36 876.75 1391.21 Q876.75 1384.84 880.176 1381.11 Q883.625 1377.36 889.459 1377.36 Q894.69 1377.36 897.723 1380.74 Q900.778 1384.1 900.778 1389.89 M896.519 1388.64 Q896.473 1385.14 894.551 1383.06 Q892.653 1380.97 889.505 1380.97 Q885.94 1380.97 883.787 1382.99 Q881.658 1385 881.334 1388.66 L896.519 1388.64 Z\" fill=\"#000000\" fill-rule=\"evenodd\" fill-opacity=\"1\" /><path clip-path=\"url(#clip110)\" d=\"M922.792 1381.97 Q922.074 1381.55 921.218 1381.37 Q920.384 1381.16 919.366 1381.16 Q915.755 1381.16 913.81 1383.52 Q911.889 1385.86 911.889 1390.26 L911.889 1403.91 L907.607 1403.91 L907.607 1377.99 L911.889 1377.99 L911.889 1382.02 Q913.232 1379.66 915.384 1378.52 Q917.537 1377.36 920.616 1377.36 Q921.056 1377.36 921.588 1377.43 Q922.121 1377.48 922.769 1377.6 L922.792 1381.97 Z\" fill=\"#000000\" fill-rule=\"evenodd\" fill-opacity=\"1\" /><path clip-path=\"url(#clip110)\" d=\"M939.042 1390.88 Q933.88 1390.88 931.889 1392.06 Q929.898 1393.24 929.898 1396.09 Q929.898 1398.36 931.38 1399.7 Q932.884 1401.02 935.454 1401.02 Q938.995 1401.02 941.125 1398.52 Q943.278 1396 943.278 1391.83 L943.278 1390.88 L939.042 1390.88 M947.537 1389.12 L947.537 1403.91 L943.278 1403.91 L943.278 1399.98 Q941.82 1402.34 939.644 1403.47 Q937.468 1404.59 934.32 1404.59 Q930.338 1404.59 927.977 1402.36 Q925.639 1400.12 925.639 1396.37 Q925.639 1391.99 928.556 1389.77 Q931.496 1387.55 937.306 1387.55 L943.278 1387.55 L943.278 1387.13 Q943.278 1384.19 941.333 1382.6 Q939.412 1380.97 935.917 1380.97 Q933.695 1380.97 931.588 1381.51 Q929.482 1382.04 927.537 1383.1 L927.537 1379.17 Q929.875 1378.27 932.074 1377.83 Q934.273 1377.36 936.357 1377.36 Q941.982 1377.36 944.759 1380.28 Q947.537 1383.2 947.537 1389.12 Z\" fill=\"#000000\" fill-rule=\"evenodd\" fill-opacity=\"1\" /><path clip-path=\"url(#clip110)\" d=\"M973.37 1390.65 Q973.37 1386.02 971.449 1383.47 Q969.551 1380.93 966.102 1380.93 Q962.676 1380.93 960.755 1383.47 Q958.856 1386.02 958.856 1390.65 Q958.856 1395.26 960.755 1397.8 Q962.676 1400.35 966.102 1400.35 Q969.551 1400.35 971.449 1397.8 Q973.37 1395.26 973.37 1390.65 M977.63 1400.7 Q977.63 1407.32 974.69 1410.53 Q971.75 1413.78 965.685 1413.78 Q963.44 1413.78 961.449 1413.43 Q959.458 1413.1 957.583 1412.41 L957.583 1408.27 Q959.458 1409.28 961.287 1409.77 Q963.116 1410.26 965.014 1410.26 Q969.204 1410.26 971.287 1408.06 Q973.37 1405.88 973.37 1401.46 L973.37 1399.35 Q972.051 1401.65 969.991 1402.78 Q967.93 1403.91 965.06 1403.91 Q960.292 1403.91 957.375 1400.28 Q954.458 1396.65 954.458 1390.65 Q954.458 1384.63 957.375 1381 Q960.292 1377.36 965.06 1377.36 Q967.93 1377.36 969.991 1378.5 Q972.051 1379.63 973.37 1381.92 L973.37 1377.99 L977.63 1377.99 L977.63 1400.7 Z\" fill=\"#000000\" fill-rule=\"evenodd\" fill-opacity=\"1\" /><path clip-path=\"url(#clip110)\" d=\"M1008.58 1389.89 L1008.58 1391.97 L988.995 1391.97 Q989.273 1396.37 991.634 1398.68 Q994.018 1400.97 998.254 1400.97 Q1000.71 1400.97 1003 1400.37 Q1005.31 1399.77 1007.58 1398.57 L1007.58 1402.59 Q1005.29 1403.57 1002.88 1404.08 Q1000.48 1404.59 998 1404.59 Q991.796 1404.59 988.162 1400.97 Q984.551 1397.36 984.551 1391.21 Q984.551 1384.84 987.977 1381.11 Q991.426 1377.36 997.259 1377.36 Q1002.49 1377.36 1005.52 1380.74 Q1008.58 1384.1 1008.58 1389.89 M1004.32 1388.64 Q1004.27 1385.14 1002.35 1383.06 Q1000.45 1380.97 997.305 1380.97 Q993.741 1380.97 991.588 1382.99 Q989.458 1385 989.134 1388.66 L1004.32 1388.64 Z\" fill=\"#000000\" fill-rule=\"evenodd\" fill-opacity=\"1\" /></svg>\n"
      ]
     },
     "execution_count": 62,
     "metadata": {},
     "output_type": "execute_result"
    }
   ],
   "source": [
    "plot(1:11, Jantempaverage, label=\"Jan Temperature average\", legend=:bottomleft)"
   ]
  },
  {
   "cell_type": "markdown",
   "id": "88be71df",
   "metadata": {},
   "source": [
    "# Now we do this for 2012-2022 Dec Min average data: "
   ]
  },
  {
   "cell_type": "code",
   "execution_count": 63,
   "id": "8dec487f",
   "metadata": {},
   "outputs": [
    {
     "data": {
      "text/plain": [
       "11-element Vector{Any}:\n",
       " 13.0\n",
       "  4.09\n",
       " 21.545\n",
       " 25.73\n",
       " 22.82\n",
       " -3.28\n",
       " 22.27\n",
       " 28.18\n",
       " 15.64\n",
       " 17.36\n",
       "  9.27"
      ]
     },
     "execution_count": 63,
     "metadata": {},
     "output_type": "execute_result"
    }
   ],
   "source": [
    "Dectempmin=C[2:12,2]"
   ]
  },
  {
   "cell_type": "code",
   "execution_count": 64,
   "id": "551173b1",
   "metadata": {},
   "outputs": [
    {
     "data": {
      "image/svg+xml": [
       "<?xml version=\"1.0\" encoding=\"utf-8\"?>\n",
       "<svg xmlns=\"http://www.w3.org/2000/svg\" xmlns:xlink=\"http://www.w3.org/1999/xlink\" width=\"600\" height=\"400\" viewBox=\"0 0 2400 1600\">\n",
       "<defs>\n",
       "  <clipPath id=\"clip150\">\n",
       "    <rect x=\"0\" y=\"0\" width=\"2400\" height=\"1600\"/>\n",
       "  </clipPath>\n",
       "</defs>\n",
       "<path clip-path=\"url(#clip150)\" d=\"\n",
       "M0 1600 L2400 1600 L2400 0 L0 0  Z\n",
       "  \" fill=\"#ffffff\" fill-rule=\"evenodd\" fill-opacity=\"1\"/>\n",
       "<defs>\n",
       "  <clipPath id=\"clip151\">\n",
       "    <rect x=\"480\" y=\"0\" width=\"1681\" height=\"1600\"/>\n",
       "  </clipPath>\n",
       "</defs>\n",
       "<path clip-path=\"url(#clip150)\" d=\"\n",
       "M140.696 1486.45 L2352.76 1486.45 L2352.76 47.2441 L140.696 47.2441  Z\n",
       "  \" fill=\"#ffffff\" fill-rule=\"evenodd\" fill-opacity=\"1\"/>\n",
       "<defs>\n",
       "  <clipPath id=\"clip152\">\n",
       "    <rect x=\"140\" y=\"47\" width=\"2213\" height=\"1440\"/>\n",
       "  </clipPath>\n",
       "</defs>\n",
       "<polyline clip-path=\"url(#clip152)\" style=\"stroke:#000000; stroke-linecap:round; stroke-linejoin:round; stroke-width:2; stroke-opacity:0.1; fill:none\" points=\"\n",
       "  411.986,1486.45 411.986,47.2441 \n",
       "  \"/>\n",
       "<polyline clip-path=\"url(#clip152)\" style=\"stroke:#000000; stroke-linecap:round; stroke-linejoin:round; stroke-width:2; stroke-opacity:0.1; fill:none\" points=\"\n",
       "  829.356,1486.45 829.356,47.2441 \n",
       "  \"/>\n",
       "<polyline clip-path=\"url(#clip152)\" style=\"stroke:#000000; stroke-linecap:round; stroke-linejoin:round; stroke-width:2; stroke-opacity:0.1; fill:none\" points=\"\n",
       "  1246.73,1486.45 1246.73,47.2441 \n",
       "  \"/>\n",
       "<polyline clip-path=\"url(#clip152)\" style=\"stroke:#000000; stroke-linecap:round; stroke-linejoin:round; stroke-width:2; stroke-opacity:0.1; fill:none\" points=\"\n",
       "  1664.1,1486.45 1664.1,47.2441 \n",
       "  \"/>\n",
       "<polyline clip-path=\"url(#clip152)\" style=\"stroke:#000000; stroke-linecap:round; stroke-linejoin:round; stroke-width:2; stroke-opacity:0.1; fill:none\" points=\"\n",
       "  2081.47,1486.45 2081.47,47.2441 \n",
       "  \"/>\n",
       "<polyline clip-path=\"url(#clip150)\" style=\"stroke:#000000; stroke-linecap:round; stroke-linejoin:round; stroke-width:4; stroke-opacity:1; fill:none\" points=\"\n",
       "  140.696,1486.45 2352.76,1486.45 \n",
       "  \"/>\n",
       "<polyline clip-path=\"url(#clip150)\" style=\"stroke:#000000; stroke-linecap:round; stroke-linejoin:round; stroke-width:4; stroke-opacity:1; fill:none\" points=\"\n",
       "  411.986,1486.45 411.986,1467.55 \n",
       "  \"/>\n",
       "<polyline clip-path=\"url(#clip150)\" style=\"stroke:#000000; stroke-linecap:round; stroke-linejoin:round; stroke-width:4; stroke-opacity:1; fill:none\" points=\"\n",
       "  829.356,1486.45 829.356,1467.55 \n",
       "  \"/>\n",
       "<polyline clip-path=\"url(#clip150)\" style=\"stroke:#000000; stroke-linecap:round; stroke-linejoin:round; stroke-width:4; stroke-opacity:1; fill:none\" points=\"\n",
       "  1246.73,1486.45 1246.73,1467.55 \n",
       "  \"/>\n",
       "<polyline clip-path=\"url(#clip150)\" style=\"stroke:#000000; stroke-linecap:round; stroke-linejoin:round; stroke-width:4; stroke-opacity:1; fill:none\" points=\"\n",
       "  1664.1,1486.45 1664.1,1467.55 \n",
       "  \"/>\n",
       "<polyline clip-path=\"url(#clip150)\" style=\"stroke:#000000; stroke-linecap:round; stroke-linejoin:round; stroke-width:4; stroke-opacity:1; fill:none\" points=\"\n",
       "  2081.47,1486.45 2081.47,1467.55 \n",
       "  \"/>\n",
       "<path clip-path=\"url(#clip150)\" d=\"M406.639 1544.91 L422.958 1544.91 L422.958 1548.85 L401.014 1548.85 L401.014 1544.91 Q403.676 1542.16 408.259 1537.53 Q412.866 1532.88 414.046 1531.53 Q416.291 1529.01 417.171 1527.27 Q418.074 1525.51 418.074 1523.82 Q418.074 1521.07 416.129 1519.33 Q414.208 1517.6 411.106 1517.6 Q408.907 1517.6 406.454 1518.36 Q404.023 1519.13 401.245 1520.68 L401.245 1515.95 Q404.069 1514.82 406.523 1514.24 Q408.977 1513.66 411.014 1513.66 Q416.384 1513.66 419.579 1516.35 Q422.773 1519.03 422.773 1523.52 Q422.773 1525.65 421.963 1527.57 Q421.176 1529.47 419.069 1532.07 Q418.491 1532.74 415.389 1535.95 Q412.287 1539.15 406.639 1544.91 Z\" fill=\"#000000\" fill-rule=\"evenodd\" fill-opacity=\"1\" /><path clip-path=\"url(#clip150)\" d=\"M832.365 1518.36 L820.56 1536.81 L832.365 1536.81 L832.365 1518.36 M831.138 1514.29 L837.018 1514.29 L837.018 1536.81 L841.948 1536.81 L841.948 1540.7 L837.018 1540.7 L837.018 1548.85 L832.365 1548.85 L832.365 1540.7 L816.763 1540.7 L816.763 1536.19 L831.138 1514.29 Z\" fill=\"#000000\" fill-rule=\"evenodd\" fill-opacity=\"1\" /><path clip-path=\"url(#clip150)\" d=\"M1247.13 1529.7 Q1243.98 1529.7 1242.13 1531.86 Q1240.3 1534.01 1240.3 1537.76 Q1240.3 1541.49 1242.13 1543.66 Q1243.98 1545.82 1247.13 1545.82 Q1250.28 1545.82 1252.11 1543.66 Q1253.96 1541.49 1253.96 1537.76 Q1253.96 1534.01 1252.11 1531.86 Q1250.28 1529.7 1247.13 1529.7 M1256.41 1515.05 L1256.41 1519.31 Q1254.65 1518.48 1252.85 1518.04 Q1251.07 1517.6 1249.31 1517.6 Q1244.68 1517.6 1242.22 1520.72 Q1239.79 1523.85 1239.45 1530.17 Q1240.81 1528.15 1242.87 1527.09 Q1244.93 1526 1247.41 1526 Q1252.62 1526 1255.63 1529.17 Q1258.66 1532.32 1258.66 1537.76 Q1258.66 1543.08 1255.51 1546.3 Q1252.36 1549.52 1247.13 1549.52 Q1241.14 1549.52 1237.96 1544.94 Q1234.79 1540.33 1234.79 1531.6 Q1234.79 1523.41 1238.68 1518.55 Q1242.57 1513.66 1249.12 1513.66 Q1250.88 1513.66 1252.66 1514.01 Q1254.47 1514.36 1256.41 1515.05 Z\" fill=\"#000000\" fill-rule=\"evenodd\" fill-opacity=\"1\" /><path clip-path=\"url(#clip150)\" d=\"M1664.1 1532.44 Q1660.76 1532.44 1658.84 1534.22 Q1656.94 1536 1656.94 1539.13 Q1656.94 1542.25 1658.84 1544.03 Q1660.76 1545.82 1664.1 1545.82 Q1667.43 1545.82 1669.35 1544.03 Q1671.27 1542.23 1671.27 1539.13 Q1671.27 1536 1669.35 1534.22 Q1667.45 1532.44 1664.1 1532.44 M1659.42 1530.45 Q1656.41 1529.7 1654.72 1527.64 Q1653.05 1525.58 1653.05 1522.62 Q1653.05 1518.48 1655.99 1516.07 Q1658.96 1513.66 1664.1 1513.66 Q1669.26 1513.66 1672.2 1516.07 Q1675.14 1518.48 1675.14 1522.62 Q1675.14 1525.58 1673.45 1527.64 Q1671.78 1529.7 1668.79 1530.45 Q1672.17 1531.23 1674.05 1533.52 Q1675.95 1535.82 1675.95 1539.13 Q1675.95 1544.15 1672.87 1546.83 Q1669.81 1549.52 1664.1 1549.52 Q1658.38 1549.52 1655.3 1546.83 Q1652.24 1544.15 1652.24 1539.13 Q1652.24 1535.82 1654.14 1533.52 Q1656.04 1531.23 1659.42 1530.45 M1657.71 1523.06 Q1657.71 1525.75 1659.37 1527.25 Q1661.06 1528.76 1664.1 1528.76 Q1667.1 1528.76 1668.79 1527.25 Q1670.51 1525.75 1670.51 1523.06 Q1670.51 1520.38 1668.79 1518.87 Q1667.1 1517.37 1664.1 1517.37 Q1661.06 1517.37 1659.37 1518.87 Q1657.71 1520.38 1657.71 1523.06 Z\" fill=\"#000000\" fill-rule=\"evenodd\" fill-opacity=\"1\" /><path clip-path=\"url(#clip150)\" d=\"M2056.15 1544.91 L2063.79 1544.91 L2063.79 1518.55 L2055.48 1520.21 L2055.48 1515.95 L2063.75 1514.29 L2068.42 1514.29 L2068.42 1544.91 L2076.06 1544.91 L2076.06 1548.85 L2056.15 1548.85 L2056.15 1544.91 Z\" fill=\"#000000\" fill-rule=\"evenodd\" fill-opacity=\"1\" /><path clip-path=\"url(#clip150)\" d=\"M2095.5 1517.37 Q2091.89 1517.37 2090.06 1520.93 Q2088.26 1524.47 2088.26 1531.6 Q2088.26 1538.71 2090.06 1542.27 Q2091.89 1545.82 2095.5 1545.82 Q2099.14 1545.82 2100.94 1542.27 Q2102.77 1538.71 2102.77 1531.6 Q2102.77 1524.47 2100.94 1520.93 Q2099.14 1517.37 2095.5 1517.37 M2095.5 1513.66 Q2101.31 1513.66 2104.37 1518.27 Q2107.45 1522.85 2107.45 1531.6 Q2107.45 1540.33 2104.37 1544.94 Q2101.31 1549.52 2095.5 1549.52 Q2089.69 1549.52 2086.62 1544.94 Q2083.56 1540.33 2083.56 1531.6 Q2083.56 1522.85 2086.62 1518.27 Q2089.69 1513.66 2095.5 1513.66 Z\" fill=\"#000000\" fill-rule=\"evenodd\" fill-opacity=\"1\" /><polyline clip-path=\"url(#clip152)\" style=\"stroke:#000000; stroke-linecap:round; stroke-linejoin:round; stroke-width:2; stroke-opacity:0.1; fill:none\" points=\"\n",
       "  140.696,1304.16 2352.76,1304.16 \n",
       "  \"/>\n",
       "<polyline clip-path=\"url(#clip152)\" style=\"stroke:#000000; stroke-linecap:round; stroke-linejoin:round; stroke-width:2; stroke-opacity:0.1; fill:none\" points=\"\n",
       "  140.696,1088.37 2352.76,1088.37 \n",
       "  \"/>\n",
       "<polyline clip-path=\"url(#clip152)\" style=\"stroke:#000000; stroke-linecap:round; stroke-linejoin:round; stroke-width:2; stroke-opacity:0.1; fill:none\" points=\"\n",
       "  140.696,872.582 2352.76,872.582 \n",
       "  \"/>\n",
       "<polyline clip-path=\"url(#clip152)\" style=\"stroke:#000000; stroke-linecap:round; stroke-linejoin:round; stroke-width:2; stroke-opacity:0.1; fill:none\" points=\"\n",
       "  140.696,656.794 2352.76,656.794 \n",
       "  \"/>\n",
       "<polyline clip-path=\"url(#clip152)\" style=\"stroke:#000000; stroke-linecap:round; stroke-linejoin:round; stroke-width:2; stroke-opacity:0.1; fill:none\" points=\"\n",
       "  140.696,441.006 2352.76,441.006 \n",
       "  \"/>\n",
       "<polyline clip-path=\"url(#clip152)\" style=\"stroke:#000000; stroke-linecap:round; stroke-linejoin:round; stroke-width:2; stroke-opacity:0.1; fill:none\" points=\"\n",
       "  140.696,225.218 2352.76,225.218 \n",
       "  \"/>\n",
       "<polyline clip-path=\"url(#clip150)\" style=\"stroke:#000000; stroke-linecap:round; stroke-linejoin:round; stroke-width:4; stroke-opacity:1; fill:none\" points=\"\n",
       "  140.696,1486.45 140.696,47.2441 \n",
       "  \"/>\n",
       "<polyline clip-path=\"url(#clip150)\" style=\"stroke:#000000; stroke-linecap:round; stroke-linejoin:round; stroke-width:4; stroke-opacity:1; fill:none\" points=\"\n",
       "  140.696,1304.16 159.593,1304.16 \n",
       "  \"/>\n",
       "<polyline clip-path=\"url(#clip150)\" style=\"stroke:#000000; stroke-linecap:round; stroke-linejoin:round; stroke-width:4; stroke-opacity:1; fill:none\" points=\"\n",
       "  140.696,1088.37 159.593,1088.37 \n",
       "  \"/>\n",
       "<polyline clip-path=\"url(#clip150)\" style=\"stroke:#000000; stroke-linecap:round; stroke-linejoin:round; stroke-width:4; stroke-opacity:1; fill:none\" points=\"\n",
       "  140.696,872.582 159.593,872.582 \n",
       "  \"/>\n",
       "<polyline clip-path=\"url(#clip150)\" style=\"stroke:#000000; stroke-linecap:round; stroke-linejoin:round; stroke-width:4; stroke-opacity:1; fill:none\" points=\"\n",
       "  140.696,656.794 159.593,656.794 \n",
       "  \"/>\n",
       "<polyline clip-path=\"url(#clip150)\" style=\"stroke:#000000; stroke-linecap:round; stroke-linejoin:round; stroke-width:4; stroke-opacity:1; fill:none\" points=\"\n",
       "  140.696,441.006 159.593,441.006 \n",
       "  \"/>\n",
       "<polyline clip-path=\"url(#clip150)\" style=\"stroke:#000000; stroke-linecap:round; stroke-linejoin:round; stroke-width:4; stroke-opacity:1; fill:none\" points=\"\n",
       "  140.696,225.218 159.593,225.218 \n",
       "  \"/>\n",
       "<path clip-path=\"url(#clip150)\" d=\"M92.7512 1289.96 Q89.1401 1289.96 87.3114 1293.52 Q85.5058 1297.06 85.5058 1304.19 Q85.5058 1311.3 87.3114 1314.86 Q89.1401 1318.41 92.7512 1318.41 Q96.3854 1318.41 98.1909 1314.86 Q100.02 1311.3 100.02 1304.19 Q100.02 1297.06 98.1909 1293.52 Q96.3854 1289.96 92.7512 1289.96 M92.7512 1286.25 Q98.5613 1286.25 101.617 1290.86 Q104.696 1295.44 104.696 1304.19 Q104.696 1312.92 101.617 1317.53 Q98.5613 1322.11 92.7512 1322.11 Q86.941 1322.11 83.8623 1317.53 Q80.8068 1312.92 80.8068 1304.19 Q80.8068 1295.44 83.8623 1290.86 Q86.941 1286.25 92.7512 1286.25 Z\" fill=\"#000000\" fill-rule=\"evenodd\" fill-opacity=\"1\" /><path clip-path=\"url(#clip150)\" d=\"M83.7929 1071.09 L102.149 1071.09 L102.149 1075.03 L88.0753 1075.03 L88.0753 1083.5 Q89.0938 1083.15 90.1123 1082.99 Q91.1308 1082.8 92.1493 1082.8 Q97.9363 1082.8 101.316 1085.97 Q104.696 1089.15 104.696 1094.56 Q104.696 1100.14 101.223 1103.24 Q97.7511 1106.32 91.4317 1106.32 Q89.2558 1106.32 86.9873 1105.95 Q84.7419 1105.58 82.3346 1104.84 L82.3346 1100.14 Q84.4179 1101.28 86.6401 1101.83 Q88.8623 1102.39 91.3391 1102.39 Q95.3437 1102.39 97.6817 1100.28 Q100.02 1098.17 100.02 1094.56 Q100.02 1090.95 97.6817 1088.84 Q95.3437 1086.74 91.3391 1086.74 Q89.4641 1086.74 87.5892 1087.16 Q85.7373 1087.57 83.7929 1088.45 L83.7929 1071.09 Z\" fill=\"#000000\" fill-rule=\"evenodd\" fill-opacity=\"1\" /><path clip-path=\"url(#clip150)\" d=\"M53.3995 885.927 L61.0384 885.927 L61.0384 859.561 L52.7282 861.228 L52.7282 856.969 L60.9921 855.302 L65.668 855.302 L65.668 885.927 L73.3068 885.927 L73.3068 889.862 L53.3995 889.862 L53.3995 885.927 Z\" fill=\"#000000\" fill-rule=\"evenodd\" fill-opacity=\"1\" /><path clip-path=\"url(#clip150)\" d=\"M92.7512 858.381 Q89.1401 858.381 87.3114 861.946 Q85.5058 865.487 85.5058 872.617 Q85.5058 879.723 87.3114 883.288 Q89.1401 886.83 92.7512 886.83 Q96.3854 886.83 98.1909 883.288 Q100.02 879.723 100.02 872.617 Q100.02 865.487 98.1909 861.946 Q96.3854 858.381 92.7512 858.381 M92.7512 854.677 Q98.5613 854.677 101.617 859.284 Q104.696 863.867 104.696 872.617 Q104.696 881.344 101.617 885.95 Q98.5613 890.533 92.7512 890.533 Q86.941 890.533 83.8623 885.95 Q80.8068 881.344 80.8068 872.617 Q80.8068 863.867 83.8623 859.284 Q86.941 854.677 92.7512 854.677 Z\" fill=\"#000000\" fill-rule=\"evenodd\" fill-opacity=\"1\" /><path clip-path=\"url(#clip150)\" d=\"M54.3949 670.139 L62.0337 670.139 L62.0337 643.773 L53.7236 645.44 L53.7236 641.181 L61.9874 639.514 L66.6633 639.514 L66.6633 670.139 L74.3022 670.139 L74.3022 674.074 L54.3949 674.074 L54.3949 670.139 Z\" fill=\"#000000\" fill-rule=\"evenodd\" fill-opacity=\"1\" /><path clip-path=\"url(#clip150)\" d=\"M83.7929 639.514 L102.149 639.514 L102.149 643.449 L88.0753 643.449 L88.0753 651.921 Q89.0938 651.574 90.1123 651.412 Q91.1308 651.227 92.1493 651.227 Q97.9363 651.227 101.316 654.398 Q104.696 657.569 104.696 662.986 Q104.696 668.565 101.223 671.667 Q97.7511 674.745 91.4317 674.745 Q89.2558 674.745 86.9873 674.375 Q84.7419 674.005 82.3346 673.264 L82.3346 668.565 Q84.4179 669.699 86.6401 670.255 Q88.8623 670.81 91.3391 670.81 Q95.3437 670.81 97.6817 668.704 Q100.02 666.597 100.02 662.986 Q100.02 659.375 97.6817 657.269 Q95.3437 655.162 91.3391 655.162 Q89.4641 655.162 87.5892 655.579 Q85.7373 655.995 83.7929 656.875 L83.7929 639.514 Z\" fill=\"#000000\" fill-rule=\"evenodd\" fill-opacity=\"1\" /><path clip-path=\"url(#clip150)\" d=\"M56.6171 454.351 L72.9365 454.351 L72.9365 458.286 L50.9921 458.286 L50.9921 454.351 Q53.6541 451.596 58.2375 446.966 Q62.8439 442.314 64.0245 440.971 Q66.2698 438.448 67.1494 436.712 Q68.0522 434.953 68.0522 433.263 Q68.0522 430.508 66.1078 428.772 Q64.1865 427.036 61.0847 427.036 Q58.8856 427.036 56.4319 427.8 Q54.0014 428.564 51.2236 430.115 L51.2236 425.392 Q54.0477 424.258 56.5014 423.679 Q58.955 423.101 60.9921 423.101 Q66.3624 423.101 69.5568 425.786 Q72.7513 428.471 72.7513 432.962 Q72.7513 435.091 71.9411 437.013 Q71.1541 438.911 69.0476 441.503 Q68.4689 442.175 65.367 445.392 Q62.2652 448.587 56.6171 454.351 Z\" fill=\"#000000\" fill-rule=\"evenodd\" fill-opacity=\"1\" /><path clip-path=\"url(#clip150)\" d=\"M92.7512 426.804 Q89.1401 426.804 87.3114 430.369 Q85.5058 433.911 85.5058 441.041 Q85.5058 448.147 87.3114 451.712 Q89.1401 455.253 92.7512 455.253 Q96.3854 455.253 98.1909 451.712 Q100.02 448.147 100.02 441.041 Q100.02 433.911 98.1909 430.369 Q96.3854 426.804 92.7512 426.804 M92.7512 423.101 Q98.5613 423.101 101.617 427.707 Q104.696 432.291 104.696 441.041 Q104.696 449.767 101.617 454.374 Q98.5613 458.957 92.7512 458.957 Q86.941 458.957 83.8623 454.374 Q80.8068 449.767 80.8068 441.041 Q80.8068 432.291 83.8623 427.707 Q86.941 423.101 92.7512 423.101 Z\" fill=\"#000000\" fill-rule=\"evenodd\" fill-opacity=\"1\" /><path clip-path=\"url(#clip150)\" d=\"M57.6125 238.562 L73.9318 238.562 L73.9318 242.498 L51.9875 242.498 L51.9875 238.562 Q54.6495 235.808 59.2328 231.178 Q63.8393 226.525 65.0198 225.183 Q67.2652 222.66 68.1448 220.924 Q69.0476 219.164 69.0476 217.475 Q69.0476 214.72 67.1032 212.984 Q65.1819 211.248 62.08 211.248 Q59.881 211.248 57.4273 212.012 Q54.9967 212.776 52.219 214.326 L52.219 209.604 Q55.043 208.47 57.4967 207.891 Q59.9504 207.313 61.9874 207.313 Q67.3578 207.313 70.5522 209.998 Q73.7466 212.683 73.7466 217.174 Q73.7466 219.303 72.9365 221.225 Q72.1494 223.123 70.0429 225.715 Q69.4642 226.387 66.3624 229.604 Q63.2606 232.799 57.6125 238.562 Z\" fill=\"#000000\" fill-rule=\"evenodd\" fill-opacity=\"1\" /><path clip-path=\"url(#clip150)\" d=\"M83.7929 207.938 L102.149 207.938 L102.149 211.873 L88.0753 211.873 L88.0753 220.345 Q89.0938 219.998 90.1123 219.836 Q91.1308 219.65 92.1493 219.65 Q97.9363 219.65 101.316 222.822 Q104.696 225.993 104.696 231.41 Q104.696 236.988 101.223 240.09 Q97.7511 243.169 91.4317 243.169 Q89.2558 243.169 86.9873 242.799 Q84.7419 242.428 82.3346 241.687 L82.3346 236.988 Q84.4179 238.123 86.6401 238.678 Q88.8623 239.234 91.3391 239.234 Q95.3437 239.234 97.6817 237.127 Q100.02 235.021 100.02 231.41 Q100.02 227.799 97.6817 225.692 Q95.3437 223.586 91.3391 223.586 Q89.4641 223.586 87.5892 224.002 Q85.7373 224.419 83.7929 225.299 L83.7929 207.938 Z\" fill=\"#000000\" fill-rule=\"evenodd\" fill-opacity=\"1\" /><polyline clip-path=\"url(#clip152)\" style=\"stroke:#009af9; stroke-linecap:round; stroke-linejoin:round; stroke-width:4; stroke-opacity:1; fill:none\" points=\"\n",
       "  203.301,743.109 411.986,1127.64 620.671,374.327 829.356,193.712 1038.04,319.301 1246.73,1445.72 1455.41,343.038 1664.1,87.9763 1872.78,629.173 2081.47,554.942 \n",
       "  2290.15,904.087 \n",
       "  \"/>\n",
       "<path clip-path=\"url(#clip150)\" d=\"\n",
       "M214.431 1438.47 L938.528 1438.47 L938.528 1334.79 L214.431 1334.79  Z\n",
       "  \" fill=\"#ffffff\" fill-rule=\"evenodd\" fill-opacity=\"1\"/>\n",
       "<polyline clip-path=\"url(#clip150)\" style=\"stroke:#000000; stroke-linecap:round; stroke-linejoin:round; stroke-width:4; stroke-opacity:1; fill:none\" points=\"\n",
       "  214.431,1438.47 938.528,1438.47 938.528,1334.79 214.431,1334.79 214.431,1438.47 \n",
       "  \"/>\n",
       "<polyline clip-path=\"url(#clip150)\" style=\"stroke:#009af9; stroke-linecap:round; stroke-linejoin:round; stroke-width:4; stroke-opacity:1; fill:none\" points=\"\n",
       "  239.009,1386.63 386.48,1386.63 \n",
       "  \"/>\n",
       "<path clip-path=\"url(#clip150)\" d=\"M415.734 1373.2 L415.734 1400.07 L421.382 1400.07 Q428.535 1400.07 431.845 1396.83 Q435.179 1393.59 435.179 1386.6 Q435.179 1379.66 431.845 1376.44 Q428.535 1373.2 421.382 1373.2 L415.734 1373.2 M411.058 1369.35 L420.665 1369.35 Q430.711 1369.35 435.41 1373.54 Q440.109 1377.71 440.109 1386.6 Q440.109 1395.53 435.387 1399.72 Q430.665 1403.91 420.665 1403.91 L411.058 1403.91 L411.058 1369.35 Z\" fill=\"#000000\" fill-rule=\"evenodd\" fill-opacity=\"1\" /><path clip-path=\"url(#clip150)\" d=\"M469.554 1389.89 L469.554 1391.97 L449.97 1391.97 Q450.248 1396.37 452.609 1398.68 Q454.993 1400.97 459.23 1400.97 Q461.683 1400.97 463.975 1400.37 Q466.29 1399.77 468.558 1398.57 L468.558 1402.59 Q466.267 1403.57 463.859 1404.08 Q461.452 1404.59 458.975 1404.59 Q452.771 1404.59 449.137 1400.97 Q445.526 1397.36 445.526 1391.21 Q445.526 1384.84 448.952 1381.11 Q452.401 1377.36 458.234 1377.36 Q463.466 1377.36 466.498 1380.74 Q469.554 1384.1 469.554 1389.89 M465.294 1388.64 Q465.248 1385.14 463.327 1383.06 Q461.429 1380.97 458.28 1380.97 Q454.716 1380.97 452.563 1382.99 Q450.433 1385 450.109 1388.66 L465.294 1388.64 Z\" fill=\"#000000\" fill-rule=\"evenodd\" fill-opacity=\"1\" /><path clip-path=\"url(#clip150)\" d=\"M495.202 1378.98 L495.202 1382.97 Q493.396 1381.97 491.567 1381.48 Q489.762 1380.97 487.91 1380.97 Q483.766 1380.97 481.475 1383.61 Q479.183 1386.23 479.183 1390.97 Q479.183 1395.72 481.475 1398.36 Q483.766 1400.97 487.91 1400.97 Q489.762 1400.97 491.567 1400.49 Q493.396 1399.98 495.202 1398.98 L495.202 1402.92 Q493.419 1403.75 491.498 1404.17 Q489.6 1404.59 487.447 1404.59 Q481.591 1404.59 478.141 1400.91 Q474.692 1397.22 474.692 1390.97 Q474.692 1384.63 478.165 1381 Q481.66 1377.36 487.725 1377.36 Q489.692 1377.36 491.567 1377.78 Q493.442 1378.17 495.202 1378.98 Z\" fill=\"#000000\" fill-rule=\"evenodd\" fill-opacity=\"1\" /><path clip-path=\"url(#clip150)\" d=\"M513.072 1369.35 L542.308 1369.35 L542.308 1373.29 L530.039 1373.29 L530.039 1403.91 L525.34 1403.91 L525.34 1373.29 L513.072 1373.29 L513.072 1369.35 Z\" fill=\"#000000\" fill-rule=\"evenodd\" fill-opacity=\"1\" /><path clip-path=\"url(#clip150)\" d=\"M560.757 1389.89 L560.757 1391.97 L541.174 1391.97 Q541.451 1396.37 543.812 1398.68 Q546.197 1400.97 550.433 1400.97 Q552.886 1400.97 555.178 1400.37 Q557.493 1399.77 559.761 1398.57 L559.761 1402.59 Q557.47 1403.57 555.062 1404.08 Q552.655 1404.59 550.178 1404.59 Q543.974 1404.59 540.34 1400.97 Q536.729 1397.36 536.729 1391.21 Q536.729 1384.84 540.155 1381.11 Q543.604 1377.36 549.437 1377.36 Q554.669 1377.36 557.701 1380.74 Q560.757 1384.1 560.757 1389.89 M556.498 1388.64 Q556.451 1385.14 554.53 1383.06 Q552.632 1380.97 549.484 1380.97 Q545.919 1380.97 543.766 1382.99 Q541.636 1385 541.312 1388.66 L556.498 1388.64 Z\" fill=\"#000000\" fill-rule=\"evenodd\" fill-opacity=\"1\" /><path clip-path=\"url(#clip150)\" d=\"M587.933 1382.97 Q589.53 1380.1 591.752 1378.73 Q593.974 1377.36 596.983 1377.36 Q601.034 1377.36 603.233 1380.21 Q605.432 1383.03 605.432 1388.27 L605.432 1403.91 L601.15 1403.91 L601.15 1388.41 Q601.15 1384.68 599.831 1382.87 Q598.511 1381.07 595.803 1381.07 Q592.493 1381.07 590.571 1383.27 Q588.65 1385.47 588.65 1389.26 L588.65 1403.91 L584.368 1403.91 L584.368 1388.41 Q584.368 1384.66 583.048 1382.87 Q581.729 1381.07 578.974 1381.07 Q575.71 1381.07 573.789 1383.29 Q571.868 1385.49 571.868 1389.26 L571.868 1403.91 L567.585 1403.91 L567.585 1377.99 L571.868 1377.99 L571.868 1382.02 Q573.326 1379.63 575.363 1378.5 Q577.4 1377.36 580.201 1377.36 Q583.025 1377.36 584.993 1378.8 Q586.983 1380.23 587.933 1382.97 Z\" fill=\"#000000\" fill-rule=\"evenodd\" fill-opacity=\"1\" /><path clip-path=\"url(#clip150)\" d=\"M618.048 1400.03 L618.048 1413.78 L613.766 1413.78 L613.766 1377.99 L618.048 1377.99 L618.048 1381.92 Q619.391 1379.61 621.428 1378.5 Q623.488 1377.36 626.335 1377.36 Q631.057 1377.36 633.997 1381.11 Q636.96 1384.86 636.96 1390.97 Q636.96 1397.09 633.997 1400.84 Q631.057 1404.59 626.335 1404.59 Q623.488 1404.59 621.428 1403.47 Q619.391 1402.34 618.048 1400.03 M632.539 1390.97 Q632.539 1386.28 630.594 1383.61 Q628.673 1380.93 625.293 1380.93 Q621.914 1380.93 619.969 1383.61 Q618.048 1386.28 618.048 1390.97 Q618.048 1395.67 619.969 1398.36 Q621.914 1401.02 625.293 1401.02 Q628.673 1401.02 630.594 1398.36 Q632.539 1395.67 632.539 1390.97 Z\" fill=\"#000000\" fill-rule=\"evenodd\" fill-opacity=\"1\" /><path clip-path=\"url(#clip150)\" d=\"M666.196 1389.89 L666.196 1391.97 L646.613 1391.97 Q646.891 1396.37 649.252 1398.68 Q651.636 1400.97 655.872 1400.97 Q658.326 1400.97 660.617 1400.37 Q662.932 1399.77 665.201 1398.57 L665.201 1402.59 Q662.909 1403.57 660.502 1404.08 Q658.094 1404.59 655.617 1404.59 Q649.414 1404.59 645.779 1400.97 Q642.168 1397.36 642.168 1391.21 Q642.168 1384.84 645.594 1381.11 Q649.043 1377.36 654.877 1377.36 Q660.108 1377.36 663.14 1380.74 Q666.196 1384.1 666.196 1389.89 M661.937 1388.64 Q661.89 1385.14 659.969 1383.06 Q658.071 1380.97 654.923 1380.97 Q651.358 1380.97 649.205 1382.99 Q647.076 1385 646.752 1388.66 L661.937 1388.64 Z\" fill=\"#000000\" fill-rule=\"evenodd\" fill-opacity=\"1\" /><path clip-path=\"url(#clip150)\" d=\"M688.21 1381.97 Q687.492 1381.55 686.636 1381.37 Q685.802 1381.16 684.784 1381.16 Q681.173 1381.16 679.228 1383.52 Q677.307 1385.86 677.307 1390.26 L677.307 1403.91 L673.025 1403.91 L673.025 1377.99 L677.307 1377.99 L677.307 1382.02 Q678.65 1379.66 680.802 1378.52 Q682.955 1377.36 686.034 1377.36 Q686.474 1377.36 687.006 1377.43 Q687.538 1377.48 688.187 1377.6 L688.21 1381.97 Z\" fill=\"#000000\" fill-rule=\"evenodd\" fill-opacity=\"1\" /><path clip-path=\"url(#clip150)\" d=\"M704.46 1390.88 Q699.298 1390.88 697.307 1392.06 Q695.316 1393.24 695.316 1396.09 Q695.316 1398.36 696.798 1399.7 Q698.302 1401.02 700.872 1401.02 Q704.413 1401.02 706.543 1398.52 Q708.696 1396 708.696 1391.83 L708.696 1390.88 L704.46 1390.88 M712.955 1389.12 L712.955 1403.91 L708.696 1403.91 L708.696 1399.98 Q707.237 1402.34 705.062 1403.47 Q702.886 1404.59 699.737 1404.59 Q695.756 1404.59 693.395 1402.36 Q691.057 1400.12 691.057 1396.37 Q691.057 1391.99 693.974 1389.77 Q696.913 1387.55 702.724 1387.55 L708.696 1387.55 L708.696 1387.13 Q708.696 1384.19 706.751 1382.6 Q704.83 1380.97 701.335 1380.97 Q699.112 1380.97 697.006 1381.51 Q694.9 1382.04 692.955 1383.1 L692.955 1379.17 Q695.293 1378.27 697.492 1377.83 Q699.691 1377.36 701.775 1377.36 Q707.399 1377.36 710.177 1380.28 Q712.955 1383.2 712.955 1389.12 Z\" fill=\"#000000\" fill-rule=\"evenodd\" fill-opacity=\"1\" /><path clip-path=\"url(#clip150)\" d=\"M725.941 1370.63 L725.941 1377.99 L734.714 1377.99 L734.714 1381.3 L725.941 1381.3 L725.941 1395.37 Q725.941 1398.54 726.798 1399.45 Q727.677 1400.35 730.339 1400.35 L734.714 1400.35 L734.714 1403.91 L730.339 1403.91 Q725.409 1403.91 723.534 1402.09 Q721.659 1400.23 721.659 1395.37 L721.659 1381.3 L718.534 1381.3 L718.534 1377.99 L721.659 1377.99 L721.659 1370.63 L725.941 1370.63 Z\" fill=\"#000000\" fill-rule=\"evenodd\" fill-opacity=\"1\" /><path clip-path=\"url(#clip150)\" d=\"M739.876 1393.68 L739.876 1377.99 L744.135 1377.99 L744.135 1393.52 Q744.135 1397.2 745.571 1399.05 Q747.006 1400.88 749.876 1400.88 Q753.325 1400.88 755.316 1398.68 Q757.33 1396.48 757.33 1392.69 L757.33 1377.99 L761.589 1377.99 L761.589 1403.91 L757.33 1403.91 L757.33 1399.93 Q755.779 1402.29 753.719 1403.45 Q751.682 1404.59 748.973 1404.59 Q744.506 1404.59 742.191 1401.81 Q739.876 1399.03 739.876 1393.68 M750.594 1377.36 L750.594 1377.36 Z\" fill=\"#000000\" fill-rule=\"evenodd\" fill-opacity=\"1\" /><path clip-path=\"url(#clip150)\" d=\"M785.385 1381.97 Q784.668 1381.55 783.811 1381.37 Q782.978 1381.16 781.959 1381.16 Q778.348 1381.16 776.404 1383.52 Q774.482 1385.86 774.482 1390.26 L774.482 1403.91 L770.2 1403.91 L770.2 1377.99 L774.482 1377.99 L774.482 1382.02 Q775.825 1379.66 777.978 1378.52 Q780.131 1377.36 783.209 1377.36 Q783.649 1377.36 784.181 1377.43 Q784.714 1377.48 785.362 1377.6 L785.385 1381.97 Z\" fill=\"#000000\" fill-rule=\"evenodd\" fill-opacity=\"1\" /><path clip-path=\"url(#clip150)\" d=\"M810.987 1389.89 L810.987 1391.97 L791.404 1391.97 Q791.681 1396.37 794.043 1398.68 Q796.427 1400.97 800.663 1400.97 Q803.117 1400.97 805.408 1400.37 Q807.723 1399.77 809.992 1398.57 L809.992 1402.59 Q807.7 1403.57 805.292 1404.08 Q802.885 1404.59 800.408 1404.59 Q794.205 1404.59 790.57 1400.97 Q786.959 1397.36 786.959 1391.21 Q786.959 1384.84 790.385 1381.11 Q793.834 1377.36 799.668 1377.36 Q804.899 1377.36 807.931 1380.74 Q810.987 1384.1 810.987 1389.89 M806.728 1388.64 Q806.681 1385.14 804.76 1383.06 Q802.862 1380.97 799.714 1380.97 Q796.149 1380.97 793.996 1382.99 Q791.867 1385 791.543 1388.66 L806.728 1388.64 Z\" fill=\"#000000\" fill-rule=\"evenodd\" fill-opacity=\"1\" /><path clip-path=\"url(#clip150)\" d=\"M853.232 1382.97 Q854.829 1380.1 857.051 1378.73 Q859.274 1377.36 862.283 1377.36 Q866.334 1377.36 868.533 1380.21 Q870.732 1383.03 870.732 1388.27 L870.732 1403.91 L866.45 1403.91 L866.45 1388.41 Q866.45 1384.68 865.13 1382.87 Q863.811 1381.07 861.102 1381.07 Q857.792 1381.07 855.871 1383.27 Q853.95 1385.47 853.95 1389.26 L853.95 1403.91 L849.667 1403.91 L849.667 1388.41 Q849.667 1384.66 848.348 1382.87 Q847.028 1381.07 844.274 1381.07 Q841.01 1381.07 839.089 1383.29 Q837.167 1385.49 837.167 1389.26 L837.167 1403.91 L832.885 1403.91 L832.885 1377.99 L837.167 1377.99 L837.167 1382.02 Q838.626 1379.63 840.663 1378.5 Q842.7 1377.36 845.501 1377.36 Q848.325 1377.36 850.292 1378.8 Q852.283 1380.23 853.232 1382.97 Z\" fill=\"#000000\" fill-rule=\"evenodd\" fill-opacity=\"1\" /><path clip-path=\"url(#clip150)\" d=\"M879.227 1377.99 L883.486 1377.99 L883.486 1403.91 L879.227 1403.91 L879.227 1377.99 M879.227 1367.9 L883.486 1367.9 L883.486 1373.29 L879.227 1373.29 L879.227 1367.9 Z\" fill=\"#000000\" fill-rule=\"evenodd\" fill-opacity=\"1\" /><path clip-path=\"url(#clip150)\" d=\"M913.949 1388.27 L913.949 1403.91 L909.69 1403.91 L909.69 1388.41 Q909.69 1384.72 908.255 1382.9 Q906.82 1381.07 903.949 1381.07 Q900.5 1381.07 898.51 1383.27 Q896.519 1385.47 896.519 1389.26 L896.519 1403.91 L892.236 1403.91 L892.236 1377.99 L896.519 1377.99 L896.519 1382.02 Q898.047 1379.68 900.107 1378.52 Q902.19 1377.36 904.898 1377.36 Q909.366 1377.36 911.658 1380.14 Q913.949 1382.9 913.949 1388.27 Z\" fill=\"#000000\" fill-rule=\"evenodd\" fill-opacity=\"1\" /></svg>\n"
      ]
     },
     "execution_count": 64,
     "metadata": {},
     "output_type": "execute_result"
    }
   ],
   "source": [
    "plot(1:11, Dectempmin, label=\"Dec Temperature min\", legend=:bottomleft)"
   ]
  },
  {
   "cell_type": "markdown",
   "id": "c53b96b5",
   "metadata": {},
   "source": [
    "# Now we do this for 2012-2022 Dec Max average data: "
   ]
  },
  {
   "cell_type": "code",
   "execution_count": 65,
   "id": "e2643047",
   "metadata": {},
   "outputs": [
    {
     "data": {
      "text/plain": [
       "11-element Vector{Any}:\n",
       " 26.36\n",
       " 21.09\n",
       " 31.727\n",
       " 34.82\n",
       " 35.73\n",
       " 13.36\n",
       " 34.09\n",
       " 39.09\n",
       " 31.55\n",
       " 33.36\n",
       " 26.09"
      ]
     },
     "execution_count": 65,
     "metadata": {},
     "output_type": "execute_result"
    }
   ],
   "source": [
    "Dectempmax=C[2:12,3]"
   ]
  },
  {
   "cell_type": "code",
   "execution_count": 66,
   "id": "85d57bc2",
   "metadata": {},
   "outputs": [
    {
     "data": {
      "image/svg+xml": [
       "<?xml version=\"1.0\" encoding=\"utf-8\"?>\n",
       "<svg xmlns=\"http://www.w3.org/2000/svg\" xmlns:xlink=\"http://www.w3.org/1999/xlink\" width=\"600\" height=\"400\" viewBox=\"0 0 2400 1600\">\n",
       "<defs>\n",
       "  <clipPath id=\"clip190\">\n",
       "    <rect x=\"0\" y=\"0\" width=\"2400\" height=\"1600\"/>\n",
       "  </clipPath>\n",
       "</defs>\n",
       "<path clip-path=\"url(#clip190)\" d=\"\n",
       "M0 1600 L2400 1600 L2400 0 L0 0  Z\n",
       "  \" fill=\"#ffffff\" fill-rule=\"evenodd\" fill-opacity=\"1\"/>\n",
       "<defs>\n",
       "  <clipPath id=\"clip191\">\n",
       "    <rect x=\"480\" y=\"0\" width=\"1681\" height=\"1600\"/>\n",
       "  </clipPath>\n",
       "</defs>\n",
       "<path clip-path=\"url(#clip190)\" d=\"\n",
       "M140.696 1486.45 L2352.76 1486.45 L2352.76 47.2441 L140.696 47.2441  Z\n",
       "  \" fill=\"#ffffff\" fill-rule=\"evenodd\" fill-opacity=\"1\"/>\n",
       "<defs>\n",
       "  <clipPath id=\"clip192\">\n",
       "    <rect x=\"140\" y=\"47\" width=\"2213\" height=\"1440\"/>\n",
       "  </clipPath>\n",
       "</defs>\n",
       "<polyline clip-path=\"url(#clip192)\" style=\"stroke:#000000; stroke-linecap:round; stroke-linejoin:round; stroke-width:2; stroke-opacity:0.1; fill:none\" points=\"\n",
       "  411.986,1486.45 411.986,47.2441 \n",
       "  \"/>\n",
       "<polyline clip-path=\"url(#clip192)\" style=\"stroke:#000000; stroke-linecap:round; stroke-linejoin:round; stroke-width:2; stroke-opacity:0.1; fill:none\" points=\"\n",
       "  829.356,1486.45 829.356,47.2441 \n",
       "  \"/>\n",
       "<polyline clip-path=\"url(#clip192)\" style=\"stroke:#000000; stroke-linecap:round; stroke-linejoin:round; stroke-width:2; stroke-opacity:0.1; fill:none\" points=\"\n",
       "  1246.73,1486.45 1246.73,47.2441 \n",
       "  \"/>\n",
       "<polyline clip-path=\"url(#clip192)\" style=\"stroke:#000000; stroke-linecap:round; stroke-linejoin:round; stroke-width:2; stroke-opacity:0.1; fill:none\" points=\"\n",
       "  1664.1,1486.45 1664.1,47.2441 \n",
       "  \"/>\n",
       "<polyline clip-path=\"url(#clip192)\" style=\"stroke:#000000; stroke-linecap:round; stroke-linejoin:round; stroke-width:2; stroke-opacity:0.1; fill:none\" points=\"\n",
       "  2081.47,1486.45 2081.47,47.2441 \n",
       "  \"/>\n",
       "<polyline clip-path=\"url(#clip190)\" style=\"stroke:#000000; stroke-linecap:round; stroke-linejoin:round; stroke-width:4; stroke-opacity:1; fill:none\" points=\"\n",
       "  140.696,1486.45 2352.76,1486.45 \n",
       "  \"/>\n",
       "<polyline clip-path=\"url(#clip190)\" style=\"stroke:#000000; stroke-linecap:round; stroke-linejoin:round; stroke-width:4; stroke-opacity:1; fill:none\" points=\"\n",
       "  411.986,1486.45 411.986,1467.55 \n",
       "  \"/>\n",
       "<polyline clip-path=\"url(#clip190)\" style=\"stroke:#000000; stroke-linecap:round; stroke-linejoin:round; stroke-width:4; stroke-opacity:1; fill:none\" points=\"\n",
       "  829.356,1486.45 829.356,1467.55 \n",
       "  \"/>\n",
       "<polyline clip-path=\"url(#clip190)\" style=\"stroke:#000000; stroke-linecap:round; stroke-linejoin:round; stroke-width:4; stroke-opacity:1; fill:none\" points=\"\n",
       "  1246.73,1486.45 1246.73,1467.55 \n",
       "  \"/>\n",
       "<polyline clip-path=\"url(#clip190)\" style=\"stroke:#000000; stroke-linecap:round; stroke-linejoin:round; stroke-width:4; stroke-opacity:1; fill:none\" points=\"\n",
       "  1664.1,1486.45 1664.1,1467.55 \n",
       "  \"/>\n",
       "<polyline clip-path=\"url(#clip190)\" style=\"stroke:#000000; stroke-linecap:round; stroke-linejoin:round; stroke-width:4; stroke-opacity:1; fill:none\" points=\"\n",
       "  2081.47,1486.45 2081.47,1467.55 \n",
       "  \"/>\n",
       "<path clip-path=\"url(#clip190)\" d=\"M406.639 1544.91 L422.958 1544.91 L422.958 1548.85 L401.014 1548.85 L401.014 1544.91 Q403.676 1542.16 408.259 1537.53 Q412.866 1532.88 414.046 1531.53 Q416.291 1529.01 417.171 1527.27 Q418.074 1525.51 418.074 1523.82 Q418.074 1521.07 416.129 1519.33 Q414.208 1517.6 411.106 1517.6 Q408.907 1517.6 406.454 1518.36 Q404.023 1519.13 401.245 1520.68 L401.245 1515.95 Q404.069 1514.82 406.523 1514.24 Q408.977 1513.66 411.014 1513.66 Q416.384 1513.66 419.579 1516.35 Q422.773 1519.03 422.773 1523.52 Q422.773 1525.65 421.963 1527.57 Q421.176 1529.47 419.069 1532.07 Q418.491 1532.74 415.389 1535.95 Q412.287 1539.15 406.639 1544.91 Z\" fill=\"#000000\" fill-rule=\"evenodd\" fill-opacity=\"1\" /><path clip-path=\"url(#clip190)\" d=\"M832.365 1518.36 L820.56 1536.81 L832.365 1536.81 L832.365 1518.36 M831.138 1514.29 L837.018 1514.29 L837.018 1536.81 L841.948 1536.81 L841.948 1540.7 L837.018 1540.7 L837.018 1548.85 L832.365 1548.85 L832.365 1540.7 L816.763 1540.7 L816.763 1536.19 L831.138 1514.29 Z\" fill=\"#000000\" fill-rule=\"evenodd\" fill-opacity=\"1\" /><path clip-path=\"url(#clip190)\" d=\"M1247.13 1529.7 Q1243.98 1529.7 1242.13 1531.86 Q1240.3 1534.01 1240.3 1537.76 Q1240.3 1541.49 1242.13 1543.66 Q1243.98 1545.82 1247.13 1545.82 Q1250.28 1545.82 1252.11 1543.66 Q1253.96 1541.49 1253.96 1537.76 Q1253.96 1534.01 1252.11 1531.86 Q1250.28 1529.7 1247.13 1529.7 M1256.41 1515.05 L1256.41 1519.31 Q1254.65 1518.48 1252.85 1518.04 Q1251.07 1517.6 1249.31 1517.6 Q1244.68 1517.6 1242.22 1520.72 Q1239.79 1523.85 1239.45 1530.17 Q1240.81 1528.15 1242.87 1527.09 Q1244.93 1526 1247.41 1526 Q1252.62 1526 1255.63 1529.17 Q1258.66 1532.32 1258.66 1537.76 Q1258.66 1543.08 1255.51 1546.3 Q1252.36 1549.52 1247.13 1549.52 Q1241.14 1549.52 1237.96 1544.94 Q1234.79 1540.33 1234.79 1531.6 Q1234.79 1523.41 1238.68 1518.55 Q1242.57 1513.66 1249.12 1513.66 Q1250.88 1513.66 1252.66 1514.01 Q1254.47 1514.36 1256.41 1515.05 Z\" fill=\"#000000\" fill-rule=\"evenodd\" fill-opacity=\"1\" /><path clip-path=\"url(#clip190)\" d=\"M1664.1 1532.44 Q1660.76 1532.44 1658.84 1534.22 Q1656.94 1536 1656.94 1539.13 Q1656.94 1542.25 1658.84 1544.03 Q1660.76 1545.82 1664.1 1545.82 Q1667.43 1545.82 1669.35 1544.03 Q1671.27 1542.23 1671.27 1539.13 Q1671.27 1536 1669.35 1534.22 Q1667.45 1532.44 1664.1 1532.44 M1659.42 1530.45 Q1656.41 1529.7 1654.72 1527.64 Q1653.05 1525.58 1653.05 1522.62 Q1653.05 1518.48 1655.99 1516.07 Q1658.96 1513.66 1664.1 1513.66 Q1669.26 1513.66 1672.2 1516.07 Q1675.14 1518.48 1675.14 1522.62 Q1675.14 1525.58 1673.45 1527.64 Q1671.78 1529.7 1668.79 1530.45 Q1672.17 1531.23 1674.05 1533.52 Q1675.95 1535.82 1675.95 1539.13 Q1675.95 1544.15 1672.87 1546.83 Q1669.81 1549.52 1664.1 1549.52 Q1658.38 1549.52 1655.3 1546.83 Q1652.24 1544.15 1652.24 1539.13 Q1652.24 1535.82 1654.14 1533.52 Q1656.04 1531.23 1659.42 1530.45 M1657.71 1523.06 Q1657.71 1525.75 1659.37 1527.25 Q1661.06 1528.76 1664.1 1528.76 Q1667.1 1528.76 1668.79 1527.25 Q1670.51 1525.75 1670.51 1523.06 Q1670.51 1520.38 1668.79 1518.87 Q1667.1 1517.37 1664.1 1517.37 Q1661.06 1517.37 1659.37 1518.87 Q1657.71 1520.38 1657.71 1523.06 Z\" fill=\"#000000\" fill-rule=\"evenodd\" fill-opacity=\"1\" /><path clip-path=\"url(#clip190)\" d=\"M2056.15 1544.91 L2063.79 1544.91 L2063.79 1518.55 L2055.48 1520.21 L2055.48 1515.95 L2063.75 1514.29 L2068.42 1514.29 L2068.42 1544.91 L2076.06 1544.91 L2076.06 1548.85 L2056.15 1548.85 L2056.15 1544.91 Z\" fill=\"#000000\" fill-rule=\"evenodd\" fill-opacity=\"1\" /><path clip-path=\"url(#clip190)\" d=\"M2095.5 1517.37 Q2091.89 1517.37 2090.06 1520.93 Q2088.26 1524.47 2088.26 1531.6 Q2088.26 1538.71 2090.06 1542.27 Q2091.89 1545.82 2095.5 1545.82 Q2099.14 1545.82 2100.94 1542.27 Q2102.77 1538.71 2102.77 1531.6 Q2102.77 1524.47 2100.94 1520.93 Q2099.14 1517.37 2095.5 1517.37 M2095.5 1513.66 Q2101.31 1513.66 2104.37 1518.27 Q2107.45 1522.85 2107.45 1531.6 Q2107.45 1540.33 2104.37 1544.94 Q2101.31 1549.52 2095.5 1549.52 Q2089.69 1549.52 2086.62 1544.94 Q2083.56 1540.33 2083.56 1531.6 Q2083.56 1522.85 2086.62 1518.27 Q2089.69 1513.66 2095.5 1513.66 Z\" fill=\"#000000\" fill-rule=\"evenodd\" fill-opacity=\"1\" /><polyline clip-path=\"url(#clip192)\" style=\"stroke:#000000; stroke-linecap:round; stroke-linejoin:round; stroke-width:2; stroke-opacity:0.1; fill:none\" points=\"\n",
       "  140.696,1304.16 2352.76,1304.16 \n",
       "  \"/>\n",
       "<polyline clip-path=\"url(#clip192)\" style=\"stroke:#000000; stroke-linecap:round; stroke-linejoin:round; stroke-width:2; stroke-opacity:0.1; fill:none\" points=\"\n",
       "  140.696,1088.37 2352.76,1088.37 \n",
       "  \"/>\n",
       "<polyline clip-path=\"url(#clip192)\" style=\"stroke:#000000; stroke-linecap:round; stroke-linejoin:round; stroke-width:2; stroke-opacity:0.1; fill:none\" points=\"\n",
       "  140.696,872.582 2352.76,872.582 \n",
       "  \"/>\n",
       "<polyline clip-path=\"url(#clip192)\" style=\"stroke:#000000; stroke-linecap:round; stroke-linejoin:round; stroke-width:2; stroke-opacity:0.1; fill:none\" points=\"\n",
       "  140.696,656.794 2352.76,656.794 \n",
       "  \"/>\n",
       "<polyline clip-path=\"url(#clip192)\" style=\"stroke:#000000; stroke-linecap:round; stroke-linejoin:round; stroke-width:2; stroke-opacity:0.1; fill:none\" points=\"\n",
       "  140.696,441.006 2352.76,441.006 \n",
       "  \"/>\n",
       "<polyline clip-path=\"url(#clip192)\" style=\"stroke:#000000; stroke-linecap:round; stroke-linejoin:round; stroke-width:2; stroke-opacity:0.1; fill:none\" points=\"\n",
       "  140.696,225.218 2352.76,225.218 \n",
       "  \"/>\n",
       "<polyline clip-path=\"url(#clip190)\" style=\"stroke:#000000; stroke-linecap:round; stroke-linejoin:round; stroke-width:4; stroke-opacity:1; fill:none\" points=\"\n",
       "  140.696,1486.45 140.696,47.2441 \n",
       "  \"/>\n",
       "<polyline clip-path=\"url(#clip190)\" style=\"stroke:#000000; stroke-linecap:round; stroke-linejoin:round; stroke-width:4; stroke-opacity:1; fill:none\" points=\"\n",
       "  140.696,1304.16 159.593,1304.16 \n",
       "  \"/>\n",
       "<polyline clip-path=\"url(#clip190)\" style=\"stroke:#000000; stroke-linecap:round; stroke-linejoin:round; stroke-width:4; stroke-opacity:1; fill:none\" points=\"\n",
       "  140.696,1088.37 159.593,1088.37 \n",
       "  \"/>\n",
       "<polyline clip-path=\"url(#clip190)\" style=\"stroke:#000000; stroke-linecap:round; stroke-linejoin:round; stroke-width:4; stroke-opacity:1; fill:none\" points=\"\n",
       "  140.696,872.582 159.593,872.582 \n",
       "  \"/>\n",
       "<polyline clip-path=\"url(#clip190)\" style=\"stroke:#000000; stroke-linecap:round; stroke-linejoin:round; stroke-width:4; stroke-opacity:1; fill:none\" points=\"\n",
       "  140.696,656.794 159.593,656.794 \n",
       "  \"/>\n",
       "<polyline clip-path=\"url(#clip190)\" style=\"stroke:#000000; stroke-linecap:round; stroke-linejoin:round; stroke-width:4; stroke-opacity:1; fill:none\" points=\"\n",
       "  140.696,441.006 159.593,441.006 \n",
       "  \"/>\n",
       "<polyline clip-path=\"url(#clip190)\" style=\"stroke:#000000; stroke-linecap:round; stroke-linejoin:round; stroke-width:4; stroke-opacity:1; fill:none\" points=\"\n",
       "  140.696,225.218 159.593,225.218 \n",
       "  \"/>\n",
       "<path clip-path=\"url(#clip190)\" d=\"M92.7512 1289.96 Q89.1401 1289.96 87.3114 1293.52 Q85.5058 1297.06 85.5058 1304.19 Q85.5058 1311.3 87.3114 1314.86 Q89.1401 1318.41 92.7512 1318.41 Q96.3854 1318.41 98.1909 1314.86 Q100.02 1311.3 100.02 1304.19 Q100.02 1297.06 98.1909 1293.52 Q96.3854 1289.96 92.7512 1289.96 M92.7512 1286.25 Q98.5613 1286.25 101.617 1290.86 Q104.696 1295.44 104.696 1304.19 Q104.696 1312.92 101.617 1317.53 Q98.5613 1322.11 92.7512 1322.11 Q86.941 1322.11 83.8623 1317.53 Q80.8068 1312.92 80.8068 1304.19 Q80.8068 1295.44 83.8623 1290.86 Q86.941 1286.25 92.7512 1286.25 Z\" fill=\"#000000\" fill-rule=\"evenodd\" fill-opacity=\"1\" /><path clip-path=\"url(#clip190)\" d=\"M83.7929 1071.09 L102.149 1071.09 L102.149 1075.03 L88.0753 1075.03 L88.0753 1083.5 Q89.0938 1083.15 90.1123 1082.99 Q91.1308 1082.8 92.1493 1082.8 Q97.9363 1082.8 101.316 1085.97 Q104.696 1089.15 104.696 1094.56 Q104.696 1100.14 101.223 1103.24 Q97.7511 1106.32 91.4317 1106.32 Q89.2558 1106.32 86.9873 1105.95 Q84.7419 1105.58 82.3346 1104.84 L82.3346 1100.14 Q84.4179 1101.28 86.6401 1101.83 Q88.8623 1102.39 91.3391 1102.39 Q95.3437 1102.39 97.6817 1100.28 Q100.02 1098.17 100.02 1094.56 Q100.02 1090.95 97.6817 1088.84 Q95.3437 1086.74 91.3391 1086.74 Q89.4641 1086.74 87.5892 1087.16 Q85.7373 1087.57 83.7929 1088.45 L83.7929 1071.09 Z\" fill=\"#000000\" fill-rule=\"evenodd\" fill-opacity=\"1\" /><path clip-path=\"url(#clip190)\" d=\"M53.3995 885.927 L61.0384 885.927 L61.0384 859.561 L52.7282 861.228 L52.7282 856.969 L60.9921 855.302 L65.668 855.302 L65.668 885.927 L73.3068 885.927 L73.3068 889.862 L53.3995 889.862 L53.3995 885.927 Z\" fill=\"#000000\" fill-rule=\"evenodd\" fill-opacity=\"1\" /><path clip-path=\"url(#clip190)\" d=\"M92.7512 858.381 Q89.1401 858.381 87.3114 861.946 Q85.5058 865.487 85.5058 872.617 Q85.5058 879.723 87.3114 883.288 Q89.1401 886.83 92.7512 886.83 Q96.3854 886.83 98.1909 883.288 Q100.02 879.723 100.02 872.617 Q100.02 865.487 98.1909 861.946 Q96.3854 858.381 92.7512 858.381 M92.7512 854.677 Q98.5613 854.677 101.617 859.284 Q104.696 863.867 104.696 872.617 Q104.696 881.344 101.617 885.95 Q98.5613 890.533 92.7512 890.533 Q86.941 890.533 83.8623 885.95 Q80.8068 881.344 80.8068 872.617 Q80.8068 863.867 83.8623 859.284 Q86.941 854.677 92.7512 854.677 Z\" fill=\"#000000\" fill-rule=\"evenodd\" fill-opacity=\"1\" /><path clip-path=\"url(#clip190)\" d=\"M54.3949 670.139 L62.0337 670.139 L62.0337 643.773 L53.7236 645.44 L53.7236 641.181 L61.9874 639.514 L66.6633 639.514 L66.6633 670.139 L74.3022 670.139 L74.3022 674.074 L54.3949 674.074 L54.3949 670.139 Z\" fill=\"#000000\" fill-rule=\"evenodd\" fill-opacity=\"1\" /><path clip-path=\"url(#clip190)\" d=\"M83.7929 639.514 L102.149 639.514 L102.149 643.449 L88.0753 643.449 L88.0753 651.921 Q89.0938 651.574 90.1123 651.412 Q91.1308 651.227 92.1493 651.227 Q97.9363 651.227 101.316 654.398 Q104.696 657.569 104.696 662.986 Q104.696 668.565 101.223 671.667 Q97.7511 674.745 91.4317 674.745 Q89.2558 674.745 86.9873 674.375 Q84.7419 674.005 82.3346 673.264 L82.3346 668.565 Q84.4179 669.699 86.6401 670.255 Q88.8623 670.81 91.3391 670.81 Q95.3437 670.81 97.6817 668.704 Q100.02 666.597 100.02 662.986 Q100.02 659.375 97.6817 657.269 Q95.3437 655.162 91.3391 655.162 Q89.4641 655.162 87.5892 655.579 Q85.7373 655.995 83.7929 656.875 L83.7929 639.514 Z\" fill=\"#000000\" fill-rule=\"evenodd\" fill-opacity=\"1\" /><path clip-path=\"url(#clip190)\" d=\"M56.6171 454.351 L72.9365 454.351 L72.9365 458.286 L50.9921 458.286 L50.9921 454.351 Q53.6541 451.596 58.2375 446.966 Q62.8439 442.314 64.0245 440.971 Q66.2698 438.448 67.1494 436.712 Q68.0522 434.953 68.0522 433.263 Q68.0522 430.508 66.1078 428.772 Q64.1865 427.036 61.0847 427.036 Q58.8856 427.036 56.4319 427.8 Q54.0014 428.564 51.2236 430.115 L51.2236 425.392 Q54.0477 424.258 56.5014 423.679 Q58.955 423.101 60.9921 423.101 Q66.3624 423.101 69.5568 425.786 Q72.7513 428.471 72.7513 432.962 Q72.7513 435.091 71.9411 437.013 Q71.1541 438.911 69.0476 441.503 Q68.4689 442.175 65.367 445.392 Q62.2652 448.587 56.6171 454.351 Z\" fill=\"#000000\" fill-rule=\"evenodd\" fill-opacity=\"1\" /><path clip-path=\"url(#clip190)\" d=\"M92.7512 426.804 Q89.1401 426.804 87.3114 430.369 Q85.5058 433.911 85.5058 441.041 Q85.5058 448.147 87.3114 451.712 Q89.1401 455.253 92.7512 455.253 Q96.3854 455.253 98.1909 451.712 Q100.02 448.147 100.02 441.041 Q100.02 433.911 98.1909 430.369 Q96.3854 426.804 92.7512 426.804 M92.7512 423.101 Q98.5613 423.101 101.617 427.707 Q104.696 432.291 104.696 441.041 Q104.696 449.767 101.617 454.374 Q98.5613 458.957 92.7512 458.957 Q86.941 458.957 83.8623 454.374 Q80.8068 449.767 80.8068 441.041 Q80.8068 432.291 83.8623 427.707 Q86.941 423.101 92.7512 423.101 Z\" fill=\"#000000\" fill-rule=\"evenodd\" fill-opacity=\"1\" /><path clip-path=\"url(#clip190)\" d=\"M57.6125 238.562 L73.9318 238.562 L73.9318 242.498 L51.9875 242.498 L51.9875 238.562 Q54.6495 235.808 59.2328 231.178 Q63.8393 226.525 65.0198 225.183 Q67.2652 222.66 68.1448 220.924 Q69.0476 219.164 69.0476 217.475 Q69.0476 214.72 67.1032 212.984 Q65.1819 211.248 62.08 211.248 Q59.881 211.248 57.4273 212.012 Q54.9967 212.776 52.219 214.326 L52.219 209.604 Q55.043 208.47 57.4967 207.891 Q59.9504 207.313 61.9874 207.313 Q67.3578 207.313 70.5522 209.998 Q73.7466 212.683 73.7466 217.174 Q73.7466 219.303 72.9365 221.225 Q72.1494 223.123 70.0429 225.715 Q69.4642 226.387 66.3624 229.604 Q63.2606 232.799 57.6125 238.562 Z\" fill=\"#000000\" fill-rule=\"evenodd\" fill-opacity=\"1\" /><path clip-path=\"url(#clip190)\" d=\"M83.7929 207.938 L102.149 207.938 L102.149 211.873 L88.0753 211.873 L88.0753 220.345 Q89.0938 219.998 90.1123 219.836 Q91.1308 219.65 92.1493 219.65 Q97.9363 219.65 101.316 222.822 Q104.696 225.993 104.696 231.41 Q104.696 236.988 101.223 240.09 Q97.7511 243.169 91.4317 243.169 Q89.2558 243.169 86.9873 242.799 Q84.7419 242.428 82.3346 241.687 L82.3346 236.988 Q84.4179 238.123 86.6401 238.678 Q88.8623 239.234 91.3391 239.234 Q95.3437 239.234 97.6817 237.127 Q100.02 235.021 100.02 231.41 Q100.02 227.799 97.6817 225.692 Q95.3437 223.586 91.3391 223.586 Q89.4641 223.586 87.5892 224.002 Q85.7373 224.419 83.7929 225.299 L83.7929 207.938 Z\" fill=\"#000000\" fill-rule=\"evenodd\" fill-opacity=\"1\" /><polyline clip-path=\"url(#clip192)\" style=\"stroke:#009af9; stroke-linecap:round; stroke-linejoin:round; stroke-width:4; stroke-opacity:1; fill:none\" points=\"\n",
       "  203.301,743.109 411.986,1127.64 620.671,374.327 829.356,193.712 1038.04,319.301 1246.73,1445.72 1455.41,343.038 1664.1,87.9763 1872.78,629.173 2081.47,554.942 \n",
       "  2290.15,904.087 \n",
       "  \"/>\n",
       "<path clip-path=\"url(#clip190)\" d=\"\n",
       "M214.431 1438.47 L954.893 1438.47 L954.893 1334.79 L214.431 1334.79  Z\n",
       "  \" fill=\"#ffffff\" fill-rule=\"evenodd\" fill-opacity=\"1\"/>\n",
       "<polyline clip-path=\"url(#clip190)\" style=\"stroke:#000000; stroke-linecap:round; stroke-linejoin:round; stroke-width:4; stroke-opacity:1; fill:none\" points=\"\n",
       "  214.431,1438.47 954.893,1438.47 954.893,1334.79 214.431,1334.79 214.431,1438.47 \n",
       "  \"/>\n",
       "<polyline clip-path=\"url(#clip190)\" style=\"stroke:#009af9; stroke-linecap:round; stroke-linejoin:round; stroke-width:4; stroke-opacity:1; fill:none\" points=\"\n",
       "  239.009,1386.63 386.48,1386.63 \n",
       "  \"/>\n",
       "<path clip-path=\"url(#clip190)\" d=\"M415.734 1373.2 L415.734 1400.07 L421.382 1400.07 Q428.535 1400.07 431.845 1396.83 Q435.179 1393.59 435.179 1386.6 Q435.179 1379.66 431.845 1376.44 Q428.535 1373.2 421.382 1373.2 L415.734 1373.2 M411.058 1369.35 L420.665 1369.35 Q430.711 1369.35 435.41 1373.54 Q440.109 1377.71 440.109 1386.6 Q440.109 1395.53 435.387 1399.72 Q430.665 1403.91 420.665 1403.91 L411.058 1403.91 L411.058 1369.35 Z\" fill=\"#000000\" fill-rule=\"evenodd\" fill-opacity=\"1\" /><path clip-path=\"url(#clip190)\" d=\"M469.554 1389.89 L469.554 1391.97 L449.97 1391.97 Q450.248 1396.37 452.609 1398.68 Q454.993 1400.97 459.23 1400.97 Q461.683 1400.97 463.975 1400.37 Q466.29 1399.77 468.558 1398.57 L468.558 1402.59 Q466.267 1403.57 463.859 1404.08 Q461.452 1404.59 458.975 1404.59 Q452.771 1404.59 449.137 1400.97 Q445.526 1397.36 445.526 1391.21 Q445.526 1384.84 448.952 1381.11 Q452.401 1377.36 458.234 1377.36 Q463.466 1377.36 466.498 1380.74 Q469.554 1384.1 469.554 1389.89 M465.294 1388.64 Q465.248 1385.14 463.327 1383.06 Q461.429 1380.97 458.28 1380.97 Q454.716 1380.97 452.563 1382.99 Q450.433 1385 450.109 1388.66 L465.294 1388.64 Z\" fill=\"#000000\" fill-rule=\"evenodd\" fill-opacity=\"1\" /><path clip-path=\"url(#clip190)\" d=\"M495.202 1378.98 L495.202 1382.97 Q493.396 1381.97 491.567 1381.48 Q489.762 1380.97 487.91 1380.97 Q483.766 1380.97 481.475 1383.61 Q479.183 1386.23 479.183 1390.97 Q479.183 1395.72 481.475 1398.36 Q483.766 1400.97 487.91 1400.97 Q489.762 1400.97 491.567 1400.49 Q493.396 1399.98 495.202 1398.98 L495.202 1402.92 Q493.419 1403.75 491.498 1404.17 Q489.6 1404.59 487.447 1404.59 Q481.591 1404.59 478.141 1400.91 Q474.692 1397.22 474.692 1390.97 Q474.692 1384.63 478.165 1381 Q481.66 1377.36 487.725 1377.36 Q489.692 1377.36 491.567 1377.78 Q493.442 1378.17 495.202 1378.98 Z\" fill=\"#000000\" fill-rule=\"evenodd\" fill-opacity=\"1\" /><path clip-path=\"url(#clip190)\" d=\"M513.072 1369.35 L542.308 1369.35 L542.308 1373.29 L530.039 1373.29 L530.039 1403.91 L525.34 1403.91 L525.34 1373.29 L513.072 1373.29 L513.072 1369.35 Z\" fill=\"#000000\" fill-rule=\"evenodd\" fill-opacity=\"1\" /><path clip-path=\"url(#clip190)\" d=\"M560.757 1389.89 L560.757 1391.97 L541.174 1391.97 Q541.451 1396.37 543.812 1398.68 Q546.197 1400.97 550.433 1400.97 Q552.886 1400.97 555.178 1400.37 Q557.493 1399.77 559.761 1398.57 L559.761 1402.59 Q557.47 1403.57 555.062 1404.08 Q552.655 1404.59 550.178 1404.59 Q543.974 1404.59 540.34 1400.97 Q536.729 1397.36 536.729 1391.21 Q536.729 1384.84 540.155 1381.11 Q543.604 1377.36 549.437 1377.36 Q554.669 1377.36 557.701 1380.74 Q560.757 1384.1 560.757 1389.89 M556.498 1388.64 Q556.451 1385.14 554.53 1383.06 Q552.632 1380.97 549.484 1380.97 Q545.919 1380.97 543.766 1382.99 Q541.636 1385 541.312 1388.66 L556.498 1388.64 Z\" fill=\"#000000\" fill-rule=\"evenodd\" fill-opacity=\"1\" /><path clip-path=\"url(#clip190)\" d=\"M587.933 1382.97 Q589.53 1380.1 591.752 1378.73 Q593.974 1377.36 596.983 1377.36 Q601.034 1377.36 603.233 1380.21 Q605.432 1383.03 605.432 1388.27 L605.432 1403.91 L601.15 1403.91 L601.15 1388.41 Q601.15 1384.68 599.831 1382.87 Q598.511 1381.07 595.803 1381.07 Q592.493 1381.07 590.571 1383.27 Q588.65 1385.47 588.65 1389.26 L588.65 1403.91 L584.368 1403.91 L584.368 1388.41 Q584.368 1384.66 583.048 1382.87 Q581.729 1381.07 578.974 1381.07 Q575.71 1381.07 573.789 1383.29 Q571.868 1385.49 571.868 1389.26 L571.868 1403.91 L567.585 1403.91 L567.585 1377.99 L571.868 1377.99 L571.868 1382.02 Q573.326 1379.63 575.363 1378.5 Q577.4 1377.36 580.201 1377.36 Q583.025 1377.36 584.993 1378.8 Q586.983 1380.23 587.933 1382.97 Z\" fill=\"#000000\" fill-rule=\"evenodd\" fill-opacity=\"1\" /><path clip-path=\"url(#clip190)\" d=\"M618.048 1400.03 L618.048 1413.78 L613.766 1413.78 L613.766 1377.99 L618.048 1377.99 L618.048 1381.92 Q619.391 1379.61 621.428 1378.5 Q623.488 1377.36 626.335 1377.36 Q631.057 1377.36 633.997 1381.11 Q636.96 1384.86 636.96 1390.97 Q636.96 1397.09 633.997 1400.84 Q631.057 1404.59 626.335 1404.59 Q623.488 1404.59 621.428 1403.47 Q619.391 1402.34 618.048 1400.03 M632.539 1390.97 Q632.539 1386.28 630.594 1383.61 Q628.673 1380.93 625.293 1380.93 Q621.914 1380.93 619.969 1383.61 Q618.048 1386.28 618.048 1390.97 Q618.048 1395.67 619.969 1398.36 Q621.914 1401.02 625.293 1401.02 Q628.673 1401.02 630.594 1398.36 Q632.539 1395.67 632.539 1390.97 Z\" fill=\"#000000\" fill-rule=\"evenodd\" fill-opacity=\"1\" /><path clip-path=\"url(#clip190)\" d=\"M666.196 1389.89 L666.196 1391.97 L646.613 1391.97 Q646.891 1396.37 649.252 1398.68 Q651.636 1400.97 655.872 1400.97 Q658.326 1400.97 660.617 1400.37 Q662.932 1399.77 665.201 1398.57 L665.201 1402.59 Q662.909 1403.57 660.502 1404.08 Q658.094 1404.59 655.617 1404.59 Q649.414 1404.59 645.779 1400.97 Q642.168 1397.36 642.168 1391.21 Q642.168 1384.84 645.594 1381.11 Q649.043 1377.36 654.877 1377.36 Q660.108 1377.36 663.14 1380.74 Q666.196 1384.1 666.196 1389.89 M661.937 1388.64 Q661.89 1385.14 659.969 1383.06 Q658.071 1380.97 654.923 1380.97 Q651.358 1380.97 649.205 1382.99 Q647.076 1385 646.752 1388.66 L661.937 1388.64 Z\" fill=\"#000000\" fill-rule=\"evenodd\" fill-opacity=\"1\" /><path clip-path=\"url(#clip190)\" d=\"M688.21 1381.97 Q687.492 1381.55 686.636 1381.37 Q685.802 1381.16 684.784 1381.16 Q681.173 1381.16 679.228 1383.52 Q677.307 1385.86 677.307 1390.26 L677.307 1403.91 L673.025 1403.91 L673.025 1377.99 L677.307 1377.99 L677.307 1382.02 Q678.65 1379.66 680.802 1378.52 Q682.955 1377.36 686.034 1377.36 Q686.474 1377.36 687.006 1377.43 Q687.538 1377.48 688.187 1377.6 L688.21 1381.97 Z\" fill=\"#000000\" fill-rule=\"evenodd\" fill-opacity=\"1\" /><path clip-path=\"url(#clip190)\" d=\"M704.46 1390.88 Q699.298 1390.88 697.307 1392.06 Q695.316 1393.24 695.316 1396.09 Q695.316 1398.36 696.798 1399.7 Q698.302 1401.02 700.872 1401.02 Q704.413 1401.02 706.543 1398.52 Q708.696 1396 708.696 1391.83 L708.696 1390.88 L704.46 1390.88 M712.955 1389.12 L712.955 1403.91 L708.696 1403.91 L708.696 1399.98 Q707.237 1402.34 705.062 1403.47 Q702.886 1404.59 699.737 1404.59 Q695.756 1404.59 693.395 1402.36 Q691.057 1400.12 691.057 1396.37 Q691.057 1391.99 693.974 1389.77 Q696.913 1387.55 702.724 1387.55 L708.696 1387.55 L708.696 1387.13 Q708.696 1384.19 706.751 1382.6 Q704.83 1380.97 701.335 1380.97 Q699.112 1380.97 697.006 1381.51 Q694.9 1382.04 692.955 1383.1 L692.955 1379.17 Q695.293 1378.27 697.492 1377.83 Q699.691 1377.36 701.775 1377.36 Q707.399 1377.36 710.177 1380.28 Q712.955 1383.2 712.955 1389.12 Z\" fill=\"#000000\" fill-rule=\"evenodd\" fill-opacity=\"1\" /><path clip-path=\"url(#clip190)\" d=\"M725.941 1370.63 L725.941 1377.99 L734.714 1377.99 L734.714 1381.3 L725.941 1381.3 L725.941 1395.37 Q725.941 1398.54 726.798 1399.45 Q727.677 1400.35 730.339 1400.35 L734.714 1400.35 L734.714 1403.91 L730.339 1403.91 Q725.409 1403.91 723.534 1402.09 Q721.659 1400.23 721.659 1395.37 L721.659 1381.3 L718.534 1381.3 L718.534 1377.99 L721.659 1377.99 L721.659 1370.63 L725.941 1370.63 Z\" fill=\"#000000\" fill-rule=\"evenodd\" fill-opacity=\"1\" /><path clip-path=\"url(#clip190)\" d=\"M739.876 1393.68 L739.876 1377.99 L744.135 1377.99 L744.135 1393.52 Q744.135 1397.2 745.571 1399.05 Q747.006 1400.88 749.876 1400.88 Q753.325 1400.88 755.316 1398.68 Q757.33 1396.48 757.33 1392.69 L757.33 1377.99 L761.589 1377.99 L761.589 1403.91 L757.33 1403.91 L757.33 1399.93 Q755.779 1402.29 753.719 1403.45 Q751.682 1404.59 748.973 1404.59 Q744.506 1404.59 742.191 1401.81 Q739.876 1399.03 739.876 1393.68 M750.594 1377.36 L750.594 1377.36 Z\" fill=\"#000000\" fill-rule=\"evenodd\" fill-opacity=\"1\" /><path clip-path=\"url(#clip190)\" d=\"M785.385 1381.97 Q784.668 1381.55 783.811 1381.37 Q782.978 1381.16 781.959 1381.16 Q778.348 1381.16 776.404 1383.52 Q774.482 1385.86 774.482 1390.26 L774.482 1403.91 L770.2 1403.91 L770.2 1377.99 L774.482 1377.99 L774.482 1382.02 Q775.825 1379.66 777.978 1378.52 Q780.131 1377.36 783.209 1377.36 Q783.649 1377.36 784.181 1377.43 Q784.714 1377.48 785.362 1377.6 L785.385 1381.97 Z\" fill=\"#000000\" fill-rule=\"evenodd\" fill-opacity=\"1\" /><path clip-path=\"url(#clip190)\" d=\"M810.987 1389.89 L810.987 1391.97 L791.404 1391.97 Q791.681 1396.37 794.043 1398.68 Q796.427 1400.97 800.663 1400.97 Q803.117 1400.97 805.408 1400.37 Q807.723 1399.77 809.992 1398.57 L809.992 1402.59 Q807.7 1403.57 805.292 1404.08 Q802.885 1404.59 800.408 1404.59 Q794.205 1404.59 790.57 1400.97 Q786.959 1397.36 786.959 1391.21 Q786.959 1384.84 790.385 1381.11 Q793.834 1377.36 799.668 1377.36 Q804.899 1377.36 807.931 1380.74 Q810.987 1384.1 810.987 1389.89 M806.728 1388.64 Q806.681 1385.14 804.76 1383.06 Q802.862 1380.97 799.714 1380.97 Q796.149 1380.97 793.996 1382.99 Q791.867 1385 791.543 1388.66 L806.728 1388.64 Z\" fill=\"#000000\" fill-rule=\"evenodd\" fill-opacity=\"1\" /><path clip-path=\"url(#clip190)\" d=\"M853.232 1382.97 Q854.829 1380.1 857.051 1378.73 Q859.274 1377.36 862.283 1377.36 Q866.334 1377.36 868.533 1380.21 Q870.732 1383.03 870.732 1388.27 L870.732 1403.91 L866.45 1403.91 L866.45 1388.41 Q866.45 1384.68 865.13 1382.87 Q863.811 1381.07 861.102 1381.07 Q857.792 1381.07 855.871 1383.27 Q853.95 1385.47 853.95 1389.26 L853.95 1403.91 L849.667 1403.91 L849.667 1388.41 Q849.667 1384.66 848.348 1382.87 Q847.028 1381.07 844.274 1381.07 Q841.01 1381.07 839.089 1383.29 Q837.167 1385.49 837.167 1389.26 L837.167 1403.91 L832.885 1403.91 L832.885 1377.99 L837.167 1377.99 L837.167 1382.02 Q838.626 1379.63 840.663 1378.5 Q842.7 1377.36 845.501 1377.36 Q848.325 1377.36 850.292 1378.8 Q852.283 1380.23 853.232 1382.97 Z\" fill=\"#000000\" fill-rule=\"evenodd\" fill-opacity=\"1\" /><path clip-path=\"url(#clip190)\" d=\"M891.01 1390.88 Q885.848 1390.88 883.857 1392.06 Q881.866 1393.24 881.866 1396.09 Q881.866 1398.36 883.348 1399.7 Q884.852 1401.02 887.422 1401.02 Q890.963 1401.02 893.093 1398.52 Q895.246 1396 895.246 1391.83 L895.246 1390.88 L891.01 1390.88 M899.505 1389.12 L899.505 1403.91 L895.246 1403.91 L895.246 1399.98 Q893.787 1402.34 891.611 1403.47 Q889.436 1404.59 886.287 1404.59 Q882.306 1404.59 879.945 1402.36 Q877.607 1400.12 877.607 1396.37 Q877.607 1391.99 880.524 1389.77 Q883.463 1387.55 889.274 1387.55 L895.246 1387.55 L895.246 1387.13 Q895.246 1384.19 893.301 1382.6 Q891.38 1380.97 887.885 1380.97 Q885.662 1380.97 883.556 1381.51 Q881.449 1382.04 879.505 1383.1 L879.505 1379.17 Q881.843 1378.27 884.042 1377.83 Q886.241 1377.36 888.324 1377.36 Q893.949 1377.36 896.727 1380.28 Q899.505 1383.2 899.505 1389.12 Z\" fill=\"#000000\" fill-rule=\"evenodd\" fill-opacity=\"1\" /><path clip-path=\"url(#clip190)\" d=\"M929.829 1377.99 L920.454 1390.6 L930.315 1403.91 L925.292 1403.91 L917.746 1393.73 L910.199 1403.91 L905.176 1403.91 L915.246 1390.35 L906.033 1377.99 L911.056 1377.99 L917.931 1387.22 L924.806 1377.99 L929.829 1377.99 Z\" fill=\"#000000\" fill-rule=\"evenodd\" fill-opacity=\"1\" /></svg>\n"
      ]
     },
     "execution_count": 66,
     "metadata": {},
     "output_type": "execute_result"
    }
   ],
   "source": [
    "plot(1:11, Dectempmin, label=\"Dec Temperature max\", legend=:bottomleft)"
   ]
  },
  {
   "cell_type": "markdown",
   "id": "6987500a",
   "metadata": {},
   "source": [
    "# Now we do this for 2012-2022 Dec Average Data:"
   ]
  },
  {
   "cell_type": "code",
   "execution_count": 67,
   "id": "28df0947",
   "metadata": {},
   "outputs": [
    {
     "data": {
      "text/plain": [
       "11-element Vector{Any}:\n",
       " 19.68\n",
       " 12.59\n",
       " 26.64\n",
       " 30.27\n",
       " 29.27\n",
       "  5.05\n",
       " 28.68\n",
       " 33.64\n",
       " 23.59\n",
       " 25.36\n",
       " 17.68"
      ]
     },
     "execution_count": 67,
     "metadata": {},
     "output_type": "execute_result"
    }
   ],
   "source": [
    "Dectempaverage=C[2:12,4]"
   ]
  },
  {
   "cell_type": "code",
   "execution_count": 68,
   "id": "36c5b4ed",
   "metadata": {},
   "outputs": [
    {
     "data": {
      "image/svg+xml": [
       "<?xml version=\"1.0\" encoding=\"utf-8\"?>\n",
       "<svg xmlns=\"http://www.w3.org/2000/svg\" xmlns:xlink=\"http://www.w3.org/1999/xlink\" width=\"600\" height=\"400\" viewBox=\"0 0 2400 1600\">\n",
       "<defs>\n",
       "  <clipPath id=\"clip230\">\n",
       "    <rect x=\"0\" y=\"0\" width=\"2400\" height=\"1600\"/>\n",
       "  </clipPath>\n",
       "</defs>\n",
       "<path clip-path=\"url(#clip230)\" d=\"\n",
       "M0 1600 L2400 1600 L2400 0 L0 0  Z\n",
       "  \" fill=\"#ffffff\" fill-rule=\"evenodd\" fill-opacity=\"1\"/>\n",
       "<defs>\n",
       "  <clipPath id=\"clip231\">\n",
       "    <rect x=\"480\" y=\"0\" width=\"1681\" height=\"1600\"/>\n",
       "  </clipPath>\n",
       "</defs>\n",
       "<path clip-path=\"url(#clip230)\" d=\"\n",
       "M140.696 1486.45 L2352.76 1486.45 L2352.76 47.2441 L140.696 47.2441  Z\n",
       "  \" fill=\"#ffffff\" fill-rule=\"evenodd\" fill-opacity=\"1\"/>\n",
       "<defs>\n",
       "  <clipPath id=\"clip232\">\n",
       "    <rect x=\"140\" y=\"47\" width=\"2213\" height=\"1440\"/>\n",
       "  </clipPath>\n",
       "</defs>\n",
       "<polyline clip-path=\"url(#clip232)\" style=\"stroke:#000000; stroke-linecap:round; stroke-linejoin:round; stroke-width:2; stroke-opacity:0.1; fill:none\" points=\"\n",
       "  411.986,1486.45 411.986,47.2441 \n",
       "  \"/>\n",
       "<polyline clip-path=\"url(#clip232)\" style=\"stroke:#000000; stroke-linecap:round; stroke-linejoin:round; stroke-width:2; stroke-opacity:0.1; fill:none\" points=\"\n",
       "  829.356,1486.45 829.356,47.2441 \n",
       "  \"/>\n",
       "<polyline clip-path=\"url(#clip232)\" style=\"stroke:#000000; stroke-linecap:round; stroke-linejoin:round; stroke-width:2; stroke-opacity:0.1; fill:none\" points=\"\n",
       "  1246.73,1486.45 1246.73,47.2441 \n",
       "  \"/>\n",
       "<polyline clip-path=\"url(#clip232)\" style=\"stroke:#000000; stroke-linecap:round; stroke-linejoin:round; stroke-width:2; stroke-opacity:0.1; fill:none\" points=\"\n",
       "  1664.1,1486.45 1664.1,47.2441 \n",
       "  \"/>\n",
       "<polyline clip-path=\"url(#clip232)\" style=\"stroke:#000000; stroke-linecap:round; stroke-linejoin:round; stroke-width:2; stroke-opacity:0.1; fill:none\" points=\"\n",
       "  2081.47,1486.45 2081.47,47.2441 \n",
       "  \"/>\n",
       "<polyline clip-path=\"url(#clip230)\" style=\"stroke:#000000; stroke-linecap:round; stroke-linejoin:round; stroke-width:4; stroke-opacity:1; fill:none\" points=\"\n",
       "  140.696,1486.45 2352.76,1486.45 \n",
       "  \"/>\n",
       "<polyline clip-path=\"url(#clip230)\" style=\"stroke:#000000; stroke-linecap:round; stroke-linejoin:round; stroke-width:4; stroke-opacity:1; fill:none\" points=\"\n",
       "  411.986,1486.45 411.986,1467.55 \n",
       "  \"/>\n",
       "<polyline clip-path=\"url(#clip230)\" style=\"stroke:#000000; stroke-linecap:round; stroke-linejoin:round; stroke-width:4; stroke-opacity:1; fill:none\" points=\"\n",
       "  829.356,1486.45 829.356,1467.55 \n",
       "  \"/>\n",
       "<polyline clip-path=\"url(#clip230)\" style=\"stroke:#000000; stroke-linecap:round; stroke-linejoin:round; stroke-width:4; stroke-opacity:1; fill:none\" points=\"\n",
       "  1246.73,1486.45 1246.73,1467.55 \n",
       "  \"/>\n",
       "<polyline clip-path=\"url(#clip230)\" style=\"stroke:#000000; stroke-linecap:round; stroke-linejoin:round; stroke-width:4; stroke-opacity:1; fill:none\" points=\"\n",
       "  1664.1,1486.45 1664.1,1467.55 \n",
       "  \"/>\n",
       "<polyline clip-path=\"url(#clip230)\" style=\"stroke:#000000; stroke-linecap:round; stroke-linejoin:round; stroke-width:4; stroke-opacity:1; fill:none\" points=\"\n",
       "  2081.47,1486.45 2081.47,1467.55 \n",
       "  \"/>\n",
       "<path clip-path=\"url(#clip230)\" d=\"M406.639 1544.91 L422.958 1544.91 L422.958 1548.85 L401.014 1548.85 L401.014 1544.91 Q403.676 1542.16 408.259 1537.53 Q412.866 1532.88 414.046 1531.53 Q416.291 1529.01 417.171 1527.27 Q418.074 1525.51 418.074 1523.82 Q418.074 1521.07 416.129 1519.33 Q414.208 1517.6 411.106 1517.6 Q408.907 1517.6 406.454 1518.36 Q404.023 1519.13 401.245 1520.68 L401.245 1515.95 Q404.069 1514.82 406.523 1514.24 Q408.977 1513.66 411.014 1513.66 Q416.384 1513.66 419.579 1516.35 Q422.773 1519.03 422.773 1523.52 Q422.773 1525.65 421.963 1527.57 Q421.176 1529.47 419.069 1532.07 Q418.491 1532.74 415.389 1535.95 Q412.287 1539.15 406.639 1544.91 Z\" fill=\"#000000\" fill-rule=\"evenodd\" fill-opacity=\"1\" /><path clip-path=\"url(#clip230)\" d=\"M832.365 1518.36 L820.56 1536.81 L832.365 1536.81 L832.365 1518.36 M831.138 1514.29 L837.018 1514.29 L837.018 1536.81 L841.948 1536.81 L841.948 1540.7 L837.018 1540.7 L837.018 1548.85 L832.365 1548.85 L832.365 1540.7 L816.763 1540.7 L816.763 1536.19 L831.138 1514.29 Z\" fill=\"#000000\" fill-rule=\"evenodd\" fill-opacity=\"1\" /><path clip-path=\"url(#clip230)\" d=\"M1247.13 1529.7 Q1243.98 1529.7 1242.13 1531.86 Q1240.3 1534.01 1240.3 1537.76 Q1240.3 1541.49 1242.13 1543.66 Q1243.98 1545.82 1247.13 1545.82 Q1250.28 1545.82 1252.11 1543.66 Q1253.96 1541.49 1253.96 1537.76 Q1253.96 1534.01 1252.11 1531.86 Q1250.28 1529.7 1247.13 1529.7 M1256.41 1515.05 L1256.41 1519.31 Q1254.65 1518.48 1252.85 1518.04 Q1251.07 1517.6 1249.31 1517.6 Q1244.68 1517.6 1242.22 1520.72 Q1239.79 1523.85 1239.45 1530.17 Q1240.81 1528.15 1242.87 1527.09 Q1244.93 1526 1247.41 1526 Q1252.62 1526 1255.63 1529.17 Q1258.66 1532.32 1258.66 1537.76 Q1258.66 1543.08 1255.51 1546.3 Q1252.36 1549.52 1247.13 1549.52 Q1241.14 1549.52 1237.96 1544.94 Q1234.79 1540.33 1234.79 1531.6 Q1234.79 1523.41 1238.68 1518.55 Q1242.57 1513.66 1249.12 1513.66 Q1250.88 1513.66 1252.66 1514.01 Q1254.47 1514.36 1256.41 1515.05 Z\" fill=\"#000000\" fill-rule=\"evenodd\" fill-opacity=\"1\" /><path clip-path=\"url(#clip230)\" d=\"M1664.1 1532.44 Q1660.76 1532.44 1658.84 1534.22 Q1656.94 1536 1656.94 1539.13 Q1656.94 1542.25 1658.84 1544.03 Q1660.76 1545.82 1664.1 1545.82 Q1667.43 1545.82 1669.35 1544.03 Q1671.27 1542.23 1671.27 1539.13 Q1671.27 1536 1669.35 1534.22 Q1667.45 1532.44 1664.1 1532.44 M1659.42 1530.45 Q1656.41 1529.7 1654.72 1527.64 Q1653.05 1525.58 1653.05 1522.62 Q1653.05 1518.48 1655.99 1516.07 Q1658.96 1513.66 1664.1 1513.66 Q1669.26 1513.66 1672.2 1516.07 Q1675.14 1518.48 1675.14 1522.62 Q1675.14 1525.58 1673.45 1527.64 Q1671.78 1529.7 1668.79 1530.45 Q1672.17 1531.23 1674.05 1533.52 Q1675.95 1535.82 1675.95 1539.13 Q1675.95 1544.15 1672.87 1546.83 Q1669.81 1549.52 1664.1 1549.52 Q1658.38 1549.52 1655.3 1546.83 Q1652.24 1544.15 1652.24 1539.13 Q1652.24 1535.82 1654.14 1533.52 Q1656.04 1531.23 1659.42 1530.45 M1657.71 1523.06 Q1657.71 1525.75 1659.37 1527.25 Q1661.06 1528.76 1664.1 1528.76 Q1667.1 1528.76 1668.79 1527.25 Q1670.51 1525.75 1670.51 1523.06 Q1670.51 1520.38 1668.79 1518.87 Q1667.1 1517.37 1664.1 1517.37 Q1661.06 1517.37 1659.37 1518.87 Q1657.71 1520.38 1657.71 1523.06 Z\" fill=\"#000000\" fill-rule=\"evenodd\" fill-opacity=\"1\" /><path clip-path=\"url(#clip230)\" d=\"M2056.15 1544.91 L2063.79 1544.91 L2063.79 1518.55 L2055.48 1520.21 L2055.48 1515.95 L2063.75 1514.29 L2068.42 1514.29 L2068.42 1544.91 L2076.06 1544.91 L2076.06 1548.85 L2056.15 1548.85 L2056.15 1544.91 Z\" fill=\"#000000\" fill-rule=\"evenodd\" fill-opacity=\"1\" /><path clip-path=\"url(#clip230)\" d=\"M2095.5 1517.37 Q2091.89 1517.37 2090.06 1520.93 Q2088.26 1524.47 2088.26 1531.6 Q2088.26 1538.71 2090.06 1542.27 Q2091.89 1545.82 2095.5 1545.82 Q2099.14 1545.82 2100.94 1542.27 Q2102.77 1538.71 2102.77 1531.6 Q2102.77 1524.47 2100.94 1520.93 Q2099.14 1517.37 2095.5 1517.37 M2095.5 1513.66 Q2101.31 1513.66 2104.37 1518.27 Q2107.45 1522.85 2107.45 1531.6 Q2107.45 1540.33 2104.37 1544.94 Q2101.31 1549.52 2095.5 1549.52 Q2089.69 1549.52 2086.62 1544.94 Q2083.56 1540.33 2083.56 1531.6 Q2083.56 1522.85 2086.62 1518.27 Q2089.69 1513.66 2095.5 1513.66 Z\" fill=\"#000000\" fill-rule=\"evenodd\" fill-opacity=\"1\" /><polyline clip-path=\"url(#clip232)\" style=\"stroke:#000000; stroke-linecap:round; stroke-linejoin:round; stroke-width:2; stroke-opacity:0.1; fill:none\" points=\"\n",
       "  140.696,1448.09 2352.76,1448.09 \n",
       "  \"/>\n",
       "<polyline clip-path=\"url(#clip232)\" style=\"stroke:#000000; stroke-linecap:round; stroke-linejoin:round; stroke-width:2; stroke-opacity:0.1; fill:none\" points=\"\n",
       "  140.696,1210.64 2352.76,1210.64 \n",
       "  \"/>\n",
       "<polyline clip-path=\"url(#clip232)\" style=\"stroke:#000000; stroke-linecap:round; stroke-linejoin:round; stroke-width:2; stroke-opacity:0.1; fill:none\" points=\"\n",
       "  140.696,973.19 2352.76,973.19 \n",
       "  \"/>\n",
       "<polyline clip-path=\"url(#clip232)\" style=\"stroke:#000000; stroke-linecap:round; stroke-linejoin:round; stroke-width:2; stroke-opacity:0.1; fill:none\" points=\"\n",
       "  140.696,735.74 2352.76,735.74 \n",
       "  \"/>\n",
       "<polyline clip-path=\"url(#clip232)\" style=\"stroke:#000000; stroke-linecap:round; stroke-linejoin:round; stroke-width:2; stroke-opacity:0.1; fill:none\" points=\"\n",
       "  140.696,498.29 2352.76,498.29 \n",
       "  \"/>\n",
       "<polyline clip-path=\"url(#clip232)\" style=\"stroke:#000000; stroke-linecap:round; stroke-linejoin:round; stroke-width:2; stroke-opacity:0.1; fill:none\" points=\"\n",
       "  140.696,260.84 2352.76,260.84 \n",
       "  \"/>\n",
       "<polyline clip-path=\"url(#clip230)\" style=\"stroke:#000000; stroke-linecap:round; stroke-linejoin:round; stroke-width:4; stroke-opacity:1; fill:none\" points=\"\n",
       "  140.696,1486.45 140.696,47.2441 \n",
       "  \"/>\n",
       "<polyline clip-path=\"url(#clip230)\" style=\"stroke:#000000; stroke-linecap:round; stroke-linejoin:round; stroke-width:4; stroke-opacity:1; fill:none\" points=\"\n",
       "  140.696,1448.09 159.593,1448.09 \n",
       "  \"/>\n",
       "<polyline clip-path=\"url(#clip230)\" style=\"stroke:#000000; stroke-linecap:round; stroke-linejoin:round; stroke-width:4; stroke-opacity:1; fill:none\" points=\"\n",
       "  140.696,1210.64 159.593,1210.64 \n",
       "  \"/>\n",
       "<polyline clip-path=\"url(#clip230)\" style=\"stroke:#000000; stroke-linecap:round; stroke-linejoin:round; stroke-width:4; stroke-opacity:1; fill:none\" points=\"\n",
       "  140.696,973.19 159.593,973.19 \n",
       "  \"/>\n",
       "<polyline clip-path=\"url(#clip230)\" style=\"stroke:#000000; stroke-linecap:round; stroke-linejoin:round; stroke-width:4; stroke-opacity:1; fill:none\" points=\"\n",
       "  140.696,735.74 159.593,735.74 \n",
       "  \"/>\n",
       "<polyline clip-path=\"url(#clip230)\" style=\"stroke:#000000; stroke-linecap:round; stroke-linejoin:round; stroke-width:4; stroke-opacity:1; fill:none\" points=\"\n",
       "  140.696,498.29 159.593,498.29 \n",
       "  \"/>\n",
       "<polyline clip-path=\"url(#clip230)\" style=\"stroke:#000000; stroke-linecap:round; stroke-linejoin:round; stroke-width:4; stroke-opacity:1; fill:none\" points=\"\n",
       "  140.696,260.84 159.593,260.84 \n",
       "  \"/>\n",
       "<path clip-path=\"url(#clip230)\" d=\"M83.7929 1430.81 L102.149 1430.81 L102.149 1434.75 L88.0753 1434.75 L88.0753 1443.22 Q89.0938 1442.87 90.1123 1442.71 Q91.1308 1442.52 92.1493 1442.52 Q97.9363 1442.52 101.316 1445.69 Q104.696 1448.87 104.696 1454.28 Q104.696 1459.86 101.223 1462.96 Q97.7511 1466.04 91.4317 1466.04 Q89.2558 1466.04 86.9873 1465.67 Q84.7419 1465.3 82.3346 1464.56 L82.3346 1459.86 Q84.4179 1461 86.6401 1461.55 Q88.8623 1462.11 91.3391 1462.11 Q95.3437 1462.11 97.6817 1460 Q100.02 1457.89 100.02 1454.28 Q100.02 1450.67 97.6817 1448.56 Q95.3437 1446.46 91.3391 1446.46 Q89.4641 1446.46 87.5892 1446.87 Q85.7373 1447.29 83.7929 1448.17 L83.7929 1430.81 Z\" fill=\"#000000\" fill-rule=\"evenodd\" fill-opacity=\"1\" /><path clip-path=\"url(#clip230)\" d=\"M53.3995 1223.98 L61.0384 1223.98 L61.0384 1197.62 L52.7282 1199.29 L52.7282 1195.03 L60.9921 1193.36 L65.668 1193.36 L65.668 1223.98 L73.3068 1223.98 L73.3068 1227.92 L53.3995 1227.92 L53.3995 1223.98 Z\" fill=\"#000000\" fill-rule=\"evenodd\" fill-opacity=\"1\" /><path clip-path=\"url(#clip230)\" d=\"M92.7512 1196.44 Q89.1401 1196.44 87.3114 1200 Q85.5058 1203.55 85.5058 1210.67 Q85.5058 1217.78 87.3114 1221.35 Q89.1401 1224.89 92.7512 1224.89 Q96.3854 1224.89 98.1909 1221.35 Q100.02 1217.78 100.02 1210.67 Q100.02 1203.55 98.1909 1200 Q96.3854 1196.44 92.7512 1196.44 M92.7512 1192.74 Q98.5613 1192.74 101.617 1197.34 Q104.696 1201.92 104.696 1210.67 Q104.696 1219.4 101.617 1224.01 Q98.5613 1228.59 92.7512 1228.59 Q86.941 1228.59 83.8623 1224.01 Q80.8068 1219.4 80.8068 1210.67 Q80.8068 1201.92 83.8623 1197.34 Q86.941 1192.74 92.7512 1192.74 Z\" fill=\"#000000\" fill-rule=\"evenodd\" fill-opacity=\"1\" /><path clip-path=\"url(#clip230)\" d=\"M54.3949 986.535 L62.0337 986.535 L62.0337 960.169 L53.7236 961.836 L53.7236 957.577 L61.9874 955.91 L66.6633 955.91 L66.6633 986.535 L74.3022 986.535 L74.3022 990.47 L54.3949 990.47 L54.3949 986.535 Z\" fill=\"#000000\" fill-rule=\"evenodd\" fill-opacity=\"1\" /><path clip-path=\"url(#clip230)\" d=\"M83.7929 955.91 L102.149 955.91 L102.149 959.845 L88.0753 959.845 L88.0753 968.317 Q89.0938 967.97 90.1123 967.808 Q91.1308 967.623 92.1493 967.623 Q97.9363 967.623 101.316 970.794 Q104.696 973.966 104.696 979.382 Q104.696 984.961 101.223 988.063 Q97.7511 991.141 91.4317 991.141 Q89.2558 991.141 86.9873 990.771 Q84.7419 990.401 82.3346 989.66 L82.3346 984.961 Q84.4179 986.095 86.6401 986.651 Q88.8623 987.206 91.3391 987.206 Q95.3437 987.206 97.6817 985.1 Q100.02 982.993 100.02 979.382 Q100.02 975.771 97.6817 973.665 Q95.3437 971.558 91.3391 971.558 Q89.4641 971.558 87.5892 971.975 Q85.7373 972.391 83.7929 973.271 L83.7929 955.91 Z\" fill=\"#000000\" fill-rule=\"evenodd\" fill-opacity=\"1\" /><path clip-path=\"url(#clip230)\" d=\"M56.6171 749.085 L72.9365 749.085 L72.9365 753.02 L50.9921 753.02 L50.9921 749.085 Q53.6541 746.33 58.2375 741.701 Q62.8439 737.048 64.0245 735.705 Q66.2698 733.182 67.1494 731.446 Q68.0522 729.687 68.0522 727.997 Q68.0522 725.242 66.1078 723.506 Q64.1865 721.77 61.0847 721.77 Q58.8856 721.77 56.4319 722.534 Q54.0014 723.298 51.2236 724.849 L51.2236 720.127 Q54.0477 718.992 56.5014 718.414 Q58.955 717.835 60.9921 717.835 Q66.3624 717.835 69.5568 720.52 Q72.7513 723.205 72.7513 727.696 Q72.7513 729.826 71.9411 731.747 Q71.1541 733.645 69.0476 736.238 Q68.4689 736.909 65.367 740.127 Q62.2652 743.321 56.6171 749.085 Z\" fill=\"#000000\" fill-rule=\"evenodd\" fill-opacity=\"1\" /><path clip-path=\"url(#clip230)\" d=\"M92.7512 721.539 Q89.1401 721.539 87.3114 725.104 Q85.5058 728.645 85.5058 735.775 Q85.5058 742.881 87.3114 746.446 Q89.1401 749.988 92.7512 749.988 Q96.3854 749.988 98.1909 746.446 Q100.02 742.881 100.02 735.775 Q100.02 728.645 98.1909 725.104 Q96.3854 721.539 92.7512 721.539 M92.7512 717.835 Q98.5613 717.835 101.617 722.441 Q104.696 727.025 104.696 735.775 Q104.696 744.502 101.617 749.108 Q98.5613 753.691 92.7512 753.691 Q86.941 753.691 83.8623 749.108 Q80.8068 744.502 80.8068 735.775 Q80.8068 727.025 83.8623 722.441 Q86.941 717.835 92.7512 717.835 Z\" fill=\"#000000\" fill-rule=\"evenodd\" fill-opacity=\"1\" /><path clip-path=\"url(#clip230)\" d=\"M57.6125 511.635 L73.9318 511.635 L73.9318 515.57 L51.9875 515.57 L51.9875 511.635 Q54.6495 508.88 59.2328 504.251 Q63.8393 499.598 65.0198 498.255 Q67.2652 495.732 68.1448 493.996 Q69.0476 492.237 69.0476 490.547 Q69.0476 487.792 67.1032 486.056 Q65.1819 484.32 62.08 484.32 Q59.881 484.32 57.4273 485.084 Q54.9967 485.848 52.219 487.399 L52.219 482.677 Q55.043 481.542 57.4967 480.964 Q59.9504 480.385 61.9874 480.385 Q67.3578 480.385 70.5522 483.07 Q73.7466 485.755 73.7466 490.246 Q73.7466 492.376 72.9365 494.297 Q72.1494 496.195 70.0429 498.788 Q69.4642 499.459 66.3624 502.677 Q63.2606 505.871 57.6125 511.635 Z\" fill=\"#000000\" fill-rule=\"evenodd\" fill-opacity=\"1\" /><path clip-path=\"url(#clip230)\" d=\"M83.7929 481.01 L102.149 481.01 L102.149 484.945 L88.0753 484.945 L88.0753 493.417 Q89.0938 493.07 90.1123 492.908 Q91.1308 492.723 92.1493 492.723 Q97.9363 492.723 101.316 495.894 Q104.696 499.065 104.696 504.482 Q104.696 510.061 101.223 513.163 Q97.7511 516.241 91.4317 516.241 Q89.2558 516.241 86.9873 515.871 Q84.7419 515.501 82.3346 514.76 L82.3346 510.061 Q84.4179 511.195 86.6401 511.751 Q88.8623 512.306 91.3391 512.306 Q95.3437 512.306 97.6817 510.2 Q100.02 508.093 100.02 504.482 Q100.02 500.871 97.6817 498.765 Q95.3437 496.658 91.3391 496.658 Q89.4641 496.658 87.5892 497.075 Q85.7373 497.491 83.7929 498.371 L83.7929 481.01 Z\" fill=\"#000000\" fill-rule=\"evenodd\" fill-opacity=\"1\" /><path clip-path=\"url(#clip230)\" d=\"M66.7559 259.486 Q70.1124 260.203 71.9874 262.472 Q73.8855 264.74 73.8855 268.074 Q73.8855 273.189 70.367 275.99 Q66.8485 278.791 60.3671 278.791 Q58.1912 278.791 55.8764 278.351 Q53.5847 277.935 51.131 277.078 L51.131 272.564 Q53.0754 273.699 55.3903 274.277 Q57.7051 274.856 60.2282 274.856 Q64.6263 274.856 66.918 273.12 Q69.2328 271.384 69.2328 268.074 Q69.2328 265.018 67.08 263.305 Q64.9504 261.569 61.131 261.569 L57.1032 261.569 L57.1032 257.727 L61.3161 257.727 Q64.7652 257.727 66.5939 256.361 Q68.4226 254.972 68.4226 252.379 Q68.4226 249.717 66.5245 248.305 Q64.6495 246.87 61.131 246.87 Q59.2097 246.87 57.0106 247.287 Q54.8115 247.703 52.1727 248.583 L52.1727 244.416 Q54.8347 243.676 57.1495 243.305 Q59.4875 242.935 61.5476 242.935 Q66.8717 242.935 69.9735 245.365 Q73.0753 247.773 73.0753 251.893 Q73.0753 254.764 71.4318 256.754 Q69.7883 258.722 66.7559 259.486 Z\" fill=\"#000000\" fill-rule=\"evenodd\" fill-opacity=\"1\" /><path clip-path=\"url(#clip230)\" d=\"M92.7512 246.639 Q89.1401 246.639 87.3114 250.203 Q85.5058 253.745 85.5058 260.875 Q85.5058 267.981 87.3114 271.546 Q89.1401 275.088 92.7512 275.088 Q96.3854 275.088 98.1909 271.546 Q100.02 267.981 100.02 260.875 Q100.02 253.745 98.1909 250.203 Q96.3854 246.639 92.7512 246.639 M92.7512 242.935 Q98.5613 242.935 101.617 247.541 Q104.696 252.125 104.696 260.875 Q104.696 269.601 101.617 274.208 Q98.5613 278.791 92.7512 278.791 Q86.941 278.791 83.8623 274.208 Q80.8068 269.601 80.8068 260.875 Q80.8068 252.125 83.8623 247.541 Q86.941 242.935 92.7512 242.935 Z\" fill=\"#000000\" fill-rule=\"evenodd\" fill-opacity=\"1\" /><polyline clip-path=\"url(#clip232)\" style=\"stroke:#009af9; stroke-linecap:round; stroke-linejoin:round; stroke-width:4; stroke-opacity:1; fill:none\" points=\"\n",
       "  203.301,750.937 411.986,1087.64 620.671,420.406 829.356,248.018 1038.04,295.508 1246.73,1445.72 1455.41,323.527 1664.1,87.9763 1872.78,565.251 2081.47,481.194 \n",
       "  2290.15,845.917 \n",
       "  \"/>\n",
       "<path clip-path=\"url(#clip230)\" d=\"\n",
       "M214.431 1438.47 L1045.31 1438.47 L1045.31 1334.79 L214.431 1334.79  Z\n",
       "  \" fill=\"#ffffff\" fill-rule=\"evenodd\" fill-opacity=\"1\"/>\n",
       "<polyline clip-path=\"url(#clip230)\" style=\"stroke:#000000; stroke-linecap:round; stroke-linejoin:round; stroke-width:4; stroke-opacity:1; fill:none\" points=\"\n",
       "  214.431,1438.47 1045.31,1438.47 1045.31,1334.79 214.431,1334.79 214.431,1438.47 \n",
       "  \"/>\n",
       "<polyline clip-path=\"url(#clip230)\" style=\"stroke:#009af9; stroke-linecap:round; stroke-linejoin:round; stroke-width:4; stroke-opacity:1; fill:none\" points=\"\n",
       "  239.009,1386.63 386.48,1386.63 \n",
       "  \"/>\n",
       "<path clip-path=\"url(#clip230)\" d=\"M415.734 1373.2 L415.734 1400.07 L421.382 1400.07 Q428.535 1400.07 431.845 1396.83 Q435.179 1393.59 435.179 1386.6 Q435.179 1379.66 431.845 1376.44 Q428.535 1373.2 421.382 1373.2 L415.734 1373.2 M411.058 1369.35 L420.665 1369.35 Q430.711 1369.35 435.41 1373.54 Q440.109 1377.71 440.109 1386.6 Q440.109 1395.53 435.387 1399.72 Q430.665 1403.91 420.665 1403.91 L411.058 1403.91 L411.058 1369.35 Z\" fill=\"#000000\" fill-rule=\"evenodd\" fill-opacity=\"1\" /><path clip-path=\"url(#clip230)\" d=\"M469.554 1389.89 L469.554 1391.97 L449.97 1391.97 Q450.248 1396.37 452.609 1398.68 Q454.993 1400.97 459.23 1400.97 Q461.683 1400.97 463.975 1400.37 Q466.29 1399.77 468.558 1398.57 L468.558 1402.59 Q466.267 1403.57 463.859 1404.08 Q461.452 1404.59 458.975 1404.59 Q452.771 1404.59 449.137 1400.97 Q445.526 1397.36 445.526 1391.21 Q445.526 1384.84 448.952 1381.11 Q452.401 1377.36 458.234 1377.36 Q463.466 1377.36 466.498 1380.74 Q469.554 1384.1 469.554 1389.89 M465.294 1388.64 Q465.248 1385.14 463.327 1383.06 Q461.429 1380.97 458.28 1380.97 Q454.716 1380.97 452.563 1382.99 Q450.433 1385 450.109 1388.66 L465.294 1388.64 Z\" fill=\"#000000\" fill-rule=\"evenodd\" fill-opacity=\"1\" /><path clip-path=\"url(#clip230)\" d=\"M495.202 1378.98 L495.202 1382.97 Q493.396 1381.97 491.567 1381.48 Q489.762 1380.97 487.91 1380.97 Q483.766 1380.97 481.475 1383.61 Q479.183 1386.23 479.183 1390.97 Q479.183 1395.72 481.475 1398.36 Q483.766 1400.97 487.91 1400.97 Q489.762 1400.97 491.567 1400.49 Q493.396 1399.98 495.202 1398.98 L495.202 1402.92 Q493.419 1403.75 491.498 1404.17 Q489.6 1404.59 487.447 1404.59 Q481.591 1404.59 478.141 1400.91 Q474.692 1397.22 474.692 1390.97 Q474.692 1384.63 478.165 1381 Q481.66 1377.36 487.725 1377.36 Q489.692 1377.36 491.567 1377.78 Q493.442 1378.17 495.202 1378.98 Z\" fill=\"#000000\" fill-rule=\"evenodd\" fill-opacity=\"1\" /><path clip-path=\"url(#clip230)\" d=\"M513.072 1369.35 L542.308 1369.35 L542.308 1373.29 L530.039 1373.29 L530.039 1403.91 L525.34 1403.91 L525.34 1373.29 L513.072 1373.29 L513.072 1369.35 Z\" fill=\"#000000\" fill-rule=\"evenodd\" fill-opacity=\"1\" /><path clip-path=\"url(#clip230)\" d=\"M560.757 1389.89 L560.757 1391.97 L541.174 1391.97 Q541.451 1396.37 543.812 1398.68 Q546.197 1400.97 550.433 1400.97 Q552.886 1400.97 555.178 1400.37 Q557.493 1399.77 559.761 1398.57 L559.761 1402.59 Q557.47 1403.57 555.062 1404.08 Q552.655 1404.59 550.178 1404.59 Q543.974 1404.59 540.34 1400.97 Q536.729 1397.36 536.729 1391.21 Q536.729 1384.84 540.155 1381.11 Q543.604 1377.36 549.437 1377.36 Q554.669 1377.36 557.701 1380.74 Q560.757 1384.1 560.757 1389.89 M556.498 1388.64 Q556.451 1385.14 554.53 1383.06 Q552.632 1380.97 549.484 1380.97 Q545.919 1380.97 543.766 1382.99 Q541.636 1385 541.312 1388.66 L556.498 1388.64 Z\" fill=\"#000000\" fill-rule=\"evenodd\" fill-opacity=\"1\" /><path clip-path=\"url(#clip230)\" d=\"M587.933 1382.97 Q589.53 1380.1 591.752 1378.73 Q593.974 1377.36 596.983 1377.36 Q601.034 1377.36 603.233 1380.21 Q605.432 1383.03 605.432 1388.27 L605.432 1403.91 L601.15 1403.91 L601.15 1388.41 Q601.15 1384.68 599.831 1382.87 Q598.511 1381.07 595.803 1381.07 Q592.493 1381.07 590.571 1383.27 Q588.65 1385.47 588.65 1389.26 L588.65 1403.91 L584.368 1403.91 L584.368 1388.41 Q584.368 1384.66 583.048 1382.87 Q581.729 1381.07 578.974 1381.07 Q575.71 1381.07 573.789 1383.29 Q571.868 1385.49 571.868 1389.26 L571.868 1403.91 L567.585 1403.91 L567.585 1377.99 L571.868 1377.99 L571.868 1382.02 Q573.326 1379.63 575.363 1378.5 Q577.4 1377.36 580.201 1377.36 Q583.025 1377.36 584.993 1378.8 Q586.983 1380.23 587.933 1382.97 Z\" fill=\"#000000\" fill-rule=\"evenodd\" fill-opacity=\"1\" /><path clip-path=\"url(#clip230)\" d=\"M618.048 1400.03 L618.048 1413.78 L613.766 1413.78 L613.766 1377.99 L618.048 1377.99 L618.048 1381.92 Q619.391 1379.61 621.428 1378.5 Q623.488 1377.36 626.335 1377.36 Q631.057 1377.36 633.997 1381.11 Q636.96 1384.86 636.96 1390.97 Q636.96 1397.09 633.997 1400.84 Q631.057 1404.59 626.335 1404.59 Q623.488 1404.59 621.428 1403.47 Q619.391 1402.34 618.048 1400.03 M632.539 1390.97 Q632.539 1386.28 630.594 1383.61 Q628.673 1380.93 625.293 1380.93 Q621.914 1380.93 619.969 1383.61 Q618.048 1386.28 618.048 1390.97 Q618.048 1395.67 619.969 1398.36 Q621.914 1401.02 625.293 1401.02 Q628.673 1401.02 630.594 1398.36 Q632.539 1395.67 632.539 1390.97 Z\" fill=\"#000000\" fill-rule=\"evenodd\" fill-opacity=\"1\" /><path clip-path=\"url(#clip230)\" d=\"M666.196 1389.89 L666.196 1391.97 L646.613 1391.97 Q646.891 1396.37 649.252 1398.68 Q651.636 1400.97 655.872 1400.97 Q658.326 1400.97 660.617 1400.37 Q662.932 1399.77 665.201 1398.57 L665.201 1402.59 Q662.909 1403.57 660.502 1404.08 Q658.094 1404.59 655.617 1404.59 Q649.414 1404.59 645.779 1400.97 Q642.168 1397.36 642.168 1391.21 Q642.168 1384.84 645.594 1381.11 Q649.043 1377.36 654.877 1377.36 Q660.108 1377.36 663.14 1380.74 Q666.196 1384.1 666.196 1389.89 M661.937 1388.64 Q661.89 1385.14 659.969 1383.06 Q658.071 1380.97 654.923 1380.97 Q651.358 1380.97 649.205 1382.99 Q647.076 1385 646.752 1388.66 L661.937 1388.64 Z\" fill=\"#000000\" fill-rule=\"evenodd\" fill-opacity=\"1\" /><path clip-path=\"url(#clip230)\" d=\"M688.21 1381.97 Q687.492 1381.55 686.636 1381.37 Q685.802 1381.16 684.784 1381.16 Q681.173 1381.16 679.228 1383.52 Q677.307 1385.86 677.307 1390.26 L677.307 1403.91 L673.025 1403.91 L673.025 1377.99 L677.307 1377.99 L677.307 1382.02 Q678.65 1379.66 680.802 1378.52 Q682.955 1377.36 686.034 1377.36 Q686.474 1377.36 687.006 1377.43 Q687.538 1377.48 688.187 1377.6 L688.21 1381.97 Z\" fill=\"#000000\" fill-rule=\"evenodd\" fill-opacity=\"1\" /><path clip-path=\"url(#clip230)\" d=\"M704.46 1390.88 Q699.298 1390.88 697.307 1392.06 Q695.316 1393.24 695.316 1396.09 Q695.316 1398.36 696.798 1399.7 Q698.302 1401.02 700.872 1401.02 Q704.413 1401.02 706.543 1398.52 Q708.696 1396 708.696 1391.83 L708.696 1390.88 L704.46 1390.88 M712.955 1389.12 L712.955 1403.91 L708.696 1403.91 L708.696 1399.98 Q707.237 1402.34 705.062 1403.47 Q702.886 1404.59 699.737 1404.59 Q695.756 1404.59 693.395 1402.36 Q691.057 1400.12 691.057 1396.37 Q691.057 1391.99 693.974 1389.77 Q696.913 1387.55 702.724 1387.55 L708.696 1387.55 L708.696 1387.13 Q708.696 1384.19 706.751 1382.6 Q704.83 1380.97 701.335 1380.97 Q699.112 1380.97 697.006 1381.51 Q694.9 1382.04 692.955 1383.1 L692.955 1379.17 Q695.293 1378.27 697.492 1377.83 Q699.691 1377.36 701.775 1377.36 Q707.399 1377.36 710.177 1380.28 Q712.955 1383.2 712.955 1389.12 Z\" fill=\"#000000\" fill-rule=\"evenodd\" fill-opacity=\"1\" /><path clip-path=\"url(#clip230)\" d=\"M725.941 1370.63 L725.941 1377.99 L734.714 1377.99 L734.714 1381.3 L725.941 1381.3 L725.941 1395.37 Q725.941 1398.54 726.798 1399.45 Q727.677 1400.35 730.339 1400.35 L734.714 1400.35 L734.714 1403.91 L730.339 1403.91 Q725.409 1403.91 723.534 1402.09 Q721.659 1400.23 721.659 1395.37 L721.659 1381.3 L718.534 1381.3 L718.534 1377.99 L721.659 1377.99 L721.659 1370.63 L725.941 1370.63 Z\" fill=\"#000000\" fill-rule=\"evenodd\" fill-opacity=\"1\" /><path clip-path=\"url(#clip230)\" d=\"M739.876 1393.68 L739.876 1377.99 L744.135 1377.99 L744.135 1393.52 Q744.135 1397.2 745.571 1399.05 Q747.006 1400.88 749.876 1400.88 Q753.325 1400.88 755.316 1398.68 Q757.33 1396.48 757.33 1392.69 L757.33 1377.99 L761.589 1377.99 L761.589 1403.91 L757.33 1403.91 L757.33 1399.93 Q755.779 1402.29 753.719 1403.45 Q751.682 1404.59 748.973 1404.59 Q744.506 1404.59 742.191 1401.81 Q739.876 1399.03 739.876 1393.68 M750.594 1377.36 L750.594 1377.36 Z\" fill=\"#000000\" fill-rule=\"evenodd\" fill-opacity=\"1\" /><path clip-path=\"url(#clip230)\" d=\"M785.385 1381.97 Q784.668 1381.55 783.811 1381.37 Q782.978 1381.16 781.959 1381.16 Q778.348 1381.16 776.404 1383.52 Q774.482 1385.86 774.482 1390.26 L774.482 1403.91 L770.2 1403.91 L770.2 1377.99 L774.482 1377.99 L774.482 1382.02 Q775.825 1379.66 777.978 1378.52 Q780.131 1377.36 783.209 1377.36 Q783.649 1377.36 784.181 1377.43 Q784.714 1377.48 785.362 1377.6 L785.385 1381.97 Z\" fill=\"#000000\" fill-rule=\"evenodd\" fill-opacity=\"1\" /><path clip-path=\"url(#clip230)\" d=\"M810.987 1389.89 L810.987 1391.97 L791.404 1391.97 Q791.681 1396.37 794.043 1398.68 Q796.427 1400.97 800.663 1400.97 Q803.117 1400.97 805.408 1400.37 Q807.723 1399.77 809.992 1398.57 L809.992 1402.59 Q807.7 1403.57 805.292 1404.08 Q802.885 1404.59 800.408 1404.59 Q794.205 1404.59 790.57 1400.97 Q786.959 1397.36 786.959 1391.21 Q786.959 1384.84 790.385 1381.11 Q793.834 1377.36 799.668 1377.36 Q804.899 1377.36 807.931 1380.74 Q810.987 1384.1 810.987 1389.89 M806.728 1388.64 Q806.681 1385.14 804.76 1383.06 Q802.862 1380.97 799.714 1380.97 Q796.149 1380.97 793.996 1382.99 Q791.867 1385 791.543 1388.66 L806.728 1388.64 Z\" fill=\"#000000\" fill-rule=\"evenodd\" fill-opacity=\"1\" /><path clip-path=\"url(#clip230)\" d=\"M844.783 1373.96 L838.44 1391.16 L851.149 1391.16 L844.783 1373.96 M842.144 1369.35 L847.445 1369.35 L860.616 1403.91 L855.755 1403.91 L852.607 1395.05 L837.028 1395.05 L833.88 1403.91 L828.95 1403.91 L842.144 1369.35 Z\" fill=\"#000000\" fill-rule=\"evenodd\" fill-opacity=\"1\" /><path clip-path=\"url(#clip230)\" d=\"M859.644 1377.99 L864.158 1377.99 L872.26 1399.75 L880.362 1377.99 L884.875 1377.99 L875.153 1403.91 L869.366 1403.91 L859.644 1377.99 Z\" fill=\"#000000\" fill-rule=\"evenodd\" fill-opacity=\"1\" /><path clip-path=\"url(#clip230)\" d=\"M912.931 1389.89 L912.931 1391.97 L893.348 1391.97 Q893.625 1396.37 895.986 1398.68 Q898.371 1400.97 902.607 1400.97 Q905.06 1400.97 907.352 1400.37 Q909.667 1399.77 911.935 1398.57 L911.935 1402.59 Q909.644 1403.57 907.236 1404.08 Q904.829 1404.59 902.352 1404.59 Q896.148 1404.59 892.514 1400.97 Q888.903 1397.36 888.903 1391.21 Q888.903 1384.84 892.329 1381.11 Q895.778 1377.36 901.611 1377.36 Q906.843 1377.36 909.875 1380.74 Q912.931 1384.1 912.931 1389.89 M908.672 1388.64 Q908.625 1385.14 906.704 1383.06 Q904.806 1380.97 901.658 1380.97 Q898.093 1380.97 895.94 1382.99 Q893.811 1385 893.486 1388.66 L908.672 1388.64 Z\" fill=\"#000000\" fill-rule=\"evenodd\" fill-opacity=\"1\" /><path clip-path=\"url(#clip230)\" d=\"M934.945 1381.97 Q934.227 1381.55 933.37 1381.37 Q932.537 1381.16 931.519 1381.16 Q927.908 1381.16 925.963 1383.52 Q924.042 1385.86 924.042 1390.26 L924.042 1403.91 L919.759 1403.91 L919.759 1377.99 L924.042 1377.99 L924.042 1382.02 Q925.384 1379.66 927.537 1378.52 Q929.69 1377.36 932.769 1377.36 Q933.208 1377.36 933.741 1377.43 Q934.273 1377.48 934.921 1377.6 L934.945 1381.97 Z\" fill=\"#000000\" fill-rule=\"evenodd\" fill-opacity=\"1\" /><path clip-path=\"url(#clip230)\" d=\"M951.194 1390.88 Q946.032 1390.88 944.042 1392.06 Q942.051 1393.24 942.051 1396.09 Q942.051 1398.36 943.532 1399.7 Q945.037 1401.02 947.607 1401.02 Q951.148 1401.02 953.278 1398.52 Q955.431 1396 955.431 1391.83 L955.431 1390.88 L951.194 1390.88 M959.69 1389.12 L959.69 1403.91 L955.431 1403.91 L955.431 1399.98 Q953.972 1402.34 951.796 1403.47 Q949.62 1404.59 946.472 1404.59 Q942.491 1404.59 940.13 1402.36 Q937.792 1400.12 937.792 1396.37 Q937.792 1391.99 940.708 1389.77 Q943.648 1387.55 949.458 1387.55 L955.431 1387.55 L955.431 1387.13 Q955.431 1384.19 953.486 1382.6 Q951.565 1380.97 948.069 1380.97 Q945.847 1380.97 943.741 1381.51 Q941.634 1382.04 939.69 1383.1 L939.69 1379.17 Q942.028 1378.27 944.227 1377.83 Q946.426 1377.36 948.509 1377.36 Q954.134 1377.36 956.912 1380.28 Q959.69 1383.2 959.69 1389.12 Z\" fill=\"#000000\" fill-rule=\"evenodd\" fill-opacity=\"1\" /><path clip-path=\"url(#clip230)\" d=\"M985.523 1390.65 Q985.523 1386.02 983.602 1383.47 Q981.704 1380.93 978.255 1380.93 Q974.829 1380.93 972.907 1383.47 Q971.009 1386.02 971.009 1390.65 Q971.009 1395.26 972.907 1397.8 Q974.829 1400.35 978.255 1400.35 Q981.704 1400.35 983.602 1397.8 Q985.523 1395.26 985.523 1390.65 M989.782 1400.7 Q989.782 1407.32 986.842 1410.53 Q983.903 1413.78 977.838 1413.78 Q975.592 1413.78 973.602 1413.43 Q971.611 1413.1 969.736 1412.41 L969.736 1408.27 Q971.611 1409.28 973.44 1409.77 Q975.268 1410.26 977.167 1410.26 Q981.356 1410.26 983.44 1408.06 Q985.523 1405.88 985.523 1401.46 L985.523 1399.35 Q984.204 1401.65 982.143 1402.78 Q980.083 1403.91 977.213 1403.91 Q972.444 1403.91 969.528 1400.28 Q966.611 1396.65 966.611 1390.65 Q966.611 1384.63 969.528 1381 Q972.444 1377.36 977.213 1377.36 Q980.083 1377.36 982.143 1378.5 Q984.204 1379.63 985.523 1381.92 L985.523 1377.99 L989.782 1377.99 L989.782 1400.7 Z\" fill=\"#000000\" fill-rule=\"evenodd\" fill-opacity=\"1\" /><path clip-path=\"url(#clip230)\" d=\"M1020.73 1389.89 L1020.73 1391.97 L1001.15 1391.97 Q1001.43 1396.37 1003.79 1398.68 Q1006.17 1400.97 1010.41 1400.97 Q1012.86 1400.97 1015.15 1400.37 Q1017.47 1399.77 1019.74 1398.57 L1019.74 1402.59 Q1017.44 1403.57 1015.04 1404.08 Q1012.63 1404.59 1010.15 1404.59 Q1003.95 1404.59 1000.31 1400.97 Q996.703 1397.36 996.703 1391.21 Q996.703 1384.84 1000.13 1381.11 Q1003.58 1377.36 1009.41 1377.36 Q1014.64 1377.36 1017.68 1380.74 Q1020.73 1384.1 1020.73 1389.89 M1016.47 1388.64 Q1016.43 1385.14 1014.5 1383.06 Q1012.61 1380.97 1009.46 1380.97 Q1005.89 1380.97 1003.74 1382.99 Q1001.61 1385 1001.29 1388.66 L1016.47 1388.64 Z\" fill=\"#000000\" fill-rule=\"evenodd\" fill-opacity=\"1\" /></svg>\n"
      ]
     },
     "execution_count": 68,
     "metadata": {},
     "output_type": "execute_result"
    }
   ],
   "source": [
    "plot(1:11, Dectempaverage, label=\"Dec Temperature Average\", legend=:bottomleft)"
   ]
  },
  {
   "cell_type": "markdown",
   "id": "6b2bc1d5",
   "metadata": {},
   "source": [
    "# Now we are going to graph December Minimum Average temperature 1922 and December Minimum Average temperature 2012: "
   ]
  },
  {
   "cell_type": "code",
   "execution_count": 69,
   "id": "89f0f1f4",
   "metadata": {},
   "outputs": [
    {
     "data": {
      "text/plain": [
       "11-element Vector{Any}:\n",
       " 21.18\n",
       " 22.3\n",
       " 22.34\n",
       " -0.36\n",
       " 12.91\n",
       " 14.0\n",
       " 18.36\n",
       " 16.91\n",
       " 13.73\n",
       " 31.818\n",
       " 25.18"
      ]
     },
     "execution_count": 69,
     "metadata": {},
     "output_type": "execute_result"
    }
   ],
   "source": [
    "#December 1922-1932 Min Average\n",
    "dectempmin1922=B[2:12,2]"
   ]
  },
  {
   "cell_type": "code",
   "execution_count": 70,
   "id": "eee589fd",
   "metadata": {},
   "outputs": [
    {
     "data": {
      "text/plain": [
       "11-element Vector{Any}:\n",
       " 13.0\n",
       "  4.09\n",
       " 21.545\n",
       " 25.73\n",
       " 22.82\n",
       " -3.28\n",
       " 22.27\n",
       " 28.18\n",
       " 15.64\n",
       " 17.36\n",
       "  9.27"
      ]
     },
     "execution_count": 70,
     "metadata": {},
     "output_type": "execute_result"
    }
   ],
   "source": [
    "#December 2012-2022 Min Average\n",
    "Dectempmin2012=C[2:12,2]"
   ]
  },
  {
   "cell_type": "code",
   "execution_count": 78,
   "id": "adc617b2",
   "metadata": {},
   "outputs": [
    {
     "data": {
      "image/svg+xml": [
       "<?xml version=\"1.0\" encoding=\"utf-8\"?>\n",
       "<svg xmlns=\"http://www.w3.org/2000/svg\" xmlns:xlink=\"http://www.w3.org/1999/xlink\" width=\"600\" height=\"400\" viewBox=\"0 0 2400 1600\">\n",
       "<defs>\n",
       "  <clipPath id=\"clip350\">\n",
       "    <rect x=\"0\" y=\"0\" width=\"2400\" height=\"1600\"/>\n",
       "  </clipPath>\n",
       "</defs>\n",
       "<path clip-path=\"url(#clip350)\" d=\"\n",
       "M0 1600 L2400 1600 L2400 0 L0 0  Z\n",
       "  \" fill=\"#ffffff\" fill-rule=\"evenodd\" fill-opacity=\"1\"/>\n",
       "<defs>\n",
       "  <clipPath id=\"clip351\">\n",
       "    <rect x=\"480\" y=\"0\" width=\"1681\" height=\"1600\"/>\n",
       "  </clipPath>\n",
       "</defs>\n",
       "<path clip-path=\"url(#clip350)\" d=\"\n",
       "M140.696 1486.45 L2352.76 1486.45 L2352.76 47.2441 L140.696 47.2441  Z\n",
       "  \" fill=\"#ffffff\" fill-rule=\"evenodd\" fill-opacity=\"1\"/>\n",
       "<defs>\n",
       "  <clipPath id=\"clip352\">\n",
       "    <rect x=\"140\" y=\"47\" width=\"2213\" height=\"1440\"/>\n",
       "  </clipPath>\n",
       "</defs>\n",
       "<polyline clip-path=\"url(#clip352)\" style=\"stroke:#000000; stroke-linecap:round; stroke-linejoin:round; stroke-width:2; stroke-opacity:0.1; fill:none\" points=\"\n",
       "  411.986,1486.45 411.986,47.2441 \n",
       "  \"/>\n",
       "<polyline clip-path=\"url(#clip352)\" style=\"stroke:#000000; stroke-linecap:round; stroke-linejoin:round; stroke-width:2; stroke-opacity:0.1; fill:none\" points=\"\n",
       "  829.356,1486.45 829.356,47.2441 \n",
       "  \"/>\n",
       "<polyline clip-path=\"url(#clip352)\" style=\"stroke:#000000; stroke-linecap:round; stroke-linejoin:round; stroke-width:2; stroke-opacity:0.1; fill:none\" points=\"\n",
       "  1246.73,1486.45 1246.73,47.2441 \n",
       "  \"/>\n",
       "<polyline clip-path=\"url(#clip352)\" style=\"stroke:#000000; stroke-linecap:round; stroke-linejoin:round; stroke-width:2; stroke-opacity:0.1; fill:none\" points=\"\n",
       "  1664.1,1486.45 1664.1,47.2441 \n",
       "  \"/>\n",
       "<polyline clip-path=\"url(#clip352)\" style=\"stroke:#000000; stroke-linecap:round; stroke-linejoin:round; stroke-width:2; stroke-opacity:0.1; fill:none\" points=\"\n",
       "  2081.47,1486.45 2081.47,47.2441 \n",
       "  \"/>\n",
       "<polyline clip-path=\"url(#clip350)\" style=\"stroke:#000000; stroke-linecap:round; stroke-linejoin:round; stroke-width:4; stroke-opacity:1; fill:none\" points=\"\n",
       "  140.696,1486.45 2352.76,1486.45 \n",
       "  \"/>\n",
       "<polyline clip-path=\"url(#clip350)\" style=\"stroke:#000000; stroke-linecap:round; stroke-linejoin:round; stroke-width:4; stroke-opacity:1; fill:none\" points=\"\n",
       "  411.986,1486.45 411.986,1467.55 \n",
       "  \"/>\n",
       "<polyline clip-path=\"url(#clip350)\" style=\"stroke:#000000; stroke-linecap:round; stroke-linejoin:round; stroke-width:4; stroke-opacity:1; fill:none\" points=\"\n",
       "  829.356,1486.45 829.356,1467.55 \n",
       "  \"/>\n",
       "<polyline clip-path=\"url(#clip350)\" style=\"stroke:#000000; stroke-linecap:round; stroke-linejoin:round; stroke-width:4; stroke-opacity:1; fill:none\" points=\"\n",
       "  1246.73,1486.45 1246.73,1467.55 \n",
       "  \"/>\n",
       "<polyline clip-path=\"url(#clip350)\" style=\"stroke:#000000; stroke-linecap:round; stroke-linejoin:round; stroke-width:4; stroke-opacity:1; fill:none\" points=\"\n",
       "  1664.1,1486.45 1664.1,1467.55 \n",
       "  \"/>\n",
       "<polyline clip-path=\"url(#clip350)\" style=\"stroke:#000000; stroke-linecap:round; stroke-linejoin:round; stroke-width:4; stroke-opacity:1; fill:none\" points=\"\n",
       "  2081.47,1486.45 2081.47,1467.55 \n",
       "  \"/>\n",
       "<path clip-path=\"url(#clip350)\" d=\"M406.639 1544.91 L422.958 1544.91 L422.958 1548.85 L401.014 1548.85 L401.014 1544.91 Q403.676 1542.16 408.259 1537.53 Q412.866 1532.88 414.046 1531.53 Q416.291 1529.01 417.171 1527.27 Q418.074 1525.51 418.074 1523.82 Q418.074 1521.07 416.129 1519.33 Q414.208 1517.6 411.106 1517.6 Q408.907 1517.6 406.454 1518.36 Q404.023 1519.13 401.245 1520.68 L401.245 1515.95 Q404.069 1514.82 406.523 1514.24 Q408.977 1513.66 411.014 1513.66 Q416.384 1513.66 419.579 1516.35 Q422.773 1519.03 422.773 1523.52 Q422.773 1525.65 421.963 1527.57 Q421.176 1529.47 419.069 1532.07 Q418.491 1532.74 415.389 1535.95 Q412.287 1539.15 406.639 1544.91 Z\" fill=\"#000000\" fill-rule=\"evenodd\" fill-opacity=\"1\" /><path clip-path=\"url(#clip350)\" d=\"M832.365 1518.36 L820.56 1536.81 L832.365 1536.81 L832.365 1518.36 M831.138 1514.29 L837.018 1514.29 L837.018 1536.81 L841.948 1536.81 L841.948 1540.7 L837.018 1540.7 L837.018 1548.85 L832.365 1548.85 L832.365 1540.7 L816.763 1540.7 L816.763 1536.19 L831.138 1514.29 Z\" fill=\"#000000\" fill-rule=\"evenodd\" fill-opacity=\"1\" /><path clip-path=\"url(#clip350)\" d=\"M1247.13 1529.7 Q1243.98 1529.7 1242.13 1531.86 Q1240.3 1534.01 1240.3 1537.76 Q1240.3 1541.49 1242.13 1543.66 Q1243.98 1545.82 1247.13 1545.82 Q1250.28 1545.82 1252.11 1543.66 Q1253.96 1541.49 1253.96 1537.76 Q1253.96 1534.01 1252.11 1531.86 Q1250.28 1529.7 1247.13 1529.7 M1256.41 1515.05 L1256.41 1519.31 Q1254.65 1518.48 1252.85 1518.04 Q1251.07 1517.6 1249.31 1517.6 Q1244.68 1517.6 1242.22 1520.72 Q1239.79 1523.85 1239.45 1530.17 Q1240.81 1528.15 1242.87 1527.09 Q1244.93 1526 1247.41 1526 Q1252.62 1526 1255.63 1529.17 Q1258.66 1532.32 1258.66 1537.76 Q1258.66 1543.08 1255.51 1546.3 Q1252.36 1549.52 1247.13 1549.52 Q1241.14 1549.52 1237.96 1544.94 Q1234.79 1540.33 1234.79 1531.6 Q1234.79 1523.41 1238.68 1518.55 Q1242.57 1513.66 1249.12 1513.66 Q1250.88 1513.66 1252.66 1514.01 Q1254.47 1514.36 1256.41 1515.05 Z\" fill=\"#000000\" fill-rule=\"evenodd\" fill-opacity=\"1\" /><path clip-path=\"url(#clip350)\" d=\"M1664.1 1532.44 Q1660.76 1532.44 1658.84 1534.22 Q1656.94 1536 1656.94 1539.13 Q1656.94 1542.25 1658.84 1544.03 Q1660.76 1545.82 1664.1 1545.82 Q1667.43 1545.82 1669.35 1544.03 Q1671.27 1542.23 1671.27 1539.13 Q1671.27 1536 1669.35 1534.22 Q1667.45 1532.44 1664.1 1532.44 M1659.42 1530.45 Q1656.41 1529.7 1654.72 1527.64 Q1653.05 1525.58 1653.05 1522.62 Q1653.05 1518.48 1655.99 1516.07 Q1658.96 1513.66 1664.1 1513.66 Q1669.26 1513.66 1672.2 1516.07 Q1675.14 1518.48 1675.14 1522.62 Q1675.14 1525.58 1673.45 1527.64 Q1671.78 1529.7 1668.79 1530.45 Q1672.17 1531.23 1674.05 1533.52 Q1675.95 1535.82 1675.95 1539.13 Q1675.95 1544.15 1672.87 1546.83 Q1669.81 1549.52 1664.1 1549.52 Q1658.38 1549.52 1655.3 1546.83 Q1652.24 1544.15 1652.24 1539.13 Q1652.24 1535.82 1654.14 1533.52 Q1656.04 1531.23 1659.42 1530.45 M1657.71 1523.06 Q1657.71 1525.75 1659.37 1527.25 Q1661.06 1528.76 1664.1 1528.76 Q1667.1 1528.76 1668.79 1527.25 Q1670.51 1525.75 1670.51 1523.06 Q1670.51 1520.38 1668.79 1518.87 Q1667.1 1517.37 1664.1 1517.37 Q1661.06 1517.37 1659.37 1518.87 Q1657.71 1520.38 1657.71 1523.06 Z\" fill=\"#000000\" fill-rule=\"evenodd\" fill-opacity=\"1\" /><path clip-path=\"url(#clip350)\" d=\"M2056.15 1544.91 L2063.79 1544.91 L2063.79 1518.55 L2055.48 1520.21 L2055.48 1515.95 L2063.75 1514.29 L2068.42 1514.29 L2068.42 1544.91 L2076.06 1544.91 L2076.06 1548.85 L2056.15 1548.85 L2056.15 1544.91 Z\" fill=\"#000000\" fill-rule=\"evenodd\" fill-opacity=\"1\" /><path clip-path=\"url(#clip350)\" d=\"M2095.5 1517.37 Q2091.89 1517.37 2090.06 1520.93 Q2088.26 1524.47 2088.26 1531.6 Q2088.26 1538.71 2090.06 1542.27 Q2091.89 1545.82 2095.5 1545.82 Q2099.14 1545.82 2100.94 1542.27 Q2102.77 1538.71 2102.77 1531.6 Q2102.77 1524.47 2100.94 1520.93 Q2099.14 1517.37 2095.5 1517.37 M2095.5 1513.66 Q2101.31 1513.66 2104.37 1518.27 Q2107.45 1522.85 2107.45 1531.6 Q2107.45 1540.33 2104.37 1544.94 Q2101.31 1549.52 2095.5 1549.52 Q2089.69 1549.52 2086.62 1544.94 Q2083.56 1540.33 2083.56 1531.6 Q2083.56 1522.85 2086.62 1518.27 Q2089.69 1513.66 2095.5 1513.66 Z\" fill=\"#000000\" fill-rule=\"evenodd\" fill-opacity=\"1\" /><polyline clip-path=\"url(#clip352)\" style=\"stroke:#000000; stroke-linecap:round; stroke-linejoin:round; stroke-width:2; stroke-opacity:0.1; fill:none\" points=\"\n",
       "  140.696,1318.83 2352.76,1318.83 \n",
       "  \"/>\n",
       "<polyline clip-path=\"url(#clip352)\" style=\"stroke:#000000; stroke-linecap:round; stroke-linejoin:round; stroke-width:2; stroke-opacity:0.1; fill:none\" points=\"\n",
       "  140.696,931.989 2352.76,931.989 \n",
       "  \"/>\n",
       "<polyline clip-path=\"url(#clip352)\" style=\"stroke:#000000; stroke-linecap:round; stroke-linejoin:round; stroke-width:2; stroke-opacity:0.1; fill:none\" points=\"\n",
       "  140.696,545.147 2352.76,545.147 \n",
       "  \"/>\n",
       "<polyline clip-path=\"url(#clip352)\" style=\"stroke:#000000; stroke-linecap:round; stroke-linejoin:round; stroke-width:2; stroke-opacity:0.1; fill:none\" points=\"\n",
       "  140.696,158.304 2352.76,158.304 \n",
       "  \"/>\n",
       "<polyline clip-path=\"url(#clip350)\" style=\"stroke:#000000; stroke-linecap:round; stroke-linejoin:round; stroke-width:4; stroke-opacity:1; fill:none\" points=\"\n",
       "  140.696,1486.45 140.696,47.2441 \n",
       "  \"/>\n",
       "<polyline clip-path=\"url(#clip350)\" style=\"stroke:#000000; stroke-linecap:round; stroke-linejoin:round; stroke-width:4; stroke-opacity:1; fill:none\" points=\"\n",
       "  140.696,1318.83 159.593,1318.83 \n",
       "  \"/>\n",
       "<polyline clip-path=\"url(#clip350)\" style=\"stroke:#000000; stroke-linecap:round; stroke-linejoin:round; stroke-width:4; stroke-opacity:1; fill:none\" points=\"\n",
       "  140.696,931.989 159.593,931.989 \n",
       "  \"/>\n",
       "<polyline clip-path=\"url(#clip350)\" style=\"stroke:#000000; stroke-linecap:round; stroke-linejoin:round; stroke-width:4; stroke-opacity:1; fill:none\" points=\"\n",
       "  140.696,545.147 159.593,545.147 \n",
       "  \"/>\n",
       "<polyline clip-path=\"url(#clip350)\" style=\"stroke:#000000; stroke-linecap:round; stroke-linejoin:round; stroke-width:4; stroke-opacity:1; fill:none\" points=\"\n",
       "  140.696,158.304 159.593,158.304 \n",
       "  \"/>\n",
       "<path clip-path=\"url(#clip350)\" d=\"M92.7512 1304.63 Q89.1401 1304.63 87.3114 1308.19 Q85.5058 1311.74 85.5058 1318.87 Q85.5058 1325.97 87.3114 1329.54 Q89.1401 1333.08 92.7512 1333.08 Q96.3854 1333.08 98.1909 1329.54 Q100.02 1325.97 100.02 1318.87 Q100.02 1311.74 98.1909 1308.19 Q96.3854 1304.63 92.7512 1304.63 M92.7512 1300.93 Q98.5613 1300.93 101.617 1305.53 Q104.696 1310.12 104.696 1318.87 Q104.696 1327.59 101.617 1332.2 Q98.5613 1336.78 92.7512 1336.78 Q86.941 1336.78 83.8623 1332.2 Q80.8068 1327.59 80.8068 1318.87 Q80.8068 1310.12 83.8623 1305.53 Q86.941 1300.93 92.7512 1300.93 Z\" fill=\"#000000\" fill-rule=\"evenodd\" fill-opacity=\"1\" /><path clip-path=\"url(#clip350)\" d=\"M53.3995 945.334 L61.0384 945.334 L61.0384 918.968 L52.7282 920.635 L52.7282 916.376 L60.9921 914.709 L65.668 914.709 L65.668 945.334 L73.3068 945.334 L73.3068 949.269 L53.3995 949.269 L53.3995 945.334 Z\" fill=\"#000000\" fill-rule=\"evenodd\" fill-opacity=\"1\" /><path clip-path=\"url(#clip350)\" d=\"M92.7512 917.788 Q89.1401 917.788 87.3114 921.352 Q85.5058 924.894 85.5058 932.024 Q85.5058 939.13 87.3114 942.695 Q89.1401 946.237 92.7512 946.237 Q96.3854 946.237 98.1909 942.695 Q100.02 939.13 100.02 932.024 Q100.02 924.894 98.1909 921.352 Q96.3854 917.788 92.7512 917.788 M92.7512 914.084 Q98.5613 914.084 101.617 918.69 Q104.696 923.274 104.696 932.024 Q104.696 940.751 101.617 945.357 Q98.5613 949.94 92.7512 949.94 Q86.941 949.94 83.8623 945.357 Q80.8068 940.751 80.8068 932.024 Q80.8068 923.274 83.8623 918.69 Q86.941 914.084 92.7512 914.084 Z\" fill=\"#000000\" fill-rule=\"evenodd\" fill-opacity=\"1\" /><path clip-path=\"url(#clip350)\" d=\"M56.6171 558.491 L72.9365 558.491 L72.9365 562.427 L50.9921 562.427 L50.9921 558.491 Q53.6541 555.737 58.2375 551.107 Q62.8439 546.454 64.0245 545.112 Q66.2698 542.589 67.1494 540.853 Q68.0522 539.093 68.0522 537.404 Q68.0522 534.649 66.1078 532.913 Q64.1865 531.177 61.0847 531.177 Q58.8856 531.177 56.4319 531.941 Q54.0014 532.705 51.2236 534.255 L51.2236 529.533 Q54.0477 528.399 56.5014 527.82 Q58.955 527.242 60.9921 527.242 Q66.3624 527.242 69.5568 529.927 Q72.7513 532.612 72.7513 537.103 Q72.7513 539.232 71.9411 541.154 Q71.1541 543.052 69.0476 545.644 Q68.4689 546.316 65.367 549.533 Q62.2652 552.728 56.6171 558.491 Z\" fill=\"#000000\" fill-rule=\"evenodd\" fill-opacity=\"1\" /><path clip-path=\"url(#clip350)\" d=\"M92.7512 530.945 Q89.1401 530.945 87.3114 534.51 Q85.5058 538.052 85.5058 545.181 Q85.5058 552.288 87.3114 555.853 Q89.1401 559.394 92.7512 559.394 Q96.3854 559.394 98.1909 555.853 Q100.02 552.288 100.02 545.181 Q100.02 538.052 98.1909 534.51 Q96.3854 530.945 92.7512 530.945 M92.7512 527.242 Q98.5613 527.242 101.617 531.848 Q104.696 536.431 104.696 545.181 Q104.696 553.908 101.617 558.515 Q98.5613 563.098 92.7512 563.098 Q86.941 563.098 83.8623 558.515 Q80.8068 553.908 80.8068 545.181 Q80.8068 536.431 83.8623 531.848 Q86.941 527.242 92.7512 527.242 Z\" fill=\"#000000\" fill-rule=\"evenodd\" fill-opacity=\"1\" /><path clip-path=\"url(#clip350)\" d=\"M66.7559 156.95 Q70.1124 157.668 71.9874 159.936 Q73.8855 162.205 73.8855 165.538 Q73.8855 170.654 70.367 173.455 Q66.8485 176.256 60.3671 176.256 Q58.1912 176.256 55.8764 175.816 Q53.5847 175.399 51.131 174.543 L51.131 170.029 Q53.0754 171.163 55.3903 171.742 Q57.7051 172.32 60.2282 172.32 Q64.6263 172.32 66.918 170.584 Q69.2328 168.848 69.2328 165.538 Q69.2328 162.482 67.08 160.769 Q64.9504 159.033 61.131 159.033 L57.1032 159.033 L57.1032 155.191 L61.3161 155.191 Q64.7652 155.191 66.5939 153.825 Q68.4226 152.436 68.4226 149.844 Q68.4226 147.182 66.5245 145.77 Q64.6495 144.334 61.131 144.334 Q59.2097 144.334 57.0106 144.751 Q54.8115 145.168 52.1727 146.047 L52.1727 141.881 Q54.8347 141.14 57.1495 140.77 Q59.4875 140.399 61.5476 140.399 Q66.8717 140.399 69.9735 142.83 Q73.0753 145.237 73.0753 149.358 Q73.0753 152.228 71.4318 154.219 Q69.7883 156.186 66.7559 156.95 Z\" fill=\"#000000\" fill-rule=\"evenodd\" fill-opacity=\"1\" /><path clip-path=\"url(#clip350)\" d=\"M92.7512 144.103 Q89.1401 144.103 87.3114 147.668 Q85.5058 151.209 85.5058 158.339 Q85.5058 165.445 87.3114 169.01 Q89.1401 172.552 92.7512 172.552 Q96.3854 172.552 98.1909 169.01 Q100.02 165.445 100.02 158.339 Q100.02 151.209 98.1909 147.668 Q96.3854 144.103 92.7512 144.103 M92.7512 140.399 Q98.5613 140.399 101.617 145.006 Q104.696 149.589 104.696 158.339 Q104.696 167.066 101.617 171.672 Q98.5613 176.256 92.7512 176.256 Q86.941 176.256 83.8623 171.672 Q80.8068 167.066 80.8068 158.339 Q80.8068 149.589 83.8623 145.006 Q86.941 140.399 92.7512 140.399 Z\" fill=\"#000000\" fill-rule=\"evenodd\" fill-opacity=\"1\" /><polyline clip-path=\"url(#clip352)\" style=\"stroke:#009af9; stroke-linecap:round; stroke-linejoin:round; stroke-width:4; stroke-opacity:1; fill:none\" points=\"\n",
       "  203.301,499.499 411.986,456.173 620.671,454.625 829.356,1332.76 1038.04,819.418 1246.73,777.252 1455.41,608.589 1664.1,664.681 1872.78,787.697 2081.47,87.9763 \n",
       "  2290.15,344.762 \n",
       "  \"/>\n",
       "<polyline clip-path=\"url(#clip352)\" style=\"stroke:#e26f46; stroke-linecap:round; stroke-linejoin:round; stroke-width:4; stroke-opacity:1; fill:none\" points=\"\n",
       "  203.301,815.936 411.986,1160.61 620.671,485.379 829.356,323.486 1038.04,436.057 1246.73,1445.72 1455.41,457.333 1664.1,228.71 1872.78,713.81 2081.47,647.273 \n",
       "  2290.15,960.228 \n",
       "  \"/>\n",
       "<path clip-path=\"url(#clip350)\" d=\"\n",
       "M214.431 250.738 L852.047 250.738 L852.047 95.2176 L214.431 95.2176  Z\n",
       "  \" fill=\"#ffffff\" fill-rule=\"evenodd\" fill-opacity=\"1\"/>\n",
       "<polyline clip-path=\"url(#clip350)\" style=\"stroke:#000000; stroke-linecap:round; stroke-linejoin:round; stroke-width:4; stroke-opacity:1; fill:none\" points=\"\n",
       "  214.431,250.738 852.047,250.738 852.047,95.2176 214.431,95.2176 214.431,250.738 \n",
       "  \"/>\n",
       "<polyline clip-path=\"url(#clip350)\" style=\"stroke:#009af9; stroke-linecap:round; stroke-linejoin:round; stroke-width:4; stroke-opacity:1; fill:none\" points=\"\n",
       "  239.009,147.058 386.48,147.058 \n",
       "  \"/>\n",
       "<path clip-path=\"url(#clip350)\" d=\"M415.734 133.62 L415.734 160.495 L421.382 160.495 Q428.535 160.495 431.845 157.254 Q435.179 154.014 435.179 147.023 Q435.179 140.078 431.845 136.861 Q428.535 133.62 421.382 133.62 L415.734 133.62 M411.058 129.778 L420.665 129.778 Q430.711 129.778 435.41 133.967 Q440.109 138.134 440.109 147.023 Q440.109 155.958 435.387 160.148 Q430.665 164.338 420.665 164.338 L411.058 164.338 L411.058 129.778 Z\" fill=\"#000000\" fill-rule=\"evenodd\" fill-opacity=\"1\" /><path clip-path=\"url(#clip350)\" d=\"M469.554 150.31 L469.554 152.393 L449.97 152.393 Q450.248 156.791 452.609 159.106 Q454.993 161.398 459.23 161.398 Q461.683 161.398 463.975 160.796 Q466.29 160.194 468.558 158.99 L468.558 163.018 Q466.267 163.99 463.859 164.5 Q461.452 165.009 458.975 165.009 Q452.771 165.009 449.137 161.398 Q445.526 157.787 445.526 151.629 Q445.526 145.264 448.952 141.537 Q452.401 137.787 458.234 137.787 Q463.466 137.787 466.498 141.166 Q469.554 144.523 469.554 150.31 M465.294 149.06 Q465.248 145.565 463.327 143.481 Q461.429 141.398 458.28 141.398 Q454.716 141.398 452.563 143.412 Q450.433 145.426 450.109 149.083 L465.294 149.06 Z\" fill=\"#000000\" fill-rule=\"evenodd\" fill-opacity=\"1\" /><path clip-path=\"url(#clip350)\" d=\"M495.202 139.407 L495.202 143.389 Q493.396 142.393 491.567 141.907 Q489.762 141.398 487.91 141.398 Q483.766 141.398 481.475 144.037 Q479.183 146.652 479.183 151.398 Q479.183 156.143 481.475 158.782 Q483.766 161.398 487.91 161.398 Q489.762 161.398 491.567 160.912 Q493.396 160.402 495.202 159.407 L495.202 163.342 Q493.419 164.176 491.498 164.592 Q489.6 165.009 487.447 165.009 Q481.591 165.009 478.141 161.328 Q474.692 157.648 474.692 151.398 Q474.692 145.055 478.165 141.421 Q481.66 137.787 487.725 137.787 Q489.692 137.787 491.567 138.203 Q493.442 138.597 495.202 139.407 Z\" fill=\"#000000\" fill-rule=\"evenodd\" fill-opacity=\"1\" /><path clip-path=\"url(#clip350)\" d=\"M506.822 131.051 L506.822 138.412 L515.595 138.412 L515.595 141.722 L506.822 141.722 L506.822 155.796 Q506.822 158.967 507.678 159.87 Q508.558 160.773 511.22 160.773 L515.595 160.773 L515.595 164.338 L511.22 164.338 Q506.289 164.338 504.414 162.509 Q502.539 160.657 502.539 155.796 L502.539 141.722 L499.414 141.722 L499.414 138.412 L502.539 138.412 L502.539 131.051 L506.822 131.051 Z\" fill=\"#000000\" fill-rule=\"evenodd\" fill-opacity=\"1\" /><path clip-path=\"url(#clip350)\" d=\"M543.373 150.31 L543.373 152.393 L523.789 152.393 Q524.067 156.791 526.428 159.106 Q528.812 161.398 533.049 161.398 Q535.502 161.398 537.794 160.796 Q540.109 160.194 542.377 158.99 L542.377 163.018 Q540.086 163.99 537.678 164.5 Q535.271 165.009 532.794 165.009 Q526.59 165.009 522.956 161.398 Q519.345 157.787 519.345 151.629 Q519.345 145.264 522.771 141.537 Q526.22 137.787 532.053 137.787 Q537.285 137.787 540.317 141.166 Q543.373 144.523 543.373 150.31 M539.113 149.06 Q539.067 145.565 537.146 143.481 Q535.248 141.398 532.099 141.398 Q528.535 141.398 526.382 143.412 Q524.252 145.426 523.928 149.083 L539.113 149.06 Z\" fill=\"#000000\" fill-rule=\"evenodd\" fill-opacity=\"1\" /><path clip-path=\"url(#clip350)\" d=\"M570.548 143.389 Q572.146 140.518 574.368 139.153 Q576.59 137.787 579.599 137.787 Q583.65 137.787 585.849 140.634 Q588.048 143.458 588.048 148.689 L588.048 164.338 L583.766 164.338 L583.766 148.828 Q583.766 145.102 582.446 143.296 Q581.127 141.49 578.419 141.49 Q575.109 141.49 573.187 143.69 Q571.266 145.889 571.266 149.685 L571.266 164.338 L566.984 164.338 L566.984 148.828 Q566.984 145.078 565.664 143.296 Q564.345 141.49 561.59 141.49 Q558.326 141.49 556.405 143.713 Q554.484 145.912 554.484 149.685 L554.484 164.338 L550.201 164.338 L550.201 138.412 L554.484 138.412 L554.484 142.44 Q555.942 140.055 557.979 138.921 Q560.016 137.787 562.817 137.787 Q565.641 137.787 567.609 139.222 Q569.599 140.657 570.548 143.389 Z\" fill=\"#000000\" fill-rule=\"evenodd\" fill-opacity=\"1\" /><path clip-path=\"url(#clip350)\" d=\"M600.664 160.449 L600.664 174.199 L596.382 174.199 L596.382 138.412 L600.664 138.412 L600.664 142.347 Q602.007 140.032 604.044 138.921 Q606.104 137.787 608.951 137.787 Q613.673 137.787 616.613 141.537 Q619.576 145.287 619.576 151.398 Q619.576 157.509 616.613 161.259 Q613.673 165.009 608.951 165.009 Q606.104 165.009 604.044 163.898 Q602.007 162.763 600.664 160.449 M615.155 151.398 Q615.155 146.699 613.21 144.037 Q611.289 141.352 607.909 141.352 Q604.53 141.352 602.585 144.037 Q600.664 146.699 600.664 151.398 Q600.664 156.097 602.585 158.782 Q604.53 161.444 607.909 161.444 Q611.289 161.444 613.21 158.782 Q615.155 156.097 615.155 151.398 Z\" fill=\"#000000\" fill-rule=\"evenodd\" fill-opacity=\"1\" /><path clip-path=\"url(#clip350)\" d=\"M646.821 143.389 Q648.418 140.518 650.641 139.153 Q652.863 137.787 655.872 137.787 Q659.923 137.787 662.122 140.634 Q664.321 143.458 664.321 148.689 L664.321 164.338 L660.039 164.338 L660.039 148.828 Q660.039 145.102 658.719 143.296 Q657.4 141.49 654.691 141.49 Q651.381 141.49 649.46 143.69 Q647.539 145.889 647.539 149.685 L647.539 164.338 L643.256 164.338 L643.256 148.828 Q643.256 145.078 641.937 143.296 Q640.617 141.49 637.863 141.49 Q634.599 141.49 632.678 143.713 Q630.756 145.912 630.756 149.685 L630.756 164.338 L626.474 164.338 L626.474 138.412 L630.756 138.412 L630.756 142.44 Q632.215 140.055 634.252 138.921 Q636.289 137.787 639.09 137.787 Q641.914 137.787 643.881 139.222 Q645.872 140.657 646.821 143.389 Z\" fill=\"#000000\" fill-rule=\"evenodd\" fill-opacity=\"1\" /><path clip-path=\"url(#clip350)\" d=\"M672.816 138.412 L677.076 138.412 L677.076 164.338 L672.816 164.338 L672.816 138.412 M672.816 128.319 L677.076 128.319 L677.076 133.713 L672.816 133.713 L672.816 128.319 Z\" fill=\"#000000\" fill-rule=\"evenodd\" fill-opacity=\"1\" /><path clip-path=\"url(#clip350)\" d=\"M707.538 148.689 L707.538 164.338 L703.279 164.338 L703.279 148.828 Q703.279 145.148 701.844 143.319 Q700.409 141.49 697.538 141.49 Q694.089 141.49 692.099 143.69 Q690.108 145.889 690.108 149.685 L690.108 164.338 L685.826 164.338 L685.826 138.412 L690.108 138.412 L690.108 142.44 Q691.636 140.102 693.696 138.944 Q695.779 137.787 698.487 137.787 Q702.955 137.787 705.247 140.565 Q707.538 143.319 707.538 148.689 Z\" fill=\"#000000\" fill-rule=\"evenodd\" fill-opacity=\"1\" /><path clip-path=\"url(#clip350)\" d=\"M717.446 160.402 L725.085 160.402 L725.085 134.037 L716.774 135.703 L716.774 131.444 L725.038 129.778 L729.714 129.778 L729.714 160.402 L737.353 160.402 L737.353 164.338 L717.446 164.338 L717.446 160.402 Z\" fill=\"#000000\" fill-rule=\"evenodd\" fill-opacity=\"1\" /><path clip-path=\"url(#clip350)\" d=\"M746.936 163.62 L746.936 159.361 Q748.696 160.194 750.501 160.634 Q752.307 161.074 754.043 161.074 Q758.672 161.074 761.103 157.972 Q763.557 154.847 763.904 148.504 Q762.561 150.495 760.501 151.56 Q758.441 152.625 755.941 152.625 Q750.756 152.625 747.723 149.5 Q744.714 146.352 744.714 140.912 Q744.714 135.588 747.862 132.37 Q751.01 129.153 756.242 129.153 Q762.237 129.153 765.385 133.759 Q768.557 138.342 768.557 147.092 Q768.557 155.264 764.668 160.148 Q760.802 165.009 754.251 165.009 Q752.492 165.009 750.686 164.662 Q748.881 164.314 746.936 163.62 M756.242 148.967 Q759.39 148.967 761.219 146.814 Q763.07 144.662 763.07 140.912 Q763.07 137.185 761.219 135.032 Q759.39 132.856 756.242 132.856 Q753.094 132.856 751.242 135.032 Q749.413 137.185 749.413 140.912 Q749.413 144.662 751.242 146.814 Q753.094 148.967 756.242 148.967 Z\" fill=\"#000000\" fill-rule=\"evenodd\" fill-opacity=\"1\" /><path clip-path=\"url(#clip350)\" d=\"M780.987 160.402 L797.306 160.402 L797.306 164.338 L775.362 164.338 L775.362 160.402 Q778.024 157.648 782.607 153.018 Q787.214 148.365 788.394 147.023 Q790.64 144.5 791.519 142.764 Q792.422 141.004 792.422 139.315 Q792.422 136.56 790.478 134.824 Q788.556 133.088 785.455 133.088 Q783.256 133.088 780.802 133.852 Q778.371 134.615 775.594 136.166 L775.594 131.444 Q778.418 130.31 780.871 129.731 Q783.325 129.153 785.362 129.153 Q790.732 129.153 793.927 131.838 Q797.121 134.523 797.121 139.014 Q797.121 141.143 796.311 143.065 Q795.524 144.963 793.418 147.555 Q792.839 148.227 789.737 151.444 Q786.635 154.639 780.987 160.402 Z\" fill=\"#000000\" fill-rule=\"evenodd\" fill-opacity=\"1\" /><path clip-path=\"url(#clip350)\" d=\"M811.149 160.402 L827.468 160.402 L827.468 164.338 L805.524 164.338 L805.524 160.402 Q808.186 157.648 812.769 153.018 Q817.376 148.365 818.556 147.023 Q820.802 144.5 821.681 142.764 Q822.584 141.004 822.584 139.315 Q822.584 136.56 820.64 134.824 Q818.718 133.088 815.616 133.088 Q813.417 133.088 810.964 133.852 Q808.533 134.615 805.755 136.166 L805.755 131.444 Q808.579 130.31 811.033 129.731 Q813.487 129.153 815.524 129.153 Q820.894 129.153 824.089 131.838 Q827.283 134.523 827.283 139.014 Q827.283 141.143 826.473 143.065 Q825.686 144.963 823.579 147.555 Q823.001 148.227 819.899 151.444 Q816.797 154.639 811.149 160.402 Z\" fill=\"#000000\" fill-rule=\"evenodd\" fill-opacity=\"1\" /><polyline clip-path=\"url(#clip350)\" style=\"stroke:#e26f46; stroke-linecap:round; stroke-linejoin:round; stroke-width:4; stroke-opacity:1; fill:none\" points=\"\n",
       "  239.009,198.898 386.48,198.898 \n",
       "  \"/>\n",
       "<path clip-path=\"url(#clip350)\" d=\"M415.734 185.46 L415.734 212.335 L421.382 212.335 Q428.535 212.335 431.845 209.094 Q435.179 205.854 435.179 198.863 Q435.179 191.918 431.845 188.701 Q428.535 185.46 421.382 185.46 L415.734 185.46 M411.058 181.618 L420.665 181.618 Q430.711 181.618 435.41 185.807 Q440.109 189.974 440.109 198.863 Q440.109 207.798 435.387 211.988 Q430.665 216.178 420.665 216.178 L411.058 216.178 L411.058 181.618 Z\" fill=\"#000000\" fill-rule=\"evenodd\" fill-opacity=\"1\" /><path clip-path=\"url(#clip350)\" d=\"M469.554 202.15 L469.554 204.233 L449.97 204.233 Q450.248 208.631 452.609 210.946 Q454.993 213.238 459.23 213.238 Q461.683 213.238 463.975 212.636 Q466.29 212.034 468.558 210.83 L468.558 214.858 Q466.267 215.83 463.859 216.34 Q461.452 216.849 458.975 216.849 Q452.771 216.849 449.137 213.238 Q445.526 209.627 445.526 203.469 Q445.526 197.104 448.952 193.377 Q452.401 189.627 458.234 189.627 Q463.466 189.627 466.498 193.006 Q469.554 196.363 469.554 202.15 M465.294 200.9 Q465.248 197.405 463.327 195.321 Q461.429 193.238 458.28 193.238 Q454.716 193.238 452.563 195.252 Q450.433 197.266 450.109 200.923 L465.294 200.9 Z\" fill=\"#000000\" fill-rule=\"evenodd\" fill-opacity=\"1\" /><path clip-path=\"url(#clip350)\" d=\"M495.202 191.247 L495.202 195.229 Q493.396 194.233 491.567 193.747 Q489.762 193.238 487.91 193.238 Q483.766 193.238 481.475 195.877 Q479.183 198.492 479.183 203.238 Q479.183 207.983 481.475 210.622 Q483.766 213.238 487.91 213.238 Q489.762 213.238 491.567 212.752 Q493.396 212.242 495.202 211.247 L495.202 215.182 Q493.419 216.016 491.498 216.432 Q489.6 216.849 487.447 216.849 Q481.591 216.849 478.141 213.168 Q474.692 209.488 474.692 203.238 Q474.692 196.895 478.165 193.261 Q481.66 189.627 487.725 189.627 Q489.692 189.627 491.567 190.043 Q493.442 190.437 495.202 191.247 Z\" fill=\"#000000\" fill-rule=\"evenodd\" fill-opacity=\"1\" /><path clip-path=\"url(#clip350)\" d=\"M506.822 182.891 L506.822 190.252 L515.595 190.252 L515.595 193.562 L506.822 193.562 L506.822 207.636 Q506.822 210.807 507.678 211.71 Q508.558 212.613 511.22 212.613 L515.595 212.613 L515.595 216.178 L511.22 216.178 Q506.289 216.178 504.414 214.349 Q502.539 212.497 502.539 207.636 L502.539 193.562 L499.414 193.562 L499.414 190.252 L502.539 190.252 L502.539 182.891 L506.822 182.891 Z\" fill=\"#000000\" fill-rule=\"evenodd\" fill-opacity=\"1\" /><path clip-path=\"url(#clip350)\" d=\"M543.373 202.15 L543.373 204.233 L523.789 204.233 Q524.067 208.631 526.428 210.946 Q528.812 213.238 533.049 213.238 Q535.502 213.238 537.794 212.636 Q540.109 212.034 542.377 210.83 L542.377 214.858 Q540.086 215.83 537.678 216.34 Q535.271 216.849 532.794 216.849 Q526.59 216.849 522.956 213.238 Q519.345 209.627 519.345 203.469 Q519.345 197.104 522.771 193.377 Q526.22 189.627 532.053 189.627 Q537.285 189.627 540.317 193.006 Q543.373 196.363 543.373 202.15 M539.113 200.9 Q539.067 197.405 537.146 195.321 Q535.248 193.238 532.099 193.238 Q528.535 193.238 526.382 195.252 Q524.252 197.266 523.928 200.923 L539.113 200.9 Z\" fill=\"#000000\" fill-rule=\"evenodd\" fill-opacity=\"1\" /><path clip-path=\"url(#clip350)\" d=\"M570.548 195.229 Q572.146 192.358 574.368 190.993 Q576.59 189.627 579.599 189.627 Q583.65 189.627 585.849 192.474 Q588.048 195.298 588.048 200.529 L588.048 216.178 L583.766 216.178 L583.766 200.668 Q583.766 196.942 582.446 195.136 Q581.127 193.33 578.419 193.33 Q575.109 193.33 573.187 195.53 Q571.266 197.729 571.266 201.525 L571.266 216.178 L566.984 216.178 L566.984 200.668 Q566.984 196.918 565.664 195.136 Q564.345 193.33 561.59 193.33 Q558.326 193.33 556.405 195.553 Q554.484 197.752 554.484 201.525 L554.484 216.178 L550.201 216.178 L550.201 190.252 L554.484 190.252 L554.484 194.28 Q555.942 191.895 557.979 190.761 Q560.016 189.627 562.817 189.627 Q565.641 189.627 567.609 191.062 Q569.599 192.497 570.548 195.229 Z\" fill=\"#000000\" fill-rule=\"evenodd\" fill-opacity=\"1\" /><path clip-path=\"url(#clip350)\" d=\"M600.664 212.289 L600.664 226.039 L596.382 226.039 L596.382 190.252 L600.664 190.252 L600.664 194.187 Q602.007 191.872 604.044 190.761 Q606.104 189.627 608.951 189.627 Q613.673 189.627 616.613 193.377 Q619.576 197.127 619.576 203.238 Q619.576 209.349 616.613 213.099 Q613.673 216.849 608.951 216.849 Q606.104 216.849 604.044 215.738 Q602.007 214.603 600.664 212.289 M615.155 203.238 Q615.155 198.539 613.21 195.877 Q611.289 193.192 607.909 193.192 Q604.53 193.192 602.585 195.877 Q600.664 198.539 600.664 203.238 Q600.664 207.937 602.585 210.622 Q604.53 213.284 607.909 213.284 Q611.289 213.284 613.21 210.622 Q615.155 207.937 615.155 203.238 Z\" fill=\"#000000\" fill-rule=\"evenodd\" fill-opacity=\"1\" /><path clip-path=\"url(#clip350)\" d=\"M646.821 195.229 Q648.418 192.358 650.641 190.993 Q652.863 189.627 655.872 189.627 Q659.923 189.627 662.122 192.474 Q664.321 195.298 664.321 200.529 L664.321 216.178 L660.039 216.178 L660.039 200.668 Q660.039 196.942 658.719 195.136 Q657.4 193.33 654.691 193.33 Q651.381 193.33 649.46 195.53 Q647.539 197.729 647.539 201.525 L647.539 216.178 L643.256 216.178 L643.256 200.668 Q643.256 196.918 641.937 195.136 Q640.617 193.33 637.863 193.33 Q634.599 193.33 632.678 195.553 Q630.756 197.752 630.756 201.525 L630.756 216.178 L626.474 216.178 L626.474 190.252 L630.756 190.252 L630.756 194.28 Q632.215 191.895 634.252 190.761 Q636.289 189.627 639.09 189.627 Q641.914 189.627 643.881 191.062 Q645.872 192.497 646.821 195.229 Z\" fill=\"#000000\" fill-rule=\"evenodd\" fill-opacity=\"1\" /><path clip-path=\"url(#clip350)\" d=\"M672.816 190.252 L677.076 190.252 L677.076 216.178 L672.816 216.178 L672.816 190.252 M672.816 180.159 L677.076 180.159 L677.076 185.553 L672.816 185.553 L672.816 180.159 Z\" fill=\"#000000\" fill-rule=\"evenodd\" fill-opacity=\"1\" /><path clip-path=\"url(#clip350)\" d=\"M707.538 200.529 L707.538 216.178 L703.279 216.178 L703.279 200.668 Q703.279 196.988 701.844 195.159 Q700.409 193.33 697.538 193.33 Q694.089 193.33 692.099 195.53 Q690.108 197.729 690.108 201.525 L690.108 216.178 L685.826 216.178 L685.826 190.252 L690.108 190.252 L690.108 194.28 Q691.636 191.942 693.696 190.784 Q695.779 189.627 698.487 189.627 Q702.955 189.627 705.247 192.405 Q707.538 195.159 707.538 200.529 Z\" fill=\"#000000\" fill-rule=\"evenodd\" fill-opacity=\"1\" /><path clip-path=\"url(#clip350)\" d=\"M720.663 212.242 L736.983 212.242 L736.983 216.178 L715.038 216.178 L715.038 212.242 Q717.7 209.488 722.284 204.858 Q726.89 200.205 728.071 198.863 Q730.316 196.34 731.196 194.604 Q732.098 192.844 732.098 191.155 Q732.098 188.4 730.154 186.664 Q728.233 184.928 725.131 184.928 Q722.932 184.928 720.478 185.692 Q718.048 186.455 715.27 188.006 L715.27 183.284 Q718.094 182.15 720.548 181.571 Q723.001 180.993 725.038 180.993 Q730.409 180.993 733.603 183.678 Q736.797 186.363 736.797 190.854 Q736.797 192.983 735.987 194.905 Q735.2 196.803 733.094 199.395 Q732.515 200.067 729.413 203.284 Q726.311 206.479 720.663 212.242 Z\" fill=\"#000000\" fill-rule=\"evenodd\" fill-opacity=\"1\" /><path clip-path=\"url(#clip350)\" d=\"M756.797 184.696 Q753.186 184.696 751.358 188.261 Q749.552 191.803 749.552 198.932 Q749.552 206.039 751.358 209.604 Q753.186 213.145 756.797 213.145 Q760.432 213.145 762.237 209.604 Q764.066 206.039 764.066 198.932 Q764.066 191.803 762.237 188.261 Q760.432 184.696 756.797 184.696 M756.797 180.993 Q762.608 180.993 765.663 185.599 Q768.742 190.182 768.742 198.932 Q768.742 207.659 765.663 212.266 Q762.608 216.849 756.797 216.849 Q750.987 216.849 747.909 212.266 Q744.853 207.659 744.853 198.932 Q744.853 190.182 747.909 185.599 Q750.987 180.993 756.797 180.993 Z\" fill=\"#000000\" fill-rule=\"evenodd\" fill-opacity=\"1\" /><path clip-path=\"url(#clip350)\" d=\"M777.769 212.242 L785.408 212.242 L785.408 185.877 L777.098 187.543 L777.098 183.284 L785.362 181.618 L790.038 181.618 L790.038 212.242 L797.677 212.242 L797.677 216.178 L777.769 216.178 L777.769 212.242 Z\" fill=\"#000000\" fill-rule=\"evenodd\" fill-opacity=\"1\" /><path clip-path=\"url(#clip350)\" d=\"M811.149 212.242 L827.468 212.242 L827.468 216.178 L805.524 216.178 L805.524 212.242 Q808.186 209.488 812.769 204.858 Q817.376 200.205 818.556 198.863 Q820.802 196.34 821.681 194.604 Q822.584 192.844 822.584 191.155 Q822.584 188.4 820.64 186.664 Q818.718 184.928 815.616 184.928 Q813.417 184.928 810.964 185.692 Q808.533 186.455 805.755 188.006 L805.755 183.284 Q808.579 182.15 811.033 181.571 Q813.487 180.993 815.524 180.993 Q820.894 180.993 824.089 183.678 Q827.283 186.363 827.283 190.854 Q827.283 192.983 826.473 194.905 Q825.686 196.803 823.579 199.395 Q823.001 200.067 819.899 203.284 Q816.797 206.479 811.149 212.242 Z\" fill=\"#000000\" fill-rule=\"evenodd\" fill-opacity=\"1\" /></svg>\n"
      ]
     },
     "execution_count": 78,
     "metadata": {},
     "output_type": "execute_result"
    }
   ],
   "source": [
    "plot(1:11, dectempmin1922, label=\"Dectempmin1922\")\n",
    "plot!(1:11, Dectempmin2012, label=\"Dectempmin2012\")"
   ]
  },
  {
   "cell_type": "markdown",
   "id": "92d3fa62",
   "metadata": {},
   "source": [
    "# Outcome \n",
    "\n",
    "Here we see the contrast of the two different decades when it comes to average Minimum Temperature for December 1922-1932 and December 2012-2022"
   ]
  },
  {
   "cell_type": "markdown",
   "id": "336b5919",
   "metadata": {},
   "source": [
    "# Now we are going to do Average Maximum Temperature For December 1922-1932 and 2012-2022."
   ]
  },
  {
   "cell_type": "code",
   "execution_count": 72,
   "id": "1c253691",
   "metadata": {},
   "outputs": [
    {
     "data": {
      "text/plain": [
       "11-element Vector{Any}:\n",
       " 31.81\n",
       " 32.9\n",
       " 32.9\n",
       " 14.18\n",
       " 27.91\n",
       " 27.82\n",
       " 30.55\n",
       " 31.55\n",
       " 28.0\n",
       " 38.46\n",
       " 37.09"
      ]
     },
     "execution_count": 72,
     "metadata": {},
     "output_type": "execute_result"
    }
   ],
   "source": [
    "#December 1922-1932 max Average\n",
    "dectempmmax1922=B[2:12,3]"
   ]
  },
  {
   "cell_type": "code",
   "execution_count": 73,
   "id": "95c59edf",
   "metadata": {},
   "outputs": [
    {
     "data": {
      "text/plain": [
       "11-element Vector{Any}:\n",
       " 26.36\n",
       " 21.09\n",
       " 31.727\n",
       " 34.82\n",
       " 35.73\n",
       " 13.36\n",
       " 34.09\n",
       " 39.09\n",
       " 31.55\n",
       " 33.36\n",
       " 26.09"
      ]
     },
     "execution_count": 73,
     "metadata": {},
     "output_type": "execute_result"
    }
   ],
   "source": [
    "# December 2012-2022\n",
    "Dectempmax2012=C[2:12,3]"
   ]
  },
  {
   "cell_type": "code",
   "execution_count": 79,
   "id": "e2e20ee0",
   "metadata": {},
   "outputs": [
    {
     "data": {
      "image/svg+xml": [
       "<?xml version=\"1.0\" encoding=\"utf-8\"?>\n",
       "<svg xmlns=\"http://www.w3.org/2000/svg\" xmlns:xlink=\"http://www.w3.org/1999/xlink\" width=\"600\" height=\"400\" viewBox=\"0 0 2400 1600\">\n",
       "<defs>\n",
       "  <clipPath id=\"clip390\">\n",
       "    <rect x=\"0\" y=\"0\" width=\"2400\" height=\"1600\"/>\n",
       "  </clipPath>\n",
       "</defs>\n",
       "<path clip-path=\"url(#clip390)\" d=\"\n",
       "M0 1600 L2400 1600 L2400 0 L0 0  Z\n",
       "  \" fill=\"#ffffff\" fill-rule=\"evenodd\" fill-opacity=\"1\"/>\n",
       "<defs>\n",
       "  <clipPath id=\"clip391\">\n",
       "    <rect x=\"480\" y=\"0\" width=\"1681\" height=\"1600\"/>\n",
       "  </clipPath>\n",
       "</defs>\n",
       "<path clip-path=\"url(#clip390)\" d=\"\n",
       "M140.696 1486.45 L2352.76 1486.45 L2352.76 47.2441 L140.696 47.2441  Z\n",
       "  \" fill=\"#ffffff\" fill-rule=\"evenodd\" fill-opacity=\"1\"/>\n",
       "<defs>\n",
       "  <clipPath id=\"clip392\">\n",
       "    <rect x=\"140\" y=\"47\" width=\"2213\" height=\"1440\"/>\n",
       "  </clipPath>\n",
       "</defs>\n",
       "<polyline clip-path=\"url(#clip392)\" style=\"stroke:#000000; stroke-linecap:round; stroke-linejoin:round; stroke-width:2; stroke-opacity:0.1; fill:none\" points=\"\n",
       "  411.986,1486.45 411.986,47.2441 \n",
       "  \"/>\n",
       "<polyline clip-path=\"url(#clip392)\" style=\"stroke:#000000; stroke-linecap:round; stroke-linejoin:round; stroke-width:2; stroke-opacity:0.1; fill:none\" points=\"\n",
       "  829.356,1486.45 829.356,47.2441 \n",
       "  \"/>\n",
       "<polyline clip-path=\"url(#clip392)\" style=\"stroke:#000000; stroke-linecap:round; stroke-linejoin:round; stroke-width:2; stroke-opacity:0.1; fill:none\" points=\"\n",
       "  1246.73,1486.45 1246.73,47.2441 \n",
       "  \"/>\n",
       "<polyline clip-path=\"url(#clip392)\" style=\"stroke:#000000; stroke-linecap:round; stroke-linejoin:round; stroke-width:2; stroke-opacity:0.1; fill:none\" points=\"\n",
       "  1664.1,1486.45 1664.1,47.2441 \n",
       "  \"/>\n",
       "<polyline clip-path=\"url(#clip392)\" style=\"stroke:#000000; stroke-linecap:round; stroke-linejoin:round; stroke-width:2; stroke-opacity:0.1; fill:none\" points=\"\n",
       "  2081.47,1486.45 2081.47,47.2441 \n",
       "  \"/>\n",
       "<polyline clip-path=\"url(#clip390)\" style=\"stroke:#000000; stroke-linecap:round; stroke-linejoin:round; stroke-width:4; stroke-opacity:1; fill:none\" points=\"\n",
       "  140.696,1486.45 2352.76,1486.45 \n",
       "  \"/>\n",
       "<polyline clip-path=\"url(#clip390)\" style=\"stroke:#000000; stroke-linecap:round; stroke-linejoin:round; stroke-width:4; stroke-opacity:1; fill:none\" points=\"\n",
       "  411.986,1486.45 411.986,1467.55 \n",
       "  \"/>\n",
       "<polyline clip-path=\"url(#clip390)\" style=\"stroke:#000000; stroke-linecap:round; stroke-linejoin:round; stroke-width:4; stroke-opacity:1; fill:none\" points=\"\n",
       "  829.356,1486.45 829.356,1467.55 \n",
       "  \"/>\n",
       "<polyline clip-path=\"url(#clip390)\" style=\"stroke:#000000; stroke-linecap:round; stroke-linejoin:round; stroke-width:4; stroke-opacity:1; fill:none\" points=\"\n",
       "  1246.73,1486.45 1246.73,1467.55 \n",
       "  \"/>\n",
       "<polyline clip-path=\"url(#clip390)\" style=\"stroke:#000000; stroke-linecap:round; stroke-linejoin:round; stroke-width:4; stroke-opacity:1; fill:none\" points=\"\n",
       "  1664.1,1486.45 1664.1,1467.55 \n",
       "  \"/>\n",
       "<polyline clip-path=\"url(#clip390)\" style=\"stroke:#000000; stroke-linecap:round; stroke-linejoin:round; stroke-width:4; stroke-opacity:1; fill:none\" points=\"\n",
       "  2081.47,1486.45 2081.47,1467.55 \n",
       "  \"/>\n",
       "<path clip-path=\"url(#clip390)\" d=\"M406.639 1544.91 L422.958 1544.91 L422.958 1548.85 L401.014 1548.85 L401.014 1544.91 Q403.676 1542.16 408.259 1537.53 Q412.866 1532.88 414.046 1531.53 Q416.291 1529.01 417.171 1527.27 Q418.074 1525.51 418.074 1523.82 Q418.074 1521.07 416.129 1519.33 Q414.208 1517.6 411.106 1517.6 Q408.907 1517.6 406.454 1518.36 Q404.023 1519.13 401.245 1520.68 L401.245 1515.95 Q404.069 1514.82 406.523 1514.24 Q408.977 1513.66 411.014 1513.66 Q416.384 1513.66 419.579 1516.35 Q422.773 1519.03 422.773 1523.52 Q422.773 1525.65 421.963 1527.57 Q421.176 1529.47 419.069 1532.07 Q418.491 1532.74 415.389 1535.95 Q412.287 1539.15 406.639 1544.91 Z\" fill=\"#000000\" fill-rule=\"evenodd\" fill-opacity=\"1\" /><path clip-path=\"url(#clip390)\" d=\"M832.365 1518.36 L820.56 1536.81 L832.365 1536.81 L832.365 1518.36 M831.138 1514.29 L837.018 1514.29 L837.018 1536.81 L841.948 1536.81 L841.948 1540.7 L837.018 1540.7 L837.018 1548.85 L832.365 1548.85 L832.365 1540.7 L816.763 1540.7 L816.763 1536.19 L831.138 1514.29 Z\" fill=\"#000000\" fill-rule=\"evenodd\" fill-opacity=\"1\" /><path clip-path=\"url(#clip390)\" d=\"M1247.13 1529.7 Q1243.98 1529.7 1242.13 1531.86 Q1240.3 1534.01 1240.3 1537.76 Q1240.3 1541.49 1242.13 1543.66 Q1243.98 1545.82 1247.13 1545.82 Q1250.28 1545.82 1252.11 1543.66 Q1253.96 1541.49 1253.96 1537.76 Q1253.96 1534.01 1252.11 1531.86 Q1250.28 1529.7 1247.13 1529.7 M1256.41 1515.05 L1256.41 1519.31 Q1254.65 1518.48 1252.85 1518.04 Q1251.07 1517.6 1249.31 1517.6 Q1244.68 1517.6 1242.22 1520.72 Q1239.79 1523.85 1239.45 1530.17 Q1240.81 1528.15 1242.87 1527.09 Q1244.93 1526 1247.41 1526 Q1252.62 1526 1255.63 1529.17 Q1258.66 1532.32 1258.66 1537.76 Q1258.66 1543.08 1255.51 1546.3 Q1252.36 1549.52 1247.13 1549.52 Q1241.14 1549.52 1237.96 1544.94 Q1234.79 1540.33 1234.79 1531.6 Q1234.79 1523.41 1238.68 1518.55 Q1242.57 1513.66 1249.12 1513.66 Q1250.88 1513.66 1252.66 1514.01 Q1254.47 1514.36 1256.41 1515.05 Z\" fill=\"#000000\" fill-rule=\"evenodd\" fill-opacity=\"1\" /><path clip-path=\"url(#clip390)\" d=\"M1664.1 1532.44 Q1660.76 1532.44 1658.84 1534.22 Q1656.94 1536 1656.94 1539.13 Q1656.94 1542.25 1658.84 1544.03 Q1660.76 1545.82 1664.1 1545.82 Q1667.43 1545.82 1669.35 1544.03 Q1671.27 1542.23 1671.27 1539.13 Q1671.27 1536 1669.35 1534.22 Q1667.45 1532.44 1664.1 1532.44 M1659.42 1530.45 Q1656.41 1529.7 1654.72 1527.64 Q1653.05 1525.58 1653.05 1522.62 Q1653.05 1518.48 1655.99 1516.07 Q1658.96 1513.66 1664.1 1513.66 Q1669.26 1513.66 1672.2 1516.07 Q1675.14 1518.48 1675.14 1522.62 Q1675.14 1525.58 1673.45 1527.64 Q1671.78 1529.7 1668.79 1530.45 Q1672.17 1531.23 1674.05 1533.52 Q1675.95 1535.82 1675.95 1539.13 Q1675.95 1544.15 1672.87 1546.83 Q1669.81 1549.52 1664.1 1549.52 Q1658.38 1549.52 1655.3 1546.83 Q1652.24 1544.15 1652.24 1539.13 Q1652.24 1535.82 1654.14 1533.52 Q1656.04 1531.23 1659.42 1530.45 M1657.71 1523.06 Q1657.71 1525.75 1659.37 1527.25 Q1661.06 1528.76 1664.1 1528.76 Q1667.1 1528.76 1668.79 1527.25 Q1670.51 1525.75 1670.51 1523.06 Q1670.51 1520.38 1668.79 1518.87 Q1667.1 1517.37 1664.1 1517.37 Q1661.06 1517.37 1659.37 1518.87 Q1657.71 1520.38 1657.71 1523.06 Z\" fill=\"#000000\" fill-rule=\"evenodd\" fill-opacity=\"1\" /><path clip-path=\"url(#clip390)\" d=\"M2056.15 1544.91 L2063.79 1544.91 L2063.79 1518.55 L2055.48 1520.21 L2055.48 1515.95 L2063.75 1514.29 L2068.42 1514.29 L2068.42 1544.91 L2076.06 1544.91 L2076.06 1548.85 L2056.15 1548.85 L2056.15 1544.91 Z\" fill=\"#000000\" fill-rule=\"evenodd\" fill-opacity=\"1\" /><path clip-path=\"url(#clip390)\" d=\"M2095.5 1517.37 Q2091.89 1517.37 2090.06 1520.93 Q2088.26 1524.47 2088.26 1531.6 Q2088.26 1538.71 2090.06 1542.27 Q2091.89 1545.82 2095.5 1545.82 Q2099.14 1545.82 2100.94 1542.27 Q2102.77 1538.71 2102.77 1531.6 Q2102.77 1524.47 2100.94 1520.93 Q2099.14 1517.37 2095.5 1517.37 M2095.5 1513.66 Q2101.31 1513.66 2104.37 1518.27 Q2107.45 1522.85 2107.45 1531.6 Q2107.45 1540.33 2104.37 1544.94 Q2101.31 1549.52 2095.5 1549.52 Q2089.69 1549.52 2086.62 1544.94 Q2083.56 1540.33 2083.56 1531.6 Q2083.56 1522.85 2086.62 1518.27 Q2089.69 1513.66 2095.5 1513.66 Z\" fill=\"#000000\" fill-rule=\"evenodd\" fill-opacity=\"1\" /><polyline clip-path=\"url(#clip392)\" style=\"stroke:#000000; stroke-linecap:round; stroke-linejoin:round; stroke-width:2; stroke-opacity:0.1; fill:none\" points=\"\n",
       "  140.696,1359.17 2352.76,1359.17 \n",
       "  \"/>\n",
       "<polyline clip-path=\"url(#clip392)\" style=\"stroke:#000000; stroke-linecap:round; stroke-linejoin:round; stroke-width:2; stroke-opacity:0.1; fill:none\" points=\"\n",
       "  140.696,1095.33 2352.76,1095.33 \n",
       "  \"/>\n",
       "<polyline clip-path=\"url(#clip392)\" style=\"stroke:#000000; stroke-linecap:round; stroke-linejoin:round; stroke-width:2; stroke-opacity:0.1; fill:none\" points=\"\n",
       "  140.696,831.488 2352.76,831.488 \n",
       "  \"/>\n",
       "<polyline clip-path=\"url(#clip392)\" style=\"stroke:#000000; stroke-linecap:round; stroke-linejoin:round; stroke-width:2; stroke-opacity:0.1; fill:none\" points=\"\n",
       "  140.696,567.644 2352.76,567.644 \n",
       "  \"/>\n",
       "<polyline clip-path=\"url(#clip392)\" style=\"stroke:#000000; stroke-linecap:round; stroke-linejoin:round; stroke-width:2; stroke-opacity:0.1; fill:none\" points=\"\n",
       "  140.696,303.8 2352.76,303.8 \n",
       "  \"/>\n",
       "<polyline clip-path=\"url(#clip390)\" style=\"stroke:#000000; stroke-linecap:round; stroke-linejoin:round; stroke-width:4; stroke-opacity:1; fill:none\" points=\"\n",
       "  140.696,1486.45 140.696,47.2441 \n",
       "  \"/>\n",
       "<polyline clip-path=\"url(#clip390)\" style=\"stroke:#000000; stroke-linecap:round; stroke-linejoin:round; stroke-width:4; stroke-opacity:1; fill:none\" points=\"\n",
       "  140.696,1359.17 159.593,1359.17 \n",
       "  \"/>\n",
       "<polyline clip-path=\"url(#clip390)\" style=\"stroke:#000000; stroke-linecap:round; stroke-linejoin:round; stroke-width:4; stroke-opacity:1; fill:none\" points=\"\n",
       "  140.696,1095.33 159.593,1095.33 \n",
       "  \"/>\n",
       "<polyline clip-path=\"url(#clip390)\" style=\"stroke:#000000; stroke-linecap:round; stroke-linejoin:round; stroke-width:4; stroke-opacity:1; fill:none\" points=\"\n",
       "  140.696,831.488 159.593,831.488 \n",
       "  \"/>\n",
       "<polyline clip-path=\"url(#clip390)\" style=\"stroke:#000000; stroke-linecap:round; stroke-linejoin:round; stroke-width:4; stroke-opacity:1; fill:none\" points=\"\n",
       "  140.696,567.644 159.593,567.644 \n",
       "  \"/>\n",
       "<polyline clip-path=\"url(#clip390)\" style=\"stroke:#000000; stroke-linecap:round; stroke-linejoin:round; stroke-width:4; stroke-opacity:1; fill:none\" points=\"\n",
       "  140.696,303.8 159.593,303.8 \n",
       "  \"/>\n",
       "<path clip-path=\"url(#clip390)\" d=\"M54.3949 1372.52 L62.0337 1372.52 L62.0337 1346.15 L53.7236 1347.82 L53.7236 1343.56 L61.9874 1341.89 L66.6633 1341.89 L66.6633 1372.52 L74.3022 1372.52 L74.3022 1376.45 L54.3949 1376.45 L54.3949 1372.52 Z\" fill=\"#000000\" fill-rule=\"evenodd\" fill-opacity=\"1\" /><path clip-path=\"url(#clip390)\" d=\"M83.7929 1341.89 L102.149 1341.89 L102.149 1345.83 L88.0753 1345.83 L88.0753 1354.3 Q89.0938 1353.96 90.1123 1353.79 Q91.1308 1353.61 92.1493 1353.61 Q97.9363 1353.61 101.316 1356.78 Q104.696 1359.95 104.696 1365.37 Q104.696 1370.95 101.223 1374.05 Q97.7511 1377.13 91.4317 1377.13 Q89.2558 1377.13 86.9873 1376.76 Q84.7419 1376.39 82.3346 1375.64 L82.3346 1370.95 Q84.4179 1372.08 86.6401 1372.64 Q88.8623 1373.19 91.3391 1373.19 Q95.3437 1373.19 97.6817 1371.08 Q100.02 1368.98 100.02 1365.37 Q100.02 1361.76 97.6817 1359.65 Q95.3437 1357.54 91.3391 1357.54 Q89.4641 1357.54 87.5892 1357.96 Q85.7373 1358.38 83.7929 1359.26 L83.7929 1341.89 Z\" fill=\"#000000\" fill-rule=\"evenodd\" fill-opacity=\"1\" /><path clip-path=\"url(#clip390)\" d=\"M56.6171 1108.68 L72.9365 1108.68 L72.9365 1112.61 L50.9921 1112.61 L50.9921 1108.68 Q53.6541 1105.92 58.2375 1101.29 Q62.8439 1096.64 64.0245 1095.3 Q66.2698 1092.77 67.1494 1091.04 Q68.0522 1089.28 68.0522 1087.59 Q68.0522 1084.83 66.1078 1083.1 Q64.1865 1081.36 61.0847 1081.36 Q58.8856 1081.36 56.4319 1082.13 Q54.0014 1082.89 51.2236 1084.44 L51.2236 1079.72 Q54.0477 1078.58 56.5014 1078.01 Q58.955 1077.43 60.9921 1077.43 Q66.3624 1077.43 69.5568 1080.11 Q72.7513 1082.8 72.7513 1087.29 Q72.7513 1089.42 71.9411 1091.34 Q71.1541 1093.24 69.0476 1095.83 Q68.4689 1096.5 65.367 1099.72 Q62.2652 1102.91 56.6171 1108.68 Z\" fill=\"#000000\" fill-rule=\"evenodd\" fill-opacity=\"1\" /><path clip-path=\"url(#clip390)\" d=\"M92.7512 1081.13 Q89.1401 1081.13 87.3114 1084.69 Q85.5058 1088.24 85.5058 1095.37 Q85.5058 1102.47 87.3114 1106.04 Q89.1401 1109.58 92.7512 1109.58 Q96.3854 1109.58 98.1909 1106.04 Q100.02 1102.47 100.02 1095.37 Q100.02 1088.24 98.1909 1084.69 Q96.3854 1081.13 92.7512 1081.13 M92.7512 1077.43 Q98.5613 1077.43 101.617 1082.03 Q104.696 1086.62 104.696 1095.37 Q104.696 1104.09 101.617 1108.7 Q98.5613 1113.28 92.7512 1113.28 Q86.941 1113.28 83.8623 1108.7 Q80.8068 1104.09 80.8068 1095.37 Q80.8068 1086.62 83.8623 1082.03 Q86.941 1077.43 92.7512 1077.43 Z\" fill=\"#000000\" fill-rule=\"evenodd\" fill-opacity=\"1\" /><path clip-path=\"url(#clip390)\" d=\"M57.6125 844.833 L73.9318 844.833 L73.9318 848.768 L51.9875 848.768 L51.9875 844.833 Q54.6495 842.078 59.2328 837.448 Q63.8393 832.796 65.0198 831.453 Q67.2652 828.93 68.1448 827.194 Q69.0476 825.434 69.0476 823.745 Q69.0476 820.99 67.1032 819.254 Q65.1819 817.518 62.08 817.518 Q59.881 817.518 57.4273 818.282 Q54.9967 819.046 52.219 820.597 L52.219 815.874 Q55.043 814.74 57.4967 814.161 Q59.9504 813.583 61.9874 813.583 Q67.3578 813.583 70.5522 816.268 Q73.7466 818.953 73.7466 823.444 Q73.7466 825.573 72.9365 827.495 Q72.1494 829.393 70.0429 831.985 Q69.4642 832.657 66.3624 835.874 Q63.2606 839.069 57.6125 844.833 Z\" fill=\"#000000\" fill-rule=\"evenodd\" fill-opacity=\"1\" /><path clip-path=\"url(#clip390)\" d=\"M83.7929 814.208 L102.149 814.208 L102.149 818.143 L88.0753 818.143 L88.0753 826.615 Q89.0938 826.268 90.1123 826.106 Q91.1308 825.921 92.1493 825.921 Q97.9363 825.921 101.316 829.092 Q104.696 832.263 104.696 837.68 Q104.696 843.258 101.223 846.36 Q97.7511 849.439 91.4317 849.439 Q89.2558 849.439 86.9873 849.069 Q84.7419 848.698 82.3346 847.957 L82.3346 843.258 Q84.4179 844.393 86.6401 844.948 Q88.8623 845.504 91.3391 845.504 Q95.3437 845.504 97.6817 843.397 Q100.02 841.291 100.02 837.68 Q100.02 834.069 97.6817 831.962 Q95.3437 829.856 91.3391 829.856 Q89.4641 829.856 87.5892 830.272 Q85.7373 830.689 83.7929 831.569 L83.7929 814.208 Z\" fill=\"#000000\" fill-rule=\"evenodd\" fill-opacity=\"1\" /><path clip-path=\"url(#clip390)\" d=\"M66.7559 566.29 Q70.1124 567.007 71.9874 569.276 Q73.8855 571.544 73.8855 574.878 Q73.8855 579.994 70.367 582.794 Q66.8485 585.595 60.3671 585.595 Q58.1912 585.595 55.8764 585.156 Q53.5847 584.739 51.131 583.882 L51.131 579.369 Q53.0754 580.503 55.3903 581.081 Q57.7051 581.66 60.2282 581.66 Q64.6263 581.66 66.918 579.924 Q69.2328 578.188 69.2328 574.878 Q69.2328 571.822 67.08 570.109 Q64.9504 568.373 61.131 568.373 L57.1032 568.373 L57.1032 564.531 L61.3161 564.531 Q64.7652 564.531 66.5939 563.165 Q68.4226 561.776 68.4226 559.183 Q68.4226 556.521 66.5245 555.109 Q64.6495 553.674 61.131 553.674 Q59.2097 553.674 57.0106 554.091 Q54.8115 554.508 52.1727 555.387 L52.1727 551.221 Q54.8347 550.48 57.1495 550.109 Q59.4875 549.739 61.5476 549.739 Q66.8717 549.739 69.9735 552.17 Q73.0753 554.577 73.0753 558.697 Q73.0753 561.568 71.4318 563.558 Q69.7883 565.526 66.7559 566.29 Z\" fill=\"#000000\" fill-rule=\"evenodd\" fill-opacity=\"1\" /><path clip-path=\"url(#clip390)\" d=\"M92.7512 553.443 Q89.1401 553.443 87.3114 557.008 Q85.5058 560.549 85.5058 567.679 Q85.5058 574.785 87.3114 578.35 Q89.1401 581.892 92.7512 581.892 Q96.3854 581.892 98.1909 578.35 Q100.02 574.785 100.02 567.679 Q100.02 560.549 98.1909 557.008 Q96.3854 553.443 92.7512 553.443 M92.7512 549.739 Q98.5613 549.739 101.617 554.345 Q104.696 558.929 104.696 567.679 Q104.696 576.406 101.617 581.012 Q98.5613 585.595 92.7512 585.595 Q86.941 585.595 83.8623 581.012 Q80.8068 576.406 80.8068 567.679 Q80.8068 558.929 83.8623 554.345 Q86.941 549.739 92.7512 549.739 Z\" fill=\"#000000\" fill-rule=\"evenodd\" fill-opacity=\"1\" /><path clip-path=\"url(#clip390)\" d=\"M67.7513 302.446 Q71.1078 303.164 72.9827 305.432 Q74.8809 307.701 74.8809 311.034 Q74.8809 316.15 71.3624 318.951 Q67.8439 321.752 61.3624 321.752 Q59.1865 321.752 56.8717 321.312 Q54.5801 320.895 52.1264 320.039 L52.1264 315.525 Q54.0708 316.659 56.3856 317.238 Q58.7004 317.817 61.2236 317.817 Q65.6217 317.817 67.9133 316.08 Q70.2281 314.344 70.2281 311.034 Q70.2281 307.979 68.0754 306.266 Q65.9457 304.53 62.1263 304.53 L58.0986 304.53 L58.0986 300.687 L62.3115 300.687 Q65.7606 300.687 67.5893 299.321 Q69.418 297.932 69.418 295.34 Q69.418 292.678 67.5198 291.266 Q65.6448 289.831 62.1263 289.831 Q60.205 289.831 58.006 290.247 Q55.8069 290.664 53.168 291.544 L53.168 287.377 Q55.8301 286.636 58.1449 286.266 Q60.4828 285.895 62.543 285.895 Q67.867 285.895 70.9689 288.326 Q74.0707 290.733 74.0707 294.854 Q74.0707 297.724 72.4272 299.715 Q70.7837 301.682 67.7513 302.446 Z\" fill=\"#000000\" fill-rule=\"evenodd\" fill-opacity=\"1\" /><path clip-path=\"url(#clip390)\" d=\"M83.7929 286.52 L102.149 286.52 L102.149 290.456 L88.0753 290.456 L88.0753 298.928 Q89.0938 298.581 90.1123 298.418 Q91.1308 298.233 92.1493 298.233 Q97.9363 298.233 101.316 301.405 Q104.696 304.576 104.696 309.992 Q104.696 315.571 101.223 318.673 Q97.7511 321.752 91.4317 321.752 Q89.2558 321.752 86.9873 321.381 Q84.7419 321.011 82.3346 320.27 L82.3346 315.571 Q84.4179 316.705 86.6401 317.261 Q88.8623 317.817 91.3391 317.817 Q95.3437 317.817 97.6817 315.71 Q100.02 313.604 100.02 309.992 Q100.02 306.381 97.6817 304.275 Q95.3437 302.168 91.3391 302.168 Q89.4641 302.168 87.5892 302.585 Q85.7373 303.002 83.7929 303.881 L83.7929 286.52 Z\" fill=\"#000000\" fill-rule=\"evenodd\" fill-opacity=\"1\" /><polyline clip-path=\"url(#clip392)\" style=\"stroke:#009af9; stroke-linecap:round; stroke-linejoin:round; stroke-width:4; stroke-opacity:1; fill:none\" points=\"\n",
       "  203.301,472.133 411.986,414.615 620.671,414.615 829.356,1402.45 1038.04,677.931 1246.73,682.68 1455.41,538.621 1664.1,485.852 1872.78,673.181 2081.47,121.221 \n",
       "  2290.15,193.514 \n",
       "  \"/>\n",
       "<polyline clip-path=\"url(#clip392)\" style=\"stroke:#e26f46; stroke-linecap:round; stroke-linejoin:round; stroke-width:4; stroke-opacity:1; fill:none\" points=\"\n",
       "  203.301,759.722 411.986,1037.81 620.671,476.512 829.356,313.299 1038.04,265.279 1246.73,1445.72 1455.41,351.82 1664.1,87.9763 1872.78,485.852 2081.47,390.341 \n",
       "  2290.15,773.97 \n",
       "  \"/>\n",
       "<path clip-path=\"url(#clip390)\" d=\"\n",
       "M214.431 250.738 L907.741 250.738 L907.741 95.2176 L214.431 95.2176  Z\n",
       "  \" fill=\"#ffffff\" fill-rule=\"evenodd\" fill-opacity=\"1\"/>\n",
       "<polyline clip-path=\"url(#clip390)\" style=\"stroke:#000000; stroke-linecap:round; stroke-linejoin:round; stroke-width:4; stroke-opacity:1; fill:none\" points=\"\n",
       "  214.431,250.738 907.741,250.738 907.741,95.2176 214.431,95.2176 214.431,250.738 \n",
       "  \"/>\n",
       "<polyline clip-path=\"url(#clip390)\" style=\"stroke:#009af9; stroke-linecap:round; stroke-linejoin:round; stroke-width:4; stroke-opacity:1; fill:none\" points=\"\n",
       "  239.009,147.058 386.48,147.058 \n",
       "  \"/>\n",
       "<path clip-path=\"url(#clip390)\" d=\"M429.97 142.347 L429.97 128.319 L434.23 128.319 L434.23 164.338 L429.97 164.338 L429.97 160.449 Q428.628 162.763 426.568 163.898 Q424.531 165.009 421.66 165.009 Q416.961 165.009 413.998 161.259 Q411.058 157.509 411.058 151.398 Q411.058 145.287 413.998 141.537 Q416.961 137.787 421.66 137.787 Q424.531 137.787 426.568 138.921 Q428.628 140.032 429.97 142.347 M415.457 151.398 Q415.457 156.097 417.378 158.782 Q419.322 161.444 422.702 161.444 Q426.082 161.444 428.026 158.782 Q429.97 156.097 429.97 151.398 Q429.97 146.699 428.026 144.037 Q426.082 141.352 422.702 141.352 Q419.322 141.352 417.378 144.037 Q415.457 146.699 415.457 151.398 Z\" fill=\"#000000\" fill-rule=\"evenodd\" fill-opacity=\"1\" /><path clip-path=\"url(#clip390)\" d=\"M465.179 150.31 L465.179 152.393 L445.595 152.393 Q445.873 156.791 448.234 159.106 Q450.618 161.398 454.855 161.398 Q457.308 161.398 459.6 160.796 Q461.915 160.194 464.183 158.99 L464.183 163.018 Q461.892 163.99 459.484 164.5 Q457.077 165.009 454.6 165.009 Q448.396 165.009 444.762 161.398 Q441.151 157.787 441.151 151.629 Q441.151 145.264 444.577 141.537 Q448.026 137.787 453.859 137.787 Q459.091 137.787 462.123 141.166 Q465.179 144.523 465.179 150.31 M460.919 149.06 Q460.873 145.565 458.952 143.481 Q457.054 141.398 453.905 141.398 Q450.341 141.398 448.188 143.412 Q446.058 145.426 445.734 149.083 L460.919 149.06 Z\" fill=\"#000000\" fill-rule=\"evenodd\" fill-opacity=\"1\" /><path clip-path=\"url(#clip390)\" d=\"M490.827 139.407 L490.827 143.389 Q489.021 142.393 487.192 141.907 Q485.387 141.398 483.535 141.398 Q479.391 141.398 477.1 144.037 Q474.808 146.652 474.808 151.398 Q474.808 156.143 477.1 158.782 Q479.391 161.398 483.535 161.398 Q485.387 161.398 487.192 160.912 Q489.021 160.402 490.827 159.407 L490.827 163.342 Q489.044 164.176 487.123 164.592 Q485.225 165.009 483.072 165.009 Q477.216 165.009 473.766 161.328 Q470.317 157.648 470.317 151.398 Q470.317 145.055 473.79 141.421 Q477.285 137.787 483.35 137.787 Q485.317 137.787 487.192 138.203 Q489.067 138.597 490.827 139.407 Z\" fill=\"#000000\" fill-rule=\"evenodd\" fill-opacity=\"1\" /><path clip-path=\"url(#clip390)\" d=\"M502.447 131.051 L502.447 138.412 L511.22 138.412 L511.22 141.722 L502.447 141.722 L502.447 155.796 Q502.447 158.967 503.303 159.87 Q504.183 160.773 506.845 160.773 L511.22 160.773 L511.22 164.338 L506.845 164.338 Q501.914 164.338 500.039 162.509 Q498.164 160.657 498.164 155.796 L498.164 141.722 L495.04 141.722 L495.04 138.412 L498.164 138.412 L498.164 131.051 L502.447 131.051 Z\" fill=\"#000000\" fill-rule=\"evenodd\" fill-opacity=\"1\" /><path clip-path=\"url(#clip390)\" d=\"M538.998 150.31 L538.998 152.393 L519.414 152.393 Q519.692 156.791 522.053 159.106 Q524.437 161.398 528.674 161.398 Q531.127 161.398 533.419 160.796 Q535.734 160.194 538.002 158.99 L538.002 163.018 Q535.711 163.99 533.303 164.5 Q530.896 165.009 528.419 165.009 Q522.215 165.009 518.581 161.398 Q514.97 157.787 514.97 151.629 Q514.97 145.264 518.396 141.537 Q521.845 137.787 527.678 137.787 Q532.91 137.787 535.942 141.166 Q538.998 144.523 538.998 150.31 M534.738 149.06 Q534.692 145.565 532.771 143.481 Q530.873 141.398 527.725 141.398 Q524.16 141.398 522.007 143.412 Q519.877 145.426 519.553 149.083 L534.738 149.06 Z\" fill=\"#000000\" fill-rule=\"evenodd\" fill-opacity=\"1\" /><path clip-path=\"url(#clip390)\" d=\"M566.173 143.389 Q567.771 140.518 569.993 139.153 Q572.215 137.787 575.224 137.787 Q579.275 137.787 581.474 140.634 Q583.673 143.458 583.673 148.689 L583.673 164.338 L579.391 164.338 L579.391 148.828 Q579.391 145.102 578.071 143.296 Q576.752 141.49 574.044 141.49 Q570.734 141.49 568.812 143.69 Q566.891 145.889 566.891 149.685 L566.891 164.338 L562.609 164.338 L562.609 148.828 Q562.609 145.078 561.289 143.296 Q559.97 141.49 557.215 141.49 Q553.951 141.49 552.03 143.713 Q550.109 145.912 550.109 149.685 L550.109 164.338 L545.826 164.338 L545.826 138.412 L550.109 138.412 L550.109 142.44 Q551.567 140.055 553.604 138.921 Q555.641 137.787 558.442 137.787 Q561.266 137.787 563.234 139.222 Q565.224 140.657 566.173 143.389 Z\" fill=\"#000000\" fill-rule=\"evenodd\" fill-opacity=\"1\" /><path clip-path=\"url(#clip390)\" d=\"M596.289 160.449 L596.289 174.199 L592.007 174.199 L592.007 138.412 L596.289 138.412 L596.289 142.347 Q597.632 140.032 599.669 138.921 Q601.729 137.787 604.576 137.787 Q609.298 137.787 612.238 141.537 Q615.201 145.287 615.201 151.398 Q615.201 157.509 612.238 161.259 Q609.298 165.009 604.576 165.009 Q601.729 165.009 599.669 163.898 Q597.632 162.763 596.289 160.449 M610.78 151.398 Q610.78 146.699 608.835 144.037 Q606.914 141.352 603.534 141.352 Q600.155 141.352 598.21 144.037 Q596.289 146.699 596.289 151.398 Q596.289 156.097 598.21 158.782 Q600.155 161.444 603.534 161.444 Q606.914 161.444 608.835 158.782 Q610.78 156.097 610.78 151.398 Z\" fill=\"#000000\" fill-rule=\"evenodd\" fill-opacity=\"1\" /><path clip-path=\"url(#clip390)\" d=\"M642.446 143.389 Q644.043 140.518 646.266 139.153 Q648.488 137.787 651.497 137.787 Q655.548 137.787 657.747 140.634 Q659.946 143.458 659.946 148.689 L659.946 164.338 L655.664 164.338 L655.664 148.828 Q655.664 145.102 654.344 143.296 Q653.025 141.49 650.316 141.49 Q647.006 141.49 645.085 143.69 Q643.164 145.889 643.164 149.685 L643.164 164.338 L638.881 164.338 L638.881 148.828 Q638.881 145.078 637.562 143.296 Q636.242 141.49 633.488 141.49 Q630.224 141.49 628.303 143.713 Q626.381 145.912 626.381 149.685 L626.381 164.338 L622.099 164.338 L622.099 138.412 L626.381 138.412 L626.381 142.44 Q627.84 140.055 629.877 138.921 Q631.914 137.787 634.715 137.787 Q637.539 137.787 639.506 139.222 Q641.497 140.657 642.446 143.389 Z\" fill=\"#000000\" fill-rule=\"evenodd\" fill-opacity=\"1\" /><path clip-path=\"url(#clip390)\" d=\"M688.626 143.389 Q690.224 140.518 692.446 139.153 Q694.668 137.787 697.677 137.787 Q701.728 137.787 703.927 140.634 Q706.126 143.458 706.126 148.689 L706.126 164.338 L701.844 164.338 L701.844 148.828 Q701.844 145.102 700.525 143.296 Q699.205 141.49 696.497 141.49 Q693.187 141.49 691.265 143.69 Q689.344 145.889 689.344 149.685 L689.344 164.338 L685.062 164.338 L685.062 148.828 Q685.062 145.078 683.742 143.296 Q682.423 141.49 679.668 141.49 Q676.404 141.49 674.483 143.713 Q672.562 145.912 672.562 149.685 L672.562 164.338 L668.279 164.338 L668.279 138.412 L672.562 138.412 L672.562 142.44 Q674.02 140.055 676.057 138.921 Q678.094 137.787 680.895 137.787 Q683.719 137.787 685.687 139.222 Q687.677 140.657 688.626 143.389 Z\" fill=\"#000000\" fill-rule=\"evenodd\" fill-opacity=\"1\" /><path clip-path=\"url(#clip390)\" d=\"M726.404 151.305 Q721.242 151.305 719.251 152.486 Q717.261 153.666 717.261 156.514 Q717.261 158.782 718.742 160.125 Q720.247 161.444 722.816 161.444 Q726.358 161.444 728.487 158.944 Q730.64 156.421 730.64 152.254 L730.64 151.305 L726.404 151.305 M734.899 149.546 L734.899 164.338 L730.64 164.338 L730.64 160.402 Q729.182 162.763 727.006 163.898 Q724.83 165.009 721.682 165.009 Q717.7 165.009 715.339 162.787 Q713.001 160.541 713.001 156.791 Q713.001 152.416 715.918 150.194 Q718.858 147.972 724.668 147.972 L730.64 147.972 L730.64 147.555 Q730.64 144.615 728.696 143.018 Q726.774 141.398 723.279 141.398 Q721.057 141.398 718.95 141.93 Q716.844 142.463 714.899 143.527 L714.899 139.592 Q717.237 138.69 719.436 138.25 Q721.636 137.787 723.719 137.787 Q729.344 137.787 732.122 140.703 Q734.899 143.62 734.899 149.546 Z\" fill=\"#000000\" fill-rule=\"evenodd\" fill-opacity=\"1\" /><path clip-path=\"url(#clip390)\" d=\"M765.223 138.412 L755.848 151.027 L765.709 164.338 L760.686 164.338 L753.14 154.152 L745.594 164.338 L740.571 164.338 L750.64 150.773 L741.427 138.412 L746.45 138.412 L753.325 147.648 L760.2 138.412 L765.223 138.412 Z\" fill=\"#000000\" fill-rule=\"evenodd\" fill-opacity=\"1\" /><path clip-path=\"url(#clip390)\" d=\"M773.14 160.402 L780.779 160.402 L780.779 134.037 L772.469 135.703 L772.469 131.444 L780.732 129.778 L785.408 129.778 L785.408 160.402 L793.047 160.402 L793.047 164.338 L773.14 164.338 L773.14 160.402 Z\" fill=\"#000000\" fill-rule=\"evenodd\" fill-opacity=\"1\" /><path clip-path=\"url(#clip390)\" d=\"M802.63 163.62 L802.63 159.361 Q804.39 160.194 806.195 160.634 Q808.001 161.074 809.737 161.074 Q814.366 161.074 816.797 157.972 Q819.251 154.847 819.598 148.504 Q818.255 150.495 816.195 151.56 Q814.135 152.625 811.635 152.625 Q806.45 152.625 803.417 149.5 Q800.408 146.352 800.408 140.912 Q800.408 135.588 803.556 132.37 Q806.705 129.153 811.936 129.153 Q817.931 129.153 821.079 133.759 Q824.251 138.342 824.251 147.092 Q824.251 155.264 820.362 160.148 Q816.496 165.009 809.945 165.009 Q808.186 165.009 806.38 164.662 Q804.575 164.314 802.63 163.62 M811.936 148.967 Q815.084 148.967 816.913 146.814 Q818.765 144.662 818.765 140.912 Q818.765 137.185 816.913 135.032 Q815.084 132.856 811.936 132.856 Q808.788 132.856 806.936 135.032 Q805.107 137.185 805.107 140.912 Q805.107 144.662 806.936 146.814 Q808.788 148.967 811.936 148.967 Z\" fill=\"#000000\" fill-rule=\"evenodd\" fill-opacity=\"1\" /><path clip-path=\"url(#clip390)\" d=\"M836.681 160.402 L853.001 160.402 L853.001 164.338 L831.056 164.338 L831.056 160.402 Q833.718 157.648 838.302 153.018 Q842.908 148.365 844.089 147.023 Q846.334 144.5 847.214 142.764 Q848.116 141.004 848.116 139.315 Q848.116 136.56 846.172 134.824 Q844.251 133.088 841.149 133.088 Q838.95 133.088 836.496 133.852 Q834.065 134.615 831.288 136.166 L831.288 131.444 Q834.112 130.31 836.565 129.731 Q839.019 129.153 841.056 129.153 Q846.427 129.153 849.621 131.838 Q852.815 134.523 852.815 139.014 Q852.815 141.143 852.005 143.065 Q851.218 144.963 849.112 147.555 Q848.533 148.227 845.431 151.444 Q842.329 154.639 836.681 160.402 Z\" fill=\"#000000\" fill-rule=\"evenodd\" fill-opacity=\"1\" /><path clip-path=\"url(#clip390)\" d=\"M866.843 160.402 L883.162 160.402 L883.162 164.338 L861.218 164.338 L861.218 160.402 Q863.88 157.648 868.463 153.018 Q873.07 148.365 874.25 147.023 Q876.496 144.5 877.375 142.764 Q878.278 141.004 878.278 139.315 Q878.278 136.56 876.334 134.824 Q874.412 133.088 871.311 133.088 Q869.112 133.088 866.658 133.852 Q864.227 134.615 861.45 136.166 L861.45 131.444 Q864.274 130.31 866.727 129.731 Q869.181 129.153 871.218 129.153 Q876.588 129.153 879.783 131.838 Q882.977 134.523 882.977 139.014 Q882.977 141.143 882.167 143.065 Q881.38 144.963 879.274 147.555 Q878.695 148.227 875.593 151.444 Q872.491 154.639 866.843 160.402 Z\" fill=\"#000000\" fill-rule=\"evenodd\" fill-opacity=\"1\" /><polyline clip-path=\"url(#clip390)\" style=\"stroke:#e26f46; stroke-linecap:round; stroke-linejoin:round; stroke-width:4; stroke-opacity:1; fill:none\" points=\"\n",
       "  239.009,198.898 386.48,198.898 \n",
       "  \"/>\n",
       "<path clip-path=\"url(#clip390)\" d=\"M415.734 185.46 L415.734 212.335 L421.382 212.335 Q428.535 212.335 431.845 209.094 Q435.179 205.854 435.179 198.863 Q435.179 191.918 431.845 188.701 Q428.535 185.46 421.382 185.46 L415.734 185.46 M411.058 181.618 L420.665 181.618 Q430.711 181.618 435.41 185.807 Q440.109 189.974 440.109 198.863 Q440.109 207.798 435.387 211.988 Q430.665 216.178 420.665 216.178 L411.058 216.178 L411.058 181.618 Z\" fill=\"#000000\" fill-rule=\"evenodd\" fill-opacity=\"1\" /><path clip-path=\"url(#clip390)\" d=\"M469.554 202.15 L469.554 204.233 L449.97 204.233 Q450.248 208.631 452.609 210.946 Q454.993 213.238 459.23 213.238 Q461.683 213.238 463.975 212.636 Q466.29 212.034 468.558 210.83 L468.558 214.858 Q466.267 215.83 463.859 216.34 Q461.452 216.849 458.975 216.849 Q452.771 216.849 449.137 213.238 Q445.526 209.627 445.526 203.469 Q445.526 197.104 448.952 193.377 Q452.401 189.627 458.234 189.627 Q463.466 189.627 466.498 193.006 Q469.554 196.363 469.554 202.15 M465.294 200.9 Q465.248 197.405 463.327 195.321 Q461.429 193.238 458.28 193.238 Q454.716 193.238 452.563 195.252 Q450.433 197.266 450.109 200.923 L465.294 200.9 Z\" fill=\"#000000\" fill-rule=\"evenodd\" fill-opacity=\"1\" /><path clip-path=\"url(#clip390)\" d=\"M495.202 191.247 L495.202 195.229 Q493.396 194.233 491.567 193.747 Q489.762 193.238 487.91 193.238 Q483.766 193.238 481.475 195.877 Q479.183 198.492 479.183 203.238 Q479.183 207.983 481.475 210.622 Q483.766 213.238 487.91 213.238 Q489.762 213.238 491.567 212.752 Q493.396 212.242 495.202 211.247 L495.202 215.182 Q493.419 216.016 491.498 216.432 Q489.6 216.849 487.447 216.849 Q481.591 216.849 478.141 213.168 Q474.692 209.488 474.692 203.238 Q474.692 196.895 478.165 193.261 Q481.66 189.627 487.725 189.627 Q489.692 189.627 491.567 190.043 Q493.442 190.437 495.202 191.247 Z\" fill=\"#000000\" fill-rule=\"evenodd\" fill-opacity=\"1\" /><path clip-path=\"url(#clip390)\" d=\"M506.822 182.891 L506.822 190.252 L515.595 190.252 L515.595 193.562 L506.822 193.562 L506.822 207.636 Q506.822 210.807 507.678 211.71 Q508.558 212.613 511.22 212.613 L515.595 212.613 L515.595 216.178 L511.22 216.178 Q506.289 216.178 504.414 214.349 Q502.539 212.497 502.539 207.636 L502.539 193.562 L499.414 193.562 L499.414 190.252 L502.539 190.252 L502.539 182.891 L506.822 182.891 Z\" fill=\"#000000\" fill-rule=\"evenodd\" fill-opacity=\"1\" /><path clip-path=\"url(#clip390)\" d=\"M543.373 202.15 L543.373 204.233 L523.789 204.233 Q524.067 208.631 526.428 210.946 Q528.812 213.238 533.049 213.238 Q535.502 213.238 537.794 212.636 Q540.109 212.034 542.377 210.83 L542.377 214.858 Q540.086 215.83 537.678 216.34 Q535.271 216.849 532.794 216.849 Q526.59 216.849 522.956 213.238 Q519.345 209.627 519.345 203.469 Q519.345 197.104 522.771 193.377 Q526.22 189.627 532.053 189.627 Q537.285 189.627 540.317 193.006 Q543.373 196.363 543.373 202.15 M539.113 200.9 Q539.067 197.405 537.146 195.321 Q535.248 193.238 532.099 193.238 Q528.535 193.238 526.382 195.252 Q524.252 197.266 523.928 200.923 L539.113 200.9 Z\" fill=\"#000000\" fill-rule=\"evenodd\" fill-opacity=\"1\" /><path clip-path=\"url(#clip390)\" d=\"M570.548 195.229 Q572.146 192.358 574.368 190.993 Q576.59 189.627 579.599 189.627 Q583.65 189.627 585.849 192.474 Q588.048 195.298 588.048 200.529 L588.048 216.178 L583.766 216.178 L583.766 200.668 Q583.766 196.942 582.446 195.136 Q581.127 193.33 578.419 193.33 Q575.109 193.33 573.187 195.53 Q571.266 197.729 571.266 201.525 L571.266 216.178 L566.984 216.178 L566.984 200.668 Q566.984 196.918 565.664 195.136 Q564.345 193.33 561.59 193.33 Q558.326 193.33 556.405 195.553 Q554.484 197.752 554.484 201.525 L554.484 216.178 L550.201 216.178 L550.201 190.252 L554.484 190.252 L554.484 194.28 Q555.942 191.895 557.979 190.761 Q560.016 189.627 562.817 189.627 Q565.641 189.627 567.609 191.062 Q569.599 192.497 570.548 195.229 Z\" fill=\"#000000\" fill-rule=\"evenodd\" fill-opacity=\"1\" /><path clip-path=\"url(#clip390)\" d=\"M600.664 212.289 L600.664 226.039 L596.382 226.039 L596.382 190.252 L600.664 190.252 L600.664 194.187 Q602.007 191.872 604.044 190.761 Q606.104 189.627 608.951 189.627 Q613.673 189.627 616.613 193.377 Q619.576 197.127 619.576 203.238 Q619.576 209.349 616.613 213.099 Q613.673 216.849 608.951 216.849 Q606.104 216.849 604.044 215.738 Q602.007 214.603 600.664 212.289 M615.155 203.238 Q615.155 198.539 613.21 195.877 Q611.289 193.192 607.909 193.192 Q604.53 193.192 602.585 195.877 Q600.664 198.539 600.664 203.238 Q600.664 207.937 602.585 210.622 Q604.53 213.284 607.909 213.284 Q611.289 213.284 613.21 210.622 Q615.155 207.937 615.155 203.238 Z\" fill=\"#000000\" fill-rule=\"evenodd\" fill-opacity=\"1\" /><path clip-path=\"url(#clip390)\" d=\"M646.821 195.229 Q648.418 192.358 650.641 190.993 Q652.863 189.627 655.872 189.627 Q659.923 189.627 662.122 192.474 Q664.321 195.298 664.321 200.529 L664.321 216.178 L660.039 216.178 L660.039 200.668 Q660.039 196.942 658.719 195.136 Q657.4 193.33 654.691 193.33 Q651.381 193.33 649.46 195.53 Q647.539 197.729 647.539 201.525 L647.539 216.178 L643.256 216.178 L643.256 200.668 Q643.256 196.918 641.937 195.136 Q640.617 193.33 637.863 193.33 Q634.599 193.33 632.678 195.553 Q630.756 197.752 630.756 201.525 L630.756 216.178 L626.474 216.178 L626.474 190.252 L630.756 190.252 L630.756 194.28 Q632.215 191.895 634.252 190.761 Q636.289 189.627 639.09 189.627 Q641.914 189.627 643.881 191.062 Q645.872 192.497 646.821 195.229 Z\" fill=\"#000000\" fill-rule=\"evenodd\" fill-opacity=\"1\" /><path clip-path=\"url(#clip390)\" d=\"M684.599 203.145 Q679.437 203.145 677.446 204.326 Q675.455 205.506 675.455 208.354 Q675.455 210.622 676.937 211.965 Q678.441 213.284 681.011 213.284 Q684.552 213.284 686.682 210.784 Q688.835 208.261 688.835 204.094 L688.835 203.145 L684.599 203.145 M693.094 201.386 L693.094 216.178 L688.835 216.178 L688.835 212.242 Q687.376 214.603 685.201 215.738 Q683.025 216.849 679.876 216.849 Q675.895 216.849 673.534 214.627 Q671.196 212.381 671.196 208.631 Q671.196 204.256 674.113 202.034 Q677.052 199.812 682.863 199.812 L688.835 199.812 L688.835 199.395 Q688.835 196.455 686.89 194.858 Q684.969 193.238 681.474 193.238 Q679.251 193.238 677.145 193.77 Q675.039 194.303 673.094 195.367 L673.094 191.432 Q675.432 190.53 677.631 190.09 Q679.83 189.627 681.914 189.627 Q687.538 189.627 690.316 192.543 Q693.094 195.46 693.094 201.386 Z\" fill=\"#000000\" fill-rule=\"evenodd\" fill-opacity=\"1\" /><path clip-path=\"url(#clip390)\" d=\"M723.418 190.252 L714.043 202.867 L723.904 216.178 L718.881 216.178 L711.335 205.992 L703.788 216.178 L698.765 216.178 L708.835 202.613 L699.622 190.252 L704.645 190.252 L711.52 199.488 L718.395 190.252 L723.418 190.252 Z\" fill=\"#000000\" fill-rule=\"evenodd\" fill-opacity=\"1\" /><path clip-path=\"url(#clip390)\" d=\"M734.552 212.242 L750.871 212.242 L750.871 216.178 L728.927 216.178 L728.927 212.242 Q731.589 209.488 736.172 204.858 Q740.779 200.205 741.959 198.863 Q744.205 196.34 745.084 194.604 Q745.987 192.844 745.987 191.155 Q745.987 188.4 744.043 186.664 Q742.122 184.928 739.02 184.928 Q736.821 184.928 734.367 185.692 Q731.936 186.455 729.159 188.006 L729.159 183.284 Q731.983 182.15 734.436 181.571 Q736.89 180.993 738.927 180.993 Q744.297 180.993 747.492 183.678 Q750.686 186.363 750.686 190.854 Q750.686 192.983 749.876 194.905 Q749.089 196.803 746.983 199.395 Q746.404 200.067 743.302 203.284 Q740.2 206.479 734.552 212.242 Z\" fill=\"#000000\" fill-rule=\"evenodd\" fill-opacity=\"1\" /><path clip-path=\"url(#clip390)\" d=\"M770.686 184.696 Q767.075 184.696 765.246 188.261 Q763.441 191.803 763.441 198.932 Q763.441 206.039 765.246 209.604 Q767.075 213.145 770.686 213.145 Q774.32 213.145 776.126 209.604 Q777.955 206.039 777.955 198.932 Q777.955 191.803 776.126 188.261 Q774.32 184.696 770.686 184.696 M770.686 180.993 Q776.496 180.993 779.552 185.599 Q782.631 190.182 782.631 198.932 Q782.631 207.659 779.552 212.266 Q776.496 216.849 770.686 216.849 Q764.876 216.849 761.797 212.266 Q758.742 207.659 758.742 198.932 Q758.742 190.182 761.797 185.599 Q764.876 180.993 770.686 180.993 Z\" fill=\"#000000\" fill-rule=\"evenodd\" fill-opacity=\"1\" /><path clip-path=\"url(#clip390)\" d=\"M791.658 212.242 L799.297 212.242 L799.297 185.877 L790.987 187.543 L790.987 183.284 L799.251 181.618 L803.927 181.618 L803.927 212.242 L811.566 212.242 L811.566 216.178 L791.658 216.178 L791.658 212.242 Z\" fill=\"#000000\" fill-rule=\"evenodd\" fill-opacity=\"1\" /><path clip-path=\"url(#clip390)\" d=\"M825.038 212.242 L841.357 212.242 L841.357 216.178 L819.413 216.178 L819.413 212.242 Q822.075 209.488 826.658 204.858 Q831.265 200.205 832.445 198.863 Q834.69 196.34 835.57 194.604 Q836.473 192.844 836.473 191.155 Q836.473 188.4 834.528 186.664 Q832.607 184.928 829.505 184.928 Q827.306 184.928 824.853 185.692 Q822.422 186.455 819.644 188.006 L819.644 183.284 Q822.468 182.15 824.922 181.571 Q827.376 180.993 829.413 180.993 Q834.783 180.993 837.977 183.678 Q841.172 186.363 841.172 190.854 Q841.172 192.983 840.362 194.905 Q839.575 196.803 837.468 199.395 Q836.89 200.067 833.788 203.284 Q830.686 206.479 825.038 212.242 Z\" fill=\"#000000\" fill-rule=\"evenodd\" fill-opacity=\"1\" /></svg>\n"
      ]
     },
     "execution_count": 79,
     "metadata": {},
     "output_type": "execute_result"
    }
   ],
   "source": [
    "plot(1:11, dectempmmax1922, label=\"dectempmmax1922\")\n",
    "plot!(1:11, Dectempmax2012, label=\"Dectempmax2012\")"
   ]
  },
  {
   "cell_type": "markdown",
   "id": "892a3051",
   "metadata": {},
   "source": [
    "# Now we are going to graph 1922- 1932 Decemeber average temperature with 2012-2022 Decemeber average temperature: "
   ]
  },
  {
   "cell_type": "code",
   "execution_count": 80,
   "id": "a0bcb22e",
   "metadata": {},
   "outputs": [
    {
     "data": {
      "text/plain": [
       "11-element Vector{Any}:\n",
       " 26.5\n",
       " 27.64\n",
       " 27.6\n",
       "  6.91\n",
       " 20.41\n",
       " 20.91\n",
       " 24.46\n",
       " 24.23\n",
       " 20.86\n",
       " 35.14\n",
       " 31.14"
      ]
     },
     "execution_count": 80,
     "metadata": {},
     "output_type": "execute_result"
    }
   ],
   "source": [
    "#December 1922-1932  Average\n",
    "dectempavg1922=B[2:12,4]"
   ]
  },
  {
   "cell_type": "code",
   "execution_count": 81,
   "id": "f49ab332",
   "metadata": {},
   "outputs": [
    {
     "data": {
      "text/plain": [
       "11-element Vector{Any}:\n",
       " 19.68\n",
       " 12.59\n",
       " 26.64\n",
       " 30.27\n",
       " 29.27\n",
       "  5.05\n",
       " 28.68\n",
       " 33.64\n",
       " 23.59\n",
       " 25.36\n",
       " 17.68"
      ]
     },
     "execution_count": 81,
     "metadata": {},
     "output_type": "execute_result"
    }
   ],
   "source": [
    "#December 2012-2022 Average\n",
    "dectempavg2012=C[2:12,4]"
   ]
  },
  {
   "cell_type": "code",
   "execution_count": 82,
   "id": "e6560cbf",
   "metadata": {},
   "outputs": [
    {
     "data": {
      "image/svg+xml": [
       "<?xml version=\"1.0\" encoding=\"utf-8\"?>\n",
       "<svg xmlns=\"http://www.w3.org/2000/svg\" xmlns:xlink=\"http://www.w3.org/1999/xlink\" width=\"600\" height=\"400\" viewBox=\"0 0 2400 1600\">\n",
       "<defs>\n",
       "  <clipPath id=\"clip430\">\n",
       "    <rect x=\"0\" y=\"0\" width=\"2400\" height=\"1600\"/>\n",
       "  </clipPath>\n",
       "</defs>\n",
       "<path clip-path=\"url(#clip430)\" d=\"\n",
       "M0 1600 L2400 1600 L2400 0 L0 0  Z\n",
       "  \" fill=\"#ffffff\" fill-rule=\"evenodd\" fill-opacity=\"1\"/>\n",
       "<defs>\n",
       "  <clipPath id=\"clip431\">\n",
       "    <rect x=\"480\" y=\"0\" width=\"1681\" height=\"1600\"/>\n",
       "  </clipPath>\n",
       "</defs>\n",
       "<path clip-path=\"url(#clip430)\" d=\"\n",
       "M140.696 1486.45 L2352.76 1486.45 L2352.76 47.2441 L140.696 47.2441  Z\n",
       "  \" fill=\"#ffffff\" fill-rule=\"evenodd\" fill-opacity=\"1\"/>\n",
       "<defs>\n",
       "  <clipPath id=\"clip432\">\n",
       "    <rect x=\"140\" y=\"47\" width=\"2213\" height=\"1440\"/>\n",
       "  </clipPath>\n",
       "</defs>\n",
       "<polyline clip-path=\"url(#clip432)\" style=\"stroke:#000000; stroke-linecap:round; stroke-linejoin:round; stroke-width:2; stroke-opacity:0.1; fill:none\" points=\"\n",
       "  411.986,1486.45 411.986,47.2441 \n",
       "  \"/>\n",
       "<polyline clip-path=\"url(#clip432)\" style=\"stroke:#000000; stroke-linecap:round; stroke-linejoin:round; stroke-width:2; stroke-opacity:0.1; fill:none\" points=\"\n",
       "  829.356,1486.45 829.356,47.2441 \n",
       "  \"/>\n",
       "<polyline clip-path=\"url(#clip432)\" style=\"stroke:#000000; stroke-linecap:round; stroke-linejoin:round; stroke-width:2; stroke-opacity:0.1; fill:none\" points=\"\n",
       "  1246.73,1486.45 1246.73,47.2441 \n",
       "  \"/>\n",
       "<polyline clip-path=\"url(#clip432)\" style=\"stroke:#000000; stroke-linecap:round; stroke-linejoin:round; stroke-width:2; stroke-opacity:0.1; fill:none\" points=\"\n",
       "  1664.1,1486.45 1664.1,47.2441 \n",
       "  \"/>\n",
       "<polyline clip-path=\"url(#clip432)\" style=\"stroke:#000000; stroke-linecap:round; stroke-linejoin:round; stroke-width:2; stroke-opacity:0.1; fill:none\" points=\"\n",
       "  2081.47,1486.45 2081.47,47.2441 \n",
       "  \"/>\n",
       "<polyline clip-path=\"url(#clip430)\" style=\"stroke:#000000; stroke-linecap:round; stroke-linejoin:round; stroke-width:4; stroke-opacity:1; fill:none\" points=\"\n",
       "  140.696,1486.45 2352.76,1486.45 \n",
       "  \"/>\n",
       "<polyline clip-path=\"url(#clip430)\" style=\"stroke:#000000; stroke-linecap:round; stroke-linejoin:round; stroke-width:4; stroke-opacity:1; fill:none\" points=\"\n",
       "  411.986,1486.45 411.986,1467.55 \n",
       "  \"/>\n",
       "<polyline clip-path=\"url(#clip430)\" style=\"stroke:#000000; stroke-linecap:round; stroke-linejoin:round; stroke-width:4; stroke-opacity:1; fill:none\" points=\"\n",
       "  829.356,1486.45 829.356,1467.55 \n",
       "  \"/>\n",
       "<polyline clip-path=\"url(#clip430)\" style=\"stroke:#000000; stroke-linecap:round; stroke-linejoin:round; stroke-width:4; stroke-opacity:1; fill:none\" points=\"\n",
       "  1246.73,1486.45 1246.73,1467.55 \n",
       "  \"/>\n",
       "<polyline clip-path=\"url(#clip430)\" style=\"stroke:#000000; stroke-linecap:round; stroke-linejoin:round; stroke-width:4; stroke-opacity:1; fill:none\" points=\"\n",
       "  1664.1,1486.45 1664.1,1467.55 \n",
       "  \"/>\n",
       "<polyline clip-path=\"url(#clip430)\" style=\"stroke:#000000; stroke-linecap:round; stroke-linejoin:round; stroke-width:4; stroke-opacity:1; fill:none\" points=\"\n",
       "  2081.47,1486.45 2081.47,1467.55 \n",
       "  \"/>\n",
       "<path clip-path=\"url(#clip430)\" d=\"M406.639 1544.91 L422.958 1544.91 L422.958 1548.85 L401.014 1548.85 L401.014 1544.91 Q403.676 1542.16 408.259 1537.53 Q412.866 1532.88 414.046 1531.53 Q416.291 1529.01 417.171 1527.27 Q418.074 1525.51 418.074 1523.82 Q418.074 1521.07 416.129 1519.33 Q414.208 1517.6 411.106 1517.6 Q408.907 1517.6 406.454 1518.36 Q404.023 1519.13 401.245 1520.68 L401.245 1515.95 Q404.069 1514.82 406.523 1514.24 Q408.977 1513.66 411.014 1513.66 Q416.384 1513.66 419.579 1516.35 Q422.773 1519.03 422.773 1523.52 Q422.773 1525.65 421.963 1527.57 Q421.176 1529.47 419.069 1532.07 Q418.491 1532.74 415.389 1535.95 Q412.287 1539.15 406.639 1544.91 Z\" fill=\"#000000\" fill-rule=\"evenodd\" fill-opacity=\"1\" /><path clip-path=\"url(#clip430)\" d=\"M832.365 1518.36 L820.56 1536.81 L832.365 1536.81 L832.365 1518.36 M831.138 1514.29 L837.018 1514.29 L837.018 1536.81 L841.948 1536.81 L841.948 1540.7 L837.018 1540.7 L837.018 1548.85 L832.365 1548.85 L832.365 1540.7 L816.763 1540.7 L816.763 1536.19 L831.138 1514.29 Z\" fill=\"#000000\" fill-rule=\"evenodd\" fill-opacity=\"1\" /><path clip-path=\"url(#clip430)\" d=\"M1247.13 1529.7 Q1243.98 1529.7 1242.13 1531.86 Q1240.3 1534.01 1240.3 1537.76 Q1240.3 1541.49 1242.13 1543.66 Q1243.98 1545.82 1247.13 1545.82 Q1250.28 1545.82 1252.11 1543.66 Q1253.96 1541.49 1253.96 1537.76 Q1253.96 1534.01 1252.11 1531.86 Q1250.28 1529.7 1247.13 1529.7 M1256.41 1515.05 L1256.41 1519.31 Q1254.65 1518.48 1252.85 1518.04 Q1251.07 1517.6 1249.31 1517.6 Q1244.68 1517.6 1242.22 1520.72 Q1239.79 1523.85 1239.45 1530.17 Q1240.81 1528.15 1242.87 1527.09 Q1244.93 1526 1247.41 1526 Q1252.62 1526 1255.63 1529.17 Q1258.66 1532.32 1258.66 1537.76 Q1258.66 1543.08 1255.51 1546.3 Q1252.36 1549.52 1247.13 1549.52 Q1241.14 1549.52 1237.96 1544.94 Q1234.79 1540.33 1234.79 1531.6 Q1234.79 1523.41 1238.68 1518.55 Q1242.57 1513.66 1249.12 1513.66 Q1250.88 1513.66 1252.66 1514.01 Q1254.47 1514.36 1256.41 1515.05 Z\" fill=\"#000000\" fill-rule=\"evenodd\" fill-opacity=\"1\" /><path clip-path=\"url(#clip430)\" d=\"M1664.1 1532.44 Q1660.76 1532.44 1658.84 1534.22 Q1656.94 1536 1656.94 1539.13 Q1656.94 1542.25 1658.84 1544.03 Q1660.76 1545.82 1664.1 1545.82 Q1667.43 1545.82 1669.35 1544.03 Q1671.27 1542.23 1671.27 1539.13 Q1671.27 1536 1669.35 1534.22 Q1667.45 1532.44 1664.1 1532.44 M1659.42 1530.45 Q1656.41 1529.7 1654.72 1527.64 Q1653.05 1525.58 1653.05 1522.62 Q1653.05 1518.48 1655.99 1516.07 Q1658.96 1513.66 1664.1 1513.66 Q1669.26 1513.66 1672.2 1516.07 Q1675.14 1518.48 1675.14 1522.62 Q1675.14 1525.58 1673.45 1527.64 Q1671.78 1529.7 1668.79 1530.45 Q1672.17 1531.23 1674.05 1533.52 Q1675.95 1535.82 1675.95 1539.13 Q1675.95 1544.15 1672.87 1546.83 Q1669.81 1549.52 1664.1 1549.52 Q1658.38 1549.52 1655.3 1546.83 Q1652.24 1544.15 1652.24 1539.13 Q1652.24 1535.82 1654.14 1533.52 Q1656.04 1531.23 1659.42 1530.45 M1657.71 1523.06 Q1657.71 1525.75 1659.37 1527.25 Q1661.06 1528.76 1664.1 1528.76 Q1667.1 1528.76 1668.79 1527.25 Q1670.51 1525.75 1670.51 1523.06 Q1670.51 1520.38 1668.79 1518.87 Q1667.1 1517.37 1664.1 1517.37 Q1661.06 1517.37 1659.37 1518.87 Q1657.71 1520.38 1657.71 1523.06 Z\" fill=\"#000000\" fill-rule=\"evenodd\" fill-opacity=\"1\" /><path clip-path=\"url(#clip430)\" d=\"M2056.15 1544.91 L2063.79 1544.91 L2063.79 1518.55 L2055.48 1520.21 L2055.48 1515.95 L2063.75 1514.29 L2068.42 1514.29 L2068.42 1544.91 L2076.06 1544.91 L2076.06 1548.85 L2056.15 1548.85 L2056.15 1544.91 Z\" fill=\"#000000\" fill-rule=\"evenodd\" fill-opacity=\"1\" /><path clip-path=\"url(#clip430)\" d=\"M2095.5 1517.37 Q2091.89 1517.37 2090.06 1520.93 Q2088.26 1524.47 2088.26 1531.6 Q2088.26 1538.71 2090.06 1542.27 Q2091.89 1545.82 2095.5 1545.82 Q2099.14 1545.82 2100.94 1542.27 Q2102.77 1538.71 2102.77 1531.6 Q2102.77 1524.47 2100.94 1520.93 Q2099.14 1517.37 2095.5 1517.37 M2095.5 1513.66 Q2101.31 1513.66 2104.37 1518.27 Q2107.45 1522.85 2107.45 1531.6 Q2107.45 1540.33 2104.37 1544.94 Q2101.31 1549.52 2095.5 1549.52 Q2089.69 1549.52 2086.62 1544.94 Q2083.56 1540.33 2083.56 1531.6 Q2083.56 1522.85 2086.62 1518.27 Q2089.69 1513.66 2095.5 1513.66 Z\" fill=\"#000000\" fill-rule=\"evenodd\" fill-opacity=\"1\" /><polyline clip-path=\"url(#clip432)\" style=\"stroke:#000000; stroke-linecap:round; stroke-linejoin:round; stroke-width:2; stroke-opacity:0.1; fill:none\" points=\"\n",
       "  140.696,1447.97 2352.76,1447.97 \n",
       "  \"/>\n",
       "<polyline clip-path=\"url(#clip432)\" style=\"stroke:#000000; stroke-linecap:round; stroke-linejoin:round; stroke-width:2; stroke-opacity:0.1; fill:none\" points=\"\n",
       "  140.696,1222.36 2352.76,1222.36 \n",
       "  \"/>\n",
       "<polyline clip-path=\"url(#clip432)\" style=\"stroke:#000000; stroke-linecap:round; stroke-linejoin:round; stroke-width:2; stroke-opacity:0.1; fill:none\" points=\"\n",
       "  140.696,996.746 2352.76,996.746 \n",
       "  \"/>\n",
       "<polyline clip-path=\"url(#clip432)\" style=\"stroke:#000000; stroke-linecap:round; stroke-linejoin:round; stroke-width:2; stroke-opacity:0.1; fill:none\" points=\"\n",
       "  140.696,771.133 2352.76,771.133 \n",
       "  \"/>\n",
       "<polyline clip-path=\"url(#clip432)\" style=\"stroke:#000000; stroke-linecap:round; stroke-linejoin:round; stroke-width:2; stroke-opacity:0.1; fill:none\" points=\"\n",
       "  140.696,545.52 2352.76,545.52 \n",
       "  \"/>\n",
       "<polyline clip-path=\"url(#clip432)\" style=\"stroke:#000000; stroke-linecap:round; stroke-linejoin:round; stroke-width:2; stroke-opacity:0.1; fill:none\" points=\"\n",
       "  140.696,319.907 2352.76,319.907 \n",
       "  \"/>\n",
       "<polyline clip-path=\"url(#clip432)\" style=\"stroke:#000000; stroke-linecap:round; stroke-linejoin:round; stroke-width:2; stroke-opacity:0.1; fill:none\" points=\"\n",
       "  140.696,94.2934 2352.76,94.2934 \n",
       "  \"/>\n",
       "<polyline clip-path=\"url(#clip430)\" style=\"stroke:#000000; stroke-linecap:round; stroke-linejoin:round; stroke-width:4; stroke-opacity:1; fill:none\" points=\"\n",
       "  140.696,1486.45 140.696,47.2441 \n",
       "  \"/>\n",
       "<polyline clip-path=\"url(#clip430)\" style=\"stroke:#000000; stroke-linecap:round; stroke-linejoin:round; stroke-width:4; stroke-opacity:1; fill:none\" points=\"\n",
       "  140.696,1447.97 159.593,1447.97 \n",
       "  \"/>\n",
       "<polyline clip-path=\"url(#clip430)\" style=\"stroke:#000000; stroke-linecap:round; stroke-linejoin:round; stroke-width:4; stroke-opacity:1; fill:none\" points=\"\n",
       "  140.696,1222.36 159.593,1222.36 \n",
       "  \"/>\n",
       "<polyline clip-path=\"url(#clip430)\" style=\"stroke:#000000; stroke-linecap:round; stroke-linejoin:round; stroke-width:4; stroke-opacity:1; fill:none\" points=\"\n",
       "  140.696,996.746 159.593,996.746 \n",
       "  \"/>\n",
       "<polyline clip-path=\"url(#clip430)\" style=\"stroke:#000000; stroke-linecap:round; stroke-linejoin:round; stroke-width:4; stroke-opacity:1; fill:none\" points=\"\n",
       "  140.696,771.133 159.593,771.133 \n",
       "  \"/>\n",
       "<polyline clip-path=\"url(#clip430)\" style=\"stroke:#000000; stroke-linecap:round; stroke-linejoin:round; stroke-width:4; stroke-opacity:1; fill:none\" points=\"\n",
       "  140.696,545.52 159.593,545.52 \n",
       "  \"/>\n",
       "<polyline clip-path=\"url(#clip430)\" style=\"stroke:#000000; stroke-linecap:round; stroke-linejoin:round; stroke-width:4; stroke-opacity:1; fill:none\" points=\"\n",
       "  140.696,319.907 159.593,319.907 \n",
       "  \"/>\n",
       "<polyline clip-path=\"url(#clip430)\" style=\"stroke:#000000; stroke-linecap:round; stroke-linejoin:round; stroke-width:4; stroke-opacity:1; fill:none\" points=\"\n",
       "  140.696,94.2934 159.593,94.2934 \n",
       "  \"/>\n",
       "<path clip-path=\"url(#clip430)\" d=\"M83.7929 1430.69 L102.149 1430.69 L102.149 1434.63 L88.0753 1434.63 L88.0753 1443.1 Q89.0938 1442.75 90.1123 1442.59 Q91.1308 1442.4 92.1493 1442.4 Q97.9363 1442.4 101.316 1445.58 Q104.696 1448.75 104.696 1454.16 Q104.696 1459.74 101.223 1462.84 Q97.7511 1465.92 91.4317 1465.92 Q89.2558 1465.92 86.9873 1465.55 Q84.7419 1465.18 82.3346 1464.44 L82.3346 1459.74 Q84.4179 1460.88 86.6401 1461.43 Q88.8623 1461.99 91.3391 1461.99 Q95.3437 1461.99 97.6817 1459.88 Q100.02 1457.78 100.02 1454.16 Q100.02 1450.55 97.6817 1448.45 Q95.3437 1446.34 91.3391 1446.34 Q89.4641 1446.34 87.5892 1446.76 Q85.7373 1447.17 83.7929 1448.05 L83.7929 1430.69 Z\" fill=\"#000000\" fill-rule=\"evenodd\" fill-opacity=\"1\" /><path clip-path=\"url(#clip430)\" d=\"M53.3995 1235.7 L61.0384 1235.7 L61.0384 1209.34 L52.7282 1211 L52.7282 1206.75 L60.9921 1205.08 L65.668 1205.08 L65.668 1235.7 L73.3068 1235.7 L73.3068 1239.64 L53.3995 1239.64 L53.3995 1235.7 Z\" fill=\"#000000\" fill-rule=\"evenodd\" fill-opacity=\"1\" /><path clip-path=\"url(#clip430)\" d=\"M92.7512 1208.16 Q89.1401 1208.16 87.3114 1211.72 Q85.5058 1215.26 85.5058 1222.39 Q85.5058 1229.5 87.3114 1233.06 Q89.1401 1236.61 92.7512 1236.61 Q96.3854 1236.61 98.1909 1233.06 Q100.02 1229.5 100.02 1222.39 Q100.02 1215.26 98.1909 1211.72 Q96.3854 1208.16 92.7512 1208.16 M92.7512 1204.45 Q98.5613 1204.45 101.617 1209.06 Q104.696 1213.64 104.696 1222.39 Q104.696 1231.12 101.617 1235.73 Q98.5613 1240.31 92.7512 1240.31 Q86.941 1240.31 83.8623 1235.73 Q80.8068 1231.12 80.8068 1222.39 Q80.8068 1213.64 83.8623 1209.06 Q86.941 1204.45 92.7512 1204.45 Z\" fill=\"#000000\" fill-rule=\"evenodd\" fill-opacity=\"1\" /><path clip-path=\"url(#clip430)\" d=\"M54.3949 1010.09 L62.0337 1010.09 L62.0337 983.725 L53.7236 985.392 L53.7236 981.132 L61.9874 979.466 L66.6633 979.466 L66.6633 1010.09 L74.3022 1010.09 L74.3022 1014.03 L54.3949 1014.03 L54.3949 1010.09 Z\" fill=\"#000000\" fill-rule=\"evenodd\" fill-opacity=\"1\" /><path clip-path=\"url(#clip430)\" d=\"M83.7929 979.466 L102.149 979.466 L102.149 983.401 L88.0753 983.401 L88.0753 991.873 Q89.0938 991.526 90.1123 991.364 Q91.1308 991.179 92.1493 991.179 Q97.9363 991.179 101.316 994.35 Q104.696 997.521 104.696 1002.94 Q104.696 1008.52 101.223 1011.62 Q97.7511 1014.7 91.4317 1014.7 Q89.2558 1014.7 86.9873 1014.33 Q84.7419 1013.96 82.3346 1013.22 L82.3346 1008.52 Q84.4179 1009.65 86.6401 1010.21 Q88.8623 1010.76 91.3391 1010.76 Q95.3437 1010.76 97.6817 1008.66 Q100.02 1006.55 100.02 1002.94 Q100.02 999.327 97.6817 997.22 Q95.3437 995.114 91.3391 995.114 Q89.4641 995.114 87.5892 995.53 Q85.7373 995.947 83.7929 996.827 L83.7929 979.466 Z\" fill=\"#000000\" fill-rule=\"evenodd\" fill-opacity=\"1\" /><path clip-path=\"url(#clip430)\" d=\"M56.6171 784.477 L72.9365 784.477 L72.9365 788.413 L50.9921 788.413 L50.9921 784.477 Q53.6541 781.723 58.2375 777.093 Q62.8439 772.44 64.0245 771.098 Q66.2698 768.575 67.1494 766.839 Q68.0522 765.079 68.0522 763.39 Q68.0522 760.635 66.1078 758.899 Q64.1865 757.163 61.0847 757.163 Q58.8856 757.163 56.4319 757.927 Q54.0014 758.691 51.2236 760.241 L51.2236 755.519 Q54.0477 754.385 56.5014 753.806 Q58.955 753.228 60.9921 753.228 Q66.3624 753.228 69.5568 755.913 Q72.7513 758.598 72.7513 763.089 Q72.7513 765.218 71.9411 767.14 Q71.1541 769.038 69.0476 771.63 Q68.4689 772.302 65.367 775.519 Q62.2652 778.714 56.6171 784.477 Z\" fill=\"#000000\" fill-rule=\"evenodd\" fill-opacity=\"1\" /><path clip-path=\"url(#clip430)\" d=\"M92.7512 756.931 Q89.1401 756.931 87.3114 760.496 Q85.5058 764.038 85.5058 771.167 Q85.5058 778.274 87.3114 781.839 Q89.1401 785.38 92.7512 785.38 Q96.3854 785.38 98.1909 781.839 Q100.02 778.274 100.02 771.167 Q100.02 764.038 98.1909 760.496 Q96.3854 756.931 92.7512 756.931 M92.7512 753.228 Q98.5613 753.228 101.617 757.834 Q104.696 762.417 104.696 771.167 Q104.696 779.894 101.617 784.501 Q98.5613 789.084 92.7512 789.084 Q86.941 789.084 83.8623 784.501 Q80.8068 779.894 80.8068 771.167 Q80.8068 762.417 83.8623 757.834 Q86.941 753.228 92.7512 753.228 Z\" fill=\"#000000\" fill-rule=\"evenodd\" fill-opacity=\"1\" /><path clip-path=\"url(#clip430)\" d=\"M57.6125 558.864 L73.9318 558.864 L73.9318 562.8 L51.9875 562.8 L51.9875 558.864 Q54.6495 556.11 59.2328 551.48 Q63.8393 546.827 65.0198 545.485 Q67.2652 542.962 68.1448 541.226 Q69.0476 539.466 69.0476 537.777 Q69.0476 535.022 67.1032 533.286 Q65.1819 531.55 62.08 531.55 Q59.881 531.55 57.4273 532.314 Q54.9967 533.078 52.219 534.628 L52.219 529.906 Q55.043 528.772 57.4967 528.193 Q59.9504 527.615 61.9874 527.615 Q67.3578 527.615 70.5522 530.3 Q73.7466 532.985 73.7466 537.476 Q73.7466 539.605 72.9365 541.527 Q72.1494 543.425 70.0429 546.017 Q69.4642 546.689 66.3624 549.906 Q63.2606 553.101 57.6125 558.864 Z\" fill=\"#000000\" fill-rule=\"evenodd\" fill-opacity=\"1\" /><path clip-path=\"url(#clip430)\" d=\"M83.7929 528.24 L102.149 528.24 L102.149 532.175 L88.0753 532.175 L88.0753 540.647 Q89.0938 540.3 90.1123 540.138 Q91.1308 539.952 92.1493 539.952 Q97.9363 539.952 101.316 543.124 Q104.696 546.295 104.696 551.712 Q104.696 557.29 101.223 560.392 Q97.7511 563.471 91.4317 563.471 Q89.2558 563.471 86.9873 563.1 Q84.7419 562.73 82.3346 561.989 L82.3346 557.29 Q84.4179 558.425 86.6401 558.98 Q88.8623 559.536 91.3391 559.536 Q95.3437 559.536 97.6817 557.429 Q100.02 555.323 100.02 551.712 Q100.02 548.101 97.6817 545.994 Q95.3437 543.888 91.3391 543.888 Q89.4641 543.888 87.5892 544.304 Q85.7373 544.721 83.7929 545.601 L83.7929 528.24 Z\" fill=\"#000000\" fill-rule=\"evenodd\" fill-opacity=\"1\" /><path clip-path=\"url(#clip430)\" d=\"M66.7559 318.552 Q70.1124 319.27 71.9874 321.538 Q73.8855 323.807 73.8855 327.14 Q73.8855 332.256 70.367 335.057 Q66.8485 337.858 60.3671 337.858 Q58.1912 337.858 55.8764 337.418 Q53.5847 337.001 51.131 336.145 L51.131 331.631 Q53.0754 332.765 55.3903 333.344 Q57.7051 333.923 60.2282 333.923 Q64.6263 333.923 66.918 332.187 Q69.2328 330.45 69.2328 327.14 Q69.2328 324.085 67.08 322.372 Q64.9504 320.636 61.131 320.636 L57.1032 320.636 L57.1032 316.793 L61.3161 316.793 Q64.7652 316.793 66.5939 315.427 Q68.4226 314.038 68.4226 311.446 Q68.4226 308.784 66.5245 307.372 Q64.6495 305.937 61.131 305.937 Q59.2097 305.937 57.0106 306.353 Q54.8115 306.77 52.1727 307.65 L52.1727 303.483 Q54.8347 302.742 57.1495 302.372 Q59.4875 302.002 61.5476 302.002 Q66.8717 302.002 69.9735 304.432 Q73.0753 306.839 73.0753 310.96 Q73.0753 313.83 71.4318 315.821 Q69.7883 317.788 66.7559 318.552 Z\" fill=\"#000000\" fill-rule=\"evenodd\" fill-opacity=\"1\" /><path clip-path=\"url(#clip430)\" d=\"M92.7512 305.705 Q89.1401 305.705 87.3114 309.27 Q85.5058 312.812 85.5058 319.941 Q85.5058 327.048 87.3114 330.612 Q89.1401 334.154 92.7512 334.154 Q96.3854 334.154 98.1909 330.612 Q100.02 327.048 100.02 319.941 Q100.02 312.812 98.1909 309.27 Q96.3854 305.705 92.7512 305.705 M92.7512 302.002 Q98.5613 302.002 101.617 306.608 Q104.696 311.191 104.696 319.941 Q104.696 328.668 101.617 333.274 Q98.5613 337.858 92.7512 337.858 Q86.941 337.858 83.8623 333.274 Q80.8068 328.668 80.8068 319.941 Q80.8068 311.191 83.8623 306.608 Q86.941 302.002 92.7512 302.002 Z\" fill=\"#000000\" fill-rule=\"evenodd\" fill-opacity=\"1\" /><path clip-path=\"url(#clip430)\" d=\"M67.7513 92.9393 Q71.1078 93.6569 72.9827 95.9254 Q74.8809 98.1939 74.8809 101.527 Q74.8809 106.643 71.3624 109.444 Q67.8439 112.245 61.3624 112.245 Q59.1865 112.245 56.8717 111.805 Q54.5801 111.388 52.1264 110.532 L52.1264 106.018 Q54.0708 107.152 56.3856 107.731 Q58.7004 108.31 61.2236 108.31 Q65.6217 108.31 67.9133 106.573 Q70.2281 104.837 70.2281 101.527 Q70.2281 98.4717 68.0754 96.7587 Q65.9457 95.0226 62.1263 95.0226 L58.0986 95.0226 L58.0986 91.18 L62.3115 91.18 Q65.7606 91.18 67.5893 89.8143 Q69.418 88.4254 69.418 85.8328 Q69.418 83.1708 67.5198 81.7588 Q65.6448 80.3236 62.1263 80.3236 Q60.205 80.3236 58.006 80.7403 Q55.8069 81.1569 53.168 82.0366 L53.168 77.8699 Q55.8301 77.1292 58.1449 76.7588 Q60.4828 76.3884 62.543 76.3884 Q67.867 76.3884 70.9689 78.819 Q74.0707 81.2264 74.0707 85.3467 Q74.0707 88.2171 72.4272 90.2078 Q70.7837 92.1754 67.7513 92.9393 Z\" fill=\"#000000\" fill-rule=\"evenodd\" fill-opacity=\"1\" /><path clip-path=\"url(#clip430)\" d=\"M83.7929 77.0134 L102.149 77.0134 L102.149 80.9486 L88.0753 80.9486 L88.0753 89.4208 Q89.0938 89.0736 90.1123 88.9115 Q91.1308 88.7263 92.1493 88.7263 Q97.9363 88.7263 101.316 91.8976 Q104.696 95.0689 104.696 100.486 Q104.696 106.064 101.223 109.166 Q97.7511 112.245 91.4317 112.245 Q89.2558 112.245 86.9873 111.874 Q84.7419 111.504 82.3346 110.763 L82.3346 106.064 Q84.4179 107.198 86.6401 107.754 Q88.8623 108.31 91.3391 108.31 Q95.3437 108.31 97.6817 106.203 Q100.02 104.097 100.02 100.486 Q100.02 96.8744 97.6817 94.768 Q95.3437 92.6615 91.3391 92.6615 Q89.4641 92.6615 87.5892 93.0782 Q85.7373 93.4948 83.7929 94.3745 L83.7929 77.0134 Z\" fill=\"#000000\" fill-rule=\"evenodd\" fill-opacity=\"1\" /><polyline clip-path=\"url(#clip432)\" style=\"stroke:#009af9; stroke-linecap:round; stroke-linejoin:round; stroke-width:4; stroke-opacity:1; fill:none\" points=\"\n",
       "  203.301,477.836 411.986,426.396 620.671,428.201 829.356,1361.79 1038.04,752.632 1246.73,730.071 1455.41,569.886 1664.1,580.264 1872.78,732.327 2081.47,87.9763 \n",
       "  2290.15,268.467 \n",
       "  \"/>\n",
       "<polyline clip-path=\"url(#clip432)\" style=\"stroke:#e26f46; stroke-linecap:round; stroke-linejoin:round; stroke-width:4; stroke-opacity:1; fill:none\" points=\"\n",
       "  203.301,785.572 411.986,1105.49 620.671,471.518 829.356,307.723 1038.04,352.846 1246.73,1445.72 1455.41,379.468 1664.1,155.66 1872.78,609.142 2081.47,529.275 \n",
       "  2290.15,875.817 \n",
       "  \"/>\n",
       "<path clip-path=\"url(#clip430)\" d=\"\n",
       "M214.431 250.738 L845.473 250.738 L845.473 95.2176 L214.431 95.2176  Z\n",
       "  \" fill=\"#ffffff\" fill-rule=\"evenodd\" fill-opacity=\"1\"/>\n",
       "<polyline clip-path=\"url(#clip430)\" style=\"stroke:#000000; stroke-linecap:round; stroke-linejoin:round; stroke-width:4; stroke-opacity:1; fill:none\" points=\"\n",
       "  214.431,250.738 845.473,250.738 845.473,95.2176 214.431,95.2176 214.431,250.738 \n",
       "  \"/>\n",
       "<polyline clip-path=\"url(#clip430)\" style=\"stroke:#009af9; stroke-linecap:round; stroke-linejoin:round; stroke-width:4; stroke-opacity:1; fill:none\" points=\"\n",
       "  239.009,147.058 386.48,147.058 \n",
       "  \"/>\n",
       "<path clip-path=\"url(#clip430)\" d=\"M429.97 142.347 L429.97 128.319 L434.23 128.319 L434.23 164.338 L429.97 164.338 L429.97 160.449 Q428.628 162.763 426.568 163.898 Q424.531 165.009 421.66 165.009 Q416.961 165.009 413.998 161.259 Q411.058 157.509 411.058 151.398 Q411.058 145.287 413.998 141.537 Q416.961 137.787 421.66 137.787 Q424.531 137.787 426.568 138.921 Q428.628 140.032 429.97 142.347 M415.457 151.398 Q415.457 156.097 417.378 158.782 Q419.322 161.444 422.702 161.444 Q426.082 161.444 428.026 158.782 Q429.97 156.097 429.97 151.398 Q429.97 146.699 428.026 144.037 Q426.082 141.352 422.702 141.352 Q419.322 141.352 417.378 144.037 Q415.457 146.699 415.457 151.398 Z\" fill=\"#000000\" fill-rule=\"evenodd\" fill-opacity=\"1\" /><path clip-path=\"url(#clip430)\" d=\"M465.179 150.31 L465.179 152.393 L445.595 152.393 Q445.873 156.791 448.234 159.106 Q450.618 161.398 454.855 161.398 Q457.308 161.398 459.6 160.796 Q461.915 160.194 464.183 158.99 L464.183 163.018 Q461.892 163.99 459.484 164.5 Q457.077 165.009 454.6 165.009 Q448.396 165.009 444.762 161.398 Q441.151 157.787 441.151 151.629 Q441.151 145.264 444.577 141.537 Q448.026 137.787 453.859 137.787 Q459.091 137.787 462.123 141.166 Q465.179 144.523 465.179 150.31 M460.919 149.06 Q460.873 145.565 458.952 143.481 Q457.054 141.398 453.905 141.398 Q450.341 141.398 448.188 143.412 Q446.058 145.426 445.734 149.083 L460.919 149.06 Z\" fill=\"#000000\" fill-rule=\"evenodd\" fill-opacity=\"1\" /><path clip-path=\"url(#clip430)\" d=\"M490.827 139.407 L490.827 143.389 Q489.021 142.393 487.192 141.907 Q485.387 141.398 483.535 141.398 Q479.391 141.398 477.1 144.037 Q474.808 146.652 474.808 151.398 Q474.808 156.143 477.1 158.782 Q479.391 161.398 483.535 161.398 Q485.387 161.398 487.192 160.912 Q489.021 160.402 490.827 159.407 L490.827 163.342 Q489.044 164.176 487.123 164.592 Q485.225 165.009 483.072 165.009 Q477.216 165.009 473.766 161.328 Q470.317 157.648 470.317 151.398 Q470.317 145.055 473.79 141.421 Q477.285 137.787 483.35 137.787 Q485.317 137.787 487.192 138.203 Q489.067 138.597 490.827 139.407 Z\" fill=\"#000000\" fill-rule=\"evenodd\" fill-opacity=\"1\" /><path clip-path=\"url(#clip430)\" d=\"M502.447 131.051 L502.447 138.412 L511.22 138.412 L511.22 141.722 L502.447 141.722 L502.447 155.796 Q502.447 158.967 503.303 159.87 Q504.183 160.773 506.845 160.773 L511.22 160.773 L511.22 164.338 L506.845 164.338 Q501.914 164.338 500.039 162.509 Q498.164 160.657 498.164 155.796 L498.164 141.722 L495.04 141.722 L495.04 138.412 L498.164 138.412 L498.164 131.051 L502.447 131.051 Z\" fill=\"#000000\" fill-rule=\"evenodd\" fill-opacity=\"1\" /><path clip-path=\"url(#clip430)\" d=\"M538.998 150.31 L538.998 152.393 L519.414 152.393 Q519.692 156.791 522.053 159.106 Q524.437 161.398 528.674 161.398 Q531.127 161.398 533.419 160.796 Q535.734 160.194 538.002 158.99 L538.002 163.018 Q535.711 163.99 533.303 164.5 Q530.896 165.009 528.419 165.009 Q522.215 165.009 518.581 161.398 Q514.97 157.787 514.97 151.629 Q514.97 145.264 518.396 141.537 Q521.845 137.787 527.678 137.787 Q532.91 137.787 535.942 141.166 Q538.998 144.523 538.998 150.31 M534.738 149.06 Q534.692 145.565 532.771 143.481 Q530.873 141.398 527.725 141.398 Q524.16 141.398 522.007 143.412 Q519.877 145.426 519.553 149.083 L534.738 149.06 Z\" fill=\"#000000\" fill-rule=\"evenodd\" fill-opacity=\"1\" /><path clip-path=\"url(#clip430)\" d=\"M566.173 143.389 Q567.771 140.518 569.993 139.153 Q572.215 137.787 575.224 137.787 Q579.275 137.787 581.474 140.634 Q583.673 143.458 583.673 148.689 L583.673 164.338 L579.391 164.338 L579.391 148.828 Q579.391 145.102 578.071 143.296 Q576.752 141.49 574.044 141.49 Q570.734 141.49 568.812 143.69 Q566.891 145.889 566.891 149.685 L566.891 164.338 L562.609 164.338 L562.609 148.828 Q562.609 145.078 561.289 143.296 Q559.97 141.49 557.215 141.49 Q553.951 141.49 552.03 143.713 Q550.109 145.912 550.109 149.685 L550.109 164.338 L545.826 164.338 L545.826 138.412 L550.109 138.412 L550.109 142.44 Q551.567 140.055 553.604 138.921 Q555.641 137.787 558.442 137.787 Q561.266 137.787 563.234 139.222 Q565.224 140.657 566.173 143.389 Z\" fill=\"#000000\" fill-rule=\"evenodd\" fill-opacity=\"1\" /><path clip-path=\"url(#clip430)\" d=\"M596.289 160.449 L596.289 174.199 L592.007 174.199 L592.007 138.412 L596.289 138.412 L596.289 142.347 Q597.632 140.032 599.669 138.921 Q601.729 137.787 604.576 137.787 Q609.298 137.787 612.238 141.537 Q615.201 145.287 615.201 151.398 Q615.201 157.509 612.238 161.259 Q609.298 165.009 604.576 165.009 Q601.729 165.009 599.669 163.898 Q597.632 162.763 596.289 160.449 M610.78 151.398 Q610.78 146.699 608.835 144.037 Q606.914 141.352 603.534 141.352 Q600.155 141.352 598.21 144.037 Q596.289 146.699 596.289 151.398 Q596.289 156.097 598.21 158.782 Q600.155 161.444 603.534 161.444 Q606.914 161.444 608.835 158.782 Q610.78 156.097 610.78 151.398 Z\" fill=\"#000000\" fill-rule=\"evenodd\" fill-opacity=\"1\" /><path clip-path=\"url(#clip430)\" d=\"M634.043 151.305 Q628.881 151.305 626.891 152.486 Q624.9 153.666 624.9 156.514 Q624.9 158.782 626.381 160.125 Q627.886 161.444 630.455 161.444 Q633.997 161.444 636.127 158.944 Q638.279 156.421 638.279 152.254 L638.279 151.305 L634.043 151.305 M642.539 149.546 L642.539 164.338 L638.279 164.338 L638.279 160.402 Q636.821 162.763 634.645 163.898 Q632.469 165.009 629.321 165.009 Q625.34 165.009 622.979 162.787 Q620.641 160.541 620.641 156.791 Q620.641 152.416 623.557 150.194 Q626.497 147.972 632.307 147.972 L638.279 147.972 L638.279 147.555 Q638.279 144.615 636.335 143.018 Q634.414 141.398 630.918 141.398 Q628.696 141.398 626.59 141.93 Q624.483 142.463 622.539 143.527 L622.539 139.592 Q624.877 138.69 627.076 138.25 Q629.275 137.787 631.358 137.787 Q636.983 137.787 639.761 140.703 Q642.539 143.62 642.539 149.546 Z\" fill=\"#000000\" fill-rule=\"evenodd\" fill-opacity=\"1\" /><path clip-path=\"url(#clip430)\" d=\"M648.256 138.412 L652.77 138.412 L660.872 160.171 L668.974 138.412 L673.488 138.412 L663.765 164.338 L657.978 164.338 L648.256 138.412 Z\" fill=\"#000000\" fill-rule=\"evenodd\" fill-opacity=\"1\" /><path clip-path=\"url(#clip430)\" d=\"M696.427 151.074 Q696.427 146.444 694.506 143.898 Q692.608 141.352 689.159 141.352 Q685.733 141.352 683.812 143.898 Q681.914 146.444 681.914 151.074 Q681.914 155.68 683.812 158.226 Q685.733 160.773 689.159 160.773 Q692.608 160.773 694.506 158.226 Q696.427 155.68 696.427 151.074 M700.687 161.12 Q700.687 167.74 697.747 170.958 Q694.807 174.199 688.742 174.199 Q686.497 174.199 684.506 173.851 Q682.515 173.527 680.64 172.833 L680.64 168.689 Q682.515 169.708 684.344 170.194 Q686.173 170.68 688.071 170.68 Q692.261 170.68 694.344 168.481 Q696.427 166.305 696.427 161.884 L696.427 159.777 Q695.108 162.069 693.048 163.203 Q690.988 164.338 688.117 164.338 Q683.349 164.338 680.432 160.703 Q677.515 157.069 677.515 151.074 Q677.515 145.055 680.432 141.421 Q683.349 137.787 688.117 137.787 Q690.988 137.787 693.048 138.921 Q695.108 140.055 696.427 142.347 L696.427 138.412 L700.687 138.412 L700.687 161.12 Z\" fill=\"#000000\" fill-rule=\"evenodd\" fill-opacity=\"1\" /><path clip-path=\"url(#clip430)\" d=\"M710.872 160.402 L718.511 160.402 L718.511 134.037 L710.2 135.703 L710.2 131.444 L718.464 129.778 L723.14 129.778 L723.14 160.402 L730.779 160.402 L730.779 164.338 L710.872 164.338 L710.872 160.402 Z\" fill=\"#000000\" fill-rule=\"evenodd\" fill-opacity=\"1\" /><path clip-path=\"url(#clip430)\" d=\"M740.362 163.62 L740.362 159.361 Q742.122 160.194 743.927 160.634 Q745.733 161.074 747.469 161.074 Q752.098 161.074 754.529 157.972 Q756.983 154.847 757.33 148.504 Q755.987 150.495 753.927 151.56 Q751.867 152.625 749.367 152.625 Q744.182 152.625 741.149 149.5 Q738.14 146.352 738.14 140.912 Q738.14 135.588 741.288 132.37 Q744.436 129.153 749.668 129.153 Q755.663 129.153 758.811 133.759 Q761.983 138.342 761.983 147.092 Q761.983 155.264 758.094 160.148 Q754.228 165.009 747.677 165.009 Q745.918 165.009 744.112 164.662 Q742.307 164.314 740.362 163.62 M749.668 148.967 Q752.816 148.967 754.645 146.814 Q756.496 144.662 756.496 140.912 Q756.496 137.185 754.645 135.032 Q752.816 132.856 749.668 132.856 Q746.52 132.856 744.668 135.032 Q742.839 137.185 742.839 140.912 Q742.839 144.662 744.668 146.814 Q746.52 148.967 749.668 148.967 Z\" fill=\"#000000\" fill-rule=\"evenodd\" fill-opacity=\"1\" /><path clip-path=\"url(#clip430)\" d=\"M774.413 160.402 L790.732 160.402 L790.732 164.338 L768.788 164.338 L768.788 160.402 Q771.45 157.648 776.033 153.018 Q780.64 148.365 781.82 147.023 Q784.066 144.5 784.945 142.764 Q785.848 141.004 785.848 139.315 Q785.848 136.56 783.904 134.824 Q781.982 133.088 778.881 133.088 Q776.682 133.088 774.228 133.852 Q771.797 134.615 769.02 136.166 L769.02 131.444 Q771.844 130.31 774.297 129.731 Q776.751 129.153 778.788 129.153 Q784.158 129.153 787.353 131.838 Q790.547 134.523 790.547 139.014 Q790.547 141.143 789.737 143.065 Q788.95 144.963 786.843 147.555 Q786.265 148.227 783.163 151.444 Q780.061 154.639 774.413 160.402 Z\" fill=\"#000000\" fill-rule=\"evenodd\" fill-opacity=\"1\" /><path clip-path=\"url(#clip430)\" d=\"M804.575 160.402 L820.894 160.402 L820.894 164.338 L798.95 164.338 L798.95 160.402 Q801.612 157.648 806.195 153.018 Q810.802 148.365 811.982 147.023 Q814.228 144.5 815.107 142.764 Q816.01 141.004 816.01 139.315 Q816.01 136.56 814.066 134.824 Q812.144 133.088 809.042 133.088 Q806.843 133.088 804.39 133.852 Q801.959 134.615 799.181 136.166 L799.181 131.444 Q802.005 130.31 804.459 129.731 Q806.913 129.153 808.95 129.153 Q814.32 129.153 817.515 131.838 Q820.709 134.523 820.709 139.014 Q820.709 141.143 819.899 143.065 Q819.112 144.963 817.005 147.555 Q816.427 148.227 813.325 151.444 Q810.223 154.639 804.575 160.402 Z\" fill=\"#000000\" fill-rule=\"evenodd\" fill-opacity=\"1\" /><polyline clip-path=\"url(#clip430)\" style=\"stroke:#e26f46; stroke-linecap:round; stroke-linejoin:round; stroke-width:4; stroke-opacity:1; fill:none\" points=\"\n",
       "  239.009,198.898 386.48,198.898 \n",
       "  \"/>\n",
       "<path clip-path=\"url(#clip430)\" d=\"M429.97 194.187 L429.97 180.159 L434.23 180.159 L434.23 216.178 L429.97 216.178 L429.97 212.289 Q428.628 214.603 426.568 215.738 Q424.531 216.849 421.66 216.849 Q416.961 216.849 413.998 213.099 Q411.058 209.349 411.058 203.238 Q411.058 197.127 413.998 193.377 Q416.961 189.627 421.66 189.627 Q424.531 189.627 426.568 190.761 Q428.628 191.872 429.97 194.187 M415.457 203.238 Q415.457 207.937 417.378 210.622 Q419.322 213.284 422.702 213.284 Q426.082 213.284 428.026 210.622 Q429.97 207.937 429.97 203.238 Q429.97 198.539 428.026 195.877 Q426.082 193.192 422.702 193.192 Q419.322 193.192 417.378 195.877 Q415.457 198.539 415.457 203.238 Z\" fill=\"#000000\" fill-rule=\"evenodd\" fill-opacity=\"1\" /><path clip-path=\"url(#clip430)\" d=\"M465.179 202.15 L465.179 204.233 L445.595 204.233 Q445.873 208.631 448.234 210.946 Q450.618 213.238 454.855 213.238 Q457.308 213.238 459.6 212.636 Q461.915 212.034 464.183 210.83 L464.183 214.858 Q461.892 215.83 459.484 216.34 Q457.077 216.849 454.6 216.849 Q448.396 216.849 444.762 213.238 Q441.151 209.627 441.151 203.469 Q441.151 197.104 444.577 193.377 Q448.026 189.627 453.859 189.627 Q459.091 189.627 462.123 193.006 Q465.179 196.363 465.179 202.15 M460.919 200.9 Q460.873 197.405 458.952 195.321 Q457.054 193.238 453.905 193.238 Q450.341 193.238 448.188 195.252 Q446.058 197.266 445.734 200.923 L460.919 200.9 Z\" fill=\"#000000\" fill-rule=\"evenodd\" fill-opacity=\"1\" /><path clip-path=\"url(#clip430)\" d=\"M490.827 191.247 L490.827 195.229 Q489.021 194.233 487.192 193.747 Q485.387 193.238 483.535 193.238 Q479.391 193.238 477.1 195.877 Q474.808 198.492 474.808 203.238 Q474.808 207.983 477.1 210.622 Q479.391 213.238 483.535 213.238 Q485.387 213.238 487.192 212.752 Q489.021 212.242 490.827 211.247 L490.827 215.182 Q489.044 216.016 487.123 216.432 Q485.225 216.849 483.072 216.849 Q477.216 216.849 473.766 213.168 Q470.317 209.488 470.317 203.238 Q470.317 196.895 473.79 193.261 Q477.285 189.627 483.35 189.627 Q485.317 189.627 487.192 190.043 Q489.067 190.437 490.827 191.247 Z\" fill=\"#000000\" fill-rule=\"evenodd\" fill-opacity=\"1\" /><path clip-path=\"url(#clip430)\" d=\"M502.447 182.891 L502.447 190.252 L511.22 190.252 L511.22 193.562 L502.447 193.562 L502.447 207.636 Q502.447 210.807 503.303 211.71 Q504.183 212.613 506.845 212.613 L511.22 212.613 L511.22 216.178 L506.845 216.178 Q501.914 216.178 500.039 214.349 Q498.164 212.497 498.164 207.636 L498.164 193.562 L495.04 193.562 L495.04 190.252 L498.164 190.252 L498.164 182.891 L502.447 182.891 Z\" fill=\"#000000\" fill-rule=\"evenodd\" fill-opacity=\"1\" /><path clip-path=\"url(#clip430)\" d=\"M538.998 202.15 L538.998 204.233 L519.414 204.233 Q519.692 208.631 522.053 210.946 Q524.437 213.238 528.674 213.238 Q531.127 213.238 533.419 212.636 Q535.734 212.034 538.002 210.83 L538.002 214.858 Q535.711 215.83 533.303 216.34 Q530.896 216.849 528.419 216.849 Q522.215 216.849 518.581 213.238 Q514.97 209.627 514.97 203.469 Q514.97 197.104 518.396 193.377 Q521.845 189.627 527.678 189.627 Q532.91 189.627 535.942 193.006 Q538.998 196.363 538.998 202.15 M534.738 200.9 Q534.692 197.405 532.771 195.321 Q530.873 193.238 527.725 193.238 Q524.16 193.238 522.007 195.252 Q519.877 197.266 519.553 200.923 L534.738 200.9 Z\" fill=\"#000000\" fill-rule=\"evenodd\" fill-opacity=\"1\" /><path clip-path=\"url(#clip430)\" d=\"M566.173 195.229 Q567.771 192.358 569.993 190.993 Q572.215 189.627 575.224 189.627 Q579.275 189.627 581.474 192.474 Q583.673 195.298 583.673 200.529 L583.673 216.178 L579.391 216.178 L579.391 200.668 Q579.391 196.942 578.071 195.136 Q576.752 193.33 574.044 193.33 Q570.734 193.33 568.812 195.53 Q566.891 197.729 566.891 201.525 L566.891 216.178 L562.609 216.178 L562.609 200.668 Q562.609 196.918 561.289 195.136 Q559.97 193.33 557.215 193.33 Q553.951 193.33 552.03 195.553 Q550.109 197.752 550.109 201.525 L550.109 216.178 L545.826 216.178 L545.826 190.252 L550.109 190.252 L550.109 194.28 Q551.567 191.895 553.604 190.761 Q555.641 189.627 558.442 189.627 Q561.266 189.627 563.234 191.062 Q565.224 192.497 566.173 195.229 Z\" fill=\"#000000\" fill-rule=\"evenodd\" fill-opacity=\"1\" /><path clip-path=\"url(#clip430)\" d=\"M596.289 212.289 L596.289 226.039 L592.007 226.039 L592.007 190.252 L596.289 190.252 L596.289 194.187 Q597.632 191.872 599.669 190.761 Q601.729 189.627 604.576 189.627 Q609.298 189.627 612.238 193.377 Q615.201 197.127 615.201 203.238 Q615.201 209.349 612.238 213.099 Q609.298 216.849 604.576 216.849 Q601.729 216.849 599.669 215.738 Q597.632 214.603 596.289 212.289 M610.78 203.238 Q610.78 198.539 608.835 195.877 Q606.914 193.192 603.534 193.192 Q600.155 193.192 598.21 195.877 Q596.289 198.539 596.289 203.238 Q596.289 207.937 598.21 210.622 Q600.155 213.284 603.534 213.284 Q606.914 213.284 608.835 210.622 Q610.78 207.937 610.78 203.238 Z\" fill=\"#000000\" fill-rule=\"evenodd\" fill-opacity=\"1\" /><path clip-path=\"url(#clip430)\" d=\"M634.043 203.145 Q628.881 203.145 626.891 204.326 Q624.9 205.506 624.9 208.354 Q624.9 210.622 626.381 211.965 Q627.886 213.284 630.455 213.284 Q633.997 213.284 636.127 210.784 Q638.279 208.261 638.279 204.094 L638.279 203.145 L634.043 203.145 M642.539 201.386 L642.539 216.178 L638.279 216.178 L638.279 212.242 Q636.821 214.603 634.645 215.738 Q632.469 216.849 629.321 216.849 Q625.34 216.849 622.979 214.627 Q620.641 212.381 620.641 208.631 Q620.641 204.256 623.557 202.034 Q626.497 199.812 632.307 199.812 L638.279 199.812 L638.279 199.395 Q638.279 196.455 636.335 194.858 Q634.414 193.238 630.918 193.238 Q628.696 193.238 626.59 193.77 Q624.483 194.303 622.539 195.367 L622.539 191.432 Q624.877 190.53 627.076 190.09 Q629.275 189.627 631.358 189.627 Q636.983 189.627 639.761 192.543 Q642.539 195.46 642.539 201.386 Z\" fill=\"#000000\" fill-rule=\"evenodd\" fill-opacity=\"1\" /><path clip-path=\"url(#clip430)\" d=\"M648.256 190.252 L652.77 190.252 L660.872 212.011 L668.974 190.252 L673.488 190.252 L663.765 216.178 L657.978 216.178 L648.256 190.252 Z\" fill=\"#000000\" fill-rule=\"evenodd\" fill-opacity=\"1\" /><path clip-path=\"url(#clip430)\" d=\"M696.427 202.914 Q696.427 198.284 694.506 195.738 Q692.608 193.192 689.159 193.192 Q685.733 193.192 683.812 195.738 Q681.914 198.284 681.914 202.914 Q681.914 207.52 683.812 210.066 Q685.733 212.613 689.159 212.613 Q692.608 212.613 694.506 210.066 Q696.427 207.52 696.427 202.914 M700.687 212.96 Q700.687 219.58 697.747 222.798 Q694.807 226.039 688.742 226.039 Q686.497 226.039 684.506 225.691 Q682.515 225.367 680.64 224.673 L680.64 220.529 Q682.515 221.548 684.344 222.034 Q686.173 222.52 688.071 222.52 Q692.261 222.52 694.344 220.321 Q696.427 218.145 696.427 213.724 L696.427 211.617 Q695.108 213.909 693.048 215.043 Q690.988 216.178 688.117 216.178 Q683.349 216.178 680.432 212.543 Q677.515 208.909 677.515 202.914 Q677.515 196.895 680.432 193.261 Q683.349 189.627 688.117 189.627 Q690.988 189.627 693.048 190.761 Q695.108 191.895 696.427 194.187 L696.427 190.252 L700.687 190.252 L700.687 212.96 Z\" fill=\"#000000\" fill-rule=\"evenodd\" fill-opacity=\"1\" /><path clip-path=\"url(#clip430)\" d=\"M714.089 212.242 L730.409 212.242 L730.409 216.178 L708.464 216.178 L708.464 212.242 Q711.126 209.488 715.71 204.858 Q720.316 200.205 721.497 198.863 Q723.742 196.34 724.622 194.604 Q725.524 192.844 725.524 191.155 Q725.524 188.4 723.58 186.664 Q721.659 184.928 718.557 184.928 Q716.358 184.928 713.904 185.692 Q711.474 186.455 708.696 188.006 L708.696 183.284 Q711.52 182.15 713.974 181.571 Q716.427 180.993 718.464 180.993 Q723.835 180.993 727.029 183.678 Q730.223 186.363 730.223 190.854 Q730.223 192.983 729.413 194.905 Q728.626 196.803 726.52 199.395 Q725.941 200.067 722.839 203.284 Q719.737 206.479 714.089 212.242 Z\" fill=\"#000000\" fill-rule=\"evenodd\" fill-opacity=\"1\" /><path clip-path=\"url(#clip430)\" d=\"M750.223 184.696 Q746.612 184.696 744.784 188.261 Q742.978 191.803 742.978 198.932 Q742.978 206.039 744.784 209.604 Q746.612 213.145 750.223 213.145 Q753.858 213.145 755.663 209.604 Q757.492 206.039 757.492 198.932 Q757.492 191.803 755.663 188.261 Q753.858 184.696 750.223 184.696 M750.223 180.993 Q756.033 180.993 759.089 185.599 Q762.168 190.182 762.168 198.932 Q762.168 207.659 759.089 212.266 Q756.033 216.849 750.223 216.849 Q744.413 216.849 741.334 212.266 Q738.279 207.659 738.279 198.932 Q738.279 190.182 741.334 185.599 Q744.413 180.993 750.223 180.993 Z\" fill=\"#000000\" fill-rule=\"evenodd\" fill-opacity=\"1\" /><path clip-path=\"url(#clip430)\" d=\"M771.195 212.242 L778.834 212.242 L778.834 185.877 L770.524 187.543 L770.524 183.284 L778.788 181.618 L783.464 181.618 L783.464 212.242 L791.103 212.242 L791.103 216.178 L771.195 216.178 L771.195 212.242 Z\" fill=\"#000000\" fill-rule=\"evenodd\" fill-opacity=\"1\" /><path clip-path=\"url(#clip430)\" d=\"M804.575 212.242 L820.894 212.242 L820.894 216.178 L798.95 216.178 L798.95 212.242 Q801.612 209.488 806.195 204.858 Q810.802 200.205 811.982 198.863 Q814.228 196.34 815.107 194.604 Q816.01 192.844 816.01 191.155 Q816.01 188.4 814.066 186.664 Q812.144 184.928 809.042 184.928 Q806.843 184.928 804.39 185.692 Q801.959 186.455 799.181 188.006 L799.181 183.284 Q802.005 182.15 804.459 181.571 Q806.913 180.993 808.95 180.993 Q814.32 180.993 817.515 183.678 Q820.709 186.363 820.709 190.854 Q820.709 192.983 819.899 194.905 Q819.112 196.803 817.005 199.395 Q816.427 200.067 813.325 203.284 Q810.223 206.479 804.575 212.242 Z\" fill=\"#000000\" fill-rule=\"evenodd\" fill-opacity=\"1\" /></svg>\n"
      ]
     },
     "execution_count": 82,
     "metadata": {},
     "output_type": "execute_result"
    }
   ],
   "source": [
    "plot(1:11, dectempavg1922, label=\"dectempavg1922\")\n",
    "plot!(1:11, dectempavg2012, label=\"dectempavg2012\")"
   ]
  },
  {
   "cell_type": "markdown",
   "id": "b5e74afd",
   "metadata": {},
   "source": [
    "# We will now move on to graphing Jan Min average Temperature 1922-1932 with  2012-2022."
   ]
  },
  {
   "cell_type": "code",
   "execution_count": 83,
   "id": "4402fc5e",
   "metadata": {},
   "outputs": [
    {
     "data": {
      "text/plain": [
       "11-element Vector{Any}:\n",
       "  5.65\n",
       " 11.2\n",
       " -3.25\n",
       "  9.9\n",
       " 14.95\n",
       "  7.75\n",
       " 17.3\n",
       " -2.95\n",
       "  9.0\n",
       " 17.8\n",
       " 22.5"
      ]
     },
     "execution_count": 83,
     "metadata": {},
     "output_type": "execute_result"
    }
   ],
   "source": [
    "#Jan 1922-1932  Min\n",
    "jantempmin1922=B[2:12,5]"
   ]
  },
  {
   "cell_type": "code",
   "execution_count": 84,
   "id": "1e1c4059",
   "metadata": {},
   "outputs": [
    {
     "data": {
      "text/plain": [
       "11-element Vector{Any}:\n",
       " 14.05\n",
       " 11.7\n",
       "  2.45\n",
       "  7.5\n",
       "  8.6\n",
       " 12.95\n",
       "  7.4\n",
       "  8.6\n",
       " 17.75\n",
       " 20.7\n",
       "  6.8"
      ]
     },
     "execution_count": 84,
     "metadata": {},
     "output_type": "execute_result"
    }
   ],
   "source": [
    "#Jan 2012-2022  Min\n",
    "jantempmin2012=C[2:12,5]"
   ]
  },
  {
   "cell_type": "code",
   "execution_count": 85,
   "id": "2c1a4fe0",
   "metadata": {},
   "outputs": [
    {
     "data": {
      "image/svg+xml": [
       "<?xml version=\"1.0\" encoding=\"utf-8\"?>\n",
       "<svg xmlns=\"http://www.w3.org/2000/svg\" xmlns:xlink=\"http://www.w3.org/1999/xlink\" width=\"600\" height=\"400\" viewBox=\"0 0 2400 1600\">\n",
       "<defs>\n",
       "  <clipPath id=\"clip470\">\n",
       "    <rect x=\"0\" y=\"0\" width=\"2400\" height=\"1600\"/>\n",
       "  </clipPath>\n",
       "</defs>\n",
       "<path clip-path=\"url(#clip470)\" d=\"\n",
       "M0 1600 L2400 1600 L2400 0 L0 0  Z\n",
       "  \" fill=\"#ffffff\" fill-rule=\"evenodd\" fill-opacity=\"1\"/>\n",
       "<defs>\n",
       "  <clipPath id=\"clip471\">\n",
       "    <rect x=\"480\" y=\"0\" width=\"1681\" height=\"1600\"/>\n",
       "  </clipPath>\n",
       "</defs>\n",
       "<path clip-path=\"url(#clip470)\" d=\"\n",
       "M140.696 1486.45 L2352.76 1486.45 L2352.76 47.2441 L140.696 47.2441  Z\n",
       "  \" fill=\"#ffffff\" fill-rule=\"evenodd\" fill-opacity=\"1\"/>\n",
       "<defs>\n",
       "  <clipPath id=\"clip472\">\n",
       "    <rect x=\"140\" y=\"47\" width=\"2213\" height=\"1440\"/>\n",
       "  </clipPath>\n",
       "</defs>\n",
       "<polyline clip-path=\"url(#clip472)\" style=\"stroke:#000000; stroke-linecap:round; stroke-linejoin:round; stroke-width:2; stroke-opacity:0.1; fill:none\" points=\"\n",
       "  411.986,1486.45 411.986,47.2441 \n",
       "  \"/>\n",
       "<polyline clip-path=\"url(#clip472)\" style=\"stroke:#000000; stroke-linecap:round; stroke-linejoin:round; stroke-width:2; stroke-opacity:0.1; fill:none\" points=\"\n",
       "  829.356,1486.45 829.356,47.2441 \n",
       "  \"/>\n",
       "<polyline clip-path=\"url(#clip472)\" style=\"stroke:#000000; stroke-linecap:round; stroke-linejoin:round; stroke-width:2; stroke-opacity:0.1; fill:none\" points=\"\n",
       "  1246.73,1486.45 1246.73,47.2441 \n",
       "  \"/>\n",
       "<polyline clip-path=\"url(#clip472)\" style=\"stroke:#000000; stroke-linecap:round; stroke-linejoin:round; stroke-width:2; stroke-opacity:0.1; fill:none\" points=\"\n",
       "  1664.1,1486.45 1664.1,47.2441 \n",
       "  \"/>\n",
       "<polyline clip-path=\"url(#clip472)\" style=\"stroke:#000000; stroke-linecap:round; stroke-linejoin:round; stroke-width:2; stroke-opacity:0.1; fill:none\" points=\"\n",
       "  2081.47,1486.45 2081.47,47.2441 \n",
       "  \"/>\n",
       "<polyline clip-path=\"url(#clip470)\" style=\"stroke:#000000; stroke-linecap:round; stroke-linejoin:round; stroke-width:4; stroke-opacity:1; fill:none\" points=\"\n",
       "  140.696,1486.45 2352.76,1486.45 \n",
       "  \"/>\n",
       "<polyline clip-path=\"url(#clip470)\" style=\"stroke:#000000; stroke-linecap:round; stroke-linejoin:round; stroke-width:4; stroke-opacity:1; fill:none\" points=\"\n",
       "  411.986,1486.45 411.986,1467.55 \n",
       "  \"/>\n",
       "<polyline clip-path=\"url(#clip470)\" style=\"stroke:#000000; stroke-linecap:round; stroke-linejoin:round; stroke-width:4; stroke-opacity:1; fill:none\" points=\"\n",
       "  829.356,1486.45 829.356,1467.55 \n",
       "  \"/>\n",
       "<polyline clip-path=\"url(#clip470)\" style=\"stroke:#000000; stroke-linecap:round; stroke-linejoin:round; stroke-width:4; stroke-opacity:1; fill:none\" points=\"\n",
       "  1246.73,1486.45 1246.73,1467.55 \n",
       "  \"/>\n",
       "<polyline clip-path=\"url(#clip470)\" style=\"stroke:#000000; stroke-linecap:round; stroke-linejoin:round; stroke-width:4; stroke-opacity:1; fill:none\" points=\"\n",
       "  1664.1,1486.45 1664.1,1467.55 \n",
       "  \"/>\n",
       "<polyline clip-path=\"url(#clip470)\" style=\"stroke:#000000; stroke-linecap:round; stroke-linejoin:round; stroke-width:4; stroke-opacity:1; fill:none\" points=\"\n",
       "  2081.47,1486.45 2081.47,1467.55 \n",
       "  \"/>\n",
       "<path clip-path=\"url(#clip470)\" d=\"M406.639 1544.91 L422.958 1544.91 L422.958 1548.85 L401.014 1548.85 L401.014 1544.91 Q403.676 1542.16 408.259 1537.53 Q412.866 1532.88 414.046 1531.53 Q416.291 1529.01 417.171 1527.27 Q418.074 1525.51 418.074 1523.82 Q418.074 1521.07 416.129 1519.33 Q414.208 1517.6 411.106 1517.6 Q408.907 1517.6 406.454 1518.36 Q404.023 1519.13 401.245 1520.68 L401.245 1515.95 Q404.069 1514.82 406.523 1514.24 Q408.977 1513.66 411.014 1513.66 Q416.384 1513.66 419.579 1516.35 Q422.773 1519.03 422.773 1523.52 Q422.773 1525.65 421.963 1527.57 Q421.176 1529.47 419.069 1532.07 Q418.491 1532.74 415.389 1535.95 Q412.287 1539.15 406.639 1544.91 Z\" fill=\"#000000\" fill-rule=\"evenodd\" fill-opacity=\"1\" /><path clip-path=\"url(#clip470)\" d=\"M832.365 1518.36 L820.56 1536.81 L832.365 1536.81 L832.365 1518.36 M831.138 1514.29 L837.018 1514.29 L837.018 1536.81 L841.948 1536.81 L841.948 1540.7 L837.018 1540.7 L837.018 1548.85 L832.365 1548.85 L832.365 1540.7 L816.763 1540.7 L816.763 1536.19 L831.138 1514.29 Z\" fill=\"#000000\" fill-rule=\"evenodd\" fill-opacity=\"1\" /><path clip-path=\"url(#clip470)\" d=\"M1247.13 1529.7 Q1243.98 1529.7 1242.13 1531.86 Q1240.3 1534.01 1240.3 1537.76 Q1240.3 1541.49 1242.13 1543.66 Q1243.98 1545.82 1247.13 1545.82 Q1250.28 1545.82 1252.11 1543.66 Q1253.96 1541.49 1253.96 1537.76 Q1253.96 1534.01 1252.11 1531.86 Q1250.28 1529.7 1247.13 1529.7 M1256.41 1515.05 L1256.41 1519.31 Q1254.65 1518.48 1252.85 1518.04 Q1251.07 1517.6 1249.31 1517.6 Q1244.68 1517.6 1242.22 1520.72 Q1239.79 1523.85 1239.45 1530.17 Q1240.81 1528.15 1242.87 1527.09 Q1244.93 1526 1247.41 1526 Q1252.62 1526 1255.63 1529.17 Q1258.66 1532.32 1258.66 1537.76 Q1258.66 1543.08 1255.51 1546.3 Q1252.36 1549.52 1247.13 1549.52 Q1241.14 1549.52 1237.96 1544.94 Q1234.79 1540.33 1234.79 1531.6 Q1234.79 1523.41 1238.68 1518.55 Q1242.57 1513.66 1249.12 1513.66 Q1250.88 1513.66 1252.66 1514.01 Q1254.47 1514.36 1256.41 1515.05 Z\" fill=\"#000000\" fill-rule=\"evenodd\" fill-opacity=\"1\" /><path clip-path=\"url(#clip470)\" d=\"M1664.1 1532.44 Q1660.76 1532.44 1658.84 1534.22 Q1656.94 1536 1656.94 1539.13 Q1656.94 1542.25 1658.84 1544.03 Q1660.76 1545.82 1664.1 1545.82 Q1667.43 1545.82 1669.35 1544.03 Q1671.27 1542.23 1671.27 1539.13 Q1671.27 1536 1669.35 1534.22 Q1667.45 1532.44 1664.1 1532.44 M1659.42 1530.45 Q1656.41 1529.7 1654.72 1527.64 Q1653.05 1525.58 1653.05 1522.62 Q1653.05 1518.48 1655.99 1516.07 Q1658.96 1513.66 1664.1 1513.66 Q1669.26 1513.66 1672.2 1516.07 Q1675.14 1518.48 1675.14 1522.62 Q1675.14 1525.58 1673.45 1527.64 Q1671.78 1529.7 1668.79 1530.45 Q1672.17 1531.23 1674.05 1533.52 Q1675.95 1535.82 1675.95 1539.13 Q1675.95 1544.15 1672.87 1546.83 Q1669.81 1549.52 1664.1 1549.52 Q1658.38 1549.52 1655.3 1546.83 Q1652.24 1544.15 1652.24 1539.13 Q1652.24 1535.82 1654.14 1533.52 Q1656.04 1531.23 1659.42 1530.45 M1657.71 1523.06 Q1657.71 1525.75 1659.37 1527.25 Q1661.06 1528.76 1664.1 1528.76 Q1667.1 1528.76 1668.79 1527.25 Q1670.51 1525.75 1670.51 1523.06 Q1670.51 1520.38 1668.79 1518.87 Q1667.1 1517.37 1664.1 1517.37 Q1661.06 1517.37 1659.37 1518.87 Q1657.71 1520.38 1657.71 1523.06 Z\" fill=\"#000000\" fill-rule=\"evenodd\" fill-opacity=\"1\" /><path clip-path=\"url(#clip470)\" d=\"M2056.15 1544.91 L2063.79 1544.91 L2063.79 1518.55 L2055.48 1520.21 L2055.48 1515.95 L2063.75 1514.29 L2068.42 1514.29 L2068.42 1544.91 L2076.06 1544.91 L2076.06 1548.85 L2056.15 1548.85 L2056.15 1544.91 Z\" fill=\"#000000\" fill-rule=\"evenodd\" fill-opacity=\"1\" /><path clip-path=\"url(#clip470)\" d=\"M2095.5 1517.37 Q2091.89 1517.37 2090.06 1520.93 Q2088.26 1524.47 2088.26 1531.6 Q2088.26 1538.71 2090.06 1542.27 Q2091.89 1545.82 2095.5 1545.82 Q2099.14 1545.82 2100.94 1542.27 Q2102.77 1538.71 2102.77 1531.6 Q2102.77 1524.47 2100.94 1520.93 Q2099.14 1517.37 2095.5 1517.37 M2095.5 1513.66 Q2101.31 1513.66 2104.37 1518.27 Q2107.45 1522.85 2107.45 1531.6 Q2107.45 1540.33 2104.37 1544.94 Q2101.31 1549.52 2095.5 1549.52 Q2089.69 1549.52 2086.62 1544.94 Q2083.56 1540.33 2083.56 1531.6 Q2083.56 1522.85 2086.62 1518.27 Q2089.69 1513.66 2095.5 1513.66 Z\" fill=\"#000000\" fill-rule=\"evenodd\" fill-opacity=\"1\" /><polyline clip-path=\"url(#clip472)\" style=\"stroke:#000000; stroke-linecap:round; stroke-linejoin:round; stroke-width:2; stroke-opacity:0.1; fill:none\" points=\"\n",
       "  140.696,1274.35 2352.76,1274.35 \n",
       "  \"/>\n",
       "<polyline clip-path=\"url(#clip472)\" style=\"stroke:#000000; stroke-linecap:round; stroke-linejoin:round; stroke-width:2; stroke-opacity:0.1; fill:none\" points=\"\n",
       "  140.696,1010.71 2352.76,1010.71 \n",
       "  \"/>\n",
       "<polyline clip-path=\"url(#clip472)\" style=\"stroke:#000000; stroke-linecap:round; stroke-linejoin:round; stroke-width:2; stroke-opacity:0.1; fill:none\" points=\"\n",
       "  140.696,747.073 2352.76,747.073 \n",
       "  \"/>\n",
       "<polyline clip-path=\"url(#clip472)\" style=\"stroke:#000000; stroke-linecap:round; stroke-linejoin:round; stroke-width:2; stroke-opacity:0.1; fill:none\" points=\"\n",
       "  140.696,483.434 2352.76,483.434 \n",
       "  \"/>\n",
       "<polyline clip-path=\"url(#clip472)\" style=\"stroke:#000000; stroke-linecap:round; stroke-linejoin:round; stroke-width:2; stroke-opacity:0.1; fill:none\" points=\"\n",
       "  140.696,219.796 2352.76,219.796 \n",
       "  \"/>\n",
       "<polyline clip-path=\"url(#clip470)\" style=\"stroke:#000000; stroke-linecap:round; stroke-linejoin:round; stroke-width:4; stroke-opacity:1; fill:none\" points=\"\n",
       "  140.696,1486.45 140.696,47.2441 \n",
       "  \"/>\n",
       "<polyline clip-path=\"url(#clip470)\" style=\"stroke:#000000; stroke-linecap:round; stroke-linejoin:round; stroke-width:4; stroke-opacity:1; fill:none\" points=\"\n",
       "  140.696,1274.35 159.593,1274.35 \n",
       "  \"/>\n",
       "<polyline clip-path=\"url(#clip470)\" style=\"stroke:#000000; stroke-linecap:round; stroke-linejoin:round; stroke-width:4; stroke-opacity:1; fill:none\" points=\"\n",
       "  140.696,1010.71 159.593,1010.71 \n",
       "  \"/>\n",
       "<polyline clip-path=\"url(#clip470)\" style=\"stroke:#000000; stroke-linecap:round; stroke-linejoin:round; stroke-width:4; stroke-opacity:1; fill:none\" points=\"\n",
       "  140.696,747.073 159.593,747.073 \n",
       "  \"/>\n",
       "<polyline clip-path=\"url(#clip470)\" style=\"stroke:#000000; stroke-linecap:round; stroke-linejoin:round; stroke-width:4; stroke-opacity:1; fill:none\" points=\"\n",
       "  140.696,483.434 159.593,483.434 \n",
       "  \"/>\n",
       "<polyline clip-path=\"url(#clip470)\" style=\"stroke:#000000; stroke-linecap:round; stroke-linejoin:round; stroke-width:4; stroke-opacity:1; fill:none\" points=\"\n",
       "  140.696,219.796 159.593,219.796 \n",
       "  \"/>\n",
       "<path clip-path=\"url(#clip470)\" d=\"M92.7512 1260.15 Q89.1401 1260.15 87.3114 1263.71 Q85.5058 1267.26 85.5058 1274.39 Q85.5058 1281.49 87.3114 1285.06 Q89.1401 1288.6 92.7512 1288.6 Q96.3854 1288.6 98.1909 1285.06 Q100.02 1281.49 100.02 1274.39 Q100.02 1267.26 98.1909 1263.71 Q96.3854 1260.15 92.7512 1260.15 M92.7512 1256.45 Q98.5613 1256.45 101.617 1261.05 Q104.696 1265.64 104.696 1274.39 Q104.696 1283.11 101.617 1287.72 Q98.5613 1292.3 92.7512 1292.3 Q86.941 1292.3 83.8623 1287.72 Q80.8068 1283.11 80.8068 1274.39 Q80.8068 1265.64 83.8623 1261.05 Q86.941 1256.45 92.7512 1256.45 Z\" fill=\"#000000\" fill-rule=\"evenodd\" fill-opacity=\"1\" /><path clip-path=\"url(#clip470)\" d=\"M83.7929 993.432 L102.149 993.432 L102.149 997.367 L88.0753 997.367 L88.0753 1005.84 Q89.0938 1005.49 90.1123 1005.33 Q91.1308 1005.14 92.1493 1005.14 Q97.9363 1005.14 101.316 1008.32 Q104.696 1011.49 104.696 1016.9 Q104.696 1022.48 101.223 1025.58 Q97.7511 1028.66 91.4317 1028.66 Q89.2558 1028.66 86.9873 1028.29 Q84.7419 1027.92 82.3346 1027.18 L82.3346 1022.48 Q84.4179 1023.62 86.6401 1024.17 Q88.8623 1024.73 91.3391 1024.73 Q95.3437 1024.73 97.6817 1022.62 Q100.02 1020.51 100.02 1016.9 Q100.02 1013.29 97.6817 1011.19 Q95.3437 1009.08 91.3391 1009.08 Q89.4641 1009.08 87.5892 1009.5 Q85.7373 1009.91 83.7929 1010.79 L83.7929 993.432 Z\" fill=\"#000000\" fill-rule=\"evenodd\" fill-opacity=\"1\" /><path clip-path=\"url(#clip470)\" d=\"M53.3995 760.418 L61.0384 760.418 L61.0384 734.052 L52.7282 735.719 L52.7282 731.46 L60.9921 729.793 L65.668 729.793 L65.668 760.418 L73.3068 760.418 L73.3068 764.353 L53.3995 764.353 L53.3995 760.418 Z\" fill=\"#000000\" fill-rule=\"evenodd\" fill-opacity=\"1\" /><path clip-path=\"url(#clip470)\" d=\"M92.7512 732.872 Q89.1401 732.872 87.3114 736.437 Q85.5058 739.978 85.5058 747.108 Q85.5058 754.214 87.3114 757.779 Q89.1401 761.321 92.7512 761.321 Q96.3854 761.321 98.1909 757.779 Q100.02 754.214 100.02 747.108 Q100.02 739.978 98.1909 736.437 Q96.3854 732.872 92.7512 732.872 M92.7512 729.168 Q98.5613 729.168 101.617 733.775 Q104.696 738.358 104.696 747.108 Q104.696 755.835 101.617 760.441 Q98.5613 765.024 92.7512 765.024 Q86.941 765.024 83.8623 760.441 Q80.8068 755.835 80.8068 747.108 Q80.8068 738.358 83.8623 733.775 Q86.941 729.168 92.7512 729.168 Z\" fill=\"#000000\" fill-rule=\"evenodd\" fill-opacity=\"1\" /><path clip-path=\"url(#clip470)\" d=\"M54.3949 496.779 L62.0337 496.779 L62.0337 470.414 L53.7236 472.08 L53.7236 467.821 L61.9874 466.154 L66.6633 466.154 L66.6633 496.779 L74.3022 496.779 L74.3022 500.714 L54.3949 500.714 L54.3949 496.779 Z\" fill=\"#000000\" fill-rule=\"evenodd\" fill-opacity=\"1\" /><path clip-path=\"url(#clip470)\" d=\"M83.7929 466.154 L102.149 466.154 L102.149 470.09 L88.0753 470.09 L88.0753 478.562 Q89.0938 478.214 90.1123 478.052 Q91.1308 477.867 92.1493 477.867 Q97.9363 477.867 101.316 481.039 Q104.696 484.21 104.696 489.626 Q104.696 495.205 101.223 498.307 Q97.7511 501.386 91.4317 501.386 Q89.2558 501.386 86.9873 501.015 Q84.7419 500.645 82.3346 499.904 L82.3346 495.205 Q84.4179 496.339 86.6401 496.895 Q88.8623 497.45 91.3391 497.45 Q95.3437 497.45 97.6817 495.344 Q100.02 493.238 100.02 489.626 Q100.02 486.015 97.6817 483.909 Q95.3437 481.802 91.3391 481.802 Q89.4641 481.802 87.5892 482.219 Q85.7373 482.636 83.7929 483.515 L83.7929 466.154 Z\" fill=\"#000000\" fill-rule=\"evenodd\" fill-opacity=\"1\" /><path clip-path=\"url(#clip470)\" d=\"M56.6171 233.14 L72.9365 233.14 L72.9365 237.076 L50.9921 237.076 L50.9921 233.14 Q53.6541 230.386 58.2375 225.756 Q62.8439 221.104 64.0245 219.761 Q66.2698 217.238 67.1494 215.502 Q68.0522 213.742 68.0522 212.053 Q68.0522 209.298 66.1078 207.562 Q64.1865 205.826 61.0847 205.826 Q58.8856 205.826 56.4319 206.59 Q54.0014 207.354 51.2236 208.904 L51.2236 204.182 Q54.0477 203.048 56.5014 202.469 Q58.955 201.891 60.9921 201.891 Q66.3624 201.891 69.5568 204.576 Q72.7513 207.261 72.7513 211.752 Q72.7513 213.881 71.9411 215.803 Q71.1541 217.701 69.0476 220.293 Q68.4689 220.965 65.367 224.182 Q62.2652 227.377 56.6171 233.14 Z\" fill=\"#000000\" fill-rule=\"evenodd\" fill-opacity=\"1\" /><path clip-path=\"url(#clip470)\" d=\"M92.7512 205.594 Q89.1401 205.594 87.3114 209.159 Q85.5058 212.701 85.5058 219.83 Q85.5058 226.937 87.3114 230.502 Q89.1401 234.043 92.7512 234.043 Q96.3854 234.043 98.1909 230.502 Q100.02 226.937 100.02 219.83 Q100.02 212.701 98.1909 209.159 Q96.3854 205.594 92.7512 205.594 M92.7512 201.891 Q98.5613 201.891 101.617 206.497 Q104.696 211.08 104.696 219.83 Q104.696 228.557 101.617 233.164 Q98.5613 237.747 92.7512 237.747 Q86.941 237.747 83.8623 233.164 Q80.8068 228.557 80.8068 219.83 Q80.8068 211.08 83.8623 206.497 Q86.941 201.891 92.7512 201.891 Z\" fill=\"#000000\" fill-rule=\"evenodd\" fill-opacity=\"1\" /><polyline clip-path=\"url(#clip472)\" style=\"stroke:#009af9; stroke-linecap:round; stroke-linejoin:round; stroke-width:4; stroke-opacity:1; fill:none\" points=\"\n",
       "  203.301,976.439 411.986,683.8 620.671,1445.72 829.356,752.346 1038.04,486.071 1246.73,865.711 1455.41,362.161 1664.1,1429.9 1872.78,799.801 2081.47,335.797 \n",
       "  2290.15,87.9763 \n",
       "  \"/>\n",
       "<polyline clip-path=\"url(#clip472)\" style=\"stroke:#e26f46; stroke-linecap:round; stroke-linejoin:round; stroke-width:4; stroke-opacity:1; fill:none\" points=\"\n",
       "  203.301,533.526 411.986,657.436 620.671,1145.17 829.356,878.892 1038.04,820.892 1246.73,591.526 1455.41,884.165 1664.1,820.892 1872.78,338.433 2081.47,182.886 \n",
       "  2290.15,915.802 \n",
       "  \"/>\n",
       "<path clip-path=\"url(#clip470)\" d=\"\n",
       "M214.431 250.738 L838.088 250.738 L838.088 95.2176 L214.431 95.2176  Z\n",
       "  \" fill=\"#ffffff\" fill-rule=\"evenodd\" fill-opacity=\"1\"/>\n",
       "<polyline clip-path=\"url(#clip470)\" style=\"stroke:#000000; stroke-linecap:round; stroke-linejoin:round; stroke-width:4; stroke-opacity:1; fill:none\" points=\"\n",
       "  214.431,250.738 838.088,250.738 838.088,95.2176 214.431,95.2176 214.431,250.738 \n",
       "  \"/>\n",
       "<polyline clip-path=\"url(#clip470)\" style=\"stroke:#009af9; stroke-linecap:round; stroke-linejoin:round; stroke-width:4; stroke-opacity:1; fill:none\" points=\"\n",
       "  239.009,147.058 386.48,147.058 \n",
       "  \"/>\n",
       "<path clip-path=\"url(#clip470)\" d=\"M416.383 138.412 L420.642 138.412 L420.642 164.801 Q420.642 169.754 418.744 171.976 Q416.869 174.199 412.679 174.199 L411.058 174.199 L411.058 170.588 L412.193 170.588 Q414.623 170.588 415.503 169.453 Q416.383 168.342 416.383 164.801 L416.383 138.412 M416.383 128.319 L420.642 128.319 L420.642 133.713 L416.383 133.713 L416.383 128.319 Z\" fill=\"#000000\" fill-rule=\"evenodd\" fill-opacity=\"1\" /><path clip-path=\"url(#clip470)\" d=\"M441.336 151.305 Q436.174 151.305 434.183 152.486 Q432.193 153.666 432.193 156.514 Q432.193 158.782 433.674 160.125 Q435.179 161.444 437.748 161.444 Q441.29 161.444 443.419 158.944 Q445.572 156.421 445.572 152.254 L445.572 151.305 L441.336 151.305 M449.831 149.546 L449.831 164.338 L445.572 164.338 L445.572 160.402 Q444.114 162.763 441.938 163.898 Q439.762 165.009 436.614 165.009 Q432.632 165.009 430.271 162.787 Q427.933 160.541 427.933 156.791 Q427.933 152.416 430.85 150.194 Q433.79 147.972 439.6 147.972 L445.572 147.972 L445.572 147.555 Q445.572 144.615 443.628 143.018 Q441.706 141.398 438.211 141.398 Q435.989 141.398 433.882 141.93 Q431.776 142.463 429.832 143.527 L429.832 139.592 Q432.169 138.69 434.369 138.25 Q436.568 137.787 438.651 137.787 Q444.276 137.787 447.054 140.703 Q449.831 143.62 449.831 149.546 Z\" fill=\"#000000\" fill-rule=\"evenodd\" fill-opacity=\"1\" /><path clip-path=\"url(#clip470)\" d=\"M480.155 148.689 L480.155 164.338 L475.896 164.338 L475.896 148.828 Q475.896 145.148 474.461 143.319 Q473.026 141.49 470.155 141.49 Q466.706 141.49 464.716 143.69 Q462.725 145.889 462.725 149.685 L462.725 164.338 L458.442 164.338 L458.442 138.412 L462.725 138.412 L462.725 142.44 Q464.253 140.102 466.313 138.944 Q468.396 137.787 471.104 137.787 Q475.572 137.787 477.864 140.565 Q480.155 143.319 480.155 148.689 Z\" fill=\"#000000\" fill-rule=\"evenodd\" fill-opacity=\"1\" /><path clip-path=\"url(#clip470)\" d=\"M492.864 131.051 L492.864 138.412 L501.637 138.412 L501.637 141.722 L492.864 141.722 L492.864 155.796 Q492.864 158.967 493.72 159.87 Q494.6 160.773 497.262 160.773 L501.637 160.773 L501.637 164.338 L497.262 164.338 Q492.331 164.338 490.456 162.509 Q488.581 160.657 488.581 155.796 L488.581 141.722 L485.456 141.722 L485.456 138.412 L488.581 138.412 L488.581 131.051 L492.864 131.051 Z\" fill=\"#000000\" fill-rule=\"evenodd\" fill-opacity=\"1\" /><path clip-path=\"url(#clip470)\" d=\"M529.414 150.31 L529.414 152.393 L509.831 152.393 Q510.109 156.791 512.47 159.106 Q514.854 161.398 519.09 161.398 Q521.544 161.398 523.836 160.796 Q526.15 160.194 528.419 158.99 L528.419 163.018 Q526.127 163.99 523.72 164.5 Q521.313 165.009 518.836 165.009 Q512.632 165.009 508.998 161.398 Q505.387 157.787 505.387 151.629 Q505.387 145.264 508.813 141.537 Q512.262 137.787 518.095 137.787 Q523.326 137.787 526.359 141.166 Q529.414 144.523 529.414 150.31 M525.155 149.06 Q525.109 145.565 523.188 143.481 Q521.289 141.398 518.141 141.398 Q514.576 141.398 512.424 143.412 Q510.294 145.426 509.97 149.083 L525.155 149.06 Z\" fill=\"#000000\" fill-rule=\"evenodd\" fill-opacity=\"1\" /><path clip-path=\"url(#clip470)\" d=\"M556.59 143.389 Q558.187 140.518 560.41 139.153 Q562.632 137.787 565.641 137.787 Q569.692 137.787 571.891 140.634 Q574.09 143.458 574.09 148.689 L574.09 164.338 L569.808 164.338 L569.808 148.828 Q569.808 145.102 568.488 143.296 Q567.169 141.49 564.46 141.49 Q561.15 141.49 559.229 143.69 Q557.308 145.889 557.308 149.685 L557.308 164.338 L553.025 164.338 L553.025 148.828 Q553.025 145.078 551.706 143.296 Q550.386 141.49 547.632 141.49 Q544.368 141.49 542.447 143.713 Q540.525 145.912 540.525 149.685 L540.525 164.338 L536.243 164.338 L536.243 138.412 L540.525 138.412 L540.525 142.44 Q541.984 140.055 544.021 138.921 Q546.058 137.787 548.859 137.787 Q551.683 137.787 553.65 139.222 Q555.641 140.657 556.59 143.389 Z\" fill=\"#000000\" fill-rule=\"evenodd\" fill-opacity=\"1\" /><path clip-path=\"url(#clip470)\" d=\"M586.706 160.449 L586.706 174.199 L582.423 174.199 L582.423 138.412 L586.706 138.412 L586.706 142.347 Q588.048 140.032 590.085 138.921 Q592.145 137.787 594.993 137.787 Q599.715 137.787 602.655 141.537 Q605.618 145.287 605.618 151.398 Q605.618 157.509 602.655 161.259 Q599.715 165.009 594.993 165.009 Q592.145 165.009 590.085 163.898 Q588.048 162.763 586.706 160.449 M601.196 151.398 Q601.196 146.699 599.252 144.037 Q597.331 141.352 593.951 141.352 Q590.571 141.352 588.627 144.037 Q586.706 146.699 586.706 151.398 Q586.706 156.097 588.627 158.782 Q590.571 161.444 593.951 161.444 Q597.331 161.444 599.252 158.782 Q601.196 156.097 601.196 151.398 Z\" fill=\"#000000\" fill-rule=\"evenodd\" fill-opacity=\"1\" /><path clip-path=\"url(#clip470)\" d=\"M632.863 143.389 Q634.46 140.518 636.682 139.153 Q638.904 137.787 641.914 137.787 Q645.965 137.787 648.164 140.634 Q650.363 143.458 650.363 148.689 L650.363 164.338 L646.08 164.338 L646.08 148.828 Q646.08 145.102 644.761 143.296 Q643.441 141.49 640.733 141.49 Q637.423 141.49 635.502 143.69 Q633.58 145.889 633.58 149.685 L633.58 164.338 L629.298 164.338 L629.298 148.828 Q629.298 145.078 627.979 143.296 Q626.659 141.49 623.905 141.49 Q620.641 141.49 618.719 143.713 Q616.798 145.912 616.798 149.685 L616.798 164.338 L612.516 164.338 L612.516 138.412 L616.798 138.412 L616.798 142.44 Q618.256 140.055 620.293 138.921 Q622.33 137.787 625.131 137.787 Q627.955 137.787 629.923 139.222 Q631.914 140.657 632.863 143.389 Z\" fill=\"#000000\" fill-rule=\"evenodd\" fill-opacity=\"1\" /><path clip-path=\"url(#clip470)\" d=\"M658.858 138.412 L663.117 138.412 L663.117 164.338 L658.858 164.338 L658.858 138.412 M658.858 128.319 L663.117 128.319 L663.117 133.713 L658.858 133.713 L658.858 128.319 Z\" fill=\"#000000\" fill-rule=\"evenodd\" fill-opacity=\"1\" /><path clip-path=\"url(#clip470)\" d=\"M693.58 148.689 L693.58 164.338 L689.321 164.338 L689.321 148.828 Q689.321 145.148 687.886 143.319 Q686.451 141.49 683.58 141.49 Q680.131 141.49 678.14 143.69 Q676.15 145.889 676.15 149.685 L676.15 164.338 L671.867 164.338 L671.867 138.412 L676.15 138.412 L676.15 142.44 Q677.677 140.102 679.738 138.944 Q681.821 137.787 684.529 137.787 Q688.997 137.787 691.288 140.565 Q693.58 143.319 693.58 148.689 Z\" fill=\"#000000\" fill-rule=\"evenodd\" fill-opacity=\"1\" /><path clip-path=\"url(#clip470)\" d=\"M703.487 160.402 L711.126 160.402 L711.126 134.037 L702.816 135.703 L702.816 131.444 L711.08 129.778 L715.756 129.778 L715.756 160.402 L723.395 160.402 L723.395 164.338 L703.487 164.338 L703.487 160.402 Z\" fill=\"#000000\" fill-rule=\"evenodd\" fill-opacity=\"1\" /><path clip-path=\"url(#clip470)\" d=\"M732.978 163.62 L732.978 159.361 Q734.737 160.194 736.543 160.634 Q738.348 161.074 740.084 161.074 Q744.714 161.074 747.145 157.972 Q749.598 154.847 749.946 148.504 Q748.603 150.495 746.543 151.56 Q744.483 152.625 741.983 152.625 Q736.797 152.625 733.765 149.5 Q730.756 146.352 730.756 140.912 Q730.756 135.588 733.904 132.37 Q737.052 129.153 742.284 129.153 Q748.279 129.153 751.427 133.759 Q754.598 138.342 754.598 147.092 Q754.598 155.264 750.709 160.148 Q746.844 165.009 740.293 165.009 Q738.534 165.009 736.728 164.662 Q734.922 164.314 732.978 163.62 M742.284 148.967 Q745.432 148.967 747.26 146.814 Q749.112 144.662 749.112 140.912 Q749.112 137.185 747.26 135.032 Q745.432 132.856 742.284 132.856 Q739.135 132.856 737.284 135.032 Q735.455 137.185 735.455 140.912 Q735.455 144.662 737.284 146.814 Q739.135 148.967 742.284 148.967 Z\" fill=\"#000000\" fill-rule=\"evenodd\" fill-opacity=\"1\" /><path clip-path=\"url(#clip470)\" d=\"M767.029 160.402 L783.348 160.402 L783.348 164.338 L761.404 164.338 L761.404 160.402 Q764.066 157.648 768.649 153.018 Q773.256 148.365 774.436 147.023 Q776.682 144.5 777.561 142.764 Q778.464 141.004 778.464 139.315 Q778.464 136.56 776.519 134.824 Q774.598 133.088 771.496 133.088 Q769.297 133.088 766.844 133.852 Q764.413 134.615 761.635 136.166 L761.635 131.444 Q764.459 130.31 766.913 129.731 Q769.367 129.153 771.404 129.153 Q776.774 129.153 779.969 131.838 Q783.163 134.523 783.163 139.014 Q783.163 141.143 782.353 143.065 Q781.566 144.963 779.459 147.555 Q778.881 148.227 775.779 151.444 Q772.677 154.639 767.029 160.402 Z\" fill=\"#000000\" fill-rule=\"evenodd\" fill-opacity=\"1\" /><path clip-path=\"url(#clip470)\" d=\"M797.191 160.402 L813.51 160.402 L813.51 164.338 L791.566 164.338 L791.566 160.402 Q794.228 157.648 798.811 153.018 Q803.417 148.365 804.598 147.023 Q806.843 144.5 807.723 142.764 Q808.626 141.004 808.626 139.315 Q808.626 136.56 806.681 134.824 Q804.76 133.088 801.658 133.088 Q799.459 133.088 797.005 133.852 Q794.575 134.615 791.797 136.166 L791.797 131.444 Q794.621 130.31 797.075 129.731 Q799.529 129.153 801.566 129.153 Q806.936 129.153 810.13 131.838 Q813.325 134.523 813.325 139.014 Q813.325 141.143 812.515 143.065 Q811.728 144.963 809.621 147.555 Q809.042 148.227 805.941 151.444 Q802.839 154.639 797.191 160.402 Z\" fill=\"#000000\" fill-rule=\"evenodd\" fill-opacity=\"1\" /><polyline clip-path=\"url(#clip470)\" style=\"stroke:#e26f46; stroke-linecap:round; stroke-linejoin:round; stroke-width:4; stroke-opacity:1; fill:none\" points=\"\n",
       "  239.009,198.898 386.48,198.898 \n",
       "  \"/>\n",
       "<path clip-path=\"url(#clip470)\" d=\"M416.383 190.252 L420.642 190.252 L420.642 216.641 Q420.642 221.594 418.744 223.816 Q416.869 226.039 412.679 226.039 L411.058 226.039 L411.058 222.428 L412.193 222.428 Q414.623 222.428 415.503 221.293 Q416.383 220.182 416.383 216.641 L416.383 190.252 M416.383 180.159 L420.642 180.159 L420.642 185.553 L416.383 185.553 L416.383 180.159 Z\" fill=\"#000000\" fill-rule=\"evenodd\" fill-opacity=\"1\" /><path clip-path=\"url(#clip470)\" d=\"M441.336 203.145 Q436.174 203.145 434.183 204.326 Q432.193 205.506 432.193 208.354 Q432.193 210.622 433.674 211.965 Q435.179 213.284 437.748 213.284 Q441.29 213.284 443.419 210.784 Q445.572 208.261 445.572 204.094 L445.572 203.145 L441.336 203.145 M449.831 201.386 L449.831 216.178 L445.572 216.178 L445.572 212.242 Q444.114 214.603 441.938 215.738 Q439.762 216.849 436.614 216.849 Q432.632 216.849 430.271 214.627 Q427.933 212.381 427.933 208.631 Q427.933 204.256 430.85 202.034 Q433.79 199.812 439.6 199.812 L445.572 199.812 L445.572 199.395 Q445.572 196.455 443.628 194.858 Q441.706 193.238 438.211 193.238 Q435.989 193.238 433.882 193.77 Q431.776 194.303 429.832 195.367 L429.832 191.432 Q432.169 190.53 434.369 190.09 Q436.568 189.627 438.651 189.627 Q444.276 189.627 447.054 192.543 Q449.831 195.46 449.831 201.386 Z\" fill=\"#000000\" fill-rule=\"evenodd\" fill-opacity=\"1\" /><path clip-path=\"url(#clip470)\" d=\"M480.155 200.529 L480.155 216.178 L475.896 216.178 L475.896 200.668 Q475.896 196.988 474.461 195.159 Q473.026 193.33 470.155 193.33 Q466.706 193.33 464.716 195.53 Q462.725 197.729 462.725 201.525 L462.725 216.178 L458.442 216.178 L458.442 190.252 L462.725 190.252 L462.725 194.28 Q464.253 191.942 466.313 190.784 Q468.396 189.627 471.104 189.627 Q475.572 189.627 477.864 192.405 Q480.155 195.159 480.155 200.529 Z\" fill=\"#000000\" fill-rule=\"evenodd\" fill-opacity=\"1\" /><path clip-path=\"url(#clip470)\" d=\"M492.864 182.891 L492.864 190.252 L501.637 190.252 L501.637 193.562 L492.864 193.562 L492.864 207.636 Q492.864 210.807 493.72 211.71 Q494.6 212.613 497.262 212.613 L501.637 212.613 L501.637 216.178 L497.262 216.178 Q492.331 216.178 490.456 214.349 Q488.581 212.497 488.581 207.636 L488.581 193.562 L485.456 193.562 L485.456 190.252 L488.581 190.252 L488.581 182.891 L492.864 182.891 Z\" fill=\"#000000\" fill-rule=\"evenodd\" fill-opacity=\"1\" /><path clip-path=\"url(#clip470)\" d=\"M529.414 202.15 L529.414 204.233 L509.831 204.233 Q510.109 208.631 512.47 210.946 Q514.854 213.238 519.09 213.238 Q521.544 213.238 523.836 212.636 Q526.15 212.034 528.419 210.83 L528.419 214.858 Q526.127 215.83 523.72 216.34 Q521.313 216.849 518.836 216.849 Q512.632 216.849 508.998 213.238 Q505.387 209.627 505.387 203.469 Q505.387 197.104 508.813 193.377 Q512.262 189.627 518.095 189.627 Q523.326 189.627 526.359 193.006 Q529.414 196.363 529.414 202.15 M525.155 200.9 Q525.109 197.405 523.188 195.321 Q521.289 193.238 518.141 193.238 Q514.576 193.238 512.424 195.252 Q510.294 197.266 509.97 200.923 L525.155 200.9 Z\" fill=\"#000000\" fill-rule=\"evenodd\" fill-opacity=\"1\" /><path clip-path=\"url(#clip470)\" d=\"M556.59 195.229 Q558.187 192.358 560.41 190.993 Q562.632 189.627 565.641 189.627 Q569.692 189.627 571.891 192.474 Q574.09 195.298 574.09 200.529 L574.09 216.178 L569.808 216.178 L569.808 200.668 Q569.808 196.942 568.488 195.136 Q567.169 193.33 564.46 193.33 Q561.15 193.33 559.229 195.53 Q557.308 197.729 557.308 201.525 L557.308 216.178 L553.025 216.178 L553.025 200.668 Q553.025 196.918 551.706 195.136 Q550.386 193.33 547.632 193.33 Q544.368 193.33 542.447 195.553 Q540.525 197.752 540.525 201.525 L540.525 216.178 L536.243 216.178 L536.243 190.252 L540.525 190.252 L540.525 194.28 Q541.984 191.895 544.021 190.761 Q546.058 189.627 548.859 189.627 Q551.683 189.627 553.65 191.062 Q555.641 192.497 556.59 195.229 Z\" fill=\"#000000\" fill-rule=\"evenodd\" fill-opacity=\"1\" /><path clip-path=\"url(#clip470)\" d=\"M586.706 212.289 L586.706 226.039 L582.423 226.039 L582.423 190.252 L586.706 190.252 L586.706 194.187 Q588.048 191.872 590.085 190.761 Q592.145 189.627 594.993 189.627 Q599.715 189.627 602.655 193.377 Q605.618 197.127 605.618 203.238 Q605.618 209.349 602.655 213.099 Q599.715 216.849 594.993 216.849 Q592.145 216.849 590.085 215.738 Q588.048 214.603 586.706 212.289 M601.196 203.238 Q601.196 198.539 599.252 195.877 Q597.331 193.192 593.951 193.192 Q590.571 193.192 588.627 195.877 Q586.706 198.539 586.706 203.238 Q586.706 207.937 588.627 210.622 Q590.571 213.284 593.951 213.284 Q597.331 213.284 599.252 210.622 Q601.196 207.937 601.196 203.238 Z\" fill=\"#000000\" fill-rule=\"evenodd\" fill-opacity=\"1\" /><path clip-path=\"url(#clip470)\" d=\"M632.863 195.229 Q634.46 192.358 636.682 190.993 Q638.904 189.627 641.914 189.627 Q645.965 189.627 648.164 192.474 Q650.363 195.298 650.363 200.529 L650.363 216.178 L646.08 216.178 L646.08 200.668 Q646.08 196.942 644.761 195.136 Q643.441 193.33 640.733 193.33 Q637.423 193.33 635.502 195.53 Q633.58 197.729 633.58 201.525 L633.58 216.178 L629.298 216.178 L629.298 200.668 Q629.298 196.918 627.979 195.136 Q626.659 193.33 623.905 193.33 Q620.641 193.33 618.719 195.553 Q616.798 197.752 616.798 201.525 L616.798 216.178 L612.516 216.178 L612.516 190.252 L616.798 190.252 L616.798 194.28 Q618.256 191.895 620.293 190.761 Q622.33 189.627 625.131 189.627 Q627.955 189.627 629.923 191.062 Q631.914 192.497 632.863 195.229 Z\" fill=\"#000000\" fill-rule=\"evenodd\" fill-opacity=\"1\" /><path clip-path=\"url(#clip470)\" d=\"M658.858 190.252 L663.117 190.252 L663.117 216.178 L658.858 216.178 L658.858 190.252 M658.858 180.159 L663.117 180.159 L663.117 185.553 L658.858 185.553 L658.858 180.159 Z\" fill=\"#000000\" fill-rule=\"evenodd\" fill-opacity=\"1\" /><path clip-path=\"url(#clip470)\" d=\"M693.58 200.529 L693.58 216.178 L689.321 216.178 L689.321 200.668 Q689.321 196.988 687.886 195.159 Q686.451 193.33 683.58 193.33 Q680.131 193.33 678.14 195.53 Q676.15 197.729 676.15 201.525 L676.15 216.178 L671.867 216.178 L671.867 190.252 L676.15 190.252 L676.15 194.28 Q677.677 191.942 679.738 190.784 Q681.821 189.627 684.529 189.627 Q688.997 189.627 691.288 192.405 Q693.58 195.159 693.58 200.529 Z\" fill=\"#000000\" fill-rule=\"evenodd\" fill-opacity=\"1\" /><path clip-path=\"url(#clip470)\" d=\"M706.705 212.242 L723.024 212.242 L723.024 216.178 L701.08 216.178 L701.08 212.242 Q703.742 209.488 708.325 204.858 Q712.932 200.205 714.112 198.863 Q716.358 196.34 717.237 194.604 Q718.14 192.844 718.14 191.155 Q718.14 188.4 716.196 186.664 Q714.274 184.928 711.173 184.928 Q708.974 184.928 706.52 185.692 Q704.089 186.455 701.312 188.006 L701.312 183.284 Q704.136 182.15 706.589 181.571 Q709.043 180.993 711.08 180.993 Q716.45 180.993 719.645 183.678 Q722.839 186.363 722.839 190.854 Q722.839 192.983 722.029 194.905 Q721.242 196.803 719.136 199.395 Q718.557 200.067 715.455 203.284 Q712.353 206.479 706.705 212.242 Z\" fill=\"#000000\" fill-rule=\"evenodd\" fill-opacity=\"1\" /><path clip-path=\"url(#clip470)\" d=\"M742.839 184.696 Q739.228 184.696 737.399 188.261 Q735.594 191.803 735.594 198.932 Q735.594 206.039 737.399 209.604 Q739.228 213.145 742.839 213.145 Q746.473 213.145 748.279 209.604 Q750.108 206.039 750.108 198.932 Q750.108 191.803 748.279 188.261 Q746.473 184.696 742.839 184.696 M742.839 180.993 Q748.649 180.993 751.705 185.599 Q754.783 190.182 754.783 198.932 Q754.783 207.659 751.705 212.266 Q748.649 216.849 742.839 216.849 Q737.029 216.849 733.95 212.266 Q730.895 207.659 730.895 198.932 Q730.895 190.182 733.95 185.599 Q737.029 180.993 742.839 180.993 Z\" fill=\"#000000\" fill-rule=\"evenodd\" fill-opacity=\"1\" /><path clip-path=\"url(#clip470)\" d=\"M763.811 212.242 L771.45 212.242 L771.45 185.877 L763.14 187.543 L763.14 183.284 L771.404 181.618 L776.08 181.618 L776.08 212.242 L783.719 212.242 L783.719 216.178 L763.811 216.178 L763.811 212.242 Z\" fill=\"#000000\" fill-rule=\"evenodd\" fill-opacity=\"1\" /><path clip-path=\"url(#clip470)\" d=\"M797.191 212.242 L813.51 212.242 L813.51 216.178 L791.566 216.178 L791.566 212.242 Q794.228 209.488 798.811 204.858 Q803.417 200.205 804.598 198.863 Q806.843 196.34 807.723 194.604 Q808.626 192.844 808.626 191.155 Q808.626 188.4 806.681 186.664 Q804.76 184.928 801.658 184.928 Q799.459 184.928 797.005 185.692 Q794.575 186.455 791.797 188.006 L791.797 183.284 Q794.621 182.15 797.075 181.571 Q799.529 180.993 801.566 180.993 Q806.936 180.993 810.13 183.678 Q813.325 186.363 813.325 190.854 Q813.325 192.983 812.515 194.905 Q811.728 196.803 809.621 199.395 Q809.042 200.067 805.941 203.284 Q802.839 206.479 797.191 212.242 Z\" fill=\"#000000\" fill-rule=\"evenodd\" fill-opacity=\"1\" /></svg>\n"
      ]
     },
     "execution_count": 85,
     "metadata": {},
     "output_type": "execute_result"
    }
   ],
   "source": [
    "plot(1:11, jantempmin1922, label=\"jantempmin1922\")\n",
    "plot!(1:11, jantempmin2012, label=\"jantempmin2012\")"
   ]
  },
  {
   "cell_type": "markdown",
   "id": "24857924",
   "metadata": {},
   "source": [
    "# Now we are going to be plotting Max Jan average 1922-1932 and 2012-2022. "
   ]
  },
  {
   "cell_type": "code",
   "execution_count": 86,
   "id": "8f5916c0",
   "metadata": {},
   "outputs": [
    {
     "data": {
      "text/plain": [
       "11-element Vector{Any}:\n",
       " 22.85\n",
       " 25.65\n",
       " 25.65\n",
       " 23.65\n",
       " 28.95\n",
       " 22.6\n",
       " 30.9\n",
       " 13.95\n",
       " 22.3\n",
       " 31.05\n",
       " 33.0"
      ]
     },
     "execution_count": 86,
     "metadata": {},
     "output_type": "execute_result"
    }
   ],
   "source": [
    "#Jan 1922-1932 Max\n",
    "jantempmax1922=B[2:12,6]"
   ]
  },
  {
   "cell_type": "code",
   "execution_count": 87,
   "id": "e0923723",
   "metadata": {},
   "outputs": [
    {
     "data": {
      "text/plain": [
       "11-element Vector{Any}:\n",
       " 32.45\n",
       " 30.65\n",
       " 20.75\n",
       " 21.45\n",
       " 23.3\n",
       " 25.4\n",
       " 23.95\n",
       " 23.3\n",
       " 32.75\n",
       " 30.9\n",
       " 24.15"
      ]
     },
     "execution_count": 87,
     "metadata": {},
     "output_type": "execute_result"
    }
   ],
   "source": [
    "#Jan 2012-2022  max\n",
    "jantempmax2012=C[2:12,6]"
   ]
  },
  {
   "cell_type": "code",
   "execution_count": 88,
   "id": "c8465d91",
   "metadata": {},
   "outputs": [
    {
     "data": {
      "image/svg+xml": [
       "<?xml version=\"1.0\" encoding=\"utf-8\"?>\n",
       "<svg xmlns=\"http://www.w3.org/2000/svg\" xmlns:xlink=\"http://www.w3.org/1999/xlink\" width=\"600\" height=\"400\" viewBox=\"0 0 2400 1600\">\n",
       "<defs>\n",
       "  <clipPath id=\"clip510\">\n",
       "    <rect x=\"0\" y=\"0\" width=\"2400\" height=\"1600\"/>\n",
       "  </clipPath>\n",
       "</defs>\n",
       "<path clip-path=\"url(#clip510)\" d=\"\n",
       "M0 1600 L2400 1600 L2400 0 L0 0  Z\n",
       "  \" fill=\"#ffffff\" fill-rule=\"evenodd\" fill-opacity=\"1\"/>\n",
       "<defs>\n",
       "  <clipPath id=\"clip511\">\n",
       "    <rect x=\"480\" y=\"0\" width=\"1681\" height=\"1600\"/>\n",
       "  </clipPath>\n",
       "</defs>\n",
       "<path clip-path=\"url(#clip510)\" d=\"\n",
       "M140.696 1486.45 L2352.76 1486.45 L2352.76 47.2441 L140.696 47.2441  Z\n",
       "  \" fill=\"#ffffff\" fill-rule=\"evenodd\" fill-opacity=\"1\"/>\n",
       "<defs>\n",
       "  <clipPath id=\"clip512\">\n",
       "    <rect x=\"140\" y=\"47\" width=\"2213\" height=\"1440\"/>\n",
       "  </clipPath>\n",
       "</defs>\n",
       "<polyline clip-path=\"url(#clip512)\" style=\"stroke:#000000; stroke-linecap:round; stroke-linejoin:round; stroke-width:2; stroke-opacity:0.1; fill:none\" points=\"\n",
       "  411.986,1486.45 411.986,47.2441 \n",
       "  \"/>\n",
       "<polyline clip-path=\"url(#clip512)\" style=\"stroke:#000000; stroke-linecap:round; stroke-linejoin:round; stroke-width:2; stroke-opacity:0.1; fill:none\" points=\"\n",
       "  829.356,1486.45 829.356,47.2441 \n",
       "  \"/>\n",
       "<polyline clip-path=\"url(#clip512)\" style=\"stroke:#000000; stroke-linecap:round; stroke-linejoin:round; stroke-width:2; stroke-opacity:0.1; fill:none\" points=\"\n",
       "  1246.73,1486.45 1246.73,47.2441 \n",
       "  \"/>\n",
       "<polyline clip-path=\"url(#clip512)\" style=\"stroke:#000000; stroke-linecap:round; stroke-linejoin:round; stroke-width:2; stroke-opacity:0.1; fill:none\" points=\"\n",
       "  1664.1,1486.45 1664.1,47.2441 \n",
       "  \"/>\n",
       "<polyline clip-path=\"url(#clip512)\" style=\"stroke:#000000; stroke-linecap:round; stroke-linejoin:round; stroke-width:2; stroke-opacity:0.1; fill:none\" points=\"\n",
       "  2081.47,1486.45 2081.47,47.2441 \n",
       "  \"/>\n",
       "<polyline clip-path=\"url(#clip510)\" style=\"stroke:#000000; stroke-linecap:round; stroke-linejoin:round; stroke-width:4; stroke-opacity:1; fill:none\" points=\"\n",
       "  140.696,1486.45 2352.76,1486.45 \n",
       "  \"/>\n",
       "<polyline clip-path=\"url(#clip510)\" style=\"stroke:#000000; stroke-linecap:round; stroke-linejoin:round; stroke-width:4; stroke-opacity:1; fill:none\" points=\"\n",
       "  411.986,1486.45 411.986,1467.55 \n",
       "  \"/>\n",
       "<polyline clip-path=\"url(#clip510)\" style=\"stroke:#000000; stroke-linecap:round; stroke-linejoin:round; stroke-width:4; stroke-opacity:1; fill:none\" points=\"\n",
       "  829.356,1486.45 829.356,1467.55 \n",
       "  \"/>\n",
       "<polyline clip-path=\"url(#clip510)\" style=\"stroke:#000000; stroke-linecap:round; stroke-linejoin:round; stroke-width:4; stroke-opacity:1; fill:none\" points=\"\n",
       "  1246.73,1486.45 1246.73,1467.55 \n",
       "  \"/>\n",
       "<polyline clip-path=\"url(#clip510)\" style=\"stroke:#000000; stroke-linecap:round; stroke-linejoin:round; stroke-width:4; stroke-opacity:1; fill:none\" points=\"\n",
       "  1664.1,1486.45 1664.1,1467.55 \n",
       "  \"/>\n",
       "<polyline clip-path=\"url(#clip510)\" style=\"stroke:#000000; stroke-linecap:round; stroke-linejoin:round; stroke-width:4; stroke-opacity:1; fill:none\" points=\"\n",
       "  2081.47,1486.45 2081.47,1467.55 \n",
       "  \"/>\n",
       "<path clip-path=\"url(#clip510)\" d=\"M406.639 1544.91 L422.958 1544.91 L422.958 1548.85 L401.014 1548.85 L401.014 1544.91 Q403.676 1542.16 408.259 1537.53 Q412.866 1532.88 414.046 1531.53 Q416.291 1529.01 417.171 1527.27 Q418.074 1525.51 418.074 1523.82 Q418.074 1521.07 416.129 1519.33 Q414.208 1517.6 411.106 1517.6 Q408.907 1517.6 406.454 1518.36 Q404.023 1519.13 401.245 1520.68 L401.245 1515.95 Q404.069 1514.82 406.523 1514.24 Q408.977 1513.66 411.014 1513.66 Q416.384 1513.66 419.579 1516.35 Q422.773 1519.03 422.773 1523.52 Q422.773 1525.65 421.963 1527.57 Q421.176 1529.47 419.069 1532.07 Q418.491 1532.74 415.389 1535.95 Q412.287 1539.15 406.639 1544.91 Z\" fill=\"#000000\" fill-rule=\"evenodd\" fill-opacity=\"1\" /><path clip-path=\"url(#clip510)\" d=\"M832.365 1518.36 L820.56 1536.81 L832.365 1536.81 L832.365 1518.36 M831.138 1514.29 L837.018 1514.29 L837.018 1536.81 L841.948 1536.81 L841.948 1540.7 L837.018 1540.7 L837.018 1548.85 L832.365 1548.85 L832.365 1540.7 L816.763 1540.7 L816.763 1536.19 L831.138 1514.29 Z\" fill=\"#000000\" fill-rule=\"evenodd\" fill-opacity=\"1\" /><path clip-path=\"url(#clip510)\" d=\"M1247.13 1529.7 Q1243.98 1529.7 1242.13 1531.86 Q1240.3 1534.01 1240.3 1537.76 Q1240.3 1541.49 1242.13 1543.66 Q1243.98 1545.82 1247.13 1545.82 Q1250.28 1545.82 1252.11 1543.66 Q1253.96 1541.49 1253.96 1537.76 Q1253.96 1534.01 1252.11 1531.86 Q1250.28 1529.7 1247.13 1529.7 M1256.41 1515.05 L1256.41 1519.31 Q1254.65 1518.48 1252.85 1518.04 Q1251.07 1517.6 1249.31 1517.6 Q1244.68 1517.6 1242.22 1520.72 Q1239.79 1523.85 1239.45 1530.17 Q1240.81 1528.15 1242.87 1527.09 Q1244.93 1526 1247.41 1526 Q1252.62 1526 1255.63 1529.17 Q1258.66 1532.32 1258.66 1537.76 Q1258.66 1543.08 1255.51 1546.3 Q1252.36 1549.52 1247.13 1549.52 Q1241.14 1549.52 1237.96 1544.94 Q1234.79 1540.33 1234.79 1531.6 Q1234.79 1523.41 1238.68 1518.55 Q1242.57 1513.66 1249.12 1513.66 Q1250.88 1513.66 1252.66 1514.01 Q1254.47 1514.36 1256.41 1515.05 Z\" fill=\"#000000\" fill-rule=\"evenodd\" fill-opacity=\"1\" /><path clip-path=\"url(#clip510)\" d=\"M1664.1 1532.44 Q1660.76 1532.44 1658.84 1534.22 Q1656.94 1536 1656.94 1539.13 Q1656.94 1542.25 1658.84 1544.03 Q1660.76 1545.82 1664.1 1545.82 Q1667.43 1545.82 1669.35 1544.03 Q1671.27 1542.23 1671.27 1539.13 Q1671.27 1536 1669.35 1534.22 Q1667.45 1532.44 1664.1 1532.44 M1659.42 1530.45 Q1656.41 1529.7 1654.72 1527.64 Q1653.05 1525.58 1653.05 1522.62 Q1653.05 1518.48 1655.99 1516.07 Q1658.96 1513.66 1664.1 1513.66 Q1669.26 1513.66 1672.2 1516.07 Q1675.14 1518.48 1675.14 1522.62 Q1675.14 1525.58 1673.45 1527.64 Q1671.78 1529.7 1668.79 1530.45 Q1672.17 1531.23 1674.05 1533.52 Q1675.95 1535.82 1675.95 1539.13 Q1675.95 1544.15 1672.87 1546.83 Q1669.81 1549.52 1664.1 1549.52 Q1658.38 1549.52 1655.3 1546.83 Q1652.24 1544.15 1652.24 1539.13 Q1652.24 1535.82 1654.14 1533.52 Q1656.04 1531.23 1659.42 1530.45 M1657.71 1523.06 Q1657.71 1525.75 1659.37 1527.25 Q1661.06 1528.76 1664.1 1528.76 Q1667.1 1528.76 1668.79 1527.25 Q1670.51 1525.75 1670.51 1523.06 Q1670.51 1520.38 1668.79 1518.87 Q1667.1 1517.37 1664.1 1517.37 Q1661.06 1517.37 1659.37 1518.87 Q1657.71 1520.38 1657.71 1523.06 Z\" fill=\"#000000\" fill-rule=\"evenodd\" fill-opacity=\"1\" /><path clip-path=\"url(#clip510)\" d=\"M2056.15 1544.91 L2063.79 1544.91 L2063.79 1518.55 L2055.48 1520.21 L2055.48 1515.95 L2063.75 1514.29 L2068.42 1514.29 L2068.42 1544.91 L2076.06 1544.91 L2076.06 1548.85 L2056.15 1548.85 L2056.15 1544.91 Z\" fill=\"#000000\" fill-rule=\"evenodd\" fill-opacity=\"1\" /><path clip-path=\"url(#clip510)\" d=\"M2095.5 1517.37 Q2091.89 1517.37 2090.06 1520.93 Q2088.26 1524.47 2088.26 1531.6 Q2088.26 1538.71 2090.06 1542.27 Q2091.89 1545.82 2095.5 1545.82 Q2099.14 1545.82 2100.94 1542.27 Q2102.77 1538.71 2102.77 1531.6 Q2102.77 1524.47 2100.94 1520.93 Q2099.14 1517.37 2095.5 1517.37 M2095.5 1513.66 Q2101.31 1513.66 2104.37 1518.27 Q2107.45 1522.85 2107.45 1531.6 Q2107.45 1540.33 2104.37 1544.94 Q2101.31 1549.52 2095.5 1549.52 Q2089.69 1549.52 2086.62 1544.94 Q2083.56 1540.33 2083.56 1531.6 Q2083.56 1522.85 2086.62 1518.27 Q2089.69 1513.66 2095.5 1513.66 Z\" fill=\"#000000\" fill-rule=\"evenodd\" fill-opacity=\"1\" /><polyline clip-path=\"url(#clip512)\" style=\"stroke:#000000; stroke-linecap:round; stroke-linejoin:round; stroke-width:2; stroke-opacity:0.1; fill:none\" points=\"\n",
       "  140.696,1370.88 2352.76,1370.88 \n",
       "  \"/>\n",
       "<polyline clip-path=\"url(#clip512)\" style=\"stroke:#000000; stroke-linecap:round; stroke-linejoin:round; stroke-width:2; stroke-opacity:0.1; fill:none\" points=\"\n",
       "  140.696,1014.52 2352.76,1014.52 \n",
       "  \"/>\n",
       "<polyline clip-path=\"url(#clip512)\" style=\"stroke:#000000; stroke-linecap:round; stroke-linejoin:round; stroke-width:2; stroke-opacity:0.1; fill:none\" points=\"\n",
       "  140.696,658.156 2352.76,658.156 \n",
       "  \"/>\n",
       "<polyline clip-path=\"url(#clip512)\" style=\"stroke:#000000; stroke-linecap:round; stroke-linejoin:round; stroke-width:2; stroke-opacity:0.1; fill:none\" points=\"\n",
       "  140.696,301.794 2352.76,301.794 \n",
       "  \"/>\n",
       "<polyline clip-path=\"url(#clip510)\" style=\"stroke:#000000; stroke-linecap:round; stroke-linejoin:round; stroke-width:4; stroke-opacity:1; fill:none\" points=\"\n",
       "  140.696,1486.45 140.696,47.2441 \n",
       "  \"/>\n",
       "<polyline clip-path=\"url(#clip510)\" style=\"stroke:#000000; stroke-linecap:round; stroke-linejoin:round; stroke-width:4; stroke-opacity:1; fill:none\" points=\"\n",
       "  140.696,1370.88 159.593,1370.88 \n",
       "  \"/>\n",
       "<polyline clip-path=\"url(#clip510)\" style=\"stroke:#000000; stroke-linecap:round; stroke-linejoin:round; stroke-width:4; stroke-opacity:1; fill:none\" points=\"\n",
       "  140.696,1014.52 159.593,1014.52 \n",
       "  \"/>\n",
       "<polyline clip-path=\"url(#clip510)\" style=\"stroke:#000000; stroke-linecap:round; stroke-linejoin:round; stroke-width:4; stroke-opacity:1; fill:none\" points=\"\n",
       "  140.696,658.156 159.593,658.156 \n",
       "  \"/>\n",
       "<polyline clip-path=\"url(#clip510)\" style=\"stroke:#000000; stroke-linecap:round; stroke-linejoin:round; stroke-width:4; stroke-opacity:1; fill:none\" points=\"\n",
       "  140.696,301.794 159.593,301.794 \n",
       "  \"/>\n",
       "<path clip-path=\"url(#clip510)\" d=\"M54.3949 1384.22 L62.0337 1384.22 L62.0337 1357.86 L53.7236 1359.53 L53.7236 1355.27 L61.9874 1353.6 L66.6633 1353.6 L66.6633 1384.22 L74.3022 1384.22 L74.3022 1388.16 L54.3949 1388.16 L54.3949 1384.22 Z\" fill=\"#000000\" fill-rule=\"evenodd\" fill-opacity=\"1\" /><path clip-path=\"url(#clip510)\" d=\"M83.7929 1353.6 L102.149 1353.6 L102.149 1357.53 L88.0753 1357.53 L88.0753 1366.01 Q89.0938 1365.66 90.1123 1365.5 Q91.1308 1365.31 92.1493 1365.31 Q97.9363 1365.31 101.316 1368.48 Q104.696 1371.66 104.696 1377.07 Q104.696 1382.65 101.223 1385.75 Q97.7511 1388.83 91.4317 1388.83 Q89.2558 1388.83 86.9873 1388.46 Q84.7419 1388.09 82.3346 1387.35 L82.3346 1382.65 Q84.4179 1383.78 86.6401 1384.34 Q88.8623 1384.9 91.3391 1384.9 Q95.3437 1384.9 97.6817 1382.79 Q100.02 1380.68 100.02 1377.07 Q100.02 1373.46 97.6817 1371.35 Q95.3437 1369.25 91.3391 1369.25 Q89.4641 1369.25 87.5892 1369.66 Q85.7373 1370.08 83.7929 1370.96 L83.7929 1353.6 Z\" fill=\"#000000\" fill-rule=\"evenodd\" fill-opacity=\"1\" /><path clip-path=\"url(#clip510)\" d=\"M56.6171 1027.86 L72.9365 1027.86 L72.9365 1031.8 L50.9921 1031.8 L50.9921 1027.86 Q53.6541 1025.11 58.2375 1020.48 Q62.8439 1015.83 64.0245 1014.48 Q66.2698 1011.96 67.1494 1010.22 Q68.0522 1008.46 68.0522 1006.77 Q68.0522 1004.02 66.1078 1002.28 Q64.1865 1000.55 61.0847 1000.55 Q58.8856 1000.55 56.4319 1001.31 Q54.0014 1002.08 51.2236 1003.63 L51.2236 998.904 Q54.0477 997.77 56.5014 997.191 Q58.955 996.613 60.9921 996.613 Q66.3624 996.613 69.5568 999.298 Q72.7513 1001.98 72.7513 1006.47 Q72.7513 1008.6 71.9411 1010.52 Q71.1541 1012.42 69.0476 1015.02 Q68.4689 1015.69 65.367 1018.9 Q62.2652 1022.1 56.6171 1027.86 Z\" fill=\"#000000\" fill-rule=\"evenodd\" fill-opacity=\"1\" /><path clip-path=\"url(#clip510)\" d=\"M92.7512 1000.32 Q89.1401 1000.32 87.3114 1003.88 Q85.5058 1007.42 85.5058 1014.55 Q85.5058 1021.66 87.3114 1025.22 Q89.1401 1028.77 92.7512 1028.77 Q96.3854 1028.77 98.1909 1025.22 Q100.02 1021.66 100.02 1014.55 Q100.02 1007.42 98.1909 1003.88 Q96.3854 1000.32 92.7512 1000.32 M92.7512 996.613 Q98.5613 996.613 101.617 1001.22 Q104.696 1005.8 104.696 1014.55 Q104.696 1023.28 101.617 1027.89 Q98.5613 1032.47 92.7512 1032.47 Q86.941 1032.47 83.8623 1027.89 Q80.8068 1023.28 80.8068 1014.55 Q80.8068 1005.8 83.8623 1001.22 Q86.941 996.613 92.7512 996.613 Z\" fill=\"#000000\" fill-rule=\"evenodd\" fill-opacity=\"1\" /><path clip-path=\"url(#clip510)\" d=\"M57.6125 671.5 L73.9318 671.5 L73.9318 675.436 L51.9875 675.436 L51.9875 671.5 Q54.6495 668.746 59.2328 664.116 Q63.8393 659.463 65.0198 658.121 Q67.2652 655.598 68.1448 653.862 Q69.0476 652.102 69.0476 650.413 Q69.0476 647.658 67.1032 645.922 Q65.1819 644.186 62.08 644.186 Q59.881 644.186 57.4273 644.95 Q54.9967 645.713 52.219 647.264 L52.219 642.542 Q55.043 641.408 57.4967 640.829 Q59.9504 640.251 61.9874 640.251 Q67.3578 640.251 70.5522 642.936 Q73.7466 645.621 73.7466 650.112 Q73.7466 652.241 72.9365 654.163 Q72.1494 656.061 70.0429 658.653 Q69.4642 659.325 66.3624 662.542 Q63.2606 665.737 57.6125 671.5 Z\" fill=\"#000000\" fill-rule=\"evenodd\" fill-opacity=\"1\" /><path clip-path=\"url(#clip510)\" d=\"M83.7929 640.876 L102.149 640.876 L102.149 644.811 L88.0753 644.811 L88.0753 653.283 Q89.0938 652.936 90.1123 652.774 Q91.1308 652.588 92.1493 652.588 Q97.9363 652.588 101.316 655.76 Q104.696 658.931 104.696 664.348 Q104.696 669.926 101.223 673.028 Q97.7511 676.107 91.4317 676.107 Q89.2558 676.107 86.9873 675.736 Q84.7419 675.366 82.3346 674.625 L82.3346 669.926 Q84.4179 671.061 86.6401 671.616 Q88.8623 672.172 91.3391 672.172 Q95.3437 672.172 97.6817 670.065 Q100.02 667.959 100.02 664.348 Q100.02 660.737 97.6817 658.63 Q95.3437 656.524 91.3391 656.524 Q89.4641 656.524 87.5892 656.94 Q85.7373 657.357 83.7929 658.237 L83.7929 640.876 Z\" fill=\"#000000\" fill-rule=\"evenodd\" fill-opacity=\"1\" /><path clip-path=\"url(#clip510)\" d=\"M66.7559 300.439 Q70.1124 301.157 71.9874 303.425 Q73.8855 305.694 73.8855 309.027 Q73.8855 314.143 70.367 316.944 Q66.8485 319.745 60.3671 319.745 Q58.1912 319.745 55.8764 319.305 Q53.5847 318.888 51.131 318.032 L51.131 313.518 Q53.0754 314.652 55.3903 315.231 Q57.7051 315.81 60.2282 315.81 Q64.6263 315.81 66.918 314.074 Q69.2328 312.337 69.2328 309.027 Q69.2328 305.972 67.08 304.259 Q64.9504 302.523 61.131 302.523 L57.1032 302.523 L57.1032 298.68 L61.3161 298.68 Q64.7652 298.68 66.5939 297.314 Q68.4226 295.925 68.4226 293.333 Q68.4226 290.671 66.5245 289.259 Q64.6495 287.824 61.131 287.824 Q59.2097 287.824 57.0106 288.24 Q54.8115 288.657 52.1727 289.537 L52.1727 285.37 Q54.8347 284.629 57.1495 284.259 Q59.4875 283.889 61.5476 283.889 Q66.8717 283.889 69.9735 286.319 Q73.0753 288.726 73.0753 292.847 Q73.0753 295.717 71.4318 297.708 Q69.7883 299.675 66.7559 300.439 Z\" fill=\"#000000\" fill-rule=\"evenodd\" fill-opacity=\"1\" /><path clip-path=\"url(#clip510)\" d=\"M92.7512 287.592 Q89.1401 287.592 87.3114 291.157 Q85.5058 294.699 85.5058 301.828 Q85.5058 308.935 87.3114 312.499 Q89.1401 316.041 92.7512 316.041 Q96.3854 316.041 98.1909 312.499 Q100.02 308.935 100.02 301.828 Q100.02 294.699 98.1909 291.157 Q96.3854 287.592 92.7512 287.592 M92.7512 283.889 Q98.5613 283.889 101.617 288.495 Q104.696 293.078 104.696 301.828 Q104.696 310.555 101.617 315.161 Q98.5613 319.745 92.7512 319.745 Q86.941 319.745 83.8623 315.161 Q80.8068 310.555 80.8068 301.828 Q80.8068 293.078 83.8623 288.495 Q86.941 283.889 92.7512 283.889 Z\" fill=\"#000000\" fill-rule=\"evenodd\" fill-opacity=\"1\" /><polyline clip-path=\"url(#clip512)\" style=\"stroke:#009af9; stroke-linecap:round; stroke-linejoin:round; stroke-width:4; stroke-opacity:1; fill:none\" points=\"\n",
       "  203.301,811.391 411.986,611.828 620.671,611.828 829.356,754.373 1038.04,376.63 1246.73,829.209 1455.41,237.648 1664.1,1445.72 1872.78,850.591 2081.47,226.957 \n",
       "  2290.15,87.9763 \n",
       "  \"/>\n",
       "<polyline clip-path=\"url(#clip512)\" style=\"stroke:#e26f46; stroke-linecap:round; stroke-linejoin:round; stroke-width:4; stroke-opacity:1; fill:none\" points=\"\n",
       "  203.301,127.176 411.986,255.466 620.671,961.063 829.356,911.173 1038.04,779.319 1246.73,629.647 1455.41,732.992 1664.1,779.319 1872.78,105.794 2081.47,237.648 \n",
       "  2290.15,718.737 \n",
       "  \"/>\n",
       "<path clip-path=\"url(#clip510)\" d=\"\n",
       "M1641.47 1438.47 L2279.02 1438.47 L2279.02 1282.95 L1641.47 1282.95  Z\n",
       "  \" fill=\"#ffffff\" fill-rule=\"evenodd\" fill-opacity=\"1\"/>\n",
       "<polyline clip-path=\"url(#clip510)\" style=\"stroke:#000000; stroke-linecap:round; stroke-linejoin:round; stroke-width:4; stroke-opacity:1; fill:none\" points=\"\n",
       "  1641.47,1438.47 2279.02,1438.47 2279.02,1282.95 1641.47,1282.95 1641.47,1438.47 \n",
       "  \"/>\n",
       "<polyline clip-path=\"url(#clip510)\" style=\"stroke:#009af9; stroke-linecap:round; stroke-linejoin:round; stroke-width:4; stroke-opacity:1; fill:none\" points=\"\n",
       "  1666.05,1334.79 1813.52,1334.79 \n",
       "  \"/>\n",
       "<path clip-path=\"url(#clip510)\" d=\"M1843.43 1326.15 L1847.69 1326.15 L1847.69 1352.54 Q1847.69 1357.49 1845.79 1359.71 Q1843.91 1361.94 1839.72 1361.94 L1838.1 1361.94 L1838.1 1358.32 L1839.24 1358.32 Q1841.67 1358.32 1842.55 1357.19 Q1843.43 1356.08 1843.43 1352.54 L1843.43 1326.15 M1843.43 1316.06 L1847.69 1316.06 L1847.69 1321.45 L1843.43 1321.45 L1843.43 1316.06 Z\" fill=\"#000000\" fill-rule=\"evenodd\" fill-opacity=\"1\" /><path clip-path=\"url(#clip510)\" d=\"M1868.38 1339.04 Q1863.22 1339.04 1861.23 1340.22 Q1859.24 1341.4 1859.24 1344.25 Q1859.24 1346.52 1860.72 1347.86 Q1862.22 1349.18 1864.79 1349.18 Q1868.33 1349.18 1870.46 1346.68 Q1872.62 1344.16 1872.62 1339.99 L1872.62 1339.04 L1868.38 1339.04 M1876.87 1337.28 L1876.87 1352.07 L1872.62 1352.07 L1872.62 1348.14 Q1871.16 1350.5 1868.98 1351.63 Q1866.81 1352.75 1863.66 1352.75 Q1859.68 1352.75 1857.31 1350.52 Q1854.98 1348.28 1854.98 1344.53 Q1854.98 1340.15 1857.89 1337.93 Q1860.83 1335.71 1866.64 1335.71 L1872.62 1335.71 L1872.62 1335.29 Q1872.62 1332.35 1870.67 1330.76 Q1868.75 1329.13 1865.25 1329.13 Q1863.03 1329.13 1860.93 1329.67 Q1858.82 1330.2 1856.87 1331.26 L1856.87 1327.33 Q1859.21 1326.43 1861.41 1325.99 Q1863.61 1325.52 1865.69 1325.52 Q1871.32 1325.52 1874.1 1328.44 Q1876.87 1331.36 1876.87 1337.28 Z\" fill=\"#000000\" fill-rule=\"evenodd\" fill-opacity=\"1\" /><path clip-path=\"url(#clip510)\" d=\"M1907.2 1336.43 L1907.2 1352.07 L1902.94 1352.07 L1902.94 1336.57 Q1902.94 1332.88 1901.5 1331.06 Q1900.07 1329.23 1897.2 1329.23 Q1893.75 1329.23 1891.76 1331.43 Q1889.77 1333.63 1889.77 1337.42 L1889.77 1352.07 L1885.49 1352.07 L1885.49 1326.15 L1889.77 1326.15 L1889.77 1330.18 Q1891.3 1327.84 1893.36 1326.68 Q1895.44 1325.52 1898.15 1325.52 Q1902.62 1325.52 1904.91 1328.3 Q1907.2 1331.06 1907.2 1336.43 Z\" fill=\"#000000\" fill-rule=\"evenodd\" fill-opacity=\"1\" /><path clip-path=\"url(#clip510)\" d=\"M1919.91 1318.79 L1919.91 1326.15 L1928.68 1326.15 L1928.68 1329.46 L1919.91 1329.46 L1919.91 1343.53 Q1919.91 1346.7 1920.76 1347.61 Q1921.64 1348.51 1924.3 1348.51 L1928.68 1348.51 L1928.68 1352.07 L1924.3 1352.07 Q1919.37 1352.07 1917.5 1350.25 Q1915.62 1348.39 1915.62 1343.53 L1915.62 1329.46 L1912.5 1329.46 L1912.5 1326.15 L1915.62 1326.15 L1915.62 1318.79 L1919.91 1318.79 Z\" fill=\"#000000\" fill-rule=\"evenodd\" fill-opacity=\"1\" /><path clip-path=\"url(#clip510)\" d=\"M1956.46 1338.05 L1956.46 1340.13 L1936.87 1340.13 Q1937.15 1344.53 1939.51 1346.84 Q1941.9 1349.13 1946.13 1349.13 Q1948.59 1349.13 1950.88 1348.53 Q1953.19 1347.93 1955.46 1346.73 L1955.46 1350.75 Q1953.17 1351.73 1950.76 1352.24 Q1948.36 1352.75 1945.88 1352.75 Q1939.68 1352.75 1936.04 1349.13 Q1932.43 1345.52 1932.43 1339.37 Q1932.43 1333 1935.86 1329.27 Q1939.3 1325.52 1945.14 1325.52 Q1950.37 1325.52 1953.4 1328.9 Q1956.46 1332.26 1956.46 1338.05 M1952.2 1336.8 Q1952.15 1333.3 1950.23 1331.22 Q1948.33 1329.13 1945.18 1329.13 Q1941.62 1329.13 1939.47 1331.15 Q1937.34 1333.16 1937.01 1336.82 L1952.2 1336.8 Z\" fill=\"#000000\" fill-rule=\"evenodd\" fill-opacity=\"1\" /><path clip-path=\"url(#clip510)\" d=\"M1983.63 1331.13 Q1985.23 1328.26 1987.45 1326.89 Q1989.68 1325.52 1992.68 1325.52 Q1996.74 1325.52 1998.93 1328.37 Q2001.13 1331.19 2001.13 1336.43 L2001.13 1352.07 L1996.85 1352.07 L1996.85 1336.57 Q1996.85 1332.84 1995.53 1331.03 Q1994.21 1329.23 1991.5 1329.23 Q1988.19 1329.23 1986.27 1331.43 Q1984.35 1333.63 1984.35 1337.42 L1984.35 1352.07 L1980.07 1352.07 L1980.07 1336.57 Q1980.07 1332.82 1978.75 1331.03 Q1977.43 1329.23 1974.68 1329.23 Q1971.41 1329.23 1969.49 1331.45 Q1967.57 1333.65 1967.57 1337.42 L1967.57 1352.07 L1963.29 1352.07 L1963.29 1326.15 L1967.57 1326.15 L1967.57 1330.18 Q1969.03 1327.79 1971.06 1326.66 Q1973.1 1325.52 1975.9 1325.52 Q1978.73 1325.52 1980.69 1326.96 Q1982.68 1328.39 1983.63 1331.13 Z\" fill=\"#000000\" fill-rule=\"evenodd\" fill-opacity=\"1\" /><path clip-path=\"url(#clip510)\" d=\"M2013.75 1348.19 L2013.75 1361.94 L2009.47 1361.94 L2009.47 1326.15 L2013.75 1326.15 L2013.75 1330.08 Q2015.09 1327.77 2017.13 1326.66 Q2019.19 1325.52 2022.04 1325.52 Q2026.76 1325.52 2029.7 1329.27 Q2032.66 1333.02 2032.66 1339.13 Q2032.66 1345.25 2029.7 1349 Q2026.76 1352.75 2022.04 1352.75 Q2019.19 1352.75 2017.13 1351.63 Q2015.09 1350.5 2013.75 1348.19 M2028.24 1339.13 Q2028.24 1334.44 2026.3 1331.77 Q2024.37 1329.09 2020.99 1329.09 Q2017.61 1329.09 2015.67 1331.77 Q2013.75 1334.44 2013.75 1339.13 Q2013.75 1343.83 2015.67 1346.52 Q2017.61 1349.18 2020.99 1349.18 Q2024.37 1349.18 2026.3 1346.52 Q2028.24 1343.83 2028.24 1339.13 Z\" fill=\"#000000\" fill-rule=\"evenodd\" fill-opacity=\"1\" /><path clip-path=\"url(#clip510)\" d=\"M2059.91 1331.13 Q2061.5 1328.26 2063.73 1326.89 Q2065.95 1325.52 2068.96 1325.52 Q2073.01 1325.52 2075.21 1328.37 Q2077.41 1331.19 2077.41 1336.43 L2077.41 1352.07 L2073.12 1352.07 L2073.12 1336.57 Q2073.12 1332.84 2071.8 1331.03 Q2070.48 1329.23 2067.78 1329.23 Q2064.47 1329.23 2062.54 1331.43 Q2060.62 1333.63 2060.62 1337.42 L2060.62 1352.07 L2056.34 1352.07 L2056.34 1336.57 Q2056.34 1332.82 2055.02 1331.03 Q2053.7 1329.23 2050.95 1329.23 Q2047.68 1329.23 2045.76 1331.45 Q2043.84 1333.65 2043.84 1337.42 L2043.84 1352.07 L2039.56 1352.07 L2039.56 1326.15 L2043.84 1326.15 L2043.84 1330.18 Q2045.3 1327.79 2047.34 1326.66 Q2049.37 1325.52 2052.17 1325.52 Q2055 1325.52 2056.97 1326.96 Q2058.96 1328.39 2059.91 1331.13 Z\" fill=\"#000000\" fill-rule=\"evenodd\" fill-opacity=\"1\" /><path clip-path=\"url(#clip510)\" d=\"M2097.68 1339.04 Q2092.52 1339.04 2090.53 1340.22 Q2088.54 1341.4 2088.54 1344.25 Q2088.54 1346.52 2090.02 1347.86 Q2091.53 1349.18 2094.1 1349.18 Q2097.64 1349.18 2099.77 1346.68 Q2101.92 1344.16 2101.92 1339.99 L2101.92 1339.04 L2097.68 1339.04 M2106.18 1337.28 L2106.18 1352.07 L2101.92 1352.07 L2101.92 1348.14 Q2100.46 1350.5 2098.29 1351.63 Q2096.11 1352.75 2092.96 1352.75 Q2088.98 1352.75 2086.62 1350.52 Q2084.28 1348.28 2084.28 1344.53 Q2084.28 1340.15 2087.2 1337.93 Q2090.14 1335.71 2095.95 1335.71 L2101.92 1335.71 L2101.92 1335.29 Q2101.92 1332.35 2099.98 1330.76 Q2098.05 1329.13 2094.56 1329.13 Q2092.34 1329.13 2090.23 1329.67 Q2088.12 1330.2 2086.18 1331.26 L2086.18 1327.33 Q2088.52 1326.43 2090.72 1325.99 Q2092.92 1325.52 2095 1325.52 Q2100.62 1325.52 2103.4 1328.44 Q2106.18 1331.36 2106.18 1337.28 Z\" fill=\"#000000\" fill-rule=\"evenodd\" fill-opacity=\"1\" /><path clip-path=\"url(#clip510)\" d=\"M2136.5 1326.15 L2127.13 1338.76 L2136.99 1352.07 L2131.97 1352.07 L2124.42 1341.89 L2116.87 1352.07 L2111.85 1352.07 L2121.92 1338.51 L2112.71 1326.15 L2117.73 1326.15 L2124.6 1335.38 L2131.48 1326.15 L2136.5 1326.15 Z\" fill=\"#000000\" fill-rule=\"evenodd\" fill-opacity=\"1\" /><path clip-path=\"url(#clip510)\" d=\"M2144.42 1348.14 L2152.06 1348.14 L2152.06 1321.77 L2143.75 1323.44 L2143.75 1319.18 L2152.01 1317.51 L2156.69 1317.51 L2156.69 1348.14 L2164.33 1348.14 L2164.33 1352.07 L2144.42 1352.07 L2144.42 1348.14 Z\" fill=\"#000000\" fill-rule=\"evenodd\" fill-opacity=\"1\" /><path clip-path=\"url(#clip510)\" d=\"M2173.91 1351.36 L2173.91 1347.1 Q2175.67 1347.93 2177.47 1348.37 Q2179.28 1348.81 2181.02 1348.81 Q2185.65 1348.81 2188.08 1345.71 Q2190.53 1342.58 2190.88 1336.24 Q2189.54 1338.23 2187.47 1339.3 Q2185.41 1340.36 2182.91 1340.36 Q2177.73 1340.36 2174.7 1337.24 Q2171.69 1334.09 2171.69 1328.65 Q2171.69 1323.32 2174.84 1320.11 Q2177.98 1316.89 2183.22 1316.89 Q2189.21 1316.89 2192.36 1321.5 Q2195.53 1326.08 2195.53 1334.83 Q2195.53 1343 2191.64 1347.88 Q2187.78 1352.75 2181.22 1352.75 Q2179.47 1352.75 2177.66 1352.4 Q2175.85 1352.05 2173.91 1351.36 M2183.22 1336.7 Q2186.36 1336.7 2188.19 1334.55 Q2190.04 1332.4 2190.04 1328.65 Q2190.04 1324.92 2188.19 1322.77 Q2186.36 1320.59 2183.22 1320.59 Q2180.07 1320.59 2178.22 1322.77 Q2176.39 1324.92 2176.39 1328.65 Q2176.39 1332.4 2178.22 1334.55 Q2180.07 1336.7 2183.22 1336.7 Z\" fill=\"#000000\" fill-rule=\"evenodd\" fill-opacity=\"1\" /><path clip-path=\"url(#clip510)\" d=\"M2207.96 1348.14 L2224.28 1348.14 L2224.28 1352.07 L2202.34 1352.07 L2202.34 1348.14 Q2205 1345.38 2209.58 1340.76 Q2214.19 1336.1 2215.37 1334.76 Q2217.61 1332.24 2218.49 1330.5 Q2219.4 1328.74 2219.4 1327.05 Q2219.4 1324.3 2217.45 1322.56 Q2215.53 1320.82 2212.43 1320.82 Q2210.23 1320.82 2207.78 1321.59 Q2205.35 1322.35 2202.57 1323.9 L2202.57 1319.18 Q2205.39 1318.05 2207.85 1317.47 Q2210.3 1316.89 2212.34 1316.89 Q2217.71 1316.89 2220.9 1319.57 Q2224.1 1322.26 2224.1 1326.75 Q2224.1 1328.88 2223.28 1330.8 Q2222.5 1332.7 2220.39 1335.29 Q2219.81 1335.96 2216.71 1339.18 Q2213.61 1342.38 2207.96 1348.14 Z\" fill=\"#000000\" fill-rule=\"evenodd\" fill-opacity=\"1\" /><path clip-path=\"url(#clip510)\" d=\"M2238.12 1348.14 L2254.44 1348.14 L2254.44 1352.07 L2232.5 1352.07 L2232.5 1348.14 Q2235.16 1345.38 2239.74 1340.76 Q2244.35 1336.1 2245.53 1334.76 Q2247.78 1332.24 2248.66 1330.5 Q2249.56 1328.74 2249.56 1327.05 Q2249.56 1324.3 2247.61 1322.56 Q2245.69 1320.82 2242.59 1320.82 Q2240.39 1320.82 2237.94 1321.59 Q2235.51 1322.35 2232.73 1323.9 L2232.73 1319.18 Q2235.55 1318.05 2238.01 1317.47 Q2240.46 1316.89 2242.5 1316.89 Q2247.87 1316.89 2251.06 1319.57 Q2254.26 1322.26 2254.26 1326.75 Q2254.26 1328.88 2253.45 1330.8 Q2252.66 1332.7 2250.55 1335.29 Q2249.97 1335.96 2246.87 1339.18 Q2243.77 1342.38 2238.12 1348.14 Z\" fill=\"#000000\" fill-rule=\"evenodd\" fill-opacity=\"1\" /><polyline clip-path=\"url(#clip510)\" style=\"stroke:#e26f46; stroke-linecap:round; stroke-linejoin:round; stroke-width:4; stroke-opacity:1; fill:none\" points=\"\n",
       "  1666.05,1386.63 1813.52,1386.63 \n",
       "  \"/>\n",
       "<path clip-path=\"url(#clip510)\" d=\"M1843.43 1377.99 L1847.69 1377.99 L1847.69 1404.38 Q1847.69 1409.33 1845.79 1411.55 Q1843.91 1413.78 1839.72 1413.78 L1838.1 1413.78 L1838.1 1410.16 L1839.24 1410.16 Q1841.67 1410.16 1842.55 1409.03 Q1843.43 1407.92 1843.43 1404.38 L1843.43 1377.99 M1843.43 1367.9 L1847.69 1367.9 L1847.69 1373.29 L1843.43 1373.29 L1843.43 1367.9 Z\" fill=\"#000000\" fill-rule=\"evenodd\" fill-opacity=\"1\" /><path clip-path=\"url(#clip510)\" d=\"M1868.38 1390.88 Q1863.22 1390.88 1861.23 1392.06 Q1859.24 1393.24 1859.24 1396.09 Q1859.24 1398.36 1860.72 1399.7 Q1862.22 1401.02 1864.79 1401.02 Q1868.33 1401.02 1870.46 1398.52 Q1872.62 1396 1872.62 1391.83 L1872.62 1390.88 L1868.38 1390.88 M1876.87 1389.12 L1876.87 1403.91 L1872.62 1403.91 L1872.62 1399.98 Q1871.16 1402.34 1868.98 1403.47 Q1866.81 1404.59 1863.66 1404.59 Q1859.68 1404.59 1857.31 1402.36 Q1854.98 1400.12 1854.98 1396.37 Q1854.98 1391.99 1857.89 1389.77 Q1860.83 1387.55 1866.64 1387.55 L1872.62 1387.55 L1872.62 1387.13 Q1872.62 1384.19 1870.67 1382.6 Q1868.75 1380.97 1865.25 1380.97 Q1863.03 1380.97 1860.93 1381.51 Q1858.82 1382.04 1856.87 1383.1 L1856.87 1379.17 Q1859.21 1378.27 1861.41 1377.83 Q1863.61 1377.36 1865.69 1377.36 Q1871.32 1377.36 1874.1 1380.28 Q1876.87 1383.2 1876.87 1389.12 Z\" fill=\"#000000\" fill-rule=\"evenodd\" fill-opacity=\"1\" /><path clip-path=\"url(#clip510)\" d=\"M1907.2 1388.27 L1907.2 1403.91 L1902.94 1403.91 L1902.94 1388.41 Q1902.94 1384.72 1901.5 1382.9 Q1900.07 1381.07 1897.2 1381.07 Q1893.75 1381.07 1891.76 1383.27 Q1889.77 1385.47 1889.77 1389.26 L1889.77 1403.91 L1885.49 1403.91 L1885.49 1377.99 L1889.77 1377.99 L1889.77 1382.02 Q1891.3 1379.68 1893.36 1378.52 Q1895.44 1377.36 1898.15 1377.36 Q1902.62 1377.36 1904.91 1380.14 Q1907.2 1382.9 1907.2 1388.27 Z\" fill=\"#000000\" fill-rule=\"evenodd\" fill-opacity=\"1\" /><path clip-path=\"url(#clip510)\" d=\"M1919.91 1370.63 L1919.91 1377.99 L1928.68 1377.99 L1928.68 1381.3 L1919.91 1381.3 L1919.91 1395.37 Q1919.91 1398.54 1920.76 1399.45 Q1921.64 1400.35 1924.3 1400.35 L1928.68 1400.35 L1928.68 1403.91 L1924.3 1403.91 Q1919.37 1403.91 1917.5 1402.09 Q1915.62 1400.23 1915.62 1395.37 L1915.62 1381.3 L1912.5 1381.3 L1912.5 1377.99 L1915.62 1377.99 L1915.62 1370.63 L1919.91 1370.63 Z\" fill=\"#000000\" fill-rule=\"evenodd\" fill-opacity=\"1\" /><path clip-path=\"url(#clip510)\" d=\"M1956.46 1389.89 L1956.46 1391.97 L1936.87 1391.97 Q1937.15 1396.37 1939.51 1398.68 Q1941.9 1400.97 1946.13 1400.97 Q1948.59 1400.97 1950.88 1400.37 Q1953.19 1399.77 1955.46 1398.57 L1955.46 1402.59 Q1953.17 1403.57 1950.76 1404.08 Q1948.36 1404.59 1945.88 1404.59 Q1939.68 1404.59 1936.04 1400.97 Q1932.43 1397.36 1932.43 1391.21 Q1932.43 1384.84 1935.86 1381.11 Q1939.3 1377.36 1945.14 1377.36 Q1950.37 1377.36 1953.4 1380.74 Q1956.46 1384.1 1956.46 1389.89 M1952.2 1388.64 Q1952.15 1385.14 1950.23 1383.06 Q1948.33 1380.97 1945.18 1380.97 Q1941.62 1380.97 1939.47 1382.99 Q1937.34 1385 1937.01 1388.66 L1952.2 1388.64 Z\" fill=\"#000000\" fill-rule=\"evenodd\" fill-opacity=\"1\" /><path clip-path=\"url(#clip510)\" d=\"M1983.63 1382.97 Q1985.23 1380.1 1987.45 1378.73 Q1989.68 1377.36 1992.68 1377.36 Q1996.74 1377.36 1998.93 1380.21 Q2001.13 1383.03 2001.13 1388.27 L2001.13 1403.91 L1996.85 1403.91 L1996.85 1388.41 Q1996.85 1384.68 1995.53 1382.87 Q1994.21 1381.07 1991.5 1381.07 Q1988.19 1381.07 1986.27 1383.27 Q1984.35 1385.47 1984.35 1389.26 L1984.35 1403.91 L1980.07 1403.91 L1980.07 1388.41 Q1980.07 1384.66 1978.75 1382.87 Q1977.43 1381.07 1974.68 1381.07 Q1971.41 1381.07 1969.49 1383.29 Q1967.57 1385.49 1967.57 1389.26 L1967.57 1403.91 L1963.29 1403.91 L1963.29 1377.99 L1967.57 1377.99 L1967.57 1382.02 Q1969.03 1379.63 1971.06 1378.5 Q1973.1 1377.36 1975.9 1377.36 Q1978.73 1377.36 1980.69 1378.8 Q1982.68 1380.23 1983.63 1382.97 Z\" fill=\"#000000\" fill-rule=\"evenodd\" fill-opacity=\"1\" /><path clip-path=\"url(#clip510)\" d=\"M2013.75 1400.03 L2013.75 1413.78 L2009.47 1413.78 L2009.47 1377.99 L2013.75 1377.99 L2013.75 1381.92 Q2015.09 1379.61 2017.13 1378.5 Q2019.19 1377.36 2022.04 1377.36 Q2026.76 1377.36 2029.7 1381.11 Q2032.66 1384.86 2032.66 1390.97 Q2032.66 1397.09 2029.7 1400.84 Q2026.76 1404.59 2022.04 1404.59 Q2019.19 1404.59 2017.13 1403.47 Q2015.09 1402.34 2013.75 1400.03 M2028.24 1390.97 Q2028.24 1386.28 2026.3 1383.61 Q2024.37 1380.93 2020.99 1380.93 Q2017.61 1380.93 2015.67 1383.61 Q2013.75 1386.28 2013.75 1390.97 Q2013.75 1395.67 2015.67 1398.36 Q2017.61 1401.02 2020.99 1401.02 Q2024.37 1401.02 2026.3 1398.36 Q2028.24 1395.67 2028.24 1390.97 Z\" fill=\"#000000\" fill-rule=\"evenodd\" fill-opacity=\"1\" /><path clip-path=\"url(#clip510)\" d=\"M2059.91 1382.97 Q2061.5 1380.1 2063.73 1378.73 Q2065.95 1377.36 2068.96 1377.36 Q2073.01 1377.36 2075.21 1380.21 Q2077.41 1383.03 2077.41 1388.27 L2077.41 1403.91 L2073.12 1403.91 L2073.12 1388.41 Q2073.12 1384.68 2071.8 1382.87 Q2070.48 1381.07 2067.78 1381.07 Q2064.47 1381.07 2062.54 1383.27 Q2060.62 1385.47 2060.62 1389.26 L2060.62 1403.91 L2056.34 1403.91 L2056.34 1388.41 Q2056.34 1384.66 2055.02 1382.87 Q2053.7 1381.07 2050.95 1381.07 Q2047.68 1381.07 2045.76 1383.29 Q2043.84 1385.49 2043.84 1389.26 L2043.84 1403.91 L2039.56 1403.91 L2039.56 1377.99 L2043.84 1377.99 L2043.84 1382.02 Q2045.3 1379.63 2047.34 1378.5 Q2049.37 1377.36 2052.17 1377.36 Q2055 1377.36 2056.97 1378.8 Q2058.96 1380.23 2059.91 1382.97 Z\" fill=\"#000000\" fill-rule=\"evenodd\" fill-opacity=\"1\" /><path clip-path=\"url(#clip510)\" d=\"M2097.68 1390.88 Q2092.52 1390.88 2090.53 1392.06 Q2088.54 1393.24 2088.54 1396.09 Q2088.54 1398.36 2090.02 1399.7 Q2091.53 1401.02 2094.1 1401.02 Q2097.64 1401.02 2099.77 1398.52 Q2101.92 1396 2101.92 1391.83 L2101.92 1390.88 L2097.68 1390.88 M2106.18 1389.12 L2106.18 1403.91 L2101.92 1403.91 L2101.92 1399.98 Q2100.46 1402.34 2098.29 1403.47 Q2096.11 1404.59 2092.96 1404.59 Q2088.98 1404.59 2086.62 1402.36 Q2084.28 1400.12 2084.28 1396.37 Q2084.28 1391.99 2087.2 1389.77 Q2090.14 1387.55 2095.95 1387.55 L2101.92 1387.55 L2101.92 1387.13 Q2101.92 1384.19 2099.98 1382.6 Q2098.05 1380.97 2094.56 1380.97 Q2092.34 1380.97 2090.23 1381.51 Q2088.12 1382.04 2086.18 1383.1 L2086.18 1379.17 Q2088.52 1378.27 2090.72 1377.83 Q2092.92 1377.36 2095 1377.36 Q2100.62 1377.36 2103.4 1380.28 Q2106.18 1383.2 2106.18 1389.12 Z\" fill=\"#000000\" fill-rule=\"evenodd\" fill-opacity=\"1\" /><path clip-path=\"url(#clip510)\" d=\"M2136.5 1377.99 L2127.13 1390.6 L2136.99 1403.91 L2131.97 1403.91 L2124.42 1393.73 L2116.87 1403.91 L2111.85 1403.91 L2121.92 1390.35 L2112.71 1377.99 L2117.73 1377.99 L2124.6 1387.22 L2131.48 1377.99 L2136.5 1377.99 Z\" fill=\"#000000\" fill-rule=\"evenodd\" fill-opacity=\"1\" /><path clip-path=\"url(#clip510)\" d=\"M2147.64 1399.98 L2163.96 1399.98 L2163.96 1403.91 L2142.01 1403.91 L2142.01 1399.98 Q2144.67 1397.22 2149.26 1392.6 Q2153.86 1387.94 2155.04 1386.6 Q2157.29 1384.08 2158.17 1382.34 Q2159.07 1380.58 2159.07 1378.89 Q2159.07 1376.14 2157.13 1374.4 Q2155.21 1372.66 2152.1 1372.66 Q2149.91 1372.66 2147.45 1373.43 Q2145.02 1374.19 2142.24 1375.74 L2142.24 1371.02 Q2145.07 1369.89 2147.52 1369.31 Q2149.98 1368.73 2152.01 1368.73 Q2157.38 1368.73 2160.58 1371.41 Q2163.77 1374.1 2163.77 1378.59 Q2163.77 1380.72 2162.96 1382.64 Q2162.17 1384.54 2160.07 1387.13 Q2159.49 1387.8 2156.39 1391.02 Q2153.29 1394.22 2147.64 1399.98 Z\" fill=\"#000000\" fill-rule=\"evenodd\" fill-opacity=\"1\" /><path clip-path=\"url(#clip510)\" d=\"M2183.77 1372.43 Q2180.16 1372.43 2178.33 1376 Q2176.53 1379.54 2176.53 1386.67 Q2176.53 1393.78 2178.33 1397.34 Q2180.16 1400.88 2183.77 1400.88 Q2187.41 1400.88 2189.21 1397.34 Q2191.04 1393.78 2191.04 1386.67 Q2191.04 1379.54 2189.21 1376 Q2187.41 1372.43 2183.77 1372.43 M2183.77 1368.73 Q2189.58 1368.73 2192.64 1373.34 Q2195.72 1377.92 2195.72 1386.67 Q2195.72 1395.4 2192.64 1400 Q2189.58 1404.59 2183.77 1404.59 Q2177.96 1404.59 2174.88 1400 Q2171.83 1395.4 2171.83 1386.67 Q2171.83 1377.92 2174.88 1373.34 Q2177.96 1368.73 2183.77 1368.73 Z\" fill=\"#000000\" fill-rule=\"evenodd\" fill-opacity=\"1\" /><path clip-path=\"url(#clip510)\" d=\"M2204.74 1399.98 L2212.38 1399.98 L2212.38 1373.61 L2204.07 1375.28 L2204.07 1371.02 L2212.34 1369.35 L2217.01 1369.35 L2217.01 1399.98 L2224.65 1399.98 L2224.65 1403.91 L2204.74 1403.91 L2204.74 1399.98 Z\" fill=\"#000000\" fill-rule=\"evenodd\" fill-opacity=\"1\" /><path clip-path=\"url(#clip510)\" d=\"M2238.12 1399.98 L2254.44 1399.98 L2254.44 1403.91 L2232.5 1403.91 L2232.5 1399.98 Q2235.16 1397.22 2239.74 1392.6 Q2244.35 1387.94 2245.53 1386.6 Q2247.78 1384.08 2248.66 1382.34 Q2249.56 1380.58 2249.56 1378.89 Q2249.56 1376.14 2247.61 1374.4 Q2245.69 1372.66 2242.59 1372.66 Q2240.39 1372.66 2237.94 1373.43 Q2235.51 1374.19 2232.73 1375.74 L2232.73 1371.02 Q2235.55 1369.89 2238.01 1369.31 Q2240.46 1368.73 2242.5 1368.73 Q2247.87 1368.73 2251.06 1371.41 Q2254.26 1374.1 2254.26 1378.59 Q2254.26 1380.72 2253.45 1382.64 Q2252.66 1384.54 2250.55 1387.13 Q2249.97 1387.8 2246.87 1391.02 Q2243.77 1394.22 2238.12 1399.98 Z\" fill=\"#000000\" fill-rule=\"evenodd\" fill-opacity=\"1\" /></svg>\n"
      ]
     },
     "execution_count": 88,
     "metadata": {},
     "output_type": "execute_result"
    }
   ],
   "source": [
    "plot(1:11, jantempmax1922, label=\"jantempmax1922\")\n",
    "plot!(1:11, jantempmax2012, label=\"jantempmax2012\")"
   ]
  },
  {
   "cell_type": "markdown",
   "id": "9af2bda6",
   "metadata": {},
   "source": [
    "# Now we are goign to graph Average Jan temperature 1922-1932 and Jan 2012-2022"
   ]
  },
  {
   "cell_type": "code",
   "execution_count": 89,
   "id": "77c70f51",
   "metadata": {},
   "outputs": [
    {
     "data": {
      "text/plain": [
       "11-element Vector{Any}:\n",
       " 14.25\n",
       " 18.43\n",
       "  5.65\n",
       " 16.78\n",
       " 21.95\n",
       " 15.18\n",
       " 24.1\n",
       "  5.5\n",
       " 15.65\n",
       " 24.43\n",
       " 27.75"
      ]
     },
     "execution_count": 89,
     "metadata": {},
     "output_type": "execute_result"
    }
   ],
   "source": [
    "#Jan 1922-1932 Avg\n",
    "jantempavg1922=B[2:12,7]"
   ]
  },
  {
   "cell_type": "code",
   "execution_count": 90,
   "id": "72ca37a5",
   "metadata": {},
   "outputs": [
    {
     "data": {
      "text/plain": [
       "11-element Vector{Any}:\n",
       " 32.45\n",
       " 30.65\n",
       " 20.75\n",
       " 21.45\n",
       " 23.3\n",
       " 25.4\n",
       " 23.95\n",
       " 23.3\n",
       " 32.75\n",
       " 30.9\n",
       " 24.15"
      ]
     },
     "execution_count": 90,
     "metadata": {},
     "output_type": "execute_result"
    }
   ],
   "source": [
    "#Jan 2012-2022  Avg\n",
    "jantempavg2012=C[2:12,6]"
   ]
  },
  {
   "cell_type": "code",
   "execution_count": 91,
   "id": "0a2ab75d",
   "metadata": {},
   "outputs": [
    {
     "data": {
      "image/svg+xml": [
       "<?xml version=\"1.0\" encoding=\"utf-8\"?>\n",
       "<svg xmlns=\"http://www.w3.org/2000/svg\" xmlns:xlink=\"http://www.w3.org/1999/xlink\" width=\"600\" height=\"400\" viewBox=\"0 0 2400 1600\">\n",
       "<defs>\n",
       "  <clipPath id=\"clip550\">\n",
       "    <rect x=\"0\" y=\"0\" width=\"2400\" height=\"1600\"/>\n",
       "  </clipPath>\n",
       "</defs>\n",
       "<path clip-path=\"url(#clip550)\" d=\"\n",
       "M0 1600 L2400 1600 L2400 0 L0 0  Z\n",
       "  \" fill=\"#ffffff\" fill-rule=\"evenodd\" fill-opacity=\"1\"/>\n",
       "<defs>\n",
       "  <clipPath id=\"clip551\">\n",
       "    <rect x=\"480\" y=\"0\" width=\"1681\" height=\"1600\"/>\n",
       "  </clipPath>\n",
       "</defs>\n",
       "<path clip-path=\"url(#clip550)\" d=\"\n",
       "M140.696 1486.45 L2352.76 1486.45 L2352.76 47.2441 L140.696 47.2441  Z\n",
       "  \" fill=\"#ffffff\" fill-rule=\"evenodd\" fill-opacity=\"1\"/>\n",
       "<defs>\n",
       "  <clipPath id=\"clip552\">\n",
       "    <rect x=\"140\" y=\"47\" width=\"2213\" height=\"1440\"/>\n",
       "  </clipPath>\n",
       "</defs>\n",
       "<polyline clip-path=\"url(#clip552)\" style=\"stroke:#000000; stroke-linecap:round; stroke-linejoin:round; stroke-width:2; stroke-opacity:0.1; fill:none\" points=\"\n",
       "  411.986,1486.45 411.986,47.2441 \n",
       "  \"/>\n",
       "<polyline clip-path=\"url(#clip552)\" style=\"stroke:#000000; stroke-linecap:round; stroke-linejoin:round; stroke-width:2; stroke-opacity:0.1; fill:none\" points=\"\n",
       "  829.356,1486.45 829.356,47.2441 \n",
       "  \"/>\n",
       "<polyline clip-path=\"url(#clip552)\" style=\"stroke:#000000; stroke-linecap:round; stroke-linejoin:round; stroke-width:2; stroke-opacity:0.1; fill:none\" points=\"\n",
       "  1246.73,1486.45 1246.73,47.2441 \n",
       "  \"/>\n",
       "<polyline clip-path=\"url(#clip552)\" style=\"stroke:#000000; stroke-linecap:round; stroke-linejoin:round; stroke-width:2; stroke-opacity:0.1; fill:none\" points=\"\n",
       "  1664.1,1486.45 1664.1,47.2441 \n",
       "  \"/>\n",
       "<polyline clip-path=\"url(#clip552)\" style=\"stroke:#000000; stroke-linecap:round; stroke-linejoin:round; stroke-width:2; stroke-opacity:0.1; fill:none\" points=\"\n",
       "  2081.47,1486.45 2081.47,47.2441 \n",
       "  \"/>\n",
       "<polyline clip-path=\"url(#clip550)\" style=\"stroke:#000000; stroke-linecap:round; stroke-linejoin:round; stroke-width:4; stroke-opacity:1; fill:none\" points=\"\n",
       "  140.696,1486.45 2352.76,1486.45 \n",
       "  \"/>\n",
       "<polyline clip-path=\"url(#clip550)\" style=\"stroke:#000000; stroke-linecap:round; stroke-linejoin:round; stroke-width:4; stroke-opacity:1; fill:none\" points=\"\n",
       "  411.986,1486.45 411.986,1467.55 \n",
       "  \"/>\n",
       "<polyline clip-path=\"url(#clip550)\" style=\"stroke:#000000; stroke-linecap:round; stroke-linejoin:round; stroke-width:4; stroke-opacity:1; fill:none\" points=\"\n",
       "  829.356,1486.45 829.356,1467.55 \n",
       "  \"/>\n",
       "<polyline clip-path=\"url(#clip550)\" style=\"stroke:#000000; stroke-linecap:round; stroke-linejoin:round; stroke-width:4; stroke-opacity:1; fill:none\" points=\"\n",
       "  1246.73,1486.45 1246.73,1467.55 \n",
       "  \"/>\n",
       "<polyline clip-path=\"url(#clip550)\" style=\"stroke:#000000; stroke-linecap:round; stroke-linejoin:round; stroke-width:4; stroke-opacity:1; fill:none\" points=\"\n",
       "  1664.1,1486.45 1664.1,1467.55 \n",
       "  \"/>\n",
       "<polyline clip-path=\"url(#clip550)\" style=\"stroke:#000000; stroke-linecap:round; stroke-linejoin:round; stroke-width:4; stroke-opacity:1; fill:none\" points=\"\n",
       "  2081.47,1486.45 2081.47,1467.55 \n",
       "  \"/>\n",
       "<path clip-path=\"url(#clip550)\" d=\"M406.639 1544.91 L422.958 1544.91 L422.958 1548.85 L401.014 1548.85 L401.014 1544.91 Q403.676 1542.16 408.259 1537.53 Q412.866 1532.88 414.046 1531.53 Q416.291 1529.01 417.171 1527.27 Q418.074 1525.51 418.074 1523.82 Q418.074 1521.07 416.129 1519.33 Q414.208 1517.6 411.106 1517.6 Q408.907 1517.6 406.454 1518.36 Q404.023 1519.13 401.245 1520.68 L401.245 1515.95 Q404.069 1514.82 406.523 1514.24 Q408.977 1513.66 411.014 1513.66 Q416.384 1513.66 419.579 1516.35 Q422.773 1519.03 422.773 1523.52 Q422.773 1525.65 421.963 1527.57 Q421.176 1529.47 419.069 1532.07 Q418.491 1532.74 415.389 1535.95 Q412.287 1539.15 406.639 1544.91 Z\" fill=\"#000000\" fill-rule=\"evenodd\" fill-opacity=\"1\" /><path clip-path=\"url(#clip550)\" d=\"M832.365 1518.36 L820.56 1536.81 L832.365 1536.81 L832.365 1518.36 M831.138 1514.29 L837.018 1514.29 L837.018 1536.81 L841.948 1536.81 L841.948 1540.7 L837.018 1540.7 L837.018 1548.85 L832.365 1548.85 L832.365 1540.7 L816.763 1540.7 L816.763 1536.19 L831.138 1514.29 Z\" fill=\"#000000\" fill-rule=\"evenodd\" fill-opacity=\"1\" /><path clip-path=\"url(#clip550)\" d=\"M1247.13 1529.7 Q1243.98 1529.7 1242.13 1531.86 Q1240.3 1534.01 1240.3 1537.76 Q1240.3 1541.49 1242.13 1543.66 Q1243.98 1545.82 1247.13 1545.82 Q1250.28 1545.82 1252.11 1543.66 Q1253.96 1541.49 1253.96 1537.76 Q1253.96 1534.01 1252.11 1531.86 Q1250.28 1529.7 1247.13 1529.7 M1256.41 1515.05 L1256.41 1519.31 Q1254.65 1518.48 1252.85 1518.04 Q1251.07 1517.6 1249.31 1517.6 Q1244.68 1517.6 1242.22 1520.72 Q1239.79 1523.85 1239.45 1530.17 Q1240.81 1528.15 1242.87 1527.09 Q1244.93 1526 1247.41 1526 Q1252.62 1526 1255.63 1529.17 Q1258.66 1532.32 1258.66 1537.76 Q1258.66 1543.08 1255.51 1546.3 Q1252.36 1549.52 1247.13 1549.52 Q1241.14 1549.52 1237.96 1544.94 Q1234.79 1540.33 1234.79 1531.6 Q1234.79 1523.41 1238.68 1518.55 Q1242.57 1513.66 1249.12 1513.66 Q1250.88 1513.66 1252.66 1514.01 Q1254.47 1514.36 1256.41 1515.05 Z\" fill=\"#000000\" fill-rule=\"evenodd\" fill-opacity=\"1\" /><path clip-path=\"url(#clip550)\" d=\"M1664.1 1532.44 Q1660.76 1532.44 1658.84 1534.22 Q1656.94 1536 1656.94 1539.13 Q1656.94 1542.25 1658.84 1544.03 Q1660.76 1545.82 1664.1 1545.82 Q1667.43 1545.82 1669.35 1544.03 Q1671.27 1542.23 1671.27 1539.13 Q1671.27 1536 1669.35 1534.22 Q1667.45 1532.44 1664.1 1532.44 M1659.42 1530.45 Q1656.41 1529.7 1654.72 1527.64 Q1653.05 1525.58 1653.05 1522.62 Q1653.05 1518.48 1655.99 1516.07 Q1658.96 1513.66 1664.1 1513.66 Q1669.26 1513.66 1672.2 1516.07 Q1675.14 1518.48 1675.14 1522.62 Q1675.14 1525.58 1673.45 1527.64 Q1671.78 1529.7 1668.79 1530.45 Q1672.17 1531.23 1674.05 1533.52 Q1675.95 1535.82 1675.95 1539.13 Q1675.95 1544.15 1672.87 1546.83 Q1669.81 1549.52 1664.1 1549.52 Q1658.38 1549.52 1655.3 1546.83 Q1652.24 1544.15 1652.24 1539.13 Q1652.24 1535.82 1654.14 1533.52 Q1656.04 1531.23 1659.42 1530.45 M1657.71 1523.06 Q1657.71 1525.75 1659.37 1527.25 Q1661.06 1528.76 1664.1 1528.76 Q1667.1 1528.76 1668.79 1527.25 Q1670.51 1525.75 1670.51 1523.06 Q1670.51 1520.38 1668.79 1518.87 Q1667.1 1517.37 1664.1 1517.37 Q1661.06 1517.37 1659.37 1518.87 Q1657.71 1520.38 1657.71 1523.06 Z\" fill=\"#000000\" fill-rule=\"evenodd\" fill-opacity=\"1\" /><path clip-path=\"url(#clip550)\" d=\"M2056.15 1544.91 L2063.79 1544.91 L2063.79 1518.55 L2055.48 1520.21 L2055.48 1515.95 L2063.75 1514.29 L2068.42 1514.29 L2068.42 1544.91 L2076.06 1544.91 L2076.06 1548.85 L2056.15 1548.85 L2056.15 1544.91 Z\" fill=\"#000000\" fill-rule=\"evenodd\" fill-opacity=\"1\" /><path clip-path=\"url(#clip550)\" d=\"M2095.5 1517.37 Q2091.89 1517.37 2090.06 1520.93 Q2088.26 1524.47 2088.26 1531.6 Q2088.26 1538.71 2090.06 1542.27 Q2091.89 1545.82 2095.5 1545.82 Q2099.14 1545.82 2100.94 1542.27 Q2102.77 1538.71 2102.77 1531.6 Q2102.77 1524.47 2100.94 1520.93 Q2099.14 1517.37 2095.5 1517.37 M2095.5 1513.66 Q2101.31 1513.66 2104.37 1518.27 Q2107.45 1522.85 2107.45 1531.6 Q2107.45 1540.33 2104.37 1544.94 Q2101.31 1549.52 2095.5 1549.52 Q2089.69 1549.52 2086.62 1544.94 Q2083.56 1540.33 2083.56 1531.6 Q2083.56 1522.85 2086.62 1518.27 Q2089.69 1513.66 2095.5 1513.66 Z\" fill=\"#000000\" fill-rule=\"evenodd\" fill-opacity=\"1\" /><polyline clip-path=\"url(#clip552)\" style=\"stroke:#000000; stroke-linecap:round; stroke-linejoin:round; stroke-width:2; stroke-opacity:0.1; fill:none\" points=\"\n",
       "  140.696,1470.63 2352.76,1470.63 \n",
       "  \"/>\n",
       "<polyline clip-path=\"url(#clip552)\" style=\"stroke:#000000; stroke-linecap:round; stroke-linejoin:round; stroke-width:2; stroke-opacity:0.1; fill:none\" points=\"\n",
       "  140.696,1221.5 2352.76,1221.5 \n",
       "  \"/>\n",
       "<polyline clip-path=\"url(#clip552)\" style=\"stroke:#000000; stroke-linecap:round; stroke-linejoin:round; stroke-width:2; stroke-opacity:0.1; fill:none\" points=\"\n",
       "  140.696,972.375 2352.76,972.375 \n",
       "  \"/>\n",
       "<polyline clip-path=\"url(#clip552)\" style=\"stroke:#000000; stroke-linecap:round; stroke-linejoin:round; stroke-width:2; stroke-opacity:0.1; fill:none\" points=\"\n",
       "  140.696,723.249 2352.76,723.249 \n",
       "  \"/>\n",
       "<polyline clip-path=\"url(#clip552)\" style=\"stroke:#000000; stroke-linecap:round; stroke-linejoin:round; stroke-width:2; stroke-opacity:0.1; fill:none\" points=\"\n",
       "  140.696,474.122 2352.76,474.122 \n",
       "  \"/>\n",
       "<polyline clip-path=\"url(#clip552)\" style=\"stroke:#000000; stroke-linecap:round; stroke-linejoin:round; stroke-width:2; stroke-opacity:0.1; fill:none\" points=\"\n",
       "  140.696,224.996 2352.76,224.996 \n",
       "  \"/>\n",
       "<polyline clip-path=\"url(#clip550)\" style=\"stroke:#000000; stroke-linecap:round; stroke-linejoin:round; stroke-width:4; stroke-opacity:1; fill:none\" points=\"\n",
       "  140.696,1486.45 140.696,47.2441 \n",
       "  \"/>\n",
       "<polyline clip-path=\"url(#clip550)\" style=\"stroke:#000000; stroke-linecap:round; stroke-linejoin:round; stroke-width:4; stroke-opacity:1; fill:none\" points=\"\n",
       "  140.696,1470.63 159.593,1470.63 \n",
       "  \"/>\n",
       "<polyline clip-path=\"url(#clip550)\" style=\"stroke:#000000; stroke-linecap:round; stroke-linejoin:round; stroke-width:4; stroke-opacity:1; fill:none\" points=\"\n",
       "  140.696,1221.5 159.593,1221.5 \n",
       "  \"/>\n",
       "<polyline clip-path=\"url(#clip550)\" style=\"stroke:#000000; stroke-linecap:round; stroke-linejoin:round; stroke-width:4; stroke-opacity:1; fill:none\" points=\"\n",
       "  140.696,972.375 159.593,972.375 \n",
       "  \"/>\n",
       "<polyline clip-path=\"url(#clip550)\" style=\"stroke:#000000; stroke-linecap:round; stroke-linejoin:round; stroke-width:4; stroke-opacity:1; fill:none\" points=\"\n",
       "  140.696,723.249 159.593,723.249 \n",
       "  \"/>\n",
       "<polyline clip-path=\"url(#clip550)\" style=\"stroke:#000000; stroke-linecap:round; stroke-linejoin:round; stroke-width:4; stroke-opacity:1; fill:none\" points=\"\n",
       "  140.696,474.122 159.593,474.122 \n",
       "  \"/>\n",
       "<polyline clip-path=\"url(#clip550)\" style=\"stroke:#000000; stroke-linecap:round; stroke-linejoin:round; stroke-width:4; stroke-opacity:1; fill:none\" points=\"\n",
       "  140.696,224.996 159.593,224.996 \n",
       "  \"/>\n",
       "<path clip-path=\"url(#clip550)\" d=\"M83.7929 1453.35 L102.149 1453.35 L102.149 1457.28 L88.0753 1457.28 L88.0753 1465.76 Q89.0938 1465.41 90.1123 1465.25 Q91.1308 1465.06 92.1493 1465.06 Q97.9363 1465.06 101.316 1468.23 Q104.696 1471.4 104.696 1476.82 Q104.696 1482.4 101.223 1485.5 Q97.7511 1488.58 91.4317 1488.58 Q89.2558 1488.58 86.9873 1488.21 Q84.7419 1487.84 82.3346 1487.1 L82.3346 1482.4 Q84.4179 1483.53 86.6401 1484.09 Q88.8623 1484.64 91.3391 1484.64 Q95.3437 1484.64 97.6817 1482.54 Q100.02 1480.43 100.02 1476.82 Q100.02 1473.21 97.6817 1471.1 Q95.3437 1469 91.3391 1469 Q89.4641 1469 87.5892 1469.41 Q85.7373 1469.83 83.7929 1470.71 L83.7929 1453.35 Z\" fill=\"#000000\" fill-rule=\"evenodd\" fill-opacity=\"1\" /><path clip-path=\"url(#clip550)\" d=\"M53.3995 1234.85 L61.0384 1234.85 L61.0384 1208.48 L52.7282 1210.15 L52.7282 1205.89 L60.9921 1204.22 L65.668 1204.22 L65.668 1234.85 L73.3068 1234.85 L73.3068 1238.78 L53.3995 1238.78 L53.3995 1234.85 Z\" fill=\"#000000\" fill-rule=\"evenodd\" fill-opacity=\"1\" /><path clip-path=\"url(#clip550)\" d=\"M92.7512 1207.3 Q89.1401 1207.3 87.3114 1210.87 Q85.5058 1214.41 85.5058 1221.54 Q85.5058 1228.64 87.3114 1232.21 Q89.1401 1235.75 92.7512 1235.75 Q96.3854 1235.75 98.1909 1232.21 Q100.02 1228.64 100.02 1221.54 Q100.02 1214.41 98.1909 1210.87 Q96.3854 1207.3 92.7512 1207.3 M92.7512 1203.6 Q98.5613 1203.6 101.617 1208.2 Q104.696 1212.79 104.696 1221.54 Q104.696 1230.26 101.617 1234.87 Q98.5613 1239.45 92.7512 1239.45 Q86.941 1239.45 83.8623 1234.87 Q80.8068 1230.26 80.8068 1221.54 Q80.8068 1212.79 83.8623 1208.2 Q86.941 1203.6 92.7512 1203.6 Z\" fill=\"#000000\" fill-rule=\"evenodd\" fill-opacity=\"1\" /><path clip-path=\"url(#clip550)\" d=\"M54.3949 985.72 L62.0337 985.72 L62.0337 959.355 L53.7236 961.021 L53.7236 956.762 L61.9874 955.095 L66.6633 955.095 L66.6633 985.72 L74.3022 985.72 L74.3022 989.655 L54.3949 989.655 L54.3949 985.72 Z\" fill=\"#000000\" fill-rule=\"evenodd\" fill-opacity=\"1\" /><path clip-path=\"url(#clip550)\" d=\"M83.7929 955.095 L102.149 955.095 L102.149 959.031 L88.0753 959.031 L88.0753 967.503 Q89.0938 967.155 90.1123 966.993 Q91.1308 966.808 92.1493 966.808 Q97.9363 966.808 101.316 969.98 Q104.696 973.151 104.696 978.567 Q104.696 984.146 101.223 987.248 Q97.7511 990.327 91.4317 990.327 Q89.2558 990.327 86.9873 989.956 Q84.7419 989.586 82.3346 988.845 L82.3346 984.146 Q84.4179 985.28 86.6401 985.836 Q88.8623 986.391 91.3391 986.391 Q95.3437 986.391 97.6817 984.285 Q100.02 982.179 100.02 978.567 Q100.02 974.956 97.6817 972.85 Q95.3437 970.743 91.3391 970.743 Q89.4641 970.743 87.5892 971.16 Q85.7373 971.577 83.7929 972.456 L83.7929 955.095 Z\" fill=\"#000000\" fill-rule=\"evenodd\" fill-opacity=\"1\" /><path clip-path=\"url(#clip550)\" d=\"M56.6171 736.594 L72.9365 736.594 L72.9365 740.529 L50.9921 740.529 L50.9921 736.594 Q53.6541 733.839 58.2375 729.209 Q62.8439 724.557 64.0245 723.214 Q66.2698 720.691 67.1494 718.955 Q68.0522 717.196 68.0522 715.506 Q68.0522 712.751 66.1078 711.015 Q64.1865 709.279 61.0847 709.279 Q58.8856 709.279 56.4319 710.043 Q54.0014 710.807 51.2236 712.358 L51.2236 707.636 Q54.0477 706.501 56.5014 705.923 Q58.955 705.344 60.9921 705.344 Q66.3624 705.344 69.5568 708.029 Q72.7513 710.714 72.7513 715.205 Q72.7513 717.335 71.9411 719.256 Q71.1541 721.154 69.0476 723.747 Q68.4689 724.418 65.367 727.635 Q62.2652 730.83 56.6171 736.594 Z\" fill=\"#000000\" fill-rule=\"evenodd\" fill-opacity=\"1\" /><path clip-path=\"url(#clip550)\" d=\"M92.7512 709.048 Q89.1401 709.048 87.3114 712.612 Q85.5058 716.154 85.5058 723.284 Q85.5058 730.39 87.3114 733.955 Q89.1401 737.496 92.7512 737.496 Q96.3854 737.496 98.1909 733.955 Q100.02 730.39 100.02 723.284 Q100.02 716.154 98.1909 712.612 Q96.3854 709.048 92.7512 709.048 M92.7512 705.344 Q98.5613 705.344 101.617 709.95 Q104.696 714.534 104.696 723.284 Q104.696 732.01 101.617 736.617 Q98.5613 741.2 92.7512 741.2 Q86.941 741.2 83.8623 736.617 Q80.8068 732.01 80.8068 723.284 Q80.8068 714.534 83.8623 709.95 Q86.941 705.344 92.7512 705.344 Z\" fill=\"#000000\" fill-rule=\"evenodd\" fill-opacity=\"1\" /><path clip-path=\"url(#clip550)\" d=\"M57.6125 487.467 L73.9318 487.467 L73.9318 491.402 L51.9875 491.402 L51.9875 487.467 Q54.6495 484.713 59.2328 480.083 Q63.8393 475.43 65.0198 474.088 Q67.2652 471.564 68.1448 469.828 Q69.0476 468.069 69.0476 466.379 Q69.0476 463.625 67.1032 461.889 Q65.1819 460.153 62.08 460.153 Q59.881 460.153 57.4273 460.916 Q54.9967 461.68 52.219 463.231 L52.219 458.509 Q55.043 457.375 57.4967 456.796 Q59.9504 456.217 61.9874 456.217 Q67.3578 456.217 70.5522 458.903 Q73.7466 461.588 73.7466 466.078 Q73.7466 468.208 72.9365 470.129 Q72.1494 472.027 70.0429 474.62 Q69.4642 475.291 66.3624 478.509 Q63.2606 481.703 57.6125 487.467 Z\" fill=\"#000000\" fill-rule=\"evenodd\" fill-opacity=\"1\" /><path clip-path=\"url(#clip550)\" d=\"M83.7929 456.842 L102.149 456.842 L102.149 460.778 L88.0753 460.778 L88.0753 469.25 Q89.0938 468.902 90.1123 468.74 Q91.1308 468.555 92.1493 468.555 Q97.9363 468.555 101.316 471.727 Q104.696 474.898 104.696 480.314 Q104.696 485.893 101.223 488.995 Q97.7511 492.074 91.4317 492.074 Q89.2558 492.074 86.9873 491.703 Q84.7419 491.333 82.3346 490.592 L82.3346 485.893 Q84.4179 487.027 86.6401 487.583 Q88.8623 488.138 91.3391 488.138 Q95.3437 488.138 97.6817 486.032 Q100.02 483.926 100.02 480.314 Q100.02 476.703 97.6817 474.597 Q95.3437 472.49 91.3391 472.49 Q89.4641 472.49 87.5892 472.907 Q85.7373 473.324 83.7929 474.203 L83.7929 456.842 Z\" fill=\"#000000\" fill-rule=\"evenodd\" fill-opacity=\"1\" /><path clip-path=\"url(#clip550)\" d=\"M66.7559 223.642 Q70.1124 224.359 71.9874 226.628 Q73.8855 228.896 73.8855 232.23 Q73.8855 237.345 70.367 240.146 Q66.8485 242.947 60.3671 242.947 Q58.1912 242.947 55.8764 242.507 Q53.5847 242.091 51.131 241.234 L51.131 236.72 Q53.0754 237.855 55.3903 238.433 Q57.7051 239.012 60.2282 239.012 Q64.6263 239.012 66.918 237.276 Q69.2328 235.54 69.2328 232.23 Q69.2328 229.174 67.08 227.461 Q64.9504 225.725 61.131 225.725 L57.1032 225.725 L57.1032 221.882 L61.3161 221.882 Q64.7652 221.882 66.5939 220.517 Q68.4226 219.128 68.4226 216.535 Q68.4226 213.873 66.5245 212.461 Q64.6495 211.026 61.131 211.026 Q59.2097 211.026 57.0106 211.443 Q54.8115 211.859 52.1727 212.739 L52.1727 208.572 Q54.8347 207.832 57.1495 207.461 Q59.4875 207.091 61.5476 207.091 Q66.8717 207.091 69.9735 209.521 Q73.0753 211.929 73.0753 216.049 Q73.0753 218.919 71.4318 220.91 Q69.7883 222.878 66.7559 223.642 Z\" fill=\"#000000\" fill-rule=\"evenodd\" fill-opacity=\"1\" /><path clip-path=\"url(#clip550)\" d=\"M92.7512 210.795 Q89.1401 210.795 87.3114 214.359 Q85.5058 217.901 85.5058 225.031 Q85.5058 232.137 87.3114 235.702 Q89.1401 239.243 92.7512 239.243 Q96.3854 239.243 98.1909 235.702 Q100.02 232.137 100.02 225.031 Q100.02 217.901 98.1909 214.359 Q96.3854 210.795 92.7512 210.795 M92.7512 207.091 Q98.5613 207.091 101.617 211.697 Q104.696 216.281 104.696 225.031 Q104.696 233.757 101.617 238.364 Q98.5613 242.947 92.7512 242.947 Q86.941 242.947 83.8623 238.364 Q80.8068 233.757 80.8068 225.031 Q80.8068 216.281 83.8623 211.697 Q86.941 207.091 92.7512 207.091 Z\" fill=\"#000000\" fill-rule=\"evenodd\" fill-opacity=\"1\" /><polyline clip-path=\"url(#clip552)\" style=\"stroke:#009af9; stroke-linecap:round; stroke-linejoin:round; stroke-width:4; stroke-opacity:1; fill:none\" points=\"\n",
       "  203.301,1009.74 411.986,801.475 620.671,1438.24 829.356,883.686 1038.04,626.09 1246.73,963.407 1455.41,518.965 1664.1,1445.72 1872.78,939.989 2081.47,502.523 \n",
       "  2290.15,337.103 \n",
       "  \"/>\n",
       "<polyline clip-path=\"url(#clip552)\" style=\"stroke:#e26f46; stroke-linecap:round; stroke-linejoin:round; stroke-width:4; stroke-opacity:1; fill:none\" points=\"\n",
       "  203.301,102.924 411.986,192.609 620.671,685.88 829.356,651.002 1038.04,558.825 1246.73,454.192 1455.41,526.439 1664.1,558.825 1872.78,87.9763 2081.47,180.153 \n",
       "  2290.15,516.474 \n",
       "  \"/>\n",
       "<path clip-path=\"url(#clip550)\" d=\"\n",
       "M1657.56 1438.47 L2279.02 1438.47 L2279.02 1282.95 L1657.56 1282.95  Z\n",
       "  \" fill=\"#ffffff\" fill-rule=\"evenodd\" fill-opacity=\"1\"/>\n",
       "<polyline clip-path=\"url(#clip550)\" style=\"stroke:#000000; stroke-linecap:round; stroke-linejoin:round; stroke-width:4; stroke-opacity:1; fill:none\" points=\"\n",
       "  1657.56,1438.47 2279.02,1438.47 2279.02,1282.95 1657.56,1282.95 1657.56,1438.47 \n",
       "  \"/>\n",
       "<polyline clip-path=\"url(#clip550)\" style=\"stroke:#009af9; stroke-linecap:round; stroke-linejoin:round; stroke-width:4; stroke-opacity:1; fill:none\" points=\"\n",
       "  1682.14,1334.79 1829.61,1334.79 \n",
       "  \"/>\n",
       "<path clip-path=\"url(#clip550)\" d=\"M1859.51 1326.15 L1863.77 1326.15 L1863.77 1352.54 Q1863.77 1357.49 1861.87 1359.71 Q1860 1361.94 1855.81 1361.94 L1854.19 1361.94 L1854.19 1358.32 L1855.32 1358.32 Q1857.75 1358.32 1858.63 1357.19 Q1859.51 1356.08 1859.51 1352.54 L1859.51 1326.15 M1859.51 1316.06 L1863.77 1316.06 L1863.77 1321.45 L1859.51 1321.45 L1859.51 1316.06 Z\" fill=\"#000000\" fill-rule=\"evenodd\" fill-opacity=\"1\" /><path clip-path=\"url(#clip550)\" d=\"M1884.47 1339.04 Q1879.31 1339.04 1877.31 1340.22 Q1875.32 1341.4 1875.32 1344.25 Q1875.32 1346.52 1876.81 1347.86 Q1878.31 1349.18 1880.88 1349.18 Q1884.42 1349.18 1886.55 1346.68 Q1888.7 1344.16 1888.7 1339.99 L1888.7 1339.04 L1884.47 1339.04 M1892.96 1337.28 L1892.96 1352.07 L1888.7 1352.07 L1888.7 1348.14 Q1887.25 1350.5 1885.07 1351.63 Q1882.89 1352.75 1879.75 1352.75 Q1875.76 1352.75 1873.4 1350.52 Q1871.06 1348.28 1871.06 1344.53 Q1871.06 1340.15 1873.98 1337.93 Q1876.92 1335.71 1882.73 1335.71 L1888.7 1335.71 L1888.7 1335.29 Q1888.7 1332.35 1886.76 1330.76 Q1884.84 1329.13 1881.34 1329.13 Q1879.12 1329.13 1877.01 1329.67 Q1874.91 1330.2 1872.96 1331.26 L1872.96 1327.33 Q1875.3 1326.43 1877.5 1325.99 Q1879.7 1325.52 1881.78 1325.52 Q1887.41 1325.52 1890.18 1328.44 Q1892.96 1331.36 1892.96 1337.28 Z\" fill=\"#000000\" fill-rule=\"evenodd\" fill-opacity=\"1\" /><path clip-path=\"url(#clip550)\" d=\"M1923.29 1336.43 L1923.29 1352.07 L1919.03 1352.07 L1919.03 1336.57 Q1919.03 1332.88 1917.59 1331.06 Q1916.16 1329.23 1913.29 1329.23 Q1909.84 1329.23 1907.85 1331.43 Q1905.86 1333.63 1905.86 1337.42 L1905.86 1352.07 L1901.57 1352.07 L1901.57 1326.15 L1905.86 1326.15 L1905.86 1330.18 Q1907.38 1327.84 1909.44 1326.68 Q1911.53 1325.52 1914.24 1325.52 Q1918.7 1325.52 1920.99 1328.3 Q1923.29 1331.06 1923.29 1336.43 Z\" fill=\"#000000\" fill-rule=\"evenodd\" fill-opacity=\"1\" /><path clip-path=\"url(#clip550)\" d=\"M1935.99 1318.79 L1935.99 1326.15 L1944.77 1326.15 L1944.77 1329.46 L1935.99 1329.46 L1935.99 1343.53 Q1935.99 1346.7 1936.85 1347.61 Q1937.73 1348.51 1940.39 1348.51 L1944.77 1348.51 L1944.77 1352.07 L1940.39 1352.07 Q1935.46 1352.07 1933.59 1350.25 Q1931.71 1348.39 1931.71 1343.53 L1931.71 1329.46 L1928.59 1329.46 L1928.59 1326.15 L1931.71 1326.15 L1931.71 1318.79 L1935.99 1318.79 Z\" fill=\"#000000\" fill-rule=\"evenodd\" fill-opacity=\"1\" /><path clip-path=\"url(#clip550)\" d=\"M1972.55 1338.05 L1972.55 1340.13 L1952.96 1340.13 Q1953.24 1344.53 1955.6 1346.84 Q1957.99 1349.13 1962.22 1349.13 Q1964.68 1349.13 1966.97 1348.53 Q1969.28 1347.93 1971.55 1346.73 L1971.55 1350.75 Q1969.26 1351.73 1966.85 1352.24 Q1964.44 1352.75 1961.97 1352.75 Q1955.76 1352.75 1952.13 1349.13 Q1948.52 1345.52 1948.52 1339.37 Q1948.52 1333 1951.94 1329.27 Q1955.39 1325.52 1961.23 1325.52 Q1966.46 1325.52 1969.49 1328.9 Q1972.55 1332.26 1972.55 1338.05 M1968.29 1336.8 Q1968.24 1333.3 1966.32 1331.22 Q1964.42 1329.13 1961.27 1329.13 Q1957.71 1329.13 1955.55 1331.15 Q1953.43 1333.16 1953.1 1336.82 L1968.29 1336.8 Z\" fill=\"#000000\" fill-rule=\"evenodd\" fill-opacity=\"1\" /><path clip-path=\"url(#clip550)\" d=\"M1999.72 1331.13 Q2001.32 1328.26 2003.54 1326.89 Q2005.76 1325.52 2008.77 1325.52 Q2012.82 1325.52 2015.02 1328.37 Q2017.22 1331.19 2017.22 1336.43 L2017.22 1352.07 L2012.94 1352.07 L2012.94 1336.57 Q2012.94 1332.84 2011.62 1331.03 Q2010.3 1329.23 2007.59 1329.23 Q2004.28 1329.23 2002.36 1331.43 Q2000.44 1333.63 2000.44 1337.42 L2000.44 1352.07 L1996.16 1352.07 L1996.16 1336.57 Q1996.16 1332.82 1994.84 1331.03 Q1993.52 1329.23 1990.76 1329.23 Q1987.5 1329.23 1985.58 1331.45 Q1983.66 1333.65 1983.66 1337.42 L1983.66 1352.07 L1979.37 1352.07 L1979.37 1326.15 L1983.66 1326.15 L1983.66 1330.18 Q1985.11 1327.79 1987.15 1326.66 Q1989.19 1325.52 1991.99 1325.52 Q1994.81 1325.52 1996.78 1326.96 Q1998.77 1328.39 1999.72 1331.13 Z\" fill=\"#000000\" fill-rule=\"evenodd\" fill-opacity=\"1\" /><path clip-path=\"url(#clip550)\" d=\"M2029.84 1348.19 L2029.84 1361.94 L2025.55 1361.94 L2025.55 1326.15 L2029.84 1326.15 L2029.84 1330.08 Q2031.18 1327.77 2033.22 1326.66 Q2035.28 1325.52 2038.12 1325.52 Q2042.85 1325.52 2045.79 1329.27 Q2048.75 1333.02 2048.75 1339.13 Q2048.75 1345.25 2045.79 1349 Q2042.85 1352.75 2038.12 1352.75 Q2035.28 1352.75 2033.22 1351.63 Q2031.18 1350.5 2029.84 1348.19 M2044.33 1339.13 Q2044.33 1334.44 2042.38 1331.77 Q2040.46 1329.09 2037.08 1329.09 Q2033.7 1329.09 2031.76 1331.77 Q2029.84 1334.44 2029.84 1339.13 Q2029.84 1343.83 2031.76 1346.52 Q2033.7 1349.18 2037.08 1349.18 Q2040.46 1349.18 2042.38 1346.52 Q2044.33 1343.83 2044.33 1339.13 Z\" fill=\"#000000\" fill-rule=\"evenodd\" fill-opacity=\"1\" /><path clip-path=\"url(#clip550)\" d=\"M2067.59 1339.04 Q2062.43 1339.04 2060.44 1340.22 Q2058.45 1341.4 2058.45 1344.25 Q2058.45 1346.52 2059.93 1347.86 Q2061.43 1349.18 2064 1349.18 Q2067.54 1349.18 2069.67 1346.68 Q2071.83 1344.16 2071.83 1339.99 L2071.83 1339.04 L2067.59 1339.04 M2076.09 1337.28 L2076.09 1352.07 L2071.83 1352.07 L2071.83 1348.14 Q2070.37 1350.5 2068.19 1351.63 Q2066.02 1352.75 2062.87 1352.75 Q2058.89 1352.75 2056.53 1350.52 Q2054.19 1348.28 2054.19 1344.53 Q2054.19 1340.15 2057.11 1337.93 Q2060.05 1335.71 2065.86 1335.71 L2071.83 1335.71 L2071.83 1335.29 Q2071.83 1332.35 2069.88 1330.76 Q2067.96 1329.13 2064.47 1329.13 Q2062.24 1329.13 2060.14 1329.67 Q2058.03 1330.2 2056.09 1331.26 L2056.09 1327.33 Q2058.42 1326.43 2060.62 1325.99 Q2062.82 1325.52 2064.91 1325.52 Q2070.53 1325.52 2073.31 1328.44 Q2076.09 1331.36 2076.09 1337.28 Z\" fill=\"#000000\" fill-rule=\"evenodd\" fill-opacity=\"1\" /><path clip-path=\"url(#clip550)\" d=\"M2081.8 1326.15 L2086.32 1326.15 L2094.42 1347.91 L2102.52 1326.15 L2107.04 1326.15 L2097.31 1352.07 L2091.53 1352.07 L2081.8 1326.15 Z\" fill=\"#000000\" fill-rule=\"evenodd\" fill-opacity=\"1\" /><path clip-path=\"url(#clip550)\" d=\"M2129.98 1338.81 Q2129.98 1334.18 2128.05 1331.63 Q2126.16 1329.09 2122.71 1329.09 Q2119.28 1329.09 2117.36 1331.63 Q2115.46 1334.18 2115.46 1338.81 Q2115.46 1343.42 2117.36 1345.96 Q2119.28 1348.51 2122.71 1348.51 Q2126.16 1348.51 2128.05 1345.96 Q2129.98 1343.42 2129.98 1338.81 M2134.23 1348.86 Q2134.23 1355.48 2131.29 1358.69 Q2128.35 1361.94 2122.29 1361.94 Q2120.04 1361.94 2118.05 1361.59 Q2116.06 1361.26 2114.19 1360.57 L2114.19 1356.43 Q2116.06 1357.44 2117.89 1357.93 Q2119.72 1358.42 2121.62 1358.42 Q2125.81 1358.42 2127.89 1356.22 Q2129.98 1354.04 2129.98 1349.62 L2129.98 1347.51 Q2128.66 1349.81 2126.6 1350.94 Q2124.54 1352.07 2121.67 1352.07 Q2116.9 1352.07 2113.98 1348.44 Q2111.06 1344.81 2111.06 1338.81 Q2111.06 1332.79 2113.98 1329.16 Q2116.9 1325.52 2121.67 1325.52 Q2124.54 1325.52 2126.6 1326.66 Q2128.66 1327.79 2129.98 1330.08 L2129.98 1326.15 L2134.23 1326.15 L2134.23 1348.86 Z\" fill=\"#000000\" fill-rule=\"evenodd\" fill-opacity=\"1\" /><path clip-path=\"url(#clip550)\" d=\"M2144.42 1348.14 L2152.06 1348.14 L2152.06 1321.77 L2143.75 1323.44 L2143.75 1319.18 L2152.01 1317.51 L2156.69 1317.51 L2156.69 1348.14 L2164.33 1348.14 L2164.33 1352.07 L2144.42 1352.07 L2144.42 1348.14 Z\" fill=\"#000000\" fill-rule=\"evenodd\" fill-opacity=\"1\" /><path clip-path=\"url(#clip550)\" d=\"M2173.91 1351.36 L2173.91 1347.1 Q2175.67 1347.93 2177.47 1348.37 Q2179.28 1348.81 2181.02 1348.81 Q2185.65 1348.81 2188.08 1345.71 Q2190.53 1342.58 2190.88 1336.24 Q2189.54 1338.23 2187.47 1339.3 Q2185.41 1340.36 2182.91 1340.36 Q2177.73 1340.36 2174.7 1337.24 Q2171.69 1334.09 2171.69 1328.65 Q2171.69 1323.32 2174.84 1320.11 Q2177.98 1316.89 2183.22 1316.89 Q2189.21 1316.89 2192.36 1321.5 Q2195.53 1326.08 2195.53 1334.83 Q2195.53 1343 2191.64 1347.88 Q2187.78 1352.75 2181.22 1352.75 Q2179.47 1352.75 2177.66 1352.4 Q2175.85 1352.05 2173.91 1351.36 M2183.22 1336.7 Q2186.36 1336.7 2188.19 1334.55 Q2190.04 1332.4 2190.04 1328.65 Q2190.04 1324.92 2188.19 1322.77 Q2186.36 1320.59 2183.22 1320.59 Q2180.07 1320.59 2178.22 1322.77 Q2176.39 1324.92 2176.39 1328.65 Q2176.39 1332.4 2178.22 1334.55 Q2180.07 1336.7 2183.22 1336.7 Z\" fill=\"#000000\" fill-rule=\"evenodd\" fill-opacity=\"1\" /><path clip-path=\"url(#clip550)\" d=\"M2207.96 1348.14 L2224.28 1348.14 L2224.28 1352.07 L2202.34 1352.07 L2202.34 1348.14 Q2205 1345.38 2209.58 1340.76 Q2214.19 1336.1 2215.37 1334.76 Q2217.61 1332.24 2218.49 1330.5 Q2219.4 1328.74 2219.4 1327.05 Q2219.4 1324.3 2217.45 1322.56 Q2215.53 1320.82 2212.43 1320.82 Q2210.23 1320.82 2207.78 1321.59 Q2205.35 1322.35 2202.57 1323.9 L2202.57 1319.18 Q2205.39 1318.05 2207.85 1317.47 Q2210.3 1316.89 2212.34 1316.89 Q2217.71 1316.89 2220.9 1319.57 Q2224.1 1322.26 2224.1 1326.75 Q2224.1 1328.88 2223.28 1330.8 Q2222.5 1332.7 2220.39 1335.29 Q2219.81 1335.96 2216.71 1339.18 Q2213.61 1342.38 2207.96 1348.14 Z\" fill=\"#000000\" fill-rule=\"evenodd\" fill-opacity=\"1\" /><path clip-path=\"url(#clip550)\" d=\"M2238.12 1348.14 L2254.44 1348.14 L2254.44 1352.07 L2232.5 1352.07 L2232.5 1348.14 Q2235.16 1345.38 2239.74 1340.76 Q2244.35 1336.1 2245.53 1334.76 Q2247.78 1332.24 2248.66 1330.5 Q2249.56 1328.74 2249.56 1327.05 Q2249.56 1324.3 2247.61 1322.56 Q2245.69 1320.82 2242.59 1320.82 Q2240.39 1320.82 2237.94 1321.59 Q2235.51 1322.35 2232.73 1323.9 L2232.73 1319.18 Q2235.55 1318.05 2238.01 1317.47 Q2240.46 1316.89 2242.5 1316.89 Q2247.87 1316.89 2251.06 1319.57 Q2254.26 1322.26 2254.26 1326.75 Q2254.26 1328.88 2253.45 1330.8 Q2252.66 1332.7 2250.55 1335.29 Q2249.97 1335.96 2246.87 1339.18 Q2243.77 1342.38 2238.12 1348.14 Z\" fill=\"#000000\" fill-rule=\"evenodd\" fill-opacity=\"1\" /><polyline clip-path=\"url(#clip550)\" style=\"stroke:#e26f46; stroke-linecap:round; stroke-linejoin:round; stroke-width:4; stroke-opacity:1; fill:none\" points=\"\n",
       "  1682.14,1386.63 1829.61,1386.63 \n",
       "  \"/>\n",
       "<path clip-path=\"url(#clip550)\" d=\"M1859.51 1377.99 L1863.77 1377.99 L1863.77 1404.38 Q1863.77 1409.33 1861.87 1411.55 Q1860 1413.78 1855.81 1413.78 L1854.19 1413.78 L1854.19 1410.16 L1855.32 1410.16 Q1857.75 1410.16 1858.63 1409.03 Q1859.51 1407.92 1859.51 1404.38 L1859.51 1377.99 M1859.51 1367.9 L1863.77 1367.9 L1863.77 1373.29 L1859.51 1373.29 L1859.51 1367.9 Z\" fill=\"#000000\" fill-rule=\"evenodd\" fill-opacity=\"1\" /><path clip-path=\"url(#clip550)\" d=\"M1884.47 1390.88 Q1879.31 1390.88 1877.31 1392.06 Q1875.32 1393.24 1875.32 1396.09 Q1875.32 1398.36 1876.81 1399.7 Q1878.31 1401.02 1880.88 1401.02 Q1884.42 1401.02 1886.55 1398.52 Q1888.7 1396 1888.7 1391.83 L1888.7 1390.88 L1884.47 1390.88 M1892.96 1389.12 L1892.96 1403.91 L1888.7 1403.91 L1888.7 1399.98 Q1887.25 1402.34 1885.07 1403.47 Q1882.89 1404.59 1879.75 1404.59 Q1875.76 1404.59 1873.4 1402.36 Q1871.06 1400.12 1871.06 1396.37 Q1871.06 1391.99 1873.98 1389.77 Q1876.92 1387.55 1882.73 1387.55 L1888.7 1387.55 L1888.7 1387.13 Q1888.7 1384.19 1886.76 1382.6 Q1884.84 1380.97 1881.34 1380.97 Q1879.12 1380.97 1877.01 1381.51 Q1874.91 1382.04 1872.96 1383.1 L1872.96 1379.17 Q1875.3 1378.27 1877.5 1377.83 Q1879.7 1377.36 1881.78 1377.36 Q1887.41 1377.36 1890.18 1380.28 Q1892.96 1383.2 1892.96 1389.12 Z\" fill=\"#000000\" fill-rule=\"evenodd\" fill-opacity=\"1\" /><path clip-path=\"url(#clip550)\" d=\"M1923.29 1388.27 L1923.29 1403.91 L1919.03 1403.91 L1919.03 1388.41 Q1919.03 1384.72 1917.59 1382.9 Q1916.16 1381.07 1913.29 1381.07 Q1909.84 1381.07 1907.85 1383.27 Q1905.86 1385.47 1905.86 1389.26 L1905.86 1403.91 L1901.57 1403.91 L1901.57 1377.99 L1905.86 1377.99 L1905.86 1382.02 Q1907.38 1379.68 1909.44 1378.52 Q1911.53 1377.36 1914.24 1377.36 Q1918.7 1377.36 1920.99 1380.14 Q1923.29 1382.9 1923.29 1388.27 Z\" fill=\"#000000\" fill-rule=\"evenodd\" fill-opacity=\"1\" /><path clip-path=\"url(#clip550)\" d=\"M1935.99 1370.63 L1935.99 1377.99 L1944.77 1377.99 L1944.77 1381.3 L1935.99 1381.3 L1935.99 1395.37 Q1935.99 1398.54 1936.85 1399.45 Q1937.73 1400.35 1940.39 1400.35 L1944.77 1400.35 L1944.77 1403.91 L1940.39 1403.91 Q1935.46 1403.91 1933.59 1402.09 Q1931.71 1400.23 1931.71 1395.37 L1931.71 1381.3 L1928.59 1381.3 L1928.59 1377.99 L1931.71 1377.99 L1931.71 1370.63 L1935.99 1370.63 Z\" fill=\"#000000\" fill-rule=\"evenodd\" fill-opacity=\"1\" /><path clip-path=\"url(#clip550)\" d=\"M1972.55 1389.89 L1972.55 1391.97 L1952.96 1391.97 Q1953.24 1396.37 1955.6 1398.68 Q1957.99 1400.97 1962.22 1400.97 Q1964.68 1400.97 1966.97 1400.37 Q1969.28 1399.77 1971.55 1398.57 L1971.55 1402.59 Q1969.26 1403.57 1966.85 1404.08 Q1964.44 1404.59 1961.97 1404.59 Q1955.76 1404.59 1952.13 1400.97 Q1948.52 1397.36 1948.52 1391.21 Q1948.52 1384.84 1951.94 1381.11 Q1955.39 1377.36 1961.23 1377.36 Q1966.46 1377.36 1969.49 1380.74 Q1972.55 1384.1 1972.55 1389.89 M1968.29 1388.64 Q1968.24 1385.14 1966.32 1383.06 Q1964.42 1380.97 1961.27 1380.97 Q1957.71 1380.97 1955.55 1382.99 Q1953.43 1385 1953.1 1388.66 L1968.29 1388.64 Z\" fill=\"#000000\" fill-rule=\"evenodd\" fill-opacity=\"1\" /><path clip-path=\"url(#clip550)\" d=\"M1999.72 1382.97 Q2001.32 1380.1 2003.54 1378.73 Q2005.76 1377.36 2008.77 1377.36 Q2012.82 1377.36 2015.02 1380.21 Q2017.22 1383.03 2017.22 1388.27 L2017.22 1403.91 L2012.94 1403.91 L2012.94 1388.41 Q2012.94 1384.68 2011.62 1382.87 Q2010.3 1381.07 2007.59 1381.07 Q2004.28 1381.07 2002.36 1383.27 Q2000.44 1385.47 2000.44 1389.26 L2000.44 1403.91 L1996.16 1403.91 L1996.16 1388.41 Q1996.16 1384.66 1994.84 1382.87 Q1993.52 1381.07 1990.76 1381.07 Q1987.5 1381.07 1985.58 1383.29 Q1983.66 1385.49 1983.66 1389.26 L1983.66 1403.91 L1979.37 1403.91 L1979.37 1377.99 L1983.66 1377.99 L1983.66 1382.02 Q1985.11 1379.63 1987.15 1378.5 Q1989.19 1377.36 1991.99 1377.36 Q1994.81 1377.36 1996.78 1378.8 Q1998.77 1380.23 1999.72 1382.97 Z\" fill=\"#000000\" fill-rule=\"evenodd\" fill-opacity=\"1\" /><path clip-path=\"url(#clip550)\" d=\"M2029.84 1400.03 L2029.84 1413.78 L2025.55 1413.78 L2025.55 1377.99 L2029.84 1377.99 L2029.84 1381.92 Q2031.18 1379.61 2033.22 1378.5 Q2035.28 1377.36 2038.12 1377.36 Q2042.85 1377.36 2045.79 1381.11 Q2048.75 1384.86 2048.75 1390.97 Q2048.75 1397.09 2045.79 1400.84 Q2042.85 1404.59 2038.12 1404.59 Q2035.28 1404.59 2033.22 1403.47 Q2031.18 1402.34 2029.84 1400.03 M2044.33 1390.97 Q2044.33 1386.28 2042.38 1383.61 Q2040.46 1380.93 2037.08 1380.93 Q2033.7 1380.93 2031.76 1383.61 Q2029.84 1386.28 2029.84 1390.97 Q2029.84 1395.67 2031.76 1398.36 Q2033.7 1401.02 2037.08 1401.02 Q2040.46 1401.02 2042.38 1398.36 Q2044.33 1395.67 2044.33 1390.97 Z\" fill=\"#000000\" fill-rule=\"evenodd\" fill-opacity=\"1\" /><path clip-path=\"url(#clip550)\" d=\"M2067.59 1390.88 Q2062.43 1390.88 2060.44 1392.06 Q2058.45 1393.24 2058.45 1396.09 Q2058.45 1398.36 2059.93 1399.7 Q2061.43 1401.02 2064 1401.02 Q2067.54 1401.02 2069.67 1398.52 Q2071.83 1396 2071.83 1391.83 L2071.83 1390.88 L2067.59 1390.88 M2076.09 1389.12 L2076.09 1403.91 L2071.83 1403.91 L2071.83 1399.98 Q2070.37 1402.34 2068.19 1403.47 Q2066.02 1404.59 2062.87 1404.59 Q2058.89 1404.59 2056.53 1402.36 Q2054.19 1400.12 2054.19 1396.37 Q2054.19 1391.99 2057.11 1389.77 Q2060.05 1387.55 2065.86 1387.55 L2071.83 1387.55 L2071.83 1387.13 Q2071.83 1384.19 2069.88 1382.6 Q2067.96 1380.97 2064.47 1380.97 Q2062.24 1380.97 2060.14 1381.51 Q2058.03 1382.04 2056.09 1383.1 L2056.09 1379.17 Q2058.42 1378.27 2060.62 1377.83 Q2062.82 1377.36 2064.91 1377.36 Q2070.53 1377.36 2073.31 1380.28 Q2076.09 1383.2 2076.09 1389.12 Z\" fill=\"#000000\" fill-rule=\"evenodd\" fill-opacity=\"1\" /><path clip-path=\"url(#clip550)\" d=\"M2081.8 1377.99 L2086.32 1377.99 L2094.42 1399.75 L2102.52 1377.99 L2107.04 1377.99 L2097.31 1403.91 L2091.53 1403.91 L2081.8 1377.99 Z\" fill=\"#000000\" fill-rule=\"evenodd\" fill-opacity=\"1\" /><path clip-path=\"url(#clip550)\" d=\"M2129.98 1390.65 Q2129.98 1386.02 2128.05 1383.47 Q2126.16 1380.93 2122.71 1380.93 Q2119.28 1380.93 2117.36 1383.47 Q2115.46 1386.02 2115.46 1390.65 Q2115.46 1395.26 2117.36 1397.8 Q2119.28 1400.35 2122.71 1400.35 Q2126.16 1400.35 2128.05 1397.8 Q2129.98 1395.26 2129.98 1390.65 M2134.23 1400.7 Q2134.23 1407.32 2131.29 1410.53 Q2128.35 1413.78 2122.29 1413.78 Q2120.04 1413.78 2118.05 1413.43 Q2116.06 1413.1 2114.19 1412.41 L2114.19 1408.27 Q2116.06 1409.28 2117.89 1409.77 Q2119.72 1410.26 2121.62 1410.26 Q2125.81 1410.26 2127.89 1408.06 Q2129.98 1405.88 2129.98 1401.46 L2129.98 1399.35 Q2128.66 1401.65 2126.6 1402.78 Q2124.54 1403.91 2121.67 1403.91 Q2116.9 1403.91 2113.98 1400.28 Q2111.06 1396.65 2111.06 1390.65 Q2111.06 1384.63 2113.98 1381 Q2116.9 1377.36 2121.67 1377.36 Q2124.54 1377.36 2126.6 1378.5 Q2128.66 1379.63 2129.98 1381.92 L2129.98 1377.99 L2134.23 1377.99 L2134.23 1400.7 Z\" fill=\"#000000\" fill-rule=\"evenodd\" fill-opacity=\"1\" /><path clip-path=\"url(#clip550)\" d=\"M2147.64 1399.98 L2163.96 1399.98 L2163.96 1403.91 L2142.01 1403.91 L2142.01 1399.98 Q2144.67 1397.22 2149.26 1392.6 Q2153.86 1387.94 2155.04 1386.6 Q2157.29 1384.08 2158.17 1382.34 Q2159.07 1380.58 2159.07 1378.89 Q2159.07 1376.14 2157.13 1374.4 Q2155.21 1372.66 2152.1 1372.66 Q2149.91 1372.66 2147.45 1373.43 Q2145.02 1374.19 2142.24 1375.74 L2142.24 1371.02 Q2145.07 1369.89 2147.52 1369.31 Q2149.98 1368.73 2152.01 1368.73 Q2157.38 1368.73 2160.58 1371.41 Q2163.77 1374.1 2163.77 1378.59 Q2163.77 1380.72 2162.96 1382.64 Q2162.17 1384.54 2160.07 1387.13 Q2159.49 1387.8 2156.39 1391.02 Q2153.29 1394.22 2147.64 1399.98 Z\" fill=\"#000000\" fill-rule=\"evenodd\" fill-opacity=\"1\" /><path clip-path=\"url(#clip550)\" d=\"M2183.77 1372.43 Q2180.16 1372.43 2178.33 1376 Q2176.53 1379.54 2176.53 1386.67 Q2176.53 1393.78 2178.33 1397.34 Q2180.16 1400.88 2183.77 1400.88 Q2187.41 1400.88 2189.21 1397.34 Q2191.04 1393.78 2191.04 1386.67 Q2191.04 1379.54 2189.21 1376 Q2187.41 1372.43 2183.77 1372.43 M2183.77 1368.73 Q2189.58 1368.73 2192.64 1373.34 Q2195.72 1377.92 2195.72 1386.67 Q2195.72 1395.4 2192.64 1400 Q2189.58 1404.59 2183.77 1404.59 Q2177.96 1404.59 2174.88 1400 Q2171.83 1395.4 2171.83 1386.67 Q2171.83 1377.92 2174.88 1373.34 Q2177.96 1368.73 2183.77 1368.73 Z\" fill=\"#000000\" fill-rule=\"evenodd\" fill-opacity=\"1\" /><path clip-path=\"url(#clip550)\" d=\"M2204.74 1399.98 L2212.38 1399.98 L2212.38 1373.61 L2204.07 1375.28 L2204.07 1371.02 L2212.34 1369.35 L2217.01 1369.35 L2217.01 1399.98 L2224.65 1399.98 L2224.65 1403.91 L2204.74 1403.91 L2204.74 1399.98 Z\" fill=\"#000000\" fill-rule=\"evenodd\" fill-opacity=\"1\" /><path clip-path=\"url(#clip550)\" d=\"M2238.12 1399.98 L2254.44 1399.98 L2254.44 1403.91 L2232.5 1403.91 L2232.5 1399.98 Q2235.16 1397.22 2239.74 1392.6 Q2244.35 1387.94 2245.53 1386.6 Q2247.78 1384.08 2248.66 1382.34 Q2249.56 1380.58 2249.56 1378.89 Q2249.56 1376.14 2247.61 1374.4 Q2245.69 1372.66 2242.59 1372.66 Q2240.39 1372.66 2237.94 1373.43 Q2235.51 1374.19 2232.73 1375.74 L2232.73 1371.02 Q2235.55 1369.89 2238.01 1369.31 Q2240.46 1368.73 2242.5 1368.73 Q2247.87 1368.73 2251.06 1371.41 Q2254.26 1374.1 2254.26 1378.59 Q2254.26 1380.72 2253.45 1382.64 Q2252.66 1384.54 2250.55 1387.13 Q2249.97 1387.8 2246.87 1391.02 Q2243.77 1394.22 2238.12 1399.98 Z\" fill=\"#000000\" fill-rule=\"evenodd\" fill-opacity=\"1\" /></svg>\n"
      ]
     },
     "execution_count": 91,
     "metadata": {},
     "output_type": "execute_result"
    }
   ],
   "source": [
    "plot(1:11, jantempavg1922, label=\"jantempavg1922\")\n",
    "plot!(1:11, jantempavg2012, label=\"jantempavg2012\")"
   ]
  },
  {
   "cell_type": "code",
   "execution_count": null,
   "id": "77404646",
   "metadata": {},
   "outputs": [],
   "source": []
  },
  {
   "cell_type": "code",
   "execution_count": null,
   "id": "e6932353",
   "metadata": {},
   "outputs": [],
   "source": []
  },
  {
   "cell_type": "code",
   "execution_count": null,
   "id": "85f09274",
   "metadata": {},
   "outputs": [],
   "source": []
  },
  {
   "cell_type": "markdown",
   "id": "25a904b5",
   "metadata": {},
   "source": [
    "# This below is legacy code: DO NOT MESS WITH IT!!!"
   ]
  },
  {
   "cell_type": "code",
   "execution_count": 75,
   "id": "af7bd84b",
   "metadata": {},
   "outputs": [
    {
     "data": {
      "text/plain": [
       "11-element Vector{Any}:\n",
       " 13.0\n",
       "  4.09\n",
       " 21.545\n",
       " 25.73\n",
       " 22.82\n",
       " -3.28\n",
       " 22.27\n",
       " 28.18\n",
       " 15.64\n",
       " 17.36\n",
       "  9.27"
      ]
     },
     "execution_count": 75,
     "metadata": {},
     "output_type": "execute_result"
    }
   ],
   "source": [
    "D[2:12,2]# this gives the 'first decade'"
   ]
  },
  {
   "cell_type": "code",
   "execution_count": 76,
   "id": "a321cf4d",
   "metadata": {},
   "outputs": [
    {
     "data": {
      "text/plain": [
       "11-element Vector{Any}:\n",
       " 2012\n",
       " 2013\n",
       " 2014\n",
       " 2015\n",
       " 2016\n",
       " 2017\n",
       " 2018\n",
       " 2019\n",
       " 2020\n",
       " 2021\n",
       " 2022"
      ]
     },
     "execution_count": 76,
     "metadata": {},
     "output_type": "execute_result"
    }
   ],
   "source": [
    "D[2:12,1]# this gives the years "
   ]
  },
  {
   "cell_type": "code",
   "execution_count": null,
   "id": "603a042e",
   "metadata": {},
   "outputs": [],
   "source": []
  },
  {
   "cell_type": "code",
   "execution_count": null,
   "id": "1fac10fb",
   "metadata": {},
   "outputs": [],
   "source": []
  },
  {
   "cell_type": "code",
   "execution_count": null,
   "id": "d1077b95",
   "metadata": {},
   "outputs": [],
   "source": []
  }
 ],
 "metadata": {
  "kernelspec": {
   "display_name": "Julia 1.8.3",
   "language": "julia",
   "name": "julia-1.8"
  },
  "language_info": {
   "file_extension": ".jl",
   "mimetype": "application/julia",
   "name": "julia",
   "version": "1.8.3"
  }
 },
 "nbformat": 4,
 "nbformat_minor": 5
}
